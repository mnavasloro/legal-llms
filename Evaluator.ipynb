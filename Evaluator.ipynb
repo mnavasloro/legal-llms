{
 "cells": [
  {
   "cell_type": "code",
   "execution_count": 1,
   "id": "38c0bbb4",
   "metadata": {},
   "outputs": [],
   "source": [
    "import matplotlib.pyplot as plt\n",
    "import seaborn as sns\n",
    "import pandas as pd\n",
    "import plotly.express as px\n",
    "import plotly.graph_objects as go\n",
    "from EvaluatorUtils import evaluate\n",
    "import json"
   ]
  },
  {
   "cell_type": "code",
   "execution_count": 2,
   "id": "364163f5",
   "metadata": {},
   "outputs": [],
   "source": [
    "def plot_overview(results):\n",
    "    # Flatten results into a DataFrame\n",
    "    rows = []\n",
    "    for doc, fields in results.items():\n",
    "        for field, scores in fields.items():\n",
    "            row = {\"Document\": doc, \"Field\": field}\n",
    "            row.update(scores)\n",
    "            rows.append(row)\n",
    "    df = pd.DataFrame(rows)\n",
    "\n",
    "    # Barplot: average metrics per field\n",
    "    avg_df = df.groupby(\"Field\")[[\"precision\", \"recall\", \"f1\"]].mean().reset_index()\n",
    "    avg_df = avg_df.melt(id_vars=\"Field\", value_vars=[\"precision\", \"recall\", \"f1\"], var_name=\"Metric\", value_name=\"Score\")\n",
    "\n",
    "    fig_bar = px.bar(\n",
    "        avg_df,\n",
    "        x=\"Field\",\n",
    "        y=\"Score\",\n",
    "        color=\"Metric\",\n",
    "        barmode=\"group\",\n",
    "        title=\"Average Precision, Recall, F1 per Field\",\n",
    "        text_auto=\".2f\",\n",
    "        range_y=[0, 1]\n",
    "    )\n",
    "    fig_bar.update_layout(yaxis_title=\"Score\", legend_title=\"Metric\")\n",
    "    fig_bar.show()\n",
    "\n",
    "    # Heatmap: F1 per document and field\n",
    "    pivot = df.pivot(index=\"Document\", columns=\"Field\", values=\"f1\")\n",
    "    fig_heatmap = go.Figure(\n",
    "        data=go.Heatmap(\n",
    "            z=pivot.values,\n",
    "            x=pivot.columns,\n",
    "            y=pivot.index,\n",
    "            colorscale=\"YlGnBu\",\n",
    "            colorbar=dict(title=\"F1 Score\"),\n",
    "            zmin=0, zmax=1,\n",
    "            text=pivot.round(2).astype(str),\n",
    "            hovertemplate=\"Document: %{y}<br>Field: %{x}<br>F1: %{z:.2f}<extra></extra>\"\n",
    "        )\n",
    "    )\n",
    "    fig_heatmap.update_layout(\n",
    "        title=\"F1 Score per Document and Field\",\n",
    "        xaxis_title=\"Field\",\n",
    "        yaxis_title=\"Document\",\n",
    "        height=max(400, 30 * len(pivot))\n",
    "    )\n",
    "    fig_heatmap.show()"
   ]
  },
  {
   "cell_type": "code",
   "execution_count": 3,
   "id": "10aac49b",
   "metadata": {},
   "outputs": [],
   "source": [
    "def get_all_model_names(pred_path):\n",
    "    with open(pred_path, encoding=\"utf-8\") as f:\n",
    "        preds = json.load(f)\n",
    "    model_names = set()\n",
    "    for doc in preds:\n",
    "        anns = doc.get(\"annotations\", [])\n",
    "        for ann in anns:\n",
    "            if \"model_name\" in ann:\n",
    "                model_names.add(ann[\"model_name\"])\n",
    "    return sorted(model_names)"
   ]
  },
  {
   "cell_type": "code",
   "execution_count": 4,
   "id": "0fd681b7",
   "metadata": {},
   "outputs": [
    {
     "name": "stdout",
     "output_type": "stream",
     "text": [
      "\n",
      "=== Evaluation for model: chevalblanc/claude-3-haiku:latest ===\n",
      "\n",
      "Document: file:/C:/Users/mnavas/CASE%20OF%20ALTAY%20v.%20TURKEY%20(No.%202).docx\n",
      "event_type: P=1.00 R=1.00 F1=1.00 (TP=2 FP=0 FN=0)\n",
      "event_who: P=0.11 R=0.10 F1=0.11 (TP=1 FP=8 FN=9)\n",
      "event_what: P=0.00 R=0.00 F1=0.00 (TP=0 FP=23 FN=17)\n",
      "event_when: P=0.67 R=0.74 F1=0.70 (TP=14 FP=7 FN=5)\n",
      "\n",
      "Document: file:/C:/Users/mnavas/CASE%20OF%20BELYAYEV%20AND%20OTHERS%20v.%20UKRAINE.docx\n",
      "event_type: P=1.00 R=1.00 F1=1.00 (TP=2 FP=0 FN=0)\n",
      "event_who: P=0.20 R=0.12 F1=0.15 (TP=1 FP=4 FN=7)\n",
      "event_what: P=0.00 R=0.00 F1=0.00 (TP=0 FP=13 FN=7)\n",
      "event_when: P=0.33 R=0.50 F1=0.40 (TP=3 FP=6 FN=3)\n",
      "\n",
      "Document: file:/C:/Users/mnavas/CASE%20OF%20BIGUN%20v.%20UKRAINE.docx\n",
      "event_type: P=1.00 R=1.00 F1=1.00 (TP=2 FP=0 FN=0)\n",
      "event_who: P=0.00 R=0.00 F1=0.00 (TP=0 FP=5 FN=8)\n",
      "event_what: P=0.00 R=0.00 F1=0.00 (TP=0 FP=11 FN=13)\n",
      "event_when: P=0.36 R=0.33 F1=0.35 (TP=4 FP=7 FN=8)\n",
      "\n",
      "Document: file:/C:/Users/mnavas/CASE%20OF%20CABUCAK%20v.%20GERMANY.docx\n",
      "event_type: P=1.00 R=0.50 F1=0.67 (TP=1 FP=0 FN=1)\n",
      "event_who: P=0.50 R=0.08 F1=0.14 (TP=2 FP=2 FN=23)\n",
      "event_what: P=0.00 R=0.00 F1=0.00 (TP=0 FP=5 FN=40)\n",
      "event_when: P=1.00 R=0.13 F1=0.23 (TP=5 FP=0 FN=33)\n",
      "\n",
      "Document: file:/C:/Users/mnavas/CASE%20OF%20CAN%20v.%20TURKEY.docx\n",
      "event_type: P=1.00 R=1.00 F1=1.00 (TP=2 FP=0 FN=0)\n",
      "event_who: P=0.33 R=0.20 F1=0.25 (TP=2 FP=4 FN=8)\n",
      "event_what: P=0.14 R=0.13 F1=0.14 (TP=2 FP=12 FN=13)\n",
      "event_when: P=0.00 R=0.00 F1=0.00 (TP=0 FP=14 FN=14)\n",
      "\n",
      "Document: file:/C:/Users/mnavas/CASE%20OF%20CRISTIAN%20CATALIN%20UNGUREANU%20v.%20ROMANIA.docx\n",
      "event_type: P=1.00 R=1.00 F1=1.00 (TP=2 FP=0 FN=0)\n",
      "event_who: P=0.29 R=0.12 F1=0.17 (TP=2 FP=5 FN=15)\n",
      "event_what: P=0.00 R=0.00 F1=0.00 (TP=0 FP=15 FN=20)\n",
      "event_when: P=0.58 R=0.39 F1=0.47 (TP=7 FP=5 FN=11)\n",
      "\n",
      "Document: file:/C:/Users/mnavas/CASE%20OF%20DOKTOROV%20v.%20BULGARIA.docx\n",
      "event_type: P=1.00 R=1.00 F1=1.00 (TP=2 FP=0 FN=0)\n",
      "event_who: P=0.00 R=0.00 F1=0.00 (TP=0 FP=5 FN=7)\n",
      "event_what: P=0.00 R=0.00 F1=0.00 (TP=0 FP=7 FN=12)\n",
      "event_when: P=0.60 R=0.38 F1=0.46 (TP=3 FP=2 FN=5)\n",
      "\n",
      "Document: file:/C:/Users/mnavas/CASE%20OF%20EGILL%20EINARSSON%20v.%20ICELAND%20(No.%202).docx\n",
      "event_type: P=1.00 R=0.50 F1=0.67 (TP=1 FP=0 FN=1)\n",
      "event_who: P=0.17 R=0.08 F1=0.11 (TP=1 FP=5 FN=11)\n",
      "event_what: P=0.00 R=0.00 F1=0.00 (TP=0 FP=8 FN=14)\n",
      "event_when: P=0.67 R=0.33 F1=0.44 (TP=4 FP=2 FN=8)\n",
      "\n",
      "Document: file:/C:/Users/mnavas/CASE%20OF%20H_INESS%20v.%20NORWAY%20(1).docx\n",
      "event_type: P=0.00 R=0.00 F1=0.00 (TP=0 FP=1 FN=2)\n",
      "event_who: P=0.00 R=0.00 F1=0.00 (TP=0 FP=1 FN=23)\n",
      "event_what: P=0.00 R=0.00 F1=0.00 (TP=0 FP=1 FN=30)\n",
      "event_when: P=0.00 R=0.00 F1=0.00 (TP=0 FP=1 FN=27)\n",
      "\n",
      "Document: file:/C:/Users/mnavas/CASE%20OF%20KOSAITE%20-%20CYPIENE%20AND%20OTHERS%20v.%20LITHUANIA.docx\n",
      "event_type: P=0.00 R=0.00 F1=0.00 (TP=0 FP=2 FN=2)\n",
      "event_who: P=0.00 R=0.00 F1=0.00 (TP=0 FP=2 FN=27)\n",
      "event_what: P=0.00 R=0.00 F1=0.00 (TP=0 FP=3 FN=33)\n",
      "event_when: P=0.50 R=0.03 F1=0.06 (TP=1 FP=1 FN=30)\n",
      "\n",
      "Document: file:/C:/Users/mnavas/CASE%20OF%20LOZOVYYE%20v.%20RUSSIA.docx\n",
      "event_type: P=1.00 R=1.00 F1=1.00 (TP=2 FP=0 FN=0)\n",
      "event_who: P=0.57 R=0.27 F1=0.36 (TP=4 FP=3 FN=11)\n",
      "event_what: P=0.10 R=0.06 F1=0.07 (TP=1 FP=9 FN=17)\n",
      "event_when: P=0.70 R=0.47 F1=0.56 (TP=7 FP=3 FN=8)\n",
      "\n",
      "Document: file:/C:/Users/mnavas/CASE%20OF%20M.T.%20v.%20UKRAINE.docx\n",
      "event_type: P=1.00 R=1.00 F1=1.00 (TP=2 FP=0 FN=0)\n",
      "event_who: P=0.14 R=0.11 F1=0.12 (TP=1 FP=6 FN=8)\n",
      "event_what: P=0.25 R=0.14 F1=0.18 (TP=2 FP=6 FN=12)\n",
      "event_when: P=0.67 R=0.33 F1=0.44 (TP=4 FP=2 FN=8)\n",
      "\n",
      "Document: file:/C:/Users/mnavas/CASE%20OF%20MOSKALEV%20v.%20RUSSIA.docx\n",
      "event_type: P=1.00 R=0.50 F1=0.67 (TP=1 FP=0 FN=1)\n",
      "event_who: P=0.00 R=0.00 F1=0.00 (TP=0 FP=5 FN=6)\n",
      "event_what: P=0.17 R=0.09 F1=0.12 (TP=1 FP=5 FN=10)\n",
      "event_when: P=0.83 R=0.62 F1=0.71 (TP=5 FP=1 FN=3)\n",
      "\n",
      "Document: file:/C:/Users/mnavas/CASE%20OF%20MURUZHEVA%20v.%20RUSSIA.docx\n",
      "event_type: P=1.00 R=1.00 F1=1.00 (TP=2 FP=0 FN=0)\n",
      "event_who: P=0.20 R=0.09 F1=0.13 (TP=2 FP=8 FN=20)\n",
      "event_what: P=0.25 R=0.08 F1=0.12 (TP=3 FP=9 FN=36)\n",
      "event_when: P=0.55 R=0.17 F1=0.26 (TP=6 FP=5 FN=29)\n",
      "\n",
      "Document: file:/C:/Users/mnavas/CASE%20OF%20_NODI%20v.%20HUNGARY.docx\n",
      "event_type: P=1.00 R=1.00 F1=1.00 (TP=2 FP=0 FN=0)\n",
      "event_who: P=0.25 R=0.14 F1=0.18 (TP=2 FP=6 FN=12)\n",
      "event_what: P=0.00 R=0.00 F1=0.00 (TP=0 FP=10 FN=30)\n",
      "event_when: P=0.75 R=0.27 F1=0.40 (TP=6 FP=2 FN=16)\n",
      "\n",
      "Document: file:/C:/Users/mnavas/CASE%20OF%20O.C.I.%20AND%20OTHERS%20v.%20ROMANIA.docx\n",
      "event_type: P=1.00 R=1.00 F1=1.00 (TP=2 FP=0 FN=0)\n",
      "event_who: P=0.80 R=0.25 F1=0.38 (TP=4 FP=1 FN=12)\n",
      "event_what: P=0.09 R=0.04 F1=0.06 (TP=1 FP=10 FN=22)\n",
      "event_when: P=0.44 R=0.20 F1=0.28 (TP=4 FP=5 FN=16)\n",
      "\n",
      "Document: file:/C:/Users/mnavas/Desktop/CASE%20OF%20OTGON%20v.%20THE%20REPUBLIC%20OF%20MOLDOVA.docx\n",
      "event_type: P=1.00 R=1.00 F1=1.00 (TP=2 FP=0 FN=0)\n",
      "event_who: P=0.00 R=0.00 F1=0.00 (TP=0 FP=6 FN=10)\n",
      "event_what: P=0.00 R=0.00 F1=0.00 (TP=0 FP=8 FN=10)\n",
      "event_when: P=0.80 R=0.44 F1=0.57 (TP=4 FP=1 FN=5)\n",
      "\n",
      "Document: file:/C:/Users/mnavas/CASE%20OF%20PAKHTUSOV%20v.%20RUSSIA.docx\n",
      "event_type: P=1.00 R=1.00 F1=1.00 (TP=2 FP=0 FN=0)\n",
      "event_who: P=0.00 R=0.00 F1=0.00 (TP=0 FP=3 FN=11)\n",
      "event_what: P=0.00 R=0.00 F1=0.00 (TP=0 FP=9 FN=12)\n",
      "event_when: P=0.67 R=0.60 F1=0.63 (TP=6 FP=3 FN=4)\n",
      "\n",
      "Document: file:/C:/Users/mnavas/CASE%20OF%20PANYUSHKINY%20v.%20RUSSIA.docx\n",
      "event_type: P=1.00 R=1.00 F1=1.00 (TP=2 FP=0 FN=0)\n",
      "event_who: P=0.00 R=0.00 F1=0.00 (TP=0 FP=8 FN=17)\n",
      "event_what: P=0.25 R=0.06 F1=0.10 (TP=2 FP=6 FN=31)\n",
      "event_when: P=0.71 R=0.19 F1=0.29 (TP=5 FP=2 FN=22)\n",
      "\n",
      "Document: file:/C:/Users/mnavas/CASE%20OF%20RESIN%20v.%20RUSSIA.docx\n",
      "event_type: P=1.00 R=1.00 F1=1.00 (TP=2 FP=0 FN=0)\n",
      "event_who: P=0.25 R=0.14 F1=0.18 (TP=1 FP=3 FN=6)\n",
      "event_what: P=0.00 R=0.00 F1=0.00 (TP=0 FP=8 FN=15)\n",
      "event_when: P=0.67 R=0.31 F1=0.42 (TP=4 FP=2 FN=9)\n",
      "\n",
      "Document: file:/C:/Users/mnavas/CASE%20OF%20S.N.%20v.%20RUSSIA.docx\n",
      "event_type: P=1.00 R=1.00 F1=1.00 (TP=2 FP=0 FN=0)\n",
      "event_who: P=0.30 R=0.10 F1=0.15 (TP=3 FP=7 FN=27)\n",
      "event_what: P=0.07 R=0.03 F1=0.04 (TP=1 FP=14 FN=34)\n",
      "event_when: P=0.00 R=0.00 F1=0.00 (TP=0 FP=14 FN=41)\n",
      "\n",
      "Document: file:/C:/Users/mnavas/CASE%20OF%20S.V.%20v.%20ITALY.docx\n",
      "event_type: P=1.00 R=1.00 F1=1.00 (TP=2 FP=0 FN=0)\n",
      "event_who: P=0.20 R=0.10 F1=0.13 (TP=1 FP=4 FN=9)\n",
      "event_what: P=0.00 R=0.00 F1=0.00 (TP=0 FP=8 FN=17)\n",
      "event_when: P=0.62 R=0.38 F1=0.48 (TP=5 FP=3 FN=8)\n",
      "\n",
      "Document: file:/C:/Users/mnavas/CASE%20OF%20SHVIDKIYE%20v.%20RUSSIA.docx\n",
      "event_type: P=1.00 R=1.00 F1=1.00 (TP=2 FP=0 FN=0)\n",
      "event_who: P=0.00 R=0.00 F1=0.00 (TP=0 FP=11 FN=15)\n",
      "event_what: P=0.18 R=0.09 F1=0.12 (TP=2 FP=9 FN=20)\n",
      "event_when: P=0.36 R=0.20 F1=0.26 (TP=4 FP=7 FN=16)\n",
      "\n",
      "Document: file:/C:/Users/mnavas/CASE%20OF%20SIDOROVA%20v.%20RUSSIA.docx\n",
      "event_type: P=1.00 R=1.00 F1=1.00 (TP=2 FP=0 FN=0)\n",
      "event_who: P=0.00 R=0.00 F1=0.00 (TP=0 FP=12 FN=11)\n",
      "event_what: P=0.00 R=0.00 F1=0.00 (TP=0 FP=12 FN=13)\n",
      "event_when: P=0.08 R=0.08 F1=0.08 (TP=1 FP=11 FN=12)\n",
      "\n",
      "Document: file:/C:/Users/mnavas/CASE%20OF%20SOLCAN%20v.%20ROMANIA.docx\n",
      "event_type: P=1.00 R=1.00 F1=1.00 (TP=2 FP=0 FN=0)\n",
      "event_who: P=0.14 R=0.11 F1=0.12 (TP=1 FP=6 FN=8)\n",
      "event_what: P=0.22 R=0.15 F1=0.18 (TP=2 FP=7 FN=11)\n",
      "event_when: P=0.50 R=0.45 F1=0.48 (TP=5 FP=5 FN=6)\n",
      "\n",
      "Document: file:/C:/Users/mnavas/CASE%20OF%20STANA%20v.%20ROMANIA.docx\n",
      "event_type: P=1.00 R=1.00 F1=1.00 (TP=2 FP=0 FN=0)\n",
      "event_who: P=0.14 R=0.20 F1=0.17 (TP=1 FP=6 FN=4)\n",
      "event_what: P=0.00 R=0.00 F1=0.00 (TP=0 FP=9 FN=6)\n",
      "event_when: P=0.43 R=0.75 F1=0.55 (TP=3 FP=4 FN=1)\n",
      "\n",
      "Document: file:/C:/Users/mnavas/CASE%20OF%20VISY%20v.%20SLOVAKIA.docx\n",
      "event_type: P=1.00 R=1.00 F1=1.00 (TP=2 FP=0 FN=0)\n",
      "event_who: P=0.00 R=0.00 F1=0.00 (TP=0 FP=7 FN=10)\n",
      "event_what: P=0.00 R=0.00 F1=0.00 (TP=0 FP=10 FN=15)\n",
      "event_when: P=0.50 R=0.36 F1=0.42 (TP=4 FP=4 FN=7)\n",
      "\n",
      "Document: file:/C:/Users/mnavas/CASE%20OF%20YAKUSHEV%20v.%20UKRAINE.docx\n",
      "event_type: P=1.00 R=1.00 F1=1.00 (TP=2 FP=0 FN=0)\n",
      "event_who: P=0.17 R=0.11 F1=0.13 (TP=1 FP=5 FN=8)\n",
      "event_what: P=0.00 R=0.00 F1=0.00 (TP=0 FP=6 FN=11)\n",
      "event_when: P=0.00 R=0.00 F1=0.00 (TP=0 FP=6 FN=10)\n",
      "\n",
      "Document: file:/C:/Users/mnavas/CASE%20OF%20YERMAKOVICH%20v.%20RUSSIA.docx\n",
      "event_type: P=1.00 R=1.00 F1=1.00 (TP=2 FP=0 FN=0)\n",
      "event_who: P=0.57 R=0.17 F1=0.27 (TP=4 FP=3 FN=19)\n",
      "event_what: P=0.00 R=0.00 F1=0.00 (TP=0 FP=13 FN=26)\n",
      "event_when: P=0.10 R=0.04 F1=0.05 (TP=1 FP=9 FN=27)\n",
      "\n",
      "Document: file:/C:/Users/mnavas/CASE%20OF%20YEVGENIY%20ZAKHAROV%20v.%20RUSSIA.docx\n",
      "event_type: P=1.00 R=1.00 F1=1.00 (TP=2 FP=0 FN=0)\n",
      "event_who: P=0.17 R=0.08 F1=0.11 (TP=1 FP=5 FN=11)\n",
      "event_what: P=0.12 R=0.06 F1=0.08 (TP=1 FP=7 FN=16)\n",
      "event_when: P=0.71 R=0.45 F1=0.56 (TP=5 FP=2 FN=6)\n"
     ]
    },
    {
     "data": {
      "application/vnd.plotly.v1+json": {
       "config": {
        "plotlyServerURL": "https://plot.ly"
       },
       "data": [
        {
         "alignmentgroup": "True",
         "hovertemplate": "Metric=precision<br>Field=%{x}<br>Score=%{y}<extra></extra>",
         "legendgroup": "precision",
         "marker": {
          "color": "#636efa",
          "pattern": {
           "shape": ""
          }
         },
         "name": "precision",
         "offsetgroup": "precision",
         "orientation": "v",
         "showlegend": true,
         "textposition": "auto",
         "texttemplate": "%{y:.2f}",
         "type": "bar",
         "x": [
          "event_type",
          "event_what",
          "event_when",
          "event_who"
         ],
         "xaxis": "x",
         "y": {
          "bdata": "3t3d3d3d7T9Nsqia6IGvP5dqEVCAm98/xqrwTjN5xz8=",
          "dtype": "f8"
         },
         "yaxis": "y"
        },
        {
         "alignmentgroup": "True",
         "hovertemplate": "Metric=recall<br>Field=%{x}<br>Score=%{y}<extra></extra>",
         "legendgroup": "recall",
         "marker": {
          "color": "#EF553B",
          "pattern": {
           "shape": ""
          }
         },
         "name": "recall",
         "offsetgroup": "recall",
         "orientation": "v",
         "showlegend": true,
         "textposition": "auto",
         "texttemplate": "%{y:.2f}",
         "type": "bar",
         "x": [
          "event_type",
          "event_what",
          "event_when",
          "event_who"
         ],
         "xaxis": "x",
         "y": {
          "bdata": "RERERERE7D8OC4SgQfGfP6HOsTRSidM/A4U6LZ0Ztj8=",
          "dtype": "f8"
         },
         "yaxis": "y"
        },
        {
         "alignmentgroup": "True",
         "hovertemplate": "Metric=f1<br>Field=%{x}<br>Score=%{y}<extra></extra>",
         "legendgroup": "f1",
         "marker": {
          "color": "#00cc96",
          "pattern": {
           "shape": ""
          }
         },
         "name": "f1",
         "offsetgroup": "f1",
         "orientation": "v",
         "showlegend": true,
         "textposition": "auto",
         "texttemplate": "%{y:.2f}",
         "type": "bar",
         "x": [
          "event_type",
          "event_what",
          "event_when",
          "event_who"
         ],
         "xaxis": "x",
         "y": {
          "bdata": "zczMzMzM7D91rB91mZSkPxvluSMHg9Y/UWT+qwfAvD8=",
          "dtype": "f8"
         },
         "yaxis": "y"
        }
       ],
       "layout": {
        "barmode": "group",
        "legend": {
         "title": {
          "text": "Metric"
         },
         "tracegroupgap": 0
        },
        "template": {
         "data": {
          "bar": [
           {
            "error_x": {
             "color": "#2a3f5f"
            },
            "error_y": {
             "color": "#2a3f5f"
            },
            "marker": {
             "line": {
              "color": "#E5ECF6",
              "width": 0.5
             },
             "pattern": {
              "fillmode": "overlay",
              "size": 10,
              "solidity": 0.2
             }
            },
            "type": "bar"
           }
          ],
          "barpolar": [
           {
            "marker": {
             "line": {
              "color": "#E5ECF6",
              "width": 0.5
             },
             "pattern": {
              "fillmode": "overlay",
              "size": 10,
              "solidity": 0.2
             }
            },
            "type": "barpolar"
           }
          ],
          "carpet": [
           {
            "aaxis": {
             "endlinecolor": "#2a3f5f",
             "gridcolor": "white",
             "linecolor": "white",
             "minorgridcolor": "white",
             "startlinecolor": "#2a3f5f"
            },
            "baxis": {
             "endlinecolor": "#2a3f5f",
             "gridcolor": "white",
             "linecolor": "white",
             "minorgridcolor": "white",
             "startlinecolor": "#2a3f5f"
            },
            "type": "carpet"
           }
          ],
          "choropleth": [
           {
            "colorbar": {
             "outlinewidth": 0,
             "ticks": ""
            },
            "type": "choropleth"
           }
          ],
          "contour": [
           {
            "colorbar": {
             "outlinewidth": 0,
             "ticks": ""
            },
            "colorscale": [
             [
              0,
              "#0d0887"
             ],
             [
              0.1111111111111111,
              "#46039f"
             ],
             [
              0.2222222222222222,
              "#7201a8"
             ],
             [
              0.3333333333333333,
              "#9c179e"
             ],
             [
              0.4444444444444444,
              "#bd3786"
             ],
             [
              0.5555555555555556,
              "#d8576b"
             ],
             [
              0.6666666666666666,
              "#ed7953"
             ],
             [
              0.7777777777777778,
              "#fb9f3a"
             ],
             [
              0.8888888888888888,
              "#fdca26"
             ],
             [
              1,
              "#f0f921"
             ]
            ],
            "type": "contour"
           }
          ],
          "contourcarpet": [
           {
            "colorbar": {
             "outlinewidth": 0,
             "ticks": ""
            },
            "type": "contourcarpet"
           }
          ],
          "heatmap": [
           {
            "colorbar": {
             "outlinewidth": 0,
             "ticks": ""
            },
            "colorscale": [
             [
              0,
              "#0d0887"
             ],
             [
              0.1111111111111111,
              "#46039f"
             ],
             [
              0.2222222222222222,
              "#7201a8"
             ],
             [
              0.3333333333333333,
              "#9c179e"
             ],
             [
              0.4444444444444444,
              "#bd3786"
             ],
             [
              0.5555555555555556,
              "#d8576b"
             ],
             [
              0.6666666666666666,
              "#ed7953"
             ],
             [
              0.7777777777777778,
              "#fb9f3a"
             ],
             [
              0.8888888888888888,
              "#fdca26"
             ],
             [
              1,
              "#f0f921"
             ]
            ],
            "type": "heatmap"
           }
          ],
          "histogram": [
           {
            "marker": {
             "pattern": {
              "fillmode": "overlay",
              "size": 10,
              "solidity": 0.2
             }
            },
            "type": "histogram"
           }
          ],
          "histogram2d": [
           {
            "colorbar": {
             "outlinewidth": 0,
             "ticks": ""
            },
            "colorscale": [
             [
              0,
              "#0d0887"
             ],
             [
              0.1111111111111111,
              "#46039f"
             ],
             [
              0.2222222222222222,
              "#7201a8"
             ],
             [
              0.3333333333333333,
              "#9c179e"
             ],
             [
              0.4444444444444444,
              "#bd3786"
             ],
             [
              0.5555555555555556,
              "#d8576b"
             ],
             [
              0.6666666666666666,
              "#ed7953"
             ],
             [
              0.7777777777777778,
              "#fb9f3a"
             ],
             [
              0.8888888888888888,
              "#fdca26"
             ],
             [
              1,
              "#f0f921"
             ]
            ],
            "type": "histogram2d"
           }
          ],
          "histogram2dcontour": [
           {
            "colorbar": {
             "outlinewidth": 0,
             "ticks": ""
            },
            "colorscale": [
             [
              0,
              "#0d0887"
             ],
             [
              0.1111111111111111,
              "#46039f"
             ],
             [
              0.2222222222222222,
              "#7201a8"
             ],
             [
              0.3333333333333333,
              "#9c179e"
             ],
             [
              0.4444444444444444,
              "#bd3786"
             ],
             [
              0.5555555555555556,
              "#d8576b"
             ],
             [
              0.6666666666666666,
              "#ed7953"
             ],
             [
              0.7777777777777778,
              "#fb9f3a"
             ],
             [
              0.8888888888888888,
              "#fdca26"
             ],
             [
              1,
              "#f0f921"
             ]
            ],
            "type": "histogram2dcontour"
           }
          ],
          "mesh3d": [
           {
            "colorbar": {
             "outlinewidth": 0,
             "ticks": ""
            },
            "type": "mesh3d"
           }
          ],
          "parcoords": [
           {
            "line": {
             "colorbar": {
              "outlinewidth": 0,
              "ticks": ""
             }
            },
            "type": "parcoords"
           }
          ],
          "pie": [
           {
            "automargin": true,
            "type": "pie"
           }
          ],
          "scatter": [
           {
            "fillpattern": {
             "fillmode": "overlay",
             "size": 10,
             "solidity": 0.2
            },
            "type": "scatter"
           }
          ],
          "scatter3d": [
           {
            "line": {
             "colorbar": {
              "outlinewidth": 0,
              "ticks": ""
             }
            },
            "marker": {
             "colorbar": {
              "outlinewidth": 0,
              "ticks": ""
             }
            },
            "type": "scatter3d"
           }
          ],
          "scattercarpet": [
           {
            "marker": {
             "colorbar": {
              "outlinewidth": 0,
              "ticks": ""
             }
            },
            "type": "scattercarpet"
           }
          ],
          "scattergeo": [
           {
            "marker": {
             "colorbar": {
              "outlinewidth": 0,
              "ticks": ""
             }
            },
            "type": "scattergeo"
           }
          ],
          "scattergl": [
           {
            "marker": {
             "colorbar": {
              "outlinewidth": 0,
              "ticks": ""
             }
            },
            "type": "scattergl"
           }
          ],
          "scattermap": [
           {
            "marker": {
             "colorbar": {
              "outlinewidth": 0,
              "ticks": ""
             }
            },
            "type": "scattermap"
           }
          ],
          "scattermapbox": [
           {
            "marker": {
             "colorbar": {
              "outlinewidth": 0,
              "ticks": ""
             }
            },
            "type": "scattermapbox"
           }
          ],
          "scatterpolar": [
           {
            "marker": {
             "colorbar": {
              "outlinewidth": 0,
              "ticks": ""
             }
            },
            "type": "scatterpolar"
           }
          ],
          "scatterpolargl": [
           {
            "marker": {
             "colorbar": {
              "outlinewidth": 0,
              "ticks": ""
             }
            },
            "type": "scatterpolargl"
           }
          ],
          "scatterternary": [
           {
            "marker": {
             "colorbar": {
              "outlinewidth": 0,
              "ticks": ""
             }
            },
            "type": "scatterternary"
           }
          ],
          "surface": [
           {
            "colorbar": {
             "outlinewidth": 0,
             "ticks": ""
            },
            "colorscale": [
             [
              0,
              "#0d0887"
             ],
             [
              0.1111111111111111,
              "#46039f"
             ],
             [
              0.2222222222222222,
              "#7201a8"
             ],
             [
              0.3333333333333333,
              "#9c179e"
             ],
             [
              0.4444444444444444,
              "#bd3786"
             ],
             [
              0.5555555555555556,
              "#d8576b"
             ],
             [
              0.6666666666666666,
              "#ed7953"
             ],
             [
              0.7777777777777778,
              "#fb9f3a"
             ],
             [
              0.8888888888888888,
              "#fdca26"
             ],
             [
              1,
              "#f0f921"
             ]
            ],
            "type": "surface"
           }
          ],
          "table": [
           {
            "cells": {
             "fill": {
              "color": "#EBF0F8"
             },
             "line": {
              "color": "white"
             }
            },
            "header": {
             "fill": {
              "color": "#C8D4E3"
             },
             "line": {
              "color": "white"
             }
            },
            "type": "table"
           }
          ]
         },
         "layout": {
          "annotationdefaults": {
           "arrowcolor": "#2a3f5f",
           "arrowhead": 0,
           "arrowwidth": 1
          },
          "autotypenumbers": "strict",
          "coloraxis": {
           "colorbar": {
            "outlinewidth": 0,
            "ticks": ""
           }
          },
          "colorscale": {
           "diverging": [
            [
             0,
             "#8e0152"
            ],
            [
             0.1,
             "#c51b7d"
            ],
            [
             0.2,
             "#de77ae"
            ],
            [
             0.3,
             "#f1b6da"
            ],
            [
             0.4,
             "#fde0ef"
            ],
            [
             0.5,
             "#f7f7f7"
            ],
            [
             0.6,
             "#e6f5d0"
            ],
            [
             0.7,
             "#b8e186"
            ],
            [
             0.8,
             "#7fbc41"
            ],
            [
             0.9,
             "#4d9221"
            ],
            [
             1,
             "#276419"
            ]
           ],
           "sequential": [
            [
             0,
             "#0d0887"
            ],
            [
             0.1111111111111111,
             "#46039f"
            ],
            [
             0.2222222222222222,
             "#7201a8"
            ],
            [
             0.3333333333333333,
             "#9c179e"
            ],
            [
             0.4444444444444444,
             "#bd3786"
            ],
            [
             0.5555555555555556,
             "#d8576b"
            ],
            [
             0.6666666666666666,
             "#ed7953"
            ],
            [
             0.7777777777777778,
             "#fb9f3a"
            ],
            [
             0.8888888888888888,
             "#fdca26"
            ],
            [
             1,
             "#f0f921"
            ]
           ],
           "sequentialminus": [
            [
             0,
             "#0d0887"
            ],
            [
             0.1111111111111111,
             "#46039f"
            ],
            [
             0.2222222222222222,
             "#7201a8"
            ],
            [
             0.3333333333333333,
             "#9c179e"
            ],
            [
             0.4444444444444444,
             "#bd3786"
            ],
            [
             0.5555555555555556,
             "#d8576b"
            ],
            [
             0.6666666666666666,
             "#ed7953"
            ],
            [
             0.7777777777777778,
             "#fb9f3a"
            ],
            [
             0.8888888888888888,
             "#fdca26"
            ],
            [
             1,
             "#f0f921"
            ]
           ]
          },
          "colorway": [
           "#636efa",
           "#EF553B",
           "#00cc96",
           "#ab63fa",
           "#FFA15A",
           "#19d3f3",
           "#FF6692",
           "#B6E880",
           "#FF97FF",
           "#FECB52"
          ],
          "font": {
           "color": "#2a3f5f"
          },
          "geo": {
           "bgcolor": "white",
           "lakecolor": "white",
           "landcolor": "#E5ECF6",
           "showlakes": true,
           "showland": true,
           "subunitcolor": "white"
          },
          "hoverlabel": {
           "align": "left"
          },
          "hovermode": "closest",
          "mapbox": {
           "style": "light"
          },
          "paper_bgcolor": "white",
          "plot_bgcolor": "#E5ECF6",
          "polar": {
           "angularaxis": {
            "gridcolor": "white",
            "linecolor": "white",
            "ticks": ""
           },
           "bgcolor": "#E5ECF6",
           "radialaxis": {
            "gridcolor": "white",
            "linecolor": "white",
            "ticks": ""
           }
          },
          "scene": {
           "xaxis": {
            "backgroundcolor": "#E5ECF6",
            "gridcolor": "white",
            "gridwidth": 2,
            "linecolor": "white",
            "showbackground": true,
            "ticks": "",
            "zerolinecolor": "white"
           },
           "yaxis": {
            "backgroundcolor": "#E5ECF6",
            "gridcolor": "white",
            "gridwidth": 2,
            "linecolor": "white",
            "showbackground": true,
            "ticks": "",
            "zerolinecolor": "white"
           },
           "zaxis": {
            "backgroundcolor": "#E5ECF6",
            "gridcolor": "white",
            "gridwidth": 2,
            "linecolor": "white",
            "showbackground": true,
            "ticks": "",
            "zerolinecolor": "white"
           }
          },
          "shapedefaults": {
           "line": {
            "color": "#2a3f5f"
           }
          },
          "ternary": {
           "aaxis": {
            "gridcolor": "white",
            "linecolor": "white",
            "ticks": ""
           },
           "baxis": {
            "gridcolor": "white",
            "linecolor": "white",
            "ticks": ""
           },
           "bgcolor": "#E5ECF6",
           "caxis": {
            "gridcolor": "white",
            "linecolor": "white",
            "ticks": ""
           }
          },
          "title": {
           "x": 0.05
          },
          "xaxis": {
           "automargin": true,
           "gridcolor": "white",
           "linecolor": "white",
           "ticks": "",
           "title": {
            "standoff": 15
           },
           "zerolinecolor": "white",
           "zerolinewidth": 2
          },
          "yaxis": {
           "automargin": true,
           "gridcolor": "white",
           "linecolor": "white",
           "ticks": "",
           "title": {
            "standoff": 15
           },
           "zerolinecolor": "white",
           "zerolinewidth": 2
          }
         }
        },
        "title": {
         "text": "Average Precision, Recall, F1 per Field"
        },
        "xaxis": {
         "anchor": "y",
         "domain": [
          0,
          1
         ],
         "title": {
          "text": "Field"
         }
        },
        "yaxis": {
         "anchor": "x",
         "domain": [
          0,
          1
         ],
         "range": [
          0,
          1
         ],
         "title": {
          "text": "Score"
         }
        }
       }
      }
     },
     "metadata": {},
     "output_type": "display_data"
    },
    {
     "data": {
      "application/vnd.plotly.v1+json": {
       "config": {
        "plotlyServerURL": "https://plot.ly"
       },
       "data": [
        {
         "colorbar": {
          "title": {
           "text": "F1 Score"
          }
         },
         "colorscale": [
          [
           0,
           "rgb(255,255,217)"
          ],
          [
           0.125,
           "rgb(237,248,177)"
          ],
          [
           0.25,
           "rgb(199,233,180)"
          ],
          [
           0.375,
           "rgb(127,205,187)"
          ],
          [
           0.5,
           "rgb(65,182,196)"
          ],
          [
           0.625,
           "rgb(29,145,192)"
          ],
          [
           0.75,
           "rgb(34,94,168)"
          ],
          [
           0.875,
           "rgb(37,52,148)"
          ],
          [
           1,
           "rgb(8,29,88)"
          ]
         ],
         "hovertemplate": "Document: %{y}<br>Field: %{x}<br>F1: %{z:.2f}<extra></extra>",
         "text": [
          [
           "1.0",
           "0.0",
           "0.7",
           "0.11"
          ],
          [
           "1.0",
           "0.0",
           "0.4",
           "0.15"
          ],
          [
           "1.0",
           "0.0",
           "0.35",
           "0.0"
          ],
          [
           "0.67",
           "0.0",
           "0.23",
           "0.14"
          ],
          [
           "1.0",
           "0.14",
           "0.0",
           "0.25"
          ],
          [
           "1.0",
           "0.0",
           "0.47",
           "0.17"
          ],
          [
           "1.0",
           "0.0",
           "0.46",
           "0.0"
          ],
          [
           "0.67",
           "0.0",
           "0.44",
           "0.11"
          ],
          [
           "0.0",
           "0.0",
           "0.0",
           "0.0"
          ],
          [
           "0.0",
           "0.0",
           "0.06",
           "0.0"
          ],
          [
           "1.0",
           "0.07",
           "0.56",
           "0.36"
          ],
          [
           "1.0",
           "0.18",
           "0.44",
           "0.12"
          ],
          [
           "0.67",
           "0.12",
           "0.71",
           "0.0"
          ],
          [
           "1.0",
           "0.12",
           "0.26",
           "0.13"
          ],
          [
           "1.0",
           "0.06",
           "0.28",
           "0.38"
          ],
          [
           "1.0",
           "0.0",
           "0.63",
           "0.0"
          ],
          [
           "1.0",
           "0.1",
           "0.29",
           "0.0"
          ],
          [
           "1.0",
           "0.0",
           "0.42",
           "0.18"
          ],
          [
           "1.0",
           "0.04",
           "0.0",
           "0.15"
          ],
          [
           "1.0",
           "0.0",
           "0.48",
           "0.13"
          ],
          [
           "1.0",
           "0.12",
           "0.26",
           "0.0"
          ],
          [
           "1.0",
           "0.0",
           "0.08",
           "0.0"
          ],
          [
           "1.0",
           "0.18",
           "0.48",
           "0.12"
          ],
          [
           "1.0",
           "0.0",
           "0.55",
           "0.17"
          ],
          [
           "1.0",
           "0.0",
           "0.42",
           "0.0"
          ],
          [
           "1.0",
           "0.0",
           "0.0",
           "0.13"
          ],
          [
           "1.0",
           "0.0",
           "0.05",
           "0.27"
          ],
          [
           "1.0",
           "0.08",
           "0.56",
           "0.11"
          ],
          [
           "1.0",
           "0.0",
           "0.4",
           "0.18"
          ],
          [
           "1.0",
           "0.0",
           "0.57",
           "0.0"
          ]
         ],
         "type": "heatmap",
         "x": [
          "event_type",
          "event_what",
          "event_when",
          "event_who"
         ],
         "y": [
          "file:/C:/Users/mnavas/CASE%20OF%20ALTAY%20v.%20TURKEY%20(No.%202).docx",
          "file:/C:/Users/mnavas/CASE%20OF%20BELYAYEV%20AND%20OTHERS%20v.%20UKRAINE.docx",
          "file:/C:/Users/mnavas/CASE%20OF%20BIGUN%20v.%20UKRAINE.docx",
          "file:/C:/Users/mnavas/CASE%20OF%20CABUCAK%20v.%20GERMANY.docx",
          "file:/C:/Users/mnavas/CASE%20OF%20CAN%20v.%20TURKEY.docx",
          "file:/C:/Users/mnavas/CASE%20OF%20CRISTIAN%20CATALIN%20UNGUREANU%20v.%20ROMANIA.docx",
          "file:/C:/Users/mnavas/CASE%20OF%20DOKTOROV%20v.%20BULGARIA.docx",
          "file:/C:/Users/mnavas/CASE%20OF%20EGILL%20EINARSSON%20v.%20ICELAND%20(No.%202).docx",
          "file:/C:/Users/mnavas/CASE%20OF%20H_INESS%20v.%20NORWAY%20(1).docx",
          "file:/C:/Users/mnavas/CASE%20OF%20KOSAITE%20-%20CYPIENE%20AND%20OTHERS%20v.%20LITHUANIA.docx",
          "file:/C:/Users/mnavas/CASE%20OF%20LOZOVYYE%20v.%20RUSSIA.docx",
          "file:/C:/Users/mnavas/CASE%20OF%20M.T.%20v.%20UKRAINE.docx",
          "file:/C:/Users/mnavas/CASE%20OF%20MOSKALEV%20v.%20RUSSIA.docx",
          "file:/C:/Users/mnavas/CASE%20OF%20MURUZHEVA%20v.%20RUSSIA.docx",
          "file:/C:/Users/mnavas/CASE%20OF%20O.C.I.%20AND%20OTHERS%20v.%20ROMANIA.docx",
          "file:/C:/Users/mnavas/CASE%20OF%20PAKHTUSOV%20v.%20RUSSIA.docx",
          "file:/C:/Users/mnavas/CASE%20OF%20PANYUSHKINY%20v.%20RUSSIA.docx",
          "file:/C:/Users/mnavas/CASE%20OF%20RESIN%20v.%20RUSSIA.docx",
          "file:/C:/Users/mnavas/CASE%20OF%20S.N.%20v.%20RUSSIA.docx",
          "file:/C:/Users/mnavas/CASE%20OF%20S.V.%20v.%20ITALY.docx",
          "file:/C:/Users/mnavas/CASE%20OF%20SHVIDKIYE%20v.%20RUSSIA.docx",
          "file:/C:/Users/mnavas/CASE%20OF%20SIDOROVA%20v.%20RUSSIA.docx",
          "file:/C:/Users/mnavas/CASE%20OF%20SOLCAN%20v.%20ROMANIA.docx",
          "file:/C:/Users/mnavas/CASE%20OF%20STANA%20v.%20ROMANIA.docx",
          "file:/C:/Users/mnavas/CASE%20OF%20VISY%20v.%20SLOVAKIA.docx",
          "file:/C:/Users/mnavas/CASE%20OF%20YAKUSHEV%20v.%20UKRAINE.docx",
          "file:/C:/Users/mnavas/CASE%20OF%20YERMAKOVICH%20v.%20RUSSIA.docx",
          "file:/C:/Users/mnavas/CASE%20OF%20YEVGENIY%20ZAKHAROV%20v.%20RUSSIA.docx",
          "file:/C:/Users/mnavas/CASE%20OF%20_NODI%20v.%20HUNGARY.docx",
          "file:/C:/Users/mnavas/Desktop/CASE%20OF%20OTGON%20v.%20THE%20REPUBLIC%20OF%20MOLDOVA.docx"
         ],
         "z": {
          "bdata": "AAAAAAAA8D8AAAAAAAAAAGZmZmZmZuY/Ka+hvIbyuj8AAAAAAADwPwAAAAAAAAAAmpmZmZmZ2T8UO7ETO7HDPwAAAAAAAPA/AAAAAAAAAABkIQtZyELWPwAAAAAAAAAAVVVVVVVV5T8AAAAAAAAAAHFH3BF3xM0/l3saYbmnwT8AAAAAAADwP5V7GmG5p8E/AAAAAAAAAAAAAAAAAADQPwAAAAAAAPA/AAAAAAAAAADd3d3d3d3dP1VVVVVVVcU/AAAAAAAA8D8AAAAAAAAAAJ3YiZ3Yid0/AAAAAAAAAABVVVVVVVXlPwAAAAAAAAAAHMdxHMdx3D8cx3Ecx3G8PwAAAAAAAAAAAAAAAAAAAAAAAAAAAAAAAAAAAAAAAAAAAAAAAAAAAAAAAAAAAAAAAAgffPDBB68/AAAAAAAAAAAAAAAAAADwP5IkSZIkSbI/7FG4HoXr4T9GF1100UXXPwAAAAAAAPA/RhdddNFFxz8cx3Ecx3HcPwAAAAAAAMA/VVVVVVVV5T8fHh4eHh6+P7dt27Zt2+Y/AAAAAAAAAAAAAAAAAADwPx4eHh4eHr4/ClnIQhay0D8BAAAAAADAPwAAAAAAAPA/HR4eHh4erj+XexphuafRPxiGYRiGYdg/AAAAAAAA8D8AAAAAAAAAAF5DeQ3lNeQ/AAAAAAAAAAAAAAAAAADwP/oYnI/B+bg/0tLS0tLS0j8AAAAAAAAAAAAAAAAAAPA/AAAAAAAAAAAor6G8hvLaP0YXXXTRRcc/AAAAAAAA8D97FK5H4XqkPwAAAAAAAAAAMzMzMzMzwz8AAAAAAADwPwAAAAAAAAAAn+d5nud53j8RERERERHBPwAAAAAAAPA/CR988MEHvz+EEEIIIYTQPwAAAAAAAAAAAAAAAAAA8D8AAAAAAAAAAHsUrkfherQ/AAAAAAAAAAAAAAAAAADwP0cXXXTRRcc/nud5nud53j8AAAAAAADAPwAAAAAAAPA/AAAAAAAAAAB00UUXXXThP1VVVVVVVcU/AAAAAAAA8D8AAAAAAAAAACmvobyG8to/AAAAAAAAAAAAAAAAAADwPwAAAAAAAAAAAAAAAAAAAAARERERERHBPwAAAAAAAPA/AAAAAAAAAAAnr6G8hvKqPxEREREREdE/AAAAAAAA8D96FK5H4Xq0P3Icx3Ecx+E/HMdxHMdxvD8AAAAAAADwPwAAAAAAAAAAmZmZmZmZ2T9GF1100UXHPwAAAAAAAPA/AAAAAAAAAACSJEmSJEniPwAAAAAAAAAA",
          "dtype": "f8",
          "shape": "30, 4"
         },
         "zmax": 1,
         "zmin": 0
        }
       ],
       "layout": {
        "height": 900,
        "template": {
         "data": {
          "bar": [
           {
            "error_x": {
             "color": "#2a3f5f"
            },
            "error_y": {
             "color": "#2a3f5f"
            },
            "marker": {
             "line": {
              "color": "#E5ECF6",
              "width": 0.5
             },
             "pattern": {
              "fillmode": "overlay",
              "size": 10,
              "solidity": 0.2
             }
            },
            "type": "bar"
           }
          ],
          "barpolar": [
           {
            "marker": {
             "line": {
              "color": "#E5ECF6",
              "width": 0.5
             },
             "pattern": {
              "fillmode": "overlay",
              "size": 10,
              "solidity": 0.2
             }
            },
            "type": "barpolar"
           }
          ],
          "carpet": [
           {
            "aaxis": {
             "endlinecolor": "#2a3f5f",
             "gridcolor": "white",
             "linecolor": "white",
             "minorgridcolor": "white",
             "startlinecolor": "#2a3f5f"
            },
            "baxis": {
             "endlinecolor": "#2a3f5f",
             "gridcolor": "white",
             "linecolor": "white",
             "minorgridcolor": "white",
             "startlinecolor": "#2a3f5f"
            },
            "type": "carpet"
           }
          ],
          "choropleth": [
           {
            "colorbar": {
             "outlinewidth": 0,
             "ticks": ""
            },
            "type": "choropleth"
           }
          ],
          "contour": [
           {
            "colorbar": {
             "outlinewidth": 0,
             "ticks": ""
            },
            "colorscale": [
             [
              0,
              "#0d0887"
             ],
             [
              0.1111111111111111,
              "#46039f"
             ],
             [
              0.2222222222222222,
              "#7201a8"
             ],
             [
              0.3333333333333333,
              "#9c179e"
             ],
             [
              0.4444444444444444,
              "#bd3786"
             ],
             [
              0.5555555555555556,
              "#d8576b"
             ],
             [
              0.6666666666666666,
              "#ed7953"
             ],
             [
              0.7777777777777778,
              "#fb9f3a"
             ],
             [
              0.8888888888888888,
              "#fdca26"
             ],
             [
              1,
              "#f0f921"
             ]
            ],
            "type": "contour"
           }
          ],
          "contourcarpet": [
           {
            "colorbar": {
             "outlinewidth": 0,
             "ticks": ""
            },
            "type": "contourcarpet"
           }
          ],
          "heatmap": [
           {
            "colorbar": {
             "outlinewidth": 0,
             "ticks": ""
            },
            "colorscale": [
             [
              0,
              "#0d0887"
             ],
             [
              0.1111111111111111,
              "#46039f"
             ],
             [
              0.2222222222222222,
              "#7201a8"
             ],
             [
              0.3333333333333333,
              "#9c179e"
             ],
             [
              0.4444444444444444,
              "#bd3786"
             ],
             [
              0.5555555555555556,
              "#d8576b"
             ],
             [
              0.6666666666666666,
              "#ed7953"
             ],
             [
              0.7777777777777778,
              "#fb9f3a"
             ],
             [
              0.8888888888888888,
              "#fdca26"
             ],
             [
              1,
              "#f0f921"
             ]
            ],
            "type": "heatmap"
           }
          ],
          "histogram": [
           {
            "marker": {
             "pattern": {
              "fillmode": "overlay",
              "size": 10,
              "solidity": 0.2
             }
            },
            "type": "histogram"
           }
          ],
          "histogram2d": [
           {
            "colorbar": {
             "outlinewidth": 0,
             "ticks": ""
            },
            "colorscale": [
             [
              0,
              "#0d0887"
             ],
             [
              0.1111111111111111,
              "#46039f"
             ],
             [
              0.2222222222222222,
              "#7201a8"
             ],
             [
              0.3333333333333333,
              "#9c179e"
             ],
             [
              0.4444444444444444,
              "#bd3786"
             ],
             [
              0.5555555555555556,
              "#d8576b"
             ],
             [
              0.6666666666666666,
              "#ed7953"
             ],
             [
              0.7777777777777778,
              "#fb9f3a"
             ],
             [
              0.8888888888888888,
              "#fdca26"
             ],
             [
              1,
              "#f0f921"
             ]
            ],
            "type": "histogram2d"
           }
          ],
          "histogram2dcontour": [
           {
            "colorbar": {
             "outlinewidth": 0,
             "ticks": ""
            },
            "colorscale": [
             [
              0,
              "#0d0887"
             ],
             [
              0.1111111111111111,
              "#46039f"
             ],
             [
              0.2222222222222222,
              "#7201a8"
             ],
             [
              0.3333333333333333,
              "#9c179e"
             ],
             [
              0.4444444444444444,
              "#bd3786"
             ],
             [
              0.5555555555555556,
              "#d8576b"
             ],
             [
              0.6666666666666666,
              "#ed7953"
             ],
             [
              0.7777777777777778,
              "#fb9f3a"
             ],
             [
              0.8888888888888888,
              "#fdca26"
             ],
             [
              1,
              "#f0f921"
             ]
            ],
            "type": "histogram2dcontour"
           }
          ],
          "mesh3d": [
           {
            "colorbar": {
             "outlinewidth": 0,
             "ticks": ""
            },
            "type": "mesh3d"
           }
          ],
          "parcoords": [
           {
            "line": {
             "colorbar": {
              "outlinewidth": 0,
              "ticks": ""
             }
            },
            "type": "parcoords"
           }
          ],
          "pie": [
           {
            "automargin": true,
            "type": "pie"
           }
          ],
          "scatter": [
           {
            "fillpattern": {
             "fillmode": "overlay",
             "size": 10,
             "solidity": 0.2
            },
            "type": "scatter"
           }
          ],
          "scatter3d": [
           {
            "line": {
             "colorbar": {
              "outlinewidth": 0,
              "ticks": ""
             }
            },
            "marker": {
             "colorbar": {
              "outlinewidth": 0,
              "ticks": ""
             }
            },
            "type": "scatter3d"
           }
          ],
          "scattercarpet": [
           {
            "marker": {
             "colorbar": {
              "outlinewidth": 0,
              "ticks": ""
             }
            },
            "type": "scattercarpet"
           }
          ],
          "scattergeo": [
           {
            "marker": {
             "colorbar": {
              "outlinewidth": 0,
              "ticks": ""
             }
            },
            "type": "scattergeo"
           }
          ],
          "scattergl": [
           {
            "marker": {
             "colorbar": {
              "outlinewidth": 0,
              "ticks": ""
             }
            },
            "type": "scattergl"
           }
          ],
          "scattermap": [
           {
            "marker": {
             "colorbar": {
              "outlinewidth": 0,
              "ticks": ""
             }
            },
            "type": "scattermap"
           }
          ],
          "scattermapbox": [
           {
            "marker": {
             "colorbar": {
              "outlinewidth": 0,
              "ticks": ""
             }
            },
            "type": "scattermapbox"
           }
          ],
          "scatterpolar": [
           {
            "marker": {
             "colorbar": {
              "outlinewidth": 0,
              "ticks": ""
             }
            },
            "type": "scatterpolar"
           }
          ],
          "scatterpolargl": [
           {
            "marker": {
             "colorbar": {
              "outlinewidth": 0,
              "ticks": ""
             }
            },
            "type": "scatterpolargl"
           }
          ],
          "scatterternary": [
           {
            "marker": {
             "colorbar": {
              "outlinewidth": 0,
              "ticks": ""
             }
            },
            "type": "scatterternary"
           }
          ],
          "surface": [
           {
            "colorbar": {
             "outlinewidth": 0,
             "ticks": ""
            },
            "colorscale": [
             [
              0,
              "#0d0887"
             ],
             [
              0.1111111111111111,
              "#46039f"
             ],
             [
              0.2222222222222222,
              "#7201a8"
             ],
             [
              0.3333333333333333,
              "#9c179e"
             ],
             [
              0.4444444444444444,
              "#bd3786"
             ],
             [
              0.5555555555555556,
              "#d8576b"
             ],
             [
              0.6666666666666666,
              "#ed7953"
             ],
             [
              0.7777777777777778,
              "#fb9f3a"
             ],
             [
              0.8888888888888888,
              "#fdca26"
             ],
             [
              1,
              "#f0f921"
             ]
            ],
            "type": "surface"
           }
          ],
          "table": [
           {
            "cells": {
             "fill": {
              "color": "#EBF0F8"
             },
             "line": {
              "color": "white"
             }
            },
            "header": {
             "fill": {
              "color": "#C8D4E3"
             },
             "line": {
              "color": "white"
             }
            },
            "type": "table"
           }
          ]
         },
         "layout": {
          "annotationdefaults": {
           "arrowcolor": "#2a3f5f",
           "arrowhead": 0,
           "arrowwidth": 1
          },
          "autotypenumbers": "strict",
          "coloraxis": {
           "colorbar": {
            "outlinewidth": 0,
            "ticks": ""
           }
          },
          "colorscale": {
           "diverging": [
            [
             0,
             "#8e0152"
            ],
            [
             0.1,
             "#c51b7d"
            ],
            [
             0.2,
             "#de77ae"
            ],
            [
             0.3,
             "#f1b6da"
            ],
            [
             0.4,
             "#fde0ef"
            ],
            [
             0.5,
             "#f7f7f7"
            ],
            [
             0.6,
             "#e6f5d0"
            ],
            [
             0.7,
             "#b8e186"
            ],
            [
             0.8,
             "#7fbc41"
            ],
            [
             0.9,
             "#4d9221"
            ],
            [
             1,
             "#276419"
            ]
           ],
           "sequential": [
            [
             0,
             "#0d0887"
            ],
            [
             0.1111111111111111,
             "#46039f"
            ],
            [
             0.2222222222222222,
             "#7201a8"
            ],
            [
             0.3333333333333333,
             "#9c179e"
            ],
            [
             0.4444444444444444,
             "#bd3786"
            ],
            [
             0.5555555555555556,
             "#d8576b"
            ],
            [
             0.6666666666666666,
             "#ed7953"
            ],
            [
             0.7777777777777778,
             "#fb9f3a"
            ],
            [
             0.8888888888888888,
             "#fdca26"
            ],
            [
             1,
             "#f0f921"
            ]
           ],
           "sequentialminus": [
            [
             0,
             "#0d0887"
            ],
            [
             0.1111111111111111,
             "#46039f"
            ],
            [
             0.2222222222222222,
             "#7201a8"
            ],
            [
             0.3333333333333333,
             "#9c179e"
            ],
            [
             0.4444444444444444,
             "#bd3786"
            ],
            [
             0.5555555555555556,
             "#d8576b"
            ],
            [
             0.6666666666666666,
             "#ed7953"
            ],
            [
             0.7777777777777778,
             "#fb9f3a"
            ],
            [
             0.8888888888888888,
             "#fdca26"
            ],
            [
             1,
             "#f0f921"
            ]
           ]
          },
          "colorway": [
           "#636efa",
           "#EF553B",
           "#00cc96",
           "#ab63fa",
           "#FFA15A",
           "#19d3f3",
           "#FF6692",
           "#B6E880",
           "#FF97FF",
           "#FECB52"
          ],
          "font": {
           "color": "#2a3f5f"
          },
          "geo": {
           "bgcolor": "white",
           "lakecolor": "white",
           "landcolor": "#E5ECF6",
           "showlakes": true,
           "showland": true,
           "subunitcolor": "white"
          },
          "hoverlabel": {
           "align": "left"
          },
          "hovermode": "closest",
          "mapbox": {
           "style": "light"
          },
          "paper_bgcolor": "white",
          "plot_bgcolor": "#E5ECF6",
          "polar": {
           "angularaxis": {
            "gridcolor": "white",
            "linecolor": "white",
            "ticks": ""
           },
           "bgcolor": "#E5ECF6",
           "radialaxis": {
            "gridcolor": "white",
            "linecolor": "white",
            "ticks": ""
           }
          },
          "scene": {
           "xaxis": {
            "backgroundcolor": "#E5ECF6",
            "gridcolor": "white",
            "gridwidth": 2,
            "linecolor": "white",
            "showbackground": true,
            "ticks": "",
            "zerolinecolor": "white"
           },
           "yaxis": {
            "backgroundcolor": "#E5ECF6",
            "gridcolor": "white",
            "gridwidth": 2,
            "linecolor": "white",
            "showbackground": true,
            "ticks": "",
            "zerolinecolor": "white"
           },
           "zaxis": {
            "backgroundcolor": "#E5ECF6",
            "gridcolor": "white",
            "gridwidth": 2,
            "linecolor": "white",
            "showbackground": true,
            "ticks": "",
            "zerolinecolor": "white"
           }
          },
          "shapedefaults": {
           "line": {
            "color": "#2a3f5f"
           }
          },
          "ternary": {
           "aaxis": {
            "gridcolor": "white",
            "linecolor": "white",
            "ticks": ""
           },
           "baxis": {
            "gridcolor": "white",
            "linecolor": "white",
            "ticks": ""
           },
           "bgcolor": "#E5ECF6",
           "caxis": {
            "gridcolor": "white",
            "linecolor": "white",
            "ticks": ""
           }
          },
          "title": {
           "x": 0.05
          },
          "xaxis": {
           "automargin": true,
           "gridcolor": "white",
           "linecolor": "white",
           "ticks": "",
           "title": {
            "standoff": 15
           },
           "zerolinecolor": "white",
           "zerolinewidth": 2
          },
          "yaxis": {
           "automargin": true,
           "gridcolor": "white",
           "linecolor": "white",
           "ticks": "",
           "title": {
            "standoff": 15
           },
           "zerolinecolor": "white",
           "zerolinewidth": 2
          }
         }
        },
        "title": {
         "text": "F1 Score per Document and Field"
        },
        "xaxis": {
         "title": {
          "text": "Field"
         }
        },
        "yaxis": {
         "title": {
          "text": "Document"
         }
        }
       }
      }
     },
     "metadata": {},
     "output_type": "display_data"
    },
    {
     "name": "stdout",
     "output_type": "stream",
     "text": [
      "\n",
      "=== Evaluation for model: deepseek-r1:8b ===\n",
      "\n",
      "Document: file:/C:/Users/mnavas/CASE%20OF%20ALTAY%20v.%20TURKEY%20(No.%202).docx\n",
      "event_type: P=1.00 R=0.50 F1=0.67 (TP=1 FP=0 FN=1)\n",
      "event_who: P=0.50 R=0.40 F1=0.44 (TP=4 FP=4 FN=6)\n",
      "event_what: P=0.15 R=0.12 F1=0.13 (TP=2 FP=11 FN=15)\n",
      "event_when: P=0.70 R=0.37 F1=0.48 (TP=7 FP=3 FN=12)\n",
      "\n",
      "Document: file:/C:/Users/mnavas/CASE%20OF%20BELYAYEV%20AND%20OTHERS%20v.%20UKRAINE.docx\n",
      "event_type: P=0.67 R=1.00 F1=0.80 (TP=2 FP=1 FN=0)\n",
      "event_who: P=0.29 R=0.50 F1=0.36 (TP=4 FP=10 FN=4)\n",
      "event_what: P=0.00 R=0.00 F1=0.00 (TP=0 FP=22 FN=7)\n",
      "event_when: P=0.00 R=0.00 F1=0.00 (TP=0 FP=15 FN=6)\n",
      "\n",
      "Document: file:/C:/Users/mnavas/CASE%20OF%20BIGUN%20v.%20UKRAINE.docx\n",
      "event_type: P=0.00 R=0.00 F1=0.00 (TP=0 FP=2 FN=2)\n",
      "event_who: P=0.14 R=0.12 F1=0.13 (TP=1 FP=6 FN=7)\n",
      "event_what: P=0.08 R=0.08 F1=0.08 (TP=1 FP=11 FN=12)\n",
      "event_when: P=0.62 R=0.42 F1=0.50 (TP=5 FP=3 FN=7)\n",
      "\n",
      "Document: file:/C:/Users/mnavas/CASE%20OF%20CABUCAK%20v.%20GERMANY.docx\n",
      "event_type: P=0.00 R=0.00 F1=0.00 (TP=0 FP=1 FN=2)\n",
      "event_who: P=1.00 R=0.04 F1=0.08 (TP=1 FP=0 FN=24)\n",
      "event_what: P=0.00 R=0.00 F1=0.00 (TP=0 FP=9 FN=40)\n",
      "event_when: P=1.00 R=0.24 F1=0.38 (TP=9 FP=0 FN=29)\n",
      "\n",
      "Document: file:/C:/Users/mnavas/CASE%20OF%20CAN%20v.%20TURKEY.docx\n",
      "event_type: P=1.00 R=0.50 F1=0.67 (TP=1 FP=0 FN=1)\n",
      "event_who: P=0.10 R=0.10 F1=0.10 (TP=1 FP=9 FN=9)\n",
      "event_what: P=0.11 R=0.13 F1=0.12 (TP=2 FP=16 FN=13)\n",
      "event_when: P=0.73 R=0.79 F1=0.76 (TP=11 FP=4 FN=3)\n",
      "\n",
      "Document: file:/C:/Users/mnavas/CASE%20OF%20CRISTIAN%20CATALIN%20UNGUREANU%20v.%20ROMANIA.docx\n",
      "event_type: P=0.00 R=0.00 F1=0.00 (TP=0 FP=2 FN=2)\n",
      "event_who: P=0.40 R=0.12 F1=0.18 (TP=2 FP=3 FN=15)\n",
      "event_what: P=0.09 R=0.05 F1=0.06 (TP=1 FP=10 FN=19)\n",
      "event_when: P=0.56 R=0.28 F1=0.37 (TP=5 FP=4 FN=13)\n",
      "\n",
      "Document: file:/C:/Users/mnavas/CASE%20OF%20DOKTOROV%20v.%20BULGARIA.docx\n",
      "event_type: P=1.00 R=0.50 F1=0.67 (TP=1 FP=0 FN=1)\n",
      "event_who: P=0.00 R=0.00 F1=0.00 (TP=0 FP=5 FN=7)\n",
      "event_what: P=0.10 R=0.17 F1=0.12 (TP=2 FP=18 FN=10)\n",
      "event_when: P=0.31 R=0.62 F1=0.42 (TP=5 FP=11 FN=3)\n",
      "\n",
      "Document: file:/C:/Users/mnavas/CASE%20OF%20EGILL%20EINARSSON%20v.%20ICELAND%20(No.%202).docx\n",
      "event_type: P=1.00 R=1.00 F1=1.00 (TP=2 FP=0 FN=0)\n",
      "event_who: P=0.71 R=0.42 F1=0.53 (TP=5 FP=2 FN=7)\n",
      "event_what: P=0.00 R=0.00 F1=0.00 (TP=0 FP=13 FN=14)\n",
      "event_when: P=0.50 R=0.50 F1=0.50 (TP=6 FP=6 FN=6)\n",
      "\n",
      "Document: file:/C:/Users/mnavas/CASE%20OF%20H_INESS%20v.%20NORWAY%20(1).docx\n",
      "event_type: P=0.00 R=0.00 F1=0.00 (TP=0 FP=0 FN=2)\n",
      "event_who: P=0.00 R=0.00 F1=0.00 (TP=0 FP=0 FN=23)\n",
      "event_what: P=0.00 R=0.00 F1=0.00 (TP=0 FP=0 FN=30)\n",
      "event_when: P=0.00 R=0.00 F1=0.00 (TP=0 FP=0 FN=27)\n",
      "\n",
      "Document: file:/C:/Users/mnavas/CASE%20OF%20KOSAITE%20-%20CYPIENE%20AND%20OTHERS%20v.%20LITHUANIA.docx\n",
      "event_type: P=0.00 R=0.00 F1=0.00 (TP=0 FP=3 FN=2)\n",
      "event_who: P=0.83 R=0.19 F1=0.30 (TP=5 FP=1 FN=22)\n",
      "event_what: P=0.20 R=0.03 F1=0.05 (TP=1 FP=4 FN=32)\n",
      "event_when: P=0.00 R=0.00 F1=0.00 (TP=0 FP=6 FN=31)\n",
      "\n",
      "Document: file:/C:/Users/mnavas/CASE%20OF%20LOZOVYYE%20v.%20RUSSIA.docx\n",
      "event_type: P=1.00 R=0.50 F1=0.67 (TP=1 FP=0 FN=1)\n",
      "event_who: P=0.06 R=0.07 F1=0.06 (TP=1 FP=15 FN=14)\n",
      "event_what: P=0.18 R=0.22 F1=0.20 (TP=4 FP=18 FN=14)\n",
      "event_when: P=0.37 R=0.47 F1=0.41 (TP=7 FP=12 FN=8)\n",
      "\n",
      "Document: file:/C:/Users/mnavas/CASE%20OF%20M.T.%20v.%20UKRAINE.docx\n",
      "event_type: P=1.00 R=1.00 F1=1.00 (TP=2 FP=0 FN=0)\n",
      "event_who: P=0.00 R=0.00 F1=0.00 (TP=0 FP=5 FN=9)\n",
      "event_what: P=0.06 R=0.07 F1=0.06 (TP=1 FP=17 FN=13)\n",
      "event_when: P=0.50 R=0.33 F1=0.40 (TP=4 FP=4 FN=8)\n",
      "\n",
      "Document: file:/C:/Users/mnavas/CASE%20OF%20MOSKALEV%20v.%20RUSSIA.docx\n",
      "event_type: P=1.00 R=1.00 F1=1.00 (TP=2 FP=0 FN=0)\n",
      "event_who: P=0.29 R=0.33 F1=0.31 (TP=2 FP=5 FN=4)\n",
      "event_what: P=0.18 R=0.18 F1=0.18 (TP=2 FP=9 FN=9)\n",
      "event_when: P=0.56 R=0.62 F1=0.59 (TP=5 FP=4 FN=3)\n",
      "\n",
      "Document: file:/C:/Users/mnavas/CASE%20OF%20MURUZHEVA%20v.%20RUSSIA.docx\n",
      "event_type: P=1.00 R=1.00 F1=1.00 (TP=2 FP=0 FN=0)\n",
      "event_who: P=0.29 R=0.18 F1=0.22 (TP=4 FP=10 FN=18)\n",
      "event_what: P=0.32 R=0.18 F1=0.23 (TP=7 FP=15 FN=32)\n",
      "event_when: P=0.77 R=0.49 F1=0.60 (TP=17 FP=5 FN=18)\n",
      "\n",
      "Document: file:/C:/Users/mnavas/CASE%20OF%20_NODI%20v.%20HUNGARY.docx\n",
      "event_type: P=1.00 R=1.00 F1=1.00 (TP=2 FP=0 FN=0)\n",
      "event_who: P=0.36 R=0.36 F1=0.36 (TP=5 FP=9 FN=9)\n",
      "event_what: P=0.12 R=0.10 F1=0.11 (TP=3 FP=21 FN=27)\n",
      "event_when: P=0.54 R=0.32 F1=0.40 (TP=7 FP=6 FN=15)\n",
      "\n",
      "Document: file:/C:/Users/mnavas/CASE%20OF%20O.C.I.%20AND%20OTHERS%20v.%20ROMANIA.docx\n",
      "event_type: P=0.00 R=0.00 F1=0.00 (TP=0 FP=2 FN=2)\n",
      "event_who: P=0.78 R=0.44 F1=0.56 (TP=7 FP=2 FN=9)\n",
      "event_what: P=0.40 R=0.26 F1=0.32 (TP=6 FP=9 FN=17)\n",
      "event_when: P=0.55 R=0.30 F1=0.39 (TP=6 FP=5 FN=14)\n",
      "\n",
      "Document: file:/C:/Users/mnavas/Desktop/CASE%20OF%20OTGON%20v.%20THE%20REPUBLIC%20OF%20MOLDOVA.docx\n",
      "event_type: P=1.00 R=0.50 F1=0.67 (TP=1 FP=0 FN=1)\n",
      "event_who: P=0.00 R=0.00 F1=0.00 (TP=0 FP=4 FN=10)\n",
      "event_what: P=0.25 R=0.20 F1=0.22 (TP=2 FP=6 FN=8)\n",
      "event_when: P=0.67 R=0.44 F1=0.53 (TP=4 FP=2 FN=5)\n",
      "\n",
      "Document: file:/C:/Users/mnavas/CASE%20OF%20PAKHTUSOV%20v.%20RUSSIA.docx\n",
      "event_type: P=1.00 R=1.00 F1=1.00 (TP=2 FP=0 FN=0)\n",
      "event_who: P=0.40 R=0.18 F1=0.25 (TP=2 FP=3 FN=9)\n",
      "event_what: P=0.10 R=0.08 F1=0.09 (TP=1 FP=9 FN=11)\n",
      "event_when: P=0.56 R=0.50 F1=0.53 (TP=5 FP=4 FN=5)\n",
      "\n",
      "Document: file:/C:/Users/mnavas/CASE%20OF%20PANYUSHKINY%20v.%20RUSSIA.docx\n",
      "event_type: P=0.00 R=0.00 F1=0.00 (TP=0 FP=2 FN=2)\n",
      "event_who: P=0.00 R=0.00 F1=0.00 (TP=0 FP=5 FN=17)\n",
      "event_what: P=0.00 R=0.00 F1=0.00 (TP=0 FP=9 FN=33)\n",
      "event_when: P=0.75 R=0.22 F1=0.34 (TP=6 FP=2 FN=21)\n",
      "\n",
      "Document: file:/C:/Users/mnavas/CASE%20OF%20RESIN%20v.%20RUSSIA.docx\n",
      "event_type: P=1.00 R=1.00 F1=1.00 (TP=2 FP=0 FN=0)\n",
      "event_who: P=0.12 R=0.14 F1=0.13 (TP=1 FP=7 FN=6)\n",
      "event_what: P=0.05 R=0.07 F1=0.06 (TP=1 FP=18 FN=14)\n",
      "event_when: P=0.38 R=0.23 F1=0.29 (TP=3 FP=5 FN=10)\n",
      "\n",
      "Document: file:/C:/Users/mnavas/CASE%20OF%20S.N.%20v.%20RUSSIA.docx\n",
      "event_type: P=1.00 R=1.00 F1=1.00 (TP=2 FP=0 FN=0)\n",
      "event_who: P=0.43 R=0.20 F1=0.27 (TP=6 FP=8 FN=24)\n",
      "event_what: P=0.04 R=0.03 F1=0.03 (TP=1 FP=22 FN=34)\n",
      "event_when: P=0.00 R=0.00 F1=0.00 (TP=0 FP=18 FN=41)\n",
      "\n",
      "Document: file:/C:/Users/mnavas/CASE%20OF%20S.V.%20v.%20ITALY.docx\n",
      "event_type: P=1.00 R=1.00 F1=1.00 (TP=2 FP=0 FN=0)\n",
      "event_who: P=0.50 R=0.30 F1=0.37 (TP=3 FP=3 FN=7)\n",
      "event_what: P=0.29 R=0.24 F1=0.26 (TP=4 FP=10 FN=13)\n",
      "event_when: P=0.50 R=0.38 F1=0.43 (TP=5 FP=5 FN=8)\n",
      "\n",
      "Document: file:/C:/Users/mnavas/CASE%20OF%20SHVIDKIYE%20v.%20RUSSIA.docx\n",
      "event_type: P=1.00 R=1.00 F1=1.00 (TP=2 FP=0 FN=0)\n",
      "event_who: P=0.50 R=0.27 F1=0.35 (TP=4 FP=4 FN=11)\n",
      "event_what: P=0.00 R=0.00 F1=0.00 (TP=0 FP=15 FN=22)\n",
      "event_when: P=0.54 R=0.35 F1=0.42 (TP=7 FP=6 FN=13)\n",
      "\n",
      "Document: file:/C:/Users/mnavas/CASE%20OF%20SIDOROVA%20v.%20RUSSIA.docx\n",
      "event_type: P=1.00 R=1.00 F1=1.00 (TP=2 FP=0 FN=0)\n",
      "event_who: P=0.56 R=0.45 F1=0.50 (TP=5 FP=4 FN=6)\n",
      "event_what: P=0.40 R=0.31 F1=0.35 (TP=4 FP=6 FN=9)\n",
      "event_when: P=0.20 R=0.15 F1=0.17 (TP=2 FP=8 FN=11)\n",
      "\n",
      "Document: file:/C:/Users/mnavas/CASE%20OF%20SOLCAN%20v.%20ROMANIA.docx\n",
      "event_type: P=1.00 R=1.00 F1=1.00 (TP=2 FP=0 FN=0)\n",
      "event_who: P=0.20 R=0.11 F1=0.14 (TP=1 FP=4 FN=8)\n",
      "event_what: P=0.20 R=0.15 F1=0.17 (TP=2 FP=8 FN=11)\n",
      "event_when: P=0.62 R=0.45 F1=0.53 (TP=5 FP=3 FN=6)\n",
      "\n",
      "Document: file:/C:/Users/mnavas/CASE%20OF%20STANA%20v.%20ROMANIA.docx\n",
      "event_type: P=1.00 R=0.50 F1=0.67 (TP=1 FP=0 FN=1)\n",
      "event_who: P=0.00 R=0.00 F1=0.00 (TP=0 FP=5 FN=5)\n",
      "event_what: P=0.00 R=0.00 F1=0.00 (TP=0 FP=14 FN=6)\n",
      "event_when: P=0.43 R=0.75 F1=0.55 (TP=3 FP=4 FN=1)\n",
      "\n",
      "Document: file:/C:/Users/mnavas/CASE%20OF%20VISY%20v.%20SLOVAKIA.docx\n",
      "event_type: P=1.00 R=0.50 F1=0.67 (TP=1 FP=0 FN=1)\n",
      "event_who: P=0.14 R=0.10 F1=0.12 (TP=1 FP=6 FN=9)\n",
      "event_what: P=0.00 R=0.00 F1=0.00 (TP=0 FP=19 FN=15)\n",
      "event_when: P=0.55 R=0.55 F1=0.55 (TP=6 FP=5 FN=5)\n",
      "\n",
      "Document: file:/C:/Users/mnavas/CASE%20OF%20YAKUSHEV%20v.%20UKRAINE.docx\n",
      "event_type: P=1.00 R=1.00 F1=1.00 (TP=2 FP=0 FN=0)\n",
      "event_who: P=0.20 R=0.11 F1=0.14 (TP=1 FP=4 FN=8)\n",
      "event_what: P=0.07 R=0.18 F1=0.11 (TP=2 FP=25 FN=9)\n",
      "event_when: P=0.64 R=0.70 F1=0.67 (TP=7 FP=4 FN=3)\n",
      "\n",
      "Document: file:/C:/Users/mnavas/CASE%20OF%20YERMAKOVICH%20v.%20RUSSIA.docx\n",
      "event_type: P=0.00 R=0.00 F1=0.00 (TP=0 FP=2 FN=2)\n",
      "event_who: P=1.00 R=0.04 F1=0.08 (TP=1 FP=0 FN=22)\n",
      "event_what: P=0.11 R=0.04 F1=0.06 (TP=1 FP=8 FN=25)\n",
      "event_when: P=0.00 R=0.00 F1=0.00 (TP=0 FP=9 FN=28)\n",
      "\n",
      "Document: file:/C:/Users/mnavas/CASE%20OF%20YEVGENIY%20ZAKHAROV%20v.%20RUSSIA.docx\n",
      "event_type: P=1.00 R=1.00 F1=1.00 (TP=2 FP=0 FN=0)\n",
      "event_who: P=0.25 R=0.17 F1=0.20 (TP=2 FP=6 FN=10)\n",
      "event_what: P=0.05 R=0.06 F1=0.05 (TP=1 FP=21 FN=16)\n",
      "event_when: P=0.67 R=0.55 F1=0.60 (TP=6 FP=3 FN=5)\n"
     ]
    },
    {
     "data": {
      "application/vnd.plotly.v1+json": {
       "config": {
        "plotlyServerURL": "https://plot.ly"
       },
       "data": [
        {
         "alignmentgroup": "True",
         "hovertemplate": "Metric=precision<br>Field=%{x}<br>Score=%{y}<extra></extra>",
         "legendgroup": "precision",
         "marker": {
          "color": "#636efa",
          "pattern": {
           "shape": ""
          }
         },
         "name": "precision",
         "offsetgroup": "precision",
         "orientation": "v",
         "showlegend": true,
         "textposition": "auto",
         "texttemplate": "%{y:.2f}",
         "type": "bar",
         "x": [
          "event_type",
          "event_what",
          "event_when",
          "event_who"
         ],
         "xaxis": "x",
         "y": {
          "bdata": "x3Ecx3Ec5z8b0l4cwmm+P+qqMrw5SN4/Vp0IvQNv1T8=",
          "dtype": "f8"
         },
         "yaxis": "y"
        },
        {
         "alignmentgroup": "True",
         "hovertemplate": "Metric=recall<br>Field=%{x}<br>Score=%{y}<extra></extra>",
         "legendgroup": "recall",
         "marker": {
          "color": "#EF553B",
          "pattern": {
           "shape": ""
          }
         },
         "name": "recall",
         "offsetgroup": "recall",
         "orientation": "v",
         "showlegend": true,
         "textposition": "auto",
         "texttemplate": "%{y:.2f}",
         "type": "bar",
         "x": [
          "event_type",
          "event_what",
          "event_when",
          "event_who"
         ],
         "xaxis": "x",
         "y": {
          "bdata": "vLu7u7u74z+leZGn5iG5P1W5oFbBgtc/8iROmNjHxj8=",
          "dtype": "f8"
         },
         "yaxis": "y"
        },
        {
         "alignmentgroup": "True",
         "hovertemplate": "Metric=f1<br>Field=%{x}<br>Score=%{y}<extra></extra>",
         "legendgroup": "f1",
         "marker": {
          "color": "#00cc96",
          "pattern": {
           "shape": ""
          }
         },
         "name": "f1",
         "offsetgroup": "f1",
         "orientation": "v",
         "showlegend": true,
         "textposition": "auto",
         "texttemplate": "%{y:.2f}",
         "type": "bar",
         "x": [
          "event_type",
          "event_what",
          "event_when",
          "event_who"
         ],
         "xaxis": "x",
         "y": {
          "bdata": "bn+QobLD5D/uQsKKkkK6Pz8GwzhkLNk/RLB36VJ7yj8=",
          "dtype": "f8"
         },
         "yaxis": "y"
        }
       ],
       "layout": {
        "barmode": "group",
        "legend": {
         "title": {
          "text": "Metric"
         },
         "tracegroupgap": 0
        },
        "template": {
         "data": {
          "bar": [
           {
            "error_x": {
             "color": "#2a3f5f"
            },
            "error_y": {
             "color": "#2a3f5f"
            },
            "marker": {
             "line": {
              "color": "#E5ECF6",
              "width": 0.5
             },
             "pattern": {
              "fillmode": "overlay",
              "size": 10,
              "solidity": 0.2
             }
            },
            "type": "bar"
           }
          ],
          "barpolar": [
           {
            "marker": {
             "line": {
              "color": "#E5ECF6",
              "width": 0.5
             },
             "pattern": {
              "fillmode": "overlay",
              "size": 10,
              "solidity": 0.2
             }
            },
            "type": "barpolar"
           }
          ],
          "carpet": [
           {
            "aaxis": {
             "endlinecolor": "#2a3f5f",
             "gridcolor": "white",
             "linecolor": "white",
             "minorgridcolor": "white",
             "startlinecolor": "#2a3f5f"
            },
            "baxis": {
             "endlinecolor": "#2a3f5f",
             "gridcolor": "white",
             "linecolor": "white",
             "minorgridcolor": "white",
             "startlinecolor": "#2a3f5f"
            },
            "type": "carpet"
           }
          ],
          "choropleth": [
           {
            "colorbar": {
             "outlinewidth": 0,
             "ticks": ""
            },
            "type": "choropleth"
           }
          ],
          "contour": [
           {
            "colorbar": {
             "outlinewidth": 0,
             "ticks": ""
            },
            "colorscale": [
             [
              0,
              "#0d0887"
             ],
             [
              0.1111111111111111,
              "#46039f"
             ],
             [
              0.2222222222222222,
              "#7201a8"
             ],
             [
              0.3333333333333333,
              "#9c179e"
             ],
             [
              0.4444444444444444,
              "#bd3786"
             ],
             [
              0.5555555555555556,
              "#d8576b"
             ],
             [
              0.6666666666666666,
              "#ed7953"
             ],
             [
              0.7777777777777778,
              "#fb9f3a"
             ],
             [
              0.8888888888888888,
              "#fdca26"
             ],
             [
              1,
              "#f0f921"
             ]
            ],
            "type": "contour"
           }
          ],
          "contourcarpet": [
           {
            "colorbar": {
             "outlinewidth": 0,
             "ticks": ""
            },
            "type": "contourcarpet"
           }
          ],
          "heatmap": [
           {
            "colorbar": {
             "outlinewidth": 0,
             "ticks": ""
            },
            "colorscale": [
             [
              0,
              "#0d0887"
             ],
             [
              0.1111111111111111,
              "#46039f"
             ],
             [
              0.2222222222222222,
              "#7201a8"
             ],
             [
              0.3333333333333333,
              "#9c179e"
             ],
             [
              0.4444444444444444,
              "#bd3786"
             ],
             [
              0.5555555555555556,
              "#d8576b"
             ],
             [
              0.6666666666666666,
              "#ed7953"
             ],
             [
              0.7777777777777778,
              "#fb9f3a"
             ],
             [
              0.8888888888888888,
              "#fdca26"
             ],
             [
              1,
              "#f0f921"
             ]
            ],
            "type": "heatmap"
           }
          ],
          "histogram": [
           {
            "marker": {
             "pattern": {
              "fillmode": "overlay",
              "size": 10,
              "solidity": 0.2
             }
            },
            "type": "histogram"
           }
          ],
          "histogram2d": [
           {
            "colorbar": {
             "outlinewidth": 0,
             "ticks": ""
            },
            "colorscale": [
             [
              0,
              "#0d0887"
             ],
             [
              0.1111111111111111,
              "#46039f"
             ],
             [
              0.2222222222222222,
              "#7201a8"
             ],
             [
              0.3333333333333333,
              "#9c179e"
             ],
             [
              0.4444444444444444,
              "#bd3786"
             ],
             [
              0.5555555555555556,
              "#d8576b"
             ],
             [
              0.6666666666666666,
              "#ed7953"
             ],
             [
              0.7777777777777778,
              "#fb9f3a"
             ],
             [
              0.8888888888888888,
              "#fdca26"
             ],
             [
              1,
              "#f0f921"
             ]
            ],
            "type": "histogram2d"
           }
          ],
          "histogram2dcontour": [
           {
            "colorbar": {
             "outlinewidth": 0,
             "ticks": ""
            },
            "colorscale": [
             [
              0,
              "#0d0887"
             ],
             [
              0.1111111111111111,
              "#46039f"
             ],
             [
              0.2222222222222222,
              "#7201a8"
             ],
             [
              0.3333333333333333,
              "#9c179e"
             ],
             [
              0.4444444444444444,
              "#bd3786"
             ],
             [
              0.5555555555555556,
              "#d8576b"
             ],
             [
              0.6666666666666666,
              "#ed7953"
             ],
             [
              0.7777777777777778,
              "#fb9f3a"
             ],
             [
              0.8888888888888888,
              "#fdca26"
             ],
             [
              1,
              "#f0f921"
             ]
            ],
            "type": "histogram2dcontour"
           }
          ],
          "mesh3d": [
           {
            "colorbar": {
             "outlinewidth": 0,
             "ticks": ""
            },
            "type": "mesh3d"
           }
          ],
          "parcoords": [
           {
            "line": {
             "colorbar": {
              "outlinewidth": 0,
              "ticks": ""
             }
            },
            "type": "parcoords"
           }
          ],
          "pie": [
           {
            "automargin": true,
            "type": "pie"
           }
          ],
          "scatter": [
           {
            "fillpattern": {
             "fillmode": "overlay",
             "size": 10,
             "solidity": 0.2
            },
            "type": "scatter"
           }
          ],
          "scatter3d": [
           {
            "line": {
             "colorbar": {
              "outlinewidth": 0,
              "ticks": ""
             }
            },
            "marker": {
             "colorbar": {
              "outlinewidth": 0,
              "ticks": ""
             }
            },
            "type": "scatter3d"
           }
          ],
          "scattercarpet": [
           {
            "marker": {
             "colorbar": {
              "outlinewidth": 0,
              "ticks": ""
             }
            },
            "type": "scattercarpet"
           }
          ],
          "scattergeo": [
           {
            "marker": {
             "colorbar": {
              "outlinewidth": 0,
              "ticks": ""
             }
            },
            "type": "scattergeo"
           }
          ],
          "scattergl": [
           {
            "marker": {
             "colorbar": {
              "outlinewidth": 0,
              "ticks": ""
             }
            },
            "type": "scattergl"
           }
          ],
          "scattermap": [
           {
            "marker": {
             "colorbar": {
              "outlinewidth": 0,
              "ticks": ""
             }
            },
            "type": "scattermap"
           }
          ],
          "scattermapbox": [
           {
            "marker": {
             "colorbar": {
              "outlinewidth": 0,
              "ticks": ""
             }
            },
            "type": "scattermapbox"
           }
          ],
          "scatterpolar": [
           {
            "marker": {
             "colorbar": {
              "outlinewidth": 0,
              "ticks": ""
             }
            },
            "type": "scatterpolar"
           }
          ],
          "scatterpolargl": [
           {
            "marker": {
             "colorbar": {
              "outlinewidth": 0,
              "ticks": ""
             }
            },
            "type": "scatterpolargl"
           }
          ],
          "scatterternary": [
           {
            "marker": {
             "colorbar": {
              "outlinewidth": 0,
              "ticks": ""
             }
            },
            "type": "scatterternary"
           }
          ],
          "surface": [
           {
            "colorbar": {
             "outlinewidth": 0,
             "ticks": ""
            },
            "colorscale": [
             [
              0,
              "#0d0887"
             ],
             [
              0.1111111111111111,
              "#46039f"
             ],
             [
              0.2222222222222222,
              "#7201a8"
             ],
             [
              0.3333333333333333,
              "#9c179e"
             ],
             [
              0.4444444444444444,
              "#bd3786"
             ],
             [
              0.5555555555555556,
              "#d8576b"
             ],
             [
              0.6666666666666666,
              "#ed7953"
             ],
             [
              0.7777777777777778,
              "#fb9f3a"
             ],
             [
              0.8888888888888888,
              "#fdca26"
             ],
             [
              1,
              "#f0f921"
             ]
            ],
            "type": "surface"
           }
          ],
          "table": [
           {
            "cells": {
             "fill": {
              "color": "#EBF0F8"
             },
             "line": {
              "color": "white"
             }
            },
            "header": {
             "fill": {
              "color": "#C8D4E3"
             },
             "line": {
              "color": "white"
             }
            },
            "type": "table"
           }
          ]
         },
         "layout": {
          "annotationdefaults": {
           "arrowcolor": "#2a3f5f",
           "arrowhead": 0,
           "arrowwidth": 1
          },
          "autotypenumbers": "strict",
          "coloraxis": {
           "colorbar": {
            "outlinewidth": 0,
            "ticks": ""
           }
          },
          "colorscale": {
           "diverging": [
            [
             0,
             "#8e0152"
            ],
            [
             0.1,
             "#c51b7d"
            ],
            [
             0.2,
             "#de77ae"
            ],
            [
             0.3,
             "#f1b6da"
            ],
            [
             0.4,
             "#fde0ef"
            ],
            [
             0.5,
             "#f7f7f7"
            ],
            [
             0.6,
             "#e6f5d0"
            ],
            [
             0.7,
             "#b8e186"
            ],
            [
             0.8,
             "#7fbc41"
            ],
            [
             0.9,
             "#4d9221"
            ],
            [
             1,
             "#276419"
            ]
           ],
           "sequential": [
            [
             0,
             "#0d0887"
            ],
            [
             0.1111111111111111,
             "#46039f"
            ],
            [
             0.2222222222222222,
             "#7201a8"
            ],
            [
             0.3333333333333333,
             "#9c179e"
            ],
            [
             0.4444444444444444,
             "#bd3786"
            ],
            [
             0.5555555555555556,
             "#d8576b"
            ],
            [
             0.6666666666666666,
             "#ed7953"
            ],
            [
             0.7777777777777778,
             "#fb9f3a"
            ],
            [
             0.8888888888888888,
             "#fdca26"
            ],
            [
             1,
             "#f0f921"
            ]
           ],
           "sequentialminus": [
            [
             0,
             "#0d0887"
            ],
            [
             0.1111111111111111,
             "#46039f"
            ],
            [
             0.2222222222222222,
             "#7201a8"
            ],
            [
             0.3333333333333333,
             "#9c179e"
            ],
            [
             0.4444444444444444,
             "#bd3786"
            ],
            [
             0.5555555555555556,
             "#d8576b"
            ],
            [
             0.6666666666666666,
             "#ed7953"
            ],
            [
             0.7777777777777778,
             "#fb9f3a"
            ],
            [
             0.8888888888888888,
             "#fdca26"
            ],
            [
             1,
             "#f0f921"
            ]
           ]
          },
          "colorway": [
           "#636efa",
           "#EF553B",
           "#00cc96",
           "#ab63fa",
           "#FFA15A",
           "#19d3f3",
           "#FF6692",
           "#B6E880",
           "#FF97FF",
           "#FECB52"
          ],
          "font": {
           "color": "#2a3f5f"
          },
          "geo": {
           "bgcolor": "white",
           "lakecolor": "white",
           "landcolor": "#E5ECF6",
           "showlakes": true,
           "showland": true,
           "subunitcolor": "white"
          },
          "hoverlabel": {
           "align": "left"
          },
          "hovermode": "closest",
          "mapbox": {
           "style": "light"
          },
          "paper_bgcolor": "white",
          "plot_bgcolor": "#E5ECF6",
          "polar": {
           "angularaxis": {
            "gridcolor": "white",
            "linecolor": "white",
            "ticks": ""
           },
           "bgcolor": "#E5ECF6",
           "radialaxis": {
            "gridcolor": "white",
            "linecolor": "white",
            "ticks": ""
           }
          },
          "scene": {
           "xaxis": {
            "backgroundcolor": "#E5ECF6",
            "gridcolor": "white",
            "gridwidth": 2,
            "linecolor": "white",
            "showbackground": true,
            "ticks": "",
            "zerolinecolor": "white"
           },
           "yaxis": {
            "backgroundcolor": "#E5ECF6",
            "gridcolor": "white",
            "gridwidth": 2,
            "linecolor": "white",
            "showbackground": true,
            "ticks": "",
            "zerolinecolor": "white"
           },
           "zaxis": {
            "backgroundcolor": "#E5ECF6",
            "gridcolor": "white",
            "gridwidth": 2,
            "linecolor": "white",
            "showbackground": true,
            "ticks": "",
            "zerolinecolor": "white"
           }
          },
          "shapedefaults": {
           "line": {
            "color": "#2a3f5f"
           }
          },
          "ternary": {
           "aaxis": {
            "gridcolor": "white",
            "linecolor": "white",
            "ticks": ""
           },
           "baxis": {
            "gridcolor": "white",
            "linecolor": "white",
            "ticks": ""
           },
           "bgcolor": "#E5ECF6",
           "caxis": {
            "gridcolor": "white",
            "linecolor": "white",
            "ticks": ""
           }
          },
          "title": {
           "x": 0.05
          },
          "xaxis": {
           "automargin": true,
           "gridcolor": "white",
           "linecolor": "white",
           "ticks": "",
           "title": {
            "standoff": 15
           },
           "zerolinecolor": "white",
           "zerolinewidth": 2
          },
          "yaxis": {
           "automargin": true,
           "gridcolor": "white",
           "linecolor": "white",
           "ticks": "",
           "title": {
            "standoff": 15
           },
           "zerolinecolor": "white",
           "zerolinewidth": 2
          }
         }
        },
        "title": {
         "text": "Average Precision, Recall, F1 per Field"
        },
        "xaxis": {
         "anchor": "y",
         "domain": [
          0,
          1
         ],
         "title": {
          "text": "Field"
         }
        },
        "yaxis": {
         "anchor": "x",
         "domain": [
          0,
          1
         ],
         "range": [
          0,
          1
         ],
         "title": {
          "text": "Score"
         }
        }
       }
      }
     },
     "metadata": {},
     "output_type": "display_data"
    },
    {
     "data": {
      "application/vnd.plotly.v1+json": {
       "config": {
        "plotlyServerURL": "https://plot.ly"
       },
       "data": [
        {
         "colorbar": {
          "title": {
           "text": "F1 Score"
          }
         },
         "colorscale": [
          [
           0,
           "rgb(255,255,217)"
          ],
          [
           0.125,
           "rgb(237,248,177)"
          ],
          [
           0.25,
           "rgb(199,233,180)"
          ],
          [
           0.375,
           "rgb(127,205,187)"
          ],
          [
           0.5,
           "rgb(65,182,196)"
          ],
          [
           0.625,
           "rgb(29,145,192)"
          ],
          [
           0.75,
           "rgb(34,94,168)"
          ],
          [
           0.875,
           "rgb(37,52,148)"
          ],
          [
           1,
           "rgb(8,29,88)"
          ]
         ],
         "hovertemplate": "Document: %{y}<br>Field: %{x}<br>F1: %{z:.2f}<extra></extra>",
         "text": [
          [
           "0.67",
           "0.13",
           "0.48",
           "0.44"
          ],
          [
           "0.8",
           "0.0",
           "0.0",
           "0.36"
          ],
          [
           "0.0",
           "0.08",
           "0.5",
           "0.13"
          ],
          [
           "0.0",
           "0.0",
           "0.38",
           "0.08"
          ],
          [
           "0.67",
           "0.12",
           "0.76",
           "0.1"
          ],
          [
           "0.0",
           "0.06",
           "0.37",
           "0.18"
          ],
          [
           "0.67",
           "0.12",
           "0.42",
           "0.0"
          ],
          [
           "1.0",
           "0.0",
           "0.5",
           "0.53"
          ],
          [
           "0.0",
           "0.0",
           "0.0",
           "0.0"
          ],
          [
           "0.0",
           "0.05",
           "0.0",
           "0.3"
          ],
          [
           "0.67",
           "0.2",
           "0.41",
           "0.06"
          ],
          [
           "1.0",
           "0.06",
           "0.4",
           "0.0"
          ],
          [
           "1.0",
           "0.18",
           "0.59",
           "0.31"
          ],
          [
           "1.0",
           "0.23",
           "0.6",
           "0.22"
          ],
          [
           "0.0",
           "0.32",
           "0.39",
           "0.56"
          ],
          [
           "1.0",
           "0.09",
           "0.53",
           "0.25"
          ],
          [
           "0.0",
           "0.0",
           "0.34",
           "0.0"
          ],
          [
           "1.0",
           "0.06",
           "0.29",
           "0.13"
          ],
          [
           "1.0",
           "0.03",
           "0.0",
           "0.27"
          ],
          [
           "1.0",
           "0.26",
           "0.43",
           "0.37"
          ],
          [
           "1.0",
           "0.0",
           "0.42",
           "0.35"
          ],
          [
           "1.0",
           "0.35",
           "0.17",
           "0.5"
          ],
          [
           "1.0",
           "0.17",
           "0.53",
           "0.14"
          ],
          [
           "0.67",
           "0.0",
           "0.55",
           "0.0"
          ],
          [
           "0.67",
           "0.0",
           "0.55",
           "0.12"
          ],
          [
           "1.0",
           "0.11",
           "0.67",
           "0.14"
          ],
          [
           "0.0",
           "0.06",
           "0.0",
           "0.08"
          ],
          [
           "1.0",
           "0.05",
           "0.6",
           "0.2"
          ],
          [
           "1.0",
           "0.11",
           "0.4",
           "0.36"
          ],
          [
           "0.67",
           "0.22",
           "0.53",
           "0.0"
          ]
         ],
         "type": "heatmap",
         "x": [
          "event_type",
          "event_what",
          "event_when",
          "event_who"
         ],
         "y": [
          "file:/C:/Users/mnavas/CASE%20OF%20ALTAY%20v.%20TURKEY%20(No.%202).docx",
          "file:/C:/Users/mnavas/CASE%20OF%20BELYAYEV%20AND%20OTHERS%20v.%20UKRAINE.docx",
          "file:/C:/Users/mnavas/CASE%20OF%20BIGUN%20v.%20UKRAINE.docx",
          "file:/C:/Users/mnavas/CASE%20OF%20CABUCAK%20v.%20GERMANY.docx",
          "file:/C:/Users/mnavas/CASE%20OF%20CAN%20v.%20TURKEY.docx",
          "file:/C:/Users/mnavas/CASE%20OF%20CRISTIAN%20CATALIN%20UNGUREANU%20v.%20ROMANIA.docx",
          "file:/C:/Users/mnavas/CASE%20OF%20DOKTOROV%20v.%20BULGARIA.docx",
          "file:/C:/Users/mnavas/CASE%20OF%20EGILL%20EINARSSON%20v.%20ICELAND%20(No.%202).docx",
          "file:/C:/Users/mnavas/CASE%20OF%20H_INESS%20v.%20NORWAY%20(1).docx",
          "file:/C:/Users/mnavas/CASE%20OF%20KOSAITE%20-%20CYPIENE%20AND%20OTHERS%20v.%20LITHUANIA.docx",
          "file:/C:/Users/mnavas/CASE%20OF%20LOZOVYYE%20v.%20RUSSIA.docx",
          "file:/C:/Users/mnavas/CASE%20OF%20M.T.%20v.%20UKRAINE.docx",
          "file:/C:/Users/mnavas/CASE%20OF%20MOSKALEV%20v.%20RUSSIA.docx",
          "file:/C:/Users/mnavas/CASE%20OF%20MURUZHEVA%20v.%20RUSSIA.docx",
          "file:/C:/Users/mnavas/CASE%20OF%20O.C.I.%20AND%20OTHERS%20v.%20ROMANIA.docx",
          "file:/C:/Users/mnavas/CASE%20OF%20PAKHTUSOV%20v.%20RUSSIA.docx",
          "file:/C:/Users/mnavas/CASE%20OF%20PANYUSHKINY%20v.%20RUSSIA.docx",
          "file:/C:/Users/mnavas/CASE%20OF%20RESIN%20v.%20RUSSIA.docx",
          "file:/C:/Users/mnavas/CASE%20OF%20S.N.%20v.%20RUSSIA.docx",
          "file:/C:/Users/mnavas/CASE%20OF%20S.V.%20v.%20ITALY.docx",
          "file:/C:/Users/mnavas/CASE%20OF%20SHVIDKIYE%20v.%20RUSSIA.docx",
          "file:/C:/Users/mnavas/CASE%20OF%20SIDOROVA%20v.%20RUSSIA.docx",
          "file:/C:/Users/mnavas/CASE%20OF%20SOLCAN%20v.%20ROMANIA.docx",
          "file:/C:/Users/mnavas/CASE%20OF%20STANA%20v.%20ROMANIA.docx",
          "file:/C:/Users/mnavas/CASE%20OF%20VISY%20v.%20SLOVAKIA.docx",
          "file:/C:/Users/mnavas/CASE%20OF%20YAKUSHEV%20v.%20UKRAINE.docx",
          "file:/C:/Users/mnavas/CASE%20OF%20YERMAKOVICH%20v.%20RUSSIA.docx",
          "file:/C:/Users/mnavas/CASE%20OF%20YEVGENIY%20ZAKHAROV%20v.%20RUSSIA.docx",
          "file:/C:/Users/mnavas/CASE%20OF%20_NODI%20v.%20HUNGARY.docx",
          "file:/C:/Users/mnavas/Desktop/CASE%20OF%20OTGON%20v.%20THE%20REPUBLIC%20OF%20MOLDOVA.docx"
         ],
         "z": {
          "bdata": "VVVVVVVV5T8RERERERHBP0ZY7mmE5d4/HcdxHMdx3D+amZmZmZnpPwAAAAAAAAAAAAAAAAAAAABGF1100UXXPwAAAAAAAAAAexSuR+F6tD8AAAAAAADgPxEREREREcE/AAAAAAAAAAAAAAAAAAAAAGFyBTG5gtg/FDuxEzuxsz9VVVVVVVXlPwcffPDBB78/7mmE5Z5G6D+bmZmZmZm5PwAAAAAAAAAAhBBCCCGEsD9DewntJbTXP0UXXXTRRcc/VVVVVVVV5T8AAAAAAADAP6uqqqqqqto/AAAAAAAAAAAAAAAAAADwPwAAAAAAAAAAAAAAAAAA4D95DeU1lNfgPwAAAAAAAAAAAAAAAAAAAAAAAAAAAAAAAAAAAAAAAAAAAAAAAAAAAAApr6G8hvKqPwAAAAAAAAAAZJNNNtlk0z9VVVVVVVXlP5mZmZmZmck/WlpaWlpa2j+FEEIIIYSwPwAAAAAAAPA/AAAAAAAAsD+amZmZmZnZPwAAAAAAAAAAAAAAAAAA8D9GF1100UXHP9PS0tLS0uI/EzuxEzux0z8AAAAAAADwP+h9ikuGYM0/ZzGdxXQW4z8cx3Ecx3HMPwAAAAAAAAAAX0N5DeU11D/FGGOMMcbYP+xRuB6F6+E/AAAAAAAA8D9FF1100UW3P3kN5TWU1+A/AQAAAAAA0D8AAAAAAAAAAAAAAAAAAAAAFl/xFV/x1T8AAAAAAAAAAAAAAAAAAPA/Hh4eHh4erj+SJEmSJEnSPxEREREREcE/AAAAAAAA8D+WexphuaehPwAAAAAAAAAAddFFF1100T8AAAAAAADwP4UQQgghhNA/vulNb3rT2z/////////XPwAAAAAAAPA/AAAAAAAAAAAmm2yyySbbP2UhC1nIQtY/AAAAAAAA8D9kIQtZyELWP2QhC1nIQsY/AAAAAAAA4D8AAAAAAADwP2QhC1nIQsY/eQ3lNZTX4D+SJEmSJEnCP1VVVVVVVeU/AAAAAAAAAAB00UUXXXThPwAAAAAAAAAAVVVVVVVV5T8AAAAAAAAAAHTRRRdddOE/Hh4eHh4evj8AAAAAAADwPyivobyG8ro/VVVVVVVV5T+SJEmSJEnCPwAAAAAAAAAAHtRBHdRBrT8AAAAAAAAAAFVVVVVVVbU/AAAAAAAA8D8apEEapEGqPzMzMzMzM+M/mpmZmZmZyT8AAAAAAADwPx3HcRzHcbw/mZmZmZmZ2T+3bdu2bdvWP1VVVVVVVeU/HcdxHMdxzD8RERERERHhPwAAAAAAAAAA",
          "dtype": "f8",
          "shape": "30, 4"
         },
         "zmax": 1,
         "zmin": 0
        }
       ],
       "layout": {
        "height": 900,
        "template": {
         "data": {
          "bar": [
           {
            "error_x": {
             "color": "#2a3f5f"
            },
            "error_y": {
             "color": "#2a3f5f"
            },
            "marker": {
             "line": {
              "color": "#E5ECF6",
              "width": 0.5
             },
             "pattern": {
              "fillmode": "overlay",
              "size": 10,
              "solidity": 0.2
             }
            },
            "type": "bar"
           }
          ],
          "barpolar": [
           {
            "marker": {
             "line": {
              "color": "#E5ECF6",
              "width": 0.5
             },
             "pattern": {
              "fillmode": "overlay",
              "size": 10,
              "solidity": 0.2
             }
            },
            "type": "barpolar"
           }
          ],
          "carpet": [
           {
            "aaxis": {
             "endlinecolor": "#2a3f5f",
             "gridcolor": "white",
             "linecolor": "white",
             "minorgridcolor": "white",
             "startlinecolor": "#2a3f5f"
            },
            "baxis": {
             "endlinecolor": "#2a3f5f",
             "gridcolor": "white",
             "linecolor": "white",
             "minorgridcolor": "white",
             "startlinecolor": "#2a3f5f"
            },
            "type": "carpet"
           }
          ],
          "choropleth": [
           {
            "colorbar": {
             "outlinewidth": 0,
             "ticks": ""
            },
            "type": "choropleth"
           }
          ],
          "contour": [
           {
            "colorbar": {
             "outlinewidth": 0,
             "ticks": ""
            },
            "colorscale": [
             [
              0,
              "#0d0887"
             ],
             [
              0.1111111111111111,
              "#46039f"
             ],
             [
              0.2222222222222222,
              "#7201a8"
             ],
             [
              0.3333333333333333,
              "#9c179e"
             ],
             [
              0.4444444444444444,
              "#bd3786"
             ],
             [
              0.5555555555555556,
              "#d8576b"
             ],
             [
              0.6666666666666666,
              "#ed7953"
             ],
             [
              0.7777777777777778,
              "#fb9f3a"
             ],
             [
              0.8888888888888888,
              "#fdca26"
             ],
             [
              1,
              "#f0f921"
             ]
            ],
            "type": "contour"
           }
          ],
          "contourcarpet": [
           {
            "colorbar": {
             "outlinewidth": 0,
             "ticks": ""
            },
            "type": "contourcarpet"
           }
          ],
          "heatmap": [
           {
            "colorbar": {
             "outlinewidth": 0,
             "ticks": ""
            },
            "colorscale": [
             [
              0,
              "#0d0887"
             ],
             [
              0.1111111111111111,
              "#46039f"
             ],
             [
              0.2222222222222222,
              "#7201a8"
             ],
             [
              0.3333333333333333,
              "#9c179e"
             ],
             [
              0.4444444444444444,
              "#bd3786"
             ],
             [
              0.5555555555555556,
              "#d8576b"
             ],
             [
              0.6666666666666666,
              "#ed7953"
             ],
             [
              0.7777777777777778,
              "#fb9f3a"
             ],
             [
              0.8888888888888888,
              "#fdca26"
             ],
             [
              1,
              "#f0f921"
             ]
            ],
            "type": "heatmap"
           }
          ],
          "histogram": [
           {
            "marker": {
             "pattern": {
              "fillmode": "overlay",
              "size": 10,
              "solidity": 0.2
             }
            },
            "type": "histogram"
           }
          ],
          "histogram2d": [
           {
            "colorbar": {
             "outlinewidth": 0,
             "ticks": ""
            },
            "colorscale": [
             [
              0,
              "#0d0887"
             ],
             [
              0.1111111111111111,
              "#46039f"
             ],
             [
              0.2222222222222222,
              "#7201a8"
             ],
             [
              0.3333333333333333,
              "#9c179e"
             ],
             [
              0.4444444444444444,
              "#bd3786"
             ],
             [
              0.5555555555555556,
              "#d8576b"
             ],
             [
              0.6666666666666666,
              "#ed7953"
             ],
             [
              0.7777777777777778,
              "#fb9f3a"
             ],
             [
              0.8888888888888888,
              "#fdca26"
             ],
             [
              1,
              "#f0f921"
             ]
            ],
            "type": "histogram2d"
           }
          ],
          "histogram2dcontour": [
           {
            "colorbar": {
             "outlinewidth": 0,
             "ticks": ""
            },
            "colorscale": [
             [
              0,
              "#0d0887"
             ],
             [
              0.1111111111111111,
              "#46039f"
             ],
             [
              0.2222222222222222,
              "#7201a8"
             ],
             [
              0.3333333333333333,
              "#9c179e"
             ],
             [
              0.4444444444444444,
              "#bd3786"
             ],
             [
              0.5555555555555556,
              "#d8576b"
             ],
             [
              0.6666666666666666,
              "#ed7953"
             ],
             [
              0.7777777777777778,
              "#fb9f3a"
             ],
             [
              0.8888888888888888,
              "#fdca26"
             ],
             [
              1,
              "#f0f921"
             ]
            ],
            "type": "histogram2dcontour"
           }
          ],
          "mesh3d": [
           {
            "colorbar": {
             "outlinewidth": 0,
             "ticks": ""
            },
            "type": "mesh3d"
           }
          ],
          "parcoords": [
           {
            "line": {
             "colorbar": {
              "outlinewidth": 0,
              "ticks": ""
             }
            },
            "type": "parcoords"
           }
          ],
          "pie": [
           {
            "automargin": true,
            "type": "pie"
           }
          ],
          "scatter": [
           {
            "fillpattern": {
             "fillmode": "overlay",
             "size": 10,
             "solidity": 0.2
            },
            "type": "scatter"
           }
          ],
          "scatter3d": [
           {
            "line": {
             "colorbar": {
              "outlinewidth": 0,
              "ticks": ""
             }
            },
            "marker": {
             "colorbar": {
              "outlinewidth": 0,
              "ticks": ""
             }
            },
            "type": "scatter3d"
           }
          ],
          "scattercarpet": [
           {
            "marker": {
             "colorbar": {
              "outlinewidth": 0,
              "ticks": ""
             }
            },
            "type": "scattercarpet"
           }
          ],
          "scattergeo": [
           {
            "marker": {
             "colorbar": {
              "outlinewidth": 0,
              "ticks": ""
             }
            },
            "type": "scattergeo"
           }
          ],
          "scattergl": [
           {
            "marker": {
             "colorbar": {
              "outlinewidth": 0,
              "ticks": ""
             }
            },
            "type": "scattergl"
           }
          ],
          "scattermap": [
           {
            "marker": {
             "colorbar": {
              "outlinewidth": 0,
              "ticks": ""
             }
            },
            "type": "scattermap"
           }
          ],
          "scattermapbox": [
           {
            "marker": {
             "colorbar": {
              "outlinewidth": 0,
              "ticks": ""
             }
            },
            "type": "scattermapbox"
           }
          ],
          "scatterpolar": [
           {
            "marker": {
             "colorbar": {
              "outlinewidth": 0,
              "ticks": ""
             }
            },
            "type": "scatterpolar"
           }
          ],
          "scatterpolargl": [
           {
            "marker": {
             "colorbar": {
              "outlinewidth": 0,
              "ticks": ""
             }
            },
            "type": "scatterpolargl"
           }
          ],
          "scatterternary": [
           {
            "marker": {
             "colorbar": {
              "outlinewidth": 0,
              "ticks": ""
             }
            },
            "type": "scatterternary"
           }
          ],
          "surface": [
           {
            "colorbar": {
             "outlinewidth": 0,
             "ticks": ""
            },
            "colorscale": [
             [
              0,
              "#0d0887"
             ],
             [
              0.1111111111111111,
              "#46039f"
             ],
             [
              0.2222222222222222,
              "#7201a8"
             ],
             [
              0.3333333333333333,
              "#9c179e"
             ],
             [
              0.4444444444444444,
              "#bd3786"
             ],
             [
              0.5555555555555556,
              "#d8576b"
             ],
             [
              0.6666666666666666,
              "#ed7953"
             ],
             [
              0.7777777777777778,
              "#fb9f3a"
             ],
             [
              0.8888888888888888,
              "#fdca26"
             ],
             [
              1,
              "#f0f921"
             ]
            ],
            "type": "surface"
           }
          ],
          "table": [
           {
            "cells": {
             "fill": {
              "color": "#EBF0F8"
             },
             "line": {
              "color": "white"
             }
            },
            "header": {
             "fill": {
              "color": "#C8D4E3"
             },
             "line": {
              "color": "white"
             }
            },
            "type": "table"
           }
          ]
         },
         "layout": {
          "annotationdefaults": {
           "arrowcolor": "#2a3f5f",
           "arrowhead": 0,
           "arrowwidth": 1
          },
          "autotypenumbers": "strict",
          "coloraxis": {
           "colorbar": {
            "outlinewidth": 0,
            "ticks": ""
           }
          },
          "colorscale": {
           "diverging": [
            [
             0,
             "#8e0152"
            ],
            [
             0.1,
             "#c51b7d"
            ],
            [
             0.2,
             "#de77ae"
            ],
            [
             0.3,
             "#f1b6da"
            ],
            [
             0.4,
             "#fde0ef"
            ],
            [
             0.5,
             "#f7f7f7"
            ],
            [
             0.6,
             "#e6f5d0"
            ],
            [
             0.7,
             "#b8e186"
            ],
            [
             0.8,
             "#7fbc41"
            ],
            [
             0.9,
             "#4d9221"
            ],
            [
             1,
             "#276419"
            ]
           ],
           "sequential": [
            [
             0,
             "#0d0887"
            ],
            [
             0.1111111111111111,
             "#46039f"
            ],
            [
             0.2222222222222222,
             "#7201a8"
            ],
            [
             0.3333333333333333,
             "#9c179e"
            ],
            [
             0.4444444444444444,
             "#bd3786"
            ],
            [
             0.5555555555555556,
             "#d8576b"
            ],
            [
             0.6666666666666666,
             "#ed7953"
            ],
            [
             0.7777777777777778,
             "#fb9f3a"
            ],
            [
             0.8888888888888888,
             "#fdca26"
            ],
            [
             1,
             "#f0f921"
            ]
           ],
           "sequentialminus": [
            [
             0,
             "#0d0887"
            ],
            [
             0.1111111111111111,
             "#46039f"
            ],
            [
             0.2222222222222222,
             "#7201a8"
            ],
            [
             0.3333333333333333,
             "#9c179e"
            ],
            [
             0.4444444444444444,
             "#bd3786"
            ],
            [
             0.5555555555555556,
             "#d8576b"
            ],
            [
             0.6666666666666666,
             "#ed7953"
            ],
            [
             0.7777777777777778,
             "#fb9f3a"
            ],
            [
             0.8888888888888888,
             "#fdca26"
            ],
            [
             1,
             "#f0f921"
            ]
           ]
          },
          "colorway": [
           "#636efa",
           "#EF553B",
           "#00cc96",
           "#ab63fa",
           "#FFA15A",
           "#19d3f3",
           "#FF6692",
           "#B6E880",
           "#FF97FF",
           "#FECB52"
          ],
          "font": {
           "color": "#2a3f5f"
          },
          "geo": {
           "bgcolor": "white",
           "lakecolor": "white",
           "landcolor": "#E5ECF6",
           "showlakes": true,
           "showland": true,
           "subunitcolor": "white"
          },
          "hoverlabel": {
           "align": "left"
          },
          "hovermode": "closest",
          "mapbox": {
           "style": "light"
          },
          "paper_bgcolor": "white",
          "plot_bgcolor": "#E5ECF6",
          "polar": {
           "angularaxis": {
            "gridcolor": "white",
            "linecolor": "white",
            "ticks": ""
           },
           "bgcolor": "#E5ECF6",
           "radialaxis": {
            "gridcolor": "white",
            "linecolor": "white",
            "ticks": ""
           }
          },
          "scene": {
           "xaxis": {
            "backgroundcolor": "#E5ECF6",
            "gridcolor": "white",
            "gridwidth": 2,
            "linecolor": "white",
            "showbackground": true,
            "ticks": "",
            "zerolinecolor": "white"
           },
           "yaxis": {
            "backgroundcolor": "#E5ECF6",
            "gridcolor": "white",
            "gridwidth": 2,
            "linecolor": "white",
            "showbackground": true,
            "ticks": "",
            "zerolinecolor": "white"
           },
           "zaxis": {
            "backgroundcolor": "#E5ECF6",
            "gridcolor": "white",
            "gridwidth": 2,
            "linecolor": "white",
            "showbackground": true,
            "ticks": "",
            "zerolinecolor": "white"
           }
          },
          "shapedefaults": {
           "line": {
            "color": "#2a3f5f"
           }
          },
          "ternary": {
           "aaxis": {
            "gridcolor": "white",
            "linecolor": "white",
            "ticks": ""
           },
           "baxis": {
            "gridcolor": "white",
            "linecolor": "white",
            "ticks": ""
           },
           "bgcolor": "#E5ECF6",
           "caxis": {
            "gridcolor": "white",
            "linecolor": "white",
            "ticks": ""
           }
          },
          "title": {
           "x": 0.05
          },
          "xaxis": {
           "automargin": true,
           "gridcolor": "white",
           "linecolor": "white",
           "ticks": "",
           "title": {
            "standoff": 15
           },
           "zerolinecolor": "white",
           "zerolinewidth": 2
          },
          "yaxis": {
           "automargin": true,
           "gridcolor": "white",
           "linecolor": "white",
           "ticks": "",
           "title": {
            "standoff": 15
           },
           "zerolinecolor": "white",
           "zerolinewidth": 2
          }
         }
        },
        "title": {
         "text": "F1 Score per Document and Field"
        },
        "xaxis": {
         "title": {
          "text": "Field"
         }
        },
        "yaxis": {
         "title": {
          "text": "Document"
         }
        }
       }
      }
     },
     "metadata": {},
     "output_type": "display_data"
    },
    {
     "name": "stdout",
     "output_type": "stream",
     "text": [
      "\n",
      "=== Evaluation for model: gemma3:12b ===\n",
      "\n",
      "Document: file:/C:/Users/mnavas/CASE%20OF%20ALTAY%20v.%20TURKEY%20(No.%202).docx\n",
      "event_type: P=1.00 R=1.00 F1=1.00 (TP=2 FP=0 FN=0)\n",
      "event_who: P=0.88 R=0.70 F1=0.78 (TP=7 FP=1 FN=3)\n",
      "event_what: P=0.19 R=0.18 F1=0.18 (TP=3 FP=13 FN=14)\n",
      "event_when: P=0.75 R=0.47 F1=0.58 (TP=9 FP=3 FN=10)\n",
      "\n",
      "Document: file:/C:/Users/mnavas/CASE%20OF%20BELYAYEV%20AND%20OTHERS%20v.%20UKRAINE.docx\n",
      "event_type: P=1.00 R=1.00 F1=1.00 (TP=2 FP=0 FN=0)\n",
      "event_who: P=0.25 R=0.38 F1=0.30 (TP=3 FP=9 FN=5)\n",
      "event_what: P=0.07 R=0.14 F1=0.10 (TP=1 FP=13 FN=6)\n",
      "event_when: P=0.17 R=0.17 F1=0.17 (TP=1 FP=5 FN=5)\n",
      "\n",
      "Document: file:/C:/Users/mnavas/CASE%20OF%20BIGUN%20v.%20UKRAINE.docx\n",
      "event_type: P=1.00 R=1.00 F1=1.00 (TP=2 FP=0 FN=0)\n",
      "event_who: P=0.38 R=0.38 F1=0.38 (TP=3 FP=5 FN=5)\n",
      "event_what: P=0.12 R=0.15 F1=0.13 (TP=2 FP=15 FN=11)\n",
      "event_when: P=0.42 R=0.42 F1=0.42 (TP=5 FP=7 FN=7)\n",
      "\n",
      "Document: file:/C:/Users/mnavas/CASE%20OF%20CABUCAK%20v.%20GERMANY.docx\n",
      "event_type: P=0.00 R=0.00 F1=0.00 (TP=0 FP=2 FN=2)\n",
      "event_who: P=0.00 R=0.00 F1=0.00 (TP=0 FP=4 FN=25)\n",
      "event_what: P=0.29 R=0.05 F1=0.09 (TP=2 FP=5 FN=38)\n",
      "event_when: P=0.83 R=0.13 F1=0.23 (TP=5 FP=1 FN=33)\n",
      "\n",
      "Document: file:/C:/Users/mnavas/CASE%20OF%20CAN%20v.%20TURKEY.docx\n",
      "event_type: P=1.00 R=1.00 F1=1.00 (TP=2 FP=0 FN=0)\n",
      "event_who: P=0.60 R=0.60 F1=0.60 (TP=6 FP=4 FN=4)\n",
      "event_what: P=0.15 R=0.20 F1=0.17 (TP=3 FP=17 FN=12)\n",
      "event_when: P=0.79 R=0.79 F1=0.79 (TP=11 FP=3 FN=3)\n",
      "\n",
      "Document: file:/C:/Users/mnavas/CASE%20OF%20CRISTIAN%20CATALIN%20UNGUREANU%20v.%20ROMANIA.docx\n",
      "event_type: P=1.00 R=1.00 F1=1.00 (TP=2 FP=0 FN=0)\n",
      "event_who: P=0.89 R=0.47 F1=0.62 (TP=8 FP=1 FN=9)\n",
      "event_what: P=0.25 R=0.30 F1=0.27 (TP=6 FP=18 FN=14)\n",
      "event_when: P=0.50 R=0.44 F1=0.47 (TP=8 FP=8 FN=10)\n",
      "\n",
      "Document: file:/C:/Users/mnavas/CASE%20OF%20DOKTOROV%20v.%20BULGARIA.docx\n",
      "event_type: P=1.00 R=1.00 F1=1.00 (TP=2 FP=0 FN=0)\n",
      "event_who: P=0.22 R=0.57 F1=0.32 (TP=4 FP=14 FN=3)\n",
      "event_what: P=0.09 R=0.17 F1=0.11 (TP=2 FP=21 FN=10)\n",
      "event_when: P=0.56 R=0.62 F1=0.59 (TP=5 FP=4 FN=3)\n",
      "\n",
      "Document: file:/C:/Users/mnavas/CASE%20OF%20EGILL%20EINARSSON%20v.%20ICELAND%20(No.%202).docx\n",
      "event_type: P=1.00 R=1.00 F1=1.00 (TP=2 FP=0 FN=0)\n",
      "event_who: P=0.71 R=0.42 F1=0.53 (TP=5 FP=2 FN=7)\n",
      "event_what: P=0.08 R=0.07 F1=0.08 (TP=1 FP=11 FN=13)\n",
      "event_when: P=0.50 R=0.33 F1=0.40 (TP=4 FP=4 FN=8)\n",
      "\n",
      "Document: file:/C:/Users/mnavas/CASE%20OF%20H_INESS%20v.%20NORWAY%20(1).docx\n",
      "event_type: P=0.00 R=0.00 F1=0.00 (TP=0 FP=2 FN=2)\n",
      "event_who: P=0.00 R=0.00 F1=0.00 (TP=0 FP=1 FN=23)\n",
      "event_what: P=0.00 R=0.00 F1=0.00 (TP=0 FP=2 FN=30)\n",
      "event_when: P=1.00 R=0.04 F1=0.07 (TP=1 FP=0 FN=26)\n",
      "\n",
      "Document: file:/C:/Users/mnavas/CASE%20OF%20KOSAITE%20-%20CYPIENE%20AND%20OTHERS%20v.%20LITHUANIA.docx\n",
      "event_type: P=0.00 R=0.00 F1=0.00 (TP=0 FP=6 FN=2)\n",
      "event_who: P=0.70 R=0.26 F1=0.38 (TP=7 FP=3 FN=20)\n",
      "event_what: P=0.00 R=0.00 F1=0.00 (TP=0 FP=10 FN=33)\n",
      "event_when: P=0.30 R=0.10 F1=0.15 (TP=3 FP=7 FN=28)\n",
      "\n",
      "Document: file:/C:/Users/mnavas/CASE%20OF%20LOZOVYYE%20v.%20RUSSIA.docx\n",
      "event_type: P=1.00 R=1.00 F1=1.00 (TP=2 FP=0 FN=0)\n",
      "event_who: P=0.54 R=0.47 F1=0.50 (TP=7 FP=6 FN=8)\n",
      "event_what: P=0.19 R=0.22 F1=0.21 (TP=4 FP=17 FN=14)\n",
      "event_when: P=0.56 R=0.60 F1=0.58 (TP=9 FP=7 FN=6)\n",
      "\n",
      "Document: file:/C:/Users/mnavas/CASE%20OF%20M.T.%20v.%20UKRAINE.docx\n",
      "event_type: P=1.00 R=1.00 F1=1.00 (TP=2 FP=0 FN=0)\n",
      "event_who: P=0.45 R=0.56 F1=0.50 (TP=5 FP=6 FN=4)\n",
      "event_what: P=0.09 R=0.14 F1=0.11 (TP=2 FP=20 FN=12)\n",
      "event_when: P=0.57 R=0.67 F1=0.62 (TP=8 FP=6 FN=4)\n",
      "\n",
      "Document: file:/C:/Users/mnavas/CASE%20OF%20MOSKALEV%20v.%20RUSSIA.docx\n",
      "event_type: P=1.00 R=1.00 F1=1.00 (TP=2 FP=0 FN=0)\n",
      "event_who: P=0.50 R=0.67 F1=0.57 (TP=4 FP=4 FN=2)\n",
      "event_what: P=0.00 R=0.00 F1=0.00 (TP=0 FP=12 FN=11)\n",
      "event_when: P=0.50 R=0.75 F1=0.60 (TP=6 FP=6 FN=2)\n",
      "\n",
      "Document: file:/C:/Users/mnavas/CASE%20OF%20MURUZHEVA%20v.%20RUSSIA.docx\n",
      "event_type: P=1.00 R=1.00 F1=1.00 (TP=2 FP=0 FN=0)\n",
      "event_who: P=0.00 R=0.00 F1=0.00 (TP=0 FP=11 FN=22)\n",
      "event_what: P=0.00 R=0.00 F1=0.00 (TP=0 FP=12 FN=39)\n",
      "event_when: P=0.36 R=0.11 F1=0.17 (TP=4 FP=7 FN=31)\n",
      "\n",
      "Document: file:/C:/Users/mnavas/CASE%20OF%20_NODI%20v.%20HUNGARY.docx\n",
      "event_type: P=1.00 R=1.00 F1=1.00 (TP=2 FP=0 FN=0)\n",
      "event_who: P=0.67 R=0.57 F1=0.62 (TP=8 FP=4 FN=6)\n",
      "event_what: P=0.09 R=0.07 F1=0.08 (TP=2 FP=21 FN=28)\n",
      "event_when: P=0.50 R=0.27 F1=0.35 (TP=6 FP=6 FN=16)\n",
      "\n",
      "Document: file:/C:/Users/mnavas/CASE%20OF%20O.C.I.%20AND%20OTHERS%20v.%20ROMANIA.docx\n",
      "event_type: P=1.00 R=1.00 F1=1.00 (TP=2 FP=0 FN=0)\n",
      "event_who: P=0.15 R=0.12 F1=0.14 (TP=2 FP=11 FN=14)\n",
      "event_what: P=0.10 R=0.09 F1=0.09 (TP=2 FP=18 FN=21)\n",
      "event_when: P=0.58 R=0.35 F1=0.44 (TP=7 FP=5 FN=13)\n",
      "\n",
      "Document: file:/C:/Users/mnavas/Desktop/CASE%20OF%20OTGON%20v.%20THE%20REPUBLIC%20OF%20MOLDOVA.docx\n",
      "event_type: P=1.00 R=1.00 F1=1.00 (TP=2 FP=0 FN=0)\n",
      "event_who: P=0.58 R=0.70 F1=0.64 (TP=7 FP=5 FN=3)\n",
      "event_what: P=0.18 R=0.30 F1=0.22 (TP=3 FP=14 FN=7)\n",
      "event_when: P=0.55 R=0.67 F1=0.60 (TP=6 FP=5 FN=3)\n",
      "\n",
      "Document: file:/C:/Users/mnavas/CASE%20OF%20PAKHTUSOV%20v.%20RUSSIA.docx\n",
      "event_type: P=1.00 R=1.00 F1=1.00 (TP=2 FP=0 FN=0)\n",
      "event_who: P=0.10 R=0.18 F1=0.13 (TP=2 FP=18 FN=9)\n",
      "event_what: P=0.09 R=0.17 F1=0.11 (TP=2 FP=21 FN=10)\n",
      "event_when: P=0.62 R=0.80 F1=0.70 (TP=8 FP=5 FN=2)\n",
      "\n",
      "Document: file:/C:/Users/mnavas/CASE%20OF%20PANYUSHKINY%20v.%20RUSSIA.docx\n",
      "event_type: P=1.00 R=1.00 F1=1.00 (TP=2 FP=0 FN=0)\n",
      "event_who: P=0.00 R=0.00 F1=0.00 (TP=0 FP=9 FN=17)\n",
      "event_what: P=0.05 R=0.03 F1=0.04 (TP=1 FP=18 FN=32)\n",
      "event_when: P=0.82 R=0.52 F1=0.64 (TP=14 FP=3 FN=13)\n",
      "\n",
      "Document: file:/C:/Users/mnavas/CASE%20OF%20RESIN%20v.%20RUSSIA.docx\n",
      "event_type: P=1.00 R=1.00 F1=1.00 (TP=2 FP=0 FN=0)\n",
      "event_who: P=0.33 R=0.29 F1=0.31 (TP=2 FP=4 FN=5)\n",
      "event_what: P=0.00 R=0.00 F1=0.00 (TP=0 FP=21 FN=15)\n",
      "event_when: P=0.36 R=0.31 F1=0.33 (TP=4 FP=7 FN=9)\n",
      "\n",
      "Document: file:/C:/Users/mnavas/CASE%20OF%20S.N.%20v.%20RUSSIA.docx\n",
      "event_type: P=1.00 R=1.00 F1=1.00 (TP=2 FP=0 FN=0)\n",
      "event_who: P=0.61 R=0.37 F1=0.46 (TP=11 FP=7 FN=19)\n",
      "event_what: P=0.00 R=0.00 F1=0.00 (TP=0 FP=24 FN=35)\n",
      "event_when: P=0.00 R=0.00 F1=0.00 (TP=0 FP=18 FN=41)\n",
      "\n",
      "Document: file:/C:/Users/mnavas/CASE%20OF%20S.V.%20v.%20ITALY.docx\n",
      "event_type: P=1.00 R=1.00 F1=1.00 (TP=2 FP=0 FN=0)\n",
      "event_who: P=0.18 R=0.20 F1=0.19 (TP=2 FP=9 FN=8)\n",
      "event_what: P=0.17 R=0.12 F1=0.14 (TP=2 FP=10 FN=15)\n",
      "event_when: P=0.36 R=0.31 F1=0.33 (TP=4 FP=7 FN=9)\n",
      "\n",
      "Document: file:/C:/Users/mnavas/CASE%20OF%20SHVIDKIYE%20v.%20RUSSIA.docx\n",
      "event_type: P=1.00 R=1.00 F1=1.00 (TP=2 FP=0 FN=0)\n",
      "event_who: P=0.50 R=0.33 F1=0.40 (TP=5 FP=5 FN=10)\n",
      "event_what: P=0.05 R=0.05 F1=0.05 (TP=1 FP=19 FN=21)\n",
      "event_when: P=0.62 R=0.50 F1=0.56 (TP=10 FP=6 FN=10)\n",
      "\n",
      "Document: file:/C:/Users/mnavas/CASE%20OF%20SIDOROVA%20v.%20RUSSIA.docx\n",
      "event_type: P=1.00 R=1.00 F1=1.00 (TP=2 FP=0 FN=0)\n",
      "event_who: P=0.80 R=0.73 F1=0.76 (TP=8 FP=2 FN=3)\n",
      "event_what: P=0.00 R=0.00 F1=0.00 (TP=0 FP=16 FN=13)\n",
      "event_when: P=0.21 R=0.23 F1=0.22 (TP=3 FP=11 FN=10)\n",
      "\n",
      "Document: file:/C:/Users/mnavas/CASE%20OF%20SOLCAN%20v.%20ROMANIA.docx\n",
      "event_type: P=1.00 R=1.00 F1=1.00 (TP=2 FP=0 FN=0)\n",
      "event_who: P=0.33 R=0.33 F1=0.33 (TP=3 FP=6 FN=6)\n",
      "event_what: P=0.21 R=0.23 F1=0.22 (TP=3 FP=11 FN=10)\n",
      "event_when: P=0.44 R=0.36 F1=0.40 (TP=4 FP=5 FN=7)\n",
      "\n",
      "Document: file:/C:/Users/mnavas/CASE%20OF%20STANA%20v.%20ROMANIA.docx\n",
      "event_type: P=1.00 R=1.00 F1=1.00 (TP=2 FP=0 FN=0)\n",
      "event_who: P=0.33 R=0.40 F1=0.36 (TP=2 FP=4 FN=3)\n",
      "event_what: P=0.14 R=0.33 F1=0.20 (TP=2 FP=12 FN=4)\n",
      "event_when: P=0.38 R=0.75 F1=0.50 (TP=3 FP=5 FN=1)\n",
      "\n",
      "Document: file:/C:/Users/mnavas/CASE%20OF%20VISY%20v.%20SLOVAKIA.docx\n",
      "event_type: P=1.00 R=1.00 F1=1.00 (TP=2 FP=0 FN=0)\n",
      "event_who: P=0.40 R=0.40 F1=0.40 (TP=4 FP=6 FN=6)\n",
      "event_what: P=0.06 R=0.07 F1=0.06 (TP=1 FP=17 FN=14)\n",
      "event_when: P=0.50 R=0.45 F1=0.48 (TP=5 FP=5 FN=6)\n",
      "\n",
      "Document: file:/C:/Users/mnavas/CASE%20OF%20YAKUSHEV%20v.%20UKRAINE.docx\n",
      "event_type: P=1.00 R=1.00 F1=1.00 (TP=2 FP=0 FN=0)\n",
      "event_who: P=0.50 R=0.56 F1=0.53 (TP=5 FP=5 FN=4)\n",
      "event_what: P=0.14 R=0.18 F1=0.16 (TP=2 FP=12 FN=9)\n",
      "event_when: P=0.44 R=0.40 F1=0.42 (TP=4 FP=5 FN=6)\n",
      "\n",
      "Document: file:/C:/Users/mnavas/CASE%20OF%20YERMAKOVICH%20v.%20RUSSIA.docx\n",
      "event_type: P=1.00 R=1.00 F1=1.00 (TP=2 FP=0 FN=0)\n",
      "event_who: P=0.60 R=0.26 F1=0.36 (TP=6 FP=4 FN=17)\n",
      "event_what: P=0.38 R=0.23 F1=0.29 (TP=6 FP=10 FN=20)\n",
      "event_when: P=0.10 R=0.04 F1=0.05 (TP=1 FP=9 FN=27)\n",
      "\n",
      "Document: file:/C:/Users/mnavas/CASE%20OF%20YEVGENIY%20ZAKHAROV%20v.%20RUSSIA.docx\n",
      "event_type: P=1.00 R=1.00 F1=1.00 (TP=2 FP=0 FN=0)\n",
      "event_who: P=0.45 R=0.42 F1=0.43 (TP=5 FP=6 FN=7)\n",
      "event_what: P=0.11 R=0.12 F1=0.11 (TP=2 FP=16 FN=15)\n",
      "event_when: P=0.40 R=0.36 F1=0.38 (TP=4 FP=6 FN=7)\n"
     ]
    },
    {
     "data": {
      "application/vnd.plotly.v1+json": {
       "config": {
        "plotlyServerURL": "https://plot.ly"
       },
       "data": [
        {
         "alignmentgroup": "True",
         "hovertemplate": "Metric=precision<br>Field=%{x}<br>Score=%{y}<extra></extra>",
         "legendgroup": "precision",
         "marker": {
          "color": "#636efa",
          "pattern": {
           "shape": ""
          }
         },
         "name": "precision",
         "offsetgroup": "precision",
         "orientation": "v",
         "showlegend": true,
         "textposition": "auto",
         "texttemplate": "%{y:.2f}",
         "type": "bar",
         "x": [
          "event_type",
          "event_what",
          "event_when",
          "event_who"
         ],
         "xaxis": "x",
         "y": {
          "bdata": "zczMzMzM7D8H1FsfCPO7P5EtqlwnXt8/JicB51sH2z8=",
          "dtype": "f8"
         },
         "yaxis": "y"
        },
        {
         "alignmentgroup": "True",
         "hovertemplate": "Metric=recall<br>Field=%{x}<br>Score=%{y}<extra></extra>",
         "legendgroup": "recall",
         "marker": {
          "color": "#EF553B",
          "pattern": {
           "shape": ""
          }
         },
         "name": "recall",
         "offsetgroup": "recall",
         "orientation": "v",
         "showlegend": true,
         "textposition": "auto",
         "texttemplate": "%{y:.2f}",
         "type": "bar",
         "x": [
          "event_type",
          "event_what",
          "event_when",
          "event_who"
         ],
         "xaxis": "x",
         "y": {
          "bdata": "zczMzMzM7D9M3A5Em7q+Pxwttqujhdk/2os1bTgj2D8=",
          "dtype": "f8"
         },
         "yaxis": "y"
        },
        {
         "alignmentgroup": "True",
         "hovertemplate": "Metric=f1<br>Field=%{x}<br>Score=%{y}<extra></extra>",
         "legendgroup": "f1",
         "marker": {
          "color": "#00cc96",
          "pattern": {
           "shape": ""
          }
         },
         "name": "f1",
         "offsetgroup": "f1",
         "orientation": "v",
         "showlegend": true,
         "textposition": "auto",
         "texttemplate": "%{y:.2f}",
         "type": "bar",
         "x": [
          "event_type",
          "event_what",
          "event_when",
          "event_who"
         ],
         "xaxis": "x",
         "y": {
          "bdata": "zczMzMzM7D+PJwdB43e7P+7YttlrEto/Fd1dOieV2D8=",
          "dtype": "f8"
         },
         "yaxis": "y"
        }
       ],
       "layout": {
        "barmode": "group",
        "legend": {
         "title": {
          "text": "Metric"
         },
         "tracegroupgap": 0
        },
        "template": {
         "data": {
          "bar": [
           {
            "error_x": {
             "color": "#2a3f5f"
            },
            "error_y": {
             "color": "#2a3f5f"
            },
            "marker": {
             "line": {
              "color": "#E5ECF6",
              "width": 0.5
             },
             "pattern": {
              "fillmode": "overlay",
              "size": 10,
              "solidity": 0.2
             }
            },
            "type": "bar"
           }
          ],
          "barpolar": [
           {
            "marker": {
             "line": {
              "color": "#E5ECF6",
              "width": 0.5
             },
             "pattern": {
              "fillmode": "overlay",
              "size": 10,
              "solidity": 0.2
             }
            },
            "type": "barpolar"
           }
          ],
          "carpet": [
           {
            "aaxis": {
             "endlinecolor": "#2a3f5f",
             "gridcolor": "white",
             "linecolor": "white",
             "minorgridcolor": "white",
             "startlinecolor": "#2a3f5f"
            },
            "baxis": {
             "endlinecolor": "#2a3f5f",
             "gridcolor": "white",
             "linecolor": "white",
             "minorgridcolor": "white",
             "startlinecolor": "#2a3f5f"
            },
            "type": "carpet"
           }
          ],
          "choropleth": [
           {
            "colorbar": {
             "outlinewidth": 0,
             "ticks": ""
            },
            "type": "choropleth"
           }
          ],
          "contour": [
           {
            "colorbar": {
             "outlinewidth": 0,
             "ticks": ""
            },
            "colorscale": [
             [
              0,
              "#0d0887"
             ],
             [
              0.1111111111111111,
              "#46039f"
             ],
             [
              0.2222222222222222,
              "#7201a8"
             ],
             [
              0.3333333333333333,
              "#9c179e"
             ],
             [
              0.4444444444444444,
              "#bd3786"
             ],
             [
              0.5555555555555556,
              "#d8576b"
             ],
             [
              0.6666666666666666,
              "#ed7953"
             ],
             [
              0.7777777777777778,
              "#fb9f3a"
             ],
             [
              0.8888888888888888,
              "#fdca26"
             ],
             [
              1,
              "#f0f921"
             ]
            ],
            "type": "contour"
           }
          ],
          "contourcarpet": [
           {
            "colorbar": {
             "outlinewidth": 0,
             "ticks": ""
            },
            "type": "contourcarpet"
           }
          ],
          "heatmap": [
           {
            "colorbar": {
             "outlinewidth": 0,
             "ticks": ""
            },
            "colorscale": [
             [
              0,
              "#0d0887"
             ],
             [
              0.1111111111111111,
              "#46039f"
             ],
             [
              0.2222222222222222,
              "#7201a8"
             ],
             [
              0.3333333333333333,
              "#9c179e"
             ],
             [
              0.4444444444444444,
              "#bd3786"
             ],
             [
              0.5555555555555556,
              "#d8576b"
             ],
             [
              0.6666666666666666,
              "#ed7953"
             ],
             [
              0.7777777777777778,
              "#fb9f3a"
             ],
             [
              0.8888888888888888,
              "#fdca26"
             ],
             [
              1,
              "#f0f921"
             ]
            ],
            "type": "heatmap"
           }
          ],
          "histogram": [
           {
            "marker": {
             "pattern": {
              "fillmode": "overlay",
              "size": 10,
              "solidity": 0.2
             }
            },
            "type": "histogram"
           }
          ],
          "histogram2d": [
           {
            "colorbar": {
             "outlinewidth": 0,
             "ticks": ""
            },
            "colorscale": [
             [
              0,
              "#0d0887"
             ],
             [
              0.1111111111111111,
              "#46039f"
             ],
             [
              0.2222222222222222,
              "#7201a8"
             ],
             [
              0.3333333333333333,
              "#9c179e"
             ],
             [
              0.4444444444444444,
              "#bd3786"
             ],
             [
              0.5555555555555556,
              "#d8576b"
             ],
             [
              0.6666666666666666,
              "#ed7953"
             ],
             [
              0.7777777777777778,
              "#fb9f3a"
             ],
             [
              0.8888888888888888,
              "#fdca26"
             ],
             [
              1,
              "#f0f921"
             ]
            ],
            "type": "histogram2d"
           }
          ],
          "histogram2dcontour": [
           {
            "colorbar": {
             "outlinewidth": 0,
             "ticks": ""
            },
            "colorscale": [
             [
              0,
              "#0d0887"
             ],
             [
              0.1111111111111111,
              "#46039f"
             ],
             [
              0.2222222222222222,
              "#7201a8"
             ],
             [
              0.3333333333333333,
              "#9c179e"
             ],
             [
              0.4444444444444444,
              "#bd3786"
             ],
             [
              0.5555555555555556,
              "#d8576b"
             ],
             [
              0.6666666666666666,
              "#ed7953"
             ],
             [
              0.7777777777777778,
              "#fb9f3a"
             ],
             [
              0.8888888888888888,
              "#fdca26"
             ],
             [
              1,
              "#f0f921"
             ]
            ],
            "type": "histogram2dcontour"
           }
          ],
          "mesh3d": [
           {
            "colorbar": {
             "outlinewidth": 0,
             "ticks": ""
            },
            "type": "mesh3d"
           }
          ],
          "parcoords": [
           {
            "line": {
             "colorbar": {
              "outlinewidth": 0,
              "ticks": ""
             }
            },
            "type": "parcoords"
           }
          ],
          "pie": [
           {
            "automargin": true,
            "type": "pie"
           }
          ],
          "scatter": [
           {
            "fillpattern": {
             "fillmode": "overlay",
             "size": 10,
             "solidity": 0.2
            },
            "type": "scatter"
           }
          ],
          "scatter3d": [
           {
            "line": {
             "colorbar": {
              "outlinewidth": 0,
              "ticks": ""
             }
            },
            "marker": {
             "colorbar": {
              "outlinewidth": 0,
              "ticks": ""
             }
            },
            "type": "scatter3d"
           }
          ],
          "scattercarpet": [
           {
            "marker": {
             "colorbar": {
              "outlinewidth": 0,
              "ticks": ""
             }
            },
            "type": "scattercarpet"
           }
          ],
          "scattergeo": [
           {
            "marker": {
             "colorbar": {
              "outlinewidth": 0,
              "ticks": ""
             }
            },
            "type": "scattergeo"
           }
          ],
          "scattergl": [
           {
            "marker": {
             "colorbar": {
              "outlinewidth": 0,
              "ticks": ""
             }
            },
            "type": "scattergl"
           }
          ],
          "scattermap": [
           {
            "marker": {
             "colorbar": {
              "outlinewidth": 0,
              "ticks": ""
             }
            },
            "type": "scattermap"
           }
          ],
          "scattermapbox": [
           {
            "marker": {
             "colorbar": {
              "outlinewidth": 0,
              "ticks": ""
             }
            },
            "type": "scattermapbox"
           }
          ],
          "scatterpolar": [
           {
            "marker": {
             "colorbar": {
              "outlinewidth": 0,
              "ticks": ""
             }
            },
            "type": "scatterpolar"
           }
          ],
          "scatterpolargl": [
           {
            "marker": {
             "colorbar": {
              "outlinewidth": 0,
              "ticks": ""
             }
            },
            "type": "scatterpolargl"
           }
          ],
          "scatterternary": [
           {
            "marker": {
             "colorbar": {
              "outlinewidth": 0,
              "ticks": ""
             }
            },
            "type": "scatterternary"
           }
          ],
          "surface": [
           {
            "colorbar": {
             "outlinewidth": 0,
             "ticks": ""
            },
            "colorscale": [
             [
              0,
              "#0d0887"
             ],
             [
              0.1111111111111111,
              "#46039f"
             ],
             [
              0.2222222222222222,
              "#7201a8"
             ],
             [
              0.3333333333333333,
              "#9c179e"
             ],
             [
              0.4444444444444444,
              "#bd3786"
             ],
             [
              0.5555555555555556,
              "#d8576b"
             ],
             [
              0.6666666666666666,
              "#ed7953"
             ],
             [
              0.7777777777777778,
              "#fb9f3a"
             ],
             [
              0.8888888888888888,
              "#fdca26"
             ],
             [
              1,
              "#f0f921"
             ]
            ],
            "type": "surface"
           }
          ],
          "table": [
           {
            "cells": {
             "fill": {
              "color": "#EBF0F8"
             },
             "line": {
              "color": "white"
             }
            },
            "header": {
             "fill": {
              "color": "#C8D4E3"
             },
             "line": {
              "color": "white"
             }
            },
            "type": "table"
           }
          ]
         },
         "layout": {
          "annotationdefaults": {
           "arrowcolor": "#2a3f5f",
           "arrowhead": 0,
           "arrowwidth": 1
          },
          "autotypenumbers": "strict",
          "coloraxis": {
           "colorbar": {
            "outlinewidth": 0,
            "ticks": ""
           }
          },
          "colorscale": {
           "diverging": [
            [
             0,
             "#8e0152"
            ],
            [
             0.1,
             "#c51b7d"
            ],
            [
             0.2,
             "#de77ae"
            ],
            [
             0.3,
             "#f1b6da"
            ],
            [
             0.4,
             "#fde0ef"
            ],
            [
             0.5,
             "#f7f7f7"
            ],
            [
             0.6,
             "#e6f5d0"
            ],
            [
             0.7,
             "#b8e186"
            ],
            [
             0.8,
             "#7fbc41"
            ],
            [
             0.9,
             "#4d9221"
            ],
            [
             1,
             "#276419"
            ]
           ],
           "sequential": [
            [
             0,
             "#0d0887"
            ],
            [
             0.1111111111111111,
             "#46039f"
            ],
            [
             0.2222222222222222,
             "#7201a8"
            ],
            [
             0.3333333333333333,
             "#9c179e"
            ],
            [
             0.4444444444444444,
             "#bd3786"
            ],
            [
             0.5555555555555556,
             "#d8576b"
            ],
            [
             0.6666666666666666,
             "#ed7953"
            ],
            [
             0.7777777777777778,
             "#fb9f3a"
            ],
            [
             0.8888888888888888,
             "#fdca26"
            ],
            [
             1,
             "#f0f921"
            ]
           ],
           "sequentialminus": [
            [
             0,
             "#0d0887"
            ],
            [
             0.1111111111111111,
             "#46039f"
            ],
            [
             0.2222222222222222,
             "#7201a8"
            ],
            [
             0.3333333333333333,
             "#9c179e"
            ],
            [
             0.4444444444444444,
             "#bd3786"
            ],
            [
             0.5555555555555556,
             "#d8576b"
            ],
            [
             0.6666666666666666,
             "#ed7953"
            ],
            [
             0.7777777777777778,
             "#fb9f3a"
            ],
            [
             0.8888888888888888,
             "#fdca26"
            ],
            [
             1,
             "#f0f921"
            ]
           ]
          },
          "colorway": [
           "#636efa",
           "#EF553B",
           "#00cc96",
           "#ab63fa",
           "#FFA15A",
           "#19d3f3",
           "#FF6692",
           "#B6E880",
           "#FF97FF",
           "#FECB52"
          ],
          "font": {
           "color": "#2a3f5f"
          },
          "geo": {
           "bgcolor": "white",
           "lakecolor": "white",
           "landcolor": "#E5ECF6",
           "showlakes": true,
           "showland": true,
           "subunitcolor": "white"
          },
          "hoverlabel": {
           "align": "left"
          },
          "hovermode": "closest",
          "mapbox": {
           "style": "light"
          },
          "paper_bgcolor": "white",
          "plot_bgcolor": "#E5ECF6",
          "polar": {
           "angularaxis": {
            "gridcolor": "white",
            "linecolor": "white",
            "ticks": ""
           },
           "bgcolor": "#E5ECF6",
           "radialaxis": {
            "gridcolor": "white",
            "linecolor": "white",
            "ticks": ""
           }
          },
          "scene": {
           "xaxis": {
            "backgroundcolor": "#E5ECF6",
            "gridcolor": "white",
            "gridwidth": 2,
            "linecolor": "white",
            "showbackground": true,
            "ticks": "",
            "zerolinecolor": "white"
           },
           "yaxis": {
            "backgroundcolor": "#E5ECF6",
            "gridcolor": "white",
            "gridwidth": 2,
            "linecolor": "white",
            "showbackground": true,
            "ticks": "",
            "zerolinecolor": "white"
           },
           "zaxis": {
            "backgroundcolor": "#E5ECF6",
            "gridcolor": "white",
            "gridwidth": 2,
            "linecolor": "white",
            "showbackground": true,
            "ticks": "",
            "zerolinecolor": "white"
           }
          },
          "shapedefaults": {
           "line": {
            "color": "#2a3f5f"
           }
          },
          "ternary": {
           "aaxis": {
            "gridcolor": "white",
            "linecolor": "white",
            "ticks": ""
           },
           "baxis": {
            "gridcolor": "white",
            "linecolor": "white",
            "ticks": ""
           },
           "bgcolor": "#E5ECF6",
           "caxis": {
            "gridcolor": "white",
            "linecolor": "white",
            "ticks": ""
           }
          },
          "title": {
           "x": 0.05
          },
          "xaxis": {
           "automargin": true,
           "gridcolor": "white",
           "linecolor": "white",
           "ticks": "",
           "title": {
            "standoff": 15
           },
           "zerolinecolor": "white",
           "zerolinewidth": 2
          },
          "yaxis": {
           "automargin": true,
           "gridcolor": "white",
           "linecolor": "white",
           "ticks": "",
           "title": {
            "standoff": 15
           },
           "zerolinecolor": "white",
           "zerolinewidth": 2
          }
         }
        },
        "title": {
         "text": "Average Precision, Recall, F1 per Field"
        },
        "xaxis": {
         "anchor": "y",
         "domain": [
          0,
          1
         ],
         "title": {
          "text": "Field"
         }
        },
        "yaxis": {
         "anchor": "x",
         "domain": [
          0,
          1
         ],
         "range": [
          0,
          1
         ],
         "title": {
          "text": "Score"
         }
        }
       }
      }
     },
     "metadata": {},
     "output_type": "display_data"
    },
    {
     "data": {
      "application/vnd.plotly.v1+json": {
       "config": {
        "plotlyServerURL": "https://plot.ly"
       },
       "data": [
        {
         "colorbar": {
          "title": {
           "text": "F1 Score"
          }
         },
         "colorscale": [
          [
           0,
           "rgb(255,255,217)"
          ],
          [
           0.125,
           "rgb(237,248,177)"
          ],
          [
           0.25,
           "rgb(199,233,180)"
          ],
          [
           0.375,
           "rgb(127,205,187)"
          ],
          [
           0.5,
           "rgb(65,182,196)"
          ],
          [
           0.625,
           "rgb(29,145,192)"
          ],
          [
           0.75,
           "rgb(34,94,168)"
          ],
          [
           0.875,
           "rgb(37,52,148)"
          ],
          [
           1,
           "rgb(8,29,88)"
          ]
         ],
         "hovertemplate": "Document: %{y}<br>Field: %{x}<br>F1: %{z:.2f}<extra></extra>",
         "text": [
          [
           "1.0",
           "0.18",
           "0.58",
           "0.78"
          ],
          [
           "1.0",
           "0.1",
           "0.17",
           "0.3"
          ],
          [
           "1.0",
           "0.13",
           "0.42",
           "0.38"
          ],
          [
           "0.0",
           "0.09",
           "0.23",
           "0.0"
          ],
          [
           "1.0",
           "0.17",
           "0.79",
           "0.6"
          ],
          [
           "1.0",
           "0.27",
           "0.47",
           "0.62"
          ],
          [
           "1.0",
           "0.11",
           "0.59",
           "0.32"
          ],
          [
           "1.0",
           "0.08",
           "0.4",
           "0.53"
          ],
          [
           "0.0",
           "0.0",
           "0.07",
           "0.0"
          ],
          [
           "0.0",
           "0.0",
           "0.15",
           "0.38"
          ],
          [
           "1.0",
           "0.21",
           "0.58",
           "0.5"
          ],
          [
           "1.0",
           "0.11",
           "0.62",
           "0.5"
          ],
          [
           "1.0",
           "0.0",
           "0.6",
           "0.57"
          ],
          [
           "1.0",
           "0.0",
           "0.17",
           "0.0"
          ],
          [
           "1.0",
           "0.09",
           "0.44",
           "0.14"
          ],
          [
           "1.0",
           "0.11",
           "0.7",
           "0.13"
          ],
          [
           "1.0",
           "0.04",
           "0.64",
           "0.0"
          ],
          [
           "1.0",
           "0.0",
           "0.33",
           "0.31"
          ],
          [
           "1.0",
           "0.0",
           "0.0",
           "0.46"
          ],
          [
           "1.0",
           "0.14",
           "0.33",
           "0.19"
          ],
          [
           "1.0",
           "0.05",
           "0.56",
           "0.4"
          ],
          [
           "1.0",
           "0.0",
           "0.22",
           "0.76"
          ],
          [
           "1.0",
           "0.22",
           "0.4",
           "0.33"
          ],
          [
           "1.0",
           "0.2",
           "0.5",
           "0.36"
          ],
          [
           "1.0",
           "0.06",
           "0.48",
           "0.4"
          ],
          [
           "1.0",
           "0.16",
           "0.42",
           "0.53"
          ],
          [
           "1.0",
           "0.29",
           "0.05",
           "0.36"
          ],
          [
           "1.0",
           "0.11",
           "0.38",
           "0.43"
          ],
          [
           "1.0",
           "0.08",
           "0.35",
           "0.62"
          ],
          [
           "1.0",
           "0.22",
           "0.6",
           "0.64"
          ]
         ],
         "type": "heatmap",
         "x": [
          "event_type",
          "event_what",
          "event_when",
          "event_who"
         ],
         "y": [
          "file:/C:/Users/mnavas/CASE%20OF%20ALTAY%20v.%20TURKEY%20(No.%202).docx",
          "file:/C:/Users/mnavas/CASE%20OF%20BELYAYEV%20AND%20OTHERS%20v.%20UKRAINE.docx",
          "file:/C:/Users/mnavas/CASE%20OF%20BIGUN%20v.%20UKRAINE.docx",
          "file:/C:/Users/mnavas/CASE%20OF%20CABUCAK%20v.%20GERMANY.docx",
          "file:/C:/Users/mnavas/CASE%20OF%20CAN%20v.%20TURKEY.docx",
          "file:/C:/Users/mnavas/CASE%20OF%20CRISTIAN%20CATALIN%20UNGUREANU%20v.%20ROMANIA.docx",
          "file:/C:/Users/mnavas/CASE%20OF%20DOKTOROV%20v.%20BULGARIA.docx",
          "file:/C:/Users/mnavas/CASE%20OF%20EGILL%20EINARSSON%20v.%20ICELAND%20(No.%202).docx",
          "file:/C:/Users/mnavas/CASE%20OF%20H_INESS%20v.%20NORWAY%20(1).docx",
          "file:/C:/Users/mnavas/CASE%20OF%20KOSAITE%20-%20CYPIENE%20AND%20OTHERS%20v.%20LITHUANIA.docx",
          "file:/C:/Users/mnavas/CASE%20OF%20LOZOVYYE%20v.%20RUSSIA.docx",
          "file:/C:/Users/mnavas/CASE%20OF%20M.T.%20v.%20UKRAINE.docx",
          "file:/C:/Users/mnavas/CASE%20OF%20MOSKALEV%20v.%20RUSSIA.docx",
          "file:/C:/Users/mnavas/CASE%20OF%20MURUZHEVA%20v.%20RUSSIA.docx",
          "file:/C:/Users/mnavas/CASE%20OF%20O.C.I.%20AND%20OTHERS%20v.%20ROMANIA.docx",
          "file:/C:/Users/mnavas/CASE%20OF%20PAKHTUSOV%20v.%20RUSSIA.docx",
          "file:/C:/Users/mnavas/CASE%20OF%20PANYUSHKINY%20v.%20RUSSIA.docx",
          "file:/C:/Users/mnavas/CASE%20OF%20RESIN%20v.%20RUSSIA.docx",
          "file:/C:/Users/mnavas/CASE%20OF%20S.N.%20v.%20RUSSIA.docx",
          "file:/C:/Users/mnavas/CASE%20OF%20S.V.%20v.%20ITALY.docx",
          "file:/C:/Users/mnavas/CASE%20OF%20SHVIDKIYE%20v.%20RUSSIA.docx",
          "file:/C:/Users/mnavas/CASE%20OF%20SIDOROVA%20v.%20RUSSIA.docx",
          "file:/C:/Users/mnavas/CASE%20OF%20SOLCAN%20v.%20ROMANIA.docx",
          "file:/C:/Users/mnavas/CASE%20OF%20STANA%20v.%20ROMANIA.docx",
          "file:/C:/Users/mnavas/CASE%20OF%20VISY%20v.%20SLOVAKIA.docx",
          "file:/C:/Users/mnavas/CASE%20OF%20YAKUSHEV%20v.%20UKRAINE.docx",
          "file:/C:/Users/mnavas/CASE%20OF%20YERMAKOVICH%20v.%20RUSSIA.docx",
          "file:/C:/Users/mnavas/CASE%20OF%20YEVGENIY%20ZAKHAROV%20v.%20RUSSIA.docx",
          "file:/C:/Users/mnavas/CASE%20OF%20_NODI%20v.%20HUNGARY.docx",
          "file:/C:/Users/mnavas/Desktop/CASE%20OF%20OTGON%20v.%20THE%20REPUBLIC%20OF%20MOLDOVA.docx"
         ],
         "z": {
          "bdata": "AAAAAAAA8D9FF1100UXHP5VSSimllOI/OI7jOI7j6D8AAAAAAADwPxiGYRiGYbg/VVVVVVVVxT8zMzMzMzPTPwAAAAAAAPA/ERERERERwT+rqqqqqqraPwAAAAAAANg/AAAAAAAAAABXEJMriMm1PxdddNFFF80/AAAAAAAAAAAAAAAAAADwPxZf8RVf8cU/SZIkSZIk6T8zMzMzMzPjPwAAAAAAAPA/dNFFF1100T8eHh4eHh7ePxM7sRM7seM/AAAAAAAA8D8c1EEd1EG9P9PS0tLS0uI/exSuR+F61D8AAAAAAADwPxM7sRM7sbM/mpmZmZmZ2T95DeU1lNfgPwAAAAAAAAAAAAAAAAAAAACSJEmSJEmyPwAAAAAAAAAAAAAAAAAAAAAAAAAAAAAAALsStStRu8I/dYMp8lk32D8AAAAAAADwPxqkQRqkQco/lFJKKaWU4j8AAAAAAADgPwAAAAAAAPA/HMdxHMdxvD8TO7ETO7HjPwAAAAAAAOA/AAAAAAAA8D8AAAAAAAAAADMzMzMzM+M/kyRJkiRJ4j8AAAAAAADwPwAAAAAAAAAAZCELWchCxj8AAAAAAAAAAAAAAAAAAPA/9AV9QV/Qtz8AAAAAAADcP5Z7GmG5p8E/AAAAAAAA8D8c1EEd1EG9P2QhC1nIQuY/hBBCCCGEwD8AAAAAAADwPxQ7sRM7saM/XXTRRRdd5D8AAAAAAAAAAAAAAAAAAPA/AAAAAAAAAABWVVVVVVXVPxM7sRM7sdM/AAAAAAAA8D8AAAAAAAAAAAAAAAAAAAAAVFVVVVVV3T8AAAAAAADwP5Z7GmG5p8E/VlVVVVVV1T8ZhmEYhmHIPwAAAAAAAPA/GYZhGIZhqD9yHMdxHMfhP5qZmZmZmdk/AAAAAAAA8D8AAAAAAAAAAB3HcRzHccw/GYZhGIZh6D8AAAAAAADwPx3HcRzHccw/mZmZmZmZ2T9VVVVVVVXVPwAAAAAAAPA/mpmZmZmZyT8AAAAAAADgP0UXXXTRRdc/AAAAAAAA8D8HH3zwwQevP57neZ7ned4/m5mZmZmZ2T8AAAAAAADwP3sUrkfhesQ/Ka+hvIby2j95DeU1lNfgPwAAAAAAAPA/kiRJkiRJ0j8nr6G8hvKqP0YXXXTRRdc/AAAAAAAA8D8d1EEd1EG9PxmGYRiGYdg/velNb3rT2z8AAAAAAADwP8J4K/scUrM/lpaWlpaW1j8TO7ETO7HjPwAAAAAAAPA/HcdxHMdxzD8zMzMzMzPjP1500UUXXeQ/",
          "dtype": "f8",
          "shape": "30, 4"
         },
         "zmax": 1,
         "zmin": 0
        }
       ],
       "layout": {
        "height": 900,
        "template": {
         "data": {
          "bar": [
           {
            "error_x": {
             "color": "#2a3f5f"
            },
            "error_y": {
             "color": "#2a3f5f"
            },
            "marker": {
             "line": {
              "color": "#E5ECF6",
              "width": 0.5
             },
             "pattern": {
              "fillmode": "overlay",
              "size": 10,
              "solidity": 0.2
             }
            },
            "type": "bar"
           }
          ],
          "barpolar": [
           {
            "marker": {
             "line": {
              "color": "#E5ECF6",
              "width": 0.5
             },
             "pattern": {
              "fillmode": "overlay",
              "size": 10,
              "solidity": 0.2
             }
            },
            "type": "barpolar"
           }
          ],
          "carpet": [
           {
            "aaxis": {
             "endlinecolor": "#2a3f5f",
             "gridcolor": "white",
             "linecolor": "white",
             "minorgridcolor": "white",
             "startlinecolor": "#2a3f5f"
            },
            "baxis": {
             "endlinecolor": "#2a3f5f",
             "gridcolor": "white",
             "linecolor": "white",
             "minorgridcolor": "white",
             "startlinecolor": "#2a3f5f"
            },
            "type": "carpet"
           }
          ],
          "choropleth": [
           {
            "colorbar": {
             "outlinewidth": 0,
             "ticks": ""
            },
            "type": "choropleth"
           }
          ],
          "contour": [
           {
            "colorbar": {
             "outlinewidth": 0,
             "ticks": ""
            },
            "colorscale": [
             [
              0,
              "#0d0887"
             ],
             [
              0.1111111111111111,
              "#46039f"
             ],
             [
              0.2222222222222222,
              "#7201a8"
             ],
             [
              0.3333333333333333,
              "#9c179e"
             ],
             [
              0.4444444444444444,
              "#bd3786"
             ],
             [
              0.5555555555555556,
              "#d8576b"
             ],
             [
              0.6666666666666666,
              "#ed7953"
             ],
             [
              0.7777777777777778,
              "#fb9f3a"
             ],
             [
              0.8888888888888888,
              "#fdca26"
             ],
             [
              1,
              "#f0f921"
             ]
            ],
            "type": "contour"
           }
          ],
          "contourcarpet": [
           {
            "colorbar": {
             "outlinewidth": 0,
             "ticks": ""
            },
            "type": "contourcarpet"
           }
          ],
          "heatmap": [
           {
            "colorbar": {
             "outlinewidth": 0,
             "ticks": ""
            },
            "colorscale": [
             [
              0,
              "#0d0887"
             ],
             [
              0.1111111111111111,
              "#46039f"
             ],
             [
              0.2222222222222222,
              "#7201a8"
             ],
             [
              0.3333333333333333,
              "#9c179e"
             ],
             [
              0.4444444444444444,
              "#bd3786"
             ],
             [
              0.5555555555555556,
              "#d8576b"
             ],
             [
              0.6666666666666666,
              "#ed7953"
             ],
             [
              0.7777777777777778,
              "#fb9f3a"
             ],
             [
              0.8888888888888888,
              "#fdca26"
             ],
             [
              1,
              "#f0f921"
             ]
            ],
            "type": "heatmap"
           }
          ],
          "histogram": [
           {
            "marker": {
             "pattern": {
              "fillmode": "overlay",
              "size": 10,
              "solidity": 0.2
             }
            },
            "type": "histogram"
           }
          ],
          "histogram2d": [
           {
            "colorbar": {
             "outlinewidth": 0,
             "ticks": ""
            },
            "colorscale": [
             [
              0,
              "#0d0887"
             ],
             [
              0.1111111111111111,
              "#46039f"
             ],
             [
              0.2222222222222222,
              "#7201a8"
             ],
             [
              0.3333333333333333,
              "#9c179e"
             ],
             [
              0.4444444444444444,
              "#bd3786"
             ],
             [
              0.5555555555555556,
              "#d8576b"
             ],
             [
              0.6666666666666666,
              "#ed7953"
             ],
             [
              0.7777777777777778,
              "#fb9f3a"
             ],
             [
              0.8888888888888888,
              "#fdca26"
             ],
             [
              1,
              "#f0f921"
             ]
            ],
            "type": "histogram2d"
           }
          ],
          "histogram2dcontour": [
           {
            "colorbar": {
             "outlinewidth": 0,
             "ticks": ""
            },
            "colorscale": [
             [
              0,
              "#0d0887"
             ],
             [
              0.1111111111111111,
              "#46039f"
             ],
             [
              0.2222222222222222,
              "#7201a8"
             ],
             [
              0.3333333333333333,
              "#9c179e"
             ],
             [
              0.4444444444444444,
              "#bd3786"
             ],
             [
              0.5555555555555556,
              "#d8576b"
             ],
             [
              0.6666666666666666,
              "#ed7953"
             ],
             [
              0.7777777777777778,
              "#fb9f3a"
             ],
             [
              0.8888888888888888,
              "#fdca26"
             ],
             [
              1,
              "#f0f921"
             ]
            ],
            "type": "histogram2dcontour"
           }
          ],
          "mesh3d": [
           {
            "colorbar": {
             "outlinewidth": 0,
             "ticks": ""
            },
            "type": "mesh3d"
           }
          ],
          "parcoords": [
           {
            "line": {
             "colorbar": {
              "outlinewidth": 0,
              "ticks": ""
             }
            },
            "type": "parcoords"
           }
          ],
          "pie": [
           {
            "automargin": true,
            "type": "pie"
           }
          ],
          "scatter": [
           {
            "fillpattern": {
             "fillmode": "overlay",
             "size": 10,
             "solidity": 0.2
            },
            "type": "scatter"
           }
          ],
          "scatter3d": [
           {
            "line": {
             "colorbar": {
              "outlinewidth": 0,
              "ticks": ""
             }
            },
            "marker": {
             "colorbar": {
              "outlinewidth": 0,
              "ticks": ""
             }
            },
            "type": "scatter3d"
           }
          ],
          "scattercarpet": [
           {
            "marker": {
             "colorbar": {
              "outlinewidth": 0,
              "ticks": ""
             }
            },
            "type": "scattercarpet"
           }
          ],
          "scattergeo": [
           {
            "marker": {
             "colorbar": {
              "outlinewidth": 0,
              "ticks": ""
             }
            },
            "type": "scattergeo"
           }
          ],
          "scattergl": [
           {
            "marker": {
             "colorbar": {
              "outlinewidth": 0,
              "ticks": ""
             }
            },
            "type": "scattergl"
           }
          ],
          "scattermap": [
           {
            "marker": {
             "colorbar": {
              "outlinewidth": 0,
              "ticks": ""
             }
            },
            "type": "scattermap"
           }
          ],
          "scattermapbox": [
           {
            "marker": {
             "colorbar": {
              "outlinewidth": 0,
              "ticks": ""
             }
            },
            "type": "scattermapbox"
           }
          ],
          "scatterpolar": [
           {
            "marker": {
             "colorbar": {
              "outlinewidth": 0,
              "ticks": ""
             }
            },
            "type": "scatterpolar"
           }
          ],
          "scatterpolargl": [
           {
            "marker": {
             "colorbar": {
              "outlinewidth": 0,
              "ticks": ""
             }
            },
            "type": "scatterpolargl"
           }
          ],
          "scatterternary": [
           {
            "marker": {
             "colorbar": {
              "outlinewidth": 0,
              "ticks": ""
             }
            },
            "type": "scatterternary"
           }
          ],
          "surface": [
           {
            "colorbar": {
             "outlinewidth": 0,
             "ticks": ""
            },
            "colorscale": [
             [
              0,
              "#0d0887"
             ],
             [
              0.1111111111111111,
              "#46039f"
             ],
             [
              0.2222222222222222,
              "#7201a8"
             ],
             [
              0.3333333333333333,
              "#9c179e"
             ],
             [
              0.4444444444444444,
              "#bd3786"
             ],
             [
              0.5555555555555556,
              "#d8576b"
             ],
             [
              0.6666666666666666,
              "#ed7953"
             ],
             [
              0.7777777777777778,
              "#fb9f3a"
             ],
             [
              0.8888888888888888,
              "#fdca26"
             ],
             [
              1,
              "#f0f921"
             ]
            ],
            "type": "surface"
           }
          ],
          "table": [
           {
            "cells": {
             "fill": {
              "color": "#EBF0F8"
             },
             "line": {
              "color": "white"
             }
            },
            "header": {
             "fill": {
              "color": "#C8D4E3"
             },
             "line": {
              "color": "white"
             }
            },
            "type": "table"
           }
          ]
         },
         "layout": {
          "annotationdefaults": {
           "arrowcolor": "#2a3f5f",
           "arrowhead": 0,
           "arrowwidth": 1
          },
          "autotypenumbers": "strict",
          "coloraxis": {
           "colorbar": {
            "outlinewidth": 0,
            "ticks": ""
           }
          },
          "colorscale": {
           "diverging": [
            [
             0,
             "#8e0152"
            ],
            [
             0.1,
             "#c51b7d"
            ],
            [
             0.2,
             "#de77ae"
            ],
            [
             0.3,
             "#f1b6da"
            ],
            [
             0.4,
             "#fde0ef"
            ],
            [
             0.5,
             "#f7f7f7"
            ],
            [
             0.6,
             "#e6f5d0"
            ],
            [
             0.7,
             "#b8e186"
            ],
            [
             0.8,
             "#7fbc41"
            ],
            [
             0.9,
             "#4d9221"
            ],
            [
             1,
             "#276419"
            ]
           ],
           "sequential": [
            [
             0,
             "#0d0887"
            ],
            [
             0.1111111111111111,
             "#46039f"
            ],
            [
             0.2222222222222222,
             "#7201a8"
            ],
            [
             0.3333333333333333,
             "#9c179e"
            ],
            [
             0.4444444444444444,
             "#bd3786"
            ],
            [
             0.5555555555555556,
             "#d8576b"
            ],
            [
             0.6666666666666666,
             "#ed7953"
            ],
            [
             0.7777777777777778,
             "#fb9f3a"
            ],
            [
             0.8888888888888888,
             "#fdca26"
            ],
            [
             1,
             "#f0f921"
            ]
           ],
           "sequentialminus": [
            [
             0,
             "#0d0887"
            ],
            [
             0.1111111111111111,
             "#46039f"
            ],
            [
             0.2222222222222222,
             "#7201a8"
            ],
            [
             0.3333333333333333,
             "#9c179e"
            ],
            [
             0.4444444444444444,
             "#bd3786"
            ],
            [
             0.5555555555555556,
             "#d8576b"
            ],
            [
             0.6666666666666666,
             "#ed7953"
            ],
            [
             0.7777777777777778,
             "#fb9f3a"
            ],
            [
             0.8888888888888888,
             "#fdca26"
            ],
            [
             1,
             "#f0f921"
            ]
           ]
          },
          "colorway": [
           "#636efa",
           "#EF553B",
           "#00cc96",
           "#ab63fa",
           "#FFA15A",
           "#19d3f3",
           "#FF6692",
           "#B6E880",
           "#FF97FF",
           "#FECB52"
          ],
          "font": {
           "color": "#2a3f5f"
          },
          "geo": {
           "bgcolor": "white",
           "lakecolor": "white",
           "landcolor": "#E5ECF6",
           "showlakes": true,
           "showland": true,
           "subunitcolor": "white"
          },
          "hoverlabel": {
           "align": "left"
          },
          "hovermode": "closest",
          "mapbox": {
           "style": "light"
          },
          "paper_bgcolor": "white",
          "plot_bgcolor": "#E5ECF6",
          "polar": {
           "angularaxis": {
            "gridcolor": "white",
            "linecolor": "white",
            "ticks": ""
           },
           "bgcolor": "#E5ECF6",
           "radialaxis": {
            "gridcolor": "white",
            "linecolor": "white",
            "ticks": ""
           }
          },
          "scene": {
           "xaxis": {
            "backgroundcolor": "#E5ECF6",
            "gridcolor": "white",
            "gridwidth": 2,
            "linecolor": "white",
            "showbackground": true,
            "ticks": "",
            "zerolinecolor": "white"
           },
           "yaxis": {
            "backgroundcolor": "#E5ECF6",
            "gridcolor": "white",
            "gridwidth": 2,
            "linecolor": "white",
            "showbackground": true,
            "ticks": "",
            "zerolinecolor": "white"
           },
           "zaxis": {
            "backgroundcolor": "#E5ECF6",
            "gridcolor": "white",
            "gridwidth": 2,
            "linecolor": "white",
            "showbackground": true,
            "ticks": "",
            "zerolinecolor": "white"
           }
          },
          "shapedefaults": {
           "line": {
            "color": "#2a3f5f"
           }
          },
          "ternary": {
           "aaxis": {
            "gridcolor": "white",
            "linecolor": "white",
            "ticks": ""
           },
           "baxis": {
            "gridcolor": "white",
            "linecolor": "white",
            "ticks": ""
           },
           "bgcolor": "#E5ECF6",
           "caxis": {
            "gridcolor": "white",
            "linecolor": "white",
            "ticks": ""
           }
          },
          "title": {
           "x": 0.05
          },
          "xaxis": {
           "automargin": true,
           "gridcolor": "white",
           "linecolor": "white",
           "ticks": "",
           "title": {
            "standoff": 15
           },
           "zerolinecolor": "white",
           "zerolinewidth": 2
          },
          "yaxis": {
           "automargin": true,
           "gridcolor": "white",
           "linecolor": "white",
           "ticks": "",
           "title": {
            "standoff": 15
           },
           "zerolinecolor": "white",
           "zerolinewidth": 2
          }
         }
        },
        "title": {
         "text": "F1 Score per Document and Field"
        },
        "xaxis": {
         "title": {
          "text": "Field"
         }
        },
        "yaxis": {
         "title": {
          "text": "Document"
         }
        }
       }
      }
     },
     "metadata": {},
     "output_type": "display_data"
    },
    {
     "name": "stdout",
     "output_type": "stream",
     "text": [
      "\n",
      "=== Evaluation for model: incept5/llama3.1-claude:latest ===\n",
      "\n",
      "Document: file:/C:/Users/mnavas/CASE%20OF%20ALTAY%20v.%20TURKEY%20(No.%202).docx\n",
      "event_type: P=1.00 R=1.00 F1=1.00 (TP=2 FP=0 FN=0)\n",
      "event_who: P=0.67 R=0.60 F1=0.63 (TP=6 FP=3 FN=4)\n",
      "event_what: P=0.33 R=0.24 F1=0.28 (TP=4 FP=8 FN=13)\n",
      "event_when: P=0.83 R=0.79 F1=0.81 (TP=15 FP=3 FN=4)\n",
      "\n",
      "Document: file:/C:/Users/mnavas/CASE%20OF%20BELYAYEV%20AND%20OTHERS%20v.%20UKRAINE.docx\n",
      "event_type: P=0.00 R=0.00 F1=0.00 (TP=0 FP=0 FN=2)\n",
      "event_who: P=0.00 R=0.00 F1=0.00 (TP=0 FP=0 FN=8)\n",
      "event_what: P=0.00 R=0.00 F1=0.00 (TP=0 FP=0 FN=7)\n",
      "event_when: P=0.00 R=0.00 F1=0.00 (TP=0 FP=0 FN=6)\n",
      "\n",
      "Document: file:/C:/Users/mnavas/CASE%20OF%20BIGUN%20v.%20UKRAINE.docx\n",
      "event_type: P=1.00 R=1.00 F1=1.00 (TP=2 FP=0 FN=0)\n",
      "event_who: P=0.00 R=0.00 F1=0.00 (TP=0 FP=8 FN=8)\n",
      "event_what: P=0.05 R=0.08 F1=0.06 (TP=1 FP=19 FN=12)\n",
      "event_when: P=0.57 R=0.33 F1=0.42 (TP=4 FP=3 FN=8)\n",
      "\n",
      "Document: file:/C:/Users/mnavas/CASE%20OF%20CABUCAK%20v.%20GERMANY.docx\n",
      "event_type: P=0.50 R=0.50 F1=0.50 (TP=1 FP=1 FN=1)\n",
      "event_who: P=0.00 R=0.00 F1=0.00 (TP=0 FP=7 FN=25)\n",
      "event_what: P=0.19 R=0.07 F1=0.11 (TP=3 FP=13 FN=37)\n",
      "event_when: P=0.86 R=0.16 F1=0.27 (TP=6 FP=1 FN=32)\n",
      "\n",
      "Document: file:/C:/Users/mnavas/CASE%20OF%20CAN%20v.%20TURKEY.docx\n",
      "event_type: P=1.00 R=1.00 F1=1.00 (TP=2 FP=0 FN=0)\n",
      "event_who: P=0.62 R=0.50 F1=0.56 (TP=5 FP=3 FN=5)\n",
      "event_what: P=0.13 R=0.13 F1=0.13 (TP=2 FP=13 FN=13)\n",
      "event_when: P=0.79 R=0.79 F1=0.79 (TP=11 FP=3 FN=3)\n",
      "\n",
      "Document: file:/C:/Users/mnavas/CASE%20OF%20CRISTIAN%20CATALIN%20UNGUREANU%20v.%20ROMANIA.docx\n",
      "event_type: P=1.00 R=1.00 F1=1.00 (TP=2 FP=0 FN=0)\n",
      "event_who: P=0.00 R=0.00 F1=0.00 (TP=0 FP=7 FN=17)\n",
      "event_what: P=0.31 R=0.20 F1=0.24 (TP=4 FP=9 FN=16)\n",
      "event_when: P=0.50 R=0.39 F1=0.44 (TP=7 FP=7 FN=11)\n",
      "\n",
      "Document: file:/C:/Users/mnavas/CASE%20OF%20DOKTOROV%20v.%20BULGARIA.docx\n",
      "event_type: P=1.00 R=1.00 F1=1.00 (TP=2 FP=0 FN=0)\n",
      "event_who: P=0.00 R=0.00 F1=0.00 (TP=0 FP=10 FN=7)\n",
      "event_what: P=0.12 R=0.25 F1=0.17 (TP=3 FP=21 FN=9)\n",
      "event_when: P=0.56 R=0.62 F1=0.59 (TP=5 FP=4 FN=3)\n",
      "\n",
      "Document: file:/C:/Users/mnavas/CASE%20OF%20EGILL%20EINARSSON%20v.%20ICELAND%20(No.%202).docx\n",
      "event_type: P=1.00 R=1.00 F1=1.00 (TP=2 FP=0 FN=0)\n",
      "event_who: P=0.71 R=0.42 F1=0.53 (TP=5 FP=2 FN=7)\n",
      "event_what: P=0.00 R=0.00 F1=0.00 (TP=0 FP=7 FN=14)\n",
      "event_when: P=0.71 R=0.42 F1=0.53 (TP=5 FP=2 FN=7)\n",
      "\n",
      "Document: file:/C:/Users/mnavas/CASE%20OF%20H_INESS%20v.%20NORWAY%20(1).docx\n",
      "event_type: P=0.00 R=0.00 F1=0.00 (TP=0 FP=1 FN=2)\n",
      "event_who: P=0.00 R=0.00 F1=0.00 (TP=0 FP=3 FN=23)\n",
      "event_what: P=0.00 R=0.00 F1=0.00 (TP=0 FP=5 FN=30)\n",
      "event_when: P=0.00 R=0.00 F1=0.00 (TP=0 FP=3 FN=27)\n",
      "\n",
      "Document: file:/C:/Users/mnavas/CASE%20OF%20KOSAITE%20-%20CYPIENE%20AND%20OTHERS%20v.%20LITHUANIA.docx\n",
      "event_type: P=0.00 R=0.00 F1=0.00 (TP=0 FP=3 FN=2)\n",
      "event_who: P=0.00 R=0.00 F1=0.00 (TP=0 FP=2 FN=27)\n",
      "event_what: P=0.00 R=0.00 F1=0.00 (TP=0 FP=3 FN=33)\n",
      "event_when: P=0.00 R=0.00 F1=0.00 (TP=0 FP=2 FN=31)\n",
      "\n",
      "Document: file:/C:/Users/mnavas/CASE%20OF%20LOZOVYYE%20v.%20RUSSIA.docx\n",
      "event_type: P=1.00 R=1.00 F1=1.00 (TP=2 FP=0 FN=0)\n",
      "event_who: P=0.33 R=0.20 F1=0.25 (TP=3 FP=6 FN=12)\n",
      "event_what: P=0.25 R=0.17 F1=0.20 (TP=3 FP=9 FN=15)\n",
      "event_when: P=0.82 R=0.60 F1=0.69 (TP=9 FP=2 FN=6)\n",
      "\n",
      "Document: file:/C:/Users/mnavas/CASE%20OF%20M.T.%20v.%20UKRAINE.docx\n",
      "event_type: P=0.00 R=0.00 F1=0.00 (TP=0 FP=0 FN=2)\n",
      "event_who: P=0.00 R=0.00 F1=0.00 (TP=0 FP=0 FN=9)\n",
      "event_what: P=0.00 R=0.00 F1=0.00 (TP=0 FP=0 FN=14)\n",
      "event_when: P=0.00 R=0.00 F1=0.00 (TP=0 FP=0 FN=12)\n",
      "\n",
      "Document: file:/C:/Users/mnavas/CASE%20OF%20MOSKALEV%20v.%20RUSSIA.docx\n",
      "event_type: P=1.00 R=1.00 F1=1.00 (TP=2 FP=0 FN=0)\n",
      "event_who: P=0.60 R=0.50 F1=0.55 (TP=3 FP=2 FN=3)\n",
      "event_what: P=0.00 R=0.00 F1=0.00 (TP=0 FP=6 FN=11)\n",
      "event_when: P=0.83 R=0.62 F1=0.71 (TP=5 FP=1 FN=3)\n",
      "\n",
      "Document: file:/C:/Users/mnavas/CASE%20OF%20MURUZHEVA%20v.%20RUSSIA.docx\n",
      "event_type: P=1.00 R=1.00 F1=1.00 (TP=2 FP=0 FN=0)\n",
      "event_who: P=0.43 R=0.14 F1=0.21 (TP=3 FP=4 FN=19)\n",
      "event_what: P=0.25 R=0.10 F1=0.15 (TP=4 FP=12 FN=35)\n",
      "event_when: P=0.86 R=0.34 F1=0.49 (TP=12 FP=2 FN=23)\n",
      "\n",
      "Document: file:/C:/Users/mnavas/CASE%20OF%20_NODI%20v.%20HUNGARY.docx\n",
      "event_type: P=1.00 R=1.00 F1=1.00 (TP=2 FP=0 FN=0)\n",
      "event_who: P=0.43 R=0.21 F1=0.29 (TP=3 FP=4 FN=11)\n",
      "event_what: P=0.06 R=0.03 F1=0.04 (TP=1 FP=17 FN=29)\n",
      "event_when: P=0.59 R=0.45 F1=0.51 (TP=10 FP=7 FN=12)\n",
      "\n",
      "Document: file:/C:/Users/mnavas/CASE%20OF%20O.C.I.%20AND%20OTHERS%20v.%20ROMANIA.docx\n",
      "event_type: P=1.00 R=1.00 F1=1.00 (TP=2 FP=0 FN=0)\n",
      "event_who: P=0.54 R=0.44 F1=0.48 (TP=7 FP=6 FN=9)\n",
      "event_what: P=0.14 R=0.13 F1=0.14 (TP=3 FP=18 FN=20)\n",
      "event_when: P=0.67 R=0.40 F1=0.50 (TP=8 FP=4 FN=12)\n",
      "\n",
      "Document: file:/C:/Users/mnavas/Desktop/CASE%20OF%20OTGON%20v.%20THE%20REPUBLIC%20OF%20MOLDOVA.docx\n",
      "event_type: P=1.00 R=1.00 F1=1.00 (TP=2 FP=0 FN=0)\n",
      "event_who: P=0.80 R=0.40 F1=0.53 (TP=4 FP=1 FN=6)\n",
      "event_what: P=0.14 R=0.10 F1=0.12 (TP=1 FP=6 FN=9)\n",
      "event_when: P=0.57 R=0.44 F1=0.50 (TP=4 FP=3 FN=5)\n",
      "\n",
      "Document: file:/C:/Users/mnavas/CASE%20OF%20PAKHTUSOV%20v.%20RUSSIA.docx\n",
      "event_type: P=1.00 R=1.00 F1=1.00 (TP=2 FP=0 FN=0)\n",
      "event_who: P=0.09 R=0.09 F1=0.09 (TP=1 FP=10 FN=10)\n",
      "event_what: P=0.06 R=0.08 F1=0.07 (TP=1 FP=15 FN=11)\n",
      "event_when: P=0.78 R=0.70 F1=0.74 (TP=7 FP=2 FN=3)\n",
      "\n",
      "Document: file:/C:/Users/mnavas/CASE%20OF%20PANYUSHKINY%20v.%20RUSSIA.docx\n",
      "event_type: P=0.00 R=0.00 F1=0.00 (TP=0 FP=0 FN=2)\n",
      "event_who: P=0.00 R=0.00 F1=0.00 (TP=0 FP=0 FN=17)\n",
      "event_what: P=0.00 R=0.00 F1=0.00 (TP=0 FP=0 FN=33)\n",
      "event_when: P=0.00 R=0.00 F1=0.00 (TP=0 FP=0 FN=27)\n",
      "\n",
      "Document: file:/C:/Users/mnavas/CASE%20OF%20RESIN%20v.%20RUSSIA.docx\n",
      "event_type: P=0.00 R=0.00 F1=0.00 (TP=0 FP=0 FN=2)\n",
      "event_who: P=0.00 R=0.00 F1=0.00 (TP=0 FP=0 FN=7)\n",
      "event_what: P=0.00 R=0.00 F1=0.00 (TP=0 FP=0 FN=15)\n",
      "event_when: P=0.00 R=0.00 F1=0.00 (TP=0 FP=0 FN=13)\n",
      "\n",
      "Document: file:/C:/Users/mnavas/CASE%20OF%20S.N.%20v.%20RUSSIA.docx\n",
      "event_type: P=1.00 R=1.00 F1=1.00 (TP=2 FP=0 FN=0)\n",
      "event_who: P=0.42 R=0.17 F1=0.24 (TP=5 FP=7 FN=25)\n",
      "event_what: P=0.00 R=0.00 F1=0.00 (TP=0 FP=20 FN=35)\n",
      "event_when: P=0.00 R=0.00 F1=0.00 (TP=0 FP=13 FN=41)\n",
      "\n",
      "Document: file:/C:/Users/mnavas/CASE%20OF%20S.V.%20v.%20ITALY.docx\n",
      "event_type: P=1.00 R=1.00 F1=1.00 (TP=2 FP=0 FN=0)\n",
      "event_who: P=0.09 R=0.10 F1=0.10 (TP=1 FP=10 FN=9)\n",
      "event_what: P=0.21 R=0.24 F1=0.22 (TP=4 FP=15 FN=13)\n",
      "event_when: P=0.53 R=0.62 F1=0.57 (TP=8 FP=7 FN=5)\n",
      "\n",
      "Document: file:/C:/Users/mnavas/CASE%20OF%20SHVIDKIYE%20v.%20RUSSIA.docx\n",
      "event_type: P=1.00 R=1.00 F1=1.00 (TP=2 FP=0 FN=0)\n",
      "event_who: P=0.08 R=0.07 F1=0.07 (TP=1 FP=12 FN=14)\n",
      "event_what: P=0.00 R=0.00 F1=0.00 (TP=0 FP=21 FN=22)\n",
      "event_when: P=0.69 R=0.55 F1=0.61 (TP=11 FP=5 FN=9)\n",
      "\n",
      "Document: file:/C:/Users/mnavas/CASE%20OF%20SIDOROVA%20v.%20RUSSIA.docx\n",
      "event_type: P=1.00 R=1.00 F1=1.00 (TP=2 FP=0 FN=0)\n",
      "event_who: P=0.73 R=0.73 F1=0.73 (TP=8 FP=3 FN=3)\n",
      "event_what: P=0.00 R=0.00 F1=0.00 (TP=0 FP=13 FN=13)\n",
      "event_when: P=0.17 R=0.15 F1=0.16 (TP=2 FP=10 FN=11)\n",
      "\n",
      "Document: file:/C:/Users/mnavas/CASE%20OF%20SOLCAN%20v.%20ROMANIA.docx\n",
      "event_type: P=1.00 R=1.00 F1=1.00 (TP=2 FP=0 FN=0)\n",
      "event_who: P=0.38 R=0.33 F1=0.35 (TP=3 FP=5 FN=6)\n",
      "event_what: P=0.27 R=0.23 F1=0.25 (TP=3 FP=8 FN=10)\n",
      "event_when: P=0.73 R=0.73 F1=0.73 (TP=8 FP=3 FN=3)\n",
      "\n",
      "Document: file:/C:/Users/mnavas/CASE%20OF%20STANA%20v.%20ROMANIA.docx\n",
      "event_type: P=1.00 R=1.00 F1=1.00 (TP=2 FP=0 FN=0)\n",
      "event_who: P=0.20 R=0.20 F1=0.20 (TP=1 FP=4 FN=4)\n",
      "event_what: P=0.00 R=0.00 F1=0.00 (TP=0 FP=11 FN=6)\n",
      "event_when: P=0.50 R=0.75 F1=0.60 (TP=3 FP=3 FN=1)\n",
      "\n",
      "Document: file:/C:/Users/mnavas/CASE%20OF%20VISY%20v.%20SLOVAKIA.docx\n",
      "event_type: P=1.00 R=1.00 F1=1.00 (TP=2 FP=0 FN=0)\n",
      "event_who: P=0.40 R=0.20 F1=0.27 (TP=2 FP=3 FN=8)\n",
      "event_what: P=0.00 R=0.00 F1=0.00 (TP=0 FP=13 FN=15)\n",
      "event_when: P=0.50 R=0.36 F1=0.42 (TP=4 FP=4 FN=7)\n",
      "\n",
      "Document: file:/C:/Users/mnavas/CASE%20OF%20YAKUSHEV%20v.%20UKRAINE.docx\n",
      "event_type: P=1.00 R=1.00 F1=1.00 (TP=2 FP=0 FN=0)\n",
      "event_who: P=0.44 R=0.44 F1=0.44 (TP=4 FP=5 FN=5)\n",
      "event_what: P=0.08 R=0.09 F1=0.08 (TP=1 FP=12 FN=10)\n",
      "event_when: P=0.64 R=0.70 F1=0.67 (TP=7 FP=4 FN=3)\n",
      "\n",
      "Document: file:/C:/Users/mnavas/CASE%20OF%20YERMAKOVICH%20v.%20RUSSIA.docx\n",
      "event_type: P=1.00 R=1.00 F1=1.00 (TP=2 FP=0 FN=0)\n",
      "event_who: P=0.59 R=0.57 F1=0.58 (TP=13 FP=9 FN=10)\n",
      "event_what: P=0.18 R=0.19 F1=0.19 (TP=5 FP=23 FN=21)\n",
      "event_when: P=0.04 R=0.04 F1=0.04 (TP=1 FP=24 FN=27)\n",
      "\n",
      "Document: file:/C:/Users/mnavas/CASE%20OF%20YEVGENIY%20ZAKHAROV%20v.%20RUSSIA.docx\n",
      "event_type: P=1.00 R=1.00 F1=1.00 (TP=2 FP=0 FN=0)\n",
      "event_who: P=0.40 R=0.17 F1=0.24 (TP=2 FP=3 FN=10)\n",
      "event_what: P=0.23 R=0.18 F1=0.20 (TP=3 FP=10 FN=14)\n",
      "event_when: P=0.62 R=0.45 F1=0.53 (TP=5 FP=3 FN=6)\n"
     ]
    },
    {
     "data": {
      "application/vnd.plotly.v1+json": {
       "config": {
        "plotlyServerURL": "https://plot.ly"
       },
       "data": [
        {
         "alignmentgroup": "True",
         "hovertemplate": "Metric=precision<br>Field=%{x}<br>Score=%{y}<extra></extra>",
         "legendgroup": "precision",
         "marker": {
          "color": "#636efa",
          "pattern": {
           "shape": ""
          }
         },
         "name": "precision",
         "offsetgroup": "precision",
         "orientation": "v",
         "showlegend": true,
         "textposition": "auto",
         "texttemplate": "%{y:.2f}",
         "type": "bar",
         "x": [
          "event_type",
          "event_what",
          "event_when",
          "event_who"
         ],
         "xaxis": "x",
         "y": {
          "bdata": "ERERERER6T9GK6S7w6+5Pyv2gOwGm94/n+Q4fcIW0z8=",
          "dtype": "f8"
         },
         "yaxis": "y"
        },
        {
         "alignmentgroup": "True",
         "hovertemplate": "Metric=recall<br>Field=%{x}<br>Score=%{y}<extra></extra>",
         "legendgroup": "recall",
         "marker": {
          "color": "#EF553B",
          "pattern": {
           "shape": ""
          }
         },
         "name": "recall",
         "offsetgroup": "recall",
         "orientation": "v",
         "showlegend": true,
         "textposition": "auto",
         "texttemplate": "%{y:.2f}",
         "type": "bar",
         "x": [
          "event_type",
          "event_what",
          "event_when",
          "event_who"
         ],
         "xaxis": "x",
         "y": {
          "bdata": "ERERERER6T/cDtF67nC1P844rV+vWdg/fTsusJaWyz8=",
          "dtype": "f8"
         },
         "yaxis": "y"
        },
        {
         "alignmentgroup": "True",
         "hovertemplate": "Metric=f1<br>Field=%{x}<br>Score=%{y}<extra></extra>",
         "legendgroup": "f1",
         "marker": {
          "color": "#00cc96",
          "pattern": {
           "shape": ""
          }
         },
         "name": "f1",
         "offsetgroup": "f1",
         "orientation": "v",
         "showlegend": true,
         "textposition": "auto",
         "texttemplate": "%{y:.2f}",
         "type": "bar",
         "x": [
          "event_type",
          "event_what",
          "event_when",
          "event_who"
         ],
         "xaxis": "x",
         "y": {
          "bdata": "ERERERER6T/r41Tst4W2Px6tgTOWP9o/8+hxYto4zz8=",
          "dtype": "f8"
         },
         "yaxis": "y"
        }
       ],
       "layout": {
        "barmode": "group",
        "legend": {
         "title": {
          "text": "Metric"
         },
         "tracegroupgap": 0
        },
        "template": {
         "data": {
          "bar": [
           {
            "error_x": {
             "color": "#2a3f5f"
            },
            "error_y": {
             "color": "#2a3f5f"
            },
            "marker": {
             "line": {
              "color": "#E5ECF6",
              "width": 0.5
             },
             "pattern": {
              "fillmode": "overlay",
              "size": 10,
              "solidity": 0.2
             }
            },
            "type": "bar"
           }
          ],
          "barpolar": [
           {
            "marker": {
             "line": {
              "color": "#E5ECF6",
              "width": 0.5
             },
             "pattern": {
              "fillmode": "overlay",
              "size": 10,
              "solidity": 0.2
             }
            },
            "type": "barpolar"
           }
          ],
          "carpet": [
           {
            "aaxis": {
             "endlinecolor": "#2a3f5f",
             "gridcolor": "white",
             "linecolor": "white",
             "minorgridcolor": "white",
             "startlinecolor": "#2a3f5f"
            },
            "baxis": {
             "endlinecolor": "#2a3f5f",
             "gridcolor": "white",
             "linecolor": "white",
             "minorgridcolor": "white",
             "startlinecolor": "#2a3f5f"
            },
            "type": "carpet"
           }
          ],
          "choropleth": [
           {
            "colorbar": {
             "outlinewidth": 0,
             "ticks": ""
            },
            "type": "choropleth"
           }
          ],
          "contour": [
           {
            "colorbar": {
             "outlinewidth": 0,
             "ticks": ""
            },
            "colorscale": [
             [
              0,
              "#0d0887"
             ],
             [
              0.1111111111111111,
              "#46039f"
             ],
             [
              0.2222222222222222,
              "#7201a8"
             ],
             [
              0.3333333333333333,
              "#9c179e"
             ],
             [
              0.4444444444444444,
              "#bd3786"
             ],
             [
              0.5555555555555556,
              "#d8576b"
             ],
             [
              0.6666666666666666,
              "#ed7953"
             ],
             [
              0.7777777777777778,
              "#fb9f3a"
             ],
             [
              0.8888888888888888,
              "#fdca26"
             ],
             [
              1,
              "#f0f921"
             ]
            ],
            "type": "contour"
           }
          ],
          "contourcarpet": [
           {
            "colorbar": {
             "outlinewidth": 0,
             "ticks": ""
            },
            "type": "contourcarpet"
           }
          ],
          "heatmap": [
           {
            "colorbar": {
             "outlinewidth": 0,
             "ticks": ""
            },
            "colorscale": [
             [
              0,
              "#0d0887"
             ],
             [
              0.1111111111111111,
              "#46039f"
             ],
             [
              0.2222222222222222,
              "#7201a8"
             ],
             [
              0.3333333333333333,
              "#9c179e"
             ],
             [
              0.4444444444444444,
              "#bd3786"
             ],
             [
              0.5555555555555556,
              "#d8576b"
             ],
             [
              0.6666666666666666,
              "#ed7953"
             ],
             [
              0.7777777777777778,
              "#fb9f3a"
             ],
             [
              0.8888888888888888,
              "#fdca26"
             ],
             [
              1,
              "#f0f921"
             ]
            ],
            "type": "heatmap"
           }
          ],
          "histogram": [
           {
            "marker": {
             "pattern": {
              "fillmode": "overlay",
              "size": 10,
              "solidity": 0.2
             }
            },
            "type": "histogram"
           }
          ],
          "histogram2d": [
           {
            "colorbar": {
             "outlinewidth": 0,
             "ticks": ""
            },
            "colorscale": [
             [
              0,
              "#0d0887"
             ],
             [
              0.1111111111111111,
              "#46039f"
             ],
             [
              0.2222222222222222,
              "#7201a8"
             ],
             [
              0.3333333333333333,
              "#9c179e"
             ],
             [
              0.4444444444444444,
              "#bd3786"
             ],
             [
              0.5555555555555556,
              "#d8576b"
             ],
             [
              0.6666666666666666,
              "#ed7953"
             ],
             [
              0.7777777777777778,
              "#fb9f3a"
             ],
             [
              0.8888888888888888,
              "#fdca26"
             ],
             [
              1,
              "#f0f921"
             ]
            ],
            "type": "histogram2d"
           }
          ],
          "histogram2dcontour": [
           {
            "colorbar": {
             "outlinewidth": 0,
             "ticks": ""
            },
            "colorscale": [
             [
              0,
              "#0d0887"
             ],
             [
              0.1111111111111111,
              "#46039f"
             ],
             [
              0.2222222222222222,
              "#7201a8"
             ],
             [
              0.3333333333333333,
              "#9c179e"
             ],
             [
              0.4444444444444444,
              "#bd3786"
             ],
             [
              0.5555555555555556,
              "#d8576b"
             ],
             [
              0.6666666666666666,
              "#ed7953"
             ],
             [
              0.7777777777777778,
              "#fb9f3a"
             ],
             [
              0.8888888888888888,
              "#fdca26"
             ],
             [
              1,
              "#f0f921"
             ]
            ],
            "type": "histogram2dcontour"
           }
          ],
          "mesh3d": [
           {
            "colorbar": {
             "outlinewidth": 0,
             "ticks": ""
            },
            "type": "mesh3d"
           }
          ],
          "parcoords": [
           {
            "line": {
             "colorbar": {
              "outlinewidth": 0,
              "ticks": ""
             }
            },
            "type": "parcoords"
           }
          ],
          "pie": [
           {
            "automargin": true,
            "type": "pie"
           }
          ],
          "scatter": [
           {
            "fillpattern": {
             "fillmode": "overlay",
             "size": 10,
             "solidity": 0.2
            },
            "type": "scatter"
           }
          ],
          "scatter3d": [
           {
            "line": {
             "colorbar": {
              "outlinewidth": 0,
              "ticks": ""
             }
            },
            "marker": {
             "colorbar": {
              "outlinewidth": 0,
              "ticks": ""
             }
            },
            "type": "scatter3d"
           }
          ],
          "scattercarpet": [
           {
            "marker": {
             "colorbar": {
              "outlinewidth": 0,
              "ticks": ""
             }
            },
            "type": "scattercarpet"
           }
          ],
          "scattergeo": [
           {
            "marker": {
             "colorbar": {
              "outlinewidth": 0,
              "ticks": ""
             }
            },
            "type": "scattergeo"
           }
          ],
          "scattergl": [
           {
            "marker": {
             "colorbar": {
              "outlinewidth": 0,
              "ticks": ""
             }
            },
            "type": "scattergl"
           }
          ],
          "scattermap": [
           {
            "marker": {
             "colorbar": {
              "outlinewidth": 0,
              "ticks": ""
             }
            },
            "type": "scattermap"
           }
          ],
          "scattermapbox": [
           {
            "marker": {
             "colorbar": {
              "outlinewidth": 0,
              "ticks": ""
             }
            },
            "type": "scattermapbox"
           }
          ],
          "scatterpolar": [
           {
            "marker": {
             "colorbar": {
              "outlinewidth": 0,
              "ticks": ""
             }
            },
            "type": "scatterpolar"
           }
          ],
          "scatterpolargl": [
           {
            "marker": {
             "colorbar": {
              "outlinewidth": 0,
              "ticks": ""
             }
            },
            "type": "scatterpolargl"
           }
          ],
          "scatterternary": [
           {
            "marker": {
             "colorbar": {
              "outlinewidth": 0,
              "ticks": ""
             }
            },
            "type": "scatterternary"
           }
          ],
          "surface": [
           {
            "colorbar": {
             "outlinewidth": 0,
             "ticks": ""
            },
            "colorscale": [
             [
              0,
              "#0d0887"
             ],
             [
              0.1111111111111111,
              "#46039f"
             ],
             [
              0.2222222222222222,
              "#7201a8"
             ],
             [
              0.3333333333333333,
              "#9c179e"
             ],
             [
              0.4444444444444444,
              "#bd3786"
             ],
             [
              0.5555555555555556,
              "#d8576b"
             ],
             [
              0.6666666666666666,
              "#ed7953"
             ],
             [
              0.7777777777777778,
              "#fb9f3a"
             ],
             [
              0.8888888888888888,
              "#fdca26"
             ],
             [
              1,
              "#f0f921"
             ]
            ],
            "type": "surface"
           }
          ],
          "table": [
           {
            "cells": {
             "fill": {
              "color": "#EBF0F8"
             },
             "line": {
              "color": "white"
             }
            },
            "header": {
             "fill": {
              "color": "#C8D4E3"
             },
             "line": {
              "color": "white"
             }
            },
            "type": "table"
           }
          ]
         },
         "layout": {
          "annotationdefaults": {
           "arrowcolor": "#2a3f5f",
           "arrowhead": 0,
           "arrowwidth": 1
          },
          "autotypenumbers": "strict",
          "coloraxis": {
           "colorbar": {
            "outlinewidth": 0,
            "ticks": ""
           }
          },
          "colorscale": {
           "diverging": [
            [
             0,
             "#8e0152"
            ],
            [
             0.1,
             "#c51b7d"
            ],
            [
             0.2,
             "#de77ae"
            ],
            [
             0.3,
             "#f1b6da"
            ],
            [
             0.4,
             "#fde0ef"
            ],
            [
             0.5,
             "#f7f7f7"
            ],
            [
             0.6,
             "#e6f5d0"
            ],
            [
             0.7,
             "#b8e186"
            ],
            [
             0.8,
             "#7fbc41"
            ],
            [
             0.9,
             "#4d9221"
            ],
            [
             1,
             "#276419"
            ]
           ],
           "sequential": [
            [
             0,
             "#0d0887"
            ],
            [
             0.1111111111111111,
             "#46039f"
            ],
            [
             0.2222222222222222,
             "#7201a8"
            ],
            [
             0.3333333333333333,
             "#9c179e"
            ],
            [
             0.4444444444444444,
             "#bd3786"
            ],
            [
             0.5555555555555556,
             "#d8576b"
            ],
            [
             0.6666666666666666,
             "#ed7953"
            ],
            [
             0.7777777777777778,
             "#fb9f3a"
            ],
            [
             0.8888888888888888,
             "#fdca26"
            ],
            [
             1,
             "#f0f921"
            ]
           ],
           "sequentialminus": [
            [
             0,
             "#0d0887"
            ],
            [
             0.1111111111111111,
             "#46039f"
            ],
            [
             0.2222222222222222,
             "#7201a8"
            ],
            [
             0.3333333333333333,
             "#9c179e"
            ],
            [
             0.4444444444444444,
             "#bd3786"
            ],
            [
             0.5555555555555556,
             "#d8576b"
            ],
            [
             0.6666666666666666,
             "#ed7953"
            ],
            [
             0.7777777777777778,
             "#fb9f3a"
            ],
            [
             0.8888888888888888,
             "#fdca26"
            ],
            [
             1,
             "#f0f921"
            ]
           ]
          },
          "colorway": [
           "#636efa",
           "#EF553B",
           "#00cc96",
           "#ab63fa",
           "#FFA15A",
           "#19d3f3",
           "#FF6692",
           "#B6E880",
           "#FF97FF",
           "#FECB52"
          ],
          "font": {
           "color": "#2a3f5f"
          },
          "geo": {
           "bgcolor": "white",
           "lakecolor": "white",
           "landcolor": "#E5ECF6",
           "showlakes": true,
           "showland": true,
           "subunitcolor": "white"
          },
          "hoverlabel": {
           "align": "left"
          },
          "hovermode": "closest",
          "mapbox": {
           "style": "light"
          },
          "paper_bgcolor": "white",
          "plot_bgcolor": "#E5ECF6",
          "polar": {
           "angularaxis": {
            "gridcolor": "white",
            "linecolor": "white",
            "ticks": ""
           },
           "bgcolor": "#E5ECF6",
           "radialaxis": {
            "gridcolor": "white",
            "linecolor": "white",
            "ticks": ""
           }
          },
          "scene": {
           "xaxis": {
            "backgroundcolor": "#E5ECF6",
            "gridcolor": "white",
            "gridwidth": 2,
            "linecolor": "white",
            "showbackground": true,
            "ticks": "",
            "zerolinecolor": "white"
           },
           "yaxis": {
            "backgroundcolor": "#E5ECF6",
            "gridcolor": "white",
            "gridwidth": 2,
            "linecolor": "white",
            "showbackground": true,
            "ticks": "",
            "zerolinecolor": "white"
           },
           "zaxis": {
            "backgroundcolor": "#E5ECF6",
            "gridcolor": "white",
            "gridwidth": 2,
            "linecolor": "white",
            "showbackground": true,
            "ticks": "",
            "zerolinecolor": "white"
           }
          },
          "shapedefaults": {
           "line": {
            "color": "#2a3f5f"
           }
          },
          "ternary": {
           "aaxis": {
            "gridcolor": "white",
            "linecolor": "white",
            "ticks": ""
           },
           "baxis": {
            "gridcolor": "white",
            "linecolor": "white",
            "ticks": ""
           },
           "bgcolor": "#E5ECF6",
           "caxis": {
            "gridcolor": "white",
            "linecolor": "white",
            "ticks": ""
           }
          },
          "title": {
           "x": 0.05
          },
          "xaxis": {
           "automargin": true,
           "gridcolor": "white",
           "linecolor": "white",
           "ticks": "",
           "title": {
            "standoff": 15
           },
           "zerolinecolor": "white",
           "zerolinewidth": 2
          },
          "yaxis": {
           "automargin": true,
           "gridcolor": "white",
           "linecolor": "white",
           "ticks": "",
           "title": {
            "standoff": 15
           },
           "zerolinecolor": "white",
           "zerolinewidth": 2
          }
         }
        },
        "title": {
         "text": "Average Precision, Recall, F1 per Field"
        },
        "xaxis": {
         "anchor": "y",
         "domain": [
          0,
          1
         ],
         "title": {
          "text": "Field"
         }
        },
        "yaxis": {
         "anchor": "x",
         "domain": [
          0,
          1
         ],
         "range": [
          0,
          1
         ],
         "title": {
          "text": "Score"
         }
        }
       }
      }
     },
     "metadata": {},
     "output_type": "display_data"
    },
    {
     "data": {
      "application/vnd.plotly.v1+json": {
       "config": {
        "plotlyServerURL": "https://plot.ly"
       },
       "data": [
        {
         "colorbar": {
          "title": {
           "text": "F1 Score"
          }
         },
         "colorscale": [
          [
           0,
           "rgb(255,255,217)"
          ],
          [
           0.125,
           "rgb(237,248,177)"
          ],
          [
           0.25,
           "rgb(199,233,180)"
          ],
          [
           0.375,
           "rgb(127,205,187)"
          ],
          [
           0.5,
           "rgb(65,182,196)"
          ],
          [
           0.625,
           "rgb(29,145,192)"
          ],
          [
           0.75,
           "rgb(34,94,168)"
          ],
          [
           0.875,
           "rgb(37,52,148)"
          ],
          [
           1,
           "rgb(8,29,88)"
          ]
         ],
         "hovertemplate": "Document: %{y}<br>Field: %{x}<br>F1: %{z:.2f}<extra></extra>",
         "text": [
          [
           "1.0",
           "0.28",
           "0.81",
           "0.63"
          ],
          [
           "0.0",
           "0.0",
           "0.0",
           "0.0"
          ],
          [
           "1.0",
           "0.06",
           "0.42",
           "0.0"
          ],
          [
           "0.5",
           "0.11",
           "0.27",
           "0.0"
          ],
          [
           "1.0",
           "0.13",
           "0.79",
           "0.56"
          ],
          [
           "1.0",
           "0.24",
           "0.44",
           "0.0"
          ],
          [
           "1.0",
           "0.17",
           "0.59",
           "0.0"
          ],
          [
           "1.0",
           "0.0",
           "0.53",
           "0.53"
          ],
          [
           "0.0",
           "0.0",
           "0.0",
           "0.0"
          ],
          [
           "0.0",
           "0.0",
           "0.0",
           "0.0"
          ],
          [
           "1.0",
           "0.2",
           "0.69",
           "0.25"
          ],
          [
           "0.0",
           "0.0",
           "0.0",
           "0.0"
          ],
          [
           "1.0",
           "0.0",
           "0.71",
           "0.55"
          ],
          [
           "1.0",
           "0.15",
           "0.49",
           "0.21"
          ],
          [
           "1.0",
           "0.14",
           "0.5",
           "0.48"
          ],
          [
           "1.0",
           "0.07",
           "0.74",
           "0.09"
          ],
          [
           "0.0",
           "0.0",
           "0.0",
           "0.0"
          ],
          [
           "0.0",
           "0.0",
           "0.0",
           "0.0"
          ],
          [
           "1.0",
           "0.0",
           "0.0",
           "0.24"
          ],
          [
           "1.0",
           "0.22",
           "0.57",
           "0.1"
          ],
          [
           "1.0",
           "0.0",
           "0.61",
           "0.07"
          ],
          [
           "1.0",
           "0.0",
           "0.16",
           "0.73"
          ],
          [
           "1.0",
           "0.25",
           "0.73",
           "0.35"
          ],
          [
           "1.0",
           "0.0",
           "0.6",
           "0.2"
          ],
          [
           "1.0",
           "0.0",
           "0.42",
           "0.27"
          ],
          [
           "1.0",
           "0.08",
           "0.67",
           "0.44"
          ],
          [
           "1.0",
           "0.19",
           "0.04",
           "0.58"
          ],
          [
           "1.0",
           "0.2",
           "0.53",
           "0.24"
          ],
          [
           "1.0",
           "0.04",
           "0.51",
           "0.29"
          ],
          [
           "1.0",
           "0.12",
           "0.5",
           "0.53"
          ]
         ],
         "type": "heatmap",
         "x": [
          "event_type",
          "event_what",
          "event_when",
          "event_who"
         ],
         "y": [
          "file:/C:/Users/mnavas/CASE%20OF%20ALTAY%20v.%20TURKEY%20(No.%202).docx",
          "file:/C:/Users/mnavas/CASE%20OF%20BELYAYEV%20AND%20OTHERS%20v.%20UKRAINE.docx",
          "file:/C:/Users/mnavas/CASE%20OF%20BIGUN%20v.%20UKRAINE.docx",
          "file:/C:/Users/mnavas/CASE%20OF%20CABUCAK%20v.%20GERMANY.docx",
          "file:/C:/Users/mnavas/CASE%20OF%20CAN%20v.%20TURKEY.docx",
          "file:/C:/Users/mnavas/CASE%20OF%20CRISTIAN%20CATALIN%20UNGUREANU%20v.%20ROMANIA.docx",
          "file:/C:/Users/mnavas/CASE%20OF%20DOKTOROV%20v.%20BULGARIA.docx",
          "file:/C:/Users/mnavas/CASE%20OF%20EGILL%20EINARSSON%20v.%20ICELAND%20(No.%202).docx",
          "file:/C:/Users/mnavas/CASE%20OF%20H_INESS%20v.%20NORWAY%20(1).docx",
          "file:/C:/Users/mnavas/CASE%20OF%20KOSAITE%20-%20CYPIENE%20AND%20OTHERS%20v.%20LITHUANIA.docx",
          "file:/C:/Users/mnavas/CASE%20OF%20LOZOVYYE%20v.%20RUSSIA.docx",
          "file:/C:/Users/mnavas/CASE%20OF%20M.T.%20v.%20UKRAINE.docx",
          "file:/C:/Users/mnavas/CASE%20OF%20MOSKALEV%20v.%20RUSSIA.docx",
          "file:/C:/Users/mnavas/CASE%20OF%20MURUZHEVA%20v.%20RUSSIA.docx",
          "file:/C:/Users/mnavas/CASE%20OF%20O.C.I.%20AND%20OTHERS%20v.%20ROMANIA.docx",
          "file:/C:/Users/mnavas/CASE%20OF%20PAKHTUSOV%20v.%20RUSSIA.docx",
          "file:/C:/Users/mnavas/CASE%20OF%20PANYUSHKINY%20v.%20RUSSIA.docx",
          "file:/C:/Users/mnavas/CASE%20OF%20RESIN%20v.%20RUSSIA.docx",
          "file:/C:/Users/mnavas/CASE%20OF%20S.N.%20v.%20RUSSIA.docx",
          "file:/C:/Users/mnavas/CASE%20OF%20S.V.%20v.%20ITALY.docx",
          "file:/C:/Users/mnavas/CASE%20OF%20SHVIDKIYE%20v.%20RUSSIA.docx",
          "file:/C:/Users/mnavas/CASE%20OF%20SIDOROVA%20v.%20RUSSIA.docx",
          "file:/C:/Users/mnavas/CASE%20OF%20SOLCAN%20v.%20ROMANIA.docx",
          "file:/C:/Users/mnavas/CASE%20OF%20STANA%20v.%20ROMANIA.docx",
          "file:/C:/Users/mnavas/CASE%20OF%20VISY%20v.%20SLOVAKIA.docx",
          "file:/C:/Users/mnavas/CASE%20OF%20YAKUSHEV%20v.%20UKRAINE.docx",
          "file:/C:/Users/mnavas/CASE%20OF%20YERMAKOVICH%20v.%20RUSSIA.docx",
          "file:/C:/Users/mnavas/CASE%20OF%20YEVGENIY%20ZAKHAROV%20v.%20RUSSIA.docx",
          "file:/C:/Users/mnavas/CASE%20OF%20_NODI%20v.%20HUNGARY.docx",
          "file:/C:/Users/mnavas/Desktop/CASE%20OF%20OTGON%20v.%20THE%20REPUBLIC%20OF%20MOLDOVA.docx"
         ],
         "z": {
          "bdata": "AAAAAAAA8D+WexphuafRPyOfdYMp8uk/XkN5DeU15D8AAAAAAAAAAAAAAAAAAAAAAAAAAAAAAAAAAAAAAAAAAAAAAAAAAPA/CR988MEHrz8pr6G8hvLaPwAAAAAAAAAAAAAAAAAA4D/atm3btm27PxEREREREdE/AAAAAAAAAAAAAAAAAADwPxEREREREcE/SZIkSZIk6T9yHMdxHMfhPwAAAAAAAPA/CR988MEHzz8BAAAAAADcPwAAAAAAAAAAAAAAAAAA8D9VVVVVVVXFP9PS0tLS0uI/AAAAAAAAAAAAAAAAAADwPwAAAAAAAAAAeQ3lNZTX4D95DeU1lNfgPwAAAAAAAAAAAAAAAAAAAAAAAAAAAAAAAAAAAAAAAAAAAAAAAAAAAAAAAAAAAAAAAAAAAAAAAAAAAAAAAAAAAAAAAAAAAADwP5qZmZmZmck/dmIndmIn5j8AAAAAAADQPwAAAAAAAAAAAAAAAAAAAAAAAAAAAAAAAAAAAAAAAAAAAAAAAAAA8D8AAAAAAAAAALdt27Zt2+Y/dNFFF1104T8AAAAAAADwP58S5ClBnsI/1ofG+tBY3z9huacRlnvKPwAAAAAAAPA/dNFFF110wT8AAAAAAADgP0dY7mmE5d4/AAAAAAAA8D+TJEmSJEmyP0J5DeU1lOc/RhdddNFFtz8AAAAAAAAAAAAAAAAAAAAAAAAAAAAAAAAAAAAAAAAAAAAAAAAAAAAAAAAAAAAAAAAAAAAAAAAAAAAAAAAAAAAAAAAAAAAA8D8AAAAAAAAAAAAAAAAAAAAAnud5nud5zj8AAAAAAADwPxzHcRzHccw/kyRJkiRJ4j8ZhmEYhmG4PwAAAAAAAPA/AAAAAAAAAADkOI7jOI7jP5MkSZIkSbI/AAAAAAAA8D8AAAAAAAAAAHsUrkfhesQ/RhdddNFF5z8AAAAAAADwP/7//////88/RhdddNFF5z+XlpaWlpbWPwAAAAAAAPA/AAAAAAAAAAAzMzMzMzPjP5uZmZmZmck/AAAAAAAA8D8AAAAAAAAAACmvobyG8to/ERERERER0T8AAAAAAADwP1ZVVVVVVbU/VVVVVVVV5T8cx3Ecx3HcPwAAAAAAAPA/Q3sJ7SW0xz/CeCv7HFKjP9MnfdInfeI/AAAAAAAA8D+bmZmZmZnJP3kN5TWU1+A/Hh4eHh4ezj8AAAAAAADwP1ZVVVVVVaU/kQZpkAZp4D+SJEmSJEnSPwAAAAAAAPA/Hh4eHh4evj8AAAAAAADgPxEREREREeE/",
          "dtype": "f8",
          "shape": "30, 4"
         },
         "zmax": 1,
         "zmin": 0
        }
       ],
       "layout": {
        "height": 900,
        "template": {
         "data": {
          "bar": [
           {
            "error_x": {
             "color": "#2a3f5f"
            },
            "error_y": {
             "color": "#2a3f5f"
            },
            "marker": {
             "line": {
              "color": "#E5ECF6",
              "width": 0.5
             },
             "pattern": {
              "fillmode": "overlay",
              "size": 10,
              "solidity": 0.2
             }
            },
            "type": "bar"
           }
          ],
          "barpolar": [
           {
            "marker": {
             "line": {
              "color": "#E5ECF6",
              "width": 0.5
             },
             "pattern": {
              "fillmode": "overlay",
              "size": 10,
              "solidity": 0.2
             }
            },
            "type": "barpolar"
           }
          ],
          "carpet": [
           {
            "aaxis": {
             "endlinecolor": "#2a3f5f",
             "gridcolor": "white",
             "linecolor": "white",
             "minorgridcolor": "white",
             "startlinecolor": "#2a3f5f"
            },
            "baxis": {
             "endlinecolor": "#2a3f5f",
             "gridcolor": "white",
             "linecolor": "white",
             "minorgridcolor": "white",
             "startlinecolor": "#2a3f5f"
            },
            "type": "carpet"
           }
          ],
          "choropleth": [
           {
            "colorbar": {
             "outlinewidth": 0,
             "ticks": ""
            },
            "type": "choropleth"
           }
          ],
          "contour": [
           {
            "colorbar": {
             "outlinewidth": 0,
             "ticks": ""
            },
            "colorscale": [
             [
              0,
              "#0d0887"
             ],
             [
              0.1111111111111111,
              "#46039f"
             ],
             [
              0.2222222222222222,
              "#7201a8"
             ],
             [
              0.3333333333333333,
              "#9c179e"
             ],
             [
              0.4444444444444444,
              "#bd3786"
             ],
             [
              0.5555555555555556,
              "#d8576b"
             ],
             [
              0.6666666666666666,
              "#ed7953"
             ],
             [
              0.7777777777777778,
              "#fb9f3a"
             ],
             [
              0.8888888888888888,
              "#fdca26"
             ],
             [
              1,
              "#f0f921"
             ]
            ],
            "type": "contour"
           }
          ],
          "contourcarpet": [
           {
            "colorbar": {
             "outlinewidth": 0,
             "ticks": ""
            },
            "type": "contourcarpet"
           }
          ],
          "heatmap": [
           {
            "colorbar": {
             "outlinewidth": 0,
             "ticks": ""
            },
            "colorscale": [
             [
              0,
              "#0d0887"
             ],
             [
              0.1111111111111111,
              "#46039f"
             ],
             [
              0.2222222222222222,
              "#7201a8"
             ],
             [
              0.3333333333333333,
              "#9c179e"
             ],
             [
              0.4444444444444444,
              "#bd3786"
             ],
             [
              0.5555555555555556,
              "#d8576b"
             ],
             [
              0.6666666666666666,
              "#ed7953"
             ],
             [
              0.7777777777777778,
              "#fb9f3a"
             ],
             [
              0.8888888888888888,
              "#fdca26"
             ],
             [
              1,
              "#f0f921"
             ]
            ],
            "type": "heatmap"
           }
          ],
          "histogram": [
           {
            "marker": {
             "pattern": {
              "fillmode": "overlay",
              "size": 10,
              "solidity": 0.2
             }
            },
            "type": "histogram"
           }
          ],
          "histogram2d": [
           {
            "colorbar": {
             "outlinewidth": 0,
             "ticks": ""
            },
            "colorscale": [
             [
              0,
              "#0d0887"
             ],
             [
              0.1111111111111111,
              "#46039f"
             ],
             [
              0.2222222222222222,
              "#7201a8"
             ],
             [
              0.3333333333333333,
              "#9c179e"
             ],
             [
              0.4444444444444444,
              "#bd3786"
             ],
             [
              0.5555555555555556,
              "#d8576b"
             ],
             [
              0.6666666666666666,
              "#ed7953"
             ],
             [
              0.7777777777777778,
              "#fb9f3a"
             ],
             [
              0.8888888888888888,
              "#fdca26"
             ],
             [
              1,
              "#f0f921"
             ]
            ],
            "type": "histogram2d"
           }
          ],
          "histogram2dcontour": [
           {
            "colorbar": {
             "outlinewidth": 0,
             "ticks": ""
            },
            "colorscale": [
             [
              0,
              "#0d0887"
             ],
             [
              0.1111111111111111,
              "#46039f"
             ],
             [
              0.2222222222222222,
              "#7201a8"
             ],
             [
              0.3333333333333333,
              "#9c179e"
             ],
             [
              0.4444444444444444,
              "#bd3786"
             ],
             [
              0.5555555555555556,
              "#d8576b"
             ],
             [
              0.6666666666666666,
              "#ed7953"
             ],
             [
              0.7777777777777778,
              "#fb9f3a"
             ],
             [
              0.8888888888888888,
              "#fdca26"
             ],
             [
              1,
              "#f0f921"
             ]
            ],
            "type": "histogram2dcontour"
           }
          ],
          "mesh3d": [
           {
            "colorbar": {
             "outlinewidth": 0,
             "ticks": ""
            },
            "type": "mesh3d"
           }
          ],
          "parcoords": [
           {
            "line": {
             "colorbar": {
              "outlinewidth": 0,
              "ticks": ""
             }
            },
            "type": "parcoords"
           }
          ],
          "pie": [
           {
            "automargin": true,
            "type": "pie"
           }
          ],
          "scatter": [
           {
            "fillpattern": {
             "fillmode": "overlay",
             "size": 10,
             "solidity": 0.2
            },
            "type": "scatter"
           }
          ],
          "scatter3d": [
           {
            "line": {
             "colorbar": {
              "outlinewidth": 0,
              "ticks": ""
             }
            },
            "marker": {
             "colorbar": {
              "outlinewidth": 0,
              "ticks": ""
             }
            },
            "type": "scatter3d"
           }
          ],
          "scattercarpet": [
           {
            "marker": {
             "colorbar": {
              "outlinewidth": 0,
              "ticks": ""
             }
            },
            "type": "scattercarpet"
           }
          ],
          "scattergeo": [
           {
            "marker": {
             "colorbar": {
              "outlinewidth": 0,
              "ticks": ""
             }
            },
            "type": "scattergeo"
           }
          ],
          "scattergl": [
           {
            "marker": {
             "colorbar": {
              "outlinewidth": 0,
              "ticks": ""
             }
            },
            "type": "scattergl"
           }
          ],
          "scattermap": [
           {
            "marker": {
             "colorbar": {
              "outlinewidth": 0,
              "ticks": ""
             }
            },
            "type": "scattermap"
           }
          ],
          "scattermapbox": [
           {
            "marker": {
             "colorbar": {
              "outlinewidth": 0,
              "ticks": ""
             }
            },
            "type": "scattermapbox"
           }
          ],
          "scatterpolar": [
           {
            "marker": {
             "colorbar": {
              "outlinewidth": 0,
              "ticks": ""
             }
            },
            "type": "scatterpolar"
           }
          ],
          "scatterpolargl": [
           {
            "marker": {
             "colorbar": {
              "outlinewidth": 0,
              "ticks": ""
             }
            },
            "type": "scatterpolargl"
           }
          ],
          "scatterternary": [
           {
            "marker": {
             "colorbar": {
              "outlinewidth": 0,
              "ticks": ""
             }
            },
            "type": "scatterternary"
           }
          ],
          "surface": [
           {
            "colorbar": {
             "outlinewidth": 0,
             "ticks": ""
            },
            "colorscale": [
             [
              0,
              "#0d0887"
             ],
             [
              0.1111111111111111,
              "#46039f"
             ],
             [
              0.2222222222222222,
              "#7201a8"
             ],
             [
              0.3333333333333333,
              "#9c179e"
             ],
             [
              0.4444444444444444,
              "#bd3786"
             ],
             [
              0.5555555555555556,
              "#d8576b"
             ],
             [
              0.6666666666666666,
              "#ed7953"
             ],
             [
              0.7777777777777778,
              "#fb9f3a"
             ],
             [
              0.8888888888888888,
              "#fdca26"
             ],
             [
              1,
              "#f0f921"
             ]
            ],
            "type": "surface"
           }
          ],
          "table": [
           {
            "cells": {
             "fill": {
              "color": "#EBF0F8"
             },
             "line": {
              "color": "white"
             }
            },
            "header": {
             "fill": {
              "color": "#C8D4E3"
             },
             "line": {
              "color": "white"
             }
            },
            "type": "table"
           }
          ]
         },
         "layout": {
          "annotationdefaults": {
           "arrowcolor": "#2a3f5f",
           "arrowhead": 0,
           "arrowwidth": 1
          },
          "autotypenumbers": "strict",
          "coloraxis": {
           "colorbar": {
            "outlinewidth": 0,
            "ticks": ""
           }
          },
          "colorscale": {
           "diverging": [
            [
             0,
             "#8e0152"
            ],
            [
             0.1,
             "#c51b7d"
            ],
            [
             0.2,
             "#de77ae"
            ],
            [
             0.3,
             "#f1b6da"
            ],
            [
             0.4,
             "#fde0ef"
            ],
            [
             0.5,
             "#f7f7f7"
            ],
            [
             0.6,
             "#e6f5d0"
            ],
            [
             0.7,
             "#b8e186"
            ],
            [
             0.8,
             "#7fbc41"
            ],
            [
             0.9,
             "#4d9221"
            ],
            [
             1,
             "#276419"
            ]
           ],
           "sequential": [
            [
             0,
             "#0d0887"
            ],
            [
             0.1111111111111111,
             "#46039f"
            ],
            [
             0.2222222222222222,
             "#7201a8"
            ],
            [
             0.3333333333333333,
             "#9c179e"
            ],
            [
             0.4444444444444444,
             "#bd3786"
            ],
            [
             0.5555555555555556,
             "#d8576b"
            ],
            [
             0.6666666666666666,
             "#ed7953"
            ],
            [
             0.7777777777777778,
             "#fb9f3a"
            ],
            [
             0.8888888888888888,
             "#fdca26"
            ],
            [
             1,
             "#f0f921"
            ]
           ],
           "sequentialminus": [
            [
             0,
             "#0d0887"
            ],
            [
             0.1111111111111111,
             "#46039f"
            ],
            [
             0.2222222222222222,
             "#7201a8"
            ],
            [
             0.3333333333333333,
             "#9c179e"
            ],
            [
             0.4444444444444444,
             "#bd3786"
            ],
            [
             0.5555555555555556,
             "#d8576b"
            ],
            [
             0.6666666666666666,
             "#ed7953"
            ],
            [
             0.7777777777777778,
             "#fb9f3a"
            ],
            [
             0.8888888888888888,
             "#fdca26"
            ],
            [
             1,
             "#f0f921"
            ]
           ]
          },
          "colorway": [
           "#636efa",
           "#EF553B",
           "#00cc96",
           "#ab63fa",
           "#FFA15A",
           "#19d3f3",
           "#FF6692",
           "#B6E880",
           "#FF97FF",
           "#FECB52"
          ],
          "font": {
           "color": "#2a3f5f"
          },
          "geo": {
           "bgcolor": "white",
           "lakecolor": "white",
           "landcolor": "#E5ECF6",
           "showlakes": true,
           "showland": true,
           "subunitcolor": "white"
          },
          "hoverlabel": {
           "align": "left"
          },
          "hovermode": "closest",
          "mapbox": {
           "style": "light"
          },
          "paper_bgcolor": "white",
          "plot_bgcolor": "#E5ECF6",
          "polar": {
           "angularaxis": {
            "gridcolor": "white",
            "linecolor": "white",
            "ticks": ""
           },
           "bgcolor": "#E5ECF6",
           "radialaxis": {
            "gridcolor": "white",
            "linecolor": "white",
            "ticks": ""
           }
          },
          "scene": {
           "xaxis": {
            "backgroundcolor": "#E5ECF6",
            "gridcolor": "white",
            "gridwidth": 2,
            "linecolor": "white",
            "showbackground": true,
            "ticks": "",
            "zerolinecolor": "white"
           },
           "yaxis": {
            "backgroundcolor": "#E5ECF6",
            "gridcolor": "white",
            "gridwidth": 2,
            "linecolor": "white",
            "showbackground": true,
            "ticks": "",
            "zerolinecolor": "white"
           },
           "zaxis": {
            "backgroundcolor": "#E5ECF6",
            "gridcolor": "white",
            "gridwidth": 2,
            "linecolor": "white",
            "showbackground": true,
            "ticks": "",
            "zerolinecolor": "white"
           }
          },
          "shapedefaults": {
           "line": {
            "color": "#2a3f5f"
           }
          },
          "ternary": {
           "aaxis": {
            "gridcolor": "white",
            "linecolor": "white",
            "ticks": ""
           },
           "baxis": {
            "gridcolor": "white",
            "linecolor": "white",
            "ticks": ""
           },
           "bgcolor": "#E5ECF6",
           "caxis": {
            "gridcolor": "white",
            "linecolor": "white",
            "ticks": ""
           }
          },
          "title": {
           "x": 0.05
          },
          "xaxis": {
           "automargin": true,
           "gridcolor": "white",
           "linecolor": "white",
           "ticks": "",
           "title": {
            "standoff": 15
           },
           "zerolinecolor": "white",
           "zerolinewidth": 2
          },
          "yaxis": {
           "automargin": true,
           "gridcolor": "white",
           "linecolor": "white",
           "ticks": "",
           "title": {
            "standoff": 15
           },
           "zerolinecolor": "white",
           "zerolinewidth": 2
          }
         }
        },
        "title": {
         "text": "F1 Score per Document and Field"
        },
        "xaxis": {
         "title": {
          "text": "Field"
         }
        },
        "yaxis": {
         "title": {
          "text": "Document"
         }
        }
       }
      }
     },
     "metadata": {},
     "output_type": "display_data"
    },
    {
     "name": "stdout",
     "output_type": "stream",
     "text": [
      "\n",
      "=== Evaluation for model: llama3.3:latest ===\n",
      "\n",
      "Document: file:/C:/Users/mnavas/CASE%20OF%20ALTAY%20v.%20TURKEY%20(No.%202).docx\n",
      "event_type: P=1.00 R=1.00 F1=1.00 (TP=2 FP=0 FN=0)\n",
      "event_who: P=0.12 R=0.10 F1=0.11 (TP=1 FP=7 FN=9)\n",
      "event_what: P=0.00 R=0.00 F1=0.00 (TP=0 FP=21 FN=17)\n",
      "event_when: P=0.71 R=0.79 F1=0.75 (TP=15 FP=6 FN=4)\n",
      "\n",
      "Document: file:/C:/Users/mnavas/CASE%20OF%20BELYAYEV%20AND%20OTHERS%20v.%20UKRAINE.docx\n",
      "event_type: P=1.00 R=1.00 F1=1.00 (TP=2 FP=0 FN=0)\n",
      "event_who: P=0.17 R=0.12 F1=0.14 (TP=1 FP=5 FN=7)\n",
      "event_what: P=0.00 R=0.00 F1=0.00 (TP=0 FP=12 FN=7)\n",
      "event_when: P=0.25 R=0.33 F1=0.29 (TP=2 FP=6 FN=4)\n",
      "\n",
      "Document: file:/C:/Users/mnavas/CASE%20OF%20BIGUN%20v.%20UKRAINE.docx\n",
      "event_type: P=1.00 R=1.00 F1=1.00 (TP=2 FP=0 FN=0)\n",
      "event_who: P=0.14 R=0.12 F1=0.13 (TP=1 FP=6 FN=7)\n",
      "event_what: P=0.08 R=0.08 F1=0.08 (TP=1 FP=11 FN=12)\n",
      "event_when: P=0.50 R=0.50 F1=0.50 (TP=6 FP=6 FN=6)\n",
      "\n",
      "Document: file:/C:/Users/mnavas/CASE%20OF%20CABUCAK%20v.%20GERMANY.docx\n",
      "event_type: P=1.00 R=0.50 F1=0.67 (TP=1 FP=0 FN=1)\n",
      "event_who: P=0.00 R=0.00 F1=0.00 (TP=0 FP=7 FN=25)\n",
      "event_what: P=0.00 R=0.00 F1=0.00 (TP=0 FP=11 FN=40)\n",
      "event_when: P=0.78 R=0.18 F1=0.30 (TP=7 FP=2 FN=31)\n",
      "\n",
      "Document: file:/C:/Users/mnavas/CASE%20OF%20CAN%20v.%20TURKEY.docx\n",
      "event_type: P=1.00 R=1.00 F1=1.00 (TP=2 FP=0 FN=0)\n",
      "event_who: P=0.07 R=0.10 F1=0.08 (TP=1 FP=13 FN=9)\n",
      "event_what: P=0.11 R=0.13 F1=0.12 (TP=2 FP=16 FN=13)\n",
      "event_when: P=0.80 R=0.86 F1=0.83 (TP=12 FP=3 FN=2)\n",
      "\n",
      "Document: file:/C:/Users/mnavas/CASE%20OF%20CRISTIAN%20CATALIN%20UNGUREANU%20v.%20ROMANIA.docx\n",
      "event_type: P=1.00 R=1.00 F1=1.00 (TP=2 FP=0 FN=0)\n",
      "event_who: P=0.00 R=0.00 F1=0.00 (TP=0 FP=11 FN=17)\n",
      "event_what: P=0.07 R=0.05 F1=0.06 (TP=1 FP=13 FN=19)\n",
      "event_when: P=0.50 R=0.39 F1=0.44 (TP=7 FP=7 FN=11)\n",
      "\n",
      "Document: file:/C:/Users/mnavas/CASE%20OF%20DOKTOROV%20v.%20BULGARIA.docx\n",
      "event_type: P=1.00 R=1.00 F1=1.00 (TP=2 FP=0 FN=0)\n",
      "event_who: P=0.00 R=0.00 F1=0.00 (TP=0 FP=8 FN=7)\n",
      "event_what: P=0.00 R=0.00 F1=0.00 (TP=0 FP=13 FN=12)\n",
      "event_when: P=0.62 R=0.62 F1=0.62 (TP=5 FP=3 FN=3)\n",
      "\n",
      "Document: file:/C:/Users/mnavas/CASE%20OF%20EGILL%20EINARSSON%20v.%20ICELAND%20(No.%202).docx\n",
      "event_type: P=1.00 R=1.00 F1=1.00 (TP=2 FP=0 FN=0)\n",
      "event_who: P=0.10 R=0.08 F1=0.09 (TP=1 FP=9 FN=11)\n",
      "event_what: P=0.20 R=0.14 F1=0.17 (TP=2 FP=8 FN=12)\n",
      "event_when: P=0.78 R=0.58 F1=0.67 (TP=7 FP=2 FN=5)\n",
      "\n",
      "Document: file:/C:/Users/mnavas/CASE%20OF%20H_INESS%20v.%20NORWAY%20(1).docx\n",
      "event_type: P=0.00 R=0.00 F1=0.00 (TP=0 FP=0 FN=2)\n",
      "event_who: P=0.00 R=0.00 F1=0.00 (TP=0 FP=0 FN=23)\n",
      "event_what: P=0.00 R=0.00 F1=0.00 (TP=0 FP=0 FN=30)\n",
      "event_when: P=0.00 R=0.00 F1=0.00 (TP=0 FP=0 FN=27)\n",
      "\n",
      "Document: file:/C:/Users/mnavas/CASE%20OF%20KOSAITE%20-%20CYPIENE%20AND%20OTHERS%20v.%20LITHUANIA.docx\n",
      "event_type: P=0.00 R=0.00 F1=0.00 (TP=0 FP=2 FN=2)\n",
      "event_who: P=0.00 R=0.00 F1=0.00 (TP=0 FP=2 FN=27)\n",
      "event_what: P=0.00 R=0.00 F1=0.00 (TP=0 FP=3 FN=33)\n",
      "event_when: P=0.50 R=0.03 F1=0.06 (TP=1 FP=1 FN=30)\n",
      "\n",
      "Document: file:/C:/Users/mnavas/CASE%20OF%20LOZOVYYE%20v.%20RUSSIA.docx\n",
      "event_type: P=1.00 R=1.00 F1=1.00 (TP=2 FP=0 FN=0)\n",
      "event_who: P=0.00 R=0.00 F1=0.00 (TP=0 FP=11 FN=15)\n",
      "event_what: P=0.07 R=0.06 F1=0.06 (TP=1 FP=14 FN=17)\n",
      "event_when: P=0.69 R=0.60 F1=0.64 (TP=9 FP=4 FN=6)\n",
      "\n",
      "Document: file:/C:/Users/mnavas/CASE%20OF%20M.T.%20v.%20UKRAINE.docx\n",
      "event_type: P=1.00 R=1.00 F1=1.00 (TP=2 FP=0 FN=0)\n",
      "event_who: P=0.38 R=0.33 F1=0.35 (TP=3 FP=5 FN=6)\n",
      "event_what: P=0.00 R=0.00 F1=0.00 (TP=0 FP=13 FN=14)\n",
      "event_when: P=0.62 R=0.42 F1=0.50 (TP=5 FP=3 FN=7)\n",
      "\n",
      "Document: file:/C:/Users/mnavas/CASE%20OF%20MOSKALEV%20v.%20RUSSIA.docx\n",
      "event_type: P=1.00 R=1.00 F1=1.00 (TP=2 FP=0 FN=0)\n",
      "event_who: P=0.38 R=0.50 F1=0.43 (TP=3 FP=5 FN=3)\n",
      "event_what: P=0.00 R=0.00 F1=0.00 (TP=0 FP=9 FN=11)\n",
      "event_when: P=0.67 R=0.75 F1=0.71 (TP=6 FP=3 FN=2)\n",
      "\n",
      "Document: file:/C:/Users/mnavas/CASE%20OF%20MURUZHEVA%20v.%20RUSSIA.docx\n",
      "event_type: P=1.00 R=1.00 F1=1.00 (TP=2 FP=0 FN=0)\n",
      "event_who: P=0.09 R=0.05 F1=0.06 (TP=1 FP=10 FN=21)\n",
      "event_what: P=0.20 R=0.08 F1=0.11 (TP=3 FP=12 FN=36)\n",
      "event_when: P=0.60 R=0.26 F1=0.36 (TP=9 FP=6 FN=26)\n",
      "\n",
      "Document: file:/C:/Users/mnavas/CASE%20OF%20_NODI%20v.%20HUNGARY.docx\n",
      "event_type: P=1.00 R=1.00 F1=1.00 (TP=2 FP=0 FN=0)\n",
      "event_who: P=0.08 R=0.07 F1=0.07 (TP=1 FP=12 FN=13)\n",
      "event_what: P=0.00 R=0.00 F1=0.00 (TP=0 FP=20 FN=30)\n",
      "event_when: P=0.83 R=0.45 F1=0.59 (TP=10 FP=2 FN=12)\n",
      "\n",
      "Document: file:/C:/Users/mnavas/CASE%20OF%20O.C.I.%20AND%20OTHERS%20v.%20ROMANIA.docx\n",
      "event_type: P=1.00 R=1.00 F1=1.00 (TP=2 FP=0 FN=0)\n",
      "event_who: P=0.46 R=0.38 F1=0.41 (TP=6 FP=7 FN=10)\n",
      "event_what: P=0.00 R=0.00 F1=0.00 (TP=0 FP=26 FN=23)\n",
      "event_when: P=0.56 R=0.45 F1=0.50 (TP=9 FP=7 FN=11)\n",
      "\n",
      "Document: file:/C:/Users/mnavas/Desktop/CASE%20OF%20OTGON%20v.%20THE%20REPUBLIC%20OF%20MOLDOVA.docx\n",
      "event_type: P=1.00 R=1.00 F1=1.00 (TP=2 FP=0 FN=0)\n",
      "event_who: P=0.00 R=0.00 F1=0.00 (TP=0 FP=8 FN=10)\n",
      "event_what: P=0.08 R=0.10 F1=0.09 (TP=1 FP=11 FN=9)\n",
      "event_when: P=0.62 R=0.56 F1=0.59 (TP=5 FP=3 FN=4)\n",
      "\n",
      "Document: file:/C:/Users/mnavas/CASE%20OF%20PAKHTUSOV%20v.%20RUSSIA.docx\n",
      "event_type: P=1.00 R=1.00 F1=1.00 (TP=2 FP=0 FN=0)\n",
      "event_who: P=0.20 R=0.18 F1=0.19 (TP=2 FP=8 FN=9)\n",
      "event_what: P=0.17 R=0.17 F1=0.17 (TP=2 FP=10 FN=10)\n",
      "event_when: P=0.67 R=0.60 F1=0.63 (TP=6 FP=3 FN=4)\n",
      "\n",
      "Document: file:/C:/Users/mnavas/CASE%20OF%20PANYUSHKINY%20v.%20RUSSIA.docx\n",
      "event_type: P=1.00 R=1.00 F1=1.00 (TP=2 FP=0 FN=0)\n",
      "event_who: P=0.00 R=0.00 F1=0.00 (TP=0 FP=11 FN=17)\n",
      "event_what: P=0.22 R=0.15 F1=0.18 (TP=5 FP=18 FN=28)\n",
      "event_when: P=0.81 R=0.63 F1=0.71 (TP=17 FP=4 FN=10)\n",
      "\n",
      "Document: file:/C:/Users/mnavas/CASE%20OF%20RESIN%20v.%20RUSSIA.docx\n",
      "event_type: P=1.00 R=1.00 F1=1.00 (TP=2 FP=0 FN=0)\n",
      "event_who: P=0.00 R=0.00 F1=0.00 (TP=0 FP=5 FN=7)\n",
      "event_what: P=0.00 R=0.00 F1=0.00 (TP=0 FP=12 FN=15)\n",
      "event_when: P=0.67 R=0.31 F1=0.42 (TP=4 FP=2 FN=9)\n",
      "\n",
      "Document: file:/C:/Users/mnavas/CASE%20OF%20S.N.%20v.%20RUSSIA.docx\n",
      "event_type: P=1.00 R=1.00 F1=1.00 (TP=2 FP=0 FN=0)\n",
      "event_who: P=0.79 R=0.50 F1=0.61 (TP=15 FP=4 FN=15)\n",
      "event_what: P=0.22 R=0.17 F1=0.19 (TP=6 FP=21 FN=29)\n",
      "event_when: P=0.00 R=0.00 F1=0.00 (TP=0 FP=21 FN=41)\n",
      "\n",
      "Document: file:/C:/Users/mnavas/CASE%20OF%20S.V.%20v.%20ITALY.docx\n",
      "event_type: P=1.00 R=1.00 F1=1.00 (TP=2 FP=0 FN=0)\n",
      "event_who: P=0.14 R=0.10 F1=0.12 (TP=1 FP=6 FN=9)\n",
      "event_what: P=0.12 R=0.12 F1=0.12 (TP=2 FP=14 FN=15)\n",
      "event_when: P=0.69 R=0.69 F1=0.69 (TP=9 FP=4 FN=4)\n",
      "\n",
      "Document: file:/C:/Users/mnavas/CASE%20OF%20SHVIDKIYE%20v.%20RUSSIA.docx\n",
      "event_type: P=1.00 R=1.00 F1=1.00 (TP=2 FP=0 FN=0)\n",
      "event_who: P=0.13 R=0.13 F1=0.13 (TP=2 FP=13 FN=13)\n",
      "event_what: P=0.20 R=0.18 F1=0.19 (TP=4 FP=16 FN=18)\n",
      "event_when: P=0.53 R=0.50 F1=0.51 (TP=10 FP=9 FN=10)\n",
      "\n",
      "Document: file:/C:/Users/mnavas/CASE%20OF%20SIDOROVA%20v.%20RUSSIA.docx\n",
      "event_type: P=1.00 R=1.00 F1=1.00 (TP=2 FP=0 FN=0)\n",
      "event_who: P=0.08 R=0.09 F1=0.08 (TP=1 FP=12 FN=10)\n",
      "event_what: P=0.31 R=0.38 F1=0.34 (TP=5 FP=11 FN=8)\n",
      "event_when: P=0.23 R=0.23 F1=0.23 (TP=3 FP=10 FN=10)\n",
      "\n",
      "Document: file:/C:/Users/mnavas/CASE%20OF%20SOLCAN%20v.%20ROMANIA.docx\n",
      "event_type: P=1.00 R=1.00 F1=1.00 (TP=2 FP=0 FN=0)\n",
      "event_who: P=0.43 R=0.33 F1=0.38 (TP=3 FP=4 FN=6)\n",
      "event_what: P=0.06 R=0.08 F1=0.07 (TP=1 FP=15 FN=12)\n",
      "event_when: P=0.80 R=0.73 F1=0.76 (TP=8 FP=2 FN=3)\n",
      "\n",
      "Document: file:/C:/Users/mnavas/CASE%20OF%20STANA%20v.%20ROMANIA.docx\n",
      "event_type: P=1.00 R=1.00 F1=1.00 (TP=2 FP=0 FN=0)\n",
      "event_who: P=0.14 R=0.20 F1=0.17 (TP=1 FP=6 FN=4)\n",
      "event_what: P=0.00 R=0.00 F1=0.00 (TP=0 FP=11 FN=6)\n",
      "event_when: P=0.50 R=0.75 F1=0.60 (TP=3 FP=3 FN=1)\n",
      "\n",
      "Document: file:/C:/Users/mnavas/CASE%20OF%20VISY%20v.%20SLOVAKIA.docx\n",
      "event_type: P=1.00 R=1.00 F1=1.00 (TP=2 FP=0 FN=0)\n",
      "event_who: P=0.11 R=0.10 F1=0.11 (TP=1 FP=8 FN=9)\n",
      "event_what: P=0.07 R=0.07 F1=0.07 (TP=1 FP=13 FN=14)\n",
      "event_when: P=0.75 R=0.55 F1=0.63 (TP=6 FP=2 FN=5)\n",
      "\n",
      "Document: file:/C:/Users/mnavas/CASE%20OF%20YAKUSHEV%20v.%20UKRAINE.docx\n",
      "event_type: P=1.00 R=1.00 F1=1.00 (TP=2 FP=0 FN=0)\n",
      "event_who: P=0.18 R=0.22 F1=0.20 (TP=2 FP=9 FN=7)\n",
      "event_what: P=0.21 R=0.27 F1=0.24 (TP=3 FP=11 FN=8)\n",
      "event_when: P=0.75 R=0.60 F1=0.67 (TP=6 FP=2 FN=4)\n",
      "\n",
      "Document: file:/C:/Users/mnavas/CASE%20OF%20YERMAKOVICH%20v.%20RUSSIA.docx\n",
      "event_type: P=1.00 R=1.00 F1=1.00 (TP=2 FP=0 FN=0)\n",
      "event_who: P=0.00 R=0.00 F1=0.00 (TP=0 FP=22 FN=23)\n",
      "event_what: P=0.00 R=0.00 F1=0.00 (TP=0 FP=27 FN=26)\n",
      "event_when: P=0.12 R=0.11 F1=0.11 (TP=3 FP=23 FN=25)\n",
      "\n",
      "Document: file:/C:/Users/mnavas/CASE%20OF%20YEVGENIY%20ZAKHAROV%20v.%20RUSSIA.docx\n",
      "event_type: P=1.00 R=1.00 F1=1.00 (TP=2 FP=0 FN=0)\n",
      "event_who: P=0.00 R=0.00 F1=0.00 (TP=0 FP=8 FN=12)\n",
      "event_what: P=0.00 R=0.00 F1=0.00 (TP=0 FP=12 FN=17)\n",
      "event_when: P=0.88 R=0.64 F1=0.74 (TP=7 FP=1 FN=4)\n"
     ]
    },
    {
     "data": {
      "application/vnd.plotly.v1+json": {
       "config": {
        "plotlyServerURL": "https://plot.ly"
       },
       "data": [
        {
         "alignmentgroup": "True",
         "hovertemplate": "Metric=precision<br>Field=%{x}<br>Score=%{y}<extra></extra>",
         "legendgroup": "precision",
         "marker": {
          "color": "#636efa",
          "pattern": {
           "shape": ""
          }
         },
         "name": "precision",
         "offsetgroup": "precision",
         "orientation": "v",
         "showlegend": true,
         "textposition": "auto",
         "texttemplate": "%{y:.2f}",
         "type": "bar",
         "x": [
          "event_type",
          "event_what",
          "event_when",
          "event_who"
         ],
         "xaxis": "x",
         "y": {
          "bdata": "3t3d3d3d7T8wwxwaEYy0P1AGf+8smOI/VmaeIBPjwT8=",
          "dtype": "f8"
         },
         "yaxis": "y"
        },
        {
         "alignmentgroup": "True",
         "hovertemplate": "Metric=recall<br>Field=%{x}<br>Score=%{y}<extra></extra>",
         "legendgroup": "recall",
         "marker": {
          "color": "#EF553B",
          "pattern": {
           "shape": ""
          }
         },
         "name": "recall",
         "offsetgroup": "recall",
         "orientation": "v",
         "showlegend": true,
         "textposition": "auto",
         "texttemplate": "%{y:.2f}",
         "type": "bar",
         "x": [
          "event_type",
          "event_what",
          "event_when",
          "event_who"
         ],
         "xaxis": "x",
         "y": {
          "bdata": "VVVVVVVV7T9N5Cra5f2yP0r9CtPDFt4/AOBWltO+vz8=",
          "dtype": "f8"
         },
         "yaxis": "y"
        },
        {
         "alignmentgroup": "True",
         "hovertemplate": "Metric=f1<br>Field=%{x}<br>Score=%{y}<extra></extra>",
         "legendgroup": "f1",
         "marker": {
          "color": "#00cc96",
          "pattern": {
           "shape": ""
          }
         },
         "name": "f1",
         "offsetgroup": "f1",
         "orientation": "v",
         "showlegend": true,
         "textposition": "auto",
         "texttemplate": "%{y:.2f}",
         "type": "bar",
         "x": [
          "event_type",
          "event_what",
          "event_when",
          "event_who"
         ],
         "xaxis": "x",
         "y": {
          "bdata": "LtiCLdiC7T/iT2dgpE6zP93TbJs6C+A/uUe8zRKJwD8=",
          "dtype": "f8"
         },
         "yaxis": "y"
        }
       ],
       "layout": {
        "barmode": "group",
        "legend": {
         "title": {
          "text": "Metric"
         },
         "tracegroupgap": 0
        },
        "template": {
         "data": {
          "bar": [
           {
            "error_x": {
             "color": "#2a3f5f"
            },
            "error_y": {
             "color": "#2a3f5f"
            },
            "marker": {
             "line": {
              "color": "#E5ECF6",
              "width": 0.5
             },
             "pattern": {
              "fillmode": "overlay",
              "size": 10,
              "solidity": 0.2
             }
            },
            "type": "bar"
           }
          ],
          "barpolar": [
           {
            "marker": {
             "line": {
              "color": "#E5ECF6",
              "width": 0.5
             },
             "pattern": {
              "fillmode": "overlay",
              "size": 10,
              "solidity": 0.2
             }
            },
            "type": "barpolar"
           }
          ],
          "carpet": [
           {
            "aaxis": {
             "endlinecolor": "#2a3f5f",
             "gridcolor": "white",
             "linecolor": "white",
             "minorgridcolor": "white",
             "startlinecolor": "#2a3f5f"
            },
            "baxis": {
             "endlinecolor": "#2a3f5f",
             "gridcolor": "white",
             "linecolor": "white",
             "minorgridcolor": "white",
             "startlinecolor": "#2a3f5f"
            },
            "type": "carpet"
           }
          ],
          "choropleth": [
           {
            "colorbar": {
             "outlinewidth": 0,
             "ticks": ""
            },
            "type": "choropleth"
           }
          ],
          "contour": [
           {
            "colorbar": {
             "outlinewidth": 0,
             "ticks": ""
            },
            "colorscale": [
             [
              0,
              "#0d0887"
             ],
             [
              0.1111111111111111,
              "#46039f"
             ],
             [
              0.2222222222222222,
              "#7201a8"
             ],
             [
              0.3333333333333333,
              "#9c179e"
             ],
             [
              0.4444444444444444,
              "#bd3786"
             ],
             [
              0.5555555555555556,
              "#d8576b"
             ],
             [
              0.6666666666666666,
              "#ed7953"
             ],
             [
              0.7777777777777778,
              "#fb9f3a"
             ],
             [
              0.8888888888888888,
              "#fdca26"
             ],
             [
              1,
              "#f0f921"
             ]
            ],
            "type": "contour"
           }
          ],
          "contourcarpet": [
           {
            "colorbar": {
             "outlinewidth": 0,
             "ticks": ""
            },
            "type": "contourcarpet"
           }
          ],
          "heatmap": [
           {
            "colorbar": {
             "outlinewidth": 0,
             "ticks": ""
            },
            "colorscale": [
             [
              0,
              "#0d0887"
             ],
             [
              0.1111111111111111,
              "#46039f"
             ],
             [
              0.2222222222222222,
              "#7201a8"
             ],
             [
              0.3333333333333333,
              "#9c179e"
             ],
             [
              0.4444444444444444,
              "#bd3786"
             ],
             [
              0.5555555555555556,
              "#d8576b"
             ],
             [
              0.6666666666666666,
              "#ed7953"
             ],
             [
              0.7777777777777778,
              "#fb9f3a"
             ],
             [
              0.8888888888888888,
              "#fdca26"
             ],
             [
              1,
              "#f0f921"
             ]
            ],
            "type": "heatmap"
           }
          ],
          "histogram": [
           {
            "marker": {
             "pattern": {
              "fillmode": "overlay",
              "size": 10,
              "solidity": 0.2
             }
            },
            "type": "histogram"
           }
          ],
          "histogram2d": [
           {
            "colorbar": {
             "outlinewidth": 0,
             "ticks": ""
            },
            "colorscale": [
             [
              0,
              "#0d0887"
             ],
             [
              0.1111111111111111,
              "#46039f"
             ],
             [
              0.2222222222222222,
              "#7201a8"
             ],
             [
              0.3333333333333333,
              "#9c179e"
             ],
             [
              0.4444444444444444,
              "#bd3786"
             ],
             [
              0.5555555555555556,
              "#d8576b"
             ],
             [
              0.6666666666666666,
              "#ed7953"
             ],
             [
              0.7777777777777778,
              "#fb9f3a"
             ],
             [
              0.8888888888888888,
              "#fdca26"
             ],
             [
              1,
              "#f0f921"
             ]
            ],
            "type": "histogram2d"
           }
          ],
          "histogram2dcontour": [
           {
            "colorbar": {
             "outlinewidth": 0,
             "ticks": ""
            },
            "colorscale": [
             [
              0,
              "#0d0887"
             ],
             [
              0.1111111111111111,
              "#46039f"
             ],
             [
              0.2222222222222222,
              "#7201a8"
             ],
             [
              0.3333333333333333,
              "#9c179e"
             ],
             [
              0.4444444444444444,
              "#bd3786"
             ],
             [
              0.5555555555555556,
              "#d8576b"
             ],
             [
              0.6666666666666666,
              "#ed7953"
             ],
             [
              0.7777777777777778,
              "#fb9f3a"
             ],
             [
              0.8888888888888888,
              "#fdca26"
             ],
             [
              1,
              "#f0f921"
             ]
            ],
            "type": "histogram2dcontour"
           }
          ],
          "mesh3d": [
           {
            "colorbar": {
             "outlinewidth": 0,
             "ticks": ""
            },
            "type": "mesh3d"
           }
          ],
          "parcoords": [
           {
            "line": {
             "colorbar": {
              "outlinewidth": 0,
              "ticks": ""
             }
            },
            "type": "parcoords"
           }
          ],
          "pie": [
           {
            "automargin": true,
            "type": "pie"
           }
          ],
          "scatter": [
           {
            "fillpattern": {
             "fillmode": "overlay",
             "size": 10,
             "solidity": 0.2
            },
            "type": "scatter"
           }
          ],
          "scatter3d": [
           {
            "line": {
             "colorbar": {
              "outlinewidth": 0,
              "ticks": ""
             }
            },
            "marker": {
             "colorbar": {
              "outlinewidth": 0,
              "ticks": ""
             }
            },
            "type": "scatter3d"
           }
          ],
          "scattercarpet": [
           {
            "marker": {
             "colorbar": {
              "outlinewidth": 0,
              "ticks": ""
             }
            },
            "type": "scattercarpet"
           }
          ],
          "scattergeo": [
           {
            "marker": {
             "colorbar": {
              "outlinewidth": 0,
              "ticks": ""
             }
            },
            "type": "scattergeo"
           }
          ],
          "scattergl": [
           {
            "marker": {
             "colorbar": {
              "outlinewidth": 0,
              "ticks": ""
             }
            },
            "type": "scattergl"
           }
          ],
          "scattermap": [
           {
            "marker": {
             "colorbar": {
              "outlinewidth": 0,
              "ticks": ""
             }
            },
            "type": "scattermap"
           }
          ],
          "scattermapbox": [
           {
            "marker": {
             "colorbar": {
              "outlinewidth": 0,
              "ticks": ""
             }
            },
            "type": "scattermapbox"
           }
          ],
          "scatterpolar": [
           {
            "marker": {
             "colorbar": {
              "outlinewidth": 0,
              "ticks": ""
             }
            },
            "type": "scatterpolar"
           }
          ],
          "scatterpolargl": [
           {
            "marker": {
             "colorbar": {
              "outlinewidth": 0,
              "ticks": ""
             }
            },
            "type": "scatterpolargl"
           }
          ],
          "scatterternary": [
           {
            "marker": {
             "colorbar": {
              "outlinewidth": 0,
              "ticks": ""
             }
            },
            "type": "scatterternary"
           }
          ],
          "surface": [
           {
            "colorbar": {
             "outlinewidth": 0,
             "ticks": ""
            },
            "colorscale": [
             [
              0,
              "#0d0887"
             ],
             [
              0.1111111111111111,
              "#46039f"
             ],
             [
              0.2222222222222222,
              "#7201a8"
             ],
             [
              0.3333333333333333,
              "#9c179e"
             ],
             [
              0.4444444444444444,
              "#bd3786"
             ],
             [
              0.5555555555555556,
              "#d8576b"
             ],
             [
              0.6666666666666666,
              "#ed7953"
             ],
             [
              0.7777777777777778,
              "#fb9f3a"
             ],
             [
              0.8888888888888888,
              "#fdca26"
             ],
             [
              1,
              "#f0f921"
             ]
            ],
            "type": "surface"
           }
          ],
          "table": [
           {
            "cells": {
             "fill": {
              "color": "#EBF0F8"
             },
             "line": {
              "color": "white"
             }
            },
            "header": {
             "fill": {
              "color": "#C8D4E3"
             },
             "line": {
              "color": "white"
             }
            },
            "type": "table"
           }
          ]
         },
         "layout": {
          "annotationdefaults": {
           "arrowcolor": "#2a3f5f",
           "arrowhead": 0,
           "arrowwidth": 1
          },
          "autotypenumbers": "strict",
          "coloraxis": {
           "colorbar": {
            "outlinewidth": 0,
            "ticks": ""
           }
          },
          "colorscale": {
           "diverging": [
            [
             0,
             "#8e0152"
            ],
            [
             0.1,
             "#c51b7d"
            ],
            [
             0.2,
             "#de77ae"
            ],
            [
             0.3,
             "#f1b6da"
            ],
            [
             0.4,
             "#fde0ef"
            ],
            [
             0.5,
             "#f7f7f7"
            ],
            [
             0.6,
             "#e6f5d0"
            ],
            [
             0.7,
             "#b8e186"
            ],
            [
             0.8,
             "#7fbc41"
            ],
            [
             0.9,
             "#4d9221"
            ],
            [
             1,
             "#276419"
            ]
           ],
           "sequential": [
            [
             0,
             "#0d0887"
            ],
            [
             0.1111111111111111,
             "#46039f"
            ],
            [
             0.2222222222222222,
             "#7201a8"
            ],
            [
             0.3333333333333333,
             "#9c179e"
            ],
            [
             0.4444444444444444,
             "#bd3786"
            ],
            [
             0.5555555555555556,
             "#d8576b"
            ],
            [
             0.6666666666666666,
             "#ed7953"
            ],
            [
             0.7777777777777778,
             "#fb9f3a"
            ],
            [
             0.8888888888888888,
             "#fdca26"
            ],
            [
             1,
             "#f0f921"
            ]
           ],
           "sequentialminus": [
            [
             0,
             "#0d0887"
            ],
            [
             0.1111111111111111,
             "#46039f"
            ],
            [
             0.2222222222222222,
             "#7201a8"
            ],
            [
             0.3333333333333333,
             "#9c179e"
            ],
            [
             0.4444444444444444,
             "#bd3786"
            ],
            [
             0.5555555555555556,
             "#d8576b"
            ],
            [
             0.6666666666666666,
             "#ed7953"
            ],
            [
             0.7777777777777778,
             "#fb9f3a"
            ],
            [
             0.8888888888888888,
             "#fdca26"
            ],
            [
             1,
             "#f0f921"
            ]
           ]
          },
          "colorway": [
           "#636efa",
           "#EF553B",
           "#00cc96",
           "#ab63fa",
           "#FFA15A",
           "#19d3f3",
           "#FF6692",
           "#B6E880",
           "#FF97FF",
           "#FECB52"
          ],
          "font": {
           "color": "#2a3f5f"
          },
          "geo": {
           "bgcolor": "white",
           "lakecolor": "white",
           "landcolor": "#E5ECF6",
           "showlakes": true,
           "showland": true,
           "subunitcolor": "white"
          },
          "hoverlabel": {
           "align": "left"
          },
          "hovermode": "closest",
          "mapbox": {
           "style": "light"
          },
          "paper_bgcolor": "white",
          "plot_bgcolor": "#E5ECF6",
          "polar": {
           "angularaxis": {
            "gridcolor": "white",
            "linecolor": "white",
            "ticks": ""
           },
           "bgcolor": "#E5ECF6",
           "radialaxis": {
            "gridcolor": "white",
            "linecolor": "white",
            "ticks": ""
           }
          },
          "scene": {
           "xaxis": {
            "backgroundcolor": "#E5ECF6",
            "gridcolor": "white",
            "gridwidth": 2,
            "linecolor": "white",
            "showbackground": true,
            "ticks": "",
            "zerolinecolor": "white"
           },
           "yaxis": {
            "backgroundcolor": "#E5ECF6",
            "gridcolor": "white",
            "gridwidth": 2,
            "linecolor": "white",
            "showbackground": true,
            "ticks": "",
            "zerolinecolor": "white"
           },
           "zaxis": {
            "backgroundcolor": "#E5ECF6",
            "gridcolor": "white",
            "gridwidth": 2,
            "linecolor": "white",
            "showbackground": true,
            "ticks": "",
            "zerolinecolor": "white"
           }
          },
          "shapedefaults": {
           "line": {
            "color": "#2a3f5f"
           }
          },
          "ternary": {
           "aaxis": {
            "gridcolor": "white",
            "linecolor": "white",
            "ticks": ""
           },
           "baxis": {
            "gridcolor": "white",
            "linecolor": "white",
            "ticks": ""
           },
           "bgcolor": "#E5ECF6",
           "caxis": {
            "gridcolor": "white",
            "linecolor": "white",
            "ticks": ""
           }
          },
          "title": {
           "x": 0.05
          },
          "xaxis": {
           "automargin": true,
           "gridcolor": "white",
           "linecolor": "white",
           "ticks": "",
           "title": {
            "standoff": 15
           },
           "zerolinecolor": "white",
           "zerolinewidth": 2
          },
          "yaxis": {
           "automargin": true,
           "gridcolor": "white",
           "linecolor": "white",
           "ticks": "",
           "title": {
            "standoff": 15
           },
           "zerolinecolor": "white",
           "zerolinewidth": 2
          }
         }
        },
        "title": {
         "text": "Average Precision, Recall, F1 per Field"
        },
        "xaxis": {
         "anchor": "y",
         "domain": [
          0,
          1
         ],
         "title": {
          "text": "Field"
         }
        },
        "yaxis": {
         "anchor": "x",
         "domain": [
          0,
          1
         ],
         "range": [
          0,
          1
         ],
         "title": {
          "text": "Score"
         }
        }
       }
      }
     },
     "metadata": {},
     "output_type": "display_data"
    },
    {
     "data": {
      "application/vnd.plotly.v1+json": {
       "config": {
        "plotlyServerURL": "https://plot.ly"
       },
       "data": [
        {
         "colorbar": {
          "title": {
           "text": "F1 Score"
          }
         },
         "colorscale": [
          [
           0,
           "rgb(255,255,217)"
          ],
          [
           0.125,
           "rgb(237,248,177)"
          ],
          [
           0.25,
           "rgb(199,233,180)"
          ],
          [
           0.375,
           "rgb(127,205,187)"
          ],
          [
           0.5,
           "rgb(65,182,196)"
          ],
          [
           0.625,
           "rgb(29,145,192)"
          ],
          [
           0.75,
           "rgb(34,94,168)"
          ],
          [
           0.875,
           "rgb(37,52,148)"
          ],
          [
           1,
           "rgb(8,29,88)"
          ]
         ],
         "hovertemplate": "Document: %{y}<br>Field: %{x}<br>F1: %{z:.2f}<extra></extra>",
         "text": [
          [
           "1.0",
           "0.0",
           "0.75",
           "0.11"
          ],
          [
           "1.0",
           "0.0",
           "0.29",
           "0.14"
          ],
          [
           "1.0",
           "0.08",
           "0.5",
           "0.13"
          ],
          [
           "0.67",
           "0.0",
           "0.3",
           "0.0"
          ],
          [
           "1.0",
           "0.12",
           "0.83",
           "0.08"
          ],
          [
           "1.0",
           "0.06",
           "0.44",
           "0.0"
          ],
          [
           "1.0",
           "0.0",
           "0.62",
           "0.0"
          ],
          [
           "1.0",
           "0.17",
           "0.67",
           "0.09"
          ],
          [
           "0.0",
           "0.0",
           "0.0",
           "0.0"
          ],
          [
           "0.0",
           "0.0",
           "0.06",
           "0.0"
          ],
          [
           "1.0",
           "0.06",
           "0.64",
           "0.0"
          ],
          [
           "1.0",
           "0.0",
           "0.5",
           "0.35"
          ],
          [
           "1.0",
           "0.0",
           "0.71",
           "0.43"
          ],
          [
           "1.0",
           "0.11",
           "0.36",
           "0.06"
          ],
          [
           "1.0",
           "0.0",
           "0.5",
           "0.41"
          ],
          [
           "1.0",
           "0.17",
           "0.63",
           "0.19"
          ],
          [
           "1.0",
           "0.18",
           "0.71",
           "0.0"
          ],
          [
           "1.0",
           "0.0",
           "0.42",
           "0.0"
          ],
          [
           "1.0",
           "0.19",
           "0.0",
           "0.61"
          ],
          [
           "1.0",
           "0.12",
           "0.69",
           "0.12"
          ],
          [
           "1.0",
           "0.19",
           "0.51",
           "0.13"
          ],
          [
           "1.0",
           "0.34",
           "0.23",
           "0.08"
          ],
          [
           "1.0",
           "0.07",
           "0.76",
           "0.38"
          ],
          [
           "1.0",
           "0.0",
           "0.6",
           "0.17"
          ],
          [
           "1.0",
           "0.07",
           "0.63",
           "0.11"
          ],
          [
           "1.0",
           "0.24",
           "0.67",
           "0.2"
          ],
          [
           "1.0",
           "0.0",
           "0.11",
           "0.0"
          ],
          [
           "1.0",
           "0.0",
           "0.74",
           "0.0"
          ],
          [
           "1.0",
           "0.0",
           "0.59",
           "0.07"
          ],
          [
           "1.0",
           "0.09",
           "0.59",
           "0.0"
          ]
         ],
         "type": "heatmap",
         "x": [
          "event_type",
          "event_what",
          "event_when",
          "event_who"
         ],
         "y": [
          "file:/C:/Users/mnavas/CASE%20OF%20ALTAY%20v.%20TURKEY%20(No.%202).docx",
          "file:/C:/Users/mnavas/CASE%20OF%20BELYAYEV%20AND%20OTHERS%20v.%20UKRAINE.docx",
          "file:/C:/Users/mnavas/CASE%20OF%20BIGUN%20v.%20UKRAINE.docx",
          "file:/C:/Users/mnavas/CASE%20OF%20CABUCAK%20v.%20GERMANY.docx",
          "file:/C:/Users/mnavas/CASE%20OF%20CAN%20v.%20TURKEY.docx",
          "file:/C:/Users/mnavas/CASE%20OF%20CRISTIAN%20CATALIN%20UNGUREANU%20v.%20ROMANIA.docx",
          "file:/C:/Users/mnavas/CASE%20OF%20DOKTOROV%20v.%20BULGARIA.docx",
          "file:/C:/Users/mnavas/CASE%20OF%20EGILL%20EINARSSON%20v.%20ICELAND%20(No.%202).docx",
          "file:/C:/Users/mnavas/CASE%20OF%20H_INESS%20v.%20NORWAY%20(1).docx",
          "file:/C:/Users/mnavas/CASE%20OF%20KOSAITE%20-%20CYPIENE%20AND%20OTHERS%20v.%20LITHUANIA.docx",
          "file:/C:/Users/mnavas/CASE%20OF%20LOZOVYYE%20v.%20RUSSIA.docx",
          "file:/C:/Users/mnavas/CASE%20OF%20M.T.%20v.%20UKRAINE.docx",
          "file:/C:/Users/mnavas/CASE%20OF%20MOSKALEV%20v.%20RUSSIA.docx",
          "file:/C:/Users/mnavas/CASE%20OF%20MURUZHEVA%20v.%20RUSSIA.docx",
          "file:/C:/Users/mnavas/CASE%20OF%20O.C.I.%20AND%20OTHERS%20v.%20ROMANIA.docx",
          "file:/C:/Users/mnavas/CASE%20OF%20PAKHTUSOV%20v.%20RUSSIA.docx",
          "file:/C:/Users/mnavas/CASE%20OF%20PANYUSHKINY%20v.%20RUSSIA.docx",
          "file:/C:/Users/mnavas/CASE%20OF%20RESIN%20v.%20RUSSIA.docx",
          "file:/C:/Users/mnavas/CASE%20OF%20S.N.%20v.%20RUSSIA.docx",
          "file:/C:/Users/mnavas/CASE%20OF%20S.V.%20v.%20ITALY.docx",
          "file:/C:/Users/mnavas/CASE%20OF%20SHVIDKIYE%20v.%20RUSSIA.docx",
          "file:/C:/Users/mnavas/CASE%20OF%20SIDOROVA%20v.%20RUSSIA.docx",
          "file:/C:/Users/mnavas/CASE%20OF%20SOLCAN%20v.%20ROMANIA.docx",
          "file:/C:/Users/mnavas/CASE%20OF%20STANA%20v.%20ROMANIA.docx",
          "file:/C:/Users/mnavas/CASE%20OF%20VISY%20v.%20SLOVAKIA.docx",
          "file:/C:/Users/mnavas/CASE%20OF%20YAKUSHEV%20v.%20UKRAINE.docx",
          "file:/C:/Users/mnavas/CASE%20OF%20YERMAKOVICH%20v.%20RUSSIA.docx",
          "file:/C:/Users/mnavas/CASE%20OF%20YEVGENIY%20ZAKHAROV%20v.%20RUSSIA.docx",
          "file:/C:/Users/mnavas/CASE%20OF%20_NODI%20v.%20HUNGARY.docx",
          "file:/C:/Users/mnavas/Desktop/CASE%20OF%20OTGON%20v.%20THE%20REPUBLIC%20OF%20MOLDOVA.docx"
         ],
         "z": {
          "bdata": "AAAAAAAA8D8AAAAAAAAAAAEAAAAAAOg/HcdxHMdxvD8AAAAAAADwPwAAAAAAAAAAkyRJkiRJ0j+TJEmSJEnCPwAAAAAAAPA/exSuR+F6tD8AAAAAAADgPxEREREREcE/VVVVVVVV5T8AAAAAAAAAAEyuICZXENM/AAAAAAAAAAAAAAAAAADwPwcffPDBB78/YrmnEZZ76j9VVVVVVVW1PwAAAAAAAPA/Hh4eHh4erj8BAAAAAADcPwAAAAAAAAAAAAAAAAAA8D8AAAAAAAAAAAAAAAAAAOQ/AAAAAAAAAAAAAAAAAADwP1VVVVVVVcU/VVVVVVVV5T9FF1100UW3PwAAAAAAAAAAAAAAAAAAAAAAAAAAAAAAAAAAAAAAAAAAAAAAAAAAAAAAAAAAAAAAAAgffPDBB68/AAAAAAAAAAAAAAAAAADwPwcffPDBB68/JUmSJEmS5D8AAAAAAAAAAAAAAAAAAPA/AAAAAAAAAAAAAAAAAADgP5eWlpaWltY/AAAAAAAA8D8AAAAAAAAAAJeWlpaWluY/27Zt27Zt2z8AAAAAAADwPxzHcRzHcbw/CtejcD0K1z8JH3zwwQevPwAAAAAAAPA/AAAAAAAAAAAAAAAAAADgP2G5pxGWe9o/AAAAAAAA8D9VVVVVVVXFP15DeQ3lNeQ/GYZhGIZhyD8AAAAAAADwP7dt27Zt28Y/q6qqqqqq5j8AAAAAAAAAAAAAAAAAAPA/AAAAAAAAAAAor6G8hvLaPwAAAAAAAAAAAAAAAAAA8D/GGGOMMcbIPwAAAAAAAAAA5hS8nIKX4z8AAAAAAADwPwgffPDBB78/dmIndmIn5j8eHh4eHh6+PwAAAAAAAPA/GYZhGIZhyD+RBmmQBmngPxEREREREcE/AAAAAAAA8D98GmG5pxHWP57YiZ3Yic0/VlVVVVVVtT8AAAAAAADwP5Z7GmG5p7E/GYZhGIZh6D8AAAAAAADYPwAAAAAAAPA/AAAAAAAAAAAzMzMzMzPjP1VVVVVVVcU/AAAAAAAA8D+VexphuaexP15DeQ3lNeQ/Ka+hvIbyuj8AAAAAAADwP7cehetRuM4/VFVVVVVV5T+ZmZmZmZnJPwAAAAAAAPA/AAAAAAAAAAAdx3Ecx3G8PwAAAAAAAAAAAAAAAAAA8D8AAAAAAAAAAEN5DeU1lOc/AAAAAAAAAAAAAAAAAADwPwAAAAAAAAAA09LS0tLS4j9pL6G9hPayPwAAAAAAAPA/RRdddNFFtz/T0tLS0tLiPwAAAAAAAAAA",
          "dtype": "f8",
          "shape": "30, 4"
         },
         "zmax": 1,
         "zmin": 0
        }
       ],
       "layout": {
        "height": 900,
        "template": {
         "data": {
          "bar": [
           {
            "error_x": {
             "color": "#2a3f5f"
            },
            "error_y": {
             "color": "#2a3f5f"
            },
            "marker": {
             "line": {
              "color": "#E5ECF6",
              "width": 0.5
             },
             "pattern": {
              "fillmode": "overlay",
              "size": 10,
              "solidity": 0.2
             }
            },
            "type": "bar"
           }
          ],
          "barpolar": [
           {
            "marker": {
             "line": {
              "color": "#E5ECF6",
              "width": 0.5
             },
             "pattern": {
              "fillmode": "overlay",
              "size": 10,
              "solidity": 0.2
             }
            },
            "type": "barpolar"
           }
          ],
          "carpet": [
           {
            "aaxis": {
             "endlinecolor": "#2a3f5f",
             "gridcolor": "white",
             "linecolor": "white",
             "minorgridcolor": "white",
             "startlinecolor": "#2a3f5f"
            },
            "baxis": {
             "endlinecolor": "#2a3f5f",
             "gridcolor": "white",
             "linecolor": "white",
             "minorgridcolor": "white",
             "startlinecolor": "#2a3f5f"
            },
            "type": "carpet"
           }
          ],
          "choropleth": [
           {
            "colorbar": {
             "outlinewidth": 0,
             "ticks": ""
            },
            "type": "choropleth"
           }
          ],
          "contour": [
           {
            "colorbar": {
             "outlinewidth": 0,
             "ticks": ""
            },
            "colorscale": [
             [
              0,
              "#0d0887"
             ],
             [
              0.1111111111111111,
              "#46039f"
             ],
             [
              0.2222222222222222,
              "#7201a8"
             ],
             [
              0.3333333333333333,
              "#9c179e"
             ],
             [
              0.4444444444444444,
              "#bd3786"
             ],
             [
              0.5555555555555556,
              "#d8576b"
             ],
             [
              0.6666666666666666,
              "#ed7953"
             ],
             [
              0.7777777777777778,
              "#fb9f3a"
             ],
             [
              0.8888888888888888,
              "#fdca26"
             ],
             [
              1,
              "#f0f921"
             ]
            ],
            "type": "contour"
           }
          ],
          "contourcarpet": [
           {
            "colorbar": {
             "outlinewidth": 0,
             "ticks": ""
            },
            "type": "contourcarpet"
           }
          ],
          "heatmap": [
           {
            "colorbar": {
             "outlinewidth": 0,
             "ticks": ""
            },
            "colorscale": [
             [
              0,
              "#0d0887"
             ],
             [
              0.1111111111111111,
              "#46039f"
             ],
             [
              0.2222222222222222,
              "#7201a8"
             ],
             [
              0.3333333333333333,
              "#9c179e"
             ],
             [
              0.4444444444444444,
              "#bd3786"
             ],
             [
              0.5555555555555556,
              "#d8576b"
             ],
             [
              0.6666666666666666,
              "#ed7953"
             ],
             [
              0.7777777777777778,
              "#fb9f3a"
             ],
             [
              0.8888888888888888,
              "#fdca26"
             ],
             [
              1,
              "#f0f921"
             ]
            ],
            "type": "heatmap"
           }
          ],
          "histogram": [
           {
            "marker": {
             "pattern": {
              "fillmode": "overlay",
              "size": 10,
              "solidity": 0.2
             }
            },
            "type": "histogram"
           }
          ],
          "histogram2d": [
           {
            "colorbar": {
             "outlinewidth": 0,
             "ticks": ""
            },
            "colorscale": [
             [
              0,
              "#0d0887"
             ],
             [
              0.1111111111111111,
              "#46039f"
             ],
             [
              0.2222222222222222,
              "#7201a8"
             ],
             [
              0.3333333333333333,
              "#9c179e"
             ],
             [
              0.4444444444444444,
              "#bd3786"
             ],
             [
              0.5555555555555556,
              "#d8576b"
             ],
             [
              0.6666666666666666,
              "#ed7953"
             ],
             [
              0.7777777777777778,
              "#fb9f3a"
             ],
             [
              0.8888888888888888,
              "#fdca26"
             ],
             [
              1,
              "#f0f921"
             ]
            ],
            "type": "histogram2d"
           }
          ],
          "histogram2dcontour": [
           {
            "colorbar": {
             "outlinewidth": 0,
             "ticks": ""
            },
            "colorscale": [
             [
              0,
              "#0d0887"
             ],
             [
              0.1111111111111111,
              "#46039f"
             ],
             [
              0.2222222222222222,
              "#7201a8"
             ],
             [
              0.3333333333333333,
              "#9c179e"
             ],
             [
              0.4444444444444444,
              "#bd3786"
             ],
             [
              0.5555555555555556,
              "#d8576b"
             ],
             [
              0.6666666666666666,
              "#ed7953"
             ],
             [
              0.7777777777777778,
              "#fb9f3a"
             ],
             [
              0.8888888888888888,
              "#fdca26"
             ],
             [
              1,
              "#f0f921"
             ]
            ],
            "type": "histogram2dcontour"
           }
          ],
          "mesh3d": [
           {
            "colorbar": {
             "outlinewidth": 0,
             "ticks": ""
            },
            "type": "mesh3d"
           }
          ],
          "parcoords": [
           {
            "line": {
             "colorbar": {
              "outlinewidth": 0,
              "ticks": ""
             }
            },
            "type": "parcoords"
           }
          ],
          "pie": [
           {
            "automargin": true,
            "type": "pie"
           }
          ],
          "scatter": [
           {
            "fillpattern": {
             "fillmode": "overlay",
             "size": 10,
             "solidity": 0.2
            },
            "type": "scatter"
           }
          ],
          "scatter3d": [
           {
            "line": {
             "colorbar": {
              "outlinewidth": 0,
              "ticks": ""
             }
            },
            "marker": {
             "colorbar": {
              "outlinewidth": 0,
              "ticks": ""
             }
            },
            "type": "scatter3d"
           }
          ],
          "scattercarpet": [
           {
            "marker": {
             "colorbar": {
              "outlinewidth": 0,
              "ticks": ""
             }
            },
            "type": "scattercarpet"
           }
          ],
          "scattergeo": [
           {
            "marker": {
             "colorbar": {
              "outlinewidth": 0,
              "ticks": ""
             }
            },
            "type": "scattergeo"
           }
          ],
          "scattergl": [
           {
            "marker": {
             "colorbar": {
              "outlinewidth": 0,
              "ticks": ""
             }
            },
            "type": "scattergl"
           }
          ],
          "scattermap": [
           {
            "marker": {
             "colorbar": {
              "outlinewidth": 0,
              "ticks": ""
             }
            },
            "type": "scattermap"
           }
          ],
          "scattermapbox": [
           {
            "marker": {
             "colorbar": {
              "outlinewidth": 0,
              "ticks": ""
             }
            },
            "type": "scattermapbox"
           }
          ],
          "scatterpolar": [
           {
            "marker": {
             "colorbar": {
              "outlinewidth": 0,
              "ticks": ""
             }
            },
            "type": "scatterpolar"
           }
          ],
          "scatterpolargl": [
           {
            "marker": {
             "colorbar": {
              "outlinewidth": 0,
              "ticks": ""
             }
            },
            "type": "scatterpolargl"
           }
          ],
          "scatterternary": [
           {
            "marker": {
             "colorbar": {
              "outlinewidth": 0,
              "ticks": ""
             }
            },
            "type": "scatterternary"
           }
          ],
          "surface": [
           {
            "colorbar": {
             "outlinewidth": 0,
             "ticks": ""
            },
            "colorscale": [
             [
              0,
              "#0d0887"
             ],
             [
              0.1111111111111111,
              "#46039f"
             ],
             [
              0.2222222222222222,
              "#7201a8"
             ],
             [
              0.3333333333333333,
              "#9c179e"
             ],
             [
              0.4444444444444444,
              "#bd3786"
             ],
             [
              0.5555555555555556,
              "#d8576b"
             ],
             [
              0.6666666666666666,
              "#ed7953"
             ],
             [
              0.7777777777777778,
              "#fb9f3a"
             ],
             [
              0.8888888888888888,
              "#fdca26"
             ],
             [
              1,
              "#f0f921"
             ]
            ],
            "type": "surface"
           }
          ],
          "table": [
           {
            "cells": {
             "fill": {
              "color": "#EBF0F8"
             },
             "line": {
              "color": "white"
             }
            },
            "header": {
             "fill": {
              "color": "#C8D4E3"
             },
             "line": {
              "color": "white"
             }
            },
            "type": "table"
           }
          ]
         },
         "layout": {
          "annotationdefaults": {
           "arrowcolor": "#2a3f5f",
           "arrowhead": 0,
           "arrowwidth": 1
          },
          "autotypenumbers": "strict",
          "coloraxis": {
           "colorbar": {
            "outlinewidth": 0,
            "ticks": ""
           }
          },
          "colorscale": {
           "diverging": [
            [
             0,
             "#8e0152"
            ],
            [
             0.1,
             "#c51b7d"
            ],
            [
             0.2,
             "#de77ae"
            ],
            [
             0.3,
             "#f1b6da"
            ],
            [
             0.4,
             "#fde0ef"
            ],
            [
             0.5,
             "#f7f7f7"
            ],
            [
             0.6,
             "#e6f5d0"
            ],
            [
             0.7,
             "#b8e186"
            ],
            [
             0.8,
             "#7fbc41"
            ],
            [
             0.9,
             "#4d9221"
            ],
            [
             1,
             "#276419"
            ]
           ],
           "sequential": [
            [
             0,
             "#0d0887"
            ],
            [
             0.1111111111111111,
             "#46039f"
            ],
            [
             0.2222222222222222,
             "#7201a8"
            ],
            [
             0.3333333333333333,
             "#9c179e"
            ],
            [
             0.4444444444444444,
             "#bd3786"
            ],
            [
             0.5555555555555556,
             "#d8576b"
            ],
            [
             0.6666666666666666,
             "#ed7953"
            ],
            [
             0.7777777777777778,
             "#fb9f3a"
            ],
            [
             0.8888888888888888,
             "#fdca26"
            ],
            [
             1,
             "#f0f921"
            ]
           ],
           "sequentialminus": [
            [
             0,
             "#0d0887"
            ],
            [
             0.1111111111111111,
             "#46039f"
            ],
            [
             0.2222222222222222,
             "#7201a8"
            ],
            [
             0.3333333333333333,
             "#9c179e"
            ],
            [
             0.4444444444444444,
             "#bd3786"
            ],
            [
             0.5555555555555556,
             "#d8576b"
            ],
            [
             0.6666666666666666,
             "#ed7953"
            ],
            [
             0.7777777777777778,
             "#fb9f3a"
            ],
            [
             0.8888888888888888,
             "#fdca26"
            ],
            [
             1,
             "#f0f921"
            ]
           ]
          },
          "colorway": [
           "#636efa",
           "#EF553B",
           "#00cc96",
           "#ab63fa",
           "#FFA15A",
           "#19d3f3",
           "#FF6692",
           "#B6E880",
           "#FF97FF",
           "#FECB52"
          ],
          "font": {
           "color": "#2a3f5f"
          },
          "geo": {
           "bgcolor": "white",
           "lakecolor": "white",
           "landcolor": "#E5ECF6",
           "showlakes": true,
           "showland": true,
           "subunitcolor": "white"
          },
          "hoverlabel": {
           "align": "left"
          },
          "hovermode": "closest",
          "mapbox": {
           "style": "light"
          },
          "paper_bgcolor": "white",
          "plot_bgcolor": "#E5ECF6",
          "polar": {
           "angularaxis": {
            "gridcolor": "white",
            "linecolor": "white",
            "ticks": ""
           },
           "bgcolor": "#E5ECF6",
           "radialaxis": {
            "gridcolor": "white",
            "linecolor": "white",
            "ticks": ""
           }
          },
          "scene": {
           "xaxis": {
            "backgroundcolor": "#E5ECF6",
            "gridcolor": "white",
            "gridwidth": 2,
            "linecolor": "white",
            "showbackground": true,
            "ticks": "",
            "zerolinecolor": "white"
           },
           "yaxis": {
            "backgroundcolor": "#E5ECF6",
            "gridcolor": "white",
            "gridwidth": 2,
            "linecolor": "white",
            "showbackground": true,
            "ticks": "",
            "zerolinecolor": "white"
           },
           "zaxis": {
            "backgroundcolor": "#E5ECF6",
            "gridcolor": "white",
            "gridwidth": 2,
            "linecolor": "white",
            "showbackground": true,
            "ticks": "",
            "zerolinecolor": "white"
           }
          },
          "shapedefaults": {
           "line": {
            "color": "#2a3f5f"
           }
          },
          "ternary": {
           "aaxis": {
            "gridcolor": "white",
            "linecolor": "white",
            "ticks": ""
           },
           "baxis": {
            "gridcolor": "white",
            "linecolor": "white",
            "ticks": ""
           },
           "bgcolor": "#E5ECF6",
           "caxis": {
            "gridcolor": "white",
            "linecolor": "white",
            "ticks": ""
           }
          },
          "title": {
           "x": 0.05
          },
          "xaxis": {
           "automargin": true,
           "gridcolor": "white",
           "linecolor": "white",
           "ticks": "",
           "title": {
            "standoff": 15
           },
           "zerolinecolor": "white",
           "zerolinewidth": 2
          },
          "yaxis": {
           "automargin": true,
           "gridcolor": "white",
           "linecolor": "white",
           "ticks": "",
           "title": {
            "standoff": 15
           },
           "zerolinecolor": "white",
           "zerolinewidth": 2
          }
         }
        },
        "title": {
         "text": "F1 Score per Document and Field"
        },
        "xaxis": {
         "title": {
          "text": "Field"
         }
        },
        "yaxis": {
         "title": {
          "text": "Document"
         }
        }
       }
      }
     },
     "metadata": {},
     "output_type": "display_data"
    },
    {
     "name": "stdout",
     "output_type": "stream",
     "text": [
      "\n",
      "=== Evaluation for model: mistral:latest ===\n",
      "\n",
      "Document: file:/C:/Users/mnavas/CASE%20OF%20ALTAY%20v.%20TURKEY%20(No.%202).docx\n",
      "event_type: P=1.00 R=1.00 F1=1.00 (TP=2 FP=0 FN=0)\n",
      "event_who: P=0.14 R=0.10 F1=0.12 (TP=1 FP=6 FN=9)\n",
      "event_what: P=0.10 R=0.06 F1=0.07 (TP=1 FP=9 FN=16)\n",
      "event_when: P=0.50 R=0.05 F1=0.10 (TP=1 FP=1 FN=18)\n",
      "\n",
      "Document: file:/C:/Users/mnavas/CASE%20OF%20BELYAYEV%20AND%20OTHERS%20v.%20UKRAINE.docx\n",
      "event_type: P=1.00 R=1.00 F1=1.00 (TP=2 FP=0 FN=0)\n",
      "event_who: P=0.11 R=0.12 F1=0.12 (TP=1 FP=8 FN=7)\n",
      "event_what: P=0.00 R=0.00 F1=0.00 (TP=0 FP=14 FN=7)\n",
      "event_when: P=0.14 R=0.17 F1=0.15 (TP=1 FP=6 FN=5)\n",
      "\n",
      "Document: file:/C:/Users/mnavas/CASE%20OF%20BIGUN%20v.%20UKRAINE.docx\n",
      "event_type: P=1.00 R=1.00 F1=1.00 (TP=2 FP=0 FN=0)\n",
      "event_who: P=0.17 R=0.12 F1=0.14 (TP=1 FP=5 FN=7)\n",
      "event_what: P=0.10 R=0.08 F1=0.09 (TP=1 FP=9 FN=12)\n",
      "event_when: P=0.56 R=0.42 F1=0.48 (TP=5 FP=4 FN=7)\n",
      "\n",
      "Document: file:/C:/Users/mnavas/CASE%20OF%20CABUCAK%20v.%20GERMANY.docx\n",
      "event_type: P=0.00 R=0.00 F1=0.00 (TP=0 FP=1 FN=2)\n",
      "event_who: P=0.00 R=0.00 F1=0.00 (TP=0 FP=1 FN=25)\n",
      "event_what: P=0.00 R=0.00 F1=0.00 (TP=0 FP=2 FN=40)\n",
      "event_when: P=0.00 R=0.00 F1=0.00 (TP=0 FP=1 FN=38)\n",
      "\n",
      "Document: file:/C:/Users/mnavas/CASE%20OF%20CAN%20v.%20TURKEY.docx\n",
      "event_type: P=1.00 R=1.00 F1=1.00 (TP=2 FP=0 FN=0)\n",
      "event_who: P=0.83 R=0.50 F1=0.62 (TP=5 FP=1 FN=5)\n",
      "event_what: P=0.09 R=0.07 F1=0.08 (TP=1 FP=10 FN=14)\n",
      "event_when: P=0.82 R=0.64 F1=0.72 (TP=9 FP=2 FN=5)\n",
      "\n",
      "Document: file:/C:/Users/mnavas/CASE%20OF%20CRISTIAN%20CATALIN%20UNGUREANU%20v.%20ROMANIA.docx\n",
      "event_type: P=1.00 R=1.00 F1=1.00 (TP=2 FP=0 FN=0)\n",
      "event_who: P=0.62 R=0.29 F1=0.40 (TP=5 FP=3 FN=12)\n",
      "event_what: P=0.38 R=0.25 F1=0.30 (TP=5 FP=8 FN=15)\n",
      "event_when: P=0.55 R=0.33 F1=0.41 (TP=6 FP=5 FN=12)\n",
      "\n",
      "Document: file:/C:/Users/mnavas/CASE%20OF%20DOKTOROV%20v.%20BULGARIA.docx\n",
      "event_type: P=1.00 R=1.00 F1=1.00 (TP=2 FP=0 FN=0)\n",
      "event_who: P=0.40 R=0.29 F1=0.33 (TP=2 FP=3 FN=5)\n",
      "event_what: P=0.00 R=0.00 F1=0.00 (TP=0 FP=6 FN=12)\n",
      "event_when: P=0.40 R=0.25 F1=0.31 (TP=2 FP=3 FN=6)\n",
      "\n",
      "Document: file:/C:/Users/mnavas/CASE%20OF%20EGILL%20EINARSSON%20v.%20ICELAND%20(No.%202).docx\n",
      "event_type: P=1.00 R=1.00 F1=1.00 (TP=2 FP=0 FN=0)\n",
      "event_who: P=0.00 R=0.00 F1=0.00 (TP=0 FP=3 FN=12)\n",
      "event_what: P=0.00 R=0.00 F1=0.00 (TP=0 FP=8 FN=14)\n",
      "event_when: P=0.80 R=0.33 F1=0.47 (TP=4 FP=1 FN=8)\n",
      "\n",
      "Document: file:/C:/Users/mnavas/CASE%20OF%20H_INESS%20v.%20NORWAY%20(1).docx\n",
      "event_type: P=0.00 R=0.00 F1=0.00 (TP=0 FP=1 FN=2)\n",
      "event_who: P=0.00 R=0.00 F1=0.00 (TP=0 FP=1 FN=23)\n",
      "event_what: P=0.00 R=0.00 F1=0.00 (TP=0 FP=2 FN=30)\n",
      "event_when: P=0.00 R=0.00 F1=0.00 (TP=0 FP=1 FN=27)\n",
      "\n",
      "Document: file:/C:/Users/mnavas/CASE%20OF%20KOSAITE%20-%20CYPIENE%20AND%20OTHERS%20v.%20LITHUANIA.docx\n",
      "event_type: P=0.00 R=0.00 F1=0.00 (TP=0 FP=2 FN=2)\n",
      "event_who: P=0.00 R=0.00 F1=0.00 (TP=0 FP=4 FN=27)\n",
      "event_what: P=0.00 R=0.00 F1=0.00 (TP=0 FP=4 FN=33)\n",
      "event_when: P=0.00 R=0.00 F1=0.00 (TP=0 FP=2 FN=31)\n",
      "\n",
      "Document: file:/C:/Users/mnavas/CASE%20OF%20LOZOVYYE%20v.%20RUSSIA.docx\n",
      "event_type: P=1.00 R=1.00 F1=1.00 (TP=2 FP=0 FN=0)\n",
      "event_who: P=0.17 R=0.13 F1=0.15 (TP=2 FP=10 FN=13)\n",
      "event_what: P=0.06 R=0.06 F1=0.06 (TP=1 FP=17 FN=17)\n",
      "event_when: P=0.50 R=0.27 F1=0.35 (TP=4 FP=4 FN=11)\n",
      "\n",
      "Document: file:/C:/Users/mnavas/CASE%20OF%20M.T.%20v.%20UKRAINE.docx\n",
      "event_type: P=1.00 R=1.00 F1=1.00 (TP=2 FP=0 FN=0)\n",
      "event_who: P=1.00 R=0.56 F1=0.71 (TP=5 FP=0 FN=4)\n",
      "event_what: P=0.00 R=0.00 F1=0.00 (TP=0 FP=10 FN=14)\n",
      "event_when: P=0.67 R=0.33 F1=0.44 (TP=4 FP=2 FN=8)\n",
      "\n",
      "Document: file:/C:/Users/mnavas/CASE%20OF%20MOSKALEV%20v.%20RUSSIA.docx\n",
      "event_type: P=1.00 R=1.00 F1=1.00 (TP=2 FP=0 FN=0)\n",
      "event_who: P=0.71 R=0.83 F1=0.77 (TP=5 FP=2 FN=1)\n",
      "event_what: P=0.00 R=0.00 F1=0.00 (TP=0 FP=14 FN=11)\n",
      "event_when: P=0.86 R=0.75 F1=0.80 (TP=6 FP=1 FN=2)\n",
      "\n",
      "Document: file:/C:/Users/mnavas/CASE%20OF%20MURUZHEVA%20v.%20RUSSIA.docx\n",
      "event_type: P=1.00 R=1.00 F1=1.00 (TP=2 FP=0 FN=0)\n",
      "event_who: P=0.67 R=0.27 F1=0.39 (TP=6 FP=3 FN=16)\n",
      "event_what: P=0.45 R=0.13 F1=0.20 (TP=5 FP=6 FN=34)\n",
      "event_when: P=0.55 R=0.17 F1=0.26 (TP=6 FP=5 FN=29)\n",
      "\n",
      "Document: file:/C:/Users/mnavas/CASE%20OF%20_NODI%20v.%20HUNGARY.docx\n",
      "event_type: P=1.00 R=1.00 F1=1.00 (TP=2 FP=0 FN=0)\n",
      "event_who: P=0.50 R=0.43 F1=0.46 (TP=6 FP=6 FN=8)\n",
      "event_what: P=0.14 R=0.07 F1=0.09 (TP=2 FP=12 FN=28)\n",
      "event_when: P=0.85 R=0.50 F1=0.63 (TP=11 FP=2 FN=11)\n",
      "\n",
      "Document: file:/C:/Users/mnavas/CASE%20OF%20O.C.I.%20AND%20OTHERS%20v.%20ROMANIA.docx\n",
      "event_type: P=1.00 R=1.00 F1=1.00 (TP=2 FP=0 FN=0)\n",
      "event_who: P=0.50 R=0.19 F1=0.27 (TP=3 FP=3 FN=13)\n",
      "event_what: P=0.38 R=0.13 F1=0.19 (TP=3 FP=5 FN=20)\n",
      "event_when: P=0.67 R=0.20 F1=0.31 (TP=4 FP=2 FN=16)\n",
      "\n",
      "Document: file:/C:/Users/mnavas/Desktop/CASE%20OF%20OTGON%20v.%20THE%20REPUBLIC%20OF%20MOLDOVA.docx\n",
      "event_type: P=1.00 R=1.00 F1=1.00 (TP=2 FP=0 FN=0)\n",
      "event_who: P=0.00 R=0.00 F1=0.00 (TP=0 FP=8 FN=10)\n",
      "event_what: P=0.17 R=0.20 F1=0.18 (TP=2 FP=10 FN=8)\n",
      "event_when: P=0.71 R=0.56 F1=0.63 (TP=5 FP=2 FN=4)\n",
      "\n",
      "Document: file:/C:/Users/mnavas/CASE%20OF%20PAKHTUSOV%20v.%20RUSSIA.docx\n",
      "event_type: P=1.00 R=1.00 F1=1.00 (TP=2 FP=0 FN=0)\n",
      "event_who: P=0.15 R=0.18 F1=0.17 (TP=2 FP=11 FN=9)\n",
      "event_what: P=0.00 R=0.00 F1=0.00 (TP=0 FP=8 FN=12)\n",
      "event_when: P=0.75 R=0.60 F1=0.67 (TP=6 FP=2 FN=4)\n",
      "\n",
      "Document: file:/C:/Users/mnavas/CASE%20OF%20PANYUSHKINY%20v.%20RUSSIA.docx\n",
      "event_type: P=1.00 R=1.00 F1=1.00 (TP=2 FP=0 FN=0)\n",
      "event_who: P=0.11 R=0.06 F1=0.08 (TP=1 FP=8 FN=16)\n",
      "event_what: P=0.22 R=0.06 F1=0.10 (TP=2 FP=7 FN=31)\n",
      "event_when: P=0.67 R=0.15 F1=0.24 (TP=4 FP=2 FN=23)\n",
      "\n",
      "Document: file:/C:/Users/mnavas/CASE%20OF%20RESIN%20v.%20RUSSIA.docx\n",
      "event_type: P=1.00 R=1.00 F1=1.00 (TP=2 FP=0 FN=0)\n",
      "event_who: P=0.50 R=0.29 F1=0.36 (TP=2 FP=2 FN=5)\n",
      "event_what: P=0.00 R=0.00 F1=0.00 (TP=0 FP=12 FN=15)\n",
      "event_when: P=0.43 R=0.23 F1=0.30 (TP=3 FP=4 FN=10)\n",
      "\n",
      "Document: file:/C:/Users/mnavas/CASE%20OF%20S.N.%20v.%20RUSSIA.docx\n",
      "event_type: P=1.00 R=1.00 F1=1.00 (TP=2 FP=0 FN=0)\n",
      "event_who: P=0.56 R=0.17 F1=0.26 (TP=5 FP=4 FN=25)\n",
      "event_what: P=0.17 R=0.06 F1=0.09 (TP=2 FP=10 FN=33)\n",
      "event_when: P=0.00 R=0.00 F1=0.00 (TP=0 FP=9 FN=41)\n",
      "\n",
      "Document: file:/C:/Users/mnavas/CASE%20OF%20S.V.%20v.%20ITALY.docx\n",
      "event_type: P=1.00 R=1.00 F1=1.00 (TP=2 FP=0 FN=0)\n",
      "event_who: P=0.00 R=0.00 F1=0.00 (TP=0 FP=7 FN=10)\n",
      "event_what: P=0.00 R=0.00 F1=0.00 (TP=0 FP=11 FN=17)\n",
      "event_when: P=0.36 R=0.31 F1=0.33 (TP=4 FP=7 FN=9)\n",
      "\n",
      "Document: file:/C:/Users/mnavas/CASE%20OF%20SHVIDKIYE%20v.%20RUSSIA.docx\n",
      "event_type: P=1.00 R=1.00 F1=1.00 (TP=2 FP=0 FN=0)\n",
      "event_who: P=0.17 R=0.13 F1=0.15 (TP=2 FP=10 FN=13)\n",
      "event_what: P=0.20 R=0.18 F1=0.19 (TP=4 FP=16 FN=18)\n",
      "event_when: P=0.64 R=0.35 F1=0.45 (TP=7 FP=4 FN=13)\n",
      "\n",
      "Document: file:/C:/Users/mnavas/CASE%20OF%20SIDOROVA%20v.%20RUSSIA.docx\n",
      "event_type: P=1.00 R=1.00 F1=1.00 (TP=2 FP=0 FN=0)\n",
      "event_who: P=0.75 R=0.55 F1=0.63 (TP=6 FP=2 FN=5)\n",
      "event_what: P=0.31 R=0.31 F1=0.31 (TP=4 FP=9 FN=9)\n",
      "event_when: P=0.17 R=0.15 F1=0.16 (TP=2 FP=10 FN=11)\n",
      "\n",
      "Document: file:/C:/Users/mnavas/CASE%20OF%20SOLCAN%20v.%20ROMANIA.docx\n",
      "event_type: P=1.00 R=1.00 F1=1.00 (TP=2 FP=0 FN=0)\n",
      "event_who: P=0.83 R=0.56 F1=0.67 (TP=5 FP=1 FN=4)\n",
      "event_what: P=0.36 R=0.31 F1=0.33 (TP=4 FP=7 FN=9)\n",
      "event_when: P=0.70 R=0.64 F1=0.67 (TP=7 FP=3 FN=4)\n",
      "\n",
      "Document: file:/C:/Users/mnavas/CASE%20OF%20STANA%20v.%20ROMANIA.docx\n",
      "event_type: P=1.00 R=1.00 F1=1.00 (TP=2 FP=0 FN=0)\n",
      "event_who: P=0.50 R=0.20 F1=0.29 (TP=1 FP=1 FN=4)\n",
      "event_what: P=0.00 R=0.00 F1=0.00 (TP=0 FP=11 FN=6)\n",
      "event_when: P=0.75 R=0.75 F1=0.75 (TP=3 FP=1 FN=1)\n",
      "\n",
      "Document: file:/C:/Users/mnavas/CASE%20OF%20VISY%20v.%20SLOVAKIA.docx\n",
      "event_type: P=1.00 R=1.00 F1=1.00 (TP=2 FP=0 FN=0)\n",
      "event_who: P=0.14 R=0.10 F1=0.12 (TP=1 FP=6 FN=9)\n",
      "event_what: P=0.09 R=0.07 F1=0.08 (TP=1 FP=10 FN=14)\n",
      "event_when: P=0.75 R=0.55 F1=0.63 (TP=6 FP=2 FN=5)\n",
      "\n",
      "Document: file:/C:/Users/mnavas/CASE%20OF%20YAKUSHEV%20v.%20UKRAINE.docx\n",
      "event_type: P=1.00 R=1.00 F1=1.00 (TP=2 FP=0 FN=0)\n",
      "event_who: P=0.36 R=0.44 F1=0.40 (TP=4 FP=7 FN=5)\n",
      "event_what: P=0.16 R=0.27 F1=0.20 (TP=3 FP=16 FN=8)\n",
      "event_when: P=0.73 R=0.80 F1=0.76 (TP=8 FP=3 FN=2)\n",
      "\n",
      "Document: file:/C:/Users/mnavas/CASE%20OF%20YERMAKOVICH%20v.%20RUSSIA.docx\n",
      "event_type: P=1.00 R=1.00 F1=1.00 (TP=2 FP=0 FN=0)\n",
      "event_who: P=0.57 R=0.17 F1=0.27 (TP=4 FP=3 FN=19)\n",
      "event_what: P=0.00 R=0.00 F1=0.00 (TP=0 FP=10 FN=26)\n",
      "event_when: P=0.11 R=0.04 F1=0.05 (TP=1 FP=8 FN=27)\n",
      "\n",
      "Document: file:/C:/Users/mnavas/CASE%20OF%20YEVGENIY%20ZAKHAROV%20v.%20RUSSIA.docx\n",
      "event_type: P=1.00 R=1.00 F1=1.00 (TP=2 FP=0 FN=0)\n",
      "event_who: P=0.33 R=0.17 F1=0.22 (TP=2 FP=4 FN=10)\n",
      "event_what: P=0.00 R=0.00 F1=0.00 (TP=0 FP=12 FN=17)\n",
      "event_when: P=0.33 R=0.18 F1=0.24 (TP=2 FP=4 FN=9)\n"
     ]
    },
    {
     "data": {
      "application/vnd.plotly.v1+json": {
       "config": {
        "plotlyServerURL": "https://plot.ly"
       },
       "data": [
        {
         "alignmentgroup": "True",
         "hovertemplate": "Metric=precision<br>Field=%{x}<br>Score=%{y}<extra></extra>",
         "legendgroup": "precision",
         "marker": {
          "color": "#636efa",
          "pattern": {
           "shape": ""
          }
         },
         "name": "precision",
         "offsetgroup": "precision",
         "orientation": "v",
         "showlegend": true,
         "textposition": "auto",
         "texttemplate": "%{y:.2f}",
         "type": "bar",
         "x": [
          "event_type",
          "event_what",
          "event_when",
          "event_who"
         ],
         "xaxis": "x",
         "y": {
          "bdata": "zczMzMzM7D8smg036dW8P9w8CslY4N8/fdjToM0O1z8=",
          "dtype": "f8"
         },
         "yaxis": "y"
        },
        {
         "alignmentgroup": "True",
         "hovertemplate": "Metric=recall<br>Field=%{x}<br>Score=%{y}<extra></extra>",
         "legendgroup": "recall",
         "marker": {
          "color": "#EF553B",
          "pattern": {
           "shape": ""
          }
         },
         "name": "recall",
         "offsetgroup": "recall",
         "orientation": "v",
         "showlegend": true,
         "textposition": "auto",
         "texttemplate": "%{y:.2f}",
         "type": "bar",
         "x": [
          "event_type",
          "event_what",
          "event_when",
          "event_who"
         ],
         "xaxis": "x",
         "y": {
          "bdata": "zczMzMzM7D//4v9rYoWzP76dvREzuNQ/b2FmqpE9zT8=",
          "dtype": "f8"
         },
         "yaxis": "y"
        },
        {
         "alignmentgroup": "True",
         "hovertemplate": "Metric=f1<br>Field=%{x}<br>Score=%{y}<extra></extra>",
         "legendgroup": "f1",
         "marker": {
          "color": "#00cc96",
          "pattern": {
           "shape": ""
          }
         },
         "name": "f1",
         "offsetgroup": "f1",
         "orientation": "v",
         "showlegend": true,
         "textposition": "auto",
         "texttemplate": "%{y:.2f}",
         "type": "bar",
         "x": [
          "event_type",
          "event_what",
          "event_when",
          "event_who"
         ],
         "xaxis": "x",
         "y": {
          "bdata": "zczMzMzM7D+9DieFBca1P46k8c4xHtg/sJANiDJD0T8=",
          "dtype": "f8"
         },
         "yaxis": "y"
        }
       ],
       "layout": {
        "barmode": "group",
        "legend": {
         "title": {
          "text": "Metric"
         },
         "tracegroupgap": 0
        },
        "template": {
         "data": {
          "bar": [
           {
            "error_x": {
             "color": "#2a3f5f"
            },
            "error_y": {
             "color": "#2a3f5f"
            },
            "marker": {
             "line": {
              "color": "#E5ECF6",
              "width": 0.5
             },
             "pattern": {
              "fillmode": "overlay",
              "size": 10,
              "solidity": 0.2
             }
            },
            "type": "bar"
           }
          ],
          "barpolar": [
           {
            "marker": {
             "line": {
              "color": "#E5ECF6",
              "width": 0.5
             },
             "pattern": {
              "fillmode": "overlay",
              "size": 10,
              "solidity": 0.2
             }
            },
            "type": "barpolar"
           }
          ],
          "carpet": [
           {
            "aaxis": {
             "endlinecolor": "#2a3f5f",
             "gridcolor": "white",
             "linecolor": "white",
             "minorgridcolor": "white",
             "startlinecolor": "#2a3f5f"
            },
            "baxis": {
             "endlinecolor": "#2a3f5f",
             "gridcolor": "white",
             "linecolor": "white",
             "minorgridcolor": "white",
             "startlinecolor": "#2a3f5f"
            },
            "type": "carpet"
           }
          ],
          "choropleth": [
           {
            "colorbar": {
             "outlinewidth": 0,
             "ticks": ""
            },
            "type": "choropleth"
           }
          ],
          "contour": [
           {
            "colorbar": {
             "outlinewidth": 0,
             "ticks": ""
            },
            "colorscale": [
             [
              0,
              "#0d0887"
             ],
             [
              0.1111111111111111,
              "#46039f"
             ],
             [
              0.2222222222222222,
              "#7201a8"
             ],
             [
              0.3333333333333333,
              "#9c179e"
             ],
             [
              0.4444444444444444,
              "#bd3786"
             ],
             [
              0.5555555555555556,
              "#d8576b"
             ],
             [
              0.6666666666666666,
              "#ed7953"
             ],
             [
              0.7777777777777778,
              "#fb9f3a"
             ],
             [
              0.8888888888888888,
              "#fdca26"
             ],
             [
              1,
              "#f0f921"
             ]
            ],
            "type": "contour"
           }
          ],
          "contourcarpet": [
           {
            "colorbar": {
             "outlinewidth": 0,
             "ticks": ""
            },
            "type": "contourcarpet"
           }
          ],
          "heatmap": [
           {
            "colorbar": {
             "outlinewidth": 0,
             "ticks": ""
            },
            "colorscale": [
             [
              0,
              "#0d0887"
             ],
             [
              0.1111111111111111,
              "#46039f"
             ],
             [
              0.2222222222222222,
              "#7201a8"
             ],
             [
              0.3333333333333333,
              "#9c179e"
             ],
             [
              0.4444444444444444,
              "#bd3786"
             ],
             [
              0.5555555555555556,
              "#d8576b"
             ],
             [
              0.6666666666666666,
              "#ed7953"
             ],
             [
              0.7777777777777778,
              "#fb9f3a"
             ],
             [
              0.8888888888888888,
              "#fdca26"
             ],
             [
              1,
              "#f0f921"
             ]
            ],
            "type": "heatmap"
           }
          ],
          "histogram": [
           {
            "marker": {
             "pattern": {
              "fillmode": "overlay",
              "size": 10,
              "solidity": 0.2
             }
            },
            "type": "histogram"
           }
          ],
          "histogram2d": [
           {
            "colorbar": {
             "outlinewidth": 0,
             "ticks": ""
            },
            "colorscale": [
             [
              0,
              "#0d0887"
             ],
             [
              0.1111111111111111,
              "#46039f"
             ],
             [
              0.2222222222222222,
              "#7201a8"
             ],
             [
              0.3333333333333333,
              "#9c179e"
             ],
             [
              0.4444444444444444,
              "#bd3786"
             ],
             [
              0.5555555555555556,
              "#d8576b"
             ],
             [
              0.6666666666666666,
              "#ed7953"
             ],
             [
              0.7777777777777778,
              "#fb9f3a"
             ],
             [
              0.8888888888888888,
              "#fdca26"
             ],
             [
              1,
              "#f0f921"
             ]
            ],
            "type": "histogram2d"
           }
          ],
          "histogram2dcontour": [
           {
            "colorbar": {
             "outlinewidth": 0,
             "ticks": ""
            },
            "colorscale": [
             [
              0,
              "#0d0887"
             ],
             [
              0.1111111111111111,
              "#46039f"
             ],
             [
              0.2222222222222222,
              "#7201a8"
             ],
             [
              0.3333333333333333,
              "#9c179e"
             ],
             [
              0.4444444444444444,
              "#bd3786"
             ],
             [
              0.5555555555555556,
              "#d8576b"
             ],
             [
              0.6666666666666666,
              "#ed7953"
             ],
             [
              0.7777777777777778,
              "#fb9f3a"
             ],
             [
              0.8888888888888888,
              "#fdca26"
             ],
             [
              1,
              "#f0f921"
             ]
            ],
            "type": "histogram2dcontour"
           }
          ],
          "mesh3d": [
           {
            "colorbar": {
             "outlinewidth": 0,
             "ticks": ""
            },
            "type": "mesh3d"
           }
          ],
          "parcoords": [
           {
            "line": {
             "colorbar": {
              "outlinewidth": 0,
              "ticks": ""
             }
            },
            "type": "parcoords"
           }
          ],
          "pie": [
           {
            "automargin": true,
            "type": "pie"
           }
          ],
          "scatter": [
           {
            "fillpattern": {
             "fillmode": "overlay",
             "size": 10,
             "solidity": 0.2
            },
            "type": "scatter"
           }
          ],
          "scatter3d": [
           {
            "line": {
             "colorbar": {
              "outlinewidth": 0,
              "ticks": ""
             }
            },
            "marker": {
             "colorbar": {
              "outlinewidth": 0,
              "ticks": ""
             }
            },
            "type": "scatter3d"
           }
          ],
          "scattercarpet": [
           {
            "marker": {
             "colorbar": {
              "outlinewidth": 0,
              "ticks": ""
             }
            },
            "type": "scattercarpet"
           }
          ],
          "scattergeo": [
           {
            "marker": {
             "colorbar": {
              "outlinewidth": 0,
              "ticks": ""
             }
            },
            "type": "scattergeo"
           }
          ],
          "scattergl": [
           {
            "marker": {
             "colorbar": {
              "outlinewidth": 0,
              "ticks": ""
             }
            },
            "type": "scattergl"
           }
          ],
          "scattermap": [
           {
            "marker": {
             "colorbar": {
              "outlinewidth": 0,
              "ticks": ""
             }
            },
            "type": "scattermap"
           }
          ],
          "scattermapbox": [
           {
            "marker": {
             "colorbar": {
              "outlinewidth": 0,
              "ticks": ""
             }
            },
            "type": "scattermapbox"
           }
          ],
          "scatterpolar": [
           {
            "marker": {
             "colorbar": {
              "outlinewidth": 0,
              "ticks": ""
             }
            },
            "type": "scatterpolar"
           }
          ],
          "scatterpolargl": [
           {
            "marker": {
             "colorbar": {
              "outlinewidth": 0,
              "ticks": ""
             }
            },
            "type": "scatterpolargl"
           }
          ],
          "scatterternary": [
           {
            "marker": {
             "colorbar": {
              "outlinewidth": 0,
              "ticks": ""
             }
            },
            "type": "scatterternary"
           }
          ],
          "surface": [
           {
            "colorbar": {
             "outlinewidth": 0,
             "ticks": ""
            },
            "colorscale": [
             [
              0,
              "#0d0887"
             ],
             [
              0.1111111111111111,
              "#46039f"
             ],
             [
              0.2222222222222222,
              "#7201a8"
             ],
             [
              0.3333333333333333,
              "#9c179e"
             ],
             [
              0.4444444444444444,
              "#bd3786"
             ],
             [
              0.5555555555555556,
              "#d8576b"
             ],
             [
              0.6666666666666666,
              "#ed7953"
             ],
             [
              0.7777777777777778,
              "#fb9f3a"
             ],
             [
              0.8888888888888888,
              "#fdca26"
             ],
             [
              1,
              "#f0f921"
             ]
            ],
            "type": "surface"
           }
          ],
          "table": [
           {
            "cells": {
             "fill": {
              "color": "#EBF0F8"
             },
             "line": {
              "color": "white"
             }
            },
            "header": {
             "fill": {
              "color": "#C8D4E3"
             },
             "line": {
              "color": "white"
             }
            },
            "type": "table"
           }
          ]
         },
         "layout": {
          "annotationdefaults": {
           "arrowcolor": "#2a3f5f",
           "arrowhead": 0,
           "arrowwidth": 1
          },
          "autotypenumbers": "strict",
          "coloraxis": {
           "colorbar": {
            "outlinewidth": 0,
            "ticks": ""
           }
          },
          "colorscale": {
           "diverging": [
            [
             0,
             "#8e0152"
            ],
            [
             0.1,
             "#c51b7d"
            ],
            [
             0.2,
             "#de77ae"
            ],
            [
             0.3,
             "#f1b6da"
            ],
            [
             0.4,
             "#fde0ef"
            ],
            [
             0.5,
             "#f7f7f7"
            ],
            [
             0.6,
             "#e6f5d0"
            ],
            [
             0.7,
             "#b8e186"
            ],
            [
             0.8,
             "#7fbc41"
            ],
            [
             0.9,
             "#4d9221"
            ],
            [
             1,
             "#276419"
            ]
           ],
           "sequential": [
            [
             0,
             "#0d0887"
            ],
            [
             0.1111111111111111,
             "#46039f"
            ],
            [
             0.2222222222222222,
             "#7201a8"
            ],
            [
             0.3333333333333333,
             "#9c179e"
            ],
            [
             0.4444444444444444,
             "#bd3786"
            ],
            [
             0.5555555555555556,
             "#d8576b"
            ],
            [
             0.6666666666666666,
             "#ed7953"
            ],
            [
             0.7777777777777778,
             "#fb9f3a"
            ],
            [
             0.8888888888888888,
             "#fdca26"
            ],
            [
             1,
             "#f0f921"
            ]
           ],
           "sequentialminus": [
            [
             0,
             "#0d0887"
            ],
            [
             0.1111111111111111,
             "#46039f"
            ],
            [
             0.2222222222222222,
             "#7201a8"
            ],
            [
             0.3333333333333333,
             "#9c179e"
            ],
            [
             0.4444444444444444,
             "#bd3786"
            ],
            [
             0.5555555555555556,
             "#d8576b"
            ],
            [
             0.6666666666666666,
             "#ed7953"
            ],
            [
             0.7777777777777778,
             "#fb9f3a"
            ],
            [
             0.8888888888888888,
             "#fdca26"
            ],
            [
             1,
             "#f0f921"
            ]
           ]
          },
          "colorway": [
           "#636efa",
           "#EF553B",
           "#00cc96",
           "#ab63fa",
           "#FFA15A",
           "#19d3f3",
           "#FF6692",
           "#B6E880",
           "#FF97FF",
           "#FECB52"
          ],
          "font": {
           "color": "#2a3f5f"
          },
          "geo": {
           "bgcolor": "white",
           "lakecolor": "white",
           "landcolor": "#E5ECF6",
           "showlakes": true,
           "showland": true,
           "subunitcolor": "white"
          },
          "hoverlabel": {
           "align": "left"
          },
          "hovermode": "closest",
          "mapbox": {
           "style": "light"
          },
          "paper_bgcolor": "white",
          "plot_bgcolor": "#E5ECF6",
          "polar": {
           "angularaxis": {
            "gridcolor": "white",
            "linecolor": "white",
            "ticks": ""
           },
           "bgcolor": "#E5ECF6",
           "radialaxis": {
            "gridcolor": "white",
            "linecolor": "white",
            "ticks": ""
           }
          },
          "scene": {
           "xaxis": {
            "backgroundcolor": "#E5ECF6",
            "gridcolor": "white",
            "gridwidth": 2,
            "linecolor": "white",
            "showbackground": true,
            "ticks": "",
            "zerolinecolor": "white"
           },
           "yaxis": {
            "backgroundcolor": "#E5ECF6",
            "gridcolor": "white",
            "gridwidth": 2,
            "linecolor": "white",
            "showbackground": true,
            "ticks": "",
            "zerolinecolor": "white"
           },
           "zaxis": {
            "backgroundcolor": "#E5ECF6",
            "gridcolor": "white",
            "gridwidth": 2,
            "linecolor": "white",
            "showbackground": true,
            "ticks": "",
            "zerolinecolor": "white"
           }
          },
          "shapedefaults": {
           "line": {
            "color": "#2a3f5f"
           }
          },
          "ternary": {
           "aaxis": {
            "gridcolor": "white",
            "linecolor": "white",
            "ticks": ""
           },
           "baxis": {
            "gridcolor": "white",
            "linecolor": "white",
            "ticks": ""
           },
           "bgcolor": "#E5ECF6",
           "caxis": {
            "gridcolor": "white",
            "linecolor": "white",
            "ticks": ""
           }
          },
          "title": {
           "x": 0.05
          },
          "xaxis": {
           "automargin": true,
           "gridcolor": "white",
           "linecolor": "white",
           "ticks": "",
           "title": {
            "standoff": 15
           },
           "zerolinecolor": "white",
           "zerolinewidth": 2
          },
          "yaxis": {
           "automargin": true,
           "gridcolor": "white",
           "linecolor": "white",
           "ticks": "",
           "title": {
            "standoff": 15
           },
           "zerolinecolor": "white",
           "zerolinewidth": 2
          }
         }
        },
        "title": {
         "text": "Average Precision, Recall, F1 per Field"
        },
        "xaxis": {
         "anchor": "y",
         "domain": [
          0,
          1
         ],
         "title": {
          "text": "Field"
         }
        },
        "yaxis": {
         "anchor": "x",
         "domain": [
          0,
          1
         ],
         "range": [
          0,
          1
         ],
         "title": {
          "text": "Score"
         }
        }
       }
      }
     },
     "metadata": {},
     "output_type": "display_data"
    },
    {
     "data": {
      "application/vnd.plotly.v1+json": {
       "config": {
        "plotlyServerURL": "https://plot.ly"
       },
       "data": [
        {
         "colorbar": {
          "title": {
           "text": "F1 Score"
          }
         },
         "colorscale": [
          [
           0,
           "rgb(255,255,217)"
          ],
          [
           0.125,
           "rgb(237,248,177)"
          ],
          [
           0.25,
           "rgb(199,233,180)"
          ],
          [
           0.375,
           "rgb(127,205,187)"
          ],
          [
           0.5,
           "rgb(65,182,196)"
          ],
          [
           0.625,
           "rgb(29,145,192)"
          ],
          [
           0.75,
           "rgb(34,94,168)"
          ],
          [
           0.875,
           "rgb(37,52,148)"
          ],
          [
           1,
           "rgb(8,29,88)"
          ]
         ],
         "hovertemplate": "Document: %{y}<br>Field: %{x}<br>F1: %{z:.2f}<extra></extra>",
         "text": [
          [
           "1.0",
           "0.07",
           "0.1",
           "0.12"
          ],
          [
           "1.0",
           "0.0",
           "0.15",
           "0.12"
          ],
          [
           "1.0",
           "0.09",
           "0.48",
           "0.14"
          ],
          [
           "0.0",
           "0.0",
           "0.0",
           "0.0"
          ],
          [
           "1.0",
           "0.08",
           "0.72",
           "0.62"
          ],
          [
           "1.0",
           "0.3",
           "0.41",
           "0.4"
          ],
          [
           "1.0",
           "0.0",
           "0.31",
           "0.33"
          ],
          [
           "1.0",
           "0.0",
           "0.47",
           "0.0"
          ],
          [
           "0.0",
           "0.0",
           "0.0",
           "0.0"
          ],
          [
           "0.0",
           "0.0",
           "0.0",
           "0.0"
          ],
          [
           "1.0",
           "0.06",
           "0.35",
           "0.15"
          ],
          [
           "1.0",
           "0.0",
           "0.44",
           "0.71"
          ],
          [
           "1.0",
           "0.0",
           "0.8",
           "0.77"
          ],
          [
           "1.0",
           "0.2",
           "0.26",
           "0.39"
          ],
          [
           "1.0",
           "0.19",
           "0.31",
           "0.27"
          ],
          [
           "1.0",
           "0.0",
           "0.67",
           "0.17"
          ],
          [
           "1.0",
           "0.1",
           "0.24",
           "0.08"
          ],
          [
           "1.0",
           "0.0",
           "0.3",
           "0.36"
          ],
          [
           "1.0",
           "0.09",
           "0.0",
           "0.26"
          ],
          [
           "1.0",
           "0.0",
           "0.33",
           "0.0"
          ],
          [
           "1.0",
           "0.19",
           "0.45",
           "0.15"
          ],
          [
           "1.0",
           "0.31",
           "0.16",
           "0.63"
          ],
          [
           "1.0",
           "0.33",
           "0.67",
           "0.67"
          ],
          [
           "1.0",
           "0.0",
           "0.75",
           "0.29"
          ],
          [
           "1.0",
           "0.08",
           "0.63",
           "0.12"
          ],
          [
           "1.0",
           "0.2",
           "0.76",
           "0.4"
          ],
          [
           "1.0",
           "0.0",
           "0.05",
           "0.27"
          ],
          [
           "1.0",
           "0.0",
           "0.24",
           "0.22"
          ],
          [
           "1.0",
           "0.09",
           "0.63",
           "0.46"
          ],
          [
           "1.0",
           "0.18",
           "0.63",
           "0.0"
          ]
         ],
         "type": "heatmap",
         "x": [
          "event_type",
          "event_what",
          "event_when",
          "event_who"
         ],
         "y": [
          "file:/C:/Users/mnavas/CASE%20OF%20ALTAY%20v.%20TURKEY%20(No.%202).docx",
          "file:/C:/Users/mnavas/CASE%20OF%20BELYAYEV%20AND%20OTHERS%20v.%20UKRAINE.docx",
          "file:/C:/Users/mnavas/CASE%20OF%20BIGUN%20v.%20UKRAINE.docx",
          "file:/C:/Users/mnavas/CASE%20OF%20CABUCAK%20v.%20GERMANY.docx",
          "file:/C:/Users/mnavas/CASE%20OF%20CAN%20v.%20TURKEY.docx",
          "file:/C:/Users/mnavas/CASE%20OF%20CRISTIAN%20CATALIN%20UNGUREANU%20v.%20ROMANIA.docx",
          "file:/C:/Users/mnavas/CASE%20OF%20DOKTOROV%20v.%20BULGARIA.docx",
          "file:/C:/Users/mnavas/CASE%20OF%20EGILL%20EINARSSON%20v.%20ICELAND%20(No.%202).docx",
          "file:/C:/Users/mnavas/CASE%20OF%20H_INESS%20v.%20NORWAY%20(1).docx",
          "file:/C:/Users/mnavas/CASE%20OF%20KOSAITE%20-%20CYPIENE%20AND%20OTHERS%20v.%20LITHUANIA.docx",
          "file:/C:/Users/mnavas/CASE%20OF%20LOZOVYYE%20v.%20RUSSIA.docx",
          "file:/C:/Users/mnavas/CASE%20OF%20M.T.%20v.%20UKRAINE.docx",
          "file:/C:/Users/mnavas/CASE%20OF%20MOSKALEV%20v.%20RUSSIA.docx",
          "file:/C:/Users/mnavas/CASE%20OF%20MURUZHEVA%20v.%20RUSSIA.docx",
          "file:/C:/Users/mnavas/CASE%20OF%20O.C.I.%20AND%20OTHERS%20v.%20ROMANIA.docx",
          "file:/C:/Users/mnavas/CASE%20OF%20PAKHTUSOV%20v.%20RUSSIA.docx",
          "file:/C:/Users/mnavas/CASE%20OF%20PANYUSHKINY%20v.%20RUSSIA.docx",
          "file:/C:/Users/mnavas/CASE%20OF%20RESIN%20v.%20RUSSIA.docx",
          "file:/C:/Users/mnavas/CASE%20OF%20S.N.%20v.%20RUSSIA.docx",
          "file:/C:/Users/mnavas/CASE%20OF%20S.V.%20v.%20ITALY.docx",
          "file:/C:/Users/mnavas/CASE%20OF%20SHVIDKIYE%20v.%20RUSSIA.docx",
          "file:/C:/Users/mnavas/CASE%20OF%20SIDOROVA%20v.%20RUSSIA.docx",
          "file:/C:/Users/mnavas/CASE%20OF%20SOLCAN%20v.%20ROMANIA.docx",
          "file:/C:/Users/mnavas/CASE%20OF%20STANA%20v.%20ROMANIA.docx",
          "file:/C:/Users/mnavas/CASE%20OF%20VISY%20v.%20SLOVAKIA.docx",
          "file:/C:/Users/mnavas/CASE%20OF%20YAKUSHEV%20v.%20UKRAINE.docx",
          "file:/C:/Users/mnavas/CASE%20OF%20YERMAKOVICH%20v.%20RUSSIA.docx",
          "file:/C:/Users/mnavas/CASE%20OF%20YEVGENIY%20ZAKHAROV%20v.%20RUSSIA.docx",
          "file:/C:/Users/mnavas/CASE%20OF%20_NODI%20v.%20HUNGARY.docx",
          "file:/C:/Users/mnavas/Desktop/CASE%20OF%20OTGON%20v.%20THE%20REPUBLIC%20OF%20MOLDOVA.docx"
         ],
         "z": {
          "bdata": "AAAAAAAA8D9pL6G9hPayPxmGYRiGYbg/Hh4eHh4evj8AAAAAAADwPwAAAAAAAAAAEzuxEzuxwz8eHh4eHh6+PwAAAAAAAPA/ZCELWchCtj+f53me53neP5MkSZIkScI/AAAAAAAAAAAAAAAAAAAAAAAAAAAAAAAAAAAAAAAAAAAAAAAAAADwPxM7sRM7sbM/C9ejcD0K5z8AAAAAAADkPwAAAAAAAPA/ZZNNNtlk0z9huacRlnvaP5qZmZmZmdk/AAAAAAAA8D8AAAAAAAAAABQ7sRM7sdM/VVVVVVVV1T8AAAAAAADwPwAAAAAAAAAAHh4eHh4e3j8AAAAAAAAAAAAAAAAAAAAAAAAAAAAAAAAAAAAAAAAAAAAAAAAAAAAAAAAAAAAAAAAAAAAAAAAAAAAAAAAAAAAAAAAAAAAAAAAAAAAAAADwPxzHcRzHcaw/ZSELWchC1j9oL6G9hPbCPwAAAAAAAPA/AAAAAAAAAAAcx3Ecx3HcP7dt27Zt2+Y/AAAAAAAA8D8AAAAAAAAAAJmZmZmZmek/2Imd2Imd6D8AAAAAAADwP5iZmZmZmck/ClnIQhay0D/GGGOMMcbYPwAAAAAAAPA/xRhjjDHGyD8TO7ETO7HTP3TRRRdddNE/AAAAAAAA8D8AAAAAAAAAAFRVVVVVVeU/VlVVVVVVxT8AAAAAAADwPxiGYRiGYbg/CB988MEHzz8TO7ETO7GzPwAAAAAAAPA/AAAAAAAAAAAzMzMzMzPTP0YXXXTRRdc/AAAAAAAA8D9XEJMriMm1PwAAAAAAAAAAkAZpkAZp0D8AAAAAAADwPwAAAAAAAAAAVlVVVVVV1T8AAAAAAAAAAAAAAAAAAPA/GYZhGIZhyD/nnHPOOefcP2gvob2E9sI/AAAAAAAA8D8UO7ETO7HTP3sUrkfhesQ/XkN5DeU15D8AAAAAAADwP1ZVVVVVVdU/VVVVVVVV5T9WVVVVVVXlPwAAAAAAAPA/AAAAAAAAAAAAAAAAAADoP5MkSZIkSdI/AAAAAAAA8D8TO7ETO7GzP15DeQ3lNeQ/Hh4eHh4evj8AAAAAAADwP5mZmZmZmck/GYZhGIZh6D+ZmZmZmZnZPwAAAAAAAPA/AAAAAAAAAADQusEU+ayrPxEREREREdE/AAAAAAAA8D8AAAAAAAAAAB8eHh4eHs4/HMdxHMdxzD8AAAAAAADwP0YXXXTRRbc/1EEd1EEd5D+d2Imd2IndPwAAAAAAAPA/RRdddNFFxz8BAAAAAADkPwAAAAAAAAAA",
          "dtype": "f8",
          "shape": "30, 4"
         },
         "zmax": 1,
         "zmin": 0
        }
       ],
       "layout": {
        "height": 900,
        "template": {
         "data": {
          "bar": [
           {
            "error_x": {
             "color": "#2a3f5f"
            },
            "error_y": {
             "color": "#2a3f5f"
            },
            "marker": {
             "line": {
              "color": "#E5ECF6",
              "width": 0.5
             },
             "pattern": {
              "fillmode": "overlay",
              "size": 10,
              "solidity": 0.2
             }
            },
            "type": "bar"
           }
          ],
          "barpolar": [
           {
            "marker": {
             "line": {
              "color": "#E5ECF6",
              "width": 0.5
             },
             "pattern": {
              "fillmode": "overlay",
              "size": 10,
              "solidity": 0.2
             }
            },
            "type": "barpolar"
           }
          ],
          "carpet": [
           {
            "aaxis": {
             "endlinecolor": "#2a3f5f",
             "gridcolor": "white",
             "linecolor": "white",
             "minorgridcolor": "white",
             "startlinecolor": "#2a3f5f"
            },
            "baxis": {
             "endlinecolor": "#2a3f5f",
             "gridcolor": "white",
             "linecolor": "white",
             "minorgridcolor": "white",
             "startlinecolor": "#2a3f5f"
            },
            "type": "carpet"
           }
          ],
          "choropleth": [
           {
            "colorbar": {
             "outlinewidth": 0,
             "ticks": ""
            },
            "type": "choropleth"
           }
          ],
          "contour": [
           {
            "colorbar": {
             "outlinewidth": 0,
             "ticks": ""
            },
            "colorscale": [
             [
              0,
              "#0d0887"
             ],
             [
              0.1111111111111111,
              "#46039f"
             ],
             [
              0.2222222222222222,
              "#7201a8"
             ],
             [
              0.3333333333333333,
              "#9c179e"
             ],
             [
              0.4444444444444444,
              "#bd3786"
             ],
             [
              0.5555555555555556,
              "#d8576b"
             ],
             [
              0.6666666666666666,
              "#ed7953"
             ],
             [
              0.7777777777777778,
              "#fb9f3a"
             ],
             [
              0.8888888888888888,
              "#fdca26"
             ],
             [
              1,
              "#f0f921"
             ]
            ],
            "type": "contour"
           }
          ],
          "contourcarpet": [
           {
            "colorbar": {
             "outlinewidth": 0,
             "ticks": ""
            },
            "type": "contourcarpet"
           }
          ],
          "heatmap": [
           {
            "colorbar": {
             "outlinewidth": 0,
             "ticks": ""
            },
            "colorscale": [
             [
              0,
              "#0d0887"
             ],
             [
              0.1111111111111111,
              "#46039f"
             ],
             [
              0.2222222222222222,
              "#7201a8"
             ],
             [
              0.3333333333333333,
              "#9c179e"
             ],
             [
              0.4444444444444444,
              "#bd3786"
             ],
             [
              0.5555555555555556,
              "#d8576b"
             ],
             [
              0.6666666666666666,
              "#ed7953"
             ],
             [
              0.7777777777777778,
              "#fb9f3a"
             ],
             [
              0.8888888888888888,
              "#fdca26"
             ],
             [
              1,
              "#f0f921"
             ]
            ],
            "type": "heatmap"
           }
          ],
          "histogram": [
           {
            "marker": {
             "pattern": {
              "fillmode": "overlay",
              "size": 10,
              "solidity": 0.2
             }
            },
            "type": "histogram"
           }
          ],
          "histogram2d": [
           {
            "colorbar": {
             "outlinewidth": 0,
             "ticks": ""
            },
            "colorscale": [
             [
              0,
              "#0d0887"
             ],
             [
              0.1111111111111111,
              "#46039f"
             ],
             [
              0.2222222222222222,
              "#7201a8"
             ],
             [
              0.3333333333333333,
              "#9c179e"
             ],
             [
              0.4444444444444444,
              "#bd3786"
             ],
             [
              0.5555555555555556,
              "#d8576b"
             ],
             [
              0.6666666666666666,
              "#ed7953"
             ],
             [
              0.7777777777777778,
              "#fb9f3a"
             ],
             [
              0.8888888888888888,
              "#fdca26"
             ],
             [
              1,
              "#f0f921"
             ]
            ],
            "type": "histogram2d"
           }
          ],
          "histogram2dcontour": [
           {
            "colorbar": {
             "outlinewidth": 0,
             "ticks": ""
            },
            "colorscale": [
             [
              0,
              "#0d0887"
             ],
             [
              0.1111111111111111,
              "#46039f"
             ],
             [
              0.2222222222222222,
              "#7201a8"
             ],
             [
              0.3333333333333333,
              "#9c179e"
             ],
             [
              0.4444444444444444,
              "#bd3786"
             ],
             [
              0.5555555555555556,
              "#d8576b"
             ],
             [
              0.6666666666666666,
              "#ed7953"
             ],
             [
              0.7777777777777778,
              "#fb9f3a"
             ],
             [
              0.8888888888888888,
              "#fdca26"
             ],
             [
              1,
              "#f0f921"
             ]
            ],
            "type": "histogram2dcontour"
           }
          ],
          "mesh3d": [
           {
            "colorbar": {
             "outlinewidth": 0,
             "ticks": ""
            },
            "type": "mesh3d"
           }
          ],
          "parcoords": [
           {
            "line": {
             "colorbar": {
              "outlinewidth": 0,
              "ticks": ""
             }
            },
            "type": "parcoords"
           }
          ],
          "pie": [
           {
            "automargin": true,
            "type": "pie"
           }
          ],
          "scatter": [
           {
            "fillpattern": {
             "fillmode": "overlay",
             "size": 10,
             "solidity": 0.2
            },
            "type": "scatter"
           }
          ],
          "scatter3d": [
           {
            "line": {
             "colorbar": {
              "outlinewidth": 0,
              "ticks": ""
             }
            },
            "marker": {
             "colorbar": {
              "outlinewidth": 0,
              "ticks": ""
             }
            },
            "type": "scatter3d"
           }
          ],
          "scattercarpet": [
           {
            "marker": {
             "colorbar": {
              "outlinewidth": 0,
              "ticks": ""
             }
            },
            "type": "scattercarpet"
           }
          ],
          "scattergeo": [
           {
            "marker": {
             "colorbar": {
              "outlinewidth": 0,
              "ticks": ""
             }
            },
            "type": "scattergeo"
           }
          ],
          "scattergl": [
           {
            "marker": {
             "colorbar": {
              "outlinewidth": 0,
              "ticks": ""
             }
            },
            "type": "scattergl"
           }
          ],
          "scattermap": [
           {
            "marker": {
             "colorbar": {
              "outlinewidth": 0,
              "ticks": ""
             }
            },
            "type": "scattermap"
           }
          ],
          "scattermapbox": [
           {
            "marker": {
             "colorbar": {
              "outlinewidth": 0,
              "ticks": ""
             }
            },
            "type": "scattermapbox"
           }
          ],
          "scatterpolar": [
           {
            "marker": {
             "colorbar": {
              "outlinewidth": 0,
              "ticks": ""
             }
            },
            "type": "scatterpolar"
           }
          ],
          "scatterpolargl": [
           {
            "marker": {
             "colorbar": {
              "outlinewidth": 0,
              "ticks": ""
             }
            },
            "type": "scatterpolargl"
           }
          ],
          "scatterternary": [
           {
            "marker": {
             "colorbar": {
              "outlinewidth": 0,
              "ticks": ""
             }
            },
            "type": "scatterternary"
           }
          ],
          "surface": [
           {
            "colorbar": {
             "outlinewidth": 0,
             "ticks": ""
            },
            "colorscale": [
             [
              0,
              "#0d0887"
             ],
             [
              0.1111111111111111,
              "#46039f"
             ],
             [
              0.2222222222222222,
              "#7201a8"
             ],
             [
              0.3333333333333333,
              "#9c179e"
             ],
             [
              0.4444444444444444,
              "#bd3786"
             ],
             [
              0.5555555555555556,
              "#d8576b"
             ],
             [
              0.6666666666666666,
              "#ed7953"
             ],
             [
              0.7777777777777778,
              "#fb9f3a"
             ],
             [
              0.8888888888888888,
              "#fdca26"
             ],
             [
              1,
              "#f0f921"
             ]
            ],
            "type": "surface"
           }
          ],
          "table": [
           {
            "cells": {
             "fill": {
              "color": "#EBF0F8"
             },
             "line": {
              "color": "white"
             }
            },
            "header": {
             "fill": {
              "color": "#C8D4E3"
             },
             "line": {
              "color": "white"
             }
            },
            "type": "table"
           }
          ]
         },
         "layout": {
          "annotationdefaults": {
           "arrowcolor": "#2a3f5f",
           "arrowhead": 0,
           "arrowwidth": 1
          },
          "autotypenumbers": "strict",
          "coloraxis": {
           "colorbar": {
            "outlinewidth": 0,
            "ticks": ""
           }
          },
          "colorscale": {
           "diverging": [
            [
             0,
             "#8e0152"
            ],
            [
             0.1,
             "#c51b7d"
            ],
            [
             0.2,
             "#de77ae"
            ],
            [
             0.3,
             "#f1b6da"
            ],
            [
             0.4,
             "#fde0ef"
            ],
            [
             0.5,
             "#f7f7f7"
            ],
            [
             0.6,
             "#e6f5d0"
            ],
            [
             0.7,
             "#b8e186"
            ],
            [
             0.8,
             "#7fbc41"
            ],
            [
             0.9,
             "#4d9221"
            ],
            [
             1,
             "#276419"
            ]
           ],
           "sequential": [
            [
             0,
             "#0d0887"
            ],
            [
             0.1111111111111111,
             "#46039f"
            ],
            [
             0.2222222222222222,
             "#7201a8"
            ],
            [
             0.3333333333333333,
             "#9c179e"
            ],
            [
             0.4444444444444444,
             "#bd3786"
            ],
            [
             0.5555555555555556,
             "#d8576b"
            ],
            [
             0.6666666666666666,
             "#ed7953"
            ],
            [
             0.7777777777777778,
             "#fb9f3a"
            ],
            [
             0.8888888888888888,
             "#fdca26"
            ],
            [
             1,
             "#f0f921"
            ]
           ],
           "sequentialminus": [
            [
             0,
             "#0d0887"
            ],
            [
             0.1111111111111111,
             "#46039f"
            ],
            [
             0.2222222222222222,
             "#7201a8"
            ],
            [
             0.3333333333333333,
             "#9c179e"
            ],
            [
             0.4444444444444444,
             "#bd3786"
            ],
            [
             0.5555555555555556,
             "#d8576b"
            ],
            [
             0.6666666666666666,
             "#ed7953"
            ],
            [
             0.7777777777777778,
             "#fb9f3a"
            ],
            [
             0.8888888888888888,
             "#fdca26"
            ],
            [
             1,
             "#f0f921"
            ]
           ]
          },
          "colorway": [
           "#636efa",
           "#EF553B",
           "#00cc96",
           "#ab63fa",
           "#FFA15A",
           "#19d3f3",
           "#FF6692",
           "#B6E880",
           "#FF97FF",
           "#FECB52"
          ],
          "font": {
           "color": "#2a3f5f"
          },
          "geo": {
           "bgcolor": "white",
           "lakecolor": "white",
           "landcolor": "#E5ECF6",
           "showlakes": true,
           "showland": true,
           "subunitcolor": "white"
          },
          "hoverlabel": {
           "align": "left"
          },
          "hovermode": "closest",
          "mapbox": {
           "style": "light"
          },
          "paper_bgcolor": "white",
          "plot_bgcolor": "#E5ECF6",
          "polar": {
           "angularaxis": {
            "gridcolor": "white",
            "linecolor": "white",
            "ticks": ""
           },
           "bgcolor": "#E5ECF6",
           "radialaxis": {
            "gridcolor": "white",
            "linecolor": "white",
            "ticks": ""
           }
          },
          "scene": {
           "xaxis": {
            "backgroundcolor": "#E5ECF6",
            "gridcolor": "white",
            "gridwidth": 2,
            "linecolor": "white",
            "showbackground": true,
            "ticks": "",
            "zerolinecolor": "white"
           },
           "yaxis": {
            "backgroundcolor": "#E5ECF6",
            "gridcolor": "white",
            "gridwidth": 2,
            "linecolor": "white",
            "showbackground": true,
            "ticks": "",
            "zerolinecolor": "white"
           },
           "zaxis": {
            "backgroundcolor": "#E5ECF6",
            "gridcolor": "white",
            "gridwidth": 2,
            "linecolor": "white",
            "showbackground": true,
            "ticks": "",
            "zerolinecolor": "white"
           }
          },
          "shapedefaults": {
           "line": {
            "color": "#2a3f5f"
           }
          },
          "ternary": {
           "aaxis": {
            "gridcolor": "white",
            "linecolor": "white",
            "ticks": ""
           },
           "baxis": {
            "gridcolor": "white",
            "linecolor": "white",
            "ticks": ""
           },
           "bgcolor": "#E5ECF6",
           "caxis": {
            "gridcolor": "white",
            "linecolor": "white",
            "ticks": ""
           }
          },
          "title": {
           "x": 0.05
          },
          "xaxis": {
           "automargin": true,
           "gridcolor": "white",
           "linecolor": "white",
           "ticks": "",
           "title": {
            "standoff": 15
           },
           "zerolinecolor": "white",
           "zerolinewidth": 2
          },
          "yaxis": {
           "automargin": true,
           "gridcolor": "white",
           "linecolor": "white",
           "ticks": "",
           "title": {
            "standoff": 15
           },
           "zerolinecolor": "white",
           "zerolinewidth": 2
          }
         }
        },
        "title": {
         "text": "F1 Score per Document and Field"
        },
        "xaxis": {
         "title": {
          "text": "Field"
         }
        },
        "yaxis": {
         "title": {
          "text": "Document"
         }
        }
       }
      }
     },
     "metadata": {},
     "output_type": "display_data"
    }
   ],
   "source": [
    "gold_path = \"input/gold_standard_events.json\"\n",
    "pred_path = \"output/270525/chat_responses_with_instructions.json\"\n",
    "model_names = get_all_model_names(pred_path)\n",
    "\n",
    "all_results = {}\n",
    "for model_name in model_names:\n",
    "    print(f\"\\n=== Evaluation for model: {model_name} ===\")\n",
    "    results = evaluate(gold_path, pred_path, model_name=model_name)\n",
    "    all_results[model_name] = results\n",
    "    for doc, fields in results.items():\n",
    "        print(f\"\\nDocument: {doc}\")\n",
    "        for field, scores in fields.items():\n",
    "            print(f\"{field}: P={scores['precision']:.2f} R={scores['recall']:.2f} F1={scores['f1']:.2f} (TP={scores['tp']} FP={scores['fp']} FN={scores['fn']})\")\n",
    "    plot_overview(results)"
   ]
  }
 ],
 "metadata": {
  "kernelspec": {
   "display_name": ".venv",
   "language": "python",
   "name": "python3"
  },
  "language_info": {
   "codemirror_mode": {
    "name": "ipython",
    "version": 3
   },
   "file_extension": ".py",
   "mimetype": "text/x-python",
   "name": "python",
   "nbconvert_exporter": "python",
   "pygments_lexer": "ipython3",
   "version": "3.13.3"
  }
 },
 "nbformat": 4,
 "nbformat_minor": 5
}
