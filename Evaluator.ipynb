{
 "cells": [
  {
   "cell_type": "code",
   "execution_count": 12,
   "id": "38c0bbb4",
   "metadata": {},
   "outputs": [],
   "source": [
    "import matplotlib.pyplot as plt\n",
    "import seaborn as sns\n",
    "import pandas as pd\n",
    "import plotly.express as px\n",
    "import plotly.graph_objects as go\n",
    "from EvaluatorUtils import evaluate\n",
    "import json"
   ]
  },
  {
   "cell_type": "code",
   "execution_count": 7,
   "id": "364163f5",
   "metadata": {},
   "outputs": [],
   "source": [
    "def plot_overview(results):\n",
    "    # Flatten results into a DataFrame\n",
    "    rows = []\n",
    "    for doc, fields in results.items():\n",
    "        for field, scores in fields.items():\n",
    "            row = {\"Document\": doc, \"Field\": field}\n",
    "            row.update(scores)\n",
    "            rows.append(row)\n",
    "    df = pd.DataFrame(rows)\n",
    "\n",
    "    # Barplot: average metrics per field\n",
    "    avg_df = df.groupby(\"Field\")[[\"precision\", \"recall\", \"f1\"]].mean().reset_index()\n",
    "    avg_df = avg_df.melt(id_vars=\"Field\", value_vars=[\"precision\", \"recall\", \"f1\"], var_name=\"Metric\", value_name=\"Score\")\n",
    "\n",
    "    fig_bar = px.bar(\n",
    "        avg_df,\n",
    "        x=\"Field\",\n",
    "        y=\"Score\",\n",
    "        color=\"Metric\",\n",
    "        barmode=\"group\",\n",
    "        title=\"Average Precision, Recall, F1 per Field\",\n",
    "        text_auto=\".2f\",\n",
    "        range_y=[0, 1]\n",
    "    )\n",
    "    fig_bar.update_layout(yaxis_title=\"Score\", legend_title=\"Metric\")\n",
    "    fig_bar.show()\n",
    "\n",
    "    # Heatmap: F1 per document and field\n",
    "    pivot = df.pivot(index=\"Document\", columns=\"Field\", values=\"f1\")\n",
    "    fig_heatmap = go.Figure(\n",
    "        data=go.Heatmap(\n",
    "            z=pivot.values,\n",
    "            x=pivot.columns,\n",
    "            y=pivot.index,\n",
    "            colorscale=\"YlGnBu\",\n",
    "            colorbar=dict(title=\"F1 Score\"),\n",
    "            zmin=0, zmax=1,\n",
    "            text=pivot.round(2).astype(str),\n",
    "            hovertemplate=\"Document: %{y}<br>Field: %{x}<br>F1: %{z:.2f}<extra></extra>\"\n",
    "        )\n",
    "    )\n",
    "    fig_heatmap.update_layout(\n",
    "        title=\"F1 Score per Document and Field\",\n",
    "        xaxis_title=\"Field\",\n",
    "        yaxis_title=\"Document\",\n",
    "        height=max(400, 30 * len(pivot))\n",
    "    )\n",
    "    fig_heatmap.show()"
   ]
  },
  {
   "cell_type": "code",
   "execution_count": 13,
   "id": "10aac49b",
   "metadata": {},
   "outputs": [],
   "source": [
    "def get_all_model_names(pred_path):\n",
    "    with open(pred_path, encoding=\"utf-8\") as f:\n",
    "        preds = json.load(f)\n",
    "    model_names = set()\n",
    "    for doc in preds:\n",
    "        anns = doc.get(\"annotations\", [])\n",
    "        for ann in anns:\n",
    "            if \"model_name\" in ann:\n",
    "                model_names.add(ann[\"model_name\"])\n",
    "    return sorted(model_names)"
   ]
  },
  {
   "cell_type": "code",
   "execution_count": 19,
   "id": "0fd681b7",
   "metadata": {},
   "outputs": [
    {
     "name": "stdout",
     "output_type": "stream",
     "text": [
      "\n",
      "=== Evaluation for model: gemma3:12b ===\n",
      "\n",
      "Document: file:/C:/Users/mnavas/CASE%20OF%20ALTAY%20v.%20TURKEY%20(No.%202).docx\n",
      "event_type: P=1.00 R=1.00 F1=1.00 (TP=2 FP=0 FN=0)\n",
      "event_who: P=0.00 R=0.00 F1=0.00 (TP=0 FP=4 FN=10)\n",
      "event_what: P=0.25 R=0.06 F1=0.10 (TP=1 FP=3 FN=16)\n",
      "event_when: P=0.33 R=0.05 F1=0.09 (TP=1 FP=2 FN=18)\n",
      "\n",
      "Document: file:/C:/Users/mnavas/CASE%20OF%20BELYAYEV%20AND%20OTHERS%20v.%20UKRAINE.docx\n",
      "event_type: P=1.00 R=1.00 F1=1.00 (TP=2 FP=0 FN=0)\n",
      "event_who: P=0.12 R=0.12 F1=0.12 (TP=1 FP=7 FN=7)\n",
      "event_what: P=0.17 R=0.14 F1=0.15 (TP=1 FP=5 FN=6)\n",
      "event_when: P=0.17 R=0.17 F1=0.17 (TP=1 FP=5 FN=5)\n",
      "\n",
      "Document: file:/C:/Users/mnavas/CASE%20OF%20BIGUN%20v.%20UKRAINE.docx\n",
      "event_type: P=1.00 R=0.50 F1=0.67 (TP=1 FP=0 FN=1)\n",
      "event_who: P=0.00 R=0.00 F1=0.00 (TP=0 FP=3 FN=8)\n",
      "event_what: P=0.00 R=0.00 F1=0.00 (TP=0 FP=4 FN=13)\n",
      "event_when: P=0.33 R=0.08 F1=0.13 (TP=1 FP=2 FN=11)\n",
      "\n",
      "Document: file:/C:/Users/mnavas/CASE%20OF%20CABUCAK%20v.%20GERMANY.docx\n",
      "event_type: P=0.00 R=0.00 F1=0.00 (TP=0 FP=0 FN=2)\n",
      "event_who: P=0.00 R=0.00 F1=0.00 (TP=0 FP=0 FN=25)\n",
      "event_what: P=0.00 R=0.00 F1=0.00 (TP=0 FP=0 FN=40)\n",
      "event_when: P=0.00 R=0.00 F1=0.00 (TP=0 FP=0 FN=38)\n",
      "\n",
      "Document: file:/C:/Users/mnavas/CASE%20OF%20CAN%20v.%20TURKEY.docx\n",
      "event_type: P=0.00 R=0.00 F1=0.00 (TP=0 FP=0 FN=2)\n",
      "event_who: P=0.00 R=0.00 F1=0.00 (TP=0 FP=0 FN=10)\n",
      "event_what: P=0.00 R=0.00 F1=0.00 (TP=0 FP=0 FN=15)\n",
      "event_when: P=0.00 R=0.00 F1=0.00 (TP=0 FP=0 FN=14)\n",
      "\n",
      "Document: file:/C:/Users/mnavas/CASE%20OF%20CRISTIAN%20CATALIN%20UNGUREANU%20v.%20ROMANIA.docx\n",
      "event_type: P=0.00 R=0.00 F1=0.00 (TP=0 FP=0 FN=2)\n",
      "event_who: P=0.00 R=0.00 F1=0.00 (TP=0 FP=0 FN=17)\n",
      "event_what: P=0.00 R=0.00 F1=0.00 (TP=0 FP=0 FN=20)\n",
      "event_when: P=0.00 R=0.00 F1=0.00 (TP=0 FP=0 FN=18)\n",
      "\n",
      "Document: file:/C:/Users/mnavas/CASE%20OF%20DOKTOROV%20v.%20BULGARIA.docx\n",
      "event_type: P=0.00 R=0.00 F1=0.00 (TP=0 FP=0 FN=2)\n",
      "event_who: P=0.00 R=0.00 F1=0.00 (TP=0 FP=0 FN=7)\n",
      "event_what: P=0.00 R=0.00 F1=0.00 (TP=0 FP=0 FN=12)\n",
      "event_when: P=0.00 R=0.00 F1=0.00 (TP=0 FP=0 FN=8)\n",
      "\n",
      "Document: file:/C:/Users/mnavas/CASE%20OF%20EGILL%20EINARSSON%20v.%20ICELAND%20(No.%202).docx\n",
      "event_type: P=0.00 R=0.00 F1=0.00 (TP=0 FP=0 FN=2)\n",
      "event_who: P=0.00 R=0.00 F1=0.00 (TP=0 FP=0 FN=12)\n",
      "event_what: P=0.00 R=0.00 F1=0.00 (TP=0 FP=0 FN=14)\n",
      "event_when: P=0.00 R=0.00 F1=0.00 (TP=0 FP=0 FN=12)\n",
      "\n",
      "Document: file:/C:/Users/mnavas/CASE%20OF%20H_INESS%20v.%20NORWAY%20(1).docx\n",
      "event_type: P=0.00 R=0.00 F1=0.00 (TP=0 FP=0 FN=2)\n",
      "event_who: P=0.00 R=0.00 F1=0.00 (TP=0 FP=0 FN=23)\n",
      "event_what: P=0.00 R=0.00 F1=0.00 (TP=0 FP=0 FN=30)\n",
      "event_when: P=0.00 R=0.00 F1=0.00 (TP=0 FP=0 FN=27)\n",
      "\n",
      "Document: file:/C:/Users/mnavas/CASE%20OF%20KOSAITE%20-%20CYPIENE%20AND%20OTHERS%20v.%20LITHUANIA.docx\n",
      "event_type: P=0.00 R=0.00 F1=0.00 (TP=0 FP=0 FN=2)\n",
      "event_who: P=0.00 R=0.00 F1=0.00 (TP=0 FP=0 FN=27)\n",
      "event_what: P=0.00 R=0.00 F1=0.00 (TP=0 FP=0 FN=33)\n",
      "event_when: P=0.00 R=0.00 F1=0.00 (TP=0 FP=0 FN=31)\n",
      "\n",
      "Document: file:/C:/Users/mnavas/CASE%20OF%20LOZOVYYE%20v.%20RUSSIA.docx\n",
      "event_type: P=0.00 R=0.00 F1=0.00 (TP=0 FP=0 FN=2)\n",
      "event_who: P=0.00 R=0.00 F1=0.00 (TP=0 FP=0 FN=15)\n",
      "event_what: P=0.00 R=0.00 F1=0.00 (TP=0 FP=0 FN=18)\n",
      "event_when: P=0.00 R=0.00 F1=0.00 (TP=0 FP=0 FN=15)\n",
      "\n",
      "Document: file:/C:/Users/mnavas/CASE%20OF%20M.T.%20v.%20UKRAINE.docx\n",
      "event_type: P=0.00 R=0.00 F1=0.00 (TP=0 FP=0 FN=2)\n",
      "event_who: P=0.00 R=0.00 F1=0.00 (TP=0 FP=0 FN=9)\n",
      "event_what: P=0.00 R=0.00 F1=0.00 (TP=0 FP=0 FN=14)\n",
      "event_when: P=0.00 R=0.00 F1=0.00 (TP=0 FP=0 FN=12)\n",
      "\n",
      "Document: file:/C:/Users/mnavas/CASE%20OF%20MOSKALEV%20v.%20RUSSIA.docx\n",
      "event_type: P=0.00 R=0.00 F1=0.00 (TP=0 FP=0 FN=2)\n",
      "event_who: P=0.00 R=0.00 F1=0.00 (TP=0 FP=0 FN=6)\n",
      "event_what: P=0.00 R=0.00 F1=0.00 (TP=0 FP=0 FN=11)\n",
      "event_when: P=0.00 R=0.00 F1=0.00 (TP=0 FP=0 FN=8)\n",
      "\n",
      "Document: file:/C:/Users/mnavas/CASE%20OF%20MURUZHEVA%20v.%20RUSSIA.docx\n",
      "event_type: P=0.00 R=0.00 F1=0.00 (TP=0 FP=0 FN=2)\n",
      "event_who: P=0.00 R=0.00 F1=0.00 (TP=0 FP=0 FN=22)\n",
      "event_what: P=0.00 R=0.00 F1=0.00 (TP=0 FP=0 FN=39)\n",
      "event_when: P=0.00 R=0.00 F1=0.00 (TP=0 FP=0 FN=35)\n",
      "\n",
      "Document: file:/C:/Users/mnavas/CASE%20OF%20_NODI%20v.%20HUNGARY.docx\n",
      "event_type: P=0.00 R=0.00 F1=0.00 (TP=0 FP=0 FN=2)\n",
      "event_who: P=0.00 R=0.00 F1=0.00 (TP=0 FP=0 FN=14)\n",
      "event_what: P=0.00 R=0.00 F1=0.00 (TP=0 FP=0 FN=30)\n",
      "event_when: P=0.00 R=0.00 F1=0.00 (TP=0 FP=0 FN=22)\n",
      "\n",
      "Document: file:/C:/Users/mnavas/CASE%20OF%20O.C.I.%20AND%20OTHERS%20v.%20ROMANIA.docx\n",
      "event_type: P=0.00 R=0.00 F1=0.00 (TP=0 FP=0 FN=2)\n",
      "event_who: P=0.00 R=0.00 F1=0.00 (TP=0 FP=0 FN=16)\n",
      "event_what: P=0.00 R=0.00 F1=0.00 (TP=0 FP=0 FN=23)\n",
      "event_when: P=0.00 R=0.00 F1=0.00 (TP=0 FP=0 FN=20)\n",
      "\n",
      "Document: file:/C:/Users/mnavas/Desktop/CASE%20OF%20OTGON%20v.%20THE%20REPUBLIC%20OF%20MOLDOVA.docx\n",
      "event_type: P=0.00 R=0.00 F1=0.00 (TP=0 FP=0 FN=2)\n",
      "event_who: P=0.00 R=0.00 F1=0.00 (TP=0 FP=0 FN=10)\n",
      "event_what: P=0.00 R=0.00 F1=0.00 (TP=0 FP=0 FN=10)\n",
      "event_when: P=0.00 R=0.00 F1=0.00 (TP=0 FP=0 FN=9)\n",
      "\n",
      "Document: file:/C:/Users/mnavas/CASE%20OF%20PAKHTUSOV%20v.%20RUSSIA.docx\n",
      "event_type: P=0.00 R=0.00 F1=0.00 (TP=0 FP=0 FN=2)\n",
      "event_who: P=0.00 R=0.00 F1=0.00 (TP=0 FP=0 FN=11)\n",
      "event_what: P=0.00 R=0.00 F1=0.00 (TP=0 FP=0 FN=12)\n",
      "event_when: P=0.00 R=0.00 F1=0.00 (TP=0 FP=0 FN=10)\n",
      "\n",
      "Document: file:/C:/Users/mnavas/CASE%20OF%20PANYUSHKINY%20v.%20RUSSIA.docx\n",
      "event_type: P=0.00 R=0.00 F1=0.00 (TP=0 FP=0 FN=2)\n",
      "event_who: P=0.00 R=0.00 F1=0.00 (TP=0 FP=0 FN=17)\n",
      "event_what: P=0.00 R=0.00 F1=0.00 (TP=0 FP=0 FN=33)\n",
      "event_when: P=0.00 R=0.00 F1=0.00 (TP=0 FP=0 FN=27)\n",
      "\n",
      "Document: file:/C:/Users/mnavas/CASE%20OF%20RESIN%20v.%20RUSSIA.docx\n",
      "event_type: P=0.00 R=0.00 F1=0.00 (TP=0 FP=0 FN=2)\n",
      "event_who: P=0.00 R=0.00 F1=0.00 (TP=0 FP=0 FN=7)\n",
      "event_what: P=0.00 R=0.00 F1=0.00 (TP=0 FP=0 FN=15)\n",
      "event_when: P=0.00 R=0.00 F1=0.00 (TP=0 FP=0 FN=13)\n",
      "\n",
      "Document: file:/C:/Users/mnavas/CASE%20OF%20S.N.%20v.%20RUSSIA.docx\n",
      "event_type: P=0.00 R=0.00 F1=0.00 (TP=0 FP=0 FN=2)\n",
      "event_who: P=0.00 R=0.00 F1=0.00 (TP=0 FP=0 FN=30)\n",
      "event_what: P=0.00 R=0.00 F1=0.00 (TP=0 FP=0 FN=35)\n",
      "event_when: P=0.00 R=0.00 F1=0.00 (TP=0 FP=0 FN=41)\n",
      "\n",
      "Document: file:/C:/Users/mnavas/CASE%20OF%20S.V.%20v.%20ITALY.docx\n",
      "event_type: P=0.00 R=0.00 F1=0.00 (TP=0 FP=0 FN=2)\n",
      "event_who: P=0.00 R=0.00 F1=0.00 (TP=0 FP=0 FN=10)\n",
      "event_what: P=0.00 R=0.00 F1=0.00 (TP=0 FP=0 FN=17)\n",
      "event_when: P=0.00 R=0.00 F1=0.00 (TP=0 FP=0 FN=13)\n",
      "\n",
      "Document: file:/C:/Users/mnavas/CASE%20OF%20SHVIDKIYE%20v.%20RUSSIA.docx\n",
      "event_type: P=0.00 R=0.00 F1=0.00 (TP=0 FP=0 FN=2)\n",
      "event_who: P=0.00 R=0.00 F1=0.00 (TP=0 FP=0 FN=15)\n",
      "event_what: P=0.00 R=0.00 F1=0.00 (TP=0 FP=0 FN=22)\n",
      "event_when: P=0.00 R=0.00 F1=0.00 (TP=0 FP=0 FN=20)\n",
      "\n",
      "Document: file:/C:/Users/mnavas/CASE%20OF%20SIDOROVA%20v.%20RUSSIA.docx\n",
      "event_type: P=0.00 R=0.00 F1=0.00 (TP=0 FP=0 FN=2)\n",
      "event_who: P=0.00 R=0.00 F1=0.00 (TP=0 FP=0 FN=11)\n",
      "event_what: P=0.00 R=0.00 F1=0.00 (TP=0 FP=0 FN=13)\n",
      "event_when: P=0.00 R=0.00 F1=0.00 (TP=0 FP=0 FN=13)\n",
      "\n",
      "Document: file:/C:/Users/mnavas/CASE%20OF%20SOLCAN%20v.%20ROMANIA.docx\n",
      "event_type: P=0.00 R=0.00 F1=0.00 (TP=0 FP=0 FN=2)\n",
      "event_who: P=0.00 R=0.00 F1=0.00 (TP=0 FP=0 FN=9)\n",
      "event_what: P=0.00 R=0.00 F1=0.00 (TP=0 FP=0 FN=13)\n",
      "event_when: P=0.00 R=0.00 F1=0.00 (TP=0 FP=0 FN=11)\n",
      "\n",
      "Document: file:/C:/Users/mnavas/CASE%20OF%20STANA%20v.%20ROMANIA.docx\n",
      "event_type: P=0.00 R=0.00 F1=0.00 (TP=0 FP=0 FN=2)\n",
      "event_who: P=0.00 R=0.00 F1=0.00 (TP=0 FP=0 FN=5)\n",
      "event_what: P=0.00 R=0.00 F1=0.00 (TP=0 FP=0 FN=6)\n",
      "event_when: P=0.00 R=0.00 F1=0.00 (TP=0 FP=0 FN=4)\n",
      "\n",
      "Document: file:/C:/Users/mnavas/CASE%20OF%20VISY%20v.%20SLOVAKIA.docx\n",
      "event_type: P=0.00 R=0.00 F1=0.00 (TP=0 FP=0 FN=2)\n",
      "event_who: P=0.00 R=0.00 F1=0.00 (TP=0 FP=0 FN=10)\n",
      "event_what: P=0.00 R=0.00 F1=0.00 (TP=0 FP=0 FN=15)\n",
      "event_when: P=0.00 R=0.00 F1=0.00 (TP=0 FP=0 FN=11)\n",
      "\n",
      "Document: file:/C:/Users/mnavas/CASE%20OF%20YAKUSHEV%20v.%20UKRAINE.docx\n",
      "event_type: P=0.00 R=0.00 F1=0.00 (TP=0 FP=0 FN=2)\n",
      "event_who: P=0.00 R=0.00 F1=0.00 (TP=0 FP=0 FN=9)\n",
      "event_what: P=0.00 R=0.00 F1=0.00 (TP=0 FP=0 FN=11)\n",
      "event_when: P=0.00 R=0.00 F1=0.00 (TP=0 FP=0 FN=10)\n",
      "\n",
      "Document: file:/C:/Users/mnavas/CASE%20OF%20YERMAKOVICH%20v.%20RUSSIA.docx\n",
      "event_type: P=0.00 R=0.00 F1=0.00 (TP=0 FP=0 FN=2)\n",
      "event_who: P=0.00 R=0.00 F1=0.00 (TP=0 FP=0 FN=23)\n",
      "event_what: P=0.00 R=0.00 F1=0.00 (TP=0 FP=0 FN=26)\n",
      "event_when: P=0.00 R=0.00 F1=0.00 (TP=0 FP=0 FN=28)\n",
      "\n",
      "Document: file:/C:/Users/mnavas/CASE%20OF%20YEVGENIY%20ZAKHAROV%20v.%20RUSSIA.docx\n",
      "event_type: P=0.00 R=0.00 F1=0.00 (TP=0 FP=0 FN=2)\n",
      "event_who: P=0.00 R=0.00 F1=0.00 (TP=0 FP=0 FN=12)\n",
      "event_what: P=0.00 R=0.00 F1=0.00 (TP=0 FP=0 FN=17)\n",
      "event_when: P=0.00 R=0.00 F1=0.00 (TP=0 FP=0 FN=11)\n"
     ]
    },
    {
     "data": {
      "application/vnd.plotly.v1+json": {
       "config": {
        "plotlyServerURL": "https://plot.ly"
       },
       "data": [
        {
         "alignmentgroup": "True",
         "hovertemplate": "Metric=precision<br>Field=%{x}<br>Score=%{y}<extra></extra>",
         "legendgroup": "precision",
         "marker": {
          "color": "#636efa",
          "pattern": {
           "shape": ""
          }
         },
         "name": "precision",
         "offsetgroup": "precision",
         "orientation": "v",
         "showlegend": true,
         "textposition": "auto",
         "texttemplate": "%{y:.2f}",
         "type": "bar",
         "x": [
          "event_type",
          "event_what",
          "event_when",
          "event_who"
         ],
         "xaxis": "x",
         "y": {
          "bdata": "mpmZmZmZuT8cx3Ecx3GMPxzHcRzHcZw/ERERERERcT8=",
          "dtype": "f8"
         },
         "yaxis": "y"
        },
        {
         "alignmentgroup": "True",
         "hovertemplate": "Metric=recall<br>Field=%{x}<br>Score=%{y}<extra></extra>",
         "legendgroup": "recall",
         "marker": {
          "color": "#EF553B",
          "pattern": {
           "shape": ""
          }
         },
         "name": "recall",
         "offsetgroup": "recall",
         "orientation": "v",
         "showlegend": true,
         "textposition": "auto",
         "texttemplate": "%{y:.2f}",
         "type": "bar",
         "x": [
          "event_type",
          "event_what",
          "event_when",
          "event_who"
         ],
         "xaxis": "x",
         "y": {
          "bdata": "VVVVVVVVtT8cQIkbQIl7P45K0cPeqIQ/ERERERERcT8=",
          "dtype": "f8"
         },
         "yaxis": "y"
        },
        {
         "alignmentgroup": "True",
         "hovertemplate": "Metric=f1<br>Field=%{x}<br>Score=%{y}<extra></extra>",
         "legendgroup": "f1",
         "marker": {
          "color": "#00cc96",
          "pattern": {
           "shape": ""
          }
         },
         "name": "f1",
         "offsetgroup": "f1",
         "orientation": "v",
         "showlegend": true,
         "textposition": "auto",
         "texttemplate": "%{y:.2f}",
         "type": "bar",
         "x": [
          "event_type",
          "event_what",
          "event_when",
          "event_who"
         ],
         "xaxis": "x",
         "y": {
          "bdata": "FmzBFmzBtj8REAEREAGBP68a+qqhr4o/ERERERERcT8=",
          "dtype": "f8"
         },
         "yaxis": "y"
        }
       ],
       "layout": {
        "barmode": "group",
        "legend": {
         "title": {
          "text": "Metric"
         },
         "tracegroupgap": 0
        },
        "template": {
         "data": {
          "bar": [
           {
            "error_x": {
             "color": "#2a3f5f"
            },
            "error_y": {
             "color": "#2a3f5f"
            },
            "marker": {
             "line": {
              "color": "#E5ECF6",
              "width": 0.5
             },
             "pattern": {
              "fillmode": "overlay",
              "size": 10,
              "solidity": 0.2
             }
            },
            "type": "bar"
           }
          ],
          "barpolar": [
           {
            "marker": {
             "line": {
              "color": "#E5ECF6",
              "width": 0.5
             },
             "pattern": {
              "fillmode": "overlay",
              "size": 10,
              "solidity": 0.2
             }
            },
            "type": "barpolar"
           }
          ],
          "carpet": [
           {
            "aaxis": {
             "endlinecolor": "#2a3f5f",
             "gridcolor": "white",
             "linecolor": "white",
             "minorgridcolor": "white",
             "startlinecolor": "#2a3f5f"
            },
            "baxis": {
             "endlinecolor": "#2a3f5f",
             "gridcolor": "white",
             "linecolor": "white",
             "minorgridcolor": "white",
             "startlinecolor": "#2a3f5f"
            },
            "type": "carpet"
           }
          ],
          "choropleth": [
           {
            "colorbar": {
             "outlinewidth": 0,
             "ticks": ""
            },
            "type": "choropleth"
           }
          ],
          "contour": [
           {
            "colorbar": {
             "outlinewidth": 0,
             "ticks": ""
            },
            "colorscale": [
             [
              0,
              "#0d0887"
             ],
             [
              0.1111111111111111,
              "#46039f"
             ],
             [
              0.2222222222222222,
              "#7201a8"
             ],
             [
              0.3333333333333333,
              "#9c179e"
             ],
             [
              0.4444444444444444,
              "#bd3786"
             ],
             [
              0.5555555555555556,
              "#d8576b"
             ],
             [
              0.6666666666666666,
              "#ed7953"
             ],
             [
              0.7777777777777778,
              "#fb9f3a"
             ],
             [
              0.8888888888888888,
              "#fdca26"
             ],
             [
              1,
              "#f0f921"
             ]
            ],
            "type": "contour"
           }
          ],
          "contourcarpet": [
           {
            "colorbar": {
             "outlinewidth": 0,
             "ticks": ""
            },
            "type": "contourcarpet"
           }
          ],
          "heatmap": [
           {
            "colorbar": {
             "outlinewidth": 0,
             "ticks": ""
            },
            "colorscale": [
             [
              0,
              "#0d0887"
             ],
             [
              0.1111111111111111,
              "#46039f"
             ],
             [
              0.2222222222222222,
              "#7201a8"
             ],
             [
              0.3333333333333333,
              "#9c179e"
             ],
             [
              0.4444444444444444,
              "#bd3786"
             ],
             [
              0.5555555555555556,
              "#d8576b"
             ],
             [
              0.6666666666666666,
              "#ed7953"
             ],
             [
              0.7777777777777778,
              "#fb9f3a"
             ],
             [
              0.8888888888888888,
              "#fdca26"
             ],
             [
              1,
              "#f0f921"
             ]
            ],
            "type": "heatmap"
           }
          ],
          "histogram": [
           {
            "marker": {
             "pattern": {
              "fillmode": "overlay",
              "size": 10,
              "solidity": 0.2
             }
            },
            "type": "histogram"
           }
          ],
          "histogram2d": [
           {
            "colorbar": {
             "outlinewidth": 0,
             "ticks": ""
            },
            "colorscale": [
             [
              0,
              "#0d0887"
             ],
             [
              0.1111111111111111,
              "#46039f"
             ],
             [
              0.2222222222222222,
              "#7201a8"
             ],
             [
              0.3333333333333333,
              "#9c179e"
             ],
             [
              0.4444444444444444,
              "#bd3786"
             ],
             [
              0.5555555555555556,
              "#d8576b"
             ],
             [
              0.6666666666666666,
              "#ed7953"
             ],
             [
              0.7777777777777778,
              "#fb9f3a"
             ],
             [
              0.8888888888888888,
              "#fdca26"
             ],
             [
              1,
              "#f0f921"
             ]
            ],
            "type": "histogram2d"
           }
          ],
          "histogram2dcontour": [
           {
            "colorbar": {
             "outlinewidth": 0,
             "ticks": ""
            },
            "colorscale": [
             [
              0,
              "#0d0887"
             ],
             [
              0.1111111111111111,
              "#46039f"
             ],
             [
              0.2222222222222222,
              "#7201a8"
             ],
             [
              0.3333333333333333,
              "#9c179e"
             ],
             [
              0.4444444444444444,
              "#bd3786"
             ],
             [
              0.5555555555555556,
              "#d8576b"
             ],
             [
              0.6666666666666666,
              "#ed7953"
             ],
             [
              0.7777777777777778,
              "#fb9f3a"
             ],
             [
              0.8888888888888888,
              "#fdca26"
             ],
             [
              1,
              "#f0f921"
             ]
            ],
            "type": "histogram2dcontour"
           }
          ],
          "mesh3d": [
           {
            "colorbar": {
             "outlinewidth": 0,
             "ticks": ""
            },
            "type": "mesh3d"
           }
          ],
          "parcoords": [
           {
            "line": {
             "colorbar": {
              "outlinewidth": 0,
              "ticks": ""
             }
            },
            "type": "parcoords"
           }
          ],
          "pie": [
           {
            "automargin": true,
            "type": "pie"
           }
          ],
          "scatter": [
           {
            "fillpattern": {
             "fillmode": "overlay",
             "size": 10,
             "solidity": 0.2
            },
            "type": "scatter"
           }
          ],
          "scatter3d": [
           {
            "line": {
             "colorbar": {
              "outlinewidth": 0,
              "ticks": ""
             }
            },
            "marker": {
             "colorbar": {
              "outlinewidth": 0,
              "ticks": ""
             }
            },
            "type": "scatter3d"
           }
          ],
          "scattercarpet": [
           {
            "marker": {
             "colorbar": {
              "outlinewidth": 0,
              "ticks": ""
             }
            },
            "type": "scattercarpet"
           }
          ],
          "scattergeo": [
           {
            "marker": {
             "colorbar": {
              "outlinewidth": 0,
              "ticks": ""
             }
            },
            "type": "scattergeo"
           }
          ],
          "scattergl": [
           {
            "marker": {
             "colorbar": {
              "outlinewidth": 0,
              "ticks": ""
             }
            },
            "type": "scattergl"
           }
          ],
          "scattermap": [
           {
            "marker": {
             "colorbar": {
              "outlinewidth": 0,
              "ticks": ""
             }
            },
            "type": "scattermap"
           }
          ],
          "scattermapbox": [
           {
            "marker": {
             "colorbar": {
              "outlinewidth": 0,
              "ticks": ""
             }
            },
            "type": "scattermapbox"
           }
          ],
          "scatterpolar": [
           {
            "marker": {
             "colorbar": {
              "outlinewidth": 0,
              "ticks": ""
             }
            },
            "type": "scatterpolar"
           }
          ],
          "scatterpolargl": [
           {
            "marker": {
             "colorbar": {
              "outlinewidth": 0,
              "ticks": ""
             }
            },
            "type": "scatterpolargl"
           }
          ],
          "scatterternary": [
           {
            "marker": {
             "colorbar": {
              "outlinewidth": 0,
              "ticks": ""
             }
            },
            "type": "scatterternary"
           }
          ],
          "surface": [
           {
            "colorbar": {
             "outlinewidth": 0,
             "ticks": ""
            },
            "colorscale": [
             [
              0,
              "#0d0887"
             ],
             [
              0.1111111111111111,
              "#46039f"
             ],
             [
              0.2222222222222222,
              "#7201a8"
             ],
             [
              0.3333333333333333,
              "#9c179e"
             ],
             [
              0.4444444444444444,
              "#bd3786"
             ],
             [
              0.5555555555555556,
              "#d8576b"
             ],
             [
              0.6666666666666666,
              "#ed7953"
             ],
             [
              0.7777777777777778,
              "#fb9f3a"
             ],
             [
              0.8888888888888888,
              "#fdca26"
             ],
             [
              1,
              "#f0f921"
             ]
            ],
            "type": "surface"
           }
          ],
          "table": [
           {
            "cells": {
             "fill": {
              "color": "#EBF0F8"
             },
             "line": {
              "color": "white"
             }
            },
            "header": {
             "fill": {
              "color": "#C8D4E3"
             },
             "line": {
              "color": "white"
             }
            },
            "type": "table"
           }
          ]
         },
         "layout": {
          "annotationdefaults": {
           "arrowcolor": "#2a3f5f",
           "arrowhead": 0,
           "arrowwidth": 1
          },
          "autotypenumbers": "strict",
          "coloraxis": {
           "colorbar": {
            "outlinewidth": 0,
            "ticks": ""
           }
          },
          "colorscale": {
           "diverging": [
            [
             0,
             "#8e0152"
            ],
            [
             0.1,
             "#c51b7d"
            ],
            [
             0.2,
             "#de77ae"
            ],
            [
             0.3,
             "#f1b6da"
            ],
            [
             0.4,
             "#fde0ef"
            ],
            [
             0.5,
             "#f7f7f7"
            ],
            [
             0.6,
             "#e6f5d0"
            ],
            [
             0.7,
             "#b8e186"
            ],
            [
             0.8,
             "#7fbc41"
            ],
            [
             0.9,
             "#4d9221"
            ],
            [
             1,
             "#276419"
            ]
           ],
           "sequential": [
            [
             0,
             "#0d0887"
            ],
            [
             0.1111111111111111,
             "#46039f"
            ],
            [
             0.2222222222222222,
             "#7201a8"
            ],
            [
             0.3333333333333333,
             "#9c179e"
            ],
            [
             0.4444444444444444,
             "#bd3786"
            ],
            [
             0.5555555555555556,
             "#d8576b"
            ],
            [
             0.6666666666666666,
             "#ed7953"
            ],
            [
             0.7777777777777778,
             "#fb9f3a"
            ],
            [
             0.8888888888888888,
             "#fdca26"
            ],
            [
             1,
             "#f0f921"
            ]
           ],
           "sequentialminus": [
            [
             0,
             "#0d0887"
            ],
            [
             0.1111111111111111,
             "#46039f"
            ],
            [
             0.2222222222222222,
             "#7201a8"
            ],
            [
             0.3333333333333333,
             "#9c179e"
            ],
            [
             0.4444444444444444,
             "#bd3786"
            ],
            [
             0.5555555555555556,
             "#d8576b"
            ],
            [
             0.6666666666666666,
             "#ed7953"
            ],
            [
             0.7777777777777778,
             "#fb9f3a"
            ],
            [
             0.8888888888888888,
             "#fdca26"
            ],
            [
             1,
             "#f0f921"
            ]
           ]
          },
          "colorway": [
           "#636efa",
           "#EF553B",
           "#00cc96",
           "#ab63fa",
           "#FFA15A",
           "#19d3f3",
           "#FF6692",
           "#B6E880",
           "#FF97FF",
           "#FECB52"
          ],
          "font": {
           "color": "#2a3f5f"
          },
          "geo": {
           "bgcolor": "white",
           "lakecolor": "white",
           "landcolor": "#E5ECF6",
           "showlakes": true,
           "showland": true,
           "subunitcolor": "white"
          },
          "hoverlabel": {
           "align": "left"
          },
          "hovermode": "closest",
          "mapbox": {
           "style": "light"
          },
          "paper_bgcolor": "white",
          "plot_bgcolor": "#E5ECF6",
          "polar": {
           "angularaxis": {
            "gridcolor": "white",
            "linecolor": "white",
            "ticks": ""
           },
           "bgcolor": "#E5ECF6",
           "radialaxis": {
            "gridcolor": "white",
            "linecolor": "white",
            "ticks": ""
           }
          },
          "scene": {
           "xaxis": {
            "backgroundcolor": "#E5ECF6",
            "gridcolor": "white",
            "gridwidth": 2,
            "linecolor": "white",
            "showbackground": true,
            "ticks": "",
            "zerolinecolor": "white"
           },
           "yaxis": {
            "backgroundcolor": "#E5ECF6",
            "gridcolor": "white",
            "gridwidth": 2,
            "linecolor": "white",
            "showbackground": true,
            "ticks": "",
            "zerolinecolor": "white"
           },
           "zaxis": {
            "backgroundcolor": "#E5ECF6",
            "gridcolor": "white",
            "gridwidth": 2,
            "linecolor": "white",
            "showbackground": true,
            "ticks": "",
            "zerolinecolor": "white"
           }
          },
          "shapedefaults": {
           "line": {
            "color": "#2a3f5f"
           }
          },
          "ternary": {
           "aaxis": {
            "gridcolor": "white",
            "linecolor": "white",
            "ticks": ""
           },
           "baxis": {
            "gridcolor": "white",
            "linecolor": "white",
            "ticks": ""
           },
           "bgcolor": "#E5ECF6",
           "caxis": {
            "gridcolor": "white",
            "linecolor": "white",
            "ticks": ""
           }
          },
          "title": {
           "x": 0.05
          },
          "xaxis": {
           "automargin": true,
           "gridcolor": "white",
           "linecolor": "white",
           "ticks": "",
           "title": {
            "standoff": 15
           },
           "zerolinecolor": "white",
           "zerolinewidth": 2
          },
          "yaxis": {
           "automargin": true,
           "gridcolor": "white",
           "linecolor": "white",
           "ticks": "",
           "title": {
            "standoff": 15
           },
           "zerolinecolor": "white",
           "zerolinewidth": 2
          }
         }
        },
        "title": {
         "text": "Average Precision, Recall, F1 per Field"
        },
        "xaxis": {
         "anchor": "y",
         "domain": [
          0,
          1
         ],
         "title": {
          "text": "Field"
         }
        },
        "yaxis": {
         "anchor": "x",
         "domain": [
          0,
          1
         ],
         "range": [
          0,
          1
         ],
         "title": {
          "text": "Score"
         }
        }
       }
      }
     },
     "metadata": {},
     "output_type": "display_data"
    },
    {
     "data": {
      "application/vnd.plotly.v1+json": {
       "config": {
        "plotlyServerURL": "https://plot.ly"
       },
       "data": [
        {
         "colorbar": {
          "title": {
           "text": "F1 Score"
          }
         },
         "colorscale": [
          [
           0,
           "rgb(255,255,217)"
          ],
          [
           0.125,
           "rgb(237,248,177)"
          ],
          [
           0.25,
           "rgb(199,233,180)"
          ],
          [
           0.375,
           "rgb(127,205,187)"
          ],
          [
           0.5,
           "rgb(65,182,196)"
          ],
          [
           0.625,
           "rgb(29,145,192)"
          ],
          [
           0.75,
           "rgb(34,94,168)"
          ],
          [
           0.875,
           "rgb(37,52,148)"
          ],
          [
           1,
           "rgb(8,29,88)"
          ]
         ],
         "hovertemplate": "Document: %{y}<br>Field: %{x}<br>F1: %{z:.2f}<extra></extra>",
         "text": [
          [
           "1.0",
           "0.1",
           "0.09",
           "0.0"
          ],
          [
           "1.0",
           "0.15",
           "0.17",
           "0.12"
          ],
          [
           "0.67",
           "0.0",
           "0.13",
           "0.0"
          ],
          [
           "0.0",
           "0.0",
           "0.0",
           "0.0"
          ],
          [
           "0.0",
           "0.0",
           "0.0",
           "0.0"
          ],
          [
           "0.0",
           "0.0",
           "0.0",
           "0.0"
          ],
          [
           "0.0",
           "0.0",
           "0.0",
           "0.0"
          ],
          [
           "0.0",
           "0.0",
           "0.0",
           "0.0"
          ],
          [
           "0.0",
           "0.0",
           "0.0",
           "0.0"
          ],
          [
           "0.0",
           "0.0",
           "0.0",
           "0.0"
          ],
          [
           "0.0",
           "0.0",
           "0.0",
           "0.0"
          ],
          [
           "0.0",
           "0.0",
           "0.0",
           "0.0"
          ],
          [
           "0.0",
           "0.0",
           "0.0",
           "0.0"
          ],
          [
           "0.0",
           "0.0",
           "0.0",
           "0.0"
          ],
          [
           "0.0",
           "0.0",
           "0.0",
           "0.0"
          ],
          [
           "0.0",
           "0.0",
           "0.0",
           "0.0"
          ],
          [
           "0.0",
           "0.0",
           "0.0",
           "0.0"
          ],
          [
           "0.0",
           "0.0",
           "0.0",
           "0.0"
          ],
          [
           "0.0",
           "0.0",
           "0.0",
           "0.0"
          ],
          [
           "0.0",
           "0.0",
           "0.0",
           "0.0"
          ],
          [
           "0.0",
           "0.0",
           "0.0",
           "0.0"
          ],
          [
           "0.0",
           "0.0",
           "0.0",
           "0.0"
          ],
          [
           "0.0",
           "0.0",
           "0.0",
           "0.0"
          ],
          [
           "0.0",
           "0.0",
           "0.0",
           "0.0"
          ],
          [
           "0.0",
           "0.0",
           "0.0",
           "0.0"
          ],
          [
           "0.0",
           "0.0",
           "0.0",
           "0.0"
          ],
          [
           "0.0",
           "0.0",
           "0.0",
           "0.0"
          ],
          [
           "0.0",
           "0.0",
           "0.0",
           "0.0"
          ],
          [
           "0.0",
           "0.0",
           "0.0",
           "0.0"
          ],
          [
           "0.0",
           "0.0",
           "0.0",
           "0.0"
          ]
         ],
         "type": "heatmap",
         "x": [
          "event_type",
          "event_what",
          "event_when",
          "event_who"
         ],
         "y": [
          "file:/C:/Users/mnavas/CASE%20OF%20ALTAY%20v.%20TURKEY%20(No.%202).docx",
          "file:/C:/Users/mnavas/CASE%20OF%20BELYAYEV%20AND%20OTHERS%20v.%20UKRAINE.docx",
          "file:/C:/Users/mnavas/CASE%20OF%20BIGUN%20v.%20UKRAINE.docx",
          "file:/C:/Users/mnavas/CASE%20OF%20CABUCAK%20v.%20GERMANY.docx",
          "file:/C:/Users/mnavas/CASE%20OF%20CAN%20v.%20TURKEY.docx",
          "file:/C:/Users/mnavas/CASE%20OF%20CRISTIAN%20CATALIN%20UNGUREANU%20v.%20ROMANIA.docx",
          "file:/C:/Users/mnavas/CASE%20OF%20DOKTOROV%20v.%20BULGARIA.docx",
          "file:/C:/Users/mnavas/CASE%20OF%20EGILL%20EINARSSON%20v.%20ICELAND%20(No.%202).docx",
          "file:/C:/Users/mnavas/CASE%20OF%20H_INESS%20v.%20NORWAY%20(1).docx",
          "file:/C:/Users/mnavas/CASE%20OF%20KOSAITE%20-%20CYPIENE%20AND%20OTHERS%20v.%20LITHUANIA.docx",
          "file:/C:/Users/mnavas/CASE%20OF%20LOZOVYYE%20v.%20RUSSIA.docx",
          "file:/C:/Users/mnavas/CASE%20OF%20M.T.%20v.%20UKRAINE.docx",
          "file:/C:/Users/mnavas/CASE%20OF%20MOSKALEV%20v.%20RUSSIA.docx",
          "file:/C:/Users/mnavas/CASE%20OF%20MURUZHEVA%20v.%20RUSSIA.docx",
          "file:/C:/Users/mnavas/CASE%20OF%20O.C.I.%20AND%20OTHERS%20v.%20ROMANIA.docx",
          "file:/C:/Users/mnavas/CASE%20OF%20PAKHTUSOV%20v.%20RUSSIA.docx",
          "file:/C:/Users/mnavas/CASE%20OF%20PANYUSHKINY%20v.%20RUSSIA.docx",
          "file:/C:/Users/mnavas/CASE%20OF%20RESIN%20v.%20RUSSIA.docx",
          "file:/C:/Users/mnavas/CASE%20OF%20S.N.%20v.%20RUSSIA.docx",
          "file:/C:/Users/mnavas/CASE%20OF%20S.V.%20v.%20ITALY.docx",
          "file:/C:/Users/mnavas/CASE%20OF%20SHVIDKIYE%20v.%20RUSSIA.docx",
          "file:/C:/Users/mnavas/CASE%20OF%20SIDOROVA%20v.%20RUSSIA.docx",
          "file:/C:/Users/mnavas/CASE%20OF%20SOLCAN%20v.%20ROMANIA.docx",
          "file:/C:/Users/mnavas/CASE%20OF%20STANA%20v.%20ROMANIA.docx",
          "file:/C:/Users/mnavas/CASE%20OF%20VISY%20v.%20SLOVAKIA.docx",
          "file:/C:/Users/mnavas/CASE%20OF%20YAKUSHEV%20v.%20UKRAINE.docx",
          "file:/C:/Users/mnavas/CASE%20OF%20YERMAKOVICH%20v.%20RUSSIA.docx",
          "file:/C:/Users/mnavas/CASE%20OF%20YEVGENIY%20ZAKHAROV%20v.%20RUSSIA.docx",
          "file:/C:/Users/mnavas/CASE%20OF%20_NODI%20v.%20HUNGARY.docx",
          "file:/C:/Users/mnavas/Desktop/CASE%20OF%20OTGON%20v.%20THE%20REPUBLIC%20OF%20MOLDOVA.docx"
         ],
         "z": {
          "bdata": "AAAAAAAA8D8YhmEYhmG4P0YXXXTRRbc/AAAAAAAAAAAAAAAAAADwPxM7sRM7scM/VVVVVVVVxT8AAAAAAADAP1VVVVVVVeU/AAAAAAAAAAARERERERHBPwAAAAAAAAAAAAAAAAAAAAAAAAAAAAAAAAAAAAAAAAAAAAAAAAAAAAAAAAAAAAAAAAAAAAAAAAAAAAAAAAAAAAAAAAAAAAAAAAAAAAAAAAAAAAAAAAAAAAAAAAAAAAAAAAAAAAAAAAAAAAAAAAAAAAAAAAAAAAAAAAAAAAAAAAAAAAAAAAAAAAAAAAAAAAAAAAAAAAAAAAAAAAAAAAAAAAAAAAAAAAAAAAAAAAAAAAAAAAAAAAAAAAAAAAAAAAAAAAAAAAAAAAAAAAAAAAAAAAAAAAAAAAAAAAAAAAAAAAAAAAAAAAAAAAAAAAAAAAAAAAAAAAAAAAAAAAAAAAAAAAAAAAAAAAAAAAAAAAAAAAAAAAAAAAAAAAAAAAAAAAAAAAAAAAAAAAAAAAAAAAAAAAAAAAAAAAAAAAAAAAAAAAAAAAAAAAAAAAAAAAAAAAAAAAAAAAAAAAAAAAAAAAAAAAAAAAAAAAAAAAAAAAAAAAAAAAAAAAAAAAAAAAAAAAAAAAAAAAAAAAAAAAAAAAAAAAAAAAAAAAAAAAAAAAAAAAAAAAAAAAAAAAAAAAAAAAAAAAAAAAAAAAAAAAAAAAAAAAAAAAAAAAAAAAAAAAAAAAAAAAAAAAAAAAAAAAAAAAAAAAAAAAAAAAAAAAAAAAAAAAAAAAAAAAAAAAAAAAAAAAAAAAAAAAAAAAAAAAAAAAAAAAAAAAAAAAAAAAAAAAAAAAAAAAAAAAAAAAAAAAAAAAAAAAAAAAAAAAAAAAAAAAAAAAAAAAAAAAAAAAAAAAAAAAAAAAAAAAAAAAAAAAAAAAAAAAAAAAAAAAAAAAAAAAAAAAAAAAAAAAAAAAAAAAAAAAAAAAAAAAAAAAAAAAAAAAAAAAAAAAAAAAAAAAAAAAAAAAAAAAAAAAAAAAAAAAAAAAAAAAAAAAAAAAAAAAAAAAAAAAAAAAAAAAAAAAAAAAAAAAAAAAAAAAAAAAAAAAAAAAAAAAAAAAAAAAAAAAAAAAAAAAAAAAAAAAAAAAAAAAAAAAAAAAAAAAAAAAAAAAAAAAAAAAAAAAAAAAAAAAAAAAAAAAAAAAAAAAAAAAAAAAAAAAAAAAAAAAAAAAAAAAAAAAAAAAAAAAAAAAAAAAAAAAAAAAAAAAAAAAAAAAAAAAAAAAAAAAAAAAAA",
          "dtype": "f8",
          "shape": "30, 4"
         },
         "zmax": 1,
         "zmin": 0
        }
       ],
       "layout": {
        "height": 900,
        "template": {
         "data": {
          "bar": [
           {
            "error_x": {
             "color": "#2a3f5f"
            },
            "error_y": {
             "color": "#2a3f5f"
            },
            "marker": {
             "line": {
              "color": "#E5ECF6",
              "width": 0.5
             },
             "pattern": {
              "fillmode": "overlay",
              "size": 10,
              "solidity": 0.2
             }
            },
            "type": "bar"
           }
          ],
          "barpolar": [
           {
            "marker": {
             "line": {
              "color": "#E5ECF6",
              "width": 0.5
             },
             "pattern": {
              "fillmode": "overlay",
              "size": 10,
              "solidity": 0.2
             }
            },
            "type": "barpolar"
           }
          ],
          "carpet": [
           {
            "aaxis": {
             "endlinecolor": "#2a3f5f",
             "gridcolor": "white",
             "linecolor": "white",
             "minorgridcolor": "white",
             "startlinecolor": "#2a3f5f"
            },
            "baxis": {
             "endlinecolor": "#2a3f5f",
             "gridcolor": "white",
             "linecolor": "white",
             "minorgridcolor": "white",
             "startlinecolor": "#2a3f5f"
            },
            "type": "carpet"
           }
          ],
          "choropleth": [
           {
            "colorbar": {
             "outlinewidth": 0,
             "ticks": ""
            },
            "type": "choropleth"
           }
          ],
          "contour": [
           {
            "colorbar": {
             "outlinewidth": 0,
             "ticks": ""
            },
            "colorscale": [
             [
              0,
              "#0d0887"
             ],
             [
              0.1111111111111111,
              "#46039f"
             ],
             [
              0.2222222222222222,
              "#7201a8"
             ],
             [
              0.3333333333333333,
              "#9c179e"
             ],
             [
              0.4444444444444444,
              "#bd3786"
             ],
             [
              0.5555555555555556,
              "#d8576b"
             ],
             [
              0.6666666666666666,
              "#ed7953"
             ],
             [
              0.7777777777777778,
              "#fb9f3a"
             ],
             [
              0.8888888888888888,
              "#fdca26"
             ],
             [
              1,
              "#f0f921"
             ]
            ],
            "type": "contour"
           }
          ],
          "contourcarpet": [
           {
            "colorbar": {
             "outlinewidth": 0,
             "ticks": ""
            },
            "type": "contourcarpet"
           }
          ],
          "heatmap": [
           {
            "colorbar": {
             "outlinewidth": 0,
             "ticks": ""
            },
            "colorscale": [
             [
              0,
              "#0d0887"
             ],
             [
              0.1111111111111111,
              "#46039f"
             ],
             [
              0.2222222222222222,
              "#7201a8"
             ],
             [
              0.3333333333333333,
              "#9c179e"
             ],
             [
              0.4444444444444444,
              "#bd3786"
             ],
             [
              0.5555555555555556,
              "#d8576b"
             ],
             [
              0.6666666666666666,
              "#ed7953"
             ],
             [
              0.7777777777777778,
              "#fb9f3a"
             ],
             [
              0.8888888888888888,
              "#fdca26"
             ],
             [
              1,
              "#f0f921"
             ]
            ],
            "type": "heatmap"
           }
          ],
          "histogram": [
           {
            "marker": {
             "pattern": {
              "fillmode": "overlay",
              "size": 10,
              "solidity": 0.2
             }
            },
            "type": "histogram"
           }
          ],
          "histogram2d": [
           {
            "colorbar": {
             "outlinewidth": 0,
             "ticks": ""
            },
            "colorscale": [
             [
              0,
              "#0d0887"
             ],
             [
              0.1111111111111111,
              "#46039f"
             ],
             [
              0.2222222222222222,
              "#7201a8"
             ],
             [
              0.3333333333333333,
              "#9c179e"
             ],
             [
              0.4444444444444444,
              "#bd3786"
             ],
             [
              0.5555555555555556,
              "#d8576b"
             ],
             [
              0.6666666666666666,
              "#ed7953"
             ],
             [
              0.7777777777777778,
              "#fb9f3a"
             ],
             [
              0.8888888888888888,
              "#fdca26"
             ],
             [
              1,
              "#f0f921"
             ]
            ],
            "type": "histogram2d"
           }
          ],
          "histogram2dcontour": [
           {
            "colorbar": {
             "outlinewidth": 0,
             "ticks": ""
            },
            "colorscale": [
             [
              0,
              "#0d0887"
             ],
             [
              0.1111111111111111,
              "#46039f"
             ],
             [
              0.2222222222222222,
              "#7201a8"
             ],
             [
              0.3333333333333333,
              "#9c179e"
             ],
             [
              0.4444444444444444,
              "#bd3786"
             ],
             [
              0.5555555555555556,
              "#d8576b"
             ],
             [
              0.6666666666666666,
              "#ed7953"
             ],
             [
              0.7777777777777778,
              "#fb9f3a"
             ],
             [
              0.8888888888888888,
              "#fdca26"
             ],
             [
              1,
              "#f0f921"
             ]
            ],
            "type": "histogram2dcontour"
           }
          ],
          "mesh3d": [
           {
            "colorbar": {
             "outlinewidth": 0,
             "ticks": ""
            },
            "type": "mesh3d"
           }
          ],
          "parcoords": [
           {
            "line": {
             "colorbar": {
              "outlinewidth": 0,
              "ticks": ""
             }
            },
            "type": "parcoords"
           }
          ],
          "pie": [
           {
            "automargin": true,
            "type": "pie"
           }
          ],
          "scatter": [
           {
            "fillpattern": {
             "fillmode": "overlay",
             "size": 10,
             "solidity": 0.2
            },
            "type": "scatter"
           }
          ],
          "scatter3d": [
           {
            "line": {
             "colorbar": {
              "outlinewidth": 0,
              "ticks": ""
             }
            },
            "marker": {
             "colorbar": {
              "outlinewidth": 0,
              "ticks": ""
             }
            },
            "type": "scatter3d"
           }
          ],
          "scattercarpet": [
           {
            "marker": {
             "colorbar": {
              "outlinewidth": 0,
              "ticks": ""
             }
            },
            "type": "scattercarpet"
           }
          ],
          "scattergeo": [
           {
            "marker": {
             "colorbar": {
              "outlinewidth": 0,
              "ticks": ""
             }
            },
            "type": "scattergeo"
           }
          ],
          "scattergl": [
           {
            "marker": {
             "colorbar": {
              "outlinewidth": 0,
              "ticks": ""
             }
            },
            "type": "scattergl"
           }
          ],
          "scattermap": [
           {
            "marker": {
             "colorbar": {
              "outlinewidth": 0,
              "ticks": ""
             }
            },
            "type": "scattermap"
           }
          ],
          "scattermapbox": [
           {
            "marker": {
             "colorbar": {
              "outlinewidth": 0,
              "ticks": ""
             }
            },
            "type": "scattermapbox"
           }
          ],
          "scatterpolar": [
           {
            "marker": {
             "colorbar": {
              "outlinewidth": 0,
              "ticks": ""
             }
            },
            "type": "scatterpolar"
           }
          ],
          "scatterpolargl": [
           {
            "marker": {
             "colorbar": {
              "outlinewidth": 0,
              "ticks": ""
             }
            },
            "type": "scatterpolargl"
           }
          ],
          "scatterternary": [
           {
            "marker": {
             "colorbar": {
              "outlinewidth": 0,
              "ticks": ""
             }
            },
            "type": "scatterternary"
           }
          ],
          "surface": [
           {
            "colorbar": {
             "outlinewidth": 0,
             "ticks": ""
            },
            "colorscale": [
             [
              0,
              "#0d0887"
             ],
             [
              0.1111111111111111,
              "#46039f"
             ],
             [
              0.2222222222222222,
              "#7201a8"
             ],
             [
              0.3333333333333333,
              "#9c179e"
             ],
             [
              0.4444444444444444,
              "#bd3786"
             ],
             [
              0.5555555555555556,
              "#d8576b"
             ],
             [
              0.6666666666666666,
              "#ed7953"
             ],
             [
              0.7777777777777778,
              "#fb9f3a"
             ],
             [
              0.8888888888888888,
              "#fdca26"
             ],
             [
              1,
              "#f0f921"
             ]
            ],
            "type": "surface"
           }
          ],
          "table": [
           {
            "cells": {
             "fill": {
              "color": "#EBF0F8"
             },
             "line": {
              "color": "white"
             }
            },
            "header": {
             "fill": {
              "color": "#C8D4E3"
             },
             "line": {
              "color": "white"
             }
            },
            "type": "table"
           }
          ]
         },
         "layout": {
          "annotationdefaults": {
           "arrowcolor": "#2a3f5f",
           "arrowhead": 0,
           "arrowwidth": 1
          },
          "autotypenumbers": "strict",
          "coloraxis": {
           "colorbar": {
            "outlinewidth": 0,
            "ticks": ""
           }
          },
          "colorscale": {
           "diverging": [
            [
             0,
             "#8e0152"
            ],
            [
             0.1,
             "#c51b7d"
            ],
            [
             0.2,
             "#de77ae"
            ],
            [
             0.3,
             "#f1b6da"
            ],
            [
             0.4,
             "#fde0ef"
            ],
            [
             0.5,
             "#f7f7f7"
            ],
            [
             0.6,
             "#e6f5d0"
            ],
            [
             0.7,
             "#b8e186"
            ],
            [
             0.8,
             "#7fbc41"
            ],
            [
             0.9,
             "#4d9221"
            ],
            [
             1,
             "#276419"
            ]
           ],
           "sequential": [
            [
             0,
             "#0d0887"
            ],
            [
             0.1111111111111111,
             "#46039f"
            ],
            [
             0.2222222222222222,
             "#7201a8"
            ],
            [
             0.3333333333333333,
             "#9c179e"
            ],
            [
             0.4444444444444444,
             "#bd3786"
            ],
            [
             0.5555555555555556,
             "#d8576b"
            ],
            [
             0.6666666666666666,
             "#ed7953"
            ],
            [
             0.7777777777777778,
             "#fb9f3a"
            ],
            [
             0.8888888888888888,
             "#fdca26"
            ],
            [
             1,
             "#f0f921"
            ]
           ],
           "sequentialminus": [
            [
             0,
             "#0d0887"
            ],
            [
             0.1111111111111111,
             "#46039f"
            ],
            [
             0.2222222222222222,
             "#7201a8"
            ],
            [
             0.3333333333333333,
             "#9c179e"
            ],
            [
             0.4444444444444444,
             "#bd3786"
            ],
            [
             0.5555555555555556,
             "#d8576b"
            ],
            [
             0.6666666666666666,
             "#ed7953"
            ],
            [
             0.7777777777777778,
             "#fb9f3a"
            ],
            [
             0.8888888888888888,
             "#fdca26"
            ],
            [
             1,
             "#f0f921"
            ]
           ]
          },
          "colorway": [
           "#636efa",
           "#EF553B",
           "#00cc96",
           "#ab63fa",
           "#FFA15A",
           "#19d3f3",
           "#FF6692",
           "#B6E880",
           "#FF97FF",
           "#FECB52"
          ],
          "font": {
           "color": "#2a3f5f"
          },
          "geo": {
           "bgcolor": "white",
           "lakecolor": "white",
           "landcolor": "#E5ECF6",
           "showlakes": true,
           "showland": true,
           "subunitcolor": "white"
          },
          "hoverlabel": {
           "align": "left"
          },
          "hovermode": "closest",
          "mapbox": {
           "style": "light"
          },
          "paper_bgcolor": "white",
          "plot_bgcolor": "#E5ECF6",
          "polar": {
           "angularaxis": {
            "gridcolor": "white",
            "linecolor": "white",
            "ticks": ""
           },
           "bgcolor": "#E5ECF6",
           "radialaxis": {
            "gridcolor": "white",
            "linecolor": "white",
            "ticks": ""
           }
          },
          "scene": {
           "xaxis": {
            "backgroundcolor": "#E5ECF6",
            "gridcolor": "white",
            "gridwidth": 2,
            "linecolor": "white",
            "showbackground": true,
            "ticks": "",
            "zerolinecolor": "white"
           },
           "yaxis": {
            "backgroundcolor": "#E5ECF6",
            "gridcolor": "white",
            "gridwidth": 2,
            "linecolor": "white",
            "showbackground": true,
            "ticks": "",
            "zerolinecolor": "white"
           },
           "zaxis": {
            "backgroundcolor": "#E5ECF6",
            "gridcolor": "white",
            "gridwidth": 2,
            "linecolor": "white",
            "showbackground": true,
            "ticks": "",
            "zerolinecolor": "white"
           }
          },
          "shapedefaults": {
           "line": {
            "color": "#2a3f5f"
           }
          },
          "ternary": {
           "aaxis": {
            "gridcolor": "white",
            "linecolor": "white",
            "ticks": ""
           },
           "baxis": {
            "gridcolor": "white",
            "linecolor": "white",
            "ticks": ""
           },
           "bgcolor": "#E5ECF6",
           "caxis": {
            "gridcolor": "white",
            "linecolor": "white",
            "ticks": ""
           }
          },
          "title": {
           "x": 0.05
          },
          "xaxis": {
           "automargin": true,
           "gridcolor": "white",
           "linecolor": "white",
           "ticks": "",
           "title": {
            "standoff": 15
           },
           "zerolinecolor": "white",
           "zerolinewidth": 2
          },
          "yaxis": {
           "automargin": true,
           "gridcolor": "white",
           "linecolor": "white",
           "ticks": "",
           "title": {
            "standoff": 15
           },
           "zerolinecolor": "white",
           "zerolinewidth": 2
          }
         }
        },
        "title": {
         "text": "F1 Score per Document and Field"
        },
        "xaxis": {
         "title": {
          "text": "Field"
         }
        },
        "yaxis": {
         "title": {
          "text": "Document"
         }
        }
       }
      }
     },
     "metadata": {},
     "output_type": "display_data"
    },
    {
     "name": "stdout",
     "output_type": "stream",
     "text": [
      "\n",
      "=== Evaluation for model: mistral:latest ===\n",
      "\n",
      "Document: file:/C:/Users/mnavas/CASE%20OF%20ALTAY%20v.%20TURKEY%20(No.%202).docx\n",
      "event_type: P=1.00 R=1.00 F1=1.00 (TP=2 FP=0 FN=0)\n",
      "event_who: P=0.67 R=0.20 F1=0.31 (TP=2 FP=1 FN=8)\n",
      "event_what: P=0.20 R=0.06 F1=0.09 (TP=1 FP=4 FN=16)\n",
      "event_when: P=0.33 R=0.05 F1=0.09 (TP=1 FP=2 FN=18)\n",
      "\n",
      "Document: file:/C:/Users/mnavas/CASE%20OF%20BELYAYEV%20AND%20OTHERS%20v.%20UKRAINE.docx\n",
      "event_type: P=1.00 R=1.00 F1=1.00 (TP=2 FP=0 FN=0)\n",
      "event_who: P=0.20 R=0.12 F1=0.15 (TP=1 FP=4 FN=7)\n",
      "event_what: P=0.00 R=0.00 F1=0.00 (TP=0 FP=7 FN=7)\n",
      "event_when: P=0.00 R=0.00 F1=0.00 (TP=0 FP=3 FN=6)\n",
      "\n",
      "Document: file:/C:/Users/mnavas/CASE%20OF%20BIGUN%20v.%20UKRAINE.docx\n",
      "event_type: P=1.00 R=1.00 F1=1.00 (TP=2 FP=0 FN=0)\n",
      "event_who: P=0.50 R=0.12 F1=0.20 (TP=1 FP=1 FN=7)\n",
      "event_what: P=0.00 R=0.00 F1=0.00 (TP=0 FP=2 FN=13)\n",
      "event_when: P=0.50 R=0.08 F1=0.14 (TP=1 FP=1 FN=11)\n",
      "\n",
      "Document: file:/C:/Users/mnavas/CASE%20OF%20CABUCAK%20v.%20GERMANY.docx\n",
      "event_type: P=0.00 R=0.00 F1=0.00 (TP=0 FP=0 FN=2)\n",
      "event_who: P=0.00 R=0.00 F1=0.00 (TP=0 FP=0 FN=25)\n",
      "event_what: P=0.00 R=0.00 F1=0.00 (TP=0 FP=0 FN=40)\n",
      "event_when: P=0.00 R=0.00 F1=0.00 (TP=0 FP=0 FN=38)\n",
      "\n",
      "Document: file:/C:/Users/mnavas/CASE%20OF%20CAN%20v.%20TURKEY.docx\n",
      "event_type: P=0.00 R=0.00 F1=0.00 (TP=0 FP=0 FN=2)\n",
      "event_who: P=0.00 R=0.00 F1=0.00 (TP=0 FP=0 FN=10)\n",
      "event_what: P=0.00 R=0.00 F1=0.00 (TP=0 FP=0 FN=15)\n",
      "event_when: P=0.00 R=0.00 F1=0.00 (TP=0 FP=0 FN=14)\n",
      "\n",
      "Document: file:/C:/Users/mnavas/CASE%20OF%20CRISTIAN%20CATALIN%20UNGUREANU%20v.%20ROMANIA.docx\n",
      "event_type: P=0.00 R=0.00 F1=0.00 (TP=0 FP=0 FN=2)\n",
      "event_who: P=0.00 R=0.00 F1=0.00 (TP=0 FP=0 FN=17)\n",
      "event_what: P=0.00 R=0.00 F1=0.00 (TP=0 FP=0 FN=20)\n",
      "event_when: P=0.00 R=0.00 F1=0.00 (TP=0 FP=0 FN=18)\n",
      "\n",
      "Document: file:/C:/Users/mnavas/CASE%20OF%20DOKTOROV%20v.%20BULGARIA.docx\n",
      "event_type: P=0.00 R=0.00 F1=0.00 (TP=0 FP=0 FN=2)\n",
      "event_who: P=0.00 R=0.00 F1=0.00 (TP=0 FP=0 FN=7)\n",
      "event_what: P=0.00 R=0.00 F1=0.00 (TP=0 FP=0 FN=12)\n",
      "event_when: P=0.00 R=0.00 F1=0.00 (TP=0 FP=0 FN=8)\n",
      "\n",
      "Document: file:/C:/Users/mnavas/CASE%20OF%20EGILL%20EINARSSON%20v.%20ICELAND%20(No.%202).docx\n",
      "event_type: P=0.00 R=0.00 F1=0.00 (TP=0 FP=0 FN=2)\n",
      "event_who: P=0.00 R=0.00 F1=0.00 (TP=0 FP=0 FN=12)\n",
      "event_what: P=0.00 R=0.00 F1=0.00 (TP=0 FP=0 FN=14)\n",
      "event_when: P=0.00 R=0.00 F1=0.00 (TP=0 FP=0 FN=12)\n",
      "\n",
      "Document: file:/C:/Users/mnavas/CASE%20OF%20H_INESS%20v.%20NORWAY%20(1).docx\n",
      "event_type: P=0.00 R=0.00 F1=0.00 (TP=0 FP=0 FN=2)\n",
      "event_who: P=0.00 R=0.00 F1=0.00 (TP=0 FP=0 FN=23)\n",
      "event_what: P=0.00 R=0.00 F1=0.00 (TP=0 FP=0 FN=30)\n",
      "event_when: P=0.00 R=0.00 F1=0.00 (TP=0 FP=0 FN=27)\n",
      "\n",
      "Document: file:/C:/Users/mnavas/CASE%20OF%20KOSAITE%20-%20CYPIENE%20AND%20OTHERS%20v.%20LITHUANIA.docx\n",
      "event_type: P=0.00 R=0.00 F1=0.00 (TP=0 FP=0 FN=2)\n",
      "event_who: P=0.00 R=0.00 F1=0.00 (TP=0 FP=0 FN=27)\n",
      "event_what: P=0.00 R=0.00 F1=0.00 (TP=0 FP=0 FN=33)\n",
      "event_when: P=0.00 R=0.00 F1=0.00 (TP=0 FP=0 FN=31)\n",
      "\n",
      "Document: file:/C:/Users/mnavas/CASE%20OF%20LOZOVYYE%20v.%20RUSSIA.docx\n",
      "event_type: P=0.00 R=0.00 F1=0.00 (TP=0 FP=0 FN=2)\n",
      "event_who: P=0.00 R=0.00 F1=0.00 (TP=0 FP=0 FN=15)\n",
      "event_what: P=0.00 R=0.00 F1=0.00 (TP=0 FP=0 FN=18)\n",
      "event_when: P=0.00 R=0.00 F1=0.00 (TP=0 FP=0 FN=15)\n",
      "\n",
      "Document: file:/C:/Users/mnavas/CASE%20OF%20M.T.%20v.%20UKRAINE.docx\n",
      "event_type: P=0.00 R=0.00 F1=0.00 (TP=0 FP=0 FN=2)\n",
      "event_who: P=0.00 R=0.00 F1=0.00 (TP=0 FP=0 FN=9)\n",
      "event_what: P=0.00 R=0.00 F1=0.00 (TP=0 FP=0 FN=14)\n",
      "event_when: P=0.00 R=0.00 F1=0.00 (TP=0 FP=0 FN=12)\n",
      "\n",
      "Document: file:/C:/Users/mnavas/CASE%20OF%20MOSKALEV%20v.%20RUSSIA.docx\n",
      "event_type: P=0.00 R=0.00 F1=0.00 (TP=0 FP=0 FN=2)\n",
      "event_who: P=0.00 R=0.00 F1=0.00 (TP=0 FP=0 FN=6)\n",
      "event_what: P=0.00 R=0.00 F1=0.00 (TP=0 FP=0 FN=11)\n",
      "event_when: P=0.00 R=0.00 F1=0.00 (TP=0 FP=0 FN=8)\n",
      "\n",
      "Document: file:/C:/Users/mnavas/CASE%20OF%20MURUZHEVA%20v.%20RUSSIA.docx\n",
      "event_type: P=0.00 R=0.00 F1=0.00 (TP=0 FP=0 FN=2)\n",
      "event_who: P=0.00 R=0.00 F1=0.00 (TP=0 FP=0 FN=22)\n",
      "event_what: P=0.00 R=0.00 F1=0.00 (TP=0 FP=0 FN=39)\n",
      "event_when: P=0.00 R=0.00 F1=0.00 (TP=0 FP=0 FN=35)\n",
      "\n",
      "Document: file:/C:/Users/mnavas/CASE%20OF%20_NODI%20v.%20HUNGARY.docx\n",
      "event_type: P=0.00 R=0.00 F1=0.00 (TP=0 FP=0 FN=2)\n",
      "event_who: P=0.00 R=0.00 F1=0.00 (TP=0 FP=0 FN=14)\n",
      "event_what: P=0.00 R=0.00 F1=0.00 (TP=0 FP=0 FN=30)\n",
      "event_when: P=0.00 R=0.00 F1=0.00 (TP=0 FP=0 FN=22)\n",
      "\n",
      "Document: file:/C:/Users/mnavas/CASE%20OF%20O.C.I.%20AND%20OTHERS%20v.%20ROMANIA.docx\n",
      "event_type: P=0.00 R=0.00 F1=0.00 (TP=0 FP=0 FN=2)\n",
      "event_who: P=0.00 R=0.00 F1=0.00 (TP=0 FP=0 FN=16)\n",
      "event_what: P=0.00 R=0.00 F1=0.00 (TP=0 FP=0 FN=23)\n",
      "event_when: P=0.00 R=0.00 F1=0.00 (TP=0 FP=0 FN=20)\n",
      "\n",
      "Document: file:/C:/Users/mnavas/Desktop/CASE%20OF%20OTGON%20v.%20THE%20REPUBLIC%20OF%20MOLDOVA.docx\n",
      "event_type: P=0.00 R=0.00 F1=0.00 (TP=0 FP=0 FN=2)\n",
      "event_who: P=0.00 R=0.00 F1=0.00 (TP=0 FP=0 FN=10)\n",
      "event_what: P=0.00 R=0.00 F1=0.00 (TP=0 FP=0 FN=10)\n",
      "event_when: P=0.00 R=0.00 F1=0.00 (TP=0 FP=0 FN=9)\n",
      "\n",
      "Document: file:/C:/Users/mnavas/CASE%20OF%20PAKHTUSOV%20v.%20RUSSIA.docx\n",
      "event_type: P=0.00 R=0.00 F1=0.00 (TP=0 FP=0 FN=2)\n",
      "event_who: P=0.00 R=0.00 F1=0.00 (TP=0 FP=0 FN=11)\n",
      "event_what: P=0.00 R=0.00 F1=0.00 (TP=0 FP=0 FN=12)\n",
      "event_when: P=0.00 R=0.00 F1=0.00 (TP=0 FP=0 FN=10)\n",
      "\n",
      "Document: file:/C:/Users/mnavas/CASE%20OF%20PANYUSHKINY%20v.%20RUSSIA.docx\n",
      "event_type: P=0.00 R=0.00 F1=0.00 (TP=0 FP=0 FN=2)\n",
      "event_who: P=0.00 R=0.00 F1=0.00 (TP=0 FP=0 FN=17)\n",
      "event_what: P=0.00 R=0.00 F1=0.00 (TP=0 FP=0 FN=33)\n",
      "event_when: P=0.00 R=0.00 F1=0.00 (TP=0 FP=0 FN=27)\n",
      "\n",
      "Document: file:/C:/Users/mnavas/CASE%20OF%20RESIN%20v.%20RUSSIA.docx\n",
      "event_type: P=0.00 R=0.00 F1=0.00 (TP=0 FP=0 FN=2)\n",
      "event_who: P=0.00 R=0.00 F1=0.00 (TP=0 FP=0 FN=7)\n",
      "event_what: P=0.00 R=0.00 F1=0.00 (TP=0 FP=0 FN=15)\n",
      "event_when: P=0.00 R=0.00 F1=0.00 (TP=0 FP=0 FN=13)\n",
      "\n",
      "Document: file:/C:/Users/mnavas/CASE%20OF%20S.N.%20v.%20RUSSIA.docx\n",
      "event_type: P=0.00 R=0.00 F1=0.00 (TP=0 FP=0 FN=2)\n",
      "event_who: P=0.00 R=0.00 F1=0.00 (TP=0 FP=0 FN=30)\n",
      "event_what: P=0.00 R=0.00 F1=0.00 (TP=0 FP=0 FN=35)\n",
      "event_when: P=0.00 R=0.00 F1=0.00 (TP=0 FP=0 FN=41)\n",
      "\n",
      "Document: file:/C:/Users/mnavas/CASE%20OF%20S.V.%20v.%20ITALY.docx\n",
      "event_type: P=0.00 R=0.00 F1=0.00 (TP=0 FP=0 FN=2)\n",
      "event_who: P=0.00 R=0.00 F1=0.00 (TP=0 FP=0 FN=10)\n",
      "event_what: P=0.00 R=0.00 F1=0.00 (TP=0 FP=0 FN=17)\n",
      "event_when: P=0.00 R=0.00 F1=0.00 (TP=0 FP=0 FN=13)\n",
      "\n",
      "Document: file:/C:/Users/mnavas/CASE%20OF%20SHVIDKIYE%20v.%20RUSSIA.docx\n",
      "event_type: P=0.00 R=0.00 F1=0.00 (TP=0 FP=0 FN=2)\n",
      "event_who: P=0.00 R=0.00 F1=0.00 (TP=0 FP=0 FN=15)\n",
      "event_what: P=0.00 R=0.00 F1=0.00 (TP=0 FP=0 FN=22)\n",
      "event_when: P=0.00 R=0.00 F1=0.00 (TP=0 FP=0 FN=20)\n",
      "\n",
      "Document: file:/C:/Users/mnavas/CASE%20OF%20SIDOROVA%20v.%20RUSSIA.docx\n",
      "event_type: P=0.00 R=0.00 F1=0.00 (TP=0 FP=0 FN=2)\n",
      "event_who: P=0.00 R=0.00 F1=0.00 (TP=0 FP=0 FN=11)\n",
      "event_what: P=0.00 R=0.00 F1=0.00 (TP=0 FP=0 FN=13)\n",
      "event_when: P=0.00 R=0.00 F1=0.00 (TP=0 FP=0 FN=13)\n",
      "\n",
      "Document: file:/C:/Users/mnavas/CASE%20OF%20SOLCAN%20v.%20ROMANIA.docx\n",
      "event_type: P=0.00 R=0.00 F1=0.00 (TP=0 FP=0 FN=2)\n",
      "event_who: P=0.00 R=0.00 F1=0.00 (TP=0 FP=0 FN=9)\n",
      "event_what: P=0.00 R=0.00 F1=0.00 (TP=0 FP=0 FN=13)\n",
      "event_when: P=0.00 R=0.00 F1=0.00 (TP=0 FP=0 FN=11)\n",
      "\n",
      "Document: file:/C:/Users/mnavas/CASE%20OF%20STANA%20v.%20ROMANIA.docx\n",
      "event_type: P=0.00 R=0.00 F1=0.00 (TP=0 FP=0 FN=2)\n",
      "event_who: P=0.00 R=0.00 F1=0.00 (TP=0 FP=0 FN=5)\n",
      "event_what: P=0.00 R=0.00 F1=0.00 (TP=0 FP=0 FN=6)\n",
      "event_when: P=0.00 R=0.00 F1=0.00 (TP=0 FP=0 FN=4)\n",
      "\n",
      "Document: file:/C:/Users/mnavas/CASE%20OF%20VISY%20v.%20SLOVAKIA.docx\n",
      "event_type: P=0.00 R=0.00 F1=0.00 (TP=0 FP=0 FN=2)\n",
      "event_who: P=0.00 R=0.00 F1=0.00 (TP=0 FP=0 FN=10)\n",
      "event_what: P=0.00 R=0.00 F1=0.00 (TP=0 FP=0 FN=15)\n",
      "event_when: P=0.00 R=0.00 F1=0.00 (TP=0 FP=0 FN=11)\n",
      "\n",
      "Document: file:/C:/Users/mnavas/CASE%20OF%20YAKUSHEV%20v.%20UKRAINE.docx\n",
      "event_type: P=0.00 R=0.00 F1=0.00 (TP=0 FP=0 FN=2)\n",
      "event_who: P=0.00 R=0.00 F1=0.00 (TP=0 FP=0 FN=9)\n",
      "event_what: P=0.00 R=0.00 F1=0.00 (TP=0 FP=0 FN=11)\n",
      "event_when: P=0.00 R=0.00 F1=0.00 (TP=0 FP=0 FN=10)\n",
      "\n",
      "Document: file:/C:/Users/mnavas/CASE%20OF%20YERMAKOVICH%20v.%20RUSSIA.docx\n",
      "event_type: P=0.00 R=0.00 F1=0.00 (TP=0 FP=0 FN=2)\n",
      "event_who: P=0.00 R=0.00 F1=0.00 (TP=0 FP=0 FN=23)\n",
      "event_what: P=0.00 R=0.00 F1=0.00 (TP=0 FP=0 FN=26)\n",
      "event_when: P=0.00 R=0.00 F1=0.00 (TP=0 FP=0 FN=28)\n",
      "\n",
      "Document: file:/C:/Users/mnavas/CASE%20OF%20YEVGENIY%20ZAKHAROV%20v.%20RUSSIA.docx\n",
      "event_type: P=0.00 R=0.00 F1=0.00 (TP=0 FP=0 FN=2)\n",
      "event_who: P=0.00 R=0.00 F1=0.00 (TP=0 FP=0 FN=12)\n",
      "event_what: P=0.00 R=0.00 F1=0.00 (TP=0 FP=0 FN=17)\n",
      "event_when: P=0.00 R=0.00 F1=0.00 (TP=0 FP=0 FN=11)\n"
     ]
    },
    {
     "data": {
      "application/vnd.plotly.v1+json": {
       "config": {
        "plotlyServerURL": "https://plot.ly"
       },
       "data": [
        {
         "alignmentgroup": "True",
         "hovertemplate": "Metric=precision<br>Field=%{x}<br>Score=%{y}<extra></extra>",
         "legendgroup": "precision",
         "marker": {
          "color": "#636efa",
          "pattern": {
           "shape": ""
          }
         },
         "name": "precision",
         "offsetgroup": "precision",
         "orientation": "v",
         "showlegend": true,
         "textposition": "auto",
         "texttemplate": "%{y:.2f}",
         "type": "bar",
         "x": [
          "event_type",
          "event_what",
          "event_when",
          "event_who"
         ],
         "xaxis": "x",
         "y": {
          "bdata": "mpmZmZmZuT9PG+i0gU57PxzHcRzHcZw//kGGyg5Tpz8=",
          "dtype": "f8"
         },
         "yaxis": "y"
        },
        {
         "alignmentgroup": "True",
         "hovertemplate": "Metric=recall<br>Field=%{x}<br>Score=%{y}<extra></extra>",
         "legendgroup": "recall",
         "marker": {
          "color": "#EF553B",
          "pattern": {
           "shape": ""
          }
         },
         "name": "recall",
         "offsetgroup": "recall",
         "orientation": "v",
         "showlegend": true,
         "textposition": "auto",
         "texttemplate": "%{y:.2f}",
         "type": "bar",
         "x": [
          "event_type",
          "event_what",
          "event_when",
          "event_who"
         ],
         "xaxis": "x",
         "y": {
          "bdata": "mpmZmZmZuT8QEBAQEBBgPwQp4XBRkHI/uR6F61G4jj8=",
          "dtype": "f8"
         },
         "yaxis": "y"
        },
        {
         "alignmentgroup": "True",
         "hovertemplate": "Metric=f1<br>Field=%{x}<br>Score=%{y}<extra></extra>",
         "legendgroup": "f1",
         "marker": {
          "color": "#00cc96",
          "pattern": {
           "shape": ""
          }
         },
         "name": "f1",
         "offsetgroup": "f1",
         "orientation": "v",
         "showlegend": true,
         "textposition": "auto",
         "texttemplate": "%{y:.2f}",
         "type": "bar",
         "x": [
          "event_type",
          "event_what",
          "event_when",
          "event_who"
         ],
         "xaxis": "x",
         "y": {
          "bdata": "mpmZmZmZuT/SGDCNAdNoP31EGdq46n8/4wL7fJyUlj8=",
          "dtype": "f8"
         },
         "yaxis": "y"
        }
       ],
       "layout": {
        "barmode": "group",
        "legend": {
         "title": {
          "text": "Metric"
         },
         "tracegroupgap": 0
        },
        "template": {
         "data": {
          "bar": [
           {
            "error_x": {
             "color": "#2a3f5f"
            },
            "error_y": {
             "color": "#2a3f5f"
            },
            "marker": {
             "line": {
              "color": "#E5ECF6",
              "width": 0.5
             },
             "pattern": {
              "fillmode": "overlay",
              "size": 10,
              "solidity": 0.2
             }
            },
            "type": "bar"
           }
          ],
          "barpolar": [
           {
            "marker": {
             "line": {
              "color": "#E5ECF6",
              "width": 0.5
             },
             "pattern": {
              "fillmode": "overlay",
              "size": 10,
              "solidity": 0.2
             }
            },
            "type": "barpolar"
           }
          ],
          "carpet": [
           {
            "aaxis": {
             "endlinecolor": "#2a3f5f",
             "gridcolor": "white",
             "linecolor": "white",
             "minorgridcolor": "white",
             "startlinecolor": "#2a3f5f"
            },
            "baxis": {
             "endlinecolor": "#2a3f5f",
             "gridcolor": "white",
             "linecolor": "white",
             "minorgridcolor": "white",
             "startlinecolor": "#2a3f5f"
            },
            "type": "carpet"
           }
          ],
          "choropleth": [
           {
            "colorbar": {
             "outlinewidth": 0,
             "ticks": ""
            },
            "type": "choropleth"
           }
          ],
          "contour": [
           {
            "colorbar": {
             "outlinewidth": 0,
             "ticks": ""
            },
            "colorscale": [
             [
              0,
              "#0d0887"
             ],
             [
              0.1111111111111111,
              "#46039f"
             ],
             [
              0.2222222222222222,
              "#7201a8"
             ],
             [
              0.3333333333333333,
              "#9c179e"
             ],
             [
              0.4444444444444444,
              "#bd3786"
             ],
             [
              0.5555555555555556,
              "#d8576b"
             ],
             [
              0.6666666666666666,
              "#ed7953"
             ],
             [
              0.7777777777777778,
              "#fb9f3a"
             ],
             [
              0.8888888888888888,
              "#fdca26"
             ],
             [
              1,
              "#f0f921"
             ]
            ],
            "type": "contour"
           }
          ],
          "contourcarpet": [
           {
            "colorbar": {
             "outlinewidth": 0,
             "ticks": ""
            },
            "type": "contourcarpet"
           }
          ],
          "heatmap": [
           {
            "colorbar": {
             "outlinewidth": 0,
             "ticks": ""
            },
            "colorscale": [
             [
              0,
              "#0d0887"
             ],
             [
              0.1111111111111111,
              "#46039f"
             ],
             [
              0.2222222222222222,
              "#7201a8"
             ],
             [
              0.3333333333333333,
              "#9c179e"
             ],
             [
              0.4444444444444444,
              "#bd3786"
             ],
             [
              0.5555555555555556,
              "#d8576b"
             ],
             [
              0.6666666666666666,
              "#ed7953"
             ],
             [
              0.7777777777777778,
              "#fb9f3a"
             ],
             [
              0.8888888888888888,
              "#fdca26"
             ],
             [
              1,
              "#f0f921"
             ]
            ],
            "type": "heatmap"
           }
          ],
          "histogram": [
           {
            "marker": {
             "pattern": {
              "fillmode": "overlay",
              "size": 10,
              "solidity": 0.2
             }
            },
            "type": "histogram"
           }
          ],
          "histogram2d": [
           {
            "colorbar": {
             "outlinewidth": 0,
             "ticks": ""
            },
            "colorscale": [
             [
              0,
              "#0d0887"
             ],
             [
              0.1111111111111111,
              "#46039f"
             ],
             [
              0.2222222222222222,
              "#7201a8"
             ],
             [
              0.3333333333333333,
              "#9c179e"
             ],
             [
              0.4444444444444444,
              "#bd3786"
             ],
             [
              0.5555555555555556,
              "#d8576b"
             ],
             [
              0.6666666666666666,
              "#ed7953"
             ],
             [
              0.7777777777777778,
              "#fb9f3a"
             ],
             [
              0.8888888888888888,
              "#fdca26"
             ],
             [
              1,
              "#f0f921"
             ]
            ],
            "type": "histogram2d"
           }
          ],
          "histogram2dcontour": [
           {
            "colorbar": {
             "outlinewidth": 0,
             "ticks": ""
            },
            "colorscale": [
             [
              0,
              "#0d0887"
             ],
             [
              0.1111111111111111,
              "#46039f"
             ],
             [
              0.2222222222222222,
              "#7201a8"
             ],
             [
              0.3333333333333333,
              "#9c179e"
             ],
             [
              0.4444444444444444,
              "#bd3786"
             ],
             [
              0.5555555555555556,
              "#d8576b"
             ],
             [
              0.6666666666666666,
              "#ed7953"
             ],
             [
              0.7777777777777778,
              "#fb9f3a"
             ],
             [
              0.8888888888888888,
              "#fdca26"
             ],
             [
              1,
              "#f0f921"
             ]
            ],
            "type": "histogram2dcontour"
           }
          ],
          "mesh3d": [
           {
            "colorbar": {
             "outlinewidth": 0,
             "ticks": ""
            },
            "type": "mesh3d"
           }
          ],
          "parcoords": [
           {
            "line": {
             "colorbar": {
              "outlinewidth": 0,
              "ticks": ""
             }
            },
            "type": "parcoords"
           }
          ],
          "pie": [
           {
            "automargin": true,
            "type": "pie"
           }
          ],
          "scatter": [
           {
            "fillpattern": {
             "fillmode": "overlay",
             "size": 10,
             "solidity": 0.2
            },
            "type": "scatter"
           }
          ],
          "scatter3d": [
           {
            "line": {
             "colorbar": {
              "outlinewidth": 0,
              "ticks": ""
             }
            },
            "marker": {
             "colorbar": {
              "outlinewidth": 0,
              "ticks": ""
             }
            },
            "type": "scatter3d"
           }
          ],
          "scattercarpet": [
           {
            "marker": {
             "colorbar": {
              "outlinewidth": 0,
              "ticks": ""
             }
            },
            "type": "scattercarpet"
           }
          ],
          "scattergeo": [
           {
            "marker": {
             "colorbar": {
              "outlinewidth": 0,
              "ticks": ""
             }
            },
            "type": "scattergeo"
           }
          ],
          "scattergl": [
           {
            "marker": {
             "colorbar": {
              "outlinewidth": 0,
              "ticks": ""
             }
            },
            "type": "scattergl"
           }
          ],
          "scattermap": [
           {
            "marker": {
             "colorbar": {
              "outlinewidth": 0,
              "ticks": ""
             }
            },
            "type": "scattermap"
           }
          ],
          "scattermapbox": [
           {
            "marker": {
             "colorbar": {
              "outlinewidth": 0,
              "ticks": ""
             }
            },
            "type": "scattermapbox"
           }
          ],
          "scatterpolar": [
           {
            "marker": {
             "colorbar": {
              "outlinewidth": 0,
              "ticks": ""
             }
            },
            "type": "scatterpolar"
           }
          ],
          "scatterpolargl": [
           {
            "marker": {
             "colorbar": {
              "outlinewidth": 0,
              "ticks": ""
             }
            },
            "type": "scatterpolargl"
           }
          ],
          "scatterternary": [
           {
            "marker": {
             "colorbar": {
              "outlinewidth": 0,
              "ticks": ""
             }
            },
            "type": "scatterternary"
           }
          ],
          "surface": [
           {
            "colorbar": {
             "outlinewidth": 0,
             "ticks": ""
            },
            "colorscale": [
             [
              0,
              "#0d0887"
             ],
             [
              0.1111111111111111,
              "#46039f"
             ],
             [
              0.2222222222222222,
              "#7201a8"
             ],
             [
              0.3333333333333333,
              "#9c179e"
             ],
             [
              0.4444444444444444,
              "#bd3786"
             ],
             [
              0.5555555555555556,
              "#d8576b"
             ],
             [
              0.6666666666666666,
              "#ed7953"
             ],
             [
              0.7777777777777778,
              "#fb9f3a"
             ],
             [
              0.8888888888888888,
              "#fdca26"
             ],
             [
              1,
              "#f0f921"
             ]
            ],
            "type": "surface"
           }
          ],
          "table": [
           {
            "cells": {
             "fill": {
              "color": "#EBF0F8"
             },
             "line": {
              "color": "white"
             }
            },
            "header": {
             "fill": {
              "color": "#C8D4E3"
             },
             "line": {
              "color": "white"
             }
            },
            "type": "table"
           }
          ]
         },
         "layout": {
          "annotationdefaults": {
           "arrowcolor": "#2a3f5f",
           "arrowhead": 0,
           "arrowwidth": 1
          },
          "autotypenumbers": "strict",
          "coloraxis": {
           "colorbar": {
            "outlinewidth": 0,
            "ticks": ""
           }
          },
          "colorscale": {
           "diverging": [
            [
             0,
             "#8e0152"
            ],
            [
             0.1,
             "#c51b7d"
            ],
            [
             0.2,
             "#de77ae"
            ],
            [
             0.3,
             "#f1b6da"
            ],
            [
             0.4,
             "#fde0ef"
            ],
            [
             0.5,
             "#f7f7f7"
            ],
            [
             0.6,
             "#e6f5d0"
            ],
            [
             0.7,
             "#b8e186"
            ],
            [
             0.8,
             "#7fbc41"
            ],
            [
             0.9,
             "#4d9221"
            ],
            [
             1,
             "#276419"
            ]
           ],
           "sequential": [
            [
             0,
             "#0d0887"
            ],
            [
             0.1111111111111111,
             "#46039f"
            ],
            [
             0.2222222222222222,
             "#7201a8"
            ],
            [
             0.3333333333333333,
             "#9c179e"
            ],
            [
             0.4444444444444444,
             "#bd3786"
            ],
            [
             0.5555555555555556,
             "#d8576b"
            ],
            [
             0.6666666666666666,
             "#ed7953"
            ],
            [
             0.7777777777777778,
             "#fb9f3a"
            ],
            [
             0.8888888888888888,
             "#fdca26"
            ],
            [
             1,
             "#f0f921"
            ]
           ],
           "sequentialminus": [
            [
             0,
             "#0d0887"
            ],
            [
             0.1111111111111111,
             "#46039f"
            ],
            [
             0.2222222222222222,
             "#7201a8"
            ],
            [
             0.3333333333333333,
             "#9c179e"
            ],
            [
             0.4444444444444444,
             "#bd3786"
            ],
            [
             0.5555555555555556,
             "#d8576b"
            ],
            [
             0.6666666666666666,
             "#ed7953"
            ],
            [
             0.7777777777777778,
             "#fb9f3a"
            ],
            [
             0.8888888888888888,
             "#fdca26"
            ],
            [
             1,
             "#f0f921"
            ]
           ]
          },
          "colorway": [
           "#636efa",
           "#EF553B",
           "#00cc96",
           "#ab63fa",
           "#FFA15A",
           "#19d3f3",
           "#FF6692",
           "#B6E880",
           "#FF97FF",
           "#FECB52"
          ],
          "font": {
           "color": "#2a3f5f"
          },
          "geo": {
           "bgcolor": "white",
           "lakecolor": "white",
           "landcolor": "#E5ECF6",
           "showlakes": true,
           "showland": true,
           "subunitcolor": "white"
          },
          "hoverlabel": {
           "align": "left"
          },
          "hovermode": "closest",
          "mapbox": {
           "style": "light"
          },
          "paper_bgcolor": "white",
          "plot_bgcolor": "#E5ECF6",
          "polar": {
           "angularaxis": {
            "gridcolor": "white",
            "linecolor": "white",
            "ticks": ""
           },
           "bgcolor": "#E5ECF6",
           "radialaxis": {
            "gridcolor": "white",
            "linecolor": "white",
            "ticks": ""
           }
          },
          "scene": {
           "xaxis": {
            "backgroundcolor": "#E5ECF6",
            "gridcolor": "white",
            "gridwidth": 2,
            "linecolor": "white",
            "showbackground": true,
            "ticks": "",
            "zerolinecolor": "white"
           },
           "yaxis": {
            "backgroundcolor": "#E5ECF6",
            "gridcolor": "white",
            "gridwidth": 2,
            "linecolor": "white",
            "showbackground": true,
            "ticks": "",
            "zerolinecolor": "white"
           },
           "zaxis": {
            "backgroundcolor": "#E5ECF6",
            "gridcolor": "white",
            "gridwidth": 2,
            "linecolor": "white",
            "showbackground": true,
            "ticks": "",
            "zerolinecolor": "white"
           }
          },
          "shapedefaults": {
           "line": {
            "color": "#2a3f5f"
           }
          },
          "ternary": {
           "aaxis": {
            "gridcolor": "white",
            "linecolor": "white",
            "ticks": ""
           },
           "baxis": {
            "gridcolor": "white",
            "linecolor": "white",
            "ticks": ""
           },
           "bgcolor": "#E5ECF6",
           "caxis": {
            "gridcolor": "white",
            "linecolor": "white",
            "ticks": ""
           }
          },
          "title": {
           "x": 0.05
          },
          "xaxis": {
           "automargin": true,
           "gridcolor": "white",
           "linecolor": "white",
           "ticks": "",
           "title": {
            "standoff": 15
           },
           "zerolinecolor": "white",
           "zerolinewidth": 2
          },
          "yaxis": {
           "automargin": true,
           "gridcolor": "white",
           "linecolor": "white",
           "ticks": "",
           "title": {
            "standoff": 15
           },
           "zerolinecolor": "white",
           "zerolinewidth": 2
          }
         }
        },
        "title": {
         "text": "Average Precision, Recall, F1 per Field"
        },
        "xaxis": {
         "anchor": "y",
         "domain": [
          0,
          1
         ],
         "title": {
          "text": "Field"
         }
        },
        "yaxis": {
         "anchor": "x",
         "domain": [
          0,
          1
         ],
         "range": [
          0,
          1
         ],
         "title": {
          "text": "Score"
         }
        }
       }
      }
     },
     "metadata": {},
     "output_type": "display_data"
    },
    {
     "data": {
      "application/vnd.plotly.v1+json": {
       "config": {
        "plotlyServerURL": "https://plot.ly"
       },
       "data": [
        {
         "colorbar": {
          "title": {
           "text": "F1 Score"
          }
         },
         "colorscale": [
          [
           0,
           "rgb(255,255,217)"
          ],
          [
           0.125,
           "rgb(237,248,177)"
          ],
          [
           0.25,
           "rgb(199,233,180)"
          ],
          [
           0.375,
           "rgb(127,205,187)"
          ],
          [
           0.5,
           "rgb(65,182,196)"
          ],
          [
           0.625,
           "rgb(29,145,192)"
          ],
          [
           0.75,
           "rgb(34,94,168)"
          ],
          [
           0.875,
           "rgb(37,52,148)"
          ],
          [
           1,
           "rgb(8,29,88)"
          ]
         ],
         "hovertemplate": "Document: %{y}<br>Field: %{x}<br>F1: %{z:.2f}<extra></extra>",
         "text": [
          [
           "1.0",
           "0.09",
           "0.09",
           "0.31"
          ],
          [
           "1.0",
           "0.0",
           "0.0",
           "0.15"
          ],
          [
           "1.0",
           "0.0",
           "0.14",
           "0.2"
          ],
          [
           "0.0",
           "0.0",
           "0.0",
           "0.0"
          ],
          [
           "0.0",
           "0.0",
           "0.0",
           "0.0"
          ],
          [
           "0.0",
           "0.0",
           "0.0",
           "0.0"
          ],
          [
           "0.0",
           "0.0",
           "0.0",
           "0.0"
          ],
          [
           "0.0",
           "0.0",
           "0.0",
           "0.0"
          ],
          [
           "0.0",
           "0.0",
           "0.0",
           "0.0"
          ],
          [
           "0.0",
           "0.0",
           "0.0",
           "0.0"
          ],
          [
           "0.0",
           "0.0",
           "0.0",
           "0.0"
          ],
          [
           "0.0",
           "0.0",
           "0.0",
           "0.0"
          ],
          [
           "0.0",
           "0.0",
           "0.0",
           "0.0"
          ],
          [
           "0.0",
           "0.0",
           "0.0",
           "0.0"
          ],
          [
           "0.0",
           "0.0",
           "0.0",
           "0.0"
          ],
          [
           "0.0",
           "0.0",
           "0.0",
           "0.0"
          ],
          [
           "0.0",
           "0.0",
           "0.0",
           "0.0"
          ],
          [
           "0.0",
           "0.0",
           "0.0",
           "0.0"
          ],
          [
           "0.0",
           "0.0",
           "0.0",
           "0.0"
          ],
          [
           "0.0",
           "0.0",
           "0.0",
           "0.0"
          ],
          [
           "0.0",
           "0.0",
           "0.0",
           "0.0"
          ],
          [
           "0.0",
           "0.0",
           "0.0",
           "0.0"
          ],
          [
           "0.0",
           "0.0",
           "0.0",
           "0.0"
          ],
          [
           "0.0",
           "0.0",
           "0.0",
           "0.0"
          ],
          [
           "0.0",
           "0.0",
           "0.0",
           "0.0"
          ],
          [
           "0.0",
           "0.0",
           "0.0",
           "0.0"
          ],
          [
           "0.0",
           "0.0",
           "0.0",
           "0.0"
          ],
          [
           "0.0",
           "0.0",
           "0.0",
           "0.0"
          ],
          [
           "0.0",
           "0.0",
           "0.0",
           "0.0"
          ],
          [
           "0.0",
           "0.0",
           "0.0",
           "0.0"
          ]
         ],
         "type": "heatmap",
         "x": [
          "event_type",
          "event_what",
          "event_when",
          "event_who"
         ],
         "y": [
          "file:/C:/Users/mnavas/CASE%20OF%20ALTAY%20v.%20TURKEY%20(No.%202).docx",
          "file:/C:/Users/mnavas/CASE%20OF%20BELYAYEV%20AND%20OTHERS%20v.%20UKRAINE.docx",
          "file:/C:/Users/mnavas/CASE%20OF%20BIGUN%20v.%20UKRAINE.docx",
          "file:/C:/Users/mnavas/CASE%20OF%20CABUCAK%20v.%20GERMANY.docx",
          "file:/C:/Users/mnavas/CASE%20OF%20CAN%20v.%20TURKEY.docx",
          "file:/C:/Users/mnavas/CASE%20OF%20CRISTIAN%20CATALIN%20UNGUREANU%20v.%20ROMANIA.docx",
          "file:/C:/Users/mnavas/CASE%20OF%20DOKTOROV%20v.%20BULGARIA.docx",
          "file:/C:/Users/mnavas/CASE%20OF%20EGILL%20EINARSSON%20v.%20ICELAND%20(No.%202).docx",
          "file:/C:/Users/mnavas/CASE%20OF%20H_INESS%20v.%20NORWAY%20(1).docx",
          "file:/C:/Users/mnavas/CASE%20OF%20KOSAITE%20-%20CYPIENE%20AND%20OTHERS%20v.%20LITHUANIA.docx",
          "file:/C:/Users/mnavas/CASE%20OF%20LOZOVYYE%20v.%20RUSSIA.docx",
          "file:/C:/Users/mnavas/CASE%20OF%20M.T.%20v.%20UKRAINE.docx",
          "file:/C:/Users/mnavas/CASE%20OF%20MOSKALEV%20v.%20RUSSIA.docx",
          "file:/C:/Users/mnavas/CASE%20OF%20MURUZHEVA%20v.%20RUSSIA.docx",
          "file:/C:/Users/mnavas/CASE%20OF%20O.C.I.%20AND%20OTHERS%20v.%20ROMANIA.docx",
          "file:/C:/Users/mnavas/CASE%20OF%20PAKHTUSOV%20v.%20RUSSIA.docx",
          "file:/C:/Users/mnavas/CASE%20OF%20PANYUSHKINY%20v.%20RUSSIA.docx",
          "file:/C:/Users/mnavas/CASE%20OF%20RESIN%20v.%20RUSSIA.docx",
          "file:/C:/Users/mnavas/CASE%20OF%20S.N.%20v.%20RUSSIA.docx",
          "file:/C:/Users/mnavas/CASE%20OF%20S.V.%20v.%20ITALY.docx",
          "file:/C:/Users/mnavas/CASE%20OF%20SHVIDKIYE%20v.%20RUSSIA.docx",
          "file:/C:/Users/mnavas/CASE%20OF%20SIDOROVA%20v.%20RUSSIA.docx",
          "file:/C:/Users/mnavas/CASE%20OF%20SOLCAN%20v.%20ROMANIA.docx",
          "file:/C:/Users/mnavas/CASE%20OF%20STANA%20v.%20ROMANIA.docx",
          "file:/C:/Users/mnavas/CASE%20OF%20VISY%20v.%20SLOVAKIA.docx",
          "file:/C:/Users/mnavas/CASE%20OF%20YAKUSHEV%20v.%20UKRAINE.docx",
          "file:/C:/Users/mnavas/CASE%20OF%20YERMAKOVICH%20v.%20RUSSIA.docx",
          "file:/C:/Users/mnavas/CASE%20OF%20YEVGENIY%20ZAKHAROV%20v.%20RUSSIA.docx",
          "file:/C:/Users/mnavas/CASE%20OF%20_NODI%20v.%20HUNGARY.docx",
          "file:/C:/Users/mnavas/Desktop/CASE%20OF%20OTGON%20v.%20THE%20REPUBLIC%20OF%20MOLDOVA.docx"
         ],
         "z": {
          "bdata": "AAAAAAAA8D9FF1100UW3P0YXXXTRRbc/EzuxEzux0z8AAAAAAADwPwAAAAAAAAAAAAAAAAAAAAAUO7ETO7HDPwAAAAAAAPA/AAAAAAAAAACSJEmSJEnCP5qZmZmZmck/AAAAAAAAAAAAAAAAAAAAAAAAAAAAAAAAAAAAAAAAAAAAAAAAAAAAAAAAAAAAAAAAAAAAAAAAAAAAAAAAAAAAAAAAAAAAAAAAAAAAAAAAAAAAAAAAAAAAAAAAAAAAAAAAAAAAAAAAAAAAAAAAAAAAAAAAAAAAAAAAAAAAAAAAAAAAAAAAAAAAAAAAAAAAAAAAAAAAAAAAAAAAAAAAAAAAAAAAAAAAAAAAAAAAAAAAAAAAAAAAAAAAAAAAAAAAAAAAAAAAAAAAAAAAAAAAAAAAAAAAAAAAAAAAAAAAAAAAAAAAAAAAAAAAAAAAAAAAAAAAAAAAAAAAAAAAAAAAAAAAAAAAAAAAAAAAAAAAAAAAAAAAAAAAAAAAAAAAAAAAAAAAAAAAAAAAAAAAAAAAAAAAAAAAAAAAAAAAAAAAAAAAAAAAAAAAAAAAAAAAAAAAAAAAAAAAAAAAAAAAAAAAAAAAAAAAAAAAAAAAAAAAAAAAAAAAAAAAAAAAAAAAAAAAAAAAAAAAAAAAAAAAAAAAAAAAAAAAAAAAAAAAAAAAAAAAAAAAAAAAAAAAAAAAAAAAAAAAAAAAAAAAAAAAAAAAAAAAAAAAAAAAAAAAAAAAAAAAAAAAAAAAAAAAAAAAAAAAAAAAAAAAAAAAAAAAAAAAAAAAAAAAAAAAAAAAAAAAAAAAAAAAAAAAAAAAAAAAAAAAAAAAAAAAAAAAAAAAAAAAAAAAAAAAAAAAAAAAAAAAAAAAAAAAAAAAAAAAAAAAAAAAAAAAAAAAAAAAAAAAAAAAAAAAAAAAAAAAAAAAAAAAAAAAAAAAAAAAAAAAAAAAAAAAAAAAAAAAAAAAAAAAAAAAAAAAAAAAAAAAAAAAAAAAAAAAAAAAAAAAAAAAAAAAAAAAAAAAAAAAAAAAAAAAAAAAAAAAAAAAAAAAAAAAAAAAAAAAAAAAAAAAAAAAAAAAAAAAAAAAAAAAAAAAAAAAAAAAAAAAAAAAAAAAAAAAAAAAAAAAAAAAAAAAAAAAAAAAAAAAAAAAAAAAAAAAAAAAAAAAAAAAAAAAAAAAAAAAAAAAAAAAAAAAAAAAAAAAAAAAAAAAAAAAAAAAAAAAAAAAAAAAAAAAAAAAAAAAAAAAAAAAAAAAAAAAAAAAAAAAAAAAAAAAAAAA",
          "dtype": "f8",
          "shape": "30, 4"
         },
         "zmax": 1,
         "zmin": 0
        }
       ],
       "layout": {
        "height": 900,
        "template": {
         "data": {
          "bar": [
           {
            "error_x": {
             "color": "#2a3f5f"
            },
            "error_y": {
             "color": "#2a3f5f"
            },
            "marker": {
             "line": {
              "color": "#E5ECF6",
              "width": 0.5
             },
             "pattern": {
              "fillmode": "overlay",
              "size": 10,
              "solidity": 0.2
             }
            },
            "type": "bar"
           }
          ],
          "barpolar": [
           {
            "marker": {
             "line": {
              "color": "#E5ECF6",
              "width": 0.5
             },
             "pattern": {
              "fillmode": "overlay",
              "size": 10,
              "solidity": 0.2
             }
            },
            "type": "barpolar"
           }
          ],
          "carpet": [
           {
            "aaxis": {
             "endlinecolor": "#2a3f5f",
             "gridcolor": "white",
             "linecolor": "white",
             "minorgridcolor": "white",
             "startlinecolor": "#2a3f5f"
            },
            "baxis": {
             "endlinecolor": "#2a3f5f",
             "gridcolor": "white",
             "linecolor": "white",
             "minorgridcolor": "white",
             "startlinecolor": "#2a3f5f"
            },
            "type": "carpet"
           }
          ],
          "choropleth": [
           {
            "colorbar": {
             "outlinewidth": 0,
             "ticks": ""
            },
            "type": "choropleth"
           }
          ],
          "contour": [
           {
            "colorbar": {
             "outlinewidth": 0,
             "ticks": ""
            },
            "colorscale": [
             [
              0,
              "#0d0887"
             ],
             [
              0.1111111111111111,
              "#46039f"
             ],
             [
              0.2222222222222222,
              "#7201a8"
             ],
             [
              0.3333333333333333,
              "#9c179e"
             ],
             [
              0.4444444444444444,
              "#bd3786"
             ],
             [
              0.5555555555555556,
              "#d8576b"
             ],
             [
              0.6666666666666666,
              "#ed7953"
             ],
             [
              0.7777777777777778,
              "#fb9f3a"
             ],
             [
              0.8888888888888888,
              "#fdca26"
             ],
             [
              1,
              "#f0f921"
             ]
            ],
            "type": "contour"
           }
          ],
          "contourcarpet": [
           {
            "colorbar": {
             "outlinewidth": 0,
             "ticks": ""
            },
            "type": "contourcarpet"
           }
          ],
          "heatmap": [
           {
            "colorbar": {
             "outlinewidth": 0,
             "ticks": ""
            },
            "colorscale": [
             [
              0,
              "#0d0887"
             ],
             [
              0.1111111111111111,
              "#46039f"
             ],
             [
              0.2222222222222222,
              "#7201a8"
             ],
             [
              0.3333333333333333,
              "#9c179e"
             ],
             [
              0.4444444444444444,
              "#bd3786"
             ],
             [
              0.5555555555555556,
              "#d8576b"
             ],
             [
              0.6666666666666666,
              "#ed7953"
             ],
             [
              0.7777777777777778,
              "#fb9f3a"
             ],
             [
              0.8888888888888888,
              "#fdca26"
             ],
             [
              1,
              "#f0f921"
             ]
            ],
            "type": "heatmap"
           }
          ],
          "histogram": [
           {
            "marker": {
             "pattern": {
              "fillmode": "overlay",
              "size": 10,
              "solidity": 0.2
             }
            },
            "type": "histogram"
           }
          ],
          "histogram2d": [
           {
            "colorbar": {
             "outlinewidth": 0,
             "ticks": ""
            },
            "colorscale": [
             [
              0,
              "#0d0887"
             ],
             [
              0.1111111111111111,
              "#46039f"
             ],
             [
              0.2222222222222222,
              "#7201a8"
             ],
             [
              0.3333333333333333,
              "#9c179e"
             ],
             [
              0.4444444444444444,
              "#bd3786"
             ],
             [
              0.5555555555555556,
              "#d8576b"
             ],
             [
              0.6666666666666666,
              "#ed7953"
             ],
             [
              0.7777777777777778,
              "#fb9f3a"
             ],
             [
              0.8888888888888888,
              "#fdca26"
             ],
             [
              1,
              "#f0f921"
             ]
            ],
            "type": "histogram2d"
           }
          ],
          "histogram2dcontour": [
           {
            "colorbar": {
             "outlinewidth": 0,
             "ticks": ""
            },
            "colorscale": [
             [
              0,
              "#0d0887"
             ],
             [
              0.1111111111111111,
              "#46039f"
             ],
             [
              0.2222222222222222,
              "#7201a8"
             ],
             [
              0.3333333333333333,
              "#9c179e"
             ],
             [
              0.4444444444444444,
              "#bd3786"
             ],
             [
              0.5555555555555556,
              "#d8576b"
             ],
             [
              0.6666666666666666,
              "#ed7953"
             ],
             [
              0.7777777777777778,
              "#fb9f3a"
             ],
             [
              0.8888888888888888,
              "#fdca26"
             ],
             [
              1,
              "#f0f921"
             ]
            ],
            "type": "histogram2dcontour"
           }
          ],
          "mesh3d": [
           {
            "colorbar": {
             "outlinewidth": 0,
             "ticks": ""
            },
            "type": "mesh3d"
           }
          ],
          "parcoords": [
           {
            "line": {
             "colorbar": {
              "outlinewidth": 0,
              "ticks": ""
             }
            },
            "type": "parcoords"
           }
          ],
          "pie": [
           {
            "automargin": true,
            "type": "pie"
           }
          ],
          "scatter": [
           {
            "fillpattern": {
             "fillmode": "overlay",
             "size": 10,
             "solidity": 0.2
            },
            "type": "scatter"
           }
          ],
          "scatter3d": [
           {
            "line": {
             "colorbar": {
              "outlinewidth": 0,
              "ticks": ""
             }
            },
            "marker": {
             "colorbar": {
              "outlinewidth": 0,
              "ticks": ""
             }
            },
            "type": "scatter3d"
           }
          ],
          "scattercarpet": [
           {
            "marker": {
             "colorbar": {
              "outlinewidth": 0,
              "ticks": ""
             }
            },
            "type": "scattercarpet"
           }
          ],
          "scattergeo": [
           {
            "marker": {
             "colorbar": {
              "outlinewidth": 0,
              "ticks": ""
             }
            },
            "type": "scattergeo"
           }
          ],
          "scattergl": [
           {
            "marker": {
             "colorbar": {
              "outlinewidth": 0,
              "ticks": ""
             }
            },
            "type": "scattergl"
           }
          ],
          "scattermap": [
           {
            "marker": {
             "colorbar": {
              "outlinewidth": 0,
              "ticks": ""
             }
            },
            "type": "scattermap"
           }
          ],
          "scattermapbox": [
           {
            "marker": {
             "colorbar": {
              "outlinewidth": 0,
              "ticks": ""
             }
            },
            "type": "scattermapbox"
           }
          ],
          "scatterpolar": [
           {
            "marker": {
             "colorbar": {
              "outlinewidth": 0,
              "ticks": ""
             }
            },
            "type": "scatterpolar"
           }
          ],
          "scatterpolargl": [
           {
            "marker": {
             "colorbar": {
              "outlinewidth": 0,
              "ticks": ""
             }
            },
            "type": "scatterpolargl"
           }
          ],
          "scatterternary": [
           {
            "marker": {
             "colorbar": {
              "outlinewidth": 0,
              "ticks": ""
             }
            },
            "type": "scatterternary"
           }
          ],
          "surface": [
           {
            "colorbar": {
             "outlinewidth": 0,
             "ticks": ""
            },
            "colorscale": [
             [
              0,
              "#0d0887"
             ],
             [
              0.1111111111111111,
              "#46039f"
             ],
             [
              0.2222222222222222,
              "#7201a8"
             ],
             [
              0.3333333333333333,
              "#9c179e"
             ],
             [
              0.4444444444444444,
              "#bd3786"
             ],
             [
              0.5555555555555556,
              "#d8576b"
             ],
             [
              0.6666666666666666,
              "#ed7953"
             ],
             [
              0.7777777777777778,
              "#fb9f3a"
             ],
             [
              0.8888888888888888,
              "#fdca26"
             ],
             [
              1,
              "#f0f921"
             ]
            ],
            "type": "surface"
           }
          ],
          "table": [
           {
            "cells": {
             "fill": {
              "color": "#EBF0F8"
             },
             "line": {
              "color": "white"
             }
            },
            "header": {
             "fill": {
              "color": "#C8D4E3"
             },
             "line": {
              "color": "white"
             }
            },
            "type": "table"
           }
          ]
         },
         "layout": {
          "annotationdefaults": {
           "arrowcolor": "#2a3f5f",
           "arrowhead": 0,
           "arrowwidth": 1
          },
          "autotypenumbers": "strict",
          "coloraxis": {
           "colorbar": {
            "outlinewidth": 0,
            "ticks": ""
           }
          },
          "colorscale": {
           "diverging": [
            [
             0,
             "#8e0152"
            ],
            [
             0.1,
             "#c51b7d"
            ],
            [
             0.2,
             "#de77ae"
            ],
            [
             0.3,
             "#f1b6da"
            ],
            [
             0.4,
             "#fde0ef"
            ],
            [
             0.5,
             "#f7f7f7"
            ],
            [
             0.6,
             "#e6f5d0"
            ],
            [
             0.7,
             "#b8e186"
            ],
            [
             0.8,
             "#7fbc41"
            ],
            [
             0.9,
             "#4d9221"
            ],
            [
             1,
             "#276419"
            ]
           ],
           "sequential": [
            [
             0,
             "#0d0887"
            ],
            [
             0.1111111111111111,
             "#46039f"
            ],
            [
             0.2222222222222222,
             "#7201a8"
            ],
            [
             0.3333333333333333,
             "#9c179e"
            ],
            [
             0.4444444444444444,
             "#bd3786"
            ],
            [
             0.5555555555555556,
             "#d8576b"
            ],
            [
             0.6666666666666666,
             "#ed7953"
            ],
            [
             0.7777777777777778,
             "#fb9f3a"
            ],
            [
             0.8888888888888888,
             "#fdca26"
            ],
            [
             1,
             "#f0f921"
            ]
           ],
           "sequentialminus": [
            [
             0,
             "#0d0887"
            ],
            [
             0.1111111111111111,
             "#46039f"
            ],
            [
             0.2222222222222222,
             "#7201a8"
            ],
            [
             0.3333333333333333,
             "#9c179e"
            ],
            [
             0.4444444444444444,
             "#bd3786"
            ],
            [
             0.5555555555555556,
             "#d8576b"
            ],
            [
             0.6666666666666666,
             "#ed7953"
            ],
            [
             0.7777777777777778,
             "#fb9f3a"
            ],
            [
             0.8888888888888888,
             "#fdca26"
            ],
            [
             1,
             "#f0f921"
            ]
           ]
          },
          "colorway": [
           "#636efa",
           "#EF553B",
           "#00cc96",
           "#ab63fa",
           "#FFA15A",
           "#19d3f3",
           "#FF6692",
           "#B6E880",
           "#FF97FF",
           "#FECB52"
          ],
          "font": {
           "color": "#2a3f5f"
          },
          "geo": {
           "bgcolor": "white",
           "lakecolor": "white",
           "landcolor": "#E5ECF6",
           "showlakes": true,
           "showland": true,
           "subunitcolor": "white"
          },
          "hoverlabel": {
           "align": "left"
          },
          "hovermode": "closest",
          "mapbox": {
           "style": "light"
          },
          "paper_bgcolor": "white",
          "plot_bgcolor": "#E5ECF6",
          "polar": {
           "angularaxis": {
            "gridcolor": "white",
            "linecolor": "white",
            "ticks": ""
           },
           "bgcolor": "#E5ECF6",
           "radialaxis": {
            "gridcolor": "white",
            "linecolor": "white",
            "ticks": ""
           }
          },
          "scene": {
           "xaxis": {
            "backgroundcolor": "#E5ECF6",
            "gridcolor": "white",
            "gridwidth": 2,
            "linecolor": "white",
            "showbackground": true,
            "ticks": "",
            "zerolinecolor": "white"
           },
           "yaxis": {
            "backgroundcolor": "#E5ECF6",
            "gridcolor": "white",
            "gridwidth": 2,
            "linecolor": "white",
            "showbackground": true,
            "ticks": "",
            "zerolinecolor": "white"
           },
           "zaxis": {
            "backgroundcolor": "#E5ECF6",
            "gridcolor": "white",
            "gridwidth": 2,
            "linecolor": "white",
            "showbackground": true,
            "ticks": "",
            "zerolinecolor": "white"
           }
          },
          "shapedefaults": {
           "line": {
            "color": "#2a3f5f"
           }
          },
          "ternary": {
           "aaxis": {
            "gridcolor": "white",
            "linecolor": "white",
            "ticks": ""
           },
           "baxis": {
            "gridcolor": "white",
            "linecolor": "white",
            "ticks": ""
           },
           "bgcolor": "#E5ECF6",
           "caxis": {
            "gridcolor": "white",
            "linecolor": "white",
            "ticks": ""
           }
          },
          "title": {
           "x": 0.05
          },
          "xaxis": {
           "automargin": true,
           "gridcolor": "white",
           "linecolor": "white",
           "ticks": "",
           "title": {
            "standoff": 15
           },
           "zerolinecolor": "white",
           "zerolinewidth": 2
          },
          "yaxis": {
           "automargin": true,
           "gridcolor": "white",
           "linecolor": "white",
           "ticks": "",
           "title": {
            "standoff": 15
           },
           "zerolinecolor": "white",
           "zerolinewidth": 2
          }
         }
        },
        "title": {
         "text": "F1 Score per Document and Field"
        },
        "xaxis": {
         "title": {
          "text": "Field"
         }
        },
        "yaxis": {
         "title": {
          "text": "Document"
         }
        }
       }
      }
     },
     "metadata": {},
     "output_type": "display_data"
    }
   ],
   "source": [
    "gold_path = \"input/gold_standard_events.json\"\n",
    "pred_path = \"chat_responses_with_instructions.json\"\n",
    "model_names = get_all_model_names(pred_path)\n",
    "\n",
    "all_results = {}\n",
    "for model_name in model_names:\n",
    "    print(f\"\\n=== Evaluation for model: {model_name} ===\")\n",
    "    results = evaluate(gold_path, pred_path, model_name=model_name)\n",
    "    all_results[model_name] = results\n",
    "    for doc, fields in results.items():\n",
    "        print(f\"\\nDocument: {doc}\")\n",
    "        for field, scores in fields.items():\n",
    "            print(f\"{field}: P={scores['precision']:.2f} R={scores['recall']:.2f} F1={scores['f1']:.2f} (TP={scores['tp']} FP={scores['fp']} FN={scores['fn']})\")\n",
    "    plot_overview(results)"
   ]
  }
 ],
 "metadata": {
  "kernelspec": {
   "display_name": ".venv",
   "language": "python",
   "name": "python3"
  },
  "language_info": {
   "codemirror_mode": {
    "name": "ipython",
    "version": 3
   },
   "file_extension": ".py",
   "mimetype": "text/x-python",
   "name": "python",
   "nbconvert_exporter": "python",
   "pygments_lexer": "ipython3",
   "version": "3.13.3"
  }
 },
 "nbformat": 4,
 "nbformat_minor": 5
}
