{
 "cells": [
  {
   "cell_type": "code",
   "execution_count": null,
   "id": "fb766bdc",
   "metadata": {},
   "outputs": [],
   "source": [
    "from gatenlp import Document\n",
    "from gatenlp.corpora import ListCorpus\n",
    "import json\n",
    "import os"
   ]
  },
  {
   "cell_type": "code",
   "execution_count": null,
   "id": "c6f7ec37",
   "metadata": {},
   "outputs": [],
   "source": [
    "from gatenlp.visualization import CorpusViewer\n",
    "\n",
    "corpus = loadCorpus()\n",
    "viewer = CorpusViewer(corpus)\n",
    "viewer.show()"
   ]
  },
  {
   "cell_type": "code",
   "execution_count": null,
   "id": "08c8c4ef",
   "metadata": {},
   "outputs": [],
   "source": [
    "create_gold_standard_json()"
   ]
  }
 ],
 "metadata": {
  "language_info": {
   "name": "python"
  }
 },
 "nbformat": 4,
 "nbformat_minor": 5
}
