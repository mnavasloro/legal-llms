{
 "cells": [
  {
   "cell_type": "code",
   "execution_count": null,
   "id": "fb766bdc",
   "metadata": {},
   "outputs": [],
   "source": [
    "from gatenlp import Document\n",
    "from gatenlp.corpora import ListCorpus\n",
    "import json\n",
    "import os"
   ]
  },
  {
   "cell_type": "code",
   "execution_count": null,
   "id": "d18c626c",
   "metadata": {},
   "outputs": [],
   "source": [
    "def loadCorpus():\n",
    "    # Create a new corpus with an empty list\n",
    "    corpus = ListCorpus([])\n",
    "\n",
    "    # Define the base directory\n",
    "    base_dir = \"input/annotated\"\n",
    "\n",
    "    # Walk through the directory and load each XML file\n",
    "    for root, dirs, files in os.walk(base_dir):\n",
    "        for file in files:\n",
    "            if file.endswith(\".xml\"):\n",
    "                file_path = os.path.join(root, file)\n",
    "                doc = Document.load(file_path, fmt=\"gatexml\")\n",
    "                # Add the document to the corpus\n",
    "                corpus.append(doc)\n",
    "                print(f\"Loaded {file_path} into corpus\")            \n",
    "                    \n",
    "    print(\"All documents loaded into the corpus.\")\n",
    "    return corpus"
   ]
  },
  {
   "cell_type": "code",
   "execution_count": null,
   "id": "c49c58bb",
   "metadata": {},
   "outputs": [],
   "source": [
    "def create_gold_standard_json():\n",
    "    corpus = loadCorpus()\n",
    "    # Create a JSON file with the gold standard annotations\n",
    "    results = []\n",
    "    for doc in corpus:\n",
    "        doc_dict = {\"Document\": doc.features.get(\"gate.SourceURL\")}\n",
    "        annotations = doc.annset(\"consensus\")\n",
    "        event_annotations = annotations.with_type(\"Event\")\n",
    "        who_annotations = annotations.with_type(\"Event_who\")\n",
    "        what_annotations = annotations.with_type(\"Event_what\")\n",
    "        when_annotations = annotations.with_type(\"Event_when\")\n",
    "\n",
    "        events = []\n",
    "        for event_ann in event_annotations:\n",
    "            features = event_ann.features\n",
    "            # Find overlapping or contained who/what/when annotations\n",
    "            event_span = (event_ann.start, event_ann.end)\n",
    "            def find_first_matching(anns):\n",
    "                for ann in anns:\n",
    "                    # Overlap or containment\n",
    "                    if ann.start >= event_span[0] and ann.end <= event_span[1]:\n",
    "                        return doc.text[ann.start:ann.end]\n",
    "                return \"\"\n",
    "\n",
    "            event_who = find_first_matching(who_annotations)\n",
    "            event_what = find_first_matching(what_annotations)\n",
    "            event_when = find_first_matching(when_annotations)\n",
    "            # If event_type is a separate annotation, use similar logic, else use event_ann.features\n",
    "\n",
    "            events.append({\n",
    "                \"event\": doc.text[event_ann.start:event_ann.end],\n",
    "                \"event_who\": event_who,\n",
    "                \"event_when\": event_when,\n",
    "                \"event_what\": event_what,\n",
    "                \"event_type\": \"event_\" + features.get(\"type\", \"\")\n",
    "            })\n",
    "\n",
    "        doc_dict[\"annotations\"] = {\n",
    "            \"model_name\": \"gold_standard\",\n",
    "            \"events\": events\n",
    "        }\n",
    "\n",
    "        results.append(doc_dict)\n",
    "\n",
    "    with open(\"gold_standard_events.json\", \"w\", encoding=\"utf-8\") as f:\n",
    "        json.dump(results, f, ensure_ascii=False, indent=2)"
   ]
  },
  {
   "cell_type": "code",
   "execution_count": null,
   "id": "c6f7ec37",
   "metadata": {},
   "outputs": [],
   "source": [
    "from gatenlp.visualization import CorpusViewer\n",
    "\n",
    "corpus = loadCorpus()\n",
    "viewer = CorpusViewer(corpus)\n",
    "viewer.show()"
   ]
  },
  {
   "cell_type": "code",
   "execution_count": null,
   "id": "08c8c4ef",
   "metadata": {},
   "outputs": [],
   "source": [
    "create_gold_standard_json()"
   ]
  }
 ],
 "metadata": {
  "language_info": {
   "name": "python"
  }
 },
 "nbformat": 4,
 "nbformat_minor": 5
}
