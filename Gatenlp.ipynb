{
 "cells": [
  {
   "cell_type": "code",
   "execution_count": 1,
   "id": "fb766bdc",
   "metadata": {},
   "outputs": [],
   "source": [
    "from gatenlp import Document\n",
    "from gatenlp.corpora import ListCorpus\n",
    "from GatenlpUtils import loadCorpus, create_gold_standard_json"
   ]
  },
  {
   "cell_type": "code",
   "execution_count": 2,
   "id": "c6f7ec37",
   "metadata": {},
   "outputs": [
    {
     "data": {
      "application/vnd.jupyter.widget-view+json": {
       "model_id": "d6e0b622ab2948eb80d752c4b286fcef",
       "version_major": 2,
       "version_minor": 0
      },
      "text/plain": [
       "HBox(children=(Button(icon='arrow-left', layout=Layout(width='5em'), style=ButtonStyle()), IntSlider(value=0, …"
      ]
     },
     "metadata": {},
     "output_type": "display_data"
    },
    {
     "data": {
      "text/html": [
       "<script type=\"text/javascript\">/*! jQuery v3.5.1 | (c) JS Foundation and other contributors | jquery.org/license */\n",
       "!function(e,t){\"use strict\";\"object\"==typeof module&&\"object\"==typeof module.exports?module.exports=e.document?t(e,!0):function(e){if(!e.document)throw new Error(\"jQuery requires a window with a document\");return t(e)}:t(e)}(\"undefined\"!=typeof window?window:this,function(C,e){\"use strict\";var t=[],r=Object.getPrototypeOf,s=t.slice,g=t.flat?function(e){return t.flat.call(e)}:function(e){return t.concat.apply([],e)},u=t.push,i=t.indexOf,n={},o=n.toString,v=n.hasOwnProperty,a=v.toString,l=a.call(Object),y={},m=function(e){return\"function\"==typeof e&&\"number\"!=typeof e.nodeType},x=function(e){return null!=e&&e===e.window},E=C.document,c={type:!0,src:!0,nonce:!0,noModule:!0};function b(e,t,n){var r,i,o=(n=n||E).createElement(\"script\");if(o.text=e,t)for(r in c)(i=t[r]||t.getAttribute&&t.getAttribute(r))&&o.setAttribute(r,i);n.head.appendChild(o).parentNode.removeChild(o)}function w(e){return null==e?e+\"\":\"object\"==typeof e||\"function\"==typeof e?n[o.call(e)]||\"object\":typeof e}var f=\"3.5.1\",S=function(e,t){return new S.fn.init(e,t)};function p(e){var t=!!e&&\"length\"in e&&e.length,n=w(e);return!m(e)&&!x(e)&&(\"array\"===n||0===t||\"number\"==typeof t&&0<t&&t-1 in e)}S.fn=S.prototype={jquery:f,constructor:S,length:0,toArray:function(){return s.call(this)},get:function(e){return null==e?s.call(this):e<0?this[e+this.length]:this[e]},pushStack:function(e){var t=S.merge(this.constructor(),e);return t.prevObject=this,t},each:function(e){return S.each(this,e)},map:function(n){return this.pushStack(S.map(this,function(e,t){return n.call(e,t,e)}))},slice:function(){return this.pushStack(s.apply(this,arguments))},first:function(){return this.eq(0)},last:function(){return this.eq(-1)},even:function(){return this.pushStack(S.grep(this,function(e,t){return(t+1)%2}))},odd:function(){return this.pushStack(S.grep(this,function(e,t){return t%2}))},eq:function(e){var t=this.length,n=+e+(e<0?t:0);return this.pushStack(0<=n&&n<t?[this[n]]:[])},end:function(){return this.prevObject||this.constructor()},push:u,sort:t.sort,splice:t.splice},S.extend=S.fn.extend=function(){var e,t,n,r,i,o,a=arguments[0]||{},s=1,u=arguments.length,l=!1;for(\"boolean\"==typeof a&&(l=a,a=arguments[s]||{},s++),\"object\"==typeof a||m(a)||(a={}),s===u&&(a=this,s--);s<u;s++)if(null!=(e=arguments[s]))for(t in e)r=e[t],\"__proto__\"!==t&&a!==r&&(l&&r&&(S.isPlainObject(r)||(i=Array.isArray(r)))?(n=a[t],o=i&&!Array.isArray(n)?[]:i||S.isPlainObject(n)?n:{},i=!1,a[t]=S.extend(l,o,r)):void 0!==r&&(a[t]=r));return a},S.extend({expando:\"jQuery\"+(f+Math.random()).replace(/\\D/g,\"\"),isReady:!0,error:function(e){throw new Error(e)},noop:function(){},isPlainObject:function(e){var t,n;return!(!e||\"[object Object]\"!==o.call(e))&&(!(t=r(e))||\"function\"==typeof(n=v.call(t,\"constructor\")&&t.constructor)&&a.call(n)===l)},isEmptyObject:function(e){var t;for(t in e)return!1;return!0},globalEval:function(e,t,n){b(e,{nonce:t&&t.nonce},n)},each:function(e,t){var n,r=0;if(p(e)){for(n=e.length;r<n;r++)if(!1===t.call(e[r],r,e[r]))break}else for(r in e)if(!1===t.call(e[r],r,e[r]))break;return e},makeArray:function(e,t){var n=t||[];return null!=e&&(p(Object(e))?S.merge(n,\"string\"==typeof e?[e]:e):u.call(n,e)),n},inArray:function(e,t,n){return null==t?-1:i.call(t,e,n)},merge:function(e,t){for(var n=+t.length,r=0,i=e.length;r<n;r++)e[i++]=t[r];return e.length=i,e},grep:function(e,t,n){for(var r=[],i=0,o=e.length,a=!n;i<o;i++)!t(e[i],i)!==a&&r.push(e[i]);return r},map:function(e,t,n){var r,i,o=0,a=[];if(p(e))for(r=e.length;o<r;o++)null!=(i=t(e[o],o,n))&&a.push(i);else for(o in e)null!=(i=t(e[o],o,n))&&a.push(i);return g(a)},guid:1,support:y}),\"function\"==typeof Symbol&&(S.fn[Symbol.iterator]=t[Symbol.iterator]),S.each(\"Boolean Number String Function Array Date RegExp Object Error Symbol\".split(\" \"),function(e,t){n[\"[object \"+t+\"]\"]=t.toLowerCase()});var d=function(n){var e,d,b,o,i,h,f,g,w,u,l,T,C,a,E,v,s,c,y,S=\"sizzle\"+1*new Date,p=n.document,k=0,r=0,m=ue(),x=ue(),A=ue(),N=ue(),D=function(e,t){return e===t&&(l=!0),0},j={}.hasOwnProperty,t=[],q=t.pop,L=t.push,H=t.push,O=t.slice,P=function(e,t){for(var n=0,r=e.length;n<r;n++)if(e[n]===t)return n;return-1},R=\"checked|selected|async|autofocus|autoplay|controls|defer|disabled|hidden|ismap|loop|multiple|open|readonly|required|scoped\",M=\"[\\\\x20\\\\t\\\\r\\\\n\\\\f]\",I=\"(?:\\\\\\\\[\\\\da-fA-F]{1,6}\"+M+\"?|\\\\\\\\[^\\\\r\\\\n\\\\f]|[\\\\w-]|[^\\0-\\\\x7f])+\",W=\"\\\\[\"+M+\"*(\"+I+\")(?:\"+M+\"*([*^$|!~]?=)\"+M+\"*(?:'((?:\\\\\\\\.|[^\\\\\\\\'])*)'|\\\"((?:\\\\\\\\.|[^\\\\\\\\\\\"])*)\\\"|(\"+I+\"))|)\"+M+\"*\\\\]\",F=\":(\"+I+\")(?:\\\\((('((?:\\\\\\\\.|[^\\\\\\\\'])*)'|\\\"((?:\\\\\\\\.|[^\\\\\\\\\\\"])*)\\\")|((?:\\\\\\\\.|[^\\\\\\\\()[\\\\]]|\"+W+\")*)|.*)\\\\)|)\",B=new RegExp(M+\"+\",\"g\"),$=new RegExp(\"^\"+M+\"+|((?:^|[^\\\\\\\\])(?:\\\\\\\\.)*)\"+M+\"+$\",\"g\"),_=new RegExp(\"^\"+M+\"*,\"+M+\"*\"),z=new RegExp(\"^\"+M+\"*([>+~]|\"+M+\")\"+M+\"*\"),U=new RegExp(M+\"|>\"),X=new RegExp(F),V=new RegExp(\"^\"+I+\"$\"),G={ID:new RegExp(\"^#(\"+I+\")\"),CLASS:new RegExp(\"^\\\\.(\"+I+\")\"),TAG:new RegExp(\"^(\"+I+\"|[*])\"),ATTR:new RegExp(\"^\"+W),PSEUDO:new RegExp(\"^\"+F),CHILD:new RegExp(\"^:(only|first|last|nth|nth-last)-(child|of-type)(?:\\\\(\"+M+\"*(even|odd|(([+-]|)(\\\\d*)n|)\"+M+\"*(?:([+-]|)\"+M+\"*(\\\\d+)|))\"+M+\"*\\\\)|)\",\"i\"),bool:new RegExp(\"^(?:\"+R+\")$\",\"i\"),needsContext:new RegExp(\"^\"+M+\"*[>+~]|:(even|odd|eq|gt|lt|nth|first|last)(?:\\\\(\"+M+\"*((?:-\\\\d)?\\\\d*)\"+M+\"*\\\\)|)(?=[^-]|$)\",\"i\")},Y=/HTML$/i,Q=/^(?:input|select|textarea|button)$/i,J=/^h\\d$/i,K=/^[^{]+\\{\\s*\\[native \\w/,Z=/^(?:#([\\w-]+)|(\\w+)|\\.([\\w-]+))$/,ee=/[+~]/,te=new RegExp(\"\\\\\\\\[\\\\da-fA-F]{1,6}\"+M+\"?|\\\\\\\\([^\\\\r\\\\n\\\\f])\",\"g\"),ne=function(e,t){var n=\"0x\"+e.slice(1)-65536;return t||(n<0?String.fromCharCode(n+65536):String.fromCharCode(n>>10|55296,1023&n|56320))},re=/([\\0-\\x1f\\x7f]|^-?\\d)|^-$|[^\\0-\\x1f\\x7f-\\uFFFF\\w-]/g,ie=function(e,t){return t?\"\\0\"===e?\"\\ufffd\":e.slice(0,-1)+\"\\\\\"+e.charCodeAt(e.length-1).toString(16)+\" \":\"\\\\\"+e},oe=function(){T()},ae=be(function(e){return!0===e.disabled&&\"fieldset\"===e.nodeName.toLowerCase()},{dir:\"parentNode\",next:\"legend\"});try{H.apply(t=O.call(p.childNodes),p.childNodes),t[p.childNodes.length].nodeType}catch(e){H={apply:t.length?function(e,t){L.apply(e,O.call(t))}:function(e,t){var n=e.length,r=0;while(e[n++]=t[r++]);e.length=n-1}}}function se(t,e,n,r){var i,o,a,s,u,l,c,f=e&&e.ownerDocument,p=e?e.nodeType:9;if(n=n||[],\"string\"!=typeof t||!t||1!==p&&9!==p&&11!==p)return n;if(!r&&(T(e),e=e||C,E)){if(11!==p&&(u=Z.exec(t)))if(i=u[1]){if(9===p){if(!(a=e.getElementById(i)))return n;if(a.id===i)return n.push(a),n}else if(f&&(a=f.getElementById(i))&&y(e,a)&&a.id===i)return n.push(a),n}else{if(u[2])return H.apply(n,e.getElementsByTagName(t)),n;if((i=u[3])&&d.getElementsByClassName&&e.getElementsByClassName)return H.apply(n,e.getElementsByClassName(i)),n}if(d.qsa&&!N[t+\" \"]&&(!v||!v.test(t))&&(1!==p||\"object\"!==e.nodeName.toLowerCase())){if(c=t,f=e,1===p&&(U.test(t)||z.test(t))){(f=ee.test(t)&&ye(e.parentNode)||e)===e&&d.scope||((s=e.getAttribute(\"id\"))?s=s.replace(re,ie):e.setAttribute(\"id\",s=S)),o=(l=h(t)).length;while(o--)l[o]=(s?\"#\"+s:\":scope\")+\" \"+xe(l[o]);c=l.join(\",\")}try{return H.apply(n,f.querySelectorAll(c)),n}catch(e){N(t,!0)}finally{s===S&&e.removeAttribute(\"id\")}}}return g(t.replace($,\"$1\"),e,n,r)}function ue(){var r=[];return function e(t,n){return r.push(t+\" \")>b.cacheLength&&delete e[r.shift()],e[t+\" \"]=n}}function le(e){return e[S]=!0,e}function ce(e){var t=C.createElement(\"fieldset\");try{return!!e(t)}catch(e){return!1}finally{t.parentNode&&t.parentNode.removeChild(t),t=null}}function fe(e,t){var n=e.split(\"|\"),r=n.length;while(r--)b.attrHandle[n[r]]=t}function pe(e,t){var n=t&&e,r=n&&1===e.nodeType&&1===t.nodeType&&e.sourceIndex-t.sourceIndex;if(r)return r;if(n)while(n=n.nextSibling)if(n===t)return-1;return e?1:-1}function de(t){return function(e){return\"input\"===e.nodeName.toLowerCase()&&e.type===t}}function he(n){return function(e){var t=e.nodeName.toLowerCase();return(\"input\"===t||\"button\"===t)&&e.type===n}}function ge(t){return function(e){return\"form\"in e?e.parentNode&&!1===e.disabled?\"label\"in e?\"label\"in e.parentNode?e.parentNode.disabled===t:e.disabled===t:e.isDisabled===t||e.isDisabled!==!t&&ae(e)===t:e.disabled===t:\"label\"in e&&e.disabled===t}}function ve(a){return le(function(o){return o=+o,le(function(e,t){var n,r=a([],e.length,o),i=r.length;while(i--)e[n=r[i]]&&(e[n]=!(t[n]=e[n]))})})}function ye(e){return e&&\"undefined\"!=typeof e.getElementsByTagName&&e}for(e in d=se.support={},i=se.isXML=function(e){var t=e.namespaceURI,n=(e.ownerDocument||e).documentElement;return!Y.test(t||n&&n.nodeName||\"HTML\")},T=se.setDocument=function(e){var t,n,r=e?e.ownerDocument||e:p;return r!=C&&9===r.nodeType&&r.documentElement&&(a=(C=r).documentElement,E=!i(C),p!=C&&(n=C.defaultView)&&n.top!==n&&(n.addEventListener?n.addEventListener(\"unload\",oe,!1):n.attachEvent&&n.attachEvent(\"onunload\",oe)),d.scope=ce(function(e){return a.appendChild(e).appendChild(C.createElement(\"div\")),\"undefined\"!=typeof e.querySelectorAll&&!e.querySelectorAll(\":scope fieldset div\").length}),d.attributes=ce(function(e){return e.className=\"i\",!e.getAttribute(\"className\")}),d.getElementsByTagName=ce(function(e){return e.appendChild(C.createComment(\"\")),!e.getElementsByTagName(\"*\").length}),d.getElementsByClassName=K.test(C.getElementsByClassName),d.getById=ce(function(e){return a.appendChild(e).id=S,!C.getElementsByName||!C.getElementsByName(S).length}),d.getById?(b.filter.ID=function(e){var t=e.replace(te,ne);return function(e){return e.getAttribute(\"id\")===t}},b.find.ID=function(e,t){if(\"undefined\"!=typeof t.getElementById&&E){var n=t.getElementById(e);return n?[n]:[]}}):(b.filter.ID=function(e){var n=e.replace(te,ne);return function(e){var t=\"undefined\"!=typeof e.getAttributeNode&&e.getAttributeNode(\"id\");return t&&t.value===n}},b.find.ID=function(e,t){if(\"undefined\"!=typeof t.getElementById&&E){var n,r,i,o=t.getElementById(e);if(o){if((n=o.getAttributeNode(\"id\"))&&n.value===e)return[o];i=t.getElementsByName(e),r=0;while(o=i[r++])if((n=o.getAttributeNode(\"id\"))&&n.value===e)return[o]}return[]}}),b.find.TAG=d.getElementsByTagName?function(e,t){return\"undefined\"!=typeof t.getElementsByTagName?t.getElementsByTagName(e):d.qsa?t.querySelectorAll(e):void 0}:function(e,t){var n,r=[],i=0,o=t.getElementsByTagName(e);if(\"*\"===e){while(n=o[i++])1===n.nodeType&&r.push(n);return r}return o},b.find.CLASS=d.getElementsByClassName&&function(e,t){if(\"undefined\"!=typeof t.getElementsByClassName&&E)return t.getElementsByClassName(e)},s=[],v=[],(d.qsa=K.test(C.querySelectorAll))&&(ce(function(e){var t;a.appendChild(e).innerHTML=\"<a id='\"+S+\"'></a><select id='\"+S+\"-\\r\\\\' msallowcapture=''><option selected=''></option></select>\",e.querySelectorAll(\"[msallowcapture^='']\").length&&v.push(\"[*^$]=\"+M+\"*(?:''|\\\"\\\")\"),e.querySelectorAll(\"[selected]\").length||v.push(\"\\\\[\"+M+\"*(?:value|\"+R+\")\"),e.querySelectorAll(\"[id~=\"+S+\"-]\").length||v.push(\"~=\"),(t=C.createElement(\"input\")).setAttribute(\"name\",\"\"),e.appendChild(t),e.querySelectorAll(\"[name='']\").length||v.push(\"\\\\[\"+M+\"*name\"+M+\"*=\"+M+\"*(?:''|\\\"\\\")\"),e.querySelectorAll(\":checked\").length||v.push(\":checked\"),e.querySelectorAll(\"a#\"+S+\"+*\").length||v.push(\".#.+[+~]\"),e.querySelectorAll(\"\\\\\\f\"),v.push(\"[\\\\r\\\\n\\\\f]\")}),ce(function(e){e.innerHTML=\"<a href='' disabled='disabled'></a><select disabled='disabled'><option/></select>\";var t=C.createElement(\"input\");t.setAttribute(\"type\",\"hidden\"),e.appendChild(t).setAttribute(\"name\",\"D\"),e.querySelectorAll(\"[name=d]\").length&&v.push(\"name\"+M+\"*[*^$|!~]?=\"),2!==e.querySelectorAll(\":enabled\").length&&v.push(\":enabled\",\":disabled\"),a.appendChild(e).disabled=!0,2!==e.querySelectorAll(\":disabled\").length&&v.push(\":enabled\",\":disabled\"),e.querySelectorAll(\"*,:x\"),v.push(\",.*:\")})),(d.matchesSelector=K.test(c=a.matches||a.webkitMatchesSelector||a.mozMatchesSelector||a.oMatchesSelector||a.msMatchesSelector))&&ce(function(e){d.disconnectedMatch=c.call(e,\"*\"),c.call(e,\"[s!='']:x\"),s.push(\"!=\",F)}),v=v.length&&new RegExp(v.join(\"|\")),s=s.length&&new RegExp(s.join(\"|\")),t=K.test(a.compareDocumentPosition),y=t||K.test(a.contains)?function(e,t){var n=9===e.nodeType?e.documentElement:e,r=t&&t.parentNode;return e===r||!(!r||1!==r.nodeType||!(n.contains?n.contains(r):e.compareDocumentPosition&&16&e.compareDocumentPosition(r)))}:function(e,t){if(t)while(t=t.parentNode)if(t===e)return!0;return!1},D=t?function(e,t){if(e===t)return l=!0,0;var n=!e.compareDocumentPosition-!t.compareDocumentPosition;return n||(1&(n=(e.ownerDocument||e)==(t.ownerDocument||t)?e.compareDocumentPosition(t):1)||!d.sortDetached&&t.compareDocumentPosition(e)===n?e==C||e.ownerDocument==p&&y(p,e)?-1:t==C||t.ownerDocument==p&&y(p,t)?1:u?P(u,e)-P(u,t):0:4&n?-1:1)}:function(e,t){if(e===t)return l=!0,0;var n,r=0,i=e.parentNode,o=t.parentNode,a=[e],s=[t];if(!i||!o)return e==C?-1:t==C?1:i?-1:o?1:u?P(u,e)-P(u,t):0;if(i===o)return pe(e,t);n=e;while(n=n.parentNode)a.unshift(n);n=t;while(n=n.parentNode)s.unshift(n);while(a[r]===s[r])r++;return r?pe(a[r],s[r]):a[r]==p?-1:s[r]==p?1:0}),C},se.matches=function(e,t){return se(e,null,null,t)},se.matchesSelector=function(e,t){if(T(e),d.matchesSelector&&E&&!N[t+\" \"]&&(!s||!s.test(t))&&(!v||!v.test(t)))try{var n=c.call(e,t);if(n||d.disconnectedMatch||e.document&&11!==e.document.nodeType)return n}catch(e){N(t,!0)}return 0<se(t,C,null,[e]).length},se.contains=function(e,t){return(e.ownerDocument||e)!=C&&T(e),y(e,t)},se.attr=function(e,t){(e.ownerDocument||e)!=C&&T(e);var n=b.attrHandle[t.toLowerCase()],r=n&&j.call(b.attrHandle,t.toLowerCase())?n(e,t,!E):void 0;return void 0!==r?r:d.attributes||!E?e.getAttribute(t):(r=e.getAttributeNode(t))&&r.specified?r.value:null},se.escape=function(e){return(e+\"\").replace(re,ie)},se.error=function(e){throw new Error(\"Syntax error, unrecognized expression: \"+e)},se.uniqueSort=function(e){var t,n=[],r=0,i=0;if(l=!d.detectDuplicates,u=!d.sortStable&&e.slice(0),e.sort(D),l){while(t=e[i++])t===e[i]&&(r=n.push(i));while(r--)e.splice(n[r],1)}return u=null,e},o=se.getText=function(e){var t,n=\"\",r=0,i=e.nodeType;if(i){if(1===i||9===i||11===i){if(\"string\"==typeof e.textContent)return e.textContent;for(e=e.firstChild;e;e=e.nextSibling)n+=o(e)}else if(3===i||4===i)return e.nodeValue}else while(t=e[r++])n+=o(t);return n},(b=se.selectors={cacheLength:50,createPseudo:le,match:G,attrHandle:{},find:{},relative:{\">\":{dir:\"parentNode\",first:!0},\" \":{dir:\"parentNode\"},\"+\":{dir:\"previousSibling\",first:!0},\"~\":{dir:\"previousSibling\"}},preFilter:{ATTR:function(e){return e[1]=e[1].replace(te,ne),e[3]=(e[3]||e[4]||e[5]||\"\").replace(te,ne),\"~=\"===e[2]&&(e[3]=\" \"+e[3]+\" \"),e.slice(0,4)},CHILD:function(e){return e[1]=e[1].toLowerCase(),\"nth\"===e[1].slice(0,3)?(e[3]||se.error(e[0]),e[4]=+(e[4]?e[5]+(e[6]||1):2*(\"even\"===e[3]||\"odd\"===e[3])),e[5]=+(e[7]+e[8]||\"odd\"===e[3])):e[3]&&se.error(e[0]),e},PSEUDO:function(e){var t,n=!e[6]&&e[2];return G.CHILD.test(e[0])?null:(e[3]?e[2]=e[4]||e[5]||\"\":n&&X.test(n)&&(t=h(n,!0))&&(t=n.indexOf(\")\",n.length-t)-n.length)&&(e[0]=e[0].slice(0,t),e[2]=n.slice(0,t)),e.slice(0,3))}},filter:{TAG:function(e){var t=e.replace(te,ne).toLowerCase();return\"*\"===e?function(){return!0}:function(e){return e.nodeName&&e.nodeName.toLowerCase()===t}},CLASS:function(e){var t=m[e+\" \"];return t||(t=new RegExp(\"(^|\"+M+\")\"+e+\"(\"+M+\"|$)\"))&&m(e,function(e){return t.test(\"string\"==typeof e.className&&e.className||\"undefined\"!=typeof e.getAttribute&&e.getAttribute(\"class\")||\"\")})},ATTR:function(n,r,i){return function(e){var t=se.attr(e,n);return null==t?\"!=\"===r:!r||(t+=\"\",\"=\"===r?t===i:\"!=\"===r?t!==i:\"^=\"===r?i&&0===t.indexOf(i):\"*=\"===r?i&&-1<t.indexOf(i):\"$=\"===r?i&&t.slice(-i.length)===i:\"~=\"===r?-1<(\" \"+t.replace(B,\" \")+\" \").indexOf(i):\"|=\"===r&&(t===i||t.slice(0,i.length+1)===i+\"-\"))}},CHILD:function(h,e,t,g,v){var y=\"nth\"!==h.slice(0,3),m=\"last\"!==h.slice(-4),x=\"of-type\"===e;return 1===g&&0===v?function(e){return!!e.parentNode}:function(e,t,n){var r,i,o,a,s,u,l=y!==m?\"nextSibling\":\"previousSibling\",c=e.parentNode,f=x&&e.nodeName.toLowerCase(),p=!n&&!x,d=!1;if(c){if(y){while(l){a=e;while(a=a[l])if(x?a.nodeName.toLowerCase()===f:1===a.nodeType)return!1;u=l=\"only\"===h&&!u&&\"nextSibling\"}return!0}if(u=[m?c.firstChild:c.lastChild],m&&p){d=(s=(r=(i=(o=(a=c)[S]||(a[S]={}))[a.uniqueID]||(o[a.uniqueID]={}))[h]||[])[0]===k&&r[1])&&r[2],a=s&&c.childNodes[s];while(a=++s&&a&&a[l]||(d=s=0)||u.pop())if(1===a.nodeType&&++d&&a===e){i[h]=[k,s,d];break}}else if(p&&(d=s=(r=(i=(o=(a=e)[S]||(a[S]={}))[a.uniqueID]||(o[a.uniqueID]={}))[h]||[])[0]===k&&r[1]),!1===d)while(a=++s&&a&&a[l]||(d=s=0)||u.pop())if((x?a.nodeName.toLowerCase()===f:1===a.nodeType)&&++d&&(p&&((i=(o=a[S]||(a[S]={}))[a.uniqueID]||(o[a.uniqueID]={}))[h]=[k,d]),a===e))break;return(d-=v)===g||d%g==0&&0<=d/g}}},PSEUDO:function(e,o){var t,a=b.pseudos[e]||b.setFilters[e.toLowerCase()]||se.error(\"unsupported pseudo: \"+e);return a[S]?a(o):1<a.length?(t=[e,e,\"\",o],b.setFilters.hasOwnProperty(e.toLowerCase())?le(function(e,t){var n,r=a(e,o),i=r.length;while(i--)e[n=P(e,r[i])]=!(t[n]=r[i])}):function(e){return a(e,0,t)}):a}},pseudos:{not:le(function(e){var r=[],i=[],s=f(e.replace($,\"$1\"));return s[S]?le(function(e,t,n,r){var i,o=s(e,null,r,[]),a=e.length;while(a--)(i=o[a])&&(e[a]=!(t[a]=i))}):function(e,t,n){return r[0]=e,s(r,null,n,i),r[0]=null,!i.pop()}}),has:le(function(t){return function(e){return 0<se(t,e).length}}),contains:le(function(t){return t=t.replace(te,ne),function(e){return-1<(e.textContent||o(e)).indexOf(t)}}),lang:le(function(n){return V.test(n||\"\")||se.error(\"unsupported lang: \"+n),n=n.replace(te,ne).toLowerCase(),function(e){var t;do{if(t=E?e.lang:e.getAttribute(\"xml:lang\")||e.getAttribute(\"lang\"))return(t=t.toLowerCase())===n||0===t.indexOf(n+\"-\")}while((e=e.parentNode)&&1===e.nodeType);return!1}}),target:function(e){var t=n.location&&n.location.hash;return t&&t.slice(1)===e.id},root:function(e){return e===a},focus:function(e){return e===C.activeElement&&(!C.hasFocus||C.hasFocus())&&!!(e.type||e.href||~e.tabIndex)},enabled:ge(!1),disabled:ge(!0),checked:function(e){var t=e.nodeName.toLowerCase();return\"input\"===t&&!!e.checked||\"option\"===t&&!!e.selected},selected:function(e){return e.parentNode&&e.parentNode.selectedIndex,!0===e.selected},empty:function(e){for(e=e.firstChild;e;e=e.nextSibling)if(e.nodeType<6)return!1;return!0},parent:function(e){return!b.pseudos.empty(e)},header:function(e){return J.test(e.nodeName)},input:function(e){return Q.test(e.nodeName)},button:function(e){var t=e.nodeName.toLowerCase();return\"input\"===t&&\"button\"===e.type||\"button\"===t},text:function(e){var t;return\"input\"===e.nodeName.toLowerCase()&&\"text\"===e.type&&(null==(t=e.getAttribute(\"type\"))||\"text\"===t.toLowerCase())},first:ve(function(){return[0]}),last:ve(function(e,t){return[t-1]}),eq:ve(function(e,t,n){return[n<0?n+t:n]}),even:ve(function(e,t){for(var n=0;n<t;n+=2)e.push(n);return e}),odd:ve(function(e,t){for(var n=1;n<t;n+=2)e.push(n);return e}),lt:ve(function(e,t,n){for(var r=n<0?n+t:t<n?t:n;0<=--r;)e.push(r);return e}),gt:ve(function(e,t,n){for(var r=n<0?n+t:n;++r<t;)e.push(r);return e})}}).pseudos.nth=b.pseudos.eq,{radio:!0,checkbox:!0,file:!0,password:!0,image:!0})b.pseudos[e]=de(e);for(e in{submit:!0,reset:!0})b.pseudos[e]=he(e);function me(){}function xe(e){for(var t=0,n=e.length,r=\"\";t<n;t++)r+=e[t].value;return r}function be(s,e,t){var u=e.dir,l=e.next,c=l||u,f=t&&\"parentNode\"===c,p=r++;return e.first?function(e,t,n){while(e=e[u])if(1===e.nodeType||f)return s(e,t,n);return!1}:function(e,t,n){var r,i,o,a=[k,p];if(n){while(e=e[u])if((1===e.nodeType||f)&&s(e,t,n))return!0}else while(e=e[u])if(1===e.nodeType||f)if(i=(o=e[S]||(e[S]={}))[e.uniqueID]||(o[e.uniqueID]={}),l&&l===e.nodeName.toLowerCase())e=e[u]||e;else{if((r=i[c])&&r[0]===k&&r[1]===p)return a[2]=r[2];if((i[c]=a)[2]=s(e,t,n))return!0}return!1}}function we(i){return 1<i.length?function(e,t,n){var r=i.length;while(r--)if(!i[r](e,t,n))return!1;return!0}:i[0]}function Te(e,t,n,r,i){for(var o,a=[],s=0,u=e.length,l=null!=t;s<u;s++)(o=e[s])&&(n&&!n(o,r,i)||(a.push(o),l&&t.push(s)));return a}function Ce(d,h,g,v,y,e){return v&&!v[S]&&(v=Ce(v)),y&&!y[S]&&(y=Ce(y,e)),le(function(e,t,n,r){var i,o,a,s=[],u=[],l=t.length,c=e||function(e,t,n){for(var r=0,i=t.length;r<i;r++)se(e,t[r],n);return n}(h||\"*\",n.nodeType?[n]:n,[]),f=!d||!e&&h?c:Te(c,s,d,n,r),p=g?y||(e?d:l||v)?[]:t:f;if(g&&g(f,p,n,r),v){i=Te(p,u),v(i,[],n,r),o=i.length;while(o--)(a=i[o])&&(p[u[o]]=!(f[u[o]]=a))}if(e){if(y||d){if(y){i=[],o=p.length;while(o--)(a=p[o])&&i.push(f[o]=a);y(null,p=[],i,r)}o=p.length;while(o--)(a=p[o])&&-1<(i=y?P(e,a):s[o])&&(e[i]=!(t[i]=a))}}else p=Te(p===t?p.splice(l,p.length):p),y?y(null,t,p,r):H.apply(t,p)})}function Ee(e){for(var i,t,n,r=e.length,o=b.relative[e[0].type],a=o||b.relative[\" \"],s=o?1:0,u=be(function(e){return e===i},a,!0),l=be(function(e){return-1<P(i,e)},a,!0),c=[function(e,t,n){var r=!o&&(n||t!==w)||((i=t).nodeType?u(e,t,n):l(e,t,n));return i=null,r}];s<r;s++)if(t=b.relative[e[s].type])c=[be(we(c),t)];else{if((t=b.filter[e[s].type].apply(null,e[s].matches))[S]){for(n=++s;n<r;n++)if(b.relative[e[n].type])break;return Ce(1<s&&we(c),1<s&&xe(e.slice(0,s-1).concat({value:\" \"===e[s-2].type?\"*\":\"\"})).replace($,\"$1\"),t,s<n&&Ee(e.slice(s,n)),n<r&&Ee(e=e.slice(n)),n<r&&xe(e))}c.push(t)}return we(c)}return me.prototype=b.filters=b.pseudos,b.setFilters=new me,h=se.tokenize=function(e,t){var n,r,i,o,a,s,u,l=x[e+\" \"];if(l)return t?0:l.slice(0);a=e,s=[],u=b.preFilter;while(a){for(o in n&&!(r=_.exec(a))||(r&&(a=a.slice(r[0].length)||a),s.push(i=[])),n=!1,(r=z.exec(a))&&(n=r.shift(),i.push({value:n,type:r[0].replace($,\" \")}),a=a.slice(n.length)),b.filter)!(r=G[o].exec(a))||u[o]&&!(r=u[o](r))||(n=r.shift(),i.push({value:n,type:o,matches:r}),a=a.slice(n.length));if(!n)break}return t?a.length:a?se.error(e):x(e,s).slice(0)},f=se.compile=function(e,t){var n,v,y,m,x,r,i=[],o=[],a=A[e+\" \"];if(!a){t||(t=h(e)),n=t.length;while(n--)(a=Ee(t[n]))[S]?i.push(a):o.push(a);(a=A(e,(v=o,m=0<(y=i).length,x=0<v.length,r=function(e,t,n,r,i){var o,a,s,u=0,l=\"0\",c=e&&[],f=[],p=w,d=e||x&&b.find.TAG(\"*\",i),h=k+=null==p?1:Math.random()||.1,g=d.length;for(i&&(w=t==C||t||i);l!==g&&null!=(o=d[l]);l++){if(x&&o){a=0,t||o.ownerDocument==C||(T(o),n=!E);while(s=v[a++])if(s(o,t||C,n)){r.push(o);break}i&&(k=h)}m&&((o=!s&&o)&&u--,e&&c.push(o))}if(u+=l,m&&l!==u){a=0;while(s=y[a++])s(c,f,t,n);if(e){if(0<u)while(l--)c[l]||f[l]||(f[l]=q.call(r));f=Te(f)}H.apply(r,f),i&&!e&&0<f.length&&1<u+y.length&&se.uniqueSort(r)}return i&&(k=h,w=p),c},m?le(r):r))).selector=e}return a},g=se.select=function(e,t,n,r){var i,o,a,s,u,l=\"function\"==typeof e&&e,c=!r&&h(e=l.selector||e);if(n=n||[],1===c.length){if(2<(o=c[0]=c[0].slice(0)).length&&\"ID\"===(a=o[0]).type&&9===t.nodeType&&E&&b.relative[o[1].type]){if(!(t=(b.find.ID(a.matches[0].replace(te,ne),t)||[])[0]))return n;l&&(t=t.parentNode),e=e.slice(o.shift().value.length)}i=G.needsContext.test(e)?0:o.length;while(i--){if(a=o[i],b.relative[s=a.type])break;if((u=b.find[s])&&(r=u(a.matches[0].replace(te,ne),ee.test(o[0].type)&&ye(t.parentNode)||t))){if(o.splice(i,1),!(e=r.length&&xe(o)))return H.apply(n,r),n;break}}}return(l||f(e,c))(r,t,!E,n,!t||ee.test(e)&&ye(t.parentNode)||t),n},d.sortStable=S.split(\"\").sort(D).join(\"\")===S,d.detectDuplicates=!!l,T(),d.sortDetached=ce(function(e){return 1&e.compareDocumentPosition(C.createElement(\"fieldset\"))}),ce(function(e){return e.innerHTML=\"<a href='#'></a>\",\"#\"===e.firstChild.getAttribute(\"href\")})||fe(\"type|href|height|width\",function(e,t,n){if(!n)return e.getAttribute(t,\"type\"===t.toLowerCase()?1:2)}),d.attributes&&ce(function(e){return e.innerHTML=\"<input/>\",e.firstChild.setAttribute(\"value\",\"\"),\"\"===e.firstChild.getAttribute(\"value\")})||fe(\"value\",function(e,t,n){if(!n&&\"input\"===e.nodeName.toLowerCase())return e.defaultValue}),ce(function(e){return null==e.getAttribute(\"disabled\")})||fe(R,function(e,t,n){var r;if(!n)return!0===e[t]?t.toLowerCase():(r=e.getAttributeNode(t))&&r.specified?r.value:null}),se}(C);S.find=d,S.expr=d.selectors,S.expr[\":\"]=S.expr.pseudos,S.uniqueSort=S.unique=d.uniqueSort,S.text=d.getText,S.isXMLDoc=d.isXML,S.contains=d.contains,S.escapeSelector=d.escape;var h=function(e,t,n){var r=[],i=void 0!==n;while((e=e[t])&&9!==e.nodeType)if(1===e.nodeType){if(i&&S(e).is(n))break;r.push(e)}return r},T=function(e,t){for(var n=[];e;e=e.nextSibling)1===e.nodeType&&e!==t&&n.push(e);return n},k=S.expr.match.needsContext;function A(e,t){return e.nodeName&&e.nodeName.toLowerCase()===t.toLowerCase()}var N=/^<([a-z][^\\/\\0>:\\x20\\t\\r\\n\\f]*)[\\x20\\t\\r\\n\\f]*\\/?>(?:<\\/\\1>|)$/i;function D(e,n,r){return m(n)?S.grep(e,function(e,t){return!!n.call(e,t,e)!==r}):n.nodeType?S.grep(e,function(e){return e===n!==r}):\"string\"!=typeof n?S.grep(e,function(e){return-1<i.call(n,e)!==r}):S.filter(n,e,r)}S.filter=function(e,t,n){var r=t[0];return n&&(e=\":not(\"+e+\")\"),1===t.length&&1===r.nodeType?S.find.matchesSelector(r,e)?[r]:[]:S.find.matches(e,S.grep(t,function(e){return 1===e.nodeType}))},S.fn.extend({find:function(e){var t,n,r=this.length,i=this;if(\"string\"!=typeof e)return this.pushStack(S(e).filter(function(){for(t=0;t<r;t++)if(S.contains(i[t],this))return!0}));for(n=this.pushStack([]),t=0;t<r;t++)S.find(e,i[t],n);return 1<r?S.uniqueSort(n):n},filter:function(e){return this.pushStack(D(this,e||[],!1))},not:function(e){return this.pushStack(D(this,e||[],!0))},is:function(e){return!!D(this,\"string\"==typeof e&&k.test(e)?S(e):e||[],!1).length}});var j,q=/^(?:\\s*(<[\\w\\W]+>)[^>]*|#([\\w-]+))$/;(S.fn.init=function(e,t,n){var r,i;if(!e)return this;if(n=n||j,\"string\"==typeof e){if(!(r=\"<\"===e[0]&&\">\"===e[e.length-1]&&3<=e.length?[null,e,null]:q.exec(e))||!r[1]&&t)return!t||t.jquery?(t||n).find(e):this.constructor(t).find(e);if(r[1]){if(t=t instanceof S?t[0]:t,S.merge(this,S.parseHTML(r[1],t&&t.nodeType?t.ownerDocument||t:E,!0)),N.test(r[1])&&S.isPlainObject(t))for(r in t)m(this[r])?this[r](t[r]):this.attr(r,t[r]);return this}return(i=E.getElementById(r[2]))&&(this[0]=i,this.length=1),this}return e.nodeType?(this[0]=e,this.length=1,this):m(e)?void 0!==n.ready?n.ready(e):e(S):S.makeArray(e,this)}).prototype=S.fn,j=S(E);var L=/^(?:parents|prev(?:Until|All))/,H={children:!0,contents:!0,next:!0,prev:!0};function O(e,t){while((e=e[t])&&1!==e.nodeType);return e}S.fn.extend({has:function(e){var t=S(e,this),n=t.length;return this.filter(function(){for(var e=0;e<n;e++)if(S.contains(this,t[e]))return!0})},closest:function(e,t){var n,r=0,i=this.length,o=[],a=\"string\"!=typeof e&&S(e);if(!k.test(e))for(;r<i;r++)for(n=this[r];n&&n!==t;n=n.parentNode)if(n.nodeType<11&&(a?-1<a.index(n):1===n.nodeType&&S.find.matchesSelector(n,e))){o.push(n);break}return this.pushStack(1<o.length?S.uniqueSort(o):o)},index:function(e){return e?\"string\"==typeof e?i.call(S(e),this[0]):i.call(this,e.jquery?e[0]:e):this[0]&&this[0].parentNode?this.first().prevAll().length:-1},add:function(e,t){return this.pushStack(S.uniqueSort(S.merge(this.get(),S(e,t))))},addBack:function(e){return this.add(null==e?this.prevObject:this.prevObject.filter(e))}}),S.each({parent:function(e){var t=e.parentNode;return t&&11!==t.nodeType?t:null},parents:function(e){return h(e,\"parentNode\")},parentsUntil:function(e,t,n){return h(e,\"parentNode\",n)},next:function(e){return O(e,\"nextSibling\")},prev:function(e){return O(e,\"previousSibling\")},nextAll:function(e){return h(e,\"nextSibling\")},prevAll:function(e){return h(e,\"previousSibling\")},nextUntil:function(e,t,n){return h(e,\"nextSibling\",n)},prevUntil:function(e,t,n){return h(e,\"previousSibling\",n)},siblings:function(e){return T((e.parentNode||{}).firstChild,e)},children:function(e){return T(e.firstChild)},contents:function(e){return null!=e.contentDocument&&r(e.contentDocument)?e.contentDocument:(A(e,\"template\")&&(e=e.content||e),S.merge([],e.childNodes))}},function(r,i){S.fn[r]=function(e,t){var n=S.map(this,i,e);return\"Until\"!==r.slice(-5)&&(t=e),t&&\"string\"==typeof t&&(n=S.filter(t,n)),1<this.length&&(H[r]||S.uniqueSort(n),L.test(r)&&n.reverse()),this.pushStack(n)}});var P=/[^\\x20\\t\\r\\n\\f]+/g;function R(e){return e}function M(e){throw e}function I(e,t,n,r){var i;try{e&&m(i=e.promise)?i.call(e).done(t).fail(n):e&&m(i=e.then)?i.call(e,t,n):t.apply(void 0,[e].slice(r))}catch(e){n.apply(void 0,[e])}}S.Callbacks=function(r){var e,n;r=\"string\"==typeof r?(e=r,n={},S.each(e.match(P)||[],function(e,t){n[t]=!0}),n):S.extend({},r);var i,t,o,a,s=[],u=[],l=-1,c=function(){for(a=a||r.once,o=i=!0;u.length;l=-1){t=u.shift();while(++l<s.length)!1===s[l].apply(t[0],t[1])&&r.stopOnFalse&&(l=s.length,t=!1)}r.memory||(t=!1),i=!1,a&&(s=t?[]:\"\")},f={add:function(){return s&&(t&&!i&&(l=s.length-1,u.push(t)),function n(e){S.each(e,function(e,t){m(t)?r.unique&&f.has(t)||s.push(t):t&&t.length&&\"string\"!==w(t)&&n(t)})}(arguments),t&&!i&&c()),this},remove:function(){return S.each(arguments,function(e,t){var n;while(-1<(n=S.inArray(t,s,n)))s.splice(n,1),n<=l&&l--}),this},has:function(e){return e?-1<S.inArray(e,s):0<s.length},empty:function(){return s&&(s=[]),this},disable:function(){return a=u=[],s=t=\"\",this},disabled:function(){return!s},lock:function(){return a=u=[],t||i||(s=t=\"\"),this},locked:function(){return!!a},fireWith:function(e,t){return a||(t=[e,(t=t||[]).slice?t.slice():t],u.push(t),i||c()),this},fire:function(){return f.fireWith(this,arguments),this},fired:function(){return!!o}};return f},S.extend({Deferred:function(e){var o=[[\"notify\",\"progress\",S.Callbacks(\"memory\"),S.Callbacks(\"memory\"),2],[\"resolve\",\"done\",S.Callbacks(\"once memory\"),S.Callbacks(\"once memory\"),0,\"resolved\"],[\"reject\",\"fail\",S.Callbacks(\"once memory\"),S.Callbacks(\"once memory\"),1,\"rejected\"]],i=\"pending\",a={state:function(){return i},always:function(){return s.done(arguments).fail(arguments),this},\"catch\":function(e){return a.then(null,e)},pipe:function(){var i=arguments;return S.Deferred(function(r){S.each(o,function(e,t){var n=m(i[t[4]])&&i[t[4]];s[t[1]](function(){var e=n&&n.apply(this,arguments);e&&m(e.promise)?e.promise().progress(r.notify).done(r.resolve).fail(r.reject):r[t[0]+\"With\"](this,n?[e]:arguments)})}),i=null}).promise()},then:function(t,n,r){var u=0;function l(i,o,a,s){return function(){var n=this,r=arguments,e=function(){var e,t;if(!(i<u)){if((e=a.apply(n,r))===o.promise())throw new TypeError(\"Thenable self-resolution\");t=e&&(\"object\"==typeof e||\"function\"==typeof e)&&e.then,m(t)?s?t.call(e,l(u,o,R,s),l(u,o,M,s)):(u++,t.call(e,l(u,o,R,s),l(u,o,M,s),l(u,o,R,o.notifyWith))):(a!==R&&(n=void 0,r=[e]),(s||o.resolveWith)(n,r))}},t=s?e:function(){try{e()}catch(e){S.Deferred.exceptionHook&&S.Deferred.exceptionHook(e,t.stackTrace),u<=i+1&&(a!==M&&(n=void 0,r=[e]),o.rejectWith(n,r))}};i?t():(S.Deferred.getStackHook&&(t.stackTrace=S.Deferred.getStackHook()),C.setTimeout(t))}}return S.Deferred(function(e){o[0][3].add(l(0,e,m(r)?r:R,e.notifyWith)),o[1][3].add(l(0,e,m(t)?t:R)),o[2][3].add(l(0,e,m(n)?n:M))}).promise()},promise:function(e){return null!=e?S.extend(e,a):a}},s={};return S.each(o,function(e,t){var n=t[2],r=t[5];a[t[1]]=n.add,r&&n.add(function(){i=r},o[3-e][2].disable,o[3-e][3].disable,o[0][2].lock,o[0][3].lock),n.add(t[3].fire),s[t[0]]=function(){return s[t[0]+\"With\"](this===s?void 0:this,arguments),this},s[t[0]+\"With\"]=n.fireWith}),a.promise(s),e&&e.call(s,s),s},when:function(e){var n=arguments.length,t=n,r=Array(t),i=s.call(arguments),o=S.Deferred(),a=function(t){return function(e){r[t]=this,i[t]=1<arguments.length?s.call(arguments):e,--n||o.resolveWith(r,i)}};if(n<=1&&(I(e,o.done(a(t)).resolve,o.reject,!n),\"pending\"===o.state()||m(i[t]&&i[t].then)))return o.then();while(t--)I(i[t],a(t),o.reject);return o.promise()}});var W=/^(Eval|Internal|Range|Reference|Syntax|Type|URI)Error$/;S.Deferred.exceptionHook=function(e,t){C.console&&C.console.warn&&e&&W.test(e.name)&&C.console.warn(\"jQuery.Deferred exception: \"+e.message,e.stack,t)},S.readyException=function(e){C.setTimeout(function(){throw e})};var F=S.Deferred();function B(){E.removeEventListener(\"DOMContentLoaded\",B),C.removeEventListener(\"load\",B),S.ready()}S.fn.ready=function(e){return F.then(e)[\"catch\"](function(e){S.readyException(e)}),this},S.extend({isReady:!1,readyWait:1,ready:function(e){(!0===e?--S.readyWait:S.isReady)||(S.isReady=!0)!==e&&0<--S.readyWait||F.resolveWith(E,[S])}}),S.ready.then=F.then,\"complete\"===E.readyState||\"loading\"!==E.readyState&&!E.documentElement.doScroll?C.setTimeout(S.ready):(E.addEventListener(\"DOMContentLoaded\",B),C.addEventListener(\"load\",B));var $=function(e,t,n,r,i,o,a){var s=0,u=e.length,l=null==n;if(\"object\"===w(n))for(s in i=!0,n)$(e,t,s,n[s],!0,o,a);else if(void 0!==r&&(i=!0,m(r)||(a=!0),l&&(a?(t.call(e,r),t=null):(l=t,t=function(e,t,n){return l.call(S(e),n)})),t))for(;s<u;s++)t(e[s],n,a?r:r.call(e[s],s,t(e[s],n)));return i?e:l?t.call(e):u?t(e[0],n):o},_=/^-ms-/,z=/-([a-z])/g;function U(e,t){return t.toUpperCase()}function X(e){return e.replace(_,\"ms-\").replace(z,U)}var V=function(e){return 1===e.nodeType||9===e.nodeType||!+e.nodeType};function G(){this.expando=S.expando+G.uid++}G.uid=1,G.prototype={cache:function(e){var t=e[this.expando];return t||(t={},V(e)&&(e.nodeType?e[this.expando]=t:Object.defineProperty(e,this.expando,{value:t,configurable:!0}))),t},set:function(e,t,n){var r,i=this.cache(e);if(\"string\"==typeof t)i[X(t)]=n;else for(r in t)i[X(r)]=t[r];return i},get:function(e,t){return void 0===t?this.cache(e):e[this.expando]&&e[this.expando][X(t)]},access:function(e,t,n){return void 0===t||t&&\"string\"==typeof t&&void 0===n?this.get(e,t):(this.set(e,t,n),void 0!==n?n:t)},remove:function(e,t){var n,r=e[this.expando];if(void 0!==r){if(void 0!==t){n=(t=Array.isArray(t)?t.map(X):(t=X(t))in r?[t]:t.match(P)||[]).length;while(n--)delete r[t[n]]}(void 0===t||S.isEmptyObject(r))&&(e.nodeType?e[this.expando]=void 0:delete e[this.expando])}},hasData:function(e){var t=e[this.expando];return void 0!==t&&!S.isEmptyObject(t)}};var Y=new G,Q=new G,J=/^(?:\\{[\\w\\W]*\\}|\\[[\\w\\W]*\\])$/,K=/[A-Z]/g;function Z(e,t,n){var r,i;if(void 0===n&&1===e.nodeType)if(r=\"data-\"+t.replace(K,\"-$&\").toLowerCase(),\"string\"==typeof(n=e.getAttribute(r))){try{n=\"true\"===(i=n)||\"false\"!==i&&(\"null\"===i?null:i===+i+\"\"?+i:J.test(i)?JSON.parse(i):i)}catch(e){}Q.set(e,t,n)}else n=void 0;return n}S.extend({hasData:function(e){return Q.hasData(e)||Y.hasData(e)},data:function(e,t,n){return Q.access(e,t,n)},removeData:function(e,t){Q.remove(e,t)},_data:function(e,t,n){return Y.access(e,t,n)},_removeData:function(e,t){Y.remove(e,t)}}),S.fn.extend({data:function(n,e){var t,r,i,o=this[0],a=o&&o.attributes;if(void 0===n){if(this.length&&(i=Q.get(o),1===o.nodeType&&!Y.get(o,\"hasDataAttrs\"))){t=a.length;while(t--)a[t]&&0===(r=a[t].name).indexOf(\"data-\")&&(r=X(r.slice(5)),Z(o,r,i[r]));Y.set(o,\"hasDataAttrs\",!0)}return i}return\"object\"==typeof n?this.each(function(){Q.set(this,n)}):$(this,function(e){var t;if(o&&void 0===e)return void 0!==(t=Q.get(o,n))?t:void 0!==(t=Z(o,n))?t:void 0;this.each(function(){Q.set(this,n,e)})},null,e,1<arguments.length,null,!0)},removeData:function(e){return this.each(function(){Q.remove(this,e)})}}),S.extend({queue:function(e,t,n){var r;if(e)return t=(t||\"fx\")+\"queue\",r=Y.get(e,t),n&&(!r||Array.isArray(n)?r=Y.access(e,t,S.makeArray(n)):r.push(n)),r||[]},dequeue:function(e,t){t=t||\"fx\";var n=S.queue(e,t),r=n.length,i=n.shift(),o=S._queueHooks(e,t);\"inprogress\"===i&&(i=n.shift(),r--),i&&(\"fx\"===t&&n.unshift(\"inprogress\"),delete o.stop,i.call(e,function(){S.dequeue(e,t)},o)),!r&&o&&o.empty.fire()},_queueHooks:function(e,t){var n=t+\"queueHooks\";return Y.get(e,n)||Y.access(e,n,{empty:S.Callbacks(\"once memory\").add(function(){Y.remove(e,[t+\"queue\",n])})})}}),S.fn.extend({queue:function(t,n){var e=2;return\"string\"!=typeof t&&(n=t,t=\"fx\",e--),arguments.length<e?S.queue(this[0],t):void 0===n?this:this.each(function(){var e=S.queue(this,t,n);S._queueHooks(this,t),\"fx\"===t&&\"inprogress\"!==e[0]&&S.dequeue(this,t)})},dequeue:function(e){return this.each(function(){S.dequeue(this,e)})},clearQueue:function(e){return this.queue(e||\"fx\",[])},promise:function(e,t){var n,r=1,i=S.Deferred(),o=this,a=this.length,s=function(){--r||i.resolveWith(o,[o])};\"string\"!=typeof e&&(t=e,e=void 0),e=e||\"fx\";while(a--)(n=Y.get(o[a],e+\"queueHooks\"))&&n.empty&&(r++,n.empty.add(s));return s(),i.promise(t)}});var ee=/[+-]?(?:\\d*\\.|)\\d+(?:[eE][+-]?\\d+|)/.source,te=new RegExp(\"^(?:([+-])=|)(\"+ee+\")([a-z%]*)$\",\"i\"),ne=[\"Top\",\"Right\",\"Bottom\",\"Left\"],re=E.documentElement,ie=function(e){return S.contains(e.ownerDocument,e)},oe={composed:!0};re.getRootNode&&(ie=function(e){return S.contains(e.ownerDocument,e)||e.getRootNode(oe)===e.ownerDocument});var ae=function(e,t){return\"none\"===(e=t||e).style.display||\"\"===e.style.display&&ie(e)&&\"none\"===S.css(e,\"display\")};function se(e,t,n,r){var i,o,a=20,s=r?function(){return r.cur()}:function(){return S.css(e,t,\"\")},u=s(),l=n&&n[3]||(S.cssNumber[t]?\"\":\"px\"),c=e.nodeType&&(S.cssNumber[t]||\"px\"!==l&&+u)&&te.exec(S.css(e,t));if(c&&c[3]!==l){u/=2,l=l||c[3],c=+u||1;while(a--)S.style(e,t,c+l),(1-o)*(1-(o=s()/u||.5))<=0&&(a=0),c/=o;c*=2,S.style(e,t,c+l),n=n||[]}return n&&(c=+c||+u||0,i=n[1]?c+(n[1]+1)*n[2]:+n[2],r&&(r.unit=l,r.start=c,r.end=i)),i}var ue={};function le(e,t){for(var n,r,i,o,a,s,u,l=[],c=0,f=e.length;c<f;c++)(r=e[c]).style&&(n=r.style.display,t?(\"none\"===n&&(l[c]=Y.get(r,\"display\")||null,l[c]||(r.style.display=\"\")),\"\"===r.style.display&&ae(r)&&(l[c]=(u=a=o=void 0,a=(i=r).ownerDocument,s=i.nodeName,(u=ue[s])||(o=a.body.appendChild(a.createElement(s)),u=S.css(o,\"display\"),o.parentNode.removeChild(o),\"none\"===u&&(u=\"block\"),ue[s]=u)))):\"none\"!==n&&(l[c]=\"none\",Y.set(r,\"display\",n)));for(c=0;c<f;c++)null!=l[c]&&(e[c].style.display=l[c]);return e}S.fn.extend({show:function(){return le(this,!0)},hide:function(){return le(this)},toggle:function(e){return\"boolean\"==typeof e?e?this.show():this.hide():this.each(function(){ae(this)?S(this).show():S(this).hide()})}});var ce,fe,pe=/^(?:checkbox|radio)$/i,de=/<([a-z][^\\/\\0>\\x20\\t\\r\\n\\f]*)/i,he=/^$|^module$|\\/(?:java|ecma)script/i;ce=E.createDocumentFragment().appendChild(E.createElement(\"div\")),(fe=E.createElement(\"input\")).setAttribute(\"type\",\"radio\"),fe.setAttribute(\"checked\",\"checked\"),fe.setAttribute(\"name\",\"t\"),ce.appendChild(fe),y.checkClone=ce.cloneNode(!0).cloneNode(!0).lastChild.checked,ce.innerHTML=\"<textarea>x</textarea>\",y.noCloneChecked=!!ce.cloneNode(!0).lastChild.defaultValue,ce.innerHTML=\"<option></option>\",y.option=!!ce.lastChild;var ge={thead:[1,\"<table>\",\"</table>\"],col:[2,\"<table><colgroup>\",\"</colgroup></table>\"],tr:[2,\"<table><tbody>\",\"</tbody></table>\"],td:[3,\"<table><tbody><tr>\",\"</tr></tbody></table>\"],_default:[0,\"\",\"\"]};function ve(e,t){var n;return n=\"undefined\"!=typeof e.getElementsByTagName?e.getElementsByTagName(t||\"*\"):\"undefined\"!=typeof e.querySelectorAll?e.querySelectorAll(t||\"*\"):[],void 0===t||t&&A(e,t)?S.merge([e],n):n}function ye(e,t){for(var n=0,r=e.length;n<r;n++)Y.set(e[n],\"globalEval\",!t||Y.get(t[n],\"globalEval\"))}ge.tbody=ge.tfoot=ge.colgroup=ge.caption=ge.thead,ge.th=ge.td,y.option||(ge.optgroup=ge.option=[1,\"<select multiple='multiple'>\",\"</select>\"]);var me=/<|&#?\\w+;/;function xe(e,t,n,r,i){for(var o,a,s,u,l,c,f=t.createDocumentFragment(),p=[],d=0,h=e.length;d<h;d++)if((o=e[d])||0===o)if(\"object\"===w(o))S.merge(p,o.nodeType?[o]:o);else if(me.test(o)){a=a||f.appendChild(t.createElement(\"div\")),s=(de.exec(o)||[\"\",\"\"])[1].toLowerCase(),u=ge[s]||ge._default,a.innerHTML=u[1]+S.htmlPrefilter(o)+u[2],c=u[0];while(c--)a=a.lastChild;S.merge(p,a.childNodes),(a=f.firstChild).textContent=\"\"}else p.push(t.createTextNode(o));f.textContent=\"\",d=0;while(o=p[d++])if(r&&-1<S.inArray(o,r))i&&i.push(o);else if(l=ie(o),a=ve(f.appendChild(o),\"script\"),l&&ye(a),n){c=0;while(o=a[c++])he.test(o.type||\"\")&&n.push(o)}return f}var be=/^key/,we=/^(?:mouse|pointer|contextmenu|drag|drop)|click/,Te=/^([^.]*)(?:\\.(.+)|)/;function Ce(){return!0}function Ee(){return!1}function Se(e,t){return e===function(){try{return E.activeElement}catch(e){}}()==(\"focus\"===t)}function ke(e,t,n,r,i,o){var a,s;if(\"object\"==typeof t){for(s in\"string\"!=typeof n&&(r=r||n,n=void 0),t)ke(e,s,n,r,t[s],o);return e}if(null==r&&null==i?(i=n,r=n=void 0):null==i&&(\"string\"==typeof n?(i=r,r=void 0):(i=r,r=n,n=void 0)),!1===i)i=Ee;else if(!i)return e;return 1===o&&(a=i,(i=function(e){return S().off(e),a.apply(this,arguments)}).guid=a.guid||(a.guid=S.guid++)),e.each(function(){S.event.add(this,t,i,r,n)})}function Ae(e,i,o){o?(Y.set(e,i,!1),S.event.add(e,i,{namespace:!1,handler:function(e){var t,n,r=Y.get(this,i);if(1&e.isTrigger&&this[i]){if(r.length)(S.event.special[i]||{}).delegateType&&e.stopPropagation();else if(r=s.call(arguments),Y.set(this,i,r),t=o(this,i),this[i](),r!==(n=Y.get(this,i))||t?Y.set(this,i,!1):n={},r!==n)return e.stopImmediatePropagation(),e.preventDefault(),n.value}else r.length&&(Y.set(this,i,{value:S.event.trigger(S.extend(r[0],S.Event.prototype),r.slice(1),this)}),e.stopImmediatePropagation())}})):void 0===Y.get(e,i)&&S.event.add(e,i,Ce)}S.event={global:{},add:function(t,e,n,r,i){var o,a,s,u,l,c,f,p,d,h,g,v=Y.get(t);if(V(t)){n.handler&&(n=(o=n).handler,i=o.selector),i&&S.find.matchesSelector(re,i),n.guid||(n.guid=S.guid++),(u=v.events)||(u=v.events=Object.create(null)),(a=v.handle)||(a=v.handle=function(e){return\"undefined\"!=typeof S&&S.event.triggered!==e.type?S.event.dispatch.apply(t,arguments):void 0}),l=(e=(e||\"\").match(P)||[\"\"]).length;while(l--)d=g=(s=Te.exec(e[l])||[])[1],h=(s[2]||\"\").split(\".\").sort(),d&&(f=S.event.special[d]||{},d=(i?f.delegateType:f.bindType)||d,f=S.event.special[d]||{},c=S.extend({type:d,origType:g,data:r,handler:n,guid:n.guid,selector:i,needsContext:i&&S.expr.match.needsContext.test(i),namespace:h.join(\".\")},o),(p=u[d])||((p=u[d]=[]).delegateCount=0,f.setup&&!1!==f.setup.call(t,r,h,a)||t.addEventListener&&t.addEventListener(d,a)),f.add&&(f.add.call(t,c),c.handler.guid||(c.handler.guid=n.guid)),i?p.splice(p.delegateCount++,0,c):p.push(c),S.event.global[d]=!0)}},remove:function(e,t,n,r,i){var o,a,s,u,l,c,f,p,d,h,g,v=Y.hasData(e)&&Y.get(e);if(v&&(u=v.events)){l=(t=(t||\"\").match(P)||[\"\"]).length;while(l--)if(d=g=(s=Te.exec(t[l])||[])[1],h=(s[2]||\"\").split(\".\").sort(),d){f=S.event.special[d]||{},p=u[d=(r?f.delegateType:f.bindType)||d]||[],s=s[2]&&new RegExp(\"(^|\\\\.)\"+h.join(\"\\\\.(?:.*\\\\.|)\")+\"(\\\\.|$)\"),a=o=p.length;while(o--)c=p[o],!i&&g!==c.origType||n&&n.guid!==c.guid||s&&!s.test(c.namespace)||r&&r!==c.selector&&(\"**\"!==r||!c.selector)||(p.splice(o,1),c.selector&&p.delegateCount--,f.remove&&f.remove.call(e,c));a&&!p.length&&(f.teardown&&!1!==f.teardown.call(e,h,v.handle)||S.removeEvent(e,d,v.handle),delete u[d])}else for(d in u)S.event.remove(e,d+t[l],n,r,!0);S.isEmptyObject(u)&&Y.remove(e,\"handle events\")}},dispatch:function(e){var t,n,r,i,o,a,s=new Array(arguments.length),u=S.event.fix(e),l=(Y.get(this,\"events\")||Object.create(null))[u.type]||[],c=S.event.special[u.type]||{};for(s[0]=u,t=1;t<arguments.length;t++)s[t]=arguments[t];if(u.delegateTarget=this,!c.preDispatch||!1!==c.preDispatch.call(this,u)){a=S.event.handlers.call(this,u,l),t=0;while((i=a[t++])&&!u.isPropagationStopped()){u.currentTarget=i.elem,n=0;while((o=i.handlers[n++])&&!u.isImmediatePropagationStopped())u.rnamespace&&!1!==o.namespace&&!u.rnamespace.test(o.namespace)||(u.handleObj=o,u.data=o.data,void 0!==(r=((S.event.special[o.origType]||{}).handle||o.handler).apply(i.elem,s))&&!1===(u.result=r)&&(u.preventDefault(),u.stopPropagation()))}return c.postDispatch&&c.postDispatch.call(this,u),u.result}},handlers:function(e,t){var n,r,i,o,a,s=[],u=t.delegateCount,l=e.target;if(u&&l.nodeType&&!(\"click\"===e.type&&1<=e.button))for(;l!==this;l=l.parentNode||this)if(1===l.nodeType&&(\"click\"!==e.type||!0!==l.disabled)){for(o=[],a={},n=0;n<u;n++)void 0===a[i=(r=t[n]).selector+\" \"]&&(a[i]=r.needsContext?-1<S(i,this).index(l):S.find(i,this,null,[l]).length),a[i]&&o.push(r);o.length&&s.push({elem:l,handlers:o})}return l=this,u<t.length&&s.push({elem:l,handlers:t.slice(u)}),s},addProp:function(t,e){Object.defineProperty(S.Event.prototype,t,{enumerable:!0,configurable:!0,get:m(e)?function(){if(this.originalEvent)return e(this.originalEvent)}:function(){if(this.originalEvent)return this.originalEvent[t]},set:function(e){Object.defineProperty(this,t,{enumerable:!0,configurable:!0,writable:!0,value:e})}})},fix:function(e){return e[S.expando]?e:new S.Event(e)},special:{load:{noBubble:!0},click:{setup:function(e){var t=this||e;return pe.test(t.type)&&t.click&&A(t,\"input\")&&Ae(t,\"click\",Ce),!1},trigger:function(e){var t=this||e;return pe.test(t.type)&&t.click&&A(t,\"input\")&&Ae(t,\"click\"),!0},_default:function(e){var t=e.target;return pe.test(t.type)&&t.click&&A(t,\"input\")&&Y.get(t,\"click\")||A(t,\"a\")}},beforeunload:{postDispatch:function(e){void 0!==e.result&&e.originalEvent&&(e.originalEvent.returnValue=e.result)}}}},S.removeEvent=function(e,t,n){e.removeEventListener&&e.removeEventListener(t,n)},S.Event=function(e,t){if(!(this instanceof S.Event))return new S.Event(e,t);e&&e.type?(this.originalEvent=e,this.type=e.type,this.isDefaultPrevented=e.defaultPrevented||void 0===e.defaultPrevented&&!1===e.returnValue?Ce:Ee,this.target=e.target&&3===e.target.nodeType?e.target.parentNode:e.target,this.currentTarget=e.currentTarget,this.relatedTarget=e.relatedTarget):this.type=e,t&&S.extend(this,t),this.timeStamp=e&&e.timeStamp||Date.now(),this[S.expando]=!0},S.Event.prototype={constructor:S.Event,isDefaultPrevented:Ee,isPropagationStopped:Ee,isImmediatePropagationStopped:Ee,isSimulated:!1,preventDefault:function(){var e=this.originalEvent;this.isDefaultPrevented=Ce,e&&!this.isSimulated&&e.preventDefault()},stopPropagation:function(){var e=this.originalEvent;this.isPropagationStopped=Ce,e&&!this.isSimulated&&e.stopPropagation()},stopImmediatePropagation:function(){var e=this.originalEvent;this.isImmediatePropagationStopped=Ce,e&&!this.isSimulated&&e.stopImmediatePropagation(),this.stopPropagation()}},S.each({altKey:!0,bubbles:!0,cancelable:!0,changedTouches:!0,ctrlKey:!0,detail:!0,eventPhase:!0,metaKey:!0,pageX:!0,pageY:!0,shiftKey:!0,view:!0,\"char\":!0,code:!0,charCode:!0,key:!0,keyCode:!0,button:!0,buttons:!0,clientX:!0,clientY:!0,offsetX:!0,offsetY:!0,pointerId:!0,pointerType:!0,screenX:!0,screenY:!0,targetTouches:!0,toElement:!0,touches:!0,which:function(e){var t=e.button;return null==e.which&&be.test(e.type)?null!=e.charCode?e.charCode:e.keyCode:!e.which&&void 0!==t&&we.test(e.type)?1&t?1:2&t?3:4&t?2:0:e.which}},S.event.addProp),S.each({focus:\"focusin\",blur:\"focusout\"},function(e,t){S.event.special[e]={setup:function(){return Ae(this,e,Se),!1},trigger:function(){return Ae(this,e),!0},delegateType:t}}),S.each({mouseenter:\"mouseover\",mouseleave:\"mouseout\",pointerenter:\"pointerover\",pointerleave:\"pointerout\"},function(e,i){S.event.special[e]={delegateType:i,bindType:i,handle:function(e){var t,n=e.relatedTarget,r=e.handleObj;return n&&(n===this||S.contains(this,n))||(e.type=r.origType,t=r.handler.apply(this,arguments),e.type=i),t}}}),S.fn.extend({on:function(e,t,n,r){return ke(this,e,t,n,r)},one:function(e,t,n,r){return ke(this,e,t,n,r,1)},off:function(e,t,n){var r,i;if(e&&e.preventDefault&&e.handleObj)return r=e.handleObj,S(e.delegateTarget).off(r.namespace?r.origType+\".\"+r.namespace:r.origType,r.selector,r.handler),this;if(\"object\"==typeof e){for(i in e)this.off(i,t,e[i]);return this}return!1!==t&&\"function\"!=typeof t||(n=t,t=void 0),!1===n&&(n=Ee),this.each(function(){S.event.remove(this,e,n,t)})}});var Ne=/<script|<style|<link/i,De=/checked\\s*(?:[^=]|=\\s*.checked.)/i,je=/^\\s*<!(?:\\[CDATA\\[|--)|(?:\\]\\]|--)>\\s*$/g;function qe(e,t){return A(e,\"table\")&&A(11!==t.nodeType?t:t.firstChild,\"tr\")&&S(e).children(\"tbody\")[0]||e}function Le(e){return e.type=(null!==e.getAttribute(\"type\"))+\"/\"+e.type,e}function He(e){return\"true/\"===(e.type||\"\").slice(0,5)?e.type=e.type.slice(5):e.removeAttribute(\"type\"),e}function Oe(e,t){var n,r,i,o,a,s;if(1===t.nodeType){if(Y.hasData(e)&&(s=Y.get(e).events))for(i in Y.remove(t,\"handle events\"),s)for(n=0,r=s[i].length;n<r;n++)S.event.add(t,i,s[i][n]);Q.hasData(e)&&(o=Q.access(e),a=S.extend({},o),Q.set(t,a))}}function Pe(n,r,i,o){r=g(r);var e,t,a,s,u,l,c=0,f=n.length,p=f-1,d=r[0],h=m(d);if(h||1<f&&\"string\"==typeof d&&!y.checkClone&&De.test(d))return n.each(function(e){var t=n.eq(e);h&&(r[0]=d.call(this,e,t.html())),Pe(t,r,i,o)});if(f&&(t=(e=xe(r,n[0].ownerDocument,!1,n,o)).firstChild,1===e.childNodes.length&&(e=t),t||o)){for(s=(a=S.map(ve(e,\"script\"),Le)).length;c<f;c++)u=e,c!==p&&(u=S.clone(u,!0,!0),s&&S.merge(a,ve(u,\"script\"))),i.call(n[c],u,c);if(s)for(l=a[a.length-1].ownerDocument,S.map(a,He),c=0;c<s;c++)u=a[c],he.test(u.type||\"\")&&!Y.access(u,\"globalEval\")&&S.contains(l,u)&&(u.src&&\"module\"!==(u.type||\"\").toLowerCase()?S._evalUrl&&!u.noModule&&S._evalUrl(u.src,{nonce:u.nonce||u.getAttribute(\"nonce\")},l):b(u.textContent.replace(je,\"\"),u,l))}return n}function Re(e,t,n){for(var r,i=t?S.filter(t,e):e,o=0;null!=(r=i[o]);o++)n||1!==r.nodeType||S.cleanData(ve(r)),r.parentNode&&(n&&ie(r)&&ye(ve(r,\"script\")),r.parentNode.removeChild(r));return e}S.extend({htmlPrefilter:function(e){return e},clone:function(e,t,n){var r,i,o,a,s,u,l,c=e.cloneNode(!0),f=ie(e);if(!(y.noCloneChecked||1!==e.nodeType&&11!==e.nodeType||S.isXMLDoc(e)))for(a=ve(c),r=0,i=(o=ve(e)).length;r<i;r++)s=o[r],u=a[r],void 0,\"input\"===(l=u.nodeName.toLowerCase())&&pe.test(s.type)?u.checked=s.checked:\"input\"!==l&&\"textarea\"!==l||(u.defaultValue=s.defaultValue);if(t)if(n)for(o=o||ve(e),a=a||ve(c),r=0,i=o.length;r<i;r++)Oe(o[r],a[r]);else Oe(e,c);return 0<(a=ve(c,\"script\")).length&&ye(a,!f&&ve(e,\"script\")),c},cleanData:function(e){for(var t,n,r,i=S.event.special,o=0;void 0!==(n=e[o]);o++)if(V(n)){if(t=n[Y.expando]){if(t.events)for(r in t.events)i[r]?S.event.remove(n,r):S.removeEvent(n,r,t.handle);n[Y.expando]=void 0}n[Q.expando]&&(n[Q.expando]=void 0)}}}),S.fn.extend({detach:function(e){return Re(this,e,!0)},remove:function(e){return Re(this,e)},text:function(e){return $(this,function(e){return void 0===e?S.text(this):this.empty().each(function(){1!==this.nodeType&&11!==this.nodeType&&9!==this.nodeType||(this.textContent=e)})},null,e,arguments.length)},append:function(){return Pe(this,arguments,function(e){1!==this.nodeType&&11!==this.nodeType&&9!==this.nodeType||qe(this,e).appendChild(e)})},prepend:function(){return Pe(this,arguments,function(e){if(1===this.nodeType||11===this.nodeType||9===this.nodeType){var t=qe(this,e);t.insertBefore(e,t.firstChild)}})},before:function(){return Pe(this,arguments,function(e){this.parentNode&&this.parentNode.insertBefore(e,this)})},after:function(){return Pe(this,arguments,function(e){this.parentNode&&this.parentNode.insertBefore(e,this.nextSibling)})},empty:function(){for(var e,t=0;null!=(e=this[t]);t++)1===e.nodeType&&(S.cleanData(ve(e,!1)),e.textContent=\"\");return this},clone:function(e,t){return e=null!=e&&e,t=null==t?e:t,this.map(function(){return S.clone(this,e,t)})},html:function(e){return $(this,function(e){var t=this[0]||{},n=0,r=this.length;if(void 0===e&&1===t.nodeType)return t.innerHTML;if(\"string\"==typeof e&&!Ne.test(e)&&!ge[(de.exec(e)||[\"\",\"\"])[1].toLowerCase()]){e=S.htmlPrefilter(e);try{for(;n<r;n++)1===(t=this[n]||{}).nodeType&&(S.cleanData(ve(t,!1)),t.innerHTML=e);t=0}catch(e){}}t&&this.empty().append(e)},null,e,arguments.length)},replaceWith:function(){var n=[];return Pe(this,arguments,function(e){var t=this.parentNode;S.inArray(this,n)<0&&(S.cleanData(ve(this)),t&&t.replaceChild(e,this))},n)}}),S.each({appendTo:\"append\",prependTo:\"prepend\",insertBefore:\"before\",insertAfter:\"after\",replaceAll:\"replaceWith\"},function(e,a){S.fn[e]=function(e){for(var t,n=[],r=S(e),i=r.length-1,o=0;o<=i;o++)t=o===i?this:this.clone(!0),S(r[o])[a](t),u.apply(n,t.get());return this.pushStack(n)}});var Me=new RegExp(\"^(\"+ee+\")(?!px)[a-z%]+$\",\"i\"),Ie=function(e){var t=e.ownerDocument.defaultView;return t&&t.opener||(t=C),t.getComputedStyle(e)},We=function(e,t,n){var r,i,o={};for(i in t)o[i]=e.style[i],e.style[i]=t[i];for(i in r=n.call(e),t)e.style[i]=o[i];return r},Fe=new RegExp(ne.join(\"|\"),\"i\");function Be(e,t,n){var r,i,o,a,s=e.style;return(n=n||Ie(e))&&(\"\"!==(a=n.getPropertyValue(t)||n[t])||ie(e)||(a=S.style(e,t)),!y.pixelBoxStyles()&&Me.test(a)&&Fe.test(t)&&(r=s.width,i=s.minWidth,o=s.maxWidth,s.minWidth=s.maxWidth=s.width=a,a=n.width,s.width=r,s.minWidth=i,s.maxWidth=o)),void 0!==a?a+\"\":a}function $e(e,t){return{get:function(){if(!e())return(this.get=t).apply(this,arguments);delete this.get}}}!function(){function e(){if(l){u.style.cssText=\"position:absolute;left:-11111px;width:60px;margin-top:1px;padding:0;border:0\",l.style.cssText=\"position:relative;display:block;box-sizing:border-box;overflow:scroll;margin:auto;border:1px;padding:1px;width:60%;top:1%\",re.appendChild(u).appendChild(l);var e=C.getComputedStyle(l);n=\"1%\"!==e.top,s=12===t(e.marginLeft),l.style.right=\"60%\",o=36===t(e.right),r=36===t(e.width),l.style.position=\"absolute\",i=12===t(l.offsetWidth/3),re.removeChild(u),l=null}}function t(e){return Math.round(parseFloat(e))}var n,r,i,o,a,s,u=E.createElement(\"div\"),l=E.createElement(\"div\");l.style&&(l.style.backgroundClip=\"content-box\",l.cloneNode(!0).style.backgroundClip=\"\",y.clearCloneStyle=\"content-box\"===l.style.backgroundClip,S.extend(y,{boxSizingReliable:function(){return e(),r},pixelBoxStyles:function(){return e(),o},pixelPosition:function(){return e(),n},reliableMarginLeft:function(){return e(),s},scrollboxSize:function(){return e(),i},reliableTrDimensions:function(){var e,t,n,r;return null==a&&(e=E.createElement(\"table\"),t=E.createElement(\"tr\"),n=E.createElement(\"div\"),e.style.cssText=\"position:absolute;left:-11111px\",t.style.height=\"1px\",n.style.height=\"9px\",re.appendChild(e).appendChild(t).appendChild(n),r=C.getComputedStyle(t),a=3<parseInt(r.height),re.removeChild(e)),a}}))}();var _e=[\"Webkit\",\"Moz\",\"ms\"],ze=E.createElement(\"div\").style,Ue={};function Xe(e){var t=S.cssProps[e]||Ue[e];return t||(e in ze?e:Ue[e]=function(e){var t=e[0].toUpperCase()+e.slice(1),n=_e.length;while(n--)if((e=_e[n]+t)in ze)return e}(e)||e)}var Ve=/^(none|table(?!-c[ea]).+)/,Ge=/^--/,Ye={position:\"absolute\",visibility:\"hidden\",display:\"block\"},Qe={letterSpacing:\"0\",fontWeight:\"400\"};function Je(e,t,n){var r=te.exec(t);return r?Math.max(0,r[2]-(n||0))+(r[3]||\"px\"):t}function Ke(e,t,n,r,i,o){var a=\"width\"===t?1:0,s=0,u=0;if(n===(r?\"border\":\"content\"))return 0;for(;a<4;a+=2)\"margin\"===n&&(u+=S.css(e,n+ne[a],!0,i)),r?(\"content\"===n&&(u-=S.css(e,\"padding\"+ne[a],!0,i)),\"margin\"!==n&&(u-=S.css(e,\"border\"+ne[a]+\"Width\",!0,i))):(u+=S.css(e,\"padding\"+ne[a],!0,i),\"padding\"!==n?u+=S.css(e,\"border\"+ne[a]+\"Width\",!0,i):s+=S.css(e,\"border\"+ne[a]+\"Width\",!0,i));return!r&&0<=o&&(u+=Math.max(0,Math.ceil(e[\"offset\"+t[0].toUpperCase()+t.slice(1)]-o-u-s-.5))||0),u}function Ze(e,t,n){var r=Ie(e),i=(!y.boxSizingReliable()||n)&&\"border-box\"===S.css(e,\"boxSizing\",!1,r),o=i,a=Be(e,t,r),s=\"offset\"+t[0].toUpperCase()+t.slice(1);if(Me.test(a)){if(!n)return a;a=\"auto\"}return(!y.boxSizingReliable()&&i||!y.reliableTrDimensions()&&A(e,\"tr\")||\"auto\"===a||!parseFloat(a)&&\"inline\"===S.css(e,\"display\",!1,r))&&e.getClientRects().length&&(i=\"border-box\"===S.css(e,\"boxSizing\",!1,r),(o=s in e)&&(a=e[s])),(a=parseFloat(a)||0)+Ke(e,t,n||(i?\"border\":\"content\"),o,r,a)+\"px\"}function et(e,t,n,r,i){return new et.prototype.init(e,t,n,r,i)}S.extend({cssHooks:{opacity:{get:function(e,t){if(t){var n=Be(e,\"opacity\");return\"\"===n?\"1\":n}}}},cssNumber:{animationIterationCount:!0,columnCount:!0,fillOpacity:!0,flexGrow:!0,flexShrink:!0,fontWeight:!0,gridArea:!0,gridColumn:!0,gridColumnEnd:!0,gridColumnStart:!0,gridRow:!0,gridRowEnd:!0,gridRowStart:!0,lineHeight:!0,opacity:!0,order:!0,orphans:!0,widows:!0,zIndex:!0,zoom:!0},cssProps:{},style:function(e,t,n,r){if(e&&3!==e.nodeType&&8!==e.nodeType&&e.style){var i,o,a,s=X(t),u=Ge.test(t),l=e.style;if(u||(t=Xe(s)),a=S.cssHooks[t]||S.cssHooks[s],void 0===n)return a&&\"get\"in a&&void 0!==(i=a.get(e,!1,r))?i:l[t];\"string\"===(o=typeof n)&&(i=te.exec(n))&&i[1]&&(n=se(e,t,i),o=\"number\"),null!=n&&n==n&&(\"number\"!==o||u||(n+=i&&i[3]||(S.cssNumber[s]?\"\":\"px\")),y.clearCloneStyle||\"\"!==n||0!==t.indexOf(\"background\")||(l[t]=\"inherit\"),a&&\"set\"in a&&void 0===(n=a.set(e,n,r))||(u?l.setProperty(t,n):l[t]=n))}},css:function(e,t,n,r){var i,o,a,s=X(t);return Ge.test(t)||(t=Xe(s)),(a=S.cssHooks[t]||S.cssHooks[s])&&\"get\"in a&&(i=a.get(e,!0,n)),void 0===i&&(i=Be(e,t,r)),\"normal\"===i&&t in Qe&&(i=Qe[t]),\"\"===n||n?(o=parseFloat(i),!0===n||isFinite(o)?o||0:i):i}}),S.each([\"height\",\"width\"],function(e,u){S.cssHooks[u]={get:function(e,t,n){if(t)return!Ve.test(S.css(e,\"display\"))||e.getClientRects().length&&e.getBoundingClientRect().width?Ze(e,u,n):We(e,Ye,function(){return Ze(e,u,n)})},set:function(e,t,n){var r,i=Ie(e),o=!y.scrollboxSize()&&\"absolute\"===i.position,a=(o||n)&&\"border-box\"===S.css(e,\"boxSizing\",!1,i),s=n?Ke(e,u,n,a,i):0;return a&&o&&(s-=Math.ceil(e[\"offset\"+u[0].toUpperCase()+u.slice(1)]-parseFloat(i[u])-Ke(e,u,\"border\",!1,i)-.5)),s&&(r=te.exec(t))&&\"px\"!==(r[3]||\"px\")&&(e.style[u]=t,t=S.css(e,u)),Je(0,t,s)}}}),S.cssHooks.marginLeft=$e(y.reliableMarginLeft,function(e,t){if(t)return(parseFloat(Be(e,\"marginLeft\"))||e.getBoundingClientRect().left-We(e,{marginLeft:0},function(){return e.getBoundingClientRect().left}))+\"px\"}),S.each({margin:\"\",padding:\"\",border:\"Width\"},function(i,o){S.cssHooks[i+o]={expand:function(e){for(var t=0,n={},r=\"string\"==typeof e?e.split(\" \"):[e];t<4;t++)n[i+ne[t]+o]=r[t]||r[t-2]||r[0];return n}},\"margin\"!==i&&(S.cssHooks[i+o].set=Je)}),S.fn.extend({css:function(e,t){return $(this,function(e,t,n){var r,i,o={},a=0;if(Array.isArray(t)){for(r=Ie(e),i=t.length;a<i;a++)o[t[a]]=S.css(e,t[a],!1,r);return o}return void 0!==n?S.style(e,t,n):S.css(e,t)},e,t,1<arguments.length)}}),((S.Tween=et).prototype={constructor:et,init:function(e,t,n,r,i,o){this.elem=e,this.prop=n,this.easing=i||S.easing._default,this.options=t,this.start=this.now=this.cur(),this.end=r,this.unit=o||(S.cssNumber[n]?\"\":\"px\")},cur:function(){var e=et.propHooks[this.prop];return e&&e.get?e.get(this):et.propHooks._default.get(this)},run:function(e){var t,n=et.propHooks[this.prop];return this.options.duration?this.pos=t=S.easing[this.easing](e,this.options.duration*e,0,1,this.options.duration):this.pos=t=e,this.now=(this.end-this.start)*t+this.start,this.options.step&&this.options.step.call(this.elem,this.now,this),n&&n.set?n.set(this):et.propHooks._default.set(this),this}}).init.prototype=et.prototype,(et.propHooks={_default:{get:function(e){var t;return 1!==e.elem.nodeType||null!=e.elem[e.prop]&&null==e.elem.style[e.prop]?e.elem[e.prop]:(t=S.css(e.elem,e.prop,\"\"))&&\"auto\"!==t?t:0},set:function(e){S.fx.step[e.prop]?S.fx.step[e.prop](e):1!==e.elem.nodeType||!S.cssHooks[e.prop]&&null==e.elem.style[Xe(e.prop)]?e.elem[e.prop]=e.now:S.style(e.elem,e.prop,e.now+e.unit)}}}).scrollTop=et.propHooks.scrollLeft={set:function(e){e.elem.nodeType&&e.elem.parentNode&&(e.elem[e.prop]=e.now)}},S.easing={linear:function(e){return e},swing:function(e){return.5-Math.cos(e*Math.PI)/2},_default:\"swing\"},S.fx=et.prototype.init,S.fx.step={};var tt,nt,rt,it,ot=/^(?:toggle|show|hide)$/,at=/queueHooks$/;function st(){nt&&(!1===E.hidden&&C.requestAnimationFrame?C.requestAnimationFrame(st):C.setTimeout(st,S.fx.interval),S.fx.tick())}function ut(){return C.setTimeout(function(){tt=void 0}),tt=Date.now()}function lt(e,t){var n,r=0,i={height:e};for(t=t?1:0;r<4;r+=2-t)i[\"margin\"+(n=ne[r])]=i[\"padding\"+n]=e;return t&&(i.opacity=i.width=e),i}function ct(e,t,n){for(var r,i=(ft.tweeners[t]||[]).concat(ft.tweeners[\"*\"]),o=0,a=i.length;o<a;o++)if(r=i[o].call(n,t,e))return r}function ft(o,e,t){var n,a,r=0,i=ft.prefilters.length,s=S.Deferred().always(function(){delete u.elem}),u=function(){if(a)return!1;for(var e=tt||ut(),t=Math.max(0,l.startTime+l.duration-e),n=1-(t/l.duration||0),r=0,i=l.tweens.length;r<i;r++)l.tweens[r].run(n);return s.notifyWith(o,[l,n,t]),n<1&&i?t:(i||s.notifyWith(o,[l,1,0]),s.resolveWith(o,[l]),!1)},l=s.promise({elem:o,props:S.extend({},e),opts:S.extend(!0,{specialEasing:{},easing:S.easing._default},t),originalProperties:e,originalOptions:t,startTime:tt||ut(),duration:t.duration,tweens:[],createTween:function(e,t){var n=S.Tween(o,l.opts,e,t,l.opts.specialEasing[e]||l.opts.easing);return l.tweens.push(n),n},stop:function(e){var t=0,n=e?l.tweens.length:0;if(a)return this;for(a=!0;t<n;t++)l.tweens[t].run(1);return e?(s.notifyWith(o,[l,1,0]),s.resolveWith(o,[l,e])):s.rejectWith(o,[l,e]),this}}),c=l.props;for(!function(e,t){var n,r,i,o,a;for(n in e)if(i=t[r=X(n)],o=e[n],Array.isArray(o)&&(i=o[1],o=e[n]=o[0]),n!==r&&(e[r]=o,delete e[n]),(a=S.cssHooks[r])&&\"expand\"in a)for(n in o=a.expand(o),delete e[r],o)n in e||(e[n]=o[n],t[n]=i);else t[r]=i}(c,l.opts.specialEasing);r<i;r++)if(n=ft.prefilters[r].call(l,o,c,l.opts))return m(n.stop)&&(S._queueHooks(l.elem,l.opts.queue).stop=n.stop.bind(n)),n;return S.map(c,ct,l),m(l.opts.start)&&l.opts.start.call(o,l),l.progress(l.opts.progress).done(l.opts.done,l.opts.complete).fail(l.opts.fail).always(l.opts.always),S.fx.timer(S.extend(u,{elem:o,anim:l,queue:l.opts.queue})),l}S.Animation=S.extend(ft,{tweeners:{\"*\":[function(e,t){var n=this.createTween(e,t);return se(n.elem,e,te.exec(t),n),n}]},tweener:function(e,t){m(e)?(t=e,e=[\"*\"]):e=e.match(P);for(var n,r=0,i=e.length;r<i;r++)n=e[r],ft.tweeners[n]=ft.tweeners[n]||[],ft.tweeners[n].unshift(t)},prefilters:[function(e,t,n){var r,i,o,a,s,u,l,c,f=\"width\"in t||\"height\"in t,p=this,d={},h=e.style,g=e.nodeType&&ae(e),v=Y.get(e,\"fxshow\");for(r in n.queue||(null==(a=S._queueHooks(e,\"fx\")).unqueued&&(a.unqueued=0,s=a.empty.fire,a.empty.fire=function(){a.unqueued||s()}),a.unqueued++,p.always(function(){p.always(function(){a.unqueued--,S.queue(e,\"fx\").length||a.empty.fire()})})),t)if(i=t[r],ot.test(i)){if(delete t[r],o=o||\"toggle\"===i,i===(g?\"hide\":\"show\")){if(\"show\"!==i||!v||void 0===v[r])continue;g=!0}d[r]=v&&v[r]||S.style(e,r)}if((u=!S.isEmptyObject(t))||!S.isEmptyObject(d))for(r in f&&1===e.nodeType&&(n.overflow=[h.overflow,h.overflowX,h.overflowY],null==(l=v&&v.display)&&(l=Y.get(e,\"display\")),\"none\"===(c=S.css(e,\"display\"))&&(l?c=l:(le([e],!0),l=e.style.display||l,c=S.css(e,\"display\"),le([e]))),(\"inline\"===c||\"inline-block\"===c&&null!=l)&&\"none\"===S.css(e,\"float\")&&(u||(p.done(function(){h.display=l}),null==l&&(c=h.display,l=\"none\"===c?\"\":c)),h.display=\"inline-block\")),n.overflow&&(h.overflow=\"hidden\",p.always(function(){h.overflow=n.overflow[0],h.overflowX=n.overflow[1],h.overflowY=n.overflow[2]})),u=!1,d)u||(v?\"hidden\"in v&&(g=v.hidden):v=Y.access(e,\"fxshow\",{display:l}),o&&(v.hidden=!g),g&&le([e],!0),p.done(function(){for(r in g||le([e]),Y.remove(e,\"fxshow\"),d)S.style(e,r,d[r])})),u=ct(g?v[r]:0,r,p),r in v||(v[r]=u.start,g&&(u.end=u.start,u.start=0))}],prefilter:function(e,t){t?ft.prefilters.unshift(e):ft.prefilters.push(e)}}),S.speed=function(e,t,n){var r=e&&\"object\"==typeof e?S.extend({},e):{complete:n||!n&&t||m(e)&&e,duration:e,easing:n&&t||t&&!m(t)&&t};return S.fx.off?r.duration=0:\"number\"!=typeof r.duration&&(r.duration in S.fx.speeds?r.duration=S.fx.speeds[r.duration]:r.duration=S.fx.speeds._default),null!=r.queue&&!0!==r.queue||(r.queue=\"fx\"),r.old=r.complete,r.complete=function(){m(r.old)&&r.old.call(this),r.queue&&S.dequeue(this,r.queue)},r},S.fn.extend({fadeTo:function(e,t,n,r){return this.filter(ae).css(\"opacity\",0).show().end().animate({opacity:t},e,n,r)},animate:function(t,e,n,r){var i=S.isEmptyObject(t),o=S.speed(e,n,r),a=function(){var e=ft(this,S.extend({},t),o);(i||Y.get(this,\"finish\"))&&e.stop(!0)};return a.finish=a,i||!1===o.queue?this.each(a):this.queue(o.queue,a)},stop:function(i,e,o){var a=function(e){var t=e.stop;delete e.stop,t(o)};return\"string\"!=typeof i&&(o=e,e=i,i=void 0),e&&this.queue(i||\"fx\",[]),this.each(function(){var e=!0,t=null!=i&&i+\"queueHooks\",n=S.timers,r=Y.get(this);if(t)r[t]&&r[t].stop&&a(r[t]);else for(t in r)r[t]&&r[t].stop&&at.test(t)&&a(r[t]);for(t=n.length;t--;)n[t].elem!==this||null!=i&&n[t].queue!==i||(n[t].anim.stop(o),e=!1,n.splice(t,1));!e&&o||S.dequeue(this,i)})},finish:function(a){return!1!==a&&(a=a||\"fx\"),this.each(function(){var e,t=Y.get(this),n=t[a+\"queue\"],r=t[a+\"queueHooks\"],i=S.timers,o=n?n.length:0;for(t.finish=!0,S.queue(this,a,[]),r&&r.stop&&r.stop.call(this,!0),e=i.length;e--;)i[e].elem===this&&i[e].queue===a&&(i[e].anim.stop(!0),i.splice(e,1));for(e=0;e<o;e++)n[e]&&n[e].finish&&n[e].finish.call(this);delete t.finish})}}),S.each([\"toggle\",\"show\",\"hide\"],function(e,r){var i=S.fn[r];S.fn[r]=function(e,t,n){return null==e||\"boolean\"==typeof e?i.apply(this,arguments):this.animate(lt(r,!0),e,t,n)}}),S.each({slideDown:lt(\"show\"),slideUp:lt(\"hide\"),slideToggle:lt(\"toggle\"),fadeIn:{opacity:\"show\"},fadeOut:{opacity:\"hide\"},fadeToggle:{opacity:\"toggle\"}},function(e,r){S.fn[e]=function(e,t,n){return this.animate(r,e,t,n)}}),S.timers=[],S.fx.tick=function(){var e,t=0,n=S.timers;for(tt=Date.now();t<n.length;t++)(e=n[t])()||n[t]!==e||n.splice(t--,1);n.length||S.fx.stop(),tt=void 0},S.fx.timer=function(e){S.timers.push(e),S.fx.start()},S.fx.interval=13,S.fx.start=function(){nt||(nt=!0,st())},S.fx.stop=function(){nt=null},S.fx.speeds={slow:600,fast:200,_default:400},S.fn.delay=function(r,e){return r=S.fx&&S.fx.speeds[r]||r,e=e||\"fx\",this.queue(e,function(e,t){var n=C.setTimeout(e,r);t.stop=function(){C.clearTimeout(n)}})},rt=E.createElement(\"input\"),it=E.createElement(\"select\").appendChild(E.createElement(\"option\")),rt.type=\"checkbox\",y.checkOn=\"\"!==rt.value,y.optSelected=it.selected,(rt=E.createElement(\"input\")).value=\"t\",rt.type=\"radio\",y.radioValue=\"t\"===rt.value;var pt,dt=S.expr.attrHandle;S.fn.extend({attr:function(e,t){return $(this,S.attr,e,t,1<arguments.length)},removeAttr:function(e){return this.each(function(){S.removeAttr(this,e)})}}),S.extend({attr:function(e,t,n){var r,i,o=e.nodeType;if(3!==o&&8!==o&&2!==o)return\"undefined\"==typeof e.getAttribute?S.prop(e,t,n):(1===o&&S.isXMLDoc(e)||(i=S.attrHooks[t.toLowerCase()]||(S.expr.match.bool.test(t)?pt:void 0)),void 0!==n?null===n?void S.removeAttr(e,t):i&&\"set\"in i&&void 0!==(r=i.set(e,n,t))?r:(e.setAttribute(t,n+\"\"),n):i&&\"get\"in i&&null!==(r=i.get(e,t))?r:null==(r=S.find.attr(e,t))?void 0:r)},attrHooks:{type:{set:function(e,t){if(!y.radioValue&&\"radio\"===t&&A(e,\"input\")){var n=e.value;return e.setAttribute(\"type\",t),n&&(e.value=n),t}}}},removeAttr:function(e,t){var n,r=0,i=t&&t.match(P);if(i&&1===e.nodeType)while(n=i[r++])e.removeAttribute(n)}}),pt={set:function(e,t,n){return!1===t?S.removeAttr(e,n):e.setAttribute(n,n),n}},S.each(S.expr.match.bool.source.match(/\\w+/g),function(e,t){var a=dt[t]||S.find.attr;dt[t]=function(e,t,n){var r,i,o=t.toLowerCase();return n||(i=dt[o],dt[o]=r,r=null!=a(e,t,n)?o:null,dt[o]=i),r}});var ht=/^(?:input|select|textarea|button)$/i,gt=/^(?:a|area)$/i;function vt(e){return(e.match(P)||[]).join(\" \")}function yt(e){return e.getAttribute&&e.getAttribute(\"class\")||\"\"}function mt(e){return Array.isArray(e)?e:\"string\"==typeof e&&e.match(P)||[]}S.fn.extend({prop:function(e,t){return $(this,S.prop,e,t,1<arguments.length)},removeProp:function(e){return this.each(function(){delete this[S.propFix[e]||e]})}}),S.extend({prop:function(e,t,n){var r,i,o=e.nodeType;if(3!==o&&8!==o&&2!==o)return 1===o&&S.isXMLDoc(e)||(t=S.propFix[t]||t,i=S.propHooks[t]),void 0!==n?i&&\"set\"in i&&void 0!==(r=i.set(e,n,t))?r:e[t]=n:i&&\"get\"in i&&null!==(r=i.get(e,t))?r:e[t]},propHooks:{tabIndex:{get:function(e){var t=S.find.attr(e,\"tabindex\");return t?parseInt(t,10):ht.test(e.nodeName)||gt.test(e.nodeName)&&e.href?0:-1}}},propFix:{\"for\":\"htmlFor\",\"class\":\"className\"}}),y.optSelected||(S.propHooks.selected={get:function(e){var t=e.parentNode;return t&&t.parentNode&&t.parentNode.selectedIndex,null},set:function(e){var t=e.parentNode;t&&(t.selectedIndex,t.parentNode&&t.parentNode.selectedIndex)}}),S.each([\"tabIndex\",\"readOnly\",\"maxLength\",\"cellSpacing\",\"cellPadding\",\"rowSpan\",\"colSpan\",\"useMap\",\"frameBorder\",\"contentEditable\"],function(){S.propFix[this.toLowerCase()]=this}),S.fn.extend({addClass:function(t){var e,n,r,i,o,a,s,u=0;if(m(t))return this.each(function(e){S(this).addClass(t.call(this,e,yt(this)))});if((e=mt(t)).length)while(n=this[u++])if(i=yt(n),r=1===n.nodeType&&\" \"+vt(i)+\" \"){a=0;while(o=e[a++])r.indexOf(\" \"+o+\" \")<0&&(r+=o+\" \");i!==(s=vt(r))&&n.setAttribute(\"class\",s)}return this},removeClass:function(t){var e,n,r,i,o,a,s,u=0;if(m(t))return this.each(function(e){S(this).removeClass(t.call(this,e,yt(this)))});if(!arguments.length)return this.attr(\"class\",\"\");if((e=mt(t)).length)while(n=this[u++])if(i=yt(n),r=1===n.nodeType&&\" \"+vt(i)+\" \"){a=0;while(o=e[a++])while(-1<r.indexOf(\" \"+o+\" \"))r=r.replace(\" \"+o+\" \",\" \");i!==(s=vt(r))&&n.setAttribute(\"class\",s)}return this},toggleClass:function(i,t){var o=typeof i,a=\"string\"===o||Array.isArray(i);return\"boolean\"==typeof t&&a?t?this.addClass(i):this.removeClass(i):m(i)?this.each(function(e){S(this).toggleClass(i.call(this,e,yt(this),t),t)}):this.each(function(){var e,t,n,r;if(a){t=0,n=S(this),r=mt(i);while(e=r[t++])n.hasClass(e)?n.removeClass(e):n.addClass(e)}else void 0!==i&&\"boolean\"!==o||((e=yt(this))&&Y.set(this,\"__className__\",e),this.setAttribute&&this.setAttribute(\"class\",e||!1===i?\"\":Y.get(this,\"__className__\")||\"\"))})},hasClass:function(e){var t,n,r=0;t=\" \"+e+\" \";while(n=this[r++])if(1===n.nodeType&&-1<(\" \"+vt(yt(n))+\" \").indexOf(t))return!0;return!1}});var xt=/\\r/g;S.fn.extend({val:function(n){var r,e,i,t=this[0];return arguments.length?(i=m(n),this.each(function(e){var t;1===this.nodeType&&(null==(t=i?n.call(this,e,S(this).val()):n)?t=\"\":\"number\"==typeof t?t+=\"\":Array.isArray(t)&&(t=S.map(t,function(e){return null==e?\"\":e+\"\"})),(r=S.valHooks[this.type]||S.valHooks[this.nodeName.toLowerCase()])&&\"set\"in r&&void 0!==r.set(this,t,\"value\")||(this.value=t))})):t?(r=S.valHooks[t.type]||S.valHooks[t.nodeName.toLowerCase()])&&\"get\"in r&&void 0!==(e=r.get(t,\"value\"))?e:\"string\"==typeof(e=t.value)?e.replace(xt,\"\"):null==e?\"\":e:void 0}}),S.extend({valHooks:{option:{get:function(e){var t=S.find.attr(e,\"value\");return null!=t?t:vt(S.text(e))}},select:{get:function(e){var t,n,r,i=e.options,o=e.selectedIndex,a=\"select-one\"===e.type,s=a?null:[],u=a?o+1:i.length;for(r=o<0?u:a?o:0;r<u;r++)if(((n=i[r]).selected||r===o)&&!n.disabled&&(!n.parentNode.disabled||!A(n.parentNode,\"optgroup\"))){if(t=S(n).val(),a)return t;s.push(t)}return s},set:function(e,t){var n,r,i=e.options,o=S.makeArray(t),a=i.length;while(a--)((r=i[a]).selected=-1<S.inArray(S.valHooks.option.get(r),o))&&(n=!0);return n||(e.selectedIndex=-1),o}}}}),S.each([\"radio\",\"checkbox\"],function(){S.valHooks[this]={set:function(e,t){if(Array.isArray(t))return e.checked=-1<S.inArray(S(e).val(),t)}},y.checkOn||(S.valHooks[this].get=function(e){return null===e.getAttribute(\"value\")?\"on\":e.value})}),y.focusin=\"onfocusin\"in C;var bt=/^(?:focusinfocus|focusoutblur)$/,wt=function(e){e.stopPropagation()};S.extend(S.event,{trigger:function(e,t,n,r){var i,o,a,s,u,l,c,f,p=[n||E],d=v.call(e,\"type\")?e.type:e,h=v.call(e,\"namespace\")?e.namespace.split(\".\"):[];if(o=f=a=n=n||E,3!==n.nodeType&&8!==n.nodeType&&!bt.test(d+S.event.triggered)&&(-1<d.indexOf(\".\")&&(d=(h=d.split(\".\")).shift(),h.sort()),u=d.indexOf(\":\")<0&&\"on\"+d,(e=e[S.expando]?e:new S.Event(d,\"object\"==typeof e&&e)).isTrigger=r?2:3,e.namespace=h.join(\".\"),e.rnamespace=e.namespace?new RegExp(\"(^|\\\\.)\"+h.join(\"\\\\.(?:.*\\\\.|)\")+\"(\\\\.|$)\"):null,e.result=void 0,e.target||(e.target=n),t=null==t?[e]:S.makeArray(t,[e]),c=S.event.special[d]||{},r||!c.trigger||!1!==c.trigger.apply(n,t))){if(!r&&!c.noBubble&&!x(n)){for(s=c.delegateType||d,bt.test(s+d)||(o=o.parentNode);o;o=o.parentNode)p.push(o),a=o;a===(n.ownerDocument||E)&&p.push(a.defaultView||a.parentWindow||C)}i=0;while((o=p[i++])&&!e.isPropagationStopped())f=o,e.type=1<i?s:c.bindType||d,(l=(Y.get(o,\"events\")||Object.create(null))[e.type]&&Y.get(o,\"handle\"))&&l.apply(o,t),(l=u&&o[u])&&l.apply&&V(o)&&(e.result=l.apply(o,t),!1===e.result&&e.preventDefault());return e.type=d,r||e.isDefaultPrevented()||c._default&&!1!==c._default.apply(p.pop(),t)||!V(n)||u&&m(n[d])&&!x(n)&&((a=n[u])&&(n[u]=null),S.event.triggered=d,e.isPropagationStopped()&&f.addEventListener(d,wt),n[d](),e.isPropagationStopped()&&f.removeEventListener(d,wt),S.event.triggered=void 0,a&&(n[u]=a)),e.result}},simulate:function(e,t,n){var r=S.extend(new S.Event,n,{type:e,isSimulated:!0});S.event.trigger(r,null,t)}}),S.fn.extend({trigger:function(e,t){return this.each(function(){S.event.trigger(e,t,this)})},triggerHandler:function(e,t){var n=this[0];if(n)return S.event.trigger(e,t,n,!0)}}),y.focusin||S.each({focus:\"focusin\",blur:\"focusout\"},function(n,r){var i=function(e){S.event.simulate(r,e.target,S.event.fix(e))};S.event.special[r]={setup:function(){var e=this.ownerDocument||this.document||this,t=Y.access(e,r);t||e.addEventListener(n,i,!0),Y.access(e,r,(t||0)+1)},teardown:function(){var e=this.ownerDocument||this.document||this,t=Y.access(e,r)-1;t?Y.access(e,r,t):(e.removeEventListener(n,i,!0),Y.remove(e,r))}}});var Tt=C.location,Ct={guid:Date.now()},Et=/\\?/;S.parseXML=function(e){var t;if(!e||\"string\"!=typeof e)return null;try{t=(new C.DOMParser).parseFromString(e,\"text/xml\")}catch(e){t=void 0}return t&&!t.getElementsByTagName(\"parsererror\").length||S.error(\"Invalid XML: \"+e),t};var St=/\\[\\]$/,kt=/\\r?\\n/g,At=/^(?:submit|button|image|reset|file)$/i,Nt=/^(?:input|select|textarea|keygen)/i;function Dt(n,e,r,i){var t;if(Array.isArray(e))S.each(e,function(e,t){r||St.test(n)?i(n,t):Dt(n+\"[\"+(\"object\"==typeof t&&null!=t?e:\"\")+\"]\",t,r,i)});else if(r||\"object\"!==w(e))i(n,e);else for(t in e)Dt(n+\"[\"+t+\"]\",e[t],r,i)}S.param=function(e,t){var n,r=[],i=function(e,t){var n=m(t)?t():t;r[r.length]=encodeURIComponent(e)+\"=\"+encodeURIComponent(null==n?\"\":n)};if(null==e)return\"\";if(Array.isArray(e)||e.jquery&&!S.isPlainObject(e))S.each(e,function(){i(this.name,this.value)});else for(n in e)Dt(n,e[n],t,i);return r.join(\"&\")},S.fn.extend({serialize:function(){return S.param(this.serializeArray())},serializeArray:function(){return this.map(function(){var e=S.prop(this,\"elements\");return e?S.makeArray(e):this}).filter(function(){var e=this.type;return this.name&&!S(this).is(\":disabled\")&&Nt.test(this.nodeName)&&!At.test(e)&&(this.checked||!pe.test(e))}).map(function(e,t){var n=S(this).val();return null==n?null:Array.isArray(n)?S.map(n,function(e){return{name:t.name,value:e.replace(kt,\"\\r\\n\")}}):{name:t.name,value:n.replace(kt,\"\\r\\n\")}}).get()}});var jt=/%20/g,qt=/#.*$/,Lt=/([?&])_=[^&]*/,Ht=/^(.*?):[ \\t]*([^\\r\\n]*)$/gm,Ot=/^(?:GET|HEAD)$/,Pt=/^\\/\\//,Rt={},Mt={},It=\"*/\".concat(\"*\"),Wt=E.createElement(\"a\");function Ft(o){return function(e,t){\"string\"!=typeof e&&(t=e,e=\"*\");var n,r=0,i=e.toLowerCase().match(P)||[];if(m(t))while(n=i[r++])\"+\"===n[0]?(n=n.slice(1)||\"*\",(o[n]=o[n]||[]).unshift(t)):(o[n]=o[n]||[]).push(t)}}function Bt(t,i,o,a){var s={},u=t===Mt;function l(e){var r;return s[e]=!0,S.each(t[e]||[],function(e,t){var n=t(i,o,a);return\"string\"!=typeof n||u||s[n]?u?!(r=n):void 0:(i.dataTypes.unshift(n),l(n),!1)}),r}return l(i.dataTypes[0])||!s[\"*\"]&&l(\"*\")}function $t(e,t){var n,r,i=S.ajaxSettings.flatOptions||{};for(n in t)void 0!==t[n]&&((i[n]?e:r||(r={}))[n]=t[n]);return r&&S.extend(!0,e,r),e}Wt.href=Tt.href,S.extend({active:0,lastModified:{},etag:{},ajaxSettings:{url:Tt.href,type:\"GET\",isLocal:/^(?:about|app|app-storage|.+-extension|file|res|widget):$/.test(Tt.protocol),global:!0,processData:!0,async:!0,contentType:\"application/x-www-form-urlencoded; charset=UTF-8\",accepts:{\"*\":It,text:\"text/plain\",html:\"text/html\",xml:\"application/xml, text/xml\",json:\"application/json, text/javascript\"},contents:{xml:/\\bxml\\b/,html:/\\bhtml/,json:/\\bjson\\b/},responseFields:{xml:\"responseXML\",text:\"responseText\",json:\"responseJSON\"},converters:{\"* text\":String,\"text html\":!0,\"text json\":JSON.parse,\"text xml\":S.parseXML},flatOptions:{url:!0,context:!0}},ajaxSetup:function(e,t){return t?$t($t(e,S.ajaxSettings),t):$t(S.ajaxSettings,e)},ajaxPrefilter:Ft(Rt),ajaxTransport:Ft(Mt),ajax:function(e,t){\"object\"==typeof e&&(t=e,e=void 0),t=t||{};var c,f,p,n,d,r,h,g,i,o,v=S.ajaxSetup({},t),y=v.context||v,m=v.context&&(y.nodeType||y.jquery)?S(y):S.event,x=S.Deferred(),b=S.Callbacks(\"once memory\"),w=v.statusCode||{},a={},s={},u=\"canceled\",T={readyState:0,getResponseHeader:function(e){var t;if(h){if(!n){n={};while(t=Ht.exec(p))n[t[1].toLowerCase()+\" \"]=(n[t[1].toLowerCase()+\" \"]||[]).concat(t[2])}t=n[e.toLowerCase()+\" \"]}return null==t?null:t.join(\", \")},getAllResponseHeaders:function(){return h?p:null},setRequestHeader:function(e,t){return null==h&&(e=s[e.toLowerCase()]=s[e.toLowerCase()]||e,a[e]=t),this},overrideMimeType:function(e){return null==h&&(v.mimeType=e),this},statusCode:function(e){var t;if(e)if(h)T.always(e[T.status]);else for(t in e)w[t]=[w[t],e[t]];return this},abort:function(e){var t=e||u;return c&&c.abort(t),l(0,t),this}};if(x.promise(T),v.url=((e||v.url||Tt.href)+\"\").replace(Pt,Tt.protocol+\"//\"),v.type=t.method||t.type||v.method||v.type,v.dataTypes=(v.dataType||\"*\").toLowerCase().match(P)||[\"\"],null==v.crossDomain){r=E.createElement(\"a\");try{r.href=v.url,r.href=r.href,v.crossDomain=Wt.protocol+\"//\"+Wt.host!=r.protocol+\"//\"+r.host}catch(e){v.crossDomain=!0}}if(v.data&&v.processData&&\"string\"!=typeof v.data&&(v.data=S.param(v.data,v.traditional)),Bt(Rt,v,t,T),h)return T;for(i in(g=S.event&&v.global)&&0==S.active++&&S.event.trigger(\"ajaxStart\"),v.type=v.type.toUpperCase(),v.hasContent=!Ot.test(v.type),f=v.url.replace(qt,\"\"),v.hasContent?v.data&&v.processData&&0===(v.contentType||\"\").indexOf(\"application/x-www-form-urlencoded\")&&(v.data=v.data.replace(jt,\"+\")):(o=v.url.slice(f.length),v.data&&(v.processData||\"string\"==typeof v.data)&&(f+=(Et.test(f)?\"&\":\"?\")+v.data,delete v.data),!1===v.cache&&(f=f.replace(Lt,\"$1\"),o=(Et.test(f)?\"&\":\"?\")+\"_=\"+Ct.guid+++o),v.url=f+o),v.ifModified&&(S.lastModified[f]&&T.setRequestHeader(\"If-Modified-Since\",S.lastModified[f]),S.etag[f]&&T.setRequestHeader(\"If-None-Match\",S.etag[f])),(v.data&&v.hasContent&&!1!==v.contentType||t.contentType)&&T.setRequestHeader(\"Content-Type\",v.contentType),T.setRequestHeader(\"Accept\",v.dataTypes[0]&&v.accepts[v.dataTypes[0]]?v.accepts[v.dataTypes[0]]+(\"*\"!==v.dataTypes[0]?\", \"+It+\"; q=0.01\":\"\"):v.accepts[\"*\"]),v.headers)T.setRequestHeader(i,v.headers[i]);if(v.beforeSend&&(!1===v.beforeSend.call(y,T,v)||h))return T.abort();if(u=\"abort\",b.add(v.complete),T.done(v.success),T.fail(v.error),c=Bt(Mt,v,t,T)){if(T.readyState=1,g&&m.trigger(\"ajaxSend\",[T,v]),h)return T;v.async&&0<v.timeout&&(d=C.setTimeout(function(){T.abort(\"timeout\")},v.timeout));try{h=!1,c.send(a,l)}catch(e){if(h)throw e;l(-1,e)}}else l(-1,\"No Transport\");function l(e,t,n,r){var i,o,a,s,u,l=t;h||(h=!0,d&&C.clearTimeout(d),c=void 0,p=r||\"\",T.readyState=0<e?4:0,i=200<=e&&e<300||304===e,n&&(s=function(e,t,n){var r,i,o,a,s=e.contents,u=e.dataTypes;while(\"*\"===u[0])u.shift(),void 0===r&&(r=e.mimeType||t.getResponseHeader(\"Content-Type\"));if(r)for(i in s)if(s[i]&&s[i].test(r)){u.unshift(i);break}if(u[0]in n)o=u[0];else{for(i in n){if(!u[0]||e.converters[i+\" \"+u[0]]){o=i;break}a||(a=i)}o=o||a}if(o)return o!==u[0]&&u.unshift(o),n[o]}(v,T,n)),!i&&-1<S.inArray(\"script\",v.dataTypes)&&(v.converters[\"text script\"]=function(){}),s=function(e,t,n,r){var i,o,a,s,u,l={},c=e.dataTypes.slice();if(c[1])for(a in e.converters)l[a.toLowerCase()]=e.converters[a];o=c.shift();while(o)if(e.responseFields[o]&&(n[e.responseFields[o]]=t),!u&&r&&e.dataFilter&&(t=e.dataFilter(t,e.dataType)),u=o,o=c.shift())if(\"*\"===o)o=u;else if(\"*\"!==u&&u!==o){if(!(a=l[u+\" \"+o]||l[\"* \"+o]))for(i in l)if((s=i.split(\" \"))[1]===o&&(a=l[u+\" \"+s[0]]||l[\"* \"+s[0]])){!0===a?a=l[i]:!0!==l[i]&&(o=s[0],c.unshift(s[1]));break}if(!0!==a)if(a&&e[\"throws\"])t=a(t);else try{t=a(t)}catch(e){return{state:\"parsererror\",error:a?e:\"No conversion from \"+u+\" to \"+o}}}return{state:\"success\",data:t}}(v,s,T,i),i?(v.ifModified&&((u=T.getResponseHeader(\"Last-Modified\"))&&(S.lastModified[f]=u),(u=T.getResponseHeader(\"etag\"))&&(S.etag[f]=u)),204===e||\"HEAD\"===v.type?l=\"nocontent\":304===e?l=\"notmodified\":(l=s.state,o=s.data,i=!(a=s.error))):(a=l,!e&&l||(l=\"error\",e<0&&(e=0))),T.status=e,T.statusText=(t||l)+\"\",i?x.resolveWith(y,[o,l,T]):x.rejectWith(y,[T,l,a]),T.statusCode(w),w=void 0,g&&m.trigger(i?\"ajaxSuccess\":\"ajaxError\",[T,v,i?o:a]),b.fireWith(y,[T,l]),g&&(m.trigger(\"ajaxComplete\",[T,v]),--S.active||S.event.trigger(\"ajaxStop\")))}return T},getJSON:function(e,t,n){return S.get(e,t,n,\"json\")},getScript:function(e,t){return S.get(e,void 0,t,\"script\")}}),S.each([\"get\",\"post\"],function(e,i){S[i]=function(e,t,n,r){return m(t)&&(r=r||n,n=t,t=void 0),S.ajax(S.extend({url:e,type:i,dataType:r,data:t,success:n},S.isPlainObject(e)&&e))}}),S.ajaxPrefilter(function(e){var t;for(t in e.headers)\"content-type\"===t.toLowerCase()&&(e.contentType=e.headers[t]||\"\")}),S._evalUrl=function(e,t,n){return S.ajax({url:e,type:\"GET\",dataType:\"script\",cache:!0,async:!1,global:!1,converters:{\"text script\":function(){}},dataFilter:function(e){S.globalEval(e,t,n)}})},S.fn.extend({wrapAll:function(e){var t;return this[0]&&(m(e)&&(e=e.call(this[0])),t=S(e,this[0].ownerDocument).eq(0).clone(!0),this[0].parentNode&&t.insertBefore(this[0]),t.map(function(){var e=this;while(e.firstElementChild)e=e.firstElementChild;return e}).append(this)),this},wrapInner:function(n){return m(n)?this.each(function(e){S(this).wrapInner(n.call(this,e))}):this.each(function(){var e=S(this),t=e.contents();t.length?t.wrapAll(n):e.append(n)})},wrap:function(t){var n=m(t);return this.each(function(e){S(this).wrapAll(n?t.call(this,e):t)})},unwrap:function(e){return this.parent(e).not(\"body\").each(function(){S(this).replaceWith(this.childNodes)}),this}}),S.expr.pseudos.hidden=function(e){return!S.expr.pseudos.visible(e)},S.expr.pseudos.visible=function(e){return!!(e.offsetWidth||e.offsetHeight||e.getClientRects().length)},S.ajaxSettings.xhr=function(){try{return new C.XMLHttpRequest}catch(e){}};var _t={0:200,1223:204},zt=S.ajaxSettings.xhr();y.cors=!!zt&&\"withCredentials\"in zt,y.ajax=zt=!!zt,S.ajaxTransport(function(i){var o,a;if(y.cors||zt&&!i.crossDomain)return{send:function(e,t){var n,r=i.xhr();if(r.open(i.type,i.url,i.async,i.username,i.password),i.xhrFields)for(n in i.xhrFields)r[n]=i.xhrFields[n];for(n in i.mimeType&&r.overrideMimeType&&r.overrideMimeType(i.mimeType),i.crossDomain||e[\"X-Requested-With\"]||(e[\"X-Requested-With\"]=\"XMLHttpRequest\"),e)r.setRequestHeader(n,e[n]);o=function(e){return function(){o&&(o=a=r.onload=r.onerror=r.onabort=r.ontimeout=r.onreadystatechange=null,\"abort\"===e?r.abort():\"error\"===e?\"number\"!=typeof r.status?t(0,\"error\"):t(r.status,r.statusText):t(_t[r.status]||r.status,r.statusText,\"text\"!==(r.responseType||\"text\")||\"string\"!=typeof r.responseText?{binary:r.response}:{text:r.responseText},r.getAllResponseHeaders()))}},r.onload=o(),a=r.onerror=r.ontimeout=o(\"error\"),void 0!==r.onabort?r.onabort=a:r.onreadystatechange=function(){4===r.readyState&&C.setTimeout(function(){o&&a()})},o=o(\"abort\");try{r.send(i.hasContent&&i.data||null)}catch(e){if(o)throw e}},abort:function(){o&&o()}}}),S.ajaxPrefilter(function(e){e.crossDomain&&(e.contents.script=!1)}),S.ajaxSetup({accepts:{script:\"text/javascript, application/javascript, application/ecmascript, application/x-ecmascript\"},contents:{script:/\\b(?:java|ecma)script\\b/},converters:{\"text script\":function(e){return S.globalEval(e),e}}}),S.ajaxPrefilter(\"script\",function(e){void 0===e.cache&&(e.cache=!1),e.crossDomain&&(e.type=\"GET\")}),S.ajaxTransport(\"script\",function(n){var r,i;if(n.crossDomain||n.scriptAttrs)return{send:function(e,t){r=S(\"<script>\").attr(n.scriptAttrs||{}).prop({charset:n.scriptCharset,src:n.url}).on(\"load error\",i=function(e){r.remove(),i=null,e&&t(\"error\"===e.type?404:200,e.type)}),E.head.appendChild(r[0])},abort:function(){i&&i()}}});var Ut,Xt=[],Vt=/(=)\\?(?=&|$)|\\?\\?/;S.ajaxSetup({jsonp:\"callback\",jsonpCallback:function(){var e=Xt.pop()||S.expando+\"_\"+Ct.guid++;return this[e]=!0,e}}),S.ajaxPrefilter(\"json jsonp\",function(e,t,n){var r,i,o,a=!1!==e.jsonp&&(Vt.test(e.url)?\"url\":\"string\"==typeof e.data&&0===(e.contentType||\"\").indexOf(\"application/x-www-form-urlencoded\")&&Vt.test(e.data)&&\"data\");if(a||\"jsonp\"===e.dataTypes[0])return r=e.jsonpCallback=m(e.jsonpCallback)?e.jsonpCallback():e.jsonpCallback,a?e[a]=e[a].replace(Vt,\"$1\"+r):!1!==e.jsonp&&(e.url+=(Et.test(e.url)?\"&\":\"?\")+e.jsonp+\"=\"+r),e.converters[\"script json\"]=function(){return o||S.error(r+\" was not called\"),o[0]},e.dataTypes[0]=\"json\",i=C[r],C[r]=function(){o=arguments},n.always(function(){void 0===i?S(C).removeProp(r):C[r]=i,e[r]&&(e.jsonpCallback=t.jsonpCallback,Xt.push(r)),o&&m(i)&&i(o[0]),o=i=void 0}),\"script\"}),y.createHTMLDocument=((Ut=E.implementation.createHTMLDocument(\"\").body).innerHTML=\"<form></form><form></form>\",2===Ut.childNodes.length),S.parseHTML=function(e,t,n){return\"string\"!=typeof e?[]:(\"boolean\"==typeof t&&(n=t,t=!1),t||(y.createHTMLDocument?((r=(t=E.implementation.createHTMLDocument(\"\")).createElement(\"base\")).href=E.location.href,t.head.appendChild(r)):t=E),o=!n&&[],(i=N.exec(e))?[t.createElement(i[1])]:(i=xe([e],t,o),o&&o.length&&S(o).remove(),S.merge([],i.childNodes)));var r,i,o},S.fn.load=function(e,t,n){var r,i,o,a=this,s=e.indexOf(\" \");return-1<s&&(r=vt(e.slice(s)),e=e.slice(0,s)),m(t)?(n=t,t=void 0):t&&\"object\"==typeof t&&(i=\"POST\"),0<a.length&&S.ajax({url:e,type:i||\"GET\",dataType:\"html\",data:t}).done(function(e){o=arguments,a.html(r?S(\"<div>\").append(S.parseHTML(e)).find(r):e)}).always(n&&function(e,t){a.each(function(){n.apply(this,o||[e.responseText,t,e])})}),this},S.expr.pseudos.animated=function(t){return S.grep(S.timers,function(e){return t===e.elem}).length},S.offset={setOffset:function(e,t,n){var r,i,o,a,s,u,l=S.css(e,\"position\"),c=S(e),f={};\"static\"===l&&(e.style.position=\"relative\"),s=c.offset(),o=S.css(e,\"top\"),u=S.css(e,\"left\"),(\"absolute\"===l||\"fixed\"===l)&&-1<(o+u).indexOf(\"auto\")?(a=(r=c.position()).top,i=r.left):(a=parseFloat(o)||0,i=parseFloat(u)||0),m(t)&&(t=t.call(e,n,S.extend({},s))),null!=t.top&&(f.top=t.top-s.top+a),null!=t.left&&(f.left=t.left-s.left+i),\"using\"in t?t.using.call(e,f):(\"number\"==typeof f.top&&(f.top+=\"px\"),\"number\"==typeof f.left&&(f.left+=\"px\"),c.css(f))}},S.fn.extend({offset:function(t){if(arguments.length)return void 0===t?this:this.each(function(e){S.offset.setOffset(this,t,e)});var e,n,r=this[0];return r?r.getClientRects().length?(e=r.getBoundingClientRect(),n=r.ownerDocument.defaultView,{top:e.top+n.pageYOffset,left:e.left+n.pageXOffset}):{top:0,left:0}:void 0},position:function(){if(this[0]){var e,t,n,r=this[0],i={top:0,left:0};if(\"fixed\"===S.css(r,\"position\"))t=r.getBoundingClientRect();else{t=this.offset(),n=r.ownerDocument,e=r.offsetParent||n.documentElement;while(e&&(e===n.body||e===n.documentElement)&&\"static\"===S.css(e,\"position\"))e=e.parentNode;e&&e!==r&&1===e.nodeType&&((i=S(e).offset()).top+=S.css(e,\"borderTopWidth\",!0),i.left+=S.css(e,\"borderLeftWidth\",!0))}return{top:t.top-i.top-S.css(r,\"marginTop\",!0),left:t.left-i.left-S.css(r,\"marginLeft\",!0)}}},offsetParent:function(){return this.map(function(){var e=this.offsetParent;while(e&&\"static\"===S.css(e,\"position\"))e=e.offsetParent;return e||re})}}),S.each({scrollLeft:\"pageXOffset\",scrollTop:\"pageYOffset\"},function(t,i){var o=\"pageYOffset\"===i;S.fn[t]=function(e){return $(this,function(e,t,n){var r;if(x(e)?r=e:9===e.nodeType&&(r=e.defaultView),void 0===n)return r?r[i]:e[t];r?r.scrollTo(o?r.pageXOffset:n,o?n:r.pageYOffset):e[t]=n},t,e,arguments.length)}}),S.each([\"top\",\"left\"],function(e,n){S.cssHooks[n]=$e(y.pixelPosition,function(e,t){if(t)return t=Be(e,n),Me.test(t)?S(e).position()[n]+\"px\":t})}),S.each({Height:\"height\",Width:\"width\"},function(a,s){S.each({padding:\"inner\"+a,content:s,\"\":\"outer\"+a},function(r,o){S.fn[o]=function(e,t){var n=arguments.length&&(r||\"boolean\"!=typeof e),i=r||(!0===e||!0===t?\"margin\":\"border\");return $(this,function(e,t,n){var r;return x(e)?0===o.indexOf(\"outer\")?e[\"inner\"+a]:e.document.documentElement[\"client\"+a]:9===e.nodeType?(r=e.documentElement,Math.max(e.body[\"scroll\"+a],r[\"scroll\"+a],e.body[\"offset\"+a],r[\"offset\"+a],r[\"client\"+a])):void 0===n?S.css(e,t,i):S.style(e,t,n,i)},s,n?e:void 0,n)}})}),S.each([\"ajaxStart\",\"ajaxStop\",\"ajaxComplete\",\"ajaxError\",\"ajaxSuccess\",\"ajaxSend\"],function(e,t){S.fn[t]=function(e){return this.on(t,e)}}),S.fn.extend({bind:function(e,t,n){return this.on(e,null,t,n)},unbind:function(e,t){return this.off(e,null,t)},delegate:function(e,t,n,r){return this.on(t,e,n,r)},undelegate:function(e,t,n){return 1===arguments.length?this.off(e,\"**\"):this.off(t,e||\"**\",n)},hover:function(e,t){return this.mouseenter(e).mouseleave(t||e)}}),S.each(\"blur focus focusin focusout resize scroll click dblclick mousedown mouseup mousemove mouseover mouseout mouseenter mouseleave change select submit keydown keypress keyup contextmenu\".split(\" \"),function(e,n){S.fn[n]=function(e,t){return 0<arguments.length?this.on(n,null,e,t):this.trigger(n)}});var Gt=/^[\\s\\uFEFF\\xA0]+|[\\s\\uFEFF\\xA0]+$/g;S.proxy=function(e,t){var n,r,i;if(\"string\"==typeof t&&(n=e[t],t=e,e=n),m(e))return r=s.call(arguments,2),(i=function(){return e.apply(t||this,r.concat(s.call(arguments)))}).guid=e.guid=e.guid||S.guid++,i},S.holdReady=function(e){e?S.readyWait++:S.ready(!0)},S.isArray=Array.isArray,S.parseJSON=JSON.parse,S.nodeName=A,S.isFunction=m,S.isWindow=x,S.camelCase=X,S.type=w,S.now=Date.now,S.isNumeric=function(e){var t=S.type(e);return(\"number\"===t||\"string\"===t)&&!isNaN(e-parseFloat(e))},S.trim=function(e){return null==e?\"\":(e+\"\").replace(Gt,\"\")},\"function\"==typeof define&&define.amd&&define(\"jquery\",[],function(){return S});var Yt=C.jQuery,Qt=C.$;return S.noConflict=function(e){return C.$===S&&(C.$=Qt),e&&C.jQuery===S&&(C.jQuery=Yt),S},\"undefined\"==typeof e&&(C.jQuery=C.$=S),S});\n",
       "// class to convert the standard JSON representation of a gatenlp\n",
       "// document into something we need here and methods to access the data.\n",
       "var gatenlpDocRep = class {\n",
       "    constructor(bdoc, parms) {\n",
       "        this.sep = \"║\"\n",
       "        this.sname2types = new Map();\n",
       "        this.snameid2ann = new Map();\n",
       "        this.snametype2ids = new Map();\n",
       "\t    this.text = bdoc[\"text\"];\n",
       "\t    this.presel_list = parms[\"presel_list\"]\n",
       "\t    this.presel_set = new Set(parms[\"presel_set\"])\n",
       "\t    this.cols4types = parms[\"cols4types\"]\n",
       "\t    if (\"palette\" in parms) {\n",
       "\t        this.palette = parms[\"palette\"]\n",
       "\t    }\n",
       "\t    const regex = / +$/;\n",
       "            this.features = bdoc[\"features\"];\n",
       "            if (this.text == null) {\n",
       "                this.text = \"[No proper GATENLP document to show]\";\n",
       "                return;\n",
       "            }\n",
       "            let annsets = bdoc[\"annotation_sets\"];\n",
       "            if (annsets == null) {\n",
       "                return;\n",
       "            }\n",
       "            for (let setname in annsets) {\n",
       "                // console.log(\"Processing setname: \" + setname)\n",
       "                let annset = annsets[setname];\n",
       "                let types4annset = new Set();\n",
       "                let anns4set = annset[\"annotations\"];\n",
       "                for (let [idx, element] of anns4set.entries()) {\n",
       "                    // console.log(\"adding ann: \" + idx + \" / \" + element)\n",
       "                    let annid = element[\"id\"].toString();\n",
       "                    let anntype = element[\"type\"];\n",
       "                    types4annset.add(anntype);\n",
       "                    // let snametype = setname + DocRep.sep + anntype;\n",
       "                    let snametype = setname + this.sep + anntype;\n",
       "                    // console.log(\"Created key \" + snametype)\n",
       "                    let ids4type = this.snametype2ids.get(snametype);\n",
       "                    if (ids4type == null) {\n",
       "                        //console.log(\"Adding \" + [annid])\n",
       "                        this.snametype2ids.set(snametype, [annid]);\n",
       "                        // console.log(\"keys now \" + Array.from(this.snametype2ids.keys()))\n",
       "                    } else {\n",
       "                        ids4type.push(annid);\n",
       "                        // console.log(\"snametype2ids for \" + snametype + \" is now \" + ids4type)\n",
       "                    }\n",
       "                    let snameid = setname + this.sep + annid\n",
       "                    let ann4snameid = this.snameid2ann.get(snameid);\n",
       "                    if (ann4snameid == null) {\n",
       "                        this.snameid2ann.set(snameid, element);\n",
       "                    } else {\n",
       "                        // how to handle this odd error?\n",
       "                    }\n",
       "                }\n",
       "                this.sname2types.set(setname, Array.from(types4annset).sort());\n",
       "            }\n",
       "        } // constructor\n",
       "\n",
       "    setnames() {\n",
       "        return Array.from(this.sname2types.keys()).sort();\n",
       "    }\n",
       "\n",
       "    types4setname(setname) {\n",
       "        // return a sorted list of annotation types for a set name\n",
       "        return Array.from(this.sname2types.get(setname)); // already sorted!\n",
       "    }\n",
       "\n",
       "    annids4snametype(setname, anntype) {\n",
       "        // return a list of annotation ids for a setname and annotation type\n",
       "        return this.snametype2ids.get(setname + this.sep + anntype);\n",
       "    }\n",
       "\n",
       "    ann4setnameannid(setname, annid) {\n",
       "        // return the annotation object (map) for a set/id\n",
       "        return this.snameid2ann.get(setname + this.sep + annid)\n",
       "    }\n",
       "\n",
       "    anns4settype(setname, type) {\n",
       "        //console.log(\"Getting anns for \" + setname + \" \" + type)\n",
       "        let annids = this.annids4snametype(setname, type);\n",
       "        let anns = [];\n",
       "        for (let annid of annids) {\n",
       "            anns[anns.length] = this.ann4setnameannid(setname, annid);\n",
       "        }\n",
       "        //console.log(\"Found \" + annids + \" returning \" + anns);\n",
       "        return anns;\n",
       "    }\n",
       "\n",
       "};\n",
       "\n",
       "function docview_annchosen(rep, ev, setname, anntype) {\n",
       "        let checked = $(ev.target).prop(\"checked\");\n",
       "        // this gives us the setname, type and checkbox status of what has been clicked, but for now\n",
       "        // we always get the complete list of selected types here:\n",
       "        let seltypes = [];\n",
       "        let inputs = $(rep.id_chooser).find(\"input\");\n",
       "        inputs.each(function(index) {\n",
       "            let inputel = $(inputs.get(index));\n",
       "            if (inputel.prop(\"checked\")) {\n",
       "                // seltypes.push(([inputel.attr(\"data-setname\"), inputel.attr(\"data-anntype\")]));\n",
       "                seltypes[seltypes.length] = [inputel.attr(\"data-setname\"), inputel.attr(\"data-anntype\")]\n",
       "            }\n",
       "        });\n",
       "        rep.chosen = seltypes;\n",
       "        rep.buildAnns4Offset();\n",
       "        rep.buildContent();\n",
       "    }\n",
       "\n",
       "function docview_annsel(obj, ev, anns) {\n",
       "        if (anns.size > 1) {\n",
       "            // if there are several annotation, show the popup\n",
       "            $(obj.id_popup).empty();\n",
       "            for (let info of anns.values()) {\n",
       "                let fields = info.split(\"║\")\n",
       "                let setname = fields[0]\n",
       "                let annid = fields[2]                \n",
       "                let ann = obj.docrep.ann4setnameannid(setname, annid);\n",
       "                // console.log(\"Looking up setname=\"+setname+\",annid=\"+annid+\" gave: \"+ann)\n",
       "                let feats = ann.features;\n",
       "                let idpopup = obj.id_popup;\n",
       "                $(\"<div class='\" + obj.class_selection + \"'>\" + ann.type + \": id=\" + annid + \" offsets=\" + ann.start + \"..\" + ann.end + \" (\" + (ann.end-ann.start) + \")\" + \"</div>\").on(\"click\", function(x) {\n",
       "                    docview_showAnn(obj, ann);\n",
       "                    $(idpopup).hide();\n",
       "                }).appendTo(obj.id_popup);\n",
       "            }\n",
       "            $(obj.id_popup).show();            \n",
       "        } else if (anns.size == 1) {\n",
       "            // if there is just one annotation, show features immediately, without the popup\n",
       "            let a = anns.values().next()[\"value\"]\n",
       "            let fields = a.split(\"║\")            \n",
       "            let ann = obj.docrep.ann4setnameannid(fields[0], fields[2]);\n",
       "            docview_showAnn(obj, ann);\n",
       "        } else {\n",
       "            console.error(\"EMPTY ANNS???\");\n",
       "        }\n",
       "    }\n",
       "\n",
       "function docview_showFeatures(obj, features) {\n",
       "        let tbl = $(\"<table>\").attr(\"class\", obj.idprefix+\"featuretable\");\n",
       "        for (let fname in features) {\n",
       "            let fval = JSON.stringify(features[fname]);\n",
       "            tbl.append(\"<tr><td class='\" + obj.class_fname + \"'>\" + fname + \"</td><td class='\" + obj.class_fvalue + \"'>\" + fval + \"</td></tr>\");\n",
       "        }\n",
       "        $(obj.id_details).append(tbl);\n",
       "    }\n",
       "\n",
       "function docview_showAnn(obj, ann) {\n",
       "        $(obj.id_details).empty();\n",
       "        $(obj.id_details).append(\"<div class='\" + obj.id_hdr + \"'>Annotation: \" + ann.type + \", id:\" + ann.id + \" offsets:\" + ann.start + \"..\" + ann.end + \" (\" + (ann.end-ann.start) + \")</div>\");\n",
       "        docview_showFeatures(obj, ann.features);\n",
       "    }\n",
       "\n",
       "function docview_showDocFeatures(obj, features) {\n",
       "        $(obj.id_details).empty();\n",
       "        $(obj.id_details).append(\"<div class='\" + obj.id_hdr + \"'>Document features:</div>\");\n",
       "        docview_showFeatures(obj, features);\n",
       "    }\n",
       "\n",
       "function hex2rgba(hx) {\n",
       "    return [\n",
       "        parseInt(hx.substring(1, 3), 16),\n",
       "        parseInt(hx.substring(3, 5), 16),\n",
       "        parseInt(hx.substring(5, 7), 16),\n",
       "        1.0\n",
       "    ];\n",
       "};\n",
       "\n",
       "\n",
       "// class to build the HTML for viewing the converted document\n",
       "var gatenlpDocView = class {\n",
       "    constructor(docrep, idprefix=\"GATENLPID-\", config=undefined) {\n",
       "        // idprefix: the prefix to add to all ids and classes\n",
       "        this.sep = \"║\"\n",
       "        this.docrep = docrep;\n",
       "        this.idprefix = idprefix;\n",
       "        this.id_text = \"#\" + idprefix + \"text\";\n",
       "        this.id_chooser = \"#\" + idprefix + \"chooser\";\n",
       "        this.id_details = \"#\" + idprefix + \"details\";\n",
       "        this.id_popup = \"#\" + idprefix + \"popup\";\n",
       "        this.id_hdr = \"#\" + idprefix + \"hdr\";\n",
       "        this.id_dochdr = \"#\" + idprefix + \"dochdr\";\n",
       "        this.class_selection = idprefix + \"selection\";\n",
       "        this.class_fname = idprefix + \"fname\";\n",
       "        this.class_fvalue = idprefix + \"fvalue\";\n",
       "        this.class_label = idprefix + \"label\";\n",
       "        this.class_input = idprefix + \"input\";\n",
       "        this.chosen = [];\n",
       "        this.anns4offset = undefined;\n",
       "        // create default config here\n",
       "        this.config = config;\n",
       "        this.palettex = [\n",
       "            // modified from R lib pals: alphabet2\n",
       "            \"#AA6DAA\", \"#3283FE\", \"#85660D\", \"#782AB6\", \"#565656\", \"#1C8356\", \"#16FF32\", \"#F7E1A0\", \"#E2E2E2\", \"#1CBE4F\", \"#C4451C\", \"#DEA0FD\",\n",
       "            \"#FE00FA\", \"#325A9B\", \"#FEAF16\", \"#F8A19F\", \"#90AD1C\", \"#F6222E\", \"#1CFFCE\", \"#2ED9FF\", \"#B10DA1\", \"#C075A6\", \"#FC1CBF\", \"#B00068\",\n",
       "            \"#FBE426\", \"#FA0087\",\n",
       "            // modified from R lib pals: polychrome\n",
       "            \"#5A5156\", \"#E4E1E3\", \"#F6222E\", \"#FE00FA\", \"#16FF32\", \"#3283FE\", \"#FEAF16\", \"#B00068\", \"#1CFFCE\", \"#90AD1C\",\n",
       "            \"#2ED9FF\", \"#DEA0FD\", \"#AA0DFE\", \"#F8A19F\", \"#325A9B\", \"#C4451C\", \"#1C8356\", \"#85660D\", \"#B10DA1\", \"#FBE426\",\n",
       "            \"#1CBE4F\", \"#FA0087\", \"#FC1CBF\", \"#F7E1A0\", \"#C075A6\", \"#782AB6\", \"#AAF400\", \"#BDCDFF\", \"#822E1C\", \"#B5EFB5\",\n",
       "            \"#7ED7D1\", \"#1C7F93\", \"#D85FF7\", \"#683B79\", \"#66B0FF\", \"#3B00FB\"\n",
       "        ]\n",
       "        if (typeof this.docrep.palette !== 'undefined') {\n",
       "            this.palettex = this.docrep.palette\n",
       "        }\n",
       "        this.palette = this.palettex.map(hex2rgba)\n",
       "        this.type2colour = new Map();\n",
       "    }\n",
       "\n",
       "    style4color(col) {\n",
       "        return \"background-color: rgba(\" + col.join(\",\") + \");\"\n",
       "    }\n",
       "\n",
       "    color4types(atypes) {\n",
       "        // atypes is a list of set┼type┼annid strings\n",
       "        let r = 0;\n",
       "        let g = 0;\n",
       "        let b = 0;\n",
       "        let a = 0;\n",
       "        for (let info of atypes.values()) {\n",
       "            let fields = info.split(this.sep)\n",
       "            let typ = fields[0] + this.sep + fields[1];\n",
       "            let col = this.type2colour.get(typ);\n",
       "            // console.log(\"Looked up color for \"+typ+\" got \"+col)\n",
       "            r += col[0];\n",
       "            g += col[1];\n",
       "            b += col[2];\n",
       "            a += col[3];\n",
       "        }\n",
       "        r = Math.floor(r / atypes.size);\n",
       "        g = Math.floor(g / atypes.size);\n",
       "        b = Math.floor(b / atypes.size);\n",
       "        a = a / atypes.size;\n",
       "        // console.log(\"Final colors for len \"+atypes.size+\" r=\"+r+\" g=\"+g)\n",
       "        return [r, g, b, 1.0];\n",
       "    }\n",
       "\n",
       "    init() {\n",
       "        let divcontent = $(this.id_text);\n",
       "        $(divcontent).empty();\n",
       "        let text = this.docrep.text;\n",
       "        let thehtml = $.parseHTML(this.htmlEntities(text));\n",
       "        $(divcontent).append(thehtml);\n",
       "\n",
       "        // First of all, create the annotation chooser\n",
       "        // create a form which contains:\n",
       "        // for each annotation set create an a tag. followed by a div that contains all the checkbox fields\n",
       "        let divchooser = $(this.id_chooser);\n",
       "        $(divchooser).empty();\n",
       "        let formchooser = $(\"<form>\");\n",
       "        let colidx = 0\n",
       "        for (let setname of this.docrep.setnames()) {\n",
       "            let setname2show = setname;\n",
       "            // TODO: add number of annotations in the set in parentheses\n",
       "            if (setname == \"\") {\n",
       "                setname2show = \"[Default Set]\"\n",
       "            }\n",
       "            // TODO: make what we show here configurable?\n",
       "            $(formchooser).append($(document.createElement('div')).attr(\"class\", this.id_hdr).append(setname2show))\n",
       "            let div4set = document.createElement(\"div\")\n",
       "            // $(div4set).attr(\"id\", setname);\n",
       "            $(div4set).attr(\"style\", \"margin-bottom: 10px;\");\n",
       "            for (let anntype of this.docrep.types4setname(setname)) {\n",
       "                //console.log(\"Addingsss type \" + anntype)\n",
       "                let setandtype = setname + this.docrep.sep + anntype;\n",
       "                let col = undefined\n",
       "                if (setandtype in this.docrep.cols4types) {\n",
       "                    col = hex2rgba(this.docrep.cols4types[setandtype])\n",
       "                } else {\n",
       "                    col = this.palette[colidx];\n",
       "                }\n",
       "                this.type2colour.set(setname + this.sep + anntype, col);\n",
       "                colidx = (colidx + 1) % this.palette.length;\n",
       "                let lbl = $(\"<label>\").attr({ \"style\": this.style4color(col), \"class\": this.class_label });\n",
       "                let object = this\n",
       "                let annhandler = function(ev) { docview_annchosen(object, ev, setname, anntype) }\n",
       "                let inp = $('<input type=\"checkbox\">').attr({ \"type\": \"checkbox\", \"class\": this.class_input, \"data-anntype\": anntype, \"data-setname\": setname}).on(\"click\", annhandler)\n",
       "                if (this.docrep.presel_set.has(setandtype)) {\n",
       "                    inp.attr(\"checked\", \"\")\n",
       "                }\n",
       "                $(lbl).append(inp);\n",
       "                $(lbl).append(anntype);\n",
       "                // append the number of annotations in this set \n",
       "                let n = this.docrep.annids4snametype(setname, anntype).length;\n",
       "                $(lbl).append(\" (\" + n + \")\");\n",
       "                $(div4set).append(lbl)\n",
       "                $(div4set).append($(\"<br>\"))\n",
       "                $(divchooser).append(formchooser)\n",
       "            }\n",
       "            $(formchooser).append(div4set)\n",
       "        }\n",
       "\n",
       "        let obj = this;\n",
       "        let feats = this.docrep[\"features\"];\n",
       "        docview_showDocFeatures(obj, feats);\n",
       "        $(this.id_dochdr).text(\"Document:\").on(\"click\", function(ev) { docview_showDocFeatures(obj, feats) });\n",
       "        this.chosen = this.docrep.presel_list\n",
       "        this.buildAnns4Offset()\n",
       "        this.buildContent()\n",
       "    }\n",
       "\n",
       "        set2list(theset) {\n",
       "            let arr = new Array()\n",
       "            for (var el of theset.values()) {\n",
       "               arr[arr.length] = el\n",
       "            }\n",
       "            return arr\n",
       "        }\n",
       "\n",
       "        setsequal(set1, set2) {\n",
       "            if (set1.size !== set2.size) return false;\n",
       "            for (var el of set1) if (!set2.has(el)) return false;\n",
       "            return true;\n",
       "        }\n",
       "\n",
       "    buildAnns4Offset() {\n",
       "        // console.log(\"Running buildAnns4Offset\")\n",
       "        //this.anns4offset = new Array(this.docrep.text.length + 1);\n",
       "        this.anns4offset = new Array()\n",
       "        \n",
       "        // for all the set/type combinations that have been selected ... \n",
       "        for (let [sname, atype] of this.chosen) {\n",
       "            //console.log(\"sname/type: \" + sname + \"/\" + atype);\n",
       "            // get the list of annotations that match the given Setname and annotation type\n",
       "            let anns = this.docrep.anns4settype(sname, atype);\n",
       "            for (let ann of anns) {\n",
       "                // console.log(\"processing ann: \" + ann + \" start=\" + ann.start + \" end=\" + ann.end + \" type=\" + ann.type)\n",
       "                // store the annotation setname/typename/annid for each offset of each annotation\n",
       "                // to indicate the end of the annotation also store an empty list for the offset after the annotation \n",
       "                // unless we already have something there\n",
       "                \n",
       "                // trick for zero length annotations: show them as length one annotations for now\n",
       "                var endoff = ann.end\n",
       "                if (ann.start == ann.end) endoff = endoff+1\n",
       "                for (let i = ann.start; i < endoff; i++) { // iterate until one beyond the end of the ann\n",
       "                    let have = this.anns4offset[i]\n",
       "                    if (have == undefined) {                    \n",
       "                      have = { \"offset\": i, \"anns\": new Set()}\n",
       "                      this.anns4offset[i] = have\n",
       "                    }\n",
       "                    if (i < endoff) {\n",
       "                        // append a new set/type tuple to the list of set/types at this offset\n",
       "                        let tmp = this.anns4offset[i][\"anns\"];\n",
       "                        let toadd = sname + this.sep + atype + this.sep + ann.id\n",
       "                        // console.log(\"Trying to add \"+toadd+\" to \"+this.set2list(tmp))\n",
       "                        tmp = tmp.add(toadd); \n",
       "                        //console.log(\"is now \"+this.set2list(tmp))\n",
       "                        //console.log(\"entry for offset \"+i+\" is now \" + this.set2list(this.anns4offset[i][\"anns\"]));\n",
       "                    }\n",
       "                }\n",
       "            }\n",
       "        }\n",
       "        //console.log(\"initial anns4Offset:\")\n",
       "        //console.log(this.anns4offset)\n",
       "        // now all offsets have a list of set/type and set/annid tuples\n",
       "        // compress the list to only contain anything but undefined where it changes \n",
       "        let last = this.anns4offset[0]\n",
       "        for (let i = 1; i < this.anns4offset.length+1; i++) {\n",
       "            let cur = this.anns4offset[i]\n",
       "            if (last == undefined && cur == undefined) {\n",
       "                // console.log(\"Offset \"+i+\" both undefined\")\n",
       "                // nothing to do\n",
       "            } else if (last == undefined && cur != undefined) {\n",
       "                // we have a new list of annotations, keep it: nothing to do\n",
       "                //console.log(\"Offset \"+i+\" last undefined, this one not\")\n",
       "            } else if (last != undefined && cur == undefined) {\n",
       "                // we switch from some list of annotations to the empty list: \n",
       "                // add an empty entry\n",
       "                //console.log(\"Offset \"+i+\" last one not undefined, this undefined, inserting empty list\")\n",
       "                this.anns4offset[i] = { \"anns\": new Set(), \"offset\": i}\n",
       "            } else {\n",
       "                // both offsets have annotations, but do the differ? we need to compare the types and annids\n",
       "                // For now we do this by comparing the stringified representations\n",
       "                let s1 = last[\"anns\"]\n",
       "                let s2 = cur[\"anns\"]\n",
       "                // console.log(\"Offset \"+i+\" Cur: \"+this.set2list(s2)+\" last: \"+this.set2list(s1))\n",
       "                if (this.setsequal(s1,s2)) {\n",
       "                   // console.log(\"Detected equal\")\n",
       "                   this.anns4offset[i] = undefined\n",
       "                }\n",
       "            } \n",
       "            last = cur\n",
       "        }\n",
       "\tlet beyond = this.docrep.text.length\n",
       "\tthis.anns4offset[beyond] = { \"anns\": new Set(), \"offset\": beyond}\n",
       "\n",
       "        // console.log(\"compressed anns4Offset:\")\n",
       "        // console.log(this.anns4offset)\n",
       "        \n",
       "    }\n",
       "\n",
       "    buildContent() {\n",
       "        //console.log(\"Running buildContent\");\n",
       "        // got through all the offsets and check where the annotations change\n",
       "        // start with the set of annotations in the first offset (empty if undefined) as lastset, calculate color for set\n",
       "        // go through all subsequent offsets\n",
       "        // when we find an entry where the annotations change:\n",
       "        // * get the annotation setname/types \n",
       "        // * from the list of setname/types, determine a colour and store it\n",
       "        // * generate the span from last to here \n",
       "        // * process one additional char at the end to include last span\n",
       "        let spans = []\n",
       "        let last = this.anns4offset[0];\n",
       "        if (last == undefined) {\n",
       "            last = { \"anns\": new Set(), \"offset\": 0 };\n",
       "        }\n",
       "        for (let i = 1; i < this.anns4offset.length+1; i++) {\n",
       "            let info = this.anns4offset[i];\n",
       "            if (info != undefined) {\n",
       "                let txt = this.docrep.text.substring(last[\"offset\"], info[\"offset\"]);\n",
       "                txt = txt.replace(/\\n/g, \"\\u2002\\n\");\n",
       "                // console.log(\"Got text: \"+txt) \n",
       "                let span = undefined;\n",
       "                if (last[\"anns\"].size != 0) {\n",
       "                    let col = this.color4types(last.anns);\n",
       "                    let sty = this.style4color(col)+\"white-space:pre-wrap;\" \n",
       "                    span = $('<span>').attr(\"style\", sty);\n",
       "                    let object = this;\n",
       "                    let anns = last.anns;\n",
       "                    let annhandler = function(ev) { docview_annsel(object, ev, anns) }\n",
       "                    span.on(\"click\", annhandler);\n",
       "                    // console.log(\"Adding styled text for \"+col+\"/\"+sty+\" : \"+txt)                    \n",
       "                } else {\n",
       "                    // console.log(\"Adding non-styled text \"+txt)\n",
       "                    span = $('<span>');\n",
       "                }\n",
       "                span.append($.parseHTML(this.htmlEntities(txt)));\n",
       "                spans.push(span);\n",
       "                last = info;\n",
       "            }\n",
       "        }\n",
       "        // Replace the content\n",
       "        let divcontent = $(this.id_text);\n",
       "        $(divcontent).empty();\n",
       "        $(divcontent).append(spans);\n",
       "    }\n",
       "\n",
       "    htmlEntities(str) {\n",
       "        return str.replaceAll('&', '&amp;').replaceAll('<', '&lt;').replaceAll('>', '&gt;').replaceAll('\"', '&quot;').replaceAll(\"\\n\", '<br>');\n",
       "    }\n",
       "};\n",
       "</script>"
      ]
     },
     "metadata": {},
     "output_type": "display_data"
    },
    {
     "data": {
      "text/html": [
       "<div><style>#FUPCMIKCFJ-wrapper { color: black !important; }</style>\n",
       "<div id=\"FUPCMIKCFJ-wrapper\">\n",
       "\n",
       "<div>\n",
       "<style>\n",
       "#FUPCMIKCFJ-content {\n",
       "    width: 100%;\n",
       "    height: 100%;\n",
       "    font-family: -apple-system, BlinkMacSystemFont, 'Segoe UI', Roboto, Oxygen, Ubuntu, Cantarell, 'Open Sans', 'Helvetica Neue', sans-serif;\n",
       "}\n",
       "\n",
       ".FUPCMIKCFJ-row {\n",
       "    width: 100%;\n",
       "    display: flex;\n",
       "    flex-direction: row;\n",
       "    flex-wrap: nowrap;\n",
       "}\n",
       "\n",
       ".FUPCMIKCFJ-col {\n",
       "    border: 1px solid grey;\n",
       "    display: inline-block;\n",
       "    min-width: 200px;\n",
       "    padding: 5px;\n",
       "    /* white-space: normal; */\n",
       "    /* white-space: pre-wrap; */\n",
       "    overflow-y: auto;\n",
       "}\n",
       "\n",
       ".FUPCMIKCFJ-hdr {\n",
       "    font-size: 1.2rem;\n",
       "    font-weight: bold;\n",
       "}\n",
       "\n",
       ".FUPCMIKCFJ-label {\n",
       "    margin-bottom: -15px;\n",
       "    display: block;\n",
       "}\n",
       "\n",
       ".FUPCMIKCFJ-input {\n",
       "    vertical-align: middle;\n",
       "    position: relative;\n",
       "    *overflow: hidden;\n",
       "}\n",
       "\n",
       "#FUPCMIKCFJ-popup {\n",
       "    display: none;\n",
       "    color: black;\n",
       "    position: absolute;\n",
       "    margin-top: 10%;\n",
       "    margin-left: 10%;\n",
       "    background: #aaaaaa;\n",
       "    width: 60%;\n",
       "    height: 60%;\n",
       "    z-index: 50;\n",
       "    padding: 25px 25px 25px;\n",
       "    border: 1px solid black;\n",
       "    overflow: auto;\n",
       "}\n",
       "\n",
       ".FUPCMIKCFJ-selection {\n",
       "    margin-bottom: 5px;\n",
       "}\n",
       "\n",
       ".FUPCMIKCFJ-featuretable {\n",
       "    margin-top: 10px;\n",
       "}\n",
       "\n",
       ".FUPCMIKCFJ-fname {\n",
       "    text-align: left !important;\n",
       "    font-weight: bold;\n",
       "    margin-right: 10px;\n",
       "}\n",
       ".FUPCMIKCFJ-fvalue {\n",
       "    text-align: left !important;\n",
       "}\n",
       "</style>\n",
       "  <div id=\"FUPCMIKCFJ-content\">\n",
       "        <div id=\"FUPCMIKCFJ-popup\" style=\"display: none;\">\n",
       "        </div>\n",
       "        <div class=\"FUPCMIKCFJ-row\" id=\"FUPCMIKCFJ-row1\" style=\"min-height:5em;max-height:20em; min-height:5em;\">\n",
       "            <div id=\"FUPCMIKCFJ-text-wrapper\" class=\"FUPCMIKCFJ-col\" style=\"width:70%;\">\n",
       "                <div class=\"FUPCMIKCFJ-hdr\" id=\"FUPCMIKCFJ-dochdr\"></div>\n",
       "                <div id=\"FUPCMIKCFJ-text\" style=\"\">\n",
       "                </div>\n",
       "            </div>\n",
       "            <div id=\"FUPCMIKCFJ-chooser\" class=\"FUPCMIKCFJ-col\" style=\"width:30%; border-left-width: 0px;\"></div>\n",
       "        </div>\n",
       "        <div class=\"FUPCMIKCFJ-row\" id=\"FUPCMIKCFJ-row2\" style=\"min-height:3em;max-height:14em; min-height: 3em;\">\n",
       "            <div id=\"FUPCMIKCFJ-details\" class=\"FUPCMIKCFJ-col\" style=\"width:100%; border-top-width: 0px;\">\n",
       "            </div>\n",
       "        </div>\n",
       "    </div>\n",
       "    \n",
       "    <script type=\"text/javascript\">\n",
       "    let FUPCMIKCFJ_data = {\"annotation_sets\": {\"\": {\"name\": \"detached-from:\", \"annotations\": [], \"next_annid\": 1}, \"consensus\": {\"name\": \"detached-from:consensus\", \"annotations\": [{\"type\": \"Event_what\", \"start\": 7186, \"end\": 7212, \"id\": 51328, \"features\": {\"anndiffstep\": \"1\", \"argument\": \"what\", \"id\": \"13\", \"anndiffsource\": \"Cristiana\"}}, {\"type\": \"Event_what\", \"start\": 9497, \"end\": 9555, \"id\": 51329, \"features\": {\"anndiffstep\": \"1\", \"argument\": \"what\", \"id\": \"21\", \"anndiffsource\": \"Cristiana\"}}, {\"type\": \"Event_when\", \"start\": 1036, \"end\": 1052, \"id\": 51330, \"features\": {\"anndiffstep\": \"2\", \"argument\": \"when\", \"id\": \"1\", \"anndiffsource\": \"Cristiana\"}}, {\"type\": \"Event_when\", \"start\": 2731, \"end\": 2745, \"id\": 51331, \"features\": {\"anndiffstep\": \"2\", \"argument\": \"when\", \"id\": \"4\", \"anndiffsource\": \"Cristiana\"}}, {\"type\": \"Event_when\", \"start\": 4757, \"end\": 4774, \"id\": 51332, \"features\": {\"anndiffstep\": \"2\", \"argument\": \"when\", \"id\": \"8\", \"anndiffsource\": \"Cristiana\"}}, {\"type\": \"Event_when\", \"start\": 5483, \"end\": 5498, \"id\": 51333, \"features\": {\"anndiffstep\": \"2\", \"argument\": \"when\", \"id\": \"9\", \"anndiffsource\": \"Cristiana\"}}, {\"type\": \"Event_when\", \"start\": 4038, \"end\": 4055, \"id\": 51334, \"features\": {\"anndiffstep\": \"2\", \"argument\": \"when\", \"id\": \"6\", \"anndiffsource\": \"Cristiana\"}}, {\"type\": \"Event_when\", \"start\": 4294, \"end\": 4311, \"id\": 51335, \"features\": {\"anndiffstep\": \"2\", \"argument\": \"when\", \"id\": \"7\", \"anndiffsource\": \"Cristiana\"}}, {\"type\": \"Event_when\", \"start\": 6957, \"end\": 6968, \"id\": 51336, \"features\": {\"anndiffstep\": \"2\", \"argument\": \"when\", \"id\": \"12\", \"anndiffsource\": \"Cristiana\"}}, {\"type\": \"Event_when\", \"start\": 7216, \"end\": 7231, \"id\": 51337, \"features\": {\"anndiffstep\": \"2\", \"argument\": \"when\", \"id\": \"13\", \"anndiffsource\": \"Cristiana\"}}, {\"type\": \"Event_when\", \"start\": 6431, \"end\": 6446, \"id\": 51338, \"features\": {\"anndiffstep\": \"2\", \"argument\": \"when\", \"id\": \"10\", \"anndiffsource\": \"Cristiana\"}}, {\"type\": \"Event_when\", \"start\": 6785, \"end\": 6796, \"id\": 51339, \"features\": {\"anndiffstep\": \"2\", \"argument\": \"when\", \"id\": \"11\", \"anndiffsource\": \"Cristiana\"}}, {\"type\": \"Event_when\", \"start\": 7983, \"end\": 7999, \"id\": 51340, \"features\": {\"anndiffstep\": \"2\", \"argument\": \"when\", \"id\": \"16\", \"anndiffsource\": \"Cristiana\"}}, {\"type\": \"Event_when\", \"start\": 7372, \"end\": 7387, \"id\": 51341, \"features\": {\"anndiffstep\": \"2\", \"argument\": \"when\", \"id\": \"14\", \"anndiffsource\": \"Cristiana\"}}, {\"type\": \"Event_when\", \"start\": 7959, \"end\": 7973, \"id\": 51342, \"features\": {\"anndiffstep\": \"2\", \"argument\": \"when\", \"id\": \"15\", \"anndiffsource\": \"Cristiana\"}}, {\"type\": \"Event_when\", \"start\": 9031, \"end\": 9046, \"id\": 51343, \"features\": {\"anndiffstep\": \"2\", \"argument\": \"when\", \"id\": \"20\", \"anndiffsource\": \"Cristiana\"}}, {\"type\": \"Event_when\", \"start\": 9321, \"end\": 9336, \"id\": 51344, \"features\": {\"anndiffstep\": \"2\", \"argument\": \"when\", \"id\": \"21\", \"anndiffsource\": \"Cristiana\"}}, {\"type\": \"Event_when\", \"start\": 8621, \"end\": 8633, \"id\": 51345, \"features\": {\"anndiffstep\": \"2\", \"argument\": \"when\", \"id\": \"18\", \"anndiffsource\": \"Cristiana\"}}, {\"type\": \"Event_when\", \"start\": 8877, \"end\": 8893, \"id\": 51346, \"features\": {\"anndiffstep\": \"2\", \"argument\": \"when\", \"id\": \"19\", \"anndiffsource\": \"Cristiana\"}}, {\"type\": \"Event_when\", \"start\": 66493, \"end\": 66505, \"id\": 51347, \"features\": {\"anndiffstep\": \"2\", \"argument\": \"when\", \"id\": \"22\", \"anndiffsource\": \"Cristiana\"}}, {\"type\": \"Event_who\", \"start\": 7176, \"end\": 7185, \"id\": 51348, \"features\": {\"anndiffstep\": \"3\", \"argument\": \"who\", \"id\": \"13\", \"anndiffsource\": \"Cristiana\"}}, {\"type\": \"Event_who\", \"start\": 6985, \"end\": 6996, \"id\": 51349, \"features\": {\"anndiffstep\": \"3\", \"argument\": \"who\", \"id\": \"12\", \"anndiffsource\": \"Cristiana\"}}, {\"type\": \"Event_who\", \"start\": 6801, \"end\": 6810, \"id\": 51350, \"features\": {\"anndiffstep\": \"3\", \"argument\": \"who\", \"id\": \"11\", \"anndiffsource\": \"Cristiana\"}}, {\"type\": \"Event_who\", \"start\": 6451, \"end\": 6470, \"id\": 51351, \"features\": {\"anndiffstep\": \"3\", \"argument\": \"who\", \"id\": \"10\", \"anndiffsource\": \"Cristiana\"}}, {\"type\": \"Event_who\", \"start\": 5503, \"end\": 5512, \"id\": 51352, \"features\": {\"anndiffstep\": \"3\", \"argument\": \"who\", \"id\": \"9\", \"anndiffsource\": \"Cristiana\"}}, {\"type\": \"Event_who\", \"start\": 4833, \"end\": 4857, \"id\": 51353, \"features\": {\"anndiffstep\": \"3\", \"argument\": \"who\", \"id\": \"8\", \"anndiffsource\": \"Cristiana\"}}, {\"type\": \"Event_who\", \"start\": 4317, \"end\": 4338, \"id\": 51354, \"features\": {\"anndiffstep\": \"3\", \"argument\": \"who\", \"id\": \"7\", \"anndiffsource\": \"Cristiana\"}}, {\"type\": \"Event_who\", \"start\": 4061, \"end\": 4080, \"id\": 51355, \"features\": {\"anndiffstep\": \"3\", \"argument\": \"who\", \"id\": \"6\", \"anndiffsource\": \"Cristiana\"}}, {\"type\": \"Event_who\", \"start\": 3361, \"end\": 3370, \"id\": 51356, \"features\": {\"anndiffstep\": \"3\", \"argument\": \"who\", \"id\": \"5\", \"anndiffsource\": \"Cristiana\"}}, {\"type\": \"Event_who\", \"start\": 2750, \"end\": 2774, \"id\": 51357, \"features\": {\"anndiffstep\": \"3\", \"argument\": \"who\", \"id\": \"4\", \"anndiffsource\": \"Cristiana\"}}, {\"type\": \"Event_who\", \"start\": 9341, \"end\": 9364, \"id\": 51358, \"features\": {\"anndiffstep\": \"3\", \"argument\": \"who\", \"id\": \"21\", \"anndiffsource\": \"Cristiana\"}}, {\"type\": \"Event_who\", \"start\": 9051, \"end\": 9056, \"id\": 51359, \"features\": {\"anndiffstep\": \"3\", \"argument\": \"who\", \"id\": \"20\", \"anndiffsource\": \"Cristiana\"}}, {\"type\": \"Event_who\", \"start\": 8898, \"end\": 8907, \"id\": 51360, \"features\": {\"anndiffstep\": \"3\", \"argument\": \"who\", \"id\": \"19\", \"anndiffsource\": \"Cristiana\"}}, {\"type\": \"Event_who\", \"start\": 8004, \"end\": 8013, \"id\": 51361, \"features\": {\"anndiffstep\": \"3\", \"argument\": \"who\", \"id\": \"16\", \"anndiffsource\": \"Cristiana\"}}, {\"type\": \"Event_who\", \"start\": 774, \"end\": 785, \"id\": 51362, \"features\": {\"anndiffstep\": \"3\", \"argument\": \"who\", \"id\": \"1\", \"anndiffsource\": \"Cristiana\"}}, {\"type\": \"Event_what\", \"start\": 65334, \"end\": 65370, \"id\": 51365, \"features\": {\"anndiffstep\": \"5\", \"argument\": \"what\", \"id\": \"22\", \"anndiffsource\": \"Erwin\"}}, {\"type\": \"Event_what\", \"start\": 65376, \"end\": 65445, \"id\": 51366, \"features\": {\"anndiffstep\": \"5\", \"argument\": \"what\", \"id\": \"22\", \"anndiffsource\": \"Erwin\"}}, {\"type\": \"Event_what\", \"start\": 65714, \"end\": 66371, \"id\": 51367, \"features\": {\"anndiffstep\": \"5\", \"argument\": \"what\", \"id\": \"22\", \"anndiffsource\": \"Erwin\"}}, {\"type\": \"Event_what\", \"start\": 66377, \"end\": 66448, \"id\": 51368, \"features\": {\"anndiffstep\": \"5\", \"argument\": \"what\", \"id\": \"22\", \"anndiffsource\": \"Erwin\"}}, {\"type\": \"Event_what\", \"start\": 65451, \"end\": 65600, \"id\": 51369, \"features\": {\"anndiffstep\": \"5\", \"argument\": \"what\", \"id\": \"22\", \"anndiffsource\": \"Erwin\"}}, {\"type\": \"Event_what\", \"start\": 65606, \"end\": 65708, \"id\": 51370, \"features\": {\"anndiffstep\": \"5\", \"argument\": \"what\", \"id\": \"22\", \"anndiffsource\": \"Erwin\"}}, {\"type\": \"Event_what\", \"start\": 2272, \"end\": 2294, \"id\": 51371, \"features\": {\"anndiffstep\": \"6\", \"argument\": \"what\", \"id\": \"2\", \"anndiffsource\": \"Cristiana\"}}, {\"type\": \"Event_when\", \"start\": 3339, \"end\": 3356, \"id\": 51373, \"features\": {\"anndiffstep\": \"8\", \"argument\": \"when\", \"id\": \"5\", \"type\": \"circumstances\", \"anndiffsource\": \"Erwin\"}}, {\"type\": \"Event_when\", \"start\": 2231, \"end\": 2247, \"id\": 51374, \"features\": {\"anndiffstep\": \"8\", \"argument\": \"when\", \"id\": \"2\", \"type\": \"circumstances\", \"anndiffsource\": \"Erwin\"}}, {\"type\": \"Event_who\", \"start\": 2253, \"end\": 2271, \"id\": 51375, \"features\": {\"anndiffstep\": \"9\", \"argument\": \"who\", \"id\": \"2\", \"type\": \"circumstances\", \"anndiffsource\": \"Erwin\"}}, {\"type\": \"Event_who\", \"start\": 65305, \"end\": 65314, \"id\": 51377, \"features\": {\"anndiffstep\": \"9\", \"argument\": \"who\", \"id\": \"22\", \"anndiffsource\": \"Erwin\"}}, {\"type\": \"Event_what\", \"start\": 4081, \"end\": 4117, \"id\": 51378, \"features\": {\"anndiffstep\": \"10\", \"argument\": \"what\", \"id\": \"6\", \"type\": \"circumstances\", \"anndiffsource\": \"Erwin\"}}, {\"type\": \"Event_what\", \"start\": 8605, \"end\": 8617, \"id\": 51379, \"features\": {\"anndiffstep\": \"11\", \"argument\": \"what\", \"id\": \"18\", \"anndiffsource\": \"Cristiana\"}}, {\"type\": \"Event\", \"start\": 2728, \"end\": 3136, \"id\": 51380, \"features\": {\"anndiffstep\": \"12\", \"argument\": \"ev\", \"id\": \"4\", \"type\": \"procedure\", \"anndiffsource\": \"Erwin\"}}, {\"type\": \"Event\", \"start\": 5480, \"end\": 5590, \"id\": 51381, \"features\": {\"anndiffstep\": \"13\", \"argument\": \"ev\", \"id\": \"9\", \"type\": \"procedure\", \"anndiffsource\": \"Erwin\"}}, {\"type\": \"Event\", \"start\": 6428, \"end\": 6550, \"id\": 51382, \"features\": {\"anndiffstep\": \"14\", \"argument\": \"ev\", \"id\": \"10\", \"type\": \"procedure\", \"anndiffsource\": \"Erwin\"}}, {\"type\": \"Event\", \"start\": 6954, \"end\": 7041, \"id\": 51383, \"features\": {\"anndiffstep\": \"15\", \"argument\": \"ev\", \"id\": \"12\", \"type\": \"procedure\", \"anndiffsource\": \"Erwin\"}}, {\"type\": \"Event\", \"start\": 8135, \"end\": 8189, \"id\": 51384, \"features\": {\"type\": \"procedure\", \"argument\": \"ev\", \"id\": \"17\"}}, {\"type\": \"Event_who\", \"start\": 8139, \"end\": 8144, \"id\": 51385, \"features\": {\"argument\": \"who\", \"id\": \"17\"}}, {\"type\": \"Event_what\", \"start\": 8145, \"end\": 8171, \"id\": 51386, \"features\": {\"argument\": \"what\", \"id\": \"17\"}}, {\"type\": \"Event_when\", \"start\": 8175, \"end\": 8188, \"id\": 51387, \"features\": {\"argument\": \"when\", \"id\": \"17\"}}, {\"type\": \"Event_who\", \"start\": 8559, \"end\": 8604, \"id\": 51388, \"features\": {\"anndiffstep\": \"16\", \"argument\": \"who\", \"id\": \"18\", \"anndiffsource\": \"Cristiana\"}}, {\"type\": \"Event_what\", \"start\": 8014, \"end\": 8035, \"id\": 51389, \"features\": {\"anndiffstep\": \"17\", \"argument\": \"what\", \"id\": \"16\", \"anndiffsource\": \"Cristiana\"}}, {\"type\": \"Event_what\", \"start\": 7417, \"end\": 7454, \"id\": 51390, \"features\": {\"anndiffstep\": \"18\", \"argument\": \"what\", \"id\": \"14\", \"type\": \"circumstances\", \"anndiffsource\": \"Erwin\"}}, {\"type\": \"Event_what\", \"start\": 2816, \"end\": 2856, \"id\": 51391, \"features\": {\"anndiffstep\": \"19\", \"argument\": \"what\", \"id\": \"4\", \"type\": \"circumstances\", \"anndiffsource\": \"Erwin\"}}, {\"type\": \"Event_what\", \"start\": 4389, \"end\": 4415, \"id\": 51392, \"features\": {\"anndiffstep\": \"20\", \"argument\": \"what\", \"id\": \"7\", \"type\": \"circumstances\", \"anndiffsource\": \"Erwin\"}}, {\"type\": \"Event\", \"start\": 748, \"end\": 1053, \"id\": 51298, \"features\": {\"anndiffstep\": \"0\", \"argument\": \"ev\", \"id\": \"1\", \"type\": \"procedure\", \"anndiffsource\": \"Cristiana\"}}, {\"type\": \"Event\", \"start\": 2225, \"end\": 2312, \"id\": 51299, \"features\": {\"anndiffstep\": \"0\", \"argument\": \"ev\", \"id\": \"2\", \"type\": \"circumstance\", \"anndiffsource\": \"Cristiana\"}}, {\"type\": \"Event\", \"start\": 4754, \"end\": 5182, \"id\": 51300, \"features\": {\"anndiffstep\": \"0\", \"argument\": \"ev\", \"id\": \"8\", \"type\": \"procedure\", \"anndiffsource\": \"Cristiana\"}}, {\"type\": \"Event\", \"start\": 3336, \"end\": 3459, \"id\": 51301, \"features\": {\"anndiffstep\": \"0\", \"argument\": \"ev\", \"id\": \"5\", \"type\": \"procedure\", \"anndiffsource\": \"Cristiana\"}}, {\"type\": \"Event\", \"start\": 4035, \"end\": 4253, \"id\": 51302, \"features\": {\"anndiffstep\": \"0\", \"argument\": \"ev\", \"id\": \"6\", \"type\": \"procedure\", \"anndiffsource\": \"Cristiana\"}}, {\"type\": \"Event\", \"start\": 7172, \"end\": 7368, \"id\": 51303, \"features\": {\"anndiffstep\": \"0\", \"argument\": \"ev\", \"id\": \"13\", \"type\": \"procedure\", \"anndiffsource\": \"Cristiana\"}}, {\"type\": \"Event\", \"start\": 6782, \"end\": 6948, \"id\": 51304, \"features\": {\"anndiffstep\": \"0\", \"argument\": \"ev\", \"id\": \"11\", \"type\": \"procedure\", \"anndiffsource\": \"Cristiana\"}}, {\"type\": \"Event\", \"start\": 8556, \"end\": 8634, \"id\": 51305, \"features\": {\"anndiffstep\": \"0\", \"argument\": \"ev\", \"id\": \"18\", \"type\": \"procedure\", \"anndiffsource\": \"Cristiana\"}}, {\"type\": \"Event\", \"start\": 7893, \"end\": 7974, \"id\": 51306, \"features\": {\"anndiffstep\": \"0\", \"argument\": \"ev\", \"id\": \"15\", \"type\": \"procedure\", \"anndiffsource\": \"Cristiana\"}}, {\"type\": \"Event\", \"start\": 7980, \"end\": 8134, \"id\": 51307, \"features\": {\"anndiffstep\": \"0\", \"argument\": \"ev\", \"id\": \"16\", \"type\": \"procedure\", \"anndiffsource\": \"Cristiana\"}}, {\"type\": \"Event\", \"start\": 65286, \"end\": 66560, \"id\": 51308, \"features\": {\"anndiffstep\": \"0\", \"argument\": \"ev\", \"id\": \"22\", \"type\": \"procedure\", \"anndiffsource\": \"Cristiana\"}}, {\"type\": \"Event\", \"start\": 4259, \"end\": 4447, \"id\": 51309, \"features\": {\"anndiffstep\": \"0\", \"argument\": \"ev\", \"id\": \"7\", \"type\": \"procedure\", \"anndiffsource\": \"Cristiana\"}}, {\"type\": \"Event\", \"start\": 8874, \"end\": 9022, \"id\": 51310, \"features\": {\"anndiffstep\": \"0\", \"argument\": \"ev\", \"id\": \"19\", \"type\": \"procedure\", \"anndiffsource\": \"Cristiana\"}}, {\"type\": \"Event\", \"start\": 9318, \"end\": 9607, \"id\": 51311, \"features\": {\"anndiffstep\": \"0\", \"argument\": \"ev\", \"id\": \"21\", \"type\": \"procedure\", \"anndiffsource\": \"Cristiana\"}}, {\"type\": \"Event\", \"start\": 9028, \"end\": 9312, \"id\": 51312, \"features\": {\"anndiffstep\": \"0\", \"argument\": \"ev\", \"id\": \"20\", \"type\": \"procedure\", \"anndiffsource\": \"Cristiana\"}}, {\"type\": \"Event\", \"start\": 7369, \"end\": 7746, \"id\": 51313, \"features\": {\"anndiffstep\": \"0\", \"argument\": \"ev\", \"id\": \"14\", \"type\": \"procedure\", \"anndiffsource\": \"Cristiana\"}}, {\"type\": \"Event_what\", \"start\": 832, \"end\": 838, \"id\": 51314, \"features\": {\"anndiffstep\": \"1\", \"argument\": \"what\", \"id\": \"1\", \"anndiffsource\": \"Cristiana\"}}, {\"type\": \"Event_what\", \"start\": 2775, \"end\": 2797, \"id\": 51315, \"features\": {\"anndiffstep\": \"1\", \"argument\": \"what\", \"id\": \"4\", \"anndiffsource\": \"Cristiana\"}}, {\"type\": \"Event_what\", \"start\": 3371, \"end\": 3395, \"id\": 51316, \"features\": {\"anndiffstep\": \"1\", \"argument\": \"what\", \"id\": \"5\", \"anndiffsource\": \"Cristiana\"}}, {\"type\": \"Event_what\", \"start\": 4339, \"end\": 4361, \"id\": 51317, \"features\": {\"anndiffstep\": \"1\", \"argument\": \"what\", \"id\": \"7\", \"anndiffsource\": \"Cristiana\"}}, {\"type\": \"Event_what\", \"start\": 7942, \"end\": 7955, \"id\": 51318, \"features\": {\"anndiffstep\": \"1\", \"argument\": \"what\", \"id\": \"15\", \"anndiffsource\": \"Cristiana\"}}, {\"type\": \"Event_what\", \"start\": 8908, \"end\": 8929, \"id\": 51319, \"features\": {\"anndiffstep\": \"1\", \"argument\": \"what\", \"id\": \"19\", \"anndiffsource\": \"Cristiana\"}}, {\"type\": \"Event_what\", \"start\": 9365, \"end\": 9414, \"id\": 51320, \"features\": {\"anndiffstep\": \"1\", \"argument\": \"what\", \"id\": \"21\", \"anndiffsource\": \"Cristiana\"}}, {\"type\": \"Event_what\", \"start\": 9057, \"end\": 9094, \"id\": 51321, \"features\": {\"anndiffstep\": \"1\", \"argument\": \"what\", \"id\": \"20\", \"anndiffsource\": \"Cristiana\"}}, {\"type\": \"Event_what\", \"start\": 5011, \"end\": 5033, \"id\": 51322, \"features\": {\"anndiffstep\": \"1\", \"argument\": \"what\", \"id\": \"8\", \"anndiffsource\": \"Cristiana\"}}, {\"type\": \"Event_what\", \"start\": 6471, \"end\": 6489, \"id\": 51323, \"features\": {\"anndiffstep\": \"1\", \"argument\": \"what\", \"id\": \"10\", \"anndiffsource\": \"Cristiana\"}}, {\"type\": \"Event_what\", \"start\": 5513, \"end\": 5537, \"id\": 51324, \"features\": {\"anndiffstep\": \"1\", \"argument\": \"what\", \"id\": \"9\", \"anndiffsource\": \"Cristiana\"}}, {\"type\": \"Event_what\", \"start\": 6997, \"end\": 7010, \"id\": 51325, \"features\": {\"anndiffstep\": \"1\", \"argument\": \"what\", \"id\": \"12\", \"anndiffsource\": \"Cristiana\"}}, {\"type\": \"Event_what\", \"start\": 6811, \"end\": 6832, \"id\": 51326, \"features\": {\"anndiffstep\": \"1\", \"argument\": \"what\", \"id\": \"11\", \"anndiffsource\": \"Cristiana\"}}, {\"type\": \"Event_what\", \"start\": 7236, \"end\": 7257, \"id\": 51327, \"features\": {\"anndiffstep\": \"1\", \"argument\": \"what\", \"id\": \"13\", \"anndiffsource\": \"Cristiana\"}}], \"next_annid\": 51393}, \"Original markups\": {\"name\": \"detached-from:Original markups\", \"annotations\": [{\"type\": \"html\", \"start\": 0, \"end\": 66612, \"id\": 0, \"features\": {}}, {\"type\": \"head\", \"start\": 0, \"end\": 4, \"id\": 1, \"features\": {}}, {\"type\": \"meta\", \"start\": 0, \"end\": 0, \"id\": 2, \"features\": {\"name\": \"date\", \"isEmptyAndSpan\": \"true\", \"content\": \"2019-09-17T06:57:00Z\"}}, {\"type\": \"meta\", \"start\": 0, \"end\": 0, \"id\": 3, \"features\": {\"name\": \"cp:revision\", \"isEmptyAndSpan\": \"true\", \"content\": \"1\"}}, {\"type\": \"meta\", \"start\": 0, \"end\": 0, \"id\": 4, \"features\": {\"name\": \"extended-properties:AppVersion\", \"isEmptyAndSpan\": \"true\", \"content\": \"15.0000\"}}, {\"type\": \"meta\", \"start\": 0, \"end\": 0, \"id\": 5, \"features\": {\"name\": \"Category\", \"isEmptyAndSpan\": \"true\", \"content\": \"ECHR Template\"}}, {\"type\": \"meta\", \"start\": 0, \"end\": 0, \"id\": 6, \"features\": {\"name\": \"meta:paragraph-count\", \"isEmptyAndSpan\": \"true\", \"content\": \"137\"}}, {\"type\": \"meta\", \"start\": 0, \"end\": 0, \"id\": 7, \"features\": {\"name\": \"meta:word-count\", \"isEmptyAndSpan\": \"true\", \"content\": \"10294\"}}, {\"type\": \"meta\", \"start\": 0, \"end\": 0, \"id\": 8, \"features\": {\"name\": \"subject\", \"isEmptyAndSpan\": \"true\", \"content\": \"DJ\"}}, {\"type\": \"meta\", \"start\": 0, \"end\": 0, \"id\": 9, \"features\": {\"name\": \"extended-properties:Company\", \"isEmptyAndSpan\": \"true\"}}, {\"type\": \"meta\", \"start\": 0, \"end\": 0, \"id\": 10, \"features\": {\"name\": \"Word-Count\", \"isEmptyAndSpan\": \"true\", \"content\": \"10294\"}}, {\"type\": \"meta\", \"start\": 0, \"end\": 0, \"id\": 11, \"features\": {\"name\": \"dcterms:created\", \"isEmptyAndSpan\": \"true\", \"content\": \"2019-09-17T06:57:00Z\"}}, {\"type\": \"meta\", \"start\": 0, \"end\": 0, \"id\": 12, \"features\": {\"name\": \"meta:line-count\", \"isEmptyAndSpan\": \"true\", \"content\": \"489\"}}, {\"type\": \"meta\", \"start\": 0, \"end\": 0, \"id\": 13, \"features\": {\"name\": \"Last-Modified\", \"isEmptyAndSpan\": \"true\", \"content\": \"2019-09-17T06:57:00Z\"}}, {\"type\": \"meta\", \"start\": 0, \"end\": 0, \"id\": 14, \"features\": {\"name\": \"dcterms:modified\", \"isEmptyAndSpan\": \"true\", \"content\": \"2019-09-17T06:57:00Z\"}}, {\"type\": \"meta\", \"start\": 0, \"end\": 0, \"id\": 15, \"features\": {\"name\": \"Manager\", \"isEmptyAndSpan\": \"true\"}}, {\"type\": \"meta\", \"start\": 0, \"end\": 0, \"id\": 16, \"features\": {\"name\": \"Last-Save-Date\", \"isEmptyAndSpan\": \"true\", \"content\": \"2019-09-17T06:57:00Z\"}}, {\"type\": \"meta\", \"start\": 0, \"end\": 0, \"id\": 17, \"features\": {\"name\": \"meta:character-count\", \"isEmptyAndSpan\": \"true\", \"content\": \"58682\"}}, {\"type\": \"meta\", \"start\": 0, \"end\": 0, \"id\": 18, \"features\": {\"name\": \"Template\", \"isEmptyAndSpan\": \"true\", \"content\": \"Normal.dotm\"}}, {\"type\": \"meta\", \"start\": 0, \"end\": 0, \"id\": 19, \"features\": {\"name\": \"custom:CASEID\", \"isEmptyAndSpan\": \"true\", \"content\": \"557505\"}}, {\"type\": \"meta\", \"start\": 0, \"end\": 0, \"id\": 20, \"features\": {\"name\": \"Line-Count\", \"isEmptyAndSpan\": \"true\", \"content\": \"489\"}}, {\"type\": \"meta\", \"start\": 0, \"end\": 0, \"id\": 21, \"features\": {\"name\": \"Paragraph-Count\", \"isEmptyAndSpan\": \"true\", \"content\": \"137\"}}, {\"type\": \"meta\", \"start\": 0, \"end\": 0, \"id\": 22, \"features\": {\"name\": \"meta:save-date\", \"isEmptyAndSpan\": \"true\", \"content\": \"2019-09-17T06:57:00Z\"}}, {\"type\": \"meta\", \"start\": 0, \"end\": 0, \"id\": 23, \"features\": {\"name\": \"meta:character-count-with-spaces\", \"isEmptyAndSpan\": \"true\", \"content\": \"68839\"}}, {\"type\": \"meta\", \"start\": 0, \"end\": 0, \"id\": 24, \"features\": {\"name\": \"dc:title\", \"isEmptyAndSpan\": \"true\", \"content\": \"ECHR\"}}, {\"type\": \"meta\", \"start\": 0, \"end\": 0, \"id\": 25, \"features\": {\"name\": \"Application-Name\", \"isEmptyAndSpan\": \"true\", \"content\": \"Microsoft Office Word\"}}, {\"type\": \"meta\", \"start\": 0, \"end\": 0, \"id\": 26, \"features\": {\"name\": \"modified\", \"isEmptyAndSpan\": \"true\", \"content\": \"2019-09-17T06:57:00Z\"}}, {\"type\": \"meta\", \"start\": 0, \"end\": 0, \"id\": 27, \"features\": {\"name\": \"extended-properties:Manager\", \"isEmptyAndSpan\": \"true\"}}, {\"type\": \"meta\", \"start\": 0, \"end\": 0, \"id\": 28, \"features\": {\"name\": \"cp:subject\", \"isEmptyAndSpan\": \"true\", \"content\": \"DJ\"}}, {\"type\": \"meta\", \"start\": 0, \"end\": 0, \"id\": 29, \"features\": {\"name\": \"Content-Type\", \"isEmptyAndSpan\": \"true\", \"content\": \"application/vnd.openxmlformats-officedocument.wordprocessingml.document\"}}, {\"type\": \"meta\", \"start\": 0, \"end\": 0, \"id\": 30, \"features\": {\"name\": \"X-Parsed-By\", \"isEmptyAndSpan\": \"true\", \"content\": \"org.apache.tika.parser.microsoft.ooxml.OOXMLParser\"}}, {\"type\": \"meta\", \"start\": 0, \"end\": 0, \"id\": 31, \"features\": {\"name\": \"custom:cstLanguage\", \"isEmptyAndSpan\": \"true\", \"content\": \"2057\"}}, {\"type\": \"meta\", \"start\": 0, \"end\": 0, \"id\": 32, \"features\": {\"name\": \"custom:ContentTypeId\", \"isEmptyAndSpan\": \"true\", \"content\": \"0x010100558EB02BDB9E204AB350EDD385B68E10\"}}, {\"type\": \"meta\", \"start\": 0, \"end\": 0, \"id\": 33, \"features\": {\"name\": \"meta:creation-date\", \"isEmptyAndSpan\": \"true\", \"content\": \"2019-09-17T06:57:00Z\"}}, {\"type\": \"meta\", \"start\": 0, \"end\": 0, \"id\": 34, \"features\": {\"name\": \"extended-properties:Application\", \"isEmptyAndSpan\": \"true\", \"content\": \"Microsoft Office Word\"}}, {\"type\": \"meta\", \"start\": 0, \"end\": 0, \"id\": 35, \"features\": {\"name\": \"Creation-Date\", \"isEmptyAndSpan\": \"true\", \"content\": \"2019-09-17T06:57:00Z\"}}, {\"type\": \"meta\", \"start\": 0, \"end\": 0, \"id\": 36, \"features\": {\"name\": \"xmpTPg:NPages\", \"isEmptyAndSpan\": \"true\", \"content\": \"1\"}}, {\"type\": \"meta\", \"start\": 0, \"end\": 0, \"id\": 37, \"features\": {\"name\": \"resourceName\", \"isEmptyAndSpan\": \"true\", \"content\": \"CASE OF ALTAY v. TURKEY (No. 2).docx\"}}, {\"type\": \"meta\", \"start\": 0, \"end\": 0, \"id\": 38, \"features\": {\"name\": \"Character-Count-With-Spaces\", \"isEmptyAndSpan\": \"true\", \"content\": \"68839\"}}, {\"type\": \"meta\", \"start\": 0, \"end\": 0, \"id\": 39, \"features\": {\"name\": \"Character Count\", \"isEmptyAndSpan\": \"true\", \"content\": \"58682\"}}, {\"type\": \"meta\", \"start\": 0, \"end\": 0, \"id\": 40, \"features\": {\"name\": \"custom:RegisteredNo\", \"isEmptyAndSpan\": \"true\", \"content\": \"11236/09\"}}, {\"type\": \"meta\", \"start\": 0, \"end\": 0, \"id\": 41, \"features\": {\"name\": \"Page-Count\", \"isEmptyAndSpan\": \"true\", \"content\": \"1\"}}, {\"type\": \"meta\", \"start\": 0, \"end\": 0, \"id\": 42, \"features\": {\"name\": \"Revision-Number\", \"isEmptyAndSpan\": \"true\", \"content\": \"1\"}}, {\"type\": \"meta\", \"start\": 0, \"end\": 0, \"id\": 43, \"features\": {\"name\": \"Application-Version\", \"isEmptyAndSpan\": \"true\", \"content\": \"15.0000\"}}, {\"type\": \"meta\", \"start\": 0, \"end\": 0, \"id\": 44, \"features\": {\"name\": \"extended-properties:Template\", \"isEmptyAndSpan\": \"true\", \"content\": \"Normal.dotm\"}}, {\"type\": \"meta\", \"start\": 0, \"end\": 0, \"id\": 45, \"features\": {\"name\": \"publisher\", \"isEmptyAndSpan\": \"true\"}}, {\"type\": \"meta\", \"start\": 0, \"end\": 0, \"id\": 46, \"features\": {\"name\": \"cp:category\", \"isEmptyAndSpan\": \"true\", \"content\": \"ECHR Template\"}}, {\"type\": \"meta\", \"start\": 0, \"end\": 0, \"id\": 47, \"features\": {\"name\": \"meta:page-count\", \"isEmptyAndSpan\": \"true\", \"content\": \"1\"}}, {\"type\": \"meta\", \"start\": 0, \"end\": 0, \"id\": 48, \"features\": {\"name\": \"dc:publisher\", \"isEmptyAndSpan\": \"true\"}}, {\"type\": \"title\", \"start\": 0, \"end\": 4, \"id\": 49, \"features\": {}}, {\"type\": \"body\", \"start\": 5, \"end\": 66612, \"id\": 50, \"features\": {}}, {\"type\": \"p\", \"start\": 5, \"end\": 40, \"id\": 51, \"features\": {\"class\": \"eCHR_Header\"}}, {\"type\": \"p\", \"start\": 41, \"end\": 76, \"id\": 52, \"features\": {\"class\": \"eCHR_Header\"}}, {\"type\": \"p\", \"start\": 77, \"end\": 77, \"id\": 53, \"features\": {\"isEmptyAndSpan\": \"true\", \"class\": \"eCHR_Decision_Body\"}}, {\"type\": \"p\", \"start\": 77, \"end\": 77, \"id\": 54, \"features\": {\"isEmptyAndSpan\": \"true\", \"class\": \"eCHR_Decision_Body\"}}, {\"type\": \"p\", \"start\": 77, \"end\": 77, \"id\": 55, \"features\": {\"isEmptyAndSpan\": \"true\", \"class\": \"eCHR_Decision_Body\"}}, {\"type\": \"p\", \"start\": 77, \"end\": 91, \"id\": 56, \"features\": {}}, {\"type\": \"p\", \"start\": 92, \"end\": 92, \"id\": 57, \"features\": {\"isEmptyAndSpan\": \"true\"}}, {\"type\": \"p\", \"start\": 92, \"end\": 92, \"id\": 58, \"features\": {\"isEmptyAndSpan\": \"true\"}}, {\"type\": \"p\", \"start\": 92, \"end\": 92, \"id\": 59, \"features\": {\"isEmptyAndSpan\": \"true\"}}, {\"type\": \"p\", \"start\": 92, \"end\": 92, \"id\": 60, \"features\": {\"isEmptyAndSpan\": \"true\"}}, {\"type\": \"p\", \"start\": 92, \"end\": 92, \"id\": 61, \"features\": {\"isEmptyAndSpan\": \"true\"}}, {\"type\": \"p\", \"start\": 92, \"end\": 92, \"id\": 62, \"features\": {\"isEmptyAndSpan\": \"true\"}}, {\"type\": \"p\", \"start\": 92, \"end\": 122, \"id\": 63, \"features\": {}}, {\"type\": \"a\", \"start\": 92, \"end\": 92, \"id\": 64, \"features\": {\"name\": \"To\", \"isEmptyAndSpan\": \"true\"}}, {\"type\": \"b\", \"start\": 92, \"end\": 122, \"id\": 65, \"features\": {}}, {\"type\": \"p\", \"start\": 123, \"end\": 123, \"id\": 66, \"features\": {\"isEmptyAndSpan\": \"true\"}}, {\"type\": \"p\", \"start\": 123, \"end\": 149, \"id\": 67, \"features\": {}}, {\"type\": \"i\", \"start\": 123, \"end\": 149, \"id\": 68, \"features\": {}}, {\"type\": \"p\", \"start\": 150, \"end\": 150, \"id\": 69, \"features\": {\"isEmptyAndSpan\": \"true\"}}, {\"type\": \"p\", \"start\": 150, \"end\": 150, \"id\": 70, \"features\": {\"isEmptyAndSpan\": \"true\"}}, {\"type\": \"p\", \"start\": 150, \"end\": 150, \"id\": 71, \"features\": {\"isEmptyAndSpan\": \"true\"}}, {\"type\": \"p\", \"start\": 150, \"end\": 150, \"id\": 72, \"features\": {\"isEmptyAndSpan\": \"true\"}}, {\"type\": \"p\", \"start\": 150, \"end\": 150, \"id\": 73, \"features\": {\"isEmptyAndSpan\": \"true\"}}, {\"type\": \"p\", \"start\": 150, \"end\": 150, \"id\": 74, \"features\": {\"isEmptyAndSpan\": \"true\"}}, {\"type\": \"p\", \"start\": 150, \"end\": 158, \"id\": 75, \"features\": {\"class\": \"ju_Case\"}}, {\"type\": \"p\", \"start\": 159, \"end\": 159, \"id\": 76, \"features\": {\"isEmptyAndSpan\": \"true\"}}, {\"type\": \"p\", \"start\": 159, \"end\": 159, \"id\": 77, \"features\": {\"isEmptyAndSpan\": \"true\"}}, {\"type\": \"p\", \"start\": 159, \"end\": 159, \"id\": 78, \"features\": {\"isEmptyAndSpan\": \"true\"}}, {\"type\": \"p\", \"start\": 159, \"end\": 159, \"id\": 79, \"features\": {\"isEmptyAndSpan\": \"true\"}}, {\"type\": \"p\", \"start\": 159, \"end\": 159, \"id\": 80, \"features\": {\"isEmptyAndSpan\": \"true\", \"class\": \"ju_Case\"}}, {\"type\": \"p\", \"start\": 159, \"end\": 159, \"id\": 81, \"features\": {\"isEmptyAndSpan\": \"true\", \"class\": \"eCHR_Para\"}}, {\"type\": \"p\", \"start\": 159, \"end\": 159, \"id\": 82, \"features\": {\"isEmptyAndSpan\": \"true\", \"class\": \"ju_Case\"}}, {\"type\": \"p\", \"start\": 159, \"end\": 169, \"id\": 83, \"features\": {\"class\": \"ju_Case\"}}, {\"type\": \"p\", \"start\": 170, \"end\": 170, \"id\": 84, \"features\": {\"isEmptyAndSpan\": \"true\", \"class\": \"ju_Case\"}}, {\"type\": \"p\", \"start\": 170, \"end\": 182, \"id\": 85, \"features\": {\"class\": \"ju_Case\"}}, {\"type\": \"p\", \"start\": 183, \"end\": 183, \"id\": 86, \"features\": {\"isEmptyAndSpan\": \"true\", \"class\": \"ju_Case\"}}, {\"type\": \"p\", \"start\": 183, \"end\": 188, \"id\": 87, \"features\": {\"class\": \"jucase\"}}, {\"type\": \"p\", \"start\": 189, \"end\": 189, \"id\": 88, \"features\": {\"isEmptyAndSpan\": \"true\", \"class\": \"jupara\"}}, {\"type\": \"p\", \"start\": 189, \"end\": 199, \"id\": 89, \"features\": {\"class\": \"jupara\"}}, {\"type\": \"p\", \"start\": 200, \"end\": 200, \"id\": 90, \"features\": {\"isEmptyAndSpan\": \"true\", \"class\": \"jupara\"}}, {\"type\": \"p\", \"start\": 200, \"end\": 200, \"id\": 91, \"features\": {\"isEmptyAndSpan\": \"true\"}}, {\"type\": \"img\", \"start\": 200, \"end\": 200, \"id\": 92, \"features\": {\"alt\": \"R:\\\\1_Graphics&Web\\\\Court_Graphic_Charter\\\\2013\\\\ECHR_Stationery\\\\Documents_and_Letters\\\\Cover_Pages_And_Docs\\\\White_600_dpi\\\\ECHR_CoverpageCS61_ECHR_Coverpage_Header_Black.png\", \"isEmptyAndSpan\": \"true\", \"src\": \"embedded:image1.png\"}}, {\"type\": \"p\", \"start\": 200, \"end\": 200, \"id\": 93, \"features\": {\"isEmptyAndSpan\": \"true\", \"class\": \"header\"}}, {\"type\": \"p\", \"start\": 200, \"end\": 200, \"id\": 94, \"features\": {\"isEmptyAndSpan\": \"true\", \"class\": \"header\"}}, {\"type\": \"p\", \"start\": 200, \"end\": 311, \"id\": 95, \"features\": {\"class\": \"ju_Case\"}}, {\"type\": \"a\", \"start\": 200, \"end\": 200, \"id\": 96, \"features\": {\"name\": \"_GoBack\", \"isEmptyAndSpan\": \"true\"}}, {\"type\": \"i\", \"start\": 200, \"end\": 311, \"id\": 97, \"features\": {}}, {\"type\": \"p\", \"start\": 312, \"end\": 312, \"id\": 98, \"features\": {\"isEmptyAndSpan\": \"true\"}}, {\"type\": \"img\", \"start\": 312, \"end\": 312, \"id\": 99, \"features\": {\"alt\": \"R:\\\\1_Graphics&Web\\\\Court_Graphic_Charter\\\\2013\\\\ECHR_Stationery\\\\Documents_and_Letters\\\\Cover_Pages_And_Docs\\\\White_600_dpi\\\\ECHR_CoverpageCS61_ECHR_Coverpage_Footer_COE_Black.png\", \"isEmptyAndSpan\": \"true\", \"src\": \"embedded:image2.png\"}}, {\"type\": \"p\", \"start\": 312, \"end\": 312, \"id\": 100, \"features\": {\"isEmptyAndSpan\": \"true\", \"class\": \"footer\"}}, {\"type\": \"p\", \"start\": 312, \"end\": 351, \"id\": 101, \"features\": {\"class\": \"ju_Case\"}}, {\"type\": \"p\", \"start\": 352, \"end\": 438, \"id\": 102, \"features\": {\"class\": \"eCHR_Para\"}}, {\"type\": \"p\", \"start\": 439, \"end\": 620, \"id\": 103, \"features\": {\"class\": \"eCHR_Decision_Body\"}}, {\"type\": \"i\", \"start\": 453, \"end\": 465, \"id\": 104, \"features\": {}}, {\"type\": \"i\", \"start\": 479, \"end\": 480, \"id\": 105, \"features\": {}}, {\"type\": \"i\", \"start\": 496, \"end\": 497, \"id\": 106, \"features\": {}}, {\"type\": \"i\", \"start\": 524, \"end\": 525, \"id\": 107, \"features\": {}}, {\"type\": \"i\", \"start\": 538, \"end\": 539, \"id\": 108, \"features\": {}}, {\"type\": \"i\", \"start\": 556, \"end\": 557, \"id\": 109, \"features\": {}}, {\"type\": \"i\", \"start\": 571, \"end\": 580, \"id\": 110, \"features\": {}}, {\"type\": \"i\", \"start\": 602, \"end\": 620, \"id\": 111, \"features\": {}}, {\"type\": \"p\", \"start\": 621, \"end\": 668, \"id\": 112, \"features\": {\"class\": \"eCHR_Para\"}}, {\"type\": \"p\", \"start\": 669, \"end\": 733, \"id\": 113, \"features\": {\"class\": \"eCHR_Para\"}}, {\"type\": \"p\", \"start\": 734, \"end\": 743, \"id\": 114, \"features\": {\"class\": \"eCHR_Title_1\"}}, {\"type\": \"p\", \"start\": 744, \"end\": 1053, \"id\": 115, \"features\": {\"class\": \"eCHR_Para\"}}, {\"type\": \"p\", \"start\": 1054, \"end\": 1212, \"id\": 116, \"features\": {\"class\": \"eCHR_Para\"}}, {\"type\": \"p\", \"start\": 1213, \"end\": 1532, \"id\": 117, \"features\": {\"class\": \"eCHR_Para\"}}, {\"type\": \"p\", \"start\": 1533, \"end\": 1724, \"id\": 118, \"features\": {\"class\": \"eCHR_Para\"}}, {\"type\": \"p\", \"start\": 1725, \"end\": 1734, \"id\": 119, \"features\": {\"class\": \"eCHR_Title_1\"}}, {\"type\": \"p\", \"start\": 1735, \"end\": 1768, \"id\": 120, \"features\": {\"class\": \"eCHR_Heading_1\"}}, {\"type\": \"p\", \"start\": 1769, \"end\": 2055, \"id\": 121, \"features\": {\"class\": \"eCHR_Para\"}}, {\"type\": \"p\", \"start\": 2056, \"end\": 2220, \"id\": 122, \"features\": {\"class\": \"eCHR_Para\"}}, {\"type\": \"p\", \"start\": 2221, \"end\": 2723, \"id\": 123, \"features\": {\"class\": \"eCHR_Para\"}}, {\"type\": \"p\", \"start\": 2724, \"end\": 3331, \"id\": 124, \"features\": {\"class\": \"eCHR_Para\"}}, {\"type\": \"i\", \"start\": 2890, \"end\": 2919, \"id\": 125, \"features\": {}}, {\"type\": \"i\", \"start\": 2922, \"end\": 2950, \"id\": 126, \"features\": {}}, {\"type\": \"i\", \"start\": 2979, \"end\": 3009, \"id\": 127, \"features\": {}}, {\"type\": \"i\", \"start\": 3012, \"end\": 3036, \"id\": 128, \"features\": {}}, {\"type\": \"i\", \"start\": 3071, \"end\": 3102, \"id\": 129, \"features\": {}}, {\"type\": \"i\", \"start\": 3105, \"end\": 3133, \"id\": 130, \"features\": {}}, {\"type\": \"p\", \"start\": 3332, \"end\": 4029, \"id\": 131, \"features\": {\"class\": \"eCHR_Para\"}}, {\"type\": \"p\", \"start\": 4030, \"end\": 4253, \"id\": 132, \"features\": {\"class\": \"eCHR_Para\"}}, {\"type\": \"p\", \"start\": 4254, \"end\": 4748, \"id\": 133, \"features\": {\"class\": \"eCHR_Para\"}}, {\"type\": \"p\", \"start\": 4749, \"end\": 5474, \"id\": 134, \"features\": {\"class\": \"eCHR_Para\"}}, {\"type\": \"p\", \"start\": 5475, \"end\": 6422, \"id\": 135, \"features\": {\"class\": \"eCHR_Para\"}}, {\"type\": \"p\", \"start\": 6423, \"end\": 6724, \"id\": 136, \"features\": {\"class\": \"eCHR_Para\"}}, {\"type\": \"p\", \"start\": 6725, \"end\": 6776, \"id\": 137, \"features\": {\"class\": \"eCHR_Heading_2\"}}, {\"type\": \"p\", \"start\": 6777, \"end\": 6948, \"id\": 138, \"features\": {\"class\": \"eCHR_Para\"}}, {\"type\": \"p\", \"start\": 6949, \"end\": 7166, \"id\": 139, \"features\": {\"class\": \"eCHR_Para\"}}, {\"type\": \"p\", \"start\": 7167, \"end\": 7974, \"id\": 140, \"features\": {\"class\": \"eCHR_Para\"}}, {\"type\": \"p\", \"start\": 7975, \"end\": 8634, \"id\": 141, \"features\": {\"class\": \"eCHR_Para\"}}, {\"type\": \"p\", \"start\": 8635, \"end\": 8787, \"id\": 142, \"features\": {\"class\": \"eCHR_Para\"}}, {\"type\": \"p\", \"start\": 8788, \"end\": 8868, \"id\": 143, \"features\": {\"class\": \"eCHR_Heading_2\"}}, {\"type\": \"p\", \"start\": 8869, \"end\": 9022, \"id\": 144, \"features\": {\"class\": \"eCHR_Para\"}}, {\"type\": \"p\", \"start\": 9023, \"end\": 9312, \"id\": 145, \"features\": {\"class\": \"eCHR_Para\"}}, {\"type\": \"i\", \"start\": 9249, \"end\": 9275, \"id\": 146, \"features\": {}}, {\"type\": \"p\", \"start\": 9313, \"end\": 9926, \"id\": 147, \"features\": {\"class\": \"eCHR_Para\"}}, {\"type\": \"p\", \"start\": 9927, \"end\": 9957, \"id\": 148, \"features\": {\"class\": \"eCHR_Heading_1\"}}, {\"type\": \"p\", \"start\": 9958, \"end\": 9982, \"id\": 149, \"features\": {\"class\": \"eCHR_Heading_2\"}}, {\"type\": \"p\", \"start\": 9983, \"end\": 10100, \"id\": 150, \"features\": {\"class\": \"eCHR_Heading_3\"}}, {\"type\": \"p\", \"start\": 10101, \"end\": 10255, \"id\": 151, \"features\": {\"class\": \"eCHR_Para\"}}, {\"type\": \"p\", \"start\": 10256, \"end\": 10317, \"id\": 152, \"features\": {\"class\": \"eCHR_Title_Centre_3\"}}, {\"type\": \"p\", \"start\": 10318, \"end\": 10321, \"id\": 153, \"features\": {\"class\": \"eCHR_Para_Quote\"}}, {\"type\": \"p\", \"start\": 10322, \"end\": 10534, \"id\": 154, \"features\": {\"class\": \"eCHR_Para_Quote\"}}, {\"type\": \"p\", \"start\": 10535, \"end\": 10538, \"id\": 155, \"features\": {\"class\": \"eCHR_Para_Quote\"}}, {\"type\": \"p\", \"start\": 10539, \"end\": 11425, \"id\": 156, \"features\": {\"class\": \"eCHR_Para_Quote\"}}, {\"type\": \"p\", \"start\": 11426, \"end\": 11430, \"id\": 157, \"features\": {\"class\": \"eCHR_Para_Quote\"}}, {\"type\": \"p\", \"start\": 11431, \"end\": 11479, \"id\": 158, \"features\": {\"class\": \"eCHR_Title_Centre_3\"}}, {\"type\": \"p\", \"start\": 11480, \"end\": 11638, \"id\": 159, \"features\": {\"class\": \"eCHR_Para_Quote\"}}, {\"type\": \"p\", \"start\": 11639, \"end\": 11642, \"id\": 160, \"features\": {\"class\": \"eCHR_Para_Quote\"}}, {\"type\": \"p\", \"start\": 11643, \"end\": 11814, \"id\": 161, \"features\": {\"class\": \"eCHR_Para_Quote\"}}, {\"type\": \"p\", \"start\": 11815, \"end\": 11881, \"id\": 162, \"features\": {\"class\": \"eCHR_Title_Centre_3\"}}, {\"type\": \"p\", \"start\": 11882, \"end\": 12066, \"id\": 163, \"features\": {\"class\": \"eCHR_Para_Quote\"}}, {\"type\": \"p\", \"start\": 12067, \"end\": 12284, \"id\": 164, \"features\": {\"class\": \"eCHR_Para_Quote\"}}, {\"type\": \"p\", \"start\": 12285, \"end\": 12661, \"id\": 165, \"features\": {\"class\": \"eCHR_Para_Quote\"}}, {\"type\": \"p\", \"start\": 12662, \"end\": 12666, \"id\": 166, \"features\": {\"class\": \"eCHR_Para_Quote\"}}, {\"type\": \"p\", \"start\": 12667, \"end\": 12872, \"id\": 167, \"features\": {\"class\": \"eCHR_Para\"}}, {\"type\": \"p\", \"start\": 12873, \"end\": 12958, \"id\": 168, \"features\": {\"class\": \"eCHR_Heading_3\"}}, {\"type\": \"p\", \"start\": 12959, \"end\": 13637, \"id\": 169, \"features\": {\"class\": \"eCHR_Para\"}}, {\"type\": \"i\", \"start\": 13097, \"end\": 13107, \"id\": 170, \"features\": {}}, {\"type\": \"i\", \"start\": 13533, \"end\": 13549, \"id\": 171, \"features\": {}}, {\"type\": \"p\", \"start\": 13638, \"end\": 13934, \"id\": 172, \"features\": {\"class\": \"eCHR_Para\"}}, {\"type\": \"p\", \"start\": 13935, \"end\": 13946, \"id\": 173, \"features\": {\"class\": \"eCHR_Title_Centre_3\"}}, {\"type\": \"p\", \"start\": 13947, \"end\": 14165, \"id\": 174, \"features\": {\"class\": \"eCHR_Para_Quote\"}}, {\"type\": \"p\", \"start\": 14166, \"end\": 14177, \"id\": 175, \"features\": {\"class\": \"eCHR_Title_Centre_3\"}}, {\"type\": \"p\", \"start\": 14178, \"end\": 14412, \"id\": 176, \"features\": {\"class\": \"eCHR_Para_Quote\"}}, {\"type\": \"p\", \"start\": 14413, \"end\": 14548, \"id\": 177, \"features\": {\"class\": \"eCHR_Para_Quote\"}}, {\"type\": \"p\", \"start\": 14549, \"end\": 14552, \"id\": 178, \"features\": {\"class\": \"eCHR_Para_Quote\"}}, {\"type\": \"p\", \"start\": 14553, \"end\": 14628, \"id\": 179, \"features\": {\"class\": \"eCHR_Para_Quote\"}}, {\"type\": \"p\", \"start\": 14629, \"end\": 15675, \"id\": 180, \"features\": {\"class\": \"eCHR_Para\"}}, {\"type\": \"p\", \"start\": 15676, \"end\": 15782, \"id\": 181, \"features\": {\"class\": \"eCHR_Heading_3\"}}, {\"type\": \"p\", \"start\": 15783, \"end\": 16163, \"id\": 182, \"features\": {\"class\": \"eCHR_Para\"}}, {\"type\": \"b\", \"start\": 15786, \"end\": 15789, \"id\": 183, \"features\": {}}, {\"type\": \"i\", \"start\": 16088, \"end\": 16115, \"id\": 184, \"features\": {}}, {\"type\": \"p\", \"start\": 16164, \"end\": 16741, \"id\": 185, \"features\": {\"class\": \"eCHR_Para\"}}, {\"type\": \"i\", \"start\": 16184, \"end\": 16200, \"id\": 186, \"features\": {}}, {\"type\": \"i\", \"start\": 16669, \"end\": 16695, \"id\": 187, \"features\": {}}, {\"type\": \"p\", \"start\": 16742, \"end\": 16955, \"id\": 188, \"features\": {\"class\": \"eCHR_Para\"}}, {\"type\": \"p\", \"start\": 16956, \"end\": 16982, \"id\": 189, \"features\": {\"class\": \"eCHR_Heading_3\"}}, {\"type\": \"p\", \"start\": 16983, \"end\": 17297, \"id\": 190, \"features\": {\"class\": \"eCHR_Para\"}}, {\"type\": \"i\", \"start\": 17116, \"end\": 17132, \"id\": 191, \"features\": {}}, {\"type\": \"p\", \"start\": 17298, \"end\": 17307, \"id\": 192, \"features\": {\"class\": \"eCHR_Title_Centre_3\"}}, {\"type\": \"p\", \"start\": 17308, \"end\": 17312, \"id\": 193, \"features\": {\"class\": \"eCHR_Para_Quote\"}}, {\"type\": \"p\", \"start\": 17313, \"end\": 17531, \"id\": 194, \"features\": {\"class\": \"eCHR_Para_Quote\"}}, {\"type\": \"p\", \"start\": 17532, \"end\": 17536, \"id\": 195, \"features\": {\"class\": \"eCHR_Para_Quote\"}}, {\"type\": \"p\", \"start\": 17537, \"end\": 17581, \"id\": 196, \"features\": {\"class\": \"eCHR_Heading_2\"}}, {\"type\": \"p\", \"start\": 17582, \"end\": 17603, \"id\": 197, \"features\": {\"class\": \"eCHR_Heading_3\"}}, {\"type\": \"p\", \"start\": 17604, \"end\": 17860, \"id\": 198, \"features\": {\"class\": \"eCHR_Para\"}}, {\"type\": \"a\", \"start\": 17604, \"end\": 17604, \"id\": 199, \"features\": {\"name\": \"HIT4\", \"isEmptyAndSpan\": \"true\"}}, {\"type\": \"a\", \"start\": 17604, \"end\": 17604, \"id\": 200, \"features\": {\"name\": \"HIT5\", \"isEmptyAndSpan\": \"true\"}}, {\"type\": \"a\", \"start\": 17604, \"end\": 17604, \"id\": 201, \"features\": {\"name\": \"HIT6\", \"isEmptyAndSpan\": \"true\"}}, {\"type\": \"p\", \"start\": 17861, \"end\": 17873, \"id\": 202, \"features\": {\"class\": \"eCHR_Para_Quote\"}}, {\"type\": \"p\", \"start\": 17874, \"end\": 18032, \"id\": 203, \"features\": {\"class\": \"eCHR_Para_Quote\"}}, {\"type\": \"p\", \"start\": 18033, \"end\": 18144, \"id\": 204, \"features\": {\"class\": \"eCHR_Para_Quote\"}}, {\"type\": \"p\", \"start\": 18145, \"end\": 18265, \"id\": 205, \"features\": {\"class\": \"eCHR_Para_Quote\"}}, {\"type\": \"p\", \"start\": 18266, \"end\": 18421, \"id\": 206, \"features\": {\"class\": \"eCHR_Para_Quote\"}}, {\"type\": \"p\", \"start\": 18422, \"end\": 18602, \"id\": 207, \"features\": {\"class\": \"eCHR_Para_Quote\"}}, {\"type\": \"p\", \"start\": 18603, \"end\": 18731, \"id\": 208, \"features\": {\"class\": \"eCHR_Para_Quote\"}}, {\"type\": \"p\", \"start\": 18732, \"end\": 18958, \"id\": 209, \"features\": {\"class\": \"eCHR_Para\"}}, {\"type\": \"p\", \"start\": 18959, \"end\": 18971, \"id\": 210, \"features\": {\"class\": \"eCHR_Title_Centre_3\"}}, {\"type\": \"p\", \"start\": 18972, \"end\": 19077, \"id\": 211, \"features\": {\"class\": \"eCHR_Para_Quote\"}}, {\"type\": \"p\", \"start\": 19078, \"end\": 19200, \"id\": 212, \"features\": {\"class\": \"eCHR_Para_Quote\"}}, {\"type\": \"p\", \"start\": 19201, \"end\": 19609, \"id\": 213, \"features\": {\"class\": \"eCHR_Para_Quote\"}}, {\"type\": \"p\", \"start\": 19610, \"end\": 19766, \"id\": 214, \"features\": {\"class\": \"eCHR_Para_Quote\"}}, {\"type\": \"p\", \"start\": 19767, \"end\": 20026, \"id\": 215, \"features\": {\"class\": \"eCHR_Para_Quote\"}}, {\"type\": \"p\", \"start\": 20027, \"end\": 20261, \"id\": 216, \"features\": {\"class\": \"eCHR_Para\"}}, {\"type\": \"p\", \"start\": 20262, \"end\": 20610, \"id\": 217, \"features\": {\"class\": \"eCHR_Para_Quote\"}}, {\"type\": \"p\", \"start\": 20611, \"end\": 21091, \"id\": 218, \"features\": {\"class\": \"eCHR_Para_Quote\"}}, {\"type\": \"p\", \"start\": 21092, \"end\": 21095, \"id\": 219, \"features\": {\"class\": \"eCHR_Para_Quote\"}}, {\"type\": \"p\", \"start\": 21096, \"end\": 21274, \"id\": 220, \"features\": {\"class\": \"eCHR_Para_Quote\"}}, {\"type\": \"p\", \"start\": 21275, \"end\": 21282, \"id\": 221, \"features\": {\"class\": \"eCHR_Title_1\"}}, {\"type\": \"p\", \"start\": 21283, \"end\": 21335, \"id\": 222, \"features\": {\"class\": \"eCHR_Heading_1\"}}, {\"type\": \"p\", \"start\": 21336, \"end\": 21608, \"id\": 223, \"features\": {\"class\": \"eCHR_Para\"}}, {\"type\": \"p\", \"start\": 21609, \"end\": 21707, \"id\": 224, \"features\": {\"class\": \"eCHR_Para_Quote\"}}, {\"type\": \"p\", \"start\": 21708, \"end\": 22120, \"id\": 225, \"features\": {\"class\": \"eCHR_Para_Quote\"}}, {\"type\": \"p\", \"start\": 22121, \"end\": 22165, \"id\": 226, \"features\": {\"class\": \"eCHR_Para\"}}, {\"type\": \"p\", \"start\": 22166, \"end\": 22183, \"id\": 227, \"features\": {\"class\": \"eCHR_Heading_2\"}}, {\"type\": \"p\", \"start\": 22184, \"end\": 23308, \"id\": 228, \"features\": {\"class\": \"eCHR_Para\"}}, {\"type\": \"p\", \"start\": 23309, \"end\": 23969, \"id\": 229, \"features\": {\"class\": \"eCHR_Para\"}}, {\"type\": \"p\", \"start\": 23970, \"end\": 24842, \"id\": 230, \"features\": {\"class\": \"eCHR_Para\"}}, {\"type\": \"i\", \"start\": 24727, \"end\": 24758, \"id\": 231, \"features\": {}}, {\"type\": \"p\", \"start\": 24843, \"end\": 26300, \"id\": 232, \"features\": {\"class\": \"eCHR_Para\"}}, {\"type\": \"i\", \"start\": 24947, \"end\": 24957, \"id\": 233, \"features\": {}}, {\"type\": \"p\", \"start\": 26301, \"end\": 26535, \"id\": 234, \"features\": {\"class\": \"eCHR_Para\"}}, {\"type\": \"p\", \"start\": 26536, \"end\": 26546, \"id\": 235, \"features\": {\"class\": \"eCHR_Heading_2\"}}, {\"type\": \"p\", \"start\": 26547, \"end\": 26575, \"id\": 236, \"features\": {\"class\": \"eCHR_Heading_3\"}}, {\"type\": \"p\", \"start\": 26576, \"end\": 26594, \"id\": 237, \"features\": {\"class\": \"eCHR_Heading_4\"}}, {\"type\": \"p\", \"start\": 26595, \"end\": 27169, \"id\": 238, \"features\": {\"class\": \"eCHR_Para\"}}, {\"type\": \"p\", \"start\": 27170, \"end\": 29149, \"id\": 239, \"features\": {\"class\": \"eCHR_Para\"}}, {\"type\": \"p\", \"start\": 29150, \"end\": 29590, \"id\": 240, \"features\": {\"class\": \"eCHR_Para\"}}, {\"type\": \"p\", \"start\": 29591, \"end\": 29610, \"id\": 241, \"features\": {\"class\": \"eCHR_Heading_4\"}}, {\"type\": \"p\", \"start\": 29611, \"end\": 30229, \"id\": 242, \"features\": {\"class\": \"eCHR_Para\"}}, {\"type\": \"p\", \"start\": 30230, \"end\": 31484, \"id\": 243, \"features\": {\"class\": \"eCHR_Para\"}}, {\"type\": \"p\", \"start\": 31485, \"end\": 31511, \"id\": 244, \"features\": {\"class\": \"eCHR_Heading_3\"}}, {\"type\": \"p\", \"start\": 31512, \"end\": 31601, \"id\": 245, \"features\": {\"class\": \"eCHR_Heading_4\"}}, {\"type\": \"p\", \"start\": 31602, \"end\": 32895, \"id\": 246, \"features\": {\"class\": \"eCHR_Para\"}}, {\"type\": \"i\", \"start\": 32010, \"end\": 32045, \"id\": 247, \"features\": {}}, {\"type\": \"i\", \"start\": 32354, \"end\": 32383, \"id\": 248, \"features\": {}}, {\"type\": \"i\", \"start\": 32456, \"end\": 32478, \"id\": 249, \"features\": {}}, {\"type\": \"i\", \"start\": 32765, \"end\": 32787, \"id\": 250, \"features\": {}}, {\"type\": \"i\", \"start\": 32841, \"end\": 32872, \"id\": 251, \"features\": {}}, {\"type\": \"p\", \"start\": 32896, \"end\": 33709, \"id\": 252, \"features\": {\"class\": \"eCHR_Para\"}}, {\"type\": \"i\", \"start\": 33675, \"end\": 33686, \"id\": 253, \"features\": {}}, {\"type\": \"p\", \"start\": 33710, \"end\": 35428, \"id\": 254, \"features\": {\"class\": \"eCHR_Para\"}}, {\"type\": \"i\", \"start\": 34479, \"end\": 34500, \"id\": 255, \"features\": {}}, {\"type\": \"i\", \"start\": 34699, \"end\": 34714, \"id\": 256, \"features\": {}}, {\"type\": \"p\", \"start\": 35429, \"end\": 36940, \"id\": 257, \"features\": {\"class\": \"eCHR_Para\"}}, {\"type\": \"i\", \"start\": 35738, \"end\": 35768, \"id\": 258, \"features\": {}}, {\"type\": \"i\", \"start\": 36014, \"end\": 36031, \"id\": 259, \"features\": {}}, {\"type\": \"i\", \"start\": 36088, \"end\": 36120, \"id\": 260, \"features\": {}}, {\"type\": \"i\", \"start\": 36143, \"end\": 36159, \"id\": 261, \"features\": {}}, {\"type\": \"p\", \"start\": 36941, \"end\": 37914, \"id\": 262, \"features\": {\"class\": \"eCHR_Para\"}}, {\"type\": \"i\", \"start\": 37107, \"end\": 37115, \"id\": 263, \"features\": {}}, {\"type\": \"i\", \"start\": 37315, \"end\": 37323, \"id\": 264, \"features\": {}}, {\"type\": \"i\", \"start\": 37681, \"end\": 37691, \"id\": 265, \"features\": {}}, {\"type\": \"p\", \"start\": 37915, \"end\": 39487, \"id\": 266, \"features\": {\"class\": \"eCHR_Para\"}}, {\"type\": \"i\", \"start\": 39397, \"end\": 39421, \"id\": 267, \"features\": {}}, {\"type\": \"p\", \"start\": 39488, \"end\": 39548, \"id\": 268, \"features\": {\"class\": \"eCHR_Heading_4\"}}, {\"type\": \"p\", \"start\": 39549, \"end\": 40310, \"id\": 269, \"features\": {\"class\": \"eCHR_Para\"}}, {\"type\": \"p\", \"start\": 40311, \"end\": 41031, \"id\": 270, \"features\": {\"class\": \"eCHR_Para\"}}, {\"type\": \"i\", \"start\": 40686, \"end\": 40707, \"id\": 271, \"features\": {}}, {\"type\": \"p\", \"start\": 41032, \"end\": 41744, \"id\": 272, \"features\": {\"class\": \"eCHR_Para\"}}, {\"type\": \"i\", \"start\": 41414, \"end\": 41435, \"id\": 273, \"features\": {}}, {\"type\": \"i\", \"start\": 41678, \"end\": 41698, \"id\": 274, \"features\": {}}, {\"type\": \"p\", \"start\": 41745, \"end\": 42494, \"id\": 275, \"features\": {\"class\": \"eCHR_Para\"}}, {\"type\": \"i\", \"start\": 42352, \"end\": 42368, \"id\": 276, \"features\": {}}, {\"type\": \"i\", \"start\": 42371, \"end\": 42398, \"id\": 277, \"features\": {}}, {\"type\": \"i\", \"start\": 42439, \"end\": 42456, \"id\": 278, \"features\": {}}, {\"type\": \"p\", \"start\": 42495, \"end\": 44670, \"id\": 279, \"features\": {\"class\": \"eCHR_Para\"}}, {\"type\": \"p\", \"start\": 44671, \"end\": 44890, \"id\": 280, \"features\": {\"class\": \"eCHR_Para\"}}, {\"type\": \"p\", \"start\": 44891, \"end\": 45079, \"id\": 281, \"features\": {\"class\": \"eCHR_Para\"}}, {\"type\": \"p\", \"start\": 45080, \"end\": 45137, \"id\": 282, \"features\": {\"class\": \"eCHR_Heading_1\"}}, {\"type\": \"p\", \"start\": 45138, \"end\": 45789, \"id\": 283, \"features\": {\"class\": \"eCHR_Para\"}}, {\"type\": \"p\", \"start\": 45790, \"end\": 45868, \"id\": 284, \"features\": {\"class\": \"eCHR_Para\"}}, {\"type\": \"p\", \"start\": 45869, \"end\": 46106, \"id\": 285, \"features\": {\"class\": \"eCHR_Para_Quote\"}}, {\"type\": \"p\", \"start\": 46107, \"end\": 46124, \"id\": 286, \"features\": {\"class\": \"eCHR_Heading_2\"}}, {\"type\": \"p\", \"start\": 46125, \"end\": 47019, \"id\": 287, \"features\": {\"class\": \"eCHR_Para\"}}, {\"type\": \"p\", \"start\": 47020, \"end\": 47109, \"id\": 288, \"features\": {\"class\": \"eCHR_Para\"}}, {\"type\": \"p\", \"start\": 47110, \"end\": 47892, \"id\": 289, \"features\": {\"class\": \"eCHR_Para\"}}, {\"type\": \"p\", \"start\": 47893, \"end\": 48994, \"id\": 290, \"features\": {\"class\": \"eCHR_Para\"}}, {\"type\": \"i\", \"start\": 48025, \"end\": 48037, \"id\": 291, \"features\": {}}, {\"type\": \"i\", \"start\": 48589, \"end\": 48599, \"id\": 292, \"features\": {}}, {\"type\": \"i\", \"start\": 48602, \"end\": 48612, \"id\": 293, \"features\": {}}, {\"type\": \"i\", \"start\": 48939, \"end\": 48956, \"id\": 294, \"features\": {}}, {\"type\": \"p\", \"start\": 48995, \"end\": 49407, \"id\": 295, \"features\": {\"class\": \"eCHR_Para\"}}, {\"type\": \"i\", \"start\": 49296, \"end\": 49308, \"id\": 296, \"features\": {}}, {\"type\": \"p\", \"start\": 49408, \"end\": 50012, \"id\": 297, \"features\": {\"class\": \"eCHR_Para\"}}, {\"type\": \"i\", \"start\": 49948, \"end\": 49966, \"id\": 298, \"features\": {}}, {\"type\": \"p\", \"start\": 50013, \"end\": 50823, \"id\": 299, \"features\": {\"class\": \"eCHR_Para\"}}, {\"type\": \"i\", \"start\": 50339, \"end\": 50349, \"id\": 300, \"features\": {}}, {\"type\": \"i\", \"start\": 50389, \"end\": 50406, \"id\": 301, \"features\": {}}, {\"type\": \"i\", \"start\": 50714, \"end\": 50727, \"id\": 302, \"features\": {}}, {\"type\": \"i\", \"start\": 50769, \"end\": 50784, \"id\": 303, \"features\": {}}, {\"type\": \"p\", \"start\": 50824, \"end\": 51732, \"id\": 304, \"features\": {\"class\": \"eCHR_Para\"}}, {\"type\": \"p\", \"start\": 51733, \"end\": 51849, \"id\": 305, \"features\": {\"class\": \"eCHR_Para\"}}, {\"type\": \"p\", \"start\": 51850, \"end\": 52085, \"id\": 306, \"features\": {\"class\": \"eCHR_Para\"}}, {\"type\": \"p\", \"start\": 52086, \"end\": 52096, \"id\": 307, \"features\": {\"class\": \"eCHR_Heading_2\"}}, {\"type\": \"p\", \"start\": 52097, \"end\": 52127, \"id\": 308, \"features\": {\"class\": \"eCHR_Heading_3\"}}, {\"type\": \"p\", \"start\": 52128, \"end\": 52193, \"id\": 309, \"features\": {\"class\": \"eCHR_Para\"}}, {\"type\": \"p\", \"start\": 52194, \"end\": 53462, \"id\": 310, \"features\": {\"class\": \"eCHR_Para\"}}, {\"type\": \"p\", \"start\": 53463, \"end\": 53656, \"id\": 311, \"features\": {\"class\": \"eCHR_Para\"}}, {\"type\": \"p\", \"start\": 53657, \"end\": 53683, \"id\": 312, \"features\": {\"class\": \"eCHR_Heading_3\"}}, {\"type\": \"p\", \"start\": 53684, \"end\": 54639, \"id\": 313, \"features\": {\"class\": \"eCHR_Para\"}}, {\"type\": \"i\", \"start\": 53846, \"end\": 53864, \"id\": 314, \"features\": {}}, {\"type\": \"i\", \"start\": 54189, \"end\": 54202, \"id\": 315, \"features\": {}}, {\"type\": \"i\", \"start\": 54583, \"end\": 54602, \"id\": 316, \"features\": {}}, {\"type\": \"p\", \"start\": 54640, \"end\": 54978, \"id\": 317, \"features\": {\"class\": \"eCHR_Para\"}}, {\"type\": \"i\", \"start\": 54648, \"end\": 54688, \"id\": 318, \"features\": {}}, {\"type\": \"p\", \"start\": 54979, \"end\": 55285, \"id\": 319, \"features\": {\"class\": \"eCHR_Para_Quote\"}}, {\"type\": \"i\", \"start\": 55165, \"end\": 55179, \"id\": 320, \"features\": {}}, {\"type\": \"i\", \"start\": 55224, \"end\": 55244, \"id\": 321, \"features\": {}}, {\"type\": \"p\", \"start\": 55286, \"end\": 55678, \"id\": 322, \"features\": {\"class\": \"eCHR_Para_Quote\"}}, {\"type\": \"i\", \"start\": 55350, \"end\": 55375, \"id\": 323, \"features\": {}}, {\"type\": \"i\", \"start\": 55409, \"end\": 55416, \"id\": 324, \"features\": {}}, {\"type\": \"i\", \"start\": 55429, \"end\": 55457, \"id\": 325, \"features\": {}}, {\"type\": \"i\", \"start\": 55552, \"end\": 55579, \"id\": 326, \"features\": {}}, {\"type\": \"i\", \"start\": 55621, \"end\": 55637, \"id\": 327, \"features\": {}}, {\"type\": \"p\", \"start\": 55679, \"end\": 56278, \"id\": 328, \"features\": {\"class\": \"eCHR_Para_Quote\"}}, {\"type\": \"i\", \"start\": 56218, \"end\": 56234, \"id\": 329, \"features\": {}}, {\"type\": \"i\", \"start\": 56247, \"end\": 56251, \"id\": 330, \"features\": {}}, {\"type\": \"p\", \"start\": 56279, \"end\": 56372, \"id\": 331, \"features\": {\"class\": \"eCHR_Para_Quote\"}}, {\"type\": \"p\", \"start\": 56373, \"end\": 56549, \"id\": 332, \"features\": {\"class\": \"eCHR_Para_Quote\"}}, {\"type\": \"i\", \"start\": 56479, \"end\": 56508, \"id\": 333, \"features\": {}}, {\"type\": \"p\", \"start\": 56550, \"end\": 56877, \"id\": 334, \"features\": {\"class\": \"eCHR_Para_Quote\"}}, {\"type\": \"i\", \"start\": 56753, \"end\": 56756, \"id\": 335, \"features\": {}}, {\"type\": \"i\", \"start\": 56778, \"end\": 56784, \"id\": 336, \"features\": {}}, {\"type\": \"i\", \"start\": 56818, \"end\": 56837, \"id\": 337, \"features\": {}}, {\"type\": \"p\", \"start\": 56878, \"end\": 57121, \"id\": 338, \"features\": {\"class\": \"eCHR_Para_Quote\"}}, {\"type\": \"i\", \"start\": 56948, \"end\": 56958, \"id\": 339, \"features\": {}}, {\"type\": \"i\", \"start\": 56986, \"end\": 57002, \"id\": 340, \"features\": {}}, {\"type\": \"i\", \"start\": 57060, \"end\": 57079, \"id\": 341, \"features\": {}}, {\"type\": \"p\", \"start\": 57122, \"end\": 57942, \"id\": 342, \"features\": {\"class\": \"eCHR_Para\"}}, {\"type\": \"i\", \"start\": 57561, \"end\": 57579, \"id\": 343, \"features\": {}}, {\"type\": \"i\", \"start\": 57855, \"end\": 57895, \"id\": 344, \"features\": {}}, {\"type\": \"p\", \"start\": 57943, \"end\": 58776, \"id\": 345, \"features\": {\"class\": \"eCHR_Para\"}}, {\"type\": \"i\", \"start\": 58422, \"end\": 58438, \"id\": 346, \"features\": {}}, {\"type\": \"i\", \"start\": 58440, \"end\": 58457, \"id\": 347, \"features\": {}}, {\"type\": \"i\", \"start\": 58698, \"end\": 58714, \"id\": 348, \"features\": {}}, {\"type\": \"i\", \"start\": 58716, \"end\": 58735, \"id\": 349, \"features\": {}}, {\"type\": \"p\", \"start\": 58777, \"end\": 60277, \"id\": 350, \"features\": {\"class\": \"eCHR_Para\"}}, {\"type\": \"i\", \"start\": 60101, \"end\": 60105, \"id\": 351, \"features\": {}}, {\"type\": \"p\", \"start\": 60278, \"end\": 60567, \"id\": 352, \"features\": {\"class\": \"eCHR_Para\"}}, {\"type\": \"p\", \"start\": 60568, \"end\": 62083, \"id\": 353, \"features\": {\"class\": \"eCHR_Para\"}}, {\"type\": \"p\", \"start\": 62084, \"end\": 62601, \"id\": 354, \"features\": {\"class\": \"eCHR_Para\"}}, {\"type\": \"p\", \"start\": 62602, \"end\": 62726, \"id\": 355, \"features\": {\"class\": \"eCHR_Para\"}}, {\"type\": \"p\", \"start\": 62727, \"end\": 63143, \"id\": 356, \"features\": {\"class\": \"eCHR_Para\"}}, {\"type\": \"i\", \"start\": 63074, \"end\": 63120, \"id\": 357, \"features\": {}}, {\"type\": \"p\", \"start\": 63144, \"end\": 63144, \"id\": 358, \"features\": {\"isEmptyAndSpan\": \"true\", \"class\": \"eCHR_Para\"}}, {\"type\": \"p\", \"start\": 63144, \"end\": 63193, \"id\": 359, \"features\": {\"class\": \"eCHR_Heading_1\"}}, {\"type\": \"p\", \"start\": 63194, \"end\": 63237, \"id\": 360, \"features\": {\"class\": \"eCHR_Para\"}}, {\"type\": \"p\", \"start\": 63238, \"end\": 63519, \"id\": 361, \"features\": {\"class\": \"eCHR_Para_Quote\"}}, {\"type\": \"p\", \"start\": 63520, \"end\": 63890, \"id\": 362, \"features\": {\"class\": \"eCHR_Para\"}}, {\"type\": \"p\", \"start\": 63891, \"end\": 63978, \"id\": 363, \"features\": {\"class\": \"eCHR_Para\"}}, {\"type\": \"p\", \"start\": 63979, \"end\": 64090, \"id\": 364, \"features\": {\"class\": \"eCHR_Para\"}}, {\"type\": \"p\", \"start\": 64091, \"end\": 64903, \"id\": 365, \"features\": {\"class\": \"eCHR_Para\"}}, {\"type\": \"i\", \"start\": 64369, \"end\": 64389, \"id\": 366, \"features\": {}}, {\"type\": \"i\", \"start\": 64592, \"end\": 64627, \"id\": 367, \"features\": {}}, {\"type\": \"p\", \"start\": 64904, \"end\": 65089, \"id\": 368, \"features\": {\"class\": \"eCHR_Para\"}}, {\"type\": \"p\", \"start\": 65090, \"end\": 65285, \"id\": 369, \"features\": {\"class\": \"eCHR_Para\"}}, {\"type\": \"p\", \"start\": 65286, \"end\": 65328, \"id\": 370, \"features\": {\"class\": \"eCHR_Title_1\"}}, {\"type\": \"p\", \"start\": 65329, \"end\": 65370, \"id\": 371, \"features\": {\"class\": \"ju_List\"}}, {\"type\": \"i\", \"start\": 65334, \"end\": 65342, \"id\": 372, \"features\": {}}, {\"type\": \"p\", \"start\": 65371, \"end\": 65371, \"id\": 373, \"features\": {\"isEmptyAndSpan\": \"true\", \"class\": \"ju_List\"}}, {\"type\": \"p\", \"start\": 65371, \"end\": 65445, \"id\": 374, \"features\": {\"class\": \"ju_List\"}}, {\"type\": \"i\", \"start\": 65376, \"end\": 65381, \"id\": 375, \"features\": {}}, {\"type\": \"p\", \"start\": 65446, \"end\": 65446, \"id\": 376, \"features\": {\"isEmptyAndSpan\": \"true\", \"class\": \"ju_List\"}}, {\"type\": \"p\", \"start\": 65446, \"end\": 65600, \"id\": 377, \"features\": {\"class\": \"ju_List\"}}, {\"type\": \"i\", \"start\": 65451, \"end\": 65456, \"id\": 378, \"features\": {}}, {\"type\": \"p\", \"start\": 65601, \"end\": 65601, \"id\": 379, \"features\": {\"isEmptyAndSpan\": \"true\", \"class\": \"ju_List\"}}, {\"type\": \"p\", \"start\": 65601, \"end\": 65708, \"id\": 380, \"features\": {\"class\": \"ju_List\"}}, {\"type\": \"i\", \"start\": 65606, \"end\": 65611, \"id\": 381, \"features\": {}}, {\"type\": \"p\", \"start\": 65709, \"end\": 65709, \"id\": 382, \"features\": {\"isEmptyAndSpan\": \"true\", \"class\": \"ju_List\"}}, {\"type\": \"p\", \"start\": 65709, \"end\": 65719, \"id\": 383, \"features\": {\"class\": \"ju_List\"}}, {\"type\": \"i\", \"start\": 65714, \"end\": 65719, \"id\": 384, \"features\": {}}, {\"type\": \"p\", \"start\": 65720, \"end\": 66109, \"id\": 385, \"features\": {\"class\": \"ju_List_a\"}}, {\"type\": \"b\", \"start\": 65929, \"end\": 65930, \"id\": 386, \"features\": {}}, {\"type\": \"p\", \"start\": 66110, \"end\": 66110, \"id\": 387, \"features\": {\"isEmptyAndSpan\": \"true\", \"class\": \"ju_List_a\"}}, {\"type\": \"p\", \"start\": 66110, \"end\": 66371, \"id\": 388, \"features\": {\"class\": \"ju_List_a\"}}, {\"type\": \"p\", \"start\": 66372, \"end\": 66372, \"id\": 389, \"features\": {\"isEmptyAndSpan\": \"true\", \"class\": \"ju_List\"}}, {\"type\": \"p\", \"start\": 66372, \"end\": 66448, \"id\": 390, \"features\": {\"class\": \"ju_List\"}}, {\"type\": \"i\", \"start\": 66377, \"end\": 66386, \"id\": 391, \"features\": {}}, {\"type\": \"p\", \"start\": 66449, \"end\": 66560, \"id\": 392, \"features\": {\"class\": \"ju_Para_Last\"}}, {\"type\": \"p\", \"start\": 66561, \"end\": 66612, \"id\": 393, \"features\": {\"class\": \"ju_Signed\"}}, {\"type\": \"p\", \"start\": 66613, \"end\": 66613, \"id\": 394, \"features\": {\"isEmptyAndSpan\": \"true\", \"class\": \"ju_Para_Last\"}}], \"next_annid\": 395}, \"Cristiana\": {\"name\": \"detached-from:Cristiana\", \"annotations\": [{\"type\": \"Event_what\", \"start\": 8908, \"end\": 8929, \"id\": 27136, \"features\": {\"anndiffstep\": \"1\", \"argument\": \"what\", \"id\": \"19\"}}, {\"type\": \"Event_what\", \"start\": 9057, \"end\": 9094, \"id\": 27137, \"features\": {\"anndiffstep\": \"1\", \"argument\": \"what\", \"id\": \"20\"}}, {\"type\": \"Event_what\", \"start\": 9365, \"end\": 9414, \"id\": 27138, \"features\": {\"anndiffstep\": \"1\", \"argument\": \"what\", \"id\": \"21\"}}, {\"type\": \"Event_what\", \"start\": 9497, \"end\": 9555, \"id\": 27139, \"features\": {\"anndiffstep\": \"1\", \"argument\": \"what\", \"id\": \"21\"}}, {\"type\": \"Event_what\", \"start\": 65305, \"end\": 65327, \"id\": 27140, \"features\": {\"argument\": \"what\", \"id\": \"22\"}}, {\"type\": \"Event_when\", \"start\": 1036, \"end\": 1052, \"id\": 27141, \"features\": {\"anndiffstep\": \"2\", \"argument\": \"when\", \"id\": \"1\"}}, {\"type\": \"Event_when\", \"start\": 2228, \"end\": 2247, \"id\": 27142, \"features\": {\"anndiffstep\": \"8\", \"argument\": \"when\", \"id\": \"2\"}}, {\"type\": \"Event_when\", \"start\": 2424, \"end\": 2438, \"id\": 27143, \"features\": {\"argument\": \"when\", \"id\": \"3\"}}, {\"type\": \"Event_when\", \"start\": 2731, \"end\": 2745, \"id\": 27144, \"features\": {\"anndiffstep\": \"2\", \"argument\": \"when\", \"id\": \"4\"}}, {\"type\": \"Event_when\", \"start\": 3338, \"end\": 3356, \"id\": 27145, \"features\": {\"anndiffstep\": \"8\", \"argument\": \"when\", \"id\": \"5\"}}, {\"type\": \"Event_when\", \"start\": 4038, \"end\": 4055, \"id\": 27146, \"features\": {\"anndiffstep\": \"2\", \"argument\": \"when\", \"id\": \"6\"}}, {\"type\": \"Event_when\", \"start\": 4294, \"end\": 4311, \"id\": 27147, \"features\": {\"anndiffstep\": \"2\", \"argument\": \"when\", \"id\": \"7\"}}, {\"type\": \"Event_when\", \"start\": 4757, \"end\": 4774, \"id\": 27148, \"features\": {\"anndiffstep\": \"2\", \"argument\": \"when\", \"id\": \"8\"}}, {\"type\": \"Event_when\", \"start\": 5483, \"end\": 5498, \"id\": 27149, \"features\": {\"anndiffstep\": \"2\", \"argument\": \"when\", \"id\": \"9\"}}, {\"type\": \"Event_when\", \"start\": 6431, \"end\": 6446, \"id\": 27150, \"features\": {\"anndiffstep\": \"2\", \"argument\": \"when\", \"id\": \"10\"}}, {\"type\": \"Event_when\", \"start\": 6785, \"end\": 6796, \"id\": 27151, \"features\": {\"anndiffstep\": \"2\", \"argument\": \"when\", \"id\": \"11\"}}, {\"type\": \"Event_when\", \"start\": 6957, \"end\": 6968, \"id\": 27152, \"features\": {\"anndiffstep\": \"2\", \"argument\": \"when\", \"id\": \"12\"}}, {\"type\": \"Event_when\", \"start\": 7216, \"end\": 7231, \"id\": 27153, \"features\": {\"anndiffstep\": \"2\", \"argument\": \"when\", \"id\": \"13\"}}, {\"type\": \"Event_when\", \"start\": 7372, \"end\": 7387, \"id\": 27154, \"features\": {\"anndiffstep\": \"2\", \"argument\": \"when\", \"id\": \"14\"}}, {\"type\": \"Event_when\", \"start\": 7959, \"end\": 7973, \"id\": 27155, \"features\": {\"anndiffstep\": \"2\", \"argument\": \"when\", \"id\": \"15\"}}, {\"type\": \"Event_when\", \"start\": 7983, \"end\": 7999, \"id\": 27156, \"features\": {\"anndiffstep\": \"2\", \"argument\": \"when\", \"id\": \"16\"}}, {\"type\": \"Event_when\", \"start\": 8175, \"end\": 8188, \"id\": 27157, \"features\": {\"argument\": \"when\", \"id\": \"17\"}}, {\"type\": \"Event_when\", \"start\": 8621, \"end\": 8633, \"id\": 27158, \"features\": {\"anndiffstep\": \"2\", \"argument\": \"when\", \"id\": \"18\"}}, {\"type\": \"Event_when\", \"start\": 8877, \"end\": 8893, \"id\": 27159, \"features\": {\"anndiffstep\": \"2\", \"argument\": \"when\", \"id\": \"19\"}}, {\"type\": \"Event_when\", \"start\": 9031, \"end\": 9046, \"id\": 27160, \"features\": {\"anndiffstep\": \"2\", \"argument\": \"when\", \"id\": \"20\"}}, {\"type\": \"Event_when\", \"start\": 9321, \"end\": 9336, \"id\": 27161, \"features\": {\"anndiffstep\": \"2\", \"argument\": \"when\", \"id\": \"21\"}}, {\"type\": \"Event_when\", \"start\": 66493, \"end\": 66505, \"id\": 27162, \"features\": {\"anndiffstep\": \"2\", \"argument\": \"when\", \"id\": \"22\"}}, {\"type\": \"Event_who\", \"start\": 774, \"end\": 785, \"id\": 27163, \"features\": {\"anndiffstep\": \"3\", \"argument\": \"who\", \"id\": \"1\"}}, {\"type\": \"Event_who\", \"start\": 2249, \"end\": 2271, \"id\": 27164, \"features\": {\"anndiffstep\": \"9\", \"argument\": \"who\", \"id\": \"2\"}}, {\"type\": \"Event_who\", \"start\": 2317, \"end\": 2338, \"id\": 27165, \"features\": {\"argument\": \"who\", \"id\": \"3\"}}, {\"type\": \"Event_who\", \"start\": 2750, \"end\": 2774, \"id\": 27166, \"features\": {\"anndiffstep\": \"3\", \"argument\": \"who\", \"id\": \"4\"}}, {\"type\": \"Event_who\", \"start\": 3361, \"end\": 3370, \"id\": 27167, \"features\": {\"anndiffstep\": \"3\", \"argument\": \"who\", \"id\": \"5\"}}, {\"type\": \"Event_who\", \"start\": 4061, \"end\": 4080, \"id\": 27168, \"features\": {\"anndiffstep\": \"3\", \"argument\": \"who\", \"id\": \"6\"}}, {\"type\": \"Event_who\", \"start\": 4317, \"end\": 4338, \"id\": 27169, \"features\": {\"anndiffstep\": \"3\", \"argument\": \"who\", \"id\": \"7\"}}, {\"type\": \"Event_who\", \"start\": 4833, \"end\": 4857, \"id\": 27170, \"features\": {\"anndiffstep\": \"3\", \"argument\": \"who\", \"id\": \"8\"}}, {\"type\": \"Event_who\", \"start\": 5503, \"end\": 5512, \"id\": 27171, \"features\": {\"anndiffstep\": \"3\", \"argument\": \"who\", \"id\": \"9\"}}, {\"type\": \"Event_who\", \"start\": 6451, \"end\": 6470, \"id\": 27172, \"features\": {\"anndiffstep\": \"3\", \"argument\": \"who\", \"id\": \"10\"}}, {\"type\": \"Event_who\", \"start\": 6801, \"end\": 6810, \"id\": 27173, \"features\": {\"anndiffstep\": \"3\", \"argument\": \"who\", \"id\": \"11\"}}, {\"type\": \"Event_who\", \"start\": 6985, \"end\": 6996, \"id\": 27174, \"features\": {\"anndiffstep\": \"3\", \"argument\": \"who\", \"id\": \"12\"}}, {\"type\": \"Event_who\", \"start\": 7176, \"end\": 7185, \"id\": 27175, \"features\": {\"anndiffstep\": \"3\", \"argument\": \"who\", \"id\": \"13\"}}, {\"type\": \"Event_who\", \"start\": 7392, \"end\": 7416, \"id\": 27176, \"features\": {\"argument\": \"who\", \"id\": \"14\"}}, {\"type\": \"Event_who\", \"start\": 7896, \"end\": 7902, \"id\": 27177, \"features\": {\"argument\": \"who\", \"id\": \"15\"}}, {\"type\": \"Event_who\", \"start\": 8004, \"end\": 8013, \"id\": 27178, \"features\": {\"anndiffstep\": \"3\", \"argument\": \"who\", \"id\": \"16\"}}, {\"type\": \"Event_who\", \"start\": 8139, \"end\": 8144, \"id\": 27179, \"features\": {\"argument\": \"who\", \"id\": \"17\"}}, {\"type\": \"Event_who\", \"start\": 8559, \"end\": 8604, \"id\": 27180, \"features\": {\"anndiffstep\": \"16\", \"argument\": \"who\", \"id\": \"18\"}}, {\"type\": \"Event_who\", \"start\": 8898, \"end\": 8907, \"id\": 27181, \"features\": {\"anndiffstep\": \"3\", \"argument\": \"who\", \"id\": \"19\"}}, {\"type\": \"Event_who\", \"start\": 9051, \"end\": 9056, \"id\": 27182, \"features\": {\"anndiffstep\": \"3\", \"argument\": \"who\", \"id\": \"20\"}}, {\"type\": \"Event_who\", \"start\": 9341, \"end\": 9364, \"id\": 27183, \"features\": {\"anndiffstep\": \"3\", \"argument\": \"who\", \"id\": \"21\"}}, {\"type\": \"Event\", \"start\": 748, \"end\": 1053, \"id\": 51265, \"features\": {\"anndiffstep\": \"0\", \"argument\": \"ev\", \"id\": \"1\", \"type\": \"circumstances\"}}, {\"type\": \"Event\", \"start\": 2225, \"end\": 2312, \"id\": 51266, \"features\": {\"anndiffstep\": \"0\", \"argument\": \"ev\", \"id\": \"2\", \"type\": \"circumstances\"}}, {\"type\": \"Event\", \"start\": 2313, \"end\": 2723, \"id\": 51267, \"features\": {\"type\": \"procedure\", \"argument\": \"ev\", \"id\": \"3\"}}, {\"type\": \"Event\", \"start\": 2728, \"end\": 3331, \"id\": 51268, \"features\": {\"anndiffstep\": \"12\", \"argument\": \"ev\", \"id\": \"4\", \"type\": \"procedure\"}}, {\"type\": \"Event\", \"start\": 3336, \"end\": 3459, \"id\": 51269, \"features\": {\"anndiffstep\": \"0\", \"argument\": \"ev\", \"id\": \"5\", \"type\": \"procedure\"}}, {\"type\": \"Event_combined\", \"start\": 748, \"end\": 1052, \"id\": 27206, \"features\": {\"type\": \"circumstances\", \"argument\": \"ev\", \"id\": \"1\"}}, {\"type\": \"Event\", \"start\": 4035, \"end\": 4253, \"id\": 51270, \"features\": {\"anndiffstep\": \"0\", \"argument\": \"ev\", \"id\": \"6\", \"type\": \"procedure\"}}, {\"type\": \"Event_combined\", \"start\": 774, \"end\": 785, \"id\": 27207, \"features\": {\"argument\": \"who\", \"id\": \"1\"}}, {\"type\": \"Event\", \"start\": 4754, \"end\": 5182, \"id\": 51271, \"features\": {\"anndiffstep\": \"0\", \"argument\": \"ev\", \"id\": \"8\", \"type\": \"procedure\"}}, {\"type\": \"Event_combined\", \"start\": 832, \"end\": 838, \"id\": 27208, \"features\": {\"argument\": \"what\", \"id\": \"1\"}}, {\"type\": \"Event\", \"start\": 5480, \"end\": 5729, \"id\": 51272, \"features\": {\"anndiffstep\": \"13\", \"argument\": \"ev\", \"id\": \"9\", \"type\": \"procedure\"}}, {\"type\": \"Event_combined\", \"start\": 1036, \"end\": 1052, \"id\": 27209, \"features\": {\"argument\": \"when\", \"id\": \"1\"}}, {\"type\": \"Event\", \"start\": 6428, \"end\": 6724, \"id\": 51273, \"features\": {\"anndiffstep\": \"14\", \"argument\": \"ev\", \"id\": \"10\", \"type\": \"procedure\"}}, {\"type\": \"Event_combined\", \"start\": 2225, \"end\": 2311, \"id\": 27210, \"features\": {\"type\": \"circumstances\", \"argument\": \"ev\", \"id\": \"2\"}}, {\"type\": \"Event\", \"start\": 6782, \"end\": 6948, \"id\": 51274, \"features\": {\"anndiffstep\": \"0\", \"argument\": \"ev\", \"id\": \"11\", \"type\": \"procedure\"}}, {\"type\": \"Event_combined\", \"start\": 2228, \"end\": 2247, \"id\": 27211, \"features\": {\"argument\": \"when\", \"id\": \"2\"}}, {\"type\": \"Event\", \"start\": 6954, \"end\": 7166, \"id\": 51275, \"features\": {\"anndiffstep\": \"15\", \"argument\": \"ev\", \"id\": \"12\", \"type\": \"procedure\"}}, {\"type\": \"Event_combined\", \"start\": 2249, \"end\": 2271, \"id\": 27212, \"features\": {\"argument\": \"who\", \"id\": \"2\"}}, {\"type\": \"Event\", \"start\": 7172, \"end\": 7368, \"id\": 51276, \"features\": {\"anndiffstep\": \"0\", \"argument\": \"ev\", \"id\": \"13\", \"type\": \"procedure\"}}, {\"type\": \"Event_combined\", \"start\": 2272, \"end\": 2294, \"id\": 27213, \"features\": {\"argument\": \"what\", \"id\": \"2\"}}, {\"type\": \"Event\", \"start\": 7893, \"end\": 7974, \"id\": 51277, \"features\": {\"anndiffstep\": \"0\", \"argument\": \"ev\", \"id\": \"15\", \"type\": \"procedure\"}}, {\"type\": \"Event_combined\", \"start\": 2313, \"end\": 2722, \"id\": 27214, \"features\": {\"type\": \"procedure\", \"argument\": \"ev\", \"id\": \"3\"}}, {\"type\": \"Event\", \"start\": 7980, \"end\": 8134, \"id\": 51278, \"features\": {\"anndiffstep\": \"0\", \"argument\": \"ev\", \"id\": \"16\", \"type\": \"procedure\"}}, {\"type\": \"Event_combined\", \"start\": 2317, \"end\": 2338, \"id\": 27215, \"features\": {\"argument\": \"who\", \"id\": \"3\"}}, {\"type\": \"Event\", \"start\": 8135, \"end\": 8365, \"id\": 51279, \"features\": {\"type\": \"procedure\", \"argument\": \"ev\", \"id\": \"17\"}}, {\"type\": \"Event_combined\", \"start\": 2404, \"end\": 2420, \"id\": 27216, \"features\": {\"argument\": \"what\", \"id\": \"3\"}}, {\"type\": \"Event\", \"start\": 8556, \"end\": 8634, \"id\": 51280, \"features\": {\"anndiffstep\": \"0\", \"argument\": \"ev\", \"id\": \"18\", \"type\": \"procedure\"}}, {\"type\": \"Event_combined\", \"start\": 2424, \"end\": 2438, \"id\": 27217, \"features\": {\"argument\": \"when\", \"id\": \"3\"}}, {\"type\": \"Event\", \"start\": 8874, \"end\": 9022, \"id\": 51281, \"features\": {\"anndiffstep\": \"0\", \"argument\": \"ev\", \"id\": \"19\", \"type\": \"procedure\"}}, {\"type\": \"Event_combined\", \"start\": 2728, \"end\": 3330, \"id\": 27218, \"features\": {\"type\": \"procedure\", \"argument\": \"ev\", \"id\": \"4\"}}, {\"type\": \"Event\", \"start\": 9318, \"end\": 9607, \"id\": 51282, \"features\": {\"anndiffstep\": \"0\", \"argument\": \"ev\", \"id\": \"21\", \"type\": \"procedure\"}}, {\"type\": \"Event_combined\", \"start\": 2731, \"end\": 2745, \"id\": 27219, \"features\": {\"argument\": \"when\", \"id\": \"4\"}}, {\"type\": \"Event\", \"start\": 65286, \"end\": 66560, \"id\": 51283, \"features\": {\"anndiffstep\": \"0\", \"argument\": \"ev\", \"id\": \"22\"}}, {\"type\": \"Event_combined\", \"start\": 2750, \"end\": 2774, \"id\": 27220, \"features\": {\"argument\": \"who\", \"id\": \"4\"}}, {\"type\": \"Event\", \"start\": 4259, \"end\": 4447, \"id\": 51284, \"features\": {\"anndiffstep\": \"0\"}}, {\"type\": \"Event_combined\", \"start\": 2775, \"end\": 2797, \"id\": 27221, \"features\": {\"argument\": \"what\", \"id\": \"4\"}}, {\"type\": \"Event\", \"start\": 4448, \"end\": 4748, \"id\": 51285, \"features\": {}}, {\"type\": \"Event_combined\", \"start\": 3336, \"end\": 3458, \"id\": 27222, \"features\": {\"type\": \"procedure\", \"argument\": \"ev\", \"id\": \"5\"}}, {\"type\": \"Event\", \"start\": 7369, \"end\": 7746, \"id\": 51286, \"features\": {\"anndiffstep\": \"0\"}}, {\"type\": \"Event_combined\", \"start\": 3338, \"end\": 3356, \"id\": 27223, \"features\": {\"argument\": \"when\", \"id\": \"5\"}}, {\"type\": \"Event\", \"start\": 9028, \"end\": 9312, \"id\": 51287, \"features\": {\"anndiffstep\": \"0\"}}, {\"type\": \"Event_combined\", \"start\": 3361, \"end\": 3370, \"id\": 27224, \"features\": {\"argument\": \"who\", \"id\": \"5\"}}, {\"type\": \"Event_combined\", \"start\": 3371, \"end\": 3395, \"id\": 27225, \"features\": {\"argument\": \"what\", \"id\": \"5\"}}, {\"type\": \"Event_combined\", \"start\": 4035, \"end\": 4252, \"id\": 27226, \"features\": {\"type\": \"procedure\", \"argument\": \"ev\", \"id\": \"6\"}}, {\"type\": \"Event_combined\", \"start\": 4038, \"end\": 4055, \"id\": 27227, \"features\": {\"argument\": \"when\", \"id\": \"6\"}}, {\"type\": \"Event_combined\", \"start\": 4061, \"end\": 4080, \"id\": 27228, \"features\": {\"argument\": \"who\", \"id\": \"6\"}}, {\"type\": \"Event_combined\", \"start\": 4081, \"end\": 4094, \"id\": 27229, \"features\": {\"argument\": \"what\", \"id\": \"6\"}}, {\"type\": \"Event_combined\", \"start\": 4107, \"end\": 4117, \"id\": 27230, \"features\": {\"argument\": \"what\", \"id\": \"6\"}}, {\"type\": \"Event_combined\", \"start\": 4259, \"end\": 4677, \"id\": 27231, \"features\": {\"type\": \"procedure\", \"argument\": \"ev\", \"id\": \"7\"}}, {\"type\": \"Event_combined\", \"start\": 4294, \"end\": 4311, \"id\": 27232, \"features\": {\"argument\": \"when\", \"id\": \"7\"}}, {\"type\": \"Event_combined\", \"start\": 4317, \"end\": 4338, \"id\": 27233, \"features\": {\"argument\": \"who\", \"id\": \"7\"}}, {\"type\": \"Event_combined\", \"start\": 4339, \"end\": 4361, \"id\": 27234, \"features\": {\"argument\": \"what\", \"id\": \"7\"}}, {\"type\": \"Event_combined\", \"start\": 4627, \"end\": 4677, \"id\": 27235, \"features\": {\"argument\": \"what\", \"id\": \"7\"}}, {\"type\": \"Event_combined\", \"start\": 4754, \"end\": 5181, \"id\": 27236, \"features\": {\"type\": \"procedure\", \"argument\": \"ev\", \"id\": \"8\"}}, {\"type\": \"Event_combined\", \"start\": 4757, \"end\": 4774, \"id\": 27237, \"features\": {\"argument\": \"when\", \"id\": \"8\"}}, {\"type\": \"Event_combined\", \"start\": 4833, \"end\": 4857, \"id\": 27238, \"features\": {\"argument\": \"who\", \"id\": \"8\"}}, {\"type\": \"Event_combined\", \"start\": 5011, \"end\": 5033, \"id\": 27239, \"features\": {\"argument\": \"what\", \"id\": \"8\"}}, {\"type\": \"Event_combined\", \"start\": 5480, \"end\": 5728, \"id\": 27240, \"features\": {\"type\": \"procedure\", \"argument\": \"ev\", \"id\": \"9\"}}, {\"type\": \"Event_combined\", \"start\": 5483, \"end\": 5498, \"id\": 27241, \"features\": {\"argument\": \"when\", \"id\": \"9\"}}, {\"type\": \"Event_combined\", \"start\": 5503, \"end\": 5512, \"id\": 27242, \"features\": {\"argument\": \"who\", \"id\": \"9\"}}, {\"type\": \"Event_combined\", \"start\": 5513, \"end\": 5537, \"id\": 27243, \"features\": {\"argument\": \"what\", \"id\": \"9\"}}, {\"type\": \"Event_combined\", \"start\": 6428, \"end\": 6723, \"id\": 27244, \"features\": {\"type\": \"procedure\", \"argument\": \"ev\", \"id\": \"10\"}}, {\"type\": \"Event_combined\", \"start\": 6431, \"end\": 6446, \"id\": 27245, \"features\": {\"argument\": \"when\", \"id\": \"10\"}}, {\"type\": \"Event_combined\", \"start\": 6451, \"end\": 6470, \"id\": 27246, \"features\": {\"argument\": \"who\", \"id\": \"10\"}}, {\"type\": \"Event_combined\", \"start\": 6471, \"end\": 6489, \"id\": 27247, \"features\": {\"argument\": \"what\", \"id\": \"10\"}}, {\"type\": \"Event_combined\", \"start\": 6782, \"end\": 6947, \"id\": 27248, \"features\": {\"type\": \"procedure\", \"argument\": \"ev\", \"id\": \"11\"}}, {\"type\": \"Event_combined\", \"start\": 6785, \"end\": 6796, \"id\": 27249, \"features\": {\"argument\": \"when\", \"id\": \"11\"}}, {\"type\": \"Event_combined\", \"start\": 6801, \"end\": 6810, \"id\": 27250, \"features\": {\"argument\": \"who\", \"id\": \"11\"}}, {\"type\": \"Event_combined\", \"start\": 6811, \"end\": 6832, \"id\": 27251, \"features\": {\"argument\": \"what\", \"id\": \"11\"}}, {\"type\": \"Event_combined\", \"start\": 6954, \"end\": 7165, \"id\": 27252, \"features\": {\"type\": \"procedure\", \"argument\": \"ev\", \"id\": \"12\"}}, {\"type\": \"Event_combined\", \"start\": 6957, \"end\": 6968, \"id\": 27253, \"features\": {\"argument\": \"when\", \"id\": \"12\"}}, {\"type\": \"Event_combined\", \"start\": 6985, \"end\": 6996, \"id\": 27254, \"features\": {\"argument\": \"who\", \"id\": \"12\"}}, {\"type\": \"Event_combined\", \"start\": 6997, \"end\": 7010, \"id\": 27255, \"features\": {\"argument\": \"what\", \"id\": \"12\"}}, {\"type\": \"Event_combined\", \"start\": 7172, \"end\": 7367, \"id\": 27256, \"features\": {\"type\": \"procedure\", \"argument\": \"ev\", \"id\": \"13\"}}, {\"type\": \"Event_combined\", \"start\": 7176, \"end\": 7185, \"id\": 27257, \"features\": {\"argument\": \"who\", \"id\": \"13\"}}, {\"type\": \"Event_combined\", \"start\": 7186, \"end\": 7212, \"id\": 27258, \"features\": {\"argument\": \"what\", \"id\": \"13\"}}, {\"type\": \"Event_combined\", \"start\": 7216, \"end\": 7231, \"id\": 27259, \"features\": {\"argument\": \"when\", \"id\": \"13\"}}, {\"type\": \"Event_combined\", \"start\": 7236, \"end\": 7257, \"id\": 27260, \"features\": {\"argument\": \"what\", \"id\": \"13\"}}, {\"type\": \"Event_combined\", \"start\": 7369, \"end\": 7468, \"id\": 27261, \"features\": {\"type\": \"procedure\", \"argument\": \"ev\", \"id\": \"14\"}}, {\"type\": \"Event_combined\", \"start\": 7372, \"end\": 7387, \"id\": 27262, \"features\": {\"argument\": \"when\", \"id\": \"14\"}}, {\"type\": \"Event_combined\", \"start\": 7392, \"end\": 7416, \"id\": 27263, \"features\": {\"argument\": \"who\", \"id\": \"14\"}}, {\"type\": \"Event_combined\", \"start\": 7417, \"end\": 7468, \"id\": 27264, \"features\": {\"argument\": \"what\", \"id\": \"14\"}}, {\"type\": \"Event_combined\", \"start\": 7893, \"end\": 7973, \"id\": 27265, \"features\": {\"type\": \"procedure\", \"argument\": \"ev\", \"id\": \"15\"}}, {\"type\": \"Event_combined\", \"start\": 7896, \"end\": 7902, \"id\": 27266, \"features\": {\"argument\": \"who\", \"id\": \"15\"}}, {\"type\": \"Event_combined\", \"start\": 7942, \"end\": 7955, \"id\": 27267, \"features\": {\"argument\": \"what\", \"id\": \"15\"}}, {\"type\": \"Event_combined\", \"start\": 7959, \"end\": 7973, \"id\": 27268, \"features\": {\"argument\": \"when\", \"id\": \"15\"}}, {\"type\": \"Event_combined\", \"start\": 7980, \"end\": 8133, \"id\": 27269, \"features\": {\"type\": \"procedure\", \"argument\": \"ev\", \"id\": \"16\"}}, {\"type\": \"Event_combined\", \"start\": 7983, \"end\": 7999, \"id\": 27270, \"features\": {\"argument\": \"when\", \"id\": \"16\"}}, {\"type\": \"Event_combined\", \"start\": 8004, \"end\": 8013, \"id\": 27271, \"features\": {\"argument\": \"who\", \"id\": \"16\"}}, {\"type\": \"Event_combined\", \"start\": 8014, \"end\": 8035, \"id\": 27272, \"features\": {\"argument\": \"what\", \"id\": \"16\"}}, {\"type\": \"Event_combined\", \"start\": 8135, \"end\": 8364, \"id\": 27273, \"features\": {\"type\": \"procedure\", \"argument\": \"ev\", \"id\": \"17\"}}, {\"type\": \"Event_combined\", \"start\": 8139, \"end\": 8144, \"id\": 27274, \"features\": {\"argument\": \"who\", \"id\": \"17\"}}, {\"type\": \"Event_combined\", \"start\": 8145, \"end\": 8171, \"id\": 27275, \"features\": {\"argument\": \"what\", \"id\": \"17\"}}, {\"type\": \"Event_combined\", \"start\": 8175, \"end\": 8188, \"id\": 27276, \"features\": {\"argument\": \"when\", \"id\": \"17\"}}, {\"type\": \"Event_combined\", \"start\": 8556, \"end\": 8633, \"id\": 27277, \"features\": {\"type\": \"procedure\", \"argument\": \"ev\", \"id\": \"18\"}}, {\"type\": \"Event_combined\", \"start\": 8559, \"end\": 8604, \"id\": 27278, \"features\": {\"argument\": \"who\", \"id\": \"18\"}}, {\"type\": \"Event_combined\", \"start\": 8605, \"end\": 8617, \"id\": 27279, \"features\": {\"argument\": \"what\", \"id\": \"18\"}}, {\"type\": \"Event_combined\", \"start\": 8621, \"end\": 8633, \"id\": 27280, \"features\": {\"argument\": \"when\", \"id\": \"18\"}}, {\"type\": \"Event_combined\", \"start\": 8874, \"end\": 9021, \"id\": 27281, \"features\": {\"type\": \"procedure\", \"argument\": \"ev\", \"id\": \"19\"}}, {\"type\": \"Event_combined\", \"start\": 8877, \"end\": 8893, \"id\": 27282, \"features\": {\"argument\": \"when\", \"id\": \"19\"}}, {\"type\": \"Event_combined\", \"start\": 8898, \"end\": 8907, \"id\": 27283, \"features\": {\"argument\": \"who\", \"id\": \"19\"}}, {\"type\": \"Event_combined\", \"start\": 8908, \"end\": 8929, \"id\": 27284, \"features\": {\"argument\": \"what\", \"id\": \"19\"}}, {\"type\": \"Event_combined\", \"start\": 9028, \"end\": 9243, \"id\": 27285, \"features\": {\"type\": \"procedure\", \"argument\": \"ev\", \"id\": \"20\"}}, {\"type\": \"Event_combined\", \"start\": 9031, \"end\": 9046, \"id\": 27286, \"features\": {\"argument\": \"when\", \"id\": \"20\"}}, {\"type\": \"Event_combined\", \"start\": 9051, \"end\": 9056, \"id\": 27287, \"features\": {\"argument\": \"who\", \"id\": \"20\"}}, {\"type\": \"Event_combined\", \"start\": 9057, \"end\": 9094, \"id\": 27288, \"features\": {\"argument\": \"what\", \"id\": \"20\"}}, {\"type\": \"Event_combined\", \"start\": 9318, \"end\": 9606, \"id\": 27289, \"features\": {\"type\": \"procedure\", \"argument\": \"ev\", \"id\": \"21\"}}, {\"type\": \"Event_combined\", \"start\": 9321, \"end\": 9336, \"id\": 27290, \"features\": {\"argument\": \"when\", \"id\": \"21\"}}, {\"type\": \"Event_combined\", \"start\": 9341, \"end\": 9364, \"id\": 27291, \"features\": {\"argument\": \"who\", \"id\": \"21\"}}, {\"type\": \"Event_combined\", \"start\": 9365, \"end\": 9414, \"id\": 27292, \"features\": {\"argument\": \"what\", \"id\": \"21\"}}, {\"type\": \"Event_combined\", \"start\": 9497, \"end\": 9555, \"id\": 27293, \"features\": {\"argument\": \"what\", \"id\": \"21\"}}, {\"type\": \"Event_combined\", \"start\": 65286, \"end\": 66559, \"id\": 27294, \"features\": {\"argument\": \"ev\", \"id\": \"22\"}}, {\"type\": \"Event_combined\", \"start\": 65305, \"end\": 65327, \"id\": 27295, \"features\": {\"argument\": \"what\", \"id\": \"22\"}}, {\"type\": \"Event_combined\", \"start\": 66493, \"end\": 66505, \"id\": 27296, \"features\": {\"argument\": \"when\", \"id\": \"22\"}}, {\"type\": \"Event_who\", \"start\": 774, \"end\": 785, \"id\": 26031, \"features\": {\"event\": \"what\"}}, {\"type\": \"Event_what\", \"start\": 832, \"end\": 838, \"id\": 27115, \"features\": {\"anndiffstep\": \"1\", \"argument\": \"what\", \"id\": \"1\"}}, {\"type\": \"Event_what\", \"start\": 2272, \"end\": 2294, \"id\": 27116, \"features\": {\"anndiffstep\": \"6\", \"argument\": \"what\", \"id\": \"2\"}}, {\"type\": \"Event_what\", \"start\": 2404, \"end\": 2420, \"id\": 27117, \"features\": {\"argument\": \"what\", \"id\": \"3\"}}, {\"type\": \"Event_what\", \"start\": 2775, \"end\": 2797, \"id\": 27118, \"features\": {\"anndiffstep\": \"1\", \"argument\": \"what\", \"id\": \"4\"}}, {\"type\": \"Event_what\", \"start\": 3371, \"end\": 3395, \"id\": 27119, \"features\": {\"anndiffstep\": \"1\", \"argument\": \"what\", \"id\": \"5\"}}, {\"type\": \"Event_what\", \"start\": 4081, \"end\": 4094, \"id\": 27120, \"features\": {\"anndiffstep\": \"10\", \"argument\": \"what\", \"id\": \"6\"}}, {\"type\": \"Event_what\", \"start\": 4107, \"end\": 4117, \"id\": 27121, \"features\": {\"argument\": \"what\", \"id\": \"6\"}}, {\"type\": \"Event_what\", \"start\": 4339, \"end\": 4361, \"id\": 27122, \"features\": {\"anndiffstep\": \"1\", \"argument\": \"what\", \"id\": \"7\"}}, {\"type\": \"Event_what\", \"start\": 4627, \"end\": 4677, \"id\": 27123, \"features\": {\"argument\": \"what\", \"id\": \"7\"}}, {\"type\": \"Event_what\", \"start\": 5011, \"end\": 5033, \"id\": 27124, \"features\": {\"anndiffstep\": \"1\", \"argument\": \"what\", \"id\": \"8\"}}, {\"type\": \"Event_what\", \"start\": 5513, \"end\": 5537, \"id\": 27125, \"features\": {\"anndiffstep\": \"1\", \"argument\": \"what\", \"id\": \"9\"}}, {\"type\": \"Event_what\", \"start\": 6471, \"end\": 6489, \"id\": 27126, \"features\": {\"anndiffstep\": \"1\", \"argument\": \"what\", \"id\": \"10\"}}, {\"type\": \"Event_what\", \"start\": 6811, \"end\": 6832, \"id\": 27127, \"features\": {\"anndiffstep\": \"1\", \"argument\": \"what\", \"id\": \"11\"}}, {\"type\": \"Event_what\", \"start\": 6997, \"end\": 7010, \"id\": 27128, \"features\": {\"anndiffstep\": \"1\", \"argument\": \"what\", \"id\": \"12\"}}, {\"type\": \"Event_what\", \"start\": 7186, \"end\": 7212, \"id\": 27129, \"features\": {\"anndiffstep\": \"1\", \"argument\": \"what\", \"id\": \"13\"}}, {\"type\": \"Event_what\", \"start\": 7236, \"end\": 7257, \"id\": 27130, \"features\": {\"anndiffstep\": \"1\", \"argument\": \"what\", \"id\": \"13\"}}, {\"type\": \"Event_what\", \"start\": 7417, \"end\": 7468, \"id\": 27131, \"features\": {\"anndiffstep\": \"18\", \"argument\": \"what\", \"id\": \"14\"}}, {\"type\": \"Event_what\", \"start\": 7942, \"end\": 7955, \"id\": 27132, \"features\": {\"anndiffstep\": \"1\", \"argument\": \"what\", \"id\": \"15\"}}, {\"type\": \"Event_what\", \"start\": 8014, \"end\": 8035, \"id\": 27133, \"features\": {\"anndiffstep\": \"17\", \"argument\": \"what\", \"id\": \"16\"}}, {\"type\": \"Event_what\", \"start\": 8145, \"end\": 8171, \"id\": 27134, \"features\": {\"argument\": \"what\", \"id\": \"17\"}}, {\"type\": \"Event_what\", \"start\": 8605, \"end\": 8617, \"id\": 27135, \"features\": {\"anndiffstep\": \"11\", \"argument\": \"what\", \"id\": \"18\"}}], \"next_annid\": 51288}, \"Cristiana_round_1\": {\"name\": \"detached-from:Cristiana_round_1\", \"annotations\": [{\"type\": \"Event\", \"start\": 748, \"end\": 1052, \"id\": 402, \"features\": {\"argument\": \"ev\", \"id\": \"1\"}}, {\"type\": \"Event\", \"start\": 774, \"end\": 785, \"id\": 403, \"features\": {\"argument\": \"what\", \"id\": \"1\"}}, {\"type\": \"Event\", \"start\": 832, \"end\": 838, \"id\": 404, \"features\": {\"argument\": \"what\", \"id\": \"1\"}}, {\"type\": \"Event\", \"start\": 1036, \"end\": 1052, \"id\": 405, \"features\": {\"argument\": \"when\", \"id\": \"1\"}}, {\"type\": \"Event\", \"start\": 2225, \"end\": 2311, \"id\": 406, \"features\": {\"argument\": \"ev\", \"id\": \"2\"}}, {\"type\": \"Event\", \"start\": 2228, \"end\": 2247, \"id\": 407, \"features\": {\"argument\": \"when\", \"id\": \"2\"}}, {\"type\": \"Event\", \"start\": 2272, \"end\": 2294, \"id\": 408, \"features\": {\"argument\": \"what\", \"id\": \"2\"}}, {\"type\": \"Event\", \"start\": 2313, \"end\": 2722, \"id\": 409, \"features\": {\"argument\": \"ev\", \"id\": \"3\"}}, {\"type\": \"Event\", \"start\": 2424, \"end\": 2438, \"id\": 410, \"features\": {\"argument\": \"when\", \"id\": \"3\"}}, {\"type\": \"Event\", \"start\": 2404, \"end\": 2420, \"id\": 411, \"features\": {\"argument\": \"what\", \"id\": \"3\"}}, {\"type\": \"Event\", \"start\": 2728, \"end\": 3330, \"id\": 412, \"features\": {\"argument\": \"ev\", \"id\": \"4\"}}, {\"type\": \"Event\", \"start\": 2731, \"end\": 2745, \"id\": 413, \"features\": {\"argument\": \"when\", \"id\": \"4\"}}, {\"type\": \"Event\", \"start\": 2775, \"end\": 2797, \"id\": 414, \"features\": {\"argument\": \"what\", \"id\": \"4\"}}, {\"type\": \"Event\", \"start\": 3336, \"end\": 3458, \"id\": 415, \"features\": {\"argument\": \"ev\", \"id\": \"5\"}}, {\"type\": \"Event\", \"start\": 3338, \"end\": 3356, \"id\": 416, \"features\": {\"argument\": \"when\", \"id\": \"5\"}}, {\"type\": \"Event\", \"start\": 3371, \"end\": 3395, \"id\": 417, \"features\": {\"argument\": \"what\", \"id\": \"5\"}}, {\"type\": \"Event\", \"start\": 4035, \"end\": 4252, \"id\": 418, \"features\": {\"argument\": \"ev\", \"id\": \"6\"}}, {\"type\": \"Event\", \"start\": 4081, \"end\": 4094, \"id\": 419, \"features\": {\"argument\": \"what\", \"id\": \"6\"}}, {\"type\": \"Event\", \"start\": 4107, \"end\": 4117, \"id\": 420, \"features\": {\"argument\": \"what\", \"id\": \"6\"}}, {\"type\": \"Event\", \"start\": 4038, \"end\": 4055, \"id\": 421, \"features\": {\"argument\": \"when\", \"id\": \"6\"}}, {\"type\": \"Event\", \"start\": 4259, \"end\": 4677, \"id\": 422, \"features\": {\"argument\": \"ev\", \"id\": \"7\"}}, {\"type\": \"Event\", \"start\": 4339, \"end\": 4361, \"id\": 423, \"features\": {\"argument\": \"what\", \"id\": \"7\"}}, {\"type\": \"Event\", \"start\": 4294, \"end\": 4311, \"id\": 424, \"features\": {\"argument\": \"when\", \"id\": \"7\"}}, {\"type\": \"Event\", \"start\": 4754, \"end\": 5181, \"id\": 425, \"features\": {\"argument\": \"ev\", \"id\": \"8\"}}, {\"type\": \"Event\", \"start\": 4757, \"end\": 4774, \"id\": 426, \"features\": {\"argument\": \"when\", \"id\": \"8\"}}, {\"type\": \"Event\", \"start\": 5011, \"end\": 5033, \"id\": 427, \"features\": {\"argument\": \"what\", \"id\": \"8\"}}, {\"type\": \"Event\", \"start\": 5480, \"end\": 5728, \"id\": 428, \"features\": {\"argument\": \"ev\", \"id\": \"9\"}}, {\"type\": \"Event\", \"start\": 5483, \"end\": 5498, \"id\": 429, \"features\": {\"argument\": \"when\", \"id\": \"9\"}}, {\"type\": \"Event\", \"start\": 5513, \"end\": 5537, \"id\": 430, \"features\": {\"argument\": \"what\", \"id\": \"9\"}}, {\"type\": \"Event\", \"start\": 6428, \"end\": 6723, \"id\": 431, \"features\": {\"argument\": \"ev\", \"id\": \"10\"}}, {\"type\": \"Event_what\", \"start\": 832, \"end\": 838, \"id\": 26032, \"features\": {\"event\": \"what\"}}, {\"type\": \"Event\", \"start\": 6431, \"end\": 6446, \"id\": 432, \"features\": {\"argument\": \"when\", \"id\": \"10\"}}, {\"type\": \"Event_what\", \"start\": 2272, \"end\": 2294, \"id\": 26033, \"features\": {\"event\": \"what\"}}, {\"type\": \"Event\", \"start\": 6471, \"end\": 6489, \"id\": 433, \"features\": {\"argument\": \"what\", \"id\": \"10\"}}, {\"type\": \"Event_what\", \"start\": 2404, \"end\": 2420, \"id\": 26034, \"features\": {\"event\": \"what\"}}, {\"type\": \"Event\", \"start\": 6782, \"end\": 6947, \"id\": 434, \"features\": {\"argument\": \"ev\", \"id\": \"11\"}}, {\"type\": \"Event_what\", \"start\": 2775, \"end\": 2797, \"id\": 26035, \"features\": {\"event\": \"what\"}}, {\"type\": \"Event\", \"start\": 6810, \"end\": 6832, \"id\": 435, \"features\": {\"argument\": \"what\", \"id\": \"11\"}}, {\"type\": \"Event_what\", \"start\": 3371, \"end\": 3395, \"id\": 26036, \"features\": {\"event\": \"what\"}}, {\"type\": \"Event\", \"start\": 6785, \"end\": 6796, \"id\": 436, \"features\": {\"argument\": \"when\", \"id\": \"11\"}}, {\"type\": \"Event_what\", \"start\": 4081, \"end\": 4094, \"id\": 26037, \"features\": {\"event\": \"what\"}}, {\"type\": \"Event\", \"start\": 6954, \"end\": 7165, \"id\": 437, \"features\": {\"argument\": \"ev\", \"id\": \"12\"}}, {\"type\": \"Event_what\", \"start\": 4107, \"end\": 4117, \"id\": 26038, \"features\": {\"event\": \"what\"}}, {\"type\": \"Event\", \"start\": 6957, \"end\": 6968, \"id\": 438, \"features\": {\"argument\": \"when\", \"id\": \"12\"}}, {\"type\": \"Event_what\", \"start\": 4339, \"end\": 4361, \"id\": 26039, \"features\": {\"event\": \"what\"}}, {\"type\": \"Event\", \"start\": 6985, \"end\": 7010, \"id\": 439, \"features\": {\"argument\": \"what\", \"id\": \"12\"}}, {\"type\": \"Event_what\", \"start\": 5011, \"end\": 5033, \"id\": 26040, \"features\": {\"event\": \"what\"}}, {\"type\": \"Event\", \"start\": 7172, \"end\": 7367, \"id\": 440, \"features\": {\"argument\": \"ev\", \"id\": \"13\"}}, {\"type\": \"Event_what\", \"start\": 5513, \"end\": 5537, \"id\": 26041, \"features\": {\"event\": \"what\"}}, {\"type\": \"Event\", \"start\": 7216, \"end\": 7231, \"id\": 441, \"features\": {\"argument\": \"when\", \"id\": \"13\"}}, {\"type\": \"Event_what\", \"start\": 6471, \"end\": 6489, \"id\": 26042, \"features\": {\"event\": \"what\"}}, {\"type\": \"Event\", \"start\": 7186, \"end\": 7212, \"id\": 442, \"features\": {\"argument\": \"what\", \"id\": \"13\"}}, {\"type\": \"Event_what\", \"start\": 6810, \"end\": 6832, \"id\": 26043, \"features\": {\"event\": \"what\"}}, {\"type\": \"Event\", \"start\": 7236, \"end\": 7257, \"id\": 443, \"features\": {\"argument\": \"what\", \"id\": \"13\"}}, {\"type\": \"Event_what\", \"start\": 6985, \"end\": 7010, \"id\": 26044, \"features\": {\"event\": \"what\"}}, {\"type\": \"Event\", \"start\": 7369, \"end\": 7468, \"id\": 444, \"features\": {\"argument\": \"ev\", \"id\": \"14\"}}, {\"type\": \"Event_what\", \"start\": 7186, \"end\": 7212, \"id\": 26045, \"features\": {\"event\": \"what\"}}, {\"type\": \"Event\", \"start\": 7372, \"end\": 7387, \"id\": 445, \"features\": {\"argument\": \"when\", \"id\": \"14\"}}, {\"type\": \"Event_what\", \"start\": 7236, \"end\": 7257, \"id\": 26046, \"features\": {\"event\": \"what\"}}, {\"type\": \"Event\", \"start\": 7417, \"end\": 7468, \"id\": 446, \"features\": {\"argument\": \"what\", \"id\": \"14\"}}, {\"type\": \"Event_what\", \"start\": 7417, \"end\": 7468, \"id\": 26047, \"features\": {\"event\": \"what\"}}, {\"type\": \"Event\", \"start\": 7893, \"end\": 7973, \"id\": 447, \"features\": {\"argument\": \"ev\", \"id\": \"15\"}}, {\"type\": \"Event_what\", \"start\": 7896, \"end\": 7902, \"id\": 26048, \"features\": {\"event\": \"what\"}}, {\"type\": \"Event\", \"start\": 7942, \"end\": 7955, \"id\": 448, \"features\": {\"argument\": \"what\", \"id\": \"15\"}}, {\"type\": \"Event_what\", \"start\": 7942, \"end\": 7955, \"id\": 26049, \"features\": {\"event\": \"what\"}}, {\"type\": \"Event\", \"start\": 7896, \"end\": 7902, \"id\": 449, \"features\": {\"argument\": \"what\", \"id\": \"15\"}}, {\"type\": \"Event_what\", \"start\": 8014, \"end\": 8035, \"id\": 26050, \"features\": {\"event\": \"what\"}}, {\"type\": \"Event\", \"start\": 7959, \"end\": 7973, \"id\": 450, \"features\": {\"argument\": \"when\", \"id\": \"15\"}}, {\"type\": \"Event_what\", \"start\": 8145, \"end\": 8171, \"id\": 26051, \"features\": {\"event\": \"what\"}}, {\"type\": \"Event\", \"start\": 7980, \"end\": 8133, \"id\": 451, \"features\": {\"argument\": \"ev\", \"id\": \"16\"}}, {\"type\": \"Event_what\", \"start\": 8559, \"end\": 8617, \"id\": 26052, \"features\": {\"event\": \"what\"}}, {\"type\": \"Event\", \"start\": 7983, \"end\": 7999, \"id\": 452, \"features\": {\"argument\": \"when\", \"id\": \"16\"}}, {\"type\": \"Event_what\", \"start\": 8908, \"end\": 8929, \"id\": 26053, \"features\": {\"event\": \"what\"}}, {\"type\": \"Event\", \"start\": 8014, \"end\": 8035, \"id\": 453, \"features\": {\"argument\": \"what\", \"id\": \"16\"}}, {\"type\": \"Event_what\", \"start\": 9057, \"end\": 9094, \"id\": 26054, \"features\": {\"event\": \"what\"}}, {\"type\": \"Event\", \"start\": 8135, \"end\": 8364, \"id\": 454, \"features\": {\"argument\": \"ev\", \"id\": \"17\"}}, {\"type\": \"Event_what\", \"start\": 9365, \"end\": 9414, \"id\": 26055, \"features\": {\"event\": \"what\"}}, {\"type\": \"Event\", \"start\": 8175, \"end\": 8188, \"id\": 455, \"features\": {\"argument\": \"when\", \"id\": \"17\"}}, {\"type\": \"Event_what\", \"start\": 9497, \"end\": 9555, \"id\": 26056, \"features\": {\"event\": \"what\"}}, {\"type\": \"Event\", \"start\": 8145, \"end\": 8171, \"id\": 456, \"features\": {\"argument\": \"what\", \"id\": \"17\"}}, {\"type\": \"Event_what\", \"start\": 65305, \"end\": 65327, \"id\": 26057, \"features\": {\"event\": \"what\"}}, {\"type\": \"Event\", \"start\": 8556, \"end\": 8633, \"id\": 457, \"features\": {\"argument\": \"ev\", \"id\": \"18\"}}, {\"type\": \"Event_when\", \"start\": 1036, \"end\": 1052, \"id\": 26058, \"features\": {\"event\": \"when\"}}, {\"type\": \"Event\", \"start\": 8559, \"end\": 8617, \"id\": 458, \"features\": {\"argument\": \"what\", \"id\": \"18\"}}, {\"type\": \"Event_when\", \"start\": 2228, \"end\": 2247, \"id\": 26059, \"features\": {\"event\": \"when\"}}, {\"type\": \"Event\", \"start\": 8621, \"end\": 8633, \"id\": 459, \"features\": {\"argument\": \"when\", \"id\": \"18\"}}, {\"type\": \"Event_when\", \"start\": 2424, \"end\": 2438, \"id\": 26060, \"features\": {\"event\": \"when\"}}, {\"type\": \"Event\", \"start\": 8874, \"end\": 9021, \"id\": 460, \"features\": {\"argument\": \"ev\", \"id\": \"19\"}}, {\"type\": \"Event_when\", \"start\": 2731, \"end\": 2745, \"id\": 26061, \"features\": {\"event\": \"when\"}}, {\"type\": \"Event\", \"start\": 8877, \"end\": 8893, \"id\": 461, \"features\": {\"argument\": \"when\", \"id\": \"19\"}}, {\"type\": \"Event_when\", \"start\": 3338, \"end\": 3356, \"id\": 26062, \"features\": {\"event\": \"when\"}}, {\"type\": \"Event\", \"start\": 8908, \"end\": 8929, \"id\": 462, \"features\": {\"argument\": \"what\", \"id\": \"19\"}}, {\"type\": \"Event_when\", \"start\": 4038, \"end\": 4055, \"id\": 26063, \"features\": {\"event\": \"when\"}}, {\"type\": \"Event\", \"start\": 9028, \"end\": 9243, \"id\": 463, \"features\": {\"argument\": \"ev\", \"id\": \"20\"}}, {\"type\": \"Event_when\", \"start\": 4294, \"end\": 4311, \"id\": 26064, \"features\": {\"event\": \"when\"}}, {\"type\": \"Event\", \"start\": 9031, \"end\": 9046, \"id\": 464, \"features\": {\"argument\": \"when\", \"id\": \"20\"}}, {\"type\": \"Event_when\", \"start\": 4757, \"end\": 4774, \"id\": 26065, \"features\": {\"event\": \"when\"}}, {\"type\": \"Event\", \"start\": 9057, \"end\": 9094, \"id\": 465, \"features\": {\"argument\": \"what\", \"id\": \"20\"}}, {\"type\": \"Event_when\", \"start\": 5483, \"end\": 5498, \"id\": 26066, \"features\": {\"event\": \"when\"}}, {\"type\": \"Event\", \"start\": 9318, \"end\": 9606, \"id\": 466, \"features\": {\"argument\": \"ev\", \"id\": \"21\"}}, {\"type\": \"Event_when\", \"start\": 6431, \"end\": 6446, \"id\": 26067, \"features\": {\"event\": \"when\"}}, {\"type\": \"Event\", \"start\": 9321, \"end\": 9336, \"id\": 467, \"features\": {\"argument\": \"when\", \"id\": \"21\"}}, {\"type\": \"Event_when\", \"start\": 6785, \"end\": 6796, \"id\": 26068, \"features\": {\"event\": \"when\"}}, {\"type\": \"Event\", \"start\": 9365, \"end\": 9414, \"id\": 468, \"features\": {\"argument\": \"what\", \"id\": \"21\"}}, {\"type\": \"Event_when\", \"start\": 6957, \"end\": 6968, \"id\": 26069, \"features\": {\"event\": \"when\"}}, {\"type\": \"Event\", \"start\": 9497, \"end\": 9555, \"id\": 469, \"features\": {\"argument\": \"what\", \"id\": \"21\"}}, {\"type\": \"Event_when\", \"start\": 7216, \"end\": 7231, \"id\": 26070, \"features\": {\"event\": \"when\"}}, {\"type\": \"Event\", \"start\": 65286, \"end\": 66559, \"id\": 470, \"features\": {\"argument\": \"ev\", \"id\": \"22\"}}, {\"type\": \"Event_when\", \"start\": 7372, \"end\": 7387, \"id\": 26071, \"features\": {\"event\": \"when\"}}, {\"type\": \"Event\", \"start\": 66493, \"end\": 66505, \"id\": 471, \"features\": {\"argument\": \"when\", \"id\": \"22\"}}, {\"type\": \"Event_when\", \"start\": 7959, \"end\": 7973, \"id\": 26072, \"features\": {\"event\": \"when\"}}, {\"type\": \"Event\", \"start\": 65305, \"end\": 65327, \"id\": 472, \"features\": {\"argument\": \"what\", \"id\": \"22\"}}, {\"type\": \"Event_when\", \"start\": 7983, \"end\": 7999, \"id\": 26073, \"features\": {\"event\": \"when\"}}, {\"type\": \"Event_when\", \"start\": 8175, \"end\": 8188, \"id\": 26074, \"features\": {\"event\": \"when\"}}, {\"type\": \"Event_when\", \"start\": 8621, \"end\": 8633, \"id\": 26075, \"features\": {\"event\": \"when\"}}, {\"type\": \"Event_when\", \"start\": 8877, \"end\": 8893, \"id\": 26076, \"features\": {\"event\": \"when\"}}, {\"type\": \"Event_when\", \"start\": 9031, \"end\": 9046, \"id\": 26077, \"features\": {\"event\": \"when\"}}, {\"type\": \"Event_when\", \"start\": 9321, \"end\": 9336, \"id\": 26078, \"features\": {\"event\": \"when\"}}, {\"type\": \"Event_when\", \"start\": 66493, \"end\": 66505, \"id\": 26079, \"features\": {\"event\": \"when\"}}], \"next_annid\": 26080}, \"Section\": {\"name\": \"detached-from:Section\", \"annotations\": [{\"type\": \"Procedure\", \"start\": 744, \"end\": 1724, \"id\": 51393, \"features\": {}}, {\"type\": \"Circumstances\", \"start\": 1769, \"end\": 9926, \"id\": 51394, \"features\": {}}, {\"type\": \"Law\", \"start\": 9958, \"end\": 65285, \"id\": 51395, \"features\": {}}, {\"type\": \"Decision\", \"start\": 65286, \"end\": 66560, \"id\": 51397, \"features\": {}}], \"next_annid\": 51398}, \"Key\": {\"name\": \"detached-from:Key\", \"annotations\": [], \"next_annid\": 1}, \"Erwin\": {\"name\": \"detached-from:Erwin\", \"annotations\": [{\"type\": \"Event_what\", \"start\": 65334, \"end\": 65370, \"id\": 51289, \"features\": {\"anndiffstep\": \"5\"}}, {\"type\": \"Event_what\", \"start\": 65376, \"end\": 65445, \"id\": 51290, \"features\": {\"anndiffstep\": \"5\"}}, {\"type\": \"Event_what\", \"start\": 65451, \"end\": 65600, \"id\": 51291, \"features\": {\"anndiffstep\": \"5\"}}, {\"type\": \"Event_what\", \"start\": 65606, \"end\": 65708, \"id\": 51292, \"features\": {\"anndiffstep\": \"5\"}}, {\"type\": \"Event_what\", \"start\": 65714, \"end\": 66371, \"id\": 51293, \"features\": {\"anndiffstep\": \"5\"}}, {\"type\": \"Event_what\", \"start\": 66377, \"end\": 66448, \"id\": 51294, \"features\": {\"anndiffstep\": \"5\"}}, {\"type\": \"Event_when\", \"start\": 66493, \"end\": 66505, \"id\": 51295, \"features\": {\"anndiffstep\": \"2\"}}, {\"type\": \"Event_who\", \"start\": 65305, \"end\": 65314, \"id\": 51296, \"features\": {\"anndiffstep\": \"9\"}}, {\"type\": \"Event\", \"start\": 65286, \"end\": 66560, \"id\": 51297, \"features\": {\"anndiffstep\": \"0\"}}, {\"type\": \"Event_what\", \"start\": 832, \"end\": 838, \"id\": 26990, \"features\": {\"type\": \"procedure\", \"anndiffstep\": \"1\", \"argument\": \"what\"}}, {\"type\": \"Event_when\", \"start\": 1036, \"end\": 1052, \"id\": 26991, \"features\": {\"type\": \"procedure\", \"anndiffstep\": \"2\", \"argument\": \"when\"}}, {\"type\": \"Event_when\", \"start\": 1540, \"end\": 1555, \"id\": 27003, \"features\": {\"type\": \"procedure\", \"anndiffstep\": \"7\", \"argument\": \"when\"}}, {\"type\": \"Event_who\", \"start\": 1640, \"end\": 1651, \"id\": 27004, \"features\": {\"type\": \"procedure\", \"anndiffstep\": \"9\", \"argument\": \"who\"}}, {\"type\": \"Event_what\", \"start\": 1652, \"end\": 1677, \"id\": 27005, \"features\": {\"type\": \"procedure\", \"anndiffstep\": \"5\", \"argument\": \"what\"}}, {\"type\": \"Event\", \"start\": 1537, \"end\": 1724, \"id\": 27009, \"features\": {\"anndiffstep\": \"4\"}}, {\"type\": \"Event_who\", \"start\": 774, \"end\": 785, \"id\": 27011, \"features\": {\"type\": \"procedure\", \"anndiffstep\": \"3\", \"argument\": \"who\"}}, {\"type\": \"Event_when\", \"start\": 1799, \"end\": 1803, \"id\": 27012, \"features\": {\"type\": \"circumstances\", \"argument\": \"when\"}}, {\"type\": \"Event_when\", \"start\": 2231, \"end\": 2247, \"id\": 27013, \"features\": {\"type\": \"circumstances\", \"anndiffstep\": \"8\", \"argument\": \"when\"}}, {\"type\": \"Event_when\", \"start\": 2731, \"end\": 2745, \"id\": 27014, \"features\": {\"type\": \"circumstances\", \"anndiffstep\": \"2\", \"argument\": \"when\"}}, {\"type\": \"Event_when\", \"start\": 3339, \"end\": 3356, \"id\": 27015, \"features\": {\"type\": \"circumstances\", \"anndiffstep\": \"8\", \"argument\": \"when\"}}, {\"type\": \"Event_when\", \"start\": 4038, \"end\": 4055, \"id\": 27016, \"features\": {\"type\": \"circumstances\", \"anndiffstep\": \"2\", \"argument\": \"when\"}}, {\"type\": \"Event_when\", \"start\": 4294, \"end\": 4311, \"id\": 27017, \"features\": {\"type\": \"circumstances\", \"anndiffstep\": \"2\", \"argument\": \"when\"}}, {\"type\": \"Event_when\", \"start\": 4757, \"end\": 4774, \"id\": 27018, \"features\": {\"type\": \"circumstances\", \"anndiffstep\": \"2\", \"argument\": \"when\"}}, {\"type\": \"Event_when\", \"start\": 5483, \"end\": 5498, \"id\": 27019, \"features\": {\"type\": \"circumstances\", \"anndiffstep\": \"2\", \"argument\": \"when\"}}, {\"type\": \"Event_when\", \"start\": 6431, \"end\": 6446, \"id\": 27020, \"features\": {\"type\": \"circumstances\", \"anndiffstep\": \"2\", \"argument\": \"when\"}}, {\"type\": \"Event_when\", \"start\": 6785, \"end\": 6796, \"id\": 27021, \"features\": {\"type\": \"circumstances\", \"anndiffstep\": \"2\", \"argument\": \"when\"}}, {\"type\": \"Event_when\", \"start\": 6957, \"end\": 6968, \"id\": 27022, \"features\": {\"type\": \"circumstances\", \"anndiffstep\": \"2\", \"argument\": \"when\"}}, {\"type\": \"Event_when\", \"start\": 7216, \"end\": 7231, \"id\": 27023, \"features\": {\"type\": \"circumstances\", \"anndiffstep\": \"2\", \"argument\": \"when\"}}, {\"type\": \"Event_when\", \"start\": 7372, \"end\": 7387, \"id\": 27024, \"features\": {\"type\": \"circumstances\", \"anndiffstep\": \"2\", \"argument\": \"when\"}}, {\"type\": \"Event_when\", \"start\": 7959, \"end\": 7973, \"id\": 27025, \"features\": {\"type\": \"circumstances\", \"anndiffstep\": \"2\", \"argument\": \"when\"}}, {\"type\": \"Event_when\", \"start\": 7983, \"end\": 7999, \"id\": 27026, \"features\": {\"type\": \"circumstances\", \"anndiffstep\": \"2\", \"argument\": \"when\"}}, {\"type\": \"Event_when\", \"start\": 8877, \"end\": 8893, \"id\": 27027, \"features\": {\"type\": \"circumstances\", \"anndiffstep\": \"2\", \"argument\": \"when\"}}, {\"type\": \"Event_when\", \"start\": 9031, \"end\": 9046, \"id\": 27028, \"features\": {\"anndiffstep\": \"2\"}}, {\"type\": \"Event_when\", \"start\": 9321, \"end\": 9336, \"id\": 27029, \"features\": {\"type\": \"circumstances\", \"anndiffstep\": \"2\", \"argument\": \"when\"}}, {\"type\": \"Event_when\", \"start\": 8621, \"end\": 8633, \"id\": 27030, \"features\": {\"type\": \"circumstances\", \"anndiffstep\": \"2\", \"argument\": \"when\"}}, {\"type\": \"Event_what\", \"start\": 1787, \"end\": 1795, \"id\": 27031, \"features\": {\"type\": \"circumstances\", \"argument\": \"what\"}}, {\"type\": \"Event_what\", \"start\": 2272, \"end\": 2286, \"id\": 27032, \"features\": {\"type\": \"circumstances\", \"anndiffstep\": \"6\", \"argument\": \"what\"}}, {\"type\": \"Event_what\", \"start\": 2775, \"end\": 2797, \"id\": 27033, \"features\": {\"type\": \"circumstances\", \"anndiffstep\": \"1\", \"argument\": \"what\"}}, {\"type\": \"Event_what\", \"start\": 2816, \"end\": 2856, \"id\": 27034, \"features\": {\"type\": \"circumstances\", \"anndiffstep\": \"19\", \"argument\": \"what\"}}, {\"type\": \"Event_what\", \"start\": 3371, \"end\": 3395, \"id\": 27035, \"features\": {\"type\": \"circumstances\", \"anndiffstep\": \"1\", \"argument\": \"what\"}}, {\"type\": \"Event_what\", \"start\": 4081, \"end\": 4117, \"id\": 27036, \"features\": {\"type\": \"circumstances\", \"anndiffstep\": \"10\", \"argument\": \"what\"}}, {\"type\": \"Event_what\", \"start\": 4339, \"end\": 4361, \"id\": 27037, \"features\": {\"anndiffstep\": \"1\", \"argument\": \"what\", \"type\": \"circumstances\"}}, {\"type\": \"Event_what\", \"start\": 4389, \"end\": 4415, \"id\": 27038, \"features\": {\"type\": \"circumstances\", \"anndiffstep\": \"20\", \"argument\": \"what\"}}, {\"type\": \"Event_what\", \"start\": 5011, \"end\": 5033, \"id\": 27039, \"features\": {\"type\": \"circumstances\", \"anndiffstep\": \"1\", \"argument\": \"what\"}}, {\"type\": \"Event_what\", \"start\": 5513, \"end\": 5537, \"id\": 27040, \"features\": {\"type\": \"circumstances\", \"anndiffstep\": \"1\", \"argument\": \"what\"}}, {\"type\": \"Event_what\", \"start\": 6471, \"end\": 6489, \"id\": 27041, \"features\": {\"type\": \"circumstances\", \"anndiffstep\": \"1\", \"argument\": \"what\"}}, {\"type\": \"Event_what\", \"start\": 6811, \"end\": 6832, \"id\": 27042, \"features\": {\"type\": \"circumstances\", \"anndiffstep\": \"1\", \"argument\": \"what\"}}, {\"type\": \"Event_what\", \"start\": 6997, \"end\": 7010, \"id\": 27043, \"features\": {\"type\": \"circumstances\", \"anndiffstep\": \"1\", \"argument\": \"what\"}}, {\"type\": \"Event_what\", \"start\": 7186, \"end\": 7212, \"id\": 27044, \"features\": {\"type\": \"circumstances\", \"anndiffstep\": \"1\", \"argument\": \"what\"}}, {\"type\": \"Event_what\", \"start\": 7236, \"end\": 7257, \"id\": 27045, \"features\": {\"type\": \"circumstances\", \"anndiffstep\": \"1\", \"argument\": \"what\"}}, {\"type\": \"Event_what\", \"start\": 7417, \"end\": 7454, \"id\": 27046, \"features\": {\"type\": \"circumstances\", \"anndiffstep\": \"18\", \"argument\": \"what\"}}, {\"type\": \"Event_what\", \"start\": 8015, \"end\": 8035, \"id\": 27047, \"features\": {\"type\": \"circumstances\", \"anndiffstep\": \"17\", \"argument\": \"what\"}}, {\"type\": \"Event_what\", \"start\": 8080, \"end\": 8100, \"id\": 27048, \"features\": {\"type\": \"circumstances\", \"argument\": \"what\"}}, {\"type\": \"Event_what\", \"start\": 8605, \"end\": 8620, \"id\": 27049, \"features\": {\"type\": \"circumstances\", \"anndiffstep\": \"11\", \"argument\": \"what\"}}, {\"type\": \"Event_what\", \"start\": 8559, \"end\": 8565, \"id\": 27050, \"features\": {\"type\": \"circumstances\", \"argument\": \"what\"}}, {\"type\": \"Event_what\", \"start\": 8908, \"end\": 8929, \"id\": 27051, \"features\": {\"type\": \"circumstances\", \"anndiffstep\": \"1\", \"argument\": \"what\"}}, {\"type\": \"Event_what\", \"start\": 9057, \"end\": 9094, \"id\": 27052, \"features\": {\"type\": \"circumstances\", \"anndiffstep\": \"1\", \"argument\": \"what\"}}, {\"type\": \"Event_what\", \"start\": 9365, \"end\": 9414, \"id\": 27053, \"features\": {\"anndiffstep\": \"1\", \"argument\": \"what\", \"type\": \"circumstances\"}}, {\"type\": \"Event_what\", \"start\": 9497, \"end\": 9555, \"id\": 27054, \"features\": {\"type\": \"circumstances\", \"anndiffstep\": \"1\", \"argument\": \"what\"}}, {\"type\": \"Event_who\", \"start\": 1777, \"end\": 1786, \"id\": 27055, \"features\": {\"type\": \"circumstances\", \"argument\": \"who\"}}, {\"type\": \"Event_who\", \"start\": 2253, \"end\": 2271, \"id\": 27056, \"features\": {\"type\": \"circumstances\", \"anndiffstep\": \"9\", \"argument\": \"who\"}}, {\"type\": \"Event_who\", \"start\": 2750, \"end\": 2774, \"id\": 27057, \"features\": {\"type\": \"circumstances\", \"anndiffstep\": \"3\", \"argument\": \"who\"}}, {\"type\": \"Event_who\", \"start\": 3361, \"end\": 3370, \"id\": 27058, \"features\": {\"type\": \"circumstances\", \"anndiffstep\": \"3\", \"argument\": \"who\"}}, {\"type\": \"Event_who\", \"start\": 4061, \"end\": 4080, \"id\": 27059, \"features\": {\"type\": \"circumstances\", \"anndiffstep\": \"3\", \"argument\": \"who\"}}, {\"type\": \"Event_who\", \"start\": 4317, \"end\": 4338, \"id\": 27060, \"features\": {\"type\": \"circumstances\", \"anndiffstep\": \"3\", \"argument\": \"who\"}}, {\"type\": \"Event_who\", \"start\": 4833, \"end\": 4857, \"id\": 27061, \"features\": {\"type\": \"circumstances\", \"anndiffstep\": \"3\", \"argument\": \"who\"}}, {\"type\": \"Event_who\", \"start\": 5503, \"end\": 5512, \"id\": 27062, \"features\": {\"type\": \"circumstances\", \"anndiffstep\": \"3\", \"argument\": \"who\"}}, {\"type\": \"Event_who\", \"start\": 6451, \"end\": 6470, \"id\": 27063, \"features\": {\"type\": \"circumstances\", \"anndiffstep\": \"3\", \"argument\": \"who\"}}, {\"type\": \"Event_who\", \"start\": 6801, \"end\": 6810, \"id\": 27064, \"features\": {\"type\": \"circumstances\", \"anndiffstep\": \"3\", \"argument\": \"who\"}}, {\"type\": \"Event_who\", \"start\": 6985, \"end\": 6996, \"id\": 27065, \"features\": {\"type\": \"circumstances\", \"anndiffstep\": \"3\", \"argument\": \"who\"}}, {\"type\": \"Event_who\", \"start\": 7176, \"end\": 7185, \"id\": 27066, \"features\": {\"type\": \"circumstances\", \"anndiffstep\": \"3\", \"argument\": \"who\"}}, {\"type\": \"Event_who\", \"start\": 8004, \"end\": 8013, \"id\": 27067, \"features\": {\"anndiffstep\": \"3\", \"argument\": \"who\", \"type\": \"circumstances\"}}, {\"type\": \"Event_who\", \"start\": 8573, \"end\": 8582, \"id\": 27068, \"features\": {\"type\": \"circumstances\", \"anndiffstep\": \"16\", \"argument\": \"who\"}}, {\"type\": \"Event_who\", \"start\": 8898, \"end\": 8907, \"id\": 27069, \"features\": {\"type\": \"circumstances\", \"anndiffstep\": \"3\", \"argument\": \"who\"}}, {\"type\": \"Event_who\", \"start\": 9051, \"end\": 9056, \"id\": 27070, \"features\": {\"type\": \"circumstances\", \"anndiffstep\": \"3\", \"argument\": \"who\"}}, {\"type\": \"Event_who\", \"start\": 9341, \"end\": 9364, \"id\": 27071, \"features\": {\"type\": \"circumstances\", \"anndiffstep\": \"3\", \"argument\": \"who\"}}, {\"type\": \"Event\", \"start\": 748, \"end\": 1053, \"id\": 27072, \"features\": {\"type\": \"procedure\", \"anndiffstep\": \"0\", \"argument\": \"ev\"}}, {\"type\": \"Event\", \"start\": 1773, \"end\": 1943, \"id\": 27073, \"features\": {\"type\": \"circumstances\", \"argument\": \"ev\"}}, {\"type\": \"Event\", \"start\": 2225, \"end\": 2312, \"id\": 27074, \"features\": {\"type\": \"circumstances\", \"anndiffstep\": \"0\", \"argument\": \"ev\"}}, {\"type\": \"Event\", \"start\": 2728, \"end\": 3136, \"id\": 27075, \"features\": {\"type\": \"circumstances\", \"anndiffstep\": \"12\", \"argument\": \"ev\"}}, {\"type\": \"Event\", \"start\": 3336, \"end\": 3459, \"id\": 27076, \"features\": {\"type\": \"circumstances\", \"anndiffstep\": \"0\", \"argument\": \"ev\"}}, {\"type\": \"Event\", \"start\": 4035, \"end\": 4253, \"id\": 27077, \"features\": {\"type\": \"circumstances\", \"anndiffstep\": \"0\", \"argument\": \"ev\"}}, {\"type\": \"Event\", \"start\": 4259, \"end\": 4447, \"id\": 27078, \"features\": {\"type\": \"circumstances\", \"anndiffstep\": \"0\", \"argument\": \"ev\"}}, {\"type\": \"Event\", \"start\": 4754, \"end\": 5182, \"id\": 27079, \"features\": {\"type\": \"circumstances\", \"anndiffstep\": \"0\", \"argument\": \"ev\"}}, {\"type\": \"Event\", \"start\": 5480, \"end\": 5590, \"id\": 27081, \"features\": {\"anndiffstep\": \"13\", \"argument\": \"ev\", \"type\": \"circumstances\"}}, {\"type\": \"Event\", \"start\": 6428, \"end\": 6550, \"id\": 27082, \"features\": {\"type\": \"circumstances\", \"anndiffstep\": \"14\", \"argument\": \"ev\"}}, {\"type\": \"Event\", \"start\": 6782, \"end\": 6948, \"id\": 27083, \"features\": {\"type\": \"circumstances\", \"anndiffstep\": \"0\", \"argument\": \"ev\"}}, {\"type\": \"Event\", \"start\": 6954, \"end\": 7041, \"id\": 27084, \"features\": {\"type\": \"circumstances\", \"anndiffstep\": \"15\", \"argument\": \"ev\"}}, {\"type\": \"Event\", \"start\": 7172, \"end\": 7368, \"id\": 27085, \"features\": {\"type\": \"circumstances\", \"anndiffstep\": \"0\", \"argument\": \"ev\"}}, {\"type\": \"Event\", \"start\": 7369, \"end\": 7746, \"id\": 27086, \"features\": {\"type\": \"circumstances\", \"anndiffstep\": \"0\", \"argument\": \"ev\"}}, {\"type\": \"Event_what\", \"start\": 7942, \"end\": 7955, \"id\": 27087, \"features\": {\"type\": \"circumstances\", \"anndiffstep\": \"1\", \"argument\": \"what\"}}, {\"type\": \"Event_who\", \"start\": 7932, \"end\": 7941, \"id\": 27088, \"features\": {\"type\": \"circumstances\", \"argument\": \"who\"}}, {\"type\": \"Event\", \"start\": 7893, \"end\": 7974, \"id\": 27089, \"features\": {\"type\": \"circumstances\", \"anndiffstep\": \"0\", \"argument\": \"ev\"}}, {\"type\": \"Event\", \"start\": 7980, \"end\": 8134, \"id\": 27090, \"features\": {\"type\": \"circumstances\", \"anndiffstep\": \"0\", \"argument\": \"ev\"}}, {\"type\": \"Event\", \"start\": 8556, \"end\": 8634, \"id\": 27091, \"features\": {\"type\": \"circumstances\", \"anndiffstep\": \"0\", \"argument\": \"ev\"}}, {\"type\": \"Event\", \"start\": 8874, \"end\": 9022, \"id\": 27092, \"features\": {\"type\": \"circumstances\", \"anndiffstep\": \"0\", \"argument\": \"ev\"}}, {\"type\": \"Event\", \"start\": 9028, \"end\": 9312, \"id\": 27093, \"features\": {\"type\": \"circumstances\", \"anndiffstep\": \"0\", \"argument\": \"ev\"}}, {\"type\": \"Event\", \"start\": 9318, \"end\": 9607, \"id\": 27094, \"features\": {\"type\": \"circumstances\", \"anndiffstep\": \"0\", \"argument\": \"ev\"}}], \"next_annid\": 51298}}, \"text\": \"ECHR\\n24\\tALTAY v. TURKEY (No. 2) JUDGMENT\\n\\tALTAY v. TURKEY (No. 2) JUDGMENT\\t1\\nSECOND SECTION\\nCASE OF ALTAY v. TURKEY (No.2)\\n(Application no. 11236/09)\\nJUDGMENT\\nSTRASBOURG\\n9 April 2019\\nFINAL\\n09/07/2019\\nThis judgment has become final under Article 44 \\u00a7 2 of the Convention. It may be subject to editorial revision.\\nIn the case of Altay v. Turkey (no. 2),\\nThe European Court of Human Rights (Second Section), sitting as a Chamber composed of:\\n\\tRobert Spano, President,\\n\\tI\\u015f\\u0131l Karaka\\u015f,\\n\\tValeriu Gri\\u0163co,\\n\\tSt\\u00e9phanie Mourou-Vikstr\\u00f6m,\\n\\tIvana Jeli\\u0107,\\n\\tArnfinn B\\u00e5rdsen,\\n\\tDarian Pavli, judges,\\nand Stanley Naismith, Section Registrar,\\nHaving deliberated in private on 19 March 2019,\\nDelivers the following judgment, which was adopted on that date:\\nPROCEDURE\\n1.\\u00a0\\u00a0The case originated in an application (no. 11236/09) against the Republic of Turkey lodged with the Court under Article 34 of the Convention for the Protection of Human Rights and Fundamental Freedoms (\\u201cthe Convention\\u201d) by a Turkish national, Mr Mehmet Aytun\\u00e7 Altay (\\u201cthe applicant\\u201d), on 17 February 2006.\\n2.\\u00a0\\u00a0The applicant was represented by Ms G. Tuncer, a lawyer practising in Istanbul. The Turkish Government (\\u201cthe Government\\u201d) were represented by their Agent.\\n3.\\u00a0\\u00a0The applicant alleged, in particular, that the restriction of the privacy of his consultations with his lawyer was incompatible with his rights under Article 8 of the Convention and that the domestic proceedings with respect to this measure had not complied with the requirements of Article 6 \\u00a7 1 of the Convention.\\n4.\\u00a0\\u00a0On 17 October 2017 notice of the above complaints was given to the Government and the remainder of the application was declared inadmissible pursuant to Rule 54 \\u00a7 3 of the Rules of Court.\\nTHE FACTS\\nI.\\u00a0\\u00a0THE CIRCUMSTANCES OF THE CASE\\n5.\\u00a0\\u00a0The applicant was born in 1956 and was convicted of attempting to undermine the constitutional order and sentenced to life imprisonment without the possibility of parole. At the time of the events relating to the application, he was serving his sentence in the Edirne F-type prison.\\n6.\\u00a0\\u00a0Since his imprisonment the applicant has been represented by his lawyer in respect of several applications, including the present application, before the Court.\\n7.\\u00a0\\u00a0On an unspecified date, the applicant\\u2019s lawyer sent a package by post to the applicant. The prison administration believed the contents of the package to be suspect and therefore lodged a request on 12 August 2005 with the public prosecutor for a decision to be taken by an enforcement court to determine whether the material sent to the applicant concerned defence-related documents or whether they concerned any objectionable content so as to prevent them from being handed over to the applicant.\\n8.\\u00a0\\u00a0On 25 August 2005 the Edirne Enforcement Court allowed an application by the prosecutor and examined the contents of the package, which contained a book entitled Globalisation and Imperialism ( K\\u00fcreselle\\u015fme ve Emperyalizm) , a magazine with the title Rootless Anational Publication ( K\\u00f6x\\u00fcz Anasyonal Ne\\u015friyat ), and a newspaper with the title Express International Sha la la ( Express Enternasyonal \\u015ealala ). The court held that the material in question did not relate to the rights of the defence and that therefore they should not be handed over to the applicant pursuant to section 5 of Law no. 5351.\\n9.\\u00a0\\u00a0On 16 September 2005 the applicant objected to the decision of the Edirne Enforcement Court before the Edirne Assize Court. He submitted that he had asked his lawyer to bring those books and magazines in question simply because he had wanted to read them. He submitted that it had been the prison administration which had told his lawyer that they could not be brought in person and had therefore to be sent by post. He further argued that while it was correct that they had not been related to his rights of defence, they were not illegal publications and there had been no basis for the prison administration to withhold them from him simply because they had been sent by post by his lawyer.\\n10.\\u00a0\\u00a0On 30 September 2005, the Edirne Assize Court dismissed the applicant\\u2019s objections on the basis of the case file, holding that the decision of the Edirne Enforcement Court had been in accordance with law and procedure.\\n11.\\u00a0\\u00a0In the meantime, that is to say on 16 September 2005, the prison administration lodged another request with the public prosecutor in relation to the package sent by the applicant\\u2019s lawyer. In that request, it submitted that the applicant\\u2019s lawyer\\u2019s conduct had been incompatible with her duties as a lawyer and requested that section 5 of Law no. 5351, which provides for an official to be present during consultations between a prisoner and his or her lawyer, be applied to the applicant.\\n12.\\u00a0\\u00a0On 23 September 2005, referring to its earlier decision of 25 August 2005, the Edirne Enforcement Court in an examination carried out on the basis of the case file, without holding a hearing and without seeking submissions from the applicant or his lawyer, granted an application on the part of the prison administration and therefore held that an official was to be present during the applicant\\u2019s consultations with his lawyer. The decision did not specify how long the restriction was to remain in force. The Edirne Enforcement Court further held that, if requested, a separate decision would be taken as to whether the exchange of documents between the applicant and his lawyer would also be subject to a restriction.\\n13.\\u00a0\\u00a0On 24 October 2005 the applicant objected to the decision of 23\\u00a0September 2005 before the Edirne Assize Court. He submitted that the impugned decision did not explain why it was necessary to restrict the privacy of his consultations with his lawyer. He argued in that connection that a provision which provided for such a restriction could only be applied if it had emerged from documents and other evidence that visits by lawyers to a person convicted of organised crime had been serving as a means of communication within the criminal organisation in question. He argued that no such element had been present in his situation and the court had not conducted any examination in that connection. Lastly, he maintained that there were no legal provisions prohibiting the exchange of legal books and magazines between a prisoner and his lawyer. The applicant did not request that the examination of his case be carried out by holding a hearing.\\n14.\\u00a0\\u00a0On 27 October 2005 the Edirne Assize Court dismissed the case on the basis of the case file and without holding a hearing. Without responding to the applicant\\u2019s arguments, it held that the Edirne Enforcement Court\\u2019s decision of 23 September 2005 had been in accordance with the law and procedure.\\nA.\\u00a0\\u00a0Developments after the introduction of the case\\n15.\\u00a0\\u00a0On 29 May 2008 the applicant lodged an application with the Edirne Enforcement Court for the restriction on the conversations between him and his lawyer to be lifted.\\n16.\\u00a0\\u00a0On 4 June 2008 the applicant\\u2019s application was dismissed on the basis of the case file. The court held that the decision of 23 September 2005 had become final and that there was no need for a further examination.\\n17.\\u00a0\\u00a0The applicant lodged another application on 2 November 2010 and applied for a hearing in accordance with the new amendments to the procedure before the enforcement courts (see paragraph 27 below). On 6\\u00a0December 2010 the Edirne Enforcement Court dismissed the applicant\\u2019s application for a hearing, holding that the new amendments to the procedure concerned only the examination of objections against disciplinary sanctions, so that in so far as the restriction of 23 September 2005 had not been a disciplinary sanction, no hearing could be held in respect of that complaint. It further dismissed the applicant\\u2019s application for the restriction to be lifted, holding that the decision of 23 September 2005 had been final. An appeal against that decision by the applicant was dismissed on 24\\u00a0August 2011.\\n18.\\u00a0\\u00a0On 21 February 2013 the applicant lodged an application again with the Edirne Enforcement Court and repeated his request for the restriction to be lifted. The court dismissed that application on 11 April 2013, holding that there had not been any change in the circumstances of the applicant and the decision relating to the restriction on the consultations with the applicant\\u2019s lawyer. In that connection, the court held that there was still a risk in view of the previous decisions taken in respect of the applicant by the enforcement courts as well as the lawyer\\u2019s conduct. An appeal by the applicant against that decision was rejected on 10 June 2013.\\n19.\\u00a0\\u00a0At time of the adoption of this judgment, the restriction on the applicant\\u2019s right to conf\\u0131dential communications with his lawyer remains in place.\\nB.\\u00a0\\u00a0The applicant\\u2019s previous application with the Court and further developments\\n20.\\u00a0\\u00a0On 17 February 2006 the applicant lodged an application with the Court, complaining about the Edirne Enforcement Court\\u2019s decision of 25\\u00a0August 2005.\\n21.\\u00a0\\u00a0On 8 December 2015 the Court delivered an inadmissibility decision on account of non-exhaustion of domestic remedies and held that the applicant had to make use of the new domestic remedy established by Law\\u00a0no. 6384 (see Altay and Others v. Turkey (dec.), no. 9100/06 and 155\\u00a0others).\\n22.\\u00a0\\u00a0On 1 November 2016 the Compensation Commission held that the Edirne Enforcement Court\\u2019s decision not to hand over the book and the periodicals sent to the applicant by his lawyer had infringed the applicant\\u2019s right to receive information within the meaning of Article 10 of the Convention. They held in that connection that the impugned decision had constituted an interference which had not been based on relevant and sufficient reasons, notably because the domestic court had not explained in its decision in what respect the books and magazines in question had jeopardised the security of the institution.\\nII.\\u00a0\\u00a0RELEVANT LAW AND PRACTICE\\nA.\\u00a0\\u00a0Domestic legislation\\n1.\\u00a0\\u00a0Law no. 5275 on the enforcement of sentences and preventive measures and the amendment introduced by Law no. 5351\\n23.\\u00a0\\u00a0The relevant provisions of Law no. 5275 on the enforcement of sentences and preventive measures as in force at the material time provided as follows:\\n\\u201cSection 59 \\u2013 Right to consultation with a lawyer or a notary\\n...\\n(2)\\u00a0\\u00a0Consultation with a lawyer or a notary may be carried out during working hours except for weekends and public holidays, in a place reserved for that purpose within the sight but not the hearing of officials.\\n...\\n(4)\\u00a0\\u00a0[as amended by section 5 of Law no. 5351] A lawyer\\u2019s documents and files related to the defence and his or her records of the meetings with his or her client shall not be subject to examination. However, if it emerges from documents or other evidence that visits by lawyers to a person convicted of the offences set out in section\\u00a0220 of the Criminal Code or sub-chapters 4 and 5 of Chapter 2 of the Criminal Code are serving as a means of communication with a terrorist organisation or of committing a crime or otherwise jeopardising the security of the prison, the enforcement court may, on the application of the prosecution, impose [the following measures]: presence of an official during the lawyer\\u2019s visits; verification of documents exchanged between the prisoner and his or her lawyers during such visits; and/or confiscation of all or some of these documents by the judge.\\n...\\u201d\\n\\u201cSection 62 \\u2013 Right to benefit from publications\\n(1)\\u00a0\\u00a0A convicted prisoner may purchase periodical or non-periodical publications at his or her own expense provided that they are not banned by a court order.\\n...\\n(3)\\u00a0\\u00a0No publication shall be handed over to a convicted prisoner which contains news, photographs or editorials that jeopardise the security of the prison or are obscene.\\u201d\\n\\u201cSection 68 \\u2013 Right to receive and send letters, fax and telegrams\\n\\u201c1.\\u00a0\\u00a0With the exception of the restrictions set forth in this section, convicted prisoners shall have the right, at their own expense, to send and receive letters, faxes and telegrams.\\n2.\\u00a0\\u00a0The letters, faxes and telegrams sent or received by prisoners shall be monitored by the reading committee in those prisons that have such a body, or, in those which do not, by the highest authority in the prison.\\n3.\\u00a0\\u00a0If letters, faxes and telegrams to prisoners are a threat to order and security in the prison, single out serving officials as targets, permit communication between terrorist or criminal organisations, contain false or misleading information likely to cause panic in individuals or institutions, or contain threats or insults, they shall not be forwarded to the addressee.\\n...\\u201d\\n24.\\u00a0\\u00a0Section 59(4) of Law no. 5275 was repealed on 1 February 2018 and replaced at the same time by new provisions concerning the restriction of the privacy of communication of prisoners and their lawyers.\\n2.\\u00a0\\u00a0Competence of enforcement courts and the objection procedure before Assize Courts\\n25.\\u00a0\\u00a0Section 4 of Law no. 4675 on enforcement judges lays downs the competences of enforcement courts on ruling on objections concerning, inter alia , prison authorities\\u2019 decisions or actions in execution of sentences, the communication of detainees and prisoners with the outside world and the imposition of disciplinary sanctions. Furthermore, section 6 stipulates that an enforcement court must decide on the basis of the case file, after obtaining the written opinion of the relevant public prosecutor and without holding a hearing. That court may conduct an examination ex proprio motu or request further information from the parties if the interests of justice so require.\\n26.\\u00a0\\u00a0An objection against the decisions of enforcement courts lies to the nearest Assize Court. The Assize Courts examine objections on points of fact and law without holding a hearing. The relevant articles of the Code of Criminal Procedure (Law no. 5271) in that connection provides as follows:\\nArticle 270\\n\\u201cThe authority examining the objection may communicate it to the public prosecutor and the other party in order to obtain their written observations. The authority may conduct further investigation into the matter ...\\u201d\\nArticle 271\\n\\u201c1.\\u00a0\\u00a0Save for the circumstances described by law, the courts shall make decisions about objections without holding a hearing. The public prosecutor as well as the defendant or his or her legal representative may be heard if necessary.\\n2.\\u00a0\\u00a0Where the objection is allowed, the court examining [the objection] shall render a decision on the subject-matter of the objection.\\n...\\n4.\\u00a0\\u00a0The decision delivered in respect of the objection shall be final ...\\u201d.\\n27.\\u00a0\\u00a0On 22 July 2010 Law no. 6008 amended section 6 of Law no. 4675. It was published in the Official Gazette on 25 July 2010. These amendments set out a new procedure in respect of disciplinary sanctions only. Accordingly, the enforcement court delivers a decision after hearing the defence submissions of the prisoner concerned and collecting all the evidence. The prisoner can present his or her defence submissions in person and/or in the presence of his or her lawyer, or through a lawyer only. The Law further provides a remedy for all those prisoners who had previously lodged objections with the enforcement judges concerning disciplinary sanctions imposed on them before the adoption of this Law (Provisional Article 1). Accordingly, those who had previously lodged objections with enforcement judges against a prison disciplinary sanction have the possibility of lodging a fresh objection with the enforcement judge within six months of the adoption of this Law, and their cases will be dealt with in accordance with the new procedures.\\n3.\\u00a0\\u00a0Compensation Commission established by Law no. 6384 of 19\\u00a0January 2013 and the decree of 16 March 2014\\n28 .\\u00a0\\u00a0 The object of Law no. 6384 was to provide for the settlement, by means of compensation, of applications lodged with the Court concerning length of judicial proceedings and non-enforcement or delayed enforcement of judicial decisions. A full description of the relevant domestic law may be found in Turgut and Others v. Turkey ((dec.), no. 4860/09, \\u00a7\\u00a7 19-26, 26\\u00a0March 2013).\\n29.\\u00a0\\u00a0The competence ratione materiae of the Compensation Commission was subsequently extended by a decree which came into force on 16 March 2014. The decree extended the competence of the Compensation Commission to the examination of other complaints such as alleged restriction of the right of detainees to correspondence in a language other than Turkish and the prison authorities\\u2019 refusal, on different grounds, to hand over periodicals. A full description of the relevant domestic law may be found in Y\\u0131ld\\u0131z and Yanak v. Turkey ((dec.), no. 44013/07, \\u00a7\\u00a7 9-17, 27\\u00a0May 2014).\\n30.\\u00a0\\u00a0Furthermore, under Article 5 \\u00a7 2 of Law no. 6384, an applicant may apply to the Compensation Commission within one month of the official notification of the Court\\u2019s inadmissibility decision by the Government.\\n4.\\u00a0\\u00a0Decree of 9 March 2016\\n31.\\u00a0\\u00a0The Turkish Council of Ministers issued a decree which came into force on 9 March 2016. The decree extended anew the competence ratione materiae of the Compensation Commission. The Compensation Commission is now entitled to examine the following subjects under Article\\u00a04 of the decree, which reads as follows:\\nArticle 4\\n\\u201c...\\nd)\\u00a0\\u00a0Applications concerning an alleged breach of an applicant\\u2019s right to private and family life on account of the respective disciplinary sanctions imposed on detainees and convicted persons by the prison authorities;\\n...\\u201d\\nB.\\u00a0\\u00a0Relevant international legal instruments\\nEuropean Prison Rules\\n32.\\u00a0\\u00a0The recommendation of the Committee of Ministers to Member States of the Council of Europe on the European Prison Rules (Rec (2006)2, adopted on 11 January 2006 at the 952nd meeting of the Ministers\\u2019 Deputies), in so far as relevant, reads as follows:\\nLegal advice\\n\\u201c23.1\\u00a0\\u00a0All prisoners are entitled to legal advice, and the prison authorities shall provide them with reasonable facilities for gaining access to such advice.\\n23.2\\u00a0\\u00a0Prisoners may consult any legal matter with a legal adviser of their own choice and at their own expense.\\n23.3\\u00a0\\u00a0Where there is a recognized scheme of free legal aid the authorities shall bring it to the attention of prisoners.\\n23.4\\u00a0\\u00a0Consultations and other communications including correspondence about legal matters between prisoners and their legal advisers shall be confidential.\\n23.5\\u00a0\\u00a0A judicial authority may in exceptional circumstances authorize restrictions on such confidentiality to prevent serious crime or major breaches of prison safety and security.\\n23.6\\u00a0\\u00a0Prisoners shall have access to, or be allowed to keep in their possession, documents relating to their legal proceedings.\\u201d\\n33.\\u00a0\\u00a0The relevant part of the Body of Principles for the Protection of All Persons under Any Form of Detention or Imprisonment approved by the United Nations General Assembly on 9 December 1988 (A/RES/43/173) reads as follows:\\nPrinciple 18\\n\\u201c1.\\u00a0\\u00a0A detained or imprisoned person shall be entitled to communicate and consult with his legal counsel.\\n2.\\u00a0\\u00a0A detained or imprisoned person shall be allowed adequate time and facilities for consultation with his legal counsel.\\n3.\\u00a0\\u00a0The right of a detained or imprisoned person to be visited by and to consult and communicate, without delay or censorship and in full confidentiality, with his legal counsel may not be suspended or restricted save in exceptional circumstances, to be specified by law or lawful regulations, when it is considered indispensable by a judicial or other authority in order to maintain security and good order.\\n4.\\u00a0\\u00a0Interviews between a detained or imprisoned person and his legal counsel may be within sight, but not within the hearing, of a law enforcement official.\\n5.\\u00a0\\u00a0Communications between a detained or imprisoned person and his legal counsel mentioned in the present principle shall be inadmissible as evidence against the detained or imprisoned person unless they are connected with a continuing or contemplated crime.\\u201d\\n34.\\u00a0\\u00a0The Basic Principles on the Role of Lawyers (adopted by the Eighth United Nations Congress on the Prevention of Crime and the Treatment of Offenders, held in Havana, Cuba, from 27 August to 7 September 1990) state, in particular:\\n\\u201c8.\\u00a0\\u00a0All arrested, detained or imprisoned persons shall be provided with adequate opportunities, time and facilities to be visited by and to communicate and consult with a lawyer, without delay, interception or censorship and in full confidentiality. Such consultations may be within sight, but not within the hearing, of law enforcement officials.\\n16.\\u00a0\\u00a0Governments shall ensure that lawyers (a) are able to perform all of their professional functions without intimidation, hindrance, harassment or improper interference; (b) are able to travel and to consult with their clients freely both within their own country and abroad; and (c) shall not suffer, or be threatened with, prosecution or administrative, economic or other sanctions for any action taken in accordance with recognized professional duties, standards and ethics.\\n...\\n22.\\u00a0\\u00a0Governments shall recognize and respect that all communications and consultations between lawyers and their clients within their professional relationship are confidential.\\u201d\\nTHE LAW\\nI.\\u00a0\\u00a0ALLEGED VIOLATION OF ARTICLE 8 OF THE CONVENTION\\n35.\\u00a0\\u00a0The applicant complained that the judicial decision of 23 September 2005 ordering the presence of an official during his lawyer\\u2019s visits had contravened his right to confidential communication with his lawyer under Article 8 of the Convention, which reads as follows:\\n\\u201c1.\\u00a0\\u00a0Everyone has the right to respect for his private and family life ... and his correspondence.\\n2.\\u00a0\\u00a0There shall be no interference by a public authority with the exercise of this right except such as is in accordance with the law and is necessary in a democratic society in the interests of national security, public safety or the economic well-being of the country, for the prevention of disorder or crime, for the protection of health or morals, or for the protection of the rights and freedoms of others.\\u201d\\n36.\\u00a0\\u00a0The Government contested that argument.\\nA.\\u00a0\\u00a0Admissibility\\n37.\\u00a0\\u00a0Referring to the amendments of domestic law (see paragraph\\u00a031 above) and the competence of the Compensation Commission to examine applications concerning an alleged breach of an applicant\\u2019s right to private life on account of a disciplinary sanction imposed by the prison administration, the Government asked the Court to reject the application for non-exhaustion of domestic remedies. They argued that the restriction of the applicant\\u2019s privacy when meeting with his lawyer fell within the competence of the Compensation Commission. They submitted in that connection a decision by the Compensation Commission with respect to a prisoner who had successfully complained about a disciplinary sanction, specifically suspension of his letter and phone rights for a month, on account of his participation in a hunger strike. Furthermore they referred to the Compensation Commission\\u2019s decision in respect of the applicant concerning the Edirne Enforcement Court\\u2019s decision not to hand over the books and magazines to the applicant (see paragraph 22 above). They therefore argued that the applicant had to exhaust this remedy.\\n38.\\u00a0\\u00a0The applicant submitted that the Compensation Commission could not be considered an effective remedy in respect of the restriction of his right to private communication with his lawyer. He submitted that the Compensation Commission\\u2019s competence did not go beyond offering compensation in respect of a number of limited situations and that it could not lift the restriction in question. Moreover, he argued that he had gone before the domestic courts at regular intervals for them to lift the restriction (see paragraphs 15-18 above) and his objections had been rejected each time and the restriction remained in place without a limitation on its duration.\\n39.\\u00a0\\u00a0The Court reiterates that Article 35 \\u00a7 1 of the Convention, which sets out the rules on exhaustion of domestic remedies, provides for a distribution of the burden of proof. It is incumbent on the Government claiming nonexhaustion to satisfy the Court that the remedy was an effective one available in theory and in practice at the relevant time, that is to say that it was accessible, was one which was capable of providing redress in respect of the applicant\\u2019s complaints and offered reasonable prospects of success. The Court further reiterates that the domestic remedies must be \\u201ceffective\\u201d in the sense either of preventing the alleged violation or its continuation, or of providing adequate redress for any violation that had already occurred (see Vu\\u010dkovi\\u0107 and Others v. Serbia (preliminary objection) [GC], nos.\\u00a017153/11 and 29 others, \\u00a7\\u00a7 71-74, 25 March 2014).\\n40.\\u00a0\\u00a0In the present case the Court notes that the competence of the Compensation Commission extends to, inter alia , applications concerning an alleged breach of an applicant\\u2019s right to private and family life on account of the respective disciplinary sanctions imposed on detainees and convicted persons by the prison authorities. However, the restriction of the applicant\\u2019s right to private communication with his lawyer was not on the basis of the disciplinary regulations and has never been classified as a disciplinary sanction. This was also confirmed by the approach of the Edirne Enforcement Court in its decision of 6 December 2010, which explicitly referred to the restriction as not being a disciplinary measure (see paragraph 17 above). What is more, the Government have argued in their observations concerning the merits of the application that the measure in question could not be classified as a disciplinary sanction (see paragraph 61 below). In any event, the Court notes that the Government have failed to provide any explanation as to how a complaint to the Compensation Commission, which does not have the competence to quash court decisions or order new measures, could have put an end to the continuing situation, or to the kind of redress which the applicant could have been afforded as a result of the complaint. In these circumstances, the Court finds that the application cannot be rejected for non-exhaustion of domestic remedies.\\n41.\\u00a0\\u00a0The Court notes that the complaint is not manifestly ill-founded within the meaning of Article 35 \\u00a7 3 of the Convention. It further notes that it is not inadmissible on any other grounds. It must therefore be declared admissible.\\nB.\\u00a0\\u00a0Merits\\n1.\\u00a0\\u00a0The parties\\u2019 submissions\\n(a)\\u00a0\\u00a0The applicant\\n42.\\u00a0\\u00a0The applicant maintained that there was no prohibition on receiving non-prohibited publications from his lawyer in domestic law. To demonstrate this accepted practice in respect of convicted prisoners and their lawyers, he submitted an acknowledgement of receipt of correspondence by a prison board concerning a similar exchange between a convicted prisoner in an F-type prison and his lawyer. He maintained that it was not unusual to receive non-prohibited goods such as clothing, books or even money sent by family members through lawyers for the sake of convenience.\\n43.\\u00a0\\u00a0For the same reason, the impugned decision of 23 September 2005, which justified interfering with the confidentiality of lawyer-client communication by reference to the books and materials sent to the applicant by his lawyer, was not in accordance with the law. In that connection, the applicant argued that the reasons put forward by the court \\u2013 specifically that the documents sent by his lawyer did not relate to the rights of the defence and the behaviour of the lawyer in sending such documents was not compatible with the profession of a lawyer \\u2013 were not reasons corresponding to those set out in section 59(4) of Law no. 5275. That provision only allowed a restriction to be placed on communications between a prisoner and his or her lawyer when it had become evident from the documents that the lawyer-client relationship was serving as a means of communication with a terrorist organisation, which had not been the case here. Moreover, it had become clear from the decision of the Compensation Commission that the decision of 25 August 2005 not to hand over the books and materials in question to the applicant had not been justified by relevant and sufficient reasons and had contravened the applicant\\u2019s right to receive information. In so far as there had not been a justified basis for the decision of 25 August 2005 which had been used as a justification for the decision of 23\\u00a0September 2005, the applicant maintained that his right to confidential communication with his lawyer amounted to an unlawful interference with his rights under Article 8 of the Convention. As regards the findings of the authorities that the applicant\\u2019s lawyer\\u2019s conduct had been incompatible with the profession of a lawyer, the applicant argued that neither the prison authorities nor the Enforcement Court had been the competent authorities to determine what constituted incompatible conduct of a lawyer. Such a complaint could only to be decided by the relevant Bar association.\\n44.\\u00a0\\u00a0Furthermore, the applicant referred to the universally acknowledged principle of lawyer-client confidentiality, in particular to the principle that communications between a lawyer and his or her client could be within the sight but not the hearing of an official. Lastly, the applicant noted that the restriction in his case had been put in place without a limitation concerning its length and had remained in place for thirteen years.\\n(b)\\u00a0\\u00a0The Government\\n45.\\u00a0\\u00a0The Government disagreed that there had been an interference with the applicant\\u2019s rights under Article 8 of the Convention on account of the restriction of the confidentiality of his meetings with his lawyer. The Government submitted that, were the Court to find that there had been an interference, it had been justified under the second paragraph of Article\\u00a08. They submitted that the restriction had been in accordance with the law, namely section 5 of Law no. 5275, and had pursued the legitimate aim of ensuring order and security in the prison and protecting the rights of convicted prisoners and detainees.\\n46.\\u00a0\\u00a0The Government furthermore argued that the applicant had five other lawyers in respect of whom no restrictions were in place. Accordingly, they submitted that the applicant could have indeed had had confidential consultations with his other lawyers. Therefore, they argued that there was no disproportionate limitation of the applicant\\u2019s right to consultation with a lawyer in the present case. Furthermore, they maintained that the applicant\\u2019s lawyer had abused her position as a lawyer by sending books and materials by post which had given rise to a suspicion in so far as the applicant had been convicted of a terrorism-related offence. They explained that letters sent to convicted prisoners were normally subject to a reading committee, but that letters sent by lawyers, owing to the privilege of the lawyer-client relationship, were not. The sending of materials that were not defencerelated had compelled the prison administration to obtain a decision of the Enforcement Court to determine their contents. Once it had emerged that the contents of the package were not defence-related and that the lawyer had abused her privilege by acting unprofessionally, the authorities had taken the measure in question in order to prevent further abuse.\\n2.\\u00a0\\u00a0The Court\\u2019s assessment\\n(a)\\u00a0\\u00a0Principles established in the Court\\u2019s case-law concerning the situation of prisoners\\n47.\\u00a0\\u00a0The Court reiterates that prisoners in general continue to enjoy all the fundamental rights and freedoms guaranteed under the Convention save for the right to liberty, where lawfully imposed detention expressly falls within the scope of Article 5 of the Convention. There is no question that a prisoner forfeits his Convention rights because of his status as a person detained following conviction (see Hirst v. the United Kingdom (no. 2) [GC], no.\\u00a074025/01, \\u00a7\\u00a7 69-70, ECHR 2005IX). For example, prisoners may not be ill-treated, they continue to enjoy the right to respect for family life, the right to freedom of expression, the right to practise their religion, the right to respect for correspondence and the right to marry, among others (see Dickson v. the United Kingdom [GC], no. 44362/04, \\u00a7\\u00a7 67-68, ECHR 2007-V, and the cases cited therein, Khoroshenko v. Russia [GC], no.\\u00a041418/04, \\u00a7\\u00a7 116-117, ECHR 2015). The circumstances of imprisonment, in particular considerations of security and the prevention of crime and disorder, may justify restrictions on those other rights; nonetheless, any restriction must be justified in each individual case (see\\u00a0 Bir\\u017eietis v.\\u00a0Lithuania , no. 49304/09, \\u00a7 45, 14 June 2016 with reference to Dickson v.\\u00a0the United Kingdom, cited above, \\u00a7\\u00a7 67-68).\\n48.\\u00a0\\u00a0With regard to the requirement of being \\u201cnecessary in a democratic society\\u201d, the Court has specified that the notion of \\u201cnecessity\\u201d implies that the interference corresponds to a pressing social need and, in particular, that it is proportionate to the legitimate aims pursued. In determining whether an interference was \\u201cnecessary in a democratic society\\u201d, the Court will take into account that a margin of appreciation is left to the Contracting States, but it remains incumbent on the respondent State to demonstrate the existence of the pressing social need behind the interference. Furthermore, the Court cannot confine itself to considering the impugned facts in isolation, but must apply an objective standard and look at them in the light of the case as a whole (see Khoroshenko , cited above, \\u00a7 118).\\n49.\\u00a0\\u00a0As regards the right to confidential communication with a lawyer and whether it falls under the notion of \\u201cprivate life\\u201d within the meaning of Article 8 \\u00a7 1 of the Convention, the Court reiterates that private life is a broad term not susceptible to exhaustive definition. Article 8 protects the right to personal development, whether in terms of personality or of personal autonomy, which is an important principle underlying the interpretation of the Article 8 guarantees. It encompasses the right for each individual to approach others in order to establish and develop relationships with them and with the outside world, that is, the right to a \\u201cprivate social life\\u201d, and may include professional activities or activities taking place in a public context (see B\\u0103rbulescu v. Romania [GC], no. 61496/08, \\u00a7\\u00a7 70-71, 5\\u00a0September 2017). There is, therefore, a zone of interaction of a person with others, even in a public context, which may fall within the scope of \\u201cprivate life\\u201d (see Uzun v. Germany , no. 35623/05, \\u00a7 43, ECHR 2010 (extracts) with further references). The Court further considers that a person\\u2019s communication with a lawyer in the context of legal assistance falls within the scope of private life since the purpose of such interaction is to allow an individual to make informed decisions about his or her life. More often than not the information communicated to the lawyer involves intimate and personal matters or sensitive issues. It therefore follows that whether it be in the context of assistance for civil or criminal litigation or in the context of seeking general legal advice, individuals who consult a lawyer can reasonably expect that their communication is private and confidential.\\n50.\\u00a0\\u00a0Furthermore, the Court reiterates that it is clearly in the general interest that any person who wishes to consult a lawyer should be free to do so under conditions which favour full and uninhibited discussion. It is for this reason that the lawyer-client relationship is, in principle, privileged (see\\u00a0 Campbell v.\\u00a0the\\u00a0United Kingdom , 25 March 1992, \\u00a7 46, Series A no.\\u00a0233). The Court has previously held, in the context of Articles 8 and 6, that confidential communication with one\\u2019s lawyer is protected by the Convention as an important safeguard of the right to defence (see Apostu v.\\u00a0Romania , no.\\u00a022765/12, \\u00a7 96, 3 February 2015 with reference to Campbell v. the United Kingdom, cited above, \\u00a7 46). In Beuze v. Belgium ([GC], no. 71409/10, \\u00a7 133, 9 November 2018, and the cases cited therein), the Court stressed the importance of a prisoner\\u2019s right to communicate with counsel out of earshot of the prison authorities in the context of Article 6 \\u00a7\\u00a03\\u00a0(c) of the Convention. In the Court\\u2019s view, prisoners may feel inhibited in discussing with their lawyers in the presence of an official not only matters relating to pending litigation but also in reporting abuses they may be suffering through fear of retaliation. The Court further observes that the privilege of lawyer-client relationship and the national authorities\\u2019 obligation to ensure the privacy of communications between a prisoner and his or her chosen representative are among recognised international norms (see paragraphs 32-34 above).\\n51.\\u00a0\\u00a0As regards the content of the communication and the privilege accorded to the lawyer-client relationship in the context of persons deprived of their liberty, in Campbell , the Court found no reason to distinguish between the different categories of correspondence with lawyers which, whatever their purpose, concern matters of a private and confidential character (see Campbell , cited above, \\u00a7 48). It noted in that connection that the borderline between correspondence concerning contemplated litigation and that of a general nature was especially difficult to draw and correspondence with a lawyer may concern matters which have little or nothing to do with litigation (ibid., \\u00a7 48). The Court considers that this principle applies a fortiori to oral, face-to-face communication with a lawyer. It therefore follows that in principle oral communication as well as correspondence between a lawyer and his or her client is privileged under Article 8 of the Convention.\\n52.\\u00a0\\u00a0The Court however recognises that, in spite of its importance, the right to confidential communication with a lawyer is not absolute but may be subject to restrictions. In order to ensure that the restrictions that are imposed do not curtail the right in question to such an extent as to impair its very essence and deprive it of its effectiveness, the Court must satisfy itself that they are foreseeable for those concerned and pursue a legitimate aim or aims under paragraph 2 of Article 8, and are \\u201cnecessary in a democratic society\\u201d, in the sense that they are proportionate to the aims sought to be achieved. The Court further notes that the margin of appreciation of the respondent State in the assessment of the permissible limits of interference with the privacy of consultation and communication with a lawyer is narrow in that only exceptional circumstances, such as to prevent the commission of serious crime or major breaches of prison safety and security, might justify the necessity of limitation of these rights. For instance, in the context of persons deprived of their liberty for terrorist activities, the Court has held that they cannot be excluded from the scope of the provisions of the Convention and the essence of their rights and freedoms recognised by the latter must not be infringed, the national authorities can impose \\u201clegitimate restrictions\\u201d on them inasmuch as those restrictions are strictly necessary to protect society against violence (see \\u00d6calan v. Turkey (no. 2) , nos.\\u00a024069/03 and 3 others, \\u00a7\\u00a7 38-45 and \\u00a7 135, 18 March 2014).\\n(b)\\u00a0\\u00a0Application of the above principles in the present case\\n53.\\u00a0\\u00a0In the present case, it is not disputed that the restriction placed on the confidentiality of the applicant and his lawyer\\u2019s meetings was ordered by the Edirne Enforcement Court in its decision of 23 September 2005. There has therefore been an \\u201cinterference by a public authority\\u201d within the meaning of Article 8 \\u00a7 2 of the Convention with the applicant\\u2019s right to respect for his private life in the context of the privacy of oral communications with his lawyer. It is therefore incumbent on the Court to establish whether the impugned interference was justified under Article\\u00a08 \\u00a7\\u00a02 of the Convention as being \\u201cin accordance with the law\\u201d, pursuing a legitimate aim or aims, and as being \\u201cnecessary in a democratic society\\u201d in pursuit of that aim or aims.\\n54.\\u00a0\\u00a0Under the Court\\u2019s case-law, the expression \\u201cin accordance with the law\\u201d in Article 8 \\u00a7 2 requires, among other things, that the measure or measures in question should have some basis in domestic law, but also refers to the quality of the law in question, requiring that it should be accessible to the person concerned and foreseeable as to its effects (see, for example, De Tommaso v. Italy [GC], no. 43395/09, \\u00a7 106, 23 February 2017 with further references). In order for the law to meet the criterion of foreseeability, it must set forth with sufficient precision the conditions in which a measure may be applied, to enable the persons concerned \\u2013 if need be, with appropriate advice \\u2013 to regulate their conduct.\\n55.\\u00a0\\u00a0The Court also reiterates that it is primarily for the national authorities, notably the courts, to interpret and apply domestic law. However, the Court is required to verify whether the way in which domestic law is interpreted and applied produces consequences that are consistent with the principles of the Convention as interpreted in the light of the Court\\u2019s case-law (see Cocchiarella v. Italy [GC], no. 64886/01, \\u00a7\\u00a7 81 and 82, ECHR 2006\\u2011V). Unless the interpretation is arbitrary or manifestly unreasonable, the Court\\u2019s role is confined to ascertaining whether the effects of the interpretation are compatible with the Convention (see Molla Sali v. Greece [GC], no. 20452/14, \\u00a7 149, 19 December 2018).\\n56.\\u00a0\\u00a0Lastly, the Convention does not prohibit the imposition on lawyers of certain obligations likely to concern their relationships with their clients. This is the case in particular where credible evidence is found of the participation of a lawyer in an offence, or in connection with efforts to combat certain practices. On that account, however, it is vital to provide a strict framework for such measures, since lawyers occupy a vital position in the administration of justice and can, by virtue of their role as intermediary between litigants and the courts, be described as officers of the law (see, mutatis mutandis , Andr\\u00e9 and Another v. France , no. 18603/03, \\u00a7 42, 24\\u00a0July 2008, and Morice v. France [GC], no. 29369/10, \\u00a7 132, ECHR 2015).\\n57.\\u00a0\\u00a0Turning to the circumstances of the present case, the Court observes that the domestic courts referred to section 59 of Law no. 5275 as the legal basis for their interference with the confidentiality of the applicant\\u2019s meetings with his lawyer. They ruled in that connection that the lawyer\\u2019s behaviour had been incompatible with the profession of a lawyer in so far as she had sent books and periodicals to the applicant which had not been defence-related. The Court however observes that section 59 of Law no.\\u00a05275 is an exceptional measure which contains an exhaustive list of circumstances in which the confidentiality of lawyer-client communication may be restricted. According to that provision, only when it is apparent from documents or other material that the privilege enjoyed by a prisoner and his or her lawyer is being used as a means for communication with a terrorist organisation, or for the commission of a crime or otherwise jeopardises the security of the institution, may the presence of a prison official during lawyer-client meetings be ordered. The interception of correspondence solely because it does not relate to the rights of defence is not provided in that section as grounds for restricting the confidentiality of consultation with a lawyer. To conclude otherwise would run counter to the plain meaning of the text of the provision and would mean that any correspondence from a lawyer which is not defence-related could result in such a serious measure being imposed, without a limitation in duration. Having regard to the present circumstances of the case, the Court concludes that although the letter and spirit of the domestic provision in force at the time of the events were sufficiently precise \\u2013 save for the lack of temporal limits to the restriction \\u2013 , its interpretation and application by the Edirne Enforcement Court to the circumstances of the applicant\\u2019s case was manifestly unreasonable and thus not foreseeable within the meaning of Article 8 \\u00a7 2 of the Convention. It follows that such an extensive interpretation of the domestic provision in the present case did not comply with the Convention requirements of lawfulness.\\nAccordingly, there has been a violation of Article 8 \\u00a7 1 of the Convention on account of the lack of foreseeability of the domestic courts\\u2019 interpretation and application of the law to the facts of the applicant\\u2019s case.\\n58.\\u00a0\\u00a0Having regard to the foregoing conclusion, the Court is not required to examine whether the interference pursued one or more legitimate aims and was necessary in a democratic society.\\nII.\\u00a0\\u00a0ALLEGED VIOLATION OF ARTICLE 6 \\u00a7 1 OF THE CONVENTION\\n59.\\u00a0\\u00a0The applicant complained under Article 6 \\u00a7 1 of the Convention that the manner in which the domestic courts had decided to restrict the privacy of his communications with his lawyer had been unfair. In that connection he complained that he had not been given an opportunity to participate effectively in those proceedings in so far as there had been no hearing and neither he nor his lawyer had been given an opportunity to present their arguments in reply to the prison administration\\u2019s application or against the request of the public prosecutor. Lastly, the applicant argued that the domestic courts\\u2019 decisions had lacked sufficient reasoning.\\n60.\\u00a0\\u00a0Article 6 \\u00a7 1 of the Convention, in so far as relevant, reads as follows:\\n\\u201cIn the determination of his civil rights and obligations or of any criminal charge against him, everyone is entitled to a fair and public hearing within a reasonable time by an independent and impartial tribunal established by law. ...\\u201d\\nA.\\u00a0\\u00a0Admissibility\\n61.\\u00a0\\u00a0It was the Government\\u2019s position that Article 6 was not applicable to the present case under either its civil or criminal head. They argued in that connection that the Edirne Enforcement Court\\u2019s decision of 23 September 2005 had been a preventive measure concerning first and foremost the order and security of the prison facility and therefore was of a public nature. Secondly, they argued that the impugned decision could not be considered a disciplinary penalty or a sanction of the criminal sort in so far as the applicant had not been charged with a criminal offence or sanctioned with a measure that had been punitive in nature. Lastly, they argued that the applicant had not referred to any civil proceedings to which he had been party in connection with his representation by his lawyer which he could rely on for the applicability of the civil limb of Article 6 of the Convention.\\n62.\\u00a0\\u00a0The applicant made no submissions on the question of the applicability of Article 6.\\n63.\\u00a0\\u00a0The Court agrees with the Government that the measure in question was not classified as a disciplinary measure and in any case the applicant himself was never charged with blameworthy disciplinary conduct. On the contrary, it was the applicant\\u2019s lawyer whose conduct was found to breach prison regulations, leading the Edirne Enforcement Court to take a decision to restrict the privacy of the applicant\\u2019s meetings with her. It is therefore evident that Article 6 did not apply under its criminal head to those proceedings as the applicant did not have any criminal charge to answer. The Court therefore concludes that Article 6 is not applicable to the impugned proceedings under its criminal head. It has to examine next whether the civil limb of Article 6 \\u00a7 1 is applicable.\\n64.\\u00a0\\u00a0In this connection the Court reiterates that for Article 6 \\u00a7 1 in its \\u201ccivil\\u201d limb to be applicable, there must be a dispute ( contestation in the French text) over a \\u201ccivil right\\u201d which can be said, at least on arguable grounds, to be recognised under domestic law, irrespective of whether it is also protected under the Convention. The dispute must be genuine and serious; it may relate not only to the actual existence of a right but also to its scope and the manner of its exercise; and, lastly, the result of the proceedings must be directly decisive for the right in question, mere tenuous connections or remote consequences not being sufficient to bring Article 6 \\u00a7\\u00a01 into play (see, inter alia , De Tommaso , cited above, \\u00a7 144). The character of the legislation which governs how the matter is to be determined (civil, commercial, administrative law, and so on) and that of the authority which is invested with jurisdiction in the matter (ordinary court, administrative body, and so forth) are therefore of little consequence (see\\u00a0 Micallef v. Malta [GC], no. 17056/06, \\u00a7 74, ECHR 2009).\\n65.\\u00a0\\u00a0As regards the existence of a right recognised in domestic law in the present case, the Court observes that the relevant domestic legislation confers on prisoners the right to have confidential communication with their lawyers in line with the European Prison Rules. It follows that a \\u201cdispute [ contestation ] over a right\\u201d for the purposes of Article 6 \\u00a7 1 can be said to have existed in the instant case.\\n66.\\u00a0\\u00a0With regard to whether the right in question is civil, the Court first observes that it has developed an extensive approach, according to which the \\u201ccivil\\u201d limb has covered cases which might not initially appear to concern a civil right but which may have direct and significant repercussions on a private pecuniary or non-pecuniary right belonging to an individual. Through this approach, the civil limb of Article 6 has been applied to a variety of disputes which may have been classified in domestic law as public-law disputes (see Denisov v. Ukraine [GC], no. 76639/11, \\u00a7\\u00a051, 25 September 2018).\\n67.\\u00a0\\u00a0With regard to procedures instituted in the prison context, the Court has held that some restrictions on prisoners\\u2019 rights fall within the sphere of \\u201ccivil rights\\u201d. For example, the Court has found Article 6 to be applicable to certain types of disciplinary proceedings relating to the execution of prison sentences (see De Tommaso , cited above, \\u00a7 147, with reference to G\\u00fclmez v.\\u00a0Turkey , no. 16330/02, \\u00a7\\u00a7 27-31, 20 May 2008, in which the applicant was prohibited from receiving visits for one year). Similarly the Court has previously found a \\u201ccivil\\u201d right to be in issue in relation, for instance, to a prisoner\\u2019s family visits or correspondence or relationships with non-family members (see Enea v. Italy [GC], no. 74912/01, \\u00a7 119, ECHR 2009, and Ganci v. Italy , no. 41576/98, \\u00a7\\u00a7 2026, ECHR 2003XI).\\n68.\\u00a0\\u00a0In the present case, the Court considers that the above line of caselaw can be validly transposed to the circumstances of the present case. To begin with, the Court finds it appropriate to refer to its findings under Article 8 of the Convention, namely that the lawyer-client confidentiality is privileged and that oral communication with a lawyer falls under the notion of \\u201cprivate life\\u201d. Thus the substance of the right in question, which concerns the applicant\\u2019s ability to converse in private with his lawyer, is of a predominately personal and individual character, a factor that brings the present dispute closer to the civil sphere. Since a restriction on either party\\u2019s ability to confer in full confidentiality with each other would frustrate much of the usefulness of the exercise of this right, the Court concludes that private-law aspects of the dispute predominate over the public-law ones.\\n69.\\u00a0\\u00a0In view of the above the Court finds that Article 6 \\u00a7 1 is applicable under its civil limb in the instant case.\\n70.\\u00a0\\u00a0The Court finds that this complaint is not manifestly ill-founded within the meaning of Article 35 \\u00a7 3 of the Convention. It further notes that it is not inadmissible on any other grounds. It must therefore be declared admissible.\\nB.\\u00a0\\u00a0Merits\\n1.\\u00a0\\u00a0Submissions of the parties\\n71.\\u00a0\\u00a0The applicant did not submit further comments on this issue.\\n72.\\u00a0\\u00a0The Government argued that Article 6 of the Convention did not necessarily require a hearing in all proceedings. They argued in that connection that where no controversy existed over the facts of a case and the legal question was not particularly complex, proceedings could be dealt with on the basis of written submissions. They submitted that in proceedings before enforcement courts the examination of a case was done on the basis of the case file. The only exception to this rule concerned objections against disciplinary penalties, where a hearing would be held. In the present case, the fact that no hearing had taken place had not prevented the applicant from submitting his arguments against the decision of the Edirne Enforcement Court before the Assize Court. They also argued that in certain proceedings, such as the present one, the demands of efficiency and economy could justify dispensing with a hearing. They maintained in that connection that if each application submitted to an enforcement court were to be examined by holding a hearing, thousands of detainees and convicts would be required frequently to go outside of the prison institutions which would, economic hardships aside, jeopardise the security and the discipline of the institution.\\n73.\\u00a0\\u00a0Lastly, the Government argued that the applicant had never requested a hearing of his application when he had objected to the decision of the Edirne Enforcement Court of 23 September 2005.\\n2.\\u00a0\\u00a0The Court\\u2019s assessment\\n74.\\u00a0\\u00a0The Court reiterates that an oral, and public, hearing constitutes a fundamental principle that is enshrined in Article 6 \\u00a7 1 (see, among other authorities, Jussila v. Finland [GC], no. 73053/01, \\u00a7\\u00a040, ECHR 2006XIV). The Court further reiterates that, under Article 6 \\u00a7 1, the obligation to hold a hearing is not absolute and that exceptional circumstances relating to the nature of the issues to be decided by the court in the proceedings concerned may justify dispensing with a public hearing (see G\\u00f6\\u00e7 v. Turkey [GC], no.\\u00a036590/97, \\u00a7 42, ECHR 2002V). Furthermore, a hearing may be dispensed with if a party unequivocally waives his or her right thereto and there are no questions of public interest making a hearing necessary. A waiver may be explicit or tacit, in the latter case for example by refraining from submitting or maintaining a request for a hearing (see, among other authorities, Juri\\u010di\\u0107 v. Croatia , no. 58222/09, \\u00a7 87, 26 July 2011).\\n75.\\u00a0\\u00a0In Ramos Nunes de Carvalho e S\\u00e1 v. Portugal (nos. 55391/13 and 2\\u00a0others, \\u00a7\\u00a7 190-91, 6 November 2018), the Grand Chamber summarised by way of example certain situations in which the above-mentioned exceptional circumstances may justify dispensing with a hearing as well as those where the holding of a hearing is necessary as follows:\\n\\u201c(a)\\u00a0\\u00a0where there are no issues of credibility or contested facts which necessitate a hearing and the courts may fairly and reasonably decide the case on the basis of the case file (see D\\u00f6ry v. Sweden , no. 28394/95, \\u00a7 37, 12 November 2002, and Saccoccia v. Austria , no. 69917/01, \\u00a7 73, 18 December 2008);\\n(b)\\u00a0\\u00a0in cases raising purely legal issues of limited scope (see Allan Jacobsson v.\\u00a0Sweden (no. 2), 19 February 1998, \\u00a7 49, Reports 1998-I, and Mehmet Emin \\u015eim\\u015fek v. Turkey , no. 5488/05, \\u00a7\\u00a7 29-31, 28 February 2012), or points of law of no particular complexity (see Varela Assalino v. Portugal (dec.), no. 64336/01, 25 April 2002, and Speil v. Austria (dec.), no. 42057/98, 5 September 2002);\\n(c)\\u00a0\\u00a0where the case concerns highly technical issues. For instance, the Court has taken into consideration the technical nature of disputes concerning social-security benefits, which may be better dealt with in writing than in oral argument. It has held on several occasions that in this sphere the national authorities are entitled, having regard to the demands of efficiency and economy, to dispense with a hearing, as systematically holding hearings may be an obstacle to the particular diligence required in social-security cases (see Schuler-Zgraggen , \\u00a7 58, and D\\u00f6ry , \\u00a7 41, both cited above).\\n191.\\u00a0\\u00a0By contrast, the Court has found the holding of a hearing to be necessary, for example:\\n(a)\\u00a0\\u00a0where there is a need to assess whether the facts were correctly established by the authorities (see Malhous v. the Czech Republic [GC], no. 33071/96, \\u00a7 60, 12 July 2001);\\n(b)\\u00a0\\u00a0where the circumstances require the court to form its own impression of litigants by affording them a right to explain their personal situation, on their own behalf or through a representative (see G\\u00f6\\u00e7 , cited above, \\u00a7 51; Miller , cited above, \\u00a7 34 in fine; and Andersson v. Sweden , no. 17202/04, \\u00a7 57, 7 December 2010);\\n(c)\\u00a0\\u00a0where the court needs to obtain clarification on certain points, inter alia by means of a hearing (see Fredin v. Sweden (no. 2), 23 February 1994, \\u00a7 22, Series A no. 283-A, and Lundevall v. Sweden , no. 38629/97, \\u00a7 39, 12 November 2002).\\u201d\\n76.\\u00a0\\u00a0As the Court\\u2019s case-law bears out, the circumstances that may justify dispensing with an oral hearing essentially come down to the nature of the issues to be decided by the competent national court, not to the frequency of such situations. It does not mean that refusing to hold an oral hearing may be justified only in rare cases. The overarching principle of fairness embodied in Article 6 is, as always, the key consideration (see Jussila v.\\u00a0Finland , cited above, \\u00a7 42, and the cases cited therein). Lastly, the Court has previously held that the lack of a hearing before a lower level of jurisdiction may be remedied by an appellate court as long as it has full jurisdiction to review the facts and law of the dispute (see Ramos Nunes de Carvalho e S\\u00e1 v. Portugal , cited above, \\u00a7 192 with further references).\\n77.\\u00a0\\u00a0Lastly, the Court recognises that in the context of proceedings concerning the prison context there may be practical and policy reasons for establishing simplified procedures to deal with various issues that may come before the relevant authorities. The Court also does not rule out that a simplified procedure might be conducted via written proceedings provided that they comply with the principles of a fair trial as guaranteed under Article 6 \\u00a7 1 of the Convention (see, mutatis mutandis , P\\u00f6nk\\u00e4 v. Estonia , no. 64160/11, \\u00a7 30, 8 November 2016). However, even under such a procedure, parties must at least have the opportunity of requesting a public hearing, even though the court may refuse the application and hold the hearing in private (see, mutatis mutandis , Martinie v. France [GC], no.\\u00a058675/00, \\u00a7 42, ECHR 2006-VI).\\n78.\\u00a0\\u00a0Turning to the circumstances of the present case, the Court observes at the outset that no oral hearing was held at any stage of the domestic proceedings. Under domestic legislation the proceedings before enforcement courts and subsequently before the assize courts were carried out on the basis of the case file and neither the applicant nor his chosen representative could attend their sittings. It is therefore of little importance that the applicant did not explicitly request a hearing, as the relevant procedural rules did not require one except in the case of disciplinary sanctions. Although the Government argued that the applicant could have requested that the Edirne Assize Court hold a hearing, the Court is not persuaded that any such application would have had any prospects of success. In that connection, the Government have not submitted an example in a similar context where an assize court held a hearing in its examination against the decision of an enforcement court. Secondly, the relevant rules concerning the procedure before assize courts in these types of disputes indicate that the question of holding a hearing is a matter decided by the assize courts on their own motion (see paragraph 26 above). In other words it was not up to the applicant to request a hearing (contrast the position in D\\u00f6ry , cited above, \\u00a7\\u00a7 28 and 38). The Court therefore finds that he cannot reasonably be considered to have waived his right to an oral hearing before the Edirne Assize Court.\\n79.\\u00a0\\u00a0Having regard to the above considerations, the Court will now examine whether there were any exceptional circumstances which justified dispensing with an oral hearing in the proceedings concerning the restriction on the applicant\\u2019s right to confidential communication with his lawyer.\\n80.\\u00a0\\u00a0In this connection the Court finds it significant that the applicant was not given an opportunity to make submissions in respect of the prison administration\\u2019s application in the proceedings before the Edirne Enforcement Court. In that connection the decision of 23 September 2005 to restrict the applicant\\u2019s right to confidential meetings with his lawyer was taken by the Edirne Enforcement Court in a non-adversarial manner without obtaining the applicant\\u2019s defence submissions. Lastly, the applicant\\u2019s objections to that decision before the Edirne Assize Court were also determined on the basis of the case file alone without holding a hearing, even though the applicant\\u2019s objections concerned factual and legal issues. The Court refers in particular to the submissions made by the applicant before the Edirne Assize Court concerning the nature of the publications sent by his lawyer and the alleged practice of the authorities of allowing representatives to bring in non-prohibited items to convicts for the sake of convenience. The Court further notes that the Assize Court had full jurisdiction to assess the facts and the law of the case and render a final decision by annulling the decision of the Edirne Enforcement Court had it allowed the applicant\\u2019s objection. In the Court\\u2019s view, the holding of a hearing would therefore have allowed the assize court to form its own impression of the sufficient factual basis for the consideration of the case as well as the legal issues raised by the applicant.\\n81.\\u00a0\\u00a0In view of the above, the Court concludes that in the circumstances of the present case, namely the combined effect of the non-adversarial nature of the proceedings before the enforcement court, the seriousness of the measure imposed on the applicant at the end of those proceedings and the lack of a hearing either before the Enforcement Court or at the objection stage before the Assize Court meant that the applicant\\u2019s case was not heard in accordance with the requirements of Article 6 \\u00a7 1 of the Convention.\\nIn view of the foregoing considerations, the Court finds that there has been a violation of Article 6 \\u00a7 1 of the Convention.\\n82.\\u00a0\\u00a0Accordingly it is not necessary to examine the two remaining complaints under Article 6 \\u00a7 1 of the Convention, namely the noncommunication of the prison administration\\u2019s application and the public prosecutor\\u2019s request to the applicant and the alleged lack of relevant and sufficient reasoning in the Edirne Enforcement Court\\u2019s decision (see, mutatis mutandis, Ramos Nunes de Carvalho e S\\u00e1 , cited above, \\u00a7 214).\\nIII.\\u00a0\\u00a0APPLICATION OF ARTICLE 41 OF THE CONVENTION\\n83.\\u00a0\\u00a0Article 41 of the Convention provides:\\n\\u201cIf the Court finds that there has been a violation of the Convention or the Protocols thereto, and if the internal law of the High Contracting Party concerned allows only partial reparation to be made, the Court shall, if necessary, afford just satisfaction to the injured party.\\u201d\\n84.\\u00a0\\u00a0The applicant claimed 100,000 euros (EUR) in respect of nonpecuniary damage. He also claimed EUR 3,960 for costs and expenses before the Court (lawyer\\u2019s fees in the amount of EUR 2,960 and postage fees and other expenses in the amount of 1,020). In support of his claim for lawyer\\u2019s fees, the applicant only referred to the Istanbul Bar Association\\u2019s scale of fees.\\n85.\\u00a0\\u00a0The Government contested those claims, deeming them unsubstantiated and excessive.\\n86.\\u00a0\\u00a0Ruling on an equitable basis, the Court awards the applicant EUR\\u00a02,000 in respect of non-pecuniary damage.\\n87.\\u00a0\\u00a0As regards cost and expenses, the Court observes that in order for the latter to be included in an award under Article 41 of the Convention, it must be established that they were actually and necessarily incurred and reasonable as to quantum (see, among other authorities, Nikolova v.\\u00a0Bulgaria [GC], no. 31195/96, \\u00a7 79, ECHR 1999-II). The Court requires itemised bills and invoices that are sufficiently detailed to enable it to determine to what extent the above requirements have been met (see \\u0130zzettin Do\\u011fan and Others v. Turkey [GC], no. 62649/10, \\u00a7 192, 26 April 2016). Pursuant to Rule 60 \\u00a7\\u00a7 2 and 3 of the Rules of Court all just satisfaction claims have to be submitted together with any relevant supporting documents, and a failure to do so may lead to a rejection of the claim in whole or in part.\\n88.\\u00a0\\u00a0In the present case, the Court notes that the applicant\\u2019s claim is not accompanied by any supporting documents. It therefore dismisses the applicant\\u2019s claim for costs and expenses.\\n89.\\u00a0\\u00a0The Court considers it appropriate that the default interest rate should be based on the marginal lending rate of the European Central Bank, to which should be added three percentage points.\\nFOR THESE REASONS, THE COURT, UNANIMOUSLY,\\n1.\\u00a0\\u00a0 Declares the application admissible;\\n2.\\u00a0\\u00a0 Holds that there has been a violation of Article 8 of the Convention;\\n3.\\u00a0\\u00a0 Holds that there has been a violation of Article 6 \\u00a7 1 of the Convention on account of lack of a hearing in the proceedings concerning the applicant;\\n4.\\u00a0\\u00a0 Holds that there is no need to examine the remaining complaints under Article 6 \\u00a7 1 of the Convention;\\n5.\\u00a0\\u00a0 Holds\\n(a)\\u00a0\\u00a0that the respondent State is to pay the applicant, within three months from the date on which the judgment becomes final in accordance with Article\\u00a044\\u00a0\\u00a7\\u00a02 of the Convention, EUR 2,000 (two thousand euros) plus any tax that may be chargeable, in respect of nonpecuniary damage, to be converted into the currency of the respondent State at the rate applicable at the date of settlement;\\n(b)\\u00a0\\u00a0that from the expiry of the above-mentioned three months until settlement simple interest shall be payable on the above amount at a rate equal to the marginal lending rate of the European Central Bank during the default period plus three percentage points;\\n6.\\u00a0\\u00a0 Dismisses the remainder of the applicant\\u2019s claim for just satisfaction.\\nDone in English, and notified in writing on 9 April 2019, pursuant to Rule\\u00a077\\u00a0\\u00a7\\u00a7\\u00a02 and 3 of the Rules of Court.\\n\\tStanley Naismith\\tRobert Spano\\n\\tRegistrar\\tPresident\\n\", \"features\": {\"DC:TITLE\": \"ECHR\", \"gate.SourceURL\": \"file:/C:/Users/mnavas/CASE%20OF%20ALTAY%20v.%20TURKEY%20(No.%202).docx\", \"MimeType\": \"application/vnd.openxmlformats-officedocument.wordprocessingml.document\", \"TIKA_DC:TITLE\": \"ECHR\", \"anndiffsteps\": \"21\"}, \"offset_type\": \"j\", \"name\": \"\"} ; \n",
       "    let FUPCMIKCFJ_parms = {\"presel_set\": [], \"presel_list\": [], \"cols4types\": {}} ;\n",
       "    new gatenlpDocView(new gatenlpDocRep(FUPCMIKCFJ_data, FUPCMIKCFJ_parms), \"FUPCMIKCFJ-\").init();\n",
       "    </script>\n",
       "  </div>\n",
       "\n",
       "</div></div>"
      ]
     },
     "metadata": {},
     "output_type": "display_data"
    }
   ],
   "source": [
    "from gatenlp.visualization import CorpusViewer\n",
    "\n",
    "corpus = loadCorpus()\n",
    "viewer = CorpusViewer(corpus)\n",
    "viewer.show()"
   ]
  },
  {
   "cell_type": "markdown",
   "id": "bf838359",
   "metadata": {},
   "source": [
    "### Check documents for section annotations"
   ]
  },
  {
   "cell_type": "code",
   "execution_count": null,
   "id": "be064853",
   "metadata": {},
   "outputs": [
    {
     "name": "stdout",
     "output_type": "stream",
     "text": [
      "Checking annotation sets in corpus documents...\n",
      "============================================================\n",
      "\n",
      "Document: file:/C:/Users/mnavas/CASE%20OF%20ALTAY%20v.%20TURKEY%20(No.%202).docx\n",
      "  Found 'Procedure' annotation in file:/C:/Users/mnavas/CASE%20OF%20ALTAY%20v.%20TURKEY%20(No.%202).docx.\n",
      "  Found 'Circumstances' annotation in file:/C:/Users/mnavas/CASE%20OF%20ALTAY%20v.%20TURKEY%20(No.%202).docx.\n",
      "  Found 'Law' annotation in file:/C:/Users/mnavas/CASE%20OF%20ALTAY%20v.%20TURKEY%20(No.%202).docx.\n",
      "  Found 'Decision' annotation in file:/C:/Users/mnavas/CASE%20OF%20ALTAY%20v.%20TURKEY%20(No.%202).docx.\n",
      "\n",
      "Document: file:/C:/Users/mnavas/CASE%20OF%20BELYAYEV%20AND%20OTHERS%20v.%20UKRAINE.docx\n",
      "  Found 'Procedure' annotation in file:/C:/Users/mnavas/CASE%20OF%20BELYAYEV%20AND%20OTHERS%20v.%20UKRAINE.docx.\n",
      "  Found 'Circumstances' annotation in file:/C:/Users/mnavas/CASE%20OF%20BELYAYEV%20AND%20OTHERS%20v.%20UKRAINE.docx.\n",
      "  Found 'Law' annotation in file:/C:/Users/mnavas/CASE%20OF%20BELYAYEV%20AND%20OTHERS%20v.%20UKRAINE.docx.\n",
      "  Found 'Decision' annotation in file:/C:/Users/mnavas/CASE%20OF%20BELYAYEV%20AND%20OTHERS%20v.%20UKRAINE.docx.\n",
      "\n",
      "Document: file:/C:/Users/mnavas/CASE%20OF%20BIGUN%20v.%20UKRAINE.docx\n",
      "  Found 'Procedure' annotation in file:/C:/Users/mnavas/CASE%20OF%20BIGUN%20v.%20UKRAINE.docx.\n",
      "  Found 'Circumstances' annotation in file:/C:/Users/mnavas/CASE%20OF%20BIGUN%20v.%20UKRAINE.docx.\n",
      "  Found 'Law' annotation in file:/C:/Users/mnavas/CASE%20OF%20BIGUN%20v.%20UKRAINE.docx.\n",
      "  Found 'Decision' annotation in file:/C:/Users/mnavas/CASE%20OF%20BIGUN%20v.%20UKRAINE.docx.\n",
      "\n",
      "Document: file:/C:/Users/mnavas/CASE%20OF%20CABUCAK%20v.%20GERMANY.docx\n",
      "  Found 'Procedure' annotation in file:/C:/Users/mnavas/CASE%20OF%20CABUCAK%20v.%20GERMANY.docx.\n",
      "  Found 'Circumstances' annotation in file:/C:/Users/mnavas/CASE%20OF%20CABUCAK%20v.%20GERMANY.docx.\n",
      "  Found 'Law' annotation in file:/C:/Users/mnavas/CASE%20OF%20CABUCAK%20v.%20GERMANY.docx.\n",
      "  Found 'Decision' annotation in file:/C:/Users/mnavas/CASE%20OF%20CABUCAK%20v.%20GERMANY.docx.\n",
      "\n",
      "Document: file:/C:/Users/mnavas/CASE%20OF%20CAN%20v.%20TURKEY.docx\n",
      "  Found 'Procedure' annotation in file:/C:/Users/mnavas/CASE%20OF%20CAN%20v.%20TURKEY.docx.\n",
      "  Found 'Circumstances' annotation in file:/C:/Users/mnavas/CASE%20OF%20CAN%20v.%20TURKEY.docx.\n",
      "  Found 'Law' annotation in file:/C:/Users/mnavas/CASE%20OF%20CAN%20v.%20TURKEY.docx.\n",
      "  Found 'Decision' annotation in file:/C:/Users/mnavas/CASE%20OF%20CAN%20v.%20TURKEY.docx.\n",
      "\n",
      "Document: file:/C:/Users/mnavas/CASE%20OF%20CRISTIAN%20CATALIN%20UNGUREANU%20v.%20ROMANIA.docx\n",
      "  Found 'Procedure' annotation in file:/C:/Users/mnavas/CASE%20OF%20CRISTIAN%20CATALIN%20UNGUREANU%20v.%20ROMANIA.docx.\n",
      "  Found 'Circumstances' annotation in file:/C:/Users/mnavas/CASE%20OF%20CRISTIAN%20CATALIN%20UNGUREANU%20v.%20ROMANIA.docx.\n",
      "  Found 'Law' annotation in file:/C:/Users/mnavas/CASE%20OF%20CRISTIAN%20CATALIN%20UNGUREANU%20v.%20ROMANIA.docx.\n",
      "  Found 'Decision' annotation in file:/C:/Users/mnavas/CASE%20OF%20CRISTIAN%20CATALIN%20UNGUREANU%20v.%20ROMANIA.docx.\n",
      "\n",
      "Document: file:/C:/Users/mnavas/CASE%20OF%20DOKTOROV%20v.%20BULGARIA.docx\n",
      "  Found 'Procedure' annotation in file:/C:/Users/mnavas/CASE%20OF%20DOKTOROV%20v.%20BULGARIA.docx.\n",
      "  Found 'Circumstances' annotation in file:/C:/Users/mnavas/CASE%20OF%20DOKTOROV%20v.%20BULGARIA.docx.\n",
      "  Found 'Law' annotation in file:/C:/Users/mnavas/CASE%20OF%20DOKTOROV%20v.%20BULGARIA.docx.\n",
      "  Found 'Decision' annotation in file:/C:/Users/mnavas/CASE%20OF%20DOKTOROV%20v.%20BULGARIA.docx.\n",
      "\n",
      "Document: file:/C:/Users/mnavas/CASE%20OF%20EGILL%20EINARSSON%20v.%20ICELAND%20(No.%202).docx\n",
      "  Found 'Procedure' annotation in file:/C:/Users/mnavas/CASE%20OF%20EGILL%20EINARSSON%20v.%20ICELAND%20(No.%202).docx.\n",
      "  Found 'Circumstances' annotation in file:/C:/Users/mnavas/CASE%20OF%20EGILL%20EINARSSON%20v.%20ICELAND%20(No.%202).docx.\n",
      "  Found 'Law' annotation in file:/C:/Users/mnavas/CASE%20OF%20EGILL%20EINARSSON%20v.%20ICELAND%20(No.%202).docx.\n",
      "  Found 'Decision' annotation in file:/C:/Users/mnavas/CASE%20OF%20EGILL%20EINARSSON%20v.%20ICELAND%20(No.%202).docx.\n",
      "\n",
      "Document: file:/C:/Users/mnavas/CASE%20OF%20H_INESS%20v.%20NORWAY%20(1).docx\n",
      "  Found 'Procedure' annotation in file:/C:/Users/mnavas/CASE%20OF%20H_INESS%20v.%20NORWAY%20(1).docx.\n",
      "  Found 'Circumstances' annotation in file:/C:/Users/mnavas/CASE%20OF%20H_INESS%20v.%20NORWAY%20(1).docx.\n",
      "  Found 'Law' annotation in file:/C:/Users/mnavas/CASE%20OF%20H_INESS%20v.%20NORWAY%20(1).docx.\n",
      "  Found 'Decision' annotation in file:/C:/Users/mnavas/CASE%20OF%20H_INESS%20v.%20NORWAY%20(1).docx.\n",
      "\n",
      "Document: file:/C:/Users/mnavas/CASE%20OF%20KOSAITE%20-%20CYPIENE%20AND%20OTHERS%20v.%20LITHUANIA.docx\n",
      "  Found 'Procedure' annotation in file:/C:/Users/mnavas/CASE%20OF%20KOSAITE%20-%20CYPIENE%20AND%20OTHERS%20v.%20LITHUANIA.docx.\n",
      "  Found 'Circumstances' annotation in file:/C:/Users/mnavas/CASE%20OF%20KOSAITE%20-%20CYPIENE%20AND%20OTHERS%20v.%20LITHUANIA.docx.\n",
      "  Found 'Law' annotation in file:/C:/Users/mnavas/CASE%20OF%20KOSAITE%20-%20CYPIENE%20AND%20OTHERS%20v.%20LITHUANIA.docx.\n",
      "  Found 'Decision' annotation in file:/C:/Users/mnavas/CASE%20OF%20KOSAITE%20-%20CYPIENE%20AND%20OTHERS%20v.%20LITHUANIA.docx.\n",
      "\n",
      "Document: file:/C:/Users/mnavas/CASE%20OF%20LOZOVYYE%20v.%20RUSSIA.docx\n",
      "  Found 'Procedure' annotation in file:/C:/Users/mnavas/CASE%20OF%20LOZOVYYE%20v.%20RUSSIA.docx.\n",
      "  Found 'Circumstances' annotation in file:/C:/Users/mnavas/CASE%20OF%20LOZOVYYE%20v.%20RUSSIA.docx.\n",
      "  Found 'Law' annotation in file:/C:/Users/mnavas/CASE%20OF%20LOZOVYYE%20v.%20RUSSIA.docx.\n",
      "  Found 'Decision' annotation in file:/C:/Users/mnavas/CASE%20OF%20LOZOVYYE%20v.%20RUSSIA.docx.\n",
      "\n",
      "Document: file:/C:/Users/mnavas/CASE%20OF%20M.T.%20v.%20UKRAINE.docx\n",
      "  Found 'Procedure' annotation in file:/C:/Users/mnavas/CASE%20OF%20M.T.%20v.%20UKRAINE.docx.\n",
      "  Found 'Circumstances' annotation in file:/C:/Users/mnavas/CASE%20OF%20M.T.%20v.%20UKRAINE.docx.\n",
      "  Found 'Law' annotation in file:/C:/Users/mnavas/CASE%20OF%20M.T.%20v.%20UKRAINE.docx.\n",
      "  Found 'Decision' annotation in file:/C:/Users/mnavas/CASE%20OF%20M.T.%20v.%20UKRAINE.docx.\n",
      "\n",
      "Document: file:/C:/Users/mnavas/CASE%20OF%20MOSKALEV%20v.%20RUSSIA.docx\n",
      "  Found 'Procedure' annotation in file:/C:/Users/mnavas/CASE%20OF%20MOSKALEV%20v.%20RUSSIA.docx.\n",
      "  Found 'Circumstances' annotation in file:/C:/Users/mnavas/CASE%20OF%20MOSKALEV%20v.%20RUSSIA.docx.\n",
      "  Found 'Law' annotation in file:/C:/Users/mnavas/CASE%20OF%20MOSKALEV%20v.%20RUSSIA.docx.\n",
      "  Found 'Decision' annotation in file:/C:/Users/mnavas/CASE%20OF%20MOSKALEV%20v.%20RUSSIA.docx.\n",
      "\n",
      "Document: file:/C:/Users/mnavas/CASE%20OF%20MURUZHEVA%20v.%20RUSSIA.docx\n",
      "  Found 'Procedure' annotation in file:/C:/Users/mnavas/CASE%20OF%20MURUZHEVA%20v.%20RUSSIA.docx.\n",
      "  Found 'Circumstances' annotation in file:/C:/Users/mnavas/CASE%20OF%20MURUZHEVA%20v.%20RUSSIA.docx.\n",
      "  Found 'Law' annotation in file:/C:/Users/mnavas/CASE%20OF%20MURUZHEVA%20v.%20RUSSIA.docx.\n",
      "  Found 'Decision' annotation in file:/C:/Users/mnavas/CASE%20OF%20MURUZHEVA%20v.%20RUSSIA.docx.\n",
      "\n",
      "Document: file:/C:/Users/mnavas/CASE%20OF%20_NODI%20v.%20HUNGARY.docx\n",
      "  Found 'Procedure' annotation in file:/C:/Users/mnavas/CASE%20OF%20_NODI%20v.%20HUNGARY.docx.\n",
      "  Found 'Circumstances' annotation in file:/C:/Users/mnavas/CASE%20OF%20_NODI%20v.%20HUNGARY.docx.\n",
      "  Found 'Law' annotation in file:/C:/Users/mnavas/CASE%20OF%20_NODI%20v.%20HUNGARY.docx.\n",
      "  Found 'Decision' annotation in file:/C:/Users/mnavas/CASE%20OF%20_NODI%20v.%20HUNGARY.docx.\n",
      "\n",
      "Document: file:/C:/Users/mnavas/CASE%20OF%20O.C.I.%20AND%20OTHERS%20v.%20ROMANIA.docx\n",
      "  Found 'Procedure' annotation in file:/C:/Users/mnavas/CASE%20OF%20O.C.I.%20AND%20OTHERS%20v.%20ROMANIA.docx.\n",
      "  Found 'Circumstances' annotation in file:/C:/Users/mnavas/CASE%20OF%20O.C.I.%20AND%20OTHERS%20v.%20ROMANIA.docx.\n",
      "  Found 'Law' annotation in file:/C:/Users/mnavas/CASE%20OF%20O.C.I.%20AND%20OTHERS%20v.%20ROMANIA.docx.\n",
      "  Found 'Decision' annotation in file:/C:/Users/mnavas/CASE%20OF%20O.C.I.%20AND%20OTHERS%20v.%20ROMANIA.docx.\n",
      "\n",
      "Document: file:/C:/Users/mnavas/Desktop/CASE%20OF%20OTGON%20v.%20THE%20REPUBLIC%20OF%20MOLDOVA.docx\n",
      "  Found 'Procedure' annotation in file:/C:/Users/mnavas/Desktop/CASE%20OF%20OTGON%20v.%20THE%20REPUBLIC%20OF%20MOLDOVA.docx.\n",
      "  Found 'Circumstances' annotation in file:/C:/Users/mnavas/Desktop/CASE%20OF%20OTGON%20v.%20THE%20REPUBLIC%20OF%20MOLDOVA.docx.\n",
      "  Found 'Law' annotation in file:/C:/Users/mnavas/Desktop/CASE%20OF%20OTGON%20v.%20THE%20REPUBLIC%20OF%20MOLDOVA.docx.\n",
      "  Found 'Decision' annotation in file:/C:/Users/mnavas/Desktop/CASE%20OF%20OTGON%20v.%20THE%20REPUBLIC%20OF%20MOLDOVA.docx.\n",
      "\n",
      "Document: file:/C:/Users/mnavas/CASE%20OF%20PAKHTUSOV%20v.%20RUSSIA.docx\n",
      "  Found 'Procedure' annotation in file:/C:/Users/mnavas/CASE%20OF%20PAKHTUSOV%20v.%20RUSSIA.docx.\n",
      "  Found 'Circumstances' annotation in file:/C:/Users/mnavas/CASE%20OF%20PAKHTUSOV%20v.%20RUSSIA.docx.\n",
      "  Found 'Law' annotation in file:/C:/Users/mnavas/CASE%20OF%20PAKHTUSOV%20v.%20RUSSIA.docx.\n",
      "  Found 'Decision' annotation in file:/C:/Users/mnavas/CASE%20OF%20PAKHTUSOV%20v.%20RUSSIA.docx.\n",
      "\n",
      "Document: file:/C:/Users/mnavas/CASE%20OF%20PANYUSHKINY%20v.%20RUSSIA.docx\n",
      "  Found 'Procedure' annotation in file:/C:/Users/mnavas/CASE%20OF%20PANYUSHKINY%20v.%20RUSSIA.docx.\n",
      "  Found 'Circumstances' annotation in file:/C:/Users/mnavas/CASE%20OF%20PANYUSHKINY%20v.%20RUSSIA.docx.\n",
      "  Found 'Law' annotation in file:/C:/Users/mnavas/CASE%20OF%20PANYUSHKINY%20v.%20RUSSIA.docx.\n",
      "  Found 'Decision' annotation in file:/C:/Users/mnavas/CASE%20OF%20PANYUSHKINY%20v.%20RUSSIA.docx.\n",
      "\n",
      "Document: file:/C:/Users/mnavas/CASE%20OF%20RESIN%20v.%20RUSSIA.docx\n",
      "  Found 'Procedure' annotation in file:/C:/Users/mnavas/CASE%20OF%20RESIN%20v.%20RUSSIA.docx.\n",
      "  Found 'Circumstances' annotation in file:/C:/Users/mnavas/CASE%20OF%20RESIN%20v.%20RUSSIA.docx.\n",
      "  Found 'Law' annotation in file:/C:/Users/mnavas/CASE%20OF%20RESIN%20v.%20RUSSIA.docx.\n",
      "  Found 'Decision' annotation in file:/C:/Users/mnavas/CASE%20OF%20RESIN%20v.%20RUSSIA.docx.\n",
      "\n",
      "Document: file:/C:/Users/mnavas/CASE%20OF%20S.N.%20v.%20RUSSIA.docx\n",
      "  Found 'Procedure' annotation in file:/C:/Users/mnavas/CASE%20OF%20S.N.%20v.%20RUSSIA.docx.\n",
      "  Found 'Circumstances' annotation in file:/C:/Users/mnavas/CASE%20OF%20S.N.%20v.%20RUSSIA.docx.\n",
      "  Found 'Law' annotation in file:/C:/Users/mnavas/CASE%20OF%20S.N.%20v.%20RUSSIA.docx.\n",
      "  Found 'Decision' annotation in file:/C:/Users/mnavas/CASE%20OF%20S.N.%20v.%20RUSSIA.docx.\n",
      "\n",
      "Document: file:/C:/Users/mnavas/CASE%20OF%20S.V.%20v.%20ITALY.docx\n",
      "  Found 'Procedure' annotation in file:/C:/Users/mnavas/CASE%20OF%20S.V.%20v.%20ITALY.docx.\n",
      "  Found 'Circumstances' annotation in file:/C:/Users/mnavas/CASE%20OF%20S.V.%20v.%20ITALY.docx.\n",
      "  Found 'Law' annotation in file:/C:/Users/mnavas/CASE%20OF%20S.V.%20v.%20ITALY.docx.\n",
      "  Found 'Decision' annotation in file:/C:/Users/mnavas/CASE%20OF%20S.V.%20v.%20ITALY.docx.\n",
      "\n",
      "Document: file:/C:/Users/mnavas/CASE%20OF%20SHVIDKIYE%20v.%20RUSSIA.docx\n",
      "  Found 'Procedure' annotation in file:/C:/Users/mnavas/CASE%20OF%20SHVIDKIYE%20v.%20RUSSIA.docx.\n",
      "  Found 'Circumstances' annotation in file:/C:/Users/mnavas/CASE%20OF%20SHVIDKIYE%20v.%20RUSSIA.docx.\n",
      "  Found 'Law' annotation in file:/C:/Users/mnavas/CASE%20OF%20SHVIDKIYE%20v.%20RUSSIA.docx.\n",
      "  Found 'Decision' annotation in file:/C:/Users/mnavas/CASE%20OF%20SHVIDKIYE%20v.%20RUSSIA.docx.\n",
      "\n",
      "Document: file:/C:/Users/mnavas/CASE%20OF%20SIDOROVA%20v.%20RUSSIA.docx\n",
      "  Found 'Procedure' annotation in file:/C:/Users/mnavas/CASE%20OF%20SIDOROVA%20v.%20RUSSIA.docx.\n",
      "  Found 'Circumstances' annotation in file:/C:/Users/mnavas/CASE%20OF%20SIDOROVA%20v.%20RUSSIA.docx.\n",
      "  Found 'Law' annotation in file:/C:/Users/mnavas/CASE%20OF%20SIDOROVA%20v.%20RUSSIA.docx.\n",
      "  Found 'Decision' annotation in file:/C:/Users/mnavas/CASE%20OF%20SIDOROVA%20v.%20RUSSIA.docx.\n",
      "\n",
      "Document: file:/C:/Users/mnavas/CASE%20OF%20SOLCAN%20v.%20ROMANIA.docx\n",
      "  Found 'Procedure' annotation in file:/C:/Users/mnavas/CASE%20OF%20SOLCAN%20v.%20ROMANIA.docx.\n",
      "  Found 'Circumstances' annotation in file:/C:/Users/mnavas/CASE%20OF%20SOLCAN%20v.%20ROMANIA.docx.\n",
      "  Found 'Law' annotation in file:/C:/Users/mnavas/CASE%20OF%20SOLCAN%20v.%20ROMANIA.docx.\n",
      "  Found 'Decision' annotation in file:/C:/Users/mnavas/CASE%20OF%20SOLCAN%20v.%20ROMANIA.docx.\n",
      "\n",
      "Document: file:/C:/Users/mnavas/CASE%20OF%20STANA%20v.%20ROMANIA.docx\n",
      "  Found 'Procedure' annotation in file:/C:/Users/mnavas/CASE%20OF%20STANA%20v.%20ROMANIA.docx.\n",
      "  Found 'Circumstances' annotation in file:/C:/Users/mnavas/CASE%20OF%20STANA%20v.%20ROMANIA.docx.\n",
      "  Found 'Law' annotation in file:/C:/Users/mnavas/CASE%20OF%20STANA%20v.%20ROMANIA.docx.\n",
      "  Found 'Decision' annotation in file:/C:/Users/mnavas/CASE%20OF%20STANA%20v.%20ROMANIA.docx.\n",
      "\n",
      "Document: file:/C:/Users/mnavas/CASE%20OF%20VISY%20v.%20SLOVAKIA.docx\n",
      "  Found 'Procedure' annotation in file:/C:/Users/mnavas/CASE%20OF%20VISY%20v.%20SLOVAKIA.docx.\n",
      "  Found 'Circumstances' annotation in file:/C:/Users/mnavas/CASE%20OF%20VISY%20v.%20SLOVAKIA.docx.\n",
      "  Found 'Law' annotation in file:/C:/Users/mnavas/CASE%20OF%20VISY%20v.%20SLOVAKIA.docx.\n",
      "  Found 'Decision' annotation in file:/C:/Users/mnavas/CASE%20OF%20VISY%20v.%20SLOVAKIA.docx.\n",
      "\n",
      "Document: file:/C:/Users/mnavas/CASE%20OF%20YAKUSHEV%20v.%20UKRAINE.docx\n",
      "  Found 'Procedure' annotation in file:/C:/Users/mnavas/CASE%20OF%20YAKUSHEV%20v.%20UKRAINE.docx.\n",
      "  Found 'Circumstances' annotation in file:/C:/Users/mnavas/CASE%20OF%20YAKUSHEV%20v.%20UKRAINE.docx.\n",
      "  Found 'Law' annotation in file:/C:/Users/mnavas/CASE%20OF%20YAKUSHEV%20v.%20UKRAINE.docx.\n",
      "  Found 'Decision' annotation in file:/C:/Users/mnavas/CASE%20OF%20YAKUSHEV%20v.%20UKRAINE.docx.\n",
      "\n",
      "Document: file:/C:/Users/mnavas/CASE%20OF%20YERMAKOVICH%20v.%20RUSSIA.docx\n",
      "  Found 'Procedure' annotation in file:/C:/Users/mnavas/CASE%20OF%20YERMAKOVICH%20v.%20RUSSIA.docx.\n",
      "  Found 'Circumstances' annotation in file:/C:/Users/mnavas/CASE%20OF%20YERMAKOVICH%20v.%20RUSSIA.docx.\n",
      "  Found 'Law' annotation in file:/C:/Users/mnavas/CASE%20OF%20YERMAKOVICH%20v.%20RUSSIA.docx.\n",
      "  Found 'Decision' annotation in file:/C:/Users/mnavas/CASE%20OF%20YERMAKOVICH%20v.%20RUSSIA.docx.\n",
      "\n",
      "Document: file:/C:/Users/mnavas/CASE%20OF%20YEVGENIY%20ZAKHAROV%20v.%20RUSSIA.docx\n",
      "  Found 'Procedure' annotation in file:/C:/Users/mnavas/CASE%20OF%20YEVGENIY%20ZAKHAROV%20v.%20RUSSIA.docx.\n",
      "  Found 'Circumstances' annotation in file:/C:/Users/mnavas/CASE%20OF%20YEVGENIY%20ZAKHAROV%20v.%20RUSSIA.docx.\n",
      "  Found 'Law' annotation in file:/C:/Users/mnavas/CASE%20OF%20YEVGENIY%20ZAKHAROV%20v.%20RUSSIA.docx.\n",
      "  Found 'Decision' annotation in file:/C:/Users/mnavas/CASE%20OF%20YEVGENIY%20ZAKHAROV%20v.%20RUSSIA.docx.\n",
      "\n",
      "============================================================\n",
      "Summary:\n",
      "Total documents: 30\n",
      "Documents missing 'Section' annotation set: 0\n",
      "Documents with incomplete section annotations: 0\n"
     ]
    }
   ],
   "source": [
    "# Check if each document has the \"Section\" annotation set\n",
    "# and if it contains the required annotation types\n",
    "print(\"Checking annotation sets in corpus documents...\")\n",
    "print(\"=\" * 60)\n",
    "\n",
    "annotation_types = [\"Procedure\", \"Circumstances\", \"Law\", \"Decision\"]\n",
    "missing_sections = []\n",
    "incomplete_sections = []\n",
    "\n",
    "for i, doc in enumerate(corpus):\n",
    "    doc_name = doc.features.get(\"gate.SourceURL\", f\"Document {i+1}\")\n",
    "    print(f\"\\nDocument: {doc_name}\")\n",
    "    section = doc.annset(\"Section\")\n",
    "    if section:\n",
    "        for annotation_type in annotation_types:\n",
    "            if section.with_type(annotation_type):\n",
    "                print(f\"  Found '{annotation_type}' annotation in {doc_name}.\")\n",
    "            else:\n",
    "                print(f\"  Missing '{annotation_type}' annotation in {doc_name}.\")\n",
    "                incomplete_sections.append(doc_name)\n",
    "    else:\n",
    "        print(f\"  No 'Section' annotation set found in {doc_name}.\")\n",
    "        missing_sections.append(doc_name)\n",
    "        continue\n",
    "\n",
    "print(\"\\n\" + \"=\" * 60)\n",
    "print(\"Summary:\")\n",
    "print(f\"Total documents: {len(corpus)}\")\n",
    "print(f\"Documents missing 'Section' annotation set: {len(missing_sections)}\")\n",
    "print(f\"Documents with incomplete section annotations: {len(incomplete_sections)}\")\n",
    "\n",
    "    "
   ]
  },
  {
   "cell_type": "markdown",
   "id": "f649234f",
   "metadata": {},
   "source": [
    "### Create gold standard json of all documents"
   ]
  },
  {
   "cell_type": "code",
   "execution_count": 3,
   "id": "08c8c4ef",
   "metadata": {},
   "outputs": [
    {
     "name": "stdout",
     "output_type": "stream",
     "text": [
      "Loaded input/updated/annotated\\dev\\CASE OF ALTAY v. TURKEY (No. 2).xml into corpus\n",
      "Loaded input/updated/annotated\\dev\\CASE OF BELYAYEV AND OTHERS v. UKRAINE.xml into corpus\n",
      "Loaded input/updated/annotated\\dev\\CASE OF BIGUN v. UKRAINE.xml into corpus\n",
      "Loaded input/updated/annotated\\test\\CASE OF CABUCAK v. GERMANY.xml into corpus\n",
      "Loaded input/updated/annotated\\test\\CASE OF CAN v. TURKEY.xml into corpus\n",
      "Loaded input/updated/annotated\\test\\CASE OF CRISTIAN CATALIN UNGUREANU v. ROMANIA.xml into corpus\n",
      "Loaded input/updated/annotated\\train\\CASE OF DOKTOROV v. BULGARIA.xml into corpus\n",
      "Loaded input/updated/annotated\\train\\CASE OF EGILL EINARSSON v. ICELAND (No. 2).xml into corpus\n",
      "Loaded input/updated/annotated\\train\\CASE OF HOINESS v. NORWAY.xml into corpus\n",
      "Loaded input/updated/annotated\\train\\CASE OF KOSAITE - CYPIENE AND OTHERS v. LITHUANIA.xml into corpus\n",
      "Loaded input/updated/annotated\\train\\CASE OF LOZOVYYE v. RUSSIA.xml into corpus\n",
      "Loaded input/updated/annotated\\train\\CASE OF M.T. v. UKRAINE.xml into corpus\n",
      "Loaded input/updated/annotated\\train\\CASE OF MOSKALEV v. RUSSIA.xml into corpus\n",
      "Loaded input/updated/annotated\\train\\CASE OF MURUZHEVA v. RUSSIA.xml into corpus\n",
      "Loaded input/updated/annotated\\train\\CASE OF NODI v. HUNGARY.xml into corpus\n",
      "Loaded input/updated/annotated\\train\\CASE OF O.C.I. AND OTHERS v. ROMANIA.xml into corpus\n",
      "Loaded input/updated/annotated\\train\\CASE OF OTGON v. THE REPUBLIC OF MOLDOVA.xml into corpus\n",
      "Loaded input/updated/annotated\\train\\CASE OF PAKHTUSOV v. RUSSIA.xml into corpus\n",
      "Loaded input/updated/annotated\\train\\CASE OF PANYUSHKINY v. RUSSIA.xml into corpus\n",
      "Loaded input/updated/annotated\\train\\CASE OF RESIN v. RUSSIA.xml into corpus\n",
      "Loaded input/updated/annotated\\train\\CASE OF S.N. v. RUSSIA.xml into corpus\n",
      "Loaded input/updated/annotated\\train\\CASE OF S.V. v. ITALY.xml into corpus\n",
      "Loaded input/updated/annotated\\train\\CASE OF SHVIDKIYE v. RUSSIA.xml into corpus\n",
      "Loaded input/updated/annotated\\train\\CASE OF SIDOROVA v. RUSSIA.xml into corpus\n",
      "Loaded input/updated/annotated\\train\\CASE OF SOLCAN v. ROMANIA.xml into corpus\n",
      "Loaded input/updated/annotated\\train\\CASE OF STANA v. ROMANIA.xml into corpus\n",
      "Loaded input/updated/annotated\\train\\CASE OF VISY v. SLOVAKIA.xml into corpus\n",
      "Loaded input/updated/annotated\\train\\CASE OF YAKUSHEV v. UKRAINE.xml into corpus\n",
      "Loaded input/updated/annotated\\train\\CASE OF YERMAKOVICH v. RUSSIA.xml into corpus\n",
      "Loaded input/updated/annotated\\train\\CASE OF YEVGENIY ZAKHAROV v. RUSSIA.xml into corpus\n",
      "All documents loaded into the corpus.\n"
     ]
    }
   ],
   "source": [
    "create_gold_standard_json()"
   ]
  },
  {
   "cell_type": "markdown",
   "id": "fe4d1a08",
   "metadata": {},
   "source": [
    "### Count tokens"
   ]
  },
  {
   "cell_type": "code",
   "execution_count": 14,
   "id": "7fe4973d",
   "metadata": {},
   "outputs": [
    {
     "name": "stdout",
     "output_type": "stream",
     "text": [
      "Processing document: file:/C:/Users/mnavas/CASE%20OF%20ALTAY%20v.%20TURKEY%20(No.%202).docx\n",
      "Procedure tokens: 168\n",
      "Circumstances tokens: 1397\n",
      "Decision tokens: 210\n",
      "Total tokens: 1775\n",
      "Processing document: file:/C:/Users/mnavas/CASE%20OF%20BELYAYEV%20AND%20OTHERS%20v.%20UKRAINE.docx\n",
      "Procedure tokens: 274\n",
      "Circumstances tokens: 883\n",
      "Decision tokens: 217\n",
      "Total tokens: 1374\n",
      "Processing document: file:/C:/Users/mnavas/CASE%20OF%20BIGUN%20v.%20UKRAINE.docx\n",
      "Procedure tokens: 121\n",
      "Circumstances tokens: 1412\n",
      "Decision tokens: 225\n",
      "Total tokens: 1758\n",
      "Processing document: file:/C:/Users/mnavas/CASE%20OF%20CABUCAK%20v.%20GERMANY.docx\n",
      "Procedure tokens: 177\n",
      "Circumstances tokens: 2749\n",
      "Decision tokens: 22\n",
      "Total tokens: 2948\n",
      "Processing document: file:/C:/Users/mnavas/CASE%20OF%20CAN%20v.%20TURKEY.docx\n",
      "Procedure tokens: 134\n",
      "Circumstances tokens: 506\n",
      "Decision tokens: 145\n",
      "Total tokens: 785\n",
      "Processing document: file:/C:/Users/mnavas/CASE%20OF%20CRISTIAN%20CATALIN%20UNGUREANU%20v.%20ROMANIA.docx\n",
      "Procedure tokens: 132\n",
      "Circumstances tokens: 991\n",
      "Decision tokens: 239\n",
      "Total tokens: 1362\n",
      "Processing document: file:/C:/Users/mnavas/CASE%20OF%20DOKTOROV%20v.%20BULGARIA.docx\n",
      "Procedure tokens: 151\n",
      "Circumstances tokens: 541\n",
      "Decision tokens: 52\n",
      "Total tokens: 744\n",
      "Processing document: file:/C:/Users/mnavas/CASE%20OF%20EGILL%20EINARSSON%20v.%20ICELAND%20(No.%202).docx\n",
      "Procedure tokens: 133\n",
      "Circumstances tokens: 2044\n",
      "Decision tokens: 22\n",
      "Total tokens: 2199\n",
      "Processing document: file:/C:/Users/mnavas/CASE%20OF%20H_INESS%20v.%20NORWAY%20(1).docx\n",
      "Procedure tokens: 178\n",
      "Circumstances tokens: 5816\n",
      "Decision tokens: 22\n",
      "Total tokens: 6016\n",
      "Processing document: file:/C:/Users/mnavas/CASE%20OF%20KOSAITE%20-%20CYPIENE%20AND%20OTHERS%20v.%20LITHUANIA.docx\n",
      "Procedure tokens: 185\n",
      "Circumstances tokens: 3276\n",
      "Decision tokens: 51\n",
      "Total tokens: 3512\n",
      "Processing document: file:/C:/Users/mnavas/CASE%20OF%20LOZOVYYE%20v.%20RUSSIA.docx\n",
      "Procedure tokens: 136\n",
      "Circumstances tokens: 1374\n",
      "Decision tokens: 219\n",
      "Total tokens: 1729\n",
      "Processing document: file:/C:/Users/mnavas/CASE%20OF%20M.T.%20v.%20UKRAINE.docx\n",
      "Procedure tokens: 155\n",
      "Circumstances tokens: 815\n",
      "Decision tokens: 192\n",
      "Total tokens: 1162\n",
      "Processing document: file:/C:/Users/mnavas/CASE%20OF%20MOSKALEV%20v.%20RUSSIA.docx\n",
      "Procedure tokens: 128\n",
      "Circumstances tokens: 771\n",
      "Decision tokens: 212\n",
      "Total tokens: 1111\n",
      "Processing document: file:/C:/Users/mnavas/CASE%20OF%20MURUZHEVA%20v.%20RUSSIA.docx\n",
      "Procedure tokens: 156\n",
      "Circumstances tokens: 1445\n",
      "Decision tokens: 203\n",
      "Total tokens: 1804\n",
      "Processing document: file:/C:/Users/mnavas/CASE%20OF%20_NODI%20v.%20HUNGARY.docx\n",
      "Procedure tokens: 146\n",
      "Circumstances tokens: 1422\n",
      "Decision tokens: 189\n",
      "Total tokens: 1757\n",
      "Processing document: file:/C:/Users/mnavas/CASE%20OF%20O.C.I.%20AND%20OTHERS%20v.%20ROMANIA.docx\n",
      "Procedure tokens: 218\n",
      "Circumstances tokens: 1468\n",
      "Decision tokens: 191\n",
      "Total tokens: 1877\n",
      "Processing document: file:/C:/Users/mnavas/Desktop/CASE%20OF%20OTGON%20v.%20THE%20REPUBLIC%20OF%20MOLDOVA.docx\n",
      "Procedure tokens: 106\n",
      "Circumstances tokens: 405\n",
      "Decision tokens: 191\n",
      "Total tokens: 702\n",
      "Processing document: file:/C:/Users/mnavas/CASE%20OF%20PAKHTUSOV%20v.%20RUSSIA.docx\n",
      "Procedure tokens: 135\n",
      "Circumstances tokens: 867\n",
      "Decision tokens: 208\n",
      "Total tokens: 1210\n",
      "Processing document: file:/C:/Users/mnavas/CASE%20OF%20PANYUSHKINY%20v.%20RUSSIA.docx\n",
      "Procedure tokens: 175\n",
      "Circumstances tokens: 1563\n",
      "Decision tokens: 177\n",
      "Total tokens: 1915\n",
      "Processing document: file:/C:/Users/mnavas/CASE%20OF%20RESIN%20v.%20RUSSIA.docx\n",
      "Procedure tokens: 151\n",
      "Circumstances tokens: 1096\n",
      "Decision tokens: 216\n",
      "Total tokens: 1463\n",
      "Processing document: file:/C:/Users/mnavas/CASE%20OF%20S.N.%20v.%20RUSSIA.docx\n",
      "Procedure tokens: 268\n",
      "Circumstances tokens: 1642\n",
      "Decision tokens: 185\n",
      "Total tokens: 2095\n",
      "Processing document: file:/C:/Users/mnavas/CASE%20OF%20S.V.%20v.%20ITALY.docx\n",
      "Procedure tokens: 168\n",
      "Circumstances tokens: 1857\n",
      "Decision tokens: 185\n",
      "Total tokens: 2210\n",
      "Processing document: file:/C:/Users/mnavas/CASE%20OF%20SHVIDKIYE%20v.%20RUSSIA.docx\n",
      "Procedure tokens: 175\n",
      "Circumstances tokens: 1081\n",
      "Decision tokens: 215\n",
      "Total tokens: 1471\n",
      "Processing document: file:/C:/Users/mnavas/CASE%20OF%20SIDOROVA%20v.%20RUSSIA.docx\n",
      "Procedure tokens: 148\n",
      "Circumstances tokens: 771\n",
      "Decision tokens: 156\n",
      "Total tokens: 1075\n",
      "Processing document: file:/C:/Users/mnavas/CASE%20OF%20SOLCAN%20v.%20ROMANIA.docx\n",
      "Procedure tokens: 169\n",
      "Circumstances tokens: 887\n",
      "Decision tokens: 136\n",
      "Total tokens: 1192\n",
      "Processing document: file:/C:/Users/mnavas/CASE%20OF%20STANA%20v.%20ROMANIA.docx\n",
      "Procedure tokens: 123\n",
      "Circumstances tokens: 266\n",
      "Decision tokens: 164\n",
      "Total tokens: 553\n",
      "Processing document: file:/C:/Users/mnavas/CASE%20OF%20VISY%20v.%20SLOVAKIA.docx\n",
      "Procedure tokens: 206\n",
      "Circumstances tokens: 1770\n",
      "Decision tokens: 157\n",
      "Total tokens: 2133\n",
      "Processing document: file:/C:/Users/mnavas/CASE%20OF%20YAKUSHEV%20v.%20UKRAINE.docx\n",
      "Procedure tokens: 141\n",
      "Circumstances tokens: 548\n",
      "Decision tokens: 168\n",
      "Total tokens: 857\n",
      "Processing document: file:/C:/Users/mnavas/CASE%20OF%20YERMAKOVICH%20v.%20RUSSIA.docx\n",
      "Procedure tokens: 218\n",
      "Circumstances tokens: 1462\n",
      "Decision tokens: 243\n",
      "Total tokens: 1923\n",
      "Processing document: file:/C:/Users/mnavas/CASE%20OF%20YEVGENIY%20ZAKHAROV%20v.%20RUSSIA.docx\n",
      "Procedure tokens: 164\n",
      "Circumstances tokens: 1722\n",
      "Decision tokens: 144\n",
      "Total tokens: 2030\n"
     ]
    }
   ],
   "source": [
    "from spacy.lang.en import English\n",
    "from spacy.tokenizer import Tokenizer\n",
    "\n",
    "nlp = English()\n",
    "tokenizer = Tokenizer(nlp.vocab)\n",
    "\n",
    "for doc in corpus:\n",
    "    print(f\"Processing document: {doc.features.get(\"gate.SourceURL\")}\")\n",
    "    annotations = doc.annset(\"Section\")\n",
    "    # Procedure\n",
    "    procedure_annotations = annotations.with_type(\"Procedure\")\n",
    "    for ann in procedure_annotations:\n",
    "        procedure_text = doc.text[ann.start:ann.end]\n",
    "        proc_tokens = tokenizer(procedure_text)\n",
    "    # Circumstances\n",
    "    circumstances_annotations = annotations.with_type(\"Circumstances\")\n",
    "    for ann in circumstances_annotations:\n",
    "        procedure_text = doc.text[ann.start:ann.end]\n",
    "        circ_tokens = tokenizer(procedure_text)\n",
    "    # Decision\n",
    "    decision_annotations = annotations.with_type(\"Decision\")\n",
    "    for ann in decision_annotations:\n",
    "        procedure_text = doc.text[ann.start:ann.end]\n",
    "        dec_tokens = tokenizer(procedure_text)\n",
    "    \n",
    "    total_tokens = len(proc_tokens) + len(circ_tokens) + len(dec_tokens)\n",
    "\n",
    "    print(f\"Procedure tokens: {len(proc_tokens)}\")\n",
    "    print(f\"Circumstances tokens: {len(circ_tokens)}\")\n",
    "    print(f\"Decision tokens: {len(dec_tokens)}\")\n",
    "    print(f\"Total tokens: {total_tokens}\")\n"
   ]
  },
  {
   "cell_type": "code",
   "execution_count": 15,
   "id": "da564450",
   "metadata": {},
   "outputs": [
    {
     "name": "stderr",
     "output_type": "stream",
     "text": [
      "C:\\Users\\z0046bhj\\AppData\\Local\\Temp\\ipykernel_26580\\3485300595.py:43: UserWarning: Tight layout not applied. The bottom and top margins cannot be made large enough to accommodate all Axes decorations.\n",
      "  plt.tight_layout()\n"
     ]
    },
    {
     "data": {
      "image/png": "[encoded data removed]",
      "text/plain": [
       "<Figure size 1000x600 with 1 Axes>"
      ]
     },
     "metadata": {},
     "output_type": "display_data"
    }
   ],
   "source": [
    "import matplotlib.pyplot as plt\n",
    "\n",
    "doc_names = []\n",
    "proc_counts = []\n",
    "circ_counts = []\n",
    "dec_counts = []\n",
    "\n",
    "for doc in corpus:\n",
    "    doc_name = doc.features.get(\"gate.SourceURL\", \"doc\")\n",
    "    doc_names.append(doc_name)\n",
    "    annotations = doc.annset(\"Section\")\n",
    "    # Procedure\n",
    "    proc_tokens = 0\n",
    "    for ann in annotations.with_type(\"Procedure\"):\n",
    "        procedure_text = doc.text[ann.start:ann.end]\n",
    "        proc_tokens += len(tokenizer(procedure_text))\n",
    "    # Circumstances\n",
    "    circ_tokens = 0\n",
    "    for ann in annotations.with_type(\"Circumstances\"):\n",
    "        procedure_text = doc.text[ann.start:ann.end]\n",
    "        circ_tokens += len(tokenizer(procedure_text))\n",
    "    # Decision\n",
    "    dec_tokens = 0\n",
    "    for ann in annotations.with_type(\"Decision\"):\n",
    "        procedure_text = doc.text[ann.start:ann.end]\n",
    "        dec_tokens += len(tokenizer(procedure_text))\n",
    "    proc_counts.append(proc_tokens)\n",
    "    circ_counts.append(circ_tokens)\n",
    "    dec_counts.append(dec_tokens)\n",
    "\n",
    "# Plot\n",
    "fig, ax = plt.subplots(figsize=(10, 6))\n",
    "bar1 = ax.bar(doc_names, proc_counts, label='Procedure')\n",
    "bar2 = ax.bar(doc_names, circ_counts, bottom=proc_counts, label='Circumstances')\n",
    "bottoms = [p + c for p, c in zip(proc_counts, circ_counts)]\n",
    "bar3 = ax.bar(doc_names, dec_counts, bottom=bottoms, label='Decision')\n",
    "\n",
    "ax.set_ylabel('Number of tokens')\n",
    "ax.set_xlabel('Document')\n",
    "ax.set_title('Token counts per section for each document')\n",
    "ax.legend()\n",
    "plt.xticks(rotation=45, ha='right')\n",
    "plt.tight_layout()\n",
    "plt.show()"
   ]
  },
  {
   "cell_type": "code",
   "execution_count": 16,
   "id": "8ab42d01",
   "metadata": {},
   "outputs": [
    {
     "data": {
      "application/vnd.plotly.v1+json": {
       "config": {
        "plotlyServerURL": "https://plot.ly"
       },
       "data": [
        {
         "name": "Procedure",
         "type": "bar",
         "x": [
          "file:/C:/Users/mnavas/CASE%20OF%20ALTAY%20v.%20TURKEY%20(No.%202).docx",
          "file:/C:/Users/mnavas/CASE%20OF%20BELYAYEV%20AND%20OTHERS%20v.%20UKRAINE.docx",
          "file:/C:/Users/mnavas/CASE%20OF%20BIGUN%20v.%20UKRAINE.docx",
          "file:/C:/Users/mnavas/CASE%20OF%20CABUCAK%20v.%20GERMANY.docx",
          "file:/C:/Users/mnavas/CASE%20OF%20CAN%20v.%20TURKEY.docx",
          "file:/C:/Users/mnavas/CASE%20OF%20CRISTIAN%20CATALIN%20UNGUREANU%20v.%20ROMANIA.docx",
          "file:/C:/Users/mnavas/CASE%20OF%20DOKTOROV%20v.%20BULGARIA.docx",
          "file:/C:/Users/mnavas/CASE%20OF%20EGILL%20EINARSSON%20v.%20ICELAND%20(No.%202).docx",
          "file:/C:/Users/mnavas/CASE%20OF%20H_INESS%20v.%20NORWAY%20(1).docx",
          "file:/C:/Users/mnavas/CASE%20OF%20KOSAITE%20-%20CYPIENE%20AND%20OTHERS%20v.%20LITHUANIA.docx",
          "file:/C:/Users/mnavas/CASE%20OF%20LOZOVYYE%20v.%20RUSSIA.docx",
          "file:/C:/Users/mnavas/CASE%20OF%20M.T.%20v.%20UKRAINE.docx",
          "file:/C:/Users/mnavas/CASE%20OF%20MOSKALEV%20v.%20RUSSIA.docx",
          "file:/C:/Users/mnavas/CASE%20OF%20MURUZHEVA%20v.%20RUSSIA.docx",
          "file:/C:/Users/mnavas/CASE%20OF%20_NODI%20v.%20HUNGARY.docx",
          "file:/C:/Users/mnavas/CASE%20OF%20O.C.I.%20AND%20OTHERS%20v.%20ROMANIA.docx",
          "file:/C:/Users/mnavas/Desktop/CASE%20OF%20OTGON%20v.%20THE%20REPUBLIC%20OF%20MOLDOVA.docx",
          "file:/C:/Users/mnavas/CASE%20OF%20PAKHTUSOV%20v.%20RUSSIA.docx",
          "file:/C:/Users/mnavas/CASE%20OF%20PANYUSHKINY%20v.%20RUSSIA.docx",
          "file:/C:/Users/mnavas/CASE%20OF%20RESIN%20v.%20RUSSIA.docx",
          "file:/C:/Users/mnavas/CASE%20OF%20S.N.%20v.%20RUSSIA.docx",
          "file:/C:/Users/mnavas/CASE%20OF%20S.V.%20v.%20ITALY.docx",
          "file:/C:/Users/mnavas/CASE%20OF%20SHVIDKIYE%20v.%20RUSSIA.docx",
          "file:/C:/Users/mnavas/CASE%20OF%20SIDOROVA%20v.%20RUSSIA.docx",
          "file:/C:/Users/mnavas/CASE%20OF%20SOLCAN%20v.%20ROMANIA.docx",
          "file:/C:/Users/mnavas/CASE%20OF%20STANA%20v.%20ROMANIA.docx",
          "file:/C:/Users/mnavas/CASE%20OF%20VISY%20v.%20SLOVAKIA.docx",
          "file:/C:/Users/mnavas/CASE%20OF%20YAKUSHEV%20v.%20UKRAINE.docx",
          "file:/C:/Users/mnavas/CASE%20OF%20YERMAKOVICH%20v.%20RUSSIA.docx",
          "file:/C:/Users/mnavas/CASE%20OF%20YEVGENIY%20ZAKHAROV%20v.%20RUSSIA.docx"
         ],
         "y": [
          168,
          274,
          121,
          177,
          134,
          132,
          151,
          133,
          178,
          185,
          136,
          155,
          128,
          156,
          146,
          218,
          106,
          135,
          175,
          151,
          268,
          168,
          175,
          148,
          169,
          123,
          206,
          141,
          218,
          164
         ]
        },
        {
         "name": "Circumstances",
         "type": "bar",
         "x": [
          "file:/C:/Users/mnavas/CASE%20OF%20ALTAY%20v.%20TURKEY%20(No.%202).docx",
          "file:/C:/Users/mnavas/CASE%20OF%20BELYAYEV%20AND%20OTHERS%20v.%20UKRAINE.docx",
          "file:/C:/Users/mnavas/CASE%20OF%20BIGUN%20v.%20UKRAINE.docx",
          "file:/C:/Users/mnavas/CASE%20OF%20CABUCAK%20v.%20GERMANY.docx",
          "file:/C:/Users/mnavas/CASE%20OF%20CAN%20v.%20TURKEY.docx",
          "file:/C:/Users/mnavas/CASE%20OF%20CRISTIAN%20CATALIN%20UNGUREANU%20v.%20ROMANIA.docx",
          "file:/C:/Users/mnavas/CASE%20OF%20DOKTOROV%20v.%20BULGARIA.docx",
          "file:/C:/Users/mnavas/CASE%20OF%20EGILL%20EINARSSON%20v.%20ICELAND%20(No.%202).docx",
          "file:/C:/Users/mnavas/CASE%20OF%20H_INESS%20v.%20NORWAY%20(1).docx",
          "file:/C:/Users/mnavas/CASE%20OF%20KOSAITE%20-%20CYPIENE%20AND%20OTHERS%20v.%20LITHUANIA.docx",
          "file:/C:/Users/mnavas/CASE%20OF%20LOZOVYYE%20v.%20RUSSIA.docx",
          "file:/C:/Users/mnavas/CASE%20OF%20M.T.%20v.%20UKRAINE.docx",
          "file:/C:/Users/mnavas/CASE%20OF%20MOSKALEV%20v.%20RUSSIA.docx",
          "file:/C:/Users/mnavas/CASE%20OF%20MURUZHEVA%20v.%20RUSSIA.docx",
          "file:/C:/Users/mnavas/CASE%20OF%20_NODI%20v.%20HUNGARY.docx",
          "file:/C:/Users/mnavas/CASE%20OF%20O.C.I.%20AND%20OTHERS%20v.%20ROMANIA.docx",
          "file:/C:/Users/mnavas/Desktop/CASE%20OF%20OTGON%20v.%20THE%20REPUBLIC%20OF%20MOLDOVA.docx",
          "file:/C:/Users/mnavas/CASE%20OF%20PAKHTUSOV%20v.%20RUSSIA.docx",
          "file:/C:/Users/mnavas/CASE%20OF%20PANYUSHKINY%20v.%20RUSSIA.docx",
          "file:/C:/Users/mnavas/CASE%20OF%20RESIN%20v.%20RUSSIA.docx",
          "file:/C:/Users/mnavas/CASE%20OF%20S.N.%20v.%20RUSSIA.docx",
          "file:/C:/Users/mnavas/CASE%20OF%20S.V.%20v.%20ITALY.docx",
          "file:/C:/Users/mnavas/CASE%20OF%20SHVIDKIYE%20v.%20RUSSIA.docx",
          "file:/C:/Users/mnavas/CASE%20OF%20SIDOROVA%20v.%20RUSSIA.docx",
          "file:/C:/Users/mnavas/CASE%20OF%20SOLCAN%20v.%20ROMANIA.docx",
          "file:/C:/Users/mnavas/CASE%20OF%20STANA%20v.%20ROMANIA.docx",
          "file:/C:/Users/mnavas/CASE%20OF%20VISY%20v.%20SLOVAKIA.docx",
          "file:/C:/Users/mnavas/CASE%20OF%20YAKUSHEV%20v.%20UKRAINE.docx",
          "file:/C:/Users/mnavas/CASE%20OF%20YERMAKOVICH%20v.%20RUSSIA.docx",
          "file:/C:/Users/mnavas/CASE%20OF%20YEVGENIY%20ZAKHAROV%20v.%20RUSSIA.docx"
         ],
         "y": [
          1397,
          883,
          1412,
          2749,
          506,
          991,
          541,
          2044,
          5816,
          3276,
          1374,
          815,
          771,
          1445,
          1422,
          1468,
          405,
          867,
          1563,
          1096,
          1642,
          1857,
          1081,
          771,
          887,
          266,
          1770,
          548,
          1462,
          1722
         ]
        },
        {
         "name": "Decision",
         "type": "bar",
         "x": [
          "file:/C:/Users/mnavas/CASE%20OF%20ALTAY%20v.%20TURKEY%20(No.%202).docx",
          "file:/C:/Users/mnavas/CASE%20OF%20BELYAYEV%20AND%20OTHERS%20v.%20UKRAINE.docx",
          "file:/C:/Users/mnavas/CASE%20OF%20BIGUN%20v.%20UKRAINE.docx",
          "file:/C:/Users/mnavas/CASE%20OF%20CABUCAK%20v.%20GERMANY.docx",
          "file:/C:/Users/mnavas/CASE%20OF%20CAN%20v.%20TURKEY.docx",
          "file:/C:/Users/mnavas/CASE%20OF%20CRISTIAN%20CATALIN%20UNGUREANU%20v.%20ROMANIA.docx",
          "file:/C:/Users/mnavas/CASE%20OF%20DOKTOROV%20v.%20BULGARIA.docx",
          "file:/C:/Users/mnavas/CASE%20OF%20EGILL%20EINARSSON%20v.%20ICELAND%20(No.%202).docx",
          "file:/C:/Users/mnavas/CASE%20OF%20H_INESS%20v.%20NORWAY%20(1).docx",
          "file:/C:/Users/mnavas/CASE%20OF%20KOSAITE%20-%20CYPIENE%20AND%20OTHERS%20v.%20LITHUANIA.docx",
          "file:/C:/Users/mnavas/CASE%20OF%20LOZOVYYE%20v.%20RUSSIA.docx",
          "file:/C:/Users/mnavas/CASE%20OF%20M.T.%20v.%20UKRAINE.docx",
          "file:/C:/Users/mnavas/CASE%20OF%20MOSKALEV%20v.%20RUSSIA.docx",
          "file:/C:/Users/mnavas/CASE%20OF%20MURUZHEVA%20v.%20RUSSIA.docx",
          "file:/C:/Users/mnavas/CASE%20OF%20_NODI%20v.%20HUNGARY.docx",
          "file:/C:/Users/mnavas/CASE%20OF%20O.C.I.%20AND%20OTHERS%20v.%20ROMANIA.docx",
          "file:/C:/Users/mnavas/Desktop/CASE%20OF%20OTGON%20v.%20THE%20REPUBLIC%20OF%20MOLDOVA.docx",
          "file:/C:/Users/mnavas/CASE%20OF%20PAKHTUSOV%20v.%20RUSSIA.docx",
          "file:/C:/Users/mnavas/CASE%20OF%20PANYUSHKINY%20v.%20RUSSIA.docx",
          "file:/C:/Users/mnavas/CASE%20OF%20RESIN%20v.%20RUSSIA.docx",
          "file:/C:/Users/mnavas/CASE%20OF%20S.N.%20v.%20RUSSIA.docx",
          "file:/C:/Users/mnavas/CASE%20OF%20S.V.%20v.%20ITALY.docx",
          "file:/C:/Users/mnavas/CASE%20OF%20SHVIDKIYE%20v.%20RUSSIA.docx",
          "file:/C:/Users/mnavas/CASE%20OF%20SIDOROVA%20v.%20RUSSIA.docx",
          "file:/C:/Users/mnavas/CASE%20OF%20SOLCAN%20v.%20ROMANIA.docx",
          "file:/C:/Users/mnavas/CASE%20OF%20STANA%20v.%20ROMANIA.docx",
          "file:/C:/Users/mnavas/CASE%20OF%20VISY%20v.%20SLOVAKIA.docx",
          "file:/C:/Users/mnavas/CASE%20OF%20YAKUSHEV%20v.%20UKRAINE.docx",
          "file:/C:/Users/mnavas/CASE%20OF%20YERMAKOVICH%20v.%20RUSSIA.docx",
          "file:/C:/Users/mnavas/CASE%20OF%20YEVGENIY%20ZAKHAROV%20v.%20RUSSIA.docx"
         ],
         "y": [
          210,
          217,
          225,
          22,
          145,
          239,
          52,
          22,
          22,
          51,
          219,
          192,
          212,
          203,
          189,
          191,
          0,
          208,
          177,
          216,
          185,
          0,
          215,
          156,
          136,
          164,
          157,
          168,
          243,
          144
         ]
        }
       ],
       "layout": {
        "barmode": "stack",
        "height": 600,
        "legend": {
         "title": {
          "text": "Section"
         }
        },
        "template": {
         "data": {
          "bar": [
           {
            "error_x": {
             "color": "#2a3f5f"
            },
            "error_y": {
             "color": "#2a3f5f"
            },
            "marker": {
             "line": {
              "color": "#E5ECF6",
              "width": 0.5
             },
             "pattern": {
              "fillmode": "overlay",
              "size": 10,
              "solidity": 0.2
             }
            },
            "type": "bar"
           }
          ],
          "barpolar": [
           {
            "marker": {
             "line": {
              "color": "#E5ECF6",
              "width": 0.5
             },
             "pattern": {
              "fillmode": "overlay",
              "size": 10,
              "solidity": 0.2
             }
            },
            "type": "barpolar"
           }
          ],
          "carpet": [
           {
            "aaxis": {
             "endlinecolor": "#2a3f5f",
             "gridcolor": "white",
             "linecolor": "white",
             "minorgridcolor": "white",
             "startlinecolor": "#2a3f5f"
            },
            "baxis": {
             "endlinecolor": "#2a3f5f",
             "gridcolor": "white",
             "linecolor": "white",
             "minorgridcolor": "white",
             "startlinecolor": "#2a3f5f"
            },
            "type": "carpet"
           }
          ],
          "choropleth": [
           {
            "colorbar": {
             "outlinewidth": 0,
             "ticks": ""
            },
            "type": "choropleth"
           }
          ],
          "contour": [
           {
            "colorbar": {
             "outlinewidth": 0,
             "ticks": ""
            },
            "colorscale": [
             [
              0,
              "#0d0887"
             ],
             [
              0.1111111111111111,
              "#46039f"
             ],
             [
              0.2222222222222222,
              "#7201a8"
             ],
             [
              0.3333333333333333,
              "#9c179e"
             ],
             [
              0.4444444444444444,
              "#bd3786"
             ],
             [
              0.5555555555555556,
              "#d8576b"
             ],
             [
              0.6666666666666666,
              "#ed7953"
             ],
             [
              0.7777777777777778,
              "#fb9f3a"
             ],
             [
              0.8888888888888888,
              "#fdca26"
             ],
             [
              1,
              "#f0f921"
             ]
            ],
            "type": "contour"
           }
          ],
          "contourcarpet": [
           {
            "colorbar": {
             "outlinewidth": 0,
             "ticks": ""
            },
            "type": "contourcarpet"
           }
          ],
          "heatmap": [
           {
            "colorbar": {
             "outlinewidth": 0,
             "ticks": ""
            },
            "colorscale": [
             [
              0,
              "#0d0887"
             ],
             [
              0.1111111111111111,
              "#46039f"
             ],
             [
              0.2222222222222222,
              "#7201a8"
             ],
             [
              0.3333333333333333,
              "#9c179e"
             ],
             [
              0.4444444444444444,
              "#bd3786"
             ],
             [
              0.5555555555555556,
              "#d8576b"
             ],
             [
              0.6666666666666666,
              "#ed7953"
             ],
             [
              0.7777777777777778,
              "#fb9f3a"
             ],
             [
              0.8888888888888888,
              "#fdca26"
             ],
             [
              1,
              "#f0f921"
             ]
            ],
            "type": "heatmap"
           }
          ],
          "histogram": [
           {
            "marker": {
             "pattern": {
              "fillmode": "overlay",
              "size": 10,
              "solidity": 0.2
             }
            },
            "type": "histogram"
           }
          ],
          "histogram2d": [
           {
            "colorbar": {
             "outlinewidth": 0,
             "ticks": ""
            },
            "colorscale": [
             [
              0,
              "#0d0887"
             ],
             [
              0.1111111111111111,
              "#46039f"
             ],
             [
              0.2222222222222222,
              "#7201a8"
             ],
             [
              0.3333333333333333,
              "#9c179e"
             ],
             [
              0.4444444444444444,
              "#bd3786"
             ],
             [
              0.5555555555555556,
              "#d8576b"
             ],
             [
              0.6666666666666666,
              "#ed7953"
             ],
             [
              0.7777777777777778,
              "#fb9f3a"
             ],
             [
              0.8888888888888888,
              "#fdca26"
             ],
             [
              1,
              "#f0f921"
             ]
            ],
            "type": "histogram2d"
           }
          ],
          "histogram2dcontour": [
           {
            "colorbar": {
             "outlinewidth": 0,
             "ticks": ""
            },
            "colorscale": [
             [
              0,
              "#0d0887"
             ],
             [
              0.1111111111111111,
              "#46039f"
             ],
             [
              0.2222222222222222,
              "#7201a8"
             ],
             [
              0.3333333333333333,
              "#9c179e"
             ],
             [
              0.4444444444444444,
              "#bd3786"
             ],
             [
              0.5555555555555556,
              "#d8576b"
             ],
             [
              0.6666666666666666,
              "#ed7953"
             ],
             [
              0.7777777777777778,
              "#fb9f3a"
             ],
             [
              0.8888888888888888,
              "#fdca26"
             ],
             [
              1,
              "#f0f921"
             ]
            ],
            "type": "histogram2dcontour"
           }
          ],
          "mesh3d": [
           {
            "colorbar": {
             "outlinewidth": 0,
             "ticks": ""
            },
            "type": "mesh3d"
           }
          ],
          "parcoords": [
           {
            "line": {
             "colorbar": {
              "outlinewidth": 0,
              "ticks": ""
             }
            },
            "type": "parcoords"
           }
          ],
          "pie": [
           {
            "automargin": true,
            "type": "pie"
           }
          ],
          "scatter": [
           {
            "fillpattern": {
             "fillmode": "overlay",
             "size": 10,
             "solidity": 0.2
            },
            "type": "scatter"
           }
          ],
          "scatter3d": [
           {
            "line": {
             "colorbar": {
              "outlinewidth": 0,
              "ticks": ""
             }
            },
            "marker": {
             "colorbar": {
              "outlinewidth": 0,
              "ticks": ""
             }
            },
            "type": "scatter3d"
           }
          ],
          "scattercarpet": [
           {
            "marker": {
             "colorbar": {
              "outlinewidth": 0,
              "ticks": ""
             }
            },
            "type": "scattercarpet"
           }
          ],
          "scattergeo": [
           {
            "marker": {
             "colorbar": {
              "outlinewidth": 0,
              "ticks": ""
             }
            },
            "type": "scattergeo"
           }
          ],
          "scattergl": [
           {
            "marker": {
             "colorbar": {
              "outlinewidth": 0,
              "ticks": ""
             }
            },
            "type": "scattergl"
           }
          ],
          "scattermap": [
           {
            "marker": {
             "colorbar": {
              "outlinewidth": 0,
              "ticks": ""
             }
            },
            "type": "scattermap"
           }
          ],
          "scattermapbox": [
           {
            "marker": {
             "colorbar": {
              "outlinewidth": 0,
              "ticks": ""
             }
            },
            "type": "scattermapbox"
           }
          ],
          "scatterpolar": [
           {
            "marker": {
             "colorbar": {
              "outlinewidth": 0,
              "ticks": ""
             }
            },
            "type": "scatterpolar"
           }
          ],
          "scatterpolargl": [
           {
            "marker": {
             "colorbar": {
              "outlinewidth": 0,
              "ticks": ""
             }
            },
            "type": "scatterpolargl"
           }
          ],
          "scatterternary": [
           {
            "marker": {
             "colorbar": {
              "outlinewidth": 0,
              "ticks": ""
             }
            },
            "type": "scatterternary"
           }
          ],
          "surface": [
           {
            "colorbar": {
             "outlinewidth": 0,
             "ticks": ""
            },
            "colorscale": [
             [
              0,
              "#0d0887"
             ],
             [
              0.1111111111111111,
              "#46039f"
             ],
             [
              0.2222222222222222,
              "#7201a8"
             ],
             [
              0.3333333333333333,
              "#9c179e"
             ],
             [
              0.4444444444444444,
              "#bd3786"
             ],
             [
              0.5555555555555556,
              "#d8576b"
             ],
             [
              0.6666666666666666,
              "#ed7953"
             ],
             [
              0.7777777777777778,
              "#fb9f3a"
             ],
             [
              0.8888888888888888,
              "#fdca26"
             ],
             [
              1,
              "#f0f921"
             ]
            ],
            "type": "surface"
           }
          ],
          "table": [
           {
            "cells": {
             "fill": {
              "color": "#EBF0F8"
             },
             "line": {
              "color": "white"
             }
            },
            "header": {
             "fill": {
              "color": "#C8D4E3"
             },
             "line": {
              "color": "white"
             }
            },
            "type": "table"
           }
          ]
         },
         "layout": {
          "annotationdefaults": {
           "arrowcolor": "#2a3f5f",
           "arrowhead": 0,
           "arrowwidth": 1
          },
          "autotypenumbers": "strict",
          "coloraxis": {
           "colorbar": {
            "outlinewidth": 0,
            "ticks": ""
           }
          },
          "colorscale": {
           "diverging": [
            [
             0,
             "#8e0152"
            ],
            [
             0.1,
             "#c51b7d"
            ],
            [
             0.2,
             "#de77ae"
            ],
            [
             0.3,
             "#f1b6da"
            ],
            [
             0.4,
             "#fde0ef"
            ],
            [
             0.5,
             "#f7f7f7"
            ],
            [
             0.6,
             "#e6f5d0"
            ],
            [
             0.7,
             "#b8e186"
            ],
            [
             0.8,
             "#7fbc41"
            ],
            [
             0.9,
             "#4d9221"
            ],
            [
             1,
             "#276419"
            ]
           ],
           "sequential": [
            [
             0,
             "#0d0887"
            ],
            [
             0.1111111111111111,
             "#46039f"
            ],
            [
             0.2222222222222222,
             "#7201a8"
            ],
            [
             0.3333333333333333,
             "#9c179e"
            ],
            [
             0.4444444444444444,
             "#bd3786"
            ],
            [
             0.5555555555555556,
             "#d8576b"
            ],
            [
             0.6666666666666666,
             "#ed7953"
            ],
            [
             0.7777777777777778,
             "#fb9f3a"
            ],
            [
             0.8888888888888888,
             "#fdca26"
            ],
            [
             1,
             "#f0f921"
            ]
           ],
           "sequentialminus": [
            [
             0,
             "#0d0887"
            ],
            [
             0.1111111111111111,
             "#46039f"
            ],
            [
             0.2222222222222222,
             "#7201a8"
            ],
            [
             0.3333333333333333,
             "#9c179e"
            ],
            [
             0.4444444444444444,
             "#bd3786"
            ],
            [
             0.5555555555555556,
             "#d8576b"
            ],
            [
             0.6666666666666666,
             "#ed7953"
            ],
            [
             0.7777777777777778,
             "#fb9f3a"
            ],
            [
             0.8888888888888888,
             "#fdca26"
            ],
            [
             1,
             "#f0f921"
            ]
           ]
          },
          "colorway": [
           "#636efa",
           "#EF553B",
           "#00cc96",
           "#ab63fa",
           "#FFA15A",
           "#19d3f3",
           "#FF6692",
           "#B6E880",
           "#FF97FF",
           "#FECB52"
          ],
          "font": {
           "color": "#2a3f5f"
          },
          "geo": {
           "bgcolor": "white",
           "lakecolor": "white",
           "landcolor": "#E5ECF6",
           "showlakes": true,
           "showland": true,
           "subunitcolor": "white"
          },
          "hoverlabel": {
           "align": "left"
          },
          "hovermode": "closest",
          "mapbox": {
           "style": "light"
          },
          "paper_bgcolor": "white",
          "plot_bgcolor": "#E5ECF6",
          "polar": {
           "angularaxis": {
            "gridcolor": "white",
            "linecolor": "white",
            "ticks": ""
           },
           "bgcolor": "#E5ECF6",
           "radialaxis": {
            "gridcolor": "white",
            "linecolor": "white",
            "ticks": ""
           }
          },
          "scene": {
           "xaxis": {
            "backgroundcolor": "#E5ECF6",
            "gridcolor": "white",
            "gridwidth": 2,
            "linecolor": "white",
            "showbackground": true,
            "ticks": "",
            "zerolinecolor": "white"
           },
           "yaxis": {
            "backgroundcolor": "#E5ECF6",
            "gridcolor": "white",
            "gridwidth": 2,
            "linecolor": "white",
            "showbackground": true,
            "ticks": "",
            "zerolinecolor": "white"
           },
           "zaxis": {
            "backgroundcolor": "#E5ECF6",
            "gridcolor": "white",
            "gridwidth": 2,
            "linecolor": "white",
            "showbackground": true,
            "ticks": "",
            "zerolinecolor": "white"
           }
          },
          "shapedefaults": {
           "line": {
            "color": "#2a3f5f"
           }
          },
          "ternary": {
           "aaxis": {
            "gridcolor": "white",
            "linecolor": "white",
            "ticks": ""
           },
           "baxis": {
            "gridcolor": "white",
            "linecolor": "white",
            "ticks": ""
           },
           "bgcolor": "#E5ECF6",
           "caxis": {
            "gridcolor": "white",
            "linecolor": "white",
            "ticks": ""
           }
          },
          "title": {
           "x": 0.05
          },
          "xaxis": {
           "automargin": true,
           "gridcolor": "white",
           "linecolor": "white",
           "ticks": "",
           "title": {
            "standoff": 15
           },
           "zerolinecolor": "white",
           "zerolinewidth": 2
          },
          "yaxis": {
           "automargin": true,
           "gridcolor": "white",
           "linecolor": "white",
           "ticks": "",
           "title": {
            "standoff": 15
           },
           "zerolinecolor": "white",
           "zerolinewidth": 2
          }
         }
        },
        "title": {
         "text": "Token counts per section for each document"
        },
        "width": 1000,
        "xaxis": {
         "tickangle": -45,
         "title": {
          "text": "Document"
         }
        },
        "yaxis": {
         "title": {
          "text": "Number of tokens"
         }
        }
       }
      }
     },
     "metadata": {},
     "output_type": "display_data"
    }
   ],
   "source": [
    "import plotly.graph_objects as go\n",
    "\n",
    "fig = go.Figure()\n",
    "\n",
    "fig.add_trace(go.Bar(\n",
    "    name='Procedure',\n",
    "    x=doc_names,\n",
    "    y=proc_counts\n",
    "))\n",
    "fig.add_trace(go.Bar(\n",
    "    name='Circumstances',\n",
    "    x=doc_names,\n",
    "    y=circ_counts\n",
    "))\n",
    "fig.add_trace(go.Bar(\n",
    "    name='Decision',\n",
    "    x=doc_names,\n",
    "    y=dec_counts\n",
    "))\n",
    "\n",
    "fig.update_layout(\n",
    "    barmode='stack',\n",
    "    title='Token counts per section for each document',\n",
    "    xaxis_title='Document',\n",
    "    yaxis_title='Number of tokens',\n",
    "    xaxis_tickangle=-45,\n",
    "    legend_title='Section',\n",
    "    height=600,\n",
    "    width=1000\n",
    ")\n",
    "\n",
    "fig.show()"
   ]
  },
  {
   "cell_type": "markdown",
   "id": "74fdc324",
   "metadata": {},
   "source": [
    "### Check LLM Context Length Compatibility"
   ]
  },
  {
   "cell_type": "code",
   "execution_count": 5,
   "id": "a5f87c87",
   "metadata": {},
   "outputs": [
    {
     "name": "stdout",
     "output_type": "stream",
     "text": [
      "Loaded input/updated/annotated\\dev\\CASE OF ALTAY v. TURKEY (No. 2).xml into corpus\n",
      "Loaded input/updated/annotated\\dev\\CASE OF BELYAYEV AND OTHERS v. UKRAINE.xml into corpus\n",
      "Loaded input/updated/annotated\\dev\\CASE OF BIGUN v. UKRAINE.xml into corpus\n",
      "Loaded input/updated/annotated\\test\\CASE OF CABUCAK v. GERMANY.xml into corpus\n",
      "Loaded input/updated/annotated\\test\\CASE OF CAN v. TURKEY.xml into corpus\n",
      "Loaded input/updated/annotated\\test\\CASE OF CRISTIAN CATALIN UNGUREANU v. ROMANIA.xml into corpus\n",
      "Loaded input/updated/annotated\\train\\CASE OF DOKTOROV v. BULGARIA.xml into corpus\n",
      "Loaded input/updated/annotated\\train\\CASE OF EGILL EINARSSON v. ICELAND (No. 2).xml into corpus\n",
      "Loaded input/updated/annotated\\train\\CASE OF HOINESS v. NORWAY.xml into corpus\n",
      "Loaded input/updated/annotated\\train\\CASE OF KOSAITE - CYPIENE AND OTHERS v. LITHUANIA.xml into corpus\n",
      "Loaded input/updated/annotated\\train\\CASE OF LOZOVYYE v. RUSSIA.xml into corpus\n",
      "Loaded input/updated/annotated\\train\\CASE OF M.T. v. UKRAINE.xml into corpus\n",
      "Loaded input/updated/annotated\\train\\CASE OF MOSKALEV v. RUSSIA.xml into corpus\n",
      "Loaded input/updated/annotated\\train\\CASE OF MURUZHEVA v. RUSSIA.xml into corpus\n",
      "Loaded input/updated/annotated\\train\\CASE OF NODI v. HUNGARY.xml into corpus\n",
      "Loaded input/updated/annotated\\train\\CASE OF EGILL EINARSSON v. ICELAND (No. 2).xml into corpus\n",
      "Loaded input/updated/annotated\\train\\CASE OF HOINESS v. NORWAY.xml into corpus\n",
      "Loaded input/updated/annotated\\train\\CASE OF KOSAITE - CYPIENE AND OTHERS v. LITHUANIA.xml into corpus\n",
      "Loaded input/updated/annotated\\train\\CASE OF LOZOVYYE v. RUSSIA.xml into corpus\n",
      "Loaded input/updated/annotated\\train\\CASE OF M.T. v. UKRAINE.xml into corpus\n",
      "Loaded input/updated/annotated\\train\\CASE OF MOSKALEV v. RUSSIA.xml into corpus\n",
      "Loaded input/updated/annotated\\train\\CASE OF MURUZHEVA v. RUSSIA.xml into corpus\n",
      "Loaded input/updated/annotated\\train\\CASE OF NODI v. HUNGARY.xml into corpus\n",
      "Loaded input/updated/annotated\\train\\CASE OF O.C.I. AND OTHERS v. ROMANIA.xml into corpus\n",
      "Loaded input/updated/annotated\\train\\CASE OF OTGON v. THE REPUBLIC OF MOLDOVA.xml into corpus\n",
      "Loaded input/updated/annotated\\train\\CASE OF PAKHTUSOV v. RUSSIA.xml into corpus\n",
      "Loaded input/updated/annotated\\train\\CASE OF PANYUSHKINY v. RUSSIA.xml into corpus\n",
      "Loaded input/updated/annotated\\train\\CASE OF RESIN v. RUSSIA.xml into corpus\n",
      "Loaded input/updated/annotated\\train\\CASE OF S.N. v. RUSSIA.xml into corpus\n",
      "Loaded input/updated/annotated\\train\\CASE OF O.C.I. AND OTHERS v. ROMANIA.xml into corpus\n",
      "Loaded input/updated/annotated\\train\\CASE OF OTGON v. THE REPUBLIC OF MOLDOVA.xml into corpus\n",
      "Loaded input/updated/annotated\\train\\CASE OF PAKHTUSOV v. RUSSIA.xml into corpus\n",
      "Loaded input/updated/annotated\\train\\CASE OF PANYUSHKINY v. RUSSIA.xml into corpus\n",
      "Loaded input/updated/annotated\\train\\CASE OF RESIN v. RUSSIA.xml into corpus\n",
      "Loaded input/updated/annotated\\train\\CASE OF S.N. v. RUSSIA.xml into corpus\n",
      "Loaded input/updated/annotated\\train\\CASE OF S.V. v. ITALY.xml into corpus\n",
      "Loaded input/updated/annotated\\train\\CASE OF SHVIDKIYE v. RUSSIA.xml into corpus\n",
      "Loaded input/updated/annotated\\train\\CASE OF SIDOROVA v. RUSSIA.xml into corpus\n",
      "Loaded input/updated/annotated\\train\\CASE OF SOLCAN v. ROMANIA.xml into corpus\n",
      "Loaded input/updated/annotated\\train\\CASE OF STANA v. ROMANIA.xml into corpus\n",
      "Loaded input/updated/annotated\\train\\CASE OF VISY v. SLOVAKIA.xml into corpus\n",
      "Loaded input/updated/annotated\\train\\CASE OF YAKUSHEV v. UKRAINE.xml into corpus\n",
      "Loaded input/updated/annotated\\train\\CASE OF YERMAKOVICH v. RUSSIA.xml into corpus\n",
      "Loaded input/updated/annotated\\train\\CASE OF S.V. v. ITALY.xml into corpus\n",
      "Loaded input/updated/annotated\\train\\CASE OF SHVIDKIYE v. RUSSIA.xml into corpus\n",
      "Loaded input/updated/annotated\\train\\CASE OF SIDOROVA v. RUSSIA.xml into corpus\n",
      "Loaded input/updated/annotated\\train\\CASE OF SOLCAN v. ROMANIA.xml into corpus\n",
      "Loaded input/updated/annotated\\train\\CASE OF STANA v. ROMANIA.xml into corpus\n",
      "Loaded input/updated/annotated\\train\\CASE OF VISY v. SLOVAKIA.xml into corpus\n",
      "Loaded input/updated/annotated\\train\\CASE OF YAKUSHEV v. UKRAINE.xml into corpus\n",
      "Loaded input/updated/annotated\\train\\CASE OF YERMAKOVICH v. RUSSIA.xml into corpus\n",
      "Loaded input/updated/annotated\\train\\CASE OF YEVGENIY ZAKHAROV v. RUSSIA.xml into corpus\n",
      "All documents loaded into the corpus.\n",
      "Checking LLM context compatibility...\n",
      "Loaded input/updated/annotated\\train\\CASE OF YEVGENIY ZAKHAROV v. RUSSIA.xml into corpus\n",
      "All documents loaded into the corpus.\n",
      "Checking LLM context compatibility...\n",
      "\n",
      "Compatibility Summary:\n",
      "============================================================\n",
      "\n",
      "Context Length: 4,096 tokens\n",
      "Representative model: gpt-3.5-turbo\n",
      "Other models with same context: \n",
      "  Documents where all sections fit individually: 27/30\n",
      "  Documents where all sections fit combined: 27/30\n",
      "  Individual section compatibility:\n",
      "    Procedure: 30/30\n",
      "    Circumstances: 27/30\n",
      "    Decision: 30/30\n",
      "\n",
      "Context Length: 8,192 tokens\n",
      "Representative model: gpt-4\n",
      "Other models with same context: llama-3-8b, llama-3-70b\n",
      "  Documents where all sections fit individually: 29/30\n",
      "  Documents where all sections fit combined: 29/30\n",
      "  Individual section compatibility:\n",
      "    Procedure: 30/30\n",
      "    Circumstances: 29/30\n",
      "    Decision: 30/30\n",
      "\n",
      "Context Length: 16,384 tokens\n",
      "Representative model: gpt-3.5-turbo-16k\n",
      "Other models with same context: \n",
      "  Documents where all sections fit individually: 30/30\n",
      "  Documents where all sections fit combined: 30/30\n",
      "  Individual section compatibility:\n",
      "    Procedure: 30/30\n",
      "    Circumstances: 30/30\n",
      "    Decision: 30/30\n",
      "\n",
      "Context Length: 32,768 tokens\n",
      "Representative model: gpt-4-32k\n",
      "Other models with same context: \n",
      "  Documents where all sections fit individually: 30/30\n",
      "  Documents where all sections fit combined: 30/30\n",
      "  Individual section compatibility:\n",
      "    Procedure: 30/30\n",
      "    Circumstances: 30/30\n",
      "    Decision: 30/30\n",
      "\n",
      "Context Length: 128,000 tokens\n",
      "Representative model: gpt-4-turbo\n",
      "Other models with same context: gpt-4o, llama-3.1-8b, llama-3.1-70b, llama-3.1-405b\n",
      "  Documents where all sections fit individually: 30/30\n",
      "  Documents where all sections fit combined: 30/30\n",
      "  Individual section compatibility:\n",
      "    Procedure: 30/30\n",
      "    Circumstances: 30/30\n",
      "    Decision: 30/30\n",
      "\n",
      "Context Length: 200,000 tokens\n",
      "Representative model: claude-3-haiku\n",
      "Other models with same context: claude-3-sonnet, claude-3-opus, claude-3.5-sonnet\n",
      "  Documents where all sections fit individually: 30/30\n",
      "  Documents where all sections fit combined: 30/30\n",
      "  Individual section compatibility:\n",
      "    Procedure: 30/30\n",
      "    Circumstances: 30/30\n",
      "    Decision: 30/30\n",
      "\n",
      "Context Length: 1,000,000 tokens\n",
      "Representative model: gemini-1.5-flash\n",
      "Other models with same context: \n",
      "  Documents where all sections fit individually: 30/30\n",
      "  Documents where all sections fit combined: 30/30\n",
      "  Individual section compatibility:\n",
      "    Procedure: 30/30\n",
      "    Circumstances: 30/30\n",
      "    Decision: 30/30\n",
      "\n",
      "Context Length: 2,000,000 tokens\n",
      "Representative model: gemini-1.5-pro\n",
      "Other models with same context: \n",
      "  Documents where all sections fit individually: 30/30\n",
      "  Documents where all sections fit combined: 30/30\n",
      "  Individual section compatibility:\n",
      "    Procedure: 30/30\n",
      "    Circumstances: 30/30\n",
      "    Decision: 30/30\n",
      "\n",
      "Compatibility Summary:\n",
      "============================================================\n",
      "\n",
      "Context Length: 4,096 tokens\n",
      "Representative model: gpt-3.5-turbo\n",
      "Other models with same context: \n",
      "  Documents where all sections fit individually: 27/30\n",
      "  Documents where all sections fit combined: 27/30\n",
      "  Individual section compatibility:\n",
      "    Procedure: 30/30\n",
      "    Circumstances: 27/30\n",
      "    Decision: 30/30\n",
      "\n",
      "Context Length: 8,192 tokens\n",
      "Representative model: gpt-4\n",
      "Other models with same context: llama-3-8b, llama-3-70b\n",
      "  Documents where all sections fit individually: 29/30\n",
      "  Documents where all sections fit combined: 29/30\n",
      "  Individual section compatibility:\n",
      "    Procedure: 30/30\n",
      "    Circumstances: 29/30\n",
      "    Decision: 30/30\n",
      "\n",
      "Context Length: 16,384 tokens\n",
      "Representative model: gpt-3.5-turbo-16k\n",
      "Other models with same context: \n",
      "  Documents where all sections fit individually: 30/30\n",
      "  Documents where all sections fit combined: 30/30\n",
      "  Individual section compatibility:\n",
      "    Procedure: 30/30\n",
      "    Circumstances: 30/30\n",
      "    Decision: 30/30\n",
      "\n",
      "Context Length: 32,768 tokens\n",
      "Representative model: gpt-4-32k\n",
      "Other models with same context: \n",
      "  Documents where all sections fit individually: 30/30\n",
      "  Documents where all sections fit combined: 30/30\n",
      "  Individual section compatibility:\n",
      "    Procedure: 30/30\n",
      "    Circumstances: 30/30\n",
      "    Decision: 30/30\n",
      "\n",
      "Context Length: 128,000 tokens\n",
      "Representative model: gpt-4-turbo\n",
      "Other models with same context: gpt-4o, llama-3.1-8b, llama-3.1-70b, llama-3.1-405b\n",
      "  Documents where all sections fit individually: 30/30\n",
      "  Documents where all sections fit combined: 30/30\n",
      "  Individual section compatibility:\n",
      "    Procedure: 30/30\n",
      "    Circumstances: 30/30\n",
      "    Decision: 30/30\n",
      "\n",
      "Context Length: 200,000 tokens\n",
      "Representative model: claude-3-haiku\n",
      "Other models with same context: claude-3-sonnet, claude-3-opus, claude-3.5-sonnet\n",
      "  Documents where all sections fit individually: 30/30\n",
      "  Documents where all sections fit combined: 30/30\n",
      "  Individual section compatibility:\n",
      "    Procedure: 30/30\n",
      "    Circumstances: 30/30\n",
      "    Decision: 30/30\n",
      "\n",
      "Context Length: 1,000,000 tokens\n",
      "Representative model: gemini-1.5-flash\n",
      "Other models with same context: \n",
      "  Documents where all sections fit individually: 30/30\n",
      "  Documents where all sections fit combined: 30/30\n",
      "  Individual section compatibility:\n",
      "    Procedure: 30/30\n",
      "    Circumstances: 30/30\n",
      "    Decision: 30/30\n",
      "\n",
      "Context Length: 2,000,000 tokens\n",
      "Representative model: gemini-1.5-pro\n",
      "Other models with same context: \n",
      "  Documents where all sections fit individually: 30/30\n",
      "  Documents where all sections fit combined: 30/30\n",
      "  Individual section compatibility:\n",
      "    Procedure: 30/30\n",
      "    Circumstances: 30/30\n",
      "    Decision: 30/30\n"
     ]
    }
   ],
   "source": [
    "import tiktoken\n",
    "import pandas as pd\n",
    "from typing import Dict, List, Tuple\n",
    "from GatenlpUtils import loadCorpus\n",
    "\n",
    "corpus = loadCorpus()\n",
    "\n",
    "# Define representative models for each unique context length\n",
    "# Only need to check one model per context length since capacity is the same\n",
    "CONTEXT_LENGTHS = {\n",
    "    4096: \"gpt-3.5-turbo\",\n",
    "    8192: \"gpt-4\", \n",
    "    16384: \"gpt-3.5-turbo-16k\",\n",
    "    32768: \"gpt-4-32k\",\n",
    "    128000: \"gpt-4-turbo\",  # Also covers gpt-4o, llama-3.1 models\n",
    "    200000: \"claude-3-haiku\",  # Also covers all Claude-3 models\n",
    "    1000000: \"gemini-1.5-flash\",\n",
    "    2000000: \"gemini-1.5-pro\"\n",
    "}\n",
    "\n",
    "# Full model mapping for reference (models with same context length)\n",
    "ALL_MODELS = {\n",
    "    # 4K context\n",
    "    \"gpt-3.5-turbo\": 4096,\n",
    "    \n",
    "    # 8K context  \n",
    "    \"gpt-4\": 8192,\n",
    "    \"llama-3-8b\": 8192,\n",
    "    \"llama-3-70b\": 8192,\n",
    "    \n",
    "    # 16K context\n",
    "    \"gpt-3.5-turbo-16k\": 16384,\n",
    "    \n",
    "    # 32K context\n",
    "    \"gpt-4-32k\": 32768,\n",
    "    \n",
    "    # 128K context\n",
    "    \"gpt-4-turbo\": 128000,\n",
    "    \"gpt-4o\": 128000,\n",
    "    \"llama-3.1-8b\": 128000,\n",
    "    \"llama-3.1-70b\": 128000,\n",
    "    \"llama-3.1-405b\": 128000,\n",
    "    \n",
    "    # 200K context\n",
    "    \"claude-3-haiku\": 200000,\n",
    "    \"claude-3-sonnet\": 200000,\n",
    "    \"claude-3-opus\": 200000,\n",
    "    \"claude-3.5-sonnet\": 200000,\n",
    "    \n",
    "    # 1M context\n",
    "    \"gemini-1.5-flash\": 1000000,\n",
    "    \n",
    "    # 2M context\n",
    "    \"gemini-1.5-pro\": 2000000\n",
    "}\n",
    "\n",
    "def count_tokens_tiktoken(text: str, model: str = \"gpt-4\") -> int:\n",
    "    \"\"\"\n",
    "    Count tokens using tiktoken for OpenAI models.\n",
    "    Falls back to rough estimation for other models.\n",
    "    \"\"\"\n",
    "    try:\n",
    "        if model.startswith(\"gpt\"):\n",
    "            encoding = tiktoken.encoding_for_model(model)\n",
    "        else:\n",
    "            # Use cl100k_base encoding as approximation for other models\n",
    "            encoding = tiktoken.get_encoding(\"cl100k_base\")\n",
    "        return len(encoding.encode(text))\n",
    "    except Exception:\n",
    "        # Fallback to rough estimation: ~4 characters per token\n",
    "        return len(text) // 4\n",
    "\n",
    "def check_context_compatibility(corpus, context_lengths: Dict[int, str], reserve_tokens: int = 1000) -> pd.DataFrame:\n",
    "    \"\"\"\n",
    "    Check if document sections fit within LLM context lengths.\n",
    "    Only checks one representative model per context length for efficiency.\n",
    "    \n",
    "    Args:\n",
    "        corpus: GateNLP corpus\n",
    "        context_lengths: Dictionary of context lengths and representative model names\n",
    "        reserve_tokens: Tokens to reserve for system prompt, instructions, etc.\n",
    "    \n",
    "    Returns:\n",
    "        DataFrame with compatibility results\n",
    "    \"\"\"\n",
    "    results = []\n",
    "    \n",
    "    for doc_idx, doc in enumerate(corpus):\n",
    "        doc_name = doc.features.get(\"gate.SourceURL\", f\"Document {doc_idx+1}\")\n",
    "        annotations = doc.annset(\"Section\")\n",
    "        \n",
    "        # Extract text from each section\n",
    "        procedure_text = \"\"\n",
    "        circumstances_text = \"\"\n",
    "        decision_text = \"\"\n",
    "        \n",
    "        for ann in annotations.with_type(\"Procedure\"):\n",
    "            procedure_text += doc.text[ann.start:ann.end] + \" \"\n",
    "        \n",
    "        for ann in annotations.with_type(\"Circumstances\"):\n",
    "            circumstances_text += doc.text[ann.start:ann.end] + \" \"\n",
    "        \n",
    "        for ann in annotations.with_type(\"Decision\"):\n",
    "            decision_text += doc.text[ann.start:ann.end] + \" \"\n",
    "        \n",
    "        # Count tokens for each section\n",
    "        proc_tokens = count_tokens_tiktoken(procedure_text.strip())\n",
    "        circ_tokens = count_tokens_tiktoken(circumstances_text.strip())\n",
    "        dec_tokens = count_tokens_tiktoken(decision_text.strip())\n",
    "        \n",
    "        # Total tokens for all sections combined\n",
    "        total_tokens = proc_tokens + circ_tokens + dec_tokens\n",
    "        \n",
    "        # Check compatibility with each unique context length\n",
    "        for context_length, model_name in context_lengths.items():\n",
    "            available_tokens = context_length - reserve_tokens\n",
    "            \n",
    "            result = {\n",
    "                \"document\": doc_name,\n",
    "                \"context_length\": context_length,\n",
    "                \"representative_model\": model_name,\n",
    "                \"available_tokens\": available_tokens,\n",
    "                \"procedure_tokens\": proc_tokens,\n",
    "                \"circumstances_tokens\": circ_tokens,\n",
    "                \"decision_tokens\": dec_tokens,\n",
    "                \"total_tokens\": total_tokens,\n",
    "                \"fits_individually\": all([\n",
    "                    proc_tokens <= available_tokens,\n",
    "                    circ_tokens <= available_tokens,\n",
    "                    dec_tokens <= available_tokens\n",
    "                ]),\n",
    "                \"fits_combined\": total_tokens <= available_tokens,\n",
    "                \"procedure_fits\": proc_tokens <= available_tokens,\n",
    "                \"circumstances_fits\": circ_tokens <= available_tokens,\n",
    "                \"decision_fits\": dec_tokens <= available_tokens\n",
    "            }\n",
    "            \n",
    "            results.append(result)\n",
    "    \n",
    "    return pd.DataFrame(results)\n",
    "\n",
    "# Run the compatibility check (only checking unique context lengths)\n",
    "print(\"Checking LLM context compatibility...\")\n",
    "compatibility_df = check_context_compatibility(corpus, CONTEXT_LENGTHS)\n",
    "\n",
    "# Display summary\n",
    "print(\"\\nCompatibility Summary:\")\n",
    "print(\"=\" * 60)\n",
    "\n",
    "# Group by context length and show compatibility statistics\n",
    "for context_length, model_name in CONTEXT_LENGTHS.items():\n",
    "    model_data = compatibility_df[compatibility_df['context_length'] == context_length]\n",
    "    total_docs = len(model_data)\n",
    "    fits_individual = model_data['fits_individually'].sum()\n",
    "    fits_combined = model_data['fits_combined'].sum()\n",
    "    \n",
    "    # Show which models have this context length\n",
    "    models_with_this_length = [model for model, length in ALL_MODELS.items() if length == context_length]\n",
    "    \n",
    "    print(f\"\\nContext Length: {context_length:,} tokens\")\n",
    "    print(f\"Representative model: {model_name}\")\n",
    "    print(f\"Other models with same context: {', '.join([m for m in models_with_this_length if m != model_name])}\")\n",
    "    print(f\"  Documents where all sections fit individually: {fits_individual}/{total_docs}\")\n",
    "    print(f\"  Documents where all sections fit combined: {fits_combined}/{total_docs}\")\n",
    "    print(f\"  Individual section compatibility:\")\n",
    "    print(f\"    Procedure: {model_data['procedure_fits'].sum()}/{total_docs}\")\n",
    "    print(f\"    Circumstances: {model_data['circumstances_fits'].sum()}/{total_docs}\")\n",
    "    print(f\"    Decision: {model_data['decision_fits'].sum()}/{total_docs}\")"
   ]
  },
  {
   "cell_type": "code",
   "execution_count": 6,
   "id": "d750f405",
   "metadata": {},
   "outputs": [
    {
     "name": "stdout",
     "output_type": "stream",
     "text": [
      "\n",
      "Detailed Document Analysis:\n",
      "================================================================================\n",
      "\n",
      "Documents that don't fit in 4K context models:\n",
      "  file:/C:/Users/mnavas/CASE%20OF%20CABUCAK%20v.%20GERMANY.docx: 3,716 tokens\n",
      "  file:/C:/Users/mnavas/CASE%20OF%20H_INESS%20v.%20NORWAY%20(1).docx: 7,624 tokens\n",
      "  file:/C:/Users/mnavas/CASE%20OF%20KOSAITE%20-%20CYPIENE%20AND%20OTHERS%20v.%20LITHUANIA.docx: 4,557 tokens\n",
      "\n",
      "Minimum context requirements per document:\n",
      "  file:/C:/Users/mnavas/CASE%20OF%20ALTAY%20v.%20TURKEY%20(No.%202).docx: 2,209 tokens -> Minimum: 4,096 tokens (gpt-3.5-turbo)\n",
      "  file:/C:/Users/mnavas/CASE%20OF%20BELYAYEV%20AND%20OTHERS%20v.%20UKRAINE.docx: 1,803 tokens -> Minimum: 4,096 tokens (gpt-3.5-turbo)\n",
      "  file:/C:/Users/mnavas/CASE%20OF%20BIGUN%20v.%20UKRAINE.docx: 2,355 tokens -> Minimum: 4,096 tokens (gpt-3.5-turbo)\n",
      "  file:/C:/Users/mnavas/CASE%20OF%20CABUCAK%20v.%20GERMANY.docx: 3,716 tokens -> Minimum: 8,192 tokens (gpt-4)\n",
      "  file:/C:/Users/mnavas/CASE%20OF%20CAN%20v.%20TURKEY.docx: 1,075 tokens -> Minimum: 4,096 tokens (gpt-3.5-turbo)\n",
      "  file:/C:/Users/mnavas/CASE%20OF%20CRISTIAN%20CATALIN%20UNGUREANU%20v.%20ROMANIA.docx: 1,772 tokens -> Minimum: 4,096 tokens (gpt-3.5-turbo)\n",
      "  file:/C:/Users/mnavas/CASE%20OF%20DOKTOROV%20v.%20BULGARIA.docx: 996 tokens -> Minimum: 4,096 tokens (gpt-3.5-turbo)\n",
      "  file:/C:/Users/mnavas/CASE%20OF%20EGILL%20EINARSSON%20v.%20ICELAND%20(No.%202).docx: 2,806 tokens -> Minimum: 4,096 tokens (gpt-3.5-turbo)\n",
      "  file:/C:/Users/mnavas/CASE%20OF%20H_INESS%20v.%20NORWAY%20(1).docx: 7,624 tokens -> Minimum: 16,384 tokens (gpt-3.5-turbo-16k)\n",
      "  file:/C:/Users/mnavas/CASE%20OF%20KOSAITE%20-%20CYPIENE%20AND%20OTHERS%20v.%20LITHUANIA.docx: 4,557 tokens -> Minimum: 8,192 tokens (gpt-4)\n",
      "  file:/C:/Users/mnavas/CASE%20OF%20LOZOVYYE%20v.%20RUSSIA.docx: 2,289 tokens -> Minimum: 4,096 tokens (gpt-3.5-turbo)\n",
      "  file:/C:/Users/mnavas/CASE%20OF%20M.T.%20v.%20UKRAINE.docx: 1,478 tokens -> Minimum: 4,096 tokens (gpt-3.5-turbo)\n",
      "  file:/C:/Users/mnavas/CASE%20OF%20MOSKALEV%20v.%20RUSSIA.docx: 1,447 tokens -> Minimum: 4,096 tokens (gpt-3.5-turbo)\n",
      "  file:/C:/Users/mnavas/CASE%20OF%20MURUZHEVA%20v.%20RUSSIA.docx: 2,586 tokens -> Minimum: 4,096 tokens (gpt-3.5-turbo)\n",
      "  file:/C:/Users/mnavas/CASE%20OF%20_NODI%20v.%20HUNGARY.docx: 2,289 tokens -> Minimum: 4,096 tokens (gpt-3.5-turbo)\n",
      "  file:/C:/Users/mnavas/CASE%20OF%20O.C.I.%20AND%20OTHERS%20v.%20ROMANIA.docx: 2,413 tokens -> Minimum: 4,096 tokens (gpt-3.5-turbo)\n",
      "  file:/C:/Users/mnavas/Desktop/CASE%20OF%20OTGON%20v.%20THE%20REPUBLIC%20OF%20MOLDOVA.docx: 914 tokens -> Minimum: 4,096 tokens (gpt-3.5-turbo)\n",
      "  file:/C:/Users/mnavas/CASE%20OF%20PAKHTUSOV%20v.%20RUSSIA.docx: 1,607 tokens -> Minimum: 4,096 tokens (gpt-3.5-turbo)\n",
      "  file:/C:/Users/mnavas/CASE%20OF%20PANYUSHKINY%20v.%20RUSSIA.docx: 2,434 tokens -> Minimum: 4,096 tokens (gpt-3.5-turbo)\n",
      "  file:/C:/Users/mnavas/CASE%20OF%20RESIN%20v.%20RUSSIA.docx: 1,883 tokens -> Minimum: 4,096 tokens (gpt-3.5-turbo)\n",
      "  file:/C:/Users/mnavas/CASE%20OF%20S.N.%20v.%20RUSSIA.docx: 2,745 tokens -> Minimum: 4,096 tokens (gpt-3.5-turbo)\n",
      "  file:/C:/Users/mnavas/CASE%20OF%20S.V.%20v.%20ITALY.docx: 2,850 tokens -> Minimum: 4,096 tokens (gpt-3.5-turbo)\n",
      "  file:/C:/Users/mnavas/CASE%20OF%20SHVIDKIYE%20v.%20RUSSIA.docx: 1,987 tokens -> Minimum: 4,096 tokens (gpt-3.5-turbo)\n",
      "  file:/C:/Users/mnavas/CASE%20OF%20SIDOROVA%20v.%20RUSSIA.docx: 1,422 tokens -> Minimum: 4,096 tokens (gpt-3.5-turbo)\n",
      "  file:/C:/Users/mnavas/CASE%20OF%20SOLCAN%20v.%20ROMANIA.docx: 1,546 tokens -> Minimum: 4,096 tokens (gpt-3.5-turbo)\n",
      "  file:/C:/Users/mnavas/CASE%20OF%20STANA%20v.%20ROMANIA.docx: 789 tokens -> Minimum: 4,096 tokens (gpt-3.5-turbo)\n",
      "  file:/C:/Users/mnavas/CASE%20OF%20VISY%20v.%20SLOVAKIA.docx: 2,649 tokens -> Minimum: 4,096 tokens (gpt-3.5-turbo)\n",
      "  file:/C:/Users/mnavas/CASE%20OF%20YAKUSHEV%20v.%20UKRAINE.docx: 1,142 tokens -> Minimum: 4,096 tokens (gpt-3.5-turbo)\n",
      "  file:/C:/Users/mnavas/CASE%20OF%20YERMAKOVICH%20v.%20RUSSIA.docx: 2,562 tokens -> Minimum: 4,096 tokens (gpt-3.5-turbo)\n",
      "  file:/C:/Users/mnavas/CASE%20OF%20YEVGENIY%20ZAKHAROV%20v.%20RUSSIA.docx: 2,535 tokens -> Minimum: 4,096 tokens (gpt-3.5-turbo)\n"
     ]
    }
   ],
   "source": [
    "# Create detailed compatibility analysis\n",
    "print(\"\\nDetailed Document Analysis:\")\n",
    "print(\"=\" * 80)\n",
    "\n",
    "# Show documents that don't fit in smaller context models\n",
    "problematic_docs = compatibility_df[\n",
    "    (compatibility_df['context_length'] == 4096) & \n",
    "    (~compatibility_df['fits_combined'])\n",
    "]['document'].unique()\n",
    "\n",
    "if len(problematic_docs) > 0:\n",
    "    print(f\"\\nDocuments that don't fit in 4K context models:\")\n",
    "    for doc in problematic_docs:\n",
    "        doc_data = compatibility_df[\n",
    "            (compatibility_df['document'] == doc) & \n",
    "            (compatibility_df['context_length'] == 4096)\n",
    "        ].iloc[0]\n",
    "        print(f\"  {doc}: {doc_data['total_tokens']:,} tokens\")\n",
    "\n",
    "# Find the minimum context length needed for each document\n",
    "print(\"\\nMinimum context requirements per document:\")\n",
    "for doc in compatibility_df['document'].unique():\n",
    "    doc_data = compatibility_df[compatibility_df['document'] == doc]\n",
    "    max_tokens = doc_data['total_tokens'].iloc[0]  # Same across all context lengths for same doc\n",
    "    \n",
    "    # Find smallest context length that can handle this document\n",
    "    suitable_contexts = doc_data[doc_data['fits_combined']]\n",
    "    if not suitable_contexts.empty:\n",
    "        min_context = suitable_contexts['context_length'].min()\n",
    "        min_model = suitable_contexts[suitable_contexts['context_length'] == min_context]['representative_model'].iloc[0]\n",
    "        print(f\"  {doc}: {max_tokens:,} tokens -> Minimum: {min_context:,} tokens ({min_model})\")\n",
    "    else:\n",
    "        print(f\"  {doc}: {max_tokens:,} tokens -> No suitable context length found!\")"
   ]
  },
  {
   "cell_type": "code",
   "execution_count": 7,
   "id": "34bdec5d",
   "metadata": {},
   "outputs": [
    {
     "data": {
      "application/vnd.plotly.v1+json": {
       "config": {
        "plotlyServerURL": "https://plot.ly"
       },
       "data": [
        {
         "coloraxis": "coloraxis",
         "hovertemplate": "Context Length: %{x}<br>Document: %{y}<br>Fits: %{z}<extra></extra>",
         "name": "0",
         "type": "heatmap",
         "x": {
          "bdata": "ABAAAAAgAAAAQAAAAIAAAAD0AQBADQMAQEIPAICEHgA=",
          "dtype": "i4"
         },
         "xaxis": "x",
         "y": [
          "file:/C:/Users/mnavas/CASE%20OF%20ALTAY%20v.%20TURKEY%20(No.%202).docx",
          "file:/C:/Users/mnavas/CASE%20OF%20BELYAYEV%20AND%20OTHERS%20v.%20UKRAINE.docx",
          "file:/C:/Users/mnavas/CASE%20OF%20BIGUN%20v.%20UKRAINE.docx",
          "file:/C:/Users/mnavas/CASE%20OF%20CABUCAK%20v.%20GERMANY.docx",
          "file:/C:/Users/mnavas/CASE%20OF%20CAN%20v.%20TURKEY.docx",
          "file:/C:/Users/mnavas/CASE%20OF%20CRISTIAN%20CATALIN%20UNGUREANU%20v.%20ROMANIA.docx",
          "file:/C:/Users/mnavas/CASE%20OF%20DOKTOROV%20v.%20BULGARIA.docx",
          "file:/C:/Users/mnavas/CASE%20OF%20EGILL%20EINARSSON%20v.%20ICELAND%20(No.%202).docx",
          "file:/C:/Users/mnavas/CASE%20OF%20H_INESS%20v.%20NORWAY%20(1).docx",
          "file:/C:/Users/mnavas/CASE%20OF%20KOSAITE%20-%20CYPIENE%20AND%20OTHERS%20v.%20LITHUANIA.docx",
          "file:/C:/Users/mnavas/CASE%20OF%20LOZOVYYE%20v.%20RUSSIA.docx",
          "file:/C:/Users/mnavas/CASE%20OF%20M.T.%20v.%20UKRAINE.docx",
          "file:/C:/Users/mnavas/CASE%20OF%20MOSKALEV%20v.%20RUSSIA.docx",
          "file:/C:/Users/mnavas/CASE%20OF%20MURUZHEVA%20v.%20RUSSIA.docx",
          "file:/C:/Users/mnavas/CASE%20OF%20O.C.I.%20AND%20OTHERS%20v.%20ROMANIA.docx",
          "file:/C:/Users/mnavas/CASE%20OF%20PAKHTUSOV%20v.%20RUSSIA.docx",
          "file:/C:/Users/mnavas/CASE%20OF%20PANYUSHKINY%20v.%20RUSSIA.docx",
          "file:/C:/Users/mnavas/CASE%20OF%20RESIN%20v.%20RUSSIA.docx",
          "file:/C:/Users/mnavas/CASE%20OF%20S.N.%20v.%20RUSSIA.docx",
          "file:/C:/Users/mnavas/CASE%20OF%20S.V.%20v.%20ITALY.docx",
          "file:/C:/Users/mnavas/CASE%20OF%20SHVIDKIYE%20v.%20RUSSIA.docx",
          "file:/C:/Users/mnavas/CASE%20OF%20SIDOROVA%20v.%20RUSSIA.docx",
          "file:/C:/Users/mnavas/CASE%20OF%20SOLCAN%20v.%20ROMANIA.docx",
          "file:/C:/Users/mnavas/CASE%20OF%20STANA%20v.%20ROMANIA.docx",
          "file:/C:/Users/mnavas/CASE%20OF%20VISY%20v.%20SLOVAKIA.docx",
          "file:/C:/Users/mnavas/CASE%20OF%20YAKUSHEV%20v.%20UKRAINE.docx",
          "file:/C:/Users/mnavas/CASE%20OF%20YERMAKOVICH%20v.%20RUSSIA.docx",
          "file:/C:/Users/mnavas/CASE%20OF%20YEVGENIY%20ZAKHAROV%20v.%20RUSSIA.docx",
          "file:/C:/Users/mnavas/CASE%20OF%20_NODI%20v.%20HUNGARY.docx",
          "file:/C:/Users/mnavas/Desktop/CASE%20OF%20OTGON%20v.%20THE%20REPUBLIC%20OF%20MOLDOVA.docx"
         ],
         "yaxis": "y",
         "z": {
          "bdata": "AQEBAQEBAQEBAQEBAQEBAQEBAQEBAQEBAAEBAQEBAQEBAQEBAQEBAQEBAQEBAQEBAQEBAQEBAQEBAQEBAQEBAQAAAQEBAQEBAAEBAQEBAQEBAQEBAQEBAQEBAQEBAQEBAQEBAQEBAQEBAQEBAQEBAQEBAQEBAQEBAQEBAQEBAQEBAQEBAQEBAQEBAQEBAQEBAQEBAQEBAQEBAQEBAQEBAQEBAQEBAQEBAQEBAQEBAQEBAQEBAQEBAQEBAQEBAQEBAQEBAQEBAQEBAQEBAQEBAQEBAQEBAQEBAQEBAQEBAQEBAQEBAQEBAQEBAQEBAQEB",
          "dtype": "i1",
          "shape": "30, 8"
         }
        }
       ],
       "layout": {
        "coloraxis": {
         "colorbar": {
          "title": {
           "text": "Fits"
          }
         },
         "colorscale": [
          [
           0,
           "red"
          ],
          [
           1,
           "green"
          ]
         ]
        },
        "height": 900,
        "template": {
         "data": {
          "bar": [
           {
            "error_x": {
             "color": "#2a3f5f"
            },
            "error_y": {
             "color": "#2a3f5f"
            },
            "marker": {
             "line": {
              "color": "#E5ECF6",
              "width": 0.5
             },
             "pattern": {
              "fillmode": "overlay",
              "size": 10,
              "solidity": 0.2
             }
            },
            "type": "bar"
           }
          ],
          "barpolar": [
           {
            "marker": {
             "line": {
              "color": "#E5ECF6",
              "width": 0.5
             },
             "pattern": {
              "fillmode": "overlay",
              "size": 10,
              "solidity": 0.2
             }
            },
            "type": "barpolar"
           }
          ],
          "carpet": [
           {
            "aaxis": {
             "endlinecolor": "#2a3f5f",
             "gridcolor": "white",
             "linecolor": "white",
             "minorgridcolor": "white",
             "startlinecolor": "#2a3f5f"
            },
            "baxis": {
             "endlinecolor": "#2a3f5f",
             "gridcolor": "white",
             "linecolor": "white",
             "minorgridcolor": "white",
             "startlinecolor": "#2a3f5f"
            },
            "type": "carpet"
           }
          ],
          "choropleth": [
           {
            "colorbar": {
             "outlinewidth": 0,
             "ticks": ""
            },
            "type": "choropleth"
           }
          ],
          "contour": [
           {
            "colorbar": {
             "outlinewidth": 0,
             "ticks": ""
            },
            "colorscale": [
             [
              0,
              "#0d0887"
             ],
             [
              0.1111111111111111,
              "#46039f"
             ],
             [
              0.2222222222222222,
              "#7201a8"
             ],
             [
              0.3333333333333333,
              "#9c179e"
             ],
             [
              0.4444444444444444,
              "#bd3786"
             ],
             [
              0.5555555555555556,
              "#d8576b"
             ],
             [
              0.6666666666666666,
              "#ed7953"
             ],
             [
              0.7777777777777778,
              "#fb9f3a"
             ],
             [
              0.8888888888888888,
              "#fdca26"
             ],
             [
              1,
              "#f0f921"
             ]
            ],
            "type": "contour"
           }
          ],
          "contourcarpet": [
           {
            "colorbar": {
             "outlinewidth": 0,
             "ticks": ""
            },
            "type": "contourcarpet"
           }
          ],
          "heatmap": [
           {
            "colorbar": {
             "outlinewidth": 0,
             "ticks": ""
            },
            "colorscale": [
             [
              0,
              "#0d0887"
             ],
             [
              0.1111111111111111,
              "#46039f"
             ],
             [
              0.2222222222222222,
              "#7201a8"
             ],
             [
              0.3333333333333333,
              "#9c179e"
             ],
             [
              0.4444444444444444,
              "#bd3786"
             ],
             [
              0.5555555555555556,
              "#d8576b"
             ],
             [
              0.6666666666666666,
              "#ed7953"
             ],
             [
              0.7777777777777778,
              "#fb9f3a"
             ],
             [
              0.8888888888888888,
              "#fdca26"
             ],
             [
              1,
              "#f0f921"
             ]
            ],
            "type": "heatmap"
           }
          ],
          "histogram": [
           {
            "marker": {
             "pattern": {
              "fillmode": "overlay",
              "size": 10,
              "solidity": 0.2
             }
            },
            "type": "histogram"
           }
          ],
          "histogram2d": [
           {
            "colorbar": {
             "outlinewidth": 0,
             "ticks": ""
            },
            "colorscale": [
             [
              0,
              "#0d0887"
             ],
             [
              0.1111111111111111,
              "#46039f"
             ],
             [
              0.2222222222222222,
              "#7201a8"
             ],
             [
              0.3333333333333333,
              "#9c179e"
             ],
             [
              0.4444444444444444,
              "#bd3786"
             ],
             [
              0.5555555555555556,
              "#d8576b"
             ],
             [
              0.6666666666666666,
              "#ed7953"
             ],
             [
              0.7777777777777778,
              "#fb9f3a"
             ],
             [
              0.8888888888888888,
              "#fdca26"
             ],
             [
              1,
              "#f0f921"
             ]
            ],
            "type": "histogram2d"
           }
          ],
          "histogram2dcontour": [
           {
            "colorbar": {
             "outlinewidth": 0,
             "ticks": ""
            },
            "colorscale": [
             [
              0,
              "#0d0887"
             ],
             [
              0.1111111111111111,
              "#46039f"
             ],
             [
              0.2222222222222222,
              "#7201a8"
             ],
             [
              0.3333333333333333,
              "#9c179e"
             ],
             [
              0.4444444444444444,
              "#bd3786"
             ],
             [
              0.5555555555555556,
              "#d8576b"
             ],
             [
              0.6666666666666666,
              "#ed7953"
             ],
             [
              0.7777777777777778,
              "#fb9f3a"
             ],
             [
              0.8888888888888888,
              "#fdca26"
             ],
             [
              1,
              "#f0f921"
             ]
            ],
            "type": "histogram2dcontour"
           }
          ],
          "mesh3d": [
           {
            "colorbar": {
             "outlinewidth": 0,
             "ticks": ""
            },
            "type": "mesh3d"
           }
          ],
          "parcoords": [
           {
            "line": {
             "colorbar": {
              "outlinewidth": 0,
              "ticks": ""
             }
            },
            "type": "parcoords"
           }
          ],
          "pie": [
           {
            "automargin": true,
            "type": "pie"
           }
          ],
          "scatter": [
           {
            "fillpattern": {
             "fillmode": "overlay",
             "size": 10,
             "solidity": 0.2
            },
            "type": "scatter"
           }
          ],
          "scatter3d": [
           {
            "line": {
             "colorbar": {
              "outlinewidth": 0,
              "ticks": ""
             }
            },
            "marker": {
             "colorbar": {
              "outlinewidth": 0,
              "ticks": ""
             }
            },
            "type": "scatter3d"
           }
          ],
          "scattercarpet": [
           {
            "marker": {
             "colorbar": {
              "outlinewidth": 0,
              "ticks": ""
             }
            },
            "type": "scattercarpet"
           }
          ],
          "scattergeo": [
           {
            "marker": {
             "colorbar": {
              "outlinewidth": 0,
              "ticks": ""
             }
            },
            "type": "scattergeo"
           }
          ],
          "scattergl": [
           {
            "marker": {
             "colorbar": {
              "outlinewidth": 0,
              "ticks": ""
             }
            },
            "type": "scattergl"
           }
          ],
          "scattermap": [
           {
            "marker": {
             "colorbar": {
              "outlinewidth": 0,
              "ticks": ""
             }
            },
            "type": "scattermap"
           }
          ],
          "scattermapbox": [
           {
            "marker": {
             "colorbar": {
              "outlinewidth": 0,
              "ticks": ""
             }
            },
            "type": "scattermapbox"
           }
          ],
          "scatterpolar": [
           {
            "marker": {
             "colorbar": {
              "outlinewidth": 0,
              "ticks": ""
             }
            },
            "type": "scatterpolar"
           }
          ],
          "scatterpolargl": [
           {
            "marker": {
             "colorbar": {
              "outlinewidth": 0,
              "ticks": ""
             }
            },
            "type": "scatterpolargl"
           }
          ],
          "scatterternary": [
           {
            "marker": {
             "colorbar": {
              "outlinewidth": 0,
              "ticks": ""
             }
            },
            "type": "scatterternary"
           }
          ],
          "surface": [
           {
            "colorbar": {
             "outlinewidth": 0,
             "ticks": ""
            },
            "colorscale": [
             [
              0,
              "#0d0887"
             ],
             [
              0.1111111111111111,
              "#46039f"
             ],
             [
              0.2222222222222222,
              "#7201a8"
             ],
             [
              0.3333333333333333,
              "#9c179e"
             ],
             [
              0.4444444444444444,
              "#bd3786"
             ],
             [
              0.5555555555555556,
              "#d8576b"
             ],
             [
              0.6666666666666666,
              "#ed7953"
             ],
             [
              0.7777777777777778,
              "#fb9f3a"
             ],
             [
              0.8888888888888888,
              "#fdca26"
             ],
             [
              1,
              "#f0f921"
             ]
            ],
            "type": "surface"
           }
          ],
          "table": [
           {
            "cells": {
             "fill": {
              "color": "#EBF0F8"
             },
             "line": {
              "color": "white"
             }
            },
            "header": {
             "fill": {
              "color": "#C8D4E3"
             },
             "line": {
              "color": "white"
             }
            },
            "type": "table"
           }
          ]
         },
         "layout": {
          "annotationdefaults": {
           "arrowcolor": "#2a3f5f",
           "arrowhead": 0,
           "arrowwidth": 1
          },
          "autotypenumbers": "strict",
          "coloraxis": {
           "colorbar": {
            "outlinewidth": 0,
            "ticks": ""
           }
          },
          "colorscale": {
           "diverging": [
            [
             0,
             "#8e0152"
            ],
            [
             0.1,
             "#c51b7d"
            ],
            [
             0.2,
             "#de77ae"
            ],
            [
             0.3,
             "#f1b6da"
            ],
            [
             0.4,
             "#fde0ef"
            ],
            [
             0.5,
             "#f7f7f7"
            ],
            [
             0.6,
             "#e6f5d0"
            ],
            [
             0.7,
             "#b8e186"
            ],
            [
             0.8,
             "#7fbc41"
            ],
            [
             0.9,
             "#4d9221"
            ],
            [
             1,
             "#276419"
            ]
           ],
           "sequential": [
            [
             0,
             "#0d0887"
            ],
            [
             0.1111111111111111,
             "#46039f"
            ],
            [
             0.2222222222222222,
             "#7201a8"
            ],
            [
             0.3333333333333333,
             "#9c179e"
            ],
            [
             0.4444444444444444,
             "#bd3786"
            ],
            [
             0.5555555555555556,
             "#d8576b"
            ],
            [
             0.6666666666666666,
             "#ed7953"
            ],
            [
             0.7777777777777778,
             "#fb9f3a"
            ],
            [
             0.8888888888888888,
             "#fdca26"
            ],
            [
             1,
             "#f0f921"
            ]
           ],
           "sequentialminus": [
            [
             0,
             "#0d0887"
            ],
            [
             0.1111111111111111,
             "#46039f"
            ],
            [
             0.2222222222222222,
             "#7201a8"
            ],
            [
             0.3333333333333333,
             "#9c179e"
            ],
            [
             0.4444444444444444,
             "#bd3786"
            ],
            [
             0.5555555555555556,
             "#d8576b"
            ],
            [
             0.6666666666666666,
             "#ed7953"
            ],
            [
             0.7777777777777778,
             "#fb9f3a"
            ],
            [
             0.8888888888888888,
             "#fdca26"
            ],
            [
             1,
             "#f0f921"
            ]
           ]
          },
          "colorway": [
           "#636efa",
           "#EF553B",
           "#00cc96",
           "#ab63fa",
           "#FFA15A",
           "#19d3f3",
           "#FF6692",
           "#B6E880",
           "#FF97FF",
           "#FECB52"
          ],
          "font": {
           "color": "#2a3f5f"
          },
          "geo": {
           "bgcolor": "white",
           "lakecolor": "white",
           "landcolor": "#E5ECF6",
           "showlakes": true,
           "showland": true,
           "subunitcolor": "white"
          },
          "hoverlabel": {
           "align": "left"
          },
          "hovermode": "closest",
          "mapbox": {
           "style": "light"
          },
          "paper_bgcolor": "white",
          "plot_bgcolor": "#E5ECF6",
          "polar": {
           "angularaxis": {
            "gridcolor": "white",
            "linecolor": "white",
            "ticks": ""
           },
           "bgcolor": "#E5ECF6",
           "radialaxis": {
            "gridcolor": "white",
            "linecolor": "white",
            "ticks": ""
           }
          },
          "scene": {
           "xaxis": {
            "backgroundcolor": "#E5ECF6",
            "gridcolor": "white",
            "gridwidth": 2,
            "linecolor": "white",
            "showbackground": true,
            "ticks": "",
            "zerolinecolor": "white"
           },
           "yaxis": {
            "backgroundcolor": "#E5ECF6",
            "gridcolor": "white",
            "gridwidth": 2,
            "linecolor": "white",
            "showbackground": true,
            "ticks": "",
            "zerolinecolor": "white"
           },
           "zaxis": {
            "backgroundcolor": "#E5ECF6",
            "gridcolor": "white",
            "gridwidth": 2,
            "linecolor": "white",
            "showbackground": true,
            "ticks": "",
            "zerolinecolor": "white"
           }
          },
          "shapedefaults": {
           "line": {
            "color": "#2a3f5f"
           }
          },
          "ternary": {
           "aaxis": {
            "gridcolor": "white",
            "linecolor": "white",
            "ticks": ""
           },
           "baxis": {
            "gridcolor": "white",
            "linecolor": "white",
            "ticks": ""
           },
           "bgcolor": "#E5ECF6",
           "caxis": {
            "gridcolor": "white",
            "linecolor": "white",
            "ticks": ""
           }
          },
          "title": {
           "x": 0.05
          },
          "xaxis": {
           "automargin": true,
           "gridcolor": "white",
           "linecolor": "white",
           "ticks": "",
           "title": {
            "standoff": 15
           },
           "zerolinecolor": "white",
           "zerolinewidth": 2
          },
          "yaxis": {
           "automargin": true,
           "gridcolor": "white",
           "linecolor": "white",
           "ticks": "",
           "title": {
            "standoff": 15
           },
           "zerolinecolor": "white",
           "zerolinewidth": 2
          }
         }
        },
        "title": {
         "text": "Document Compatibility with LLM Context Lengths"
        },
        "width": 1000,
        "xaxis": {
         "anchor": "y",
         "domain": [
          0,
          1
         ],
         "tickangle": -45,
         "ticktext": [
          "4,096\n(gpt-3.5-turbo)",
          "8,192\n(gpt-4)",
          "16,384\n(gpt-3.5-turbo-16k)",
          "32,768\n(gpt-4-32k)",
          "128,000\n(gpt-4-turbo)",
          "200,000\n(claude-3-haiku)",
          "1,000,000\n(gemini-1.5-flash)",
          "2,000,000\n(gemini-1.5-pro)"
         ],
         "tickvals": [
          0,
          1,
          2,
          3,
          4,
          5,
          6,
          7
         ],
         "title": {
          "text": "Context Length"
         }
        },
        "yaxis": {
         "anchor": "x",
         "autorange": "reversed",
         "domain": [
          0,
          1
         ],
         "title": {
          "text": "Document"
         }
        }
       }
      }
     },
     "metadata": {},
     "output_type": "display_data"
    },
    {
     "data": {
      "application/vnd.plotly.v1+json": {
       "config": {
        "plotlyServerURL": "https://plot.ly"
       },
       "data": [
        {
         "name": "Procedure",
         "type": "bar",
         "x": [
          "file:/C:/Users/mnavas/CASE%20OF%20ALTAY%20v.%20TURKEY%20(No.%202).docx",
          "file:/C:/Users/mnavas/CASE%20OF%20BELYAYEV%20AND%20OTHERS%20v.%20UKRAINE.docx",
          "file:/C:/Users/mnavas/CASE%20OF%20BIGUN%20v.%20UKRAINE.docx",
          "file:/C:/Users/mnavas/CASE%20OF%20CABUCAK%20v.%20GERMANY.docx",
          "file:/C:/Users/mnavas/CASE%20OF%20CAN%20v.%20TURKEY.docx",
          "file:/C:/Users/mnavas/CASE%20OF%20CRISTIAN%20CATALIN%20UNGUREANU%20v.%20ROMANIA.docx",
          "file:/C:/Users/mnavas/CASE%20OF%20DOKTOROV%20v.%20BULGARIA.docx",
          "file:/C:/Users/mnavas/CASE%20OF%20EGILL%20EINARSSON%20v.%20ICELAND%20(No.%202).docx",
          "file:/C:/Users/mnavas/CASE%20OF%20H_INESS%20v.%20NORWAY%20(1).docx",
          "file:/C:/Users/mnavas/CASE%20OF%20KOSAITE%20-%20CYPIENE%20AND%20OTHERS%20v.%20LITHUANIA.docx",
          "file:/C:/Users/mnavas/CASE%20OF%20LOZOVYYE%20v.%20RUSSIA.docx",
          "file:/C:/Users/mnavas/CASE%20OF%20M.T.%20v.%20UKRAINE.docx",
          "file:/C:/Users/mnavas/CASE%20OF%20MOSKALEV%20v.%20RUSSIA.docx",
          "file:/C:/Users/mnavas/CASE%20OF%20MURUZHEVA%20v.%20RUSSIA.docx",
          "file:/C:/Users/mnavas/CASE%20OF%20_NODI%20v.%20HUNGARY.docx",
          "file:/C:/Users/mnavas/CASE%20OF%20O.C.I.%20AND%20OTHERS%20v.%20ROMANIA.docx",
          "file:/C:/Users/mnavas/Desktop/CASE%20OF%20OTGON%20v.%20THE%20REPUBLIC%20OF%20MOLDOVA.docx",
          "file:/C:/Users/mnavas/CASE%20OF%20PAKHTUSOV%20v.%20RUSSIA.docx",
          "file:/C:/Users/mnavas/CASE%20OF%20PANYUSHKINY%20v.%20RUSSIA.docx",
          "file:/C:/Users/mnavas/CASE%20OF%20RESIN%20v.%20RUSSIA.docx",
          "file:/C:/Users/mnavas/CASE%20OF%20S.N.%20v.%20RUSSIA.docx",
          "file:/C:/Users/mnavas/CASE%20OF%20S.V.%20v.%20ITALY.docx",
          "file:/C:/Users/mnavas/CASE%20OF%20SHVIDKIYE%20v.%20RUSSIA.docx",
          "file:/C:/Users/mnavas/CASE%20OF%20SIDOROVA%20v.%20RUSSIA.docx",
          "file:/C:/Users/mnavas/CASE%20OF%20SOLCAN%20v.%20ROMANIA.docx",
          "file:/C:/Users/mnavas/CASE%20OF%20STANA%20v.%20ROMANIA.docx",
          "file:/C:/Users/mnavas/CASE%20OF%20VISY%20v.%20SLOVAKIA.docx",
          "file:/C:/Users/mnavas/CASE%20OF%20YAKUSHEV%20v.%20UKRAINE.docx",
          "file:/C:/Users/mnavas/CASE%20OF%20YERMAKOVICH%20v.%20RUSSIA.docx",
          "file:/C:/Users/mnavas/CASE%20OF%20YEVGENIY%20ZAKHAROV%20v.%20RUSSIA.docx"
         ],
         "y": [
          219,
          391,
          178,
          239,
          180,
          186,
          206,
          197,
          232,
          293,
          197,
          210,
          177,
          219,
          201,
          286,
          150,
          192,
          247,
          210,
          347,
          235,
          253,
          206,
          233,
          173,
          277,
          195,
          297,
          217
         ]
        },
        {
         "name": "Circumstances",
         "type": "bar",
         "x": [
          "file:/C:/Users/mnavas/CASE%20OF%20ALTAY%20v.%20TURKEY%20(No.%202).docx",
          "file:/C:/Users/mnavas/CASE%20OF%20BELYAYEV%20AND%20OTHERS%20v.%20UKRAINE.docx",
          "file:/C:/Users/mnavas/CASE%20OF%20BIGUN%20v.%20UKRAINE.docx",
          "file:/C:/Users/mnavas/CASE%20OF%20CABUCAK%20v.%20GERMANY.docx",
          "file:/C:/Users/mnavas/CASE%20OF%20CAN%20v.%20TURKEY.docx",
          "file:/C:/Users/mnavas/CASE%20OF%20CRISTIAN%20CATALIN%20UNGUREANU%20v.%20ROMANIA.docx",
          "file:/C:/Users/mnavas/CASE%20OF%20DOKTOROV%20v.%20BULGARIA.docx",
          "file:/C:/Users/mnavas/CASE%20OF%20EGILL%20EINARSSON%20v.%20ICELAND%20(No.%202).docx",
          "file:/C:/Users/mnavas/CASE%20OF%20H_INESS%20v.%20NORWAY%20(1).docx",
          "file:/C:/Users/mnavas/CASE%20OF%20KOSAITE%20-%20CYPIENE%20AND%20OTHERS%20v.%20LITHUANIA.docx",
          "file:/C:/Users/mnavas/CASE%20OF%20LOZOVYYE%20v.%20RUSSIA.docx",
          "file:/C:/Users/mnavas/CASE%20OF%20M.T.%20v.%20UKRAINE.docx",
          "file:/C:/Users/mnavas/CASE%20OF%20MOSKALEV%20v.%20RUSSIA.docx",
          "file:/C:/Users/mnavas/CASE%20OF%20MURUZHEVA%20v.%20RUSSIA.docx",
          "file:/C:/Users/mnavas/CASE%20OF%20_NODI%20v.%20HUNGARY.docx",
          "file:/C:/Users/mnavas/CASE%20OF%20O.C.I.%20AND%20OTHERS%20v.%20ROMANIA.docx",
          "file:/C:/Users/mnavas/Desktop/CASE%20OF%20OTGON%20v.%20THE%20REPUBLIC%20OF%20MOLDOVA.docx",
          "file:/C:/Users/mnavas/CASE%20OF%20PAKHTUSOV%20v.%20RUSSIA.docx",
          "file:/C:/Users/mnavas/CASE%20OF%20PANYUSHKINY%20v.%20RUSSIA.docx",
          "file:/C:/Users/mnavas/CASE%20OF%20RESIN%20v.%20RUSSIA.docx",
          "file:/C:/Users/mnavas/CASE%20OF%20S.N.%20v.%20RUSSIA.docx",
          "file:/C:/Users/mnavas/CASE%20OF%20S.V.%20v.%20ITALY.docx",
          "file:/C:/Users/mnavas/CASE%20OF%20SHVIDKIYE%20v.%20RUSSIA.docx",
          "file:/C:/Users/mnavas/CASE%20OF%20SIDOROVA%20v.%20RUSSIA.docx",
          "file:/C:/Users/mnavas/CASE%20OF%20SOLCAN%20v.%20ROMANIA.docx",
          "file:/C:/Users/mnavas/CASE%20OF%20STANA%20v.%20ROMANIA.docx",
          "file:/C:/Users/mnavas/CASE%20OF%20VISY%20v.%20SLOVAKIA.docx",
          "file:/C:/Users/mnavas/CASE%20OF%20YAKUSHEV%20v.%20UKRAINE.docx",
          "file:/C:/Users/mnavas/CASE%20OF%20YERMAKOVICH%20v.%20RUSSIA.docx",
          "file:/C:/Users/mnavas/CASE%20OF%20YEVGENIY%20ZAKHAROV%20v.%20RUSSIA.docx"
         ],
         "y": [
          1694,
          1091,
          1850,
          3399,
          665,
          1252,
          675,
          2531,
          7314,
          4186,
          1770,
          982,
          967,
          2068,
          1809,
          1834,
          532,
          1116,
          1926,
          1361,
          2115,
          2345,
          1422,
          973,
          1103,
          372,
          2133,
          687,
          1922,
          2098
         ]
        },
        {
         "name": "Decision",
         "type": "bar",
         "x": [
          "file:/C:/Users/mnavas/CASE%20OF%20ALTAY%20v.%20TURKEY%20(No.%202).docx",
          "file:/C:/Users/mnavas/CASE%20OF%20BELYAYEV%20AND%20OTHERS%20v.%20UKRAINE.docx",
          "file:/C:/Users/mnavas/CASE%20OF%20BIGUN%20v.%20UKRAINE.docx",
          "file:/C:/Users/mnavas/CASE%20OF%20CABUCAK%20v.%20GERMANY.docx",
          "file:/C:/Users/mnavas/CASE%20OF%20CAN%20v.%20TURKEY.docx",
          "file:/C:/Users/mnavas/CASE%20OF%20CRISTIAN%20CATALIN%20UNGUREANU%20v.%20ROMANIA.docx",
          "file:/C:/Users/mnavas/CASE%20OF%20DOKTOROV%20v.%20BULGARIA.docx",
          "file:/C:/Users/mnavas/CASE%20OF%20EGILL%20EINARSSON%20v.%20ICELAND%20(No.%202).docx",
          "file:/C:/Users/mnavas/CASE%20OF%20H_INESS%20v.%20NORWAY%20(1).docx",
          "file:/C:/Users/mnavas/CASE%20OF%20KOSAITE%20-%20CYPIENE%20AND%20OTHERS%20v.%20LITHUANIA.docx",
          "file:/C:/Users/mnavas/CASE%20OF%20LOZOVYYE%20v.%20RUSSIA.docx",
          "file:/C:/Users/mnavas/CASE%20OF%20M.T.%20v.%20UKRAINE.docx",
          "file:/C:/Users/mnavas/CASE%20OF%20MOSKALEV%20v.%20RUSSIA.docx",
          "file:/C:/Users/mnavas/CASE%20OF%20MURUZHEVA%20v.%20RUSSIA.docx",
          "file:/C:/Users/mnavas/CASE%20OF%20_NODI%20v.%20HUNGARY.docx",
          "file:/C:/Users/mnavas/CASE%20OF%20O.C.I.%20AND%20OTHERS%20v.%20ROMANIA.docx",
          "file:/C:/Users/mnavas/Desktop/CASE%20OF%20OTGON%20v.%20THE%20REPUBLIC%20OF%20MOLDOVA.docx",
          "file:/C:/Users/mnavas/CASE%20OF%20PAKHTUSOV%20v.%20RUSSIA.docx",
          "file:/C:/Users/mnavas/CASE%20OF%20PANYUSHKINY%20v.%20RUSSIA.docx",
          "file:/C:/Users/mnavas/CASE%20OF%20RESIN%20v.%20RUSSIA.docx",
          "file:/C:/Users/mnavas/CASE%20OF%20S.N.%20v.%20RUSSIA.docx",
          "file:/C:/Users/mnavas/CASE%20OF%20S.V.%20v.%20ITALY.docx",
          "file:/C:/Users/mnavas/CASE%20OF%20SHVIDKIYE%20v.%20RUSSIA.docx",
          "file:/C:/Users/mnavas/CASE%20OF%20SIDOROVA%20v.%20RUSSIA.docx",
          "file:/C:/Users/mnavas/CASE%20OF%20SOLCAN%20v.%20ROMANIA.docx",
          "file:/C:/Users/mnavas/CASE%20OF%20STANA%20v.%20ROMANIA.docx",
          "file:/C:/Users/mnavas/CASE%20OF%20VISY%20v.%20SLOVAKIA.docx",
          "file:/C:/Users/mnavas/CASE%20OF%20YAKUSHEV%20v.%20UKRAINE.docx",
          "file:/C:/Users/mnavas/CASE%20OF%20YERMAKOVICH%20v.%20RUSSIA.docx",
          "file:/C:/Users/mnavas/CASE%20OF%20YEVGENIY%20ZAKHAROV%20v.%20RUSSIA.docx"
         ],
         "y": [
          296,
          321,
          327,
          78,
          230,
          334,
          115,
          78,
          78,
          78,
          322,
          286,
          303,
          299,
          279,
          293,
          232,
          299,
          261,
          312,
          283,
          270,
          312,
          243,
          210,
          244,
          239,
          260,
          343,
          220
         ]
        }
       ],
       "layout": {
        "annotations": [
         {
          "showarrow": false,
          "text": "4K models limit",
          "x": 1,
          "xanchor": "right",
          "xref": "x domain",
          "y": 3096,
          "yanchor": "bottom",
          "yref": "y"
         },
         {
          "showarrow": false,
          "text": "8K models limit",
          "x": 1,
          "xanchor": "right",
          "xref": "x domain",
          "y": 7192,
          "yanchor": "bottom",
          "yref": "y"
         },
         {
          "showarrow": false,
          "text": "128K models limit",
          "x": 1,
          "xanchor": "right",
          "xref": "x domain",
          "y": 127000,
          "yanchor": "bottom",
          "yref": "y"
         }
        ],
        "barmode": "stack",
        "height": 600,
        "shapes": [
         {
          "line": {
           "color": "red",
           "dash": "dash"
          },
          "type": "line",
          "x0": 0,
          "x1": 1,
          "xref": "x domain",
          "y0": 3096,
          "y1": 3096,
          "yref": "y"
         },
         {
          "line": {
           "color": "red",
           "dash": "dash"
          },
          "type": "line",
          "x0": 0,
          "x1": 1,
          "xref": "x domain",
          "y0": 7192,
          "y1": 7192,
          "yref": "y"
         },
         {
          "line": {
           "color": "green",
           "dash": "dash"
          },
          "type": "line",
          "x0": 0,
          "x1": 1,
          "xref": "x domain",
          "y0": 127000,
          "y1": 127000,
          "yref": "y"
         }
        ],
        "template": {
         "data": {
          "bar": [
           {
            "error_x": {
             "color": "#2a3f5f"
            },
            "error_y": {
             "color": "#2a3f5f"
            },
            "marker": {
             "line": {
              "color": "#E5ECF6",
              "width": 0.5
             },
             "pattern": {
              "fillmode": "overlay",
              "size": 10,
              "solidity": 0.2
             }
            },
            "type": "bar"
           }
          ],
          "barpolar": [
           {
            "marker": {
             "line": {
              "color": "#E5ECF6",
              "width": 0.5
             },
             "pattern": {
              "fillmode": "overlay",
              "size": 10,
              "solidity": 0.2
             }
            },
            "type": "barpolar"
           }
          ],
          "carpet": [
           {
            "aaxis": {
             "endlinecolor": "#2a3f5f",
             "gridcolor": "white",
             "linecolor": "white",
             "minorgridcolor": "white",
             "startlinecolor": "#2a3f5f"
            },
            "baxis": {
             "endlinecolor": "#2a3f5f",
             "gridcolor": "white",
             "linecolor": "white",
             "minorgridcolor": "white",
             "startlinecolor": "#2a3f5f"
            },
            "type": "carpet"
           }
          ],
          "choropleth": [
           {
            "colorbar": {
             "outlinewidth": 0,
             "ticks": ""
            },
            "type": "choropleth"
           }
          ],
          "contour": [
           {
            "colorbar": {
             "outlinewidth": 0,
             "ticks": ""
            },
            "colorscale": [
             [
              0,
              "#0d0887"
             ],
             [
              0.1111111111111111,
              "#46039f"
             ],
             [
              0.2222222222222222,
              "#7201a8"
             ],
             [
              0.3333333333333333,
              "#9c179e"
             ],
             [
              0.4444444444444444,
              "#bd3786"
             ],
             [
              0.5555555555555556,
              "#d8576b"
             ],
             [
              0.6666666666666666,
              "#ed7953"
             ],
             [
              0.7777777777777778,
              "#fb9f3a"
             ],
             [
              0.8888888888888888,
              "#fdca26"
             ],
             [
              1,
              "#f0f921"
             ]
            ],
            "type": "contour"
           }
          ],
          "contourcarpet": [
           {
            "colorbar": {
             "outlinewidth": 0,
             "ticks": ""
            },
            "type": "contourcarpet"
           }
          ],
          "heatmap": [
           {
            "colorbar": {
             "outlinewidth": 0,
             "ticks": ""
            },
            "colorscale": [
             [
              0,
              "#0d0887"
             ],
             [
              0.1111111111111111,
              "#46039f"
             ],
             [
              0.2222222222222222,
              "#7201a8"
             ],
             [
              0.3333333333333333,
              "#9c179e"
             ],
             [
              0.4444444444444444,
              "#bd3786"
             ],
             [
              0.5555555555555556,
              "#d8576b"
             ],
             [
              0.6666666666666666,
              "#ed7953"
             ],
             [
              0.7777777777777778,
              "#fb9f3a"
             ],
             [
              0.8888888888888888,
              "#fdca26"
             ],
             [
              1,
              "#f0f921"
             ]
            ],
            "type": "heatmap"
           }
          ],
          "histogram": [
           {
            "marker": {
             "pattern": {
              "fillmode": "overlay",
              "size": 10,
              "solidity": 0.2
             }
            },
            "type": "histogram"
           }
          ],
          "histogram2d": [
           {
            "colorbar": {
             "outlinewidth": 0,
             "ticks": ""
            },
            "colorscale": [
             [
              0,
              "#0d0887"
             ],
             [
              0.1111111111111111,
              "#46039f"
             ],
             [
              0.2222222222222222,
              "#7201a8"
             ],
             [
              0.3333333333333333,
              "#9c179e"
             ],
             [
              0.4444444444444444,
              "#bd3786"
             ],
             [
              0.5555555555555556,
              "#d8576b"
             ],
             [
              0.6666666666666666,
              "#ed7953"
             ],
             [
              0.7777777777777778,
              "#fb9f3a"
             ],
             [
              0.8888888888888888,
              "#fdca26"
             ],
             [
              1,
              "#f0f921"
             ]
            ],
            "type": "histogram2d"
           }
          ],
          "histogram2dcontour": [
           {
            "colorbar": {
             "outlinewidth": 0,
             "ticks": ""
            },
            "colorscale": [
             [
              0,
              "#0d0887"
             ],
             [
              0.1111111111111111,
              "#46039f"
             ],
             [
              0.2222222222222222,
              "#7201a8"
             ],
             [
              0.3333333333333333,
              "#9c179e"
             ],
             [
              0.4444444444444444,
              "#bd3786"
             ],
             [
              0.5555555555555556,
              "#d8576b"
             ],
             [
              0.6666666666666666,
              "#ed7953"
             ],
             [
              0.7777777777777778,
              "#fb9f3a"
             ],
             [
              0.8888888888888888,
              "#fdca26"
             ],
             [
              1,
              "#f0f921"
             ]
            ],
            "type": "histogram2dcontour"
           }
          ],
          "mesh3d": [
           {
            "colorbar": {
             "outlinewidth": 0,
             "ticks": ""
            },
            "type": "mesh3d"
           }
          ],
          "parcoords": [
           {
            "line": {
             "colorbar": {
              "outlinewidth": 0,
              "ticks": ""
             }
            },
            "type": "parcoords"
           }
          ],
          "pie": [
           {
            "automargin": true,
            "type": "pie"
           }
          ],
          "scatter": [
           {
            "fillpattern": {
             "fillmode": "overlay",
             "size": 10,
             "solidity": 0.2
            },
            "type": "scatter"
           }
          ],
          "scatter3d": [
           {
            "line": {
             "colorbar": {
              "outlinewidth": 0,
              "ticks": ""
             }
            },
            "marker": {
             "colorbar": {
              "outlinewidth": 0,
              "ticks": ""
             }
            },
            "type": "scatter3d"
           }
          ],
          "scattercarpet": [
           {
            "marker": {
             "colorbar": {
              "outlinewidth": 0,
              "ticks": ""
             }
            },
            "type": "scattercarpet"
           }
          ],
          "scattergeo": [
           {
            "marker": {
             "colorbar": {
              "outlinewidth": 0,
              "ticks": ""
             }
            },
            "type": "scattergeo"
           }
          ],
          "scattergl": [
           {
            "marker": {
             "colorbar": {
              "outlinewidth": 0,
              "ticks": ""
             }
            },
            "type": "scattergl"
           }
          ],
          "scattermap": [
           {
            "marker": {
             "colorbar": {
              "outlinewidth": 0,
              "ticks": ""
             }
            },
            "type": "scattermap"
           }
          ],
          "scattermapbox": [
           {
            "marker": {
             "colorbar": {
              "outlinewidth": 0,
              "ticks": ""
             }
            },
            "type": "scattermapbox"
           }
          ],
          "scatterpolar": [
           {
            "marker": {
             "colorbar": {
              "outlinewidth": 0,
              "ticks": ""
             }
            },
            "type": "scatterpolar"
           }
          ],
          "scatterpolargl": [
           {
            "marker": {
             "colorbar": {
              "outlinewidth": 0,
              "ticks": ""
             }
            },
            "type": "scatterpolargl"
           }
          ],
          "scatterternary": [
           {
            "marker": {
             "colorbar": {
              "outlinewidth": 0,
              "ticks": ""
             }
            },
            "type": "scatterternary"
           }
          ],
          "surface": [
           {
            "colorbar": {
             "outlinewidth": 0,
             "ticks": ""
            },
            "colorscale": [
             [
              0,
              "#0d0887"
             ],
             [
              0.1111111111111111,
              "#46039f"
             ],
             [
              0.2222222222222222,
              "#7201a8"
             ],
             [
              0.3333333333333333,
              "#9c179e"
             ],
             [
              0.4444444444444444,
              "#bd3786"
             ],
             [
              0.5555555555555556,
              "#d8576b"
             ],
             [
              0.6666666666666666,
              "#ed7953"
             ],
             [
              0.7777777777777778,
              "#fb9f3a"
             ],
             [
              0.8888888888888888,
              "#fdca26"
             ],
             [
              1,
              "#f0f921"
             ]
            ],
            "type": "surface"
           }
          ],
          "table": [
           {
            "cells": {
             "fill": {
              "color": "#EBF0F8"
             },
             "line": {
              "color": "white"
             }
            },
            "header": {
             "fill": {
              "color": "#C8D4E3"
             },
             "line": {
              "color": "white"
             }
            },
            "type": "table"
           }
          ]
         },
         "layout": {
          "annotationdefaults": {
           "arrowcolor": "#2a3f5f",
           "arrowhead": 0,
           "arrowwidth": 1
          },
          "autotypenumbers": "strict",
          "coloraxis": {
           "colorbar": {
            "outlinewidth": 0,
            "ticks": ""
           }
          },
          "colorscale": {
           "diverging": [
            [
             0,
             "#8e0152"
            ],
            [
             0.1,
             "#c51b7d"
            ],
            [
             0.2,
             "#de77ae"
            ],
            [
             0.3,
             "#f1b6da"
            ],
            [
             0.4,
             "#fde0ef"
            ],
            [
             0.5,
             "#f7f7f7"
            ],
            [
             0.6,
             "#e6f5d0"
            ],
            [
             0.7,
             "#b8e186"
            ],
            [
             0.8,
             "#7fbc41"
            ],
            [
             0.9,
             "#4d9221"
            ],
            [
             1,
             "#276419"
            ]
           ],
           "sequential": [
            [
             0,
             "#0d0887"
            ],
            [
             0.1111111111111111,
             "#46039f"
            ],
            [
             0.2222222222222222,
             "#7201a8"
            ],
            [
             0.3333333333333333,
             "#9c179e"
            ],
            [
             0.4444444444444444,
             "#bd3786"
            ],
            [
             0.5555555555555556,
             "#d8576b"
            ],
            [
             0.6666666666666666,
             "#ed7953"
            ],
            [
             0.7777777777777778,
             "#fb9f3a"
            ],
            [
             0.8888888888888888,
             "#fdca26"
            ],
            [
             1,
             "#f0f921"
            ]
           ],
           "sequentialminus": [
            [
             0,
             "#0d0887"
            ],
            [
             0.1111111111111111,
             "#46039f"
            ],
            [
             0.2222222222222222,
             "#7201a8"
            ],
            [
             0.3333333333333333,
             "#9c179e"
            ],
            [
             0.4444444444444444,
             "#bd3786"
            ],
            [
             0.5555555555555556,
             "#d8576b"
            ],
            [
             0.6666666666666666,
             "#ed7953"
            ],
            [
             0.7777777777777778,
             "#fb9f3a"
            ],
            [
             0.8888888888888888,
             "#fdca26"
            ],
            [
             1,
             "#f0f921"
            ]
           ]
          },
          "colorway": [
           "#636efa",
           "#EF553B",
           "#00cc96",
           "#ab63fa",
           "#FFA15A",
           "#19d3f3",
           "#FF6692",
           "#B6E880",
           "#FF97FF",
           "#FECB52"
          ],
          "font": {
           "color": "#2a3f5f"
          },
          "geo": {
           "bgcolor": "white",
           "lakecolor": "white",
           "landcolor": "#E5ECF6",
           "showlakes": true,
           "showland": true,
           "subunitcolor": "white"
          },
          "hoverlabel": {
           "align": "left"
          },
          "hovermode": "closest",
          "mapbox": {
           "style": "light"
          },
          "paper_bgcolor": "white",
          "plot_bgcolor": "#E5ECF6",
          "polar": {
           "angularaxis": {
            "gridcolor": "white",
            "linecolor": "white",
            "ticks": ""
           },
           "bgcolor": "#E5ECF6",
           "radialaxis": {
            "gridcolor": "white",
            "linecolor": "white",
            "ticks": ""
           }
          },
          "scene": {
           "xaxis": {
            "backgroundcolor": "#E5ECF6",
            "gridcolor": "white",
            "gridwidth": 2,
            "linecolor": "white",
            "showbackground": true,
            "ticks": "",
            "zerolinecolor": "white"
           },
           "yaxis": {
            "backgroundcolor": "#E5ECF6",
            "gridcolor": "white",
            "gridwidth": 2,
            "linecolor": "white",
            "showbackground": true,
            "ticks": "",
            "zerolinecolor": "white"
           },
           "zaxis": {
            "backgroundcolor": "#E5ECF6",
            "gridcolor": "white",
            "gridwidth": 2,
            "linecolor": "white",
            "showbackground": true,
            "ticks": "",
            "zerolinecolor": "white"
           }
          },
          "shapedefaults": {
           "line": {
            "color": "#2a3f5f"
           }
          },
          "ternary": {
           "aaxis": {
            "gridcolor": "white",
            "linecolor": "white",
            "ticks": ""
           },
           "baxis": {
            "gridcolor": "white",
            "linecolor": "white",
            "ticks": ""
           },
           "bgcolor": "#E5ECF6",
           "caxis": {
            "gridcolor": "white",
            "linecolor": "white",
            "ticks": ""
           }
          },
          "title": {
           "x": 0.05
          },
          "xaxis": {
           "automargin": true,
           "gridcolor": "white",
           "linecolor": "white",
           "ticks": "",
           "title": {
            "standoff": 15
           },
           "zerolinecolor": "white",
           "zerolinewidth": 2
          },
          "yaxis": {
           "automargin": true,
           "gridcolor": "white",
           "linecolor": "white",
           "ticks": "",
           "title": {
            "standoff": 15
           },
           "zerolinecolor": "white",
           "zerolinewidth": 2
          }
         }
        },
        "title": {
         "text": "Token Distribution by Document with Context Length Limits"
        },
        "width": 1200,
        "xaxis": {
         "tickangle": -45,
         "title": {
          "text": "Document"
         }
        },
        "yaxis": {
         "title": {
          "text": "Number of Tokens"
         }
        }
       }
      }
     },
     "metadata": {},
     "output_type": "display_data"
    },
    {
     "name": "stdout",
     "output_type": "stream",
     "text": [
      "\n",
      "Summary Statistics:\n",
      "==================================================\n",
      "Total documents analyzed: 30\n",
      "Average total tokens per document: 2283\n",
      "Maximum total tokens: 7,624\n",
      "Minimum total tokens: 789\n",
      "\n",
      "Context Length Recommendations:\n",
      "==================================================\n",
      "4K models (4,096 tokens): 27/30 documents (90.0%) fit completely\n",
      "  Available models: gpt-3.5-turbo\n",
      "8K models (8,192 tokens): 29/30 documents (96.7%) fit completely\n",
      "  Available models: gpt-4, llama-3-8b, llama-3-70b\n",
      "128K models (128,000 tokens): 30/30 documents (100.0%) fit completely\n",
      "  Available models: gpt-4-turbo, gpt-4o, llama-3.1-8b, llama-3.1-70b, llama-3.1-405b\n",
      "200K models (200,000 tokens): 30/30 documents (100.0%) fit completely\n",
      "  Available models: claude-3-haiku, claude-3-sonnet, claude-3-opus, claude-3.5-sonnet\n"
     ]
    }
   ],
   "source": [
    "# Create visualization of context compatibility\n",
    "import plotly.express as px\n",
    "import plotly.graph_objects as go\n",
    "from plotly.subplots import make_subplots\n",
    "\n",
    "# Prepare data for heatmap\n",
    "pivot_data = compatibility_df.pivot(index='document', columns='context_length', values='fits_combined')\n",
    "\n",
    "# Create heatmap showing which documents fit in which context lengths\n",
    "fig = px.imshow(\n",
    "    pivot_data.astype(int),\n",
    "    labels=dict(x=\"Context Length\", y=\"Document\", color=\"Fits\"),\n",
    "    title=\"Document Compatibility with LLM Context Lengths\",\n",
    "    color_continuous_scale=[\"red\", \"green\"],\n",
    "    aspect=\"auto\"\n",
    ")\n",
    "\n",
    "# Update x-axis labels to show context lengths with model names\n",
    "x_labels = [f\"{length:,}\\n({CONTEXT_LENGTHS[length]})\" for length in sorted(CONTEXT_LENGTHS.keys())]\n",
    "fig.update_xaxes(tickvals=list(range(len(x_labels))), ticktext=x_labels)\n",
    "\n",
    "fig.update_layout(\n",
    "    height=max(400, len(pivot_data) * 30),\n",
    "    width=1000,\n",
    "    xaxis_tickangle=-45\n",
    ")\n",
    "\n",
    "fig.show()\n",
    "\n",
    "# Create bar chart showing token distribution\n",
    "fig2 = go.Figure()\n",
    "\n",
    "# Add bars for each section type (using one context length since tokens are same across all)\n",
    "documents = compatibility_df[compatibility_df['context_length'] == 8192]['document'].tolist()\n",
    "proc_tokens = compatibility_df[compatibility_df['context_length'] == 8192]['procedure_tokens'].tolist()\n",
    "circ_tokens = compatibility_df[compatibility_df['context_length'] == 8192]['circumstances_tokens'].tolist()\n",
    "dec_tokens = compatibility_df[compatibility_df['context_length'] == 8192]['decision_tokens'].tolist()\n",
    "\n",
    "fig2.add_trace(go.Bar(name='Procedure', x=documents, y=proc_tokens))\n",
    "fig2.add_trace(go.Bar(name='Circumstances', x=documents, y=circ_tokens))\n",
    "fig2.add_trace(go.Bar(name='Decision', x=documents, y=dec_tokens))\n",
    "\n",
    "# Add context length lines for different tiers\n",
    "context_lines = [(4096, \"4K models\"), (8192, \"8K models\"), (128000, \"128K models\")]\n",
    "for context_length, label in context_lines:\n",
    "    fig2.add_hline(\n",
    "        y=context_length - 1000,  # Reserve 1000 tokens\n",
    "        line_dash=\"dash\",\n",
    "        line_color=\"red\" if context_length < 10000 else \"orange\" if context_length < 100000 else \"green\",\n",
    "        annotation_text=f\"{label} limit\"\n",
    "    )\n",
    "\n",
    "fig2.update_layout(\n",
    "    barmode='stack',\n",
    "    title='Token Distribution by Document with Context Length Limits',\n",
    "    xaxis_title='Document',\n",
    "    yaxis_title='Number of Tokens',\n",
    "    height=600,\n",
    "    width=1200,\n",
    "    xaxis_tickangle=-45\n",
    ")\n",
    "\n",
    "fig2.show()\n",
    "\n",
    "# Summary statistics\n",
    "print(\"\\nSummary Statistics:\")\n",
    "print(\"=\" * 50)\n",
    "total_docs = len(compatibility_df['document'].unique())\n",
    "avg_total_tokens = compatibility_df.groupby('document')['total_tokens'].first().mean()\n",
    "max_total_tokens = compatibility_df.groupby('document')['total_tokens'].first().max()\n",
    "min_total_tokens = compatibility_df.groupby('document')['total_tokens'].first().min()\n",
    "\n",
    "print(f\"Total documents analyzed: {total_docs}\")\n",
    "print(f\"Average total tokens per document: {avg_total_tokens:.0f}\")\n",
    "print(f\"Maximum total tokens: {max_total_tokens:,}\")\n",
    "print(f\"Minimum total tokens: {min_total_tokens:,}\")\n",
    "\n",
    "# Model recommendations\n",
    "print(\"\\nContext Length Recommendations:\")\n",
    "print(\"=\" * 50)\n",
    "context_tiers = [(4096, \"4K models\"), (8192, \"8K models\"), (128000, \"128K models\"), (200000, \"200K models\")]\n",
    "for context_length, tier_name in context_tiers:\n",
    "    if context_length in CONTEXT_LENGTHS:\n",
    "        compatible_docs = compatibility_df[\n",
    "            (compatibility_df['context_length'] == context_length) & \n",
    "            (compatibility_df['fits_combined'])\n",
    "        ]['document'].nunique()\n",
    "        \n",
    "        percentage = (compatible_docs / total_docs) * 100\n",
    "        \n",
    "        # Show which models have this context length\n",
    "        models_with_this_length = [model for model, length in ALL_MODELS.items() if length == context_length]\n",
    "        \n",
    "        print(f\"{tier_name} ({context_length:,} tokens): {compatible_docs}/{total_docs} documents ({percentage:.1f}%) fit completely\")\n",
    "        print(f\"  Available models: {', '.join(models_with_this_length)}\")"
   ]
  },
  {
   "cell_type": "code",
   "execution_count": 8,
   "id": "5cfa6c4f",
   "metadata": {},
   "outputs": [
    {
     "name": "stdout",
     "output_type": "stream",
     "text": [
      "Compatibility results saved to: output/llm_context_compatibility.csv\n",
      "\n",
      "Context Length Compatibility Summary:\n",
      " context_length representative_model  fits_combined  total_documents  combined_percentage\n",
      "           4096        gpt-3.5-turbo             27               30                 90.0\n",
      "           8192                gpt-4             29               30                 96.7\n",
      "          16384    gpt-3.5-turbo-16k             30               30                100.0\n",
      "          32768            gpt-4-32k             30               30                100.0\n",
      "         128000          gpt-4-turbo             30               30                100.0\n",
      "         200000       claude-3-haiku             30               30                100.0\n",
      "        1000000     gemini-1.5-flash             30               30                100.0\n",
      "        2000000       gemini-1.5-pro             30               30                100.0\n",
      "\n",
      "All models by context length:\n",
      "4,096 tokens: gpt-3.5-turbo\n",
      "8,192 tokens: gpt-4, llama-3-8b, llama-3-70b\n",
      "16,384 tokens: gpt-3.5-turbo-16k\n",
      "32,768 tokens: gpt-4-32k\n",
      "128,000 tokens: gpt-4-turbo, gpt-4o, llama-3.1-8b, llama-3.1-70b, llama-3.1-405b\n",
      "200,000 tokens: claude-3-haiku, claude-3-sonnet, claude-3-opus, claude-3.5-sonnet\n",
      "1,000,000 tokens: gemini-1.5-flash\n",
      "2,000,000 tokens: gemini-1.5-pro\n"
     ]
    }
   ],
   "source": [
    "# Export compatibility results\n",
    "output_file = \"output/llm_context_compatibility.csv\"\n",
    "compatibility_df.to_csv(output_file, index=False)\n",
    "print(f\"Compatibility results saved to: {output_file}\")\n",
    "\n",
    "# Create a summary table for easy reference\n",
    "summary_df = compatibility_df.groupby('context_length').agg({\n",
    "    'fits_combined': 'sum',\n",
    "    'fits_individually': 'sum',\n",
    "    'procedure_fits': 'sum',\n",
    "    'circumstances_fits': 'sum',\n",
    "    'decision_fits': 'sum',\n",
    "    'representative_model': 'first'\n",
    "}).reset_index()\n",
    "\n",
    "summary_df['total_documents'] = len(compatibility_df['document'].unique())\n",
    "summary_df['combined_percentage'] = (summary_df['fits_combined'] / summary_df['total_documents'] * 100).round(1)\n",
    "\n",
    "# Add column showing all models with this context length\n",
    "summary_df['all_models'] = summary_df['context_length'].apply(\n",
    "    lambda x: ', '.join([model for model, length in ALL_MODELS.items() if length == x])\n",
    ")\n",
    "\n",
    "print(\"\\nContext Length Compatibility Summary:\")\n",
    "print(summary_df[['context_length', 'representative_model', 'fits_combined', 'total_documents', 'combined_percentage']].to_string(index=False))\n",
    "\n",
    "print(\"\\nAll models by context length:\")\n",
    "for _, row in summary_df.iterrows():\n",
    "    print(f\"{row['context_length']:,} tokens: {row['all_models']}\")"
   ]
  }
 ],
 "metadata": {
  "kernelspec": {
   "display_name": ".venv",
   "language": "python",
   "name": "python3"
  },
  "language_info": {
   "codemirror_mode": {
    "name": "ipython",
    "version": 3
   },
   "file_extension": ".py",
   "mimetype": "text/x-python",
   "name": "python",
   "nbconvert_exporter": "python",
   "pygments_lexer": "ipython3",
   "version": "3.13.3"
  }
 },
 "nbformat": 4,
 "nbformat_minor": 5
}
