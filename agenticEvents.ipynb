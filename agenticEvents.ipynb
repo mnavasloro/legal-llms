{
 "cells": [
  {
   "cell_type": "code",
   "execution_count": 2,
   "metadata": {},
   "outputs": [],
   "source": [
    "from lxml import etree"
   ]
  },
  {
   "cell_type": "code",
   "execution_count": 3,
   "metadata": {},
   "outputs": [],
   "source": [
    "def parse_gate_xml(file_path):\n",
    "    tree = etree.parse(file_path)\n",
    "    root = tree.getroot()\n",
    "    text = root.find(\".//TextWithNodes\").text\n",
    "    annotations = root.find(\".//AnnotationSet\")\n",
    "    return text, annotations"
   ]
  },
  {
   "cell_type": "code",
   "execution_count": 4,
   "metadata": {},
   "outputs": [
    {
     "name": "stdout",
     "output_type": "stream",
     "text": [
      "Reading file: input/annotated/train/CASE OF DOKTOROV v. BULGARIA.xml\n"
     ]
    }
   ],
   "source": [
    "file_path = \"input/annotated/train/CASE OF DOKTOROV v. BULGARIA.xml\"\n",
    "print(f\"Reading file: {file_path}\")\n",
    "text, annotations = parse_gate_xml(file_path)"
   ]
  }
 ],
 "metadata": {
  "kernelspec": {
   "display_name": ".venv",
   "language": "python",
   "name": "python3"
  },
  "language_info": {
   "codemirror_mode": {
    "name": "ipython",
    "version": 3
   },
   "file_extension": ".py",
   "mimetype": "text/x-python",
   "name": "python",
   "nbconvert_exporter": "python",
   "pygments_lexer": "ipython3",
   "version": "3.12.8"
  }
 },
 "nbformat": 4,
 "nbformat_minor": 2
}
