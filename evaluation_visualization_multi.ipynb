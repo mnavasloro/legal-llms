{
 "cells": [
  {
   "cell_type": "code",
   "execution_count": 1,
   "id": "51ebcc86",
   "metadata": {},
   "outputs": [],
   "source": [
    "import json\n",
    "import os\n",
    "import pandas as pd\n",
    "import plotly.graph_objects as go\n",
    "import plotly.express as px\n",
    "from plotly.subplots import make_subplots\n",
    "import numpy as np\n",
    "from pathlib import Path\n",
    "import ipywidgets as widgets\n",
    "from IPython.display import display, clear_output"
   ]
  },
  {
   "cell_type": "code",
   "execution_count": null,
   "id": "0986d4f4",
   "metadata": {},
   "outputs": [
    {
     "name": "stdout",
     "output_type": "stream",
     "text": [
      "Warning: No evaluation file found in pipeline_results_20250718_085458\n",
      "Warning: No evaluation file found in pipeline_results_20250718_120658\n",
      "Warning: No evaluation file found in pipeline_results_20250718_124701\n",
      "Warning: No evaluation file found in pipeline_results_20250722_045009\n",
      "Warning: No evaluation file found in pipeline_results_20250725_111753\n",
      "Warning: No evaluation file found in pipeline_results_20250731_142225\n",
      "Warning: No evaluation file found in pipeline_results_20250731_142329\n",
      "Found 10 pipeline_results folders:\n",
      "  - pipeline_results_20250804_170535\n",
      "  - pipeline_results_20250804_200916\n",
      "  - pipeline_results_20250805_110706\n",
      "  - pipeline_results_20250805_120530\n",
      "  - pipeline_results_20250805_163617\n",
      "  - pipeline_results_20250808_145025\n",
      "  - pipeline_results_20250808_170911\n",
      "  - pipeline_results_20250813_135803\n",
      "  - pipeline_results_20250816_182317\n",
      "  - pipeline_results_20250816_185820\n",
      "❌ No runs selected!\n"
     ]
    },
    {
     "data": {
      "application/vnd.jupyter.widget-view+json": {
       "model_id": "0a7582c80acd4c038cda290acc938943",
       "version_major": 2,
       "version_minor": 0
      },
      "text/plain": [
       "SelectMultiple(description='Select runs:', layout=Layout(height='150px', width='50%'), options=(('pipeline_res…"
      ]
     },
     "metadata": {},
     "output_type": "display_data"
    },
    {
     "data": {
      "application/vnd.jupyter.widget-view+json": {
       "model_id": "334a4ec9b7a941fd91691a7bca648c97",
       "version_major": 2,
       "version_minor": 0
      },
      "text/plain": [
       "Button(button_style='success', description='Load Selected Data', icon='check', style=ButtonStyle())"
      ]
     },
     "metadata": {},
     "output_type": "display_data"
    },
    {
     "data": {
      "application/vnd.jupyter.widget-view+json": {
       "model_id": "82c6c95dbee14d9bb8791c3abdbd1fa9",
       "version_major": 2,
       "version_minor": 0
      },
      "text/plain": [
       "Output()"
      ]
     },
     "metadata": {},
     "output_type": "display_data"
    }
   ],
   "source": [
    "# Load and process evaluation data from multiple pipeline results\n",
    "\n",
    "import os\n",
    "import json\n",
    "import pandas as pd\n",
    "import ipywidgets as widgets\n",
    "from IPython.display import display, clear_output\n",
    "\n",
    "# Find all pipeline_results folders\n",
    "results_folder = \"output\"\n",
    "pipeline_folders = [f for f in os.listdir(results_folder) \n",
    "                    if f.startswith(\"pipeline_results_\") and os.path.isdir(os.path.join(results_folder, f))]\n",
    "\n",
    "# Filter folders that have evaluation files\n",
    "valid_folders = []\n",
    "for folder in pipeline_folders:\n",
    "    evaluation_file = os.path.join(results_folder, folder, \"llm_evaluation_results.json\")\n",
    "    if os.path.exists(evaluation_file):\n",
    "        valid_folders.append(folder)\n",
    "    else:\n",
    "        print(f\"Warning: No evaluation file found in {folder}\")\n",
    "\n",
    "print(f\"Found {len(valid_folders)} pipeline_results folders:\")\n",
    "for folder in sorted(valid_folders):\n",
    "    print(f\"  - {folder}\")\n",
    "\n",
    "# Create multi-select widget for runs\n",
    "run_selector = widgets.SelectMultiple(\n",
    "    options=[(folder, folder) for folder in sorted(valid_folders)],\n",
    "    description='Select runs:',\n",
    "    disabled=False,\n",
    "    layout=widgets.Layout(width='50%', height='150px')\n",
    ")\n",
    "\n",
    "# Auto-select first 3 runs for testing\n",
    "# if len(valid_folders) >= 3:\n",
    "#     run_selector.value = tuple(sorted(valid_folders)[:3])\n",
    "#     print(f\"\\nAuto-selected first 3 runs: {list(run_selector.value)}\")\n",
    "# else:\n",
    "#     run_selector.value = tuple(sorted(valid_folders))\n",
    "#     print(f\"\\nAuto-selected all available runs: {list(run_selector.value)}\")\n",
    "\n",
    "# Load selected data\n",
    "def load_selected_runs():\n",
    "    selected_runs = run_selector.value\n",
    "    if not selected_runs:\n",
    "        print(\"❌ No runs selected!\")\n",
    "        return\n",
    "    \n",
    "    print(f\"Loading {len(selected_runs)} selected runs...\")\n",
    "    \n",
    "    global evaluation_data\n",
    "    evaluation_data = {}\n",
    "    \n",
    "    for run_name in selected_runs:\n",
    "        evaluation_file = os.path.join(results_folder, run_name, \"llm_evaluation_results.json\")\n",
    "        \n",
    "        try:\n",
    "            with open(evaluation_file, 'r') as f:\n",
    "                data = json.load(f)\n",
    "                evaluation_data[run_name] = data\n",
    "                print(f\"✅ Loaded {run_name}\")\n",
    "        except Exception as e:\n",
    "            print(f\"❌ Error loading {run_name}: {e}\")\n",
    "    \n",
    "    print(f\"\\n✅ Successfully loaded {len(evaluation_data)} runs\")\n",
    "    return evaluation_data\n",
    "\n",
    "# Load the data immediately\n",
    "evaluation_data = load_selected_runs()\n",
    "\n",
    "display(run_selector)\n",
    "\n",
    "# Button for manual reloading if needed\n",
    "load_button = widgets.Button(\n",
    "    description='Load Selected Data',\n",
    "    disabled=False,\n",
    "    button_style='success',\n",
    "    icon='check'\n",
    ")\n",
    "\n",
    "output_area = widgets.Output()\n",
    "\n",
    "def on_button_click(b):\n",
    "    with output_area:\n",
    "        clear_output()\n",
    "        load_selected_runs()\n",
    "\n",
    "load_button.on_click(on_button_click)\n",
    "\n",
    "display(load_button)\n",
    "display(output_area)"
   ]
  },
  {
   "cell_type": "code",
   "execution_count": 3,
   "id": "3bbef9d4",
   "metadata": {},
   "outputs": [],
   "source": [
    "def process_evaluation_data(evaluation_data):\n",
    "    \"\"\"Process evaluation data into a structured format for visualization with annotation type details\"\"\"\n",
    "    processed_data = []\n",
    "    \n",
    "    for run_name, data in evaluation_data.items():\n",
    "        # The data structure is: {document: {model: {annotation_type: {lenient/strict: metrics}}}}\n",
    "        for doc_name, doc_data in data.items():\n",
    "            if not isinstance(doc_data, dict):\n",
    "                continue\n",
    "                \n",
    "            for model_name, model_data in doc_data.items():\n",
    "                if not isinstance(model_data, dict):\n",
    "                    continue\n",
    "                \n",
    "                # Process each annotation type separately\n",
    "                annotation_types = ['Event', 'Event_who', 'Event_when', 'Event_what']\n",
    "                \n",
    "                # Calculate overall metrics (aggregated across all annotation types)\n",
    "                total_tp_lenient = 0\n",
    "                total_fp_lenient = 0\n",
    "                total_fn_lenient = 0\n",
    "                total_tp_strict = 0\n",
    "                total_fp_strict = 0\n",
    "                total_fn_strict = 0\n",
    "                \n",
    "                annotation_type_count = 0\n",
    "                \n",
    "                # Add individual annotation type metrics\n",
    "                for ann_type in annotation_types:\n",
    "                    if ann_type in model_data and isinstance(model_data[ann_type], dict):\n",
    "                        ann_data = model_data[ann_type]\n",
    "                        annotation_type_count += 1\n",
    "                        \n",
    "                        # Extract lenient metrics\n",
    "                        if 'lenient' in ann_data:\n",
    "                            lenient_metrics = ann_data['lenient']\n",
    "                            precision_l = lenient_metrics.get('precision', 0)\n",
    "                            recall_l = lenient_metrics.get('recall', 0)\n",
    "                            f1_score_l = lenient_metrics.get('f1_score', 0)\n",
    "                            tp_l = lenient_metrics.get('true_positives', 0)\n",
    "                            fp_l = lenient_metrics.get('false_positives', 0)\n",
    "                            fn_l = lenient_metrics.get('false_negatives', 0)\n",
    "                            \n",
    "                            total_tp_lenient += tp_l\n",
    "                            total_fp_lenient += fp_l\n",
    "                            total_fn_lenient += fn_l\n",
    "                        else:\n",
    "                            precision_l = recall_l = f1_score_l = 0\n",
    "                            tp_l = fp_l = fn_l = 0\n",
    "                        \n",
    "                        # Extract strict metrics\n",
    "                        if 'strict' in ann_data:\n",
    "                            strict_metrics = ann_data['strict']\n",
    "                            precision_s = strict_metrics.get('precision', 0)\n",
    "                            recall_s = strict_metrics.get('recall', 0)\n",
    "                            f1_score_s = strict_metrics.get('f1_score', 0)\n",
    "                            tp_s = strict_metrics.get('true_positives', 0)\n",
    "                            fp_s = strict_metrics.get('false_positives', 0)\n",
    "                            fn_s = strict_metrics.get('false_negatives', 0)\n",
    "                            \n",
    "                            total_tp_strict += tp_s\n",
    "                            total_fp_strict += fp_s\n",
    "                            total_fn_strict += fn_s\n",
    "                        else:\n",
    "                            precision_s = recall_s = f1_score_s = 0\n",
    "                            tp_s = fp_s = fn_s = 0\n",
    "                        \n",
    "                        # Add record for this specific annotation type\n",
    "                        processed_data.append({\n",
    "                            'run': run_name,\n",
    "                            'model': model_name,\n",
    "                            'document': doc_name,\n",
    "                            'annotation_type': ann_type,\n",
    "                            'evaluation_mode': 'lenient',\n",
    "                            'precision': precision_l,\n",
    "                            'recall': recall_l,\n",
    "                            'f1_score': f1_score_l,\n",
    "                            'true_positives': tp_l,\n",
    "                            'false_positives': fp_l,\n",
    "                            'false_negatives': fn_l,\n",
    "                            'gold_count': ann_data.get('gold_count', 0),\n",
    "                            'predicted_count': ann_data.get('predicted_count', 0)\n",
    "                        })\n",
    "                        \n",
    "                        processed_data.append({\n",
    "                            'run': run_name,\n",
    "                            'model': model_name,\n",
    "                            'document': doc_name,\n",
    "                            'annotation_type': ann_type,\n",
    "                            'evaluation_mode': 'strict',\n",
    "                            'precision': precision_s,\n",
    "                            'recall': recall_s,\n",
    "                            'f1_score': f1_score_s,\n",
    "                            'true_positives': tp_s,\n",
    "                            'false_positives': fp_s,\n",
    "                            'false_negatives': fn_s,\n",
    "                            'gold_count': ann_data.get('gold_count', 0),\n",
    "                            'predicted_count': ann_data.get('predicted_count', 0)\n",
    "                        })\n",
    "                \n",
    "                # Add overall metrics (aggregated across all annotation types)\n",
    "                if annotation_type_count > 0:\n",
    "                    # Calculate overall lenient metrics\n",
    "                    overall_precision_l = total_tp_lenient / (total_tp_lenient + total_fp_lenient) if (total_tp_lenient + total_fp_lenient) > 0 else 0\n",
    "                    overall_recall_l = total_tp_lenient / (total_tp_lenient + total_fn_lenient) if (total_tp_lenient + total_fn_lenient) > 0 else 0\n",
    "                    overall_f1_l = 2 * (overall_precision_l * overall_recall_l) / (overall_precision_l + overall_recall_l) if (overall_precision_l + overall_recall_l) > 0 else 0\n",
    "                    \n",
    "                    # Calculate overall strict metrics\n",
    "                    overall_precision_s = total_tp_strict / (total_tp_strict + total_fp_strict) if (total_tp_strict + total_fp_strict) > 0 else 0\n",
    "                    overall_recall_s = total_tp_strict / (total_tp_strict + total_fn_strict) if (total_tp_strict + total_fn_strict) > 0 else 0\n",
    "                    overall_f1_s = 2 * (overall_precision_s * overall_recall_s) / (overall_precision_s + overall_recall_s) if (overall_precision_s + overall_recall_s) > 0 else 0\n",
    "                    \n",
    "                    # Add overall records\n",
    "                    processed_data.append({\n",
    "                        'run': run_name,\n",
    "                        'model': model_name,\n",
    "                        'document': doc_name,\n",
    "                        'annotation_type': 'Overall',\n",
    "                        'evaluation_mode': 'lenient',\n",
    "                        'precision': overall_precision_l,\n",
    "                        'recall': overall_recall_l,\n",
    "                        'f1_score': overall_f1_l,\n",
    "                        'true_positives': total_tp_lenient,\n",
    "                        'false_positives': total_fp_lenient,\n",
    "                        'false_negatives': total_fn_lenient,\n",
    "                        'gold_count': 0,  # Not meaningful for overall\n",
    "                        'predicted_count': 0  # Not meaningful for overall\n",
    "                    })\n",
    "                    \n",
    "                    processed_data.append({\n",
    "                        'run': run_name,\n",
    "                        'model': model_name,\n",
    "                        'document': doc_name,\n",
    "                        'annotation_type': 'Overall',\n",
    "                        'evaluation_mode': 'strict',\n",
    "                        'precision': overall_precision_s,\n",
    "                        'recall': overall_recall_s,\n",
    "                        'f1_score': overall_f1_s,\n",
    "                        'true_positives': total_tp_strict,\n",
    "                        'false_positives': total_fp_strict,\n",
    "                        'false_negatives': total_fn_strict,\n",
    "                        'gold_count': 0,  # Not meaningful for overall\n",
    "                        'predicted_count': 0  # Not meaningful for overall\n",
    "                    })\n",
    "    \n",
    "    return pd.DataFrame(processed_data)\n",
    "\n",
    "def create_annotation_type_heatmap(df, evaluation_mode='lenient', metric='f1_score'):\n",
    "    \"\"\"Create a heatmap showing performance by annotation type across models\"\"\"\n",
    "    \n",
    "    # Filter data for the specified evaluation mode\n",
    "    df_filtered = df[df['evaluation_mode'] == evaluation_mode].copy()\n",
    "    \n",
    "    # Exclude 'Overall' for this specific view\n",
    "    df_filtered = df_filtered[df_filtered['annotation_type'] != 'Overall']\n",
    "    \n",
    "    # Create pivot table with annotation types as rows and models as columns\n",
    "    pivot_data = df_filtered.pivot_table(\n",
    "        index='annotation_type', \n",
    "        columns='model', \n",
    "        values=metric, \n",
    "        aggfunc='mean'  # Average across documents and runs\n",
    "    ).fillna(0)\n",
    "    \n",
    "    # Reorder annotation types for better display\n",
    "    desired_order = ['Event', 'Event_who', 'Event_when', 'Event_what']\n",
    "    available_types = [t for t in desired_order if t in pivot_data.index]\n",
    "    pivot_data = pivot_data.reindex(available_types)\n",
    "    \n",
    "    num_runs = len(df['run'].unique())\n",
    "    title_text = f\"Annotation Type Performance - {metric.replace('_', ' ').title()} ({evaluation_mode.title()})\"\n",
    "    if num_runs > 1:\n",
    "        title_text += f\" (Average across {num_runs} runs)\"\n",
    "    \n",
    "    fig = go.Figure(data=go.Heatmap(\n",
    "        z=pivot_data.values,\n",
    "        x=pivot_data.columns,\n",
    "        y=pivot_data.index,\n",
    "        colorscale='RdYlGn',\n",
    "        zmin=0,\n",
    "        zmax=1,\n",
    "        text=pivot_data.values.round(3),\n",
    "        texttemplate=\"%{text}\",\n",
    "        textfont={\"size\": 12},\n",
    "        colorbar=dict(\n",
    "            title=metric.replace('_', ' ').title()\n",
    "        )\n",
    "    ))\n",
    "    \n",
    "    fig.update_layout(\n",
    "        title=dict(\n",
    "            text=title_text,\n",
    "            font=dict(size=18, color='#2E2E2E'),\n",
    "            x=0.5\n",
    "        ),\n",
    "        xaxis=dict(\n",
    "            title=\"Models\",\n",
    "            tickfont=dict(size=12)\n",
    "        ),\n",
    "        yaxis=dict(\n",
    "            title=\"Annotation Types\",\n",
    "            tickfont=dict(size=12)\n",
    "        ),\n",
    "        height=400,\n",
    "        width=max(800, len(pivot_data.columns) * 120),\n",
    "        template='plotly_white'\n",
    "    )\n",
    "    \n",
    "    return fig\n",
    "\n",
    "def create_annotation_type_difficulty_chart(df, evaluation_mode='lenient'):\n",
    "    \"\"\"Create a chart showing which annotation types are most difficult across all models\"\"\"\n",
    "    \n",
    "    # Filter data for the specified evaluation mode and exclude 'Overall'\n",
    "    df_filtered = df[(df['evaluation_mode'] == evaluation_mode) & (df['annotation_type'] != 'Overall')].copy()\n",
    "    \n",
    "    # Calculate average F1 score per annotation type across all models and documents\n",
    "    ann_stats = df_filtered.groupby('annotation_type').agg({\n",
    "        'f1_score': ['mean', 'std', 'min', 'max', 'count'],\n",
    "        'precision': 'mean',\n",
    "        'recall': 'mean'\n",
    "    }).round(4)\n",
    "    \n",
    "    ann_stats.columns = ['_'.join(col).strip() for col in ann_stats.columns]\n",
    "    ann_stats = ann_stats.reset_index()\n",
    "    ann_stats = ann_stats.sort_values('f1_score_mean', ascending=True)\n",
    "    \n",
    "    fig = go.Figure()\n",
    "    \n",
    "    # Add bar chart with error bars\n",
    "    fig.add_trace(go.Bar(\n",
    "        x=ann_stats['f1_score_mean'],\n",
    "        y=ann_stats['annotation_type'],\n",
    "        orientation='h',\n",
    "        error_x=dict(\n",
    "            type='data',\n",
    "            array=ann_stats['f1_score_std'],\n",
    "            visible=True\n",
    "        ),\n",
    "        marker=dict(\n",
    "            color=ann_stats['f1_score_mean'],\n",
    "            colorscale='RdYlGn',\n",
    "            cmin=0,\n",
    "            cmax=1,\n",
    "            colorbar=dict(title=\"Average F1-Score\")\n",
    "        ),\n",
    "        text=ann_stats['f1_score_mean'].round(3),\n",
    "        textposition='auto',\n",
    "        width=0.6,  # Make bars thinner\n",
    "        customdata=np.column_stack((ann_stats['precision_mean'], ann_stats['recall_mean'], ann_stats['f1_score_count'])),\n",
    "        hovertemplate='<b>%{y}</b><br>' +\n",
    "                     'F1-Score: %{x:.3f}<br>' +\n",
    "                     'Precision: %{customdata[0]:.3f}<br>' +\n",
    "                     'Recall: %{customdata[1]:.3f}<br>' +\n",
    "                     'Data Points: %{customdata[2]}<extra></extra>'\n",
    "    ))\n",
    "    \n",
    "    title_text = f\"Annotation Type Difficulty Ranking ({evaluation_mode.title()} Evaluation)\"\n",
    "    \n",
    "    fig.update_layout(\n",
    "        title=dict(\n",
    "            text=title_text,\n",
    "            font=dict(size=16, color='#2E2E2E'),\n",
    "            x=0.5\n",
    "        ),\n",
    "        xaxis=dict(\n",
    "            title=\"Average F1-Score\",\n",
    "            range=[0, 1]\n",
    "        ),\n",
    "        yaxis=dict(\n",
    "            title=\"Annotation Types\"\n",
    "        ),\n",
    "        height=300,\n",
    "        template='plotly_white'\n",
    "    )\n",
    "    \n",
    "    return fig\n",
    "\n",
    "def create_model_comparison_by_annotation_type(df, evaluation_mode='lenient'):\n",
    "    \"\"\"Create a detailed comparison of models for each annotation type\"\"\"\n",
    "    \n",
    "    # Filter data for the specified evaluation mode and exclude 'Overall'\n",
    "    df_filtered = df[(df['evaluation_mode'] == evaluation_mode) & (df['annotation_type'] != 'Overall')].copy()\n",
    "    \n",
    "    # Get unique annotation types and models\n",
    "    annotation_types = ['Event', 'Event_who', 'Event_when', 'Event_what']\n",
    "    available_types = [t for t in annotation_types if t in df_filtered['annotation_type'].unique()]\n",
    "    models = sorted(df_filtered['model'].unique())\n",
    "    \n",
    "    # Create subplots for each annotation type\n",
    "    fig = make_subplots(\n",
    "        rows=2, cols=2,\n",
    "        subplot_titles=available_types,\n",
    "        specs=[[{\"secondary_y\": False}, {\"secondary_y\": False}],\n",
    "               [{\"secondary_y\": False}, {\"secondary_y\": False}]]\n",
    "    )\n",
    "    \n",
    "    colors = px.colors.qualitative.Set1[:len(models)]\n",
    "    \n",
    "    for i, ann_type in enumerate(available_types):\n",
    "        row = (i // 2) + 1\n",
    "        col = (i % 2) + 1\n",
    "        \n",
    "        # Filter data for this annotation type\n",
    "        type_data = df_filtered[df_filtered['annotation_type'] == ann_type]\n",
    "        \n",
    "        # Calculate average metrics per model for this annotation type\n",
    "        model_stats = type_data.groupby('model').agg({\n",
    "            'precision': ['mean', 'std'],\n",
    "            'recall': ['mean', 'std'],\n",
    "            'f1_score': ['mean', 'std']\n",
    "        }).round(4)\n",
    "        \n",
    "        model_stats.columns = ['_'.join(col).strip() for col in model_stats.columns]\n",
    "        model_stats = model_stats.reset_index()\n",
    "        \n",
    "        # Add bars for each metric\n",
    "        metrics = ['precision_mean', 'recall_mean', 'f1_score_mean']\n",
    "        metric_names = ['Precision', 'Recall', 'F1-Score']\n",
    "        metric_colors = ['#FF6B6B', '#4ECDC4', '#45B7D1']\n",
    "        \n",
    "        for j, (metric, name, color) in enumerate(zip(metrics, metric_names, metric_colors)):\n",
    "            show_legend = (i == 0)  # Only show legend for first subplot\n",
    "            \n",
    "            fig.add_trace(go.Bar(\n",
    "                name=name,\n",
    "                x=model_stats['model'],\n",
    "                y=model_stats[metric],\n",
    "                marker_color=color,\n",
    "                text=model_stats[metric].round(3),\n",
    "                textposition='auto',\n",
    "                showlegend=show_legend,\n",
    "                legendgroup=name,\n",
    "                width=0.6  # Make bars thinner\n",
    "            ), row=row, col=col)\n",
    "    \n",
    "    title_text = f\"Model Performance by Annotation Type ({evaluation_mode.title()} Evaluation)\"\n",
    "    \n",
    "    fig.update_layout(\n",
    "        title=dict(\n",
    "            text=title_text,\n",
    "            font=dict(size=18, color='#2E2E2E'),\n",
    "            x=0.5\n",
    "        ),\n",
    "        height=600,\n",
    "        template='plotly_white',\n",
    "        barmode='group'\n",
    "    )\n",
    "    \n",
    "    # Update all y-axes to have same range\n",
    "    for i in range(1, 3):\n",
    "        for j in range(1, 3):\n",
    "            fig.update_yaxes(range=[0, 1], row=i, col=j)\n",
    "            fig.update_xaxes(tickangle=45, row=i, col=j)\n",
    "    \n",
    "    return fig"
   ]
  },
  {
   "cell_type": "code",
   "execution_count": 4,
   "id": "96fbafd9",
   "metadata": {},
   "outputs": [
    {
     "name": "stdout",
     "output_type": "stream",
     "text": [
      "📋 LOADED RUNS INFORMATION\n",
      "==================================================\n",
      "Number of runs loaded: 2\n",
      "Runs included in analysis:\n",
      "  1. pipeline_results_20250816_182317\n",
      "  2. pipeline_results_20250816_185820\n",
      "\n",
      "🔄 DATA PRESENTATION METHOD:\n",
      "- Multiple runs: Results shown SEPARATELY for each run\n",
      "- Each run is displayed in its own section/subplot\n",
      "- NO AVERAGING - you can see the evolution across runs!\n",
      "- This allows you to compare how performance changes with different settings\n",
      "==================================================\n"
     ]
    }
   ],
   "source": [
    "# Display information about loaded runs and data aggregation\n",
    "if 'evaluation_data' in globals() and evaluation_data:\n",
    "    print(\"📋 LOADED RUNS INFORMATION\")\n",
    "    print(\"=\"*50)\n",
    "    print(f\"Number of runs loaded: {len(evaluation_data)}\")\n",
    "    print(\"Runs included in analysis:\")\n",
    "    for i, run_name in enumerate(evaluation_data.keys(), 1):\n",
    "        print(f\"  {i}. {run_name}\")\n",
    "    \n",
    "    print(\"\\n🔄 DATA PRESENTATION METHOD:\")\n",
    "    if len(evaluation_data) == 1:\n",
    "        print(\"- Single run: Results shown directly without aggregation\")\n",
    "    else:\n",
    "        print(\"- Multiple runs: Results shown SEPARATELY for each run\")\n",
    "        print(\"- Each run is displayed in its own section/subplot\")\n",
    "        print(\"- NO AVERAGING - you can see the evolution across runs!\")\n",
    "    print(\"- This allows you to compare how performance changes with different settings\")\n",
    "    print(\"=\"*50)\n",
    "else:\n",
    "    print(\"❌ No evaluation data loaded yet.\")"
   ]
  },
  {
   "cell_type": "code",
   "execution_count": 5,
   "id": "099a8c2e",
   "metadata": {},
   "outputs": [
    {
     "name": "stdout",
     "output_type": "stream",
     "text": [
      "🔄 Processing evaluation data...\n",
      "✅ Processed data into DataFrame:\n",
      "   - Total records: 160\n",
      "   - Main visualization records: 16\n",
      "   - Runs: 2\n",
      "   - Models: 4\n",
      "   - Documents: 2\n",
      "   - Annotation types: ['Event', 'Event_what', 'Event_when', 'Event_who', 'Overall']\n"
     ]
    }
   ],
   "source": [
    "# Process the evaluation data into a DataFrame\n",
    "if 'evaluation_data' in globals() and evaluation_data:\n",
    "    print(\"🔄 Processing evaluation data...\")\n",
    "    df = process_evaluation_data(evaluation_data)\n",
    "    \n",
    "    # Filter for 'Overall' annotation type and 'lenient' evaluation mode for main visualizations\n",
    "    df_main = df[(df['annotation_type'] == 'Overall') & (df['evaluation_mode'] == 'lenient')].copy()\n",
    "    \n",
    "    print(f\"✅ Processed data into DataFrame:\")\n",
    "    print(f\"   - Total records: {len(df)}\")\n",
    "    print(f\"   - Main visualization records: {len(df_main)}\")\n",
    "    print(f\"   - Runs: {df['run'].nunique()}\")\n",
    "    print(f\"   - Models: {df['model'].nunique()}\")\n",
    "    print(f\"   - Documents: {df['document'].nunique()}\")\n",
    "    print(f\"   - Annotation types: {sorted(df['annotation_type'].unique())}\")\n",
    "else:\n",
    "    print(\"❌ No evaluation data to process. Please load data first.\")"
   ]
  },
  {
   "cell_type": "code",
   "execution_count": 6,
   "id": "a12d4cf4",
   "metadata": {},
   "outputs": [],
   "source": [
    "def create_model_comparison_chart(df):\n",
    "    \"\"\"Create a model comparison chart showing average performance with error bars\"\"\"\n",
    "    \n",
    "    # Calculate statistics for each model\n",
    "    model_stats = df.groupby('model').agg({\n",
    "        'precision': ['mean', 'std'],\n",
    "        'recall': ['mean', 'std'],\n",
    "        'f1_score': ['mean', 'std'],\n",
    "        'document': 'count'\n",
    "    }).round(4)\n",
    "    \n",
    "    model_stats.columns = ['_'.join(col).strip() for col in model_stats.columns]\n",
    "    model_stats = model_stats.reset_index()\n",
    "    model_stats = model_stats.sort_values('f1_score_mean', ascending=False)\n",
    "    \n",
    "    fig = go.Figure()\n",
    "    \n",
    "    # Colors for different metrics\n",
    "    colors = ['#FF6B6B', '#4ECDC4', '#45B7D1']\n",
    "    metrics = ['precision_mean', 'recall_mean', 'f1_score_mean']\n",
    "    metric_names = ['Precision', 'Recall', 'F1-Score']\n",
    "    error_cols = ['precision_std', 'recall_std', 'f1_score_std']\n",
    "    \n",
    "    for i, (metric, name, color, error_col) in enumerate(zip(metrics, metric_names, colors, error_cols)):\n",
    "        fig.add_trace(go.Bar(\n",
    "            name=name,\n",
    "            x=model_stats['model'],\n",
    "            y=model_stats[metric],\n",
    "            error_y=dict(\n",
    "                type='data',\n",
    "                array=model_stats[error_col],\n",
    "                visible=True\n",
    "            ),\n",
    "            marker_color=color,\n",
    "            text=model_stats[metric].round(3),\n",
    "            textposition='auto',\n",
    "            width=0.6  # Make bars thinner\n",
    "        ))\n",
    "    \n",
    "    num_runs = len(df['run'].unique())\n",
    "    title_text = \"Model Performance Comparison\"\n",
    "    if num_runs > 1:\n",
    "        title_text += f\" (Average across {num_runs} runs)\"\n",
    "    \n",
    "    fig.update_layout(\n",
    "        title=dict(\n",
    "            text=title_text,\n",
    "            font=dict(size=18, color='#2E2E2E'),\n",
    "            x=0.5\n",
    "        ),\n",
    "        xaxis=dict(\n",
    "            title=\"Models\",\n",
    "            tickangle=45\n",
    "        ),\n",
    "        yaxis=dict(\n",
    "            title=\"Score\",\n",
    "            range=[0, 1]\n",
    "        ),\n",
    "        height=500,\n",
    "        template='plotly_white',\n",
    "        barmode='group'\n",
    "    )\n",
    "    \n",
    "    return fig\n",
    "\n",
    "def create_document_difficulty_chart(df):\n",
    "    \"\"\"Create a chart showing document difficulty ranking\"\"\"\n",
    "    \n",
    "    # Calculate average F1 score per document\n",
    "    doc_stats = df.groupby('document').agg({\n",
    "        'f1_score': ['mean', 'std', 'min', 'max', 'count'],\n",
    "        'precision': 'mean',\n",
    "        'recall': 'mean'\n",
    "    }).round(4)\n",
    "    \n",
    "    doc_stats.columns = ['_'.join(col).strip() for col in doc_stats.columns]\n",
    "    doc_stats = doc_stats.reset_index()\n",
    "    doc_stats = doc_stats.sort_values('f1_score_mean', ascending=True)  # Hardest first\n",
    "    \n",
    "    fig = go.Figure()\n",
    "    \n",
    "    # Add bar chart with error bars\n",
    "    fig.add_trace(go.Bar(\n",
    "        x=doc_stats['f1_score_mean'],\n",
    "        y=doc_stats['document'],\n",
    "        orientation='h',\n",
    "        error_x=dict(\n",
    "            type='data',\n",
    "            array=doc_stats['f1_score_std'],\n",
    "            visible=True\n",
    "        ),\n",
    "        marker=dict(\n",
    "            color=doc_stats['f1_score_mean'],\n",
    "            colorscale='RdYlGn',\n",
    "            cmin=0,\n",
    "            cmax=1,\n",
    "            colorbar=dict(title=\"Average F1-Score\")\n",
    "        ),\n",
    "        text=doc_stats['f1_score_mean'].round(3),\n",
    "        textposition='auto',\n",
    "        width=0.6,  # Make bars thinner\n",
    "        customdata=np.column_stack((doc_stats['precision_mean'], doc_stats['recall_mean'], doc_stats['f1_score_count'])),\n",
    "        hovertemplate='<b>%{y}</b><br>' +\n",
    "                     'F1-Score: %{x:.3f}<br>' +\n",
    "                     'Precision: %{customdata[0]:.3f}<br>' +\n",
    "                     'Recall: %{customdata[1]:.3f}<br>' +\n",
    "                     'Data Points: %{customdata[2]}<extra></extra>'\n",
    "    ))\n",
    "    \n",
    "    num_runs = len(df['run'].unique())\n",
    "    title_text = \"Document Difficulty Ranking (Hardest First)\"\n",
    "    if num_runs > 1:\n",
    "        title_text += f\" (Average across {num_runs} runs)\"\n",
    "    \n",
    "    fig.update_layout(\n",
    "        title=dict(\n",
    "            text=title_text,\n",
    "            font=dict(size=16, color='#2E2E2E'),\n",
    "            x=0.5\n",
    "        ),\n",
    "        xaxis=dict(\n",
    "            title=\"Average F1-Score\",\n",
    "            range=[0, 1]\n",
    "        ),\n",
    "        yaxis=dict(\n",
    "            title=\"Documents\"\n",
    "        ),\n",
    "        height=max(400, len(doc_stats) * 30),\n",
    "        template='plotly_white'\n",
    "    )\n",
    "    \n",
    "    return fig"
   ]
  },
  {
   "cell_type": "code",
   "execution_count": 7,
   "id": "531718d1",
   "metadata": {},
   "outputs": [],
   "source": [
    "def create_performance_heatmap(df, metric, title_suffix):\n",
    "    \"\"\"Create a heatmap showing model performance across documents for each run separately\"\"\"\n",
    "    \n",
    "    # Check if we have multiple runs\n",
    "    num_runs = len(df['run'].unique())\n",
    "    \n",
    "    if num_runs == 1:\n",
    "        # Single run - create simple heatmap\n",
    "        pivot_data = df.pivot_table(\n",
    "            index='model', \n",
    "            columns='document', \n",
    "            values=metric, \n",
    "            aggfunc='first'  # Take the single value\n",
    "        ).fillna(0)\n",
    "        \n",
    "        title_text = f\"Model Performance Heatmap - {title_suffix} ({df['run'].iloc[0]})\"\n",
    "        \n",
    "        fig = go.Figure(data=go.Heatmap(\n",
    "            z=pivot_data.values,\n",
    "            x=pivot_data.columns,\n",
    "            y=pivot_data.index,\n",
    "            colorscale='RdYlGn',\n",
    "            zmin=0,\n",
    "            zmax=1,\n",
    "            text=pivot_data.values.round(3),\n",
    "            texttemplate=\"%{text}\",\n",
    "            textfont={\"size\": 10},\n",
    "            colorbar=dict(title=title_suffix)\n",
    "        ))\n",
    "        \n",
    "        fig.update_layout(\n",
    "            title=dict(text=title_text, font=dict(size=20, color='#2E2E2E'), x=0.5),\n",
    "            xaxis=dict(title=\"Documents\", tickangle=45, tickfont=dict(size=10)),\n",
    "            yaxis=dict(title=\"Models\", tickfont=dict(size=12)),\n",
    "            height=max(400, len(pivot_data.index) * 50),\n",
    "            width=max(800, len(pivot_data.columns) * 80),\n",
    "            template='plotly_white'\n",
    "        )\n",
    "        \n",
    "        return fig\n",
    "    \n",
    "    else:\n",
    "        # Multiple runs - create subplots for each run\n",
    "        runs = sorted(df['run'].unique())\n",
    "        cols = min(3, len(runs))  # Max 3 columns\n",
    "        rows = (len(runs) + cols - 1) // cols  # Calculate rows needed\n",
    "        \n",
    "        fig = make_subplots(\n",
    "            rows=rows, cols=cols,\n",
    "            subplot_titles=runs,\n",
    "            shared_xaxes=True,\n",
    "            shared_yaxes=True,\n",
    "            vertical_spacing=0.15,\n",
    "            horizontal_spacing=0.1\n",
    "        )\n",
    "        \n",
    "        for i, run in enumerate(runs):\n",
    "            row = i // cols + 1\n",
    "            col = i % cols + 1\n",
    "            \n",
    "            run_data = df[df['run'] == run]\n",
    "            pivot_data = run_data.pivot_table(\n",
    "                index='model', \n",
    "                columns='document', \n",
    "                values=metric, \n",
    "                aggfunc='first'\n",
    "            ).fillna(0)\n",
    "            \n",
    "            fig.add_trace(\n",
    "                go.Heatmap(\n",
    "                    z=pivot_data.values,\n",
    "                    x=pivot_data.columns,\n",
    "                    y=pivot_data.index,\n",
    "                    colorscale='RdYlGn',\n",
    "                    zmin=0,\n",
    "                    zmax=1,\n",
    "                    text=pivot_data.values.round(3),\n",
    "                    texttemplate=\"%{text}\",\n",
    "                    textfont={\"size\": 8},\n",
    "                    showscale=(i == 0),  # Only show colorbar for first subplot\n",
    "                    colorbar=dict(title=title_suffix) if i == 0 else None\n",
    "                ),\n",
    "                row=row, col=col\n",
    "            )\n",
    "        \n",
    "        title_text = f\"Model Performance Comparison Across Runs - {title_suffix}\"\n",
    "        \n",
    "        fig.update_layout(\n",
    "            title=dict(\n",
    "                text=title_text,\n",
    "                font=dict(size=18, color='#2E2E2E'),\n",
    "                x=0.5\n",
    "            ),\n",
    "            height=max(400, rows * 300),\n",
    "            width=max(1200, cols * 400),\n",
    "            template='plotly_white'\n",
    "        )\n",
    "        \n",
    "        return fig"
   ]
  },
  {
   "cell_type": "code",
   "execution_count": 8,
   "id": "94a41e90",
   "metadata": {},
   "outputs": [
    {
     "name": "stdout",
     "output_type": "stream",
     "text": [
      "🎯 Creating Performance Visualizations...\n",
      "📊 1. Model Performance Heatmap (F1-Score)\n"
     ]
    },
    {
     "data": {
      "application/vnd.plotly.v1+json": {
       "config": {
        "plotlyServerURL": "https://plot.ly"
       },
       "data": [
        {
         "colorbar": {
          "title": {
           "text": "F1-Score"
          }
         },
         "colorscale": [
          [
           0,
           "rgb(165,0,38)"
          ],
          [
           0.1,
           "rgb(215,48,39)"
          ],
          [
           0.2,
           "rgb(244,109,67)"
          ],
          [
           0.3,
           "rgb(253,174,97)"
          ],
          [
           0.4,
           "rgb(254,224,139)"
          ],
          [
           0.5,
           "rgb(255,255,191)"
          ],
          [
           0.6,
           "rgb(217,239,139)"
          ],
          [
           0.7,
           "rgb(166,217,106)"
          ],
          [
           0.8,
           "rgb(102,189,99)"
          ],
          [
           0.9,
           "rgb(26,152,80)"
          ],
          [
           1,
           "rgb(0,104,55)"
          ]
         ],
         "showscale": true,
         "text": {
          "bdata": "f2q8dJMY3D956SYxCKzUPylcj8L1KLw/2/l+arx0wz/y0k1iEFjRP1CNl24Sg8A/sp3vp8ZLtz8rhxbZzvfDPw==",
          "dtype": "f8",
          "shape": "4, 2"
         },
         "textfont": {
          "size": 8
         },
         "texttemplate": "%{text}",
         "type": "heatmap",
         "x": [
          "ALTAY v. TURKEY (No. 2)",
          "BELYAYEV AND OTHERS v. UKRAINE"
         ],
         "xaxis": "x",
         "y": [
          "gemma3:12b",
          "gemma3:1b",
          "gemma3:4b",
          "mistral:latest"
         ],
         "yaxis": "y",
         "z": {
          "bdata": "KBmLapgd3D9bv1Kg1q/UPw2Hw+FwOLw/ZZNNNtlkwz/xFV/xFV/RP4UQQgghhMA/RhdddNFFtz/Oyk+Is/LDPw==",
          "dtype": "f8",
          "shape": "4, 2"
         },
         "zmax": 1,
         "zmin": 0
        },
        {
         "colorscale": [
          [
           0,
           "rgb(165,0,38)"
          ],
          [
           0.1,
           "rgb(215,48,39)"
          ],
          [
           0.2,
           "rgb(244,109,67)"
          ],
          [
           0.3,
           "rgb(253,174,97)"
          ],
          [
           0.4,
           "rgb(254,224,139)"
          ],
          [
           0.5,
           "rgb(255,255,191)"
          ],
          [
           0.6,
           "rgb(217,239,139)"
          ],
          [
           0.7,
           "rgb(166,217,106)"
          ],
          [
           0.8,
           "rgb(102,189,99)"
          ],
          [
           0.9,
           "rgb(26,152,80)"
          ],
          [
           1,
           "rgb(0,104,55)"
          ]
         ],
         "showscale": false,
         "text": {
          "bdata": "46WbxCCw2j8rhxbZzvfTPwisHFpkO78/K4cW2c73wz/FILByaJHNP6AaL90kBsE/ZmZmZmZm1j+iRbbz/dTIPw==",
          "dtype": "f8",
          "shape": "4, 2"
         },
         "textfont": {
          "size": 8
         },
         "texttemplate": "%{text}",
         "type": "heatmap",
         "x": [
          "ALTAY v. TURKEY (No. 2)",
          "BELYAYEV AND OTHERS v. UKRAINE"
         ],
         "xaxis": "x2",
         "y": [
          "gemma3:12b",
          "gemma3:1b",
          "gemma3:4b",
          "mistral:latest"
         ],
         "yaxis": "y2",
         "z": {
          "bdata": "TPBt/gqz2j/////////TP9WHxvrQWL8/AAAAAAAAxD/9kdN8rZ7NPxAREREREcE/OyAy3Ktg1j/GGGOMMcbIPw==",
          "dtype": "f8",
          "shape": "4, 2"
         },
         "zmax": 1,
         "zmin": 0
        }
       ],
       "layout": {
        "annotations": [
         {
          "font": {
           "size": 16
          },
          "showarrow": false,
          "text": "pipeline_results_20250816_182317",
          "x": 0.225,
          "xanchor": "center",
          "xref": "paper",
          "y": 1,
          "yanchor": "bottom",
          "yref": "paper"
         },
         {
          "font": {
           "size": 16
          },
          "showarrow": false,
          "text": "pipeline_results_20250816_185820",
          "x": 0.775,
          "xanchor": "center",
          "xref": "paper",
          "y": 1,
          "yanchor": "bottom",
          "yref": "paper"
         }
        ],
        "height": 400,
        "template": {
         "data": {
          "bar": [
           {
            "error_x": {
             "color": "#2a3f5f"
            },
            "error_y": {
             "color": "#2a3f5f"
            },
            "marker": {
             "line": {
              "color": "white",
              "width": 0.5
             },
             "pattern": {
              "fillmode": "overlay",
              "size": 10,
              "solidity": 0.2
             }
            },
            "type": "bar"
           }
          ],
          "barpolar": [
           {
            "marker": {
             "line": {
              "color": "white",
              "width": 0.5
             },
             "pattern": {
              "fillmode": "overlay",
              "size": 10,
              "solidity": 0.2
             }
            },
            "type": "barpolar"
           }
          ],
          "carpet": [
           {
            "aaxis": {
             "endlinecolor": "#2a3f5f",
             "gridcolor": "#C8D4E3",
             "linecolor": "#C8D4E3",
             "minorgridcolor": "#C8D4E3",
             "startlinecolor": "#2a3f5f"
            },
            "baxis": {
             "endlinecolor": "#2a3f5f",
             "gridcolor": "#C8D4E3",
             "linecolor": "#C8D4E3",
             "minorgridcolor": "#C8D4E3",
             "startlinecolor": "#2a3f5f"
            },
            "type": "carpet"
           }
          ],
          "choropleth": [
           {
            "colorbar": {
             "outlinewidth": 0,
             "ticks": ""
            },
            "type": "choropleth"
           }
          ],
          "contour": [
           {
            "colorbar": {
             "outlinewidth": 0,
             "ticks": ""
            },
            "colorscale": [
             [
              0,
              "#0d0887"
             ],
             [
              0.1111111111111111,
              "#46039f"
             ],
             [
              0.2222222222222222,
              "#7201a8"
             ],
             [
              0.3333333333333333,
              "#9c179e"
             ],
             [
              0.4444444444444444,
              "#bd3786"
             ],
             [
              0.5555555555555556,
              "#d8576b"
             ],
             [
              0.6666666666666666,
              "#ed7953"
             ],
             [
              0.7777777777777778,
              "#fb9f3a"
             ],
             [
              0.8888888888888888,
              "#fdca26"
             ],
             [
              1,
              "#f0f921"
             ]
            ],
            "type": "contour"
           }
          ],
          "contourcarpet": [
           {
            "colorbar": {
             "outlinewidth": 0,
             "ticks": ""
            },
            "type": "contourcarpet"
           }
          ],
          "heatmap": [
           {
            "colorbar": {
             "outlinewidth": 0,
             "ticks": ""
            },
            "colorscale": [
             [
              0,
              "#0d0887"
             ],
             [
              0.1111111111111111,
              "#46039f"
             ],
             [
              0.2222222222222222,
              "#7201a8"
             ],
             [
              0.3333333333333333,
              "#9c179e"
             ],
             [
              0.4444444444444444,
              "#bd3786"
             ],
             [
              0.5555555555555556,
              "#d8576b"
             ],
             [
              0.6666666666666666,
              "#ed7953"
             ],
             [
              0.7777777777777778,
              "#fb9f3a"
             ],
             [
              0.8888888888888888,
              "#fdca26"
             ],
             [
              1,
              "#f0f921"
             ]
            ],
            "type": "heatmap"
           }
          ],
          "histogram": [
           {
            "marker": {
             "pattern": {
              "fillmode": "overlay",
              "size": 10,
              "solidity": 0.2
             }
            },
            "type": "histogram"
           }
          ],
          "histogram2d": [
           {
            "colorbar": {
             "outlinewidth": 0,
             "ticks": ""
            },
            "colorscale": [
             [
              0,
              "#0d0887"
             ],
             [
              0.1111111111111111,
              "#46039f"
             ],
             [
              0.2222222222222222,
              "#7201a8"
             ],
             [
              0.3333333333333333,
              "#9c179e"
             ],
             [
              0.4444444444444444,
              "#bd3786"
             ],
             [
              0.5555555555555556,
              "#d8576b"
             ],
             [
              0.6666666666666666,
              "#ed7953"
             ],
             [
              0.7777777777777778,
              "#fb9f3a"
             ],
             [
              0.8888888888888888,
              "#fdca26"
             ],
             [
              1,
              "#f0f921"
             ]
            ],
            "type": "histogram2d"
           }
          ],
          "histogram2dcontour": [
           {
            "colorbar": {
             "outlinewidth": 0,
             "ticks": ""
            },
            "colorscale": [
             [
              0,
              "#0d0887"
             ],
             [
              0.1111111111111111,
              "#46039f"
             ],
             [
              0.2222222222222222,
              "#7201a8"
             ],
             [
              0.3333333333333333,
              "#9c179e"
             ],
             [
              0.4444444444444444,
              "#bd3786"
             ],
             [
              0.5555555555555556,
              "#d8576b"
             ],
             [
              0.6666666666666666,
              "#ed7953"
             ],
             [
              0.7777777777777778,
              "#fb9f3a"
             ],
             [
              0.8888888888888888,
              "#fdca26"
             ],
             [
              1,
              "#f0f921"
             ]
            ],
            "type": "histogram2dcontour"
           }
          ],
          "mesh3d": [
           {
            "colorbar": {
             "outlinewidth": 0,
             "ticks": ""
            },
            "type": "mesh3d"
           }
          ],
          "parcoords": [
           {
            "line": {
             "colorbar": {
              "outlinewidth": 0,
              "ticks": ""
             }
            },
            "type": "parcoords"
           }
          ],
          "pie": [
           {
            "automargin": true,
            "type": "pie"
           }
          ],
          "scatter": [
           {
            "fillpattern": {
             "fillmode": "overlay",
             "size": 10,
             "solidity": 0.2
            },
            "type": "scatter"
           }
          ],
          "scatter3d": [
           {
            "line": {
             "colorbar": {
              "outlinewidth": 0,
              "ticks": ""
             }
            },
            "marker": {
             "colorbar": {
              "outlinewidth": 0,
              "ticks": ""
             }
            },
            "type": "scatter3d"
           }
          ],
          "scattercarpet": [
           {
            "marker": {
             "colorbar": {
              "outlinewidth": 0,
              "ticks": ""
             }
            },
            "type": "scattercarpet"
           }
          ],
          "scattergeo": [
           {
            "marker": {
             "colorbar": {
              "outlinewidth": 0,
              "ticks": ""
             }
            },
            "type": "scattergeo"
           }
          ],
          "scattergl": [
           {
            "marker": {
             "colorbar": {
              "outlinewidth": 0,
              "ticks": ""
             }
            },
            "type": "scattergl"
           }
          ],
          "scattermap": [
           {
            "marker": {
             "colorbar": {
              "outlinewidth": 0,
              "ticks": ""
             }
            },
            "type": "scattermap"
           }
          ],
          "scattermapbox": [
           {
            "marker": {
             "colorbar": {
              "outlinewidth": 0,
              "ticks": ""
             }
            },
            "type": "scattermapbox"
           }
          ],
          "scatterpolar": [
           {
            "marker": {
             "colorbar": {
              "outlinewidth": 0,
              "ticks": ""
             }
            },
            "type": "scatterpolar"
           }
          ],
          "scatterpolargl": [
           {
            "marker": {
             "colorbar": {
              "outlinewidth": 0,
              "ticks": ""
             }
            },
            "type": "scatterpolargl"
           }
          ],
          "scatterternary": [
           {
            "marker": {
             "colorbar": {
              "outlinewidth": 0,
              "ticks": ""
             }
            },
            "type": "scatterternary"
           }
          ],
          "surface": [
           {
            "colorbar": {
             "outlinewidth": 0,
             "ticks": ""
            },
            "colorscale": [
             [
              0,
              "#0d0887"
             ],
             [
              0.1111111111111111,
              "#46039f"
             ],
             [
              0.2222222222222222,
              "#7201a8"
             ],
             [
              0.3333333333333333,
              "#9c179e"
             ],
             [
              0.4444444444444444,
              "#bd3786"
             ],
             [
              0.5555555555555556,
              "#d8576b"
             ],
             [
              0.6666666666666666,
              "#ed7953"
             ],
             [
              0.7777777777777778,
              "#fb9f3a"
             ],
             [
              0.8888888888888888,
              "#fdca26"
             ],
             [
              1,
              "#f0f921"
             ]
            ],
            "type": "surface"
           }
          ],
          "table": [
           {
            "cells": {
             "fill": {
              "color": "#EBF0F8"
             },
             "line": {
              "color": "white"
             }
            },
            "header": {
             "fill": {
              "color": "#C8D4E3"
             },
             "line": {
              "color": "white"
             }
            },
            "type": "table"
           }
          ]
         },
         "layout": {
          "annotationdefaults": {
           "arrowcolor": "#2a3f5f",
           "arrowhead": 0,
           "arrowwidth": 1
          },
          "autotypenumbers": "strict",
          "coloraxis": {
           "colorbar": {
            "outlinewidth": 0,
            "ticks": ""
           }
          },
          "colorscale": {
           "diverging": [
            [
             0,
             "#8e0152"
            ],
            [
             0.1,
             "#c51b7d"
            ],
            [
             0.2,
             "#de77ae"
            ],
            [
             0.3,
             "#f1b6da"
            ],
            [
             0.4,
             "#fde0ef"
            ],
            [
             0.5,
             "#f7f7f7"
            ],
            [
             0.6,
             "#e6f5d0"
            ],
            [
             0.7,
             "#b8e186"
            ],
            [
             0.8,
             "#7fbc41"
            ],
            [
             0.9,
             "#4d9221"
            ],
            [
             1,
             "#276419"
            ]
           ],
           "sequential": [
            [
             0,
             "#0d0887"
            ],
            [
             0.1111111111111111,
             "#46039f"
            ],
            [
             0.2222222222222222,
             "#7201a8"
            ],
            [
             0.3333333333333333,
             "#9c179e"
            ],
            [
             0.4444444444444444,
             "#bd3786"
            ],
            [
             0.5555555555555556,
             "#d8576b"
            ],
            [
             0.6666666666666666,
             "#ed7953"
            ],
            [
             0.7777777777777778,
             "#fb9f3a"
            ],
            [
             0.8888888888888888,
             "#fdca26"
            ],
            [
             1,
             "#f0f921"
            ]
           ],
           "sequentialminus": [
            [
             0,
             "#0d0887"
            ],
            [
             0.1111111111111111,
             "#46039f"
            ],
            [
             0.2222222222222222,
             "#7201a8"
            ],
            [
             0.3333333333333333,
             "#9c179e"
            ],
            [
             0.4444444444444444,
             "#bd3786"
            ],
            [
             0.5555555555555556,
             "#d8576b"
            ],
            [
             0.6666666666666666,
             "#ed7953"
            ],
            [
             0.7777777777777778,
             "#fb9f3a"
            ],
            [
             0.8888888888888888,
             "#fdca26"
            ],
            [
             1,
             "#f0f921"
            ]
           ]
          },
          "colorway": [
           "#636efa",
           "#EF553B",
           "#00cc96",
           "#ab63fa",
           "#FFA15A",
           "#19d3f3",
           "#FF6692",
           "#B6E880",
           "#FF97FF",
           "#FECB52"
          ],
          "font": {
           "color": "#2a3f5f"
          },
          "geo": {
           "bgcolor": "white",
           "lakecolor": "white",
           "landcolor": "white",
           "showlakes": true,
           "showland": true,
           "subunitcolor": "#C8D4E3"
          },
          "hoverlabel": {
           "align": "left"
          },
          "hovermode": "closest",
          "mapbox": {
           "style": "light"
          },
          "paper_bgcolor": "white",
          "plot_bgcolor": "white",
          "polar": {
           "angularaxis": {
            "gridcolor": "#EBF0F8",
            "linecolor": "#EBF0F8",
            "ticks": ""
           },
           "bgcolor": "white",
           "radialaxis": {
            "gridcolor": "#EBF0F8",
            "linecolor": "#EBF0F8",
            "ticks": ""
           }
          },
          "scene": {
           "xaxis": {
            "backgroundcolor": "white",
            "gridcolor": "#DFE8F3",
            "gridwidth": 2,
            "linecolor": "#EBF0F8",
            "showbackground": true,
            "ticks": "",
            "zerolinecolor": "#EBF0F8"
           },
           "yaxis": {
            "backgroundcolor": "white",
            "gridcolor": "#DFE8F3",
            "gridwidth": 2,
            "linecolor": "#EBF0F8",
            "showbackground": true,
            "ticks": "",
            "zerolinecolor": "#EBF0F8"
           },
           "zaxis": {
            "backgroundcolor": "white",
            "gridcolor": "#DFE8F3",
            "gridwidth": 2,
            "linecolor": "#EBF0F8",
            "showbackground": true,
            "ticks": "",
            "zerolinecolor": "#EBF0F8"
           }
          },
          "shapedefaults": {
           "line": {
            "color": "#2a3f5f"
           }
          },
          "ternary": {
           "aaxis": {
            "gridcolor": "#DFE8F3",
            "linecolor": "#A2B1C6",
            "ticks": ""
           },
           "baxis": {
            "gridcolor": "#DFE8F3",
            "linecolor": "#A2B1C6",
            "ticks": ""
           },
           "bgcolor": "white",
           "caxis": {
            "gridcolor": "#DFE8F3",
            "linecolor": "#A2B1C6",
            "ticks": ""
           }
          },
          "title": {
           "x": 0.05
          },
          "xaxis": {
           "automargin": true,
           "gridcolor": "#EBF0F8",
           "linecolor": "#EBF0F8",
           "ticks": "",
           "title": {
            "standoff": 15
           },
           "zerolinecolor": "#EBF0F8",
           "zerolinewidth": 2
          },
          "yaxis": {
           "automargin": true,
           "gridcolor": "#EBF0F8",
           "linecolor": "#EBF0F8",
           "ticks": "",
           "title": {
            "standoff": 15
           },
           "zerolinecolor": "#EBF0F8",
           "zerolinewidth": 2
          }
         }
        },
        "title": {
         "font": {
          "color": "#2E2E2E",
          "size": 18
         },
         "text": "Model Performance Comparison Across Runs - F1-Score",
         "x": 0.5
        },
        "width": 1200,
        "xaxis": {
         "anchor": "y",
         "domain": [
          0,
          0.45
         ]
        },
        "xaxis2": {
         "anchor": "y2",
         "domain": [
          0.55,
          1
         ]
        },
        "yaxis": {
         "anchor": "x",
         "domain": [
          0,
          1
         ]
        },
        "yaxis2": {
         "anchor": "x2",
         "domain": [
          0,
          1
         ],
         "matches": "y",
         "showticklabels": false
        }
       }
      }
     },
     "metadata": {},
     "output_type": "display_data"
    },
    {
     "name": "stdout",
     "output_type": "stream",
     "text": [
      "📈 2. Model Performance Comparison\n"
     ]
    },
    {
     "data": {
      "application/vnd.plotly.v1+json": {
       "config": {
        "plotlyServerURL": "https://plot.ly"
       },
       "data": [
        {
         "error_y": {
          "array": {
           "bdata": "V1uxv+yevD+zDHGsi9vAP+qVsgxxrMM/MCqpE9BEmD8=",
           "dtype": "f8"
          },
          "type": "data",
          "visible": true
         },
         "marker": {
          "color": "#FF6B6B"
         },
         "name": "Precision",
         "text": {
          "bdata": "WDm0yHa+1z+JQWDl0CLTP99PjZduEtM/TmIQWDm0yD8=",
          "dtype": "f8"
         },
         "textposition": "auto",
         "type": "bar",
         "width": 0.6,
         "x": [
          "gemma3:12b",
          "mistral:latest",
          "gemma3:4b",
          "gemma3:1b"
         ],
         "y": {
          "bdata": "HOviNhrA1z9N845TdCTTP99PjZduEtM/1sVtNIC3yD8=",
          "dtype": "f8"
         }
        },
        {
         "error_y": {
          "array": {
           "bdata": "F0hQ/Bhzlz9N845TdCS3PxsN4C2QoKg/rthfdk8elj8=",
           "dtype": "f8"
          },
          "type": "data",
          "visible": true
         },
         "marker": {
          "color": "#4ECDC4"
         },
         "name": "Recall",
         "text": {
          "bdata": "+FPjpZvE2D8rhxbZzvfDP+Olm8QgsMI/4XoUrkfhuj8=",
          "dtype": "f8"
         },
         "textposition": "auto",
         "type": "bar",
         "width": 0.6,
         "x": [
          "gemma3:12b",
          "mistral:latest",
          "gemma3:4b",
          "gemma3:1b"
         ],
         "y": {
          "bdata": "b/CFyVTB2D8J+aBns+rDPzm0yHa+n8I/0LNZ9bnauj8=",
          "dtype": "f8"
         }
        },
        {
         "error_y": {
          "array": {
           "bdata": "UI2XbhKDsD8YldQJaCK8P8ZtNIC3QLI/hJ7Nqs/Vlj8=",
           "dtype": "f8"
          },
          "type": "data",
          "visible": true
         },
         "marker": {
          "color": "#45B7D1"
         },
         "name": "F1-Score",
         "text": {
          "bdata": "rBxaZDvf1z/y0k1iEFjJP6abxCCwcsg/SOF6FK5HwT8=",
          "dtype": "f8"
         },
         "textposition": "auto",
         "type": "bar",
         "width": 0.6,
         "x": [
          "gemma3:12b",
          "mistral:latest",
          "gemma3:4b",
          "gemma3:1b"
         ],
         "y": {
          "bdata": "cM6I0t7g1z9I4XoUrkfJPz/G3LWEfMg/0ETY8PRKwT8=",
          "dtype": "f8"
         }
        }
       ],
       "layout": {
        "barmode": "group",
        "height": 500,
        "template": {
         "data": {
          "bar": [
           {
            "error_x": {
             "color": "#2a3f5f"
            },
            "error_y": {
             "color": "#2a3f5f"
            },
            "marker": {
             "line": {
              "color": "white",
              "width": 0.5
             },
             "pattern": {
              "fillmode": "overlay",
              "size": 10,
              "solidity": 0.2
             }
            },
            "type": "bar"
           }
          ],
          "barpolar": [
           {
            "marker": {
             "line": {
              "color": "white",
              "width": 0.5
             },
             "pattern": {
              "fillmode": "overlay",
              "size": 10,
              "solidity": 0.2
             }
            },
            "type": "barpolar"
           }
          ],
          "carpet": [
           {
            "aaxis": {
             "endlinecolor": "#2a3f5f",
             "gridcolor": "#C8D4E3",
             "linecolor": "#C8D4E3",
             "minorgridcolor": "#C8D4E3",
             "startlinecolor": "#2a3f5f"
            },
            "baxis": {
             "endlinecolor": "#2a3f5f",
             "gridcolor": "#C8D4E3",
             "linecolor": "#C8D4E3",
             "minorgridcolor": "#C8D4E3",
             "startlinecolor": "#2a3f5f"
            },
            "type": "carpet"
           }
          ],
          "choropleth": [
           {
            "colorbar": {
             "outlinewidth": 0,
             "ticks": ""
            },
            "type": "choropleth"
           }
          ],
          "contour": [
           {
            "colorbar": {
             "outlinewidth": 0,
             "ticks": ""
            },
            "colorscale": [
             [
              0,
              "#0d0887"
             ],
             [
              0.1111111111111111,
              "#46039f"
             ],
             [
              0.2222222222222222,
              "#7201a8"
             ],
             [
              0.3333333333333333,
              "#9c179e"
             ],
             [
              0.4444444444444444,
              "#bd3786"
             ],
             [
              0.5555555555555556,
              "#d8576b"
             ],
             [
              0.6666666666666666,
              "#ed7953"
             ],
             [
              0.7777777777777778,
              "#fb9f3a"
             ],
             [
              0.8888888888888888,
              "#fdca26"
             ],
             [
              1,
              "#f0f921"
             ]
            ],
            "type": "contour"
           }
          ],
          "contourcarpet": [
           {
            "colorbar": {
             "outlinewidth": 0,
             "ticks": ""
            },
            "type": "contourcarpet"
           }
          ],
          "heatmap": [
           {
            "colorbar": {
             "outlinewidth": 0,
             "ticks": ""
            },
            "colorscale": [
             [
              0,
              "#0d0887"
             ],
             [
              0.1111111111111111,
              "#46039f"
             ],
             [
              0.2222222222222222,
              "#7201a8"
             ],
             [
              0.3333333333333333,
              "#9c179e"
             ],
             [
              0.4444444444444444,
              "#bd3786"
             ],
             [
              0.5555555555555556,
              "#d8576b"
             ],
             [
              0.6666666666666666,
              "#ed7953"
             ],
             [
              0.7777777777777778,
              "#fb9f3a"
             ],
             [
              0.8888888888888888,
              "#fdca26"
             ],
             [
              1,
              "#f0f921"
             ]
            ],
            "type": "heatmap"
           }
          ],
          "histogram": [
           {
            "marker": {
             "pattern": {
              "fillmode": "overlay",
              "size": 10,
              "solidity": 0.2
             }
            },
            "type": "histogram"
           }
          ],
          "histogram2d": [
           {
            "colorbar": {
             "outlinewidth": 0,
             "ticks": ""
            },
            "colorscale": [
             [
              0,
              "#0d0887"
             ],
             [
              0.1111111111111111,
              "#46039f"
             ],
             [
              0.2222222222222222,
              "#7201a8"
             ],
             [
              0.3333333333333333,
              "#9c179e"
             ],
             [
              0.4444444444444444,
              "#bd3786"
             ],
             [
              0.5555555555555556,
              "#d8576b"
             ],
             [
              0.6666666666666666,
              "#ed7953"
             ],
             [
              0.7777777777777778,
              "#fb9f3a"
             ],
             [
              0.8888888888888888,
              "#fdca26"
             ],
             [
              1,
              "#f0f921"
             ]
            ],
            "type": "histogram2d"
           }
          ],
          "histogram2dcontour": [
           {
            "colorbar": {
             "outlinewidth": 0,
             "ticks": ""
            },
            "colorscale": [
             [
              0,
              "#0d0887"
             ],
             [
              0.1111111111111111,
              "#46039f"
             ],
             [
              0.2222222222222222,
              "#7201a8"
             ],
             [
              0.3333333333333333,
              "#9c179e"
             ],
             [
              0.4444444444444444,
              "#bd3786"
             ],
             [
              0.5555555555555556,
              "#d8576b"
             ],
             [
              0.6666666666666666,
              "#ed7953"
             ],
             [
              0.7777777777777778,
              "#fb9f3a"
             ],
             [
              0.8888888888888888,
              "#fdca26"
             ],
             [
              1,
              "#f0f921"
             ]
            ],
            "type": "histogram2dcontour"
           }
          ],
          "mesh3d": [
           {
            "colorbar": {
             "outlinewidth": 0,
             "ticks": ""
            },
            "type": "mesh3d"
           }
          ],
          "parcoords": [
           {
            "line": {
             "colorbar": {
              "outlinewidth": 0,
              "ticks": ""
             }
            },
            "type": "parcoords"
           }
          ],
          "pie": [
           {
            "automargin": true,
            "type": "pie"
           }
          ],
          "scatter": [
           {
            "fillpattern": {
             "fillmode": "overlay",
             "size": 10,
             "solidity": 0.2
            },
            "type": "scatter"
           }
          ],
          "scatter3d": [
           {
            "line": {
             "colorbar": {
              "outlinewidth": 0,
              "ticks": ""
             }
            },
            "marker": {
             "colorbar": {
              "outlinewidth": 0,
              "ticks": ""
             }
            },
            "type": "scatter3d"
           }
          ],
          "scattercarpet": [
           {
            "marker": {
             "colorbar": {
              "outlinewidth": 0,
              "ticks": ""
             }
            },
            "type": "scattercarpet"
           }
          ],
          "scattergeo": [
           {
            "marker": {
             "colorbar": {
              "outlinewidth": 0,
              "ticks": ""
             }
            },
            "type": "scattergeo"
           }
          ],
          "scattergl": [
           {
            "marker": {
             "colorbar": {
              "outlinewidth": 0,
              "ticks": ""
             }
            },
            "type": "scattergl"
           }
          ],
          "scattermap": [
           {
            "marker": {
             "colorbar": {
              "outlinewidth": 0,
              "ticks": ""
             }
            },
            "type": "scattermap"
           }
          ],
          "scattermapbox": [
           {
            "marker": {
             "colorbar": {
              "outlinewidth": 0,
              "ticks": ""
             }
            },
            "type": "scattermapbox"
           }
          ],
          "scatterpolar": [
           {
            "marker": {
             "colorbar": {
              "outlinewidth": 0,
              "ticks": ""
             }
            },
            "type": "scatterpolar"
           }
          ],
          "scatterpolargl": [
           {
            "marker": {
             "colorbar": {
              "outlinewidth": 0,
              "ticks": ""
             }
            },
            "type": "scatterpolargl"
           }
          ],
          "scatterternary": [
           {
            "marker": {
             "colorbar": {
              "outlinewidth": 0,
              "ticks": ""
             }
            },
            "type": "scatterternary"
           }
          ],
          "surface": [
           {
            "colorbar": {
             "outlinewidth": 0,
             "ticks": ""
            },
            "colorscale": [
             [
              0,
              "#0d0887"
             ],
             [
              0.1111111111111111,
              "#46039f"
             ],
             [
              0.2222222222222222,
              "#7201a8"
             ],
             [
              0.3333333333333333,
              "#9c179e"
             ],
             [
              0.4444444444444444,
              "#bd3786"
             ],
             [
              0.5555555555555556,
              "#d8576b"
             ],
             [
              0.6666666666666666,
              "#ed7953"
             ],
             [
              0.7777777777777778,
              "#fb9f3a"
             ],
             [
              0.8888888888888888,
              "#fdca26"
             ],
             [
              1,
              "#f0f921"
             ]
            ],
            "type": "surface"
           }
          ],
          "table": [
           {
            "cells": {
             "fill": {
              "color": "#EBF0F8"
             },
             "line": {
              "color": "white"
             }
            },
            "header": {
             "fill": {
              "color": "#C8D4E3"
             },
             "line": {
              "color": "white"
             }
            },
            "type": "table"
           }
          ]
         },
         "layout": {
          "annotationdefaults": {
           "arrowcolor": "#2a3f5f",
           "arrowhead": 0,
           "arrowwidth": 1
          },
          "autotypenumbers": "strict",
          "coloraxis": {
           "colorbar": {
            "outlinewidth": 0,
            "ticks": ""
           }
          },
          "colorscale": {
           "diverging": [
            [
             0,
             "#8e0152"
            ],
            [
             0.1,
             "#c51b7d"
            ],
            [
             0.2,
             "#de77ae"
            ],
            [
             0.3,
             "#f1b6da"
            ],
            [
             0.4,
             "#fde0ef"
            ],
            [
             0.5,
             "#f7f7f7"
            ],
            [
             0.6,
             "#e6f5d0"
            ],
            [
             0.7,
             "#b8e186"
            ],
            [
             0.8,
             "#7fbc41"
            ],
            [
             0.9,
             "#4d9221"
            ],
            [
             1,
             "#276419"
            ]
           ],
           "sequential": [
            [
             0,
             "#0d0887"
            ],
            [
             0.1111111111111111,
             "#46039f"
            ],
            [
             0.2222222222222222,
             "#7201a8"
            ],
            [
             0.3333333333333333,
             "#9c179e"
            ],
            [
             0.4444444444444444,
             "#bd3786"
            ],
            [
             0.5555555555555556,
             "#d8576b"
            ],
            [
             0.6666666666666666,
             "#ed7953"
            ],
            [
             0.7777777777777778,
             "#fb9f3a"
            ],
            [
             0.8888888888888888,
             "#fdca26"
            ],
            [
             1,
             "#f0f921"
            ]
           ],
           "sequentialminus": [
            [
             0,
             "#0d0887"
            ],
            [
             0.1111111111111111,
             "#46039f"
            ],
            [
             0.2222222222222222,
             "#7201a8"
            ],
            [
             0.3333333333333333,
             "#9c179e"
            ],
            [
             0.4444444444444444,
             "#bd3786"
            ],
            [
             0.5555555555555556,
             "#d8576b"
            ],
            [
             0.6666666666666666,
             "#ed7953"
            ],
            [
             0.7777777777777778,
             "#fb9f3a"
            ],
            [
             0.8888888888888888,
             "#fdca26"
            ],
            [
             1,
             "#f0f921"
            ]
           ]
          },
          "colorway": [
           "#636efa",
           "#EF553B",
           "#00cc96",
           "#ab63fa",
           "#FFA15A",
           "#19d3f3",
           "#FF6692",
           "#B6E880",
           "#FF97FF",
           "#FECB52"
          ],
          "font": {
           "color": "#2a3f5f"
          },
          "geo": {
           "bgcolor": "white",
           "lakecolor": "white",
           "landcolor": "white",
           "showlakes": true,
           "showland": true,
           "subunitcolor": "#C8D4E3"
          },
          "hoverlabel": {
           "align": "left"
          },
          "hovermode": "closest",
          "mapbox": {
           "style": "light"
          },
          "paper_bgcolor": "white",
          "plot_bgcolor": "white",
          "polar": {
           "angularaxis": {
            "gridcolor": "#EBF0F8",
            "linecolor": "#EBF0F8",
            "ticks": ""
           },
           "bgcolor": "white",
           "radialaxis": {
            "gridcolor": "#EBF0F8",
            "linecolor": "#EBF0F8",
            "ticks": ""
           }
          },
          "scene": {
           "xaxis": {
            "backgroundcolor": "white",
            "gridcolor": "#DFE8F3",
            "gridwidth": 2,
            "linecolor": "#EBF0F8",
            "showbackground": true,
            "ticks": "",
            "zerolinecolor": "#EBF0F8"
           },
           "yaxis": {
            "backgroundcolor": "white",
            "gridcolor": "#DFE8F3",
            "gridwidth": 2,
            "linecolor": "#EBF0F8",
            "showbackground": true,
            "ticks": "",
            "zerolinecolor": "#EBF0F8"
           },
           "zaxis": {
            "backgroundcolor": "white",
            "gridcolor": "#DFE8F3",
            "gridwidth": 2,
            "linecolor": "#EBF0F8",
            "showbackground": true,
            "ticks": "",
            "zerolinecolor": "#EBF0F8"
           }
          },
          "shapedefaults": {
           "line": {
            "color": "#2a3f5f"
           }
          },
          "ternary": {
           "aaxis": {
            "gridcolor": "#DFE8F3",
            "linecolor": "#A2B1C6",
            "ticks": ""
           },
           "baxis": {
            "gridcolor": "#DFE8F3",
            "linecolor": "#A2B1C6",
            "ticks": ""
           },
           "bgcolor": "white",
           "caxis": {
            "gridcolor": "#DFE8F3",
            "linecolor": "#A2B1C6",
            "ticks": ""
           }
          },
          "title": {
           "x": 0.05
          },
          "xaxis": {
           "automargin": true,
           "gridcolor": "#EBF0F8",
           "linecolor": "#EBF0F8",
           "ticks": "",
           "title": {
            "standoff": 15
           },
           "zerolinecolor": "#EBF0F8",
           "zerolinewidth": 2
          },
          "yaxis": {
           "automargin": true,
           "gridcolor": "#EBF0F8",
           "linecolor": "#EBF0F8",
           "ticks": "",
           "title": {
            "standoff": 15
           },
           "zerolinecolor": "#EBF0F8",
           "zerolinewidth": 2
          }
         }
        },
        "title": {
         "font": {
          "color": "#2E2E2E",
          "size": 18
         },
         "text": "Model Performance Comparison (Average across 2 runs)",
         "x": 0.5
        },
        "xaxis": {
         "tickangle": 45,
         "title": {
          "text": "Models"
         }
        },
        "yaxis": {
         "range": [
          0,
          1
         ],
         "title": {
          "text": "Score"
         }
        }
       }
      }
     },
     "metadata": {},
     "output_type": "display_data"
    },
    {
     "name": "stdout",
     "output_type": "stream",
     "text": [
      "📋 3. Document Difficulty Ranking\n"
     ]
    },
    {
     "data": {
      "application/vnd.plotly.v1+json": {
       "config": {
        "plotlyServerURL": "https://plot.ly"
       },
       "data": [
        {
         "customdata": {
          "bdata": "f2q8dJMYzD/+1HjpJjHIPwAAAAAAACBAeHqlLEMc1z8HX5hMFYzKPwAAAAAAACBA",
          "dtype": "f8",
          "shape": "2, 3"
         },
         "error_x": {
          "array": {
           "bdata": "ofgx5q4ltD8g0m9fB87BPw==",
           "dtype": "f8"
          },
          "type": "data",
          "visible": true
         },
         "hovertemplate": "<b>%{y}</b><br>F1-Score: %{x:.3f}<br>Precision: %{customdata[0]:.3f}<br>Recall: %{customdata[1]:.3f}<br>Data Points: %{customdata[2]}<extra></extra>",
         "marker": {
          "cmax": 1,
          "cmin": 0,
          "color": {
           "bdata": "w9MrZRniyD9seHqlLEPQPw==",
           "dtype": "f8"
          },
          "colorbar": {
           "title": {
            "text": "Average F1-Score"
           }
          },
          "colorscale": [
           [
            0,
            "rgb(165,0,38)"
           ],
           [
            0.1,
            "rgb(215,48,39)"
           ],
           [
            0.2,
            "rgb(244,109,67)"
           ],
           [
            0.3,
            "rgb(253,174,97)"
           ],
           [
            0.4,
            "rgb(254,224,139)"
           ],
           [
            0.5,
            "rgb(255,255,191)"
           ],
           [
            0.6,
            "rgb(217,239,139)"
           ],
           [
            0.7,
            "rgb(166,217,106)"
           ],
           [
            0.8,
            "rgb(102,189,99)"
           ],
           [
            0.9,
            "rgb(26,152,80)"
           ],
           [
            1,
            "rgb(0,104,55)"
           ]
          ]
         },
         "orientation": "h",
         "text": {
          "bdata": "okW28/3UyD+oxks3iUHQPw==",
          "dtype": "f8"
         },
         "textposition": "auto",
         "type": "bar",
         "width": 0.6,
         "x": {
          "bdata": "w9MrZRniyD9seHqlLEPQPw==",
          "dtype": "f8"
         },
         "y": [
          "BELYAYEV AND OTHERS v. UKRAINE",
          "ALTAY v. TURKEY (No. 2)"
         ]
        }
       ],
       "layout": {
        "height": 400,
        "template": {
         "data": {
          "bar": [
           {
            "error_x": {
             "color": "#2a3f5f"
            },
            "error_y": {
             "color": "#2a3f5f"
            },
            "marker": {
             "line": {
              "color": "white",
              "width": 0.5
             },
             "pattern": {
              "fillmode": "overlay",
              "size": 10,
              "solidity": 0.2
             }
            },
            "type": "bar"
           }
          ],
          "barpolar": [
           {
            "marker": {
             "line": {
              "color": "white",
              "width": 0.5
             },
             "pattern": {
              "fillmode": "overlay",
              "size": 10,
              "solidity": 0.2
             }
            },
            "type": "barpolar"
           }
          ],
          "carpet": [
           {
            "aaxis": {
             "endlinecolor": "#2a3f5f",
             "gridcolor": "#C8D4E3",
             "linecolor": "#C8D4E3",
             "minorgridcolor": "#C8D4E3",
             "startlinecolor": "#2a3f5f"
            },
            "baxis": {
             "endlinecolor": "#2a3f5f",
             "gridcolor": "#C8D4E3",
             "linecolor": "#C8D4E3",
             "minorgridcolor": "#C8D4E3",
             "startlinecolor": "#2a3f5f"
            },
            "type": "carpet"
           }
          ],
          "choropleth": [
           {
            "colorbar": {
             "outlinewidth": 0,
             "ticks": ""
            },
            "type": "choropleth"
           }
          ],
          "contour": [
           {
            "colorbar": {
             "outlinewidth": 0,
             "ticks": ""
            },
            "colorscale": [
             [
              0,
              "#0d0887"
             ],
             [
              0.1111111111111111,
              "#46039f"
             ],
             [
              0.2222222222222222,
              "#7201a8"
             ],
             [
              0.3333333333333333,
              "#9c179e"
             ],
             [
              0.4444444444444444,
              "#bd3786"
             ],
             [
              0.5555555555555556,
              "#d8576b"
             ],
             [
              0.6666666666666666,
              "#ed7953"
             ],
             [
              0.7777777777777778,
              "#fb9f3a"
             ],
             [
              0.8888888888888888,
              "#fdca26"
             ],
             [
              1,
              "#f0f921"
             ]
            ],
            "type": "contour"
           }
          ],
          "contourcarpet": [
           {
            "colorbar": {
             "outlinewidth": 0,
             "ticks": ""
            },
            "type": "contourcarpet"
           }
          ],
          "heatmap": [
           {
            "colorbar": {
             "outlinewidth": 0,
             "ticks": ""
            },
            "colorscale": [
             [
              0,
              "#0d0887"
             ],
             [
              0.1111111111111111,
              "#46039f"
             ],
             [
              0.2222222222222222,
              "#7201a8"
             ],
             [
              0.3333333333333333,
              "#9c179e"
             ],
             [
              0.4444444444444444,
              "#bd3786"
             ],
             [
              0.5555555555555556,
              "#d8576b"
             ],
             [
              0.6666666666666666,
              "#ed7953"
             ],
             [
              0.7777777777777778,
              "#fb9f3a"
             ],
             [
              0.8888888888888888,
              "#fdca26"
             ],
             [
              1,
              "#f0f921"
             ]
            ],
            "type": "heatmap"
           }
          ],
          "histogram": [
           {
            "marker": {
             "pattern": {
              "fillmode": "overlay",
              "size": 10,
              "solidity": 0.2
             }
            },
            "type": "histogram"
           }
          ],
          "histogram2d": [
           {
            "colorbar": {
             "outlinewidth": 0,
             "ticks": ""
            },
            "colorscale": [
             [
              0,
              "#0d0887"
             ],
             [
              0.1111111111111111,
              "#46039f"
             ],
             [
              0.2222222222222222,
              "#7201a8"
             ],
             [
              0.3333333333333333,
              "#9c179e"
             ],
             [
              0.4444444444444444,
              "#bd3786"
             ],
             [
              0.5555555555555556,
              "#d8576b"
             ],
             [
              0.6666666666666666,
              "#ed7953"
             ],
             [
              0.7777777777777778,
              "#fb9f3a"
             ],
             [
              0.8888888888888888,
              "#fdca26"
             ],
             [
              1,
              "#f0f921"
             ]
            ],
            "type": "histogram2d"
           }
          ],
          "histogram2dcontour": [
           {
            "colorbar": {
             "outlinewidth": 0,
             "ticks": ""
            },
            "colorscale": [
             [
              0,
              "#0d0887"
             ],
             [
              0.1111111111111111,
              "#46039f"
             ],
             [
              0.2222222222222222,
              "#7201a8"
             ],
             [
              0.3333333333333333,
              "#9c179e"
             ],
             [
              0.4444444444444444,
              "#bd3786"
             ],
             [
              0.5555555555555556,
              "#d8576b"
             ],
             [
              0.6666666666666666,
              "#ed7953"
             ],
             [
              0.7777777777777778,
              "#fb9f3a"
             ],
             [
              0.8888888888888888,
              "#fdca26"
             ],
             [
              1,
              "#f0f921"
             ]
            ],
            "type": "histogram2dcontour"
           }
          ],
          "mesh3d": [
           {
            "colorbar": {
             "outlinewidth": 0,
             "ticks": ""
            },
            "type": "mesh3d"
           }
          ],
          "parcoords": [
           {
            "line": {
             "colorbar": {
              "outlinewidth": 0,
              "ticks": ""
             }
            },
            "type": "parcoords"
           }
          ],
          "pie": [
           {
            "automargin": true,
            "type": "pie"
           }
          ],
          "scatter": [
           {
            "fillpattern": {
             "fillmode": "overlay",
             "size": 10,
             "solidity": 0.2
            },
            "type": "scatter"
           }
          ],
          "scatter3d": [
           {
            "line": {
             "colorbar": {
              "outlinewidth": 0,
              "ticks": ""
             }
            },
            "marker": {
             "colorbar": {
              "outlinewidth": 0,
              "ticks": ""
             }
            },
            "type": "scatter3d"
           }
          ],
          "scattercarpet": [
           {
            "marker": {
             "colorbar": {
              "outlinewidth": 0,
              "ticks": ""
             }
            },
            "type": "scattercarpet"
           }
          ],
          "scattergeo": [
           {
            "marker": {
             "colorbar": {
              "outlinewidth": 0,
              "ticks": ""
             }
            },
            "type": "scattergeo"
           }
          ],
          "scattergl": [
           {
            "marker": {
             "colorbar": {
              "outlinewidth": 0,
              "ticks": ""
             }
            },
            "type": "scattergl"
           }
          ],
          "scattermap": [
           {
            "marker": {
             "colorbar": {
              "outlinewidth": 0,
              "ticks": ""
             }
            },
            "type": "scattermap"
           }
          ],
          "scattermapbox": [
           {
            "marker": {
             "colorbar": {
              "outlinewidth": 0,
              "ticks": ""
             }
            },
            "type": "scattermapbox"
           }
          ],
          "scatterpolar": [
           {
            "marker": {
             "colorbar": {
              "outlinewidth": 0,
              "ticks": ""
             }
            },
            "type": "scatterpolar"
           }
          ],
          "scatterpolargl": [
           {
            "marker": {
             "colorbar": {
              "outlinewidth": 0,
              "ticks": ""
             }
            },
            "type": "scatterpolargl"
           }
          ],
          "scatterternary": [
           {
            "marker": {
             "colorbar": {
              "outlinewidth": 0,
              "ticks": ""
             }
            },
            "type": "scatterternary"
           }
          ],
          "surface": [
           {
            "colorbar": {
             "outlinewidth": 0,
             "ticks": ""
            },
            "colorscale": [
             [
              0,
              "#0d0887"
             ],
             [
              0.1111111111111111,
              "#46039f"
             ],
             [
              0.2222222222222222,
              "#7201a8"
             ],
             [
              0.3333333333333333,
              "#9c179e"
             ],
             [
              0.4444444444444444,
              "#bd3786"
             ],
             [
              0.5555555555555556,
              "#d8576b"
             ],
             [
              0.6666666666666666,
              "#ed7953"
             ],
             [
              0.7777777777777778,
              "#fb9f3a"
             ],
             [
              0.8888888888888888,
              "#fdca26"
             ],
             [
              1,
              "#f0f921"
             ]
            ],
            "type": "surface"
           }
          ],
          "table": [
           {
            "cells": {
             "fill": {
              "color": "#EBF0F8"
             },
             "line": {
              "color": "white"
             }
            },
            "header": {
             "fill": {
              "color": "#C8D4E3"
             },
             "line": {
              "color": "white"
             }
            },
            "type": "table"
           }
          ]
         },
         "layout": {
          "annotationdefaults": {
           "arrowcolor": "#2a3f5f",
           "arrowhead": 0,
           "arrowwidth": 1
          },
          "autotypenumbers": "strict",
          "coloraxis": {
           "colorbar": {
            "outlinewidth": 0,
            "ticks": ""
           }
          },
          "colorscale": {
           "diverging": [
            [
             0,
             "#8e0152"
            ],
            [
             0.1,
             "#c51b7d"
            ],
            [
             0.2,
             "#de77ae"
            ],
            [
             0.3,
             "#f1b6da"
            ],
            [
             0.4,
             "#fde0ef"
            ],
            [
             0.5,
             "#f7f7f7"
            ],
            [
             0.6,
             "#e6f5d0"
            ],
            [
             0.7,
             "#b8e186"
            ],
            [
             0.8,
             "#7fbc41"
            ],
            [
             0.9,
             "#4d9221"
            ],
            [
             1,
             "#276419"
            ]
           ],
           "sequential": [
            [
             0,
             "#0d0887"
            ],
            [
             0.1111111111111111,
             "#46039f"
            ],
            [
             0.2222222222222222,
             "#7201a8"
            ],
            [
             0.3333333333333333,
             "#9c179e"
            ],
            [
             0.4444444444444444,
             "#bd3786"
            ],
            [
             0.5555555555555556,
             "#d8576b"
            ],
            [
             0.6666666666666666,
             "#ed7953"
            ],
            [
             0.7777777777777778,
             "#fb9f3a"
            ],
            [
             0.8888888888888888,
             "#fdca26"
            ],
            [
             1,
             "#f0f921"
            ]
           ],
           "sequentialminus": [
            [
             0,
             "#0d0887"
            ],
            [
             0.1111111111111111,
             "#46039f"
            ],
            [
             0.2222222222222222,
             "#7201a8"
            ],
            [
             0.3333333333333333,
             "#9c179e"
            ],
            [
             0.4444444444444444,
             "#bd3786"
            ],
            [
             0.5555555555555556,
             "#d8576b"
            ],
            [
             0.6666666666666666,
             "#ed7953"
            ],
            [
             0.7777777777777778,
             "#fb9f3a"
            ],
            [
             0.8888888888888888,
             "#fdca26"
            ],
            [
             1,
             "#f0f921"
            ]
           ]
          },
          "colorway": [
           "#636efa",
           "#EF553B",
           "#00cc96",
           "#ab63fa",
           "#FFA15A",
           "#19d3f3",
           "#FF6692",
           "#B6E880",
           "#FF97FF",
           "#FECB52"
          ],
          "font": {
           "color": "#2a3f5f"
          },
          "geo": {
           "bgcolor": "white",
           "lakecolor": "white",
           "landcolor": "white",
           "showlakes": true,
           "showland": true,
           "subunitcolor": "#C8D4E3"
          },
          "hoverlabel": {
           "align": "left"
          },
          "hovermode": "closest",
          "mapbox": {
           "style": "light"
          },
          "paper_bgcolor": "white",
          "plot_bgcolor": "white",
          "polar": {
           "angularaxis": {
            "gridcolor": "#EBF0F8",
            "linecolor": "#EBF0F8",
            "ticks": ""
           },
           "bgcolor": "white",
           "radialaxis": {
            "gridcolor": "#EBF0F8",
            "linecolor": "#EBF0F8",
            "ticks": ""
           }
          },
          "scene": {
           "xaxis": {
            "backgroundcolor": "white",
            "gridcolor": "#DFE8F3",
            "gridwidth": 2,
            "linecolor": "#EBF0F8",
            "showbackground": true,
            "ticks": "",
            "zerolinecolor": "#EBF0F8"
           },
           "yaxis": {
            "backgroundcolor": "white",
            "gridcolor": "#DFE8F3",
            "gridwidth": 2,
            "linecolor": "#EBF0F8",
            "showbackground": true,
            "ticks": "",
            "zerolinecolor": "#EBF0F8"
           },
           "zaxis": {
            "backgroundcolor": "white",
            "gridcolor": "#DFE8F3",
            "gridwidth": 2,
            "linecolor": "#EBF0F8",
            "showbackground": true,
            "ticks": "",
            "zerolinecolor": "#EBF0F8"
           }
          },
          "shapedefaults": {
           "line": {
            "color": "#2a3f5f"
           }
          },
          "ternary": {
           "aaxis": {
            "gridcolor": "#DFE8F3",
            "linecolor": "#A2B1C6",
            "ticks": ""
           },
           "baxis": {
            "gridcolor": "#DFE8F3",
            "linecolor": "#A2B1C6",
            "ticks": ""
           },
           "bgcolor": "white",
           "caxis": {
            "gridcolor": "#DFE8F3",
            "linecolor": "#A2B1C6",
            "ticks": ""
           }
          },
          "title": {
           "x": 0.05
          },
          "xaxis": {
           "automargin": true,
           "gridcolor": "#EBF0F8",
           "linecolor": "#EBF0F8",
           "ticks": "",
           "title": {
            "standoff": 15
           },
           "zerolinecolor": "#EBF0F8",
           "zerolinewidth": 2
          },
          "yaxis": {
           "automargin": true,
           "gridcolor": "#EBF0F8",
           "linecolor": "#EBF0F8",
           "ticks": "",
           "title": {
            "standoff": 15
           },
           "zerolinecolor": "#EBF0F8",
           "zerolinewidth": 2
          }
         }
        },
        "title": {
         "font": {
          "color": "#2E2E2E",
          "size": 16
         },
         "text": "Document Difficulty Ranking (Hardest First) (Average across 2 runs)",
         "x": 0.5
        },
        "xaxis": {
         "range": [
          0,
          1
         ],
         "title": {
          "text": "Average F1-Score"
         }
        },
        "yaxis": {
         "title": {
          "text": "Documents"
         }
        }
       }
      }
     },
     "metadata": {},
     "output_type": "display_data"
    }
   ],
   "source": [
    "if 'df_main' in globals() and not df_main.empty:\n",
    "    print(\"🎯 Creating Performance Visualizations...\")\n",
    "    \n",
    "    # 1. F1-Score Heatmap - Shows model performance across documents at a glance\n",
    "    print(\"📊 1. Model Performance Heatmap (F1-Score)\")\n",
    "    f1_heatmap = create_performance_heatmap(df_main, 'f1_score', 'F1-Score')\n",
    "    f1_heatmap.show()\n",
    "    \n",
    "    # 2. Model Comparison Chart - Shows average performance with error bars\n",
    "    print(\"📈 2. Model Performance Comparison\")\n",
    "    model_comparison = create_model_comparison_chart(df_main)\n",
    "    model_comparison.show()\n",
    "    \n",
    "    # 3. Document Difficulty Ranking\n",
    "    print(\"📋 3. Document Difficulty Ranking\")\n",
    "    doc_difficulty = create_document_difficulty_chart(df_main)\n",
    "    doc_difficulty.show()\n",
    "    \n",
    "else:\n",
    "    print(\"❌ Please load and process evaluation data first.\")"
   ]
  },
  {
   "cell_type": "code",
   "execution_count": 10,
   "id": "5500a20c",
   "metadata": {},
   "outputs": [],
   "source": [
    "def create_run_comparison_dashboard(df):\n",
    "    \"\"\"Create a comprehensive dashboard comparing performance across different runs\"\"\"\n",
    "    \n",
    "    # Check if we have multiple runs\n",
    "    runs = df['run'].unique()\n",
    "    if len(runs) <= 1:\n",
    "        print(\"Only one run available - no comparison needed.\")\n",
    "        return None\n",
    "    \n",
    "    # Filter for overall metrics and lenient evaluation\n",
    "    df_overall = df[(df['annotation_type'] == 'Overall') & (df['evaluation_mode'] == 'lenient')].copy()\n",
    "    \n",
    "    if df_overall.empty:\n",
    "        print(\"No overall metrics found for comparison.\")\n",
    "        return None\n",
    "    \n",
    "    # Create subplots: 2 rows, 2 columns\n",
    "    fig = make_subplots(\n",
    "        rows=2, cols=2,\n",
    "        subplot_titles=[\n",
    "            \"Average F1-Score by Run\",\n",
    "            \"Model Performance Across Runs\", \n",
    "            \"Run-to-Run Performance Change\",\n",
    "            \"Document Difficulty Across Runs\"\n",
    "        ],\n",
    "        specs=[[{\"secondary_y\": False}, {\"secondary_y\": False}],\n",
    "               [{\"secondary_y\": False}, {\"secondary_y\": False}]],\n",
    "        vertical_spacing=0.12,\n",
    "        horizontal_spacing=0.1\n",
    "    )\n",
    "    \n",
    "    # 1. Average F1-Score by Run (Top Left)\n",
    "    run_stats = df_overall.groupby('run').agg({\n",
    "        'f1_score': ['mean', 'std'],\n",
    "        'precision': 'mean',\n",
    "        'recall': 'mean'\n",
    "    }).round(4)\n",
    "    run_stats.columns = ['f1_mean', 'f1_std', 'precision_mean', 'recall_mean']\n",
    "    run_stats = run_stats.reset_index()\n",
    "    \n",
    "    fig.add_trace(go.Bar(\n",
    "        x=run_stats['run'],\n",
    "        y=run_stats['f1_mean'],\n",
    "        error_y=dict(type='data', array=run_stats['f1_std']),\n",
    "        name='F1-Score',\n",
    "        marker_color='#45B7D1',\n",
    "        text=run_stats['f1_mean'].round(3),\n",
    "        textposition='auto',\n",
    "        showlegend=False\n",
    "    ), row=1, col=1)\n",
    "    \n",
    "    # 2. Model Performance Across Runs (Top Right)\n",
    "    models = sorted(df_overall['model'].unique())\n",
    "    colors = px.colors.qualitative.Set1[:len(models)]\n",
    "    \n",
    "    for i, model in enumerate(models):\n",
    "        model_data = df_overall[df_overall['model'] == model]\n",
    "        model_run_stats = model_data.groupby('run')['f1_score'].mean().reset_index()\n",
    "        \n",
    "        fig.add_trace(go.Scatter(\n",
    "            x=model_run_stats['run'],\n",
    "            y=model_run_stats['f1_score'],\n",
    "            mode='lines+markers',\n",
    "            name=model,\n",
    "            line=dict(color=colors[i], width=3),\n",
    "            marker=dict(size=8),\n",
    "            showlegend=(i < 5)  # Limit legend entries\n",
    "        ), row=1, col=2)\n",
    "    \n",
    "    # 3. Run-to-Run Performance Change (Bottom Left)\n",
    "    if len(runs) >= 2:\n",
    "        sorted_runs = sorted(runs)\n",
    "        changes = []\n",
    "        run_pairs = []\n",
    "        \n",
    "        for i in range(1, len(sorted_runs)):\n",
    "            prev_run = sorted_runs[i-1]\n",
    "            curr_run = sorted_runs[i]\n",
    "            \n",
    "            prev_avg = df_overall[df_overall['run'] == prev_run]['f1_score'].mean()\n",
    "            curr_avg = df_overall[df_overall['run'] == curr_run]['f1_score'].mean()\n",
    "            \n",
    "            change = curr_avg - prev_avg\n",
    "            changes.append(change)\n",
    "            run_pairs.append(f\"{prev_run} → {curr_run}\")\n",
    "        \n",
    "        colors_change = ['green' if x >= 0 else 'red' for x in changes]\n",
    "        \n",
    "        fig.add_trace(go.Bar(\n",
    "            x=run_pairs,\n",
    "            y=changes,\n",
    "            marker_color=colors_change,\n",
    "            text=[f\"{x:+.3f}\" for x in changes],\n",
    "            textposition='auto',\n",
    "            showlegend=False,\n",
    "            name='Performance Change'\n",
    "        ), row=2, col=1)\n",
    "    \n",
    "    # 4. Document Difficulty Across Runs (Bottom Right)\n",
    "    doc_run_stats = df_overall.groupby(['document', 'run'])['f1_score'].mean().reset_index()\n",
    "    doc_variance = doc_run_stats.groupby('document')['f1_score'].agg(['mean', 'std']).reset_index()\n",
    "    doc_variance = doc_variance.sort_values('std', ascending=False).head(10)  # Top 10 most variable\n",
    "    \n",
    "    fig.add_trace(go.Bar(\n",
    "        x=doc_variance['document'],\n",
    "        y=doc_variance['std'],\n",
    "        marker=dict(\n",
    "            color=doc_variance['std'],\n",
    "            colorscale='Reds',\n",
    "            colorbar=dict(title=\"Std Dev\")\n",
    "        ),\n",
    "        text=doc_variance['std'].round(3),\n",
    "        textposition='auto',\n",
    "        showlegend=False,\n",
    "        name='Performance Variance'\n",
    "    ), row=2, col=2)\n",
    "    \n",
    "    # Update layout\n",
    "    fig.update_layout(\n",
    "        title=dict(\n",
    "            text=f\"Run Comparison Dashboard ({len(runs)} runs)\",\n",
    "            font=dict(size=20, color='#2E2E2E'),\n",
    "            x=0.5\n",
    "        ),\n",
    "        height=800,\n",
    "        width=1400,\n",
    "        template='plotly_white'\n",
    "    )\n",
    "    \n",
    "    # Update axes\n",
    "    fig.update_xaxes(title_text=\"Runs\", row=1, col=1, tickangle=45)\n",
    "    fig.update_yaxes(title_text=\"Average F1-Score\", row=1, col=1, range=[0, 1])\n",
    "    \n",
    "    fig.update_xaxes(title_text=\"Runs\", row=1, col=2, tickangle=45)\n",
    "    fig.update_yaxes(title_text=\"F1-Score\", row=1, col=2, range=[0, 1])\n",
    "    \n",
    "    fig.update_xaxes(title_text=\"Run Transitions\", row=2, col=1, tickangle=45)\n",
    "    fig.update_yaxes(title_text=\"F1-Score Change\", row=2, col=1)\n",
    "    \n",
    "    fig.update_xaxes(title_text=\"Documents\", row=2, col=2, tickangle=45)\n",
    "    fig.update_yaxes(title_text=\"Performance Std Dev\", row=2, col=2)\n",
    "    \n",
    "    return fig"
   ]
  },
  {
   "cell_type": "code",
   "execution_count": null,
   "id": "2b77afc6",
   "metadata": {},
   "outputs": [
    {
     "name": "stdout",
     "output_type": "stream",
     "text": [
      "🔄 4. Run Comparison Dashboard\n"
     ]
    },
    {
     "data": {
      "application/vnd.plotly.v1+json": {
       "config": {
        "plotlyServerURL": "https://plot.ly"
       },
       "data": [
        {
         "error_y": {
          "array": {
           "bdata": "0gDeAgmKvz+BlUOLbOe7Pw==",
           "dtype": "f8"
          },
          "type": "data"
         },
         "marker": {
          "color": "#45B7D1"
         },
         "name": "F1-Score",
         "showlegend": false,
         "text": {
          "bdata": "jZduEoPAyj+4HoXrUbjOPw==",
          "dtype": "f8"
         },
         "textposition": "auto",
         "type": "bar",
         "x": [
          "pipeline_results_20250816_182317",
          "pipeline_results_20250816_185820"
         ],
         "xaxis": "x",
         "y": {
          "bdata": "BTQRNjy9yj8OLbKd76fOPw==",
          "dtype": "f8"
         },
         "yaxis": "y"
        },
        {
         "line": {
          "color": "rgb(228,26,28)",
          "width": 3
         },
         "marker": {
          "size": 8
         },
         "mode": "lines+markers",
         "name": "gemma3:12b",
         "showlegend": true,
         "type": "scatter",
         "x": [
          "pipeline_results_20250816_182317",
          "pipeline_results_20250816_185820"
         ],
         "xaxis": "x2",
         "y": {
          "bdata": "Quxuhbdm2D8m+DZ/hVnXPw==",
          "dtype": "f8"
         },
         "yaxis": "y2"
        },
        {
         "line": {
          "color": "rgb(55,126,184)",
          "width": 3
         },
         "marker": {
          "size": 8
         },
         "mode": "lines+markers",
         "name": "gemma3:1b",
         "showlegend": true,
         "type": "scatter",
         "x": [
          "pipeline_results_20250816_182317",
          "pipeline_results_20250816_185820"
         ],
         "xaxis": "x2",
         "y": {
          "bdata": "dquX04jAwD/1obE+NNbBPw==",
          "dtype": "f8"
         },
         "yaxis": "y2"
        },
        {
         "line": {
          "color": "rgb(77,175,74)",
          "width": 3
         },
         "marker": {
          "size": 8
         },
         "mode": "lines+markers",
         "name": "gemma3:4b",
         "showlegend": true,
         "type": "scatter",
         "x": [
          "pipeline_results_20250816_182317",
          "pipeline_results_20250816_185820"
         ],
         "xaxis": "x2",
         "y": {
          "bdata": "NB6AdSahyT+GUfJG31fHPw==",
          "dtype": "f8"
         },
         "yaxis": "y2"
        },
        {
         "line": {
          "color": "rgb(152,78,163)",
          "width": 3
         },
         "marker": {
          "size": 8
         },
         "mode": "lines+markers",
         "name": "mistral:latest",
         "showlegend": true,
         "type": "scatter",
         "x": [
          "pipeline_results_20250816_182317",
          "pipeline_results_20250816_185820"
         ],
         "xaxis": "x2",
         "y": {
          "bdata": "cVZ+QpyVvz9P1jFR4mHRPw==",
          "dtype": "f8"
         },
         "yaxis": "y2"
        },
        {
         "marker": {
          "color": [
           "green"
          ]
         },
         "name": "Performance Change",
         "showlegend": false,
         "text": [
          "+0.031"
         ],
         "textposition": "auto",
         "type": "bar",
         "x": [
          "pipeline_results_20250816_182317 → pipeline_results_20250816_185820"
         ],
         "xaxis": "x3",
         "y": [
          0.030601224076582056
         ],
         "yaxis": "y3"
        },
        {
         "marker": {
          "color": {
           "bdata": "1Ea7ZQrmoj9a/GZsjBJ6Pw==",
           "dtype": "f8"
          },
          "colorbar": {
           "title": {
            "text": "Std Dev"
           }
          },
          "colorscale": [
           [
            0,
            "rgb(255,245,240)"
           ],
           [
            0.125,
            "rgb(254,224,210)"
           ],
           [
            0.25,
            "rgb(252,187,161)"
           ],
           [
            0.375,
            "rgb(252,146,114)"
           ],
           [
            0.5,
            "rgb(251,106,74)"
           ],
           [
            0.625,
            "rgb(239,59,44)"
           ],
           [
            0.75,
            "rgb(203,24,29)"
           ],
           [
            0.875,
            "rgb(165,15,21)"
           ],
           [
            1,
            "rgb(103,0,13)"
           ]
          ]
         },
         "name": "Performance Variance",
         "showlegend": false,
         "text": {
          "bdata": "i2zn+6nxoj/6fmq8dJN4Pw==",
          "dtype": "f8"
         },
         "textposition": "auto",
         "type": "bar",
         "x": [
          "ALTAY v. TURKEY (No. 2)",
          "BELYAYEV AND OTHERS v. UKRAINE"
         ],
         "xaxis": "x4",
         "y": {
          "bdata": "1Ea7ZQrmoj9a/GZsjBJ6Pw==",
          "dtype": "f8"
         },
         "yaxis": "y4"
        }
       ],
       "layout": {
        "annotations": [
         {
          "font": {
           "size": 16
          },
          "showarrow": false,
          "text": "Average F1-Score by Run",
          "x": 0.225,
          "xanchor": "center",
          "xref": "paper",
          "y": 1,
          "yanchor": "bottom",
          "yref": "paper"
         },
         {
          "font": {
           "size": 16
          },
          "showarrow": false,
          "text": "Model Performance Across Runs",
          "x": 0.775,
          "xanchor": "center",
          "xref": "paper",
          "y": 1,
          "yanchor": "bottom",
          "yref": "paper"
         },
         {
          "font": {
           "size": 16
          },
          "showarrow": false,
          "text": "Run-to-Run Performance Change",
          "x": 0.225,
          "xanchor": "center",
          "xref": "paper",
          "y": 0.44,
          "yanchor": "bottom",
          "yref": "paper"
         },
         {
          "font": {
           "size": 16
          },
          "showarrow": false,
          "text": "Document Difficulty Across Runs",
          "x": 0.775,
          "xanchor": "center",
          "xref": "paper",
          "y": 0.44,
          "yanchor": "bottom",
          "yref": "paper"
         }
        ],
        "height": 800,
        "template": {
         "data": {
          "bar": [
           {
            "error_x": {
             "color": "#2a3f5f"
            },
            "error_y": {
             "color": "#2a3f5f"
            },
            "marker": {
             "line": {
              "color": "white",
              "width": 0.5
             },
             "pattern": {
              "fillmode": "overlay",
              "size": 10,
              "solidity": 0.2
             }
            },
            "type": "bar"
           }
          ],
          "barpolar": [
           {
            "marker": {
             "line": {
              "color": "white",
              "width": 0.5
             },
             "pattern": {
              "fillmode": "overlay",
              "size": 10,
              "solidity": 0.2
             }
            },
            "type": "barpolar"
           }
          ],
          "carpet": [
           {
            "aaxis": {
             "endlinecolor": "#2a3f5f",
             "gridcolor": "#C8D4E3",
             "linecolor": "#C8D4E3",
             "minorgridcolor": "#C8D4E3",
             "startlinecolor": "#2a3f5f"
            },
            "baxis": {
             "endlinecolor": "#2a3f5f",
             "gridcolor": "#C8D4E3",
             "linecolor": "#C8D4E3",
             "minorgridcolor": "#C8D4E3",
             "startlinecolor": "#2a3f5f"
            },
            "type": "carpet"
           }
          ],
          "choropleth": [
           {
            "colorbar": {
             "outlinewidth": 0,
             "ticks": ""
            },
            "type": "choropleth"
           }
          ],
          "contour": [
           {
            "colorbar": {
             "outlinewidth": 0,
             "ticks": ""
            },
            "colorscale": [
             [
              0,
              "#0d0887"
             ],
             [
              0.1111111111111111,
              "#46039f"
             ],
             [
              0.2222222222222222,
              "#7201a8"
             ],
             [
              0.3333333333333333,
              "#9c179e"
             ],
             [
              0.4444444444444444,
              "#bd3786"
             ],
             [
              0.5555555555555556,
              "#d8576b"
             ],
             [
              0.6666666666666666,
              "#ed7953"
             ],
             [
              0.7777777777777778,
              "#fb9f3a"
             ],
             [
              0.8888888888888888,
              "#fdca26"
             ],
             [
              1,
              "#f0f921"
             ]
            ],
            "type": "contour"
           }
          ],
          "contourcarpet": [
           {
            "colorbar": {
             "outlinewidth": 0,
             "ticks": ""
            },
            "type": "contourcarpet"
           }
          ],
          "heatmap": [
           {
            "colorbar": {
             "outlinewidth": 0,
             "ticks": ""
            },
            "colorscale": [
             [
              0,
              "#0d0887"
             ],
             [
              0.1111111111111111,
              "#46039f"
             ],
             [
              0.2222222222222222,
              "#7201a8"
             ],
             [
              0.3333333333333333,
              "#9c179e"
             ],
             [
              0.4444444444444444,
              "#bd3786"
             ],
             [
              0.5555555555555556,
              "#d8576b"
             ],
             [
              0.6666666666666666,
              "#ed7953"
             ],
             [
              0.7777777777777778,
              "#fb9f3a"
             ],
             [
              0.8888888888888888,
              "#fdca26"
             ],
             [
              1,
              "#f0f921"
             ]
            ],
            "type": "heatmap"
           }
          ],
          "histogram": [
           {
            "marker": {
             "pattern": {
              "fillmode": "overlay",
              "size": 10,
              "solidity": 0.2
             }
            },
            "type": "histogram"
           }
          ],
          "histogram2d": [
           {
            "colorbar": {
             "outlinewidth": 0,
             "ticks": ""
            },
            "colorscale": [
             [
              0,
              "#0d0887"
             ],
             [
              0.1111111111111111,
              "#46039f"
             ],
             [
              0.2222222222222222,
              "#7201a8"
             ],
             [
              0.3333333333333333,
              "#9c179e"
             ],
             [
              0.4444444444444444,
              "#bd3786"
             ],
             [
              0.5555555555555556,
              "#d8576b"
             ],
             [
              0.6666666666666666,
              "#ed7953"
             ],
             [
              0.7777777777777778,
              "#fb9f3a"
             ],
             [
              0.8888888888888888,
              "#fdca26"
             ],
             [
              1,
              "#f0f921"
             ]
            ],
            "type": "histogram2d"
           }
          ],
          "histogram2dcontour": [
           {
            "colorbar": {
             "outlinewidth": 0,
             "ticks": ""
            },
            "colorscale": [
             [
              0,
              "#0d0887"
             ],
             [
              0.1111111111111111,
              "#46039f"
             ],
             [
              0.2222222222222222,
              "#7201a8"
             ],
             [
              0.3333333333333333,
              "#9c179e"
             ],
             [
              0.4444444444444444,
              "#bd3786"
             ],
             [
              0.5555555555555556,
              "#d8576b"
             ],
             [
              0.6666666666666666,
              "#ed7953"
             ],
             [
              0.7777777777777778,
              "#fb9f3a"
             ],
             [
              0.8888888888888888,
              "#fdca26"
             ],
             [
              1,
              "#f0f921"
             ]
            ],
            "type": "histogram2dcontour"
           }
          ],
          "mesh3d": [
           {
            "colorbar": {
             "outlinewidth": 0,
             "ticks": ""
            },
            "type": "mesh3d"
           }
          ],
          "parcoords": [
           {
            "line": {
             "colorbar": {
              "outlinewidth": 0,
              "ticks": ""
             }
            },
            "type": "parcoords"
           }
          ],
          "pie": [
           {
            "automargin": true,
            "type": "pie"
           }
          ],
          "scatter": [
           {
            "fillpattern": {
             "fillmode": "overlay",
             "size": 10,
             "solidity": 0.2
            },
            "type": "scatter"
           }
          ],
          "scatter3d": [
           {
            "line": {
             "colorbar": {
              "outlinewidth": 0,
              "ticks": ""
             }
            },
            "marker": {
             "colorbar": {
              "outlinewidth": 0,
              "ticks": ""
             }
            },
            "type": "scatter3d"
           }
          ],
          "scattercarpet": [
           {
            "marker": {
             "colorbar": {
              "outlinewidth": 0,
              "ticks": ""
             }
            },
            "type": "scattercarpet"
           }
          ],
          "scattergeo": [
           {
            "marker": {
             "colorbar": {
              "outlinewidth": 0,
              "ticks": ""
             }
            },
            "type": "scattergeo"
           }
          ],
          "scattergl": [
           {
            "marker": {
             "colorbar": {
              "outlinewidth": 0,
              "ticks": ""
             }
            },
            "type": "scattergl"
           }
          ],
          "scattermap": [
           {
            "marker": {
             "colorbar": {
              "outlinewidth": 0,
              "ticks": ""
             }
            },
            "type": "scattermap"
           }
          ],
          "scattermapbox": [
           {
            "marker": {
             "colorbar": {
              "outlinewidth": 0,
              "ticks": ""
             }
            },
            "type": "scattermapbox"
           }
          ],
          "scatterpolar": [
           {
            "marker": {
             "colorbar": {
              "outlinewidth": 0,
              "ticks": ""
             }
            },
            "type": "scatterpolar"
           }
          ],
          "scatterpolargl": [
           {
            "marker": {
             "colorbar": {
              "outlinewidth": 0,
              "ticks": ""
             }
            },
            "type": "scatterpolargl"
           }
          ],
          "scatterternary": [
           {
            "marker": {
             "colorbar": {
              "outlinewidth": 0,
              "ticks": ""
             }
            },
            "type": "scatterternary"
           }
          ],
          "surface": [
           {
            "colorbar": {
             "outlinewidth": 0,
             "ticks": ""
            },
            "colorscale": [
             [
              0,
              "#0d0887"
             ],
             [
              0.1111111111111111,
              "#46039f"
             ],
             [
              0.2222222222222222,
              "#7201a8"
             ],
             [
              0.3333333333333333,
              "#9c179e"
             ],
             [
              0.4444444444444444,
              "#bd3786"
             ],
             [
              0.5555555555555556,
              "#d8576b"
             ],
             [
              0.6666666666666666,
              "#ed7953"
             ],
             [
              0.7777777777777778,
              "#fb9f3a"
             ],
             [
              0.8888888888888888,
              "#fdca26"
             ],
             [
              1,
              "#f0f921"
             ]
            ],
            "type": "surface"
           }
          ],
          "table": [
           {
            "cells": {
             "fill": {
              "color": "#EBF0F8"
             },
             "line": {
              "color": "white"
             }
            },
            "header": {
             "fill": {
              "color": "#C8D4E3"
             },
             "line": {
              "color": "white"
             }
            },
            "type": "table"
           }
          ]
         },
         "layout": {
          "annotationdefaults": {
           "arrowcolor": "#2a3f5f",
           "arrowhead": 0,
           "arrowwidth": 1
          },
          "autotypenumbers": "strict",
          "coloraxis": {
           "colorbar": {
            "outlinewidth": 0,
            "ticks": ""
           }
          },
          "colorscale": {
           "diverging": [
            [
             0,
             "#8e0152"
            ],
            [
             0.1,
             "#c51b7d"
            ],
            [
             0.2,
             "#de77ae"
            ],
            [
             0.3,
             "#f1b6da"
            ],
            [
             0.4,
             "#fde0ef"
            ],
            [
             0.5,
             "#f7f7f7"
            ],
            [
             0.6,
             "#e6f5d0"
            ],
            [
             0.7,
             "#b8e186"
            ],
            [
             0.8,
             "#7fbc41"
            ],
            [
             0.9,
             "#4d9221"
            ],
            [
             1,
             "#276419"
            ]
           ],
           "sequential": [
            [
             0,
             "#0d0887"
            ],
            [
             0.1111111111111111,
             "#46039f"
            ],
            [
             0.2222222222222222,
             "#7201a8"
            ],
            [
             0.3333333333333333,
             "#9c179e"
            ],
            [
             0.4444444444444444,
             "#bd3786"
            ],
            [
             0.5555555555555556,
             "#d8576b"
            ],
            [
             0.6666666666666666,
             "#ed7953"
            ],
            [
             0.7777777777777778,
             "#fb9f3a"
            ],
            [
             0.8888888888888888,
             "#fdca26"
            ],
            [
             1,
             "#f0f921"
            ]
           ],
           "sequentialminus": [
            [
             0,
             "#0d0887"
            ],
            [
             0.1111111111111111,
             "#46039f"
            ],
            [
             0.2222222222222222,
             "#7201a8"
            ],
            [
             0.3333333333333333,
             "#9c179e"
            ],
            [
             0.4444444444444444,
             "#bd3786"
            ],
            [
             0.5555555555555556,
             "#d8576b"
            ],
            [
             0.6666666666666666,
             "#ed7953"
            ],
            [
             0.7777777777777778,
             "#fb9f3a"
            ],
            [
             0.8888888888888888,
             "#fdca26"
            ],
            [
             1,
             "#f0f921"
            ]
           ]
          },
          "colorway": [
           "#636efa",
           "#EF553B",
           "#00cc96",
           "#ab63fa",
           "#FFA15A",
           "#19d3f3",
           "#FF6692",
           "#B6E880",
           "#FF97FF",
           "#FECB52"
          ],
          "font": {
           "color": "#2a3f5f"
          },
          "geo": {
           "bgcolor": "white",
           "lakecolor": "white",
           "landcolor": "white",
           "showlakes": true,
           "showland": true,
           "subunitcolor": "#C8D4E3"
          },
          "hoverlabel": {
           "align": "left"
          },
          "hovermode": "closest",
          "mapbox": {
           "style": "light"
          },
          "paper_bgcolor": "white",
          "plot_bgcolor": "white",
          "polar": {
           "angularaxis": {
            "gridcolor": "#EBF0F8",
            "linecolor": "#EBF0F8",
            "ticks": ""
           },
           "bgcolor": "white",
           "radialaxis": {
            "gridcolor": "#EBF0F8",
            "linecolor": "#EBF0F8",
            "ticks": ""
           }
          },
          "scene": {
           "xaxis": {
            "backgroundcolor": "white",
            "gridcolor": "#DFE8F3",
            "gridwidth": 2,
            "linecolor": "#EBF0F8",
            "showbackground": true,
            "ticks": "",
            "zerolinecolor": "#EBF0F8"
           },
           "yaxis": {
            "backgroundcolor": "white",
            "gridcolor": "#DFE8F3",
            "gridwidth": 2,
            "linecolor": "#EBF0F8",
            "showbackground": true,
            "ticks": "",
            "zerolinecolor": "#EBF0F8"
           },
           "zaxis": {
            "backgroundcolor": "white",
            "gridcolor": "#DFE8F3",
            "gridwidth": 2,
            "linecolor": "#EBF0F8",
            "showbackground": true,
            "ticks": "",
            "zerolinecolor": "#EBF0F8"
           }
          },
          "shapedefaults": {
           "line": {
            "color": "#2a3f5f"
           }
          },
          "ternary": {
           "aaxis": {
            "gridcolor": "#DFE8F3",
            "linecolor": "#A2B1C6",
            "ticks": ""
           },
           "baxis": {
            "gridcolor": "#DFE8F3",
            "linecolor": "#A2B1C6",
            "ticks": ""
           },
           "bgcolor": "white",
           "caxis": {
            "gridcolor": "#DFE8F3",
            "linecolor": "#A2B1C6",
            "ticks": ""
           }
          },
          "title": {
           "x": 0.05
          },
          "xaxis": {
           "automargin": true,
           "gridcolor": "#EBF0F8",
           "linecolor": "#EBF0F8",
           "ticks": "",
           "title": {
            "standoff": 15
           },
           "zerolinecolor": "#EBF0F8",
           "zerolinewidth": 2
          },
          "yaxis": {
           "automargin": true,
           "gridcolor": "#EBF0F8",
           "linecolor": "#EBF0F8",
           "ticks": "",
           "title": {
            "standoff": 15
           },
           "zerolinecolor": "#EBF0F8",
           "zerolinewidth": 2
          }
         }
        },
        "title": {
         "font": {
          "color": "#2E2E2E",
          "size": 20
         },
         "text": "Run Comparison Dashboard (2 runs)",
         "x": 0.5
        },
        "width": 1400,
        "xaxis": {
         "anchor": "y",
         "domain": [
          0,
          0.45
         ],
         "tickangle": 45,
         "title": {
          "text": "Runs"
         }
        },
        "xaxis2": {
         "anchor": "y2",
         "domain": [
          0.55,
          1
         ],
         "tickangle": 45,
         "title": {
          "text": "Runs"
         }
        },
        "xaxis3": {
         "anchor": "y3",
         "domain": [
          0,
          0.45
         ],
         "tickangle": 45,
         "title": {
          "text": "Run Transitions"
         }
        },
        "xaxis4": {
         "anchor": "y4",
         "domain": [
          0.55,
          1
         ],
         "tickangle": 45,
         "title": {
          "text": "Documents"
         }
        },
        "yaxis": {
         "anchor": "x",
         "domain": [
          0.56,
          1
         ],
         "range": [
          0,
          1
         ],
         "title": {
          "text": "Average F1-Score"
         }
        },
        "yaxis2": {
         "anchor": "x2",
         "domain": [
          0.56,
          1
         ],
         "range": [
          0,
          1
         ],
         "title": {
          "text": "F1-Score"
         }
        },
        "yaxis3": {
         "anchor": "x3",
         "domain": [
          0,
          0.44
         ],
         "title": {
          "text": "F1-Score Change"
         }
        },
        "yaxis4": {
         "anchor": "x4",
         "domain": [
          0,
          0.44
         ],
         "title": {
          "text": "Performance Std Dev"
         }
        }
       }
      }
     },
     "metadata": {},
     "output_type": "display_data"
    },
    {
     "name": "stdout",
     "output_type": "stream",
     "text": [
      "📊 5. Additional Performance Heatmaps\n"
     ]
    },
    {
     "data": {
      "application/vnd.plotly.v1+json": {
       "config": {
        "plotlyServerURL": "https://plot.ly"
       },
       "data": [
        {
         "colorbar": {
          "title": {
           "text": "Precision"
          }
         },
         "colorscale": [
          [
           0,
           "rgb(165,0,38)"
          ],
          [
           0.1,
           "rgb(215,48,39)"
          ],
          [
           0.2,
           "rgb(244,109,67)"
          ],
          [
           0.3,
           "rgb(253,174,97)"
          ],
          [
           0.4,
           "rgb(254,224,139)"
          ],
          [
           0.5,
           "rgb(255,255,191)"
          ],
          [
           0.6,
           "rgb(217,239,139)"
          ],
          [
           0.7,
           "rgb(166,217,106)"
          ],
          [
           0.8,
           "rgb(102,189,99)"
          ],
          [
           0.9,
           "rgb(26,152,80)"
          ],
          [
           1,
           "rgb(0,104,55)"
          ]
         ],
         "showscale": true,
         "text": {
          "bdata": "bxKDwMqh3T9Ei2zn+6nRP6JFtvP91Mg/mpmZmZmZyT+iRbbz/dTYP1K4HoXrUcg/okW28/3U0D/HSzeJQWDFPw==",
          "dtype": "f8",
          "shape": "4, 2"
         },
         "textfont": {
          "size": 8
         },
         "texttemplate": "%{text}",
         "type": "heatmap",
         "x": [
          "ALTAY v. TURKEY (No. 2)",
          "BELYAYEV AND OTHERS v. UKRAINE"
         ],
         "xaxis": "x",
         "y": [
          "gemma3:12b",
          "gemma3:1b",
          "gemma3:4b",
          "mistral:latest"
         ],
         "yaxis": "y",
         "z": {
          "bdata": "qV2J2pWo3T+WexphuafRPzmO4ziO48g/mpmZmZmZyT801ofG+tDYPxiGYRiGYcg/eQ3lNZTX0D9VVVVVVVXFPw==",
          "dtype": "f8",
          "shape": "4, 2"
         },
         "zmax": 1,
         "zmin": 0
        },
        {
         "colorscale": [
          [
           0,
           "rgb(165,0,38)"
          ],
          [
           0.1,
           "rgb(215,48,39)"
          ],
          [
           0.2,
           "rgb(244,109,67)"
          ],
          [
           0.3,
           "rgb(253,174,97)"
          ],
          [
           0.4,
           "rgb(254,224,139)"
          ],
          [
           0.5,
           "rgb(255,255,191)"
          ],
          [
           0.6,
           "rgb(217,239,139)"
          ],
          [
           0.7,
           "rgb(166,217,106)"
          ],
          [
           0.8,
           "rgb(102,189,99)"
          ],
          [
           0.9,
           "rgb(26,152,80)"
          ],
          [
           1,
           "rgb(0,104,55)"
          ]
         ],
         "showscale": false,
         "text": {
          "bdata": "aJHtfD813j9GtvP91HjRP8/3U+Olm8Q/LbKd76fGyz8X2c73U+PdPzeJQWDl0MI/YhBYObTI3j/n+6nx0k3SPw==",
          "dtype": "f8",
          "shape": "4, 2"
         },
         "textfont": {
          "size": 8
         },
         "texttemplate": "%{text}",
         "type": "heatmap",
         "x": [
          "ALTAY v. TURKEY (No. 2)",
          "BELYAYEV AND OTHERS v. UKRAINE"
         ],
         "xaxis": "x2",
         "y": [
          "gemma3:12b",
          "gemma3:1b",
          "gemma3:4b",
          "mistral:latest"
         ],
         "yaxis": "y2",
         "z": {
          "bdata": "juM4juM43j900UUXXXTRPyVJkiRJksQ/velNb3rTyz/e3d3d3d3dP9PS0tLS0sI/T+zETuzE3j+SJEmSJEnSPw==",
          "dtype": "f8",
          "shape": "4, 2"
         },
         "zmax": 1,
         "zmin": 0
        }
       ],
       "layout": {
        "annotations": [
         {
          "font": {
           "size": 16
          },
          "showarrow": false,
          "text": "pipeline_results_20250816_182317",
          "x": 0.225,
          "xanchor": "center",
          "xref": "paper",
          "y": 1,
          "yanchor": "bottom",
          "yref": "paper"
         },
         {
          "font": {
           "size": 16
          },
          "showarrow": false,
          "text": "pipeline_results_20250816_185820",
          "x": 0.775,
          "xanchor": "center",
          "xref": "paper",
          "y": 1,
          "yanchor": "bottom",
          "yref": "paper"
         }
        ],
        "height": 400,
        "template": {
         "data": {
          "bar": [
           {
            "error_x": {
             "color": "#2a3f5f"
            },
            "error_y": {
             "color": "#2a3f5f"
            },
            "marker": {
             "line": {
              "color": "white",
              "width": 0.5
             },
             "pattern": {
              "fillmode": "overlay",
              "size": 10,
              "solidity": 0.2
             }
            },
            "type": "bar"
           }
          ],
          "barpolar": [
           {
            "marker": {
             "line": {
              "color": "white",
              "width": 0.5
             },
             "pattern": {
              "fillmode": "overlay",
              "size": 10,
              "solidity": 0.2
             }
            },
            "type": "barpolar"
           }
          ],
          "carpet": [
           {
            "aaxis": {
             "endlinecolor": "#2a3f5f",
             "gridcolor": "#C8D4E3",
             "linecolor": "#C8D4E3",
             "minorgridcolor": "#C8D4E3",
             "startlinecolor": "#2a3f5f"
            },
            "baxis": {
             "endlinecolor": "#2a3f5f",
             "gridcolor": "#C8D4E3",
             "linecolor": "#C8D4E3",
             "minorgridcolor": "#C8D4E3",
             "startlinecolor": "#2a3f5f"
            },
            "type": "carpet"
           }
          ],
          "choropleth": [
           {
            "colorbar": {
             "outlinewidth": 0,
             "ticks": ""
            },
            "type": "choropleth"
           }
          ],
          "contour": [
           {
            "colorbar": {
             "outlinewidth": 0,
             "ticks": ""
            },
            "colorscale": [
             [
              0,
              "#0d0887"
             ],
             [
              0.1111111111111111,
              "#46039f"
             ],
             [
              0.2222222222222222,
              "#7201a8"
             ],
             [
              0.3333333333333333,
              "#9c179e"
             ],
             [
              0.4444444444444444,
              "#bd3786"
             ],
             [
              0.5555555555555556,
              "#d8576b"
             ],
             [
              0.6666666666666666,
              "#ed7953"
             ],
             [
              0.7777777777777778,
              "#fb9f3a"
             ],
             [
              0.8888888888888888,
              "#fdca26"
             ],
             [
              1,
              "#f0f921"
             ]
            ],
            "type": "contour"
           }
          ],
          "contourcarpet": [
           {
            "colorbar": {
             "outlinewidth": 0,
             "ticks": ""
            },
            "type": "contourcarpet"
           }
          ],
          "heatmap": [
           {
            "colorbar": {
             "outlinewidth": 0,
             "ticks": ""
            },
            "colorscale": [
             [
              0,
              "#0d0887"
             ],
             [
              0.1111111111111111,
              "#46039f"
             ],
             [
              0.2222222222222222,
              "#7201a8"
             ],
             [
              0.3333333333333333,
              "#9c179e"
             ],
             [
              0.4444444444444444,
              "#bd3786"
             ],
             [
              0.5555555555555556,
              "#d8576b"
             ],
             [
              0.6666666666666666,
              "#ed7953"
             ],
             [
              0.7777777777777778,
              "#fb9f3a"
             ],
             [
              0.8888888888888888,
              "#fdca26"
             ],
             [
              1,
              "#f0f921"
             ]
            ],
            "type": "heatmap"
           }
          ],
          "histogram": [
           {
            "marker": {
             "pattern": {
              "fillmode": "overlay",
              "size": 10,
              "solidity": 0.2
             }
            },
            "type": "histogram"
           }
          ],
          "histogram2d": [
           {
            "colorbar": {
             "outlinewidth": 0,
             "ticks": ""
            },
            "colorscale": [
             [
              0,
              "#0d0887"
             ],
             [
              0.1111111111111111,
              "#46039f"
             ],
             [
              0.2222222222222222,
              "#7201a8"
             ],
             [
              0.3333333333333333,
              "#9c179e"
             ],
             [
              0.4444444444444444,
              "#bd3786"
             ],
             [
              0.5555555555555556,
              "#d8576b"
             ],
             [
              0.6666666666666666,
              "#ed7953"
             ],
             [
              0.7777777777777778,
              "#fb9f3a"
             ],
             [
              0.8888888888888888,
              "#fdca26"
             ],
             [
              1,
              "#f0f921"
             ]
            ],
            "type": "histogram2d"
           }
          ],
          "histogram2dcontour": [
           {
            "colorbar": {
             "outlinewidth": 0,
             "ticks": ""
            },
            "colorscale": [
             [
              0,
              "#0d0887"
             ],
             [
              0.1111111111111111,
              "#46039f"
             ],
             [
              0.2222222222222222,
              "#7201a8"
             ],
             [
              0.3333333333333333,
              "#9c179e"
             ],
             [
              0.4444444444444444,
              "#bd3786"
             ],
             [
              0.5555555555555556,
              "#d8576b"
             ],
             [
              0.6666666666666666,
              "#ed7953"
             ],
             [
              0.7777777777777778,
              "#fb9f3a"
             ],
             [
              0.8888888888888888,
              "#fdca26"
             ],
             [
              1,
              "#f0f921"
             ]
            ],
            "type": "histogram2dcontour"
           }
          ],
          "mesh3d": [
           {
            "colorbar": {
             "outlinewidth": 0,
             "ticks": ""
            },
            "type": "mesh3d"
           }
          ],
          "parcoords": [
           {
            "line": {
             "colorbar": {
              "outlinewidth": 0,
              "ticks": ""
             }
            },
            "type": "parcoords"
           }
          ],
          "pie": [
           {
            "automargin": true,
            "type": "pie"
           }
          ],
          "scatter": [
           {
            "fillpattern": {
             "fillmode": "overlay",
             "size": 10,
             "solidity": 0.2
            },
            "type": "scatter"
           }
          ],
          "scatter3d": [
           {
            "line": {
             "colorbar": {
              "outlinewidth": 0,
              "ticks": ""
             }
            },
            "marker": {
             "colorbar": {
              "outlinewidth": 0,
              "ticks": ""
             }
            },
            "type": "scatter3d"
           }
          ],
          "scattercarpet": [
           {
            "marker": {
             "colorbar": {
              "outlinewidth": 0,
              "ticks": ""
             }
            },
            "type": "scattercarpet"
           }
          ],
          "scattergeo": [
           {
            "marker": {
             "colorbar": {
              "outlinewidth": 0,
              "ticks": ""
             }
            },
            "type": "scattergeo"
           }
          ],
          "scattergl": [
           {
            "marker": {
             "colorbar": {
              "outlinewidth": 0,
              "ticks": ""
             }
            },
            "type": "scattergl"
           }
          ],
          "scattermap": [
           {
            "marker": {
             "colorbar": {
              "outlinewidth": 0,
              "ticks": ""
             }
            },
            "type": "scattermap"
           }
          ],
          "scattermapbox": [
           {
            "marker": {
             "colorbar": {
              "outlinewidth": 0,
              "ticks": ""
             }
            },
            "type": "scattermapbox"
           }
          ],
          "scatterpolar": [
           {
            "marker": {
             "colorbar": {
              "outlinewidth": 0,
              "ticks": ""
             }
            },
            "type": "scatterpolar"
           }
          ],
          "scatterpolargl": [
           {
            "marker": {
             "colorbar": {
              "outlinewidth": 0,
              "ticks": ""
             }
            },
            "type": "scatterpolargl"
           }
          ],
          "scatterternary": [
           {
            "marker": {
             "colorbar": {
              "outlinewidth": 0,
              "ticks": ""
             }
            },
            "type": "scatterternary"
           }
          ],
          "surface": [
           {
            "colorbar": {
             "outlinewidth": 0,
             "ticks": ""
            },
            "colorscale": [
             [
              0,
              "#0d0887"
             ],
             [
              0.1111111111111111,
              "#46039f"
             ],
             [
              0.2222222222222222,
              "#7201a8"
             ],
             [
              0.3333333333333333,
              "#9c179e"
             ],
             [
              0.4444444444444444,
              "#bd3786"
             ],
             [
              0.5555555555555556,
              "#d8576b"
             ],
             [
              0.6666666666666666,
              "#ed7953"
             ],
             [
              0.7777777777777778,
              "#fb9f3a"
             ],
             [
              0.8888888888888888,
              "#fdca26"
             ],
             [
              1,
              "#f0f921"
             ]
            ],
            "type": "surface"
           }
          ],
          "table": [
           {
            "cells": {
             "fill": {
              "color": "#EBF0F8"
             },
             "line": {
              "color": "white"
             }
            },
            "header": {
             "fill": {
              "color": "#C8D4E3"
             },
             "line": {
              "color": "white"
             }
            },
            "type": "table"
           }
          ]
         },
         "layout": {
          "annotationdefaults": {
           "arrowcolor": "#2a3f5f",
           "arrowhead": 0,
           "arrowwidth": 1
          },
          "autotypenumbers": "strict",
          "coloraxis": {
           "colorbar": {
            "outlinewidth": 0,
            "ticks": ""
           }
          },
          "colorscale": {
           "diverging": [
            [
             0,
             "#8e0152"
            ],
            [
             0.1,
             "#c51b7d"
            ],
            [
             0.2,
             "#de77ae"
            ],
            [
             0.3,
             "#f1b6da"
            ],
            [
             0.4,
             "#fde0ef"
            ],
            [
             0.5,
             "#f7f7f7"
            ],
            [
             0.6,
             "#e6f5d0"
            ],
            [
             0.7,
             "#b8e186"
            ],
            [
             0.8,
             "#7fbc41"
            ],
            [
             0.9,
             "#4d9221"
            ],
            [
             1,
             "#276419"
            ]
           ],
           "sequential": [
            [
             0,
             "#0d0887"
            ],
            [
             0.1111111111111111,
             "#46039f"
            ],
            [
             0.2222222222222222,
             "#7201a8"
            ],
            [
             0.3333333333333333,
             "#9c179e"
            ],
            [
             0.4444444444444444,
             "#bd3786"
            ],
            [
             0.5555555555555556,
             "#d8576b"
            ],
            [
             0.6666666666666666,
             "#ed7953"
            ],
            [
             0.7777777777777778,
             "#fb9f3a"
            ],
            [
             0.8888888888888888,
             "#fdca26"
            ],
            [
             1,
             "#f0f921"
            ]
           ],
           "sequentialminus": [
            [
             0,
             "#0d0887"
            ],
            [
             0.1111111111111111,
             "#46039f"
            ],
            [
             0.2222222222222222,
             "#7201a8"
            ],
            [
             0.3333333333333333,
             "#9c179e"
            ],
            [
             0.4444444444444444,
             "#bd3786"
            ],
            [
             0.5555555555555556,
             "#d8576b"
            ],
            [
             0.6666666666666666,
             "#ed7953"
            ],
            [
             0.7777777777777778,
             "#fb9f3a"
            ],
            [
             0.8888888888888888,
             "#fdca26"
            ],
            [
             1,
             "#f0f921"
            ]
           ]
          },
          "colorway": [
           "#636efa",
           "#EF553B",
           "#00cc96",
           "#ab63fa",
           "#FFA15A",
           "#19d3f3",
           "#FF6692",
           "#B6E880",
           "#FF97FF",
           "#FECB52"
          ],
          "font": {
           "color": "#2a3f5f"
          },
          "geo": {
           "bgcolor": "white",
           "lakecolor": "white",
           "landcolor": "white",
           "showlakes": true,
           "showland": true,
           "subunitcolor": "#C8D4E3"
          },
          "hoverlabel": {
           "align": "left"
          },
          "hovermode": "closest",
          "mapbox": {
           "style": "light"
          },
          "paper_bgcolor": "white",
          "plot_bgcolor": "white",
          "polar": {
           "angularaxis": {
            "gridcolor": "#EBF0F8",
            "linecolor": "#EBF0F8",
            "ticks": ""
           },
           "bgcolor": "white",
           "radialaxis": {
            "gridcolor": "#EBF0F8",
            "linecolor": "#EBF0F8",
            "ticks": ""
           }
          },
          "scene": {
           "xaxis": {
            "backgroundcolor": "white",
            "gridcolor": "#DFE8F3",
            "gridwidth": 2,
            "linecolor": "#EBF0F8",
            "showbackground": true,
            "ticks": "",
            "zerolinecolor": "#EBF0F8"
           },
           "yaxis": {
            "backgroundcolor": "white",
            "gridcolor": "#DFE8F3",
            "gridwidth": 2,
            "linecolor": "#EBF0F8",
            "showbackground": true,
            "ticks": "",
            "zerolinecolor": "#EBF0F8"
           },
           "zaxis": {
            "backgroundcolor": "white",
            "gridcolor": "#DFE8F3",
            "gridwidth": 2,
            "linecolor": "#EBF0F8",
            "showbackground": true,
            "ticks": "",
            "zerolinecolor": "#EBF0F8"
           }
          },
          "shapedefaults": {
           "line": {
            "color": "#2a3f5f"
           }
          },
          "ternary": {
           "aaxis": {
            "gridcolor": "#DFE8F3",
            "linecolor": "#A2B1C6",
            "ticks": ""
           },
           "baxis": {
            "gridcolor": "#DFE8F3",
            "linecolor": "#A2B1C6",
            "ticks": ""
           },
           "bgcolor": "white",
           "caxis": {
            "gridcolor": "#DFE8F3",
            "linecolor": "#A2B1C6",
            "ticks": ""
           }
          },
          "title": {
           "x": 0.05
          },
          "xaxis": {
           "automargin": true,
           "gridcolor": "#EBF0F8",
           "linecolor": "#EBF0F8",
           "ticks": "",
           "title": {
            "standoff": 15
           },
           "zerolinecolor": "#EBF0F8",
           "zerolinewidth": 2
          },
          "yaxis": {
           "automargin": true,
           "gridcolor": "#EBF0F8",
           "linecolor": "#EBF0F8",
           "ticks": "",
           "title": {
            "standoff": 15
           },
           "zerolinecolor": "#EBF0F8",
           "zerolinewidth": 2
          }
         }
        },
        "title": {
         "font": {
          "color": "#2E2E2E",
          "size": 18
         },
         "text": "Model Performance Comparison Across Runs - Precision",
         "x": 0.5
        },
        "width": 1200,
        "xaxis": {
         "anchor": "y",
         "domain": [
          0,
          0.45
         ]
        },
        "xaxis2": {
         "anchor": "y2",
         "domain": [
          0.55,
          1
         ]
        },
        "yaxis": {
         "anchor": "x",
         "domain": [
          0,
          1
         ]
        },
        "yaxis2": {
         "anchor": "x2",
         "domain": [
          0,
          1
         ],
         "matches": "y",
         "showticklabels": false
        }
       }
      }
     },
     "metadata": {},
     "output_type": "display_data"
    },
    {
     "data": {
      "application/vnd.plotly.v1+json": {
       "config": {
        "plotlyServerURL": "https://plot.ly"
       },
       "data": [
        {
         "colorbar": {
          "title": {
           "text": "Recall"
          }
         },
         "colorscale": [
          [
           0,
           "rgb(165,0,38)"
          ],
          [
           0.1,
           "rgb(215,48,39)"
          ],
          [
           0.2,
           "rgb(244,109,67)"
          ],
          [
           0.3,
           "rgb(253,174,97)"
          ],
          [
           0.4,
           "rgb(254,224,139)"
          ],
          [
           0.5,
           "rgb(255,255,191)"
          ],
          [
           0.6,
           "rgb(217,239,139)"
          ],
          [
           0.7,
           "rgb(166,217,106)"
          ],
          [
           0.8,
           "rgb(102,189,99)"
          ],
          [
           0.9,
           "rgb(26,152,80)"
          ],
          [
           1,
           "rgb(0,104,55)"
          ]
         ],
         "showscale": true,
         "text": {
          "bdata": "jZduEoPA2j/2KFyPwvXYP4PAyqFFtrM/CKwcWmQ7vz+Nl24Sg8DKP0oMAiuHFrk/KVyPwvUorD/jpZvEILDCPw==",
          "dtype": "f8",
          "shape": "4, 2"
         },
         "textfont": {
          "size": 8
         },
         "texttemplate": "%{text}",
         "type": "heatmap",
         "x": [
          "ALTAY v. TURKEY (No. 2)",
          "BELYAYEV AND OTHERS v. UKRAINE"
         ],
         "xaxis": "x",
         "y": [
          "gemma3:12b",
          "gemma3:1b",
          "gemma3:4b",
          "mistral:latest"
         ],
         "yaxis": "y",
         "z": {
          "bdata": "m6u5mqu52j/6GJyPwfnYPxQ7sRM7sbM/OB+D8zE4vz+bq7maq7nKP/oYnI/B+bg/HMIhHMIhrD+7ErUrUbvCPw==",
          "dtype": "f8",
          "shape": "4, 2"
         },
         "zmax": 1,
         "zmin": 0
        },
        {
         "colorscale": [
          [
           0,
           "rgb(165,0,38)"
          ],
          [
           0.1,
           "rgb(215,48,39)"
          ],
          [
           0.2,
           "rgb(244,109,67)"
          ],
          [
           0.3,
           "rgb(253,174,97)"
          ],
          [
           0.4,
           "rgb(254,224,139)"
          ],
          [
           0.5,
           "rgb(255,255,191)"
          ],
          [
           0.6,
           "rgb(217,239,139)"
          ],
          [
           0.7,
           "rgb(166,217,106)"
          ],
          [
           0.8,
           "rgb(102,189,99)"
          ],
          [
           0.9,
           "rgb(26,152,80)"
          ],
          [
           1,
           "rgb(0,104,55)"
          ]
         ],
         "showscale": false,
         "text": {
          "bdata": "Vg4tsp3v1z8GgZVDi2zXP/LSTWIQWLk/CKwcWmQ7vz+DwMqhRbbDPwisHFpkO78/mpmZmZmZ0T/jpZvEILDCPw==",
          "dtype": "f8",
          "shape": "4, 2"
         },
         "textfont": {
          "size": 8
         },
         "texttemplate": "%{text}",
         "type": "heatmap",
         "x": [
          "ALTAY v. TURKEY (No. 2)",
          "BELYAYEV AND OTHERS v. UKRAINE"
         ],
         "xaxis": "x2",
         "y": [
          "gemma3:12b",
          "gemma3:1b",
          "gemma3:4b",
          "mistral:latest"
         ],
         "yaxis": "y2",
         "z": {
          "bdata": "mH7pl37p1z9qV6J2JWrXPxmVURmVUbk/OB+D8zE4vz8UO7ETO7HDPzgfg/MxOL8/UhmVURmV0T+7ErUrUbvCPw==",
          "dtype": "f8",
          "shape": "4, 2"
         },
         "zmax": 1,
         "zmin": 0
        }
       ],
       "layout": {
        "annotations": [
         {
          "font": {
           "size": 16
          },
          "showarrow": false,
          "text": "pipeline_results_20250816_182317",
          "x": 0.225,
          "xanchor": "center",
          "xref": "paper",
          "y": 1,
          "yanchor": "bottom",
          "yref": "paper"
         },
         {
          "font": {
           "size": 16
          },
          "showarrow": false,
          "text": "pipeline_results_20250816_185820",
          "x": 0.775,
          "xanchor": "center",
          "xref": "paper",
          "y": 1,
          "yanchor": "bottom",
          "yref": "paper"
         }
        ],
        "height": 400,
        "template": {
         "data": {
          "bar": [
           {
            "error_x": {
             "color": "#2a3f5f"
            },
            "error_y": {
             "color": "#2a3f5f"
            },
            "marker": {
             "line": {
              "color": "white",
              "width": 0.5
             },
             "pattern": {
              "fillmode": "overlay",
              "size": 10,
              "solidity": 0.2
             }
            },
            "type": "bar"
           }
          ],
          "barpolar": [
           {
            "marker": {
             "line": {
              "color": "white",
              "width": 0.5
             },
             "pattern": {
              "fillmode": "overlay",
              "size": 10,
              "solidity": 0.2
             }
            },
            "type": "barpolar"
           }
          ],
          "carpet": [
           {
            "aaxis": {
             "endlinecolor": "#2a3f5f",
             "gridcolor": "#C8D4E3",
             "linecolor": "#C8D4E3",
             "minorgridcolor": "#C8D4E3",
             "startlinecolor": "#2a3f5f"
            },
            "baxis": {
             "endlinecolor": "#2a3f5f",
             "gridcolor": "#C8D4E3",
             "linecolor": "#C8D4E3",
             "minorgridcolor": "#C8D4E3",
             "startlinecolor": "#2a3f5f"
            },
            "type": "carpet"
           }
          ],
          "choropleth": [
           {
            "colorbar": {
             "outlinewidth": 0,
             "ticks": ""
            },
            "type": "choropleth"
           }
          ],
          "contour": [
           {
            "colorbar": {
             "outlinewidth": 0,
             "ticks": ""
            },
            "colorscale": [
             [
              0,
              "#0d0887"
             ],
             [
              0.1111111111111111,
              "#46039f"
             ],
             [
              0.2222222222222222,
              "#7201a8"
             ],
             [
              0.3333333333333333,
              "#9c179e"
             ],
             [
              0.4444444444444444,
              "#bd3786"
             ],
             [
              0.5555555555555556,
              "#d8576b"
             ],
             [
              0.6666666666666666,
              "#ed7953"
             ],
             [
              0.7777777777777778,
              "#fb9f3a"
             ],
             [
              0.8888888888888888,
              "#fdca26"
             ],
             [
              1,
              "#f0f921"
             ]
            ],
            "type": "contour"
           }
          ],
          "contourcarpet": [
           {
            "colorbar": {
             "outlinewidth": 0,
             "ticks": ""
            },
            "type": "contourcarpet"
           }
          ],
          "heatmap": [
           {
            "colorbar": {
             "outlinewidth": 0,
             "ticks": ""
            },
            "colorscale": [
             [
              0,
              "#0d0887"
             ],
             [
              0.1111111111111111,
              "#46039f"
             ],
             [
              0.2222222222222222,
              "#7201a8"
             ],
             [
              0.3333333333333333,
              "#9c179e"
             ],
             [
              0.4444444444444444,
              "#bd3786"
             ],
             [
              0.5555555555555556,
              "#d8576b"
             ],
             [
              0.6666666666666666,
              "#ed7953"
             ],
             [
              0.7777777777777778,
              "#fb9f3a"
             ],
             [
              0.8888888888888888,
              "#fdca26"
             ],
             [
              1,
              "#f0f921"
             ]
            ],
            "type": "heatmap"
           }
          ],
          "histogram": [
           {
            "marker": {
             "pattern": {
              "fillmode": "overlay",
              "size": 10,
              "solidity": 0.2
             }
            },
            "type": "histogram"
           }
          ],
          "histogram2d": [
           {
            "colorbar": {
             "outlinewidth": 0,
             "ticks": ""
            },
            "colorscale": [
             [
              0,
              "#0d0887"
             ],
             [
              0.1111111111111111,
              "#46039f"
             ],
             [
              0.2222222222222222,
              "#7201a8"
             ],
             [
              0.3333333333333333,
              "#9c179e"
             ],
             [
              0.4444444444444444,
              "#bd3786"
             ],
             [
              0.5555555555555556,
              "#d8576b"
             ],
             [
              0.6666666666666666,
              "#ed7953"
             ],
             [
              0.7777777777777778,
              "#fb9f3a"
             ],
             [
              0.8888888888888888,
              "#fdca26"
             ],
             [
              1,
              "#f0f921"
             ]
            ],
            "type": "histogram2d"
           }
          ],
          "histogram2dcontour": [
           {
            "colorbar": {
             "outlinewidth": 0,
             "ticks": ""
            },
            "colorscale": [
             [
              0,
              "#0d0887"
             ],
             [
              0.1111111111111111,
              "#46039f"
             ],
             [
              0.2222222222222222,
              "#7201a8"
             ],
             [
              0.3333333333333333,
              "#9c179e"
             ],
             [
              0.4444444444444444,
              "#bd3786"
             ],
             [
              0.5555555555555556,
              "#d8576b"
             ],
             [
              0.6666666666666666,
              "#ed7953"
             ],
             [
              0.7777777777777778,
              "#fb9f3a"
             ],
             [
              0.8888888888888888,
              "#fdca26"
             ],
             [
              1,
              "#f0f921"
             ]
            ],
            "type": "histogram2dcontour"
           }
          ],
          "mesh3d": [
           {
            "colorbar": {
             "outlinewidth": 0,
             "ticks": ""
            },
            "type": "mesh3d"
           }
          ],
          "parcoords": [
           {
            "line": {
             "colorbar": {
              "outlinewidth": 0,
              "ticks": ""
             }
            },
            "type": "parcoords"
           }
          ],
          "pie": [
           {
            "automargin": true,
            "type": "pie"
           }
          ],
          "scatter": [
           {
            "fillpattern": {
             "fillmode": "overlay",
             "size": 10,
             "solidity": 0.2
            },
            "type": "scatter"
           }
          ],
          "scatter3d": [
           {
            "line": {
             "colorbar": {
              "outlinewidth": 0,
              "ticks": ""
             }
            },
            "marker": {
             "colorbar": {
              "outlinewidth": 0,
              "ticks": ""
             }
            },
            "type": "scatter3d"
           }
          ],
          "scattercarpet": [
           {
            "marker": {
             "colorbar": {
              "outlinewidth": 0,
              "ticks": ""
             }
            },
            "type": "scattercarpet"
           }
          ],
          "scattergeo": [
           {
            "marker": {
             "colorbar": {
              "outlinewidth": 0,
              "ticks": ""
             }
            },
            "type": "scattergeo"
           }
          ],
          "scattergl": [
           {
            "marker": {
             "colorbar": {
              "outlinewidth": 0,
              "ticks": ""
             }
            },
            "type": "scattergl"
           }
          ],
          "scattermap": [
           {
            "marker": {
             "colorbar": {
              "outlinewidth": 0,
              "ticks": ""
             }
            },
            "type": "scattermap"
           }
          ],
          "scattermapbox": [
           {
            "marker": {
             "colorbar": {
              "outlinewidth": 0,
              "ticks": ""
             }
            },
            "type": "scattermapbox"
           }
          ],
          "scatterpolar": [
           {
            "marker": {
             "colorbar": {
              "outlinewidth": 0,
              "ticks": ""
             }
            },
            "type": "scatterpolar"
           }
          ],
          "scatterpolargl": [
           {
            "marker": {
             "colorbar": {
              "outlinewidth": 0,
              "ticks": ""
             }
            },
            "type": "scatterpolargl"
           }
          ],
          "scatterternary": [
           {
            "marker": {
             "colorbar": {
              "outlinewidth": 0,
              "ticks": ""
             }
            },
            "type": "scatterternary"
           }
          ],
          "surface": [
           {
            "colorbar": {
             "outlinewidth": 0,
             "ticks": ""
            },
            "colorscale": [
             [
              0,
              "#0d0887"
             ],
             [
              0.1111111111111111,
              "#46039f"
             ],
             [
              0.2222222222222222,
              "#7201a8"
             ],
             [
              0.3333333333333333,
              "#9c179e"
             ],
             [
              0.4444444444444444,
              "#bd3786"
             ],
             [
              0.5555555555555556,
              "#d8576b"
             ],
             [
              0.6666666666666666,
              "#ed7953"
             ],
             [
              0.7777777777777778,
              "#fb9f3a"
             ],
             [
              0.8888888888888888,
              "#fdca26"
             ],
             [
              1,
              "#f0f921"
             ]
            ],
            "type": "surface"
           }
          ],
          "table": [
           {
            "cells": {
             "fill": {
              "color": "#EBF0F8"
             },
             "line": {
              "color": "white"
             }
            },
            "header": {
             "fill": {
              "color": "#C8D4E3"
             },
             "line": {
              "color": "white"
             }
            },
            "type": "table"
           }
          ]
         },
         "layout": {
          "annotationdefaults": {
           "arrowcolor": "#2a3f5f",
           "arrowhead": 0,
           "arrowwidth": 1
          },
          "autotypenumbers": "strict",
          "coloraxis": {
           "colorbar": {
            "outlinewidth": 0,
            "ticks": ""
           }
          },
          "colorscale": {
           "diverging": [
            [
             0,
             "#8e0152"
            ],
            [
             0.1,
             "#c51b7d"
            ],
            [
             0.2,
             "#de77ae"
            ],
            [
             0.3,
             "#f1b6da"
            ],
            [
             0.4,
             "#fde0ef"
            ],
            [
             0.5,
             "#f7f7f7"
            ],
            [
             0.6,
             "#e6f5d0"
            ],
            [
             0.7,
             "#b8e186"
            ],
            [
             0.8,
             "#7fbc41"
            ],
            [
             0.9,
             "#4d9221"
            ],
            [
             1,
             "#276419"
            ]
           ],
           "sequential": [
            [
             0,
             "#0d0887"
            ],
            [
             0.1111111111111111,
             "#46039f"
            ],
            [
             0.2222222222222222,
             "#7201a8"
            ],
            [
             0.3333333333333333,
             "#9c179e"
            ],
            [
             0.4444444444444444,
             "#bd3786"
            ],
            [
             0.5555555555555556,
             "#d8576b"
            ],
            [
             0.6666666666666666,
             "#ed7953"
            ],
            [
             0.7777777777777778,
             "#fb9f3a"
            ],
            [
             0.8888888888888888,
             "#fdca26"
            ],
            [
             1,
             "#f0f921"
            ]
           ],
           "sequentialminus": [
            [
             0,
             "#0d0887"
            ],
            [
             0.1111111111111111,
             "#46039f"
            ],
            [
             0.2222222222222222,
             "#7201a8"
            ],
            [
             0.3333333333333333,
             "#9c179e"
            ],
            [
             0.4444444444444444,
             "#bd3786"
            ],
            [
             0.5555555555555556,
             "#d8576b"
            ],
            [
             0.6666666666666666,
             "#ed7953"
            ],
            [
             0.7777777777777778,
             "#fb9f3a"
            ],
            [
             0.8888888888888888,
             "#fdca26"
            ],
            [
             1,
             "#f0f921"
            ]
           ]
          },
          "colorway": [
           "#636efa",
           "#EF553B",
           "#00cc96",
           "#ab63fa",
           "#FFA15A",
           "#19d3f3",
           "#FF6692",
           "#B6E880",
           "#FF97FF",
           "#FECB52"
          ],
          "font": {
           "color": "#2a3f5f"
          },
          "geo": {
           "bgcolor": "white",
           "lakecolor": "white",
           "landcolor": "white",
           "showlakes": true,
           "showland": true,
           "subunitcolor": "#C8D4E3"
          },
          "hoverlabel": {
           "align": "left"
          },
          "hovermode": "closest",
          "mapbox": {
           "style": "light"
          },
          "paper_bgcolor": "white",
          "plot_bgcolor": "white",
          "polar": {
           "angularaxis": {
            "gridcolor": "#EBF0F8",
            "linecolor": "#EBF0F8",
            "ticks": ""
           },
           "bgcolor": "white",
           "radialaxis": {
            "gridcolor": "#EBF0F8",
            "linecolor": "#EBF0F8",
            "ticks": ""
           }
          },
          "scene": {
           "xaxis": {
            "backgroundcolor": "white",
            "gridcolor": "#DFE8F3",
            "gridwidth": 2,
            "linecolor": "#EBF0F8",
            "showbackground": true,
            "ticks": "",
            "zerolinecolor": "#EBF0F8"
           },
           "yaxis": {
            "backgroundcolor": "white",
            "gridcolor": "#DFE8F3",
            "gridwidth": 2,
            "linecolor": "#EBF0F8",
            "showbackground": true,
            "ticks": "",
            "zerolinecolor": "#EBF0F8"
           },
           "zaxis": {
            "backgroundcolor": "white",
            "gridcolor": "#DFE8F3",
            "gridwidth": 2,
            "linecolor": "#EBF0F8",
            "showbackground": true,
            "ticks": "",
            "zerolinecolor": "#EBF0F8"
           }
          },
          "shapedefaults": {
           "line": {
            "color": "#2a3f5f"
           }
          },
          "ternary": {
           "aaxis": {
            "gridcolor": "#DFE8F3",
            "linecolor": "#A2B1C6",
            "ticks": ""
           },
           "baxis": {
            "gridcolor": "#DFE8F3",
            "linecolor": "#A2B1C6",
            "ticks": ""
           },
           "bgcolor": "white",
           "caxis": {
            "gridcolor": "#DFE8F3",
            "linecolor": "#A2B1C6",
            "ticks": ""
           }
          },
          "title": {
           "x": 0.05
          },
          "xaxis": {
           "automargin": true,
           "gridcolor": "#EBF0F8",
           "linecolor": "#EBF0F8",
           "ticks": "",
           "title": {
            "standoff": 15
           },
           "zerolinecolor": "#EBF0F8",
           "zerolinewidth": 2
          },
          "yaxis": {
           "automargin": true,
           "gridcolor": "#EBF0F8",
           "linecolor": "#EBF0F8",
           "ticks": "",
           "title": {
            "standoff": 15
           },
           "zerolinecolor": "#EBF0F8",
           "zerolinewidth": 2
          }
         }
        },
        "title": {
         "font": {
          "color": "#2E2E2E",
          "size": 18
         },
         "text": "Model Performance Comparison Across Runs - Recall",
         "x": 0.5
        },
        "width": 1200,
        "xaxis": {
         "anchor": "y",
         "domain": [
          0,
          0.45
         ]
        },
        "xaxis2": {
         "anchor": "y2",
         "domain": [
          0.55,
          1
         ]
        },
        "yaxis": {
         "anchor": "x",
         "domain": [
          0,
          1
         ]
        },
        "yaxis2": {
         "anchor": "x2",
         "domain": [
          0,
          1
         ],
         "matches": "y",
         "showticklabels": false
        }
       }
      }
     },
     "metadata": {},
     "output_type": "display_data"
    },
    {
     "name": "stdout",
     "output_type": "stream",
     "text": [
      "\n",
      "================================================================================\n",
      "📊 PERFORMANCE SUMMARY\n",
      "================================================================================\n",
      "\n",
      "🏆 BEST MODEL PER DOCUMENT (by F1-Score):\n"
     ]
    },
    {
     "data": {
      "application/vnd.microsoft.datawrangler.viewer.v0+json": {
       "columns": [
        {
         "name": "index",
         "rawType": "int64",
         "type": "integer"
        },
        {
         "name": "document",
         "rawType": "object",
         "type": "string"
        },
        {
         "name": "model",
         "rawType": "object",
         "type": "string"
        },
        {
         "name": "f1_score",
         "rawType": "float64",
         "type": "float"
        },
        {
         "name": "precision",
         "rawType": "float64",
         "type": "float"
        },
        {
         "name": "recall",
         "rawType": "float64",
         "type": "float"
        }
       ],
       "ref": "c82d9d22-00d2-45bf-ac9b-f5c2304ad675",
       "rows": [
        [
         "100",
         "ALTAY v. TURKEY (No. 2)",
         "gemma3:12b",
         "0.7619047619047619",
         "0.7619047619047619",
         "0.7619047619047619"
        ],
        [
         "140",
         "BELYAYEV AND OTHERS v. UKRAINE",
         "gemma3:12b",
         "0.6153846153846153",
         "0.47058823529411764",
         "0.8888888888888888"
        ]
       ],
       "shape": {
        "columns": 5,
        "rows": 2
       }
      },
      "text/html": [
       "<div>\n",
       "<style scoped>\n",
       "    .dataframe tbody tr th:only-of-type {\n",
       "        vertical-align: middle;\n",
       "    }\n",
       "\n",
       "    .dataframe tbody tr th {\n",
       "        vertical-align: top;\n",
       "    }\n",
       "\n",
       "    .dataframe thead th {\n",
       "        text-align: right;\n",
       "    }\n",
       "</style>\n",
       "<table border=\"1\" class=\"dataframe\">\n",
       "  <thead>\n",
       "    <tr style=\"text-align: right;\">\n",
       "      <th></th>\n",
       "      <th>document</th>\n",
       "      <th>model</th>\n",
       "      <th>f1_score</th>\n",
       "      <th>precision</th>\n",
       "      <th>recall</th>\n",
       "    </tr>\n",
       "  </thead>\n",
       "  <tbody>\n",
       "    <tr>\n",
       "      <th>100</th>\n",
       "      <td>ALTAY v. TURKEY (No. 2)</td>\n",
       "      <td>gemma3:12b</td>\n",
       "      <td>0.761905</td>\n",
       "      <td>0.761905</td>\n",
       "      <td>0.761905</td>\n",
       "    </tr>\n",
       "    <tr>\n",
       "      <th>140</th>\n",
       "      <td>BELYAYEV AND OTHERS v. UKRAINE</td>\n",
       "      <td>gemma3:12b</td>\n",
       "      <td>0.615385</td>\n",
       "      <td>0.470588</td>\n",
       "      <td>0.888889</td>\n",
       "    </tr>\n",
       "  </tbody>\n",
       "</table>\n",
       "</div>"
      ],
      "text/plain": [
       "                           document       model  f1_score  precision    recall\n",
       "100         ALTAY v. TURKEY (No. 2)  gemma3:12b  0.761905   0.761905  0.761905\n",
       "140  BELYAYEV AND OTHERS v. UKRAINE  gemma3:12b  0.615385   0.470588  0.888889"
      ]
     },
     "metadata": {},
     "output_type": "display_data"
    },
    {
     "name": "stdout",
     "output_type": "stream",
     "text": [
      "\n",
      "🥇 OVERALL MODEL RANKING:\n"
     ]
    },
    {
     "data": {
      "application/vnd.microsoft.datawrangler.viewer.v0+json": {
       "columns": [
        {
         "name": "model",
         "rawType": "object",
         "type": "string"
        },
        {
         "name": "F1_Mean",
         "rawType": "float64",
         "type": "float"
        },
        {
         "name": "F1_Std",
         "rawType": "float64",
         "type": "float"
        },
        {
         "name": "F1_Min",
         "rawType": "float64",
         "type": "float"
        },
        {
         "name": "F1_Max",
         "rawType": "float64",
         "type": "float"
        },
        {
         "name": "Precision_Mean",
         "rawType": "float64",
         "type": "float"
        },
        {
         "name": "Recall_Mean",
         "rawType": "float64",
         "type": "float"
        },
        {
         "name": "Documents",
         "rawType": "int64",
         "type": "integer"
        }
       ],
       "ref": "37986de8-2166-4290-91ed-dc8f0aa3b2b3",
       "rows": [
        [
         "gemma3:12b",
         "0.3156",
         "0.2321",
         "0.0",
         "0.7619",
         "0.3141",
         "0.3395",
         "40"
        ],
        [
         "gemma3:4b",
         "0.1372",
         "0.1354",
         "0.0",
         "0.4242",
         "0.2094",
         "0.1107",
         "40"
        ],
        [
         "mistral:latest",
         "0.1359",
         "0.1667",
         "0.0",
         "0.55",
         "0.206",
         "0.1227",
         "40"
        ],
        [
         "gemma3:1b",
         "0.0961",
         "0.0904",
         "0.0",
         "0.3158",
         "0.1217",
         "0.0839",
         "40"
        ]
       ],
       "shape": {
        "columns": 7,
        "rows": 4
       }
      },
      "text/html": [
       "<div>\n",
       "<style scoped>\n",
       "    .dataframe tbody tr th:only-of-type {\n",
       "        vertical-align: middle;\n",
       "    }\n",
       "\n",
       "    .dataframe tbody tr th {\n",
       "        vertical-align: top;\n",
       "    }\n",
       "\n",
       "    .dataframe thead th {\n",
       "        text-align: right;\n",
       "    }\n",
       "</style>\n",
       "<table border=\"1\" class=\"dataframe\">\n",
       "  <thead>\n",
       "    <tr style=\"text-align: right;\">\n",
       "      <th></th>\n",
       "      <th>F1_Mean</th>\n",
       "      <th>F1_Std</th>\n",
       "      <th>F1_Min</th>\n",
       "      <th>F1_Max</th>\n",
       "      <th>Precision_Mean</th>\n",
       "      <th>Recall_Mean</th>\n",
       "      <th>Documents</th>\n",
       "    </tr>\n",
       "    <tr>\n",
       "      <th>model</th>\n",
       "      <th></th>\n",
       "      <th></th>\n",
       "      <th></th>\n",
       "      <th></th>\n",
       "      <th></th>\n",
       "      <th></th>\n",
       "      <th></th>\n",
       "    </tr>\n",
       "  </thead>\n",
       "  <tbody>\n",
       "    <tr>\n",
       "      <th>gemma3:12b</th>\n",
       "      <td>0.3156</td>\n",
       "      <td>0.2321</td>\n",
       "      <td>0.0</td>\n",
       "      <td>0.7619</td>\n",
       "      <td>0.3141</td>\n",
       "      <td>0.3395</td>\n",
       "      <td>40</td>\n",
       "    </tr>\n",
       "    <tr>\n",
       "      <th>gemma3:4b</th>\n",
       "      <td>0.1372</td>\n",
       "      <td>0.1354</td>\n",
       "      <td>0.0</td>\n",
       "      <td>0.4242</td>\n",
       "      <td>0.2094</td>\n",
       "      <td>0.1107</td>\n",
       "      <td>40</td>\n",
       "    </tr>\n",
       "    <tr>\n",
       "      <th>mistral:latest</th>\n",
       "      <td>0.1359</td>\n",
       "      <td>0.1667</td>\n",
       "      <td>0.0</td>\n",
       "      <td>0.5500</td>\n",
       "      <td>0.2060</td>\n",
       "      <td>0.1227</td>\n",
       "      <td>40</td>\n",
       "    </tr>\n",
       "    <tr>\n",
       "      <th>gemma3:1b</th>\n",
       "      <td>0.0961</td>\n",
       "      <td>0.0904</td>\n",
       "      <td>0.0</td>\n",
       "      <td>0.3158</td>\n",
       "      <td>0.1217</td>\n",
       "      <td>0.0839</td>\n",
       "      <td>40</td>\n",
       "    </tr>\n",
       "  </tbody>\n",
       "</table>\n",
       "</div>"
      ],
      "text/plain": [
       "                F1_Mean  F1_Std  F1_Min  F1_Max  Precision_Mean  Recall_Mean  \\\n",
       "model                                                                          \n",
       "gemma3:12b       0.3156  0.2321     0.0  0.7619          0.3141       0.3395   \n",
       "gemma3:4b        0.1372  0.1354     0.0  0.4242          0.2094       0.1107   \n",
       "mistral:latest   0.1359  0.1667     0.0  0.5500          0.2060       0.1227   \n",
       "gemma3:1b        0.0961  0.0904     0.0  0.3158          0.1217       0.0839   \n",
       "\n",
       "                Documents  \n",
       "model                      \n",
       "gemma3:12b             40  \n",
       "gemma3:4b              40  \n",
       "mistral:latest         40  \n",
       "gemma3:1b              40  "
      ]
     },
     "metadata": {},
     "output_type": "display_data"
    },
    {
     "name": "stdout",
     "output_type": "stream",
     "text": [
      "\n",
      "📋 DOCUMENT DIFFICULTY RANKING (Hardest First):\n"
     ]
    },
    {
     "data": {
      "application/vnd.microsoft.datawrangler.viewer.v0+json": {
       "columns": [
        {
         "name": "document",
         "rawType": "object",
         "type": "string"
        },
        {
         "name": "F1_Mean",
         "rawType": "float64",
         "type": "float"
        },
        {
         "name": "F1_Std",
         "rawType": "float64",
         "type": "float"
        },
        {
         "name": "F1_Min",
         "rawType": "float64",
         "type": "float"
        },
        {
         "name": "F1_Max",
         "rawType": "float64",
         "type": "float"
        },
        {
         "name": "Models_Tested",
         "rawType": "int64",
         "type": "integer"
        }
       ],
       "ref": "3e336451-704a-477d-8929-d01ce681eefc",
       "rows": [
        [
         "BELYAYEV AND OTHERS v. UKRAINE",
         "0.1269",
         "0.1552",
         "0.0",
         "0.6154",
         "80"
        ],
        [
         "ALTAY v. TURKEY (No. 2)",
         "0.2155",
         "0.1999",
         "0.0",
         "0.7619",
         "80"
        ]
       ],
       "shape": {
        "columns": 5,
        "rows": 2
       }
      },
      "text/html": [
       "<div>\n",
       "<style scoped>\n",
       "    .dataframe tbody tr th:only-of-type {\n",
       "        vertical-align: middle;\n",
       "    }\n",
       "\n",
       "    .dataframe tbody tr th {\n",
       "        vertical-align: top;\n",
       "    }\n",
       "\n",
       "    .dataframe thead th {\n",
       "        text-align: right;\n",
       "    }\n",
       "</style>\n",
       "<table border=\"1\" class=\"dataframe\">\n",
       "  <thead>\n",
       "    <tr style=\"text-align: right;\">\n",
       "      <th></th>\n",
       "      <th>F1_Mean</th>\n",
       "      <th>F1_Std</th>\n",
       "      <th>F1_Min</th>\n",
       "      <th>F1_Max</th>\n",
       "      <th>Models_Tested</th>\n",
       "    </tr>\n",
       "    <tr>\n",
       "      <th>document</th>\n",
       "      <th></th>\n",
       "      <th></th>\n",
       "      <th></th>\n",
       "      <th></th>\n",
       "      <th></th>\n",
       "    </tr>\n",
       "  </thead>\n",
       "  <tbody>\n",
       "    <tr>\n",
       "      <th>BELYAYEV AND OTHERS v. UKRAINE</th>\n",
       "      <td>0.1269</td>\n",
       "      <td>0.1552</td>\n",
       "      <td>0.0</td>\n",
       "      <td>0.6154</td>\n",
       "      <td>80</td>\n",
       "    </tr>\n",
       "    <tr>\n",
       "      <th>ALTAY v. TURKEY (No. 2)</th>\n",
       "      <td>0.2155</td>\n",
       "      <td>0.1999</td>\n",
       "      <td>0.0</td>\n",
       "      <td>0.7619</td>\n",
       "      <td>80</td>\n",
       "    </tr>\n",
       "  </tbody>\n",
       "</table>\n",
       "</div>"
      ],
      "text/plain": [
       "                                F1_Mean  F1_Std  F1_Min  F1_Max  Models_Tested\n",
       "document                                                                      \n",
       "BELYAYEV AND OTHERS v. UKRAINE   0.1269  0.1552     0.0  0.6154             80\n",
       "ALTAY v. TURKEY (No. 2)          0.2155  0.1999     0.0  0.7619             80"
      ]
     },
     "metadata": {},
     "output_type": "display_data"
    },
    {
     "name": "stdout",
     "output_type": "stream",
     "text": [
      "\n",
      "🔄 RUN COMPARISON:\n"
     ]
    },
    {
     "data": {
      "application/vnd.microsoft.datawrangler.viewer.v0+json": {
       "columns": [
        {
         "name": "run",
         "rawType": "object",
         "type": "string"
        },
        {
         "name": "F1_Mean",
         "rawType": "float64",
         "type": "float"
        },
        {
         "name": "F1_Std",
         "rawType": "float64",
         "type": "float"
        },
        {
         "name": "Precision_Mean",
         "rawType": "float64",
         "type": "float"
        },
        {
         "name": "Recall_Mean",
         "rawType": "float64",
         "type": "float"
        },
        {
         "name": "Models",
         "rawType": "int64",
         "type": "integer"
        },
        {
         "name": "Documents",
         "rawType": "int64",
         "type": "integer"
        }
       ],
       "ref": "0edf504d-6c6f-431b-8b7d-15b5dc441153",
       "rows": [
        [
         "pipeline_results_20250816_185820",
         "0.1858",
         "0.1923",
         "0.2323",
         "0.174",
         "4",
         "2"
        ],
        [
         "pipeline_results_20250816_182317",
         "0.1566",
         "0.175",
         "0.1933",
         "0.1544",
         "4",
         "2"
        ]
       ],
       "shape": {
        "columns": 6,
        "rows": 2
       }
      },
      "text/html": [
       "<div>\n",
       "<style scoped>\n",
       "    .dataframe tbody tr th:only-of-type {\n",
       "        vertical-align: middle;\n",
       "    }\n",
       "\n",
       "    .dataframe tbody tr th {\n",
       "        vertical-align: top;\n",
       "    }\n",
       "\n",
       "    .dataframe thead th {\n",
       "        text-align: right;\n",
       "    }\n",
       "</style>\n",
       "<table border=\"1\" class=\"dataframe\">\n",
       "  <thead>\n",
       "    <tr style=\"text-align: right;\">\n",
       "      <th></th>\n",
       "      <th>F1_Mean</th>\n",
       "      <th>F1_Std</th>\n",
       "      <th>Precision_Mean</th>\n",
       "      <th>Recall_Mean</th>\n",
       "      <th>Models</th>\n",
       "      <th>Documents</th>\n",
       "    </tr>\n",
       "    <tr>\n",
       "      <th>run</th>\n",
       "      <th></th>\n",
       "      <th></th>\n",
       "      <th></th>\n",
       "      <th></th>\n",
       "      <th></th>\n",
       "      <th></th>\n",
       "    </tr>\n",
       "  </thead>\n",
       "  <tbody>\n",
       "    <tr>\n",
       "      <th>pipeline_results_20250816_185820</th>\n",
       "      <td>0.1858</td>\n",
       "      <td>0.1923</td>\n",
       "      <td>0.2323</td>\n",
       "      <td>0.1740</td>\n",
       "      <td>4</td>\n",
       "      <td>2</td>\n",
       "    </tr>\n",
       "    <tr>\n",
       "      <th>pipeline_results_20250816_182317</th>\n",
       "      <td>0.1566</td>\n",
       "      <td>0.1750</td>\n",
       "      <td>0.1933</td>\n",
       "      <td>0.1544</td>\n",
       "      <td>4</td>\n",
       "      <td>2</td>\n",
       "    </tr>\n",
       "  </tbody>\n",
       "</table>\n",
       "</div>"
      ],
      "text/plain": [
       "                                  F1_Mean  F1_Std  Precision_Mean  \\\n",
       "run                                                                 \n",
       "pipeline_results_20250816_185820   0.1858  0.1923          0.2323   \n",
       "pipeline_results_20250816_182317   0.1566  0.1750          0.1933   \n",
       "\n",
       "                                  Recall_Mean  Models  Documents  \n",
       "run                                                               \n",
       "pipeline_results_20250816_185820       0.1740       4          2  \n",
       "pipeline_results_20250816_182317       0.1544       4          2  "
      ]
     },
     "metadata": {},
     "output_type": "display_data"
    }
   ],
   "source": [
    "if 'df' in globals() and not df.empty:\n",
    "    \n",
    "    # 4. Run Comparison (if multiple runs selected)\n",
    "    if len(df['run'].unique()) > 1:\n",
    "        print(\"🔄 4. Run Comparison Dashboard\")\n",
    "        run_comparison = create_run_comparison_dashboard(df)\n",
    "        if run_comparison:\n",
    "            run_comparison.show()\n",
    "    \n",
    "    # 5. Additional Heatmaps for Precision and Recall\n",
    "    print(\"📊 5. Additional Performance Heatmaps\")\n",
    "    \n",
    "    # Filter for main visualization data (Overall + lenient)\n",
    "    df_main = df[(df['annotation_type'] == 'Overall') & (df['evaluation_mode'] == 'lenient')].copy()\n",
    "    \n",
    "    # Precision heatmap\n",
    "    precision_heatmap = create_performance_heatmap(df_main, 'precision', 'Precision')\n",
    "    precision_heatmap.show()\n",
    "    \n",
    "    # Recall heatmap  \n",
    "    recall_heatmap = create_performance_heatmap(df_main, 'recall', 'Recall')\n",
    "    recall_heatmap.show()\n",
    "    \n",
    "    # 6. Summary Statistics Table\n",
    "    print(\"\\n\" + \"=\"*80)\n",
    "    print(\"📊 PERFORMANCE SUMMARY\")\n",
    "    print(\"=\"*80)\n",
    "    \n",
    "    # Best model per document\n",
    "    print(\"\\n🏆 BEST MODEL PER DOCUMENT (by F1-Score):\")\n",
    "    best_per_doc = df.loc[df.groupby('document')['f1_score'].idxmax()][['document', 'model', 'f1_score', 'precision', 'recall']]\n",
    "    best_per_doc = best_per_doc.sort_values('f1_score', ascending=False)\n",
    "    display(best_per_doc)\n",
    "    \n",
    "    # Overall model ranking\n",
    "    print(\"\\n🥇 OVERALL MODEL RANKING:\")\n",
    "    model_ranking = df.groupby('model').agg({\n",
    "        'f1_score': ['mean', 'std', 'min', 'max'],\n",
    "        'precision': 'mean',\n",
    "        'recall': 'mean',\n",
    "        'document': 'count'\n",
    "    }).round(4)\n",
    "    model_ranking.columns = ['F1_Mean', 'F1_Std', 'F1_Min', 'F1_Max', 'Precision_Mean', 'Recall_Mean', 'Documents']\n",
    "    model_ranking = model_ranking.sort_values('F1_Mean', ascending=False)\n",
    "    display(model_ranking)\n",
    "    \n",
    "    # Document difficulty ranking\n",
    "    print(\"\\n📋 DOCUMENT DIFFICULTY RANKING (Hardest First):\")\n",
    "    doc_ranking = df.groupby('document').agg({\n",
    "        'f1_score': ['mean', 'std', 'min', 'max'],\n",
    "        'model': 'count'\n",
    "    }).round(4)\n",
    "    doc_ranking.columns = ['F1_Mean', 'F1_Std', 'F1_Min', 'F1_Max', 'Models_Tested']\n",
    "    doc_ranking = doc_ranking.sort_values('F1_Mean', ascending=True)\n",
    "    display(doc_ranking)\n",
    "    \n",
    "    if len(df['run'].unique()) > 1:\n",
    "        print(\"\\n🔄 RUN COMPARISON:\")\n",
    "        run_summary = df.groupby('run').agg({\n",
    "            'f1_score': ['mean', 'std'],\n",
    "            'precision': 'mean',\n",
    "            'recall': 'mean',\n",
    "            'model': 'nunique',\n",
    "            'document': 'nunique'\n",
    "        }).round(4)\n",
    "        run_summary.columns = ['F1_Mean', 'F1_Std', 'Precision_Mean', 'Recall_Mean', 'Models', 'Documents']\n",
    "        run_summary = run_summary.sort_values('F1_Mean', ascending=False)\n",
    "        display(run_summary)\n",
    "    \n",
    "else:\n",
    "    print(\"❌ Please load and process evaluation data first.\")"
   ]
  }
 ],
 "metadata": {
  "kernelspec": {
   "display_name": ".venv",
   "language": "python",
   "name": "python3"
  },
  "language_info": {
   "codemirror_mode": {
    "name": "ipython",
    "version": 3
   },
   "file_extension": ".py",
   "mimetype": "text/x-python",
   "name": "python",
   "nbconvert_exporter": "python",
   "pygments_lexer": "ipython3",
   "version": "3.13.3"
  }
 },
 "nbformat": 4,
 "nbformat_minor": 5
}
