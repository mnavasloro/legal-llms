{
 "cells": [
  {
   "cell_type": "code",
   "execution_count": 1,
   "id": "51ebcc86",
   "metadata": {},
   "outputs": [],
   "source": [
    "import json\n",
    "import os\n",
    "import pandas as pd\n",
    "import plotly.graph_objects as go\n",
    "import plotly.express as px\n",
    "from plotly.subplots import make_subplots\n",
    "import numpy as np\n",
    "from pathlib import Path\n",
    "import ipywidgets as widgets\n",
    "from IPython.display import display, clear_output"
   ]
  },
  {
   "cell_type": "code",
   "execution_count": null,
   "id": "0986d4f4",
   "metadata": {},
   "outputs": [
    {
     "name": "stdout",
     "output_type": "stream",
     "text": [
      "Warning: No evaluation file found in pipeline_results_20250722_045009\n",
      "Warning: No evaluation file found in pipeline_results_20250718_120636\n",
      "Warning: No evaluation file found in pipeline_results_20250718_120658\n",
      "Found 2 pipeline_results folders:\n",
      "  - pipeline_results_20250725_111753\n",
      "  - pipeline_results_20250808_145025\n"
     ]
    },
    {
     "data": {
      "application/vnd.jupyter.widget-view+json": {
       "model_id": "f604c540693c45e19dc08197d7bf2f36",
       "version_major": 2,
       "version_minor": 0
      },
      "text/plain": [
       "SelectMultiple(description='Select runs:', layout=Layout(height='150px', width='50%'), options=(('pipeline_res…"
      ]
     },
     "metadata": {},
     "output_type": "display_data"
    },
    {
     "data": {
      "application/vnd.jupyter.widget-view+json": {
       "model_id": "d060cf69eb8c498a95d016b2c9c30bc9",
       "version_major": 2,
       "version_minor": 0
      },
      "text/plain": [
       "Button(button_style='success', description='Load Selected Data', icon='check', style=ButtonStyle())"
      ]
     },
     "metadata": {},
     "output_type": "display_data"
    },
    {
     "data": {
      "application/vnd.jupyter.widget-view+json": {
       "model_id": "afbf28499020459295052230cc399ac2",
       "version_major": 2,
       "version_minor": 0
      },
      "text/plain": [
       "Output()"
      ]
     },
     "metadata": {},
     "output_type": "display_data"
    }
   ],
   "source": [
    "def find_pipeline_results_folders(base_path=\"output\"):\n",
    "    \"\"\"Find all pipeline_results folders in the output directory\"\"\"\n",
    "    pipeline_folders = []\n",
    "    base_path = Path(base_path)\n",
    "    \n",
    "    if not base_path.exists():\n",
    "        print(f\"Output directory '{base_path}' not found!\")\n",
    "        return []\n",
    "    \n",
    "    for item in base_path.iterdir():\n",
    "        if item.is_dir() and item.name.startswith(\"pipeline_results_\"):\n",
    "            # Check for evaluation file (try both possible names)\n",
    "            eval_json_path1 = item / \"llm_evaluation_results.json\"\n",
    "            eval_json_path2 = item / \"llm_evaluation.json\"\n",
    "            \n",
    "            eval_path = None\n",
    "            if eval_json_path1.exists():\n",
    "                eval_path = eval_json_path1\n",
    "            elif eval_json_path2.exists():\n",
    "                eval_path = eval_json_path2\n",
    "            \n",
    "            if eval_path:\n",
    "                pipeline_folders.append({\n",
    "                    'name': item.name,\n",
    "                    'path': str(item),\n",
    "                    'eval_path': str(eval_path)\n",
    "                })\n",
    "            else:\n",
    "                print(f\"Warning: No evaluation file found in {item.name}\")\n",
    "    \n",
    "    return pipeline_folders\n",
    "\n",
    "def load_evaluation_data(eval_path):\n",
    "    \"\"\"Load evaluation data from JSON file\"\"\"\n",
    "    try:\n",
    "        with open(eval_path, 'r', encoding='utf-8') as f:\n",
    "            return json.load(f)\n",
    "    except Exception as e:\n",
    "        print(f\"Error loading {eval_path}: {e}\")\n",
    "        return None\n",
    "\n",
    "# Find available pipeline results\n",
    "available_folders = find_pipeline_results_folders()\n",
    "\n",
    "if not available_folders:\n",
    "    print(\"No pipeline_results folders found in the output directory!\")\n",
    "else:\n",
    "    print(f\"Found {len(available_folders)} pipeline_results folders:\")\n",
    "    for folder in available_folders:\n",
    "        print(f\"  - {folder['name']}\")\n",
    "\n",
    "# Create selection widget\n",
    "folder_options = [(folder['name'], folder) for folder in available_folders]\n",
    "folder_selector = widgets.SelectMultiple(\n",
    "    options=folder_options,\n",
    "    description='Select runs:',\n",
    "    disabled=False,\n",
    "    style={'description_width': 'initial'},\n",
    "    layout=widgets.Layout(width='50%', height='150px')\n",
    ")\n",
    "\n",
    "load_button = widgets.Button(\n",
    "    description='Load Selected Data',\n",
    "    button_style='success',\n",
    "    icon='check'\n",
    ")\n",
    "\n",
    "output_area = widgets.Output()\n",
    "\n",
    "def load_data(button):\n",
    "    with output_area:\n",
    "        clear_output()\n",
    "        selected_folders = list(folder_selector.value)\n",
    "        \n",
    "        if not selected_folders:\n",
    "            print(\"Please select at least one folder!\")\n",
    "            return\n",
    "        \n",
    "        global evaluation_data\n",
    "        evaluation_data = {}\n",
    "        \n",
    "        for folder in selected_folders:\n",
    "            print(f\"Loading data from {folder['name']}...\")\n",
    "            data = load_evaluation_data(folder['eval_path'])\n",
    "            if data:\n",
    "                evaluation_data[folder['name']] = data\n",
    "        \n",
    "        if evaluation_data:\n",
    "            print(f\"\\nSuccessfully loaded data from {len(evaluation_data)} runs:\")\n",
    "            for run_name in evaluation_data.keys():\n",
    "                print(f\"  ✓ {run_name}\")\n",
    "        else:\n",
    "            print(\"No data could be loaded!\")\n",
    "\n",
    "load_button.on_click(load_data)\n",
    "\n",
    "display(folder_selector)\n",
    "display(load_button)\n",
    "display(output_area)"
   ]
  },
  {
   "cell_type": "code",
   "execution_count": 3,
   "id": "3bbef9d4",
   "metadata": {},
   "outputs": [
    {
     "name": "stdout",
     "output_type": "stream",
     "text": [
      "✅ Data processed successfully!\n",
      "📊 Data shape: (237, 7)\n",
      "🏃 Runs: ['pipeline_results_20250725_111753', 'pipeline_results_20250808_145025']\n",
      "🤖 Models: ['gemma3:1b', 'gemma3:4b', 'gemma3:12b', 'mistral:latest']\n",
      "📄 Documents: 30 documents\n",
      "📈 Average F1-Score: 0.216\n"
     ]
    }
   ],
   "source": [
    "def process_evaluation_data(evaluation_data):\n",
    "    \"\"\"Process evaluation data into a structured format for visualization\"\"\"\n",
    "    processed_data = []\n",
    "    \n",
    "    for run_name, data in evaluation_data.items():\n",
    "        # The data structure is: {document: {model: {entity_type: {lenient/strict: metrics}}}}\n",
    "        for doc_name, doc_data in data.items():\n",
    "            if not isinstance(doc_data, dict):\n",
    "                continue\n",
    "                \n",
    "            for model_name, model_data in doc_data.items():\n",
    "                if not isinstance(model_data, dict):\n",
    "                    continue\n",
    "                \n",
    "                # Calculate overall metrics across all entity types for this model-document combination\n",
    "                total_tp_lenient = 0\n",
    "                total_fp_lenient = 0\n",
    "                total_fn_lenient = 0\n",
    "                \n",
    "                entity_count = 0\n",
    "                \n",
    "                for entity_type, entity_data in model_data.items():\n",
    "                    if not isinstance(entity_data, dict):\n",
    "                        continue\n",
    "                    \n",
    "                    entity_count += 1\n",
    "                    \n",
    "                    # Use lenient metrics as primary\n",
    "                    if 'lenient' in entity_data and isinstance(entity_data['lenient'], dict):\n",
    "                        lenient_metrics = entity_data['lenient']\n",
    "                        total_tp_lenient += lenient_metrics.get('true_positives', 0)\n",
    "                        total_fp_lenient += lenient_metrics.get('false_positives', 0)\n",
    "                        total_fn_lenient += lenient_metrics.get('false_negatives', 0)\n",
    "                \n",
    "                if entity_count > 0:\n",
    "                    # Calculate overall precision, recall, f1 using lenient metrics\n",
    "                    precision = total_tp_lenient / (total_tp_lenient + total_fp_lenient) if (total_tp_lenient + total_fp_lenient) > 0 else 0\n",
    "                    recall = total_tp_lenient / (total_tp_lenient + total_fn_lenient) if (total_tp_lenient + total_fn_lenient) > 0 else 0\n",
    "                    f1_score = 2 * (precision * recall) / (precision + recall) if (precision + recall) > 0 else 0\n",
    "                    \n",
    "                    processed_data.append({\n",
    "                        'run': run_name,\n",
    "                        'model': model_name,\n",
    "                        'document': doc_name,\n",
    "                        'precision': precision,\n",
    "                        'recall': recall,\n",
    "                        'f1_score': f1_score,\n",
    "                        'entity_types': entity_count\n",
    "                    })\n",
    "    \n",
    "    return pd.DataFrame(processed_data)\n",
    "\n",
    "def create_performance_heatmap(df, metric='f1_score', title_suffix='F1-Score'):\n",
    "    \"\"\"Create a heatmap showing model performance across documents for each run separately\"\"\"\n",
    "    \n",
    "    # Check if we have multiple runs\n",
    "    num_runs = len(df['run'].unique())\n",
    "    \n",
    "    if num_runs == 1:\n",
    "        # Single run - create simple heatmap\n",
    "        pivot_data = df.pivot_table(\n",
    "            index='model', \n",
    "            columns='document', \n",
    "            values=metric, \n",
    "            aggfunc='first'  # Take the single value\n",
    "        ).fillna(0)\n",
    "        \n",
    "        title_text = f\"Model Performance Heatmap - {title_suffix} ({df['run'].iloc[0]})\"\n",
    "        \n",
    "        fig = go.Figure(data=go.Heatmap(\n",
    "            z=pivot_data.values,\n",
    "            x=pivot_data.columns,\n",
    "            y=pivot_data.index,\n",
    "            colorscale='RdYlGn',\n",
    "            zmin=0,\n",
    "            zmax=1,\n",
    "            text=pivot_data.values.round(3),\n",
    "            texttemplate=\"%{text}\",\n",
    "            textfont={\"size\": 10},\n",
    "            colorbar=dict(title=title_suffix)\n",
    "        ))\n",
    "        \n",
    "        fig.update_layout(\n",
    "            title=dict(text=title_text, font=dict(size=20, color='#2E2E2E'), x=0.5),\n",
    "            xaxis=dict(title=\"Documents\", tickangle=45, tickfont=dict(size=10)),\n",
    "            yaxis=dict(title=\"Models\", tickfont=dict(size=12)),\n",
    "            height=max(400, len(pivot_data.index) * 50),\n",
    "            width=max(800, len(pivot_data.columns) * 80),\n",
    "            template='plotly_white'\n",
    "        )\n",
    "        \n",
    "        return fig\n",
    "    \n",
    "    else:\n",
    "        # Multiple runs - create subplots for each run\n",
    "        from plotly.subplots import make_subplots\n",
    "        \n",
    "        runs = sorted(df['run'].unique())\n",
    "        cols = min(3, len(runs))  # Max 3 columns\n",
    "        rows = (len(runs) + cols - 1) // cols  # Calculate rows needed\n",
    "        \n",
    "        fig = make_subplots(\n",
    "            rows=rows, cols=cols,\n",
    "            subplot_titles=runs,\n",
    "            shared_xaxes=True,\n",
    "            shared_yaxes=True,\n",
    "            vertical_spacing=0.15,\n",
    "            horizontal_spacing=0.1\n",
    "        )\n",
    "        \n",
    "        for i, run in enumerate(runs):\n",
    "            row = i // cols + 1\n",
    "            col = i % cols + 1\n",
    "            \n",
    "            run_data = df[df['run'] == run]\n",
    "            pivot_data = run_data.pivot_table(\n",
    "                index='model', \n",
    "                columns='document', \n",
    "                values=metric, \n",
    "                aggfunc='first'\n",
    "            ).fillna(0)\n",
    "            \n",
    "            fig.add_trace(\n",
    "                go.Heatmap(\n",
    "                    z=pivot_data.values,\n",
    "                    x=pivot_data.columns,\n",
    "                    y=pivot_data.index,\n",
    "                    colorscale='RdYlGn',\n",
    "                    zmin=0,\n",
    "                    zmax=1,\n",
    "                    text=pivot_data.values.round(3),\n",
    "                    texttemplate=\"%{text}\",\n",
    "                    textfont={\"size\": 8},\n",
    "                    showscale=(i == 0),  # Only show colorbar for first subplot\n",
    "                    colorbar=dict(title=title_suffix) if i == 0 else None\n",
    "                ),\n",
    "                row=row, col=col\n",
    "            )\n",
    "        \n",
    "        title_text = f\"Model Performance Comparison Across Runs - {title_suffix}\"\n",
    "        \n",
    "        fig.update_layout(\n",
    "            title=dict(\n",
    "                text=title_text,\n",
    "                font=dict(size=18, color='#2E2E2E'),\n",
    "                x=0.5\n",
    "            ),\n",
    "            height=max(400, rows * 300),\n",
    "            width=max(1200, cols * 400),\n",
    "            template='plotly_white'\n",
    "        )\n",
    "        \n",
    "        return fig\n",
    "\n",
    "def create_model_comparison_chart(df):\n",
    "    \"\"\"Create a chart comparing models across all documents, showing each run separately\"\"\"\n",
    "    \n",
    "    num_runs = len(df['run'].unique())\n",
    "    \n",
    "    if num_runs == 1:\n",
    "        # Single run - original behavior\n",
    "        model_stats = df.groupby('model').agg({\n",
    "            'precision': ['mean', 'std'],\n",
    "            'recall': ['mean', 'std'], \n",
    "            'f1_score': ['mean', 'std'],\n",
    "            'document': 'count'\n",
    "        }).round(4)\n",
    "        \n",
    "        model_stats.columns = ['_'.join(col).strip() for col in model_stats.columns]\n",
    "        model_stats = model_stats.reset_index()\n",
    "        \n",
    "        fig = go.Figure()\n",
    "        \n",
    "        metrics = ['precision_mean', 'recall_mean', 'f1_score_mean']\n",
    "        metric_names = ['Precision', 'Recall', 'F1-Score']\n",
    "        colors = ['#FF6B6B', '#4ECDC4', '#45B7D1']\n",
    "        \n",
    "        for i, (metric, name, color) in enumerate(zip(metrics, metric_names, colors)):\n",
    "            error_metric = metric.replace('_mean', '_std')\n",
    "            \n",
    "            fig.add_trace(go.Bar(\n",
    "                name=name,\n",
    "                x=model_stats['model'],\n",
    "                y=model_stats[metric],\n",
    "                error_y=dict(type='data', array=model_stats[error_metric], visible=True),\n",
    "                marker_color=color,\n",
    "                text=model_stats[metric].round(3),\n",
    "                textposition='auto'\n",
    "            ))\n",
    "        \n",
    "        title_text = f\"Model Performance Comparison ({df['run'].iloc[0]})\"\n",
    "        \n",
    "    else:\n",
    "        # Multiple runs - show each run side by side\n",
    "        fig = go.Figure()\n",
    "        \n",
    "        runs = sorted(df['run'].unique())\n",
    "        metrics = ['precision', 'recall', 'f1_score']\n",
    "        metric_names = ['Precision', 'Recall', 'F1-Score']\n",
    "        colors = ['#FF6B6B', '#4ECDC4', '#45B7D1']\n",
    "        \n",
    "        models = sorted(df['model'].unique())\n",
    "        \n",
    "        # Create data for each metric and run combination\n",
    "        for metric_idx, (metric, metric_name, color) in enumerate(zip(metrics, metric_names, colors)):\n",
    "            for run_idx, run in enumerate(runs):\n",
    "                run_data = df[df['run'] == run]\n",
    "                model_means = run_data.groupby('model')[metric].mean().reindex(models, fill_value=0)\n",
    "                \n",
    "                # Create x positions for grouped bars\n",
    "                x_positions = [f\"{model}_{run}\" for model in models]\n",
    "                \n",
    "                fig.add_trace(go.Bar(\n",
    "                    name=f\"{metric_name} ({run})\",\n",
    "                    x=x_positions,\n",
    "                    y=model_means.values,\n",
    "                    marker_color=color,\n",
    "                    opacity=0.7 + (run_idx * 0.3 / len(runs)),  # Vary opacity by run\n",
    "                    text=model_means.round(3),\n",
    "                    textposition='auto',\n",
    "                    offsetgroup=metric_idx,\n",
    "                    legendgroup=metric_name,\n",
    "                    showlegend=(run_idx == 0)  # Only show legend for first run of each metric\n",
    "                ))\n",
    "        \n",
    "        title_text = f\"Model Performance Comparison Across {len(runs)} Runs\"\n",
    "    \n",
    "    fig.update_layout(\n",
    "        title=dict(text=title_text, font=dict(size=18, color='#2E2E2E'), x=0.5),\n",
    "        xaxis=dict(title=\"Models\" if num_runs == 1 else \"Models by Run\", tickangle=45),\n",
    "        yaxis=dict(title=\"Score\", range=[0, 1]),\n",
    "        barmode='group',\n",
    "        template='plotly_white',\n",
    "        height=500,\n",
    "        showlegend=True\n",
    "    )\n",
    "    \n",
    "    return fig\n",
    "\n",
    "def create_document_difficulty_chart(df):\n",
    "    \"\"\"Create a chart showing which documents are hardest/easiest for models\"\"\"\n",
    "    \n",
    "    # Calculate average F1 score per document across all models\n",
    "    doc_stats = df.groupby('document').agg({\n",
    "        'f1_score': ['mean', 'std', 'min', 'max'],\n",
    "        'model': 'count'\n",
    "    }).round(4)\n",
    "    \n",
    "    doc_stats.columns = ['_'.join(col).strip() for col in doc_stats.columns]\n",
    "    doc_stats = doc_stats.reset_index()\n",
    "    doc_stats = doc_stats.sort_values('f1_score_mean', ascending=True)\n",
    "    \n",
    "    fig = go.Figure()\n",
    "    \n",
    "    # Add bar chart with error bars\n",
    "    fig.add_trace(go.Bar(\n",
    "        x=doc_stats['f1_score_mean'],\n",
    "        y=doc_stats['document'],\n",
    "        orientation='h',\n",
    "        error_x=dict(\n",
    "            type='data',\n",
    "            array=doc_stats['f1_score_std'],\n",
    "            visible=True\n",
    "        ),\n",
    "        marker=dict(\n",
    "            color=doc_stats['f1_score_mean'],\n",
    "            colorscale='RdYlGn',\n",
    "            cmin=0,\n",
    "            cmax=1,\n",
    "            colorbar=dict(title=\"Average F1-Score\")\n",
    "        ),\n",
    "        text=doc_stats['f1_score_mean'].round(3),\n",
    "        textposition='auto'\n",
    "    ))\n",
    "    \n",
    "    fig.update_layout(\n",
    "        title=dict(\n",
    "            text=\"Document Difficulty Ranking (by Average F1-Score Across Models)\",\n",
    "            font=dict(size=16, color='#2E2E2E'),\n",
    "            x=0.5\n",
    "        ),\n",
    "        xaxis=dict(\n",
    "            title=\"Average F1-Score\",\n",
    "            range=[0, 1]\n",
    "        ),\n",
    "        yaxis=dict(\n",
    "            title=\"Documents\"\n",
    "        ),\n",
    "        height=max(400, len(doc_stats) * 25),\n",
    "        template='plotly_white'\n",
    "    )\n",
    "    \n",
    "    return fig\n",
    "\n",
    "def create_run_comparison_dashboard(df):\n",
    "    \"\"\"Create a dashboard comparing different runs\"\"\"\n",
    "    \n",
    "    if len(df['run'].unique()) < 2:\n",
    "        print(\"Need at least 2 runs for comparison\")\n",
    "        return None\n",
    "    \n",
    "    # Create subplots\n",
    "    fig = make_subplots(\n",
    "        rows=2, cols=2,\n",
    "        subplot_titles=(\n",
    "            'F1-Score by Run', \n",
    "            'Precision by Run',\n",
    "            'Recall by Run', \n",
    "            'Model Performance Variation'\n",
    "        ),\n",
    "        specs=[[{\"secondary_y\": False}, {\"secondary_y\": False}],\n",
    "               [{\"secondary_y\": False}, {\"secondary_y\": False}]]\n",
    "    )\n",
    "    \n",
    "    runs = df['run'].unique()\n",
    "    colors = px.colors.qualitative.Set1[:len(runs)]\n",
    "    \n",
    "    # Calculate stats by run\n",
    "    run_stats = df.groupby('run').agg({\n",
    "        'f1_score': ['mean', 'std'],\n",
    "        'precision': ['mean', 'std'],\n",
    "        'recall': ['mean', 'std']\n",
    "    }).round(4)\n",
    "    \n",
    "    run_stats.columns = ['_'.join(col).strip() for col in run_stats.columns]\n",
    "    run_stats = run_stats.reset_index()\n",
    "    \n",
    "    # Add traces for each metric\n",
    "    metrics = [\n",
    "        ('f1_score_mean', 'f1_score_std', (1, 1)),\n",
    "        ('precision_mean', 'precision_std', (1, 2)),\n",
    "        ('recall_mean', 'recall_std', (2, 1))\n",
    "    ]\n",
    "    \n",
    "    for metric_mean, metric_std, (row, col) in metrics:\n",
    "        fig.add_trace(\n",
    "            go.Bar(\n",
    "                name=metric_mean.split('_')[0].title(),\n",
    "                x=run_stats['run'],\n",
    "                y=run_stats[metric_mean],\n",
    "                error_y=dict(\n",
    "                    type='data',\n",
    "                    array=run_stats[metric_std],\n",
    "                    visible=True\n",
    "                ),\n",
    "                text=run_stats[metric_mean].round(3),\n",
    "                textposition='auto',\n",
    "                showlegend=False\n",
    "            ),\n",
    "            row=row, col=col\n",
    "        )\n",
    "    \n",
    "    # Model performance variation (coefficient of variation)\n",
    "    model_variation = df.groupby(['run', 'model'])['f1_score'].mean().groupby('run').std()\n",
    "    \n",
    "    fig.add_trace(\n",
    "        go.Bar(\n",
    "            name='F1 Std Dev',\n",
    "            x=model_variation.index,\n",
    "            y=model_variation.values,\n",
    "            text=model_variation.values.round(3),\n",
    "            textposition='auto',\n",
    "            showlegend=False\n",
    "        ),\n",
    "        row=2, col=2\n",
    "    )\n",
    "    \n",
    "    fig.update_layout(\n",
    "        title=dict(\n",
    "            text=\"Run Comparison Dashboard\",\n",
    "            font=dict(size=20, color='#2E2E2E'),\n",
    "            x=0.5\n",
    "        ),\n",
    "        height=800,\n",
    "        template='plotly_white'\n",
    "    )\n",
    "    \n",
    "    return fig\n",
    "\n",
    "# Check if evaluation_data exists and process it\n",
    "if 'evaluation_data' in globals() and evaluation_data:\n",
    "    df = process_evaluation_data(evaluation_data)\n",
    "    \n",
    "    if not df.empty:\n",
    "        print(f\"✅ Data processed successfully!\")\n",
    "        print(f\"📊 Data shape: {df.shape}\")\n",
    "        print(f\"🏃 Runs: {list(df['run'].unique())}\")\n",
    "        print(f\"🤖 Models: {list(df['model'].unique())}\")\n",
    "        print(f\"📄 Documents: {len(df['document'].unique())} documents\")\n",
    "        print(f\"📈 Average F1-Score: {df['f1_score'].mean():.3f}\")\n",
    "    else:\n",
    "        print(\"❌ No data to process. Please load evaluation data first.\")\n",
    "else:\n",
    "    print(\"❌ No evaluation data loaded. Please run the previous cell first.\")"
   ]
  },
  {
   "cell_type": "code",
   "execution_count": 4,
   "id": "96fbafd9",
   "metadata": {},
   "outputs": [
    {
     "name": "stdout",
     "output_type": "stream",
     "text": [
      "📋 LOADED RUNS INFORMATION\n",
      "==================================================\n",
      "Number of runs loaded: 2\n",
      "Runs included in analysis:\n",
      "  1. pipeline_results_20250725_111753\n",
      "  2. pipeline_results_20250808_145025\n",
      "\n",
      "🔄 DATA PRESENTATION METHOD:\n",
      "- Multiple runs: Results shown SEPARATELY for each run\n",
      "- Each run is displayed in its own section/subplot\n",
      "- NO AVERAGING - you can see the evolution across runs!\n",
      "- This allows you to compare how performance changes with different settings\n",
      "==================================================\n"
     ]
    }
   ],
   "source": [
    "# Display information about loaded runs and data aggregation\n",
    "if 'evaluation_data' in globals() and evaluation_data:\n",
    "    print(\"📋 LOADED RUNS INFORMATION\")\n",
    "    print(\"=\"*50)\n",
    "    print(f\"Number of runs loaded: {len(evaluation_data)}\")\n",
    "    print(\"Runs included in analysis:\")\n",
    "    for i, run_name in enumerate(evaluation_data.keys(), 1):\n",
    "        print(f\"  {i}. {run_name}\")\n",
    "    \n",
    "    print(\"\\n🔄 DATA PRESENTATION METHOD:\")\n",
    "    if len(evaluation_data) == 1:\n",
    "        print(\"- Single run: Results shown directly without aggregation\")\n",
    "    else:\n",
    "        print(\"- Multiple runs: Results shown SEPARATELY for each run\")\n",
    "        print(\"- Each run is displayed in its own section/subplot\")\n",
    "        print(\"- NO AVERAGING - you can see the evolution across runs!\")\n",
    "    print(\"- This allows you to compare how performance changes with different settings\")\n",
    "    print(\"=\"*50)\n",
    "else:\n",
    "    print(\"❌ No evaluation data loaded yet.\")"
   ]
  },
  {
   "cell_type": "code",
   "execution_count": 5,
   "id": "94a41e90",
   "metadata": {},
   "outputs": [
    {
     "name": "stdout",
     "output_type": "stream",
     "text": [
      "🎯 Creating Performance Visualizations...\n",
      "📊 1. Model Performance Heatmap (F1-Score)\n"
     ]
    },
    {
     "data": {
      "application/vnd.plotly.v1+json": {
       "config": {
        "plotlyServerURL": "https://plot.ly"
       },
       "data": [
        {
         "colorbar": {
          "title": {
           "text": "F1-Score"
          }
         },
         "colorscale": [
          [
           0,
           "rgb(165,0,38)"
          ],
          [
           0.1,
           "rgb(215,48,39)"
          ],
          [
           0.2,
           "rgb(244,109,67)"
          ],
          [
           0.3,
           "rgb(253,174,97)"
          ],
          [
           0.4,
           "rgb(254,224,139)"
          ],
          [
           0.5,
           "rgb(255,255,191)"
          ],
          [
           0.6,
           "rgb(217,239,139)"
          ],
          [
           0.7,
           "rgb(166,217,106)"
          ],
          [
           0.8,
           "rgb(102,189,99)"
          ],
          [
           0.9,
           "rgb(26,152,80)"
          ],
          [
           1,
           "rgb(0,104,55)"
          ]
         ],
         "showscale": true,
         "text": {
          "bdata": "hxbZzvdT0z9xPQrXo3C9P7ByaJHtfL8/+n5qvHSTqD8QWDm0yHbiP39qvHSTGNQ/d76fGi/d1D+uR+F6FK7XPwAAAAAAAAAAAAAAAAAAAAAX2c73U+PFPwAAAAAAAAAAexSuR+F64D+LbOf7qfGyP5qZmZmZmdk/eekmMQis4D89CtejcD3aP/7UeOkmMcg/GQRWDi2y1T8AAAAAAAAAAPp+arx0k5g/+n5qvHST0D8Sg8DKoUXiP90kBoGVQ8s/8tJNYhBY4T+JQWDl0CLLP6RwPQrXo+A/Gy/dJAaBpT/FILByaJHVP28Sg8DKocU/ukkMAiuHtj9qvHSTGATGPzvfT42XbrI/AAAAAAAAAADn+6nx0k3SP5huEoPAysE/AAAAAAAAAAAAAAAAAAAAAAAAAAAAAAAAObTIdr6fmj8730+Nl27CPxkEVg4tsr0/0SLb+X5qvD9aZDvfT42XPwAAAAAAAAAAAAAAAAAAAACDwMqhRbazPxkEVg4tsp0/eekmMQisvD8AAAAAAAAAANnO91PjpZs/VOOlm8QgwD9MN4lBYOWgP42XbhKDwNI/IbByaJHt1D/LoUW28/2kP57vp8ZLN9E/uB6F61G4nj+4HoXrUbiuP1g5tMh2vq8/vHSTGARWzj8AAAAAAAAAAAAAAAAAAAAAAAAAAAAAAABzaJHtfD/VPwAAAAAAAAAAQmDl0CLb2T/0/dR46SaxPwAAAAAAAAAAAAAAAAAAAAB7FK5H4XrEP+f7qfHSTcI/j8L1KFyP0j/8qfHSTWKgP1g5tMh2vs8/AAAAAAAAAACcxCCwcmjRP3npJjEIrMw/DAIrhxbZzj8AAAAAAAAAABsv3SQGgZU/IbByaJHtzD9YObTIdr6vP3npJjEIrNQ/exSuR+F6xD97FK5H4Xq0Px1aZDvfT90/AAAAAAAAAABCYOXQItvRP4ts5/up8cI/KVyPwvUorD/0/dR46SaxPwAAAAAAAAAAAAAAAAAAAAAK16NwPQrXPx+F61G4HsU/16NwPQrX0z9MN4lBYOWgPwAAAAAAAAAAAAAAAAAAAAB/arx0kxjEP0a28/3UeNE/L90kBoGV0z8AAAAAAAAAAAAAAAAAAAAAJQaBlUOL1D+0yHa+nxrPPwAAAAAAAAAAAAAAAAAAAAAAAAAAAAAAAAAAAAAAAAAAtvP91Hjpxj+4HoXrUbieP3WTGARWDtU/PzVeukkM2j8AAAAAAAAAALTIdr6fGt8/uB6F61G4nj+amZmZmZmZP7pJDAIrh6Y/",
          "dtype": "f8",
          "shape": "4, 30"
         },
         "textfont": {
          "size": 8
         },
         "texttemplate": "%{text}",
         "type": "heatmap",
         "x": [
          "ALTAY v. TURKEY (No. 2)",
          "BELYAYEV AND OTHERS v. UKRAINE",
          "BIGUN v. UKRAINE",
          "CABUCAK v. GERMANY",
          "CAN v. TURKEY",
          "CRISTIAN CATALIN UNGUREANU v. ROMANIA",
          "DOKTOROV v. BULGARIA",
          "EGILL EINARSSON v. ICELAND (No. 2)",
          "H_INESS v. NORWAY (1)",
          "KOSAITE - CYPIENE AND OTHERS v. LITHUANIA",
          "LOZOVYYE v. RUSSIA",
          "M.T. v. UKRAINE",
          "MOSKALEV v. RUSSIA",
          "MURUZHEVA v. RUSSIA",
          "O.C.I. AND OTHERS v. ROMANIA",
          "OTGON v. THE REPUBLIC OF MOLDOVA",
          "PAKHTUSOV v. RUSSIA",
          "PANYUSHKINY v. RUSSIA",
          "RESIN v. RUSSIA",
          "S.N. v. RUSSIA",
          "S.V. v. ITALY",
          "SHVIDKIYE v. RUSSIA",
          "SIDOROVA v. RUSSIA",
          "SOLCAN v. ROMANIA",
          "STANA v. ROMANIA",
          "VISY v. SLOVAKIA",
          "YAKUSHEV v. UKRAINE",
          "YERMAKOVICH v. RUSSIA",
          "YEVGENIY ZAKHAROV v. RUSSIA",
          "_NODI v. HUNGARY"
         ],
         "xaxis": "x",
         "y": [
          "gemma3:12b",
          "gemma3:1b",
          "gemma3:4b",
          "mistral:latest"
         ],
         "yaxis": "y",
         "z": {
          "bdata": "0zRN0zRN0z+c2Imd2Im9P1mkDDzdmr8/GIZhGIZhqD81J4G4UHPiP9RBHdRBHdQ/NWVNWVPW1D9CewntJbTXPwAAAAAAAAAAAAAAAAAAAADblahdidrFPwAAAAAAAAAA0VGBL65+4D9LriAmVxCzP5qZmZmZmdk/ohU2BxKt4D/ksmKghDfaP/JW9jmkJsg/b9u2bdu21T8AAAAAAAAAABiGYRiGYZg/3dMIyz2N0D+SJEmSJEniP23UdzbqO8s/DSd1Xx5b4T8cGxsbGxvLP6NwPQrXo+A/LSkHRIZ7pT+bB7nrZ4vVPzR1fu0hl8U/TGcxncV0tj97GmG5pxHGP7/2kMuKgbI/AAAAAAAAAACSJEmSJEnSPx2Boq0Gz8E/AAAAAAAAAAAAAAAAAAAAAAAAAAAAAAAAKa+hvIbymj8TmYbtZnnCP9uBuXZgrr0/HMdxHMdxvD/0BX1BX9CXPwAAAAAAAAAAAAAAAAAAAAAUO7ETO7GzP9qBuXZgrp0/zGEOc5jDvD8AAAAAAAAAAE4b6LSBTps/CAQCgUAgwD8RERERERGhP7sStStRu9I/OQUvp+Dl1D85BS+n4OWkPypnt/CrMdE/CB988MEHnz9nt/CrMZGuP4/mDzYeza8/c+UByTpXzj8AAAAAAAAAAAAAAAAAAAAAAAAAAAAAAADrD/RICTnVPwAAAAAAAAAAW52RirnV2T8UoQhFKEKxPwAAAAAAAAAAAAAAAAAAAAB8FK5H4XrEP5IkSZIkScI/KfEzSvyM0j+EEEIIIYSgP/MOOFI0xM8/AAAAAAAAAAAveTDgjGvRP52cnJycnMw/C+0ltJfQzj8AAAAAAAAAAFZVVVVVVZU/6ZxzzjnnzD8f+IEf+IGvP6WUUkoppdQ/exSuR+F6xD98FK5H4Xq0P1kxUMIbTd0/AAAAAAAAAAB3xB1xR9zRP2kvob2E9sI/7hvWvmHtqz8RERERERGxPwAAAAAAAAAAAAAAAAAAAABwgQtc4ALXP7RD4MYyKMU/mHoyfrvU0z862rxPccmgPwAAAAAAAAAAAAAAAAAAAABDEYpQhCLEP3TRRRdddNE/5DiO4ziO0z8AAAAAAAAAAAAAAAAAAAAABp5uzQ+L1D8r8lk3mCLPPwAAAAAAAAAAAAAAAAAAAAAAAAAAAAAAAAAAAAAAAAAA5BZPbvHkxj9nt/CrMZGePyEqHdkzENU/k7ovj60I2j8AAAAAAAAAACryWTeYIt8/wOwBswfMnj+amZmZmZmZP+hk+iphbKY/",
          "dtype": "f8",
          "shape": "4, 30"
         },
         "zmax": 1,
         "zmin": 0
        },
        {
         "colorscale": [
          [
           0,
           "rgb(165,0,38)"
          ],
          [
           0.1,
           "rgb(215,48,39)"
          ],
          [
           0.2,
           "rgb(244,109,67)"
          ],
          [
           0.3,
           "rgb(253,174,97)"
          ],
          [
           0.4,
           "rgb(254,224,139)"
          ],
          [
           0.5,
           "rgb(255,255,191)"
          ],
          [
           0.6,
           "rgb(217,239,139)"
          ],
          [
           0.7,
           "rgb(166,217,106)"
          ],
          [
           0.8,
           "rgb(102,189,99)"
          ],
          [
           0.9,
           "rgb(26,152,80)"
          ],
          [
           1,
           "rgb(0,104,55)"
          ]
         ],
         "showscale": false,
         "text": {
          "bdata": "SOF6FK5H2T9OYhBYObTQP/hT46WbxNA/Rrbz/dR42T/VeOkmMQjkP+xRuB6F69k/qvHSTWIQ2D+HFtnO91PbPyuHFtnO99s/K4cW2c73oz9vEoPAyqHdP05iEFg5tNg/2c73U+Ol2z9eukkMAivXP5qZmZmZmdk/YOXQItv53j/l0CLb+X7iPzm0yHa+n+I/9P3UeOkm2T/8qfHSTWKgP9NNYhBYOdw/arx0kxgE1j93vp8aL93gP3WTGARWDuE/rkfhehSu1z8tsp3vp8bTP4lBYOXQIuM/iUFg5dAiuz+JQWDl0CLTP6RwPQrXo9g/pHA9CtejsD+6SQwCK4fGP5zEILByaLE/2c73U+Olmz+8dJMYBFbOP0oMAiuHFtE/AAAAAAAA0D8AAAAAAAAAAAAAAAAAAAAAK4cW2c73oz+wcmiR7XzPP7gehetRuM4/Di2yne+nxj8AAAAAAAAAABsv3SQGgbU/bef7qfHSzT+DwMqhRbbTPwAAAAAAAAAAhxbZzvdTwz/8qfHSTWKgPwAAAAAAAAAAAAAAAAAAAAC4HoXrUbiuPzm0yHa+n8o/ZmZmZmZm1j/6fmq8dJOYP28Sg8DKodU/GQRWDi2ynT91kxgEVg7NPxkEVg4tss0/30+Nl24S0z/sUbgeheuxP6JFtvP91Mg/ke18PzVeuj+e76fGSzfhPylcj8L1KLw/okW28/3U0D+WQ4ts5/vJP8uhRbbz/bQ//Knx0k1isD+4HoXrUbjeP7x0kxgEVtY/QmDl0CLb2T8xCKwcWmTTP7ByaJHtfM8/AAAAAAAAAAB3vp8aL93UP0SLbOf7qcE/BFYOLbKdzz8AAAAAAAAAAL6fGi/dJNY/tMh2vp8a1z8AAAAAAAAAAK5H4XoUrsc/30+Nl24S2z8dWmQ730/NP/LSTWIQWNk/uB6F61G4nj+amZmZmZnZP7x0kxgEVs4/kxgEVg4t0j97FK5H4XrEPzvfT42XbtI/SOF6FK5H0T9MN4lBYOXgP7Kd76fGS9c/uB6F61G41j9MN4lBYOXYP2iR7Xw/Nc4/bef7qfHSzT9/arx0kxjgP/YoXI/C9dg/vp8aL90k1j/jpZvEILDaPwAAAAAAAAAA4XoUrkfh2j+oxks3iUHYPwaBlUOLbN8/HVpkO99P1T8zMzMzMzOzPyPb+X5qvNw/JzEIrBxa3D9mZmZmZmbGP1TjpZvEINg/hetRuB6F0z+kcD0K16PQPxkEVg4tst0/001iEFg51D+sHFpkO9/PP1TjpZvEINg/",
          "dtype": "f8",
          "shape": "4, 30"
         },
         "textfont": {
          "size": 8
         },
         "texttemplate": "%{text}",
         "type": "heatmap",
         "x": [
          "ALTAY v. TURKEY (No. 2)",
          "BELYAYEV AND OTHERS v. UKRAINE",
          "BIGUN v. UKRAINE",
          "CABUCAK v. GERMANY",
          "CAN v. TURKEY",
          "CRISTIAN CATALIN UNGUREANU v. ROMANIA",
          "DOKTOROV v. BULGARIA",
          "EGILL EINARSSON v. ICELAND (No. 2)",
          "H_INESS v. NORWAY (1)",
          "KOSAITE - CYPIENE AND OTHERS v. LITHUANIA",
          "LOZOVYYE v. RUSSIA",
          "M.T. v. UKRAINE",
          "MOSKALEV v. RUSSIA",
          "MURUZHEVA v. RUSSIA",
          "O.C.I. AND OTHERS v. ROMANIA",
          "OTGON v. THE REPUBLIC OF MOLDOVA",
          "PAKHTUSOV v. RUSSIA",
          "PANYUSHKINY v. RUSSIA",
          "RESIN v. RUSSIA",
          "S.N. v. RUSSIA",
          "S.V. v. ITALY",
          "SHVIDKIYE v. RUSSIA",
          "SIDOROVA v. RUSSIA",
          "SOLCAN v. ROMANIA",
          "STANA v. ROMANIA",
          "VISY v. SLOVAKIA",
          "YAKUSHEV v. UKRAINE",
          "YERMAKOVICH v. RUSSIA",
          "YEVGENIY ZAKHAROV v. RUSSIA",
          "_NODI v. HUNGARY"
         ],
         "xaxis": "x2",
         "y": [
          "gemma3:12b",
          "gemma3:1b",
          "gemma3:4b",
          "mistral:latest"
         ],
         "yaxis": "y2",
         "z": {
          "bdata": "UCaudG9A2T8LWchCFrLQP6eu5eBmv9A/WxE0nNR92T+QkmcZ0QfkPzlpHyQD6tk/GBgYGBgY2D+1qU1talPbP6yNoekO9ts/X0N5DeU1pD/8kdN8rZ7dP7rooosuutg/0LrBFPms2z81wnJPIyzXP5mZmZmZmdk/+d5777333j/TJ33SJ33iP54S5ClBnuI/+4VYURof2T9BTK4gJlegPw6Hw+FwONw/AAAAAAAA1j8RDuEQDuHgPxEREREREeE/QnsJ7SW01z+UyDRsN8vTP9Ow3SxPIuM/2YBsQDYguz/jBTIpXiDTP9mJndiJndg/hBBCCCGEsD+WlpaWlpbGPwwndV8eW7E/GwjNGwjNmz9IHnnkkUfOPxEREREREdE/AAAAAAAA0D8AAAAAAAAAAAAAAAAAAAAAX0N5DeU1pD8uGYJ1tHnPP7gehetRuM4/Xi1uwvyuxj8AAAAAAAAAABU6gxU6g7U/hP1WG0PTzT8UO7ETO7HTPwAAAAAAAAAAwXgr+xxSwz9tEJzKhG2gPwAAAAAAAAAAAAAAAAAAAABnt/CrMZGuP75jamDvmMo/Z2ZmZmZm1j8YhmEYhmGYPwtxVn5CnNU/Hh4eHh4enj8XXXTRRRfNP6ldidqVqM0/Ta4gJlcQ0z9xH8F9BPexP0PTHey32sg/Grab5Ulkuj8RyDURyDXhP+/CQfT4Lrw/eA3lNZTX0D+gUeJnlPjJPzoFL6fg5bQ/kAZpkAZpsD+4HoXrUbjeP/1kCWzaT9Y/aKO+s1Hf2T9lk0022WTTPx/4gR/4gc8/AAAAAAAAAADATTFq+NvUP5V7GmG5p8E/+9GPfvSjzz8AAAAAAAAAAHZiJ3ZiJ9Y/EayjzfsU1z8AAAAAAAAAAEJ7Ce0ltMc/O7ETO7ET2z8d1EEd1EHNPxqVURmVUdk/Z7fwqzGRnj+ZmZmZmZnZP55EpmG7Wc4/1CagFPUy0j97FK5H4XrEP5MmTZo0adI/wRT5rBtM0T85juM4juPgP0YXXXTRRdc/5CMT6J261j85juM4juPYP0KeEuQpQc4/HeId4h3izT+AbEA2IBvgP/oYnI/B+dg/jMVisVgs1j/LYA+9fa/aPwAAAAAAAAAA4HoUrkfh2j89+OCDDz7YP6D2aZ/2ad8/VlVVVVVV1T+/ECtK4yOzP8y1A3PtwNw/XdnnkJpg3D8jPoFUcl7GP4G5dmCuHdg/78tjK4KG0z9etwrhdavQP27btm3btt0/XkN5DeU11D9CcgGvt9HPP93AqDONG9g/",
          "dtype": "f8",
          "shape": "4, 30"
         },
         "zmax": 1,
         "zmin": 0
        }
       ],
       "layout": {
        "annotations": [
         {
          "font": {
           "size": 16
          },
          "showarrow": false,
          "text": "pipeline_results_20250725_111753",
          "x": 0.225,
          "xanchor": "center",
          "xref": "paper",
          "y": 1,
          "yanchor": "bottom",
          "yref": "paper"
         },
         {
          "font": {
           "size": 16
          },
          "showarrow": false,
          "text": "pipeline_results_20250808_145025",
          "x": 0.775,
          "xanchor": "center",
          "xref": "paper",
          "y": 1,
          "yanchor": "bottom",
          "yref": "paper"
         }
        ],
        "height": 400,
        "template": {
         "data": {
          "bar": [
           {
            "error_x": {
             "color": "#2a3f5f"
            },
            "error_y": {
             "color": "#2a3f5f"
            },
            "marker": {
             "line": {
              "color": "white",
              "width": 0.5
             },
             "pattern": {
              "fillmode": "overlay",
              "size": 10,
              "solidity": 0.2
             }
            },
            "type": "bar"
           }
          ],
          "barpolar": [
           {
            "marker": {
             "line": {
              "color": "white",
              "width": 0.5
             },
             "pattern": {
              "fillmode": "overlay",
              "size": 10,
              "solidity": 0.2
             }
            },
            "type": "barpolar"
           }
          ],
          "carpet": [
           {
            "aaxis": {
             "endlinecolor": "#2a3f5f",
             "gridcolor": "#C8D4E3",
             "linecolor": "#C8D4E3",
             "minorgridcolor": "#C8D4E3",
             "startlinecolor": "#2a3f5f"
            },
            "baxis": {
             "endlinecolor": "#2a3f5f",
             "gridcolor": "#C8D4E3",
             "linecolor": "#C8D4E3",
             "minorgridcolor": "#C8D4E3",
             "startlinecolor": "#2a3f5f"
            },
            "type": "carpet"
           }
          ],
          "choropleth": [
           {
            "colorbar": {
             "outlinewidth": 0,
             "ticks": ""
            },
            "type": "choropleth"
           }
          ],
          "contour": [
           {
            "colorbar": {
             "outlinewidth": 0,
             "ticks": ""
            },
            "colorscale": [
             [
              0,
              "#0d0887"
             ],
             [
              0.1111111111111111,
              "#46039f"
             ],
             [
              0.2222222222222222,
              "#7201a8"
             ],
             [
              0.3333333333333333,
              "#9c179e"
             ],
             [
              0.4444444444444444,
              "#bd3786"
             ],
             [
              0.5555555555555556,
              "#d8576b"
             ],
             [
              0.6666666666666666,
              "#ed7953"
             ],
             [
              0.7777777777777778,
              "#fb9f3a"
             ],
             [
              0.8888888888888888,
              "#fdca26"
             ],
             [
              1,
              "#f0f921"
             ]
            ],
            "type": "contour"
           }
          ],
          "contourcarpet": [
           {
            "colorbar": {
             "outlinewidth": 0,
             "ticks": ""
            },
            "type": "contourcarpet"
           }
          ],
          "heatmap": [
           {
            "colorbar": {
             "outlinewidth": 0,
             "ticks": ""
            },
            "colorscale": [
             [
              0,
              "#0d0887"
             ],
             [
              0.1111111111111111,
              "#46039f"
             ],
             [
              0.2222222222222222,
              "#7201a8"
             ],
             [
              0.3333333333333333,
              "#9c179e"
             ],
             [
              0.4444444444444444,
              "#bd3786"
             ],
             [
              0.5555555555555556,
              "#d8576b"
             ],
             [
              0.6666666666666666,
              "#ed7953"
             ],
             [
              0.7777777777777778,
              "#fb9f3a"
             ],
             [
              0.8888888888888888,
              "#fdca26"
             ],
             [
              1,
              "#f0f921"
             ]
            ],
            "type": "heatmap"
           }
          ],
          "histogram": [
           {
            "marker": {
             "pattern": {
              "fillmode": "overlay",
              "size": 10,
              "solidity": 0.2
             }
            },
            "type": "histogram"
           }
          ],
          "histogram2d": [
           {
            "colorbar": {
             "outlinewidth": 0,
             "ticks": ""
            },
            "colorscale": [
             [
              0,
              "#0d0887"
             ],
             [
              0.1111111111111111,
              "#46039f"
             ],
             [
              0.2222222222222222,
              "#7201a8"
             ],
             [
              0.3333333333333333,
              "#9c179e"
             ],
             [
              0.4444444444444444,
              "#bd3786"
             ],
             [
              0.5555555555555556,
              "#d8576b"
             ],
             [
              0.6666666666666666,
              "#ed7953"
             ],
             [
              0.7777777777777778,
              "#fb9f3a"
             ],
             [
              0.8888888888888888,
              "#fdca26"
             ],
             [
              1,
              "#f0f921"
             ]
            ],
            "type": "histogram2d"
           }
          ],
          "histogram2dcontour": [
           {
            "colorbar": {
             "outlinewidth": 0,
             "ticks": ""
            },
            "colorscale": [
             [
              0,
              "#0d0887"
             ],
             [
              0.1111111111111111,
              "#46039f"
             ],
             [
              0.2222222222222222,
              "#7201a8"
             ],
             [
              0.3333333333333333,
              "#9c179e"
             ],
             [
              0.4444444444444444,
              "#bd3786"
             ],
             [
              0.5555555555555556,
              "#d8576b"
             ],
             [
              0.6666666666666666,
              "#ed7953"
             ],
             [
              0.7777777777777778,
              "#fb9f3a"
             ],
             [
              0.8888888888888888,
              "#fdca26"
             ],
             [
              1,
              "#f0f921"
             ]
            ],
            "type": "histogram2dcontour"
           }
          ],
          "mesh3d": [
           {
            "colorbar": {
             "outlinewidth": 0,
             "ticks": ""
            },
            "type": "mesh3d"
           }
          ],
          "parcoords": [
           {
            "line": {
             "colorbar": {
              "outlinewidth": 0,
              "ticks": ""
             }
            },
            "type": "parcoords"
           }
          ],
          "pie": [
           {
            "automargin": true,
            "type": "pie"
           }
          ],
          "scatter": [
           {
            "fillpattern": {
             "fillmode": "overlay",
             "size": 10,
             "solidity": 0.2
            },
            "type": "scatter"
           }
          ],
          "scatter3d": [
           {
            "line": {
             "colorbar": {
              "outlinewidth": 0,
              "ticks": ""
             }
            },
            "marker": {
             "colorbar": {
              "outlinewidth": 0,
              "ticks": ""
             }
            },
            "type": "scatter3d"
           }
          ],
          "scattercarpet": [
           {
            "marker": {
             "colorbar": {
              "outlinewidth": 0,
              "ticks": ""
             }
            },
            "type": "scattercarpet"
           }
          ],
          "scattergeo": [
           {
            "marker": {
             "colorbar": {
              "outlinewidth": 0,
              "ticks": ""
             }
            },
            "type": "scattergeo"
           }
          ],
          "scattergl": [
           {
            "marker": {
             "colorbar": {
              "outlinewidth": 0,
              "ticks": ""
             }
            },
            "type": "scattergl"
           }
          ],
          "scattermap": [
           {
            "marker": {
             "colorbar": {
              "outlinewidth": 0,
              "ticks": ""
             }
            },
            "type": "scattermap"
           }
          ],
          "scattermapbox": [
           {
            "marker": {
             "colorbar": {
              "outlinewidth": 0,
              "ticks": ""
             }
            },
            "type": "scattermapbox"
           }
          ],
          "scatterpolar": [
           {
            "marker": {
             "colorbar": {
              "outlinewidth": 0,
              "ticks": ""
             }
            },
            "type": "scatterpolar"
           }
          ],
          "scatterpolargl": [
           {
            "marker": {
             "colorbar": {
              "outlinewidth": 0,
              "ticks": ""
             }
            },
            "type": "scatterpolargl"
           }
          ],
          "scatterternary": [
           {
            "marker": {
             "colorbar": {
              "outlinewidth": 0,
              "ticks": ""
             }
            },
            "type": "scatterternary"
           }
          ],
          "surface": [
           {
            "colorbar": {
             "outlinewidth": 0,
             "ticks": ""
            },
            "colorscale": [
             [
              0,
              "#0d0887"
             ],
             [
              0.1111111111111111,
              "#46039f"
             ],
             [
              0.2222222222222222,
              "#7201a8"
             ],
             [
              0.3333333333333333,
              "#9c179e"
             ],
             [
              0.4444444444444444,
              "#bd3786"
             ],
             [
              0.5555555555555556,
              "#d8576b"
             ],
             [
              0.6666666666666666,
              "#ed7953"
             ],
             [
              0.7777777777777778,
              "#fb9f3a"
             ],
             [
              0.8888888888888888,
              "#fdca26"
             ],
             [
              1,
              "#f0f921"
             ]
            ],
            "type": "surface"
           }
          ],
          "table": [
           {
            "cells": {
             "fill": {
              "color": "#EBF0F8"
             },
             "line": {
              "color": "white"
             }
            },
            "header": {
             "fill": {
              "color": "#C8D4E3"
             },
             "line": {
              "color": "white"
             }
            },
            "type": "table"
           }
          ]
         },
         "layout": {
          "annotationdefaults": {
           "arrowcolor": "#2a3f5f",
           "arrowhead": 0,
           "arrowwidth": 1
          },
          "autotypenumbers": "strict",
          "coloraxis": {
           "colorbar": {
            "outlinewidth": 0,
            "ticks": ""
           }
          },
          "colorscale": {
           "diverging": [
            [
             0,
             "#8e0152"
            ],
            [
             0.1,
             "#c51b7d"
            ],
            [
             0.2,
             "#de77ae"
            ],
            [
             0.3,
             "#f1b6da"
            ],
            [
             0.4,
             "#fde0ef"
            ],
            [
             0.5,
             "#f7f7f7"
            ],
            [
             0.6,
             "#e6f5d0"
            ],
            [
             0.7,
             "#b8e186"
            ],
            [
             0.8,
             "#7fbc41"
            ],
            [
             0.9,
             "#4d9221"
            ],
            [
             1,
             "#276419"
            ]
           ],
           "sequential": [
            [
             0,
             "#0d0887"
            ],
            [
             0.1111111111111111,
             "#46039f"
            ],
            [
             0.2222222222222222,
             "#7201a8"
            ],
            [
             0.3333333333333333,
             "#9c179e"
            ],
            [
             0.4444444444444444,
             "#bd3786"
            ],
            [
             0.5555555555555556,
             "#d8576b"
            ],
            [
             0.6666666666666666,
             "#ed7953"
            ],
            [
             0.7777777777777778,
             "#fb9f3a"
            ],
            [
             0.8888888888888888,
             "#fdca26"
            ],
            [
             1,
             "#f0f921"
            ]
           ],
           "sequentialminus": [
            [
             0,
             "#0d0887"
            ],
            [
             0.1111111111111111,
             "#46039f"
            ],
            [
             0.2222222222222222,
             "#7201a8"
            ],
            [
             0.3333333333333333,
             "#9c179e"
            ],
            [
             0.4444444444444444,
             "#bd3786"
            ],
            [
             0.5555555555555556,
             "#d8576b"
            ],
            [
             0.6666666666666666,
             "#ed7953"
            ],
            [
             0.7777777777777778,
             "#fb9f3a"
            ],
            [
             0.8888888888888888,
             "#fdca26"
            ],
            [
             1,
             "#f0f921"
            ]
           ]
          },
          "colorway": [
           "#636efa",
           "#EF553B",
           "#00cc96",
           "#ab63fa",
           "#FFA15A",
           "#19d3f3",
           "#FF6692",
           "#B6E880",
           "#FF97FF",
           "#FECB52"
          ],
          "font": {
           "color": "#2a3f5f"
          },
          "geo": {
           "bgcolor": "white",
           "lakecolor": "white",
           "landcolor": "white",
           "showlakes": true,
           "showland": true,
           "subunitcolor": "#C8D4E3"
          },
          "hoverlabel": {
           "align": "left"
          },
          "hovermode": "closest",
          "mapbox": {
           "style": "light"
          },
          "paper_bgcolor": "white",
          "plot_bgcolor": "white",
          "polar": {
           "angularaxis": {
            "gridcolor": "#EBF0F8",
            "linecolor": "#EBF0F8",
            "ticks": ""
           },
           "bgcolor": "white",
           "radialaxis": {
            "gridcolor": "#EBF0F8",
            "linecolor": "#EBF0F8",
            "ticks": ""
           }
          },
          "scene": {
           "xaxis": {
            "backgroundcolor": "white",
            "gridcolor": "#DFE8F3",
            "gridwidth": 2,
            "linecolor": "#EBF0F8",
            "showbackground": true,
            "ticks": "",
            "zerolinecolor": "#EBF0F8"
           },
           "yaxis": {
            "backgroundcolor": "white",
            "gridcolor": "#DFE8F3",
            "gridwidth": 2,
            "linecolor": "#EBF0F8",
            "showbackground": true,
            "ticks": "",
            "zerolinecolor": "#EBF0F8"
           },
           "zaxis": {
            "backgroundcolor": "white",
            "gridcolor": "#DFE8F3",
            "gridwidth": 2,
            "linecolor": "#EBF0F8",
            "showbackground": true,
            "ticks": "",
            "zerolinecolor": "#EBF0F8"
           }
          },
          "shapedefaults": {
           "line": {
            "color": "#2a3f5f"
           }
          },
          "ternary": {
           "aaxis": {
            "gridcolor": "#DFE8F3",
            "linecolor": "#A2B1C6",
            "ticks": ""
           },
           "baxis": {
            "gridcolor": "#DFE8F3",
            "linecolor": "#A2B1C6",
            "ticks": ""
           },
           "bgcolor": "white",
           "caxis": {
            "gridcolor": "#DFE8F3",
            "linecolor": "#A2B1C6",
            "ticks": ""
           }
          },
          "title": {
           "x": 0.05
          },
          "xaxis": {
           "automargin": true,
           "gridcolor": "#EBF0F8",
           "linecolor": "#EBF0F8",
           "ticks": "",
           "title": {
            "standoff": 15
           },
           "zerolinecolor": "#EBF0F8",
           "zerolinewidth": 2
          },
          "yaxis": {
           "automargin": true,
           "gridcolor": "#EBF0F8",
           "linecolor": "#EBF0F8",
           "ticks": "",
           "title": {
            "standoff": 15
           },
           "zerolinecolor": "#EBF0F8",
           "zerolinewidth": 2
          }
         }
        },
        "title": {
         "font": {
          "color": "#2E2E2E",
          "size": 18
         },
         "text": "Model Performance Comparison Across Runs - F1-Score",
         "x": 0.5
        },
        "width": 1200,
        "xaxis": {
         "anchor": "y",
         "domain": [
          0,
          0.45
         ]
        },
        "xaxis2": {
         "anchor": "y2",
         "domain": [
          0.55,
          1
         ]
        },
        "yaxis": {
         "anchor": "x",
         "domain": [
          0,
          1
         ]
        },
        "yaxis2": {
         "anchor": "x2",
         "domain": [
          0,
          1
         ],
         "matches": "y",
         "showticklabels": false
        }
       }
      }
     },
     "metadata": {},
     "output_type": "display_data"
    },
    {
     "name": "stdout",
     "output_type": "stream",
     "text": [
      "📈 2. Model Performance Comparison\n"
     ]
    },
    {
     "data": {
      "application/vnd.plotly.v1+json": {
       "config": {
        "plotlyServerURL": "https://plot.ly"
       },
       "data": [
        {
         "legendgroup": "Precision",
         "marker": {
          "color": "#FF6B6B"
         },
         "name": "Precision (pipeline_results_20250725_111753)",
         "offsetgroup": "0",
         "opacity": 0.7,
         "showlegend": true,
         "text": {
          "bdata": "+FPjpZvE2D8nMQisHFrUP9nO91Pjpcs/gZVDi2znyz8=",
          "dtype": "f8"
         },
         "textposition": "auto",
         "type": "bar",
         "x": [
          "gemma3:12b_pipeline_results_20250725_111753",
          "gemma3:1b_pipeline_results_20250725_111753",
          "gemma3:4b_pipeline_results_20250725_111753",
          "mistral:latest_pipeline_results_20250725_111753"
         ],
         "y": {
          "bdata": "jkZzP4DL2D9dKq65P1/UP8Ssa/winMs/Jl4PcQjpyz8=",
          "dtype": "f8"
         }
        },
        {
         "legendgroup": "Precision",
         "marker": {
          "color": "#FF6B6B"
         },
         "name": "Precision (pipeline_results_20250808_145025)",
         "offsetgroup": "0",
         "opacity": 0.85,
         "showlegend": false,
         "text": {
          "bdata": "+FPjpZvE4D+kcD0K16PQPwisHFpkO9c/eekmMQis1D8=",
          "dtype": "f8"
         },
         "textposition": "auto",
         "type": "bar",
         "x": [
          "gemma3:12b_pipeline_results_20250808_145025",
          "gemma3:1b_pipeline_results_20250808_145025",
          "gemma3:4b_pipeline_results_20250808_145025",
          "mistral:latest_pipeline_results_20250808_145025"
         ],
         "y": {
          "bdata": "0mQDVlLF4D8J1EnTA53QP60YGuyONtc/lcDwXkCr1D8=",
          "dtype": "f8"
         }
        },
        {
         "legendgroup": "Recall",
         "marker": {
          "color": "#4ECDC4"
         },
         "name": "Recall (pipeline_results_20250725_111753)",
         "offsetgroup": "1",
         "opacity": 0.7,
         "showlegend": true,
         "text": {
          "bdata": "EFg5tMh2zj9MN4lBYOWwPz81XrpJDMI/SgwCK4cWuT8=",
          "dtype": "f8"
         },
         "textposition": "auto",
         "type": "bar",
         "x": [
          "gemma3:12b_pipeline_results_20250725_111753",
          "gemma3:1b_pipeline_results_20250725_111753",
          "gemma3:4b_pipeline_results_20250725_111753",
          "mistral:latest_pipeline_results_20250725_111753"
         ],
         "y": {
          "bdata": "wb5Jk9pyzj9/g5pLfdGwPx7GZ7tkDsI/oXcEjlYhuT8=",
          "dtype": "f8"
         }
        },
        {
         "legendgroup": "Recall",
         "marker": {
          "color": "#4ECDC4"
         },
         "name": "Recall (pipeline_results_20250808_145025)",
         "offsetgroup": "1",
         "opacity": 0.85,
         "showlegend": false,
         "text": {
          "bdata": "cT0K16Nw1T8xCKwcWmS7P57vp8ZLN8k/tMh2vp8a1z8=",
          "dtype": "f8"
         },
         "textposition": "auto",
         "type": "bar",
         "x": [
          "gemma3:12b_pipeline_results_20250808_145025",
          "gemma3:1b_pipeline_results_20250808_145025",
          "gemma3:4b_pipeline_results_20250808_145025",
          "mistral:latest_pipeline_results_20250808_145025"
         ],
         "y": {
          "bdata": "XK7O2kNy1T9yteSWn3K7PzkgeeBMRck/U5wapo8X1z8=",
          "dtype": "f8"
         }
        },
        {
         "legendgroup": "F1-Score",
         "marker": {
          "color": "#45B7D1"
         },
         "name": "F1-Score (pipeline_results_20250725_111753)",
         "offsetgroup": "2",
         "opacity": 0.7,
         "showlegend": true,
         "text": {
          "bdata": "9ihcj8L10D9aZDvfT423P9v5fmq8dMM/qMZLN4lBwD8=",
          "dtype": "f8"
         },
         "textposition": "auto",
         "type": "bar",
         "x": [
          "gemma3:12b_pipeline_results_20250725_111753",
          "gemma3:1b_pipeline_results_20250725_111753",
          "gemma3:4b_pipeline_results_20250725_111753",
          "mistral:latest_pipeline_results_20250725_111753"
         ],
         "y": {
          "bdata": "FFB70Tn00D+SMmpxo4K3P8hx7qWBccM/uP1P+ctKwD8=",
          "dtype": "f8"
         }
        },
        {
         "legendgroup": "F1-Score",
         "marker": {
          "color": "#45B7D1"
         },
         "name": "F1-Score (pipeline_results_20250808_145025)",
         "offsetgroup": "2",
         "opacity": 0.85,
         "showlegend": false,
         "text": {
          "bdata": "okW28/3U2D+cxCCwcmjBP8HKoUW2880/dZMYBFYO1T8=",
          "dtype": "f8"
         },
         "textposition": "auto",
         "type": "bar",
         "x": [
          "gemma3:12b_pipeline_results_20250808_145025",
          "gemma3:1b_pipeline_results_20250808_145025",
          "gemma3:4b_pipeline_results_20250808_145025",
          "mistral:latest_pipeline_results_20250808_145025"
         ],
         "y": {
          "bdata": "s8DSd4za2D+1V3qIG1rBPzvdiu5y+M0/qgEb6mES1T8=",
          "dtype": "f8"
         }
        }
       ],
       "layout": {
        "barmode": "group",
        "height": 500,
        "showlegend": true,
        "template": {
         "data": {
          "bar": [
           {
            "error_x": {
             "color": "#2a3f5f"
            },
            "error_y": {
             "color": "#2a3f5f"
            },
            "marker": {
             "line": {
              "color": "white",
              "width": 0.5
             },
             "pattern": {
              "fillmode": "overlay",
              "size": 10,
              "solidity": 0.2
             }
            },
            "type": "bar"
           }
          ],
          "barpolar": [
           {
            "marker": {
             "line": {
              "color": "white",
              "width": 0.5
             },
             "pattern": {
              "fillmode": "overlay",
              "size": 10,
              "solidity": 0.2
             }
            },
            "type": "barpolar"
           }
          ],
          "carpet": [
           {
            "aaxis": {
             "endlinecolor": "#2a3f5f",
             "gridcolor": "#C8D4E3",
             "linecolor": "#C8D4E3",
             "minorgridcolor": "#C8D4E3",
             "startlinecolor": "#2a3f5f"
            },
            "baxis": {
             "endlinecolor": "#2a3f5f",
             "gridcolor": "#C8D4E3",
             "linecolor": "#C8D4E3",
             "minorgridcolor": "#C8D4E3",
             "startlinecolor": "#2a3f5f"
            },
            "type": "carpet"
           }
          ],
          "choropleth": [
           {
            "colorbar": {
             "outlinewidth": 0,
             "ticks": ""
            },
            "type": "choropleth"
           }
          ],
          "contour": [
           {
            "colorbar": {
             "outlinewidth": 0,
             "ticks": ""
            },
            "colorscale": [
             [
              0,
              "#0d0887"
             ],
             [
              0.1111111111111111,
              "#46039f"
             ],
             [
              0.2222222222222222,
              "#7201a8"
             ],
             [
              0.3333333333333333,
              "#9c179e"
             ],
             [
              0.4444444444444444,
              "#bd3786"
             ],
             [
              0.5555555555555556,
              "#d8576b"
             ],
             [
              0.6666666666666666,
              "#ed7953"
             ],
             [
              0.7777777777777778,
              "#fb9f3a"
             ],
             [
              0.8888888888888888,
              "#fdca26"
             ],
             [
              1,
              "#f0f921"
             ]
            ],
            "type": "contour"
           }
          ],
          "contourcarpet": [
           {
            "colorbar": {
             "outlinewidth": 0,
             "ticks": ""
            },
            "type": "contourcarpet"
           }
          ],
          "heatmap": [
           {
            "colorbar": {
             "outlinewidth": 0,
             "ticks": ""
            },
            "colorscale": [
             [
              0,
              "#0d0887"
             ],
             [
              0.1111111111111111,
              "#46039f"
             ],
             [
              0.2222222222222222,
              "#7201a8"
             ],
             [
              0.3333333333333333,
              "#9c179e"
             ],
             [
              0.4444444444444444,
              "#bd3786"
             ],
             [
              0.5555555555555556,
              "#d8576b"
             ],
             [
              0.6666666666666666,
              "#ed7953"
             ],
             [
              0.7777777777777778,
              "#fb9f3a"
             ],
             [
              0.8888888888888888,
              "#fdca26"
             ],
             [
              1,
              "#f0f921"
             ]
            ],
            "type": "heatmap"
           }
          ],
          "histogram": [
           {
            "marker": {
             "pattern": {
              "fillmode": "overlay",
              "size": 10,
              "solidity": 0.2
             }
            },
            "type": "histogram"
           }
          ],
          "histogram2d": [
           {
            "colorbar": {
             "outlinewidth": 0,
             "ticks": ""
            },
            "colorscale": [
             [
              0,
              "#0d0887"
             ],
             [
              0.1111111111111111,
              "#46039f"
             ],
             [
              0.2222222222222222,
              "#7201a8"
             ],
             [
              0.3333333333333333,
              "#9c179e"
             ],
             [
              0.4444444444444444,
              "#bd3786"
             ],
             [
              0.5555555555555556,
              "#d8576b"
             ],
             [
              0.6666666666666666,
              "#ed7953"
             ],
             [
              0.7777777777777778,
              "#fb9f3a"
             ],
             [
              0.8888888888888888,
              "#fdca26"
             ],
             [
              1,
              "#f0f921"
             ]
            ],
            "type": "histogram2d"
           }
          ],
          "histogram2dcontour": [
           {
            "colorbar": {
             "outlinewidth": 0,
             "ticks": ""
            },
            "colorscale": [
             [
              0,
              "#0d0887"
             ],
             [
              0.1111111111111111,
              "#46039f"
             ],
             [
              0.2222222222222222,
              "#7201a8"
             ],
             [
              0.3333333333333333,
              "#9c179e"
             ],
             [
              0.4444444444444444,
              "#bd3786"
             ],
             [
              0.5555555555555556,
              "#d8576b"
             ],
             [
              0.6666666666666666,
              "#ed7953"
             ],
             [
              0.7777777777777778,
              "#fb9f3a"
             ],
             [
              0.8888888888888888,
              "#fdca26"
             ],
             [
              1,
              "#f0f921"
             ]
            ],
            "type": "histogram2dcontour"
           }
          ],
          "mesh3d": [
           {
            "colorbar": {
             "outlinewidth": 0,
             "ticks": ""
            },
            "type": "mesh3d"
           }
          ],
          "parcoords": [
           {
            "line": {
             "colorbar": {
              "outlinewidth": 0,
              "ticks": ""
             }
            },
            "type": "parcoords"
           }
          ],
          "pie": [
           {
            "automargin": true,
            "type": "pie"
           }
          ],
          "scatter": [
           {
            "fillpattern": {
             "fillmode": "overlay",
             "size": 10,
             "solidity": 0.2
            },
            "type": "scatter"
           }
          ],
          "scatter3d": [
           {
            "line": {
             "colorbar": {
              "outlinewidth": 0,
              "ticks": ""
             }
            },
            "marker": {
             "colorbar": {
              "outlinewidth": 0,
              "ticks": ""
             }
            },
            "type": "scatter3d"
           }
          ],
          "scattercarpet": [
           {
            "marker": {
             "colorbar": {
              "outlinewidth": 0,
              "ticks": ""
             }
            },
            "type": "scattercarpet"
           }
          ],
          "scattergeo": [
           {
            "marker": {
             "colorbar": {
              "outlinewidth": 0,
              "ticks": ""
             }
            },
            "type": "scattergeo"
           }
          ],
          "scattergl": [
           {
            "marker": {
             "colorbar": {
              "outlinewidth": 0,
              "ticks": ""
             }
            },
            "type": "scattergl"
           }
          ],
          "scattermap": [
           {
            "marker": {
             "colorbar": {
              "outlinewidth": 0,
              "ticks": ""
             }
            },
            "type": "scattermap"
           }
          ],
          "scattermapbox": [
           {
            "marker": {
             "colorbar": {
              "outlinewidth": 0,
              "ticks": ""
             }
            },
            "type": "scattermapbox"
           }
          ],
          "scatterpolar": [
           {
            "marker": {
             "colorbar": {
              "outlinewidth": 0,
              "ticks": ""
             }
            },
            "type": "scatterpolar"
           }
          ],
          "scatterpolargl": [
           {
            "marker": {
             "colorbar": {
              "outlinewidth": 0,
              "ticks": ""
             }
            },
            "type": "scatterpolargl"
           }
          ],
          "scatterternary": [
           {
            "marker": {
             "colorbar": {
              "outlinewidth": 0,
              "ticks": ""
             }
            },
            "type": "scatterternary"
           }
          ],
          "surface": [
           {
            "colorbar": {
             "outlinewidth": 0,
             "ticks": ""
            },
            "colorscale": [
             [
              0,
              "#0d0887"
             ],
             [
              0.1111111111111111,
              "#46039f"
             ],
             [
              0.2222222222222222,
              "#7201a8"
             ],
             [
              0.3333333333333333,
              "#9c179e"
             ],
             [
              0.4444444444444444,
              "#bd3786"
             ],
             [
              0.5555555555555556,
              "#d8576b"
             ],
             [
              0.6666666666666666,
              "#ed7953"
             ],
             [
              0.7777777777777778,
              "#fb9f3a"
             ],
             [
              0.8888888888888888,
              "#fdca26"
             ],
             [
              1,
              "#f0f921"
             ]
            ],
            "type": "surface"
           }
          ],
          "table": [
           {
            "cells": {
             "fill": {
              "color": "#EBF0F8"
             },
             "line": {
              "color": "white"
             }
            },
            "header": {
             "fill": {
              "color": "#C8D4E3"
             },
             "line": {
              "color": "white"
             }
            },
            "type": "table"
           }
          ]
         },
         "layout": {
          "annotationdefaults": {
           "arrowcolor": "#2a3f5f",
           "arrowhead": 0,
           "arrowwidth": 1
          },
          "autotypenumbers": "strict",
          "coloraxis": {
           "colorbar": {
            "outlinewidth": 0,
            "ticks": ""
           }
          },
          "colorscale": {
           "diverging": [
            [
             0,
             "#8e0152"
            ],
            [
             0.1,
             "#c51b7d"
            ],
            [
             0.2,
             "#de77ae"
            ],
            [
             0.3,
             "#f1b6da"
            ],
            [
             0.4,
             "#fde0ef"
            ],
            [
             0.5,
             "#f7f7f7"
            ],
            [
             0.6,
             "#e6f5d0"
            ],
            [
             0.7,
             "#b8e186"
            ],
            [
             0.8,
             "#7fbc41"
            ],
            [
             0.9,
             "#4d9221"
            ],
            [
             1,
             "#276419"
            ]
           ],
           "sequential": [
            [
             0,
             "#0d0887"
            ],
            [
             0.1111111111111111,
             "#46039f"
            ],
            [
             0.2222222222222222,
             "#7201a8"
            ],
            [
             0.3333333333333333,
             "#9c179e"
            ],
            [
             0.4444444444444444,
             "#bd3786"
            ],
            [
             0.5555555555555556,
             "#d8576b"
            ],
            [
             0.6666666666666666,
             "#ed7953"
            ],
            [
             0.7777777777777778,
             "#fb9f3a"
            ],
            [
             0.8888888888888888,
             "#fdca26"
            ],
            [
             1,
             "#f0f921"
            ]
           ],
           "sequentialminus": [
            [
             0,
             "#0d0887"
            ],
            [
             0.1111111111111111,
             "#46039f"
            ],
            [
             0.2222222222222222,
             "#7201a8"
            ],
            [
             0.3333333333333333,
             "#9c179e"
            ],
            [
             0.4444444444444444,
             "#bd3786"
            ],
            [
             0.5555555555555556,
             "#d8576b"
            ],
            [
             0.6666666666666666,
             "#ed7953"
            ],
            [
             0.7777777777777778,
             "#fb9f3a"
            ],
            [
             0.8888888888888888,
             "#fdca26"
            ],
            [
             1,
             "#f0f921"
            ]
           ]
          },
          "colorway": [
           "#636efa",
           "#EF553B",
           "#00cc96",
           "#ab63fa",
           "#FFA15A",
           "#19d3f3",
           "#FF6692",
           "#B6E880",
           "#FF97FF",
           "#FECB52"
          ],
          "font": {
           "color": "#2a3f5f"
          },
          "geo": {
           "bgcolor": "white",
           "lakecolor": "white",
           "landcolor": "white",
           "showlakes": true,
           "showland": true,
           "subunitcolor": "#C8D4E3"
          },
          "hoverlabel": {
           "align": "left"
          },
          "hovermode": "closest",
          "mapbox": {
           "style": "light"
          },
          "paper_bgcolor": "white",
          "plot_bgcolor": "white",
          "polar": {
           "angularaxis": {
            "gridcolor": "#EBF0F8",
            "linecolor": "#EBF0F8",
            "ticks": ""
           },
           "bgcolor": "white",
           "radialaxis": {
            "gridcolor": "#EBF0F8",
            "linecolor": "#EBF0F8",
            "ticks": ""
           }
          },
          "scene": {
           "xaxis": {
            "backgroundcolor": "white",
            "gridcolor": "#DFE8F3",
            "gridwidth": 2,
            "linecolor": "#EBF0F8",
            "showbackground": true,
            "ticks": "",
            "zerolinecolor": "#EBF0F8"
           },
           "yaxis": {
            "backgroundcolor": "white",
            "gridcolor": "#DFE8F3",
            "gridwidth": 2,
            "linecolor": "#EBF0F8",
            "showbackground": true,
            "ticks": "",
            "zerolinecolor": "#EBF0F8"
           },
           "zaxis": {
            "backgroundcolor": "white",
            "gridcolor": "#DFE8F3",
            "gridwidth": 2,
            "linecolor": "#EBF0F8",
            "showbackground": true,
            "ticks": "",
            "zerolinecolor": "#EBF0F8"
           }
          },
          "shapedefaults": {
           "line": {
            "color": "#2a3f5f"
           }
          },
          "ternary": {
           "aaxis": {
            "gridcolor": "#DFE8F3",
            "linecolor": "#A2B1C6",
            "ticks": ""
           },
           "baxis": {
            "gridcolor": "#DFE8F3",
            "linecolor": "#A2B1C6",
            "ticks": ""
           },
           "bgcolor": "white",
           "caxis": {
            "gridcolor": "#DFE8F3",
            "linecolor": "#A2B1C6",
            "ticks": ""
           }
          },
          "title": {
           "x": 0.05
          },
          "xaxis": {
           "automargin": true,
           "gridcolor": "#EBF0F8",
           "linecolor": "#EBF0F8",
           "ticks": "",
           "title": {
            "standoff": 15
           },
           "zerolinecolor": "#EBF0F8",
           "zerolinewidth": 2
          },
          "yaxis": {
           "automargin": true,
           "gridcolor": "#EBF0F8",
           "linecolor": "#EBF0F8",
           "ticks": "",
           "title": {
            "standoff": 15
           },
           "zerolinecolor": "#EBF0F8",
           "zerolinewidth": 2
          }
         }
        },
        "title": {
         "font": {
          "color": "#2E2E2E",
          "size": 18
         },
         "text": "Model Performance Comparison Across 2 Runs",
         "x": 0.5
        },
        "xaxis": {
         "tickangle": 45,
         "title": {
          "text": "Models by Run"
         }
        },
        "yaxis": {
         "range": [
          0,
          1
         ],
         "title": {
          "text": "Score"
         }
        }
       }
      }
     },
     "metadata": {},
     "output_type": "display_data"
    },
    {
     "name": "stdout",
     "output_type": "stream",
     "text": [
      "📋 3. Document Difficulty Ranking\n"
     ]
    },
    {
     "data": {
      "application/vnd.plotly.v1+json": {
       "config": {
        "plotlyServerURL": "https://plot.ly"
       },
       "data": [
        {
         "error_x": {
          "array": {
           "bdata": "oyO5/If0mz/oaiv2l92zP07RkVz+Q7o/8BZIUPwYwz82zTtO0ZG8P4iFWtO847Q/YOXQItv5vj+94xQdyeXHPzC7Jw8LtcY/W0I+6Nmsyj+KH2PuWkLGP9O84xQdyc0/R3L5D+m3xz+vlGWIY13MP+viNhrAW8A/UI2XbhKDwD8xmSoYldTBP13+Q/rt68A/tTf4wmSqwD8/NV66SQzCP6Tfvg6cM8I/V1uxv+yezD+X/5B++zrAPxIUP8bctcQ/p+hILv8hvT8Xt9EA3gLBP8RCrWneccI/xLEubqMBvD+cM6K0N/jCP2wJ+aBns7o/",
           "dtype": "f8"
          },
          "type": "data",
          "visible": true
         },
         "marker": {
          "cmax": 1,
          "cmin": 0,
          "color": {
           "bdata": "ZRniWBe3kT8g0m9fB86pP9Pe4AuTqbI/aLPqc7UVuz/Mf0i/fR3AP2N/2T15WMA/1QloImx4wj+HFtnO91PDPzEIrBxaZMM/IbByaJHtxD8E54wo7Q3GP0vIBz2bVcc/E/JBz2bVxz8730+Nl27KP8RCrWnecco/HhZqTfOOyz/TTWIQWDnMP3WTGARWDs0/4lgXt9EAzj9F2PD0SlnOP+lILv8h/c4/JuSDns2qzz8Sg8DKoUXSP2Q730+Nl9I/rkfhehSu0z/whclUwajUPyPb+X5qvNQ/30+Nl24S1z9fB84ZUdrbP5f/kH77Otw/",
           "dtype": "f8"
          },
          "colorbar": {
           "title": {
            "text": "Average F1-Score"
           }
          },
          "colorscale": [
           [
            0,
            "rgb(165,0,38)"
           ],
           [
            0.1,
            "rgb(215,48,39)"
           ],
           [
            0.2,
            "rgb(244,109,67)"
           ],
           [
            0.3,
            "rgb(253,174,97)"
           ],
           [
            0.4,
            "rgb(254,224,139)"
           ],
           [
            0.5,
            "rgb(255,255,191)"
           ],
           [
            0.6,
            "rgb(217,239,139)"
           ],
           [
            0.7,
            "rgb(166,217,106)"
           ],
           [
            0.8,
            "rgb(102,189,99)"
           ],
           [
            0.9,
            "rgb(26,152,80)"
           ],
           [
            1,
            "rgb(0,104,55)"
           ]
          ]
         },
         "orientation": "h",
         "text": {
          "bdata": "nMQgsHJokT+amZmZmZmpP+Olm8QgsLI/iUFg5dAiuz9U46WbxCDAP/yp8dJNYsA/O99PjZduwj+HFtnO91PDP9v5fmq8dMM/y6FFtvP9xD9qvHSTGATGP7Kd76fGS8c/AiuHFtnOxz+R7Xw/NV7KP+XQItv5fso/hetRuB6Fyz8pXI/C9SjMP3WTGARWDs0/wcqhRbbzzT+8dJMYBFbOP2Dl0CLb+c4/BFYOLbKdzz/n+6nx0k3SP4/C9Shcj9I/g8DKoUW20z956SYxCKzUPyPb+X5qvNQ/CtejcD0K1z/Xo3A9CtfbP9NNYhBYOdw/",
          "dtype": "f8"
         },
         "textposition": "auto",
         "type": "bar",
         "x": {
          "bdata": "ZRniWBe3kT8g0m9fB86pP9Pe4AuTqbI/aLPqc7UVuz/Mf0i/fR3AP2N/2T15WMA/1QloImx4wj+HFtnO91PDPzEIrBxaZMM/IbByaJHtxD8E54wo7Q3GP0vIBz2bVcc/E/JBz2bVxz8730+Nl27KP8RCrWnecco/HhZqTfOOyz/TTWIQWDnMP3WTGARWDs0/4lgXt9EAzj9F2PD0SlnOP+lILv8h/c4/JuSDns2qzz8Sg8DKoUXSP2Q730+Nl9I/rkfhehSu0z/whclUwajUPyPb+X5qvNQ/30+Nl24S1z9fB84ZUdrbP5f/kH77Otw/",
          "dtype": "f8"
         },
         "y": [
          "S.N. v. RUSSIA",
          "KOSAITE - CYPIENE AND OTHERS v. LITHUANIA",
          "YERMAKOVICH v. RUSSIA",
          "CABUCAK v. GERMANY",
          "BIGUN v. UKRAINE",
          "BELYAYEV AND OTHERS v. UKRAINE",
          "VISY v. SLOVAKIA",
          "H_INESS v. NORWAY (1)",
          "MURUZHEVA v. RUSSIA",
          "S.V. v. ITALY",
          "O.C.I. AND OTHERS v. ROMANIA",
          "SIDOROVA v. RUSSIA",
          "EGILL EINARSSON v. ICELAND (No. 2)",
          "PANYUSHKINY v. RUSSIA",
          "_NODI v. HUNGARY",
          "ALTAY v. TURKEY (No. 2)",
          "CRISTIAN CATALIN UNGUREANU v. ROMANIA",
          "RESIN v. RUSSIA",
          "YEVGENIY ZAKHAROV v. RUSSIA",
          "M.T. v. UKRAINE",
          "SHVIDKIYE v. RUSSIA",
          "OTGON v. THE REPUBLIC OF MOLDOVA",
          "DOKTOROV v. BULGARIA",
          "LOZOVYYE v. RUSSIA",
          "SOLCAN v. ROMANIA",
          "MOSKALEV v. RUSSIA",
          "PAKHTUSOV v. RUSSIA",
          "STANA v. ROMANIA",
          "CAN v. TURKEY",
          "YAKUSHEV v. UKRAINE"
         ]
        }
       ],
       "layout": {
        "height": 750,
        "template": {
         "data": {
          "bar": [
           {
            "error_x": {
             "color": "#2a3f5f"
            },
            "error_y": {
             "color": "#2a3f5f"
            },
            "marker": {
             "line": {
              "color": "white",
              "width": 0.5
             },
             "pattern": {
              "fillmode": "overlay",
              "size": 10,
              "solidity": 0.2
             }
            },
            "type": "bar"
           }
          ],
          "barpolar": [
           {
            "marker": {
             "line": {
              "color": "white",
              "width": 0.5
             },
             "pattern": {
              "fillmode": "overlay",
              "size": 10,
              "solidity": 0.2
             }
            },
            "type": "barpolar"
           }
          ],
          "carpet": [
           {
            "aaxis": {
             "endlinecolor": "#2a3f5f",
             "gridcolor": "#C8D4E3",
             "linecolor": "#C8D4E3",
             "minorgridcolor": "#C8D4E3",
             "startlinecolor": "#2a3f5f"
            },
            "baxis": {
             "endlinecolor": "#2a3f5f",
             "gridcolor": "#C8D4E3",
             "linecolor": "#C8D4E3",
             "minorgridcolor": "#C8D4E3",
             "startlinecolor": "#2a3f5f"
            },
            "type": "carpet"
           }
          ],
          "choropleth": [
           {
            "colorbar": {
             "outlinewidth": 0,
             "ticks": ""
            },
            "type": "choropleth"
           }
          ],
          "contour": [
           {
            "colorbar": {
             "outlinewidth": 0,
             "ticks": ""
            },
            "colorscale": [
             [
              0,
              "#0d0887"
             ],
             [
              0.1111111111111111,
              "#46039f"
             ],
             [
              0.2222222222222222,
              "#7201a8"
             ],
             [
              0.3333333333333333,
              "#9c179e"
             ],
             [
              0.4444444444444444,
              "#bd3786"
             ],
             [
              0.5555555555555556,
              "#d8576b"
             ],
             [
              0.6666666666666666,
              "#ed7953"
             ],
             [
              0.7777777777777778,
              "#fb9f3a"
             ],
             [
              0.8888888888888888,
              "#fdca26"
             ],
             [
              1,
              "#f0f921"
             ]
            ],
            "type": "contour"
           }
          ],
          "contourcarpet": [
           {
            "colorbar": {
             "outlinewidth": 0,
             "ticks": ""
            },
            "type": "contourcarpet"
           }
          ],
          "heatmap": [
           {
            "colorbar": {
             "outlinewidth": 0,
             "ticks": ""
            },
            "colorscale": [
             [
              0,
              "#0d0887"
             ],
             [
              0.1111111111111111,
              "#46039f"
             ],
             [
              0.2222222222222222,
              "#7201a8"
             ],
             [
              0.3333333333333333,
              "#9c179e"
             ],
             [
              0.4444444444444444,
              "#bd3786"
             ],
             [
              0.5555555555555556,
              "#d8576b"
             ],
             [
              0.6666666666666666,
              "#ed7953"
             ],
             [
              0.7777777777777778,
              "#fb9f3a"
             ],
             [
              0.8888888888888888,
              "#fdca26"
             ],
             [
              1,
              "#f0f921"
             ]
            ],
            "type": "heatmap"
           }
          ],
          "histogram": [
           {
            "marker": {
             "pattern": {
              "fillmode": "overlay",
              "size": 10,
              "solidity": 0.2
             }
            },
            "type": "histogram"
           }
          ],
          "histogram2d": [
           {
            "colorbar": {
             "outlinewidth": 0,
             "ticks": ""
            },
            "colorscale": [
             [
              0,
              "#0d0887"
             ],
             [
              0.1111111111111111,
              "#46039f"
             ],
             [
              0.2222222222222222,
              "#7201a8"
             ],
             [
              0.3333333333333333,
              "#9c179e"
             ],
             [
              0.4444444444444444,
              "#bd3786"
             ],
             [
              0.5555555555555556,
              "#d8576b"
             ],
             [
              0.6666666666666666,
              "#ed7953"
             ],
             [
              0.7777777777777778,
              "#fb9f3a"
             ],
             [
              0.8888888888888888,
              "#fdca26"
             ],
             [
              1,
              "#f0f921"
             ]
            ],
            "type": "histogram2d"
           }
          ],
          "histogram2dcontour": [
           {
            "colorbar": {
             "outlinewidth": 0,
             "ticks": ""
            },
            "colorscale": [
             [
              0,
              "#0d0887"
             ],
             [
              0.1111111111111111,
              "#46039f"
             ],
             [
              0.2222222222222222,
              "#7201a8"
             ],
             [
              0.3333333333333333,
              "#9c179e"
             ],
             [
              0.4444444444444444,
              "#bd3786"
             ],
             [
              0.5555555555555556,
              "#d8576b"
             ],
             [
              0.6666666666666666,
              "#ed7953"
             ],
             [
              0.7777777777777778,
              "#fb9f3a"
             ],
             [
              0.8888888888888888,
              "#fdca26"
             ],
             [
              1,
              "#f0f921"
             ]
            ],
            "type": "histogram2dcontour"
           }
          ],
          "mesh3d": [
           {
            "colorbar": {
             "outlinewidth": 0,
             "ticks": ""
            },
            "type": "mesh3d"
           }
          ],
          "parcoords": [
           {
            "line": {
             "colorbar": {
              "outlinewidth": 0,
              "ticks": ""
             }
            },
            "type": "parcoords"
           }
          ],
          "pie": [
           {
            "automargin": true,
            "type": "pie"
           }
          ],
          "scatter": [
           {
            "fillpattern": {
             "fillmode": "overlay",
             "size": 10,
             "solidity": 0.2
            },
            "type": "scatter"
           }
          ],
          "scatter3d": [
           {
            "line": {
             "colorbar": {
              "outlinewidth": 0,
              "ticks": ""
             }
            },
            "marker": {
             "colorbar": {
              "outlinewidth": 0,
              "ticks": ""
             }
            },
            "type": "scatter3d"
           }
          ],
          "scattercarpet": [
           {
            "marker": {
             "colorbar": {
              "outlinewidth": 0,
              "ticks": ""
             }
            },
            "type": "scattercarpet"
           }
          ],
          "scattergeo": [
           {
            "marker": {
             "colorbar": {
              "outlinewidth": 0,
              "ticks": ""
             }
            },
            "type": "scattergeo"
           }
          ],
          "scattergl": [
           {
            "marker": {
             "colorbar": {
              "outlinewidth": 0,
              "ticks": ""
             }
            },
            "type": "scattergl"
           }
          ],
          "scattermap": [
           {
            "marker": {
             "colorbar": {
              "outlinewidth": 0,
              "ticks": ""
             }
            },
            "type": "scattermap"
           }
          ],
          "scattermapbox": [
           {
            "marker": {
             "colorbar": {
              "outlinewidth": 0,
              "ticks": ""
             }
            },
            "type": "scattermapbox"
           }
          ],
          "scatterpolar": [
           {
            "marker": {
             "colorbar": {
              "outlinewidth": 0,
              "ticks": ""
             }
            },
            "type": "scatterpolar"
           }
          ],
          "scatterpolargl": [
           {
            "marker": {
             "colorbar": {
              "outlinewidth": 0,
              "ticks": ""
             }
            },
            "type": "scatterpolargl"
           }
          ],
          "scatterternary": [
           {
            "marker": {
             "colorbar": {
              "outlinewidth": 0,
              "ticks": ""
             }
            },
            "type": "scatterternary"
           }
          ],
          "surface": [
           {
            "colorbar": {
             "outlinewidth": 0,
             "ticks": ""
            },
            "colorscale": [
             [
              0,
              "#0d0887"
             ],
             [
              0.1111111111111111,
              "#46039f"
             ],
             [
              0.2222222222222222,
              "#7201a8"
             ],
             [
              0.3333333333333333,
              "#9c179e"
             ],
             [
              0.4444444444444444,
              "#bd3786"
             ],
             [
              0.5555555555555556,
              "#d8576b"
             ],
             [
              0.6666666666666666,
              "#ed7953"
             ],
             [
              0.7777777777777778,
              "#fb9f3a"
             ],
             [
              0.8888888888888888,
              "#fdca26"
             ],
             [
              1,
              "#f0f921"
             ]
            ],
            "type": "surface"
           }
          ],
          "table": [
           {
            "cells": {
             "fill": {
              "color": "#EBF0F8"
             },
             "line": {
              "color": "white"
             }
            },
            "header": {
             "fill": {
              "color": "#C8D4E3"
             },
             "line": {
              "color": "white"
             }
            },
            "type": "table"
           }
          ]
         },
         "layout": {
          "annotationdefaults": {
           "arrowcolor": "#2a3f5f",
           "arrowhead": 0,
           "arrowwidth": 1
          },
          "autotypenumbers": "strict",
          "coloraxis": {
           "colorbar": {
            "outlinewidth": 0,
            "ticks": ""
           }
          },
          "colorscale": {
           "diverging": [
            [
             0,
             "#8e0152"
            ],
            [
             0.1,
             "#c51b7d"
            ],
            [
             0.2,
             "#de77ae"
            ],
            [
             0.3,
             "#f1b6da"
            ],
            [
             0.4,
             "#fde0ef"
            ],
            [
             0.5,
             "#f7f7f7"
            ],
            [
             0.6,
             "#e6f5d0"
            ],
            [
             0.7,
             "#b8e186"
            ],
            [
             0.8,
             "#7fbc41"
            ],
            [
             0.9,
             "#4d9221"
            ],
            [
             1,
             "#276419"
            ]
           ],
           "sequential": [
            [
             0,
             "#0d0887"
            ],
            [
             0.1111111111111111,
             "#46039f"
            ],
            [
             0.2222222222222222,
             "#7201a8"
            ],
            [
             0.3333333333333333,
             "#9c179e"
            ],
            [
             0.4444444444444444,
             "#bd3786"
            ],
            [
             0.5555555555555556,
             "#d8576b"
            ],
            [
             0.6666666666666666,
             "#ed7953"
            ],
            [
             0.7777777777777778,
             "#fb9f3a"
            ],
            [
             0.8888888888888888,
             "#fdca26"
            ],
            [
             1,
             "#f0f921"
            ]
           ],
           "sequentialminus": [
            [
             0,
             "#0d0887"
            ],
            [
             0.1111111111111111,
             "#46039f"
            ],
            [
             0.2222222222222222,
             "#7201a8"
            ],
            [
             0.3333333333333333,
             "#9c179e"
            ],
            [
             0.4444444444444444,
             "#bd3786"
            ],
            [
             0.5555555555555556,
             "#d8576b"
            ],
            [
             0.6666666666666666,
             "#ed7953"
            ],
            [
             0.7777777777777778,
             "#fb9f3a"
            ],
            [
             0.8888888888888888,
             "#fdca26"
            ],
            [
             1,
             "#f0f921"
            ]
           ]
          },
          "colorway": [
           "#636efa",
           "#EF553B",
           "#00cc96",
           "#ab63fa",
           "#FFA15A",
           "#19d3f3",
           "#FF6692",
           "#B6E880",
           "#FF97FF",
           "#FECB52"
          ],
          "font": {
           "color": "#2a3f5f"
          },
          "geo": {
           "bgcolor": "white",
           "lakecolor": "white",
           "landcolor": "white",
           "showlakes": true,
           "showland": true,
           "subunitcolor": "#C8D4E3"
          },
          "hoverlabel": {
           "align": "left"
          },
          "hovermode": "closest",
          "mapbox": {
           "style": "light"
          },
          "paper_bgcolor": "white",
          "plot_bgcolor": "white",
          "polar": {
           "angularaxis": {
            "gridcolor": "#EBF0F8",
            "linecolor": "#EBF0F8",
            "ticks": ""
           },
           "bgcolor": "white",
           "radialaxis": {
            "gridcolor": "#EBF0F8",
            "linecolor": "#EBF0F8",
            "ticks": ""
           }
          },
          "scene": {
           "xaxis": {
            "backgroundcolor": "white",
            "gridcolor": "#DFE8F3",
            "gridwidth": 2,
            "linecolor": "#EBF0F8",
            "showbackground": true,
            "ticks": "",
            "zerolinecolor": "#EBF0F8"
           },
           "yaxis": {
            "backgroundcolor": "white",
            "gridcolor": "#DFE8F3",
            "gridwidth": 2,
            "linecolor": "#EBF0F8",
            "showbackground": true,
            "ticks": "",
            "zerolinecolor": "#EBF0F8"
           },
           "zaxis": {
            "backgroundcolor": "white",
            "gridcolor": "#DFE8F3",
            "gridwidth": 2,
            "linecolor": "#EBF0F8",
            "showbackground": true,
            "ticks": "",
            "zerolinecolor": "#EBF0F8"
           }
          },
          "shapedefaults": {
           "line": {
            "color": "#2a3f5f"
           }
          },
          "ternary": {
           "aaxis": {
            "gridcolor": "#DFE8F3",
            "linecolor": "#A2B1C6",
            "ticks": ""
           },
           "baxis": {
            "gridcolor": "#DFE8F3",
            "linecolor": "#A2B1C6",
            "ticks": ""
           },
           "bgcolor": "white",
           "caxis": {
            "gridcolor": "#DFE8F3",
            "linecolor": "#A2B1C6",
            "ticks": ""
           }
          },
          "title": {
           "x": 0.05
          },
          "xaxis": {
           "automargin": true,
           "gridcolor": "#EBF0F8",
           "linecolor": "#EBF0F8",
           "ticks": "",
           "title": {
            "standoff": 15
           },
           "zerolinecolor": "#EBF0F8",
           "zerolinewidth": 2
          },
          "yaxis": {
           "automargin": true,
           "gridcolor": "#EBF0F8",
           "linecolor": "#EBF0F8",
           "ticks": "",
           "title": {
            "standoff": 15
           },
           "zerolinecolor": "#EBF0F8",
           "zerolinewidth": 2
          }
         }
        },
        "title": {
         "font": {
          "color": "#2E2E2E",
          "size": 16
         },
         "text": "Document Difficulty Ranking (by Average F1-Score Across Models)",
         "x": 0.5
        },
        "xaxis": {
         "range": [
          0,
          1
         ],
         "title": {
          "text": "Average F1-Score"
         }
        },
        "yaxis": {
         "title": {
          "text": "Documents"
         }
        }
       }
      }
     },
     "metadata": {},
     "output_type": "display_data"
    }
   ],
   "source": [
    "if 'df' in globals() and not df.empty:\n",
    "    print(\"🎯 Creating Performance Visualizations...\")\n",
    "    \n",
    "    # 1. F1-Score Heatmap - Shows model performance across documents at a glance\n",
    "    print(\"📊 1. Model Performance Heatmap (F1-Score)\")\n",
    "    f1_heatmap = create_performance_heatmap(df, 'f1_score', 'F1-Score')\n",
    "    f1_heatmap.show()\n",
    "    \n",
    "    # 2. Model Comparison Chart - Shows average performance with error bars\n",
    "    print(\"📈 2. Model Performance Comparison\")\n",
    "    model_comparison = create_model_comparison_chart(df)\n",
    "    model_comparison.show()\n",
    "    \n",
    "    # 3. Document Difficulty Ranking\n",
    "    print(\"📋 3. Document Difficulty Ranking\")\n",
    "    doc_difficulty = create_document_difficulty_chart(df)\n",
    "    doc_difficulty.show()\n",
    "    \n",
    "else:\n",
    "    print(\"❌ Please load and process evaluation data first.\")"
   ]
  },
  {
   "cell_type": "code",
   "execution_count": 6,
   "id": "2b77afc6",
   "metadata": {},
   "outputs": [
    {
     "name": "stdout",
     "output_type": "stream",
     "text": [
      "🔄 4. Run Comparison Dashboard\n"
     ]
    },
    {
     "data": {
      "application/vnd.plotly.v1+json": {
       "config": {
        "plotlyServerURL": "https://plot.ly"
       },
       "data": [
        {
         "error_y": {
          "array": {
           "bdata": "8rBQa5p3xD91kxgEVg7FPw==",
           "dtype": "f8"
          },
          "type": "data",
          "visible": true
         },
         "name": "F1",
         "showlegend": false,
         "text": {
          "bdata": "JzEIrBxaxD+cxCCwcmjRPw==",
          "dtype": "f8"
         },
         "textposition": "auto",
         "type": "bar",
         "x": [
          "pipeline_results_20250725_111753",
          "pipeline_results_20250808_145025"
         ],
         "xaxis": "x",
         "y": {
          "bdata": "jgbwFkhQxD8TYcPTK2XRPw==",
          "dtype": "f8"
         },
         "yaxis": "y"
        },
        {
         "error_y": {
          "array": {
           "bdata": "LpCg+DHmzj/biv1l9+TJPw==",
           "dtype": "f8"
          },
          "type": "data",
          "visible": true
         },
         "name": "Precision",
         "showlegend": false,
         "text": {
          "bdata": "kxgEVg4t0j+wcmiR7XzXPw==",
          "dtype": "f8"
         },
         "textposition": "auto",
         "type": "bar",
         "x": [
          "pipeline_results_20250725_111753",
          "pipeline_results_20250808_145025"
         ],
         "xaxis": "x2",
         "y": {
          "bdata": "4C2QoPgx0j/9h/Tb14HXPw==",
          "dtype": "f8"
         },
         "yaxis": "y2"
        },
        {
         "error_y": {
          "array": {
           "bdata": "aCJseHqlxD+fPCzUmubFPw==",
           "dtype": "f8"
          },
          "type": "data",
          "visible": true
         },
         "name": "Recall",
         "showlegend": false,
         "text": {
          "bdata": "SOF6FK5HwT8AAAAAAADQPw==",
          "dtype": "f8"
         },
         "textposition": "auto",
         "type": "bar",
         "x": [
          "pipeline_results_20250725_111753",
          "pipeline_results_20250808_145025"
         ],
         "xaxis": "x3",
         "y": {
          "bdata": "aW/whclUwT/EsS5uowHQPw==",
          "dtype": "f8"
         },
         "yaxis": "y3"
        },
        {
         "name": "F1 Std Dev",
         "showlegend": false,
         "text": {
          "bdata": "MzMzMzMzsz/RItv5fmq8Pw==",
          "dtype": "f8"
         },
         "textposition": "auto",
         "type": "bar",
         "x": [
          "pipeline_results_20250725_111753",
          "pipeline_results_20250808_145025"
         ],
         "xaxis": "x4",
         "y": {
          "bdata": "/1myCtclsz8QzUNaXmC8Pw==",
          "dtype": "f8"
         },
         "yaxis": "y4"
        }
       ],
       "layout": {
        "annotations": [
         {
          "font": {
           "size": 16
          },
          "showarrow": false,
          "text": "F1-Score by Run",
          "x": 0.225,
          "xanchor": "center",
          "xref": "paper",
          "y": 1,
          "yanchor": "bottom",
          "yref": "paper"
         },
         {
          "font": {
           "size": 16
          },
          "showarrow": false,
          "text": "Precision by Run",
          "x": 0.775,
          "xanchor": "center",
          "xref": "paper",
          "y": 1,
          "yanchor": "bottom",
          "yref": "paper"
         },
         {
          "font": {
           "size": 16
          },
          "showarrow": false,
          "text": "Recall by Run",
          "x": 0.225,
          "xanchor": "center",
          "xref": "paper",
          "y": 0.375,
          "yanchor": "bottom",
          "yref": "paper"
         },
         {
          "font": {
           "size": 16
          },
          "showarrow": false,
          "text": "Model Performance Variation",
          "x": 0.775,
          "xanchor": "center",
          "xref": "paper",
          "y": 0.375,
          "yanchor": "bottom",
          "yref": "paper"
         }
        ],
        "height": 800,
        "template": {
         "data": {
          "bar": [
           {
            "error_x": {
             "color": "#2a3f5f"
            },
            "error_y": {
             "color": "#2a3f5f"
            },
            "marker": {
             "line": {
              "color": "white",
              "width": 0.5
             },
             "pattern": {
              "fillmode": "overlay",
              "size": 10,
              "solidity": 0.2
             }
            },
            "type": "bar"
           }
          ],
          "barpolar": [
           {
            "marker": {
             "line": {
              "color": "white",
              "width": 0.5
             },
             "pattern": {
              "fillmode": "overlay",
              "size": 10,
              "solidity": 0.2
             }
            },
            "type": "barpolar"
           }
          ],
          "carpet": [
           {
            "aaxis": {
             "endlinecolor": "#2a3f5f",
             "gridcolor": "#C8D4E3",
             "linecolor": "#C8D4E3",
             "minorgridcolor": "#C8D4E3",
             "startlinecolor": "#2a3f5f"
            },
            "baxis": {
             "endlinecolor": "#2a3f5f",
             "gridcolor": "#C8D4E3",
             "linecolor": "#C8D4E3",
             "minorgridcolor": "#C8D4E3",
             "startlinecolor": "#2a3f5f"
            },
            "type": "carpet"
           }
          ],
          "choropleth": [
           {
            "colorbar": {
             "outlinewidth": 0,
             "ticks": ""
            },
            "type": "choropleth"
           }
          ],
          "contour": [
           {
            "colorbar": {
             "outlinewidth": 0,
             "ticks": ""
            },
            "colorscale": [
             [
              0,
              "#0d0887"
             ],
             [
              0.1111111111111111,
              "#46039f"
             ],
             [
              0.2222222222222222,
              "#7201a8"
             ],
             [
              0.3333333333333333,
              "#9c179e"
             ],
             [
              0.4444444444444444,
              "#bd3786"
             ],
             [
              0.5555555555555556,
              "#d8576b"
             ],
             [
              0.6666666666666666,
              "#ed7953"
             ],
             [
              0.7777777777777778,
              "#fb9f3a"
             ],
             [
              0.8888888888888888,
              "#fdca26"
             ],
             [
              1,
              "#f0f921"
             ]
            ],
            "type": "contour"
           }
          ],
          "contourcarpet": [
           {
            "colorbar": {
             "outlinewidth": 0,
             "ticks": ""
            },
            "type": "contourcarpet"
           }
          ],
          "heatmap": [
           {
            "colorbar": {
             "outlinewidth": 0,
             "ticks": ""
            },
            "colorscale": [
             [
              0,
              "#0d0887"
             ],
             [
              0.1111111111111111,
              "#46039f"
             ],
             [
              0.2222222222222222,
              "#7201a8"
             ],
             [
              0.3333333333333333,
              "#9c179e"
             ],
             [
              0.4444444444444444,
              "#bd3786"
             ],
             [
              0.5555555555555556,
              "#d8576b"
             ],
             [
              0.6666666666666666,
              "#ed7953"
             ],
             [
              0.7777777777777778,
              "#fb9f3a"
             ],
             [
              0.8888888888888888,
              "#fdca26"
             ],
             [
              1,
              "#f0f921"
             ]
            ],
            "type": "heatmap"
           }
          ],
          "histogram": [
           {
            "marker": {
             "pattern": {
              "fillmode": "overlay",
              "size": 10,
              "solidity": 0.2
             }
            },
            "type": "histogram"
           }
          ],
          "histogram2d": [
           {
            "colorbar": {
             "outlinewidth": 0,
             "ticks": ""
            },
            "colorscale": [
             [
              0,
              "#0d0887"
             ],
             [
              0.1111111111111111,
              "#46039f"
             ],
             [
              0.2222222222222222,
              "#7201a8"
             ],
             [
              0.3333333333333333,
              "#9c179e"
             ],
             [
              0.4444444444444444,
              "#bd3786"
             ],
             [
              0.5555555555555556,
              "#d8576b"
             ],
             [
              0.6666666666666666,
              "#ed7953"
             ],
             [
              0.7777777777777778,
              "#fb9f3a"
             ],
             [
              0.8888888888888888,
              "#fdca26"
             ],
             [
              1,
              "#f0f921"
             ]
            ],
            "type": "histogram2d"
           }
          ],
          "histogram2dcontour": [
           {
            "colorbar": {
             "outlinewidth": 0,
             "ticks": ""
            },
            "colorscale": [
             [
              0,
              "#0d0887"
             ],
             [
              0.1111111111111111,
              "#46039f"
             ],
             [
              0.2222222222222222,
              "#7201a8"
             ],
             [
              0.3333333333333333,
              "#9c179e"
             ],
             [
              0.4444444444444444,
              "#bd3786"
             ],
             [
              0.5555555555555556,
              "#d8576b"
             ],
             [
              0.6666666666666666,
              "#ed7953"
             ],
             [
              0.7777777777777778,
              "#fb9f3a"
             ],
             [
              0.8888888888888888,
              "#fdca26"
             ],
             [
              1,
              "#f0f921"
             ]
            ],
            "type": "histogram2dcontour"
           }
          ],
          "mesh3d": [
           {
            "colorbar": {
             "outlinewidth": 0,
             "ticks": ""
            },
            "type": "mesh3d"
           }
          ],
          "parcoords": [
           {
            "line": {
             "colorbar": {
              "outlinewidth": 0,
              "ticks": ""
             }
            },
            "type": "parcoords"
           }
          ],
          "pie": [
           {
            "automargin": true,
            "type": "pie"
           }
          ],
          "scatter": [
           {
            "fillpattern": {
             "fillmode": "overlay",
             "size": 10,
             "solidity": 0.2
            },
            "type": "scatter"
           }
          ],
          "scatter3d": [
           {
            "line": {
             "colorbar": {
              "outlinewidth": 0,
              "ticks": ""
             }
            },
            "marker": {
             "colorbar": {
              "outlinewidth": 0,
              "ticks": ""
             }
            },
            "type": "scatter3d"
           }
          ],
          "scattercarpet": [
           {
            "marker": {
             "colorbar": {
              "outlinewidth": 0,
              "ticks": ""
             }
            },
            "type": "scattercarpet"
           }
          ],
          "scattergeo": [
           {
            "marker": {
             "colorbar": {
              "outlinewidth": 0,
              "ticks": ""
             }
            },
            "type": "scattergeo"
           }
          ],
          "scattergl": [
           {
            "marker": {
             "colorbar": {
              "outlinewidth": 0,
              "ticks": ""
             }
            },
            "type": "scattergl"
           }
          ],
          "scattermap": [
           {
            "marker": {
             "colorbar": {
              "outlinewidth": 0,
              "ticks": ""
             }
            },
            "type": "scattermap"
           }
          ],
          "scattermapbox": [
           {
            "marker": {
             "colorbar": {
              "outlinewidth": 0,
              "ticks": ""
             }
            },
            "type": "scattermapbox"
           }
          ],
          "scatterpolar": [
           {
            "marker": {
             "colorbar": {
              "outlinewidth": 0,
              "ticks": ""
             }
            },
            "type": "scatterpolar"
           }
          ],
          "scatterpolargl": [
           {
            "marker": {
             "colorbar": {
              "outlinewidth": 0,
              "ticks": ""
             }
            },
            "type": "scatterpolargl"
           }
          ],
          "scatterternary": [
           {
            "marker": {
             "colorbar": {
              "outlinewidth": 0,
              "ticks": ""
             }
            },
            "type": "scatterternary"
           }
          ],
          "surface": [
           {
            "colorbar": {
             "outlinewidth": 0,
             "ticks": ""
            },
            "colorscale": [
             [
              0,
              "#0d0887"
             ],
             [
              0.1111111111111111,
              "#46039f"
             ],
             [
              0.2222222222222222,
              "#7201a8"
             ],
             [
              0.3333333333333333,
              "#9c179e"
             ],
             [
              0.4444444444444444,
              "#bd3786"
             ],
             [
              0.5555555555555556,
              "#d8576b"
             ],
             [
              0.6666666666666666,
              "#ed7953"
             ],
             [
              0.7777777777777778,
              "#fb9f3a"
             ],
             [
              0.8888888888888888,
              "#fdca26"
             ],
             [
              1,
              "#f0f921"
             ]
            ],
            "type": "surface"
           }
          ],
          "table": [
           {
            "cells": {
             "fill": {
              "color": "#EBF0F8"
             },
             "line": {
              "color": "white"
             }
            },
            "header": {
             "fill": {
              "color": "#C8D4E3"
             },
             "line": {
              "color": "white"
             }
            },
            "type": "table"
           }
          ]
         },
         "layout": {
          "annotationdefaults": {
           "arrowcolor": "#2a3f5f",
           "arrowhead": 0,
           "arrowwidth": 1
          },
          "autotypenumbers": "strict",
          "coloraxis": {
           "colorbar": {
            "outlinewidth": 0,
            "ticks": ""
           }
          },
          "colorscale": {
           "diverging": [
            [
             0,
             "#8e0152"
            ],
            [
             0.1,
             "#c51b7d"
            ],
            [
             0.2,
             "#de77ae"
            ],
            [
             0.3,
             "#f1b6da"
            ],
            [
             0.4,
             "#fde0ef"
            ],
            [
             0.5,
             "#f7f7f7"
            ],
            [
             0.6,
             "#e6f5d0"
            ],
            [
             0.7,
             "#b8e186"
            ],
            [
             0.8,
             "#7fbc41"
            ],
            [
             0.9,
             "#4d9221"
            ],
            [
             1,
             "#276419"
            ]
           ],
           "sequential": [
            [
             0,
             "#0d0887"
            ],
            [
             0.1111111111111111,
             "#46039f"
            ],
            [
             0.2222222222222222,
             "#7201a8"
            ],
            [
             0.3333333333333333,
             "#9c179e"
            ],
            [
             0.4444444444444444,
             "#bd3786"
            ],
            [
             0.5555555555555556,
             "#d8576b"
            ],
            [
             0.6666666666666666,
             "#ed7953"
            ],
            [
             0.7777777777777778,
             "#fb9f3a"
            ],
            [
             0.8888888888888888,
             "#fdca26"
            ],
            [
             1,
             "#f0f921"
            ]
           ],
           "sequentialminus": [
            [
             0,
             "#0d0887"
            ],
            [
             0.1111111111111111,
             "#46039f"
            ],
            [
             0.2222222222222222,
             "#7201a8"
            ],
            [
             0.3333333333333333,
             "#9c179e"
            ],
            [
             0.4444444444444444,
             "#bd3786"
            ],
            [
             0.5555555555555556,
             "#d8576b"
            ],
            [
             0.6666666666666666,
             "#ed7953"
            ],
            [
             0.7777777777777778,
             "#fb9f3a"
            ],
            [
             0.8888888888888888,
             "#fdca26"
            ],
            [
             1,
             "#f0f921"
            ]
           ]
          },
          "colorway": [
           "#636efa",
           "#EF553B",
           "#00cc96",
           "#ab63fa",
           "#FFA15A",
           "#19d3f3",
           "#FF6692",
           "#B6E880",
           "#FF97FF",
           "#FECB52"
          ],
          "font": {
           "color": "#2a3f5f"
          },
          "geo": {
           "bgcolor": "white",
           "lakecolor": "white",
           "landcolor": "white",
           "showlakes": true,
           "showland": true,
           "subunitcolor": "#C8D4E3"
          },
          "hoverlabel": {
           "align": "left"
          },
          "hovermode": "closest",
          "mapbox": {
           "style": "light"
          },
          "paper_bgcolor": "white",
          "plot_bgcolor": "white",
          "polar": {
           "angularaxis": {
            "gridcolor": "#EBF0F8",
            "linecolor": "#EBF0F8",
            "ticks": ""
           },
           "bgcolor": "white",
           "radialaxis": {
            "gridcolor": "#EBF0F8",
            "linecolor": "#EBF0F8",
            "ticks": ""
           }
          },
          "scene": {
           "xaxis": {
            "backgroundcolor": "white",
            "gridcolor": "#DFE8F3",
            "gridwidth": 2,
            "linecolor": "#EBF0F8",
            "showbackground": true,
            "ticks": "",
            "zerolinecolor": "#EBF0F8"
           },
           "yaxis": {
            "backgroundcolor": "white",
            "gridcolor": "#DFE8F3",
            "gridwidth": 2,
            "linecolor": "#EBF0F8",
            "showbackground": true,
            "ticks": "",
            "zerolinecolor": "#EBF0F8"
           },
           "zaxis": {
            "backgroundcolor": "white",
            "gridcolor": "#DFE8F3",
            "gridwidth": 2,
            "linecolor": "#EBF0F8",
            "showbackground": true,
            "ticks": "",
            "zerolinecolor": "#EBF0F8"
           }
          },
          "shapedefaults": {
           "line": {
            "color": "#2a3f5f"
           }
          },
          "ternary": {
           "aaxis": {
            "gridcolor": "#DFE8F3",
            "linecolor": "#A2B1C6",
            "ticks": ""
           },
           "baxis": {
            "gridcolor": "#DFE8F3",
            "linecolor": "#A2B1C6",
            "ticks": ""
           },
           "bgcolor": "white",
           "caxis": {
            "gridcolor": "#DFE8F3",
            "linecolor": "#A2B1C6",
            "ticks": ""
           }
          },
          "title": {
           "x": 0.05
          },
          "xaxis": {
           "automargin": true,
           "gridcolor": "#EBF0F8",
           "linecolor": "#EBF0F8",
           "ticks": "",
           "title": {
            "standoff": 15
           },
           "zerolinecolor": "#EBF0F8",
           "zerolinewidth": 2
          },
          "yaxis": {
           "automargin": true,
           "gridcolor": "#EBF0F8",
           "linecolor": "#EBF0F8",
           "ticks": "",
           "title": {
            "standoff": 15
           },
           "zerolinecolor": "#EBF0F8",
           "zerolinewidth": 2
          }
         }
        },
        "title": {
         "font": {
          "color": "#2E2E2E",
          "size": 20
         },
         "text": "Run Comparison Dashboard",
         "x": 0.5
        },
        "xaxis": {
         "anchor": "y",
         "domain": [
          0,
          0.45
         ]
        },
        "xaxis2": {
         "anchor": "y2",
         "domain": [
          0.55,
          1
         ]
        },
        "xaxis3": {
         "anchor": "y3",
         "domain": [
          0,
          0.45
         ]
        },
        "xaxis4": {
         "anchor": "y4",
         "domain": [
          0.55,
          1
         ]
        },
        "yaxis": {
         "anchor": "x",
         "domain": [
          0.625,
          1
         ]
        },
        "yaxis2": {
         "anchor": "x2",
         "domain": [
          0.625,
          1
         ]
        },
        "yaxis3": {
         "anchor": "x3",
         "domain": [
          0,
          0.375
         ]
        },
        "yaxis4": {
         "anchor": "x4",
         "domain": [
          0,
          0.375
         ]
        }
       }
      }
     },
     "metadata": {},
     "output_type": "display_data"
    },
    {
     "name": "stdout",
     "output_type": "stream",
     "text": [
      "📊 5. Additional Performance Heatmaps\n"
     ]
    },
    {
     "data": {
      "application/vnd.plotly.v1+json": {
       "config": {
        "plotlyServerURL": "https://plot.ly"
       },
       "data": [
        {
         "colorbar": {
          "title": {
           "text": "Precision"
          }
         },
         "colorscale": [
          [
           0,
           "rgb(165,0,38)"
          ],
          [
           0.1,
           "rgb(215,48,39)"
          ],
          [
           0.2,
           "rgb(244,109,67)"
          ],
          [
           0.3,
           "rgb(253,174,97)"
          ],
          [
           0.4,
           "rgb(254,224,139)"
          ],
          [
           0.5,
           "rgb(255,255,191)"
          ],
          [
           0.6,
           "rgb(217,239,139)"
          ],
          [
           0.7,
           "rgb(166,217,106)"
          ],
          [
           0.8,
           "rgb(102,189,99)"
          ],
          [
           0.9,
           "rgb(26,152,80)"
          ],
          [
           1,
           "rgb(0,104,55)"
          ]
         ],
         "showscale": true,
         "text": {
          "bdata": "x0s3iUFg4T9GtvP91HjRPzm0yHa+n8o/8tJNYhBY5T+YbhKDwMrlPz81XrpJDNo/ZmZmZmZm1j8QWDm0yHbiPwAAAAAAAAAAAAAAAAAAAACDwMqhRbbDPwAAAAAAAAAAaJHtfD813j9MN4lBYOXYP57vp8ZLN+k/7nw/NV662T97FK5H4XrgPwAAAAAAAOA/2c73U+Ol2z8AAAAAAAAAAJqZmZmZmbk/MzMzMzMz4z9Ei2zn+6nhP/yp8dJNYtA/AAAAAAAA4D8AAAAAAADYP1K4HoXrUeA/mpmZmZmZyT/HSzeJQWDdP3e+nxov3dQ/LbKd76fGyz83iUFg5dDSP3E9CtejcL0/AAAAAAAAAAAzMzMzMzPjP0SLbOf7qdE/AAAAAAAAAAAAAAAAAAAAAAAAAAAAAAAAAAAAAAAA4D/jpZvEILDSPx1aZDvfT9U/qvHSTWIQuD8AAAAAAADwPwAAAAAAAAAAAAAAAAAAAAAAAAAAAADwP9Ei2/l+asw/EFg5tMh2zj8AAAAAAAAAAAAAAAAAAPA/0SLb+X5qzD/HSzeJQWDFP9Ei2/l+atw/sp3vp8ZL1z/ZzvdT46WrPwAAAAAAAOA/AAAAAAAA4D/y0k1iEFjlP0w3iUFg5cA/sp3vp8ZL1z8AAAAAAAAAAAAAAAAAAAAAAAAAAAAAAABYObTIdr7PPwAAAAAAAAAAvHSTGARW1j+6SQwCK4e2PwAAAAAAAAAAAAAAAAAAAAD6fmq8dJPIP9Ei2/l+asw/mpmZmZmZ2T+q8dJNYhDIPzMzMzMzM9s/AAAAAAAAAABOYhBYObTIP28Sg8DKod0/zczMzMzM1D8AAAAAAAAAAArXo3A9Cqc/iUFg5dAi2z+yne+nxkvHP0jhehSuR9k/AAAAAAAAwD8xCKwcWmTLPxfZzvdT4+E/AAAAAAAAAABxPQrXo3DhP4PAyqFFttM/001iEFg5xD/hehSuR+G6PwAAAAAAAAAAAAAAAAAAAAB7FK5H4XrkP+f7qfHSTdI/KVyPwvUo3D/HSzeJQWDFPwAAAAAAAAAAAAAAAAAAAADVeOkmMQjcP/hT46WbxNg/9P3UeOkm2T8AAAAAAAAAAAAAAAAAAAAAN4lBYOXQ2j8AAAAAAADYPwAAAAAAAAAAAAAAAAAAAAAAAAAAAAAAAAAAAAAAAAAAarx0kxgE1j+DwMqhRbazP/LSTWIQWOE/AAAAAAAA2D8AAAAAAAAAAArXo3A9Cuc/mpmZmZmZ2T9YObTIdr6vPzEIrBxaZMs/",
          "dtype": "f8",
          "shape": "4, 30"
         },
         "textfont": {
          "size": 8
         },
         "texttemplate": "%{text}",
         "type": "heatmap",
         "x": [
          "ALTAY v. TURKEY (No. 2)",
          "BELYAYEV AND OTHERS v. UKRAINE",
          "BIGUN v. UKRAINE",
          "CABUCAK v. GERMANY",
          "CAN v. TURKEY",
          "CRISTIAN CATALIN UNGUREANU v. ROMANIA",
          "DOKTOROV v. BULGARIA",
          "EGILL EINARSSON v. ICELAND (No. 2)",
          "H_INESS v. NORWAY (1)",
          "KOSAITE - CYPIENE AND OTHERS v. LITHUANIA",
          "LOZOVYYE v. RUSSIA",
          "M.T. v. UKRAINE",
          "MOSKALEV v. RUSSIA",
          "MURUZHEVA v. RUSSIA",
          "O.C.I. AND OTHERS v. ROMANIA",
          "OTGON v. THE REPUBLIC OF MOLDOVA",
          "PAKHTUSOV v. RUSSIA",
          "PANYUSHKINY v. RUSSIA",
          "RESIN v. RUSSIA",
          "S.N. v. RUSSIA",
          "S.V. v. ITALY",
          "SHVIDKIYE v. RUSSIA",
          "SIDOROVA v. RUSSIA",
          "SOLCAN v. ROMANIA",
          "STANA v. ROMANIA",
          "VISY v. SLOVAKIA",
          "YAKUSHEV v. UKRAINE",
          "YERMAKOVICH v. RUSSIA",
          "YEVGENIY ZAKHAROV v. RUSSIA",
          "_NODI v. HUNGARY"
         ],
         "xaxis": "x",
         "y": [
          "gemma3:12b",
          "gemma3:1b",
          "gemma3:4b",
          "mistral:latest"
         ],
         "yaxis": "y",
         "z": {
          "bdata": "8RVf8RVf4T900UUXXXTRP6uqqqqqqso/VVVVVVVV5T9XEJMriMnlPy+hvYT2Eto/ZmZmZmZm1j9iJ3ZiJ3biPwAAAAAAAAAAAAAAAAAAAAAUO7ETO7HDPwAAAAAAAAAAruxzSE0w3j85juM4juPYPzbZZJNNNuk/nN70pje92T988MEHH3zgPwAAAAAAAOA/o4suuuii2z8AAAAAAAAAAJqZmZmZmbk/MzMzMzMz4z+WexphuafhP5AGaZAGadA/AAAAAAAA4D8AAAAAAADYP1BQUFBQUOA/mpmZmZmZyT991g2myGfdPzZlTVlT1tQ/velNb3rTyz/T0tLS0tLSP57YiZ3Yib0/AAAAAAAAAAAzMzMzMzPjP5Z7GmG5p9E/AAAAAAAAAAAAAAAAAAAAAAAAAAAAAAAAAAAAAAAA4D+rqqqqqqrSP1VVVVVVVdU/AAAAAAAAuD8AAAAAAADwPwAAAAAAAAAAAAAAAAAAAAAAAAAAAADwPxzHcRzHccw/nud5nud5zj8AAAAAAAAAAAAAAAAAAPA/HMdxHMdxzD9VVVVVVVXFPxzHcRzHcdw/RhdddNFF1z/QusEU+ayrPwAAAAAAAOA/AAAAAAAA4D9VVVVVVVXlP3kN5TWU18A/RhdddNFF1z8AAAAAAAAAAAAAAAAAAAAAAAAAAAAAAADwB/wBf8DPPwAAAAAAAAAAlmVZlmVZ1j+XlpaWlpa2PwAAAAAAAAAAAAAAAAAAAADZiZ3YiZ3IPxzHcRzHccw/mpmZmZmZ2T8AAAAAAADIPzMzMzMzM9s/AAAAAAAAAACZT72YT73IP6ldidqVqN0/zczMzMzM1D8AAAAAAAAAAEYXXXTRRac/J5tssskm2z9GF1100UXHPzaU11BeQ9k/AAAAAAAAwD/btm3btm3LP+Lh4eHh4eE/AAAAAAAAAAB00UUXXXThPxQ7sRM7sdM/XkN5DeU1xD8or6G8hvK6PwAAAAAAAAAAAAAAAAAAAAB7FK5H4XrkP5IkSZIkSdI/KVyPwvUo3D9VVVVVVVXFPwAAAAAAAAAAAAAAAAAAAAAAAAAAAADcP8YYY4wxxtg/SZIkSZIk2T8AAAAAAAAAAAAAAAAAAAAA11prrbXW2j8AAAAAAADYPwAAAAAAAAAAAAAAAAAAAAAAAAAAAAAAAAAAAAAAAAAAAAAAAAAA1j8UO7ETO7GzP1VVVVVVVeE/AAAAAAAA2D8AAAAAAAAAAArXo3A9Cuc/mpmZmZmZ2T8AAAAAAACwP9u2bdu2bcs/",
          "dtype": "f8",
          "shape": "4, 30"
         },
         "zmax": 1,
         "zmin": 0
        },
        {
         "colorscale": [
          [
           0,
           "rgb(165,0,38)"
          ],
          [
           0.1,
           "rgb(215,48,39)"
          ],
          [
           0.2,
           "rgb(244,109,67)"
          ],
          [
           0.3,
           "rgb(253,174,97)"
          ],
          [
           0.4,
           "rgb(254,224,139)"
          ],
          [
           0.5,
           "rgb(255,255,191)"
          ],
          [
           0.6,
           "rgb(217,239,139)"
          ],
          [
           0.7,
           "rgb(166,217,106)"
          ],
          [
           0.8,
           "rgb(102,189,99)"
          ],
          [
           0.9,
           "rgb(26,152,80)"
          ],
          [
           1,
           "rgb(0,104,55)"
          ]
         ],
         "showscale": false,
         "text": {
          "bdata": "+n5qvHST4D8UrkfhehTOP+xRuB6F69E/UrgehetR5D8v3SQGgZXjP9v5fmq8dNs/PQrXo3A92j8X2c73U+PhPz0K16NwPeI/AAAAAAAA6D8OLbKd76fiP/Cnxks3ieE/dZMYBFYO4T9Ei2zn+6nlP42XbhKDwOY/7FG4HoXr2T/NzMzMzMzkP+XQItv5fuY/nu+nxks34T/n+6nx0k3CP0w3iUFg5eA/CtejcD0K4z/4U+Olm8TkP8HKoUW28+U/rkfhehSu1z/jpZvEILDaP4cW2c73U+M/EoPAyqFF1j8UrkfhehTiP76fGi/dJN4/YOXQItv5vj/RItv5fmrMPwAAAAAAAPA/6SYxCKwcqj+oxks3iUHYP7ByaJHtfNc/+FPjpZvE0D8AAAAAAAAAAAAAAAAAAAAAAAAAAAAA6D8v3SQGgZXTP0Jg5dAi29E/mpmZmZmZyT8AAAAAAAAAAHWTGARWDs0/IbByaJHtzD9t5/up8dLVPwAAAAAAAAAANV66SQwCyz8zMzMzMzPDPwAAAAAAAAAAAAAAAAAAAACDwMqhRbbDP7Kd76fGS9c/nu+nxks34T9qvHSTGASmPxkEVg4tst0/AAAAAAAA0D/jpZvEILDaP28Sg8DKod0/4XoUrkfh2j8AAAAAAADAPy2yne+nxss/K4cW2c730z85tMh2vp/iP05iEFg5tNA/HVpkO99P1T8AAAAAAADgPzMzMzMzM9M/AAAAAAAA5D8QWDm0yHbiP1yPwvUoXNc/UrgehetR2D+R7Xw/NV7iPwrXo3A9Ct8/AAAAAAAAAAD6fmq8dJPQP/7UeOkmMcg/+FPjpZvE4D8AAAAAAAAAADMzMzMzM+M/uB6F61G45j8AAAAAAAAAAP7UeOkmMcg/KVyPwvUo3D9GtvP91HjRP9v5fmq8dNs/HVpkO99P1T+YbhKDwMrhPyPb+X5qvNQ/AAAAAAAA0D+cxCCwcmjBP2iR7Xw/Nc4/okW28/3U0D9mZmZmZmbeP2IQWDm0yNY/gZVDi2zn0z8pXI/C9SjUP+xRuB6F69E/mpmZmZmZ0T9eukkMAivfP7Kd76fGS9c/9ihcj8L10D9OYhBYObTgPwAAAAAAAAAA4XoUrkfh2j+F61G4HoXTP8P1KFyPwt0/zczMzMzM3D/D9Shcj8LFP2Dl0CLb+d4/okW28/3U2D9aZDvfT43HP9V46SYxCNQ/lkOLbOf70T+yne+nxkvHPzvfT42Xbto/YOXQItv53j/2KFyPwvXIP+F6FK5H4do/",
          "dtype": "f8",
          "shape": "4, 30"
         },
         "textfont": {
          "size": 8
         },
         "texttemplate": "%{text}",
         "type": "heatmap",
         "x": [
          "ALTAY v. TURKEY (No. 2)",
          "BELYAYEV AND OTHERS v. UKRAINE",
          "BIGUN v. UKRAINE",
          "CABUCAK v. GERMANY",
          "CAN v. TURKEY",
          "CRISTIAN CATALIN UNGUREANU v. ROMANIA",
          "DOKTOROV v. BULGARIA",
          "EGILL EINARSSON v. ICELAND (No. 2)",
          "H_INESS v. NORWAY (1)",
          "KOSAITE - CYPIENE AND OTHERS v. LITHUANIA",
          "LOZOVYYE v. RUSSIA",
          "M.T. v. UKRAINE",
          "MOSKALEV v. RUSSIA",
          "MURUZHEVA v. RUSSIA",
          "O.C.I. AND OTHERS v. ROMANIA",
          "OTGON v. THE REPUBLIC OF MOLDOVA",
          "PAKHTUSOV v. RUSSIA",
          "PANYUSHKINY v. RUSSIA",
          "RESIN v. RUSSIA",
          "S.N. v. RUSSIA",
          "S.V. v. ITALY",
          "SHVIDKIYE v. RUSSIA",
          "SIDOROVA v. RUSSIA",
          "SOLCAN v. ROMANIA",
          "STANA v. ROMANIA",
          "VISY v. SLOVAKIA",
          "YAKUSHEV v. UKRAINE",
          "YERMAKOVICH v. RUSSIA",
          "YEVGENIY ZAKHAROV v. RUSSIA",
          "_NODI v. HUNGARY"
         ],
         "xaxis": "x2",
         "y": [
          "gemma3:12b",
          "gemma3:1b",
          "gemma3:4b",
          "mistral:latest"
         ],
         "yaxis": "y2",
         "z": {
          "bdata": "JUmSJEmS4D8eHh4eHh7OP+xRuB6F69E/MEU+6wZT5D9+NSbSA5XjP9u2bdu2bds/GqRBGqRB2j/i4eHh4eHhP3Vkz0BUOuI/AAAAAAAA6D+rqqqqqqriP4wxxhhjjOE/ERERERER4T+ttdZaa63lP8prKK+hvOY/I591gyny2T/NzMzMzMzkPxdogRZogeY/sRM7sRM74T+SJEmSJEnCP6kJxlvZ5+A/bzBFPusG4z8cTJHPusHkPxZf8RVf8eU/QnsJ7SW01z+rqqqqqqraP1VVVVVVVeM/ZCELWchC1j8hC1nIQhbiPx4eHh4eHt4/CB988MEHvz8cx3Ecx3HMPwAAAAAAAPA/lLovj60Iqj/uaYTlnkbYP+HlFLycgtc/MQzDMAzD0D8AAAAAAAAAAAAAAAAAAAAAAAAAAAAA6D/mFLycgpfTP3fEHXFH3NE/mpmZmZmZyT8AAAAAAAAAABdddNFFF80/IjXBeCv7zD/blahdidrVPwAAAAAAAAAAKK+hvIbyyj8zMzMzMzPDPwAAAAAAAAAAAAAAAAAAAAAUO7ETO7HDP0YXXXTRRdc/sRM7sRM74T9kIQtZyEKmP27btm3btt0/AAAAAAAA0D+rqqqqqqraP6ldidqVqN0/4XoUrkfh2j8AAAAAAADAP73pTW9608s/AAAAAAAA1D+eEuQpQZ7iPwtZyEIWstA/VVVVVVVV1T8AAAAAAADgPzMzMzMzM9M/AAAAAAAA5D9iJ3ZiJ3biPyd2Yid2Ytc/UrgehetR2D+wjjbvU1ziPwgffPDBB98/AAAAAAAAAACRkJCQkJDQP3aDKfJZN8g/MQzDMAzD4D8AAAAAAAAAADMzMzMzM+M/ttZaa6215j8AAAAAAAAAAPJW9jmkJsg/KVyPwvUo3D900UUXXXTRP9u2bdu2bds/VVVVVVVV1T9yHMdxHMfhP3CXejJ+u9Q/AAAAAAAA0D8NJ3VfHlvBP+MZz3jGM84/eQ3lNZTX0D9mZmZmZmbePxdswRZswdY/JkOwjjbv0z9CEYpQhCLUP+SRRx555NE/1hmpmFud0T/f8i3f8i3fP0YXXXTRRdc/hTeaOr/20D/TUwsrPbXgPwAAAAAAAAAA4XoUrkfh2j+D8zE4H4PTP3Icx3Ecx90/zczMzMzM3D9XEJMriMnFPwAAAAAAAN8/87V6dgjc2D/h5RS8nILHP/q1h1xWDNQ/AAAAAAAA0j9GF1100UXHP5qmaZqmado/+N5777333j/FuY5RnOvIP+F6FK5H4do/",
          "dtype": "f8",
          "shape": "4, 30"
         },
         "zmax": 1,
         "zmin": 0
        }
       ],
       "layout": {
        "annotations": [
         {
          "font": {
           "size": 16
          },
          "showarrow": false,
          "text": "pipeline_results_20250725_111753",
          "x": 0.225,
          "xanchor": "center",
          "xref": "paper",
          "y": 1,
          "yanchor": "bottom",
          "yref": "paper"
         },
         {
          "font": {
           "size": 16
          },
          "showarrow": false,
          "text": "pipeline_results_20250808_145025",
          "x": 0.775,
          "xanchor": "center",
          "xref": "paper",
          "y": 1,
          "yanchor": "bottom",
          "yref": "paper"
         }
        ],
        "height": 400,
        "template": {
         "data": {
          "bar": [
           {
            "error_x": {
             "color": "#2a3f5f"
            },
            "error_y": {
             "color": "#2a3f5f"
            },
            "marker": {
             "line": {
              "color": "white",
              "width": 0.5
             },
             "pattern": {
              "fillmode": "overlay",
              "size": 10,
              "solidity": 0.2
             }
            },
            "type": "bar"
           }
          ],
          "barpolar": [
           {
            "marker": {
             "line": {
              "color": "white",
              "width": 0.5
             },
             "pattern": {
              "fillmode": "overlay",
              "size": 10,
              "solidity": 0.2
             }
            },
            "type": "barpolar"
           }
          ],
          "carpet": [
           {
            "aaxis": {
             "endlinecolor": "#2a3f5f",
             "gridcolor": "#C8D4E3",
             "linecolor": "#C8D4E3",
             "minorgridcolor": "#C8D4E3",
             "startlinecolor": "#2a3f5f"
            },
            "baxis": {
             "endlinecolor": "#2a3f5f",
             "gridcolor": "#C8D4E3",
             "linecolor": "#C8D4E3",
             "minorgridcolor": "#C8D4E3",
             "startlinecolor": "#2a3f5f"
            },
            "type": "carpet"
           }
          ],
          "choropleth": [
           {
            "colorbar": {
             "outlinewidth": 0,
             "ticks": ""
            },
            "type": "choropleth"
           }
          ],
          "contour": [
           {
            "colorbar": {
             "outlinewidth": 0,
             "ticks": ""
            },
            "colorscale": [
             [
              0,
              "#0d0887"
             ],
             [
              0.1111111111111111,
              "#46039f"
             ],
             [
              0.2222222222222222,
              "#7201a8"
             ],
             [
              0.3333333333333333,
              "#9c179e"
             ],
             [
              0.4444444444444444,
              "#bd3786"
             ],
             [
              0.5555555555555556,
              "#d8576b"
             ],
             [
              0.6666666666666666,
              "#ed7953"
             ],
             [
              0.7777777777777778,
              "#fb9f3a"
             ],
             [
              0.8888888888888888,
              "#fdca26"
             ],
             [
              1,
              "#f0f921"
             ]
            ],
            "type": "contour"
           }
          ],
          "contourcarpet": [
           {
            "colorbar": {
             "outlinewidth": 0,
             "ticks": ""
            },
            "type": "contourcarpet"
           }
          ],
          "heatmap": [
           {
            "colorbar": {
             "outlinewidth": 0,
             "ticks": ""
            },
            "colorscale": [
             [
              0,
              "#0d0887"
             ],
             [
              0.1111111111111111,
              "#46039f"
             ],
             [
              0.2222222222222222,
              "#7201a8"
             ],
             [
              0.3333333333333333,
              "#9c179e"
             ],
             [
              0.4444444444444444,
              "#bd3786"
             ],
             [
              0.5555555555555556,
              "#d8576b"
             ],
             [
              0.6666666666666666,
              "#ed7953"
             ],
             [
              0.7777777777777778,
              "#fb9f3a"
             ],
             [
              0.8888888888888888,
              "#fdca26"
             ],
             [
              1,
              "#f0f921"
             ]
            ],
            "type": "heatmap"
           }
          ],
          "histogram": [
           {
            "marker": {
             "pattern": {
              "fillmode": "overlay",
              "size": 10,
              "solidity": 0.2
             }
            },
            "type": "histogram"
           }
          ],
          "histogram2d": [
           {
            "colorbar": {
             "outlinewidth": 0,
             "ticks": ""
            },
            "colorscale": [
             [
              0,
              "#0d0887"
             ],
             [
              0.1111111111111111,
              "#46039f"
             ],
             [
              0.2222222222222222,
              "#7201a8"
             ],
             [
              0.3333333333333333,
              "#9c179e"
             ],
             [
              0.4444444444444444,
              "#bd3786"
             ],
             [
              0.5555555555555556,
              "#d8576b"
             ],
             [
              0.6666666666666666,
              "#ed7953"
             ],
             [
              0.7777777777777778,
              "#fb9f3a"
             ],
             [
              0.8888888888888888,
              "#fdca26"
             ],
             [
              1,
              "#f0f921"
             ]
            ],
            "type": "histogram2d"
           }
          ],
          "histogram2dcontour": [
           {
            "colorbar": {
             "outlinewidth": 0,
             "ticks": ""
            },
            "colorscale": [
             [
              0,
              "#0d0887"
             ],
             [
              0.1111111111111111,
              "#46039f"
             ],
             [
              0.2222222222222222,
              "#7201a8"
             ],
             [
              0.3333333333333333,
              "#9c179e"
             ],
             [
              0.4444444444444444,
              "#bd3786"
             ],
             [
              0.5555555555555556,
              "#d8576b"
             ],
             [
              0.6666666666666666,
              "#ed7953"
             ],
             [
              0.7777777777777778,
              "#fb9f3a"
             ],
             [
              0.8888888888888888,
              "#fdca26"
             ],
             [
              1,
              "#f0f921"
             ]
            ],
            "type": "histogram2dcontour"
           }
          ],
          "mesh3d": [
           {
            "colorbar": {
             "outlinewidth": 0,
             "ticks": ""
            },
            "type": "mesh3d"
           }
          ],
          "parcoords": [
           {
            "line": {
             "colorbar": {
              "outlinewidth": 0,
              "ticks": ""
             }
            },
            "type": "parcoords"
           }
          ],
          "pie": [
           {
            "automargin": true,
            "type": "pie"
           }
          ],
          "scatter": [
           {
            "fillpattern": {
             "fillmode": "overlay",
             "size": 10,
             "solidity": 0.2
            },
            "type": "scatter"
           }
          ],
          "scatter3d": [
           {
            "line": {
             "colorbar": {
              "outlinewidth": 0,
              "ticks": ""
             }
            },
            "marker": {
             "colorbar": {
              "outlinewidth": 0,
              "ticks": ""
             }
            },
            "type": "scatter3d"
           }
          ],
          "scattercarpet": [
           {
            "marker": {
             "colorbar": {
              "outlinewidth": 0,
              "ticks": ""
             }
            },
            "type": "scattercarpet"
           }
          ],
          "scattergeo": [
           {
            "marker": {
             "colorbar": {
              "outlinewidth": 0,
              "ticks": ""
             }
            },
            "type": "scattergeo"
           }
          ],
          "scattergl": [
           {
            "marker": {
             "colorbar": {
              "outlinewidth": 0,
              "ticks": ""
             }
            },
            "type": "scattergl"
           }
          ],
          "scattermap": [
           {
            "marker": {
             "colorbar": {
              "outlinewidth": 0,
              "ticks": ""
             }
            },
            "type": "scattermap"
           }
          ],
          "scattermapbox": [
           {
            "marker": {
             "colorbar": {
              "outlinewidth": 0,
              "ticks": ""
             }
            },
            "type": "scattermapbox"
           }
          ],
          "scatterpolar": [
           {
            "marker": {
             "colorbar": {
              "outlinewidth": 0,
              "ticks": ""
             }
            },
            "type": "scatterpolar"
           }
          ],
          "scatterpolargl": [
           {
            "marker": {
             "colorbar": {
              "outlinewidth": 0,
              "ticks": ""
             }
            },
            "type": "scatterpolargl"
           }
          ],
          "scatterternary": [
           {
            "marker": {
             "colorbar": {
              "outlinewidth": 0,
              "ticks": ""
             }
            },
            "type": "scatterternary"
           }
          ],
          "surface": [
           {
            "colorbar": {
             "outlinewidth": 0,
             "ticks": ""
            },
            "colorscale": [
             [
              0,
              "#0d0887"
             ],
             [
              0.1111111111111111,
              "#46039f"
             ],
             [
              0.2222222222222222,
              "#7201a8"
             ],
             [
              0.3333333333333333,
              "#9c179e"
             ],
             [
              0.4444444444444444,
              "#bd3786"
             ],
             [
              0.5555555555555556,
              "#d8576b"
             ],
             [
              0.6666666666666666,
              "#ed7953"
             ],
             [
              0.7777777777777778,
              "#fb9f3a"
             ],
             [
              0.8888888888888888,
              "#fdca26"
             ],
             [
              1,
              "#f0f921"
             ]
            ],
            "type": "surface"
           }
          ],
          "table": [
           {
            "cells": {
             "fill": {
              "color": "#EBF0F8"
             },
             "line": {
              "color": "white"
             }
            },
            "header": {
             "fill": {
              "color": "#C8D4E3"
             },
             "line": {
              "color": "white"
             }
            },
            "type": "table"
           }
          ]
         },
         "layout": {
          "annotationdefaults": {
           "arrowcolor": "#2a3f5f",
           "arrowhead": 0,
           "arrowwidth": 1
          },
          "autotypenumbers": "strict",
          "coloraxis": {
           "colorbar": {
            "outlinewidth": 0,
            "ticks": ""
           }
          },
          "colorscale": {
           "diverging": [
            [
             0,
             "#8e0152"
            ],
            [
             0.1,
             "#c51b7d"
            ],
            [
             0.2,
             "#de77ae"
            ],
            [
             0.3,
             "#f1b6da"
            ],
            [
             0.4,
             "#fde0ef"
            ],
            [
             0.5,
             "#f7f7f7"
            ],
            [
             0.6,
             "#e6f5d0"
            ],
            [
             0.7,
             "#b8e186"
            ],
            [
             0.8,
             "#7fbc41"
            ],
            [
             0.9,
             "#4d9221"
            ],
            [
             1,
             "#276419"
            ]
           ],
           "sequential": [
            [
             0,
             "#0d0887"
            ],
            [
             0.1111111111111111,
             "#46039f"
            ],
            [
             0.2222222222222222,
             "#7201a8"
            ],
            [
             0.3333333333333333,
             "#9c179e"
            ],
            [
             0.4444444444444444,
             "#bd3786"
            ],
            [
             0.5555555555555556,
             "#d8576b"
            ],
            [
             0.6666666666666666,
             "#ed7953"
            ],
            [
             0.7777777777777778,
             "#fb9f3a"
            ],
            [
             0.8888888888888888,
             "#fdca26"
            ],
            [
             1,
             "#f0f921"
            ]
           ],
           "sequentialminus": [
            [
             0,
             "#0d0887"
            ],
            [
             0.1111111111111111,
             "#46039f"
            ],
            [
             0.2222222222222222,
             "#7201a8"
            ],
            [
             0.3333333333333333,
             "#9c179e"
            ],
            [
             0.4444444444444444,
             "#bd3786"
            ],
            [
             0.5555555555555556,
             "#d8576b"
            ],
            [
             0.6666666666666666,
             "#ed7953"
            ],
            [
             0.7777777777777778,
             "#fb9f3a"
            ],
            [
             0.8888888888888888,
             "#fdca26"
            ],
            [
             1,
             "#f0f921"
            ]
           ]
          },
          "colorway": [
           "#636efa",
           "#EF553B",
           "#00cc96",
           "#ab63fa",
           "#FFA15A",
           "#19d3f3",
           "#FF6692",
           "#B6E880",
           "#FF97FF",
           "#FECB52"
          ],
          "font": {
           "color": "#2a3f5f"
          },
          "geo": {
           "bgcolor": "white",
           "lakecolor": "white",
           "landcolor": "white",
           "showlakes": true,
           "showland": true,
           "subunitcolor": "#C8D4E3"
          },
          "hoverlabel": {
           "align": "left"
          },
          "hovermode": "closest",
          "mapbox": {
           "style": "light"
          },
          "paper_bgcolor": "white",
          "plot_bgcolor": "white",
          "polar": {
           "angularaxis": {
            "gridcolor": "#EBF0F8",
            "linecolor": "#EBF0F8",
            "ticks": ""
           },
           "bgcolor": "white",
           "radialaxis": {
            "gridcolor": "#EBF0F8",
            "linecolor": "#EBF0F8",
            "ticks": ""
           }
          },
          "scene": {
           "xaxis": {
            "backgroundcolor": "white",
            "gridcolor": "#DFE8F3",
            "gridwidth": 2,
            "linecolor": "#EBF0F8",
            "showbackground": true,
            "ticks": "",
            "zerolinecolor": "#EBF0F8"
           },
           "yaxis": {
            "backgroundcolor": "white",
            "gridcolor": "#DFE8F3",
            "gridwidth": 2,
            "linecolor": "#EBF0F8",
            "showbackground": true,
            "ticks": "",
            "zerolinecolor": "#EBF0F8"
           },
           "zaxis": {
            "backgroundcolor": "white",
            "gridcolor": "#DFE8F3",
            "gridwidth": 2,
            "linecolor": "#EBF0F8",
            "showbackground": true,
            "ticks": "",
            "zerolinecolor": "#EBF0F8"
           }
          },
          "shapedefaults": {
           "line": {
            "color": "#2a3f5f"
           }
          },
          "ternary": {
           "aaxis": {
            "gridcolor": "#DFE8F3",
            "linecolor": "#A2B1C6",
            "ticks": ""
           },
           "baxis": {
            "gridcolor": "#DFE8F3",
            "linecolor": "#A2B1C6",
            "ticks": ""
           },
           "bgcolor": "white",
           "caxis": {
            "gridcolor": "#DFE8F3",
            "linecolor": "#A2B1C6",
            "ticks": ""
           }
          },
          "title": {
           "x": 0.05
          },
          "xaxis": {
           "automargin": true,
           "gridcolor": "#EBF0F8",
           "linecolor": "#EBF0F8",
           "ticks": "",
           "title": {
            "standoff": 15
           },
           "zerolinecolor": "#EBF0F8",
           "zerolinewidth": 2
          },
          "yaxis": {
           "automargin": true,
           "gridcolor": "#EBF0F8",
           "linecolor": "#EBF0F8",
           "ticks": "",
           "title": {
            "standoff": 15
           },
           "zerolinecolor": "#EBF0F8",
           "zerolinewidth": 2
          }
         }
        },
        "title": {
         "font": {
          "color": "#2E2E2E",
          "size": 18
         },
         "text": "Model Performance Comparison Across Runs - Precision",
         "x": 0.5
        },
        "width": 1200,
        "xaxis": {
         "anchor": "y",
         "domain": [
          0,
          0.45
         ]
        },
        "xaxis2": {
         "anchor": "y2",
         "domain": [
          0.55,
          1
         ]
        },
        "yaxis": {
         "anchor": "x",
         "domain": [
          0,
          1
         ]
        },
        "yaxis2": {
         "anchor": "x2",
         "domain": [
          0,
          1
         ],
         "matches": "y",
         "showticklabels": false
        }
       }
      }
     },
     "metadata": {},
     "output_type": "display_data"
    },
    {
     "data": {
      "application/vnd.plotly.v1+json": {
       "config": {
        "plotlyServerURL": "https://plot.ly"
       },
       "data": [
        {
         "colorbar": {
          "title": {
           "text": "Recall"
          }
         },
         "colorscale": [
          [
           0,
           "rgb(165,0,38)"
          ],
          [
           0.1,
           "rgb(215,48,39)"
          ],
          [
           0.2,
           "rgb(244,109,67)"
          ],
          [
           0.3,
           "rgb(253,174,97)"
          ],
          [
           0.4,
           "rgb(254,224,139)"
          ],
          [
           0.5,
           "rgb(255,255,191)"
          ],
          [
           0.6,
           "rgb(217,239,139)"
          ],
          [
           0.7,
           "rgb(166,217,106)"
          ],
          [
           0.8,
           "rgb(102,189,99)"
          ],
          [
           0.9,
           "rgb(26,152,80)"
          ],
          [
           1,
           "rgb(0,104,55)"
          ]
         ],
         "showscale": true,
         "text": {
          "bdata": "jZduEoPAyj/jpZvEILCyP7pJDAIrh7Y/mpmZmZmZmT8AAAAAAADgP/yp8dJNYtA/2/l+arx00z9GtvP91HjRPwAAAAAAAAAAAAAAAAAAAAD6fmq8dJPIPwAAAAAAAAAAkxgEVg4t4j/LoUW28/2kP/T91HjpJtE/rkfhehSu5z/D9Shcj8LVPxkEVg4tsr0/QmDl0CLb0T8AAAAAAAAAAHnpJjEIrIw/H4XrUbgexT9g5dAi2/niP7Kd76fGS8c/YOXQItv54j+LbOf7qfHCP8uhRbbz/eA/WmQ730+Nlz+gGi/dJAbRP8l2vp8aL70/KVyPwvUorD8IrBxaZDu/P4lBYOXQIqs/AAAAAAAAAACq8dJNYhDIPwIrhxbZzrc/AAAAAAAAAAAAAAAAAAAAAAAAAAAAAAAAeekmMQisjD/6fmq8dJO4P+xRuB6F67E/nMQgsHJowT/6fmq8dJOIPwAAAAAAAAAAAAAAAAAAAAB7FK5H4XqkP/yp8dJNYpA/i2zn+6nxsj8AAAAAAAAAAHnpJjEIrIw/ukkMAiuHtj/b+X5qvHSTP4GVQ4ts58s/i2zn+6nx0j9MN4lBYOWgP1pkO99Pjcc//Knx0k1ikD9YObTIdr6fP8uhRbbz/aQ/ukkMAiuHxj8AAAAAAAAAAAAAAAAAAAAAAAAAAAAAAAAAAAAAAADgPwAAAAAAAAAAZDvfT42X3j8pXI/C9SisPwAAAAAAAAAAAAAAAAAAAADwp8ZLN4nBP+F6FK5H4bo/dZMYBFYOzT8730+Nl26SP2ZmZmZmZsY/AAAAAAAAAABxPQrXo3DdPzeJQWDl0MI/ppvEILByyD8AAAAAAAAAAHnpJjEIrIw/g8DKoUW2wz+LbOf7qfGiP0a28/3UeNE/0SLb+X5qzD9KDAIrhxapP6JFtvP91Ng/AAAAAAAAAACq8dJNYhDIP0oMAiuHFrk/TDeJQWDloD9KDAIrhxapPwAAAAAAAAAAAAAAAAAAAAAAAAAAAADQPxkEVg4tsr0/ZDvfT42Xzj8730+Nl26SPwAAAAAAAAAAAAAAAAAAAAD6fmq8dJO4PzVeukkMAss/AAAAAAAA0D8AAAAAAAAAAAAAAAAAAAAApHA9Ctej0D8K16NwPQrHPwAAAAAAAAAAAAAAAAAAAAAAAAAAAAAAAAAAAAAAAAAAYOXQItv5vj/b+X5qvHSTP2iR7Xw/Nc4/0SLb+X5q3D8AAAAAAAAAALByaJHtfNc//Knx0k1ikD/8qfHSTWKQP/p+arx0k5g/",
          "dtype": "f8",
          "shape": "4, 30"
         },
         "textfont": {
          "size": 8
         },
         "texttemplate": "%{text}",
         "type": "heatmap",
         "x": [
          "ALTAY v. TURKEY (No. 2)",
          "BELYAYEV AND OTHERS v. UKRAINE",
          "BIGUN v. UKRAINE",
          "CABUCAK v. GERMANY",
          "CAN v. TURKEY",
          "CRISTIAN CATALIN UNGUREANU v. ROMANIA",
          "DOKTOROV v. BULGARIA",
          "EGILL EINARSSON v. ICELAND (No. 2)",
          "H_INESS v. NORWAY (1)",
          "KOSAITE - CYPIENE AND OTHERS v. LITHUANIA",
          "LOZOVYYE v. RUSSIA",
          "M.T. v. UKRAINE",
          "MOSKALEV v. RUSSIA",
          "MURUZHEVA v. RUSSIA",
          "O.C.I. AND OTHERS v. ROMANIA",
          "OTGON v. THE REPUBLIC OF MOLDOVA",
          "PAKHTUSOV v. RUSSIA",
          "PANYUSHKINY v. RUSSIA",
          "RESIN v. RUSSIA",
          "S.N. v. RUSSIA",
          "S.V. v. ITALY",
          "SHVIDKIYE v. RUSSIA",
          "SIDOROVA v. RUSSIA",
          "SOLCAN v. ROMANIA",
          "STANA v. ROMANIA",
          "VISY v. SLOVAKIA",
          "YAKUSHEV v. UKRAINE",
          "YERMAKOVICH v. RUSSIA",
          "YEVGENIY ZAKHAROV v. RUSSIA",
          "_NODI v. HUNGARY"
         ],
         "xaxis": "x",
         "y": [
          "gemma3:12b",
          "gemma3:1b",
          "gemma3:4b",
          "mistral:latest"
         ],
         "yaxis": "y",
         "z": {
          "bdata": "m6u5mqu5yj+7ErUrUbuyP0xnMZ3FdLY/4OnW/LBImT8AAAAAAADgPxj0BX1BX9A/OL3pTW960z900UUXXXTRPwAAAAAAAAAAAAAAAAAAAADEiBEjRozIPwAAAAAAAAAAL7rooosu4j8VFRUVFRWlP5Fp2G6WJ9E/rkfhehSu5z/D9Shcj8LVP3FH3BF3xL0/4uHh4eHh0T8AAAAAAAAAANC6wRT5rIs/lVEZlVEZxT9oL6G9hPbiP0YXXXTRRcc/aC+hvYT24j+CdbR5n+LCPz801ofG+uA/AAAAAAAAmD8AAAAAAADRPyMdNtJhI70/HMIhHMIhrD84H4PzMTi/PyivobyG8qo/AAAAAAAAAAAAAAAAAADIP/QFfUFf0Lc/AAAAAAAAAAAAAAAAAAAAAAAAAAAAAAAA0LrBFPmsiz/EiBEjRoy4P3AfwX0E97E/dNFFF110wT8YGBgYGBiIPwAAAAAAAAAAAAAAAAAAAAB7FK5H4XqkP/AH/AF/wI8/09LS0tLSsj8AAAAAAAAAANC6wRT5rIs/F2iBFmiBtj9oL6G9hPaSP+0b1r5h7cs/aC+hvYT20j872rxPccmgP+HlFLycgsc/AAAAAAAAkD8AAAAAAACgP9AUAk0h0KQ/F2iBFmiBxj8AAAAAAAAAAAAAAAAAAAAAAAAAAAAAAAAAAAAAAADgPwAAAAAAAAAA6k1vetOb3j/tG9a+Ye2rPwAAAAAAAAAAAAAAAAAAAACMGDFixIjBPyivobyG8ro/F1100UUXzT8SEhISEhKSP5YnkWnYbsY/AAAAAAAAAABxPQrXo3DdP7ekLWlL2sI/eHh4eHh4yD8AAAAAAAAAANC6wRT5rIs/FDuxEzuxwz9oL6G9hPaiP3TRRRdddNE/HMdxHMdxzD9YR5v3KS6pPzTWh8b60Ng/AAAAAAAAAAAAAAAAAADIP/oYnI/B+bg/EQ7hEA7hoD/6GJyPwfmoPwAAAAAAAAAAAAAAAAAAAAAAAAAAAADQP3FH3BF3xL0/6k1vetObzj+eEuQpQZ6SPwAAAAAAAAAAAAAAAAAAAADEiBEjRoy4PyivobyG8so/AAAAAAAA0D8AAAAAAAAAAAAAAAAAAAAApHA9Ctej0D8K16NwPQrHPwAAAAAAAAAAAAAAAAAAAAAAAAAAAAAAAAAAAAAAAAAAH+/xHu/xvj9oL6G9hPaSP0GeEuQpQc4/HMdxHMdx3D8AAAAAAAAAAOHlFLycgtc/AAAAAAAAkD8AAAAAAACQP/oYnI/B+Zg/",
          "dtype": "f8",
          "shape": "4, 30"
         },
         "zmax": 1,
         "zmin": 0
        },
        {
         "colorscale": [
          [
           0,
           "rgb(165,0,38)"
          ],
          [
           0.1,
           "rgb(215,48,39)"
          ],
          [
           0.2,
           "rgb(244,109,67)"
          ],
          [
           0.3,
           "rgb(253,174,97)"
          ],
          [
           0.4,
           "rgb(254,224,139)"
          ],
          [
           0.5,
           "rgb(255,255,191)"
          ],
          [
           0.6,
           "rgb(217,239,139)"
          ],
          [
           0.7,
           "rgb(166,217,106)"
          ],
          [
           0.8,
           "rgb(102,189,99)"
          ],
          [
           0.9,
           "rgb(26,152,80)"
          ],
          [
           1,
           "rgb(0,104,55)"
          ]
         ],
         "showscale": false,
         "text": {
          "bdata": "0SLb+X5q1D+Nl24Sg8DSP7ByaJHtfM8/j8L1KFyP0j9QjZduEoPkP/p+arx0k9g/EoPAyqFF1j8UrkfhehTWPw4tsp3vp9Y/exSuR+F6lD/6fmq8dJPYP99PjZduEtM/sp3vp8ZL1z8EVg4tsp3PP5huEoPAytE/MzMzMzMz4z+kcD0K16PgP1g5tMh2vt8/LbKd76fG0z8730+Nl26SP/7UeOkmMdg/YOXQItv5zj/RItv5fmrcP4GVQ4ts59s/rkfhehSu1z+wcmiR7XzPP4ts5/up8eI/WDm0yHa+rz+WQ4ts5/vJP83MzMzMzNQ/ukkMAiuHpj/jpZvEILDCP+xRuB6F66E/2/l+arx0kz9qvHSTGATGP42XbhKDwMo/ZDvfT42Xzj8AAAAAAAAAAAAAAAAAAAAAexSuR+F6lD89CtejcD3KPzVeukkMAss/JzEIrBxaxD8AAAAAAAAAADm0yHa+n6o/uB6F61G4zj/sUbgehevRPwAAAAAAAAAAaJHtfD81vj8730+Nl26SPwAAAAAAAAAAAAAAAAAAAACLbOf7qfGiP4/C9Shcj8I/+n5qvHST0D/8qfHSTWKQP/YoXI/C9dA//Knx0k1ikD8rhxbZzvfDP4PAyqFFtsM/xSCwcmiRzT9KDAIrhxapP2ZmZmZmZsY/WDm0yHa+rz8AAAAAAADgP+xRuB6F67E/LbKd76fGyz+oxks3iUHAP6rx0k1iEKg/nMQgsHJooT/n+6nx0k3aPx1aZDvfT9U/2c73U+Ol2z+R7Xw/NV7KPx+F61G4HsU/AAAAAAAAAAApXI/C9SjcP4GVQ4ts57s/I9v5fmq8xD8AAAAAAAAAALTIdr6fGs8/YOXQItv5zj8AAAAAAAAAALKd76fGS8c/PzVeukkM2j+e76fGSzfJP7ByaJHtfNc//Knx0k1ikD8rhxbZzvfTP1YOLbKd78c/H4XrUbge1T/2KFyPwvXIP1pkO99Pjdc/mG4Sg8DK0T81XrpJDALjPwIrhxbZztc/O99PjZdu2j99PzVeukngPz0K16NwPco/lkOLbOf7yT956SYxCKzgP4ts5/up8do/AAAAAAAA4D9oke18PzXWPwAAAAAAAAAA4XoUrkfh2j8AAAAAAADgP8/3U+Olm+A/9ihcj8L10D/6fmq8dJOoPzeJQWDl0No/UI2XbhKD4D/HSzeJQWDFPxKDwMqhRd4/HVpkO99P1T/HSzeJQWDdP8uhRbbz/eA/wcqhRbbzzT9qvHSTGATWP23n+6nx0tU/",
          "dtype": "f8",
          "shape": "4, 30"
         },
         "textfont": {
          "size": 8
         },
         "texttemplate": "%{text}",
         "type": "heatmap",
         "x": [
          "ALTAY v. TURKEY (No. 2)",
          "BELYAYEV AND OTHERS v. UKRAINE",
          "BIGUN v. UKRAINE",
          "CABUCAK v. GERMANY",
          "CAN v. TURKEY",
          "CRISTIAN CATALIN UNGUREANU v. ROMANIA",
          "DOKTOROV v. BULGARIA",
          "EGILL EINARSSON v. ICELAND (No. 2)",
          "H_INESS v. NORWAY (1)",
          "KOSAITE - CYPIENE AND OTHERS v. LITHUANIA",
          "LOZOVYYE v. RUSSIA",
          "M.T. v. UKRAINE",
          "MOSKALEV v. RUSSIA",
          "MURUZHEVA v. RUSSIA",
          "O.C.I. AND OTHERS v. ROMANIA",
          "OTGON v. THE REPUBLIC OF MOLDOVA",
          "PAKHTUSOV v. RUSSIA",
          "PANYUSHKINY v. RUSSIA",
          "RESIN v. RUSSIA",
          "S.N. v. RUSSIA",
          "S.V. v. ITALY",
          "SHVIDKIYE v. RUSSIA",
          "SIDOROVA v. RUSSIA",
          "SOLCAN v. ROMANIA",
          "STANA v. ROMANIA",
          "VISY v. SLOVAKIA",
          "YAKUSHEV v. UKRAINE",
          "YERMAKOVICH v. RUSSIA",
          "YEVGENIY ZAKHAROV v. RUSSIA",
          "_NODI v. HUNGARY"
         ],
         "xaxis": "x2",
         "y": [
          "gemma3:12b",
          "gemma3:1b",
          "gemma3:4b",
          "mistral:latest"
         ],
         "yaxis": "y2",
         "z": {
          "bdata": "VEZlVEZl1D+7ErUrUbvSPwT3EdxHcM8/wdOt+WGR0j8AAAAAAIDkPyTuiDvijtg/ZCELWchC1j8c1r5h7RvWP6vVarVardY/HEyRz7rBlD/EiBEjRozYP2cxncV0FtM/RhdddNFF1z+gn5+fn5/PP1KBL65+0NE/MzMzMzMz4z+kcD0K16PgP/AH/AF/wN8/xMPDw8PD0z83xIB0LGWSP3aDKfJZN9g/H+/xHu/xzj8cx3Ecx3HcP+0b1r5h7ds/QnsJ7SW01z8uGYJ1tHnPP7ycgpdT8OI/AAAAAAAAsD8AAAAAAADKP9AUAk0h0NQ/F2iBFmiBpj+7ErUrUbvCP3AfwX0E96E/aC+hvYT2kj8AAAAAAADGP7OmrClryso/6k1vetObzj8AAAAAAAAAAAAAAAAAAAAAHEyRz7rBlD/SpEmTJk3KPyivobyG8so/XXTRRRddxD8AAAAAAAAAABq2m+VJZKo/uB6F61G4zj/sUbgehevRPwAAAAAAAAAAHh4eHh4evj83xIB0LGWSPwAAAAAAAAAAAAAAAAAAAABoL6G9hPaiP54S5ClBnsI/ewntJbSX0D872rxPccmQPz801ofG+tA/AAAAAAAAkD8AAAAAAADEP8aTWzy5xcM/ntiJndiJzT/6GJyPwfmoP0xnMZ3FdMY/WKQMPN2arz8AAAAAAADgP3fEHXFH3LE/velNb3rTyz9KkKcEeUrAPwwGg8FgMKg/whT5rBtMoT/SpEmTJk3aP1VVVVVVVdU/o4suuuii2z9aWlpaWlrKPxX44uoHHcU/AAAAAAAAAAApXI/C9SjcP/KGvCFvyLs/tbS0tLS0xD8AAAAAAAAAACryWTeYIs8/H+/xHu/xzj8AAAAAAAAAAEYXXXTRRcc/L6G9hPYS2j9YR5v3KS7JP+HlFLycgtc/AAAAAAAAkD8AAAAAAADUP++X9X5Z78c/lVEZlVEZ1T/6GJyPwfnIP0N5DeU1lNc/chzHcRzH0T8AAAAAAADjP/QFfUFf0Nc/pze96U1v2j9KkKcEeUrgP41Go9FoNMo/I591gynyyT+FChUqVKjgPyivobyG8to/AAAAAAAA4D82NjY2NjbWPwAAAAAAAAAA4XoUrkfh2j8AAAAAAADgPyjsCXvCnuA/8fDw8PDw0D9KsKvw5YaoP/msG0yRz9o/cQiHcAiH4D9VVVVVVVXFP0GeEuQpQd4/VVVVVVVV1T/nfYpLhmDdPz801ofG+uA/AAAAAAAAzj8AAAAAAADWP9uVqF2J2tU/",
          "dtype": "f8",
          "shape": "4, 30"
         },
         "zmax": 1,
         "zmin": 0
        }
       ],
       "layout": {
        "annotations": [
         {
          "font": {
           "size": 16
          },
          "showarrow": false,
          "text": "pipeline_results_20250725_111753",
          "x": 0.225,
          "xanchor": "center",
          "xref": "paper",
          "y": 1,
          "yanchor": "bottom",
          "yref": "paper"
         },
         {
          "font": {
           "size": 16
          },
          "showarrow": false,
          "text": "pipeline_results_20250808_145025",
          "x": 0.775,
          "xanchor": "center",
          "xref": "paper",
          "y": 1,
          "yanchor": "bottom",
          "yref": "paper"
         }
        ],
        "height": 400,
        "template": {
         "data": {
          "bar": [
           {
            "error_x": {
             "color": "#2a3f5f"
            },
            "error_y": {
             "color": "#2a3f5f"
            },
            "marker": {
             "line": {
              "color": "white",
              "width": 0.5
             },
             "pattern": {
              "fillmode": "overlay",
              "size": 10,
              "solidity": 0.2
             }
            },
            "type": "bar"
           }
          ],
          "barpolar": [
           {
            "marker": {
             "line": {
              "color": "white",
              "width": 0.5
             },
             "pattern": {
              "fillmode": "overlay",
              "size": 10,
              "solidity": 0.2
             }
            },
            "type": "barpolar"
           }
          ],
          "carpet": [
           {
            "aaxis": {
             "endlinecolor": "#2a3f5f",
             "gridcolor": "#C8D4E3",
             "linecolor": "#C8D4E3",
             "minorgridcolor": "#C8D4E3",
             "startlinecolor": "#2a3f5f"
            },
            "baxis": {
             "endlinecolor": "#2a3f5f",
             "gridcolor": "#C8D4E3",
             "linecolor": "#C8D4E3",
             "minorgridcolor": "#C8D4E3",
             "startlinecolor": "#2a3f5f"
            },
            "type": "carpet"
           }
          ],
          "choropleth": [
           {
            "colorbar": {
             "outlinewidth": 0,
             "ticks": ""
            },
            "type": "choropleth"
           }
          ],
          "contour": [
           {
            "colorbar": {
             "outlinewidth": 0,
             "ticks": ""
            },
            "colorscale": [
             [
              0,
              "#0d0887"
             ],
             [
              0.1111111111111111,
              "#46039f"
             ],
             [
              0.2222222222222222,
              "#7201a8"
             ],
             [
              0.3333333333333333,
              "#9c179e"
             ],
             [
              0.4444444444444444,
              "#bd3786"
             ],
             [
              0.5555555555555556,
              "#d8576b"
             ],
             [
              0.6666666666666666,
              "#ed7953"
             ],
             [
              0.7777777777777778,
              "#fb9f3a"
             ],
             [
              0.8888888888888888,
              "#fdca26"
             ],
             [
              1,
              "#f0f921"
             ]
            ],
            "type": "contour"
           }
          ],
          "contourcarpet": [
           {
            "colorbar": {
             "outlinewidth": 0,
             "ticks": ""
            },
            "type": "contourcarpet"
           }
          ],
          "heatmap": [
           {
            "colorbar": {
             "outlinewidth": 0,
             "ticks": ""
            },
            "colorscale": [
             [
              0,
              "#0d0887"
             ],
             [
              0.1111111111111111,
              "#46039f"
             ],
             [
              0.2222222222222222,
              "#7201a8"
             ],
             [
              0.3333333333333333,
              "#9c179e"
             ],
             [
              0.4444444444444444,
              "#bd3786"
             ],
             [
              0.5555555555555556,
              "#d8576b"
             ],
             [
              0.6666666666666666,
              "#ed7953"
             ],
             [
              0.7777777777777778,
              "#fb9f3a"
             ],
             [
              0.8888888888888888,
              "#fdca26"
             ],
             [
              1,
              "#f0f921"
             ]
            ],
            "type": "heatmap"
           }
          ],
          "histogram": [
           {
            "marker": {
             "pattern": {
              "fillmode": "overlay",
              "size": 10,
              "solidity": 0.2
             }
            },
            "type": "histogram"
           }
          ],
          "histogram2d": [
           {
            "colorbar": {
             "outlinewidth": 0,
             "ticks": ""
            },
            "colorscale": [
             [
              0,
              "#0d0887"
             ],
             [
              0.1111111111111111,
              "#46039f"
             ],
             [
              0.2222222222222222,
              "#7201a8"
             ],
             [
              0.3333333333333333,
              "#9c179e"
             ],
             [
              0.4444444444444444,
              "#bd3786"
             ],
             [
              0.5555555555555556,
              "#d8576b"
             ],
             [
              0.6666666666666666,
              "#ed7953"
             ],
             [
              0.7777777777777778,
              "#fb9f3a"
             ],
             [
              0.8888888888888888,
              "#fdca26"
             ],
             [
              1,
              "#f0f921"
             ]
            ],
            "type": "histogram2d"
           }
          ],
          "histogram2dcontour": [
           {
            "colorbar": {
             "outlinewidth": 0,
             "ticks": ""
            },
            "colorscale": [
             [
              0,
              "#0d0887"
             ],
             [
              0.1111111111111111,
              "#46039f"
             ],
             [
              0.2222222222222222,
              "#7201a8"
             ],
             [
              0.3333333333333333,
              "#9c179e"
             ],
             [
              0.4444444444444444,
              "#bd3786"
             ],
             [
              0.5555555555555556,
              "#d8576b"
             ],
             [
              0.6666666666666666,
              "#ed7953"
             ],
             [
              0.7777777777777778,
              "#fb9f3a"
             ],
             [
              0.8888888888888888,
              "#fdca26"
             ],
             [
              1,
              "#f0f921"
             ]
            ],
            "type": "histogram2dcontour"
           }
          ],
          "mesh3d": [
           {
            "colorbar": {
             "outlinewidth": 0,
             "ticks": ""
            },
            "type": "mesh3d"
           }
          ],
          "parcoords": [
           {
            "line": {
             "colorbar": {
              "outlinewidth": 0,
              "ticks": ""
             }
            },
            "type": "parcoords"
           }
          ],
          "pie": [
           {
            "automargin": true,
            "type": "pie"
           }
          ],
          "scatter": [
           {
            "fillpattern": {
             "fillmode": "overlay",
             "size": 10,
             "solidity": 0.2
            },
            "type": "scatter"
           }
          ],
          "scatter3d": [
           {
            "line": {
             "colorbar": {
              "outlinewidth": 0,
              "ticks": ""
             }
            },
            "marker": {
             "colorbar": {
              "outlinewidth": 0,
              "ticks": ""
             }
            },
            "type": "scatter3d"
           }
          ],
          "scattercarpet": [
           {
            "marker": {
             "colorbar": {
              "outlinewidth": 0,
              "ticks": ""
             }
            },
            "type": "scattercarpet"
           }
          ],
          "scattergeo": [
           {
            "marker": {
             "colorbar": {
              "outlinewidth": 0,
              "ticks": ""
             }
            },
            "type": "scattergeo"
           }
          ],
          "scattergl": [
           {
            "marker": {
             "colorbar": {
              "outlinewidth": 0,
              "ticks": ""
             }
            },
            "type": "scattergl"
           }
          ],
          "scattermap": [
           {
            "marker": {
             "colorbar": {
              "outlinewidth": 0,
              "ticks": ""
             }
            },
            "type": "scattermap"
           }
          ],
          "scattermapbox": [
           {
            "marker": {
             "colorbar": {
              "outlinewidth": 0,
              "ticks": ""
             }
            },
            "type": "scattermapbox"
           }
          ],
          "scatterpolar": [
           {
            "marker": {
             "colorbar": {
              "outlinewidth": 0,
              "ticks": ""
             }
            },
            "type": "scatterpolar"
           }
          ],
          "scatterpolargl": [
           {
            "marker": {
             "colorbar": {
              "outlinewidth": 0,
              "ticks": ""
             }
            },
            "type": "scatterpolargl"
           }
          ],
          "scatterternary": [
           {
            "marker": {
             "colorbar": {
              "outlinewidth": 0,
              "ticks": ""
             }
            },
            "type": "scatterternary"
           }
          ],
          "surface": [
           {
            "colorbar": {
             "outlinewidth": 0,
             "ticks": ""
            },
            "colorscale": [
             [
              0,
              "#0d0887"
             ],
             [
              0.1111111111111111,
              "#46039f"
             ],
             [
              0.2222222222222222,
              "#7201a8"
             ],
             [
              0.3333333333333333,
              "#9c179e"
             ],
             [
              0.4444444444444444,
              "#bd3786"
             ],
             [
              0.5555555555555556,
              "#d8576b"
             ],
             [
              0.6666666666666666,
              "#ed7953"
             ],
             [
              0.7777777777777778,
              "#fb9f3a"
             ],
             [
              0.8888888888888888,
              "#fdca26"
             ],
             [
              1,
              "#f0f921"
             ]
            ],
            "type": "surface"
           }
          ],
          "table": [
           {
            "cells": {
             "fill": {
              "color": "#EBF0F8"
             },
             "line": {
              "color": "white"
             }
            },
            "header": {
             "fill": {
              "color": "#C8D4E3"
             },
             "line": {
              "color": "white"
             }
            },
            "type": "table"
           }
          ]
         },
         "layout": {
          "annotationdefaults": {
           "arrowcolor": "#2a3f5f",
           "arrowhead": 0,
           "arrowwidth": 1
          },
          "autotypenumbers": "strict",
          "coloraxis": {
           "colorbar": {
            "outlinewidth": 0,
            "ticks": ""
           }
          },
          "colorscale": {
           "diverging": [
            [
             0,
             "#8e0152"
            ],
            [
             0.1,
             "#c51b7d"
            ],
            [
             0.2,
             "#de77ae"
            ],
            [
             0.3,
             "#f1b6da"
            ],
            [
             0.4,
             "#fde0ef"
            ],
            [
             0.5,
             "#f7f7f7"
            ],
            [
             0.6,
             "#e6f5d0"
            ],
            [
             0.7,
             "#b8e186"
            ],
            [
             0.8,
             "#7fbc41"
            ],
            [
             0.9,
             "#4d9221"
            ],
            [
             1,
             "#276419"
            ]
           ],
           "sequential": [
            [
             0,
             "#0d0887"
            ],
            [
             0.1111111111111111,
             "#46039f"
            ],
            [
             0.2222222222222222,
             "#7201a8"
            ],
            [
             0.3333333333333333,
             "#9c179e"
            ],
            [
             0.4444444444444444,
             "#bd3786"
            ],
            [
             0.5555555555555556,
             "#d8576b"
            ],
            [
             0.6666666666666666,
             "#ed7953"
            ],
            [
             0.7777777777777778,
             "#fb9f3a"
            ],
            [
             0.8888888888888888,
             "#fdca26"
            ],
            [
             1,
             "#f0f921"
            ]
           ],
           "sequentialminus": [
            [
             0,
             "#0d0887"
            ],
            [
             0.1111111111111111,
             "#46039f"
            ],
            [
             0.2222222222222222,
             "#7201a8"
            ],
            [
             0.3333333333333333,
             "#9c179e"
            ],
            [
             0.4444444444444444,
             "#bd3786"
            ],
            [
             0.5555555555555556,
             "#d8576b"
            ],
            [
             0.6666666666666666,
             "#ed7953"
            ],
            [
             0.7777777777777778,
             "#fb9f3a"
            ],
            [
             0.8888888888888888,
             "#fdca26"
            ],
            [
             1,
             "#f0f921"
            ]
           ]
          },
          "colorway": [
           "#636efa",
           "#EF553B",
           "#00cc96",
           "#ab63fa",
           "#FFA15A",
           "#19d3f3",
           "#FF6692",
           "#B6E880",
           "#FF97FF",
           "#FECB52"
          ],
          "font": {
           "color": "#2a3f5f"
          },
          "geo": {
           "bgcolor": "white",
           "lakecolor": "white",
           "landcolor": "white",
           "showlakes": true,
           "showland": true,
           "subunitcolor": "#C8D4E3"
          },
          "hoverlabel": {
           "align": "left"
          },
          "hovermode": "closest",
          "mapbox": {
           "style": "light"
          },
          "paper_bgcolor": "white",
          "plot_bgcolor": "white",
          "polar": {
           "angularaxis": {
            "gridcolor": "#EBF0F8",
            "linecolor": "#EBF0F8",
            "ticks": ""
           },
           "bgcolor": "white",
           "radialaxis": {
            "gridcolor": "#EBF0F8",
            "linecolor": "#EBF0F8",
            "ticks": ""
           }
          },
          "scene": {
           "xaxis": {
            "backgroundcolor": "white",
            "gridcolor": "#DFE8F3",
            "gridwidth": 2,
            "linecolor": "#EBF0F8",
            "showbackground": true,
            "ticks": "",
            "zerolinecolor": "#EBF0F8"
           },
           "yaxis": {
            "backgroundcolor": "white",
            "gridcolor": "#DFE8F3",
            "gridwidth": 2,
            "linecolor": "#EBF0F8",
            "showbackground": true,
            "ticks": "",
            "zerolinecolor": "#EBF0F8"
           },
           "zaxis": {
            "backgroundcolor": "white",
            "gridcolor": "#DFE8F3",
            "gridwidth": 2,
            "linecolor": "#EBF0F8",
            "showbackground": true,
            "ticks": "",
            "zerolinecolor": "#EBF0F8"
           }
          },
          "shapedefaults": {
           "line": {
            "color": "#2a3f5f"
           }
          },
          "ternary": {
           "aaxis": {
            "gridcolor": "#DFE8F3",
            "linecolor": "#A2B1C6",
            "ticks": ""
           },
           "baxis": {
            "gridcolor": "#DFE8F3",
            "linecolor": "#A2B1C6",
            "ticks": ""
           },
           "bgcolor": "white",
           "caxis": {
            "gridcolor": "#DFE8F3",
            "linecolor": "#A2B1C6",
            "ticks": ""
           }
          },
          "title": {
           "x": 0.05
          },
          "xaxis": {
           "automargin": true,
           "gridcolor": "#EBF0F8",
           "linecolor": "#EBF0F8",
           "ticks": "",
           "title": {
            "standoff": 15
           },
           "zerolinecolor": "#EBF0F8",
           "zerolinewidth": 2
          },
          "yaxis": {
           "automargin": true,
           "gridcolor": "#EBF0F8",
           "linecolor": "#EBF0F8",
           "ticks": "",
           "title": {
            "standoff": 15
           },
           "zerolinecolor": "#EBF0F8",
           "zerolinewidth": 2
          }
         }
        },
        "title": {
         "font": {
          "color": "#2E2E2E",
          "size": 18
         },
         "text": "Model Performance Comparison Across Runs - Recall",
         "x": 0.5
        },
        "width": 1200,
        "xaxis": {
         "anchor": "y",
         "domain": [
          0,
          0.45
         ]
        },
        "xaxis2": {
         "anchor": "y2",
         "domain": [
          0.55,
          1
         ]
        },
        "yaxis": {
         "anchor": "x",
         "domain": [
          0,
          1
         ]
        },
        "yaxis2": {
         "anchor": "x2",
         "domain": [
          0,
          1
         ],
         "matches": "y",
         "showticklabels": false
        }
       }
      }
     },
     "metadata": {},
     "output_type": "display_data"
    },
    {
     "name": "stdout",
     "output_type": "stream",
     "text": [
      "\n",
      "================================================================================\n",
      "📊 PERFORMANCE SUMMARY\n",
      "================================================================================\n",
      "\n",
      "🏆 BEST MODEL PER DOCUMENT (by F1-Score):\n"
     ]
    },
    {
     "data": {
      "application/vnd.microsoft.datawrangler.viewer.v0+json": {
       "columns": [
        {
         "name": "index",
         "rawType": "int64",
         "type": "integer"
        },
        {
         "name": "document",
         "rawType": "object",
         "type": "string"
        },
        {
         "name": "model",
         "rawType": "object",
         "type": "string"
        },
        {
         "name": "f1_score",
         "rawType": "float64",
         "type": "float"
        },
        {
         "name": "precision",
         "rawType": "float64",
         "type": "float"
        },
        {
         "name": "recall",
         "rawType": "float64",
         "type": "float"
        }
       ],
       "ref": "9cb42541-335b-4b19-8bad-8aab25c3cd5a",
       "rows": [
        [
         "215",
         "CAN v. TURKEY",
         "gemma3:12b",
         "0.6259541984732824",
         "0.6119402985074627",
         "0.640625"
        ],
        [
         "191",
         "YAKUSHEV v. UKRAINE",
         "gemma3:12b",
         "0.5979381443298969",
         "0.6041666666666666",
         "0.5918367346938775"
        ],
        [
         "139",
         "PANYUSHKINY v. RUSSIA",
         "gemma3:12b",
         "0.5818181818181818",
         "0.7032967032967034",
         "0.49612403100775193"
        ],
        [
         "203",
         "PAKHTUSOV v. RUSSIA",
         "gemma3:12b",
         "0.5777777777777778",
         "0.65",
         "0.52"
        ],
        [
         "10",
         "SIDOROVA v. RUSSIA",
         "gemma3:12b",
         "0.5714285714285714",
         "0.5517241379310345",
         "0.5925925925925926"
        ],
        [
         "75",
         "STANA v. ROMANIA",
         "gemma3:12b",
         "0.5423728813559322",
         "0.5",
         "0.5925925925925926"
        ],
        [
         "147",
         "SOLCAN v. ROMANIA",
         "gemma3:12b",
         "0.5333333333333333",
         "0.6857142857142857",
         "0.43636363636363634"
        ],
        [
         "51",
         "OTGON v. THE REPUBLIC OF MOLDOVA",
         "gemma3:12b",
         "0.5211267605633803",
         "0.40217391304347827",
         "0.74"
        ],
        [
         "18",
         "MOSKALEV v. RUSSIA",
         "gemma3:12b",
         "0.5154639175257733",
         "0.4716981132075472",
         "0.5681818181818182"
        ],
        [
         "228",
         "LOZOVYYE v. RUSSIA",
         "mistral:latest",
         "0.5033112582781456",
         "0.48717948717948717",
         "0.5205479452054794"
        ],
        [
         "212",
         "S.V. v. ITALY",
         "mistral:latest",
         "0.4492753623188406",
         "0.484375",
         "0.4189189189189189"
        ],
        [
         "164",
         "SHVIDKIYE v. RUSSIA",
         "mistral:latest",
         "0.4433962264150944",
         "0.3884297520661157",
         "0.5164835164835165"
        ],
        [
         "159",
         "H_INESS v. NORWAY (1)",
         "gemma3:12b",
         "0.4368932038834952",
         "0.569620253164557",
         "0.3543307086614173"
        ],
        [
         "131",
         "EGILL EINARSSON v. ICELAND (No. 2)",
         "gemma3:12b",
         "0.42696629213483145",
         "0.5588235294117647",
         "0.34545454545454546"
        ],
        [
         "224",
         "MURUZHEVA v. RUSSIA",
         "mistral:latest",
         "0.4169611307420495",
         "0.5221238938053098",
         "0.34705882352941175"
        ],
        [
         "219",
         "CRISTIAN CATALIN UNGUREANU v. ROMANIA",
         "gemma3:12b",
         "0.40490797546012264",
         "0.42857142857142855",
         "0.38372093023255816"
        ],
        [
         "62",
         "DOKTOROV v. BULGARIA",
         "gemma3:4b",
         "0.40366972477064217",
         "0.3492063492063492",
         "0.4782608695652174"
        ],
        [
         "111",
         "O.C.I. AND OTHERS v. ROMANIA",
         "gemma3:12b",
         "0.4",
         "0.7878787878787878",
         "0.26804123711340205"
        ],
        [
         "150",
         "YEVGENIY ZAKHAROV v. RUSSIA",
         "gemma3:4b",
         "0.39999999999999997",
         "0.5555555555555556",
         "0.3125"
        ],
        [
         "235",
         "CABUCAK v. GERMANY",
         "gemma3:12b",
         "0.3983050847457627",
         "0.6351351351351351",
         "0.29012345679012347"
        ],
        [
         "155",
         "ALTAY v. TURKEY (No. 2)",
         "gemma3:12b",
         "0.3945578231292517",
         "0.5178571428571429",
         "0.31868131868131866"
        ],
        [
         "179",
         "RESIN v. RUSSIA",
         "gemma3:12b",
         "0.3925233644859813",
         "0.5384615384615384",
         "0.3088235294117647"
        ],
        [
         "176",
         "M.T. v. UKRAINE",
         "mistral:latest",
         "0.3902439024390244",
         "0.36363636363636365",
         "0.42105263157894735"
        ],
        [
         "199",
         "_NODI v. HUNGARY",
         "gemma3:12b",
         "0.38461538461538464",
         "0.47058823529411764",
         "0.3252032520325203"
        ],
        [
         "188",
         "YERMAKOVICH v. RUSSIA",
         "mistral:latest",
         "0.3157894736842105",
         "0.4838709677419355",
         "0.234375"
        ],
        [
         "167",
         "VISY v. SLOVAKIA",
         "gemma3:12b",
         "0.30927835051546393",
         "0.4166666666666667",
         "0.2459016393442623"
        ],
        [
         "144",
         "BIGUN v. UKRAINE",
         "mistral:latest",
         "0.2876712328767123",
         "0.23595505617977527",
         "0.3684210526315789"
        ],
        [
         "123",
         "BELYAYEV AND OTHERS v. UKRAINE",
         "gemma3:12b",
         "0.2608695652173913",
         "0.23529411764705882",
         "0.2926829268292683"
        ],
        [
         "208",
         "KOSAITE - CYPIENE AND OTHERS v. LITHUANIA",
         "mistral:latest",
         "0.23346303501945523",
         "0.27522935779816515",
         "0.20270270270270271"
        ],
        [
         "120",
         "S.N. v. RUSSIA",
         "mistral:latest",
         "0.07476635514018691",
         "0.1702127659574468",
         "0.04790419161676647"
        ]
       ],
       "shape": {
        "columns": 5,
        "rows": 30
       }
      },
      "text/html": [
       "<div>\n",
       "<style scoped>\n",
       "    .dataframe tbody tr th:only-of-type {\n",
       "        vertical-align: middle;\n",
       "    }\n",
       "\n",
       "    .dataframe tbody tr th {\n",
       "        vertical-align: top;\n",
       "    }\n",
       "\n",
       "    .dataframe thead th {\n",
       "        text-align: right;\n",
       "    }\n",
       "</style>\n",
       "<table border=\"1\" class=\"dataframe\">\n",
       "  <thead>\n",
       "    <tr style=\"text-align: right;\">\n",
       "      <th></th>\n",
       "      <th>document</th>\n",
       "      <th>model</th>\n",
       "      <th>f1_score</th>\n",
       "      <th>precision</th>\n",
       "      <th>recall</th>\n",
       "    </tr>\n",
       "  </thead>\n",
       "  <tbody>\n",
       "    <tr>\n",
       "      <th>215</th>\n",
       "      <td>CAN v. TURKEY</td>\n",
       "      <td>gemma3:12b</td>\n",
       "      <td>0.625954</td>\n",
       "      <td>0.611940</td>\n",
       "      <td>0.640625</td>\n",
       "    </tr>\n",
       "    <tr>\n",
       "      <th>191</th>\n",
       "      <td>YAKUSHEV v. UKRAINE</td>\n",
       "      <td>gemma3:12b</td>\n",
       "      <td>0.597938</td>\n",
       "      <td>0.604167</td>\n",
       "      <td>0.591837</td>\n",
       "    </tr>\n",
       "    <tr>\n",
       "      <th>139</th>\n",
       "      <td>PANYUSHKINY v. RUSSIA</td>\n",
       "      <td>gemma3:12b</td>\n",
       "      <td>0.581818</td>\n",
       "      <td>0.703297</td>\n",
       "      <td>0.496124</td>\n",
       "    </tr>\n",
       "    <tr>\n",
       "      <th>203</th>\n",
       "      <td>PAKHTUSOV v. RUSSIA</td>\n",
       "      <td>gemma3:12b</td>\n",
       "      <td>0.577778</td>\n",
       "      <td>0.650000</td>\n",
       "      <td>0.520000</td>\n",
       "    </tr>\n",
       "    <tr>\n",
       "      <th>10</th>\n",
       "      <td>SIDOROVA v. RUSSIA</td>\n",
       "      <td>gemma3:12b</td>\n",
       "      <td>0.571429</td>\n",
       "      <td>0.551724</td>\n",
       "      <td>0.592593</td>\n",
       "    </tr>\n",
       "    <tr>\n",
       "      <th>75</th>\n",
       "      <td>STANA v. ROMANIA</td>\n",
       "      <td>gemma3:12b</td>\n",
       "      <td>0.542373</td>\n",
       "      <td>0.500000</td>\n",
       "      <td>0.592593</td>\n",
       "    </tr>\n",
       "    <tr>\n",
       "      <th>147</th>\n",
       "      <td>SOLCAN v. ROMANIA</td>\n",
       "      <td>gemma3:12b</td>\n",
       "      <td>0.533333</td>\n",
       "      <td>0.685714</td>\n",
       "      <td>0.436364</td>\n",
       "    </tr>\n",
       "    <tr>\n",
       "      <th>51</th>\n",
       "      <td>OTGON v. THE REPUBLIC OF MOLDOVA</td>\n",
       "      <td>gemma3:12b</td>\n",
       "      <td>0.521127</td>\n",
       "      <td>0.402174</td>\n",
       "      <td>0.740000</td>\n",
       "    </tr>\n",
       "    <tr>\n",
       "      <th>18</th>\n",
       "      <td>MOSKALEV v. RUSSIA</td>\n",
       "      <td>gemma3:12b</td>\n",
       "      <td>0.515464</td>\n",
       "      <td>0.471698</td>\n",
       "      <td>0.568182</td>\n",
       "    </tr>\n",
       "    <tr>\n",
       "      <th>228</th>\n",
       "      <td>LOZOVYYE v. RUSSIA</td>\n",
       "      <td>mistral:latest</td>\n",
       "      <td>0.503311</td>\n",
       "      <td>0.487179</td>\n",
       "      <td>0.520548</td>\n",
       "    </tr>\n",
       "    <tr>\n",
       "      <th>212</th>\n",
       "      <td>S.V. v. ITALY</td>\n",
       "      <td>mistral:latest</td>\n",
       "      <td>0.449275</td>\n",
       "      <td>0.484375</td>\n",
       "      <td>0.418919</td>\n",
       "    </tr>\n",
       "    <tr>\n",
       "      <th>164</th>\n",
       "      <td>SHVIDKIYE v. RUSSIA</td>\n",
       "      <td>mistral:latest</td>\n",
       "      <td>0.443396</td>\n",
       "      <td>0.388430</td>\n",
       "      <td>0.516484</td>\n",
       "    </tr>\n",
       "    <tr>\n",
       "      <th>159</th>\n",
       "      <td>H_INESS v. NORWAY (1)</td>\n",
       "      <td>gemma3:12b</td>\n",
       "      <td>0.436893</td>\n",
       "      <td>0.569620</td>\n",
       "      <td>0.354331</td>\n",
       "    </tr>\n",
       "    <tr>\n",
       "      <th>131</th>\n",
       "      <td>EGILL EINARSSON v. ICELAND (No. 2)</td>\n",
       "      <td>gemma3:12b</td>\n",
       "      <td>0.426966</td>\n",
       "      <td>0.558824</td>\n",
       "      <td>0.345455</td>\n",
       "    </tr>\n",
       "    <tr>\n",
       "      <th>224</th>\n",
       "      <td>MURUZHEVA v. RUSSIA</td>\n",
       "      <td>mistral:latest</td>\n",
       "      <td>0.416961</td>\n",
       "      <td>0.522124</td>\n",
       "      <td>0.347059</td>\n",
       "    </tr>\n",
       "    <tr>\n",
       "      <th>219</th>\n",
       "      <td>CRISTIAN CATALIN UNGUREANU v. ROMANIA</td>\n",
       "      <td>gemma3:12b</td>\n",
       "      <td>0.404908</td>\n",
       "      <td>0.428571</td>\n",
       "      <td>0.383721</td>\n",
       "    </tr>\n",
       "    <tr>\n",
       "      <th>62</th>\n",
       "      <td>DOKTOROV v. BULGARIA</td>\n",
       "      <td>gemma3:4b</td>\n",
       "      <td>0.403670</td>\n",
       "      <td>0.349206</td>\n",
       "      <td>0.478261</td>\n",
       "    </tr>\n",
       "    <tr>\n",
       "      <th>111</th>\n",
       "      <td>O.C.I. AND OTHERS v. ROMANIA</td>\n",
       "      <td>gemma3:12b</td>\n",
       "      <td>0.400000</td>\n",
       "      <td>0.787879</td>\n",
       "      <td>0.268041</td>\n",
       "    </tr>\n",
       "    <tr>\n",
       "      <th>150</th>\n",
       "      <td>YEVGENIY ZAKHAROV v. RUSSIA</td>\n",
       "      <td>gemma3:4b</td>\n",
       "      <td>0.400000</td>\n",
       "      <td>0.555556</td>\n",
       "      <td>0.312500</td>\n",
       "    </tr>\n",
       "    <tr>\n",
       "      <th>235</th>\n",
       "      <td>CABUCAK v. GERMANY</td>\n",
       "      <td>gemma3:12b</td>\n",
       "      <td>0.398305</td>\n",
       "      <td>0.635135</td>\n",
       "      <td>0.290123</td>\n",
       "    </tr>\n",
       "    <tr>\n",
       "      <th>155</th>\n",
       "      <td>ALTAY v. TURKEY (No. 2)</td>\n",
       "      <td>gemma3:12b</td>\n",
       "      <td>0.394558</td>\n",
       "      <td>0.517857</td>\n",
       "      <td>0.318681</td>\n",
       "    </tr>\n",
       "    <tr>\n",
       "      <th>179</th>\n",
       "      <td>RESIN v. RUSSIA</td>\n",
       "      <td>gemma3:12b</td>\n",
       "      <td>0.392523</td>\n",
       "      <td>0.538462</td>\n",
       "      <td>0.308824</td>\n",
       "    </tr>\n",
       "    <tr>\n",
       "      <th>176</th>\n",
       "      <td>M.T. v. UKRAINE</td>\n",
       "      <td>mistral:latest</td>\n",
       "      <td>0.390244</td>\n",
       "      <td>0.363636</td>\n",
       "      <td>0.421053</td>\n",
       "    </tr>\n",
       "    <tr>\n",
       "      <th>199</th>\n",
       "      <td>_NODI v. HUNGARY</td>\n",
       "      <td>gemma3:12b</td>\n",
       "      <td>0.384615</td>\n",
       "      <td>0.470588</td>\n",
       "      <td>0.325203</td>\n",
       "    </tr>\n",
       "    <tr>\n",
       "      <th>188</th>\n",
       "      <td>YERMAKOVICH v. RUSSIA</td>\n",
       "      <td>mistral:latest</td>\n",
       "      <td>0.315789</td>\n",
       "      <td>0.483871</td>\n",
       "      <td>0.234375</td>\n",
       "    </tr>\n",
       "    <tr>\n",
       "      <th>167</th>\n",
       "      <td>VISY v. SLOVAKIA</td>\n",
       "      <td>gemma3:12b</td>\n",
       "      <td>0.309278</td>\n",
       "      <td>0.416667</td>\n",
       "      <td>0.245902</td>\n",
       "    </tr>\n",
       "    <tr>\n",
       "      <th>144</th>\n",
       "      <td>BIGUN v. UKRAINE</td>\n",
       "      <td>mistral:latest</td>\n",
       "      <td>0.287671</td>\n",
       "      <td>0.235955</td>\n",
       "      <td>0.368421</td>\n",
       "    </tr>\n",
       "    <tr>\n",
       "      <th>123</th>\n",
       "      <td>BELYAYEV AND OTHERS v. UKRAINE</td>\n",
       "      <td>gemma3:12b</td>\n",
       "      <td>0.260870</td>\n",
       "      <td>0.235294</td>\n",
       "      <td>0.292683</td>\n",
       "    </tr>\n",
       "    <tr>\n",
       "      <th>208</th>\n",
       "      <td>KOSAITE - CYPIENE AND OTHERS v. LITHUANIA</td>\n",
       "      <td>mistral:latest</td>\n",
       "      <td>0.233463</td>\n",
       "      <td>0.275229</td>\n",
       "      <td>0.202703</td>\n",
       "    </tr>\n",
       "    <tr>\n",
       "      <th>120</th>\n",
       "      <td>S.N. v. RUSSIA</td>\n",
       "      <td>mistral:latest</td>\n",
       "      <td>0.074766</td>\n",
       "      <td>0.170213</td>\n",
       "      <td>0.047904</td>\n",
       "    </tr>\n",
       "  </tbody>\n",
       "</table>\n",
       "</div>"
      ],
      "text/plain": [
       "                                      document           model  f1_score  \\\n",
       "215                              CAN v. TURKEY      gemma3:12b  0.625954   \n",
       "191                        YAKUSHEV v. UKRAINE      gemma3:12b  0.597938   \n",
       "139                      PANYUSHKINY v. RUSSIA      gemma3:12b  0.581818   \n",
       "203                        PAKHTUSOV v. RUSSIA      gemma3:12b  0.577778   \n",
       "10                          SIDOROVA v. RUSSIA      gemma3:12b  0.571429   \n",
       "75                            STANA v. ROMANIA      gemma3:12b  0.542373   \n",
       "147                          SOLCAN v. ROMANIA      gemma3:12b  0.533333   \n",
       "51            OTGON v. THE REPUBLIC OF MOLDOVA      gemma3:12b  0.521127   \n",
       "18                          MOSKALEV v. RUSSIA      gemma3:12b  0.515464   \n",
       "228                         LOZOVYYE v. RUSSIA  mistral:latest  0.503311   \n",
       "212                              S.V. v. ITALY  mistral:latest  0.449275   \n",
       "164                        SHVIDKIYE v. RUSSIA  mistral:latest  0.443396   \n",
       "159                      H_INESS v. NORWAY (1)      gemma3:12b  0.436893   \n",
       "131         EGILL EINARSSON v. ICELAND (No. 2)      gemma3:12b  0.426966   \n",
       "224                        MURUZHEVA v. RUSSIA  mistral:latest  0.416961   \n",
       "219      CRISTIAN CATALIN UNGUREANU v. ROMANIA      gemma3:12b  0.404908   \n",
       "62                        DOKTOROV v. BULGARIA       gemma3:4b  0.403670   \n",
       "111               O.C.I. AND OTHERS v. ROMANIA      gemma3:12b  0.400000   \n",
       "150                YEVGENIY ZAKHAROV v. RUSSIA       gemma3:4b  0.400000   \n",
       "235                         CABUCAK v. GERMANY      gemma3:12b  0.398305   \n",
       "155                    ALTAY v. TURKEY (No. 2)      gemma3:12b  0.394558   \n",
       "179                            RESIN v. RUSSIA      gemma3:12b  0.392523   \n",
       "176                            M.T. v. UKRAINE  mistral:latest  0.390244   \n",
       "199                           _NODI v. HUNGARY      gemma3:12b  0.384615   \n",
       "188                      YERMAKOVICH v. RUSSIA  mistral:latest  0.315789   \n",
       "167                           VISY v. SLOVAKIA      gemma3:12b  0.309278   \n",
       "144                           BIGUN v. UKRAINE  mistral:latest  0.287671   \n",
       "123             BELYAYEV AND OTHERS v. UKRAINE      gemma3:12b  0.260870   \n",
       "208  KOSAITE - CYPIENE AND OTHERS v. LITHUANIA  mistral:latest  0.233463   \n",
       "120                             S.N. v. RUSSIA  mistral:latest  0.074766   \n",
       "\n",
       "     precision    recall  \n",
       "215   0.611940  0.640625  \n",
       "191   0.604167  0.591837  \n",
       "139   0.703297  0.496124  \n",
       "203   0.650000  0.520000  \n",
       "10    0.551724  0.592593  \n",
       "75    0.500000  0.592593  \n",
       "147   0.685714  0.436364  \n",
       "51    0.402174  0.740000  \n",
       "18    0.471698  0.568182  \n",
       "228   0.487179  0.520548  \n",
       "212   0.484375  0.418919  \n",
       "164   0.388430  0.516484  \n",
       "159   0.569620  0.354331  \n",
       "131   0.558824  0.345455  \n",
       "224   0.522124  0.347059  \n",
       "219   0.428571  0.383721  \n",
       "62    0.349206  0.478261  \n",
       "111   0.787879  0.268041  \n",
       "150   0.555556  0.312500  \n",
       "235   0.635135  0.290123  \n",
       "155   0.517857  0.318681  \n",
       "179   0.538462  0.308824  \n",
       "176   0.363636  0.421053  \n",
       "199   0.470588  0.325203  \n",
       "188   0.483871  0.234375  \n",
       "167   0.416667  0.245902  \n",
       "144   0.235955  0.368421  \n",
       "123   0.235294  0.292683  \n",
       "208   0.275229  0.202703  \n",
       "120   0.170213  0.047904  "
      ]
     },
     "metadata": {},
     "output_type": "display_data"
    },
    {
     "name": "stdout",
     "output_type": "stream",
     "text": [
      "\n",
      "🥇 OVERALL MODEL RANKING:\n"
     ]
    },
    {
     "data": {
      "application/vnd.microsoft.datawrangler.viewer.v0+json": {
       "columns": [
        {
         "name": "model",
         "rawType": "object",
         "type": "string"
        },
        {
         "name": "F1_Mean",
         "rawType": "float64",
         "type": "float"
        },
        {
         "name": "F1_Std",
         "rawType": "float64",
         "type": "float"
        },
        {
         "name": "F1_Min",
         "rawType": "float64",
         "type": "float"
        },
        {
         "name": "F1_Max",
         "rawType": "float64",
         "type": "float"
        },
        {
         "name": "Precision_Mean",
         "rawType": "float64",
         "type": "float"
        },
        {
         "name": "Recall_Mean",
         "rawType": "float64",
         "type": "float"
        },
        {
         "name": "Documents",
         "rawType": "int64",
         "type": "integer"
        }
       ],
       "ref": "16c2aec1-b73a-4388-b8ca-e3886438a6e7",
       "rows": [
        [
         "gemma3:12b",
         "0.3277",
         "0.1783",
         "0.0",
         "0.626",
         "0.4569",
         "0.2873",
         "59"
        ],
        [
         "mistral:latest",
         "0.2283",
         "0.171",
         "0.0",
         "0.5278",
         "0.2705",
         "0.2295",
         "60"
        ],
        [
         "gemma3:4b",
         "0.1937",
         "0.1499",
         "0.0",
         "0.5378",
         "0.2904",
         "0.1697",
         "59"
        ],
        [
         "gemma3:1b",
         "0.1141",
         "0.1088",
         "0.0",
         "0.35",
         "0.2885",
         "0.0868",
         "59"
        ]
       ],
       "shape": {
        "columns": 7,
        "rows": 4
       }
      },
      "text/html": [
       "<div>\n",
       "<style scoped>\n",
       "    .dataframe tbody tr th:only-of-type {\n",
       "        vertical-align: middle;\n",
       "    }\n",
       "\n",
       "    .dataframe tbody tr th {\n",
       "        vertical-align: top;\n",
       "    }\n",
       "\n",
       "    .dataframe thead th {\n",
       "        text-align: right;\n",
       "    }\n",
       "</style>\n",
       "<table border=\"1\" class=\"dataframe\">\n",
       "  <thead>\n",
       "    <tr style=\"text-align: right;\">\n",
       "      <th></th>\n",
       "      <th>F1_Mean</th>\n",
       "      <th>F1_Std</th>\n",
       "      <th>F1_Min</th>\n",
       "      <th>F1_Max</th>\n",
       "      <th>Precision_Mean</th>\n",
       "      <th>Recall_Mean</th>\n",
       "      <th>Documents</th>\n",
       "    </tr>\n",
       "    <tr>\n",
       "      <th>model</th>\n",
       "      <th></th>\n",
       "      <th></th>\n",
       "      <th></th>\n",
       "      <th></th>\n",
       "      <th></th>\n",
       "      <th></th>\n",
       "      <th></th>\n",
       "    </tr>\n",
       "  </thead>\n",
       "  <tbody>\n",
       "    <tr>\n",
       "      <th>gemma3:12b</th>\n",
       "      <td>0.3277</td>\n",
       "      <td>0.1783</td>\n",
       "      <td>0.0</td>\n",
       "      <td>0.6260</td>\n",
       "      <td>0.4569</td>\n",
       "      <td>0.2873</td>\n",
       "      <td>59</td>\n",
       "    </tr>\n",
       "    <tr>\n",
       "      <th>mistral:latest</th>\n",
       "      <td>0.2283</td>\n",
       "      <td>0.1710</td>\n",
       "      <td>0.0</td>\n",
       "      <td>0.5278</td>\n",
       "      <td>0.2705</td>\n",
       "      <td>0.2295</td>\n",
       "      <td>60</td>\n",
       "    </tr>\n",
       "    <tr>\n",
       "      <th>gemma3:4b</th>\n",
       "      <td>0.1937</td>\n",
       "      <td>0.1499</td>\n",
       "      <td>0.0</td>\n",
       "      <td>0.5378</td>\n",
       "      <td>0.2904</td>\n",
       "      <td>0.1697</td>\n",
       "      <td>59</td>\n",
       "    </tr>\n",
       "    <tr>\n",
       "      <th>gemma3:1b</th>\n",
       "      <td>0.1141</td>\n",
       "      <td>0.1088</td>\n",
       "      <td>0.0</td>\n",
       "      <td>0.3500</td>\n",
       "      <td>0.2885</td>\n",
       "      <td>0.0868</td>\n",
       "      <td>59</td>\n",
       "    </tr>\n",
       "  </tbody>\n",
       "</table>\n",
       "</div>"
      ],
      "text/plain": [
       "                F1_Mean  F1_Std  F1_Min  F1_Max  Precision_Mean  Recall_Mean  \\\n",
       "model                                                                          \n",
       "gemma3:12b       0.3277  0.1783     0.0  0.6260          0.4569       0.2873   \n",
       "mistral:latest   0.2283  0.1710     0.0  0.5278          0.2705       0.2295   \n",
       "gemma3:4b        0.1937  0.1499     0.0  0.5378          0.2904       0.1697   \n",
       "gemma3:1b        0.1141  0.1088     0.0  0.3500          0.2885       0.0868   \n",
       "\n",
       "                Documents  \n",
       "model                      \n",
       "gemma3:12b             59  \n",
       "mistral:latest         60  \n",
       "gemma3:4b              59  \n",
       "gemma3:1b              59  "
      ]
     },
     "metadata": {},
     "output_type": "display_data"
    },
    {
     "name": "stdout",
     "output_type": "stream",
     "text": [
      "\n",
      "📋 DOCUMENT DIFFICULTY RANKING (Hardest First):\n"
     ]
    },
    {
     "data": {
      "application/vnd.microsoft.datawrangler.viewer.v0+json": {
       "columns": [
        {
         "name": "document",
         "rawType": "object",
         "type": "string"
        },
        {
         "name": "F1_Mean",
         "rawType": "float64",
         "type": "float"
        },
        {
         "name": "F1_Std",
         "rawType": "float64",
         "type": "float"
        },
        {
         "name": "F1_Min",
         "rawType": "float64",
         "type": "float"
        },
        {
         "name": "F1_Max",
         "rawType": "float64",
         "type": "float"
        },
        {
         "name": "Models_Tested",
         "rawType": "int64",
         "type": "integer"
        }
       ],
       "ref": "27579992-90fb-4a4c-8841-dc7a5461a553",
       "rows": [
        [
         "S.N. v. RUSSIA",
         "0.0173",
         "0.0273",
         "0.0",
         "0.0748",
         "8"
        ],
        [
         "KOSAITE - CYPIENE AND OTHERS v. LITHUANIA",
         "0.0504",
         "0.0776",
         "0.0",
         "0.2335",
         "8"
        ],
        [
         "YERMAKOVICH v. RUSSIA",
         "0.0729",
         "0.1026",
         "0.0",
         "0.3158",
         "8"
        ],
        [
         "CABUCAK v. GERMANY",
         "0.1058",
         "0.1492",
         "0.0",
         "0.3983",
         "8"
        ],
        [
         "BIGUN v. UKRAINE",
         "0.1259",
         "0.1116",
         "0.0",
         "0.2877",
         "8"
        ],
        [
         "BELYAYEV AND OTHERS v. UKRAINE",
         "0.1277",
         "0.0816",
         "0.0",
         "0.2609",
         "8"
        ],
        [
         "VISY v. SLOVAKIA",
         "0.1443",
         "0.121",
         "0.0",
         "0.3093",
         "8"
        ],
        [
         "H_INESS v. NORWAY (1)",
         "0.151",
         "0.1867",
         "0.0",
         "0.4369",
         "5"
        ],
        [
         "MURUZHEVA v. RUSSIA",
         "0.1515",
         "0.1774",
         "0.0",
         "0.417",
         "8"
        ],
        [
         "S.V. v. ITALY",
         "0.1635",
         "0.2084",
         "0.0",
         "0.4493",
         "8"
        ],
        [
         "O.C.I. AND OTHERS v. ROMANIA",
         "0.1723",
         "0.1739",
         "0.0",
         "0.4",
         "8"
        ],
        [
         "SIDOROVA v. RUSSIA",
         "0.1823",
         "0.2327",
         "0.0",
         "0.5714",
         "8"
        ],
        [
         "EGILL EINARSSON v. ICELAND (No. 2)",
         "0.1862",
         "0.1853",
         "0.0",
         "0.427",
         "8"
        ],
        [
         "PANYUSHKINY v. RUSSIA",
         "0.2065",
         "0.2216",
         "0.0",
         "0.5818",
         "8"
        ],
        [
         "_NODI v. HUNGARY",
         "0.2066",
         "0.1278",
         "0.0438",
         "0.3846",
         "8"
        ],
        [
         "ALTAY v. TURKEY (No. 2)",
         "0.2153",
         "0.129",
         "0.0545",
         "0.3946",
         "8"
        ],
        [
         "CRISTIAN CATALIN UNGUREANU v. ROMANIA",
         "0.2205",
         "0.1393",
         "0.0",
         "0.4049",
         "8"
        ],
        [
         "RESIN v. RUSSIA",
         "0.227",
         "0.1322",
         "0.0",
         "0.3925",
         "8"
        ],
        [
         "YEVGENIY ZAKHAROV v. RUSSIA",
         "0.2344",
         "0.1302",
         "0.025",
         "0.4",
         "8"
        ],
        [
         "M.T. v. UKRAINE",
         "0.2371",
         "0.141",
         "0.0",
         "0.3902",
         "8"
        ],
        [
         "SHVIDKIYE v. RUSSIA",
         "0.2421",
         "0.1422",
         "0.0",
         "0.4434",
         "8"
        ],
        [
         "OTGON v. THE REPUBLIC OF MOLDOVA",
         "0.2474",
         "0.2236",
         "0.0",
         "0.5211",
         "8"
        ],
        [
         "DOKTOROV v. BULGARIA",
         "0.2855",
         "0.1268",
         "0.0",
         "0.4037",
         "8"
        ],
        [
         "LOZOVYYE v. RUSSIA",
         "0.2905",
         "0.1618",
         "0.1443",
         "0.5033",
         "8"
        ],
        [
         "SOLCAN v. ROMANIA",
         "0.3075",
         "0.1138",
         "0.1852",
         "0.5333",
         "8"
        ],
        [
         "MOSKALEV v. RUSSIA",
         "0.3228",
         "0.1329",
         "0.1111",
         "0.5155",
         "8"
        ],
        [
         "PAKHTUSOV v. RUSSIA",
         "0.324",
         "0.1441",
         "0.0769",
         "0.5778",
         "8"
        ],
        [
         "STANA v. ROMANIA",
         "0.3605",
         "0.1094",
         "0.16",
         "0.5424",
         "8"
        ],
        [
         "CAN v. TURKEY",
         "0.4352",
         "0.1482",
         "0.2366",
         "0.626",
         "8"
        ],
        [
         "YAKUSHEV v. UKRAINE",
         "0.4411",
         "0.1043",
         "0.2687",
         "0.5979",
         "8"
        ]
       ],
       "shape": {
        "columns": 5,
        "rows": 30
       }
      },
      "text/html": [
       "<div>\n",
       "<style scoped>\n",
       "    .dataframe tbody tr th:only-of-type {\n",
       "        vertical-align: middle;\n",
       "    }\n",
       "\n",
       "    .dataframe tbody tr th {\n",
       "        vertical-align: top;\n",
       "    }\n",
       "\n",
       "    .dataframe thead th {\n",
       "        text-align: right;\n",
       "    }\n",
       "</style>\n",
       "<table border=\"1\" class=\"dataframe\">\n",
       "  <thead>\n",
       "    <tr style=\"text-align: right;\">\n",
       "      <th></th>\n",
       "      <th>F1_Mean</th>\n",
       "      <th>F1_Std</th>\n",
       "      <th>F1_Min</th>\n",
       "      <th>F1_Max</th>\n",
       "      <th>Models_Tested</th>\n",
       "    </tr>\n",
       "    <tr>\n",
       "      <th>document</th>\n",
       "      <th></th>\n",
       "      <th></th>\n",
       "      <th></th>\n",
       "      <th></th>\n",
       "      <th></th>\n",
       "    </tr>\n",
       "  </thead>\n",
       "  <tbody>\n",
       "    <tr>\n",
       "      <th>S.N. v. RUSSIA</th>\n",
       "      <td>0.0173</td>\n",
       "      <td>0.0273</td>\n",
       "      <td>0.0000</td>\n",
       "      <td>0.0748</td>\n",
       "      <td>8</td>\n",
       "    </tr>\n",
       "    <tr>\n",
       "      <th>KOSAITE - CYPIENE AND OTHERS v. LITHUANIA</th>\n",
       "      <td>0.0504</td>\n",
       "      <td>0.0776</td>\n",
       "      <td>0.0000</td>\n",
       "      <td>0.2335</td>\n",
       "      <td>8</td>\n",
       "    </tr>\n",
       "    <tr>\n",
       "      <th>YERMAKOVICH v. RUSSIA</th>\n",
       "      <td>0.0729</td>\n",
       "      <td>0.1026</td>\n",
       "      <td>0.0000</td>\n",
       "      <td>0.3158</td>\n",
       "      <td>8</td>\n",
       "    </tr>\n",
       "    <tr>\n",
       "      <th>CABUCAK v. GERMANY</th>\n",
       "      <td>0.1058</td>\n",
       "      <td>0.1492</td>\n",
       "      <td>0.0000</td>\n",
       "      <td>0.3983</td>\n",
       "      <td>8</td>\n",
       "    </tr>\n",
       "    <tr>\n",
       "      <th>BIGUN v. UKRAINE</th>\n",
       "      <td>0.1259</td>\n",
       "      <td>0.1116</td>\n",
       "      <td>0.0000</td>\n",
       "      <td>0.2877</td>\n",
       "      <td>8</td>\n",
       "    </tr>\n",
       "    <tr>\n",
       "      <th>BELYAYEV AND OTHERS v. UKRAINE</th>\n",
       "      <td>0.1277</td>\n",
       "      <td>0.0816</td>\n",
       "      <td>0.0000</td>\n",
       "      <td>0.2609</td>\n",
       "      <td>8</td>\n",
       "    </tr>\n",
       "    <tr>\n",
       "      <th>VISY v. SLOVAKIA</th>\n",
       "      <td>0.1443</td>\n",
       "      <td>0.1210</td>\n",
       "      <td>0.0000</td>\n",
       "      <td>0.3093</td>\n",
       "      <td>8</td>\n",
       "    </tr>\n",
       "    <tr>\n",
       "      <th>H_INESS v. NORWAY (1)</th>\n",
       "      <td>0.1510</td>\n",
       "      <td>0.1867</td>\n",
       "      <td>0.0000</td>\n",
       "      <td>0.4369</td>\n",
       "      <td>5</td>\n",
       "    </tr>\n",
       "    <tr>\n",
       "      <th>MURUZHEVA v. RUSSIA</th>\n",
       "      <td>0.1515</td>\n",
       "      <td>0.1774</td>\n",
       "      <td>0.0000</td>\n",
       "      <td>0.4170</td>\n",
       "      <td>8</td>\n",
       "    </tr>\n",
       "    <tr>\n",
       "      <th>S.V. v. ITALY</th>\n",
       "      <td>0.1635</td>\n",
       "      <td>0.2084</td>\n",
       "      <td>0.0000</td>\n",
       "      <td>0.4493</td>\n",
       "      <td>8</td>\n",
       "    </tr>\n",
       "    <tr>\n",
       "      <th>O.C.I. AND OTHERS v. ROMANIA</th>\n",
       "      <td>0.1723</td>\n",
       "      <td>0.1739</td>\n",
       "      <td>0.0000</td>\n",
       "      <td>0.4000</td>\n",
       "      <td>8</td>\n",
       "    </tr>\n",
       "    <tr>\n",
       "      <th>SIDOROVA v. RUSSIA</th>\n",
       "      <td>0.1823</td>\n",
       "      <td>0.2327</td>\n",
       "      <td>0.0000</td>\n",
       "      <td>0.5714</td>\n",
       "      <td>8</td>\n",
       "    </tr>\n",
       "    <tr>\n",
       "      <th>EGILL EINARSSON v. ICELAND (No. 2)</th>\n",
       "      <td>0.1862</td>\n",
       "      <td>0.1853</td>\n",
       "      <td>0.0000</td>\n",
       "      <td>0.4270</td>\n",
       "      <td>8</td>\n",
       "    </tr>\n",
       "    <tr>\n",
       "      <th>PANYUSHKINY v. RUSSIA</th>\n",
       "      <td>0.2065</td>\n",
       "      <td>0.2216</td>\n",
       "      <td>0.0000</td>\n",
       "      <td>0.5818</td>\n",
       "      <td>8</td>\n",
       "    </tr>\n",
       "    <tr>\n",
       "      <th>_NODI v. HUNGARY</th>\n",
       "      <td>0.2066</td>\n",
       "      <td>0.1278</td>\n",
       "      <td>0.0438</td>\n",
       "      <td>0.3846</td>\n",
       "      <td>8</td>\n",
       "    </tr>\n",
       "    <tr>\n",
       "      <th>ALTAY v. TURKEY (No. 2)</th>\n",
       "      <td>0.2153</td>\n",
       "      <td>0.1290</td>\n",
       "      <td>0.0545</td>\n",
       "      <td>0.3946</td>\n",
       "      <td>8</td>\n",
       "    </tr>\n",
       "    <tr>\n",
       "      <th>CRISTIAN CATALIN UNGUREANU v. ROMANIA</th>\n",
       "      <td>0.2205</td>\n",
       "      <td>0.1393</td>\n",
       "      <td>0.0000</td>\n",
       "      <td>0.4049</td>\n",
       "      <td>8</td>\n",
       "    </tr>\n",
       "    <tr>\n",
       "      <th>RESIN v. RUSSIA</th>\n",
       "      <td>0.2270</td>\n",
       "      <td>0.1322</td>\n",
       "      <td>0.0000</td>\n",
       "      <td>0.3925</td>\n",
       "      <td>8</td>\n",
       "    </tr>\n",
       "    <tr>\n",
       "      <th>YEVGENIY ZAKHAROV v. RUSSIA</th>\n",
       "      <td>0.2344</td>\n",
       "      <td>0.1302</td>\n",
       "      <td>0.0250</td>\n",
       "      <td>0.4000</td>\n",
       "      <td>8</td>\n",
       "    </tr>\n",
       "    <tr>\n",
       "      <th>M.T. v. UKRAINE</th>\n",
       "      <td>0.2371</td>\n",
       "      <td>0.1410</td>\n",
       "      <td>0.0000</td>\n",
       "      <td>0.3902</td>\n",
       "      <td>8</td>\n",
       "    </tr>\n",
       "    <tr>\n",
       "      <th>SHVIDKIYE v. RUSSIA</th>\n",
       "      <td>0.2421</td>\n",
       "      <td>0.1422</td>\n",
       "      <td>0.0000</td>\n",
       "      <td>0.4434</td>\n",
       "      <td>8</td>\n",
       "    </tr>\n",
       "    <tr>\n",
       "      <th>OTGON v. THE REPUBLIC OF MOLDOVA</th>\n",
       "      <td>0.2474</td>\n",
       "      <td>0.2236</td>\n",
       "      <td>0.0000</td>\n",
       "      <td>0.5211</td>\n",
       "      <td>8</td>\n",
       "    </tr>\n",
       "    <tr>\n",
       "      <th>DOKTOROV v. BULGARIA</th>\n",
       "      <td>0.2855</td>\n",
       "      <td>0.1268</td>\n",
       "      <td>0.0000</td>\n",
       "      <td>0.4037</td>\n",
       "      <td>8</td>\n",
       "    </tr>\n",
       "    <tr>\n",
       "      <th>LOZOVYYE v. RUSSIA</th>\n",
       "      <td>0.2905</td>\n",
       "      <td>0.1618</td>\n",
       "      <td>0.1443</td>\n",
       "      <td>0.5033</td>\n",
       "      <td>8</td>\n",
       "    </tr>\n",
       "    <tr>\n",
       "      <th>SOLCAN v. ROMANIA</th>\n",
       "      <td>0.3075</td>\n",
       "      <td>0.1138</td>\n",
       "      <td>0.1852</td>\n",
       "      <td>0.5333</td>\n",
       "      <td>8</td>\n",
       "    </tr>\n",
       "    <tr>\n",
       "      <th>MOSKALEV v. RUSSIA</th>\n",
       "      <td>0.3228</td>\n",
       "      <td>0.1329</td>\n",
       "      <td>0.1111</td>\n",
       "      <td>0.5155</td>\n",
       "      <td>8</td>\n",
       "    </tr>\n",
       "    <tr>\n",
       "      <th>PAKHTUSOV v. RUSSIA</th>\n",
       "      <td>0.3240</td>\n",
       "      <td>0.1441</td>\n",
       "      <td>0.0769</td>\n",
       "      <td>0.5778</td>\n",
       "      <td>8</td>\n",
       "    </tr>\n",
       "    <tr>\n",
       "      <th>STANA v. ROMANIA</th>\n",
       "      <td>0.3605</td>\n",
       "      <td>0.1094</td>\n",
       "      <td>0.1600</td>\n",
       "      <td>0.5424</td>\n",
       "      <td>8</td>\n",
       "    </tr>\n",
       "    <tr>\n",
       "      <th>CAN v. TURKEY</th>\n",
       "      <td>0.4352</td>\n",
       "      <td>0.1482</td>\n",
       "      <td>0.2366</td>\n",
       "      <td>0.6260</td>\n",
       "      <td>8</td>\n",
       "    </tr>\n",
       "    <tr>\n",
       "      <th>YAKUSHEV v. UKRAINE</th>\n",
       "      <td>0.4411</td>\n",
       "      <td>0.1043</td>\n",
       "      <td>0.2687</td>\n",
       "      <td>0.5979</td>\n",
       "      <td>8</td>\n",
       "    </tr>\n",
       "  </tbody>\n",
       "</table>\n",
       "</div>"
      ],
      "text/plain": [
       "                                           F1_Mean  F1_Std  F1_Min  F1_Max  \\\n",
       "document                                                                     \n",
       "S.N. v. RUSSIA                              0.0173  0.0273  0.0000  0.0748   \n",
       "KOSAITE - CYPIENE AND OTHERS v. LITHUANIA   0.0504  0.0776  0.0000  0.2335   \n",
       "YERMAKOVICH v. RUSSIA                       0.0729  0.1026  0.0000  0.3158   \n",
       "CABUCAK v. GERMANY                          0.1058  0.1492  0.0000  0.3983   \n",
       "BIGUN v. UKRAINE                            0.1259  0.1116  0.0000  0.2877   \n",
       "BELYAYEV AND OTHERS v. UKRAINE              0.1277  0.0816  0.0000  0.2609   \n",
       "VISY v. SLOVAKIA                            0.1443  0.1210  0.0000  0.3093   \n",
       "H_INESS v. NORWAY (1)                       0.1510  0.1867  0.0000  0.4369   \n",
       "MURUZHEVA v. RUSSIA                         0.1515  0.1774  0.0000  0.4170   \n",
       "S.V. v. ITALY                               0.1635  0.2084  0.0000  0.4493   \n",
       "O.C.I. AND OTHERS v. ROMANIA                0.1723  0.1739  0.0000  0.4000   \n",
       "SIDOROVA v. RUSSIA                          0.1823  0.2327  0.0000  0.5714   \n",
       "EGILL EINARSSON v. ICELAND (No. 2)          0.1862  0.1853  0.0000  0.4270   \n",
       "PANYUSHKINY v. RUSSIA                       0.2065  0.2216  0.0000  0.5818   \n",
       "_NODI v. HUNGARY                            0.2066  0.1278  0.0438  0.3846   \n",
       "ALTAY v. TURKEY (No. 2)                     0.2153  0.1290  0.0545  0.3946   \n",
       "CRISTIAN CATALIN UNGUREANU v. ROMANIA       0.2205  0.1393  0.0000  0.4049   \n",
       "RESIN v. RUSSIA                             0.2270  0.1322  0.0000  0.3925   \n",
       "YEVGENIY ZAKHAROV v. RUSSIA                 0.2344  0.1302  0.0250  0.4000   \n",
       "M.T. v. UKRAINE                             0.2371  0.1410  0.0000  0.3902   \n",
       "SHVIDKIYE v. RUSSIA                         0.2421  0.1422  0.0000  0.4434   \n",
       "OTGON v. THE REPUBLIC OF MOLDOVA            0.2474  0.2236  0.0000  0.5211   \n",
       "DOKTOROV v. BULGARIA                        0.2855  0.1268  0.0000  0.4037   \n",
       "LOZOVYYE v. RUSSIA                          0.2905  0.1618  0.1443  0.5033   \n",
       "SOLCAN v. ROMANIA                           0.3075  0.1138  0.1852  0.5333   \n",
       "MOSKALEV v. RUSSIA                          0.3228  0.1329  0.1111  0.5155   \n",
       "PAKHTUSOV v. RUSSIA                         0.3240  0.1441  0.0769  0.5778   \n",
       "STANA v. ROMANIA                            0.3605  0.1094  0.1600  0.5424   \n",
       "CAN v. TURKEY                               0.4352  0.1482  0.2366  0.6260   \n",
       "YAKUSHEV v. UKRAINE                         0.4411  0.1043  0.2687  0.5979   \n",
       "\n",
       "                                           Models_Tested  \n",
       "document                                                  \n",
       "S.N. v. RUSSIA                                         8  \n",
       "KOSAITE - CYPIENE AND OTHERS v. LITHUANIA              8  \n",
       "YERMAKOVICH v. RUSSIA                                  8  \n",
       "CABUCAK v. GERMANY                                     8  \n",
       "BIGUN v. UKRAINE                                       8  \n",
       "BELYAYEV AND OTHERS v. UKRAINE                         8  \n",
       "VISY v. SLOVAKIA                                       8  \n",
       "H_INESS v. NORWAY (1)                                  5  \n",
       "MURUZHEVA v. RUSSIA                                    8  \n",
       "S.V. v. ITALY                                          8  \n",
       "O.C.I. AND OTHERS v. ROMANIA                           8  \n",
       "SIDOROVA v. RUSSIA                                     8  \n",
       "EGILL EINARSSON v. ICELAND (No. 2)                     8  \n",
       "PANYUSHKINY v. RUSSIA                                  8  \n",
       "_NODI v. HUNGARY                                       8  \n",
       "ALTAY v. TURKEY (No. 2)                                8  \n",
       "CRISTIAN CATALIN UNGUREANU v. ROMANIA                  8  \n",
       "RESIN v. RUSSIA                                        8  \n",
       "YEVGENIY ZAKHAROV v. RUSSIA                            8  \n",
       "M.T. v. UKRAINE                                        8  \n",
       "SHVIDKIYE v. RUSSIA                                    8  \n",
       "OTGON v. THE REPUBLIC OF MOLDOVA                       8  \n",
       "DOKTOROV v. BULGARIA                                   8  \n",
       "LOZOVYYE v. RUSSIA                                     8  \n",
       "SOLCAN v. ROMANIA                                      8  \n",
       "MOSKALEV v. RUSSIA                                     8  \n",
       "PAKHTUSOV v. RUSSIA                                    8  \n",
       "STANA v. ROMANIA                                       8  \n",
       "CAN v. TURKEY                                          8  \n",
       "YAKUSHEV v. UKRAINE                                    8  "
      ]
     },
     "metadata": {},
     "output_type": "display_data"
    },
    {
     "name": "stdout",
     "output_type": "stream",
     "text": [
      "\n",
      "🔄 RUN COMPARISON:\n"
     ]
    },
    {
     "data": {
      "application/vnd.microsoft.datawrangler.viewer.v0+json": {
       "columns": [
        {
         "name": "run",
         "rawType": "object",
         "type": "string"
        },
        {
         "name": "F1_Mean",
         "rawType": "float64",
         "type": "float"
        },
        {
         "name": "F1_Std",
         "rawType": "float64",
         "type": "float"
        },
        {
         "name": "Precision_Mean",
         "rawType": "float64",
         "type": "float"
        },
        {
         "name": "Recall_Mean",
         "rawType": "float64",
         "type": "float"
        },
        {
         "name": "Models",
         "rawType": "int64",
         "type": "integer"
        },
        {
         "name": "Documents",
         "rawType": "int64",
         "type": "integer"
        }
       ],
       "ref": "616f801b-e9ed-4c89-8541-d4ddf34d892b",
       "rows": [
        [
         "pipeline_results_20250808_145025",
         "0.2718",
         "0.1645",
         "0.3673",
         "0.2501",
         "4",
         "30"
        ],
        [
         "pipeline_results_20250725_111753",
         "0.1587",
         "0.1599",
         "0.2843",
         "0.1354",
         "4",
         "30"
        ]
       ],
       "shape": {
        "columns": 6,
        "rows": 2
       }
      },
      "text/html": [
       "<div>\n",
       "<style scoped>\n",
       "    .dataframe tbody tr th:only-of-type {\n",
       "        vertical-align: middle;\n",
       "    }\n",
       "\n",
       "    .dataframe tbody tr th {\n",
       "        vertical-align: top;\n",
       "    }\n",
       "\n",
       "    .dataframe thead th {\n",
       "        text-align: right;\n",
       "    }\n",
       "</style>\n",
       "<table border=\"1\" class=\"dataframe\">\n",
       "  <thead>\n",
       "    <tr style=\"text-align: right;\">\n",
       "      <th></th>\n",
       "      <th>F1_Mean</th>\n",
       "      <th>F1_Std</th>\n",
       "      <th>Precision_Mean</th>\n",
       "      <th>Recall_Mean</th>\n",
       "      <th>Models</th>\n",
       "      <th>Documents</th>\n",
       "    </tr>\n",
       "    <tr>\n",
       "      <th>run</th>\n",
       "      <th></th>\n",
       "      <th></th>\n",
       "      <th></th>\n",
       "      <th></th>\n",
       "      <th></th>\n",
       "      <th></th>\n",
       "    </tr>\n",
       "  </thead>\n",
       "  <tbody>\n",
       "    <tr>\n",
       "      <th>pipeline_results_20250808_145025</th>\n",
       "      <td>0.2718</td>\n",
       "      <td>0.1645</td>\n",
       "      <td>0.3673</td>\n",
       "      <td>0.2501</td>\n",
       "      <td>4</td>\n",
       "      <td>30</td>\n",
       "    </tr>\n",
       "    <tr>\n",
       "      <th>pipeline_results_20250725_111753</th>\n",
       "      <td>0.1587</td>\n",
       "      <td>0.1599</td>\n",
       "      <td>0.2843</td>\n",
       "      <td>0.1354</td>\n",
       "      <td>4</td>\n",
       "      <td>30</td>\n",
       "    </tr>\n",
       "  </tbody>\n",
       "</table>\n",
       "</div>"
      ],
      "text/plain": [
       "                                  F1_Mean  F1_Std  Precision_Mean  \\\n",
       "run                                                                 \n",
       "pipeline_results_20250808_145025   0.2718  0.1645          0.3673   \n",
       "pipeline_results_20250725_111753   0.1587  0.1599          0.2843   \n",
       "\n",
       "                                  Recall_Mean  Models  Documents  \n",
       "run                                                               \n",
       "pipeline_results_20250808_145025       0.2501       4         30  \n",
       "pipeline_results_20250725_111753       0.1354       4         30  "
      ]
     },
     "metadata": {},
     "output_type": "display_data"
    }
   ],
   "source": [
    "if 'df' in globals() and not df.empty:\n",
    "    \n",
    "    # 4. Run Comparison (if multiple runs selected)\n",
    "    if len(df['run'].unique()) > 1:\n",
    "        print(\"🔄 4. Run Comparison Dashboard\")\n",
    "        run_comparison = create_run_comparison_dashboard(df)\n",
    "        if run_comparison:\n",
    "            run_comparison.show()\n",
    "    \n",
    "    # 5. Additional Heatmaps for Precision and Recall\n",
    "    print(\"📊 5. Additional Performance Heatmaps\")\n",
    "    \n",
    "    # Precision heatmap\n",
    "    precision_heatmap = create_performance_heatmap(df, 'precision', 'Precision')\n",
    "    precision_heatmap.show()\n",
    "    \n",
    "    # Recall heatmap  \n",
    "    recall_heatmap = create_performance_heatmap(df, 'recall', 'Recall')\n",
    "    recall_heatmap.show()\n",
    "    \n",
    "    # 6. Summary Statistics Table\n",
    "    print(\"\\n\" + \"=\"*80)\n",
    "    print(\"📊 PERFORMANCE SUMMARY\")\n",
    "    print(\"=\"*80)\n",
    "    \n",
    "    # Best model per document\n",
    "    print(\"\\n🏆 BEST MODEL PER DOCUMENT (by F1-Score):\")\n",
    "    best_per_doc = df.loc[df.groupby('document')['f1_score'].idxmax()][['document', 'model', 'f1_score', 'precision', 'recall']]\n",
    "    best_per_doc = best_per_doc.sort_values('f1_score', ascending=False)\n",
    "    display(best_per_doc)\n",
    "    \n",
    "    # Overall model ranking\n",
    "    print(\"\\n🥇 OVERALL MODEL RANKING:\")\n",
    "    model_ranking = df.groupby('model').agg({\n",
    "        'f1_score': ['mean', 'std', 'min', 'max'],\n",
    "        'precision': 'mean',\n",
    "        'recall': 'mean',\n",
    "        'document': 'count'\n",
    "    }).round(4)\n",
    "    model_ranking.columns = ['F1_Mean', 'F1_Std', 'F1_Min', 'F1_Max', 'Precision_Mean', 'Recall_Mean', 'Documents']\n",
    "    model_ranking = model_ranking.sort_values('F1_Mean', ascending=False)\n",
    "    display(model_ranking)\n",
    "    \n",
    "    # Document difficulty ranking\n",
    "    print(\"\\n📋 DOCUMENT DIFFICULTY RANKING (Hardest First):\")\n",
    "    doc_ranking = df.groupby('document').agg({\n",
    "        'f1_score': ['mean', 'std', 'min', 'max'],\n",
    "        'model': 'count'\n",
    "    }).round(4)\n",
    "    doc_ranking.columns = ['F1_Mean', 'F1_Std', 'F1_Min', 'F1_Max', 'Models_Tested']\n",
    "    doc_ranking = doc_ranking.sort_values('F1_Mean', ascending=True)\n",
    "    display(doc_ranking)\n",
    "    \n",
    "    if len(df['run'].unique()) > 1:\n",
    "        print(\"\\n🔄 RUN COMPARISON:\")\n",
    "        run_summary = df.groupby('run').agg({\n",
    "            'f1_score': ['mean', 'std'],\n",
    "            'precision': 'mean',\n",
    "            'recall': 'mean',\n",
    "            'model': 'nunique',\n",
    "            'document': 'nunique'\n",
    "        }).round(4)\n",
    "        run_summary.columns = ['F1_Mean', 'F1_Std', 'Precision_Mean', 'Recall_Mean', 'Models', 'Documents']\n",
    "        run_summary = run_summary.sort_values('F1_Mean', ascending=False)\n",
    "        display(run_summary)\n",
    "    \n",
    "else:\n",
    "    print(\"❌ Please load and process evaluation data first.\")"
   ]
  },
  {
   "cell_type": "code",
   "execution_count": 7,
   "id": "80d83c2b",
   "metadata": {},
   "outputs": [
    {
     "name": "stdout",
     "output_type": "stream",
     "text": [
      "\n",
      "================================================================================\n",
      "📄 DETAILED PERFORMANCE BY DOCUMENT\n",
      "================================================================================\n",
      "Individual charts for each document showing all models with precision, recall, and F1-score\n",
      "\n"
     ]
    },
    {
     "data": {
      "application/vnd.plotly.v1+json": {
       "config": {
        "plotlyServerURL": "https://plot.ly"
       },
       "data": [
        {
         "marker": {
          "color": "#FF6B6B"
         },
         "name": "Precision",
         "offsetgroup": "0",
         "orientation": "h",
         "text": {
          "bdata": "AAAAAAAAAAAAAAAAAAAAAAAAAAAAAAAAAAAAAAAAAAAAAAAAAAAAAOf7qfHSTcI/MzMzMzMzwz/D9Shcj8LFPw==",
          "dtype": "f8"
         },
         "textposition": "auto",
         "type": "bar",
         "width": 0.25,
         "x": {
          "bdata": "AAAAAAAAAAAAAAAAAAAAAAAAAAAAAAAAAAAAAAAAAAAAAAAAAAAAAJIkSZIkScI/MzMzMzMzwz9XEJMriMnFPw==",
          "dtype": "f8"
         },
         "y": [
          "gemma3:1b",
          "gemma3:4b",
          "gemma3:12b",
          "mistral:latest",
          "gemma3:4b",
          "gemma3:12b",
          "gemma3:1b",
          "mistral:latest"
         ]
        },
        {
         "marker": {
          "color": "#4ECDC4"
         },
         "name": "Recall",
         "offsetgroup": "1",
         "orientation": "h",
         "text": {
          "bdata": "AAAAAAAAAAAAAAAAAAAAAAAAAAAAAAAAAAAAAAAAAAAAAAAAAAAAADvfT42XbpI/O99PjZdukj/6fmq8dJOoPw==",
          "dtype": "f8"
         },
         "textposition": "auto",
         "type": "bar",
         "width": 0.25,
         "x": {
          "bdata": "AAAAAAAAAAAAAAAAAAAAAAAAAAAAAAAAAAAAAAAAAAAAAAAAAAAAADfEgHQsZZI/N8SAdCxlkj9KsKvw5YaoPw==",
          "dtype": "f8"
         },
         "y": [
          "gemma3:1b",
          "gemma3:4b",
          "gemma3:12b",
          "mistral:latest",
          "gemma3:4b",
          "gemma3:12b",
          "gemma3:1b",
          "mistral:latest"
         ]
        },
        {
         "marker": {
          "color": "#45B7D1"
         },
         "name": "F1-Score",
         "offsetgroup": "2",
         "orientation": "h",
         "text": {
          "bdata": "AAAAAAAAAAAAAAAAAAAAAAAAAAAAAAAAAAAAAAAAAAAAAAAAAAAAAPyp8dJNYqA//Knx0k1ioD8zMzMzMzOzPw==",
          "dtype": "f8"
         },
         "textposition": "auto",
         "type": "bar",
         "width": 0.25,
         "x": {
          "bdata": "AAAAAAAAAAAAAAAAAAAAAAAAAAAAAAAAAAAAAAAAAAAAAAAAAAAAAEFMriAmV6A/bRCcyoRtoD+/ECtK4yOzPw==",
          "dtype": "f8"
         },
         "y": [
          "gemma3:1b",
          "gemma3:4b",
          "gemma3:12b",
          "mistral:latest",
          "gemma3:4b",
          "gemma3:12b",
          "gemma3:1b",
          "mistral:latest"
         ]
        }
       ],
       "layout": {
        "barmode": "group",
        "height": 320,
        "legend": {
         "orientation": "h",
         "x": 1,
         "xanchor": "right",
         "y": 1.02,
         "yanchor": "bottom"
        },
        "showlegend": true,
        "template": {
         "data": {
          "bar": [
           {
            "error_x": {
             "color": "#2a3f5f"
            },
            "error_y": {
             "color": "#2a3f5f"
            },
            "marker": {
             "line": {
              "color": "white",
              "width": 0.5
             },
             "pattern": {
              "fillmode": "overlay",
              "size": 10,
              "solidity": 0.2
             }
            },
            "type": "bar"
           }
          ],
          "barpolar": [
           {
            "marker": {
             "line": {
              "color": "white",
              "width": 0.5
             },
             "pattern": {
              "fillmode": "overlay",
              "size": 10,
              "solidity": 0.2
             }
            },
            "type": "barpolar"
           }
          ],
          "carpet": [
           {
            "aaxis": {
             "endlinecolor": "#2a3f5f",
             "gridcolor": "#C8D4E3",
             "linecolor": "#C8D4E3",
             "minorgridcolor": "#C8D4E3",
             "startlinecolor": "#2a3f5f"
            },
            "baxis": {
             "endlinecolor": "#2a3f5f",
             "gridcolor": "#C8D4E3",
             "linecolor": "#C8D4E3",
             "minorgridcolor": "#C8D4E3",
             "startlinecolor": "#2a3f5f"
            },
            "type": "carpet"
           }
          ],
          "choropleth": [
           {
            "colorbar": {
             "outlinewidth": 0,
             "ticks": ""
            },
            "type": "choropleth"
           }
          ],
          "contour": [
           {
            "colorbar": {
             "outlinewidth": 0,
             "ticks": ""
            },
            "colorscale": [
             [
              0,
              "#0d0887"
             ],
             [
              0.1111111111111111,
              "#46039f"
             ],
             [
              0.2222222222222222,
              "#7201a8"
             ],
             [
              0.3333333333333333,
              "#9c179e"
             ],
             [
              0.4444444444444444,
              "#bd3786"
             ],
             [
              0.5555555555555556,
              "#d8576b"
             ],
             [
              0.6666666666666666,
              "#ed7953"
             ],
             [
              0.7777777777777778,
              "#fb9f3a"
             ],
             [
              0.8888888888888888,
              "#fdca26"
             ],
             [
              1,
              "#f0f921"
             ]
            ],
            "type": "contour"
           }
          ],
          "contourcarpet": [
           {
            "colorbar": {
             "outlinewidth": 0,
             "ticks": ""
            },
            "type": "contourcarpet"
           }
          ],
          "heatmap": [
           {
            "colorbar": {
             "outlinewidth": 0,
             "ticks": ""
            },
            "colorscale": [
             [
              0,
              "#0d0887"
             ],
             [
              0.1111111111111111,
              "#46039f"
             ],
             [
              0.2222222222222222,
              "#7201a8"
             ],
             [
              0.3333333333333333,
              "#9c179e"
             ],
             [
              0.4444444444444444,
              "#bd3786"
             ],
             [
              0.5555555555555556,
              "#d8576b"
             ],
             [
              0.6666666666666666,
              "#ed7953"
             ],
             [
              0.7777777777777778,
              "#fb9f3a"
             ],
             [
              0.8888888888888888,
              "#fdca26"
             ],
             [
              1,
              "#f0f921"
             ]
            ],
            "type": "heatmap"
           }
          ],
          "histogram": [
           {
            "marker": {
             "pattern": {
              "fillmode": "overlay",
              "size": 10,
              "solidity": 0.2
             }
            },
            "type": "histogram"
           }
          ],
          "histogram2d": [
           {
            "colorbar": {
             "outlinewidth": 0,
             "ticks": ""
            },
            "colorscale": [
             [
              0,
              "#0d0887"
             ],
             [
              0.1111111111111111,
              "#46039f"
             ],
             [
              0.2222222222222222,
              "#7201a8"
             ],
             [
              0.3333333333333333,
              "#9c179e"
             ],
             [
              0.4444444444444444,
              "#bd3786"
             ],
             [
              0.5555555555555556,
              "#d8576b"
             ],
             [
              0.6666666666666666,
              "#ed7953"
             ],
             [
              0.7777777777777778,
              "#fb9f3a"
             ],
             [
              0.8888888888888888,
              "#fdca26"
             ],
             [
              1,
              "#f0f921"
             ]
            ],
            "type": "histogram2d"
           }
          ],
          "histogram2dcontour": [
           {
            "colorbar": {
             "outlinewidth": 0,
             "ticks": ""
            },
            "colorscale": [
             [
              0,
              "#0d0887"
             ],
             [
              0.1111111111111111,
              "#46039f"
             ],
             [
              0.2222222222222222,
              "#7201a8"
             ],
             [
              0.3333333333333333,
              "#9c179e"
             ],
             [
              0.4444444444444444,
              "#bd3786"
             ],
             [
              0.5555555555555556,
              "#d8576b"
             ],
             [
              0.6666666666666666,
              "#ed7953"
             ],
             [
              0.7777777777777778,
              "#fb9f3a"
             ],
             [
              0.8888888888888888,
              "#fdca26"
             ],
             [
              1,
              "#f0f921"
             ]
            ],
            "type": "histogram2dcontour"
           }
          ],
          "mesh3d": [
           {
            "colorbar": {
             "outlinewidth": 0,
             "ticks": ""
            },
            "type": "mesh3d"
           }
          ],
          "parcoords": [
           {
            "line": {
             "colorbar": {
              "outlinewidth": 0,
              "ticks": ""
             }
            },
            "type": "parcoords"
           }
          ],
          "pie": [
           {
            "automargin": true,
            "type": "pie"
           }
          ],
          "scatter": [
           {
            "fillpattern": {
             "fillmode": "overlay",
             "size": 10,
             "solidity": 0.2
            },
            "type": "scatter"
           }
          ],
          "scatter3d": [
           {
            "line": {
             "colorbar": {
              "outlinewidth": 0,
              "ticks": ""
             }
            },
            "marker": {
             "colorbar": {
              "outlinewidth": 0,
              "ticks": ""
             }
            },
            "type": "scatter3d"
           }
          ],
          "scattercarpet": [
           {
            "marker": {
             "colorbar": {
              "outlinewidth": 0,
              "ticks": ""
             }
            },
            "type": "scattercarpet"
           }
          ],
          "scattergeo": [
           {
            "marker": {
             "colorbar": {
              "outlinewidth": 0,
              "ticks": ""
             }
            },
            "type": "scattergeo"
           }
          ],
          "scattergl": [
           {
            "marker": {
             "colorbar": {
              "outlinewidth": 0,
              "ticks": ""
             }
            },
            "type": "scattergl"
           }
          ],
          "scattermap": [
           {
            "marker": {
             "colorbar": {
              "outlinewidth": 0,
              "ticks": ""
             }
            },
            "type": "scattermap"
           }
          ],
          "scattermapbox": [
           {
            "marker": {
             "colorbar": {
              "outlinewidth": 0,
              "ticks": ""
             }
            },
            "type": "scattermapbox"
           }
          ],
          "scatterpolar": [
           {
            "marker": {
             "colorbar": {
              "outlinewidth": 0,
              "ticks": ""
             }
            },
            "type": "scatterpolar"
           }
          ],
          "scatterpolargl": [
           {
            "marker": {
             "colorbar": {
              "outlinewidth": 0,
              "ticks": ""
             }
            },
            "type": "scatterpolargl"
           }
          ],
          "scatterternary": [
           {
            "marker": {
             "colorbar": {
              "outlinewidth": 0,
              "ticks": ""
             }
            },
            "type": "scatterternary"
           }
          ],
          "surface": [
           {
            "colorbar": {
             "outlinewidth": 0,
             "ticks": ""
            },
            "colorscale": [
             [
              0,
              "#0d0887"
             ],
             [
              0.1111111111111111,
              "#46039f"
             ],
             [
              0.2222222222222222,
              "#7201a8"
             ],
             [
              0.3333333333333333,
              "#9c179e"
             ],
             [
              0.4444444444444444,
              "#bd3786"
             ],
             [
              0.5555555555555556,
              "#d8576b"
             ],
             [
              0.6666666666666666,
              "#ed7953"
             ],
             [
              0.7777777777777778,
              "#fb9f3a"
             ],
             [
              0.8888888888888888,
              "#fdca26"
             ],
             [
              1,
              "#f0f921"
             ]
            ],
            "type": "surface"
           }
          ],
          "table": [
           {
            "cells": {
             "fill": {
              "color": "#EBF0F8"
             },
             "line": {
              "color": "white"
             }
            },
            "header": {
             "fill": {
              "color": "#C8D4E3"
             },
             "line": {
              "color": "white"
             }
            },
            "type": "table"
           }
          ]
         },
         "layout": {
          "annotationdefaults": {
           "arrowcolor": "#2a3f5f",
           "arrowhead": 0,
           "arrowwidth": 1
          },
          "autotypenumbers": "strict",
          "coloraxis": {
           "colorbar": {
            "outlinewidth": 0,
            "ticks": ""
           }
          },
          "colorscale": {
           "diverging": [
            [
             0,
             "#8e0152"
            ],
            [
             0.1,
             "#c51b7d"
            ],
            [
             0.2,
             "#de77ae"
            ],
            [
             0.3,
             "#f1b6da"
            ],
            [
             0.4,
             "#fde0ef"
            ],
            [
             0.5,
             "#f7f7f7"
            ],
            [
             0.6,
             "#e6f5d0"
            ],
            [
             0.7,
             "#b8e186"
            ],
            [
             0.8,
             "#7fbc41"
            ],
            [
             0.9,
             "#4d9221"
            ],
            [
             1,
             "#276419"
            ]
           ],
           "sequential": [
            [
             0,
             "#0d0887"
            ],
            [
             0.1111111111111111,
             "#46039f"
            ],
            [
             0.2222222222222222,
             "#7201a8"
            ],
            [
             0.3333333333333333,
             "#9c179e"
            ],
            [
             0.4444444444444444,
             "#bd3786"
            ],
            [
             0.5555555555555556,
             "#d8576b"
            ],
            [
             0.6666666666666666,
             "#ed7953"
            ],
            [
             0.7777777777777778,
             "#fb9f3a"
            ],
            [
             0.8888888888888888,
             "#fdca26"
            ],
            [
             1,
             "#f0f921"
            ]
           ],
           "sequentialminus": [
            [
             0,
             "#0d0887"
            ],
            [
             0.1111111111111111,
             "#46039f"
            ],
            [
             0.2222222222222222,
             "#7201a8"
            ],
            [
             0.3333333333333333,
             "#9c179e"
            ],
            [
             0.4444444444444444,
             "#bd3786"
            ],
            [
             0.5555555555555556,
             "#d8576b"
            ],
            [
             0.6666666666666666,
             "#ed7953"
            ],
            [
             0.7777777777777778,
             "#fb9f3a"
            ],
            [
             0.8888888888888888,
             "#fdca26"
            ],
            [
             1,
             "#f0f921"
            ]
           ]
          },
          "colorway": [
           "#636efa",
           "#EF553B",
           "#00cc96",
           "#ab63fa",
           "#FFA15A",
           "#19d3f3",
           "#FF6692",
           "#B6E880",
           "#FF97FF",
           "#FECB52"
          ],
          "font": {
           "color": "#2a3f5f"
          },
          "geo": {
           "bgcolor": "white",
           "lakecolor": "white",
           "landcolor": "white",
           "showlakes": true,
           "showland": true,
           "subunitcolor": "#C8D4E3"
          },
          "hoverlabel": {
           "align": "left"
          },
          "hovermode": "closest",
          "mapbox": {
           "style": "light"
          },
          "paper_bgcolor": "white",
          "plot_bgcolor": "white",
          "polar": {
           "angularaxis": {
            "gridcolor": "#EBF0F8",
            "linecolor": "#EBF0F8",
            "ticks": ""
           },
           "bgcolor": "white",
           "radialaxis": {
            "gridcolor": "#EBF0F8",
            "linecolor": "#EBF0F8",
            "ticks": ""
           }
          },
          "scene": {
           "xaxis": {
            "backgroundcolor": "white",
            "gridcolor": "#DFE8F3",
            "gridwidth": 2,
            "linecolor": "#EBF0F8",
            "showbackground": true,
            "ticks": "",
            "zerolinecolor": "#EBF0F8"
           },
           "yaxis": {
            "backgroundcolor": "white",
            "gridcolor": "#DFE8F3",
            "gridwidth": 2,
            "linecolor": "#EBF0F8",
            "showbackground": true,
            "ticks": "",
            "zerolinecolor": "#EBF0F8"
           },
           "zaxis": {
            "backgroundcolor": "white",
            "gridcolor": "#DFE8F3",
            "gridwidth": 2,
            "linecolor": "#EBF0F8",
            "showbackground": true,
            "ticks": "",
            "zerolinecolor": "#EBF0F8"
           }
          },
          "shapedefaults": {
           "line": {
            "color": "#2a3f5f"
           }
          },
          "ternary": {
           "aaxis": {
            "gridcolor": "#DFE8F3",
            "linecolor": "#A2B1C6",
            "ticks": ""
           },
           "baxis": {
            "gridcolor": "#DFE8F3",
            "linecolor": "#A2B1C6",
            "ticks": ""
           },
           "bgcolor": "white",
           "caxis": {
            "gridcolor": "#DFE8F3",
            "linecolor": "#A2B1C6",
            "ticks": ""
           }
          },
          "title": {
           "x": 0.05
          },
          "xaxis": {
           "automargin": true,
           "gridcolor": "#EBF0F8",
           "linecolor": "#EBF0F8",
           "ticks": "",
           "title": {
            "standoff": 15
           },
           "zerolinecolor": "#EBF0F8",
           "zerolinewidth": 2
          },
          "yaxis": {
           "automargin": true,
           "gridcolor": "#EBF0F8",
           "linecolor": "#EBF0F8",
           "ticks": "",
           "title": {
            "standoff": 15
           },
           "zerolinecolor": "#EBF0F8",
           "zerolinewidth": 2
          }
         }
        },
        "title": {
         "font": {
          "color": "#2E2E2E",
          "size": 16
         },
         "text": "Model Performance on Document: S.N. v. RUSSIA<br><span style='font-size:14px'>Best Model: mistral:latest (F1: 0.075)</span>",
         "x": 0.5
        },
        "width": 800,
        "xaxis": {
         "range": [
          0,
          1
         ],
         "tickfont": {
          "size": 12
         },
         "title": {
          "text": "Score"
         }
        },
        "yaxis": {
         "tickfont": {
          "size": 12
         },
         "title": {
          "text": "Models"
         }
        }
       }
      }
     },
     "metadata": {},
     "output_type": "display_data"
    },
    {
     "data": {
      "application/vnd.plotly.v1+json": {
       "config": {
        "plotlyServerURL": "https://plot.ly"
       },
       "data": [
        {
         "marker": {
          "color": "#FF6B6B"
         },
         "name": "Precision",
         "offsetgroup": "0",
         "orientation": "h",
         "text": {
          "bdata": "AAAAAAAAAADhehSuR+G6PwAAAAAAAMA/Rrbz/dR40T+cxCCwcmjBPzeJQWDl0NI/0SLb+X5qzD8UrkfhehTOPw==",
          "dtype": "f8"
         },
         "textposition": "auto",
         "type": "bar",
         "width": 0.25,
         "x": {
          "bdata": "AAAAAAAAAAAor6G8hvK6PwAAAAAAAMA/dNFFF1100T8NJ3VfHlvBP9PS0tLS0tI/HMdxHMdxzD8eHh4eHh7OPw==",
          "dtype": "f8"
         },
         "y": [
          "gemma3:4b",
          "mistral:latest",
          "gemma3:4b",
          "gemma3:12b",
          "mistral:latest",
          "gemma3:1b",
          "gemma3:1b",
          "gemma3:12b"
         ]
        },
        {
         "marker": {
          "color": "#4ECDC4"
         },
         "name": "Recall",
         "offsetgroup": "1",
         "orientation": "h",
         "text": {
          "bdata": "AAAAAAAAAABKDAIrhxapP0oMAiuHFqk/46WbxCCwsj/2KFyPwvXIPwisHFpkO78/46WbxCCwwj+Nl24Sg8DSPw==",
          "dtype": "f8"
         },
         "textposition": "auto",
         "type": "bar",
         "width": 0.25,
         "x": {
          "bdata": "AAAAAAAAAAD6GJyPwfmoP/oYnI/B+ag/uxK1K1G7sj/6GJyPwfnIPzgfg/MxOL8/uxK1K1G7wj+7ErUrUbvSPw==",
          "dtype": "f8"
         },
         "y": [
          "gemma3:4b",
          "mistral:latest",
          "gemma3:4b",
          "gemma3:12b",
          "mistral:latest",
          "gemma3:1b",
          "gemma3:1b",
          "gemma3:12b"
         ]
        },
        {
         "marker": {
          "color": "#45B7D1"
         },
         "name": "F1-Score",
         "offsetgroup": "2",
         "orientation": "h",
         "text": {
          "bdata": "AAAAAAAAAAD0/dR46SaxP+xRuB6F67E/cT0K16NwvT97FK5H4XrEP2q8dJMYBMY/ukkMAiuHxj9OYhBYObTQPw==",
          "dtype": "f8"
         },
         "textposition": "auto",
         "type": "bar",
         "width": 0.25,
         "x": {
          "bdata": "AAAAAAAAAAARERERERGxP3EfwX0E97E/nNiJndiJvT97FK5H4XrEP3saYbmnEcY/lpaWlpaWxj8LWchCFrLQPw==",
          "dtype": "f8"
         },
         "y": [
          "gemma3:4b",
          "mistral:latest",
          "gemma3:4b",
          "gemma3:12b",
          "mistral:latest",
          "gemma3:1b",
          "gemma3:1b",
          "gemma3:12b"
         ]
        }
       ],
       "layout": {
        "barmode": "group",
        "height": 320,
        "legend": {
         "orientation": "h",
         "x": 1,
         "xanchor": "right",
         "y": 1.02,
         "yanchor": "bottom"
        },
        "showlegend": true,
        "template": {
         "data": {
          "bar": [
           {
            "error_x": {
             "color": "#2a3f5f"
            },
            "error_y": {
             "color": "#2a3f5f"
            },
            "marker": {
             "line": {
              "color": "white",
              "width": 0.5
             },
             "pattern": {
              "fillmode": "overlay",
              "size": 10,
              "solidity": 0.2
             }
            },
            "type": "bar"
           }
          ],
          "barpolar": [
           {
            "marker": {
             "line": {
              "color": "white",
              "width": 0.5
             },
             "pattern": {
              "fillmode": "overlay",
              "size": 10,
              "solidity": 0.2
             }
            },
            "type": "barpolar"
           }
          ],
          "carpet": [
           {
            "aaxis": {
             "endlinecolor": "#2a3f5f",
             "gridcolor": "#C8D4E3",
             "linecolor": "#C8D4E3",
             "minorgridcolor": "#C8D4E3",
             "startlinecolor": "#2a3f5f"
            },
            "baxis": {
             "endlinecolor": "#2a3f5f",
             "gridcolor": "#C8D4E3",
             "linecolor": "#C8D4E3",
             "minorgridcolor": "#C8D4E3",
             "startlinecolor": "#2a3f5f"
            },
            "type": "carpet"
           }
          ],
          "choropleth": [
           {
            "colorbar": {
             "outlinewidth": 0,
             "ticks": ""
            },
            "type": "choropleth"
           }
          ],
          "contour": [
           {
            "colorbar": {
             "outlinewidth": 0,
             "ticks": ""
            },
            "colorscale": [
             [
              0,
              "#0d0887"
             ],
             [
              0.1111111111111111,
              "#46039f"
             ],
             [
              0.2222222222222222,
              "#7201a8"
             ],
             [
              0.3333333333333333,
              "#9c179e"
             ],
             [
              0.4444444444444444,
              "#bd3786"
             ],
             [
              0.5555555555555556,
              "#d8576b"
             ],
             [
              0.6666666666666666,
              "#ed7953"
             ],
             [
              0.7777777777777778,
              "#fb9f3a"
             ],
             [
              0.8888888888888888,
              "#fdca26"
             ],
             [
              1,
              "#f0f921"
             ]
            ],
            "type": "contour"
           }
          ],
          "contourcarpet": [
           {
            "colorbar": {
             "outlinewidth": 0,
             "ticks": ""
            },
            "type": "contourcarpet"
           }
          ],
          "heatmap": [
           {
            "colorbar": {
             "outlinewidth": 0,
             "ticks": ""
            },
            "colorscale": [
             [
              0,
              "#0d0887"
             ],
             [
              0.1111111111111111,
              "#46039f"
             ],
             [
              0.2222222222222222,
              "#7201a8"
             ],
             [
              0.3333333333333333,
              "#9c179e"
             ],
             [
              0.4444444444444444,
              "#bd3786"
             ],
             [
              0.5555555555555556,
              "#d8576b"
             ],
             [
              0.6666666666666666,
              "#ed7953"
             ],
             [
              0.7777777777777778,
              "#fb9f3a"
             ],
             [
              0.8888888888888888,
              "#fdca26"
             ],
             [
              1,
              "#f0f921"
             ]
            ],
            "type": "heatmap"
           }
          ],
          "histogram": [
           {
            "marker": {
             "pattern": {
              "fillmode": "overlay",
              "size": 10,
              "solidity": 0.2
             }
            },
            "type": "histogram"
           }
          ],
          "histogram2d": [
           {
            "colorbar": {
             "outlinewidth": 0,
             "ticks": ""
            },
            "colorscale": [
             [
              0,
              "#0d0887"
             ],
             [
              0.1111111111111111,
              "#46039f"
             ],
             [
              0.2222222222222222,
              "#7201a8"
             ],
             [
              0.3333333333333333,
              "#9c179e"
             ],
             [
              0.4444444444444444,
              "#bd3786"
             ],
             [
              0.5555555555555556,
              "#d8576b"
             ],
             [
              0.6666666666666666,
              "#ed7953"
             ],
             [
              0.7777777777777778,
              "#fb9f3a"
             ],
             [
              0.8888888888888888,
              "#fdca26"
             ],
             [
              1,
              "#f0f921"
             ]
            ],
            "type": "histogram2d"
           }
          ],
          "histogram2dcontour": [
           {
            "colorbar": {
             "outlinewidth": 0,
             "ticks": ""
            },
            "colorscale": [
             [
              0,
              "#0d0887"
             ],
             [
              0.1111111111111111,
              "#46039f"
             ],
             [
              0.2222222222222222,
              "#7201a8"
             ],
             [
              0.3333333333333333,
              "#9c179e"
             ],
             [
              0.4444444444444444,
              "#bd3786"
             ],
             [
              0.5555555555555556,
              "#d8576b"
             ],
             [
              0.6666666666666666,
              "#ed7953"
             ],
             [
              0.7777777777777778,
              "#fb9f3a"
             ],
             [
              0.8888888888888888,
              "#fdca26"
             ],
             [
              1,
              "#f0f921"
             ]
            ],
            "type": "histogram2dcontour"
           }
          ],
          "mesh3d": [
           {
            "colorbar": {
             "outlinewidth": 0,
             "ticks": ""
            },
            "type": "mesh3d"
           }
          ],
          "parcoords": [
           {
            "line": {
             "colorbar": {
              "outlinewidth": 0,
              "ticks": ""
             }
            },
            "type": "parcoords"
           }
          ],
          "pie": [
           {
            "automargin": true,
            "type": "pie"
           }
          ],
          "scatter": [
           {
            "fillpattern": {
             "fillmode": "overlay",
             "size": 10,
             "solidity": 0.2
            },
            "type": "scatter"
           }
          ],
          "scatter3d": [
           {
            "line": {
             "colorbar": {
              "outlinewidth": 0,
              "ticks": ""
             }
            },
            "marker": {
             "colorbar": {
              "outlinewidth": 0,
              "ticks": ""
             }
            },
            "type": "scatter3d"
           }
          ],
          "scattercarpet": [
           {
            "marker": {
             "colorbar": {
              "outlinewidth": 0,
              "ticks": ""
             }
            },
            "type": "scattercarpet"
           }
          ],
          "scattergeo": [
           {
            "marker": {
             "colorbar": {
              "outlinewidth": 0,
              "ticks": ""
             }
            },
            "type": "scattergeo"
           }
          ],
          "scattergl": [
           {
            "marker": {
             "colorbar": {
              "outlinewidth": 0,
              "ticks": ""
             }
            },
            "type": "scattergl"
           }
          ],
          "scattermap": [
           {
            "marker": {
             "colorbar": {
              "outlinewidth": 0,
              "ticks": ""
             }
            },
            "type": "scattermap"
           }
          ],
          "scattermapbox": [
           {
            "marker": {
             "colorbar": {
              "outlinewidth": 0,
              "ticks": ""
             }
            },
            "type": "scattermapbox"
           }
          ],
          "scatterpolar": [
           {
            "marker": {
             "colorbar": {
              "outlinewidth": 0,
              "ticks": ""
             }
            },
            "type": "scatterpolar"
           }
          ],
          "scatterpolargl": [
           {
            "marker": {
             "colorbar": {
              "outlinewidth": 0,
              "ticks": ""
             }
            },
            "type": "scatterpolargl"
           }
          ],
          "scatterternary": [
           {
            "marker": {
             "colorbar": {
              "outlinewidth": 0,
              "ticks": ""
             }
            },
            "type": "scatterternary"
           }
          ],
          "surface": [
           {
            "colorbar": {
             "outlinewidth": 0,
             "ticks": ""
            },
            "colorscale": [
             [
              0,
              "#0d0887"
             ],
             [
              0.1111111111111111,
              "#46039f"
             ],
             [
              0.2222222222222222,
              "#7201a8"
             ],
             [
              0.3333333333333333,
              "#9c179e"
             ],
             [
              0.4444444444444444,
              "#bd3786"
             ],
             [
              0.5555555555555556,
              "#d8576b"
             ],
             [
              0.6666666666666666,
              "#ed7953"
             ],
             [
              0.7777777777777778,
              "#fb9f3a"
             ],
             [
              0.8888888888888888,
              "#fdca26"
             ],
             [
              1,
              "#f0f921"
             ]
            ],
            "type": "surface"
           }
          ],
          "table": [
           {
            "cells": {
             "fill": {
              "color": "#EBF0F8"
             },
             "line": {
              "color": "white"
             }
            },
            "header": {
             "fill": {
              "color": "#C8D4E3"
             },
             "line": {
              "color": "white"
             }
            },
            "type": "table"
           }
          ]
         },
         "layout": {
          "annotationdefaults": {
           "arrowcolor": "#2a3f5f",
           "arrowhead": 0,
           "arrowwidth": 1
          },
          "autotypenumbers": "strict",
          "coloraxis": {
           "colorbar": {
            "outlinewidth": 0,
            "ticks": ""
           }
          },
          "colorscale": {
           "diverging": [
            [
             0,
             "#8e0152"
            ],
            [
             0.1,
             "#c51b7d"
            ],
            [
             0.2,
             "#de77ae"
            ],
            [
             0.3,
             "#f1b6da"
            ],
            [
             0.4,
             "#fde0ef"
            ],
            [
             0.5,
             "#f7f7f7"
            ],
            [
             0.6,
             "#e6f5d0"
            ],
            [
             0.7,
             "#b8e186"
            ],
            [
             0.8,
             "#7fbc41"
            ],
            [
             0.9,
             "#4d9221"
            ],
            [
             1,
             "#276419"
            ]
           ],
           "sequential": [
            [
             0,
             "#0d0887"
            ],
            [
             0.1111111111111111,
             "#46039f"
            ],
            [
             0.2222222222222222,
             "#7201a8"
            ],
            [
             0.3333333333333333,
             "#9c179e"
            ],
            [
             0.4444444444444444,
             "#bd3786"
            ],
            [
             0.5555555555555556,
             "#d8576b"
            ],
            [
             0.6666666666666666,
             "#ed7953"
            ],
            [
             0.7777777777777778,
             "#fb9f3a"
            ],
            [
             0.8888888888888888,
             "#fdca26"
            ],
            [
             1,
             "#f0f921"
            ]
           ],
           "sequentialminus": [
            [
             0,
             "#0d0887"
            ],
            [
             0.1111111111111111,
             "#46039f"
            ],
            [
             0.2222222222222222,
             "#7201a8"
            ],
            [
             0.3333333333333333,
             "#9c179e"
            ],
            [
             0.4444444444444444,
             "#bd3786"
            ],
            [
             0.5555555555555556,
             "#d8576b"
            ],
            [
             0.6666666666666666,
             "#ed7953"
            ],
            [
             0.7777777777777778,
             "#fb9f3a"
            ],
            [
             0.8888888888888888,
             "#fdca26"
            ],
            [
             1,
             "#f0f921"
            ]
           ]
          },
          "colorway": [
           "#636efa",
           "#EF553B",
           "#00cc96",
           "#ab63fa",
           "#FFA15A",
           "#19d3f3",
           "#FF6692",
           "#B6E880",
           "#FF97FF",
           "#FECB52"
          ],
          "font": {
           "color": "#2a3f5f"
          },
          "geo": {
           "bgcolor": "white",
           "lakecolor": "white",
           "landcolor": "white",
           "showlakes": true,
           "showland": true,
           "subunitcolor": "#C8D4E3"
          },
          "hoverlabel": {
           "align": "left"
          },
          "hovermode": "closest",
          "mapbox": {
           "style": "light"
          },
          "paper_bgcolor": "white",
          "plot_bgcolor": "white",
          "polar": {
           "angularaxis": {
            "gridcolor": "#EBF0F8",
            "linecolor": "#EBF0F8",
            "ticks": ""
           },
           "bgcolor": "white",
           "radialaxis": {
            "gridcolor": "#EBF0F8",
            "linecolor": "#EBF0F8",
            "ticks": ""
           }
          },
          "scene": {
           "xaxis": {
            "backgroundcolor": "white",
            "gridcolor": "#DFE8F3",
            "gridwidth": 2,
            "linecolor": "#EBF0F8",
            "showbackground": true,
            "ticks": "",
            "zerolinecolor": "#EBF0F8"
           },
           "yaxis": {
            "backgroundcolor": "white",
            "gridcolor": "#DFE8F3",
            "gridwidth": 2,
            "linecolor": "#EBF0F8",
            "showbackground": true,
            "ticks": "",
            "zerolinecolor": "#EBF0F8"
           },
           "zaxis": {
            "backgroundcolor": "white",
            "gridcolor": "#DFE8F3",
            "gridwidth": 2,
            "linecolor": "#EBF0F8",
            "showbackground": true,
            "ticks": "",
            "zerolinecolor": "#EBF0F8"
           }
          },
          "shapedefaults": {
           "line": {
            "color": "#2a3f5f"
           }
          },
          "ternary": {
           "aaxis": {
            "gridcolor": "#DFE8F3",
            "linecolor": "#A2B1C6",
            "ticks": ""
           },
           "baxis": {
            "gridcolor": "#DFE8F3",
            "linecolor": "#A2B1C6",
            "ticks": ""
           },
           "bgcolor": "white",
           "caxis": {
            "gridcolor": "#DFE8F3",
            "linecolor": "#A2B1C6",
            "ticks": ""
           }
          },
          "title": {
           "x": 0.05
          },
          "xaxis": {
           "automargin": true,
           "gridcolor": "#EBF0F8",
           "linecolor": "#EBF0F8",
           "ticks": "",
           "title": {
            "standoff": 15
           },
           "zerolinecolor": "#EBF0F8",
           "zerolinewidth": 2
          },
          "yaxis": {
           "automargin": true,
           "gridcolor": "#EBF0F8",
           "linecolor": "#EBF0F8",
           "ticks": "",
           "title": {
            "standoff": 15
           },
           "zerolinecolor": "#EBF0F8",
           "zerolinewidth": 2
          }
         }
        },
        "title": {
         "font": {
          "color": "#2E2E2E",
          "size": 16
         },
         "text": "Model Performance on Document: BELYAYEV AND OTHERS v. UKRAINE<br><span style='font-size:14px'>Best Model: gemma3:12b (F1: 0.261)</span>",
         "x": 0.5
        },
        "width": 800,
        "xaxis": {
         "range": [
          0,
          1
         ],
         "tickfont": {
          "size": 12
         },
         "title": {
          "text": "Score"
         }
        },
        "yaxis": {
         "tickfont": {
          "size": 12
         },
         "title": {
          "text": "Models"
         }
        }
       }
      }
     },
     "metadata": {},
     "output_type": "display_data"
    },
    {
     "data": {
      "application/vnd.plotly.v1+json": {
       "config": {
        "plotlyServerURL": "https://plot.ly"
       },
       "data": [
        {
         "marker": {
          "color": "#FF6B6B"
         },
         "name": "Precision",
         "offsetgroup": "0",
         "orientation": "h",
         "text": {
          "bdata": "AAAAAAAAAACDwMqhRbazP8dLN4lBYMU/g8DKoUW2wz+yne+nxkvHP1pkO99Pjcc/+FPjpZvE5D9Ei2zn+6nhPw==",
          "dtype": "f8"
         },
         "textposition": "auto",
         "type": "bar",
         "width": 0.25,
         "x": {
          "bdata": "AAAAAAAAAAAUO7ETO7GzP1VVVVVVVcU/FDuxEzuxwz9GF1100UXHP+HlFLycgsc/HEyRz7rB5D+WexphuafhPw==",
          "dtype": "f8"
         },
         "y": [
          "gemma3:4b",
          "mistral:latest",
          "gemma3:1b",
          "gemma3:1b",
          "gemma3:4b",
          "mistral:latest",
          "gemma3:12b",
          "gemma3:12b"
         ]
        },
        {
         "marker": {
          "color": "#4ECDC4"
         },
         "name": "Recall",
         "offsetgroup": "1",
         "orientation": "h",
         "text": {
          "bdata": "AAAAAAAAAADb+X5qvHSTP9v5fmq8dJM/i2zn+6nxoj+LbOf7qfGiP8dLN4lBYMU/0SLb+X5q3D9g5dAi2/niPw==",
          "dtype": "f8"
         },
         "textposition": "auto",
         "type": "bar",
         "width": 0.25,
         "x": {
          "bdata": "AAAAAAAAAABoL6G9hPaSP2gvob2E9pI/aC+hvYT2oj9oL6G9hPaiP1VVVVVVVcU/HMdxHMdx3D9oL6G9hPbiPw==",
          "dtype": "f8"
         },
         "y": [
          "gemma3:4b",
          "mistral:latest",
          "gemma3:1b",
          "gemma3:1b",
          "gemma3:4b",
          "mistral:latest",
          "gemma3:12b",
          "gemma3:12b"
         ]
        },
        {
         "marker": {
          "color": "#45B7D1"
         },
         "name": "F1-Score",
         "offsetgroup": "2",
         "orientation": "h",
         "text": {
          "bdata": "AAAAAAAAAAC4HoXrUbieP0w3iUFg5aA/uB6F61G4rj9YObTIdr6vP2ZmZmZmZsY/d76fGi/d4D8Sg8DKoUXiPw==",
          "dtype": "f8"
         },
         "textposition": "auto",
         "type": "bar",
         "width": 0.25,
         "x": {
          "bdata": "AAAAAAAAAABnt/CrMZGePxEREREREaE/Z7fwqzGRrj8f+IEf+IGvPyM+gVRyXsY/EQ7hEA7h4D+SJEmSJEniPw==",
          "dtype": "f8"
         },
         "y": [
          "gemma3:4b",
          "mistral:latest",
          "gemma3:1b",
          "gemma3:1b",
          "gemma3:4b",
          "mistral:latest",
          "gemma3:12b",
          "gemma3:12b"
         ]
        }
       ],
       "layout": {
        "barmode": "group",
        "height": 320,
        "legend": {
         "orientation": "h",
         "x": 1,
         "xanchor": "right",
         "y": 1.02,
         "yanchor": "bottom"
        },
        "showlegend": true,
        "template": {
         "data": {
          "bar": [
           {
            "error_x": {
             "color": "#2a3f5f"
            },
            "error_y": {
             "color": "#2a3f5f"
            },
            "marker": {
             "line": {
              "color": "white",
              "width": 0.5
             },
             "pattern": {
              "fillmode": "overlay",
              "size": 10,
              "solidity": 0.2
             }
            },
            "type": "bar"
           }
          ],
          "barpolar": [
           {
            "marker": {
             "line": {
              "color": "white",
              "width": 0.5
             },
             "pattern": {
              "fillmode": "overlay",
              "size": 10,
              "solidity": 0.2
             }
            },
            "type": "barpolar"
           }
          ],
          "carpet": [
           {
            "aaxis": {
             "endlinecolor": "#2a3f5f",
             "gridcolor": "#C8D4E3",
             "linecolor": "#C8D4E3",
             "minorgridcolor": "#C8D4E3",
             "startlinecolor": "#2a3f5f"
            },
            "baxis": {
             "endlinecolor": "#2a3f5f",
             "gridcolor": "#C8D4E3",
             "linecolor": "#C8D4E3",
             "minorgridcolor": "#C8D4E3",
             "startlinecolor": "#2a3f5f"
            },
            "type": "carpet"
           }
          ],
          "choropleth": [
           {
            "colorbar": {
             "outlinewidth": 0,
             "ticks": ""
            },
            "type": "choropleth"
           }
          ],
          "contour": [
           {
            "colorbar": {
             "outlinewidth": 0,
             "ticks": ""
            },
            "colorscale": [
             [
              0,
              "#0d0887"
             ],
             [
              0.1111111111111111,
              "#46039f"
             ],
             [
              0.2222222222222222,
              "#7201a8"
             ],
             [
              0.3333333333333333,
              "#9c179e"
             ],
             [
              0.4444444444444444,
              "#bd3786"
             ],
             [
              0.5555555555555556,
              "#d8576b"
             ],
             [
              0.6666666666666666,
              "#ed7953"
             ],
             [
              0.7777777777777778,
              "#fb9f3a"
             ],
             [
              0.8888888888888888,
              "#fdca26"
             ],
             [
              1,
              "#f0f921"
             ]
            ],
            "type": "contour"
           }
          ],
          "contourcarpet": [
           {
            "colorbar": {
             "outlinewidth": 0,
             "ticks": ""
            },
            "type": "contourcarpet"
           }
          ],
          "heatmap": [
           {
            "colorbar": {
             "outlinewidth": 0,
             "ticks": ""
            },
            "colorscale": [
             [
              0,
              "#0d0887"
             ],
             [
              0.1111111111111111,
              "#46039f"
             ],
             [
              0.2222222222222222,
              "#7201a8"
             ],
             [
              0.3333333333333333,
              "#9c179e"
             ],
             [
              0.4444444444444444,
              "#bd3786"
             ],
             [
              0.5555555555555556,
              "#d8576b"
             ],
             [
              0.6666666666666666,
              "#ed7953"
             ],
             [
              0.7777777777777778,
              "#fb9f3a"
             ],
             [
              0.8888888888888888,
              "#fdca26"
             ],
             [
              1,
              "#f0f921"
             ]
            ],
            "type": "heatmap"
           }
          ],
          "histogram": [
           {
            "marker": {
             "pattern": {
              "fillmode": "overlay",
              "size": 10,
              "solidity": 0.2
             }
            },
            "type": "histogram"
           }
          ],
          "histogram2d": [
           {
            "colorbar": {
             "outlinewidth": 0,
             "ticks": ""
            },
            "colorscale": [
             [
              0,
              "#0d0887"
             ],
             [
              0.1111111111111111,
              "#46039f"
             ],
             [
              0.2222222222222222,
              "#7201a8"
             ],
             [
              0.3333333333333333,
              "#9c179e"
             ],
             [
              0.4444444444444444,
              "#bd3786"
             ],
             [
              0.5555555555555556,
              "#d8576b"
             ],
             [
              0.6666666666666666,
              "#ed7953"
             ],
             [
              0.7777777777777778,
              "#fb9f3a"
             ],
             [
              0.8888888888888888,
              "#fdca26"
             ],
             [
              1,
              "#f0f921"
             ]
            ],
            "type": "histogram2d"
           }
          ],
          "histogram2dcontour": [
           {
            "colorbar": {
             "outlinewidth": 0,
             "ticks": ""
            },
            "colorscale": [
             [
              0,
              "#0d0887"
             ],
             [
              0.1111111111111111,
              "#46039f"
             ],
             [
              0.2222222222222222,
              "#7201a8"
             ],
             [
              0.3333333333333333,
              "#9c179e"
             ],
             [
              0.4444444444444444,
              "#bd3786"
             ],
             [
              0.5555555555555556,
              "#d8576b"
             ],
             [
              0.6666666666666666,
              "#ed7953"
             ],
             [
              0.7777777777777778,
              "#fb9f3a"
             ],
             [
              0.8888888888888888,
              "#fdca26"
             ],
             [
              1,
              "#f0f921"
             ]
            ],
            "type": "histogram2dcontour"
           }
          ],
          "mesh3d": [
           {
            "colorbar": {
             "outlinewidth": 0,
             "ticks": ""
            },
            "type": "mesh3d"
           }
          ],
          "parcoords": [
           {
            "line": {
             "colorbar": {
              "outlinewidth": 0,
              "ticks": ""
             }
            },
            "type": "parcoords"
           }
          ],
          "pie": [
           {
            "automargin": true,
            "type": "pie"
           }
          ],
          "scatter": [
           {
            "fillpattern": {
             "fillmode": "overlay",
             "size": 10,
             "solidity": 0.2
            },
            "type": "scatter"
           }
          ],
          "scatter3d": [
           {
            "line": {
             "colorbar": {
              "outlinewidth": 0,
              "ticks": ""
             }
            },
            "marker": {
             "colorbar": {
              "outlinewidth": 0,
              "ticks": ""
             }
            },
            "type": "scatter3d"
           }
          ],
          "scattercarpet": [
           {
            "marker": {
             "colorbar": {
              "outlinewidth": 0,
              "ticks": ""
             }
            },
            "type": "scattercarpet"
           }
          ],
          "scattergeo": [
           {
            "marker": {
             "colorbar": {
              "outlinewidth": 0,
              "ticks": ""
             }
            },
            "type": "scattergeo"
           }
          ],
          "scattergl": [
           {
            "marker": {
             "colorbar": {
              "outlinewidth": 0,
              "ticks": ""
             }
            },
            "type": "scattergl"
           }
          ],
          "scattermap": [
           {
            "marker": {
             "colorbar": {
              "outlinewidth": 0,
              "ticks": ""
             }
            },
            "type": "scattermap"
           }
          ],
          "scattermapbox": [
           {
            "marker": {
             "colorbar": {
              "outlinewidth": 0,
              "ticks": ""
             }
            },
            "type": "scattermapbox"
           }
          ],
          "scatterpolar": [
           {
            "marker": {
             "colorbar": {
              "outlinewidth": 0,
              "ticks": ""
             }
            },
            "type": "scatterpolar"
           }
          ],
          "scatterpolargl": [
           {
            "marker": {
             "colorbar": {
              "outlinewidth": 0,
              "ticks": ""
             }
            },
            "type": "scatterpolargl"
           }
          ],
          "scatterternary": [
           {
            "marker": {
             "colorbar": {
              "outlinewidth": 0,
              "ticks": ""
             }
            },
            "type": "scatterternary"
           }
          ],
          "surface": [
           {
            "colorbar": {
             "outlinewidth": 0,
             "ticks": ""
            },
            "colorscale": [
             [
              0,
              "#0d0887"
             ],
             [
              0.1111111111111111,
              "#46039f"
             ],
             [
              0.2222222222222222,
              "#7201a8"
             ],
             [
              0.3333333333333333,
              "#9c179e"
             ],
             [
              0.4444444444444444,
              "#bd3786"
             ],
             [
              0.5555555555555556,
              "#d8576b"
             ],
             [
              0.6666666666666666,
              "#ed7953"
             ],
             [
              0.7777777777777778,
              "#fb9f3a"
             ],
             [
              0.8888888888888888,
              "#fdca26"
             ],
             [
              1,
              "#f0f921"
             ]
            ],
            "type": "surface"
           }
          ],
          "table": [
           {
            "cells": {
             "fill": {
              "color": "#EBF0F8"
             },
             "line": {
              "color": "white"
             }
            },
            "header": {
             "fill": {
              "color": "#C8D4E3"
             },
             "line": {
              "color": "white"
             }
            },
            "type": "table"
           }
          ]
         },
         "layout": {
          "annotationdefaults": {
           "arrowcolor": "#2a3f5f",
           "arrowhead": 0,
           "arrowwidth": 1
          },
          "autotypenumbers": "strict",
          "coloraxis": {
           "colorbar": {
            "outlinewidth": 0,
            "ticks": ""
           }
          },
          "colorscale": {
           "diverging": [
            [
             0,
             "#8e0152"
            ],
            [
             0.1,
             "#c51b7d"
            ],
            [
             0.2,
             "#de77ae"
            ],
            [
             0.3,
             "#f1b6da"
            ],
            [
             0.4,
             "#fde0ef"
            ],
            [
             0.5,
             "#f7f7f7"
            ],
            [
             0.6,
             "#e6f5d0"
            ],
            [
             0.7,
             "#b8e186"
            ],
            [
             0.8,
             "#7fbc41"
            ],
            [
             0.9,
             "#4d9221"
            ],
            [
             1,
             "#276419"
            ]
           ],
           "sequential": [
            [
             0,
             "#0d0887"
            ],
            [
             0.1111111111111111,
             "#46039f"
            ],
            [
             0.2222222222222222,
             "#7201a8"
            ],
            [
             0.3333333333333333,
             "#9c179e"
            ],
            [
             0.4444444444444444,
             "#bd3786"
            ],
            [
             0.5555555555555556,
             "#d8576b"
            ],
            [
             0.6666666666666666,
             "#ed7953"
            ],
            [
             0.7777777777777778,
             "#fb9f3a"
            ],
            [
             0.8888888888888888,
             "#fdca26"
            ],
            [
             1,
             "#f0f921"
            ]
           ],
           "sequentialminus": [
            [
             0,
             "#0d0887"
            ],
            [
             0.1111111111111111,
             "#46039f"
            ],
            [
             0.2222222222222222,
             "#7201a8"
            ],
            [
             0.3333333333333333,
             "#9c179e"
            ],
            [
             0.4444444444444444,
             "#bd3786"
            ],
            [
             0.5555555555555556,
             "#d8576b"
            ],
            [
             0.6666666666666666,
             "#ed7953"
            ],
            [
             0.7777777777777778,
             "#fb9f3a"
            ],
            [
             0.8888888888888888,
             "#fdca26"
            ],
            [
             1,
             "#f0f921"
            ]
           ]
          },
          "colorway": [
           "#636efa",
           "#EF553B",
           "#00cc96",
           "#ab63fa",
           "#FFA15A",
           "#19d3f3",
           "#FF6692",
           "#B6E880",
           "#FF97FF",
           "#FECB52"
          ],
          "font": {
           "color": "#2a3f5f"
          },
          "geo": {
           "bgcolor": "white",
           "lakecolor": "white",
           "landcolor": "white",
           "showlakes": true,
           "showland": true,
           "subunitcolor": "#C8D4E3"
          },
          "hoverlabel": {
           "align": "left"
          },
          "hovermode": "closest",
          "mapbox": {
           "style": "light"
          },
          "paper_bgcolor": "white",
          "plot_bgcolor": "white",
          "polar": {
           "angularaxis": {
            "gridcolor": "#EBF0F8",
            "linecolor": "#EBF0F8",
            "ticks": ""
           },
           "bgcolor": "white",
           "radialaxis": {
            "gridcolor": "#EBF0F8",
            "linecolor": "#EBF0F8",
            "ticks": ""
           }
          },
          "scene": {
           "xaxis": {
            "backgroundcolor": "white",
            "gridcolor": "#DFE8F3",
            "gridwidth": 2,
            "linecolor": "#EBF0F8",
            "showbackground": true,
            "ticks": "",
            "zerolinecolor": "#EBF0F8"
           },
           "yaxis": {
            "backgroundcolor": "white",
            "gridcolor": "#DFE8F3",
            "gridwidth": 2,
            "linecolor": "#EBF0F8",
            "showbackground": true,
            "ticks": "",
            "zerolinecolor": "#EBF0F8"
           },
           "zaxis": {
            "backgroundcolor": "white",
            "gridcolor": "#DFE8F3",
            "gridwidth": 2,
            "linecolor": "#EBF0F8",
            "showbackground": true,
            "ticks": "",
            "zerolinecolor": "#EBF0F8"
           }
          },
          "shapedefaults": {
           "line": {
            "color": "#2a3f5f"
           }
          },
          "ternary": {
           "aaxis": {
            "gridcolor": "#DFE8F3",
            "linecolor": "#A2B1C6",
            "ticks": ""
           },
           "baxis": {
            "gridcolor": "#DFE8F3",
            "linecolor": "#A2B1C6",
            "ticks": ""
           },
           "bgcolor": "white",
           "caxis": {
            "gridcolor": "#DFE8F3",
            "linecolor": "#A2B1C6",
            "ticks": ""
           }
          },
          "title": {
           "x": 0.05
          },
          "xaxis": {
           "automargin": true,
           "gridcolor": "#EBF0F8",
           "linecolor": "#EBF0F8",
           "ticks": "",
           "title": {
            "standoff": 15
           },
           "zerolinecolor": "#EBF0F8",
           "zerolinewidth": 2
          },
          "yaxis": {
           "automargin": true,
           "gridcolor": "#EBF0F8",
           "linecolor": "#EBF0F8",
           "ticks": "",
           "title": {
            "standoff": 15
           },
           "zerolinecolor": "#EBF0F8",
           "zerolinewidth": 2
          }
         }
        },
        "title": {
         "font": {
          "color": "#2E2E2E",
          "size": 16
         },
         "text": "Model Performance on Document: SIDOROVA v. RUSSIA<br><span style='font-size:14px'>Best Model: gemma3:12b (F1: 0.571)</span>",
         "x": 0.5
        },
        "width": 800,
        "xaxis": {
         "range": [
          0,
          1
         ],
         "tickfont": {
          "size": 12
         },
         "title": {
          "text": "Score"
         }
        },
        "yaxis": {
         "tickfont": {
          "size": 12
         },
         "title": {
          "text": "Models"
         }
        }
       }
      }
     },
     "metadata": {},
     "output_type": "display_data"
    },
    {
     "data": {
      "application/vnd.plotly.v1+json": {
       "config": {
        "plotlyServerURL": "https://plot.ly"
       },
       "data": [
        {
         "marker": {
          "color": "#FF6B6B"
         },
         "name": "Precision",
         "offsetgroup": "0",
         "orientation": "h",
         "text": {
          "bdata": "AAAAAAAAAAAAAAAAAAAAAMdLN4lBYMU/ukkMAiuHtj8AAAAAAADgPxBYObTIduI/KVyPwvUo1D8X2c73U+PhPw==",
          "dtype": "f8"
         },
         "textposition": "auto",
         "type": "bar",
         "width": 0.25,
         "x": {
          "bdata": "AAAAAAAAAAAAAAAAAAAAAFVVVVVVVcU/l5aWlpaWtj8AAAAAAADgP2IndmInduI/QhGKUIQi1D/i4eHh4eHhPw==",
          "dtype": "f8"
         },
         "y": [
          "gemma3:1b",
          "gemma3:1b",
          "mistral:latest",
          "gemma3:4b",
          "gemma3:4b",
          "gemma3:12b",
          "mistral:latest",
          "gemma3:12b"
         ]
        },
        {
         "marker": {
          "color": "#4ECDC4"
         },
         "name": "Recall",
         "offsetgroup": "1",
         "orientation": "h",
         "text": {
          "bdata": "AAAAAAAAAAAAAAAAAAAAADvfT42XbpI/KVyPwvUorD+oxks3iUHAP0a28/3UeNE/fT81XrpJ4D8UrkfhehTWPw==",
          "dtype": "f8"
         },
         "textposition": "auto",
         "type": "bar",
         "width": 0.25,
         "x": {
          "bdata": "AAAAAAAAAAAAAAAAAAAAAJ4S5ClBnpI/7RvWvmHtqz9KkKcEeUrAP3TRRRdddNE/SpCnBHlK4D8c1r5h7RvWPw==",
          "dtype": "f8"
         },
         "y": [
          "gemma3:1b",
          "gemma3:1b",
          "mistral:latest",
          "gemma3:4b",
          "gemma3:4b",
          "gemma3:12b",
          "mistral:latest",
          "gemma3:12b"
         ]
        },
        {
         "marker": {
          "color": "#45B7D1"
         },
         "name": "F1-Score",
         "offsetgroup": "2",
         "orientation": "h",
         "text": {
          "bdata": "AAAAAAAAAAAAAAAAAAAAAEw3iUFg5aA/9P3UeOkmsT+WQ4ts5/vJP65H4XoUrtc/TDeJQWDl2D+HFtnO91PbPw==",
          "dtype": "f8"
         },
         "textposition": "auto",
         "type": "bar",
         "width": 0.25,
         "x": {
          "bdata": "AAAAAAAAAAAAAAAAAAAAADravE9xyaA/FKEIRShCsT+gUeJnlPjJP0J7Ce0ltNc/OY7jOI7j2D+1qU1talPbPw==",
          "dtype": "f8"
         },
         "y": [
          "gemma3:1b",
          "gemma3:1b",
          "mistral:latest",
          "gemma3:4b",
          "gemma3:4b",
          "gemma3:12b",
          "mistral:latest",
          "gemma3:12b"
         ]
        }
       ],
       "layout": {
        "barmode": "group",
        "height": 320,
        "legend": {
         "orientation": "h",
         "x": 1,
         "xanchor": "right",
         "y": 1.02,
         "yanchor": "bottom"
        },
        "showlegend": true,
        "template": {
         "data": {
          "bar": [
           {
            "error_x": {
             "color": "#2a3f5f"
            },
            "error_y": {
             "color": "#2a3f5f"
            },
            "marker": {
             "line": {
              "color": "white",
              "width": 0.5
             },
             "pattern": {
              "fillmode": "overlay",
              "size": 10,
              "solidity": 0.2
             }
            },
            "type": "bar"
           }
          ],
          "barpolar": [
           {
            "marker": {
             "line": {
              "color": "white",
              "width": 0.5
             },
             "pattern": {
              "fillmode": "overlay",
              "size": 10,
              "solidity": 0.2
             }
            },
            "type": "barpolar"
           }
          ],
          "carpet": [
           {
            "aaxis": {
             "endlinecolor": "#2a3f5f",
             "gridcolor": "#C8D4E3",
             "linecolor": "#C8D4E3",
             "minorgridcolor": "#C8D4E3",
             "startlinecolor": "#2a3f5f"
            },
            "baxis": {
             "endlinecolor": "#2a3f5f",
             "gridcolor": "#C8D4E3",
             "linecolor": "#C8D4E3",
             "minorgridcolor": "#C8D4E3",
             "startlinecolor": "#2a3f5f"
            },
            "type": "carpet"
           }
          ],
          "choropleth": [
           {
            "colorbar": {
             "outlinewidth": 0,
             "ticks": ""
            },
            "type": "choropleth"
           }
          ],
          "contour": [
           {
            "colorbar": {
             "outlinewidth": 0,
             "ticks": ""
            },
            "colorscale": [
             [
              0,
              "#0d0887"
             ],
             [
              0.1111111111111111,
              "#46039f"
             ],
             [
              0.2222222222222222,
              "#7201a8"
             ],
             [
              0.3333333333333333,
              "#9c179e"
             ],
             [
              0.4444444444444444,
              "#bd3786"
             ],
             [
              0.5555555555555556,
              "#d8576b"
             ],
             [
              0.6666666666666666,
              "#ed7953"
             ],
             [
              0.7777777777777778,
              "#fb9f3a"
             ],
             [
              0.8888888888888888,
              "#fdca26"
             ],
             [
              1,
              "#f0f921"
             ]
            ],
            "type": "contour"
           }
          ],
          "contourcarpet": [
           {
            "colorbar": {
             "outlinewidth": 0,
             "ticks": ""
            },
            "type": "contourcarpet"
           }
          ],
          "heatmap": [
           {
            "colorbar": {
             "outlinewidth": 0,
             "ticks": ""
            },
            "colorscale": [
             [
              0,
              "#0d0887"
             ],
             [
              0.1111111111111111,
              "#46039f"
             ],
             [
              0.2222222222222222,
              "#7201a8"
             ],
             [
              0.3333333333333333,
              "#9c179e"
             ],
             [
              0.4444444444444444,
              "#bd3786"
             ],
             [
              0.5555555555555556,
              "#d8576b"
             ],
             [
              0.6666666666666666,
              "#ed7953"
             ],
             [
              0.7777777777777778,
              "#fb9f3a"
             ],
             [
              0.8888888888888888,
              "#fdca26"
             ],
             [
              1,
              "#f0f921"
             ]
            ],
            "type": "heatmap"
           }
          ],
          "histogram": [
           {
            "marker": {
             "pattern": {
              "fillmode": "overlay",
              "size": 10,
              "solidity": 0.2
             }
            },
            "type": "histogram"
           }
          ],
          "histogram2d": [
           {
            "colorbar": {
             "outlinewidth": 0,
             "ticks": ""
            },
            "colorscale": [
             [
              0,
              "#0d0887"
             ],
             [
              0.1111111111111111,
              "#46039f"
             ],
             [
              0.2222222222222222,
              "#7201a8"
             ],
             [
              0.3333333333333333,
              "#9c179e"
             ],
             [
              0.4444444444444444,
              "#bd3786"
             ],
             [
              0.5555555555555556,
              "#d8576b"
             ],
             [
              0.6666666666666666,
              "#ed7953"
             ],
             [
              0.7777777777777778,
              "#fb9f3a"
             ],
             [
              0.8888888888888888,
              "#fdca26"
             ],
             [
              1,
              "#f0f921"
             ]
            ],
            "type": "histogram2d"
           }
          ],
          "histogram2dcontour": [
           {
            "colorbar": {
             "outlinewidth": 0,
             "ticks": ""
            },
            "colorscale": [
             [
              0,
              "#0d0887"
             ],
             [
              0.1111111111111111,
              "#46039f"
             ],
             [
              0.2222222222222222,
              "#7201a8"
             ],
             [
              0.3333333333333333,
              "#9c179e"
             ],
             [
              0.4444444444444444,
              "#bd3786"
             ],
             [
              0.5555555555555556,
              "#d8576b"
             ],
             [
              0.6666666666666666,
              "#ed7953"
             ],
             [
              0.7777777777777778,
              "#fb9f3a"
             ],
             [
              0.8888888888888888,
              "#fdca26"
             ],
             [
              1,
              "#f0f921"
             ]
            ],
            "type": "histogram2dcontour"
           }
          ],
          "mesh3d": [
           {
            "colorbar": {
             "outlinewidth": 0,
             "ticks": ""
            },
            "type": "mesh3d"
           }
          ],
          "parcoords": [
           {
            "line": {
             "colorbar": {
              "outlinewidth": 0,
              "ticks": ""
             }
            },
            "type": "parcoords"
           }
          ],
          "pie": [
           {
            "automargin": true,
            "type": "pie"
           }
          ],
          "scatter": [
           {
            "fillpattern": {
             "fillmode": "overlay",
             "size": 10,
             "solidity": 0.2
            },
            "type": "scatter"
           }
          ],
          "scatter3d": [
           {
            "line": {
             "colorbar": {
              "outlinewidth": 0,
              "ticks": ""
             }
            },
            "marker": {
             "colorbar": {
              "outlinewidth": 0,
              "ticks": ""
             }
            },
            "type": "scatter3d"
           }
          ],
          "scattercarpet": [
           {
            "marker": {
             "colorbar": {
              "outlinewidth": 0,
              "ticks": ""
             }
            },
            "type": "scattercarpet"
           }
          ],
          "scattergeo": [
           {
            "marker": {
             "colorbar": {
              "outlinewidth": 0,
              "ticks": ""
             }
            },
            "type": "scattergeo"
           }
          ],
          "scattergl": [
           {
            "marker": {
             "colorbar": {
              "outlinewidth": 0,
              "ticks": ""
             }
            },
            "type": "scattergl"
           }
          ],
          "scattermap": [
           {
            "marker": {
             "colorbar": {
              "outlinewidth": 0,
              "ticks": ""
             }
            },
            "type": "scattermap"
           }
          ],
          "scattermapbox": [
           {
            "marker": {
             "colorbar": {
              "outlinewidth": 0,
              "ticks": ""
             }
            },
            "type": "scattermapbox"
           }
          ],
          "scatterpolar": [
           {
            "marker": {
             "colorbar": {
              "outlinewidth": 0,
              "ticks": ""
             }
            },
            "type": "scatterpolar"
           }
          ],
          "scatterpolargl": [
           {
            "marker": {
             "colorbar": {
              "outlinewidth": 0,
              "ticks": ""
             }
            },
            "type": "scatterpolargl"
           }
          ],
          "scatterternary": [
           {
            "marker": {
             "colorbar": {
              "outlinewidth": 0,
              "ticks": ""
             }
            },
            "type": "scatterternary"
           }
          ],
          "surface": [
           {
            "colorbar": {
             "outlinewidth": 0,
             "ticks": ""
            },
            "colorscale": [
             [
              0,
              "#0d0887"
             ],
             [
              0.1111111111111111,
              "#46039f"
             ],
             [
              0.2222222222222222,
              "#7201a8"
             ],
             [
              0.3333333333333333,
              "#9c179e"
             ],
             [
              0.4444444444444444,
              "#bd3786"
             ],
             [
              0.5555555555555556,
              "#d8576b"
             ],
             [
              0.6666666666666666,
              "#ed7953"
             ],
             [
              0.7777777777777778,
              "#fb9f3a"
             ],
             [
              0.8888888888888888,
              "#fdca26"
             ],
             [
              1,
              "#f0f921"
             ]
            ],
            "type": "surface"
           }
          ],
          "table": [
           {
            "cells": {
             "fill": {
              "color": "#EBF0F8"
             },
             "line": {
              "color": "white"
             }
            },
            "header": {
             "fill": {
              "color": "#C8D4E3"
             },
             "line": {
              "color": "white"
             }
            },
            "type": "table"
           }
          ]
         },
         "layout": {
          "annotationdefaults": {
           "arrowcolor": "#2a3f5f",
           "arrowhead": 0,
           "arrowwidth": 1
          },
          "autotypenumbers": "strict",
          "coloraxis": {
           "colorbar": {
            "outlinewidth": 0,
            "ticks": ""
           }
          },
          "colorscale": {
           "diverging": [
            [
             0,
             "#8e0152"
            ],
            [
             0.1,
             "#c51b7d"
            ],
            [
             0.2,
             "#de77ae"
            ],
            [
             0.3,
             "#f1b6da"
            ],
            [
             0.4,
             "#fde0ef"
            ],
            [
             0.5,
             "#f7f7f7"
            ],
            [
             0.6,
             "#e6f5d0"
            ],
            [
             0.7,
             "#b8e186"
            ],
            [
             0.8,
             "#7fbc41"
            ],
            [
             0.9,
             "#4d9221"
            ],
            [
             1,
             "#276419"
            ]
           ],
           "sequential": [
            [
             0,
             "#0d0887"
            ],
            [
             0.1111111111111111,
             "#46039f"
            ],
            [
             0.2222222222222222,
             "#7201a8"
            ],
            [
             0.3333333333333333,
             "#9c179e"
            ],
            [
             0.4444444444444444,
             "#bd3786"
            ],
            [
             0.5555555555555556,
             "#d8576b"
            ],
            [
             0.6666666666666666,
             "#ed7953"
            ],
            [
             0.7777777777777778,
             "#fb9f3a"
            ],
            [
             0.8888888888888888,
             "#fdca26"
            ],
            [
             1,
             "#f0f921"
            ]
           ],
           "sequentialminus": [
            [
             0,
             "#0d0887"
            ],
            [
             0.1111111111111111,
             "#46039f"
            ],
            [
             0.2222222222222222,
             "#7201a8"
            ],
            [
             0.3333333333333333,
             "#9c179e"
            ],
            [
             0.4444444444444444,
             "#bd3786"
            ],
            [
             0.5555555555555556,
             "#d8576b"
            ],
            [
             0.6666666666666666,
             "#ed7953"
            ],
            [
             0.7777777777777778,
             "#fb9f3a"
            ],
            [
             0.8888888888888888,
             "#fdca26"
            ],
            [
             1,
             "#f0f921"
            ]
           ]
          },
          "colorway": [
           "#636efa",
           "#EF553B",
           "#00cc96",
           "#ab63fa",
           "#FFA15A",
           "#19d3f3",
           "#FF6692",
           "#B6E880",
           "#FF97FF",
           "#FECB52"
          ],
          "font": {
           "color": "#2a3f5f"
          },
          "geo": {
           "bgcolor": "white",
           "lakecolor": "white",
           "landcolor": "white",
           "showlakes": true,
           "showland": true,
           "subunitcolor": "#C8D4E3"
          },
          "hoverlabel": {
           "align": "left"
          },
          "hovermode": "closest",
          "mapbox": {
           "style": "light"
          },
          "paper_bgcolor": "white",
          "plot_bgcolor": "white",
          "polar": {
           "angularaxis": {
            "gridcolor": "#EBF0F8",
            "linecolor": "#EBF0F8",
            "ticks": ""
           },
           "bgcolor": "white",
           "radialaxis": {
            "gridcolor": "#EBF0F8",
            "linecolor": "#EBF0F8",
            "ticks": ""
           }
          },
          "scene": {
           "xaxis": {
            "backgroundcolor": "white",
            "gridcolor": "#DFE8F3",
            "gridwidth": 2,
            "linecolor": "#EBF0F8",
            "showbackground": true,
            "ticks": "",
            "zerolinecolor": "#EBF0F8"
           },
           "yaxis": {
            "backgroundcolor": "white",
            "gridcolor": "#DFE8F3",
            "gridwidth": 2,
            "linecolor": "#EBF0F8",
            "showbackground": true,
            "ticks": "",
            "zerolinecolor": "#EBF0F8"
           },
           "zaxis": {
            "backgroundcolor": "white",
            "gridcolor": "#DFE8F3",
            "gridwidth": 2,
            "linecolor": "#EBF0F8",
            "showbackground": true,
            "ticks": "",
            "zerolinecolor": "#EBF0F8"
           }
          },
          "shapedefaults": {
           "line": {
            "color": "#2a3f5f"
           }
          },
          "ternary": {
           "aaxis": {
            "gridcolor": "#DFE8F3",
            "linecolor": "#A2B1C6",
            "ticks": ""
           },
           "baxis": {
            "gridcolor": "#DFE8F3",
            "linecolor": "#A2B1C6",
            "ticks": ""
           },
           "bgcolor": "white",
           "caxis": {
            "gridcolor": "#DFE8F3",
            "linecolor": "#A2B1C6",
            "ticks": ""
           }
          },
          "title": {
           "x": 0.05
          },
          "xaxis": {
           "automargin": true,
           "gridcolor": "#EBF0F8",
           "linecolor": "#EBF0F8",
           "ticks": "",
           "title": {
            "standoff": 15
           },
           "zerolinecolor": "#EBF0F8",
           "zerolinewidth": 2
          },
          "yaxis": {
           "automargin": true,
           "gridcolor": "#EBF0F8",
           "linecolor": "#EBF0F8",
           "ticks": "",
           "title": {
            "standoff": 15
           },
           "zerolinecolor": "#EBF0F8",
           "zerolinewidth": 2
          }
         }
        },
        "title": {
         "font": {
          "color": "#2E2E2E",
          "size": 16
         },
         "text": "Model Performance on Document: EGILL EINARSSON v. ICELAND (No. 2)<br><span style='font-size:14px'>Best Model: gemma3:12b (F1: 0.427)</span>",
         "x": 0.5
        },
        "width": 800,
        "xaxis": {
         "range": [
          0,
          1
         ],
         "tickfont": {
          "size": 12
         },
         "title": {
          "text": "Score"
         }
        },
        "yaxis": {
         "tickfont": {
          "size": 12
         },
         "title": {
          "text": "Models"
         }
        }
       }
      }
     },
     "metadata": {},
     "output_type": "display_data"
    },
    {
     "data": {
      "application/vnd.plotly.v1+json": {
       "config": {
        "plotlyServerURL": "https://plot.ly"
       },
       "data": [
        {
         "marker": {
          "color": "#FF6B6B"
         },
         "name": "Precision",
         "offsetgroup": "0",
         "orientation": "h",
         "text": {
          "bdata": "qvHSTWIQuD+amZmZmZnJP5qZmZmZmdk/9P3UeOkm2T/2KFyPwvXQP1K4HoXrUdg/dZMYBFYO4T9oke18PzXePw==",
          "dtype": "f8"
         },
         "textposition": "auto",
         "type": "bar",
         "width": 0.25,
         "x": {
          "bdata": "AAAAAAAAuD+amZmZmZnJP5qZmZmZmdk/SZIkSZIk2T+FN5o6v/bQP1K4HoXrUdg/ERERERER4T+u7HNITTDePw==",
          "dtype": "f8"
         },
         "y": [
          "gemma3:1b",
          "gemma3:1b",
          "gemma3:4b",
          "mistral:latest",
          "mistral:latest",
          "gemma3:4b",
          "gemma3:12b",
          "gemma3:12b"
         ]
        },
        {
         "marker": {
          "color": "#4ECDC4"
         },
         "name": "Recall",
         "offsetgroup": "1",
         "orientation": "h",
         "text": {
          "bdata": "nMQgsHJowT8nMQisHFrEP3WTGARWDs0/AAAAAAAA0D8AAAAAAADgP9nO91Pjpds/sp3vp8ZL1z+TGARWDi3iPw==",
          "dtype": "f8"
         },
         "textposition": "auto",
         "type": "bar",
         "width": 0.25,
         "x": {
          "bdata": "dNFFF110wT9ddNFFF13EPxdddNFFF80/AAAAAAAA0D8AAAAAAADgP6OLLrroots/RhdddNFF1z8vuuiiiy7iPw==",
          "dtype": "f8"
         },
         "y": [
          "gemma3:1b",
          "gemma3:1b",
          "gemma3:4b",
          "mistral:latest",
          "mistral:latest",
          "gemma3:4b",
          "gemma3:12b",
          "gemma3:12b"
         ]
        },
        {
         "marker": {
          "color": "#45B7D1"
         },
         "name": "F1-Score",
         "offsetgroup": "2",
         "orientation": "h",
         "text": {
          "bdata": "0SLb+X5qvD8OLbKd76fGP4/C9Shcj9I/L90kBoGV0z++nxov3STWP0Jg5dAi29k/2c73U+Ol2z97FK5H4XrgPw==",
          "dtype": "f8"
         },
         "textposition": "auto",
         "type": "bar",
         "width": 0.25,
         "x": {
          "bdata": "HMdxHMdxvD9eLW7C/K7GPynxM0r8jNI/5DiO4ziO0z+MxWKxWCzWP2ijvrNR39k/0LrBFPms2z/RUYEvrn7gPw==",
          "dtype": "f8"
         },
         "y": [
          "gemma3:1b",
          "gemma3:1b",
          "gemma3:4b",
          "mistral:latest",
          "mistral:latest",
          "gemma3:4b",
          "gemma3:12b",
          "gemma3:12b"
         ]
        }
       ],
       "layout": {
        "barmode": "group",
        "height": 320,
        "legend": {
         "orientation": "h",
         "x": 1,
         "xanchor": "right",
         "y": 1.02,
         "yanchor": "bottom"
        },
        "showlegend": true,
        "template": {
         "data": {
          "bar": [
           {
            "error_x": {
             "color": "#2a3f5f"
            },
            "error_y": {
             "color": "#2a3f5f"
            },
            "marker": {
             "line": {
              "color": "white",
              "width": 0.5
             },
             "pattern": {
              "fillmode": "overlay",
              "size": 10,
              "solidity": 0.2
             }
            },
            "type": "bar"
           }
          ],
          "barpolar": [
           {
            "marker": {
             "line": {
              "color": "white",
              "width": 0.5
             },
             "pattern": {
              "fillmode": "overlay",
              "size": 10,
              "solidity": 0.2
             }
            },
            "type": "barpolar"
           }
          ],
          "carpet": [
           {
            "aaxis": {
             "endlinecolor": "#2a3f5f",
             "gridcolor": "#C8D4E3",
             "linecolor": "#C8D4E3",
             "minorgridcolor": "#C8D4E3",
             "startlinecolor": "#2a3f5f"
            },
            "baxis": {
             "endlinecolor": "#2a3f5f",
             "gridcolor": "#C8D4E3",
             "linecolor": "#C8D4E3",
             "minorgridcolor": "#C8D4E3",
             "startlinecolor": "#2a3f5f"
            },
            "type": "carpet"
           }
          ],
          "choropleth": [
           {
            "colorbar": {
             "outlinewidth": 0,
             "ticks": ""
            },
            "type": "choropleth"
           }
          ],
          "contour": [
           {
            "colorbar": {
             "outlinewidth": 0,
             "ticks": ""
            },
            "colorscale": [
             [
              0,
              "#0d0887"
             ],
             [
              0.1111111111111111,
              "#46039f"
             ],
             [
              0.2222222222222222,
              "#7201a8"
             ],
             [
              0.3333333333333333,
              "#9c179e"
             ],
             [
              0.4444444444444444,
              "#bd3786"
             ],
             [
              0.5555555555555556,
              "#d8576b"
             ],
             [
              0.6666666666666666,
              "#ed7953"
             ],
             [
              0.7777777777777778,
              "#fb9f3a"
             ],
             [
              0.8888888888888888,
              "#fdca26"
             ],
             [
              1,
              "#f0f921"
             ]
            ],
            "type": "contour"
           }
          ],
          "contourcarpet": [
           {
            "colorbar": {
             "outlinewidth": 0,
             "ticks": ""
            },
            "type": "contourcarpet"
           }
          ],
          "heatmap": [
           {
            "colorbar": {
             "outlinewidth": 0,
             "ticks": ""
            },
            "colorscale": [
             [
              0,
              "#0d0887"
             ],
             [
              0.1111111111111111,
              "#46039f"
             ],
             [
              0.2222222222222222,
              "#7201a8"
             ],
             [
              0.3333333333333333,
              "#9c179e"
             ],
             [
              0.4444444444444444,
              "#bd3786"
             ],
             [
              0.5555555555555556,
              "#d8576b"
             ],
             [
              0.6666666666666666,
              "#ed7953"
             ],
             [
              0.7777777777777778,
              "#fb9f3a"
             ],
             [
              0.8888888888888888,
              "#fdca26"
             ],
             [
              1,
              "#f0f921"
             ]
            ],
            "type": "heatmap"
           }
          ],
          "histogram": [
           {
            "marker": {
             "pattern": {
              "fillmode": "overlay",
              "size": 10,
              "solidity": 0.2
             }
            },
            "type": "histogram"
           }
          ],
          "histogram2d": [
           {
            "colorbar": {
             "outlinewidth": 0,
             "ticks": ""
            },
            "colorscale": [
             [
              0,
              "#0d0887"
             ],
             [
              0.1111111111111111,
              "#46039f"
             ],
             [
              0.2222222222222222,
              "#7201a8"
             ],
             [
              0.3333333333333333,
              "#9c179e"
             ],
             [
              0.4444444444444444,
              "#bd3786"
             ],
             [
              0.5555555555555556,
              "#d8576b"
             ],
             [
              0.6666666666666666,
              "#ed7953"
             ],
             [
              0.7777777777777778,
              "#fb9f3a"
             ],
             [
              0.8888888888888888,
              "#fdca26"
             ],
             [
              1,
              "#f0f921"
             ]
            ],
            "type": "histogram2d"
           }
          ],
          "histogram2dcontour": [
           {
            "colorbar": {
             "outlinewidth": 0,
             "ticks": ""
            },
            "colorscale": [
             [
              0,
              "#0d0887"
             ],
             [
              0.1111111111111111,
              "#46039f"
             ],
             [
              0.2222222222222222,
              "#7201a8"
             ],
             [
              0.3333333333333333,
              "#9c179e"
             ],
             [
              0.4444444444444444,
              "#bd3786"
             ],
             [
              0.5555555555555556,
              "#d8576b"
             ],
             [
              0.6666666666666666,
              "#ed7953"
             ],
             [
              0.7777777777777778,
              "#fb9f3a"
             ],
             [
              0.8888888888888888,
              "#fdca26"
             ],
             [
              1,
              "#f0f921"
             ]
            ],
            "type": "histogram2dcontour"
           }
          ],
          "mesh3d": [
           {
            "colorbar": {
             "outlinewidth": 0,
             "ticks": ""
            },
            "type": "mesh3d"
           }
          ],
          "parcoords": [
           {
            "line": {
             "colorbar": {
              "outlinewidth": 0,
              "ticks": ""
             }
            },
            "type": "parcoords"
           }
          ],
          "pie": [
           {
            "automargin": true,
            "type": "pie"
           }
          ],
          "scatter": [
           {
            "fillpattern": {
             "fillmode": "overlay",
             "size": 10,
             "solidity": 0.2
            },
            "type": "scatter"
           }
          ],
          "scatter3d": [
           {
            "line": {
             "colorbar": {
              "outlinewidth": 0,
              "ticks": ""
             }
            },
            "marker": {
             "colorbar": {
              "outlinewidth": 0,
              "ticks": ""
             }
            },
            "type": "scatter3d"
           }
          ],
          "scattercarpet": [
           {
            "marker": {
             "colorbar": {
              "outlinewidth": 0,
              "ticks": ""
             }
            },
            "type": "scattercarpet"
           }
          ],
          "scattergeo": [
           {
            "marker": {
             "colorbar": {
              "outlinewidth": 0,
              "ticks": ""
             }
            },
            "type": "scattergeo"
           }
          ],
          "scattergl": [
           {
            "marker": {
             "colorbar": {
              "outlinewidth": 0,
              "ticks": ""
             }
            },
            "type": "scattergl"
           }
          ],
          "scattermap": [
           {
            "marker": {
             "colorbar": {
              "outlinewidth": 0,
              "ticks": ""
             }
            },
            "type": "scattermap"
           }
          ],
          "scattermapbox": [
           {
            "marker": {
             "colorbar": {
              "outlinewidth": 0,
              "ticks": ""
             }
            },
            "type": "scattermapbox"
           }
          ],
          "scatterpolar": [
           {
            "marker": {
             "colorbar": {
              "outlinewidth": 0,
              "ticks": ""
             }
            },
            "type": "scatterpolar"
           }
          ],
          "scatterpolargl": [
           {
            "marker": {
             "colorbar": {
              "outlinewidth": 0,
              "ticks": ""
             }
            },
            "type": "scatterpolargl"
           }
          ],
          "scatterternary": [
           {
            "marker": {
             "colorbar": {
              "outlinewidth": 0,
              "ticks": ""
             }
            },
            "type": "scatterternary"
           }
          ],
          "surface": [
           {
            "colorbar": {
             "outlinewidth": 0,
             "ticks": ""
            },
            "colorscale": [
             [
              0,
              "#0d0887"
             ],
             [
              0.1111111111111111,
              "#46039f"
             ],
             [
              0.2222222222222222,
              "#7201a8"
             ],
             [
              0.3333333333333333,
              "#9c179e"
             ],
             [
              0.4444444444444444,
              "#bd3786"
             ],
             [
              0.5555555555555556,
              "#d8576b"
             ],
             [
              0.6666666666666666,
              "#ed7953"
             ],
             [
              0.7777777777777778,
              "#fb9f3a"
             ],
             [
              0.8888888888888888,
              "#fdca26"
             ],
             [
              1,
              "#f0f921"
             ]
            ],
            "type": "surface"
           }
          ],
          "table": [
           {
            "cells": {
             "fill": {
              "color": "#EBF0F8"
             },
             "line": {
              "color": "white"
             }
            },
            "header": {
             "fill": {
              "color": "#C8D4E3"
             },
             "line": {
              "color": "white"
             }
            },
            "type": "table"
           }
          ]
         },
         "layout": {
          "annotationdefaults": {
           "arrowcolor": "#2a3f5f",
           "arrowhead": 0,
           "arrowwidth": 1
          },
          "autotypenumbers": "strict",
          "coloraxis": {
           "colorbar": {
            "outlinewidth": 0,
            "ticks": ""
           }
          },
          "colorscale": {
           "diverging": [
            [
             0,
             "#8e0152"
            ],
            [
             0.1,
             "#c51b7d"
            ],
            [
             0.2,
             "#de77ae"
            ],
            [
             0.3,
             "#f1b6da"
            ],
            [
             0.4,
             "#fde0ef"
            ],
            [
             0.5,
             "#f7f7f7"
            ],
            [
             0.6,
             "#e6f5d0"
            ],
            [
             0.7,
             "#b8e186"
            ],
            [
             0.8,
             "#7fbc41"
            ],
            [
             0.9,
             "#4d9221"
            ],
            [
             1,
             "#276419"
            ]
           ],
           "sequential": [
            [
             0,
             "#0d0887"
            ],
            [
             0.1111111111111111,
             "#46039f"
            ],
            [
             0.2222222222222222,
             "#7201a8"
            ],
            [
             0.3333333333333333,
             "#9c179e"
            ],
            [
             0.4444444444444444,
             "#bd3786"
            ],
            [
             0.5555555555555556,
             "#d8576b"
            ],
            [
             0.6666666666666666,
             "#ed7953"
            ],
            [
             0.7777777777777778,
             "#fb9f3a"
            ],
            [
             0.8888888888888888,
             "#fdca26"
            ],
            [
             1,
             "#f0f921"
            ]
           ],
           "sequentialminus": [
            [
             0,
             "#0d0887"
            ],
            [
             0.1111111111111111,
             "#46039f"
            ],
            [
             0.2222222222222222,
             "#7201a8"
            ],
            [
             0.3333333333333333,
             "#9c179e"
            ],
            [
             0.4444444444444444,
             "#bd3786"
            ],
            [
             0.5555555555555556,
             "#d8576b"
            ],
            [
             0.6666666666666666,
             "#ed7953"
            ],
            [
             0.7777777777777778,
             "#fb9f3a"
            ],
            [
             0.8888888888888888,
             "#fdca26"
            ],
            [
             1,
             "#f0f921"
            ]
           ]
          },
          "colorway": [
           "#636efa",
           "#EF553B",
           "#00cc96",
           "#ab63fa",
           "#FFA15A",
           "#19d3f3",
           "#FF6692",
           "#B6E880",
           "#FF97FF",
           "#FECB52"
          ],
          "font": {
           "color": "#2a3f5f"
          },
          "geo": {
           "bgcolor": "white",
           "lakecolor": "white",
           "landcolor": "white",
           "showlakes": true,
           "showland": true,
           "subunitcolor": "#C8D4E3"
          },
          "hoverlabel": {
           "align": "left"
          },
          "hovermode": "closest",
          "mapbox": {
           "style": "light"
          },
          "paper_bgcolor": "white",
          "plot_bgcolor": "white",
          "polar": {
           "angularaxis": {
            "gridcolor": "#EBF0F8",
            "linecolor": "#EBF0F8",
            "ticks": ""
           },
           "bgcolor": "white",
           "radialaxis": {
            "gridcolor": "#EBF0F8",
            "linecolor": "#EBF0F8",
            "ticks": ""
           }
          },
          "scene": {
           "xaxis": {
            "backgroundcolor": "white",
            "gridcolor": "#DFE8F3",
            "gridwidth": 2,
            "linecolor": "#EBF0F8",
            "showbackground": true,
            "ticks": "",
            "zerolinecolor": "#EBF0F8"
           },
           "yaxis": {
            "backgroundcolor": "white",
            "gridcolor": "#DFE8F3",
            "gridwidth": 2,
            "linecolor": "#EBF0F8",
            "showbackground": true,
            "ticks": "",
            "zerolinecolor": "#EBF0F8"
           },
           "zaxis": {
            "backgroundcolor": "white",
            "gridcolor": "#DFE8F3",
            "gridwidth": 2,
            "linecolor": "#EBF0F8",
            "showbackground": true,
            "ticks": "",
            "zerolinecolor": "#EBF0F8"
           }
          },
          "shapedefaults": {
           "line": {
            "color": "#2a3f5f"
           }
          },
          "ternary": {
           "aaxis": {
            "gridcolor": "#DFE8F3",
            "linecolor": "#A2B1C6",
            "ticks": ""
           },
           "baxis": {
            "gridcolor": "#DFE8F3",
            "linecolor": "#A2B1C6",
            "ticks": ""
           },
           "bgcolor": "white",
           "caxis": {
            "gridcolor": "#DFE8F3",
            "linecolor": "#A2B1C6",
            "ticks": ""
           }
          },
          "title": {
           "x": 0.05
          },
          "xaxis": {
           "automargin": true,
           "gridcolor": "#EBF0F8",
           "linecolor": "#EBF0F8",
           "ticks": "",
           "title": {
            "standoff": 15
           },
           "zerolinecolor": "#EBF0F8",
           "zerolinewidth": 2
          },
          "yaxis": {
           "automargin": true,
           "gridcolor": "#EBF0F8",
           "linecolor": "#EBF0F8",
           "ticks": "",
           "title": {
            "standoff": 15
           },
           "zerolinecolor": "#EBF0F8",
           "zerolinewidth": 2
          }
         }
        },
        "title": {
         "font": {
          "color": "#2E2E2E",
          "size": 16
         },
         "text": "Model Performance on Document: MOSKALEV v. RUSSIA<br><span style='font-size:14px'>Best Model: gemma3:12b (F1: 0.515)</span>",
         "x": 0.5
        },
        "width": 800,
        "xaxis": {
         "range": [
          0,
          1
         ],
         "tickfont": {
          "size": 12
         },
         "title": {
          "text": "Score"
         }
        },
        "yaxis": {
         "tickfont": {
          "size": 12
         },
         "title": {
          "text": "Models"
         }
        }
       }
      }
     },
     "metadata": {},
     "output_type": "display_data"
    },
    {
     "data": {
      "application/vnd.plotly.v1+json": {
       "config": {
        "plotlyServerURL": "https://plot.ly"
       },
       "data": [
        {
         "marker": {
          "color": "#FF6B6B"
         },
         "name": "Precision",
         "offsetgroup": "0",
         "orientation": "h",
         "text": {
          "bdata": "AAAAAAAAAAAAAAAAAAAAANEi2/l+asw//tR46SYxyD8AAAAAAADgP28Sg8DKod0/w/UoXI/C3T/l0CLb+X7mPw==",
          "dtype": "f8"
         },
         "textposition": "auto",
         "type": "bar",
         "width": 0.25,
         "x": {
          "bdata": "AAAAAAAAAAAAAAAAAAAAABzHcRzHccw/doMp8lk3yD8AAAAAAADgP6ldidqVqN0/chzHcRzH3T8XaIEWaIHmPw==",
          "dtype": "f8"
         },
         "y": [
          "mistral:latest",
          "gemma3:1b",
          "gemma3:1b",
          "gemma3:4b",
          "gemma3:12b",
          "gemma3:4b",
          "mistral:latest",
          "gemma3:12b"
         ]
        },
        {
         "marker": {
          "color": "#4ECDC4"
         },
         "name": "Recall",
         "offsetgroup": "1",
         "orientation": "h",
         "text": {
          "bdata": "AAAAAAAAAAAAAAAAAAAAAPyp8dJNYpA/gZVDi2znuz8ZBFYOLbK9PzeJQWDl0MI/z/dT46Wb4D9YObTIdr7fPw==",
          "dtype": "f8"
         },
         "textposition": "auto",
         "type": "bar",
         "width": 0.25,
         "x": {
          "bdata": "AAAAAAAAAAAAAAAAAAAAAPAH/AF/wI8/8oa8IW/Iuz9xR9wRd8S9P7ekLWlL2sI/KOwJe8Ke4D/wB/wBf8DfPw==",
          "dtype": "f8"
         },
         "y": [
          "mistral:latest",
          "gemma3:1b",
          "gemma3:1b",
          "gemma3:4b",
          "gemma3:12b",
          "gemma3:4b",
          "mistral:latest",
          "gemma3:12b"
         ]
        },
        {
         "marker": {
          "color": "#45B7D1"
         },
         "name": "F1-Score",
         "offsetgroup": "2",
         "orientation": "h",
         "text": {
          "bdata": "AAAAAAAAAAAAAAAAAAAAABkEVg4tsp0/RIts5/upwT/+1HjpJjHIP3npJjEIrMw/BoGVQ4ts3z85tMh2vp/iPw==",
          "dtype": "f8"
         },
         "textposition": "auto",
         "type": "bar",
         "width": 0.25,
         "x": {
          "bdata": "AAAAAAAAAAAAAAAAAAAAANqBuXZgrp0/lXsaYbmnwT/yVvY5pCbIP52cnJycnMw/oPZpn/Zp3z+eEuQpQZ7iPw==",
          "dtype": "f8"
         },
         "y": [
          "mistral:latest",
          "gemma3:1b",
          "gemma3:1b",
          "gemma3:4b",
          "gemma3:12b",
          "gemma3:4b",
          "mistral:latest",
          "gemma3:12b"
         ]
        }
       ],
       "layout": {
        "barmode": "group",
        "height": 320,
        "legend": {
         "orientation": "h",
         "x": 1,
         "xanchor": "right",
         "y": 1.02,
         "yanchor": "bottom"
        },
        "showlegend": true,
        "template": {
         "data": {
          "bar": [
           {
            "error_x": {
             "color": "#2a3f5f"
            },
            "error_y": {
             "color": "#2a3f5f"
            },
            "marker": {
             "line": {
              "color": "white",
              "width": 0.5
             },
             "pattern": {
              "fillmode": "overlay",
              "size": 10,
              "solidity": 0.2
             }
            },
            "type": "bar"
           }
          ],
          "barpolar": [
           {
            "marker": {
             "line": {
              "color": "white",
              "width": 0.5
             },
             "pattern": {
              "fillmode": "overlay",
              "size": 10,
              "solidity": 0.2
             }
            },
            "type": "barpolar"
           }
          ],
          "carpet": [
           {
            "aaxis": {
             "endlinecolor": "#2a3f5f",
             "gridcolor": "#C8D4E3",
             "linecolor": "#C8D4E3",
             "minorgridcolor": "#C8D4E3",
             "startlinecolor": "#2a3f5f"
            },
            "baxis": {
             "endlinecolor": "#2a3f5f",
             "gridcolor": "#C8D4E3",
             "linecolor": "#C8D4E3",
             "minorgridcolor": "#C8D4E3",
             "startlinecolor": "#2a3f5f"
            },
            "type": "carpet"
           }
          ],
          "choropleth": [
           {
            "colorbar": {
             "outlinewidth": 0,
             "ticks": ""
            },
            "type": "choropleth"
           }
          ],
          "contour": [
           {
            "colorbar": {
             "outlinewidth": 0,
             "ticks": ""
            },
            "colorscale": [
             [
              0,
              "#0d0887"
             ],
             [
              0.1111111111111111,
              "#46039f"
             ],
             [
              0.2222222222222222,
              "#7201a8"
             ],
             [
              0.3333333333333333,
              "#9c179e"
             ],
             [
              0.4444444444444444,
              "#bd3786"
             ],
             [
              0.5555555555555556,
              "#d8576b"
             ],
             [
              0.6666666666666666,
              "#ed7953"
             ],
             [
              0.7777777777777778,
              "#fb9f3a"
             ],
             [
              0.8888888888888888,
              "#fdca26"
             ],
             [
              1,
              "#f0f921"
             ]
            ],
            "type": "contour"
           }
          ],
          "contourcarpet": [
           {
            "colorbar": {
             "outlinewidth": 0,
             "ticks": ""
            },
            "type": "contourcarpet"
           }
          ],
          "heatmap": [
           {
            "colorbar": {
             "outlinewidth": 0,
             "ticks": ""
            },
            "colorscale": [
             [
              0,
              "#0d0887"
             ],
             [
              0.1111111111111111,
              "#46039f"
             ],
             [
              0.2222222222222222,
              "#7201a8"
             ],
             [
              0.3333333333333333,
              "#9c179e"
             ],
             [
              0.4444444444444444,
              "#bd3786"
             ],
             [
              0.5555555555555556,
              "#d8576b"
             ],
             [
              0.6666666666666666,
              "#ed7953"
             ],
             [
              0.7777777777777778,
              "#fb9f3a"
             ],
             [
              0.8888888888888888,
              "#fdca26"
             ],
             [
              1,
              "#f0f921"
             ]
            ],
            "type": "heatmap"
           }
          ],
          "histogram": [
           {
            "marker": {
             "pattern": {
              "fillmode": "overlay",
              "size": 10,
              "solidity": 0.2
             }
            },
            "type": "histogram"
           }
          ],
          "histogram2d": [
           {
            "colorbar": {
             "outlinewidth": 0,
             "ticks": ""
            },
            "colorscale": [
             [
              0,
              "#0d0887"
             ],
             [
              0.1111111111111111,
              "#46039f"
             ],
             [
              0.2222222222222222,
              "#7201a8"
             ],
             [
              0.3333333333333333,
              "#9c179e"
             ],
             [
              0.4444444444444444,
              "#bd3786"
             ],
             [
              0.5555555555555556,
              "#d8576b"
             ],
             [
              0.6666666666666666,
              "#ed7953"
             ],
             [
              0.7777777777777778,
              "#fb9f3a"
             ],
             [
              0.8888888888888888,
              "#fdca26"
             ],
             [
              1,
              "#f0f921"
             ]
            ],
            "type": "histogram2d"
           }
          ],
          "histogram2dcontour": [
           {
            "colorbar": {
             "outlinewidth": 0,
             "ticks": ""
            },
            "colorscale": [
             [
              0,
              "#0d0887"
             ],
             [
              0.1111111111111111,
              "#46039f"
             ],
             [
              0.2222222222222222,
              "#7201a8"
             ],
             [
              0.3333333333333333,
              "#9c179e"
             ],
             [
              0.4444444444444444,
              "#bd3786"
             ],
             [
              0.5555555555555556,
              "#d8576b"
             ],
             [
              0.6666666666666666,
              "#ed7953"
             ],
             [
              0.7777777777777778,
              "#fb9f3a"
             ],
             [
              0.8888888888888888,
              "#fdca26"
             ],
             [
              1,
              "#f0f921"
             ]
            ],
            "type": "histogram2dcontour"
           }
          ],
          "mesh3d": [
           {
            "colorbar": {
             "outlinewidth": 0,
             "ticks": ""
            },
            "type": "mesh3d"
           }
          ],
          "parcoords": [
           {
            "line": {
             "colorbar": {
              "outlinewidth": 0,
              "ticks": ""
             }
            },
            "type": "parcoords"
           }
          ],
          "pie": [
           {
            "automargin": true,
            "type": "pie"
           }
          ],
          "scatter": [
           {
            "fillpattern": {
             "fillmode": "overlay",
             "size": 10,
             "solidity": 0.2
            },
            "type": "scatter"
           }
          ],
          "scatter3d": [
           {
            "line": {
             "colorbar": {
              "outlinewidth": 0,
              "ticks": ""
             }
            },
            "marker": {
             "colorbar": {
              "outlinewidth": 0,
              "ticks": ""
             }
            },
            "type": "scatter3d"
           }
          ],
          "scattercarpet": [
           {
            "marker": {
             "colorbar": {
              "outlinewidth": 0,
              "ticks": ""
             }
            },
            "type": "scattercarpet"
           }
          ],
          "scattergeo": [
           {
            "marker": {
             "colorbar": {
              "outlinewidth": 0,
              "ticks": ""
             }
            },
            "type": "scattergeo"
           }
          ],
          "scattergl": [
           {
            "marker": {
             "colorbar": {
              "outlinewidth": 0,
              "ticks": ""
             }
            },
            "type": "scattergl"
           }
          ],
          "scattermap": [
           {
            "marker": {
             "colorbar": {
              "outlinewidth": 0,
              "ticks": ""
             }
            },
            "type": "scattermap"
           }
          ],
          "scattermapbox": [
           {
            "marker": {
             "colorbar": {
              "outlinewidth": 0,
              "ticks": ""
             }
            },
            "type": "scattermapbox"
           }
          ],
          "scatterpolar": [
           {
            "marker": {
             "colorbar": {
              "outlinewidth": 0,
              "ticks": ""
             }
            },
            "type": "scatterpolar"
           }
          ],
          "scatterpolargl": [
           {
            "marker": {
             "colorbar": {
              "outlinewidth": 0,
              "ticks": ""
             }
            },
            "type": "scatterpolargl"
           }
          ],
          "scatterternary": [
           {
            "marker": {
             "colorbar": {
              "outlinewidth": 0,
              "ticks": ""
             }
            },
            "type": "scatterternary"
           }
          ],
          "surface": [
           {
            "colorbar": {
             "outlinewidth": 0,
             "ticks": ""
            },
            "colorscale": [
             [
              0,
              "#0d0887"
             ],
             [
              0.1111111111111111,
              "#46039f"
             ],
             [
              0.2222222222222222,
              "#7201a8"
             ],
             [
              0.3333333333333333,
              "#9c179e"
             ],
             [
              0.4444444444444444,
              "#bd3786"
             ],
             [
              0.5555555555555556,
              "#d8576b"
             ],
             [
              0.6666666666666666,
              "#ed7953"
             ],
             [
              0.7777777777777778,
              "#fb9f3a"
             ],
             [
              0.8888888888888888,
              "#fdca26"
             ],
             [
              1,
              "#f0f921"
             ]
            ],
            "type": "surface"
           }
          ],
          "table": [
           {
            "cells": {
             "fill": {
              "color": "#EBF0F8"
             },
             "line": {
              "color": "white"
             }
            },
            "header": {
             "fill": {
              "color": "#C8D4E3"
             },
             "line": {
              "color": "white"
             }
            },
            "type": "table"
           }
          ]
         },
         "layout": {
          "annotationdefaults": {
           "arrowcolor": "#2a3f5f",
           "arrowhead": 0,
           "arrowwidth": 1
          },
          "autotypenumbers": "strict",
          "coloraxis": {
           "colorbar": {
            "outlinewidth": 0,
            "ticks": ""
           }
          },
          "colorscale": {
           "diverging": [
            [
             0,
             "#8e0152"
            ],
            [
             0.1,
             "#c51b7d"
            ],
            [
             0.2,
             "#de77ae"
            ],
            [
             0.3,
             "#f1b6da"
            ],
            [
             0.4,
             "#fde0ef"
            ],
            [
             0.5,
             "#f7f7f7"
            ],
            [
             0.6,
             "#e6f5d0"
            ],
            [
             0.7,
             "#b8e186"
            ],
            [
             0.8,
             "#7fbc41"
            ],
            [
             0.9,
             "#4d9221"
            ],
            [
             1,
             "#276419"
            ]
           ],
           "sequential": [
            [
             0,
             "#0d0887"
            ],
            [
             0.1111111111111111,
             "#46039f"
            ],
            [
             0.2222222222222222,
             "#7201a8"
            ],
            [
             0.3333333333333333,
             "#9c179e"
            ],
            [
             0.4444444444444444,
             "#bd3786"
            ],
            [
             0.5555555555555556,
             "#d8576b"
            ],
            [
             0.6666666666666666,
             "#ed7953"
            ],
            [
             0.7777777777777778,
             "#fb9f3a"
            ],
            [
             0.8888888888888888,
             "#fdca26"
            ],
            [
             1,
             "#f0f921"
            ]
           ],
           "sequentialminus": [
            [
             0,
             "#0d0887"
            ],
            [
             0.1111111111111111,
             "#46039f"
            ],
            [
             0.2222222222222222,
             "#7201a8"
            ],
            [
             0.3333333333333333,
             "#9c179e"
            ],
            [
             0.4444444444444444,
             "#bd3786"
            ],
            [
             0.5555555555555556,
             "#d8576b"
            ],
            [
             0.6666666666666666,
             "#ed7953"
            ],
            [
             0.7777777777777778,
             "#fb9f3a"
            ],
            [
             0.8888888888888888,
             "#fdca26"
            ],
            [
             1,
             "#f0f921"
            ]
           ]
          },
          "colorway": [
           "#636efa",
           "#EF553B",
           "#00cc96",
           "#ab63fa",
           "#FFA15A",
           "#19d3f3",
           "#FF6692",
           "#B6E880",
           "#FF97FF",
           "#FECB52"
          ],
          "font": {
           "color": "#2a3f5f"
          },
          "geo": {
           "bgcolor": "white",
           "lakecolor": "white",
           "landcolor": "white",
           "showlakes": true,
           "showland": true,
           "subunitcolor": "#C8D4E3"
          },
          "hoverlabel": {
           "align": "left"
          },
          "hovermode": "closest",
          "mapbox": {
           "style": "light"
          },
          "paper_bgcolor": "white",
          "plot_bgcolor": "white",
          "polar": {
           "angularaxis": {
            "gridcolor": "#EBF0F8",
            "linecolor": "#EBF0F8",
            "ticks": ""
           },
           "bgcolor": "white",
           "radialaxis": {
            "gridcolor": "#EBF0F8",
            "linecolor": "#EBF0F8",
            "ticks": ""
           }
          },
          "scene": {
           "xaxis": {
            "backgroundcolor": "white",
            "gridcolor": "#DFE8F3",
            "gridwidth": 2,
            "linecolor": "#EBF0F8",
            "showbackground": true,
            "ticks": "",
            "zerolinecolor": "#EBF0F8"
           },
           "yaxis": {
            "backgroundcolor": "white",
            "gridcolor": "#DFE8F3",
            "gridwidth": 2,
            "linecolor": "#EBF0F8",
            "showbackground": true,
            "ticks": "",
            "zerolinecolor": "#EBF0F8"
           },
           "zaxis": {
            "backgroundcolor": "white",
            "gridcolor": "#DFE8F3",
            "gridwidth": 2,
            "linecolor": "#EBF0F8",
            "showbackground": true,
            "ticks": "",
            "zerolinecolor": "#EBF0F8"
           }
          },
          "shapedefaults": {
           "line": {
            "color": "#2a3f5f"
           }
          },
          "ternary": {
           "aaxis": {
            "gridcolor": "#DFE8F3",
            "linecolor": "#A2B1C6",
            "ticks": ""
           },
           "baxis": {
            "gridcolor": "#DFE8F3",
            "linecolor": "#A2B1C6",
            "ticks": ""
           },
           "bgcolor": "white",
           "caxis": {
            "gridcolor": "#DFE8F3",
            "linecolor": "#A2B1C6",
            "ticks": ""
           }
          },
          "title": {
           "x": 0.05
          },
          "xaxis": {
           "automargin": true,
           "gridcolor": "#EBF0F8",
           "linecolor": "#EBF0F8",
           "ticks": "",
           "title": {
            "standoff": 15
           },
           "zerolinecolor": "#EBF0F8",
           "zerolinewidth": 2
          },
          "yaxis": {
           "automargin": true,
           "gridcolor": "#EBF0F8",
           "linecolor": "#EBF0F8",
           "ticks": "",
           "title": {
            "standoff": 15
           },
           "zerolinecolor": "#EBF0F8",
           "zerolinewidth": 2
          }
         }
        },
        "title": {
         "font": {
          "color": "#2E2E2E",
          "size": 16
         },
         "text": "Model Performance on Document: PANYUSHKINY v. RUSSIA<br><span style='font-size:14px'>Best Model: gemma3:12b (F1: 0.582)</span>",
         "x": 0.5
        },
        "width": 800,
        "xaxis": {
         "range": [
          0,
          1
         ],
         "tickfont": {
          "size": 12
         },
         "title": {
          "text": "Score"
         }
        },
        "yaxis": {
         "tickfont": {
          "size": 12
         },
         "title": {
          "text": "Models"
         }
        }
       }
      }
     },
     "metadata": {},
     "output_type": "display_data"
    },
    {
     "data": {
      "application/vnd.plotly.v1+json": {
       "config": {
        "plotlyServerURL": "https://plot.ly"
       },
       "data": [
        {
         "marker": {
          "color": "#FF6B6B"
         },
         "name": "Precision",
         "offsetgroup": "0",
         "orientation": "h",
         "text": {
          "bdata": "AAAAAAAAAAAAAAAAAAAAAAAAAAAAAPA/cT0K16NwvT85tMh2vp/KPy2yne+nxss/7FG4HoXr0T9oke18PzXOPw==",
          "dtype": "f8"
         },
         "textposition": "auto",
         "type": "bar",
         "width": 0.25,
         "x": {
          "bdata": "AAAAAAAAAAAAAAAAAAAAAAAAAAAAAPA/ntiJndiJvT+rqqqqqqrKP73pTW9608s/7FG4HoXr0T/jGc94xjPOPw==",
          "dtype": "f8"
         },
         "y": [
          "gemma3:4b",
          "mistral:latest",
          "gemma3:1b",
          "gemma3:1b",
          "gemma3:12b",
          "gemma3:4b",
          "gemma3:12b",
          "mistral:latest"
         ]
        },
        {
         "marker": {
          "color": "#4ECDC4"
         },
         "name": "Recall",
         "offsetgroup": "1",
         "orientation": "h",
         "text": {
          "bdata": "AAAAAAAAAAAAAAAAAAAAAOxRuB6F66E/iUFg5dAiqz+6SQwCK4e2P2ZmZmZmZsY/sHJoke18zz9aZDvfT43XPw==",
          "dtype": "f8"
         },
         "textposition": "auto",
         "type": "bar",
         "width": 0.25,
         "x": {
          "bdata": "AAAAAAAAAAAAAAAAAAAAAHAfwX0E96E/KK+hvIbyqj9MZzGdxXS2P0xnMZ3FdMY/BPcR3Edwzz9DeQ3lNZTXPw==",
          "dtype": "f8"
         },
         "y": [
          "gemma3:4b",
          "mistral:latest",
          "gemma3:1b",
          "gemma3:1b",
          "gemma3:12b",
          "gemma3:4b",
          "gemma3:12b",
          "mistral:latest"
         ]
        },
        {
         "marker": {
          "color": "#45B7D1"
         },
         "name": "F1-Score",
         "offsetgroup": "2",
         "orientation": "h",
         "text": {
          "bdata": "AAAAAAAAAAAAAAAAAAAAAJzEILByaLE/O99PjZdusj+wcmiR7Xy/P6JFtvP91Mg/+FPjpZvE0D8730+Nl27SPw==",
          "dtype": "f8"
         },
         "textposition": "auto",
         "type": "bar",
         "width": 0.25,
         "x": {
          "bdata": "AAAAAAAAAAAAAAAAAAAAAAwndV8eW7E/v/aQy4qBsj9ZpAw83Zq/P0PTHey32sg/p67l4Ga/0D+TJk2aNGnSPw==",
          "dtype": "f8"
         },
         "y": [
          "gemma3:4b",
          "mistral:latest",
          "gemma3:1b",
          "gemma3:1b",
          "gemma3:12b",
          "gemma3:4b",
          "gemma3:12b",
          "mistral:latest"
         ]
        }
       ],
       "layout": {
        "barmode": "group",
        "height": 320,
        "legend": {
         "orientation": "h",
         "x": 1,
         "xanchor": "right",
         "y": 1.02,
         "yanchor": "bottom"
        },
        "showlegend": true,
        "template": {
         "data": {
          "bar": [
           {
            "error_x": {
             "color": "#2a3f5f"
            },
            "error_y": {
             "color": "#2a3f5f"
            },
            "marker": {
             "line": {
              "color": "white",
              "width": 0.5
             },
             "pattern": {
              "fillmode": "overlay",
              "size": 10,
              "solidity": 0.2
             }
            },
            "type": "bar"
           }
          ],
          "barpolar": [
           {
            "marker": {
             "line": {
              "color": "white",
              "width": 0.5
             },
             "pattern": {
              "fillmode": "overlay",
              "size": 10,
              "solidity": 0.2
             }
            },
            "type": "barpolar"
           }
          ],
          "carpet": [
           {
            "aaxis": {
             "endlinecolor": "#2a3f5f",
             "gridcolor": "#C8D4E3",
             "linecolor": "#C8D4E3",
             "minorgridcolor": "#C8D4E3",
             "startlinecolor": "#2a3f5f"
            },
            "baxis": {
             "endlinecolor": "#2a3f5f",
             "gridcolor": "#C8D4E3",
             "linecolor": "#C8D4E3",
             "minorgridcolor": "#C8D4E3",
             "startlinecolor": "#2a3f5f"
            },
            "type": "carpet"
           }
          ],
          "choropleth": [
           {
            "colorbar": {
             "outlinewidth": 0,
             "ticks": ""
            },
            "type": "choropleth"
           }
          ],
          "contour": [
           {
            "colorbar": {
             "outlinewidth": 0,
             "ticks": ""
            },
            "colorscale": [
             [
              0,
              "#0d0887"
             ],
             [
              0.1111111111111111,
              "#46039f"
             ],
             [
              0.2222222222222222,
              "#7201a8"
             ],
             [
              0.3333333333333333,
              "#9c179e"
             ],
             [
              0.4444444444444444,
              "#bd3786"
             ],
             [
              0.5555555555555556,
              "#d8576b"
             ],
             [
              0.6666666666666666,
              "#ed7953"
             ],
             [
              0.7777777777777778,
              "#fb9f3a"
             ],
             [
              0.8888888888888888,
              "#fdca26"
             ],
             [
              1,
              "#f0f921"
             ]
            ],
            "type": "contour"
           }
          ],
          "contourcarpet": [
           {
            "colorbar": {
             "outlinewidth": 0,
             "ticks": ""
            },
            "type": "contourcarpet"
           }
          ],
          "heatmap": [
           {
            "colorbar": {
             "outlinewidth": 0,
             "ticks": ""
            },
            "colorscale": [
             [
              0,
              "#0d0887"
             ],
             [
              0.1111111111111111,
              "#46039f"
             ],
             [
              0.2222222222222222,
              "#7201a8"
             ],
             [
              0.3333333333333333,
              "#9c179e"
             ],
             [
              0.4444444444444444,
              "#bd3786"
             ],
             [
              0.5555555555555556,
              "#d8576b"
             ],
             [
              0.6666666666666666,
              "#ed7953"
             ],
             [
              0.7777777777777778,
              "#fb9f3a"
             ],
             [
              0.8888888888888888,
              "#fdca26"
             ],
             [
              1,
              "#f0f921"
             ]
            ],
            "type": "heatmap"
           }
          ],
          "histogram": [
           {
            "marker": {
             "pattern": {
              "fillmode": "overlay",
              "size": 10,
              "solidity": 0.2
             }
            },
            "type": "histogram"
           }
          ],
          "histogram2d": [
           {
            "colorbar": {
             "outlinewidth": 0,
             "ticks": ""
            },
            "colorscale": [
             [
              0,
              "#0d0887"
             ],
             [
              0.1111111111111111,
              "#46039f"
             ],
             [
              0.2222222222222222,
              "#7201a8"
             ],
             [
              0.3333333333333333,
              "#9c179e"
             ],
             [
              0.4444444444444444,
              "#bd3786"
             ],
             [
              0.5555555555555556,
              "#d8576b"
             ],
             [
              0.6666666666666666,
              "#ed7953"
             ],
             [
              0.7777777777777778,
              "#fb9f3a"
             ],
             [
              0.8888888888888888,
              "#fdca26"
             ],
             [
              1,
              "#f0f921"
             ]
            ],
            "type": "histogram2d"
           }
          ],
          "histogram2dcontour": [
           {
            "colorbar": {
             "outlinewidth": 0,
             "ticks": ""
            },
            "colorscale": [
             [
              0,
              "#0d0887"
             ],
             [
              0.1111111111111111,
              "#46039f"
             ],
             [
              0.2222222222222222,
              "#7201a8"
             ],
             [
              0.3333333333333333,
              "#9c179e"
             ],
             [
              0.4444444444444444,
              "#bd3786"
             ],
             [
              0.5555555555555556,
              "#d8576b"
             ],
             [
              0.6666666666666666,
              "#ed7953"
             ],
             [
              0.7777777777777778,
              "#fb9f3a"
             ],
             [
              0.8888888888888888,
              "#fdca26"
             ],
             [
              1,
              "#f0f921"
             ]
            ],
            "type": "histogram2dcontour"
           }
          ],
          "mesh3d": [
           {
            "colorbar": {
             "outlinewidth": 0,
             "ticks": ""
            },
            "type": "mesh3d"
           }
          ],
          "parcoords": [
           {
            "line": {
             "colorbar": {
              "outlinewidth": 0,
              "ticks": ""
             }
            },
            "type": "parcoords"
           }
          ],
          "pie": [
           {
            "automargin": true,
            "type": "pie"
           }
          ],
          "scatter": [
           {
            "fillpattern": {
             "fillmode": "overlay",
             "size": 10,
             "solidity": 0.2
            },
            "type": "scatter"
           }
          ],
          "scatter3d": [
           {
            "line": {
             "colorbar": {
              "outlinewidth": 0,
              "ticks": ""
             }
            },
            "marker": {
             "colorbar": {
              "outlinewidth": 0,
              "ticks": ""
             }
            },
            "type": "scatter3d"
           }
          ],
          "scattercarpet": [
           {
            "marker": {
             "colorbar": {
              "outlinewidth": 0,
              "ticks": ""
             }
            },
            "type": "scattercarpet"
           }
          ],
          "scattergeo": [
           {
            "marker": {
             "colorbar": {
              "outlinewidth": 0,
              "ticks": ""
             }
            },
            "type": "scattergeo"
           }
          ],
          "scattergl": [
           {
            "marker": {
             "colorbar": {
              "outlinewidth": 0,
              "ticks": ""
             }
            },
            "type": "scattergl"
           }
          ],
          "scattermap": [
           {
            "marker": {
             "colorbar": {
              "outlinewidth": 0,
              "ticks": ""
             }
            },
            "type": "scattermap"
           }
          ],
          "scattermapbox": [
           {
            "marker": {
             "colorbar": {
              "outlinewidth": 0,
              "ticks": ""
             }
            },
            "type": "scattermapbox"
           }
          ],
          "scatterpolar": [
           {
            "marker": {
             "colorbar": {
              "outlinewidth": 0,
              "ticks": ""
             }
            },
            "type": "scatterpolar"
           }
          ],
          "scatterpolargl": [
           {
            "marker": {
             "colorbar": {
              "outlinewidth": 0,
              "ticks": ""
             }
            },
            "type": "scatterpolargl"
           }
          ],
          "scatterternary": [
           {
            "marker": {
             "colorbar": {
              "outlinewidth": 0,
              "ticks": ""
             }
            },
            "type": "scatterternary"
           }
          ],
          "surface": [
           {
            "colorbar": {
             "outlinewidth": 0,
             "ticks": ""
            },
            "colorscale": [
             [
              0,
              "#0d0887"
             ],
             [
              0.1111111111111111,
              "#46039f"
             ],
             [
              0.2222222222222222,
              "#7201a8"
             ],
             [
              0.3333333333333333,
              "#9c179e"
             ],
             [
              0.4444444444444444,
              "#bd3786"
             ],
             [
              0.5555555555555556,
              "#d8576b"
             ],
             [
              0.6666666666666666,
              "#ed7953"
             ],
             [
              0.7777777777777778,
              "#fb9f3a"
             ],
             [
              0.8888888888888888,
              "#fdca26"
             ],
             [
              1,
              "#f0f921"
             ]
            ],
            "type": "surface"
           }
          ],
          "table": [
           {
            "cells": {
             "fill": {
              "color": "#EBF0F8"
             },
             "line": {
              "color": "white"
             }
            },
            "header": {
             "fill": {
              "color": "#C8D4E3"
             },
             "line": {
              "color": "white"
             }
            },
            "type": "table"
           }
          ]
         },
         "layout": {
          "annotationdefaults": {
           "arrowcolor": "#2a3f5f",
           "arrowhead": 0,
           "arrowwidth": 1
          },
          "autotypenumbers": "strict",
          "coloraxis": {
           "colorbar": {
            "outlinewidth": 0,
            "ticks": ""
           }
          },
          "colorscale": {
           "diverging": [
            [
             0,
             "#8e0152"
            ],
            [
             0.1,
             "#c51b7d"
            ],
            [
             0.2,
             "#de77ae"
            ],
            [
             0.3,
             "#f1b6da"
            ],
            [
             0.4,
             "#fde0ef"
            ],
            [
             0.5,
             "#f7f7f7"
            ],
            [
             0.6,
             "#e6f5d0"
            ],
            [
             0.7,
             "#b8e186"
            ],
            [
             0.8,
             "#7fbc41"
            ],
            [
             0.9,
             "#4d9221"
            ],
            [
             1,
             "#276419"
            ]
           ],
           "sequential": [
            [
             0,
             "#0d0887"
            ],
            [
             0.1111111111111111,
             "#46039f"
            ],
            [
             0.2222222222222222,
             "#7201a8"
            ],
            [
             0.3333333333333333,
             "#9c179e"
            ],
            [
             0.4444444444444444,
             "#bd3786"
            ],
            [
             0.5555555555555556,
             "#d8576b"
            ],
            [
             0.6666666666666666,
             "#ed7953"
            ],
            [
             0.7777777777777778,
             "#fb9f3a"
            ],
            [
             0.8888888888888888,
             "#fdca26"
            ],
            [
             1,
             "#f0f921"
            ]
           ],
           "sequentialminus": [
            [
             0,
             "#0d0887"
            ],
            [
             0.1111111111111111,
             "#46039f"
            ],
            [
             0.2222222222222222,
             "#7201a8"
            ],
            [
             0.3333333333333333,
             "#9c179e"
            ],
            [
             0.4444444444444444,
             "#bd3786"
            ],
            [
             0.5555555555555556,
             "#d8576b"
            ],
            [
             0.6666666666666666,
             "#ed7953"
            ],
            [
             0.7777777777777778,
             "#fb9f3a"
            ],
            [
             0.8888888888888888,
             "#fdca26"
            ],
            [
             1,
             "#f0f921"
            ]
           ]
          },
          "colorway": [
           "#636efa",
           "#EF553B",
           "#00cc96",
           "#ab63fa",
           "#FFA15A",
           "#19d3f3",
           "#FF6692",
           "#B6E880",
           "#FF97FF",
           "#FECB52"
          ],
          "font": {
           "color": "#2a3f5f"
          },
          "geo": {
           "bgcolor": "white",
           "lakecolor": "white",
           "landcolor": "white",
           "showlakes": true,
           "showland": true,
           "subunitcolor": "#C8D4E3"
          },
          "hoverlabel": {
           "align": "left"
          },
          "hovermode": "closest",
          "mapbox": {
           "style": "light"
          },
          "paper_bgcolor": "white",
          "plot_bgcolor": "white",
          "polar": {
           "angularaxis": {
            "gridcolor": "#EBF0F8",
            "linecolor": "#EBF0F8",
            "ticks": ""
           },
           "bgcolor": "white",
           "radialaxis": {
            "gridcolor": "#EBF0F8",
            "linecolor": "#EBF0F8",
            "ticks": ""
           }
          },
          "scene": {
           "xaxis": {
            "backgroundcolor": "white",
            "gridcolor": "#DFE8F3",
            "gridwidth": 2,
            "linecolor": "#EBF0F8",
            "showbackground": true,
            "ticks": "",
            "zerolinecolor": "#EBF0F8"
           },
           "yaxis": {
            "backgroundcolor": "white",
            "gridcolor": "#DFE8F3",
            "gridwidth": 2,
            "linecolor": "#EBF0F8",
            "showbackground": true,
            "ticks": "",
            "zerolinecolor": "#EBF0F8"
           },
           "zaxis": {
            "backgroundcolor": "white",
            "gridcolor": "#DFE8F3",
            "gridwidth": 2,
            "linecolor": "#EBF0F8",
            "showbackground": true,
            "ticks": "",
            "zerolinecolor": "#EBF0F8"
           }
          },
          "shapedefaults": {
           "line": {
            "color": "#2a3f5f"
           }
          },
          "ternary": {
           "aaxis": {
            "gridcolor": "#DFE8F3",
            "linecolor": "#A2B1C6",
            "ticks": ""
           },
           "baxis": {
            "gridcolor": "#DFE8F3",
            "linecolor": "#A2B1C6",
            "ticks": ""
           },
           "bgcolor": "white",
           "caxis": {
            "gridcolor": "#DFE8F3",
            "linecolor": "#A2B1C6",
            "ticks": ""
           }
          },
          "title": {
           "x": 0.05
          },
          "xaxis": {
           "automargin": true,
           "gridcolor": "#EBF0F8",
           "linecolor": "#EBF0F8",
           "ticks": "",
           "title": {
            "standoff": 15
           },
           "zerolinecolor": "#EBF0F8",
           "zerolinewidth": 2
          },
          "yaxis": {
           "automargin": true,
           "gridcolor": "#EBF0F8",
           "linecolor": "#EBF0F8",
           "ticks": "",
           "title": {
            "standoff": 15
           },
           "zerolinecolor": "#EBF0F8",
           "zerolinewidth": 2
          }
         }
        },
        "title": {
         "font": {
          "color": "#2E2E2E",
          "size": 16
         },
         "text": "Model Performance on Document: BIGUN v. UKRAINE<br><span style='font-size:14px'>Best Model: mistral:latest (F1: 0.288)</span>",
         "x": 0.5
        },
        "width": 800,
        "xaxis": {
         "range": [
          0,
          1
         ],
         "tickfont": {
          "size": 12
         },
         "title": {
          "text": "Score"
         }
        },
        "yaxis": {
         "tickfont": {
          "size": 12
         },
         "title": {
          "text": "Models"
         }
        }
       }
      }
     },
     "metadata": {},
     "output_type": "display_data"
    },
    {
     "data": {
      "application/vnd.plotly.v1+json": {
       "config": {
        "plotlyServerURL": "https://plot.ly"
       },
       "data": [
        {
         "marker": {
          "color": "#FF6B6B"
         },
         "name": "Precision",
         "offsetgroup": "0",
         "orientation": "h",
         "text": {
          "bdata": "/tR46SYxyD+yne+nxkvXP/yp8dJNYtA/0SLb+X5q3D9I4XoUrkfZP/LSTWIQWOE/1XjpJjEI1D/ByqFFtvPlPw==",
          "dtype": "f8"
         },
         "textposition": "auto",
         "type": "bar",
         "width": 0.25,
         "x": {
          "bdata": "8lb2OaQmyD9GF1100UXXP5AGaZAGadA/HMdxHMdx3D82lNdQXkPZP1VVVVVVVeE/+rWHXFYM1D8WX/EVX/HlPw==",
          "dtype": "f8"
         },
         "y": [
          "gemma3:4b",
          "gemma3:1b",
          "gemma3:12b",
          "gemma3:1b",
          "gemma3:4b",
          "mistral:latest",
          "mistral:latest",
          "gemma3:12b"
         ]
        },
        {
         "marker": {
          "color": "#4ECDC4"
         },
         "name": "Recall",
         "offsetgroup": "1",
         "orientation": "h",
         "text": {
          "bdata": "sp3vp8ZLxz+PwvUoXI/CP7Kd76fGS8c/gZVDi2znyz9GtvP91HjRP2iR7Xw/Nc4/EoPAyqFF3j+BlUOLbOfbPw==",
          "dtype": "f8"
         },
         "textposition": "auto",
         "type": "bar",
         "width": 0.25,
         "x": {
          "bdata": "RhdddNFFxz+eEuQpQZ7CP0YXXXTRRcc/7RvWvmHtyz900UUXXXTRP0GeEuQpQc4/QZ4S5ClB3j/tG9a+Ye3bPw==",
          "dtype": "f8"
         },
         "y": [
          "gemma3:4b",
          "gemma3:1b",
          "gemma3:12b",
          "gemma3:1b",
          "gemma3:4b",
          "mistral:latest",
          "mistral:latest",
          "gemma3:12b"
         ]
        },
        {
         "marker": {
          "color": "#45B7D1"
         },
         "name": "F1-Score",
         "offsetgroup": "2",
         "orientation": "h",
         "text": {
          "bdata": "rkfhehSuxz85tMh2vp/KP90kBoGVQ8s/jZduEoPA0j956SYxCKzUP3WTGARWDtU/VOOlm8Qg2D91kxgEVg7hPw==",
          "dtype": "f8"
         },
         "textposition": "auto",
         "type": "bar",
         "width": 0.25,
         "x": {
          "bdata": "QnsJ7SW0xz++Y2pg75jKP23UdzbqO8s/uxK1K1G70j+llFJKKaXUPyEqHdkzENU/gbl2YK4d2D8RERERERHhPw==",
          "dtype": "f8"
         },
         "y": [
          "gemma3:4b",
          "gemma3:1b",
          "gemma3:12b",
          "gemma3:1b",
          "gemma3:4b",
          "mistral:latest",
          "mistral:latest",
          "gemma3:12b"
         ]
        }
       ],
       "layout": {
        "barmode": "group",
        "height": 320,
        "legend": {
         "orientation": "h",
         "x": 1,
         "xanchor": "right",
         "y": 1.02,
         "yanchor": "bottom"
        },
        "showlegend": true,
        "template": {
         "data": {
          "bar": [
           {
            "error_x": {
             "color": "#2a3f5f"
            },
            "error_y": {
             "color": "#2a3f5f"
            },
            "marker": {
             "line": {
              "color": "white",
              "width": 0.5
             },
             "pattern": {
              "fillmode": "overlay",
              "size": 10,
              "solidity": 0.2
             }
            },
            "type": "bar"
           }
          ],
          "barpolar": [
           {
            "marker": {
             "line": {
              "color": "white",
              "width": 0.5
             },
             "pattern": {
              "fillmode": "overlay",
              "size": 10,
              "solidity": 0.2
             }
            },
            "type": "barpolar"
           }
          ],
          "carpet": [
           {
            "aaxis": {
             "endlinecolor": "#2a3f5f",
             "gridcolor": "#C8D4E3",
             "linecolor": "#C8D4E3",
             "minorgridcolor": "#C8D4E3",
             "startlinecolor": "#2a3f5f"
            },
            "baxis": {
             "endlinecolor": "#2a3f5f",
             "gridcolor": "#C8D4E3",
             "linecolor": "#C8D4E3",
             "minorgridcolor": "#C8D4E3",
             "startlinecolor": "#2a3f5f"
            },
            "type": "carpet"
           }
          ],
          "choropleth": [
           {
            "colorbar": {
             "outlinewidth": 0,
             "ticks": ""
            },
            "type": "choropleth"
           }
          ],
          "contour": [
           {
            "colorbar": {
             "outlinewidth": 0,
             "ticks": ""
            },
            "colorscale": [
             [
              0,
              "#0d0887"
             ],
             [
              0.1111111111111111,
              "#46039f"
             ],
             [
              0.2222222222222222,
              "#7201a8"
             ],
             [
              0.3333333333333333,
              "#9c179e"
             ],
             [
              0.4444444444444444,
              "#bd3786"
             ],
             [
              0.5555555555555556,
              "#d8576b"
             ],
             [
              0.6666666666666666,
              "#ed7953"
             ],
             [
              0.7777777777777778,
              "#fb9f3a"
             ],
             [
              0.8888888888888888,
              "#fdca26"
             ],
             [
              1,
              "#f0f921"
             ]
            ],
            "type": "contour"
           }
          ],
          "contourcarpet": [
           {
            "colorbar": {
             "outlinewidth": 0,
             "ticks": ""
            },
            "type": "contourcarpet"
           }
          ],
          "heatmap": [
           {
            "colorbar": {
             "outlinewidth": 0,
             "ticks": ""
            },
            "colorscale": [
             [
              0,
              "#0d0887"
             ],
             [
              0.1111111111111111,
              "#46039f"
             ],
             [
              0.2222222222222222,
              "#7201a8"
             ],
             [
              0.3333333333333333,
              "#9c179e"
             ],
             [
              0.4444444444444444,
              "#bd3786"
             ],
             [
              0.5555555555555556,
              "#d8576b"
             ],
             [
              0.6666666666666666,
              "#ed7953"
             ],
             [
              0.7777777777777778,
              "#fb9f3a"
             ],
             [
              0.8888888888888888,
              "#fdca26"
             ],
             [
              1,
              "#f0f921"
             ]
            ],
            "type": "heatmap"
           }
          ],
          "histogram": [
           {
            "marker": {
             "pattern": {
              "fillmode": "overlay",
              "size": 10,
              "solidity": 0.2
             }
            },
            "type": "histogram"
           }
          ],
          "histogram2d": [
           {
            "colorbar": {
             "outlinewidth": 0,
             "ticks": ""
            },
            "colorscale": [
             [
              0,
              "#0d0887"
             ],
             [
              0.1111111111111111,
              "#46039f"
             ],
             [
              0.2222222222222222,
              "#7201a8"
             ],
             [
              0.3333333333333333,
              "#9c179e"
             ],
             [
              0.4444444444444444,
              "#bd3786"
             ],
             [
              0.5555555555555556,
              "#d8576b"
             ],
             [
              0.6666666666666666,
              "#ed7953"
             ],
             [
              0.7777777777777778,
              "#fb9f3a"
             ],
             [
              0.8888888888888888,
              "#fdca26"
             ],
             [
              1,
              "#f0f921"
             ]
            ],
            "type": "histogram2d"
           }
          ],
          "histogram2dcontour": [
           {
            "colorbar": {
             "outlinewidth": 0,
             "ticks": ""
            },
            "colorscale": [
             [
              0,
              "#0d0887"
             ],
             [
              0.1111111111111111,
              "#46039f"
             ],
             [
              0.2222222222222222,
              "#7201a8"
             ],
             [
              0.3333333333333333,
              "#9c179e"
             ],
             [
              0.4444444444444444,
              "#bd3786"
             ],
             [
              0.5555555555555556,
              "#d8576b"
             ],
             [
              0.6666666666666666,
              "#ed7953"
             ],
             [
              0.7777777777777778,
              "#fb9f3a"
             ],
             [
              0.8888888888888888,
              "#fdca26"
             ],
             [
              1,
              "#f0f921"
             ]
            ],
            "type": "histogram2dcontour"
           }
          ],
          "mesh3d": [
           {
            "colorbar": {
             "outlinewidth": 0,
             "ticks": ""
            },
            "type": "mesh3d"
           }
          ],
          "parcoords": [
           {
            "line": {
             "colorbar": {
              "outlinewidth": 0,
              "ticks": ""
             }
            },
            "type": "parcoords"
           }
          ],
          "pie": [
           {
            "automargin": true,
            "type": "pie"
           }
          ],
          "scatter": [
           {
            "fillpattern": {
             "fillmode": "overlay",
             "size": 10,
             "solidity": 0.2
            },
            "type": "scatter"
           }
          ],
          "scatter3d": [
           {
            "line": {
             "colorbar": {
              "outlinewidth": 0,
              "ticks": ""
             }
            },
            "marker": {
             "colorbar": {
              "outlinewidth": 0,
              "ticks": ""
             }
            },
            "type": "scatter3d"
           }
          ],
          "scattercarpet": [
           {
            "marker": {
             "colorbar": {
              "outlinewidth": 0,
              "ticks": ""
             }
            },
            "type": "scattercarpet"
           }
          ],
          "scattergeo": [
           {
            "marker": {
             "colorbar": {
              "outlinewidth": 0,
              "ticks": ""
             }
            },
            "type": "scattergeo"
           }
          ],
          "scattergl": [
           {
            "marker": {
             "colorbar": {
              "outlinewidth": 0,
              "ticks": ""
             }
            },
            "type": "scattergl"
           }
          ],
          "scattermap": [
           {
            "marker": {
             "colorbar": {
              "outlinewidth": 0,
              "ticks": ""
             }
            },
            "type": "scattermap"
           }
          ],
          "scattermapbox": [
           {
            "marker": {
             "colorbar": {
              "outlinewidth": 0,
              "ticks": ""
             }
            },
            "type": "scattermapbox"
           }
          ],
          "scatterpolar": [
           {
            "marker": {
             "colorbar": {
              "outlinewidth": 0,
              "ticks": ""
             }
            },
            "type": "scatterpolar"
           }
          ],
          "scatterpolargl": [
           {
            "marker": {
             "colorbar": {
              "outlinewidth": 0,
              "ticks": ""
             }
            },
            "type": "scatterpolargl"
           }
          ],
          "scatterternary": [
           {
            "marker": {
             "colorbar": {
              "outlinewidth": 0,
              "ticks": ""
             }
            },
            "type": "scatterternary"
           }
          ],
          "surface": [
           {
            "colorbar": {
             "outlinewidth": 0,
             "ticks": ""
            },
            "colorscale": [
             [
              0,
              "#0d0887"
             ],
             [
              0.1111111111111111,
              "#46039f"
             ],
             [
              0.2222222222222222,
              "#7201a8"
             ],
             [
              0.3333333333333333,
              "#9c179e"
             ],
             [
              0.4444444444444444,
              "#bd3786"
             ],
             [
              0.5555555555555556,
              "#d8576b"
             ],
             [
              0.6666666666666666,
              "#ed7953"
             ],
             [
              0.7777777777777778,
              "#fb9f3a"
             ],
             [
              0.8888888888888888,
              "#fdca26"
             ],
             [
              1,
              "#f0f921"
             ]
            ],
            "type": "surface"
           }
          ],
          "table": [
           {
            "cells": {
             "fill": {
              "color": "#EBF0F8"
             },
             "line": {
              "color": "white"
             }
            },
            "header": {
             "fill": {
              "color": "#C8D4E3"
             },
             "line": {
              "color": "white"
             }
            },
            "type": "table"
           }
          ]
         },
         "layout": {
          "annotationdefaults": {
           "arrowcolor": "#2a3f5f",
           "arrowhead": 0,
           "arrowwidth": 1
          },
          "autotypenumbers": "strict",
          "coloraxis": {
           "colorbar": {
            "outlinewidth": 0,
            "ticks": ""
           }
          },
          "colorscale": {
           "diverging": [
            [
             0,
             "#8e0152"
            ],
            [
             0.1,
             "#c51b7d"
            ],
            [
             0.2,
             "#de77ae"
            ],
            [
             0.3,
             "#f1b6da"
            ],
            [
             0.4,
             "#fde0ef"
            ],
            [
             0.5,
             "#f7f7f7"
            ],
            [
             0.6,
             "#e6f5d0"
            ],
            [
             0.7,
             "#b8e186"
            ],
            [
             0.8,
             "#7fbc41"
            ],
            [
             0.9,
             "#4d9221"
            ],
            [
             1,
             "#276419"
            ]
           ],
           "sequential": [
            [
             0,
             "#0d0887"
            ],
            [
             0.1111111111111111,
             "#46039f"
            ],
            [
             0.2222222222222222,
             "#7201a8"
            ],
            [
             0.3333333333333333,
             "#9c179e"
            ],
            [
             0.4444444444444444,
             "#bd3786"
            ],
            [
             0.5555555555555556,
             "#d8576b"
            ],
            [
             0.6666666666666666,
             "#ed7953"
            ],
            [
             0.7777777777777778,
             "#fb9f3a"
            ],
            [
             0.8888888888888888,
             "#fdca26"
            ],
            [
             1,
             "#f0f921"
            ]
           ],
           "sequentialminus": [
            [
             0,
             "#0d0887"
            ],
            [
             0.1111111111111111,
             "#46039f"
            ],
            [
             0.2222222222222222,
             "#7201a8"
            ],
            [
             0.3333333333333333,
             "#9c179e"
            ],
            [
             0.4444444444444444,
             "#bd3786"
            ],
            [
             0.5555555555555556,
             "#d8576b"
            ],
            [
             0.6666666666666666,
             "#ed7953"
            ],
            [
             0.7777777777777778,
             "#fb9f3a"
            ],
            [
             0.8888888888888888,
             "#fdca26"
            ],
            [
             1,
             "#f0f921"
            ]
           ]
          },
          "colorway": [
           "#636efa",
           "#EF553B",
           "#00cc96",
           "#ab63fa",
           "#FFA15A",
           "#19d3f3",
           "#FF6692",
           "#B6E880",
           "#FF97FF",
           "#FECB52"
          ],
          "font": {
           "color": "#2a3f5f"
          },
          "geo": {
           "bgcolor": "white",
           "lakecolor": "white",
           "landcolor": "white",
           "showlakes": true,
           "showland": true,
           "subunitcolor": "#C8D4E3"
          },
          "hoverlabel": {
           "align": "left"
          },
          "hovermode": "closest",
          "mapbox": {
           "style": "light"
          },
          "paper_bgcolor": "white",
          "plot_bgcolor": "white",
          "polar": {
           "angularaxis": {
            "gridcolor": "#EBF0F8",
            "linecolor": "#EBF0F8",
            "ticks": ""
           },
           "bgcolor": "white",
           "radialaxis": {
            "gridcolor": "#EBF0F8",
            "linecolor": "#EBF0F8",
            "ticks": ""
           }
          },
          "scene": {
           "xaxis": {
            "backgroundcolor": "white",
            "gridcolor": "#DFE8F3",
            "gridwidth": 2,
            "linecolor": "#EBF0F8",
            "showbackground": true,
            "ticks": "",
            "zerolinecolor": "#EBF0F8"
           },
           "yaxis": {
            "backgroundcolor": "white",
            "gridcolor": "#DFE8F3",
            "gridwidth": 2,
            "linecolor": "#EBF0F8",
            "showbackground": true,
            "ticks": "",
            "zerolinecolor": "#EBF0F8"
           },
           "zaxis": {
            "backgroundcolor": "white",
            "gridcolor": "#DFE8F3",
            "gridwidth": 2,
            "linecolor": "#EBF0F8",
            "showbackground": true,
            "ticks": "",
            "zerolinecolor": "#EBF0F8"
           }
          },
          "shapedefaults": {
           "line": {
            "color": "#2a3f5f"
           }
          },
          "ternary": {
           "aaxis": {
            "gridcolor": "#DFE8F3",
            "linecolor": "#A2B1C6",
            "ticks": ""
           },
           "baxis": {
            "gridcolor": "#DFE8F3",
            "linecolor": "#A2B1C6",
            "ticks": ""
           },
           "bgcolor": "white",
           "caxis": {
            "gridcolor": "#DFE8F3",
            "linecolor": "#A2B1C6",
            "ticks": ""
           }
          },
          "title": {
           "x": 0.05
          },
          "xaxis": {
           "automargin": true,
           "gridcolor": "#EBF0F8",
           "linecolor": "#EBF0F8",
           "ticks": "",
           "title": {
            "standoff": 15
           },
           "zerolinecolor": "#EBF0F8",
           "zerolinewidth": 2
          },
          "yaxis": {
           "automargin": true,
           "gridcolor": "#EBF0F8",
           "linecolor": "#EBF0F8",
           "ticks": "",
           "title": {
            "standoff": 15
           },
           "zerolinecolor": "#EBF0F8",
           "zerolinewidth": 2
          }
         }
        },
        "title": {
         "font": {
          "color": "#2E2E2E",
          "size": 16
         },
         "text": "Model Performance on Document: SOLCAN v. ROMANIA<br><span style='font-size:14px'>Best Model: gemma3:12b (F1: 0.533)</span>",
         "x": 0.5
        },
        "width": 800,
        "xaxis": {
         "range": [
          0,
          1
         ],
         "tickfont": {
          "size": 12
         },
         "title": {
          "text": "Score"
         }
        },
        "yaxis": {
         "tickfont": {
          "size": 12
         },
         "title": {
          "text": "Models"
         }
        }
       }
      }
     },
     "metadata": {},
     "output_type": "display_data"
    },
    {
     "data": {
      "application/vnd.plotly.v1+json": {
       "config": {
        "plotlyServerURL": "https://plot.ly"
       },
       "data": [
        {
         "marker": {
          "color": "#FF6B6B"
         },
         "name": "Precision",
         "offsetgroup": "0",
         "orientation": "h",
         "text": {
          "bdata": "WDm0yHa+rz/y0k1iEFjlP+Olm8QgsNo/9ihcj8L1yD9xPQrXo3DhPxSuR+F6FOI/x0s3iUFg3T+YbhKDwMrhPw==",
          "dtype": "f8"
         },
         "textposition": "auto",
         "type": "bar",
         "width": 0.25,
         "x": {
          "bdata": "AAAAAAAAsD9VVVVVVVXlP6uqqqqqqto/xbmOUZzryD900UUXXXThPyELWchCFuI/fdYNpshn3T9yHMdxHMfhPw==",
          "dtype": "f8"
         },
         "y": [
          "mistral:latest",
          "gemma3:1b",
          "gemma3:1b",
          "mistral:latest",
          "gemma3:4b",
          "gemma3:12b",
          "gemma3:12b",
          "gemma3:4b"
         ]
        },
        {
         "marker": {
          "color": "#4ECDC4"
         },
         "name": "Recall",
         "offsetgroup": "1",
         "orientation": "h",
         "text": {
          "bdata": "/Knx0k1ikD9YObTIdr6fPyuHFtnO98M/arx0kxgE1j+q8dJNYhDIP5ZDi2zn+8k/oBov3SQG0T8rhxbZzvfTPw==",
          "dtype": "f8"
         },
         "textposition": "auto",
         "type": "bar",
         "width": 0.25,
         "x": {
          "bdata": "AAAAAAAAkD8AAAAAAACgPwAAAAAAAMQ/AAAAAAAA1j8AAAAAAADIPwAAAAAAAMo/AAAAAAAA0T8AAAAAAADUPw==",
          "dtype": "f8"
         },
         "y": [
          "mistral:latest",
          "gemma3:1b",
          "gemma3:1b",
          "mistral:latest",
          "gemma3:4b",
          "gemma3:12b",
          "gemma3:12b",
          "gemma3:4b"
         ]
        },
        {
         "marker": {
          "color": "#45B7D1"
         },
         "name": "F1-Score",
         "offsetgroup": "2",
         "orientation": "h",
         "text": {
          "bdata": "mpmZmZmZmT+4HoXrUbiuP3WTGARWDs0/rBxaZDvfzz9CYOXQItvRP4lBYOXQItM/xSCwcmiR1T+amZmZmZnZPw==",
          "dtype": "f8"
         },
         "textposition": "auto",
         "type": "bar",
         "width": 0.25,
         "x": {
          "bdata": "mpmZmZmZmT9nt/CrMZGuPxdddNFFF80/QnIBr7fRzz93xB1xR9zRP+MFMileINM/mwe562eL1T+ZmZmZmZnZPw==",
          "dtype": "f8"
         },
         "y": [
          "mistral:latest",
          "gemma3:1b",
          "gemma3:1b",
          "mistral:latest",
          "gemma3:4b",
          "gemma3:12b",
          "gemma3:12b",
          "gemma3:4b"
         ]
        }
       ],
       "layout": {
        "barmode": "group",
        "height": 320,
        "legend": {
         "orientation": "h",
         "x": 1,
         "xanchor": "right",
         "y": 1.02,
         "yanchor": "bottom"
        },
        "showlegend": true,
        "template": {
         "data": {
          "bar": [
           {
            "error_x": {
             "color": "#2a3f5f"
            },
            "error_y": {
             "color": "#2a3f5f"
            },
            "marker": {
             "line": {
              "color": "white",
              "width": 0.5
             },
             "pattern": {
              "fillmode": "overlay",
              "size": 10,
              "solidity": 0.2
             }
            },
            "type": "bar"
           }
          ],
          "barpolar": [
           {
            "marker": {
             "line": {
              "color": "white",
              "width": 0.5
             },
             "pattern": {
              "fillmode": "overlay",
              "size": 10,
              "solidity": 0.2
             }
            },
            "type": "barpolar"
           }
          ],
          "carpet": [
           {
            "aaxis": {
             "endlinecolor": "#2a3f5f",
             "gridcolor": "#C8D4E3",
             "linecolor": "#C8D4E3",
             "minorgridcolor": "#C8D4E3",
             "startlinecolor": "#2a3f5f"
            },
            "baxis": {
             "endlinecolor": "#2a3f5f",
             "gridcolor": "#C8D4E3",
             "linecolor": "#C8D4E3",
             "minorgridcolor": "#C8D4E3",
             "startlinecolor": "#2a3f5f"
            },
            "type": "carpet"
           }
          ],
          "choropleth": [
           {
            "colorbar": {
             "outlinewidth": 0,
             "ticks": ""
            },
            "type": "choropleth"
           }
          ],
          "contour": [
           {
            "colorbar": {
             "outlinewidth": 0,
             "ticks": ""
            },
            "colorscale": [
             [
              0,
              "#0d0887"
             ],
             [
              0.1111111111111111,
              "#46039f"
             ],
             [
              0.2222222222222222,
              "#7201a8"
             ],
             [
              0.3333333333333333,
              "#9c179e"
             ],
             [
              0.4444444444444444,
              "#bd3786"
             ],
             [
              0.5555555555555556,
              "#d8576b"
             ],
             [
              0.6666666666666666,
              "#ed7953"
             ],
             [
              0.7777777777777778,
              "#fb9f3a"
             ],
             [
              0.8888888888888888,
              "#fdca26"
             ],
             [
              1,
              "#f0f921"
             ]
            ],
            "type": "contour"
           }
          ],
          "contourcarpet": [
           {
            "colorbar": {
             "outlinewidth": 0,
             "ticks": ""
            },
            "type": "contourcarpet"
           }
          ],
          "heatmap": [
           {
            "colorbar": {
             "outlinewidth": 0,
             "ticks": ""
            },
            "colorscale": [
             [
              0,
              "#0d0887"
             ],
             [
              0.1111111111111111,
              "#46039f"
             ],
             [
              0.2222222222222222,
              "#7201a8"
             ],
             [
              0.3333333333333333,
              "#9c179e"
             ],
             [
              0.4444444444444444,
              "#bd3786"
             ],
             [
              0.5555555555555556,
              "#d8576b"
             ],
             [
              0.6666666666666666,
              "#ed7953"
             ],
             [
              0.7777777777777778,
              "#fb9f3a"
             ],
             [
              0.8888888888888888,
              "#fdca26"
             ],
             [
              1,
              "#f0f921"
             ]
            ],
            "type": "heatmap"
           }
          ],
          "histogram": [
           {
            "marker": {
             "pattern": {
              "fillmode": "overlay",
              "size": 10,
              "solidity": 0.2
             }
            },
            "type": "histogram"
           }
          ],
          "histogram2d": [
           {
            "colorbar": {
             "outlinewidth": 0,
             "ticks": ""
            },
            "colorscale": [
             [
              0,
              "#0d0887"
             ],
             [
              0.1111111111111111,
              "#46039f"
             ],
             [
              0.2222222222222222,
              "#7201a8"
             ],
             [
              0.3333333333333333,
              "#9c179e"
             ],
             [
              0.4444444444444444,
              "#bd3786"
             ],
             [
              0.5555555555555556,
              "#d8576b"
             ],
             [
              0.6666666666666666,
              "#ed7953"
             ],
             [
              0.7777777777777778,
              "#fb9f3a"
             ],
             [
              0.8888888888888888,
              "#fdca26"
             ],
             [
              1,
              "#f0f921"
             ]
            ],
            "type": "histogram2d"
           }
          ],
          "histogram2dcontour": [
           {
            "colorbar": {
             "outlinewidth": 0,
             "ticks": ""
            },
            "colorscale": [
             [
              0,
              "#0d0887"
             ],
             [
              0.1111111111111111,
              "#46039f"
             ],
             [
              0.2222222222222222,
              "#7201a8"
             ],
             [
              0.3333333333333333,
              "#9c179e"
             ],
             [
              0.4444444444444444,
              "#bd3786"
             ],
             [
              0.5555555555555556,
              "#d8576b"
             ],
             [
              0.6666666666666666,
              "#ed7953"
             ],
             [
              0.7777777777777778,
              "#fb9f3a"
             ],
             [
              0.8888888888888888,
              "#fdca26"
             ],
             [
              1,
              "#f0f921"
             ]
            ],
            "type": "histogram2dcontour"
           }
          ],
          "mesh3d": [
           {
            "colorbar": {
             "outlinewidth": 0,
             "ticks": ""
            },
            "type": "mesh3d"
           }
          ],
          "parcoords": [
           {
            "line": {
             "colorbar": {
              "outlinewidth": 0,
              "ticks": ""
             }
            },
            "type": "parcoords"
           }
          ],
          "pie": [
           {
            "automargin": true,
            "type": "pie"
           }
          ],
          "scatter": [
           {
            "fillpattern": {
             "fillmode": "overlay",
             "size": 10,
             "solidity": 0.2
            },
            "type": "scatter"
           }
          ],
          "scatter3d": [
           {
            "line": {
             "colorbar": {
              "outlinewidth": 0,
              "ticks": ""
             }
            },
            "marker": {
             "colorbar": {
              "outlinewidth": 0,
              "ticks": ""
             }
            },
            "type": "scatter3d"
           }
          ],
          "scattercarpet": [
           {
            "marker": {
             "colorbar": {
              "outlinewidth": 0,
              "ticks": ""
             }
            },
            "type": "scattercarpet"
           }
          ],
          "scattergeo": [
           {
            "marker": {
             "colorbar": {
              "outlinewidth": 0,
              "ticks": ""
             }
            },
            "type": "scattergeo"
           }
          ],
          "scattergl": [
           {
            "marker": {
             "colorbar": {
              "outlinewidth": 0,
              "ticks": ""
             }
            },
            "type": "scattergl"
           }
          ],
          "scattermap": [
           {
            "marker": {
             "colorbar": {
              "outlinewidth": 0,
              "ticks": ""
             }
            },
            "type": "scattermap"
           }
          ],
          "scattermapbox": [
           {
            "marker": {
             "colorbar": {
              "outlinewidth": 0,
              "ticks": ""
             }
            },
            "type": "scattermapbox"
           }
          ],
          "scatterpolar": [
           {
            "marker": {
             "colorbar": {
              "outlinewidth": 0,
              "ticks": ""
             }
            },
            "type": "scatterpolar"
           }
          ],
          "scatterpolargl": [
           {
            "marker": {
             "colorbar": {
              "outlinewidth": 0,
              "ticks": ""
             }
            },
            "type": "scatterpolargl"
           }
          ],
          "scatterternary": [
           {
            "marker": {
             "colorbar": {
              "outlinewidth": 0,
              "ticks": ""
             }
            },
            "type": "scatterternary"
           }
          ],
          "surface": [
           {
            "colorbar": {
             "outlinewidth": 0,
             "ticks": ""
            },
            "colorscale": [
             [
              0,
              "#0d0887"
             ],
             [
              0.1111111111111111,
              "#46039f"
             ],
             [
              0.2222222222222222,
              "#7201a8"
             ],
             [
              0.3333333333333333,
              "#9c179e"
             ],
             [
              0.4444444444444444,
              "#bd3786"
             ],
             [
              0.5555555555555556,
              "#d8576b"
             ],
             [
              0.6666666666666666,
              "#ed7953"
             ],
             [
              0.7777777777777778,
              "#fb9f3a"
             ],
             [
              0.8888888888888888,
              "#fdca26"
             ],
             [
              1,
              "#f0f921"
             ]
            ],
            "type": "surface"
           }
          ],
          "table": [
           {
            "cells": {
             "fill": {
              "color": "#EBF0F8"
             },
             "line": {
              "color": "white"
             }
            },
            "header": {
             "fill": {
              "color": "#C8D4E3"
             },
             "line": {
              "color": "white"
             }
            },
            "type": "table"
           }
          ]
         },
         "layout": {
          "annotationdefaults": {
           "arrowcolor": "#2a3f5f",
           "arrowhead": 0,
           "arrowwidth": 1
          },
          "autotypenumbers": "strict",
          "coloraxis": {
           "colorbar": {
            "outlinewidth": 0,
            "ticks": ""
           }
          },
          "colorscale": {
           "diverging": [
            [
             0,
             "#8e0152"
            ],
            [
             0.1,
             "#c51b7d"
            ],
            [
             0.2,
             "#de77ae"
            ],
            [
             0.3,
             "#f1b6da"
            ],
            [
             0.4,
             "#fde0ef"
            ],
            [
             0.5,
             "#f7f7f7"
            ],
            [
             0.6,
             "#e6f5d0"
            ],
            [
             0.7,
             "#b8e186"
            ],
            [
             0.8,
             "#7fbc41"
            ],
            [
             0.9,
             "#4d9221"
            ],
            [
             1,
             "#276419"
            ]
           ],
           "sequential": [
            [
             0,
             "#0d0887"
            ],
            [
             0.1111111111111111,
             "#46039f"
            ],
            [
             0.2222222222222222,
             "#7201a8"
            ],
            [
             0.3333333333333333,
             "#9c179e"
            ],
            [
             0.4444444444444444,
             "#bd3786"
            ],
            [
             0.5555555555555556,
             "#d8576b"
            ],
            [
             0.6666666666666666,
             "#ed7953"
            ],
            [
             0.7777777777777778,
             "#fb9f3a"
            ],
            [
             0.8888888888888888,
             "#fdca26"
            ],
            [
             1,
             "#f0f921"
            ]
           ],
           "sequentialminus": [
            [
             0,
             "#0d0887"
            ],
            [
             0.1111111111111111,
             "#46039f"
            ],
            [
             0.2222222222222222,
             "#7201a8"
            ],
            [
             0.3333333333333333,
             "#9c179e"
            ],
            [
             0.4444444444444444,
             "#bd3786"
            ],
            [
             0.5555555555555556,
             "#d8576b"
            ],
            [
             0.6666666666666666,
             "#ed7953"
            ],
            [
             0.7777777777777778,
             "#fb9f3a"
            ],
            [
             0.8888888888888888,
             "#fdca26"
            ],
            [
             1,
             "#f0f921"
            ]
           ]
          },
          "colorway": [
           "#636efa",
           "#EF553B",
           "#00cc96",
           "#ab63fa",
           "#FFA15A",
           "#19d3f3",
           "#FF6692",
           "#B6E880",
           "#FF97FF",
           "#FECB52"
          ],
          "font": {
           "color": "#2a3f5f"
          },
          "geo": {
           "bgcolor": "white",
           "lakecolor": "white",
           "landcolor": "white",
           "showlakes": true,
           "showland": true,
           "subunitcolor": "#C8D4E3"
          },
          "hoverlabel": {
           "align": "left"
          },
          "hovermode": "closest",
          "mapbox": {
           "style": "light"
          },
          "paper_bgcolor": "white",
          "plot_bgcolor": "white",
          "polar": {
           "angularaxis": {
            "gridcolor": "#EBF0F8",
            "linecolor": "#EBF0F8",
            "ticks": ""
           },
           "bgcolor": "white",
           "radialaxis": {
            "gridcolor": "#EBF0F8",
            "linecolor": "#EBF0F8",
            "ticks": ""
           }
          },
          "scene": {
           "xaxis": {
            "backgroundcolor": "white",
            "gridcolor": "#DFE8F3",
            "gridwidth": 2,
            "linecolor": "#EBF0F8",
            "showbackground": true,
            "ticks": "",
            "zerolinecolor": "#EBF0F8"
           },
           "yaxis": {
            "backgroundcolor": "white",
            "gridcolor": "#DFE8F3",
            "gridwidth": 2,
            "linecolor": "#EBF0F8",
            "showbackground": true,
            "ticks": "",
            "zerolinecolor": "#EBF0F8"
           },
           "zaxis": {
            "backgroundcolor": "white",
            "gridcolor": "#DFE8F3",
            "gridwidth": 2,
            "linecolor": "#EBF0F8",
            "showbackground": true,
            "ticks": "",
            "zerolinecolor": "#EBF0F8"
           }
          },
          "shapedefaults": {
           "line": {
            "color": "#2a3f5f"
           }
          },
          "ternary": {
           "aaxis": {
            "gridcolor": "#DFE8F3",
            "linecolor": "#A2B1C6",
            "ticks": ""
           },
           "baxis": {
            "gridcolor": "#DFE8F3",
            "linecolor": "#A2B1C6",
            "ticks": ""
           },
           "bgcolor": "white",
           "caxis": {
            "gridcolor": "#DFE8F3",
            "linecolor": "#A2B1C6",
            "ticks": ""
           }
          },
          "title": {
           "x": 0.05
          },
          "xaxis": {
           "automargin": true,
           "gridcolor": "#EBF0F8",
           "linecolor": "#EBF0F8",
           "ticks": "",
           "title": {
            "standoff": 15
           },
           "zerolinecolor": "#EBF0F8",
           "zerolinewidth": 2
          },
          "yaxis": {
           "automargin": true,
           "gridcolor": "#EBF0F8",
           "linecolor": "#EBF0F8",
           "ticks": "",
           "title": {
            "standoff": 15
           },
           "zerolinecolor": "#EBF0F8",
           "zerolinewidth": 2
          }
         }
        },
        "title": {
         "font": {
          "color": "#2E2E2E",
          "size": 16
         },
         "text": "Model Performance on Document: YEVGENIY ZAKHAROV v. RUSSIA<br><span style='font-size:14px'>Best Model: gemma3:4b (F1: 0.400)</span>",
         "x": 0.5
        },
        "width": 800,
        "xaxis": {
         "range": [
          0,
          1
         ],
         "tickfont": {
          "size": 12
         },
         "title": {
          "text": "Score"
         }
        },
        "yaxis": {
         "tickfont": {
          "size": 12
         },
         "title": {
          "text": "Models"
         }
        }
       }
      }
     },
     "metadata": {},
     "output_type": "display_data"
    },
    {
     "data": {
      "application/vnd.plotly.v1+json": {
       "config": {
        "plotlyServerURL": "https://plot.ly"
       },
       "data": [
        {
         "marker": {
          "color": "#FF6B6B"
         },
         "name": "Precision",
         "offsetgroup": "0",
         "orientation": "h",
         "text": {
          "bdata": "001iEFg5xD9g5dAi2/m+Py2yne+nxss/sp3vp8ZL1z8AAAAAAADQP+F6FK5H4do/x0s3iUFg4T/6fmq8dJPgPw==",
          "dtype": "f8"
         },
         "textposition": "auto",
         "type": "bar",
         "width": 0.25,
         "x": {
          "bdata": "XkN5DeU1xD8IH3zwwQe/P73pTW9608s/RhdddNFF1z8AAAAAAADQP+F6FK5H4do/8RVf8RVf4T8lSZIkSZLgPw==",
          "dtype": "f8"
         },
         "y": [
          "mistral:latest",
          "gemma3:1b",
          "gemma3:1b",
          "gemma3:4b",
          "mistral:latest",
          "gemma3:4b",
          "gemma3:12b",
          "gemma3:12b"
         ]
        },
        {
         "marker": {
          "color": "#4ECDC4"
         },
         "name": "Recall",
         "offsetgroup": "1",
         "orientation": "h",
         "text": {
          "bdata": "TDeJQWDloD+6SQwCK4emPylcj8L1KKw/ukkMAiuHxj8fhetRuB7VP8UgsHJokc0/jZduEoPAyj/RItv5fmrUPw==",
          "dtype": "f8"
         },
         "textposition": "auto",
         "type": "bar",
         "width": 0.25,
         "x": {
          "bdata": "EQ7hEA7hoD8XaIEWaIGmPxzCIRzCIaw/F2iBFmiBxj+VURmVURnVP57YiZ3Yic0/m6u5mqu5yj9URmVURmXUPw==",
          "dtype": "f8"
         },
         "y": [
          "mistral:latest",
          "gemma3:1b",
          "gemma3:1b",
          "gemma3:4b",
          "mistral:latest",
          "gemma3:4b",
          "gemma3:12b",
          "gemma3:12b"
         ]
        },
        {
         "marker": {
          "color": "#45B7D1"
         },
         "name": "F1-Score",
         "offsetgroup": "2",
         "orientation": "h",
         "text": {
          "bdata": "KVyPwvUorD+kcD0K16OwP7pJDAIrh7Y/vHSTGARWzj+TGARWDi3SP99PjZduEtM/hxbZzvdT0z9I4XoUrkfZPw==",
          "dtype": "f8"
         },
         "textposition": "auto",
         "type": "bar",
         "width": 0.25,
         "x": {
          "bdata": "7hvWvmHtqz+EEEIIIYSwP0xnMZ3FdLY/c+UByTpXzj/UJqAU9TLSP02uICZXENM/0zRN0zRN0z9QJq50b0DZPw==",
          "dtype": "f8"
         },
         "y": [
          "mistral:latest",
          "gemma3:1b",
          "gemma3:1b",
          "gemma3:4b",
          "mistral:latest",
          "gemma3:4b",
          "gemma3:12b",
          "gemma3:12b"
         ]
        }
       ],
       "layout": {
        "barmode": "group",
        "height": 320,
        "legend": {
         "orientation": "h",
         "x": 1,
         "xanchor": "right",
         "y": 1.02,
         "yanchor": "bottom"
        },
        "showlegend": true,
        "template": {
         "data": {
          "bar": [
           {
            "error_x": {
             "color": "#2a3f5f"
            },
            "error_y": {
             "color": "#2a3f5f"
            },
            "marker": {
             "line": {
              "color": "white",
              "width": 0.5
             },
             "pattern": {
              "fillmode": "overlay",
              "size": 10,
              "solidity": 0.2
             }
            },
            "type": "bar"
           }
          ],
          "barpolar": [
           {
            "marker": {
             "line": {
              "color": "white",
              "width": 0.5
             },
             "pattern": {
              "fillmode": "overlay",
              "size": 10,
              "solidity": 0.2
             }
            },
            "type": "barpolar"
           }
          ],
          "carpet": [
           {
            "aaxis": {
             "endlinecolor": "#2a3f5f",
             "gridcolor": "#C8D4E3",
             "linecolor": "#C8D4E3",
             "minorgridcolor": "#C8D4E3",
             "startlinecolor": "#2a3f5f"
            },
            "baxis": {
             "endlinecolor": "#2a3f5f",
             "gridcolor": "#C8D4E3",
             "linecolor": "#C8D4E3",
             "minorgridcolor": "#C8D4E3",
             "startlinecolor": "#2a3f5f"
            },
            "type": "carpet"
           }
          ],
          "choropleth": [
           {
            "colorbar": {
             "outlinewidth": 0,
             "ticks": ""
            },
            "type": "choropleth"
           }
          ],
          "contour": [
           {
            "colorbar": {
             "outlinewidth": 0,
             "ticks": ""
            },
            "colorscale": [
             [
              0,
              "#0d0887"
             ],
             [
              0.1111111111111111,
              "#46039f"
             ],
             [
              0.2222222222222222,
              "#7201a8"
             ],
             [
              0.3333333333333333,
              "#9c179e"
             ],
             [
              0.4444444444444444,
              "#bd3786"
             ],
             [
              0.5555555555555556,
              "#d8576b"
             ],
             [
              0.6666666666666666,
              "#ed7953"
             ],
             [
              0.7777777777777778,
              "#fb9f3a"
             ],
             [
              0.8888888888888888,
              "#fdca26"
             ],
             [
              1,
              "#f0f921"
             ]
            ],
            "type": "contour"
           }
          ],
          "contourcarpet": [
           {
            "colorbar": {
             "outlinewidth": 0,
             "ticks": ""
            },
            "type": "contourcarpet"
           }
          ],
          "heatmap": [
           {
            "colorbar": {
             "outlinewidth": 0,
             "ticks": ""
            },
            "colorscale": [
             [
              0,
              "#0d0887"
             ],
             [
              0.1111111111111111,
              "#46039f"
             ],
             [
              0.2222222222222222,
              "#7201a8"
             ],
             [
              0.3333333333333333,
              "#9c179e"
             ],
             [
              0.4444444444444444,
              "#bd3786"
             ],
             [
              0.5555555555555556,
              "#d8576b"
             ],
             [
              0.6666666666666666,
              "#ed7953"
             ],
             [
              0.7777777777777778,
              "#fb9f3a"
             ],
             [
              0.8888888888888888,
              "#fdca26"
             ],
             [
              1,
              "#f0f921"
             ]
            ],
            "type": "heatmap"
           }
          ],
          "histogram": [
           {
            "marker": {
             "pattern": {
              "fillmode": "overlay",
              "size": 10,
              "solidity": 0.2
             }
            },
            "type": "histogram"
           }
          ],
          "histogram2d": [
           {
            "colorbar": {
             "outlinewidth": 0,
             "ticks": ""
            },
            "colorscale": [
             [
              0,
              "#0d0887"
             ],
             [
              0.1111111111111111,
              "#46039f"
             ],
             [
              0.2222222222222222,
              "#7201a8"
             ],
             [
              0.3333333333333333,
              "#9c179e"
             ],
             [
              0.4444444444444444,
              "#bd3786"
             ],
             [
              0.5555555555555556,
              "#d8576b"
             ],
             [
              0.6666666666666666,
              "#ed7953"
             ],
             [
              0.7777777777777778,
              "#fb9f3a"
             ],
             [
              0.8888888888888888,
              "#fdca26"
             ],
             [
              1,
              "#f0f921"
             ]
            ],
            "type": "histogram2d"
           }
          ],
          "histogram2dcontour": [
           {
            "colorbar": {
             "outlinewidth": 0,
             "ticks": ""
            },
            "colorscale": [
             [
              0,
              "#0d0887"
             ],
             [
              0.1111111111111111,
              "#46039f"
             ],
             [
              0.2222222222222222,
              "#7201a8"
             ],
             [
              0.3333333333333333,
              "#9c179e"
             ],
             [
              0.4444444444444444,
              "#bd3786"
             ],
             [
              0.5555555555555556,
              "#d8576b"
             ],
             [
              0.6666666666666666,
              "#ed7953"
             ],
             [
              0.7777777777777778,
              "#fb9f3a"
             ],
             [
              0.8888888888888888,
              "#fdca26"
             ],
             [
              1,
              "#f0f921"
             ]
            ],
            "type": "histogram2dcontour"
           }
          ],
          "mesh3d": [
           {
            "colorbar": {
             "outlinewidth": 0,
             "ticks": ""
            },
            "type": "mesh3d"
           }
          ],
          "parcoords": [
           {
            "line": {
             "colorbar": {
              "outlinewidth": 0,
              "ticks": ""
             }
            },
            "type": "parcoords"
           }
          ],
          "pie": [
           {
            "automargin": true,
            "type": "pie"
           }
          ],
          "scatter": [
           {
            "fillpattern": {
             "fillmode": "overlay",
             "size": 10,
             "solidity": 0.2
            },
            "type": "scatter"
           }
          ],
          "scatter3d": [
           {
            "line": {
             "colorbar": {
              "outlinewidth": 0,
              "ticks": ""
             }
            },
            "marker": {
             "colorbar": {
              "outlinewidth": 0,
              "ticks": ""
             }
            },
            "type": "scatter3d"
           }
          ],
          "scattercarpet": [
           {
            "marker": {
             "colorbar": {
              "outlinewidth": 0,
              "ticks": ""
             }
            },
            "type": "scattercarpet"
           }
          ],
          "scattergeo": [
           {
            "marker": {
             "colorbar": {
              "outlinewidth": 0,
              "ticks": ""
             }
            },
            "type": "scattergeo"
           }
          ],
          "scattergl": [
           {
            "marker": {
             "colorbar": {
              "outlinewidth": 0,
              "ticks": ""
             }
            },
            "type": "scattergl"
           }
          ],
          "scattermap": [
           {
            "marker": {
             "colorbar": {
              "outlinewidth": 0,
              "ticks": ""
             }
            },
            "type": "scattermap"
           }
          ],
          "scattermapbox": [
           {
            "marker": {
             "colorbar": {
              "outlinewidth": 0,
              "ticks": ""
             }
            },
            "type": "scattermapbox"
           }
          ],
          "scatterpolar": [
           {
            "marker": {
             "colorbar": {
              "outlinewidth": 0,
              "ticks": ""
             }
            },
            "type": "scatterpolar"
           }
          ],
          "scatterpolargl": [
           {
            "marker": {
             "colorbar": {
              "outlinewidth": 0,
              "ticks": ""
             }
            },
            "type": "scatterpolargl"
           }
          ],
          "scatterternary": [
           {
            "marker": {
             "colorbar": {
              "outlinewidth": 0,
              "ticks": ""
             }
            },
            "type": "scatterternary"
           }
          ],
          "surface": [
           {
            "colorbar": {
             "outlinewidth": 0,
             "ticks": ""
            },
            "colorscale": [
             [
              0,
              "#0d0887"
             ],
             [
              0.1111111111111111,
              "#46039f"
             ],
             [
              0.2222222222222222,
              "#7201a8"
             ],
             [
              0.3333333333333333,
              "#9c179e"
             ],
             [
              0.4444444444444444,
              "#bd3786"
             ],
             [
              0.5555555555555556,
              "#d8576b"
             ],
             [
              0.6666666666666666,
              "#ed7953"
             ],
             [
              0.7777777777777778,
              "#fb9f3a"
             ],
             [
              0.8888888888888888,
              "#fdca26"
             ],
             [
              1,
              "#f0f921"
             ]
            ],
            "type": "surface"
           }
          ],
          "table": [
           {
            "cells": {
             "fill": {
              "color": "#EBF0F8"
             },
             "line": {
              "color": "white"
             }
            },
            "header": {
             "fill": {
              "color": "#C8D4E3"
             },
             "line": {
              "color": "white"
             }
            },
            "type": "table"
           }
          ]
         },
         "layout": {
          "annotationdefaults": {
           "arrowcolor": "#2a3f5f",
           "arrowhead": 0,
           "arrowwidth": 1
          },
          "autotypenumbers": "strict",
          "coloraxis": {
           "colorbar": {
            "outlinewidth": 0,
            "ticks": ""
           }
          },
          "colorscale": {
           "diverging": [
            [
             0,
             "#8e0152"
            ],
            [
             0.1,
             "#c51b7d"
            ],
            [
             0.2,
             "#de77ae"
            ],
            [
             0.3,
             "#f1b6da"
            ],
            [
             0.4,
             "#fde0ef"
            ],
            [
             0.5,
             "#f7f7f7"
            ],
            [
             0.6,
             "#e6f5d0"
            ],
            [
             0.7,
             "#b8e186"
            ],
            [
             0.8,
             "#7fbc41"
            ],
            [
             0.9,
             "#4d9221"
            ],
            [
             1,
             "#276419"
            ]
           ],
           "sequential": [
            [
             0,
             "#0d0887"
            ],
            [
             0.1111111111111111,
             "#46039f"
            ],
            [
             0.2222222222222222,
             "#7201a8"
            ],
            [
             0.3333333333333333,
             "#9c179e"
            ],
            [
             0.4444444444444444,
             "#bd3786"
            ],
            [
             0.5555555555555556,
             "#d8576b"
            ],
            [
             0.6666666666666666,
             "#ed7953"
            ],
            [
             0.7777777777777778,
             "#fb9f3a"
            ],
            [
             0.8888888888888888,
             "#fdca26"
            ],
            [
             1,
             "#f0f921"
            ]
           ],
           "sequentialminus": [
            [
             0,
             "#0d0887"
            ],
            [
             0.1111111111111111,
             "#46039f"
            ],
            [
             0.2222222222222222,
             "#7201a8"
            ],
            [
             0.3333333333333333,
             "#9c179e"
            ],
            [
             0.4444444444444444,
             "#bd3786"
            ],
            [
             0.5555555555555556,
             "#d8576b"
            ],
            [
             0.6666666666666666,
             "#ed7953"
            ],
            [
             0.7777777777777778,
             "#fb9f3a"
            ],
            [
             0.8888888888888888,
             "#fdca26"
            ],
            [
             1,
             "#f0f921"
            ]
           ]
          },
          "colorway": [
           "#636efa",
           "#EF553B",
           "#00cc96",
           "#ab63fa",
           "#FFA15A",
           "#19d3f3",
           "#FF6692",
           "#B6E880",
           "#FF97FF",
           "#FECB52"
          ],
          "font": {
           "color": "#2a3f5f"
          },
          "geo": {
           "bgcolor": "white",
           "lakecolor": "white",
           "landcolor": "white",
           "showlakes": true,
           "showland": true,
           "subunitcolor": "#C8D4E3"
          },
          "hoverlabel": {
           "align": "left"
          },
          "hovermode": "closest",
          "mapbox": {
           "style": "light"
          },
          "paper_bgcolor": "white",
          "plot_bgcolor": "white",
          "polar": {
           "angularaxis": {
            "gridcolor": "#EBF0F8",
            "linecolor": "#EBF0F8",
            "ticks": ""
           },
           "bgcolor": "white",
           "radialaxis": {
            "gridcolor": "#EBF0F8",
            "linecolor": "#EBF0F8",
            "ticks": ""
           }
          },
          "scene": {
           "xaxis": {
            "backgroundcolor": "white",
            "gridcolor": "#DFE8F3",
            "gridwidth": 2,
            "linecolor": "#EBF0F8",
            "showbackground": true,
            "ticks": "",
            "zerolinecolor": "#EBF0F8"
           },
           "yaxis": {
            "backgroundcolor": "white",
            "gridcolor": "#DFE8F3",
            "gridwidth": 2,
            "linecolor": "#EBF0F8",
            "showbackground": true,
            "ticks": "",
            "zerolinecolor": "#EBF0F8"
           },
           "zaxis": {
            "backgroundcolor": "white",
            "gridcolor": "#DFE8F3",
            "gridwidth": 2,
            "linecolor": "#EBF0F8",
            "showbackground": true,
            "ticks": "",
            "zerolinecolor": "#EBF0F8"
           }
          },
          "shapedefaults": {
           "line": {
            "color": "#2a3f5f"
           }
          },
          "ternary": {
           "aaxis": {
            "gridcolor": "#DFE8F3",
            "linecolor": "#A2B1C6",
            "ticks": ""
           },
           "baxis": {
            "gridcolor": "#DFE8F3",
            "linecolor": "#A2B1C6",
            "ticks": ""
           },
           "bgcolor": "white",
           "caxis": {
            "gridcolor": "#DFE8F3",
            "linecolor": "#A2B1C6",
            "ticks": ""
           }
          },
          "title": {
           "x": 0.05
          },
          "xaxis": {
           "automargin": true,
           "gridcolor": "#EBF0F8",
           "linecolor": "#EBF0F8",
           "ticks": "",
           "title": {
            "standoff": 15
           },
           "zerolinecolor": "#EBF0F8",
           "zerolinewidth": 2
          },
          "yaxis": {
           "automargin": true,
           "gridcolor": "#EBF0F8",
           "linecolor": "#EBF0F8",
           "ticks": "",
           "title": {
            "standoff": 15
           },
           "zerolinecolor": "#EBF0F8",
           "zerolinewidth": 2
          }
         }
        },
        "title": {
         "font": {
          "color": "#2E2E2E",
          "size": 16
         },
         "text": "Model Performance on Document: ALTAY v. TURKEY (No. 2)<br><span style='font-size:14px'>Best Model: gemma3:12b (F1: 0.395)</span>",
         "x": 0.5
        },
        "width": 800,
        "xaxis": {
         "range": [
          0,
          1
         ],
         "tickfont": {
          "size": 12
         },
         "title": {
          "text": "Score"
         }
        },
        "yaxis": {
         "tickfont": {
          "size": 12
         },
         "title": {
          "text": "Models"
         }
        }
       }
      }
     },
     "metadata": {},
     "output_type": "display_data"
    },
    {
     "data": {
      "application/vnd.plotly.v1+json": {
       "config": {
        "plotlyServerURL": "https://plot.ly"
       },
       "data": [
        {
         "marker": {
          "color": "#FF6B6B"
         },
         "name": "Precision",
         "offsetgroup": "0",
         "orientation": "h",
         "text": {
          "bdata": "AAAAAAAAAAAAAAAAAAAAADMzMzMzM9M/7FG4HoXr0T89CtejcD3iPw==",
          "dtype": "f8"
         },
         "textposition": "auto",
         "type": "bar",
         "width": 0.25,
         "x": {
          "bdata": "AAAAAAAAAAAAAAAAAAAAADMzMzMzM9M/5JFHHnnk0T91ZM9AVDriPw==",
          "dtype": "f8"
         },
         "y": [
          "mistral:latest",
          "gemma3:1b",
          "gemma3:4b",
          "mistral:latest",
          "gemma3:12b"
         ]
        },
        {
         "marker": {
          "color": "#4ECDC4"
         },
         "name": "Recall",
         "offsetgroup": "1",
         "orientation": "h",
         "text": {
          "bdata": "AAAAAAAAAAAAAAAAAAAAAKrx0k1iEKg/PQrXo3A9yj8OLbKd76fWPw==",
          "dtype": "f8"
         },
         "textposition": "auto",
         "type": "bar",
         "width": 0.25,
         "x": {
          "bdata": "AAAAAAAAAAAAAAAAAAAAAAwGg8FgMKg/jUaj0Wg0yj+r1Wq1Wq3WPw==",
          "dtype": "f8"
         },
         "y": [
          "mistral:latest",
          "gemma3:1b",
          "gemma3:4b",
          "mistral:latest",
          "gemma3:12b"
         ]
        },
        {
         "marker": {
          "color": "#45B7D1"
         },
         "name": "F1-Score",
         "offsetgroup": "2",
         "orientation": "h",
         "text": {
          "bdata": "AAAAAAAAAAAAAAAAAAAAAMuhRbbz/bQ/aJHtfD81zj8rhxbZzvfbPw==",
          "dtype": "f8"
         },
         "textposition": "auto",
         "type": "bar",
         "width": 0.25,
         "x": {
          "bdata": "AAAAAAAAAAAAAAAAAAAAADoFL6fg5bQ/Qp4S5ClBzj+sjaHpDvbbPw==",
          "dtype": "f8"
         },
         "y": [
          "mistral:latest",
          "gemma3:1b",
          "gemma3:4b",
          "mistral:latest",
          "gemma3:12b"
         ]
        }
       ],
       "layout": {
        "barmode": "group",
        "height": 300,
        "legend": {
         "orientation": "h",
         "x": 1,
         "xanchor": "right",
         "y": 1.02,
         "yanchor": "bottom"
        },
        "showlegend": true,
        "template": {
         "data": {
          "bar": [
           {
            "error_x": {
             "color": "#2a3f5f"
            },
            "error_y": {
             "color": "#2a3f5f"
            },
            "marker": {
             "line": {
              "color": "white",
              "width": 0.5
             },
             "pattern": {
              "fillmode": "overlay",
              "size": 10,
              "solidity": 0.2
             }
            },
            "type": "bar"
           }
          ],
          "barpolar": [
           {
            "marker": {
             "line": {
              "color": "white",
              "width": 0.5
             },
             "pattern": {
              "fillmode": "overlay",
              "size": 10,
              "solidity": 0.2
             }
            },
            "type": "barpolar"
           }
          ],
          "carpet": [
           {
            "aaxis": {
             "endlinecolor": "#2a3f5f",
             "gridcolor": "#C8D4E3",
             "linecolor": "#C8D4E3",
             "minorgridcolor": "#C8D4E3",
             "startlinecolor": "#2a3f5f"
            },
            "baxis": {
             "endlinecolor": "#2a3f5f",
             "gridcolor": "#C8D4E3",
             "linecolor": "#C8D4E3",
             "minorgridcolor": "#C8D4E3",
             "startlinecolor": "#2a3f5f"
            },
            "type": "carpet"
           }
          ],
          "choropleth": [
           {
            "colorbar": {
             "outlinewidth": 0,
             "ticks": ""
            },
            "type": "choropleth"
           }
          ],
          "contour": [
           {
            "colorbar": {
             "outlinewidth": 0,
             "ticks": ""
            },
            "colorscale": [
             [
              0,
              "#0d0887"
             ],
             [
              0.1111111111111111,
              "#46039f"
             ],
             [
              0.2222222222222222,
              "#7201a8"
             ],
             [
              0.3333333333333333,
              "#9c179e"
             ],
             [
              0.4444444444444444,
              "#bd3786"
             ],
             [
              0.5555555555555556,
              "#d8576b"
             ],
             [
              0.6666666666666666,
              "#ed7953"
             ],
             [
              0.7777777777777778,
              "#fb9f3a"
             ],
             [
              0.8888888888888888,
              "#fdca26"
             ],
             [
              1,
              "#f0f921"
             ]
            ],
            "type": "contour"
           }
          ],
          "contourcarpet": [
           {
            "colorbar": {
             "outlinewidth": 0,
             "ticks": ""
            },
            "type": "contourcarpet"
           }
          ],
          "heatmap": [
           {
            "colorbar": {
             "outlinewidth": 0,
             "ticks": ""
            },
            "colorscale": [
             [
              0,
              "#0d0887"
             ],
             [
              0.1111111111111111,
              "#46039f"
             ],
             [
              0.2222222222222222,
              "#7201a8"
             ],
             [
              0.3333333333333333,
              "#9c179e"
             ],
             [
              0.4444444444444444,
              "#bd3786"
             ],
             [
              0.5555555555555556,
              "#d8576b"
             ],
             [
              0.6666666666666666,
              "#ed7953"
             ],
             [
              0.7777777777777778,
              "#fb9f3a"
             ],
             [
              0.8888888888888888,
              "#fdca26"
             ],
             [
              1,
              "#f0f921"
             ]
            ],
            "type": "heatmap"
           }
          ],
          "histogram": [
           {
            "marker": {
             "pattern": {
              "fillmode": "overlay",
              "size": 10,
              "solidity": 0.2
             }
            },
            "type": "histogram"
           }
          ],
          "histogram2d": [
           {
            "colorbar": {
             "outlinewidth": 0,
             "ticks": ""
            },
            "colorscale": [
             [
              0,
              "#0d0887"
             ],
             [
              0.1111111111111111,
              "#46039f"
             ],
             [
              0.2222222222222222,
              "#7201a8"
             ],
             [
              0.3333333333333333,
              "#9c179e"
             ],
             [
              0.4444444444444444,
              "#bd3786"
             ],
             [
              0.5555555555555556,
              "#d8576b"
             ],
             [
              0.6666666666666666,
              "#ed7953"
             ],
             [
              0.7777777777777778,
              "#fb9f3a"
             ],
             [
              0.8888888888888888,
              "#fdca26"
             ],
             [
              1,
              "#f0f921"
             ]
            ],
            "type": "histogram2d"
           }
          ],
          "histogram2dcontour": [
           {
            "colorbar": {
             "outlinewidth": 0,
             "ticks": ""
            },
            "colorscale": [
             [
              0,
              "#0d0887"
             ],
             [
              0.1111111111111111,
              "#46039f"
             ],
             [
              0.2222222222222222,
              "#7201a8"
             ],
             [
              0.3333333333333333,
              "#9c179e"
             ],
             [
              0.4444444444444444,
              "#bd3786"
             ],
             [
              0.5555555555555556,
              "#d8576b"
             ],
             [
              0.6666666666666666,
              "#ed7953"
             ],
             [
              0.7777777777777778,
              "#fb9f3a"
             ],
             [
              0.8888888888888888,
              "#fdca26"
             ],
             [
              1,
              "#f0f921"
             ]
            ],
            "type": "histogram2dcontour"
           }
          ],
          "mesh3d": [
           {
            "colorbar": {
             "outlinewidth": 0,
             "ticks": ""
            },
            "type": "mesh3d"
           }
          ],
          "parcoords": [
           {
            "line": {
             "colorbar": {
              "outlinewidth": 0,
              "ticks": ""
             }
            },
            "type": "parcoords"
           }
          ],
          "pie": [
           {
            "automargin": true,
            "type": "pie"
           }
          ],
          "scatter": [
           {
            "fillpattern": {
             "fillmode": "overlay",
             "size": 10,
             "solidity": 0.2
            },
            "type": "scatter"
           }
          ],
          "scatter3d": [
           {
            "line": {
             "colorbar": {
              "outlinewidth": 0,
              "ticks": ""
             }
            },
            "marker": {
             "colorbar": {
              "outlinewidth": 0,
              "ticks": ""
             }
            },
            "type": "scatter3d"
           }
          ],
          "scattercarpet": [
           {
            "marker": {
             "colorbar": {
              "outlinewidth": 0,
              "ticks": ""
             }
            },
            "type": "scattercarpet"
           }
          ],
          "scattergeo": [
           {
            "marker": {
             "colorbar": {
              "outlinewidth": 0,
              "ticks": ""
             }
            },
            "type": "scattergeo"
           }
          ],
          "scattergl": [
           {
            "marker": {
             "colorbar": {
              "outlinewidth": 0,
              "ticks": ""
             }
            },
            "type": "scattergl"
           }
          ],
          "scattermap": [
           {
            "marker": {
             "colorbar": {
              "outlinewidth": 0,
              "ticks": ""
             }
            },
            "type": "scattermap"
           }
          ],
          "scattermapbox": [
           {
            "marker": {
             "colorbar": {
              "outlinewidth": 0,
              "ticks": ""
             }
            },
            "type": "scattermapbox"
           }
          ],
          "scatterpolar": [
           {
            "marker": {
             "colorbar": {
              "outlinewidth": 0,
              "ticks": ""
             }
            },
            "type": "scatterpolar"
           }
          ],
          "scatterpolargl": [
           {
            "marker": {
             "colorbar": {
              "outlinewidth": 0,
              "ticks": ""
             }
            },
            "type": "scatterpolargl"
           }
          ],
          "scatterternary": [
           {
            "marker": {
             "colorbar": {
              "outlinewidth": 0,
              "ticks": ""
             }
            },
            "type": "scatterternary"
           }
          ],
          "surface": [
           {
            "colorbar": {
             "outlinewidth": 0,
             "ticks": ""
            },
            "colorscale": [
             [
              0,
              "#0d0887"
             ],
             [
              0.1111111111111111,
              "#46039f"
             ],
             [
              0.2222222222222222,
              "#7201a8"
             ],
             [
              0.3333333333333333,
              "#9c179e"
             ],
             [
              0.4444444444444444,
              "#bd3786"
             ],
             [
              0.5555555555555556,
              "#d8576b"
             ],
             [
              0.6666666666666666,
              "#ed7953"
             ],
             [
              0.7777777777777778,
              "#fb9f3a"
             ],
             [
              0.8888888888888888,
              "#fdca26"
             ],
             [
              1,
              "#f0f921"
             ]
            ],
            "type": "surface"
           }
          ],
          "table": [
           {
            "cells": {
             "fill": {
              "color": "#EBF0F8"
             },
             "line": {
              "color": "white"
             }
            },
            "header": {
             "fill": {
              "color": "#C8D4E3"
             },
             "line": {
              "color": "white"
             }
            },
            "type": "table"
           }
          ]
         },
         "layout": {
          "annotationdefaults": {
           "arrowcolor": "#2a3f5f",
           "arrowhead": 0,
           "arrowwidth": 1
          },
          "autotypenumbers": "strict",
          "coloraxis": {
           "colorbar": {
            "outlinewidth": 0,
            "ticks": ""
           }
          },
          "colorscale": {
           "diverging": [
            [
             0,
             "#8e0152"
            ],
            [
             0.1,
             "#c51b7d"
            ],
            [
             0.2,
             "#de77ae"
            ],
            [
             0.3,
             "#f1b6da"
            ],
            [
             0.4,
             "#fde0ef"
            ],
            [
             0.5,
             "#f7f7f7"
            ],
            [
             0.6,
             "#e6f5d0"
            ],
            [
             0.7,
             "#b8e186"
            ],
            [
             0.8,
             "#7fbc41"
            ],
            [
             0.9,
             "#4d9221"
            ],
            [
             1,
             "#276419"
            ]
           ],
           "sequential": [
            [
             0,
             "#0d0887"
            ],
            [
             0.1111111111111111,
             "#46039f"
            ],
            [
             0.2222222222222222,
             "#7201a8"
            ],
            [
             0.3333333333333333,
             "#9c179e"
            ],
            [
             0.4444444444444444,
             "#bd3786"
            ],
            [
             0.5555555555555556,
             "#d8576b"
            ],
            [
             0.6666666666666666,
             "#ed7953"
            ],
            [
             0.7777777777777778,
             "#fb9f3a"
            ],
            [
             0.8888888888888888,
             "#fdca26"
            ],
            [
             1,
             "#f0f921"
            ]
           ],
           "sequentialminus": [
            [
             0,
             "#0d0887"
            ],
            [
             0.1111111111111111,
             "#46039f"
            ],
            [
             0.2222222222222222,
             "#7201a8"
            ],
            [
             0.3333333333333333,
             "#9c179e"
            ],
            [
             0.4444444444444444,
             "#bd3786"
            ],
            [
             0.5555555555555556,
             "#d8576b"
            ],
            [
             0.6666666666666666,
             "#ed7953"
            ],
            [
             0.7777777777777778,
             "#fb9f3a"
            ],
            [
             0.8888888888888888,
             "#fdca26"
            ],
            [
             1,
             "#f0f921"
            ]
           ]
          },
          "colorway": [
           "#636efa",
           "#EF553B",
           "#00cc96",
           "#ab63fa",
           "#FFA15A",
           "#19d3f3",
           "#FF6692",
           "#B6E880",
           "#FF97FF",
           "#FECB52"
          ],
          "font": {
           "color": "#2a3f5f"
          },
          "geo": {
           "bgcolor": "white",
           "lakecolor": "white",
           "landcolor": "white",
           "showlakes": true,
           "showland": true,
           "subunitcolor": "#C8D4E3"
          },
          "hoverlabel": {
           "align": "left"
          },
          "hovermode": "closest",
          "mapbox": {
           "style": "light"
          },
          "paper_bgcolor": "white",
          "plot_bgcolor": "white",
          "polar": {
           "angularaxis": {
            "gridcolor": "#EBF0F8",
            "linecolor": "#EBF0F8",
            "ticks": ""
           },
           "bgcolor": "white",
           "radialaxis": {
            "gridcolor": "#EBF0F8",
            "linecolor": "#EBF0F8",
            "ticks": ""
           }
          },
          "scene": {
           "xaxis": {
            "backgroundcolor": "white",
            "gridcolor": "#DFE8F3",
            "gridwidth": 2,
            "linecolor": "#EBF0F8",
            "showbackground": true,
            "ticks": "",
            "zerolinecolor": "#EBF0F8"
           },
           "yaxis": {
            "backgroundcolor": "white",
            "gridcolor": "#DFE8F3",
            "gridwidth": 2,
            "linecolor": "#EBF0F8",
            "showbackground": true,
            "ticks": "",
            "zerolinecolor": "#EBF0F8"
           },
           "zaxis": {
            "backgroundcolor": "white",
            "gridcolor": "#DFE8F3",
            "gridwidth": 2,
            "linecolor": "#EBF0F8",
            "showbackground": true,
            "ticks": "",
            "zerolinecolor": "#EBF0F8"
           }
          },
          "shapedefaults": {
           "line": {
            "color": "#2a3f5f"
           }
          },
          "ternary": {
           "aaxis": {
            "gridcolor": "#DFE8F3",
            "linecolor": "#A2B1C6",
            "ticks": ""
           },
           "baxis": {
            "gridcolor": "#DFE8F3",
            "linecolor": "#A2B1C6",
            "ticks": ""
           },
           "bgcolor": "white",
           "caxis": {
            "gridcolor": "#DFE8F3",
            "linecolor": "#A2B1C6",
            "ticks": ""
           }
          },
          "title": {
           "x": 0.05
          },
          "xaxis": {
           "automargin": true,
           "gridcolor": "#EBF0F8",
           "linecolor": "#EBF0F8",
           "ticks": "",
           "title": {
            "standoff": 15
           },
           "zerolinecolor": "#EBF0F8",
           "zerolinewidth": 2
          },
          "yaxis": {
           "automargin": true,
           "gridcolor": "#EBF0F8",
           "linecolor": "#EBF0F8",
           "ticks": "",
           "title": {
            "standoff": 15
           },
           "zerolinecolor": "#EBF0F8",
           "zerolinewidth": 2
          }
         }
        },
        "title": {
         "font": {
          "color": "#2E2E2E",
          "size": 16
         },
         "text": "Model Performance on Document: H_INESS v. NORWAY (1)<br><span style='font-size:14px'>Best Model: gemma3:12b (F1: 0.437)</span>",
         "x": 0.5
        },
        "width": 800,
        "xaxis": {
         "range": [
          0,
          1
         ],
         "tickfont": {
          "size": 12
         },
         "title": {
          "text": "Score"
         }
        },
        "yaxis": {
         "tickfont": {
          "size": 12
         },
         "title": {
          "text": "Models"
         }
        }
       }
      }
     },
     "metadata": {},
     "output_type": "display_data"
    },
    {
     "data": {
      "application/vnd.plotly.v1+json": {
       "config": {
        "plotlyServerURL": "https://plot.ly"
       },
       "data": [
        {
         "marker": {
          "color": "#FF6B6B"
         },
         "name": "Precision",
         "offsetgroup": "0",
         "orientation": "h",
         "text": {
          "bdata": "AAAAAAAAAADRItv5fmrMP2q8dJMYBNY/iUFg5dAi2z8zMzMzMzPjPwrXo3A9CuM/uB6F61G45j+iRbbz/dTYPw==",
          "dtype": "f8"
         },
         "textposition": "auto",
         "type": "bar",
         "width": 0.25,
         "x": {
          "bdata": "AAAAAAAAAAAcx3Ecx3HMPwAAAAAAANY/J5tssskm2z8zMzMzMzPjP28wRT7rBuM/ttZaa6215j/ztXp2CNzYPw==",
          "dtype": "f8"
         },
         "y": [
          "gemma3:1b",
          "gemma3:1b",
          "mistral:latest",
          "gemma3:4b",
          "gemma3:12b",
          "gemma3:12b",
          "gemma3:4b",
          "mistral:latest"
         ]
        },
        {
         "marker": {
          "color": "#4ECDC4"
         },
         "name": "Recall",
         "offsetgroup": "1",
         "orientation": "h",
         "text": {
          "bdata": "AAAAAAAAAAC6SQwCK4e2P2Dl0CLb+b4/g8DKoUW2wz8fhetRuB7FP2Dl0CLb+c4/YOXQItv5zj9QjZduEoPgPw==",
          "dtype": "f8"
         },
         "textposition": "auto",
         "type": "bar",
         "width": 0.25,
         "x": {
          "bdata": "AAAAAAAAAAAXaIEWaIG2Px/v8R7v8b4/FDuxEzuxwz+VURmVURnFPx/v8R7v8c4/H+/xHu/xzj9xCIdwCIfgPw==",
          "dtype": "f8"
         },
         "y": [
          "gemma3:1b",
          "gemma3:1b",
          "mistral:latest",
          "gemma3:4b",
          "gemma3:12b",
          "gemma3:12b",
          "gemma3:4b",
          "mistral:latest"
         ]
        },
        {
         "marker": {
          "color": "#45B7D1"
         },
         "name": "F1-Score",
         "offsetgroup": "2",
         "orientation": "h",
         "text": {
          "bdata": "AAAAAAAAAABU46WbxCDAP7bz/dR46cY/IbByaJHtzD/6fmq8dJPQP2q8dJMYBNY/tMh2vp8a1z8nMQisHFrcPw==",
          "dtype": "f8"
         },
         "textposition": "auto",
         "type": "bar",
         "width": 0.25,
         "x": {
          "bdata": "AAAAAAAAAAAIBAKBQCDAP+QWT27x5MY/6ZxzzjnnzD/d0wjLPY3QPwAAAAAAANY/EayjzfsU1z9d2eeQmmDcPw==",
          "dtype": "f8"
         },
         "y": [
          "gemma3:1b",
          "gemma3:1b",
          "mistral:latest",
          "gemma3:4b",
          "gemma3:12b",
          "gemma3:12b",
          "gemma3:4b",
          "mistral:latest"
         ]
        }
       ],
       "layout": {
        "barmode": "group",
        "height": 320,
        "legend": {
         "orientation": "h",
         "x": 1,
         "xanchor": "right",
         "y": 1.02,
         "yanchor": "bottom"
        },
        "showlegend": true,
        "template": {
         "data": {
          "bar": [
           {
            "error_x": {
             "color": "#2a3f5f"
            },
            "error_y": {
             "color": "#2a3f5f"
            },
            "marker": {
             "line": {
              "color": "white",
              "width": 0.5
             },
             "pattern": {
              "fillmode": "overlay",
              "size": 10,
              "solidity": 0.2
             }
            },
            "type": "bar"
           }
          ],
          "barpolar": [
           {
            "marker": {
             "line": {
              "color": "white",
              "width": 0.5
             },
             "pattern": {
              "fillmode": "overlay",
              "size": 10,
              "solidity": 0.2
             }
            },
            "type": "barpolar"
           }
          ],
          "carpet": [
           {
            "aaxis": {
             "endlinecolor": "#2a3f5f",
             "gridcolor": "#C8D4E3",
             "linecolor": "#C8D4E3",
             "minorgridcolor": "#C8D4E3",
             "startlinecolor": "#2a3f5f"
            },
            "baxis": {
             "endlinecolor": "#2a3f5f",
             "gridcolor": "#C8D4E3",
             "linecolor": "#C8D4E3",
             "minorgridcolor": "#C8D4E3",
             "startlinecolor": "#2a3f5f"
            },
            "type": "carpet"
           }
          ],
          "choropleth": [
           {
            "colorbar": {
             "outlinewidth": 0,
             "ticks": ""
            },
            "type": "choropleth"
           }
          ],
          "contour": [
           {
            "colorbar": {
             "outlinewidth": 0,
             "ticks": ""
            },
            "colorscale": [
             [
              0,
              "#0d0887"
             ],
             [
              0.1111111111111111,
              "#46039f"
             ],
             [
              0.2222222222222222,
              "#7201a8"
             ],
             [
              0.3333333333333333,
              "#9c179e"
             ],
             [
              0.4444444444444444,
              "#bd3786"
             ],
             [
              0.5555555555555556,
              "#d8576b"
             ],
             [
              0.6666666666666666,
              "#ed7953"
             ],
             [
              0.7777777777777778,
              "#fb9f3a"
             ],
             [
              0.8888888888888888,
              "#fdca26"
             ],
             [
              1,
              "#f0f921"
             ]
            ],
            "type": "contour"
           }
          ],
          "contourcarpet": [
           {
            "colorbar": {
             "outlinewidth": 0,
             "ticks": ""
            },
            "type": "contourcarpet"
           }
          ],
          "heatmap": [
           {
            "colorbar": {
             "outlinewidth": 0,
             "ticks": ""
            },
            "colorscale": [
             [
              0,
              "#0d0887"
             ],
             [
              0.1111111111111111,
              "#46039f"
             ],
             [
              0.2222222222222222,
              "#7201a8"
             ],
             [
              0.3333333333333333,
              "#9c179e"
             ],
             [
              0.4444444444444444,
              "#bd3786"
             ],
             [
              0.5555555555555556,
              "#d8576b"
             ],
             [
              0.6666666666666666,
              "#ed7953"
             ],
             [
              0.7777777777777778,
              "#fb9f3a"
             ],
             [
              0.8888888888888888,
              "#fdca26"
             ],
             [
              1,
              "#f0f921"
             ]
            ],
            "type": "heatmap"
           }
          ],
          "histogram": [
           {
            "marker": {
             "pattern": {
              "fillmode": "overlay",
              "size": 10,
              "solidity": 0.2
             }
            },
            "type": "histogram"
           }
          ],
          "histogram2d": [
           {
            "colorbar": {
             "outlinewidth": 0,
             "ticks": ""
            },
            "colorscale": [
             [
              0,
              "#0d0887"
             ],
             [
              0.1111111111111111,
              "#46039f"
             ],
             [
              0.2222222222222222,
              "#7201a8"
             ],
             [
              0.3333333333333333,
              "#9c179e"
             ],
             [
              0.4444444444444444,
              "#bd3786"
             ],
             [
              0.5555555555555556,
              "#d8576b"
             ],
             [
              0.6666666666666666,
              "#ed7953"
             ],
             [
              0.7777777777777778,
              "#fb9f3a"
             ],
             [
              0.8888888888888888,
              "#fdca26"
             ],
             [
              1,
              "#f0f921"
             ]
            ],
            "type": "histogram2d"
           }
          ],
          "histogram2dcontour": [
           {
            "colorbar": {
             "outlinewidth": 0,
             "ticks": ""
            },
            "colorscale": [
             [
              0,
              "#0d0887"
             ],
             [
              0.1111111111111111,
              "#46039f"
             ],
             [
              0.2222222222222222,
              "#7201a8"
             ],
             [
              0.3333333333333333,
              "#9c179e"
             ],
             [
              0.4444444444444444,
              "#bd3786"
             ],
             [
              0.5555555555555556,
              "#d8576b"
             ],
             [
              0.6666666666666666,
              "#ed7953"
             ],
             [
              0.7777777777777778,
              "#fb9f3a"
             ],
             [
              0.8888888888888888,
              "#fdca26"
             ],
             [
              1,
              "#f0f921"
             ]
            ],
            "type": "histogram2dcontour"
           }
          ],
          "mesh3d": [
           {
            "colorbar": {
             "outlinewidth": 0,
             "ticks": ""
            },
            "type": "mesh3d"
           }
          ],
          "parcoords": [
           {
            "line": {
             "colorbar": {
              "outlinewidth": 0,
              "ticks": ""
             }
            },
            "type": "parcoords"
           }
          ],
          "pie": [
           {
            "automargin": true,
            "type": "pie"
           }
          ],
          "scatter": [
           {
            "fillpattern": {
             "fillmode": "overlay",
             "size": 10,
             "solidity": 0.2
            },
            "type": "scatter"
           }
          ],
          "scatter3d": [
           {
            "line": {
             "colorbar": {
              "outlinewidth": 0,
              "ticks": ""
             }
            },
            "marker": {
             "colorbar": {
              "outlinewidth": 0,
              "ticks": ""
             }
            },
            "type": "scatter3d"
           }
          ],
          "scattercarpet": [
           {
            "marker": {
             "colorbar": {
              "outlinewidth": 0,
              "ticks": ""
             }
            },
            "type": "scattercarpet"
           }
          ],
          "scattergeo": [
           {
            "marker": {
             "colorbar": {
              "outlinewidth": 0,
              "ticks": ""
             }
            },
            "type": "scattergeo"
           }
          ],
          "scattergl": [
           {
            "marker": {
             "colorbar": {
              "outlinewidth": 0,
              "ticks": ""
             }
            },
            "type": "scattergl"
           }
          ],
          "scattermap": [
           {
            "marker": {
             "colorbar": {
              "outlinewidth": 0,
              "ticks": ""
             }
            },
            "type": "scattermap"
           }
          ],
          "scattermapbox": [
           {
            "marker": {
             "colorbar": {
              "outlinewidth": 0,
              "ticks": ""
             }
            },
            "type": "scattermapbox"
           }
          ],
          "scatterpolar": [
           {
            "marker": {
             "colorbar": {
              "outlinewidth": 0,
              "ticks": ""
             }
            },
            "type": "scatterpolar"
           }
          ],
          "scatterpolargl": [
           {
            "marker": {
             "colorbar": {
              "outlinewidth": 0,
              "ticks": ""
             }
            },
            "type": "scatterpolargl"
           }
          ],
          "scatterternary": [
           {
            "marker": {
             "colorbar": {
              "outlinewidth": 0,
              "ticks": ""
             }
            },
            "type": "scatterternary"
           }
          ],
          "surface": [
           {
            "colorbar": {
             "outlinewidth": 0,
             "ticks": ""
            },
            "colorscale": [
             [
              0,
              "#0d0887"
             ],
             [
              0.1111111111111111,
              "#46039f"
             ],
             [
              0.2222222222222222,
              "#7201a8"
             ],
             [
              0.3333333333333333,
              "#9c179e"
             ],
             [
              0.4444444444444444,
              "#bd3786"
             ],
             [
              0.5555555555555556,
              "#d8576b"
             ],
             [
              0.6666666666666666,
              "#ed7953"
             ],
             [
              0.7777777777777778,
              "#fb9f3a"
             ],
             [
              0.8888888888888888,
              "#fdca26"
             ],
             [
              1,
              "#f0f921"
             ]
            ],
            "type": "surface"
           }
          ],
          "table": [
           {
            "cells": {
             "fill": {
              "color": "#EBF0F8"
             },
             "line": {
              "color": "white"
             }
            },
            "header": {
             "fill": {
              "color": "#C8D4E3"
             },
             "line": {
              "color": "white"
             }
            },
            "type": "table"
           }
          ]
         },
         "layout": {
          "annotationdefaults": {
           "arrowcolor": "#2a3f5f",
           "arrowhead": 0,
           "arrowwidth": 1
          },
          "autotypenumbers": "strict",
          "coloraxis": {
           "colorbar": {
            "outlinewidth": 0,
            "ticks": ""
           }
          },
          "colorscale": {
           "diverging": [
            [
             0,
             "#8e0152"
            ],
            [
             0.1,
             "#c51b7d"
            ],
            [
             0.2,
             "#de77ae"
            ],
            [
             0.3,
             "#f1b6da"
            ],
            [
             0.4,
             "#fde0ef"
            ],
            [
             0.5,
             "#f7f7f7"
            ],
            [
             0.6,
             "#e6f5d0"
            ],
            [
             0.7,
             "#b8e186"
            ],
            [
             0.8,
             "#7fbc41"
            ],
            [
             0.9,
             "#4d9221"
            ],
            [
             1,
             "#276419"
            ]
           ],
           "sequential": [
            [
             0,
             "#0d0887"
            ],
            [
             0.1111111111111111,
             "#46039f"
            ],
            [
             0.2222222222222222,
             "#7201a8"
            ],
            [
             0.3333333333333333,
             "#9c179e"
            ],
            [
             0.4444444444444444,
             "#bd3786"
            ],
            [
             0.5555555555555556,
             "#d8576b"
            ],
            [
             0.6666666666666666,
             "#ed7953"
            ],
            [
             0.7777777777777778,
             "#fb9f3a"
            ],
            [
             0.8888888888888888,
             "#fdca26"
            ],
            [
             1,
             "#f0f921"
            ]
           ],
           "sequentialminus": [
            [
             0,
             "#0d0887"
            ],
            [
             0.1111111111111111,
             "#46039f"
            ],
            [
             0.2222222222222222,
             "#7201a8"
            ],
            [
             0.3333333333333333,
             "#9c179e"
            ],
            [
             0.4444444444444444,
             "#bd3786"
            ],
            [
             0.5555555555555556,
             "#d8576b"
            ],
            [
             0.6666666666666666,
             "#ed7953"
            ],
            [
             0.7777777777777778,
             "#fb9f3a"
            ],
            [
             0.8888888888888888,
             "#fdca26"
            ],
            [
             1,
             "#f0f921"
            ]
           ]
          },
          "colorway": [
           "#636efa",
           "#EF553B",
           "#00cc96",
           "#ab63fa",
           "#FFA15A",
           "#19d3f3",
           "#FF6692",
           "#B6E880",
           "#FF97FF",
           "#FECB52"
          ],
          "font": {
           "color": "#2a3f5f"
          },
          "geo": {
           "bgcolor": "white",
           "lakecolor": "white",
           "landcolor": "white",
           "showlakes": true,
           "showland": true,
           "subunitcolor": "#C8D4E3"
          },
          "hoverlabel": {
           "align": "left"
          },
          "hovermode": "closest",
          "mapbox": {
           "style": "light"
          },
          "paper_bgcolor": "white",
          "plot_bgcolor": "white",
          "polar": {
           "angularaxis": {
            "gridcolor": "#EBF0F8",
            "linecolor": "#EBF0F8",
            "ticks": ""
           },
           "bgcolor": "white",
           "radialaxis": {
            "gridcolor": "#EBF0F8",
            "linecolor": "#EBF0F8",
            "ticks": ""
           }
          },
          "scene": {
           "xaxis": {
            "backgroundcolor": "white",
            "gridcolor": "#DFE8F3",
            "gridwidth": 2,
            "linecolor": "#EBF0F8",
            "showbackground": true,
            "ticks": "",
            "zerolinecolor": "#EBF0F8"
           },
           "yaxis": {
            "backgroundcolor": "white",
            "gridcolor": "#DFE8F3",
            "gridwidth": 2,
            "linecolor": "#EBF0F8",
            "showbackground": true,
            "ticks": "",
            "zerolinecolor": "#EBF0F8"
           },
           "zaxis": {
            "backgroundcolor": "white",
            "gridcolor": "#DFE8F3",
            "gridwidth": 2,
            "linecolor": "#EBF0F8",
            "showbackground": true,
            "ticks": "",
            "zerolinecolor": "#EBF0F8"
           }
          },
          "shapedefaults": {
           "line": {
            "color": "#2a3f5f"
           }
          },
          "ternary": {
           "aaxis": {
            "gridcolor": "#DFE8F3",
            "linecolor": "#A2B1C6",
            "ticks": ""
           },
           "baxis": {
            "gridcolor": "#DFE8F3",
            "linecolor": "#A2B1C6",
            "ticks": ""
           },
           "bgcolor": "white",
           "caxis": {
            "gridcolor": "#DFE8F3",
            "linecolor": "#A2B1C6",
            "ticks": ""
           }
          },
          "title": {
           "x": 0.05
          },
          "xaxis": {
           "automargin": true,
           "gridcolor": "#EBF0F8",
           "linecolor": "#EBF0F8",
           "ticks": "",
           "title": {
            "standoff": 15
           },
           "zerolinecolor": "#EBF0F8",
           "zerolinewidth": 2
          },
          "yaxis": {
           "automargin": true,
           "gridcolor": "#EBF0F8",
           "linecolor": "#EBF0F8",
           "ticks": "",
           "title": {
            "standoff": 15
           },
           "zerolinecolor": "#EBF0F8",
           "zerolinewidth": 2
          }
         }
        },
        "title": {
         "font": {
          "color": "#2E2E2E",
          "size": 16
         },
         "text": "Model Performance on Document: SHVIDKIYE v. RUSSIA<br><span style='font-size:14px'>Best Model: mistral:latest (F1: 0.443)</span>",
         "x": 0.5
        },
        "width": 800,
        "xaxis": {
         "range": [
          0,
          1
         ],
         "tickfont": {
          "size": 12
         },
         "title": {
          "text": "Score"
         }
        },
        "yaxis": {
         "tickfont": {
          "size": 12
         },
         "title": {
          "text": "Models"
         }
        }
       }
      }
     },
     "metadata": {},
     "output_type": "display_data"
    },
    {
     "data": {
      "application/vnd.plotly.v1+json": {
       "config": {
        "plotlyServerURL": "https://plot.ly"
       },
       "data": [
        {
         "marker": {
          "color": "#FF6B6B"
         },
         "name": "Precision",
         "offsetgroup": "0",
         "orientation": "h",
         "text": {
          "bdata": "AAAAAAAAAABqvHSTGASmP9nO91Pjpas/MQisHFpkyz8AAAAAAADYP0a28/3UeNE/sp3vp8ZLxz/jpZvEILDaPw==",
          "dtype": "f8"
         },
         "textposition": "auto",
         "type": "bar",
         "width": 0.25,
         "x": {
          "bdata": "AAAAAAAAAABkIQtZyEKmP9C6wRT5rKs/27Zt27Ztyz8AAAAAAADYP3TRRRdddNE/RhdddNFFxz+rqqqqqqraPw==",
          "dtype": "f8"
         },
         "y": [
          "mistral:latest",
          "gemma3:1b",
          "gemma3:1b",
          "gemma3:4b",
          "gemma3:12b",
          "gemma3:4b",
          "mistral:latest",
          "gemma3:12b"
         ]
        },
        {
         "marker": {
          "color": "#4ECDC4"
         },
         "name": "Recall",
         "offsetgroup": "1",
         "orientation": "h",
         "text": {
          "bdata": "AAAAAAAAAAD8qfHSTWKQP0w3iUFg5aA/SgwCK4cWqT+LbOf7qfHCP57vp8ZLN8k/x0s3iUFg3T+wcmiR7XzPPw==",
          "dtype": "f8"
         },
         "textposition": "auto",
         "type": "bar",
         "width": 0.25,
         "x": {
          "bdata": "AAAAAAAAAAA72rxPccmQPzvavE9xyaA/WEeb9ykuqT+CdbR5n+LCP1hHm/cpLsk/532KS4Zg3T8uGYJ1tHnPPw==",
          "dtype": "f8"
         },
         "y": [
          "mistral:latest",
          "gemma3:1b",
          "gemma3:1b",
          "gemma3:4b",
          "gemma3:12b",
          "gemma3:4b",
          "mistral:latest",
          "gemma3:12b"
         ]
        },
        {
         "marker": {
          "color": "#45B7D1"
         },
         "name": "F1-Score",
         "offsetgroup": "2",
         "orientation": "h",
         "text": {
          "bdata": "AAAAAAAAAAD6fmq8dJOYP8uhRbbz/aQ/exSuR+F6tD+JQWDl0CLLPx1aZDvfT80/pHA9Ctej0D8tsp3vp8bTPw==",
          "dtype": "f8"
         },
         "textposition": "auto",
         "type": "bar",
         "width": 0.25,
         "x": {
          "bdata": "AAAAAAAAAAAYhmEYhmGYPzkFL6fg5aQ/fBSuR+F6tD8cGxsbGxvLPx3UQR3UQc0/XrcK4XWr0D+UyDRsN8vTPw==",
          "dtype": "f8"
         },
         "y": [
          "mistral:latest",
          "gemma3:1b",
          "gemma3:1b",
          "gemma3:4b",
          "gemma3:12b",
          "gemma3:4b",
          "mistral:latest",
          "gemma3:12b"
         ]
        }
       ],
       "layout": {
        "barmode": "group",
        "height": 320,
        "legend": {
         "orientation": "h",
         "x": 1,
         "xanchor": "right",
         "y": 1.02,
         "yanchor": "bottom"
        },
        "showlegend": true,
        "template": {
         "data": {
          "bar": [
           {
            "error_x": {
             "color": "#2a3f5f"
            },
            "error_y": {
             "color": "#2a3f5f"
            },
            "marker": {
             "line": {
              "color": "white",
              "width": 0.5
             },
             "pattern": {
              "fillmode": "overlay",
              "size": 10,
              "solidity": 0.2
             }
            },
            "type": "bar"
           }
          ],
          "barpolar": [
           {
            "marker": {
             "line": {
              "color": "white",
              "width": 0.5
             },
             "pattern": {
              "fillmode": "overlay",
              "size": 10,
              "solidity": 0.2
             }
            },
            "type": "barpolar"
           }
          ],
          "carpet": [
           {
            "aaxis": {
             "endlinecolor": "#2a3f5f",
             "gridcolor": "#C8D4E3",
             "linecolor": "#C8D4E3",
             "minorgridcolor": "#C8D4E3",
             "startlinecolor": "#2a3f5f"
            },
            "baxis": {
             "endlinecolor": "#2a3f5f",
             "gridcolor": "#C8D4E3",
             "linecolor": "#C8D4E3",
             "minorgridcolor": "#C8D4E3",
             "startlinecolor": "#2a3f5f"
            },
            "type": "carpet"
           }
          ],
          "choropleth": [
           {
            "colorbar": {
             "outlinewidth": 0,
             "ticks": ""
            },
            "type": "choropleth"
           }
          ],
          "contour": [
           {
            "colorbar": {
             "outlinewidth": 0,
             "ticks": ""
            },
            "colorscale": [
             [
              0,
              "#0d0887"
             ],
             [
              0.1111111111111111,
              "#46039f"
             ],
             [
              0.2222222222222222,
              "#7201a8"
             ],
             [
              0.3333333333333333,
              "#9c179e"
             ],
             [
              0.4444444444444444,
              "#bd3786"
             ],
             [
              0.5555555555555556,
              "#d8576b"
             ],
             [
              0.6666666666666666,
              "#ed7953"
             ],
             [
              0.7777777777777778,
              "#fb9f3a"
             ],
             [
              0.8888888888888888,
              "#fdca26"
             ],
             [
              1,
              "#f0f921"
             ]
            ],
            "type": "contour"
           }
          ],
          "contourcarpet": [
           {
            "colorbar": {
             "outlinewidth": 0,
             "ticks": ""
            },
            "type": "contourcarpet"
           }
          ],
          "heatmap": [
           {
            "colorbar": {
             "outlinewidth": 0,
             "ticks": ""
            },
            "colorscale": [
             [
              0,
              "#0d0887"
             ],
             [
              0.1111111111111111,
              "#46039f"
             ],
             [
              0.2222222222222222,
              "#7201a8"
             ],
             [
              0.3333333333333333,
              "#9c179e"
             ],
             [
              0.4444444444444444,
              "#bd3786"
             ],
             [
              0.5555555555555556,
              "#d8576b"
             ],
             [
              0.6666666666666666,
              "#ed7953"
             ],
             [
              0.7777777777777778,
              "#fb9f3a"
             ],
             [
              0.8888888888888888,
              "#fdca26"
             ],
             [
              1,
              "#f0f921"
             ]
            ],
            "type": "heatmap"
           }
          ],
          "histogram": [
           {
            "marker": {
             "pattern": {
              "fillmode": "overlay",
              "size": 10,
              "solidity": 0.2
             }
            },
            "type": "histogram"
           }
          ],
          "histogram2d": [
           {
            "colorbar": {
             "outlinewidth": 0,
             "ticks": ""
            },
            "colorscale": [
             [
              0,
              "#0d0887"
             ],
             [
              0.1111111111111111,
              "#46039f"
             ],
             [
              0.2222222222222222,
              "#7201a8"
             ],
             [
              0.3333333333333333,
              "#9c179e"
             ],
             [
              0.4444444444444444,
              "#bd3786"
             ],
             [
              0.5555555555555556,
              "#d8576b"
             ],
             [
              0.6666666666666666,
              "#ed7953"
             ],
             [
              0.7777777777777778,
              "#fb9f3a"
             ],
             [
              0.8888888888888888,
              "#fdca26"
             ],
             [
              1,
              "#f0f921"
             ]
            ],
            "type": "histogram2d"
           }
          ],
          "histogram2dcontour": [
           {
            "colorbar": {
             "outlinewidth": 0,
             "ticks": ""
            },
            "colorscale": [
             [
              0,
              "#0d0887"
             ],
             [
              0.1111111111111111,
              "#46039f"
             ],
             [
              0.2222222222222222,
              "#7201a8"
             ],
             [
              0.3333333333333333,
              "#9c179e"
             ],
             [
              0.4444444444444444,
              "#bd3786"
             ],
             [
              0.5555555555555556,
              "#d8576b"
             ],
             [
              0.6666666666666666,
              "#ed7953"
             ],
             [
              0.7777777777777778,
              "#fb9f3a"
             ],
             [
              0.8888888888888888,
              "#fdca26"
             ],
             [
              1,
              "#f0f921"
             ]
            ],
            "type": "histogram2dcontour"
           }
          ],
          "mesh3d": [
           {
            "colorbar": {
             "outlinewidth": 0,
             "ticks": ""
            },
            "type": "mesh3d"
           }
          ],
          "parcoords": [
           {
            "line": {
             "colorbar": {
              "outlinewidth": 0,
              "ticks": ""
             }
            },
            "type": "parcoords"
           }
          ],
          "pie": [
           {
            "automargin": true,
            "type": "pie"
           }
          ],
          "scatter": [
           {
            "fillpattern": {
             "fillmode": "overlay",
             "size": 10,
             "solidity": 0.2
            },
            "type": "scatter"
           }
          ],
          "scatter3d": [
           {
            "line": {
             "colorbar": {
              "outlinewidth": 0,
              "ticks": ""
             }
            },
            "marker": {
             "colorbar": {
              "outlinewidth": 0,
              "ticks": ""
             }
            },
            "type": "scatter3d"
           }
          ],
          "scattercarpet": [
           {
            "marker": {
             "colorbar": {
              "outlinewidth": 0,
              "ticks": ""
             }
            },
            "type": "scattercarpet"
           }
          ],
          "scattergeo": [
           {
            "marker": {
             "colorbar": {
              "outlinewidth": 0,
              "ticks": ""
             }
            },
            "type": "scattergeo"
           }
          ],
          "scattergl": [
           {
            "marker": {
             "colorbar": {
              "outlinewidth": 0,
              "ticks": ""
             }
            },
            "type": "scattergl"
           }
          ],
          "scattermap": [
           {
            "marker": {
             "colorbar": {
              "outlinewidth": 0,
              "ticks": ""
             }
            },
            "type": "scattermap"
           }
          ],
          "scattermapbox": [
           {
            "marker": {
             "colorbar": {
              "outlinewidth": 0,
              "ticks": ""
             }
            },
            "type": "scattermapbox"
           }
          ],
          "scatterpolar": [
           {
            "marker": {
             "colorbar": {
              "outlinewidth": 0,
              "ticks": ""
             }
            },
            "type": "scatterpolar"
           }
          ],
          "scatterpolargl": [
           {
            "marker": {
             "colorbar": {
              "outlinewidth": 0,
              "ticks": ""
             }
            },
            "type": "scatterpolargl"
           }
          ],
          "scatterternary": [
           {
            "marker": {
             "colorbar": {
              "outlinewidth": 0,
              "ticks": ""
             }
            },
            "type": "scatterternary"
           }
          ],
          "surface": [
           {
            "colorbar": {
             "outlinewidth": 0,
             "ticks": ""
            },
            "colorscale": [
             [
              0,
              "#0d0887"
             ],
             [
              0.1111111111111111,
              "#46039f"
             ],
             [
              0.2222222222222222,
              "#7201a8"
             ],
             [
              0.3333333333333333,
              "#9c179e"
             ],
             [
              0.4444444444444444,
              "#bd3786"
             ],
             [
              0.5555555555555556,
              "#d8576b"
             ],
             [
              0.6666666666666666,
              "#ed7953"
             ],
             [
              0.7777777777777778,
              "#fb9f3a"
             ],
             [
              0.8888888888888888,
              "#fdca26"
             ],
             [
              1,
              "#f0f921"
             ]
            ],
            "type": "surface"
           }
          ],
          "table": [
           {
            "cells": {
             "fill": {
              "color": "#EBF0F8"
             },
             "line": {
              "color": "white"
             }
            },
            "header": {
             "fill": {
              "color": "#C8D4E3"
             },
             "line": {
              "color": "white"
             }
            },
            "type": "table"
           }
          ]
         },
         "layout": {
          "annotationdefaults": {
           "arrowcolor": "#2a3f5f",
           "arrowhead": 0,
           "arrowwidth": 1
          },
          "autotypenumbers": "strict",
          "coloraxis": {
           "colorbar": {
            "outlinewidth": 0,
            "ticks": ""
           }
          },
          "colorscale": {
           "diverging": [
            [
             0,
             "#8e0152"
            ],
            [
             0.1,
             "#c51b7d"
            ],
            [
             0.2,
             "#de77ae"
            ],
            [
             0.3,
             "#f1b6da"
            ],
            [
             0.4,
             "#fde0ef"
            ],
            [
             0.5,
             "#f7f7f7"
            ],
            [
             0.6,
             "#e6f5d0"
            ],
            [
             0.7,
             "#b8e186"
            ],
            [
             0.8,
             "#7fbc41"
            ],
            [
             0.9,
             "#4d9221"
            ],
            [
             1,
             "#276419"
            ]
           ],
           "sequential": [
            [
             0,
             "#0d0887"
            ],
            [
             0.1111111111111111,
             "#46039f"
            ],
            [
             0.2222222222222222,
             "#7201a8"
            ],
            [
             0.3333333333333333,
             "#9c179e"
            ],
            [
             0.4444444444444444,
             "#bd3786"
            ],
            [
             0.5555555555555556,
             "#d8576b"
            ],
            [
             0.6666666666666666,
             "#ed7953"
            ],
            [
             0.7777777777777778,
             "#fb9f3a"
            ],
            [
             0.8888888888888888,
             "#fdca26"
            ],
            [
             1,
             "#f0f921"
            ]
           ],
           "sequentialminus": [
            [
             0,
             "#0d0887"
            ],
            [
             0.1111111111111111,
             "#46039f"
            ],
            [
             0.2222222222222222,
             "#7201a8"
            ],
            [
             0.3333333333333333,
             "#9c179e"
            ],
            [
             0.4444444444444444,
             "#bd3786"
            ],
            [
             0.5555555555555556,
             "#d8576b"
            ],
            [
             0.6666666666666666,
             "#ed7953"
            ],
            [
             0.7777777777777778,
             "#fb9f3a"
            ],
            [
             0.8888888888888888,
             "#fdca26"
            ],
            [
             1,
             "#f0f921"
            ]
           ]
          },
          "colorway": [
           "#636efa",
           "#EF553B",
           "#00cc96",
           "#ab63fa",
           "#FFA15A",
           "#19d3f3",
           "#FF6692",
           "#B6E880",
           "#FF97FF",
           "#FECB52"
          ],
          "font": {
           "color": "#2a3f5f"
          },
          "geo": {
           "bgcolor": "white",
           "lakecolor": "white",
           "landcolor": "white",
           "showlakes": true,
           "showland": true,
           "subunitcolor": "#C8D4E3"
          },
          "hoverlabel": {
           "align": "left"
          },
          "hovermode": "closest",
          "mapbox": {
           "style": "light"
          },
          "paper_bgcolor": "white",
          "plot_bgcolor": "white",
          "polar": {
           "angularaxis": {
            "gridcolor": "#EBF0F8",
            "linecolor": "#EBF0F8",
            "ticks": ""
           },
           "bgcolor": "white",
           "radialaxis": {
            "gridcolor": "#EBF0F8",
            "linecolor": "#EBF0F8",
            "ticks": ""
           }
          },
          "scene": {
           "xaxis": {
            "backgroundcolor": "white",
            "gridcolor": "#DFE8F3",
            "gridwidth": 2,
            "linecolor": "#EBF0F8",
            "showbackground": true,
            "ticks": "",
            "zerolinecolor": "#EBF0F8"
           },
           "yaxis": {
            "backgroundcolor": "white",
            "gridcolor": "#DFE8F3",
            "gridwidth": 2,
            "linecolor": "#EBF0F8",
            "showbackground": true,
            "ticks": "",
            "zerolinecolor": "#EBF0F8"
           },
           "zaxis": {
            "backgroundcolor": "white",
            "gridcolor": "#DFE8F3",
            "gridwidth": 2,
            "linecolor": "#EBF0F8",
            "showbackground": true,
            "ticks": "",
            "zerolinecolor": "#EBF0F8"
           }
          },
          "shapedefaults": {
           "line": {
            "color": "#2a3f5f"
           }
          },
          "ternary": {
           "aaxis": {
            "gridcolor": "#DFE8F3",
            "linecolor": "#A2B1C6",
            "ticks": ""
           },
           "baxis": {
            "gridcolor": "#DFE8F3",
            "linecolor": "#A2B1C6",
            "ticks": ""
           },
           "bgcolor": "white",
           "caxis": {
            "gridcolor": "#DFE8F3",
            "linecolor": "#A2B1C6",
            "ticks": ""
           }
          },
          "title": {
           "x": 0.05
          },
          "xaxis": {
           "automargin": true,
           "gridcolor": "#EBF0F8",
           "linecolor": "#EBF0F8",
           "ticks": "",
           "title": {
            "standoff": 15
           },
           "zerolinecolor": "#EBF0F8",
           "zerolinewidth": 2
          },
          "yaxis": {
           "automargin": true,
           "gridcolor": "#EBF0F8",
           "linecolor": "#EBF0F8",
           "ticks": "",
           "title": {
            "standoff": 15
           },
           "zerolinecolor": "#EBF0F8",
           "zerolinewidth": 2
          }
         }
        },
        "title": {
         "font": {
          "color": "#2E2E2E",
          "size": 16
         },
         "text": "Model Performance on Document: VISY v. SLOVAKIA<br><span style='font-size:14px'>Best Model: gemma3:12b (F1: 0.309)</span>",
         "x": 0.5
        },
        "width": 800,
        "xaxis": {
         "range": [
          0,
          1
         ],
         "tickfont": {
          "size": 12
         },
         "title": {
          "text": "Score"
         }
        },
        "yaxis": {
         "tickfont": {
          "size": 12
         },
         "title": {
          "text": "Models"
         }
        }
       }
      }
     },
     "metadata": {},
     "output_type": "display_data"
    },
    {
     "data": {
      "application/vnd.plotly.v1+json": {
       "config": {
        "plotlyServerURL": "https://plot.ly"
       },
       "data": [
        {
         "marker": {
          "color": "#FF6B6B"
         },
         "name": "Precision",
         "offsetgroup": "0",
         "orientation": "h",
         "text": {
          "bdata": "AAAAAAAAAAAAAAAAAAAAAAAAAAAAAAAAIbByaJHtzD83iUFg5dDaP+F6FK5H4do/7FG4HoXr2T/ufD81XrrZPw==",
          "dtype": "f8"
         },
         "textposition": "auto",
         "type": "bar",
         "width": 0.25,
         "x": {
          "bdata": "AAAAAAAAAAAAAAAAAAAAAAAAAAAAAAAAIjXBeCv7zD/XWmuttdbaP+F6FK5H4do/I591gyny2T+c3vSmN73ZPw==",
          "dtype": "f8"
         },
         "y": [
          "gemma3:1b",
          "gemma3:4b",
          "gemma3:4b",
          "gemma3:1b",
          "mistral:latest",
          "mistral:latest",
          "gemma3:12b",
          "gemma3:12b"
         ]
        },
        {
         "marker": {
          "color": "#4ECDC4"
         },
         "name": "Recall",
         "offsetgroup": "1",
         "orientation": "h",
         "text": {
          "bdata": "AAAAAAAAAAAAAAAAAAAAAAAAAAAAAAAAuB6F61G4zj+kcD0K16PQP+F6FK5H4do/MzMzMzMz4z+uR+F6FK7nPw==",
          "dtype": "f8"
         },
         "textposition": "auto",
         "type": "bar",
         "width": 0.25,
         "x": {
          "bdata": "AAAAAAAAAAAAAAAAAAAAAAAAAAAAAAAAuB6F61G4zj+kcD0K16PQP+F6FK5H4do/MzMzMzMz4z+uR+F6FK7nPw==",
          "dtype": "f8"
         },
         "y": [
          "gemma3:1b",
          "gemma3:4b",
          "gemma3:4b",
          "gemma3:1b",
          "mistral:latest",
          "mistral:latest",
          "gemma3:12b",
          "gemma3:12b"
         ]
        },
        {
         "marker": {
          "color": "#45B7D1"
         },
         "name": "F1-Score",
         "offsetgroup": "2",
         "orientation": "h",
         "text": {
          "bdata": "AAAAAAAAAAAAAAAAAAAAAAAAAAAAAAAAbef7qfHSzT8lBoGVQ4vUP+F6FK5H4do/YOXQItv53j956SYxCKzgPw==",
          "dtype": "f8"
         },
         "textposition": "auto",
         "type": "bar",
         "width": 0.25,
         "x": {
          "bdata": "AAAAAAAAAAAAAAAAAAAAAAAAAAAAAAAAhP1WG0PTzT8Gnm7ND4vUP+B6FK5H4do/+d5777333j+iFTYHEq3gPw==",
          "dtype": "f8"
         },
         "y": [
          "gemma3:1b",
          "gemma3:4b",
          "gemma3:4b",
          "gemma3:1b",
          "mistral:latest",
          "mistral:latest",
          "gemma3:12b",
          "gemma3:12b"
         ]
        }
       ],
       "layout": {
        "barmode": "group",
        "height": 320,
        "legend": {
         "orientation": "h",
         "x": 1,
         "xanchor": "right",
         "y": 1.02,
         "yanchor": "bottom"
        },
        "showlegend": true,
        "template": {
         "data": {
          "bar": [
           {
            "error_x": {
             "color": "#2a3f5f"
            },
            "error_y": {
             "color": "#2a3f5f"
            },
            "marker": {
             "line": {
              "color": "white",
              "width": 0.5
             },
             "pattern": {
              "fillmode": "overlay",
              "size": 10,
              "solidity": 0.2
             }
            },
            "type": "bar"
           }
          ],
          "barpolar": [
           {
            "marker": {
             "line": {
              "color": "white",
              "width": 0.5
             },
             "pattern": {
              "fillmode": "overlay",
              "size": 10,
              "solidity": 0.2
             }
            },
            "type": "barpolar"
           }
          ],
          "carpet": [
           {
            "aaxis": {
             "endlinecolor": "#2a3f5f",
             "gridcolor": "#C8D4E3",
             "linecolor": "#C8D4E3",
             "minorgridcolor": "#C8D4E3",
             "startlinecolor": "#2a3f5f"
            },
            "baxis": {
             "endlinecolor": "#2a3f5f",
             "gridcolor": "#C8D4E3",
             "linecolor": "#C8D4E3",
             "minorgridcolor": "#C8D4E3",
             "startlinecolor": "#2a3f5f"
            },
            "type": "carpet"
           }
          ],
          "choropleth": [
           {
            "colorbar": {
             "outlinewidth": 0,
             "ticks": ""
            },
            "type": "choropleth"
           }
          ],
          "contour": [
           {
            "colorbar": {
             "outlinewidth": 0,
             "ticks": ""
            },
            "colorscale": [
             [
              0,
              "#0d0887"
             ],
             [
              0.1111111111111111,
              "#46039f"
             ],
             [
              0.2222222222222222,
              "#7201a8"
             ],
             [
              0.3333333333333333,
              "#9c179e"
             ],
             [
              0.4444444444444444,
              "#bd3786"
             ],
             [
              0.5555555555555556,
              "#d8576b"
             ],
             [
              0.6666666666666666,
              "#ed7953"
             ],
             [
              0.7777777777777778,
              "#fb9f3a"
             ],
             [
              0.8888888888888888,
              "#fdca26"
             ],
             [
              1,
              "#f0f921"
             ]
            ],
            "type": "contour"
           }
          ],
          "contourcarpet": [
           {
            "colorbar": {
             "outlinewidth": 0,
             "ticks": ""
            },
            "type": "contourcarpet"
           }
          ],
          "heatmap": [
           {
            "colorbar": {
             "outlinewidth": 0,
             "ticks": ""
            },
            "colorscale": [
             [
              0,
              "#0d0887"
             ],
             [
              0.1111111111111111,
              "#46039f"
             ],
             [
              0.2222222222222222,
              "#7201a8"
             ],
             [
              0.3333333333333333,
              "#9c179e"
             ],
             [
              0.4444444444444444,
              "#bd3786"
             ],
             [
              0.5555555555555556,
              "#d8576b"
             ],
             [
              0.6666666666666666,
              "#ed7953"
             ],
             [
              0.7777777777777778,
              "#fb9f3a"
             ],
             [
              0.8888888888888888,
              "#fdca26"
             ],
             [
              1,
              "#f0f921"
             ]
            ],
            "type": "heatmap"
           }
          ],
          "histogram": [
           {
            "marker": {
             "pattern": {
              "fillmode": "overlay",
              "size": 10,
              "solidity": 0.2
             }
            },
            "type": "histogram"
           }
          ],
          "histogram2d": [
           {
            "colorbar": {
             "outlinewidth": 0,
             "ticks": ""
            },
            "colorscale": [
             [
              0,
              "#0d0887"
             ],
             [
              0.1111111111111111,
              "#46039f"
             ],
             [
              0.2222222222222222,
              "#7201a8"
             ],
             [
              0.3333333333333333,
              "#9c179e"
             ],
             [
              0.4444444444444444,
              "#bd3786"
             ],
             [
              0.5555555555555556,
              "#d8576b"
             ],
             [
              0.6666666666666666,
              "#ed7953"
             ],
             [
              0.7777777777777778,
              "#fb9f3a"
             ],
             [
              0.8888888888888888,
              "#fdca26"
             ],
             [
              1,
              "#f0f921"
             ]
            ],
            "type": "histogram2d"
           }
          ],
          "histogram2dcontour": [
           {
            "colorbar": {
             "outlinewidth": 0,
             "ticks": ""
            },
            "colorscale": [
             [
              0,
              "#0d0887"
             ],
             [
              0.1111111111111111,
              "#46039f"
             ],
             [
              0.2222222222222222,
              "#7201a8"
             ],
             [
              0.3333333333333333,
              "#9c179e"
             ],
             [
              0.4444444444444444,
              "#bd3786"
             ],
             [
              0.5555555555555556,
              "#d8576b"
             ],
             [
              0.6666666666666666,
              "#ed7953"
             ],
             [
              0.7777777777777778,
              "#fb9f3a"
             ],
             [
              0.8888888888888888,
              "#fdca26"
             ],
             [
              1,
              "#f0f921"
             ]
            ],
            "type": "histogram2dcontour"
           }
          ],
          "mesh3d": [
           {
            "colorbar": {
             "outlinewidth": 0,
             "ticks": ""
            },
            "type": "mesh3d"
           }
          ],
          "parcoords": [
           {
            "line": {
             "colorbar": {
              "outlinewidth": 0,
              "ticks": ""
             }
            },
            "type": "parcoords"
           }
          ],
          "pie": [
           {
            "automargin": true,
            "type": "pie"
           }
          ],
          "scatter": [
           {
            "fillpattern": {
             "fillmode": "overlay",
             "size": 10,
             "solidity": 0.2
            },
            "type": "scatter"
           }
          ],
          "scatter3d": [
           {
            "line": {
             "colorbar": {
              "outlinewidth": 0,
              "ticks": ""
             }
            },
            "marker": {
             "colorbar": {
              "outlinewidth": 0,
              "ticks": ""
             }
            },
            "type": "scatter3d"
           }
          ],
          "scattercarpet": [
           {
            "marker": {
             "colorbar": {
              "outlinewidth": 0,
              "ticks": ""
             }
            },
            "type": "scattercarpet"
           }
          ],
          "scattergeo": [
           {
            "marker": {
             "colorbar": {
              "outlinewidth": 0,
              "ticks": ""
             }
            },
            "type": "scattergeo"
           }
          ],
          "scattergl": [
           {
            "marker": {
             "colorbar": {
              "outlinewidth": 0,
              "ticks": ""
             }
            },
            "type": "scattergl"
           }
          ],
          "scattermap": [
           {
            "marker": {
             "colorbar": {
              "outlinewidth": 0,
              "ticks": ""
             }
            },
            "type": "scattermap"
           }
          ],
          "scattermapbox": [
           {
            "marker": {
             "colorbar": {
              "outlinewidth": 0,
              "ticks": ""
             }
            },
            "type": "scattermapbox"
           }
          ],
          "scatterpolar": [
           {
            "marker": {
             "colorbar": {
              "outlinewidth": 0,
              "ticks": ""
             }
            },
            "type": "scatterpolar"
           }
          ],
          "scatterpolargl": [
           {
            "marker": {
             "colorbar": {
              "outlinewidth": 0,
              "ticks": ""
             }
            },
            "type": "scatterpolargl"
           }
          ],
          "scatterternary": [
           {
            "marker": {
             "colorbar": {
              "outlinewidth": 0,
              "ticks": ""
             }
            },
            "type": "scatterternary"
           }
          ],
          "surface": [
           {
            "colorbar": {
             "outlinewidth": 0,
             "ticks": ""
            },
            "colorscale": [
             [
              0,
              "#0d0887"
             ],
             [
              0.1111111111111111,
              "#46039f"
             ],
             [
              0.2222222222222222,
              "#7201a8"
             ],
             [
              0.3333333333333333,
              "#9c179e"
             ],
             [
              0.4444444444444444,
              "#bd3786"
             ],
             [
              0.5555555555555556,
              "#d8576b"
             ],
             [
              0.6666666666666666,
              "#ed7953"
             ],
             [
              0.7777777777777778,
              "#fb9f3a"
             ],
             [
              0.8888888888888888,
              "#fdca26"
             ],
             [
              1,
              "#f0f921"
             ]
            ],
            "type": "surface"
           }
          ],
          "table": [
           {
            "cells": {
             "fill": {
              "color": "#EBF0F8"
             },
             "line": {
              "color": "white"
             }
            },
            "header": {
             "fill": {
              "color": "#C8D4E3"
             },
             "line": {
              "color": "white"
             }
            },
            "type": "table"
           }
          ]
         },
         "layout": {
          "annotationdefaults": {
           "arrowcolor": "#2a3f5f",
           "arrowhead": 0,
           "arrowwidth": 1
          },
          "autotypenumbers": "strict",
          "coloraxis": {
           "colorbar": {
            "outlinewidth": 0,
            "ticks": ""
           }
          },
          "colorscale": {
           "diverging": [
            [
             0,
             "#8e0152"
            ],
            [
             0.1,
             "#c51b7d"
            ],
            [
             0.2,
             "#de77ae"
            ],
            [
             0.3,
             "#f1b6da"
            ],
            [
             0.4,
             "#fde0ef"
            ],
            [
             0.5,
             "#f7f7f7"
            ],
            [
             0.6,
             "#e6f5d0"
            ],
            [
             0.7,
             "#b8e186"
            ],
            [
             0.8,
             "#7fbc41"
            ],
            [
             0.9,
             "#4d9221"
            ],
            [
             1,
             "#276419"
            ]
           ],
           "sequential": [
            [
             0,
             "#0d0887"
            ],
            [
             0.1111111111111111,
             "#46039f"
            ],
            [
             0.2222222222222222,
             "#7201a8"
            ],
            [
             0.3333333333333333,
             "#9c179e"
            ],
            [
             0.4444444444444444,
             "#bd3786"
            ],
            [
             0.5555555555555556,
             "#d8576b"
            ],
            [
             0.6666666666666666,
             "#ed7953"
            ],
            [
             0.7777777777777778,
             "#fb9f3a"
            ],
            [
             0.8888888888888888,
             "#fdca26"
            ],
            [
             1,
             "#f0f921"
            ]
           ],
           "sequentialminus": [
            [
             0,
             "#0d0887"
            ],
            [
             0.1111111111111111,
             "#46039f"
            ],
            [
             0.2222222222222222,
             "#7201a8"
            ],
            [
             0.3333333333333333,
             "#9c179e"
            ],
            [
             0.4444444444444444,
             "#bd3786"
            ],
            [
             0.5555555555555556,
             "#d8576b"
            ],
            [
             0.6666666666666666,
             "#ed7953"
            ],
            [
             0.7777777777777778,
             "#fb9f3a"
            ],
            [
             0.8888888888888888,
             "#fdca26"
            ],
            [
             1,
             "#f0f921"
            ]
           ]
          },
          "colorway": [
           "#636efa",
           "#EF553B",
           "#00cc96",
           "#ab63fa",
           "#FFA15A",
           "#19d3f3",
           "#FF6692",
           "#B6E880",
           "#FF97FF",
           "#FECB52"
          ],
          "font": {
           "color": "#2a3f5f"
          },
          "geo": {
           "bgcolor": "white",
           "lakecolor": "white",
           "landcolor": "white",
           "showlakes": true,
           "showland": true,
           "subunitcolor": "#C8D4E3"
          },
          "hoverlabel": {
           "align": "left"
          },
          "hovermode": "closest",
          "mapbox": {
           "style": "light"
          },
          "paper_bgcolor": "white",
          "plot_bgcolor": "white",
          "polar": {
           "angularaxis": {
            "gridcolor": "#EBF0F8",
            "linecolor": "#EBF0F8",
            "ticks": ""
           },
           "bgcolor": "white",
           "radialaxis": {
            "gridcolor": "#EBF0F8",
            "linecolor": "#EBF0F8",
            "ticks": ""
           }
          },
          "scene": {
           "xaxis": {
            "backgroundcolor": "white",
            "gridcolor": "#DFE8F3",
            "gridwidth": 2,
            "linecolor": "#EBF0F8",
            "showbackground": true,
            "ticks": "",
            "zerolinecolor": "#EBF0F8"
           },
           "yaxis": {
            "backgroundcolor": "white",
            "gridcolor": "#DFE8F3",
            "gridwidth": 2,
            "linecolor": "#EBF0F8",
            "showbackground": true,
            "ticks": "",
            "zerolinecolor": "#EBF0F8"
           },
           "zaxis": {
            "backgroundcolor": "white",
            "gridcolor": "#DFE8F3",
            "gridwidth": 2,
            "linecolor": "#EBF0F8",
            "showbackground": true,
            "ticks": "",
            "zerolinecolor": "#EBF0F8"
           }
          },
          "shapedefaults": {
           "line": {
            "color": "#2a3f5f"
           }
          },
          "ternary": {
           "aaxis": {
            "gridcolor": "#DFE8F3",
            "linecolor": "#A2B1C6",
            "ticks": ""
           },
           "baxis": {
            "gridcolor": "#DFE8F3",
            "linecolor": "#A2B1C6",
            "ticks": ""
           },
           "bgcolor": "white",
           "caxis": {
            "gridcolor": "#DFE8F3",
            "linecolor": "#A2B1C6",
            "ticks": ""
           }
          },
          "title": {
           "x": 0.05
          },
          "xaxis": {
           "automargin": true,
           "gridcolor": "#EBF0F8",
           "linecolor": "#EBF0F8",
           "ticks": "",
           "title": {
            "standoff": 15
           },
           "zerolinecolor": "#EBF0F8",
           "zerolinewidth": 2
          },
          "yaxis": {
           "automargin": true,
           "gridcolor": "#EBF0F8",
           "linecolor": "#EBF0F8",
           "ticks": "",
           "title": {
            "standoff": 15
           },
           "zerolinecolor": "#EBF0F8",
           "zerolinewidth": 2
          }
         }
        },
        "title": {
         "font": {
          "color": "#2E2E2E",
          "size": 16
         },
         "text": "Model Performance on Document: OTGON v. THE REPUBLIC OF MOLDOVA<br><span style='font-size:14px'>Best Model: gemma3:12b (F1: 0.521)</span>",
         "x": 0.5
        },
        "width": 800,
        "xaxis": {
         "range": [
          0,
          1
         ],
         "tickfont": {
          "size": 12
         },
         "title": {
          "text": "Score"
         }
        },
        "yaxis": {
         "tickfont": {
          "size": 12
         },
         "title": {
          "text": "Models"
         }
        }
       }
      }
     },
     "metadata": {},
     "output_type": "display_data"
    },
    {
     "data": {
      "application/vnd.plotly.v1+json": {
       "config": {
        "plotlyServerURL": "https://plot.ly"
       },
       "data": [
        {
         "marker": {
          "color": "#FF6B6B"
         },
         "name": "Precision",
         "offsetgroup": "0",
         "orientation": "h",
         "text": {
          "bdata": "AAAAAAAAAAAdWmQ730/VP9Ei2/l+asw/QmDl0CLb0T/4U+Olm8TYP1yPwvUoXNc/8KfGSzeJ4T+yne+nxkvXPw==",
          "dtype": "f8"
         },
         "textposition": "auto",
         "type": "bar",
         "width": 0.25,
         "x": {
          "bdata": "AAAAAAAAAABVVVVVVVXVPxzHcRzHccw/d8QdcUfc0T/GGGOMMcbYPyd2Yid2Ytc/jDHGGGOM4T9GF1100UXXPw==",
          "dtype": "f8"
         },
         "y": [
          "gemma3:12b",
          "gemma3:1b",
          "gemma3:4b",
          "gemma3:1b",
          "mistral:latest",
          "gemma3:4b",
          "gemma3:12b",
          "mistral:latest"
         ]
        },
        {
         "marker": {
          "color": "#4ECDC4"
         },
         "name": "Recall",
         "offsetgroup": "1",
         "orientation": "h",
         "text": {
          "bdata": "AAAAAAAAAADsUbgeheuxP+F6FK5H4bo/NV66SQwCyz81XrpJDALLPx1aZDvfT9U/30+Nl24S0z+LbOf7qfHaPw==",
          "dtype": "f8"
         },
         "textposition": "auto",
         "type": "bar",
         "width": 0.25,
         "x": {
          "bdata": "AAAAAAAAAABwH8F9BPexPyivobyG8ro/KK+hvIbyyj8or6G8hvLKP1VVVVVVVdU/ZzGdxXQW0z8or6G8hvLaPw==",
          "dtype": "f8"
         },
         "y": [
          "gemma3:12b",
          "gemma3:1b",
          "gemma3:4b",
          "gemma3:1b",
          "mistral:latest",
          "gemma3:4b",
          "gemma3:12b",
          "mistral:latest"
         ]
        },
        {
         "marker": {
          "color": "#45B7D1"
         },
         "name": "F1-Score",
         "offsetgroup": "2",
         "orientation": "h",
         "text": {
          "bdata": "AAAAAAAAAAAZBFYOLbK9P+f7qfHSTcI/uB6F61G4zj9GtvP91HjRP7x0kxgEVtY/TmIQWDm02D/2KFyPwvXYPw==",
          "dtype": "f8"
         },
         "textposition": "auto",
         "type": "bar",
         "width": 0.25,
         "x": {
          "bdata": "AAAAAAAAAADbgbl2YK69P5IkSZIkScI/uB6F61G4zj900UUXXXTRP/1kCWzaT9Y/uuiiiy662D/6GJyPwfnYPw==",
          "dtype": "f8"
         },
         "y": [
          "gemma3:12b",
          "gemma3:1b",
          "gemma3:4b",
          "gemma3:1b",
          "mistral:latest",
          "gemma3:4b",
          "gemma3:12b",
          "mistral:latest"
         ]
        }
       ],
       "layout": {
        "barmode": "group",
        "height": 320,
        "legend": {
         "orientation": "h",
         "x": 1,
         "xanchor": "right",
         "y": 1.02,
         "yanchor": "bottom"
        },
        "showlegend": true,
        "template": {
         "data": {
          "bar": [
           {
            "error_x": {
             "color": "#2a3f5f"
            },
            "error_y": {
             "color": "#2a3f5f"
            },
            "marker": {
             "line": {
              "color": "white",
              "width": 0.5
             },
             "pattern": {
              "fillmode": "overlay",
              "size": 10,
              "solidity": 0.2
             }
            },
            "type": "bar"
           }
          ],
          "barpolar": [
           {
            "marker": {
             "line": {
              "color": "white",
              "width": 0.5
             },
             "pattern": {
              "fillmode": "overlay",
              "size": 10,
              "solidity": 0.2
             }
            },
            "type": "barpolar"
           }
          ],
          "carpet": [
           {
            "aaxis": {
             "endlinecolor": "#2a3f5f",
             "gridcolor": "#C8D4E3",
             "linecolor": "#C8D4E3",
             "minorgridcolor": "#C8D4E3",
             "startlinecolor": "#2a3f5f"
            },
            "baxis": {
             "endlinecolor": "#2a3f5f",
             "gridcolor": "#C8D4E3",
             "linecolor": "#C8D4E3",
             "minorgridcolor": "#C8D4E3",
             "startlinecolor": "#2a3f5f"
            },
            "type": "carpet"
           }
          ],
          "choropleth": [
           {
            "colorbar": {
             "outlinewidth": 0,
             "ticks": ""
            },
            "type": "choropleth"
           }
          ],
          "contour": [
           {
            "colorbar": {
             "outlinewidth": 0,
             "ticks": ""
            },
            "colorscale": [
             [
              0,
              "#0d0887"
             ],
             [
              0.1111111111111111,
              "#46039f"
             ],
             [
              0.2222222222222222,
              "#7201a8"
             ],
             [
              0.3333333333333333,
              "#9c179e"
             ],
             [
              0.4444444444444444,
              "#bd3786"
             ],
             [
              0.5555555555555556,
              "#d8576b"
             ],
             [
              0.6666666666666666,
              "#ed7953"
             ],
             [
              0.7777777777777778,
              "#fb9f3a"
             ],
             [
              0.8888888888888888,
              "#fdca26"
             ],
             [
              1,
              "#f0f921"
             ]
            ],
            "type": "contour"
           }
          ],
          "contourcarpet": [
           {
            "colorbar": {
             "outlinewidth": 0,
             "ticks": ""
            },
            "type": "contourcarpet"
           }
          ],
          "heatmap": [
           {
            "colorbar": {
             "outlinewidth": 0,
             "ticks": ""
            },
            "colorscale": [
             [
              0,
              "#0d0887"
             ],
             [
              0.1111111111111111,
              "#46039f"
             ],
             [
              0.2222222222222222,
              "#7201a8"
             ],
             [
              0.3333333333333333,
              "#9c179e"
             ],
             [
              0.4444444444444444,
              "#bd3786"
             ],
             [
              0.5555555555555556,
              "#d8576b"
             ],
             [
              0.6666666666666666,
              "#ed7953"
             ],
             [
              0.7777777777777778,
              "#fb9f3a"
             ],
             [
              0.8888888888888888,
              "#fdca26"
             ],
             [
              1,
              "#f0f921"
             ]
            ],
            "type": "heatmap"
           }
          ],
          "histogram": [
           {
            "marker": {
             "pattern": {
              "fillmode": "overlay",
              "size": 10,
              "solidity": 0.2
             }
            },
            "type": "histogram"
           }
          ],
          "histogram2d": [
           {
            "colorbar": {
             "outlinewidth": 0,
             "ticks": ""
            },
            "colorscale": [
             [
              0,
              "#0d0887"
             ],
             [
              0.1111111111111111,
              "#46039f"
             ],
             [
              0.2222222222222222,
              "#7201a8"
             ],
             [
              0.3333333333333333,
              "#9c179e"
             ],
             [
              0.4444444444444444,
              "#bd3786"
             ],
             [
              0.5555555555555556,
              "#d8576b"
             ],
             [
              0.6666666666666666,
              "#ed7953"
             ],
             [
              0.7777777777777778,
              "#fb9f3a"
             ],
             [
              0.8888888888888888,
              "#fdca26"
             ],
             [
              1,
              "#f0f921"
             ]
            ],
            "type": "histogram2d"
           }
          ],
          "histogram2dcontour": [
           {
            "colorbar": {
             "outlinewidth": 0,
             "ticks": ""
            },
            "colorscale": [
             [
              0,
              "#0d0887"
             ],
             [
              0.1111111111111111,
              "#46039f"
             ],
             [
              0.2222222222222222,
              "#7201a8"
             ],
             [
              0.3333333333333333,
              "#9c179e"
             ],
             [
              0.4444444444444444,
              "#bd3786"
             ],
             [
              0.5555555555555556,
              "#d8576b"
             ],
             [
              0.6666666666666666,
              "#ed7953"
             ],
             [
              0.7777777777777778,
              "#fb9f3a"
             ],
             [
              0.8888888888888888,
              "#fdca26"
             ],
             [
              1,
              "#f0f921"
             ]
            ],
            "type": "histogram2dcontour"
           }
          ],
          "mesh3d": [
           {
            "colorbar": {
             "outlinewidth": 0,
             "ticks": ""
            },
            "type": "mesh3d"
           }
          ],
          "parcoords": [
           {
            "line": {
             "colorbar": {
              "outlinewidth": 0,
              "ticks": ""
             }
            },
            "type": "parcoords"
           }
          ],
          "pie": [
           {
            "automargin": true,
            "type": "pie"
           }
          ],
          "scatter": [
           {
            "fillpattern": {
             "fillmode": "overlay",
             "size": 10,
             "solidity": 0.2
            },
            "type": "scatter"
           }
          ],
          "scatter3d": [
           {
            "line": {
             "colorbar": {
              "outlinewidth": 0,
              "ticks": ""
             }
            },
            "marker": {
             "colorbar": {
              "outlinewidth": 0,
              "ticks": ""
             }
            },
            "type": "scatter3d"
           }
          ],
          "scattercarpet": [
           {
            "marker": {
             "colorbar": {
              "outlinewidth": 0,
              "ticks": ""
             }
            },
            "type": "scattercarpet"
           }
          ],
          "scattergeo": [
           {
            "marker": {
             "colorbar": {
              "outlinewidth": 0,
              "ticks": ""
             }
            },
            "type": "scattergeo"
           }
          ],
          "scattergl": [
           {
            "marker": {
             "colorbar": {
              "outlinewidth": 0,
              "ticks": ""
             }
            },
            "type": "scattergl"
           }
          ],
          "scattermap": [
           {
            "marker": {
             "colorbar": {
              "outlinewidth": 0,
              "ticks": ""
             }
            },
            "type": "scattermap"
           }
          ],
          "scattermapbox": [
           {
            "marker": {
             "colorbar": {
              "outlinewidth": 0,
              "ticks": ""
             }
            },
            "type": "scattermapbox"
           }
          ],
          "scatterpolar": [
           {
            "marker": {
             "colorbar": {
              "outlinewidth": 0,
              "ticks": ""
             }
            },
            "type": "scatterpolar"
           }
          ],
          "scatterpolargl": [
           {
            "marker": {
             "colorbar": {
              "outlinewidth": 0,
              "ticks": ""
             }
            },
            "type": "scatterpolargl"
           }
          ],
          "scatterternary": [
           {
            "marker": {
             "colorbar": {
              "outlinewidth": 0,
              "ticks": ""
             }
            },
            "type": "scatterternary"
           }
          ],
          "surface": [
           {
            "colorbar": {
             "outlinewidth": 0,
             "ticks": ""
            },
            "colorscale": [
             [
              0,
              "#0d0887"
             ],
             [
              0.1111111111111111,
              "#46039f"
             ],
             [
              0.2222222222222222,
              "#7201a8"
             ],
             [
              0.3333333333333333,
              "#9c179e"
             ],
             [
              0.4444444444444444,
              "#bd3786"
             ],
             [
              0.5555555555555556,
              "#d8576b"
             ],
             [
              0.6666666666666666,
              "#ed7953"
             ],
             [
              0.7777777777777778,
              "#fb9f3a"
             ],
             [
              0.8888888888888888,
              "#fdca26"
             ],
             [
              1,
              "#f0f921"
             ]
            ],
            "type": "surface"
           }
          ],
          "table": [
           {
            "cells": {
             "fill": {
              "color": "#EBF0F8"
             },
             "line": {
              "color": "white"
             }
            },
            "header": {
             "fill": {
              "color": "#C8D4E3"
             },
             "line": {
              "color": "white"
             }
            },
            "type": "table"
           }
          ]
         },
         "layout": {
          "annotationdefaults": {
           "arrowcolor": "#2a3f5f",
           "arrowhead": 0,
           "arrowwidth": 1
          },
          "autotypenumbers": "strict",
          "coloraxis": {
           "colorbar": {
            "outlinewidth": 0,
            "ticks": ""
           }
          },
          "colorscale": {
           "diverging": [
            [
             0,
             "#8e0152"
            ],
            [
             0.1,
             "#c51b7d"
            ],
            [
             0.2,
             "#de77ae"
            ],
            [
             0.3,
             "#f1b6da"
            ],
            [
             0.4,
             "#fde0ef"
            ],
            [
             0.5,
             "#f7f7f7"
            ],
            [
             0.6,
             "#e6f5d0"
            ],
            [
             0.7,
             "#b8e186"
            ],
            [
             0.8,
             "#7fbc41"
            ],
            [
             0.9,
             "#4d9221"
            ],
            [
             1,
             "#276419"
            ]
           ],
           "sequential": [
            [
             0,
             "#0d0887"
            ],
            [
             0.1111111111111111,
             "#46039f"
            ],
            [
             0.2222222222222222,
             "#7201a8"
            ],
            [
             0.3333333333333333,
             "#9c179e"
            ],
            [
             0.4444444444444444,
             "#bd3786"
            ],
            [
             0.5555555555555556,
             "#d8576b"
            ],
            [
             0.6666666666666666,
             "#ed7953"
            ],
            [
             0.7777777777777778,
             "#fb9f3a"
            ],
            [
             0.8888888888888888,
             "#fdca26"
            ],
            [
             1,
             "#f0f921"
            ]
           ],
           "sequentialminus": [
            [
             0,
             "#0d0887"
            ],
            [
             0.1111111111111111,
             "#46039f"
            ],
            [
             0.2222222222222222,
             "#7201a8"
            ],
            [
             0.3333333333333333,
             "#9c179e"
            ],
            [
             0.4444444444444444,
             "#bd3786"
            ],
            [
             0.5555555555555556,
             "#d8576b"
            ],
            [
             0.6666666666666666,
             "#ed7953"
            ],
            [
             0.7777777777777778,
             "#fb9f3a"
            ],
            [
             0.8888888888888888,
             "#fdca26"
            ],
            [
             1,
             "#f0f921"
            ]
           ]
          },
          "colorway": [
           "#636efa",
           "#EF553B",
           "#00cc96",
           "#ab63fa",
           "#FFA15A",
           "#19d3f3",
           "#FF6692",
           "#B6E880",
           "#FF97FF",
           "#FECB52"
          ],
          "font": {
           "color": "#2a3f5f"
          },
          "geo": {
           "bgcolor": "white",
           "lakecolor": "white",
           "landcolor": "white",
           "showlakes": true,
           "showland": true,
           "subunitcolor": "#C8D4E3"
          },
          "hoverlabel": {
           "align": "left"
          },
          "hovermode": "closest",
          "mapbox": {
           "style": "light"
          },
          "paper_bgcolor": "white",
          "plot_bgcolor": "white",
          "polar": {
           "angularaxis": {
            "gridcolor": "#EBF0F8",
            "linecolor": "#EBF0F8",
            "ticks": ""
           },
           "bgcolor": "white",
           "radialaxis": {
            "gridcolor": "#EBF0F8",
            "linecolor": "#EBF0F8",
            "ticks": ""
           }
          },
          "scene": {
           "xaxis": {
            "backgroundcolor": "white",
            "gridcolor": "#DFE8F3",
            "gridwidth": 2,
            "linecolor": "#EBF0F8",
            "showbackground": true,
            "ticks": "",
            "zerolinecolor": "#EBF0F8"
           },
           "yaxis": {
            "backgroundcolor": "white",
            "gridcolor": "#DFE8F3",
            "gridwidth": 2,
            "linecolor": "#EBF0F8",
            "showbackground": true,
            "ticks": "",
            "zerolinecolor": "#EBF0F8"
           },
           "zaxis": {
            "backgroundcolor": "white",
            "gridcolor": "#DFE8F3",
            "gridwidth": 2,
            "linecolor": "#EBF0F8",
            "showbackground": true,
            "ticks": "",
            "zerolinecolor": "#EBF0F8"
           }
          },
          "shapedefaults": {
           "line": {
            "color": "#2a3f5f"
           }
          },
          "ternary": {
           "aaxis": {
            "gridcolor": "#DFE8F3",
            "linecolor": "#A2B1C6",
            "ticks": ""
           },
           "baxis": {
            "gridcolor": "#DFE8F3",
            "linecolor": "#A2B1C6",
            "ticks": ""
           },
           "bgcolor": "white",
           "caxis": {
            "gridcolor": "#DFE8F3",
            "linecolor": "#A2B1C6",
            "ticks": ""
           }
          },
          "title": {
           "x": 0.05
          },
          "xaxis": {
           "automargin": true,
           "gridcolor": "#EBF0F8",
           "linecolor": "#EBF0F8",
           "ticks": "",
           "title": {
            "standoff": 15
           },
           "zerolinecolor": "#EBF0F8",
           "zerolinewidth": 2
          },
          "yaxis": {
           "automargin": true,
           "gridcolor": "#EBF0F8",
           "linecolor": "#EBF0F8",
           "ticks": "",
           "title": {
            "standoff": 15
           },
           "zerolinecolor": "#EBF0F8",
           "zerolinewidth": 2
          }
         }
        },
        "title": {
         "font": {
          "color": "#2E2E2E",
          "size": 16
         },
         "text": "Model Performance on Document: M.T. v. UKRAINE<br><span style='font-size:14px'>Best Model: mistral:latest (F1: 0.390)</span>",
         "x": 0.5
        },
        "width": 800,
        "xaxis": {
         "range": [
          0,
          1
         ],
         "tickfont": {
          "size": 12
         },
         "title": {
          "text": "Score"
         }
        },
        "yaxis": {
         "tickfont": {
          "size": 12
         },
         "title": {
          "text": "Models"
         }
        }
       }
      }
     },
     "metadata": {},
     "output_type": "display_data"
    },
    {
     "data": {
      "application/vnd.plotly.v1+json": {
       "config": {
        "plotlyServerURL": "https://plot.ly"
       },
       "data": [
        {
         "marker": {
          "color": "#FF6B6B"
         },
         "name": "Precision",
         "offsetgroup": "0",
         "orientation": "h",
         "text": {
          "bdata": "AAAAAAAAAAAQWDm0yHbOPzVeukkMAss/zczMzMzM1D/4U+Olm8TgP83MzMzMzNw/2c73U+Ol2z+e76fGSzfhPw==",
          "dtype": "f8"
         },
         "textposition": "auto",
         "type": "bar",
         "width": 0.25,
         "x": {
          "bdata": "AAAAAAAAAACe53me53nOPyivobyG8so/zczMzMzM1D8xDMMwDMPgP83MzMzMzNw/o4suuuii2z+xEzuxEzvhPw==",
          "dtype": "f8"
         },
         "y": [
          "mistral:latest",
          "gemma3:1b",
          "gemma3:1b",
          "gemma3:4b",
          "gemma3:4b",
          "mistral:latest",
          "gemma3:12b",
          "gemma3:12b"
         ]
        },
        {
         "marker": {
          "color": "#4ECDC4"
         },
         "name": "Recall",
         "offsetgroup": "1",
         "orientation": "h",
         "text": {
          "bdata": "AAAAAAAAAACLbOf7qfGyP2iR7Xw/Nb4/ppvEILByyD8j2/l+arzEP/YoXI/C9dA/QmDl0CLb0T8tsp3vp8bTPw==",
          "dtype": "f8"
         },
         "textposition": "auto",
         "type": "bar",
         "width": 0.25,
         "x": {
          "bdata": "AAAAAAAAAADT0tLS0tKyPx4eHh4eHr4/eHh4eHh4yD+1tLS0tLTEP/Hw8PDw8NA/4uHh4eHh0T/Ew8PDw8PTPw==",
          "dtype": "f8"
         },
         "y": [
          "mistral:latest",
          "gemma3:1b",
          "gemma3:1b",
          "gemma3:4b",
          "gemma3:4b",
          "mistral:latest",
          "gemma3:12b",
          "gemma3:12b"
         ]
        },
        {
         "marker": {
          "color": "#45B7D1"
         },
         "name": "F1-Score",
         "offsetgroup": "2",
         "orientation": "h",
         "text": {
          "bdata": "AAAAAAAAAAB56SYxCKy8P4cW2c73U8M/DAIrhxbZzj8EVg4tsp3PPx1aZDvfT9U/GQRWDi2y1T/0/dR46SbZPw==",
          "dtype": "f8"
         },
         "textposition": "auto",
         "type": "bar",
         "width": 0.25,
         "x": {
          "bdata": "AAAAAAAAAADMYQ5zmMO8P8F4K/scUsM/C+0ltJfQzj/70Y9+9KPPP1ZVVVVVVdU/b9u2bdu21T/7hVhRGh/ZPw==",
          "dtype": "f8"
         },
         "y": [
          "mistral:latest",
          "gemma3:1b",
          "gemma3:1b",
          "gemma3:4b",
          "gemma3:4b",
          "mistral:latest",
          "gemma3:12b",
          "gemma3:12b"
         ]
        }
       ],
       "layout": {
        "barmode": "group",
        "height": 320,
        "legend": {
         "orientation": "h",
         "x": 1,
         "xanchor": "right",
         "y": 1.02,
         "yanchor": "bottom"
        },
        "showlegend": true,
        "template": {
         "data": {
          "bar": [
           {
            "error_x": {
             "color": "#2a3f5f"
            },
            "error_y": {
             "color": "#2a3f5f"
            },
            "marker": {
             "line": {
              "color": "white",
              "width": 0.5
             },
             "pattern": {
              "fillmode": "overlay",
              "size": 10,
              "solidity": 0.2
             }
            },
            "type": "bar"
           }
          ],
          "barpolar": [
           {
            "marker": {
             "line": {
              "color": "white",
              "width": 0.5
             },
             "pattern": {
              "fillmode": "overlay",
              "size": 10,
              "solidity": 0.2
             }
            },
            "type": "barpolar"
           }
          ],
          "carpet": [
           {
            "aaxis": {
             "endlinecolor": "#2a3f5f",
             "gridcolor": "#C8D4E3",
             "linecolor": "#C8D4E3",
             "minorgridcolor": "#C8D4E3",
             "startlinecolor": "#2a3f5f"
            },
            "baxis": {
             "endlinecolor": "#2a3f5f",
             "gridcolor": "#C8D4E3",
             "linecolor": "#C8D4E3",
             "minorgridcolor": "#C8D4E3",
             "startlinecolor": "#2a3f5f"
            },
            "type": "carpet"
           }
          ],
          "choropleth": [
           {
            "colorbar": {
             "outlinewidth": 0,
             "ticks": ""
            },
            "type": "choropleth"
           }
          ],
          "contour": [
           {
            "colorbar": {
             "outlinewidth": 0,
             "ticks": ""
            },
            "colorscale": [
             [
              0,
              "#0d0887"
             ],
             [
              0.1111111111111111,
              "#46039f"
             ],
             [
              0.2222222222222222,
              "#7201a8"
             ],
             [
              0.3333333333333333,
              "#9c179e"
             ],
             [
              0.4444444444444444,
              "#bd3786"
             ],
             [
              0.5555555555555556,
              "#d8576b"
             ],
             [
              0.6666666666666666,
              "#ed7953"
             ],
             [
              0.7777777777777778,
              "#fb9f3a"
             ],
             [
              0.8888888888888888,
              "#fdca26"
             ],
             [
              1,
              "#f0f921"
             ]
            ],
            "type": "contour"
           }
          ],
          "contourcarpet": [
           {
            "colorbar": {
             "outlinewidth": 0,
             "ticks": ""
            },
            "type": "contourcarpet"
           }
          ],
          "heatmap": [
           {
            "colorbar": {
             "outlinewidth": 0,
             "ticks": ""
            },
            "colorscale": [
             [
              0,
              "#0d0887"
             ],
             [
              0.1111111111111111,
              "#46039f"
             ],
             [
              0.2222222222222222,
              "#7201a8"
             ],
             [
              0.3333333333333333,
              "#9c179e"
             ],
             [
              0.4444444444444444,
              "#bd3786"
             ],
             [
              0.5555555555555556,
              "#d8576b"
             ],
             [
              0.6666666666666666,
              "#ed7953"
             ],
             [
              0.7777777777777778,
              "#fb9f3a"
             ],
             [
              0.8888888888888888,
              "#fdca26"
             ],
             [
              1,
              "#f0f921"
             ]
            ],
            "type": "heatmap"
           }
          ],
          "histogram": [
           {
            "marker": {
             "pattern": {
              "fillmode": "overlay",
              "size": 10,
              "solidity": 0.2
             }
            },
            "type": "histogram"
           }
          ],
          "histogram2d": [
           {
            "colorbar": {
             "outlinewidth": 0,
             "ticks": ""
            },
            "colorscale": [
             [
              0,
              "#0d0887"
             ],
             [
              0.1111111111111111,
              "#46039f"
             ],
             [
              0.2222222222222222,
              "#7201a8"
             ],
             [
              0.3333333333333333,
              "#9c179e"
             ],
             [
              0.4444444444444444,
              "#bd3786"
             ],
             [
              0.5555555555555556,
              "#d8576b"
             ],
             [
              0.6666666666666666,
              "#ed7953"
             ],
             [
              0.7777777777777778,
              "#fb9f3a"
             ],
             [
              0.8888888888888888,
              "#fdca26"
             ],
             [
              1,
              "#f0f921"
             ]
            ],
            "type": "histogram2d"
           }
          ],
          "histogram2dcontour": [
           {
            "colorbar": {
             "outlinewidth": 0,
             "ticks": ""
            },
            "colorscale": [
             [
              0,
              "#0d0887"
             ],
             [
              0.1111111111111111,
              "#46039f"
             ],
             [
              0.2222222222222222,
              "#7201a8"
             ],
             [
              0.3333333333333333,
              "#9c179e"
             ],
             [
              0.4444444444444444,
              "#bd3786"
             ],
             [
              0.5555555555555556,
              "#d8576b"
             ],
             [
              0.6666666666666666,
              "#ed7953"
             ],
             [
              0.7777777777777778,
              "#fb9f3a"
             ],
             [
              0.8888888888888888,
              "#fdca26"
             ],
             [
              1,
              "#f0f921"
             ]
            ],
            "type": "histogram2dcontour"
           }
          ],
          "mesh3d": [
           {
            "colorbar": {
             "outlinewidth": 0,
             "ticks": ""
            },
            "type": "mesh3d"
           }
          ],
          "parcoords": [
           {
            "line": {
             "colorbar": {
              "outlinewidth": 0,
              "ticks": ""
             }
            },
            "type": "parcoords"
           }
          ],
          "pie": [
           {
            "automargin": true,
            "type": "pie"
           }
          ],
          "scatter": [
           {
            "fillpattern": {
             "fillmode": "overlay",
             "size": 10,
             "solidity": 0.2
            },
            "type": "scatter"
           }
          ],
          "scatter3d": [
           {
            "line": {
             "colorbar": {
              "outlinewidth": 0,
              "ticks": ""
             }
            },
            "marker": {
             "colorbar": {
              "outlinewidth": 0,
              "ticks": ""
             }
            },
            "type": "scatter3d"
           }
          ],
          "scattercarpet": [
           {
            "marker": {
             "colorbar": {
              "outlinewidth": 0,
              "ticks": ""
             }
            },
            "type": "scattercarpet"
           }
          ],
          "scattergeo": [
           {
            "marker": {
             "colorbar": {
              "outlinewidth": 0,
              "ticks": ""
             }
            },
            "type": "scattergeo"
           }
          ],
          "scattergl": [
           {
            "marker": {
             "colorbar": {
              "outlinewidth": 0,
              "ticks": ""
             }
            },
            "type": "scattergl"
           }
          ],
          "scattermap": [
           {
            "marker": {
             "colorbar": {
              "outlinewidth": 0,
              "ticks": ""
             }
            },
            "type": "scattermap"
           }
          ],
          "scattermapbox": [
           {
            "marker": {
             "colorbar": {
              "outlinewidth": 0,
              "ticks": ""
             }
            },
            "type": "scattermapbox"
           }
          ],
          "scatterpolar": [
           {
            "marker": {
             "colorbar": {
              "outlinewidth": 0,
              "ticks": ""
             }
            },
            "type": "scatterpolar"
           }
          ],
          "scatterpolargl": [
           {
            "marker": {
             "colorbar": {
              "outlinewidth": 0,
              "ticks": ""
             }
            },
            "type": "scatterpolargl"
           }
          ],
          "scatterternary": [
           {
            "marker": {
             "colorbar": {
              "outlinewidth": 0,
              "ticks": ""
             }
            },
            "type": "scatterternary"
           }
          ],
          "surface": [
           {
            "colorbar": {
             "outlinewidth": 0,
             "ticks": ""
            },
            "colorscale": [
             [
              0,
              "#0d0887"
             ],
             [
              0.1111111111111111,
              "#46039f"
             ],
             [
              0.2222222222222222,
              "#7201a8"
             ],
             [
              0.3333333333333333,
              "#9c179e"
             ],
             [
              0.4444444444444444,
              "#bd3786"
             ],
             [
              0.5555555555555556,
              "#d8576b"
             ],
             [
              0.6666666666666666,
              "#ed7953"
             ],
             [
              0.7777777777777778,
              "#fb9f3a"
             ],
             [
              0.8888888888888888,
              "#fdca26"
             ],
             [
              1,
              "#f0f921"
             ]
            ],
            "type": "surface"
           }
          ],
          "table": [
           {
            "cells": {
             "fill": {
              "color": "#EBF0F8"
             },
             "line": {
              "color": "white"
             }
            },
            "header": {
             "fill": {
              "color": "#C8D4E3"
             },
             "line": {
              "color": "white"
             }
            },
            "type": "table"
           }
          ]
         },
         "layout": {
          "annotationdefaults": {
           "arrowcolor": "#2a3f5f",
           "arrowhead": 0,
           "arrowwidth": 1
          },
          "autotypenumbers": "strict",
          "coloraxis": {
           "colorbar": {
            "outlinewidth": 0,
            "ticks": ""
           }
          },
          "colorscale": {
           "diverging": [
            [
             0,
             "#8e0152"
            ],
            [
             0.1,
             "#c51b7d"
            ],
            [
             0.2,
             "#de77ae"
            ],
            [
             0.3,
             "#f1b6da"
            ],
            [
             0.4,
             "#fde0ef"
            ],
            [
             0.5,
             "#f7f7f7"
            ],
            [
             0.6,
             "#e6f5d0"
            ],
            [
             0.7,
             "#b8e186"
            ],
            [
             0.8,
             "#7fbc41"
            ],
            [
             0.9,
             "#4d9221"
            ],
            [
             1,
             "#276419"
            ]
           ],
           "sequential": [
            [
             0,
             "#0d0887"
            ],
            [
             0.1111111111111111,
             "#46039f"
            ],
            [
             0.2222222222222222,
             "#7201a8"
            ],
            [
             0.3333333333333333,
             "#9c179e"
            ],
            [
             0.4444444444444444,
             "#bd3786"
            ],
            [
             0.5555555555555556,
             "#d8576b"
            ],
            [
             0.6666666666666666,
             "#ed7953"
            ],
            [
             0.7777777777777778,
             "#fb9f3a"
            ],
            [
             0.8888888888888888,
             "#fdca26"
            ],
            [
             1,
             "#f0f921"
            ]
           ],
           "sequentialminus": [
            [
             0,
             "#0d0887"
            ],
            [
             0.1111111111111111,
             "#46039f"
            ],
            [
             0.2222222222222222,
             "#7201a8"
            ],
            [
             0.3333333333333333,
             "#9c179e"
            ],
            [
             0.4444444444444444,
             "#bd3786"
            ],
            [
             0.5555555555555556,
             "#d8576b"
            ],
            [
             0.6666666666666666,
             "#ed7953"
            ],
            [
             0.7777777777777778,
             "#fb9f3a"
            ],
            [
             0.8888888888888888,
             "#fdca26"
            ],
            [
             1,
             "#f0f921"
            ]
           ]
          },
          "colorway": [
           "#636efa",
           "#EF553B",
           "#00cc96",
           "#ab63fa",
           "#FFA15A",
           "#19d3f3",
           "#FF6692",
           "#B6E880",
           "#FF97FF",
           "#FECB52"
          ],
          "font": {
           "color": "#2a3f5f"
          },
          "geo": {
           "bgcolor": "white",
           "lakecolor": "white",
           "landcolor": "white",
           "showlakes": true,
           "showland": true,
           "subunitcolor": "#C8D4E3"
          },
          "hoverlabel": {
           "align": "left"
          },
          "hovermode": "closest",
          "mapbox": {
           "style": "light"
          },
          "paper_bgcolor": "white",
          "plot_bgcolor": "white",
          "polar": {
           "angularaxis": {
            "gridcolor": "#EBF0F8",
            "linecolor": "#EBF0F8",
            "ticks": ""
           },
           "bgcolor": "white",
           "radialaxis": {
            "gridcolor": "#EBF0F8",
            "linecolor": "#EBF0F8",
            "ticks": ""
           }
          },
          "scene": {
           "xaxis": {
            "backgroundcolor": "white",
            "gridcolor": "#DFE8F3",
            "gridwidth": 2,
            "linecolor": "#EBF0F8",
            "showbackground": true,
            "ticks": "",
            "zerolinecolor": "#EBF0F8"
           },
           "yaxis": {
            "backgroundcolor": "white",
            "gridcolor": "#DFE8F3",
            "gridwidth": 2,
            "linecolor": "#EBF0F8",
            "showbackground": true,
            "ticks": "",
            "zerolinecolor": "#EBF0F8"
           },
           "zaxis": {
            "backgroundcolor": "white",
            "gridcolor": "#DFE8F3",
            "gridwidth": 2,
            "linecolor": "#EBF0F8",
            "showbackground": true,
            "ticks": "",
            "zerolinecolor": "#EBF0F8"
           }
          },
          "shapedefaults": {
           "line": {
            "color": "#2a3f5f"
           }
          },
          "ternary": {
           "aaxis": {
            "gridcolor": "#DFE8F3",
            "linecolor": "#A2B1C6",
            "ticks": ""
           },
           "baxis": {
            "gridcolor": "#DFE8F3",
            "linecolor": "#A2B1C6",
            "ticks": ""
           },
           "bgcolor": "white",
           "caxis": {
            "gridcolor": "#DFE8F3",
            "linecolor": "#A2B1C6",
            "ticks": ""
           }
          },
          "title": {
           "x": 0.05
          },
          "xaxis": {
           "automargin": true,
           "gridcolor": "#EBF0F8",
           "linecolor": "#EBF0F8",
           "ticks": "",
           "title": {
            "standoff": 15
           },
           "zerolinecolor": "#EBF0F8",
           "zerolinewidth": 2
          },
          "yaxis": {
           "automargin": true,
           "gridcolor": "#EBF0F8",
           "linecolor": "#EBF0F8",
           "ticks": "",
           "title": {
            "standoff": 15
           },
           "zerolinecolor": "#EBF0F8",
           "zerolinewidth": 2
          }
         }
        },
        "title": {
         "font": {
          "color": "#2E2E2E",
          "size": 16
         },
         "text": "Model Performance on Document: RESIN v. RUSSIA<br><span style='font-size:14px'>Best Model: gemma3:12b (F1: 0.393)</span>",
         "x": 0.5
        },
        "width": 800,
        "xaxis": {
         "range": [
          0,
          1
         ],
         "tickfont": {
          "size": 12
         },
         "title": {
          "text": "Score"
         }
        },
        "yaxis": {
         "tickfont": {
          "size": 12
         },
         "title": {
          "text": "Models"
         }
        }
       }
      }
     },
     "metadata": {},
     "output_type": "display_data"
    },
    {
     "data": {
      "application/vnd.plotly.v1+json": {
       "config": {
        "plotlyServerURL": "https://plot.ly"
       },
       "data": [
        {
         "marker": {
          "color": "#FF6B6B"
         },
         "name": "Precision",
         "offsetgroup": "0",
         "orientation": "h",
         "text": {
          "bdata": "AAAAAAAAAAD4U+Olm8TQPx1aZDvfT9U/KVyPwvUo3D9mZmZmZmbWP4GVQ4ts59M/PQrXo3A92j+8dJMYBFbWPw==",
          "dtype": "f8"
         },
         "textposition": "auto",
         "type": "bar",
         "width": 0.25,
         "x": {
          "bdata": "AAAAAAAAAAAxDMMwDMPQP1VVVVVVVdU/KVyPwvUo3D9mZmZmZmbWPyZDsI4279M/GqRBGqRB2j+WZVmWZVnWPw==",
          "dtype": "f8"
         },
         "y": [
          "gemma3:1b",
          "gemma3:1b",
          "gemma3:4b",
          "mistral:latest",
          "gemma3:12b",
          "mistral:latest",
          "gemma3:12b",
          "gemma3:4b"
         ]
        },
        {
         "marker": {
          "color": "#4ECDC4"
         },
         "name": "Recall",
         "offsetgroup": "1",
         "orientation": "h",
         "text": {
          "bdata": "AAAAAAAAAABkO99PjZfOPy2yne+nxss/ZDvfT42Xzj/b+X5qvHTTPzvfT42Xbto/EoPAyqFF1j9kO99PjZfePw==",
          "dtype": "f8"
         },
         "textposition": "auto",
         "type": "bar",
         "width": 0.25,
         "x": {
          "bdata": "AAAAAAAAAADqTW9605vOP73pTW9608s/6k1vetObzj84velNb3rTP6c3velNb9o/ZCELWchC1j/qTW9605vePw==",
          "dtype": "f8"
         },
         "y": [
          "gemma3:1b",
          "gemma3:1b",
          "gemma3:4b",
          "mistral:latest",
          "gemma3:12b",
          "mistral:latest",
          "gemma3:12b",
          "gemma3:4b"
         ]
        },
        {
         "marker": {
          "color": "#45B7D1"
         },
         "name": "F1-Score",
         "offsetgroup": "2",
         "orientation": "h",
         "text": {
          "bdata": "AAAAAAAAAAAAAAAAAADQP6JFtvP91NA/16NwPQrX0z93vp8aL93UP7gehetRuNY/qvHSTWIQ2D9CYOXQItvZPw==",
          "dtype": "f8"
         },
         "textposition": "auto",
         "type": "bar",
         "width": 0.25,
         "x": {
          "bdata": "AAAAAAAAAAAAAAAAAADQP3gN5TWU19A/mHoyfrvU0z81ZU1ZU9bUP+QjE+idutY/GBgYGBgY2D9bnZGKudXZPw==",
          "dtype": "f8"
         },
         "y": [
          "gemma3:1b",
          "gemma3:1b",
          "gemma3:4b",
          "mistral:latest",
          "gemma3:12b",
          "mistral:latest",
          "gemma3:12b",
          "gemma3:4b"
         ]
        }
       ],
       "layout": {
        "barmode": "group",
        "height": 320,
        "legend": {
         "orientation": "h",
         "x": 1,
         "xanchor": "right",
         "y": 1.02,
         "yanchor": "bottom"
        },
        "showlegend": true,
        "template": {
         "data": {
          "bar": [
           {
            "error_x": {
             "color": "#2a3f5f"
            },
            "error_y": {
             "color": "#2a3f5f"
            },
            "marker": {
             "line": {
              "color": "white",
              "width": 0.5
             },
             "pattern": {
              "fillmode": "overlay",
              "size": 10,
              "solidity": 0.2
             }
            },
            "type": "bar"
           }
          ],
          "barpolar": [
           {
            "marker": {
             "line": {
              "color": "white",
              "width": 0.5
             },
             "pattern": {
              "fillmode": "overlay",
              "size": 10,
              "solidity": 0.2
             }
            },
            "type": "barpolar"
           }
          ],
          "carpet": [
           {
            "aaxis": {
             "endlinecolor": "#2a3f5f",
             "gridcolor": "#C8D4E3",
             "linecolor": "#C8D4E3",
             "minorgridcolor": "#C8D4E3",
             "startlinecolor": "#2a3f5f"
            },
            "baxis": {
             "endlinecolor": "#2a3f5f",
             "gridcolor": "#C8D4E3",
             "linecolor": "#C8D4E3",
             "minorgridcolor": "#C8D4E3",
             "startlinecolor": "#2a3f5f"
            },
            "type": "carpet"
           }
          ],
          "choropleth": [
           {
            "colorbar": {
             "outlinewidth": 0,
             "ticks": ""
            },
            "type": "choropleth"
           }
          ],
          "contour": [
           {
            "colorbar": {
             "outlinewidth": 0,
             "ticks": ""
            },
            "colorscale": [
             [
              0,
              "#0d0887"
             ],
             [
              0.1111111111111111,
              "#46039f"
             ],
             [
              0.2222222222222222,
              "#7201a8"
             ],
             [
              0.3333333333333333,
              "#9c179e"
             ],
             [
              0.4444444444444444,
              "#bd3786"
             ],
             [
              0.5555555555555556,
              "#d8576b"
             ],
             [
              0.6666666666666666,
              "#ed7953"
             ],
             [
              0.7777777777777778,
              "#fb9f3a"
             ],
             [
              0.8888888888888888,
              "#fdca26"
             ],
             [
              1,
              "#f0f921"
             ]
            ],
            "type": "contour"
           }
          ],
          "contourcarpet": [
           {
            "colorbar": {
             "outlinewidth": 0,
             "ticks": ""
            },
            "type": "contourcarpet"
           }
          ],
          "heatmap": [
           {
            "colorbar": {
             "outlinewidth": 0,
             "ticks": ""
            },
            "colorscale": [
             [
              0,
              "#0d0887"
             ],
             [
              0.1111111111111111,
              "#46039f"
             ],
             [
              0.2222222222222222,
              "#7201a8"
             ],
             [
              0.3333333333333333,
              "#9c179e"
             ],
             [
              0.4444444444444444,
              "#bd3786"
             ],
             [
              0.5555555555555556,
              "#d8576b"
             ],
             [
              0.6666666666666666,
              "#ed7953"
             ],
             [
              0.7777777777777778,
              "#fb9f3a"
             ],
             [
              0.8888888888888888,
              "#fdca26"
             ],
             [
              1,
              "#f0f921"
             ]
            ],
            "type": "heatmap"
           }
          ],
          "histogram": [
           {
            "marker": {
             "pattern": {
              "fillmode": "overlay",
              "size": 10,
              "solidity": 0.2
             }
            },
            "type": "histogram"
           }
          ],
          "histogram2d": [
           {
            "colorbar": {
             "outlinewidth": 0,
             "ticks": ""
            },
            "colorscale": [
             [
              0,
              "#0d0887"
             ],
             [
              0.1111111111111111,
              "#46039f"
             ],
             [
              0.2222222222222222,
              "#7201a8"
             ],
             [
              0.3333333333333333,
              "#9c179e"
             ],
             [
              0.4444444444444444,
              "#bd3786"
             ],
             [
              0.5555555555555556,
              "#d8576b"
             ],
             [
              0.6666666666666666,
              "#ed7953"
             ],
             [
              0.7777777777777778,
              "#fb9f3a"
             ],
             [
              0.8888888888888888,
              "#fdca26"
             ],
             [
              1,
              "#f0f921"
             ]
            ],
            "type": "histogram2d"
           }
          ],
          "histogram2dcontour": [
           {
            "colorbar": {
             "outlinewidth": 0,
             "ticks": ""
            },
            "colorscale": [
             [
              0,
              "#0d0887"
             ],
             [
              0.1111111111111111,
              "#46039f"
             ],
             [
              0.2222222222222222,
              "#7201a8"
             ],
             [
              0.3333333333333333,
              "#9c179e"
             ],
             [
              0.4444444444444444,
              "#bd3786"
             ],
             [
              0.5555555555555556,
              "#d8576b"
             ],
             [
              0.6666666666666666,
              "#ed7953"
             ],
             [
              0.7777777777777778,
              "#fb9f3a"
             ],
             [
              0.8888888888888888,
              "#fdca26"
             ],
             [
              1,
              "#f0f921"
             ]
            ],
            "type": "histogram2dcontour"
           }
          ],
          "mesh3d": [
           {
            "colorbar": {
             "outlinewidth": 0,
             "ticks": ""
            },
            "type": "mesh3d"
           }
          ],
          "parcoords": [
           {
            "line": {
             "colorbar": {
              "outlinewidth": 0,
              "ticks": ""
             }
            },
            "type": "parcoords"
           }
          ],
          "pie": [
           {
            "automargin": true,
            "type": "pie"
           }
          ],
          "scatter": [
           {
            "fillpattern": {
             "fillmode": "overlay",
             "size": 10,
             "solidity": 0.2
            },
            "type": "scatter"
           }
          ],
          "scatter3d": [
           {
            "line": {
             "colorbar": {
              "outlinewidth": 0,
              "ticks": ""
             }
            },
            "marker": {
             "colorbar": {
              "outlinewidth": 0,
              "ticks": ""
             }
            },
            "type": "scatter3d"
           }
          ],
          "scattercarpet": [
           {
            "marker": {
             "colorbar": {
              "outlinewidth": 0,
              "ticks": ""
             }
            },
            "type": "scattercarpet"
           }
          ],
          "scattergeo": [
           {
            "marker": {
             "colorbar": {
              "outlinewidth": 0,
              "ticks": ""
             }
            },
            "type": "scattergeo"
           }
          ],
          "scattergl": [
           {
            "marker": {
             "colorbar": {
              "outlinewidth": 0,
              "ticks": ""
             }
            },
            "type": "scattergl"
           }
          ],
          "scattermap": [
           {
            "marker": {
             "colorbar": {
              "outlinewidth": 0,
              "ticks": ""
             }
            },
            "type": "scattermap"
           }
          ],
          "scattermapbox": [
           {
            "marker": {
             "colorbar": {
              "outlinewidth": 0,
              "ticks": ""
             }
            },
            "type": "scattermapbox"
           }
          ],
          "scatterpolar": [
           {
            "marker": {
             "colorbar": {
              "outlinewidth": 0,
              "ticks": ""
             }
            },
            "type": "scatterpolar"
           }
          ],
          "scatterpolargl": [
           {
            "marker": {
             "colorbar": {
              "outlinewidth": 0,
              "ticks": ""
             }
            },
            "type": "scatterpolargl"
           }
          ],
          "scatterternary": [
           {
            "marker": {
             "colorbar": {
              "outlinewidth": 0,
              "ticks": ""
             }
            },
            "type": "scatterternary"
           }
          ],
          "surface": [
           {
            "colorbar": {
             "outlinewidth": 0,
             "ticks": ""
            },
            "colorscale": [
             [
              0,
              "#0d0887"
             ],
             [
              0.1111111111111111,
              "#46039f"
             ],
             [
              0.2222222222222222,
              "#7201a8"
             ],
             [
              0.3333333333333333,
              "#9c179e"
             ],
             [
              0.4444444444444444,
              "#bd3786"
             ],
             [
              0.5555555555555556,
              "#d8576b"
             ],
             [
              0.6666666666666666,
              "#ed7953"
             ],
             [
              0.7777777777777778,
              "#fb9f3a"
             ],
             [
              0.8888888888888888,
              "#fdca26"
             ],
             [
              1,
              "#f0f921"
             ]
            ],
            "type": "surface"
           }
          ],
          "table": [
           {
            "cells": {
             "fill": {
              "color": "#EBF0F8"
             },
             "line": {
              "color": "white"
             }
            },
            "header": {
             "fill": {
              "color": "#C8D4E3"
             },
             "line": {
              "color": "white"
             }
            },
            "type": "table"
           }
          ]
         },
         "layout": {
          "annotationdefaults": {
           "arrowcolor": "#2a3f5f",
           "arrowhead": 0,
           "arrowwidth": 1
          },
          "autotypenumbers": "strict",
          "coloraxis": {
           "colorbar": {
            "outlinewidth": 0,
            "ticks": ""
           }
          },
          "colorscale": {
           "diverging": [
            [
             0,
             "#8e0152"
            ],
            [
             0.1,
             "#c51b7d"
            ],
            [
             0.2,
             "#de77ae"
            ],
            [
             0.3,
             "#f1b6da"
            ],
            [
             0.4,
             "#fde0ef"
            ],
            [
             0.5,
             "#f7f7f7"
            ],
            [
             0.6,
             "#e6f5d0"
            ],
            [
             0.7,
             "#b8e186"
            ],
            [
             0.8,
             "#7fbc41"
            ],
            [
             0.9,
             "#4d9221"
            ],
            [
             1,
             "#276419"
            ]
           ],
           "sequential": [
            [
             0,
             "#0d0887"
            ],
            [
             0.1111111111111111,
             "#46039f"
            ],
            [
             0.2222222222222222,
             "#7201a8"
            ],
            [
             0.3333333333333333,
             "#9c179e"
            ],
            [
             0.4444444444444444,
             "#bd3786"
            ],
            [
             0.5555555555555556,
             "#d8576b"
            ],
            [
             0.6666666666666666,
             "#ed7953"
            ],
            [
             0.7777777777777778,
             "#fb9f3a"
            ],
            [
             0.8888888888888888,
             "#fdca26"
            ],
            [
             1,
             "#f0f921"
            ]
           ],
           "sequentialminus": [
            [
             0,
             "#0d0887"
            ],
            [
             0.1111111111111111,
             "#46039f"
            ],
            [
             0.2222222222222222,
             "#7201a8"
            ],
            [
             0.3333333333333333,
             "#9c179e"
            ],
            [
             0.4444444444444444,
             "#bd3786"
            ],
            [
             0.5555555555555556,
             "#d8576b"
            ],
            [
             0.6666666666666666,
             "#ed7953"
            ],
            [
             0.7777777777777778,
             "#fb9f3a"
            ],
            [
             0.8888888888888888,
             "#fdca26"
            ],
            [
             1,
             "#f0f921"
            ]
           ]
          },
          "colorway": [
           "#636efa",
           "#EF553B",
           "#00cc96",
           "#ab63fa",
           "#FFA15A",
           "#19d3f3",
           "#FF6692",
           "#B6E880",
           "#FF97FF",
           "#FECB52"
          ],
          "font": {
           "color": "#2a3f5f"
          },
          "geo": {
           "bgcolor": "white",
           "lakecolor": "white",
           "landcolor": "white",
           "showlakes": true,
           "showland": true,
           "subunitcolor": "#C8D4E3"
          },
          "hoverlabel": {
           "align": "left"
          },
          "hovermode": "closest",
          "mapbox": {
           "style": "light"
          },
          "paper_bgcolor": "white",
          "plot_bgcolor": "white",
          "polar": {
           "angularaxis": {
            "gridcolor": "#EBF0F8",
            "linecolor": "#EBF0F8",
            "ticks": ""
           },
           "bgcolor": "white",
           "radialaxis": {
            "gridcolor": "#EBF0F8",
            "linecolor": "#EBF0F8",
            "ticks": ""
           }
          },
          "scene": {
           "xaxis": {
            "backgroundcolor": "white",
            "gridcolor": "#DFE8F3",
            "gridwidth": 2,
            "linecolor": "#EBF0F8",
            "showbackground": true,
            "ticks": "",
            "zerolinecolor": "#EBF0F8"
           },
           "yaxis": {
            "backgroundcolor": "white",
            "gridcolor": "#DFE8F3",
            "gridwidth": 2,
            "linecolor": "#EBF0F8",
            "showbackground": true,
            "ticks": "",
            "zerolinecolor": "#EBF0F8"
           },
           "zaxis": {
            "backgroundcolor": "white",
            "gridcolor": "#DFE8F3",
            "gridwidth": 2,
            "linecolor": "#EBF0F8",
            "showbackground": true,
            "ticks": "",
            "zerolinecolor": "#EBF0F8"
           }
          },
          "shapedefaults": {
           "line": {
            "color": "#2a3f5f"
           }
          },
          "ternary": {
           "aaxis": {
            "gridcolor": "#DFE8F3",
            "linecolor": "#A2B1C6",
            "ticks": ""
           },
           "baxis": {
            "gridcolor": "#DFE8F3",
            "linecolor": "#A2B1C6",
            "ticks": ""
           },
           "bgcolor": "white",
           "caxis": {
            "gridcolor": "#DFE8F3",
            "linecolor": "#A2B1C6",
            "ticks": ""
           }
          },
          "title": {
           "x": 0.05
          },
          "xaxis": {
           "automargin": true,
           "gridcolor": "#EBF0F8",
           "linecolor": "#EBF0F8",
           "ticks": "",
           "title": {
            "standoff": 15
           },
           "zerolinecolor": "#EBF0F8",
           "zerolinewidth": 2
          },
          "yaxis": {
           "automargin": true,
           "gridcolor": "#EBF0F8",
           "linecolor": "#EBF0F8",
           "ticks": "",
           "title": {
            "standoff": 15
           },
           "zerolinecolor": "#EBF0F8",
           "zerolinewidth": 2
          }
         }
        },
        "title": {
         "font": {
          "color": "#2E2E2E",
          "size": 16
         },
         "text": "Model Performance on Document: DOKTOROV v. BULGARIA<br><span style='font-size:14px'>Best Model: gemma3:4b (F1: 0.404)</span>",
         "x": 0.5
        },
        "width": 800,
        "xaxis": {
         "range": [
          0,
          1
         ],
         "tickfont": {
          "size": 12
         },
         "title": {
          "text": "Score"
         }
        },
        "yaxis": {
         "tickfont": {
          "size": 12
         },
         "title": {
          "text": "Models"
         }
        }
       }
      }
     },
     "metadata": {},
     "output_type": "display_data"
    },
    {
     "data": {
      "application/vnd.plotly.v1+json": {
       "config": {
        "plotlyServerURL": "https://plot.ly"
       },
       "data": [
        {
         "marker": {
          "color": "#FF6B6B"
         },
         "name": "Precision",
         "offsetgroup": "0",
         "orientation": "h",
         "text": {
          "bdata": "AAAAAAAAAAAAAAAAAADQPx1aZDvfT9U/mpmZmZmZ2T8AAAAAAADgP5qZmZmZmck/EoPAyqFF1j9g5dAi2/nePw==",
          "dtype": "f8"
         },
         "textposition": "auto",
         "type": "bar",
         "width": 0.25,
         "x": {
          "bdata": "AAAAAAAAAAAAAAAAAADQP1VVVVVVVdU/mpmZmZmZ2T8AAAAAAADgP5qZmZmZmck/ZCELWchC1j/43nvvvffePw==",
          "dtype": "f8"
         },
         "y": [
          "gemma3:4b",
          "gemma3:1b",
          "gemma3:4b",
          "mistral:latest",
          "gemma3:1b",
          "gemma3:12b",
          "gemma3:12b",
          "mistral:latest"
         ]
        },
        {
         "marker": {
          "color": "#4ECDC4"
         },
         "name": "Recall",
         "offsetgroup": "1",
         "orientation": "h",
         "text": {
          "bdata": "AAAAAAAAAAD8qfHSTWKQP/yp8dJNYpA//Knx0k1ikD/8qfHSTWKQP1pkO99PjZc/WDm0yHa+rz/ByqFFtvPNPw==",
          "dtype": "f8"
         },
         "textposition": "auto",
         "type": "bar",
         "width": 0.25,
         "x": {
          "bdata": "AAAAAAAAAAAAAAAAAACQPwAAAAAAAJA/AAAAAAAAkD8AAAAAAACQPwAAAAAAAJg/AAAAAAAAsD8AAAAAAADOPw==",
          "dtype": "f8"
         },
         "y": [
          "gemma3:4b",
          "gemma3:1b",
          "gemma3:4b",
          "mistral:latest",
          "gemma3:1b",
          "gemma3:12b",
          "gemma3:12b",
          "mistral:latest"
         ]
        },
        {
         "marker": {
          "color": "#45B7D1"
         },
         "name": "F1-Score",
         "offsetgroup": "2",
         "orientation": "h",
         "text": {
          "bdata": "AAAAAAAAAAAZBFYOLbKdP7gehetRuJ4/uB6F61G4nj+4HoXrUbiePxsv3SQGgaU/iUFg5dAiuz/TTWIQWDnUPw==",
          "dtype": "f8"
         },
         "textposition": "auto",
         "type": "bar",
         "width": 0.25,
         "x": {
          "bdata": "AAAAAAAAAAAeHh4eHh6eP2e38KsxkZ4/wOwBswfMnj8IH3zwwQefPy0pB0SGe6U/2YBsQDYguz9eQ3kN5TXUPw==",
          "dtype": "f8"
         },
         "y": [
          "gemma3:4b",
          "gemma3:1b",
          "gemma3:4b",
          "mistral:latest",
          "gemma3:1b",
          "gemma3:12b",
          "gemma3:12b",
          "mistral:latest"
         ]
        }
       ],
       "layout": {
        "barmode": "group",
        "height": 320,
        "legend": {
         "orientation": "h",
         "x": 1,
         "xanchor": "right",
         "y": 1.02,
         "yanchor": "bottom"
        },
        "showlegend": true,
        "template": {
         "data": {
          "bar": [
           {
            "error_x": {
             "color": "#2a3f5f"
            },
            "error_y": {
             "color": "#2a3f5f"
            },
            "marker": {
             "line": {
              "color": "white",
              "width": 0.5
             },
             "pattern": {
              "fillmode": "overlay",
              "size": 10,
              "solidity": 0.2
             }
            },
            "type": "bar"
           }
          ],
          "barpolar": [
           {
            "marker": {
             "line": {
              "color": "white",
              "width": 0.5
             },
             "pattern": {
              "fillmode": "overlay",
              "size": 10,
              "solidity": 0.2
             }
            },
            "type": "barpolar"
           }
          ],
          "carpet": [
           {
            "aaxis": {
             "endlinecolor": "#2a3f5f",
             "gridcolor": "#C8D4E3",
             "linecolor": "#C8D4E3",
             "minorgridcolor": "#C8D4E3",
             "startlinecolor": "#2a3f5f"
            },
            "baxis": {
             "endlinecolor": "#2a3f5f",
             "gridcolor": "#C8D4E3",
             "linecolor": "#C8D4E3",
             "minorgridcolor": "#C8D4E3",
             "startlinecolor": "#2a3f5f"
            },
            "type": "carpet"
           }
          ],
          "choropleth": [
           {
            "colorbar": {
             "outlinewidth": 0,
             "ticks": ""
            },
            "type": "choropleth"
           }
          ],
          "contour": [
           {
            "colorbar": {
             "outlinewidth": 0,
             "ticks": ""
            },
            "colorscale": [
             [
              0,
              "#0d0887"
             ],
             [
              0.1111111111111111,
              "#46039f"
             ],
             [
              0.2222222222222222,
              "#7201a8"
             ],
             [
              0.3333333333333333,
              "#9c179e"
             ],
             [
              0.4444444444444444,
              "#bd3786"
             ],
             [
              0.5555555555555556,
              "#d8576b"
             ],
             [
              0.6666666666666666,
              "#ed7953"
             ],
             [
              0.7777777777777778,
              "#fb9f3a"
             ],
             [
              0.8888888888888888,
              "#fdca26"
             ],
             [
              1,
              "#f0f921"
             ]
            ],
            "type": "contour"
           }
          ],
          "contourcarpet": [
           {
            "colorbar": {
             "outlinewidth": 0,
             "ticks": ""
            },
            "type": "contourcarpet"
           }
          ],
          "heatmap": [
           {
            "colorbar": {
             "outlinewidth": 0,
             "ticks": ""
            },
            "colorscale": [
             [
              0,
              "#0d0887"
             ],
             [
              0.1111111111111111,
              "#46039f"
             ],
             [
              0.2222222222222222,
              "#7201a8"
             ],
             [
              0.3333333333333333,
              "#9c179e"
             ],
             [
              0.4444444444444444,
              "#bd3786"
             ],
             [
              0.5555555555555556,
              "#d8576b"
             ],
             [
              0.6666666666666666,
              "#ed7953"
             ],
             [
              0.7777777777777778,
              "#fb9f3a"
             ],
             [
              0.8888888888888888,
              "#fdca26"
             ],
             [
              1,
              "#f0f921"
             ]
            ],
            "type": "heatmap"
           }
          ],
          "histogram": [
           {
            "marker": {
             "pattern": {
              "fillmode": "overlay",
              "size": 10,
              "solidity": 0.2
             }
            },
            "type": "histogram"
           }
          ],
          "histogram2d": [
           {
            "colorbar": {
             "outlinewidth": 0,
             "ticks": ""
            },
            "colorscale": [
             [
              0,
              "#0d0887"
             ],
             [
              0.1111111111111111,
              "#46039f"
             ],
             [
              0.2222222222222222,
              "#7201a8"
             ],
             [
              0.3333333333333333,
              "#9c179e"
             ],
             [
              0.4444444444444444,
              "#bd3786"
             ],
             [
              0.5555555555555556,
              "#d8576b"
             ],
             [
              0.6666666666666666,
              "#ed7953"
             ],
             [
              0.7777777777777778,
              "#fb9f3a"
             ],
             [
              0.8888888888888888,
              "#fdca26"
             ],
             [
              1,
              "#f0f921"
             ]
            ],
            "type": "histogram2d"
           }
          ],
          "histogram2dcontour": [
           {
            "colorbar": {
             "outlinewidth": 0,
             "ticks": ""
            },
            "colorscale": [
             [
              0,
              "#0d0887"
             ],
             [
              0.1111111111111111,
              "#46039f"
             ],
             [
              0.2222222222222222,
              "#7201a8"
             ],
             [
              0.3333333333333333,
              "#9c179e"
             ],
             [
              0.4444444444444444,
              "#bd3786"
             ],
             [
              0.5555555555555556,
              "#d8576b"
             ],
             [
              0.6666666666666666,
              "#ed7953"
             ],
             [
              0.7777777777777778,
              "#fb9f3a"
             ],
             [
              0.8888888888888888,
              "#fdca26"
             ],
             [
              1,
              "#f0f921"
             ]
            ],
            "type": "histogram2dcontour"
           }
          ],
          "mesh3d": [
           {
            "colorbar": {
             "outlinewidth": 0,
             "ticks": ""
            },
            "type": "mesh3d"
           }
          ],
          "parcoords": [
           {
            "line": {
             "colorbar": {
              "outlinewidth": 0,
              "ticks": ""
             }
            },
            "type": "parcoords"
           }
          ],
          "pie": [
           {
            "automargin": true,
            "type": "pie"
           }
          ],
          "scatter": [
           {
            "fillpattern": {
             "fillmode": "overlay",
             "size": 10,
             "solidity": 0.2
            },
            "type": "scatter"
           }
          ],
          "scatter3d": [
           {
            "line": {
             "colorbar": {
              "outlinewidth": 0,
              "ticks": ""
             }
            },
            "marker": {
             "colorbar": {
              "outlinewidth": 0,
              "ticks": ""
             }
            },
            "type": "scatter3d"
           }
          ],
          "scattercarpet": [
           {
            "marker": {
             "colorbar": {
              "outlinewidth": 0,
              "ticks": ""
             }
            },
            "type": "scattercarpet"
           }
          ],
          "scattergeo": [
           {
            "marker": {
             "colorbar": {
              "outlinewidth": 0,
              "ticks": ""
             }
            },
            "type": "scattergeo"
           }
          ],
          "scattergl": [
           {
            "marker": {
             "colorbar": {
              "outlinewidth": 0,
              "ticks": ""
             }
            },
            "type": "scattergl"
           }
          ],
          "scattermap": [
           {
            "marker": {
             "colorbar": {
              "outlinewidth": 0,
              "ticks": ""
             }
            },
            "type": "scattermap"
           }
          ],
          "scattermapbox": [
           {
            "marker": {
             "colorbar": {
              "outlinewidth": 0,
              "ticks": ""
             }
            },
            "type": "scattermapbox"
           }
          ],
          "scatterpolar": [
           {
            "marker": {
             "colorbar": {
              "outlinewidth": 0,
              "ticks": ""
             }
            },
            "type": "scatterpolar"
           }
          ],
          "scatterpolargl": [
           {
            "marker": {
             "colorbar": {
              "outlinewidth": 0,
              "ticks": ""
             }
            },
            "type": "scatterpolargl"
           }
          ],
          "scatterternary": [
           {
            "marker": {
             "colorbar": {
              "outlinewidth": 0,
              "ticks": ""
             }
            },
            "type": "scatterternary"
           }
          ],
          "surface": [
           {
            "colorbar": {
             "outlinewidth": 0,
             "ticks": ""
            },
            "colorscale": [
             [
              0,
              "#0d0887"
             ],
             [
              0.1111111111111111,
              "#46039f"
             ],
             [
              0.2222222222222222,
              "#7201a8"
             ],
             [
              0.3333333333333333,
              "#9c179e"
             ],
             [
              0.4444444444444444,
              "#bd3786"
             ],
             [
              0.5555555555555556,
              "#d8576b"
             ],
             [
              0.6666666666666666,
              "#ed7953"
             ],
             [
              0.7777777777777778,
              "#fb9f3a"
             ],
             [
              0.8888888888888888,
              "#fdca26"
             ],
             [
              1,
              "#f0f921"
             ]
            ],
            "type": "surface"
           }
          ],
          "table": [
           {
            "cells": {
             "fill": {
              "color": "#EBF0F8"
             },
             "line": {
              "color": "white"
             }
            },
            "header": {
             "fill": {
              "color": "#C8D4E3"
             },
             "line": {
              "color": "white"
             }
            },
            "type": "table"
           }
          ]
         },
         "layout": {
          "annotationdefaults": {
           "arrowcolor": "#2a3f5f",
           "arrowhead": 0,
           "arrowwidth": 1
          },
          "autotypenumbers": "strict",
          "coloraxis": {
           "colorbar": {
            "outlinewidth": 0,
            "ticks": ""
           }
          },
          "colorscale": {
           "diverging": [
            [
             0,
             "#8e0152"
            ],
            [
             0.1,
             "#c51b7d"
            ],
            [
             0.2,
             "#de77ae"
            ],
            [
             0.3,
             "#f1b6da"
            ],
            [
             0.4,
             "#fde0ef"
            ],
            [
             0.5,
             "#f7f7f7"
            ],
            [
             0.6,
             "#e6f5d0"
            ],
            [
             0.7,
             "#b8e186"
            ],
            [
             0.8,
             "#7fbc41"
            ],
            [
             0.9,
             "#4d9221"
            ],
            [
             1,
             "#276419"
            ]
           ],
           "sequential": [
            [
             0,
             "#0d0887"
            ],
            [
             0.1111111111111111,
             "#46039f"
            ],
            [
             0.2222222222222222,
             "#7201a8"
            ],
            [
             0.3333333333333333,
             "#9c179e"
            ],
            [
             0.4444444444444444,
             "#bd3786"
            ],
            [
             0.5555555555555556,
             "#d8576b"
            ],
            [
             0.6666666666666666,
             "#ed7953"
            ],
            [
             0.7777777777777778,
             "#fb9f3a"
            ],
            [
             0.8888888888888888,
             "#fdca26"
            ],
            [
             1,
             "#f0f921"
            ]
           ],
           "sequentialminus": [
            [
             0,
             "#0d0887"
            ],
            [
             0.1111111111111111,
             "#46039f"
            ],
            [
             0.2222222222222222,
             "#7201a8"
            ],
            [
             0.3333333333333333,
             "#9c179e"
            ],
            [
             0.4444444444444444,
             "#bd3786"
            ],
            [
             0.5555555555555556,
             "#d8576b"
            ],
            [
             0.6666666666666666,
             "#ed7953"
            ],
            [
             0.7777777777777778,
             "#fb9f3a"
            ],
            [
             0.8888888888888888,
             "#fdca26"
            ],
            [
             1,
             "#f0f921"
            ]
           ]
          },
          "colorway": [
           "#636efa",
           "#EF553B",
           "#00cc96",
           "#ab63fa",
           "#FFA15A",
           "#19d3f3",
           "#FF6692",
           "#B6E880",
           "#FF97FF",
           "#FECB52"
          ],
          "font": {
           "color": "#2a3f5f"
          },
          "geo": {
           "bgcolor": "white",
           "lakecolor": "white",
           "landcolor": "white",
           "showlakes": true,
           "showland": true,
           "subunitcolor": "#C8D4E3"
          },
          "hoverlabel": {
           "align": "left"
          },
          "hovermode": "closest",
          "mapbox": {
           "style": "light"
          },
          "paper_bgcolor": "white",
          "plot_bgcolor": "white",
          "polar": {
           "angularaxis": {
            "gridcolor": "#EBF0F8",
            "linecolor": "#EBF0F8",
            "ticks": ""
           },
           "bgcolor": "white",
           "radialaxis": {
            "gridcolor": "#EBF0F8",
            "linecolor": "#EBF0F8",
            "ticks": ""
           }
          },
          "scene": {
           "xaxis": {
            "backgroundcolor": "white",
            "gridcolor": "#DFE8F3",
            "gridwidth": 2,
            "linecolor": "#EBF0F8",
            "showbackground": true,
            "ticks": "",
            "zerolinecolor": "#EBF0F8"
           },
           "yaxis": {
            "backgroundcolor": "white",
            "gridcolor": "#DFE8F3",
            "gridwidth": 2,
            "linecolor": "#EBF0F8",
            "showbackground": true,
            "ticks": "",
            "zerolinecolor": "#EBF0F8"
           },
           "zaxis": {
            "backgroundcolor": "white",
            "gridcolor": "#DFE8F3",
            "gridwidth": 2,
            "linecolor": "#EBF0F8",
            "showbackground": true,
            "ticks": "",
            "zerolinecolor": "#EBF0F8"
           }
          },
          "shapedefaults": {
           "line": {
            "color": "#2a3f5f"
           }
          },
          "ternary": {
           "aaxis": {
            "gridcolor": "#DFE8F3",
            "linecolor": "#A2B1C6",
            "ticks": ""
           },
           "baxis": {
            "gridcolor": "#DFE8F3",
            "linecolor": "#A2B1C6",
            "ticks": ""
           },
           "bgcolor": "white",
           "caxis": {
            "gridcolor": "#DFE8F3",
            "linecolor": "#A2B1C6",
            "ticks": ""
           }
          },
          "title": {
           "x": 0.05
          },
          "xaxis": {
           "automargin": true,
           "gridcolor": "#EBF0F8",
           "linecolor": "#EBF0F8",
           "ticks": "",
           "title": {
            "standoff": 15
           },
           "zerolinecolor": "#EBF0F8",
           "zerolinewidth": 2
          },
          "yaxis": {
           "automargin": true,
           "gridcolor": "#EBF0F8",
           "linecolor": "#EBF0F8",
           "ticks": "",
           "title": {
            "standoff": 15
           },
           "zerolinecolor": "#EBF0F8",
           "zerolinewidth": 2
          }
         }
        },
        "title": {
         "font": {
          "color": "#2E2E2E",
          "size": 16
         },
         "text": "Model Performance on Document: YERMAKOVICH v. RUSSIA<br><span style='font-size:14px'>Best Model: mistral:latest (F1: 0.316)</span>",
         "x": 0.5
        },
        "width": 800,
        "xaxis": {
         "range": [
          0,
          1
         ],
         "tickfont": {
          "size": 12
         },
         "title": {
          "text": "Score"
         }
        },
        "yaxis": {
         "tickfont": {
          "size": 12
         },
         "title": {
          "text": "Models"
         }
        }
       }
      }
     },
     "metadata": {},
     "output_type": "display_data"
    },
    {
     "data": {
      "application/vnd.plotly.v1+json": {
       "config": {
        "plotlyServerURL": "https://plot.ly"
       },
       "data": [
        {
         "marker": {
          "color": "#FF6B6B"
         },
         "name": "Precision",
         "offsetgroup": "0",
         "orientation": "h",
         "text": {
          "bdata": "AAAAAAAA4D8ZBFYOLbLdP9v5fmq8dNs/F9nO91Pj4T8730+Nl27aPwrXo3A9Cuc/UrgehetR4D+HFtnO91PjPw==",
          "dtype": "f8"
         },
         "textposition": "auto",
         "type": "bar",
         "width": 0.25,
         "x": {
          "bdata": "AAAAAAAA4D9u27Zt27bdP9u2bdu2bds/4uHh4eHh4T+apmmapmnaPwrXo3A9Cuc/UFBQUFBQ4D9VVVVVVVXjPw==",
          "dtype": "f8"
         },
         "y": [
          "gemma3:1b",
          "gemma3:1b",
          "gemma3:4b",
          "gemma3:4b",
          "mistral:latest",
          "mistral:latest",
          "gemma3:12b",
          "gemma3:12b"
         ]
        },
        {
         "marker": {
          "color": "#4ECDC4"
         },
         "name": "Recall",
         "offsetgroup": "1",
         "orientation": "h",
         "text": {
          "bdata": "WmQ730+Nxz/2KFyPwvXQP7ByaJHtfNc/okW28/3U2D/LoUW28/3gP7ByaJHtfNc/y6FFtvP94D+LbOf7qfHiPw==",
          "dtype": "f8"
         },
         "textposition": "auto",
         "type": "bar",
         "width": 0.25,
         "x": {
          "bdata": "4eUUvJyCxz8/NNaHxvrQP+HlFLycgtc/NNaHxvrQ2D8/NNaHxvrgP+HlFLycgtc/PzTWh8b64D+8nIKXU/DiPw==",
          "dtype": "f8"
         },
         "y": [
          "gemma3:1b",
          "gemma3:1b",
          "gemma3:4b",
          "gemma3:4b",
          "mistral:latest",
          "mistral:latest",
          "gemma3:12b",
          "gemma3:12b"
         ]
        },
        {
         "marker": {
          "color": "#45B7D1"
         },
         "name": "F1-Score",
         "offsetgroup": "2",
         "orientation": "h",
         "text": {
          "bdata": "nu+nxks30T9vEoPAyqHVP/LSTWIQWNk/HVpkO99P3T8ZBFYOLbLdP7TIdr6fGt8/pHA9Ctej4D+JQWDl0CLjPw==",
          "dtype": "f8"
         },
         "textposition": "auto",
         "type": "bar",
         "width": 0.25,
         "x": {
          "bdata": "Kme38Ksx0T8LcVZ+QpzVPxqVURmVUdk/WTFQwhtN3T9u27Zt27bdPyryWTeYIt8/o3A9Ctej4D/TsN0sTyLjPw==",
          "dtype": "f8"
         },
         "y": [
          "gemma3:1b",
          "gemma3:1b",
          "gemma3:4b",
          "gemma3:4b",
          "mistral:latest",
          "mistral:latest",
          "gemma3:12b",
          "gemma3:12b"
         ]
        }
       ],
       "layout": {
        "barmode": "group",
        "height": 320,
        "legend": {
         "orientation": "h",
         "x": 1,
         "xanchor": "right",
         "y": 1.02,
         "yanchor": "bottom"
        },
        "showlegend": true,
        "template": {
         "data": {
          "bar": [
           {
            "error_x": {
             "color": "#2a3f5f"
            },
            "error_y": {
             "color": "#2a3f5f"
            },
            "marker": {
             "line": {
              "color": "white",
              "width": 0.5
             },
             "pattern": {
              "fillmode": "overlay",
              "size": 10,
              "solidity": 0.2
             }
            },
            "type": "bar"
           }
          ],
          "barpolar": [
           {
            "marker": {
             "line": {
              "color": "white",
              "width": 0.5
             },
             "pattern": {
              "fillmode": "overlay",
              "size": 10,
              "solidity": 0.2
             }
            },
            "type": "barpolar"
           }
          ],
          "carpet": [
           {
            "aaxis": {
             "endlinecolor": "#2a3f5f",
             "gridcolor": "#C8D4E3",
             "linecolor": "#C8D4E3",
             "minorgridcolor": "#C8D4E3",
             "startlinecolor": "#2a3f5f"
            },
            "baxis": {
             "endlinecolor": "#2a3f5f",
             "gridcolor": "#C8D4E3",
             "linecolor": "#C8D4E3",
             "minorgridcolor": "#C8D4E3",
             "startlinecolor": "#2a3f5f"
            },
            "type": "carpet"
           }
          ],
          "choropleth": [
           {
            "colorbar": {
             "outlinewidth": 0,
             "ticks": ""
            },
            "type": "choropleth"
           }
          ],
          "contour": [
           {
            "colorbar": {
             "outlinewidth": 0,
             "ticks": ""
            },
            "colorscale": [
             [
              0,
              "#0d0887"
             ],
             [
              0.1111111111111111,
              "#46039f"
             ],
             [
              0.2222222222222222,
              "#7201a8"
             ],
             [
              0.3333333333333333,
              "#9c179e"
             ],
             [
              0.4444444444444444,
              "#bd3786"
             ],
             [
              0.5555555555555556,
              "#d8576b"
             ],
             [
              0.6666666666666666,
              "#ed7953"
             ],
             [
              0.7777777777777778,
              "#fb9f3a"
             ],
             [
              0.8888888888888888,
              "#fdca26"
             ],
             [
              1,
              "#f0f921"
             ]
            ],
            "type": "contour"
           }
          ],
          "contourcarpet": [
           {
            "colorbar": {
             "outlinewidth": 0,
             "ticks": ""
            },
            "type": "contourcarpet"
           }
          ],
          "heatmap": [
           {
            "colorbar": {
             "outlinewidth": 0,
             "ticks": ""
            },
            "colorscale": [
             [
              0,
              "#0d0887"
             ],
             [
              0.1111111111111111,
              "#46039f"
             ],
             [
              0.2222222222222222,
              "#7201a8"
             ],
             [
              0.3333333333333333,
              "#9c179e"
             ],
             [
              0.4444444444444444,
              "#bd3786"
             ],
             [
              0.5555555555555556,
              "#d8576b"
             ],
             [
              0.6666666666666666,
              "#ed7953"
             ],
             [
              0.7777777777777778,
              "#fb9f3a"
             ],
             [
              0.8888888888888888,
              "#fdca26"
             ],
             [
              1,
              "#f0f921"
             ]
            ],
            "type": "heatmap"
           }
          ],
          "histogram": [
           {
            "marker": {
             "pattern": {
              "fillmode": "overlay",
              "size": 10,
              "solidity": 0.2
             }
            },
            "type": "histogram"
           }
          ],
          "histogram2d": [
           {
            "colorbar": {
             "outlinewidth": 0,
             "ticks": ""
            },
            "colorscale": [
             [
              0,
              "#0d0887"
             ],
             [
              0.1111111111111111,
              "#46039f"
             ],
             [
              0.2222222222222222,
              "#7201a8"
             ],
             [
              0.3333333333333333,
              "#9c179e"
             ],
             [
              0.4444444444444444,
              "#bd3786"
             ],
             [
              0.5555555555555556,
              "#d8576b"
             ],
             [
              0.6666666666666666,
              "#ed7953"
             ],
             [
              0.7777777777777778,
              "#fb9f3a"
             ],
             [
              0.8888888888888888,
              "#fdca26"
             ],
             [
              1,
              "#f0f921"
             ]
            ],
            "type": "histogram2d"
           }
          ],
          "histogram2dcontour": [
           {
            "colorbar": {
             "outlinewidth": 0,
             "ticks": ""
            },
            "colorscale": [
             [
              0,
              "#0d0887"
             ],
             [
              0.1111111111111111,
              "#46039f"
             ],
             [
              0.2222222222222222,
              "#7201a8"
             ],
             [
              0.3333333333333333,
              "#9c179e"
             ],
             [
              0.4444444444444444,
              "#bd3786"
             ],
             [
              0.5555555555555556,
              "#d8576b"
             ],
             [
              0.6666666666666666,
              "#ed7953"
             ],
             [
              0.7777777777777778,
              "#fb9f3a"
             ],
             [
              0.8888888888888888,
              "#fdca26"
             ],
             [
              1,
              "#f0f921"
             ]
            ],
            "type": "histogram2dcontour"
           }
          ],
          "mesh3d": [
           {
            "colorbar": {
             "outlinewidth": 0,
             "ticks": ""
            },
            "type": "mesh3d"
           }
          ],
          "parcoords": [
           {
            "line": {
             "colorbar": {
              "outlinewidth": 0,
              "ticks": ""
             }
            },
            "type": "parcoords"
           }
          ],
          "pie": [
           {
            "automargin": true,
            "type": "pie"
           }
          ],
          "scatter": [
           {
            "fillpattern": {
             "fillmode": "overlay",
             "size": 10,
             "solidity": 0.2
            },
            "type": "scatter"
           }
          ],
          "scatter3d": [
           {
            "line": {
             "colorbar": {
              "outlinewidth": 0,
              "ticks": ""
             }
            },
            "marker": {
             "colorbar": {
              "outlinewidth": 0,
              "ticks": ""
             }
            },
            "type": "scatter3d"
           }
          ],
          "scattercarpet": [
           {
            "marker": {
             "colorbar": {
              "outlinewidth": 0,
              "ticks": ""
             }
            },
            "type": "scattercarpet"
           }
          ],
          "scattergeo": [
           {
            "marker": {
             "colorbar": {
              "outlinewidth": 0,
              "ticks": ""
             }
            },
            "type": "scattergeo"
           }
          ],
          "scattergl": [
           {
            "marker": {
             "colorbar": {
              "outlinewidth": 0,
              "ticks": ""
             }
            },
            "type": "scattergl"
           }
          ],
          "scattermap": [
           {
            "marker": {
             "colorbar": {
              "outlinewidth": 0,
              "ticks": ""
             }
            },
            "type": "scattermap"
           }
          ],
          "scattermapbox": [
           {
            "marker": {
             "colorbar": {
              "outlinewidth": 0,
              "ticks": ""
             }
            },
            "type": "scattermapbox"
           }
          ],
          "scatterpolar": [
           {
            "marker": {
             "colorbar": {
              "outlinewidth": 0,
              "ticks": ""
             }
            },
            "type": "scatterpolar"
           }
          ],
          "scatterpolargl": [
           {
            "marker": {
             "colorbar": {
              "outlinewidth": 0,
              "ticks": ""
             }
            },
            "type": "scatterpolargl"
           }
          ],
          "scatterternary": [
           {
            "marker": {
             "colorbar": {
              "outlinewidth": 0,
              "ticks": ""
             }
            },
            "type": "scatterternary"
           }
          ],
          "surface": [
           {
            "colorbar": {
             "outlinewidth": 0,
             "ticks": ""
            },
            "colorscale": [
             [
              0,
              "#0d0887"
             ],
             [
              0.1111111111111111,
              "#46039f"
             ],
             [
              0.2222222222222222,
              "#7201a8"
             ],
             [
              0.3333333333333333,
              "#9c179e"
             ],
             [
              0.4444444444444444,
              "#bd3786"
             ],
             [
              0.5555555555555556,
              "#d8576b"
             ],
             [
              0.6666666666666666,
              "#ed7953"
             ],
             [
              0.7777777777777778,
              "#fb9f3a"
             ],
             [
              0.8888888888888888,
              "#fdca26"
             ],
             [
              1,
              "#f0f921"
             ]
            ],
            "type": "surface"
           }
          ],
          "table": [
           {
            "cells": {
             "fill": {
              "color": "#EBF0F8"
             },
             "line": {
              "color": "white"
             }
            },
            "header": {
             "fill": {
              "color": "#C8D4E3"
             },
             "line": {
              "color": "white"
             }
            },
            "type": "table"
           }
          ]
         },
         "layout": {
          "annotationdefaults": {
           "arrowcolor": "#2a3f5f",
           "arrowhead": 0,
           "arrowwidth": 1
          },
          "autotypenumbers": "strict",
          "coloraxis": {
           "colorbar": {
            "outlinewidth": 0,
            "ticks": ""
           }
          },
          "colorscale": {
           "diverging": [
            [
             0,
             "#8e0152"
            ],
            [
             0.1,
             "#c51b7d"
            ],
            [
             0.2,
             "#de77ae"
            ],
            [
             0.3,
             "#f1b6da"
            ],
            [
             0.4,
             "#fde0ef"
            ],
            [
             0.5,
             "#f7f7f7"
            ],
            [
             0.6,
             "#e6f5d0"
            ],
            [
             0.7,
             "#b8e186"
            ],
            [
             0.8,
             "#7fbc41"
            ],
            [
             0.9,
             "#4d9221"
            ],
            [
             1,
             "#276419"
            ]
           ],
           "sequential": [
            [
             0,
             "#0d0887"
            ],
            [
             0.1111111111111111,
             "#46039f"
            ],
            [
             0.2222222222222222,
             "#7201a8"
            ],
            [
             0.3333333333333333,
             "#9c179e"
            ],
            [
             0.4444444444444444,
             "#bd3786"
            ],
            [
             0.5555555555555556,
             "#d8576b"
            ],
            [
             0.6666666666666666,
             "#ed7953"
            ],
            [
             0.7777777777777778,
             "#fb9f3a"
            ],
            [
             0.8888888888888888,
             "#fdca26"
            ],
            [
             1,
             "#f0f921"
            ]
           ],
           "sequentialminus": [
            [
             0,
             "#0d0887"
            ],
            [
             0.1111111111111111,
             "#46039f"
            ],
            [
             0.2222222222222222,
             "#7201a8"
            ],
            [
             0.3333333333333333,
             "#9c179e"
            ],
            [
             0.4444444444444444,
             "#bd3786"
            ],
            [
             0.5555555555555556,
             "#d8576b"
            ],
            [
             0.6666666666666666,
             "#ed7953"
            ],
            [
             0.7777777777777778,
             "#fb9f3a"
            ],
            [
             0.8888888888888888,
             "#fdca26"
            ],
            [
             1,
             "#f0f921"
            ]
           ]
          },
          "colorway": [
           "#636efa",
           "#EF553B",
           "#00cc96",
           "#ab63fa",
           "#FFA15A",
           "#19d3f3",
           "#FF6692",
           "#B6E880",
           "#FF97FF",
           "#FECB52"
          ],
          "font": {
           "color": "#2a3f5f"
          },
          "geo": {
           "bgcolor": "white",
           "lakecolor": "white",
           "landcolor": "white",
           "showlakes": true,
           "showland": true,
           "subunitcolor": "#C8D4E3"
          },
          "hoverlabel": {
           "align": "left"
          },
          "hovermode": "closest",
          "mapbox": {
           "style": "light"
          },
          "paper_bgcolor": "white",
          "plot_bgcolor": "white",
          "polar": {
           "angularaxis": {
            "gridcolor": "#EBF0F8",
            "linecolor": "#EBF0F8",
            "ticks": ""
           },
           "bgcolor": "white",
           "radialaxis": {
            "gridcolor": "#EBF0F8",
            "linecolor": "#EBF0F8",
            "ticks": ""
           }
          },
          "scene": {
           "xaxis": {
            "backgroundcolor": "white",
            "gridcolor": "#DFE8F3",
            "gridwidth": 2,
            "linecolor": "#EBF0F8",
            "showbackground": true,
            "ticks": "",
            "zerolinecolor": "#EBF0F8"
           },
           "yaxis": {
            "backgroundcolor": "white",
            "gridcolor": "#DFE8F3",
            "gridwidth": 2,
            "linecolor": "#EBF0F8",
            "showbackground": true,
            "ticks": "",
            "zerolinecolor": "#EBF0F8"
           },
           "zaxis": {
            "backgroundcolor": "white",
            "gridcolor": "#DFE8F3",
            "gridwidth": 2,
            "linecolor": "#EBF0F8",
            "showbackground": true,
            "ticks": "",
            "zerolinecolor": "#EBF0F8"
           }
          },
          "shapedefaults": {
           "line": {
            "color": "#2a3f5f"
           }
          },
          "ternary": {
           "aaxis": {
            "gridcolor": "#DFE8F3",
            "linecolor": "#A2B1C6",
            "ticks": ""
           },
           "baxis": {
            "gridcolor": "#DFE8F3",
            "linecolor": "#A2B1C6",
            "ticks": ""
           },
           "bgcolor": "white",
           "caxis": {
            "gridcolor": "#DFE8F3",
            "linecolor": "#A2B1C6",
            "ticks": ""
           }
          },
          "title": {
           "x": 0.05
          },
          "xaxis": {
           "automargin": true,
           "gridcolor": "#EBF0F8",
           "linecolor": "#EBF0F8",
           "ticks": "",
           "title": {
            "standoff": 15
           },
           "zerolinecolor": "#EBF0F8",
           "zerolinewidth": 2
          },
          "yaxis": {
           "automargin": true,
           "gridcolor": "#EBF0F8",
           "linecolor": "#EBF0F8",
           "ticks": "",
           "title": {
            "standoff": 15
           },
           "zerolinecolor": "#EBF0F8",
           "zerolinewidth": 2
          }
         }
        },
        "title": {
         "font": {
          "color": "#2E2E2E",
          "size": 16
         },
         "text": "Model Performance on Document: YAKUSHEV v. UKRAINE<br><span style='font-size:14px'>Best Model: gemma3:12b (F1: 0.598)</span>",
         "x": 0.5
        },
        "width": 800,
        "xaxis": {
         "range": [
          0,
          1
         ],
         "tickfont": {
          "size": 12
         },
         "title": {
          "text": "Score"
         }
        },
        "yaxis": {
         "tickfont": {
          "size": 12
         },
         "title": {
          "text": "Models"
         }
        }
       }
      }
     },
     "metadata": {},
     "output_type": "display_data"
    },
    {
     "data": {
      "application/vnd.plotly.v1+json": {
       "config": {
        "plotlyServerURL": "https://plot.ly"
       },
       "data": [
        {
         "marker": {
          "color": "#FF6B6B"
         },
         "name": "Precision",
         "offsetgroup": "0",
         "orientation": "h",
         "text": {
          "bdata": "AAAAAAAAwD+WQ4ts5/vRP7Kd76fGS9c/nu+nxks34T+uR+F6FK7XPwAAAAAAANg/KVyPwvUo3D8AAAAAAADgPw==",
          "dtype": "f8"
         },
         "textposition": "auto",
         "type": "bar",
         "width": 0.25,
         "x": {
          "bdata": "AAAAAAAAwD8AAAAAAADSP0YXXXTRRdc/sRM7sRM74T9CewntJbTXPwAAAAAAANg/KVyPwvUo3D8AAAAAAADgPw==",
          "dtype": "f8"
         },
         "y": [
          "gemma3:4b",
          "mistral:latest",
          "gemma3:1b",
          "gemma3:1b",
          "gemma3:12b",
          "mistral:latest",
          "gemma3:4b",
          "gemma3:12b"
         ]
        },
        {
         "marker": {
          "color": "#4ECDC4"
         },
         "name": "Recall",
         "offsetgroup": "1",
         "orientation": "h",
         "text": {
          "bdata": "0SLb+X5qzD8dWmQ730/VP4ts5/up8dI/+n5qvHST0D+uR+F6FK7XP9Ei2/l+atw/PzVeukkM2j9g5dAi2/niPw==",
          "dtype": "f8"
         },
         "textposition": "auto",
         "type": "bar",
         "width": 0.25,
         "x": {
          "bdata": "HMdxHMdxzD9VVVVVVVXVP2gvob2E9tI/ewntJbSX0D9CewntJbTXPxzHcRzHcdw/L6G9hPYS2j9oL6G9hPbiPw==",
          "dtype": "f8"
         },
         "y": [
          "gemma3:4b",
          "mistral:latest",
          "gemma3:1b",
          "gemma3:1b",
          "gemma3:12b",
          "mistral:latest",
          "gemma3:4b",
          "gemma3:12b"
         ]
        },
        {
         "marker": {
          "color": "#45B7D1"
         },
         "name": "F1-Score",
         "offsetgroup": "2",
         "orientation": "h",
         "text": {
          "bdata": "exSuR+F6xD+F61G4HoXTPyGwcmiR7dQ/ZmZmZmZm1j+uR+F6FK7XPz81XrpJDNo/30+Nl24S2z/y0k1iEFjhPw==",
          "dtype": "f8"
         },
         "textposition": "auto",
         "type": "bar",
         "width": 0.25,
         "x": {
          "bdata": "exSuR+F6xD/vy2MrgobTPzkFL6fg5dQ/Z2ZmZmZm1j9CewntJbTXP5O6L4+tCNo/O7ETO7ET2z8NJ3VfHlvhPw==",
          "dtype": "f8"
         },
         "y": [
          "gemma3:4b",
          "mistral:latest",
          "gemma3:1b",
          "gemma3:1b",
          "gemma3:12b",
          "mistral:latest",
          "gemma3:4b",
          "gemma3:12b"
         ]
        }
       ],
       "layout": {
        "barmode": "group",
        "height": 320,
        "legend": {
         "orientation": "h",
         "x": 1,
         "xanchor": "right",
         "y": 1.02,
         "yanchor": "bottom"
        },
        "showlegend": true,
        "template": {
         "data": {
          "bar": [
           {
            "error_x": {
             "color": "#2a3f5f"
            },
            "error_y": {
             "color": "#2a3f5f"
            },
            "marker": {
             "line": {
              "color": "white",
              "width": 0.5
             },
             "pattern": {
              "fillmode": "overlay",
              "size": 10,
              "solidity": 0.2
             }
            },
            "type": "bar"
           }
          ],
          "barpolar": [
           {
            "marker": {
             "line": {
              "color": "white",
              "width": 0.5
             },
             "pattern": {
              "fillmode": "overlay",
              "size": 10,
              "solidity": 0.2
             }
            },
            "type": "barpolar"
           }
          ],
          "carpet": [
           {
            "aaxis": {
             "endlinecolor": "#2a3f5f",
             "gridcolor": "#C8D4E3",
             "linecolor": "#C8D4E3",
             "minorgridcolor": "#C8D4E3",
             "startlinecolor": "#2a3f5f"
            },
            "baxis": {
             "endlinecolor": "#2a3f5f",
             "gridcolor": "#C8D4E3",
             "linecolor": "#C8D4E3",
             "minorgridcolor": "#C8D4E3",
             "startlinecolor": "#2a3f5f"
            },
            "type": "carpet"
           }
          ],
          "choropleth": [
           {
            "colorbar": {
             "outlinewidth": 0,
             "ticks": ""
            },
            "type": "choropleth"
           }
          ],
          "contour": [
           {
            "colorbar": {
             "outlinewidth": 0,
             "ticks": ""
            },
            "colorscale": [
             [
              0,
              "#0d0887"
             ],
             [
              0.1111111111111111,
              "#46039f"
             ],
             [
              0.2222222222222222,
              "#7201a8"
             ],
             [
              0.3333333333333333,
              "#9c179e"
             ],
             [
              0.4444444444444444,
              "#bd3786"
             ],
             [
              0.5555555555555556,
              "#d8576b"
             ],
             [
              0.6666666666666666,
              "#ed7953"
             ],
             [
              0.7777777777777778,
              "#fb9f3a"
             ],
             [
              0.8888888888888888,
              "#fdca26"
             ],
             [
              1,
              "#f0f921"
             ]
            ],
            "type": "contour"
           }
          ],
          "contourcarpet": [
           {
            "colorbar": {
             "outlinewidth": 0,
             "ticks": ""
            },
            "type": "contourcarpet"
           }
          ],
          "heatmap": [
           {
            "colorbar": {
             "outlinewidth": 0,
             "ticks": ""
            },
            "colorscale": [
             [
              0,
              "#0d0887"
             ],
             [
              0.1111111111111111,
              "#46039f"
             ],
             [
              0.2222222222222222,
              "#7201a8"
             ],
             [
              0.3333333333333333,
              "#9c179e"
             ],
             [
              0.4444444444444444,
              "#bd3786"
             ],
             [
              0.5555555555555556,
              "#d8576b"
             ],
             [
              0.6666666666666666,
              "#ed7953"
             ],
             [
              0.7777777777777778,
              "#fb9f3a"
             ],
             [
              0.8888888888888888,
              "#fdca26"
             ],
             [
              1,
              "#f0f921"
             ]
            ],
            "type": "heatmap"
           }
          ],
          "histogram": [
           {
            "marker": {
             "pattern": {
              "fillmode": "overlay",
              "size": 10,
              "solidity": 0.2
             }
            },
            "type": "histogram"
           }
          ],
          "histogram2d": [
           {
            "colorbar": {
             "outlinewidth": 0,
             "ticks": ""
            },
            "colorscale": [
             [
              0,
              "#0d0887"
             ],
             [
              0.1111111111111111,
              "#46039f"
             ],
             [
              0.2222222222222222,
              "#7201a8"
             ],
             [
              0.3333333333333333,
              "#9c179e"
             ],
             [
              0.4444444444444444,
              "#bd3786"
             ],
             [
              0.5555555555555556,
              "#d8576b"
             ],
             [
              0.6666666666666666,
              "#ed7953"
             ],
             [
              0.7777777777777778,
              "#fb9f3a"
             ],
             [
              0.8888888888888888,
              "#fdca26"
             ],
             [
              1,
              "#f0f921"
             ]
            ],
            "type": "histogram2d"
           }
          ],
          "histogram2dcontour": [
           {
            "colorbar": {
             "outlinewidth": 0,
             "ticks": ""
            },
            "colorscale": [
             [
              0,
              "#0d0887"
             ],
             [
              0.1111111111111111,
              "#46039f"
             ],
             [
              0.2222222222222222,
              "#7201a8"
             ],
             [
              0.3333333333333333,
              "#9c179e"
             ],
             [
              0.4444444444444444,
              "#bd3786"
             ],
             [
              0.5555555555555556,
              "#d8576b"
             ],
             [
              0.6666666666666666,
              "#ed7953"
             ],
             [
              0.7777777777777778,
              "#fb9f3a"
             ],
             [
              0.8888888888888888,
              "#fdca26"
             ],
             [
              1,
              "#f0f921"
             ]
            ],
            "type": "histogram2dcontour"
           }
          ],
          "mesh3d": [
           {
            "colorbar": {
             "outlinewidth": 0,
             "ticks": ""
            },
            "type": "mesh3d"
           }
          ],
          "parcoords": [
           {
            "line": {
             "colorbar": {
              "outlinewidth": 0,
              "ticks": ""
             }
            },
            "type": "parcoords"
           }
          ],
          "pie": [
           {
            "automargin": true,
            "type": "pie"
           }
          ],
          "scatter": [
           {
            "fillpattern": {
             "fillmode": "overlay",
             "size": 10,
             "solidity": 0.2
            },
            "type": "scatter"
           }
          ],
          "scatter3d": [
           {
            "line": {
             "colorbar": {
              "outlinewidth": 0,
              "ticks": ""
             }
            },
            "marker": {
             "colorbar": {
              "outlinewidth": 0,
              "ticks": ""
             }
            },
            "type": "scatter3d"
           }
          ],
          "scattercarpet": [
           {
            "marker": {
             "colorbar": {
              "outlinewidth": 0,
              "ticks": ""
             }
            },
            "type": "scattercarpet"
           }
          ],
          "scattergeo": [
           {
            "marker": {
             "colorbar": {
              "outlinewidth": 0,
              "ticks": ""
             }
            },
            "type": "scattergeo"
           }
          ],
          "scattergl": [
           {
            "marker": {
             "colorbar": {
              "outlinewidth": 0,
              "ticks": ""
             }
            },
            "type": "scattergl"
           }
          ],
          "scattermap": [
           {
            "marker": {
             "colorbar": {
              "outlinewidth": 0,
              "ticks": ""
             }
            },
            "type": "scattermap"
           }
          ],
          "scattermapbox": [
           {
            "marker": {
             "colorbar": {
              "outlinewidth": 0,
              "ticks": ""
             }
            },
            "type": "scattermapbox"
           }
          ],
          "scatterpolar": [
           {
            "marker": {
             "colorbar": {
              "outlinewidth": 0,
              "ticks": ""
             }
            },
            "type": "scatterpolar"
           }
          ],
          "scatterpolargl": [
           {
            "marker": {
             "colorbar": {
              "outlinewidth": 0,
              "ticks": ""
             }
            },
            "type": "scatterpolargl"
           }
          ],
          "scatterternary": [
           {
            "marker": {
             "colorbar": {
              "outlinewidth": 0,
              "ticks": ""
             }
            },
            "type": "scatterternary"
           }
          ],
          "surface": [
           {
            "colorbar": {
             "outlinewidth": 0,
             "ticks": ""
            },
            "colorscale": [
             [
              0,
              "#0d0887"
             ],
             [
              0.1111111111111111,
              "#46039f"
             ],
             [
              0.2222222222222222,
              "#7201a8"
             ],
             [
              0.3333333333333333,
              "#9c179e"
             ],
             [
              0.4444444444444444,
              "#bd3786"
             ],
             [
              0.5555555555555556,
              "#d8576b"
             ],
             [
              0.6666666666666666,
              "#ed7953"
             ],
             [
              0.7777777777777778,
              "#fb9f3a"
             ],
             [
              0.8888888888888888,
              "#fdca26"
             ],
             [
              1,
              "#f0f921"
             ]
            ],
            "type": "surface"
           }
          ],
          "table": [
           {
            "cells": {
             "fill": {
              "color": "#EBF0F8"
             },
             "line": {
              "color": "white"
             }
            },
            "header": {
             "fill": {
              "color": "#C8D4E3"
             },
             "line": {
              "color": "white"
             }
            },
            "type": "table"
           }
          ]
         },
         "layout": {
          "annotationdefaults": {
           "arrowcolor": "#2a3f5f",
           "arrowhead": 0,
           "arrowwidth": 1
          },
          "autotypenumbers": "strict",
          "coloraxis": {
           "colorbar": {
            "outlinewidth": 0,
            "ticks": ""
           }
          },
          "colorscale": {
           "diverging": [
            [
             0,
             "#8e0152"
            ],
            [
             0.1,
             "#c51b7d"
            ],
            [
             0.2,
             "#de77ae"
            ],
            [
             0.3,
             "#f1b6da"
            ],
            [
             0.4,
             "#fde0ef"
            ],
            [
             0.5,
             "#f7f7f7"
            ],
            [
             0.6,
             "#e6f5d0"
            ],
            [
             0.7,
             "#b8e186"
            ],
            [
             0.8,
             "#7fbc41"
            ],
            [
             0.9,
             "#4d9221"
            ],
            [
             1,
             "#276419"
            ]
           ],
           "sequential": [
            [
             0,
             "#0d0887"
            ],
            [
             0.1111111111111111,
             "#46039f"
            ],
            [
             0.2222222222222222,
             "#7201a8"
            ],
            [
             0.3333333333333333,
             "#9c179e"
            ],
            [
             0.4444444444444444,
             "#bd3786"
            ],
            [
             0.5555555555555556,
             "#d8576b"
            ],
            [
             0.6666666666666666,
             "#ed7953"
            ],
            [
             0.7777777777777778,
             "#fb9f3a"
            ],
            [
             0.8888888888888888,
             "#fdca26"
            ],
            [
             1,
             "#f0f921"
            ]
           ],
           "sequentialminus": [
            [
             0,
             "#0d0887"
            ],
            [
             0.1111111111111111,
             "#46039f"
            ],
            [
             0.2222222222222222,
             "#7201a8"
            ],
            [
             0.3333333333333333,
             "#9c179e"
            ],
            [
             0.4444444444444444,
             "#bd3786"
            ],
            [
             0.5555555555555556,
             "#d8576b"
            ],
            [
             0.6666666666666666,
             "#ed7953"
            ],
            [
             0.7777777777777778,
             "#fb9f3a"
            ],
            [
             0.8888888888888888,
             "#fdca26"
            ],
            [
             1,
             "#f0f921"
            ]
           ]
          },
          "colorway": [
           "#636efa",
           "#EF553B",
           "#00cc96",
           "#ab63fa",
           "#FFA15A",
           "#19d3f3",
           "#FF6692",
           "#B6E880",
           "#FF97FF",
           "#FECB52"
          ],
          "font": {
           "color": "#2a3f5f"
          },
          "geo": {
           "bgcolor": "white",
           "lakecolor": "white",
           "landcolor": "white",
           "showlakes": true,
           "showland": true,
           "subunitcolor": "#C8D4E3"
          },
          "hoverlabel": {
           "align": "left"
          },
          "hovermode": "closest",
          "mapbox": {
           "style": "light"
          },
          "paper_bgcolor": "white",
          "plot_bgcolor": "white",
          "polar": {
           "angularaxis": {
            "gridcolor": "#EBF0F8",
            "linecolor": "#EBF0F8",
            "ticks": ""
           },
           "bgcolor": "white",
           "radialaxis": {
            "gridcolor": "#EBF0F8",
            "linecolor": "#EBF0F8",
            "ticks": ""
           }
          },
          "scene": {
           "xaxis": {
            "backgroundcolor": "white",
            "gridcolor": "#DFE8F3",
            "gridwidth": 2,
            "linecolor": "#EBF0F8",
            "showbackground": true,
            "ticks": "",
            "zerolinecolor": "#EBF0F8"
           },
           "yaxis": {
            "backgroundcolor": "white",
            "gridcolor": "#DFE8F3",
            "gridwidth": 2,
            "linecolor": "#EBF0F8",
            "showbackground": true,
            "ticks": "",
            "zerolinecolor": "#EBF0F8"
           },
           "zaxis": {
            "backgroundcolor": "white",
            "gridcolor": "#DFE8F3",
            "gridwidth": 2,
            "linecolor": "#EBF0F8",
            "showbackground": true,
            "ticks": "",
            "zerolinecolor": "#EBF0F8"
           }
          },
          "shapedefaults": {
           "line": {
            "color": "#2a3f5f"
           }
          },
          "ternary": {
           "aaxis": {
            "gridcolor": "#DFE8F3",
            "linecolor": "#A2B1C6",
            "ticks": ""
           },
           "baxis": {
            "gridcolor": "#DFE8F3",
            "linecolor": "#A2B1C6",
            "ticks": ""
           },
           "bgcolor": "white",
           "caxis": {
            "gridcolor": "#DFE8F3",
            "linecolor": "#A2B1C6",
            "ticks": ""
           }
          },
          "title": {
           "x": 0.05
          },
          "xaxis": {
           "automargin": true,
           "gridcolor": "#EBF0F8",
           "linecolor": "#EBF0F8",
           "ticks": "",
           "title": {
            "standoff": 15
           },
           "zerolinecolor": "#EBF0F8",
           "zerolinewidth": 2
          },
          "yaxis": {
           "automargin": true,
           "gridcolor": "#EBF0F8",
           "linecolor": "#EBF0F8",
           "ticks": "",
           "title": {
            "standoff": 15
           },
           "zerolinecolor": "#EBF0F8",
           "zerolinewidth": 2
          }
         }
        },
        "title": {
         "font": {
          "color": "#2E2E2E",
          "size": 16
         },
         "text": "Model Performance on Document: STANA v. ROMANIA<br><span style='font-size:14px'>Best Model: gemma3:12b (F1: 0.542)</span>",
         "x": 0.5
        },
        "width": 800,
        "xaxis": {
         "range": [
          0,
          1
         ],
         "tickfont": {
          "size": 12
         },
         "title": {
          "text": "Score"
         }
        },
        "yaxis": {
         "tickfont": {
          "size": 12
         },
         "title": {
          "text": "Models"
         }
        }
       }
      }
     },
     "metadata": {},
     "output_type": "display_data"
    },
    {
     "data": {
      "application/vnd.plotly.v1+json": {
       "config": {
        "plotlyServerURL": "https://plot.ly"
       },
       "data": [
        {
         "marker": {
          "color": "#FF6B6B"
         },
         "name": "Precision",
         "offsetgroup": "0",
         "orientation": "h",
         "text": {
          "bdata": "MQisHFpkyz9MN4lBYOXAP4PAyqFFttM/d76fGi/d1D9vEoPAyqHdPyPb+X5qvNQ/4XoUrkfh2j++nxov3STePw==",
          "dtype": "f8"
         },
         "textposition": "auto",
         "type": "bar",
         "width": 0.25,
         "x": {
          "bdata": "27Zt27Ztyz95DeU1lNfAPxQ7sRM7sdM/NmVNWVPW1D+pXYnalajdP3CXejJ+u9Q/4XoUrkfh2j8eHh4eHh7ePw==",
          "dtype": "f8"
         },
         "y": [
          "mistral:latest",
          "gemma3:1b",
          "gemma3:4b",
          "gemma3:12b",
          "gemma3:1b",
          "gemma3:4b",
          "mistral:latest",
          "gemma3:12b"
         ]
        },
        {
         "marker": {
          "color": "#4ECDC4"
         },
         "name": "Recall",
         "offsetgroup": "1",
         "orientation": "h",
         "text": {
          "bdata": "+n5qvHSTmD/LoUW28/2kP0oMAiuHFrk/yXa+nxovvT+DwMqhRbbDP1YOLbKd78c/bef7qfHS1T/NzMzMzMzUPw==",
          "dtype": "f8"
         },
         "textposition": "auto",
         "type": "bar",
         "width": 0.25,
         "x": {
          "bdata": "+hicj8H5mD/QFAJNIdCkP/oYnI/B+bg/Ix020mEjvT/Gk1s8ucXDP++X9X5Z78c/25WoXYna1T/QFAJNIdDUPw==",
          "dtype": "f8"
         },
         "y": [
          "mistral:latest",
          "gemma3:1b",
          "gemma3:4b",
          "gemma3:12b",
          "gemma3:1b",
          "gemma3:4b",
          "mistral:latest",
          "gemma3:12b"
         ]
        },
        {
         "marker": {
          "color": "#45B7D1"
         },
         "name": "F1-Score",
         "offsetgroup": "2",
         "orientation": "h",
         "text": {
          "bdata": "ukkMAiuHpj9YObTIdr6vP4ts5/up8cI/bxKDwMqhxT8ZBFYOLbLNP7x0kxgEVs4/VOOlm8Qg2D+kcD0K16PYPw==",
          "dtype": "f8"
         },
         "textposition": "auto",
         "type": "bar",
         "width": 0.25,
         "x": {
          "bdata": "6GT6KmFspj+P5g82Hs2vP2kvob2E9sI/NHV+7SGXxT+pXYnalajNP55EpmG7Wc4/3cCoM40b2D/ZiZ3YiZ3YPw==",
          "dtype": "f8"
         },
         "y": [
          "mistral:latest",
          "gemma3:1b",
          "gemma3:4b",
          "gemma3:12b",
          "gemma3:1b",
          "gemma3:4b",
          "mistral:latest",
          "gemma3:12b"
         ]
        }
       ],
       "layout": {
        "barmode": "group",
        "height": 320,
        "legend": {
         "orientation": "h",
         "x": 1,
         "xanchor": "right",
         "y": 1.02,
         "yanchor": "bottom"
        },
        "showlegend": true,
        "template": {
         "data": {
          "bar": [
           {
            "error_x": {
             "color": "#2a3f5f"
            },
            "error_y": {
             "color": "#2a3f5f"
            },
            "marker": {
             "line": {
              "color": "white",
              "width": 0.5
             },
             "pattern": {
              "fillmode": "overlay",
              "size": 10,
              "solidity": 0.2
             }
            },
            "type": "bar"
           }
          ],
          "barpolar": [
           {
            "marker": {
             "line": {
              "color": "white",
              "width": 0.5
             },
             "pattern": {
              "fillmode": "overlay",
              "size": 10,
              "solidity": 0.2
             }
            },
            "type": "barpolar"
           }
          ],
          "carpet": [
           {
            "aaxis": {
             "endlinecolor": "#2a3f5f",
             "gridcolor": "#C8D4E3",
             "linecolor": "#C8D4E3",
             "minorgridcolor": "#C8D4E3",
             "startlinecolor": "#2a3f5f"
            },
            "baxis": {
             "endlinecolor": "#2a3f5f",
             "gridcolor": "#C8D4E3",
             "linecolor": "#C8D4E3",
             "minorgridcolor": "#C8D4E3",
             "startlinecolor": "#2a3f5f"
            },
            "type": "carpet"
           }
          ],
          "choropleth": [
           {
            "colorbar": {
             "outlinewidth": 0,
             "ticks": ""
            },
            "type": "choropleth"
           }
          ],
          "contour": [
           {
            "colorbar": {
             "outlinewidth": 0,
             "ticks": ""
            },
            "colorscale": [
             [
              0,
              "#0d0887"
             ],
             [
              0.1111111111111111,
              "#46039f"
             ],
             [
              0.2222222222222222,
              "#7201a8"
             ],
             [
              0.3333333333333333,
              "#9c179e"
             ],
             [
              0.4444444444444444,
              "#bd3786"
             ],
             [
              0.5555555555555556,
              "#d8576b"
             ],
             [
              0.6666666666666666,
              "#ed7953"
             ],
             [
              0.7777777777777778,
              "#fb9f3a"
             ],
             [
              0.8888888888888888,
              "#fdca26"
             ],
             [
              1,
              "#f0f921"
             ]
            ],
            "type": "contour"
           }
          ],
          "contourcarpet": [
           {
            "colorbar": {
             "outlinewidth": 0,
             "ticks": ""
            },
            "type": "contourcarpet"
           }
          ],
          "heatmap": [
           {
            "colorbar": {
             "outlinewidth": 0,
             "ticks": ""
            },
            "colorscale": [
             [
              0,
              "#0d0887"
             ],
             [
              0.1111111111111111,
              "#46039f"
             ],
             [
              0.2222222222222222,
              "#7201a8"
             ],
             [
              0.3333333333333333,
              "#9c179e"
             ],
             [
              0.4444444444444444,
              "#bd3786"
             ],
             [
              0.5555555555555556,
              "#d8576b"
             ],
             [
              0.6666666666666666,
              "#ed7953"
             ],
             [
              0.7777777777777778,
              "#fb9f3a"
             ],
             [
              0.8888888888888888,
              "#fdca26"
             ],
             [
              1,
              "#f0f921"
             ]
            ],
            "type": "heatmap"
           }
          ],
          "histogram": [
           {
            "marker": {
             "pattern": {
              "fillmode": "overlay",
              "size": 10,
              "solidity": 0.2
             }
            },
            "type": "histogram"
           }
          ],
          "histogram2d": [
           {
            "colorbar": {
             "outlinewidth": 0,
             "ticks": ""
            },
            "colorscale": [
             [
              0,
              "#0d0887"
             ],
             [
              0.1111111111111111,
              "#46039f"
             ],
             [
              0.2222222222222222,
              "#7201a8"
             ],
             [
              0.3333333333333333,
              "#9c179e"
             ],
             [
              0.4444444444444444,
              "#bd3786"
             ],
             [
              0.5555555555555556,
              "#d8576b"
             ],
             [
              0.6666666666666666,
              "#ed7953"
             ],
             [
              0.7777777777777778,
              "#fb9f3a"
             ],
             [
              0.8888888888888888,
              "#fdca26"
             ],
             [
              1,
              "#f0f921"
             ]
            ],
            "type": "histogram2d"
           }
          ],
          "histogram2dcontour": [
           {
            "colorbar": {
             "outlinewidth": 0,
             "ticks": ""
            },
            "colorscale": [
             [
              0,
              "#0d0887"
             ],
             [
              0.1111111111111111,
              "#46039f"
             ],
             [
              0.2222222222222222,
              "#7201a8"
             ],
             [
              0.3333333333333333,
              "#9c179e"
             ],
             [
              0.4444444444444444,
              "#bd3786"
             ],
             [
              0.5555555555555556,
              "#d8576b"
             ],
             [
              0.6666666666666666,
              "#ed7953"
             ],
             [
              0.7777777777777778,
              "#fb9f3a"
             ],
             [
              0.8888888888888888,
              "#fdca26"
             ],
             [
              1,
              "#f0f921"
             ]
            ],
            "type": "histogram2dcontour"
           }
          ],
          "mesh3d": [
           {
            "colorbar": {
             "outlinewidth": 0,
             "ticks": ""
            },
            "type": "mesh3d"
           }
          ],
          "parcoords": [
           {
            "line": {
             "colorbar": {
              "outlinewidth": 0,
              "ticks": ""
             }
            },
            "type": "parcoords"
           }
          ],
          "pie": [
           {
            "automargin": true,
            "type": "pie"
           }
          ],
          "scatter": [
           {
            "fillpattern": {
             "fillmode": "overlay",
             "size": 10,
             "solidity": 0.2
            },
            "type": "scatter"
           }
          ],
          "scatter3d": [
           {
            "line": {
             "colorbar": {
              "outlinewidth": 0,
              "ticks": ""
             }
            },
            "marker": {
             "colorbar": {
              "outlinewidth": 0,
              "ticks": ""
             }
            },
            "type": "scatter3d"
           }
          ],
          "scattercarpet": [
           {
            "marker": {
             "colorbar": {
              "outlinewidth": 0,
              "ticks": ""
             }
            },
            "type": "scattercarpet"
           }
          ],
          "scattergeo": [
           {
            "marker": {
             "colorbar": {
              "outlinewidth": 0,
              "ticks": ""
             }
            },
            "type": "scattergeo"
           }
          ],
          "scattergl": [
           {
            "marker": {
             "colorbar": {
              "outlinewidth": 0,
              "ticks": ""
             }
            },
            "type": "scattergl"
           }
          ],
          "scattermap": [
           {
            "marker": {
             "colorbar": {
              "outlinewidth": 0,
              "ticks": ""
             }
            },
            "type": "scattermap"
           }
          ],
          "scattermapbox": [
           {
            "marker": {
             "colorbar": {
              "outlinewidth": 0,
              "ticks": ""
             }
            },
            "type": "scattermapbox"
           }
          ],
          "scatterpolar": [
           {
            "marker": {
             "colorbar": {
              "outlinewidth": 0,
              "ticks": ""
             }
            },
            "type": "scatterpolar"
           }
          ],
          "scatterpolargl": [
           {
            "marker": {
             "colorbar": {
              "outlinewidth": 0,
              "ticks": ""
             }
            },
            "type": "scatterpolargl"
           }
          ],
          "scatterternary": [
           {
            "marker": {
             "colorbar": {
              "outlinewidth": 0,
              "ticks": ""
             }
            },
            "type": "scatterternary"
           }
          ],
          "surface": [
           {
            "colorbar": {
             "outlinewidth": 0,
             "ticks": ""
            },
            "colorscale": [
             [
              0,
              "#0d0887"
             ],
             [
              0.1111111111111111,
              "#46039f"
             ],
             [
              0.2222222222222222,
              "#7201a8"
             ],
             [
              0.3333333333333333,
              "#9c179e"
             ],
             [
              0.4444444444444444,
              "#bd3786"
             ],
             [
              0.5555555555555556,
              "#d8576b"
             ],
             [
              0.6666666666666666,
              "#ed7953"
             ],
             [
              0.7777777777777778,
              "#fb9f3a"
             ],
             [
              0.8888888888888888,
              "#fdca26"
             ],
             [
              1,
              "#f0f921"
             ]
            ],
            "type": "surface"
           }
          ],
          "table": [
           {
            "cells": {
             "fill": {
              "color": "#EBF0F8"
             },
             "line": {
              "color": "white"
             }
            },
            "header": {
             "fill": {
              "color": "#C8D4E3"
             },
             "line": {
              "color": "white"
             }
            },
            "type": "table"
           }
          ]
         },
         "layout": {
          "annotationdefaults": {
           "arrowcolor": "#2a3f5f",
           "arrowhead": 0,
           "arrowwidth": 1
          },
          "autotypenumbers": "strict",
          "coloraxis": {
           "colorbar": {
            "outlinewidth": 0,
            "ticks": ""
           }
          },
          "colorscale": {
           "diverging": [
            [
             0,
             "#8e0152"
            ],
            [
             0.1,
             "#c51b7d"
            ],
            [
             0.2,
             "#de77ae"
            ],
            [
             0.3,
             "#f1b6da"
            ],
            [
             0.4,
             "#fde0ef"
            ],
            [
             0.5,
             "#f7f7f7"
            ],
            [
             0.6,
             "#e6f5d0"
            ],
            [
             0.7,
             "#b8e186"
            ],
            [
             0.8,
             "#7fbc41"
            ],
            [
             0.9,
             "#4d9221"
            ],
            [
             1,
             "#276419"
            ]
           ],
           "sequential": [
            [
             0,
             "#0d0887"
            ],
            [
             0.1111111111111111,
             "#46039f"
            ],
            [
             0.2222222222222222,
             "#7201a8"
            ],
            [
             0.3333333333333333,
             "#9c179e"
            ],
            [
             0.4444444444444444,
             "#bd3786"
            ],
            [
             0.5555555555555556,
             "#d8576b"
            ],
            [
             0.6666666666666666,
             "#ed7953"
            ],
            [
             0.7777777777777778,
             "#fb9f3a"
            ],
            [
             0.8888888888888888,
             "#fdca26"
            ],
            [
             1,
             "#f0f921"
            ]
           ],
           "sequentialminus": [
            [
             0,
             "#0d0887"
            ],
            [
             0.1111111111111111,
             "#46039f"
            ],
            [
             0.2222222222222222,
             "#7201a8"
            ],
            [
             0.3333333333333333,
             "#9c179e"
            ],
            [
             0.4444444444444444,
             "#bd3786"
            ],
            [
             0.5555555555555556,
             "#d8576b"
            ],
            [
             0.6666666666666666,
             "#ed7953"
            ],
            [
             0.7777777777777778,
             "#fb9f3a"
            ],
            [
             0.8888888888888888,
             "#fdca26"
            ],
            [
             1,
             "#f0f921"
            ]
           ]
          },
          "colorway": [
           "#636efa",
           "#EF553B",
           "#00cc96",
           "#ab63fa",
           "#FFA15A",
           "#19d3f3",
           "#FF6692",
           "#B6E880",
           "#FF97FF",
           "#FECB52"
          ],
          "font": {
           "color": "#2a3f5f"
          },
          "geo": {
           "bgcolor": "white",
           "lakecolor": "white",
           "landcolor": "white",
           "showlakes": true,
           "showland": true,
           "subunitcolor": "#C8D4E3"
          },
          "hoverlabel": {
           "align": "left"
          },
          "hovermode": "closest",
          "mapbox": {
           "style": "light"
          },
          "paper_bgcolor": "white",
          "plot_bgcolor": "white",
          "polar": {
           "angularaxis": {
            "gridcolor": "#EBF0F8",
            "linecolor": "#EBF0F8",
            "ticks": ""
           },
           "bgcolor": "white",
           "radialaxis": {
            "gridcolor": "#EBF0F8",
            "linecolor": "#EBF0F8",
            "ticks": ""
           }
          },
          "scene": {
           "xaxis": {
            "backgroundcolor": "white",
            "gridcolor": "#DFE8F3",
            "gridwidth": 2,
            "linecolor": "#EBF0F8",
            "showbackground": true,
            "ticks": "",
            "zerolinecolor": "#EBF0F8"
           },
           "yaxis": {
            "backgroundcolor": "white",
            "gridcolor": "#DFE8F3",
            "gridwidth": 2,
            "linecolor": "#EBF0F8",
            "showbackground": true,
            "ticks": "",
            "zerolinecolor": "#EBF0F8"
           },
           "zaxis": {
            "backgroundcolor": "white",
            "gridcolor": "#DFE8F3",
            "gridwidth": 2,
            "linecolor": "#EBF0F8",
            "showbackground": true,
            "ticks": "",
            "zerolinecolor": "#EBF0F8"
           }
          },
          "shapedefaults": {
           "line": {
            "color": "#2a3f5f"
           }
          },
          "ternary": {
           "aaxis": {
            "gridcolor": "#DFE8F3",
            "linecolor": "#A2B1C6",
            "ticks": ""
           },
           "baxis": {
            "gridcolor": "#DFE8F3",
            "linecolor": "#A2B1C6",
            "ticks": ""
           },
           "bgcolor": "white",
           "caxis": {
            "gridcolor": "#DFE8F3",
            "linecolor": "#A2B1C6",
            "ticks": ""
           }
          },
          "title": {
           "x": 0.05
          },
          "xaxis": {
           "automargin": true,
           "gridcolor": "#EBF0F8",
           "linecolor": "#EBF0F8",
           "ticks": "",
           "title": {
            "standoff": 15
           },
           "zerolinecolor": "#EBF0F8",
           "zerolinewidth": 2
          },
          "yaxis": {
           "automargin": true,
           "gridcolor": "#EBF0F8",
           "linecolor": "#EBF0F8",
           "ticks": "",
           "title": {
            "standoff": 15
           },
           "zerolinecolor": "#EBF0F8",
           "zerolinewidth": 2
          }
         }
        },
        "title": {
         "font": {
          "color": "#2E2E2E",
          "size": 16
         },
         "text": "Model Performance on Document: _NODI v. HUNGARY<br><span style='font-size:14px'>Best Model: gemma3:12b (F1: 0.385)</span>",
         "x": 0.5
        },
        "width": 800,
        "xaxis": {
         "range": [
          0,
          1
         ],
         "tickfont": {
          "size": 12
         },
         "title": {
          "text": "Score"
         }
        },
        "yaxis": {
         "tickfont": {
          "size": 12
         },
         "title": {
          "text": "Models"
         }
        }
       }
      }
     },
     "metadata": {},
     "output_type": "display_data"
    },
    {
     "data": {
      "application/vnd.plotly.v1+json": {
       "config": {
        "plotlyServerURL": "https://plot.ly"
       },
       "data": [
        {
         "marker": {
          "color": "#FF6B6B"
         },
         "name": "Precision",
         "offsetgroup": "0",
         "orientation": "h",
         "text": {
          "bdata": "AAAAAAAA8D8AAAAAAADYP05iEFg5tMg/bef7qfHS1T/6fmq8dJPQP4XrUbgehdM/exSuR+F64D/NzMzMzMzkPw==",
          "dtype": "f8"
         },
         "textposition": "auto",
         "type": "bar",
         "width": 0.25,
         "x": {
          "bdata": "AAAAAAAA8D8AAAAAAADYP5lPvZhPvcg/25WoXYna1T+RkJCQkJDQP4PzMTgfg9M/fPDBBx984D/NzMzMzMzkPw==",
          "dtype": "f8"
         },
         "y": [
          "gemma3:1b",
          "mistral:latest",
          "gemma3:4b",
          "gemma3:1b",
          "gemma3:4b",
          "mistral:latest",
          "gemma3:12b",
          "gemma3:12b"
         ]
        },
        {
         "marker": {
          "color": "#4ECDC4"
         },
         "name": "Recall",
         "offsetgroup": "1",
         "orientation": "h",
         "text": {
          "bdata": "exSuR+F6pD8K16NwPQrHP3E9CtejcN0/7FG4HoXr0T8pXI/C9SjcPwAAAAAAAOA/w/UoXI/C1T+kcD0K16PgPw==",
          "dtype": "f8"
         },
         "textposition": "auto",
         "type": "bar",
         "width": 0.25,
         "x": {
          "bdata": "exSuR+F6pD8K16NwPQrHP3E9CtejcN0/7FG4HoXr0T8pXI/C9SjcPwAAAAAAAOA/w/UoXI/C1T+kcD0K16PgPw==",
          "dtype": "f8"
         },
         "y": [
          "gemma3:1b",
          "mistral:latest",
          "gemma3:4b",
          "gemma3:1b",
          "gemma3:4b",
          "mistral:latest",
          "gemma3:12b",
          "gemma3:12b"
         ]
        },
        {
         "marker": {
          "color": "#45B7D1"
         },
         "name": "F1-Score",
         "offsetgroup": "2",
         "orientation": "h",
         "text": {
          "bdata": "g8DKoUW2sz+0yHa+nxrPP5zEILByaNE/g8DKoUW20z93vp8aL93UP6jGSzeJQdg/PQrXo3A92j/l0CLb+X7iPw==",
          "dtype": "f8"
         },
         "textposition": "auto",
         "type": "bar",
         "width": 0.25,
         "x": {
          "bdata": "FDuxEzuxsz8r8lk3mCLPPy95MOCMa9E/FDuxEzux0z/ATTFq+NvUPz344IMPPtg/5LJioIQ32j/TJ33SJ33iPw==",
          "dtype": "f8"
         },
         "y": [
          "gemma3:1b",
          "mistral:latest",
          "gemma3:4b",
          "gemma3:1b",
          "gemma3:4b",
          "mistral:latest",
          "gemma3:12b",
          "gemma3:12b"
         ]
        }
       ],
       "layout": {
        "barmode": "group",
        "height": 320,
        "legend": {
         "orientation": "h",
         "x": 1,
         "xanchor": "right",
         "y": 1.02,
         "yanchor": "bottom"
        },
        "showlegend": true,
        "template": {
         "data": {
          "bar": [
           {
            "error_x": {
             "color": "#2a3f5f"
            },
            "error_y": {
             "color": "#2a3f5f"
            },
            "marker": {
             "line": {
              "color": "white",
              "width": 0.5
             },
             "pattern": {
              "fillmode": "overlay",
              "size": 10,
              "solidity": 0.2
             }
            },
            "type": "bar"
           }
          ],
          "barpolar": [
           {
            "marker": {
             "line": {
              "color": "white",
              "width": 0.5
             },
             "pattern": {
              "fillmode": "overlay",
              "size": 10,
              "solidity": 0.2
             }
            },
            "type": "barpolar"
           }
          ],
          "carpet": [
           {
            "aaxis": {
             "endlinecolor": "#2a3f5f",
             "gridcolor": "#C8D4E3",
             "linecolor": "#C8D4E3",
             "minorgridcolor": "#C8D4E3",
             "startlinecolor": "#2a3f5f"
            },
            "baxis": {
             "endlinecolor": "#2a3f5f",
             "gridcolor": "#C8D4E3",
             "linecolor": "#C8D4E3",
             "minorgridcolor": "#C8D4E3",
             "startlinecolor": "#2a3f5f"
            },
            "type": "carpet"
           }
          ],
          "choropleth": [
           {
            "colorbar": {
             "outlinewidth": 0,
             "ticks": ""
            },
            "type": "choropleth"
           }
          ],
          "contour": [
           {
            "colorbar": {
             "outlinewidth": 0,
             "ticks": ""
            },
            "colorscale": [
             [
              0,
              "#0d0887"
             ],
             [
              0.1111111111111111,
              "#46039f"
             ],
             [
              0.2222222222222222,
              "#7201a8"
             ],
             [
              0.3333333333333333,
              "#9c179e"
             ],
             [
              0.4444444444444444,
              "#bd3786"
             ],
             [
              0.5555555555555556,
              "#d8576b"
             ],
             [
              0.6666666666666666,
              "#ed7953"
             ],
             [
              0.7777777777777778,
              "#fb9f3a"
             ],
             [
              0.8888888888888888,
              "#fdca26"
             ],
             [
              1,
              "#f0f921"
             ]
            ],
            "type": "contour"
           }
          ],
          "contourcarpet": [
           {
            "colorbar": {
             "outlinewidth": 0,
             "ticks": ""
            },
            "type": "contourcarpet"
           }
          ],
          "heatmap": [
           {
            "colorbar": {
             "outlinewidth": 0,
             "ticks": ""
            },
            "colorscale": [
             [
              0,
              "#0d0887"
             ],
             [
              0.1111111111111111,
              "#46039f"
             ],
             [
              0.2222222222222222,
              "#7201a8"
             ],
             [
              0.3333333333333333,
              "#9c179e"
             ],
             [
              0.4444444444444444,
              "#bd3786"
             ],
             [
              0.5555555555555556,
              "#d8576b"
             ],
             [
              0.6666666666666666,
              "#ed7953"
             ],
             [
              0.7777777777777778,
              "#fb9f3a"
             ],
             [
              0.8888888888888888,
              "#fdca26"
             ],
             [
              1,
              "#f0f921"
             ]
            ],
            "type": "heatmap"
           }
          ],
          "histogram": [
           {
            "marker": {
             "pattern": {
              "fillmode": "overlay",
              "size": 10,
              "solidity": 0.2
             }
            },
            "type": "histogram"
           }
          ],
          "histogram2d": [
           {
            "colorbar": {
             "outlinewidth": 0,
             "ticks": ""
            },
            "colorscale": [
             [
              0,
              "#0d0887"
             ],
             [
              0.1111111111111111,
              "#46039f"
             ],
             [
              0.2222222222222222,
              "#7201a8"
             ],
             [
              0.3333333333333333,
              "#9c179e"
             ],
             [
              0.4444444444444444,
              "#bd3786"
             ],
             [
              0.5555555555555556,
              "#d8576b"
             ],
             [
              0.6666666666666666,
              "#ed7953"
             ],
             [
              0.7777777777777778,
              "#fb9f3a"
             ],
             [
              0.8888888888888888,
              "#fdca26"
             ],
             [
              1,
              "#f0f921"
             ]
            ],
            "type": "histogram2d"
           }
          ],
          "histogram2dcontour": [
           {
            "colorbar": {
             "outlinewidth": 0,
             "ticks": ""
            },
            "colorscale": [
             [
              0,
              "#0d0887"
             ],
             [
              0.1111111111111111,
              "#46039f"
             ],
             [
              0.2222222222222222,
              "#7201a8"
             ],
             [
              0.3333333333333333,
              "#9c179e"
             ],
             [
              0.4444444444444444,
              "#bd3786"
             ],
             [
              0.5555555555555556,
              "#d8576b"
             ],
             [
              0.6666666666666666,
              "#ed7953"
             ],
             [
              0.7777777777777778,
              "#fb9f3a"
             ],
             [
              0.8888888888888888,
              "#fdca26"
             ],
             [
              1,
              "#f0f921"
             ]
            ],
            "type": "histogram2dcontour"
           }
          ],
          "mesh3d": [
           {
            "colorbar": {
             "outlinewidth": 0,
             "ticks": ""
            },
            "type": "mesh3d"
           }
          ],
          "parcoords": [
           {
            "line": {
             "colorbar": {
              "outlinewidth": 0,
              "ticks": ""
             }
            },
            "type": "parcoords"
           }
          ],
          "pie": [
           {
            "automargin": true,
            "type": "pie"
           }
          ],
          "scatter": [
           {
            "fillpattern": {
             "fillmode": "overlay",
             "size": 10,
             "solidity": 0.2
            },
            "type": "scatter"
           }
          ],
          "scatter3d": [
           {
            "line": {
             "colorbar": {
              "outlinewidth": 0,
              "ticks": ""
             }
            },
            "marker": {
             "colorbar": {
              "outlinewidth": 0,
              "ticks": ""
             }
            },
            "type": "scatter3d"
           }
          ],
          "scattercarpet": [
           {
            "marker": {
             "colorbar": {
              "outlinewidth": 0,
              "ticks": ""
             }
            },
            "type": "scattercarpet"
           }
          ],
          "scattergeo": [
           {
            "marker": {
             "colorbar": {
              "outlinewidth": 0,
              "ticks": ""
             }
            },
            "type": "scattergeo"
           }
          ],
          "scattergl": [
           {
            "marker": {
             "colorbar": {
              "outlinewidth": 0,
              "ticks": ""
             }
            },
            "type": "scattergl"
           }
          ],
          "scattermap": [
           {
            "marker": {
             "colorbar": {
              "outlinewidth": 0,
              "ticks": ""
             }
            },
            "type": "scattermap"
           }
          ],
          "scattermapbox": [
           {
            "marker": {
             "colorbar": {
              "outlinewidth": 0,
              "ticks": ""
             }
            },
            "type": "scattermapbox"
           }
          ],
          "scatterpolar": [
           {
            "marker": {
             "colorbar": {
              "outlinewidth": 0,
              "ticks": ""
             }
            },
            "type": "scatterpolar"
           }
          ],
          "scatterpolargl": [
           {
            "marker": {
             "colorbar": {
              "outlinewidth": 0,
              "ticks": ""
             }
            },
            "type": "scatterpolargl"
           }
          ],
          "scatterternary": [
           {
            "marker": {
             "colorbar": {
              "outlinewidth": 0,
              "ticks": ""
             }
            },
            "type": "scatterternary"
           }
          ],
          "surface": [
           {
            "colorbar": {
             "outlinewidth": 0,
             "ticks": ""
            },
            "colorscale": [
             [
              0,
              "#0d0887"
             ],
             [
              0.1111111111111111,
              "#46039f"
             ],
             [
              0.2222222222222222,
              "#7201a8"
             ],
             [
              0.3333333333333333,
              "#9c179e"
             ],
             [
              0.4444444444444444,
              "#bd3786"
             ],
             [
              0.5555555555555556,
              "#d8576b"
             ],
             [
              0.6666666666666666,
              "#ed7953"
             ],
             [
              0.7777777777777778,
              "#fb9f3a"
             ],
             [
              0.8888888888888888,
              "#fdca26"
             ],
             [
              1,
              "#f0f921"
             ]
            ],
            "type": "surface"
           }
          ],
          "table": [
           {
            "cells": {
             "fill": {
              "color": "#EBF0F8"
             },
             "line": {
              "color": "white"
             }
            },
            "header": {
             "fill": {
              "color": "#C8D4E3"
             },
             "line": {
              "color": "white"
             }
            },
            "type": "table"
           }
          ]
         },
         "layout": {
          "annotationdefaults": {
           "arrowcolor": "#2a3f5f",
           "arrowhead": 0,
           "arrowwidth": 1
          },
          "autotypenumbers": "strict",
          "coloraxis": {
           "colorbar": {
            "outlinewidth": 0,
            "ticks": ""
           }
          },
          "colorscale": {
           "diverging": [
            [
             0,
             "#8e0152"
            ],
            [
             0.1,
             "#c51b7d"
            ],
            [
             0.2,
             "#de77ae"
            ],
            [
             0.3,
             "#f1b6da"
            ],
            [
             0.4,
             "#fde0ef"
            ],
            [
             0.5,
             "#f7f7f7"
            ],
            [
             0.6,
             "#e6f5d0"
            ],
            [
             0.7,
             "#b8e186"
            ],
            [
             0.8,
             "#7fbc41"
            ],
            [
             0.9,
             "#4d9221"
            ],
            [
             1,
             "#276419"
            ]
           ],
           "sequential": [
            [
             0,
             "#0d0887"
            ],
            [
             0.1111111111111111,
             "#46039f"
            ],
            [
             0.2222222222222222,
             "#7201a8"
            ],
            [
             0.3333333333333333,
             "#9c179e"
            ],
            [
             0.4444444444444444,
             "#bd3786"
            ],
            [
             0.5555555555555556,
             "#d8576b"
            ],
            [
             0.6666666666666666,
             "#ed7953"
            ],
            [
             0.7777777777777778,
             "#fb9f3a"
            ],
            [
             0.8888888888888888,
             "#fdca26"
            ],
            [
             1,
             "#f0f921"
            ]
           ],
           "sequentialminus": [
            [
             0,
             "#0d0887"
            ],
            [
             0.1111111111111111,
             "#46039f"
            ],
            [
             0.2222222222222222,
             "#7201a8"
            ],
            [
             0.3333333333333333,
             "#9c179e"
            ],
            [
             0.4444444444444444,
             "#bd3786"
            ],
            [
             0.5555555555555556,
             "#d8576b"
            ],
            [
             0.6666666666666666,
             "#ed7953"
            ],
            [
             0.7777777777777778,
             "#fb9f3a"
            ],
            [
             0.8888888888888888,
             "#fdca26"
            ],
            [
             1,
             "#f0f921"
            ]
           ]
          },
          "colorway": [
           "#636efa",
           "#EF553B",
           "#00cc96",
           "#ab63fa",
           "#FFA15A",
           "#19d3f3",
           "#FF6692",
           "#B6E880",
           "#FF97FF",
           "#FECB52"
          ],
          "font": {
           "color": "#2a3f5f"
          },
          "geo": {
           "bgcolor": "white",
           "lakecolor": "white",
           "landcolor": "white",
           "showlakes": true,
           "showland": true,
           "subunitcolor": "#C8D4E3"
          },
          "hoverlabel": {
           "align": "left"
          },
          "hovermode": "closest",
          "mapbox": {
           "style": "light"
          },
          "paper_bgcolor": "white",
          "plot_bgcolor": "white",
          "polar": {
           "angularaxis": {
            "gridcolor": "#EBF0F8",
            "linecolor": "#EBF0F8",
            "ticks": ""
           },
           "bgcolor": "white",
           "radialaxis": {
            "gridcolor": "#EBF0F8",
            "linecolor": "#EBF0F8",
            "ticks": ""
           }
          },
          "scene": {
           "xaxis": {
            "backgroundcolor": "white",
            "gridcolor": "#DFE8F3",
            "gridwidth": 2,
            "linecolor": "#EBF0F8",
            "showbackground": true,
            "ticks": "",
            "zerolinecolor": "#EBF0F8"
           },
           "yaxis": {
            "backgroundcolor": "white",
            "gridcolor": "#DFE8F3",
            "gridwidth": 2,
            "linecolor": "#EBF0F8",
            "showbackground": true,
            "ticks": "",
            "zerolinecolor": "#EBF0F8"
           },
           "zaxis": {
            "backgroundcolor": "white",
            "gridcolor": "#DFE8F3",
            "gridwidth": 2,
            "linecolor": "#EBF0F8",
            "showbackground": true,
            "ticks": "",
            "zerolinecolor": "#EBF0F8"
           }
          },
          "shapedefaults": {
           "line": {
            "color": "#2a3f5f"
           }
          },
          "ternary": {
           "aaxis": {
            "gridcolor": "#DFE8F3",
            "linecolor": "#A2B1C6",
            "ticks": ""
           },
           "baxis": {
            "gridcolor": "#DFE8F3",
            "linecolor": "#A2B1C6",
            "ticks": ""
           },
           "bgcolor": "white",
           "caxis": {
            "gridcolor": "#DFE8F3",
            "linecolor": "#A2B1C6",
            "ticks": ""
           }
          },
          "title": {
           "x": 0.05
          },
          "xaxis": {
           "automargin": true,
           "gridcolor": "#EBF0F8",
           "linecolor": "#EBF0F8",
           "ticks": "",
           "title": {
            "standoff": 15
           },
           "zerolinecolor": "#EBF0F8",
           "zerolinewidth": 2
          },
          "yaxis": {
           "automargin": true,
           "gridcolor": "#EBF0F8",
           "linecolor": "#EBF0F8",
           "ticks": "",
           "title": {
            "standoff": 15
           },
           "zerolinecolor": "#EBF0F8",
           "zerolinewidth": 2
          }
         }
        },
        "title": {
         "font": {
          "color": "#2E2E2E",
          "size": 16
         },
         "text": "Model Performance on Document: PAKHTUSOV v. RUSSIA<br><span style='font-size:14px'>Best Model: gemma3:12b (F1: 0.578)</span>",
         "x": 0.5
        },
        "width": 800,
        "xaxis": {
         "range": [
          0,
          1
         ],
         "tickfont": {
          "size": 12
         },
         "title": {
          "text": "Score"
         }
        },
        "yaxis": {
         "tickfont": {
          "size": 12
         },
         "title": {
          "text": "Models"
         }
        }
       }
      }
     },
     "metadata": {},
     "output_type": "display_data"
    },
    {
     "data": {
      "application/vnd.plotly.v1+json": {
       "config": {
        "plotlyServerURL": "https://plot.ly"
       },
       "data": [
        {
         "marker": {
          "color": "#FF6B6B"
         },
         "name": "Precision",
         "offsetgroup": "0",
         "orientation": "h",
         "text": {
          "bdata": "AAAAAAAAAAAAAAAAAAAAAAAAAAAAAAAAAAAAAAAA4D8AAAAAAADoPwAAAAAAAOg/AAAAAAAA5D+amZmZmZnRPw==",
          "dtype": "f8"
         },
         "textposition": "auto",
         "type": "bar",
         "width": 0.25,
         "x": {
          "bdata": "AAAAAAAAAAAAAAAAAAAAAAAAAAAAAAAAAAAAAAAA4D8AAAAAAADoPwAAAAAAAOg/AAAAAAAA5D/WGamYW53RPw==",
          "dtype": "f8"
         },
         "y": [
          "gemma3:4b",
          "gemma3:12b",
          "mistral:latest",
          "gemma3:1b",
          "gemma3:1b",
          "gemma3:12b",
          "gemma3:4b",
          "mistral:latest"
         ]
        },
        {
         "marker": {
          "color": "#4ECDC4"
         },
         "name": "Recall",
         "offsetgroup": "1",
         "orientation": "h",
         "text": {
          "bdata": "AAAAAAAAAAAAAAAAAAAAAAAAAAAAAAAAeekmMQisjD97FK5H4XqUP3sUrkfhepQ/nMQgsHJooT+WQ4ts5/vJPw==",
          "dtype": "f8"
         },
         "textposition": "auto",
         "type": "bar",
         "width": 0.25,
         "x": {
          "bdata": "AAAAAAAAAAAAAAAAAAAAAAAAAAAAAAAA0LrBFPmsiz8cTJHPusGUPxxMkc+6wZQ/whT5rBtMoT8jn3WDKfLJPw==",
          "dtype": "f8"
         },
         "y": [
          "gemma3:4b",
          "gemma3:12b",
          "mistral:latest",
          "gemma3:1b",
          "gemma3:1b",
          "gemma3:12b",
          "gemma3:4b",
          "mistral:latest"
         ]
        },
        {
         "marker": {
          "color": "#45B7D1"
         },
         "name": "F1-Score",
         "offsetgroup": "2",
         "orientation": "h",
         "text": {
          "bdata": "AAAAAAAAAAAAAAAAAAAAAAAAAAAAAAAAObTIdr6fmj8rhxbZzvejPyuHFtnO96M//Knx0k1isD9t5/up8dLNPw==",
          "dtype": "f8"
         },
         "textposition": "auto",
         "type": "bar",
         "width": 0.25,
         "x": {
          "bdata": "AAAAAAAAAAAAAAAAAAAAAAAAAAAAAAAAKa+hvIbymj9fQ3kN5TWkP19DeQ3lNaQ/kAZpkAZpsD8d4h3iHeLNPw==",
          "dtype": "f8"
         },
         "y": [
          "gemma3:4b",
          "gemma3:12b",
          "mistral:latest",
          "gemma3:1b",
          "gemma3:1b",
          "gemma3:12b",
          "gemma3:4b",
          "mistral:latest"
         ]
        }
       ],
       "layout": {
        "barmode": "group",
        "height": 320,
        "legend": {
         "orientation": "h",
         "x": 1,
         "xanchor": "right",
         "y": 1.02,
         "yanchor": "bottom"
        },
        "showlegend": true,
        "template": {
         "data": {
          "bar": [
           {
            "error_x": {
             "color": "#2a3f5f"
            },
            "error_y": {
             "color": "#2a3f5f"
            },
            "marker": {
             "line": {
              "color": "white",
              "width": 0.5
             },
             "pattern": {
              "fillmode": "overlay",
              "size": 10,
              "solidity": 0.2
             }
            },
            "type": "bar"
           }
          ],
          "barpolar": [
           {
            "marker": {
             "line": {
              "color": "white",
              "width": 0.5
             },
             "pattern": {
              "fillmode": "overlay",
              "size": 10,
              "solidity": 0.2
             }
            },
            "type": "barpolar"
           }
          ],
          "carpet": [
           {
            "aaxis": {
             "endlinecolor": "#2a3f5f",
             "gridcolor": "#C8D4E3",
             "linecolor": "#C8D4E3",
             "minorgridcolor": "#C8D4E3",
             "startlinecolor": "#2a3f5f"
            },
            "baxis": {
             "endlinecolor": "#2a3f5f",
             "gridcolor": "#C8D4E3",
             "linecolor": "#C8D4E3",
             "minorgridcolor": "#C8D4E3",
             "startlinecolor": "#2a3f5f"
            },
            "type": "carpet"
           }
          ],
          "choropleth": [
           {
            "colorbar": {
             "outlinewidth": 0,
             "ticks": ""
            },
            "type": "choropleth"
           }
          ],
          "contour": [
           {
            "colorbar": {
             "outlinewidth": 0,
             "ticks": ""
            },
            "colorscale": [
             [
              0,
              "#0d0887"
             ],
             [
              0.1111111111111111,
              "#46039f"
             ],
             [
              0.2222222222222222,
              "#7201a8"
             ],
             [
              0.3333333333333333,
              "#9c179e"
             ],
             [
              0.4444444444444444,
              "#bd3786"
             ],
             [
              0.5555555555555556,
              "#d8576b"
             ],
             [
              0.6666666666666666,
              "#ed7953"
             ],
             [
              0.7777777777777778,
              "#fb9f3a"
             ],
             [
              0.8888888888888888,
              "#fdca26"
             ],
             [
              1,
              "#f0f921"
             ]
            ],
            "type": "contour"
           }
          ],
          "contourcarpet": [
           {
            "colorbar": {
             "outlinewidth": 0,
             "ticks": ""
            },
            "type": "contourcarpet"
           }
          ],
          "heatmap": [
           {
            "colorbar": {
             "outlinewidth": 0,
             "ticks": ""
            },
            "colorscale": [
             [
              0,
              "#0d0887"
             ],
             [
              0.1111111111111111,
              "#46039f"
             ],
             [
              0.2222222222222222,
              "#7201a8"
             ],
             [
              0.3333333333333333,
              "#9c179e"
             ],
             [
              0.4444444444444444,
              "#bd3786"
             ],
             [
              0.5555555555555556,
              "#d8576b"
             ],
             [
              0.6666666666666666,
              "#ed7953"
             ],
             [
              0.7777777777777778,
              "#fb9f3a"
             ],
             [
              0.8888888888888888,
              "#fdca26"
             ],
             [
              1,
              "#f0f921"
             ]
            ],
            "type": "heatmap"
           }
          ],
          "histogram": [
           {
            "marker": {
             "pattern": {
              "fillmode": "overlay",
              "size": 10,
              "solidity": 0.2
             }
            },
            "type": "histogram"
           }
          ],
          "histogram2d": [
           {
            "colorbar": {
             "outlinewidth": 0,
             "ticks": ""
            },
            "colorscale": [
             [
              0,
              "#0d0887"
             ],
             [
              0.1111111111111111,
              "#46039f"
             ],
             [
              0.2222222222222222,
              "#7201a8"
             ],
             [
              0.3333333333333333,
              "#9c179e"
             ],
             [
              0.4444444444444444,
              "#bd3786"
             ],
             [
              0.5555555555555556,
              "#d8576b"
             ],
             [
              0.6666666666666666,
              "#ed7953"
             ],
             [
              0.7777777777777778,
              "#fb9f3a"
             ],
             [
              0.8888888888888888,
              "#fdca26"
             ],
             [
              1,
              "#f0f921"
             ]
            ],
            "type": "histogram2d"
           }
          ],
          "histogram2dcontour": [
           {
            "colorbar": {
             "outlinewidth": 0,
             "ticks": ""
            },
            "colorscale": [
             [
              0,
              "#0d0887"
             ],
             [
              0.1111111111111111,
              "#46039f"
             ],
             [
              0.2222222222222222,
              "#7201a8"
             ],
             [
              0.3333333333333333,
              "#9c179e"
             ],
             [
              0.4444444444444444,
              "#bd3786"
             ],
             [
              0.5555555555555556,
              "#d8576b"
             ],
             [
              0.6666666666666666,
              "#ed7953"
             ],
             [
              0.7777777777777778,
              "#fb9f3a"
             ],
             [
              0.8888888888888888,
              "#fdca26"
             ],
             [
              1,
              "#f0f921"
             ]
            ],
            "type": "histogram2dcontour"
           }
          ],
          "mesh3d": [
           {
            "colorbar": {
             "outlinewidth": 0,
             "ticks": ""
            },
            "type": "mesh3d"
           }
          ],
          "parcoords": [
           {
            "line": {
             "colorbar": {
              "outlinewidth": 0,
              "ticks": ""
             }
            },
            "type": "parcoords"
           }
          ],
          "pie": [
           {
            "automargin": true,
            "type": "pie"
           }
          ],
          "scatter": [
           {
            "fillpattern": {
             "fillmode": "overlay",
             "size": 10,
             "solidity": 0.2
            },
            "type": "scatter"
           }
          ],
          "scatter3d": [
           {
            "line": {
             "colorbar": {
              "outlinewidth": 0,
              "ticks": ""
             }
            },
            "marker": {
             "colorbar": {
              "outlinewidth": 0,
              "ticks": ""
             }
            },
            "type": "scatter3d"
           }
          ],
          "scattercarpet": [
           {
            "marker": {
             "colorbar": {
              "outlinewidth": 0,
              "ticks": ""
             }
            },
            "type": "scattercarpet"
           }
          ],
          "scattergeo": [
           {
            "marker": {
             "colorbar": {
              "outlinewidth": 0,
              "ticks": ""
             }
            },
            "type": "scattergeo"
           }
          ],
          "scattergl": [
           {
            "marker": {
             "colorbar": {
              "outlinewidth": 0,
              "ticks": ""
             }
            },
            "type": "scattergl"
           }
          ],
          "scattermap": [
           {
            "marker": {
             "colorbar": {
              "outlinewidth": 0,
              "ticks": ""
             }
            },
            "type": "scattermap"
           }
          ],
          "scattermapbox": [
           {
            "marker": {
             "colorbar": {
              "outlinewidth": 0,
              "ticks": ""
             }
            },
            "type": "scattermapbox"
           }
          ],
          "scatterpolar": [
           {
            "marker": {
             "colorbar": {
              "outlinewidth": 0,
              "ticks": ""
             }
            },
            "type": "scatterpolar"
           }
          ],
          "scatterpolargl": [
           {
            "marker": {
             "colorbar": {
              "outlinewidth": 0,
              "ticks": ""
             }
            },
            "type": "scatterpolargl"
           }
          ],
          "scatterternary": [
           {
            "marker": {
             "colorbar": {
              "outlinewidth": 0,
              "ticks": ""
             }
            },
            "type": "scatterternary"
           }
          ],
          "surface": [
           {
            "colorbar": {
             "outlinewidth": 0,
             "ticks": ""
            },
            "colorscale": [
             [
              0,
              "#0d0887"
             ],
             [
              0.1111111111111111,
              "#46039f"
             ],
             [
              0.2222222222222222,
              "#7201a8"
             ],
             [
              0.3333333333333333,
              "#9c179e"
             ],
             [
              0.4444444444444444,
              "#bd3786"
             ],
             [
              0.5555555555555556,
              "#d8576b"
             ],
             [
              0.6666666666666666,
              "#ed7953"
             ],
             [
              0.7777777777777778,
              "#fb9f3a"
             ],
             [
              0.8888888888888888,
              "#fdca26"
             ],
             [
              1,
              "#f0f921"
             ]
            ],
            "type": "surface"
           }
          ],
          "table": [
           {
            "cells": {
             "fill": {
              "color": "#EBF0F8"
             },
             "line": {
              "color": "white"
             }
            },
            "header": {
             "fill": {
              "color": "#C8D4E3"
             },
             "line": {
              "color": "white"
             }
            },
            "type": "table"
           }
          ]
         },
         "layout": {
          "annotationdefaults": {
           "arrowcolor": "#2a3f5f",
           "arrowhead": 0,
           "arrowwidth": 1
          },
          "autotypenumbers": "strict",
          "coloraxis": {
           "colorbar": {
            "outlinewidth": 0,
            "ticks": ""
           }
          },
          "colorscale": {
           "diverging": [
            [
             0,
             "#8e0152"
            ],
            [
             0.1,
             "#c51b7d"
            ],
            [
             0.2,
             "#de77ae"
            ],
            [
             0.3,
             "#f1b6da"
            ],
            [
             0.4,
             "#fde0ef"
            ],
            [
             0.5,
             "#f7f7f7"
            ],
            [
             0.6,
             "#e6f5d0"
            ],
            [
             0.7,
             "#b8e186"
            ],
            [
             0.8,
             "#7fbc41"
            ],
            [
             0.9,
             "#4d9221"
            ],
            [
             1,
             "#276419"
            ]
           ],
           "sequential": [
            [
             0,
             "#0d0887"
            ],
            [
             0.1111111111111111,
             "#46039f"
            ],
            [
             0.2222222222222222,
             "#7201a8"
            ],
            [
             0.3333333333333333,
             "#9c179e"
            ],
            [
             0.4444444444444444,
             "#bd3786"
            ],
            [
             0.5555555555555556,
             "#d8576b"
            ],
            [
             0.6666666666666666,
             "#ed7953"
            ],
            [
             0.7777777777777778,
             "#fb9f3a"
            ],
            [
             0.8888888888888888,
             "#fdca26"
            ],
            [
             1,
             "#f0f921"
            ]
           ],
           "sequentialminus": [
            [
             0,
             "#0d0887"
            ],
            [
             0.1111111111111111,
             "#46039f"
            ],
            [
             0.2222222222222222,
             "#7201a8"
            ],
            [
             0.3333333333333333,
             "#9c179e"
            ],
            [
             0.4444444444444444,
             "#bd3786"
            ],
            [
             0.5555555555555556,
             "#d8576b"
            ],
            [
             0.6666666666666666,
             "#ed7953"
            ],
            [
             0.7777777777777778,
             "#fb9f3a"
            ],
            [
             0.8888888888888888,
             "#fdca26"
            ],
            [
             1,
             "#f0f921"
            ]
           ]
          },
          "colorway": [
           "#636efa",
           "#EF553B",
           "#00cc96",
           "#ab63fa",
           "#FFA15A",
           "#19d3f3",
           "#FF6692",
           "#B6E880",
           "#FF97FF",
           "#FECB52"
          ],
          "font": {
           "color": "#2a3f5f"
          },
          "geo": {
           "bgcolor": "white",
           "lakecolor": "white",
           "landcolor": "white",
           "showlakes": true,
           "showland": true,
           "subunitcolor": "#C8D4E3"
          },
          "hoverlabel": {
           "align": "left"
          },
          "hovermode": "closest",
          "mapbox": {
           "style": "light"
          },
          "paper_bgcolor": "white",
          "plot_bgcolor": "white",
          "polar": {
           "angularaxis": {
            "gridcolor": "#EBF0F8",
            "linecolor": "#EBF0F8",
            "ticks": ""
           },
           "bgcolor": "white",
           "radialaxis": {
            "gridcolor": "#EBF0F8",
            "linecolor": "#EBF0F8",
            "ticks": ""
           }
          },
          "scene": {
           "xaxis": {
            "backgroundcolor": "white",
            "gridcolor": "#DFE8F3",
            "gridwidth": 2,
            "linecolor": "#EBF0F8",
            "showbackground": true,
            "ticks": "",
            "zerolinecolor": "#EBF0F8"
           },
           "yaxis": {
            "backgroundcolor": "white",
            "gridcolor": "#DFE8F3",
            "gridwidth": 2,
            "linecolor": "#EBF0F8",
            "showbackground": true,
            "ticks": "",
            "zerolinecolor": "#EBF0F8"
           },
           "zaxis": {
            "backgroundcolor": "white",
            "gridcolor": "#DFE8F3",
            "gridwidth": 2,
            "linecolor": "#EBF0F8",
            "showbackground": true,
            "ticks": "",
            "zerolinecolor": "#EBF0F8"
           }
          },
          "shapedefaults": {
           "line": {
            "color": "#2a3f5f"
           }
          },
          "ternary": {
           "aaxis": {
            "gridcolor": "#DFE8F3",
            "linecolor": "#A2B1C6",
            "ticks": ""
           },
           "baxis": {
            "gridcolor": "#DFE8F3",
            "linecolor": "#A2B1C6",
            "ticks": ""
           },
           "bgcolor": "white",
           "caxis": {
            "gridcolor": "#DFE8F3",
            "linecolor": "#A2B1C6",
            "ticks": ""
           }
          },
          "title": {
           "x": 0.05
          },
          "xaxis": {
           "automargin": true,
           "gridcolor": "#EBF0F8",
           "linecolor": "#EBF0F8",
           "ticks": "",
           "title": {
            "standoff": 15
           },
           "zerolinecolor": "#EBF0F8",
           "zerolinewidth": 2
          },
          "yaxis": {
           "automargin": true,
           "gridcolor": "#EBF0F8",
           "linecolor": "#EBF0F8",
           "ticks": "",
           "title": {
            "standoff": 15
           },
           "zerolinecolor": "#EBF0F8",
           "zerolinewidth": 2
          }
         }
        },
        "title": {
         "font": {
          "color": "#2E2E2E",
          "size": 16
         },
         "text": "Model Performance on Document: KOSAITE - CYPIENE AND OTHERS v. LITHUANIA<br><span style='font-size:14px'>Best Model: mistral:latest (F1: 0.233)</span>",
         "x": 0.5
        },
        "width": 800,
        "xaxis": {
         "range": [
          0,
          1
         ],
         "tickfont": {
          "size": 12
         },
         "title": {
          "text": "Score"
         }
        },
        "yaxis": {
         "tickfont": {
          "size": 12
         },
         "title": {
          "text": "Models"
         }
        }
       }
      }
     },
     "metadata": {},
     "output_type": "display_data"
    },
    {
     "data": {
      "application/vnd.plotly.v1+json": {
       "config": {
        "plotlyServerURL": "https://plot.ly"
       },
       "data": [
        {
         "marker": {
          "color": "#FF6B6B"
         },
         "name": "Precision",
         "offsetgroup": "0",
         "orientation": "h",
         "text": {
          "bdata": "AAAAAAAAAAAAAAAAAAAAAArXo3A9Cqc/mpmZmZmZuT8AAAAAAADwPzMzMzMzM+M/TDeJQWDl4D9g5dAi2/nePw==",
          "dtype": "f8"
         },
         "textposition": "auto",
         "type": "bar",
         "width": 0.25,
         "x": {
          "bdata": "AAAAAAAAAAAAAAAAAAAAAEYXXXTRRac/mpmZmZmZuT8AAAAAAADwPzMzMzMzM+M/qQnGW9nn4D8AAAAAAADfPw==",
          "dtype": "f8"
         },
         "y": [
          "mistral:latest",
          "gemma3:1b",
          "gemma3:4b",
          "gemma3:12b",
          "gemma3:1b",
          "gemma3:4b",
          "gemma3:12b",
          "mistral:latest"
         ]
        },
        {
         "marker": {
          "color": "#4ECDC4"
         },
         "name": "Recall",
         "offsetgroup": "1",
         "orientation": "h",
         "text": {
          "bdata": "AAAAAAAAAAAAAAAAAAAAAHnpJjEIrIw/eekmMQisjD956SYxCKyMP7TIdr6fGs8//tR46SYx2D83iUFg5dDaPw==",
          "dtype": "f8"
         },
         "textposition": "auto",
         "type": "bar",
         "width": 0.25,
         "x": {
          "bdata": "AAAAAAAAAAAAAAAAAAAAANC6wRT5rIs/0LrBFPmsiz/QusEU+ayLPyryWTeYIs8/doMp8lk32D/5rBtMkc/aPw==",
          "dtype": "f8"
         },
         "y": [
          "mistral:latest",
          "gemma3:1b",
          "gemma3:4b",
          "gemma3:12b",
          "gemma3:1b",
          "gemma3:4b",
          "gemma3:12b",
          "mistral:latest"
         ]
        },
        {
         "marker": {
          "color": "#45B7D1"
         },
         "name": "F1-Score",
         "offsetgroup": "2",
         "orientation": "h",
         "text": {
          "bdata": "AAAAAAAAAAAAAAAAAAAAABsv3SQGgZU/+n5qvHSTmD/ZzvdT46WbP76fGi/dJNY/001iEFg53D8j2/l+arzcPw==",
          "dtype": "f8"
         },
         "textposition": "auto",
         "type": "bar",
         "width": 0.25,
         "x": {
          "bdata": "AAAAAAAAAAAAAAAAAAAAAFZVVVVVVZU/GIZhGIZhmD9OG+i0gU6bP3ZiJ3ZiJ9Y/DofD4XA43D/MtQNz7cDcPw==",
          "dtype": "f8"
         },
         "y": [
          "mistral:latest",
          "gemma3:1b",
          "gemma3:4b",
          "gemma3:12b",
          "gemma3:1b",
          "gemma3:4b",
          "gemma3:12b",
          "mistral:latest"
         ]
        }
       ],
       "layout": {
        "barmode": "group",
        "height": 320,
        "legend": {
         "orientation": "h",
         "x": 1,
         "xanchor": "right",
         "y": 1.02,
         "yanchor": "bottom"
        },
        "showlegend": true,
        "template": {
         "data": {
          "bar": [
           {
            "error_x": {
             "color": "#2a3f5f"
            },
            "error_y": {
             "color": "#2a3f5f"
            },
            "marker": {
             "line": {
              "color": "white",
              "width": 0.5
             },
             "pattern": {
              "fillmode": "overlay",
              "size": 10,
              "solidity": 0.2
             }
            },
            "type": "bar"
           }
          ],
          "barpolar": [
           {
            "marker": {
             "line": {
              "color": "white",
              "width": 0.5
             },
             "pattern": {
              "fillmode": "overlay",
              "size": 10,
              "solidity": 0.2
             }
            },
            "type": "barpolar"
           }
          ],
          "carpet": [
           {
            "aaxis": {
             "endlinecolor": "#2a3f5f",
             "gridcolor": "#C8D4E3",
             "linecolor": "#C8D4E3",
             "minorgridcolor": "#C8D4E3",
             "startlinecolor": "#2a3f5f"
            },
            "baxis": {
             "endlinecolor": "#2a3f5f",
             "gridcolor": "#C8D4E3",
             "linecolor": "#C8D4E3",
             "minorgridcolor": "#C8D4E3",
             "startlinecolor": "#2a3f5f"
            },
            "type": "carpet"
           }
          ],
          "choropleth": [
           {
            "colorbar": {
             "outlinewidth": 0,
             "ticks": ""
            },
            "type": "choropleth"
           }
          ],
          "contour": [
           {
            "colorbar": {
             "outlinewidth": 0,
             "ticks": ""
            },
            "colorscale": [
             [
              0,
              "#0d0887"
             ],
             [
              0.1111111111111111,
              "#46039f"
             ],
             [
              0.2222222222222222,
              "#7201a8"
             ],
             [
              0.3333333333333333,
              "#9c179e"
             ],
             [
              0.4444444444444444,
              "#bd3786"
             ],
             [
              0.5555555555555556,
              "#d8576b"
             ],
             [
              0.6666666666666666,
              "#ed7953"
             ],
             [
              0.7777777777777778,
              "#fb9f3a"
             ],
             [
              0.8888888888888888,
              "#fdca26"
             ],
             [
              1,
              "#f0f921"
             ]
            ],
            "type": "contour"
           }
          ],
          "contourcarpet": [
           {
            "colorbar": {
             "outlinewidth": 0,
             "ticks": ""
            },
            "type": "contourcarpet"
           }
          ],
          "heatmap": [
           {
            "colorbar": {
             "outlinewidth": 0,
             "ticks": ""
            },
            "colorscale": [
             [
              0,
              "#0d0887"
             ],
             [
              0.1111111111111111,
              "#46039f"
             ],
             [
              0.2222222222222222,
              "#7201a8"
             ],
             [
              0.3333333333333333,
              "#9c179e"
             ],
             [
              0.4444444444444444,
              "#bd3786"
             ],
             [
              0.5555555555555556,
              "#d8576b"
             ],
             [
              0.6666666666666666,
              "#ed7953"
             ],
             [
              0.7777777777777778,
              "#fb9f3a"
             ],
             [
              0.8888888888888888,
              "#fdca26"
             ],
             [
              1,
              "#f0f921"
             ]
            ],
            "type": "heatmap"
           }
          ],
          "histogram": [
           {
            "marker": {
             "pattern": {
              "fillmode": "overlay",
              "size": 10,
              "solidity": 0.2
             }
            },
            "type": "histogram"
           }
          ],
          "histogram2d": [
           {
            "colorbar": {
             "outlinewidth": 0,
             "ticks": ""
            },
            "colorscale": [
             [
              0,
              "#0d0887"
             ],
             [
              0.1111111111111111,
              "#46039f"
             ],
             [
              0.2222222222222222,
              "#7201a8"
             ],
             [
              0.3333333333333333,
              "#9c179e"
             ],
             [
              0.4444444444444444,
              "#bd3786"
             ],
             [
              0.5555555555555556,
              "#d8576b"
             ],
             [
              0.6666666666666666,
              "#ed7953"
             ],
             [
              0.7777777777777778,
              "#fb9f3a"
             ],
             [
              0.8888888888888888,
              "#fdca26"
             ],
             [
              1,
              "#f0f921"
             ]
            ],
            "type": "histogram2d"
           }
          ],
          "histogram2dcontour": [
           {
            "colorbar": {
             "outlinewidth": 0,
             "ticks": ""
            },
            "colorscale": [
             [
              0,
              "#0d0887"
             ],
             [
              0.1111111111111111,
              "#46039f"
             ],
             [
              0.2222222222222222,
              "#7201a8"
             ],
             [
              0.3333333333333333,
              "#9c179e"
             ],
             [
              0.4444444444444444,
              "#bd3786"
             ],
             [
              0.5555555555555556,
              "#d8576b"
             ],
             [
              0.6666666666666666,
              "#ed7953"
             ],
             [
              0.7777777777777778,
              "#fb9f3a"
             ],
             [
              0.8888888888888888,
              "#fdca26"
             ],
             [
              1,
              "#f0f921"
             ]
            ],
            "type": "histogram2dcontour"
           }
          ],
          "mesh3d": [
           {
            "colorbar": {
             "outlinewidth": 0,
             "ticks": ""
            },
            "type": "mesh3d"
           }
          ],
          "parcoords": [
           {
            "line": {
             "colorbar": {
              "outlinewidth": 0,
              "ticks": ""
             }
            },
            "type": "parcoords"
           }
          ],
          "pie": [
           {
            "automargin": true,
            "type": "pie"
           }
          ],
          "scatter": [
           {
            "fillpattern": {
             "fillmode": "overlay",
             "size": 10,
             "solidity": 0.2
            },
            "type": "scatter"
           }
          ],
          "scatter3d": [
           {
            "line": {
             "colorbar": {
              "outlinewidth": 0,
              "ticks": ""
             }
            },
            "marker": {
             "colorbar": {
              "outlinewidth": 0,
              "ticks": ""
             }
            },
            "type": "scatter3d"
           }
          ],
          "scattercarpet": [
           {
            "marker": {
             "colorbar": {
              "outlinewidth": 0,
              "ticks": ""
             }
            },
            "type": "scattercarpet"
           }
          ],
          "scattergeo": [
           {
            "marker": {
             "colorbar": {
              "outlinewidth": 0,
              "ticks": ""
             }
            },
            "type": "scattergeo"
           }
          ],
          "scattergl": [
           {
            "marker": {
             "colorbar": {
              "outlinewidth": 0,
              "ticks": ""
             }
            },
            "type": "scattergl"
           }
          ],
          "scattermap": [
           {
            "marker": {
             "colorbar": {
              "outlinewidth": 0,
              "ticks": ""
             }
            },
            "type": "scattermap"
           }
          ],
          "scattermapbox": [
           {
            "marker": {
             "colorbar": {
              "outlinewidth": 0,
              "ticks": ""
             }
            },
            "type": "scattermapbox"
           }
          ],
          "scatterpolar": [
           {
            "marker": {
             "colorbar": {
              "outlinewidth": 0,
              "ticks": ""
             }
            },
            "type": "scatterpolar"
           }
          ],
          "scatterpolargl": [
           {
            "marker": {
             "colorbar": {
              "outlinewidth": 0,
              "ticks": ""
             }
            },
            "type": "scatterpolargl"
           }
          ],
          "scatterternary": [
           {
            "marker": {
             "colorbar": {
              "outlinewidth": 0,
              "ticks": ""
             }
            },
            "type": "scatterternary"
           }
          ],
          "surface": [
           {
            "colorbar": {
             "outlinewidth": 0,
             "ticks": ""
            },
            "colorscale": [
             [
              0,
              "#0d0887"
             ],
             [
              0.1111111111111111,
              "#46039f"
             ],
             [
              0.2222222222222222,
              "#7201a8"
             ],
             [
              0.3333333333333333,
              "#9c179e"
             ],
             [
              0.4444444444444444,
              "#bd3786"
             ],
             [
              0.5555555555555556,
              "#d8576b"
             ],
             [
              0.6666666666666666,
              "#ed7953"
             ],
             [
              0.7777777777777778,
              "#fb9f3a"
             ],
             [
              0.8888888888888888,
              "#fdca26"
             ],
             [
              1,
              "#f0f921"
             ]
            ],
            "type": "surface"
           }
          ],
          "table": [
           {
            "cells": {
             "fill": {
              "color": "#EBF0F8"
             },
             "line": {
              "color": "white"
             }
            },
            "header": {
             "fill": {
              "color": "#C8D4E3"
             },
             "line": {
              "color": "white"
             }
            },
            "type": "table"
           }
          ]
         },
         "layout": {
          "annotationdefaults": {
           "arrowcolor": "#2a3f5f",
           "arrowhead": 0,
           "arrowwidth": 1
          },
          "autotypenumbers": "strict",
          "coloraxis": {
           "colorbar": {
            "outlinewidth": 0,
            "ticks": ""
           }
          },
          "colorscale": {
           "diverging": [
            [
             0,
             "#8e0152"
            ],
            [
             0.1,
             "#c51b7d"
            ],
            [
             0.2,
             "#de77ae"
            ],
            [
             0.3,
             "#f1b6da"
            ],
            [
             0.4,
             "#fde0ef"
            ],
            [
             0.5,
             "#f7f7f7"
            ],
            [
             0.6,
             "#e6f5d0"
            ],
            [
             0.7,
             "#b8e186"
            ],
            [
             0.8,
             "#7fbc41"
            ],
            [
             0.9,
             "#4d9221"
            ],
            [
             1,
             "#276419"
            ]
           ],
           "sequential": [
            [
             0,
             "#0d0887"
            ],
            [
             0.1111111111111111,
             "#46039f"
            ],
            [
             0.2222222222222222,
             "#7201a8"
            ],
            [
             0.3333333333333333,
             "#9c179e"
            ],
            [
             0.4444444444444444,
             "#bd3786"
            ],
            [
             0.5555555555555556,
             "#d8576b"
            ],
            [
             0.6666666666666666,
             "#ed7953"
            ],
            [
             0.7777777777777778,
             "#fb9f3a"
            ],
            [
             0.8888888888888888,
             "#fdca26"
            ],
            [
             1,
             "#f0f921"
            ]
           ],
           "sequentialminus": [
            [
             0,
             "#0d0887"
            ],
            [
             0.1111111111111111,
             "#46039f"
            ],
            [
             0.2222222222222222,
             "#7201a8"
            ],
            [
             0.3333333333333333,
             "#9c179e"
            ],
            [
             0.4444444444444444,
             "#bd3786"
            ],
            [
             0.5555555555555556,
             "#d8576b"
            ],
            [
             0.6666666666666666,
             "#ed7953"
            ],
            [
             0.7777777777777778,
             "#fb9f3a"
            ],
            [
             0.8888888888888888,
             "#fdca26"
            ],
            [
             1,
             "#f0f921"
            ]
           ]
          },
          "colorway": [
           "#636efa",
           "#EF553B",
           "#00cc96",
           "#ab63fa",
           "#FFA15A",
           "#19d3f3",
           "#FF6692",
           "#B6E880",
           "#FF97FF",
           "#FECB52"
          ],
          "font": {
           "color": "#2a3f5f"
          },
          "geo": {
           "bgcolor": "white",
           "lakecolor": "white",
           "landcolor": "white",
           "showlakes": true,
           "showland": true,
           "subunitcolor": "#C8D4E3"
          },
          "hoverlabel": {
           "align": "left"
          },
          "hovermode": "closest",
          "mapbox": {
           "style": "light"
          },
          "paper_bgcolor": "white",
          "plot_bgcolor": "white",
          "polar": {
           "angularaxis": {
            "gridcolor": "#EBF0F8",
            "linecolor": "#EBF0F8",
            "ticks": ""
           },
           "bgcolor": "white",
           "radialaxis": {
            "gridcolor": "#EBF0F8",
            "linecolor": "#EBF0F8",
            "ticks": ""
           }
          },
          "scene": {
           "xaxis": {
            "backgroundcolor": "white",
            "gridcolor": "#DFE8F3",
            "gridwidth": 2,
            "linecolor": "#EBF0F8",
            "showbackground": true,
            "ticks": "",
            "zerolinecolor": "#EBF0F8"
           },
           "yaxis": {
            "backgroundcolor": "white",
            "gridcolor": "#DFE8F3",
            "gridwidth": 2,
            "linecolor": "#EBF0F8",
            "showbackground": true,
            "ticks": "",
            "zerolinecolor": "#EBF0F8"
           },
           "zaxis": {
            "backgroundcolor": "white",
            "gridcolor": "#DFE8F3",
            "gridwidth": 2,
            "linecolor": "#EBF0F8",
            "showbackground": true,
            "ticks": "",
            "zerolinecolor": "#EBF0F8"
           }
          },
          "shapedefaults": {
           "line": {
            "color": "#2a3f5f"
           }
          },
          "ternary": {
           "aaxis": {
            "gridcolor": "#DFE8F3",
            "linecolor": "#A2B1C6",
            "ticks": ""
           },
           "baxis": {
            "gridcolor": "#DFE8F3",
            "linecolor": "#A2B1C6",
            "ticks": ""
           },
           "bgcolor": "white",
           "caxis": {
            "gridcolor": "#DFE8F3",
            "linecolor": "#A2B1C6",
            "ticks": ""
           }
          },
          "title": {
           "x": 0.05
          },
          "xaxis": {
           "automargin": true,
           "gridcolor": "#EBF0F8",
           "linecolor": "#EBF0F8",
           "ticks": "",
           "title": {
            "standoff": 15
           },
           "zerolinecolor": "#EBF0F8",
           "zerolinewidth": 2
          },
          "yaxis": {
           "automargin": true,
           "gridcolor": "#EBF0F8",
           "linecolor": "#EBF0F8",
           "ticks": "",
           "title": {
            "standoff": 15
           },
           "zerolinecolor": "#EBF0F8",
           "zerolinewidth": 2
          }
         }
        },
        "title": {
         "font": {
          "color": "#2E2E2E",
          "size": 16
         },
         "text": "Model Performance on Document: S.V. v. ITALY<br><span style='font-size:14px'>Best Model: mistral:latest (F1: 0.449)</span>",
         "x": 0.5
        },
        "width": 800,
        "xaxis": {
         "range": [
          0,
          1
         ],
         "tickfont": {
          "size": 12
         },
         "title": {
          "text": "Score"
         }
        },
        "yaxis": {
         "tickfont": {
          "size": 12
         },
         "title": {
          "text": "Models"
         }
        }
       }
      }
     },
     "metadata": {},
     "output_type": "display_data"
    },
    {
     "data": {
      "application/vnd.plotly.v1+json": {
       "config": {
        "plotlyServerURL": "https://plot.ly"
       },
       "data": [
        {
         "marker": {
          "color": "#FF6B6B"
         },
         "name": "Precision",
         "offsetgroup": "0",
         "orientation": "h",
         "text": {
          "bdata": "qMZLN4lB2D8zMzMzMzPjP1g5tMh2vs8/exSuR+F65D9mZmZmZmbePzm0yHa+n+I/mG4Sg8DK5T8v3SQGgZXjPw==",
          "dtype": "f8"
         },
         "textposition": "auto",
         "type": "bar",
         "width": 0.25,
         "x": {
          "bdata": "7mmE5Z5G2D8zMzMzMzPjP/AH/AF/wM8/exSuR+F65D9mZmZmZmbeP54S5ClBnuI/VxCTK4jJ5T9+NSbSA5XjPw==",
          "dtype": "f8"
         },
         "y": [
          "gemma3:1b",
          "gemma3:1b",
          "gemma3:4b",
          "mistral:latest",
          "mistral:latest",
          "gemma3:4b",
          "gemma3:12b",
          "gemma3:12b"
         ]
        },
        {
         "marker": {
          "color": "#4ECDC4"
         },
         "name": "Recall",
         "offsetgroup": "1",
         "orientation": "h",
         "text": {
          "bdata": "arx0kxgExj+q8dJNYhDIPwAAAAAAAOA/AAAAAAAA0D81XrpJDALjPwAAAAAAAOA/AAAAAAAA4D9QjZduEoPkPw==",
          "dtype": "f8"
         },
         "textposition": "auto",
         "type": "bar",
         "width": 0.25,
         "x": {
          "bdata": "AAAAAAAAxj8AAAAAAADIPwAAAAAAAOA/AAAAAAAA0D8AAAAAAADjPwAAAAAAAOA/AAAAAAAA4D8AAAAAAIDkPw==",
          "dtype": "f8"
         },
         "y": [
          "gemma3:1b",
          "gemma3:1b",
          "gemma3:4b",
          "mistral:latest",
          "mistral:latest",
          "gemma3:4b",
          "gemma3:12b",
          "gemma3:12b"
         ]
        },
        {
         "marker": {
          "color": "#45B7D1"
         },
         "name": "F1-Score",
         "offsetgroup": "2",
         "orientation": "h",
         "text": {
          "bdata": "vHSTGARWzj/n+6nx0k3SP3Noke18P9U/CtejcD0K1z9MN4lBYOXgP57vp8ZLN+E/EFg5tMh24j/VeOkmMQjkPw==",
          "dtype": "f8"
         },
         "textposition": "auto",
         "type": "bar",
         "width": 0.25,
         "x": {
          "bdata": "SB555JFHzj+SJEmSJEnSP+sP9EgJOdU/cIELXOAC1z85juM4juPgPxHINRHINeE/NSeBuFBz4j+QkmcZ0QfkPw==",
          "dtype": "f8"
         },
         "y": [
          "gemma3:1b",
          "gemma3:1b",
          "gemma3:4b",
          "mistral:latest",
          "mistral:latest",
          "gemma3:4b",
          "gemma3:12b",
          "gemma3:12b"
         ]
        }
       ],
       "layout": {
        "barmode": "group",
        "height": 320,
        "legend": {
         "orientation": "h",
         "x": 1,
         "xanchor": "right",
         "y": 1.02,
         "yanchor": "bottom"
        },
        "showlegend": true,
        "template": {
         "data": {
          "bar": [
           {
            "error_x": {
             "color": "#2a3f5f"
            },
            "error_y": {
             "color": "#2a3f5f"
            },
            "marker": {
             "line": {
              "color": "white",
              "width": 0.5
             },
             "pattern": {
              "fillmode": "overlay",
              "size": 10,
              "solidity": 0.2
             }
            },
            "type": "bar"
           }
          ],
          "barpolar": [
           {
            "marker": {
             "line": {
              "color": "white",
              "width": 0.5
             },
             "pattern": {
              "fillmode": "overlay",
              "size": 10,
              "solidity": 0.2
             }
            },
            "type": "barpolar"
           }
          ],
          "carpet": [
           {
            "aaxis": {
             "endlinecolor": "#2a3f5f",
             "gridcolor": "#C8D4E3",
             "linecolor": "#C8D4E3",
             "minorgridcolor": "#C8D4E3",
             "startlinecolor": "#2a3f5f"
            },
            "baxis": {
             "endlinecolor": "#2a3f5f",
             "gridcolor": "#C8D4E3",
             "linecolor": "#C8D4E3",
             "minorgridcolor": "#C8D4E3",
             "startlinecolor": "#2a3f5f"
            },
            "type": "carpet"
           }
          ],
          "choropleth": [
           {
            "colorbar": {
             "outlinewidth": 0,
             "ticks": ""
            },
            "type": "choropleth"
           }
          ],
          "contour": [
           {
            "colorbar": {
             "outlinewidth": 0,
             "ticks": ""
            },
            "colorscale": [
             [
              0,
              "#0d0887"
             ],
             [
              0.1111111111111111,
              "#46039f"
             ],
             [
              0.2222222222222222,
              "#7201a8"
             ],
             [
              0.3333333333333333,
              "#9c179e"
             ],
             [
              0.4444444444444444,
              "#bd3786"
             ],
             [
              0.5555555555555556,
              "#d8576b"
             ],
             [
              0.6666666666666666,
              "#ed7953"
             ],
             [
              0.7777777777777778,
              "#fb9f3a"
             ],
             [
              0.8888888888888888,
              "#fdca26"
             ],
             [
              1,
              "#f0f921"
             ]
            ],
            "type": "contour"
           }
          ],
          "contourcarpet": [
           {
            "colorbar": {
             "outlinewidth": 0,
             "ticks": ""
            },
            "type": "contourcarpet"
           }
          ],
          "heatmap": [
           {
            "colorbar": {
             "outlinewidth": 0,
             "ticks": ""
            },
            "colorscale": [
             [
              0,
              "#0d0887"
             ],
             [
              0.1111111111111111,
              "#46039f"
             ],
             [
              0.2222222222222222,
              "#7201a8"
             ],
             [
              0.3333333333333333,
              "#9c179e"
             ],
             [
              0.4444444444444444,
              "#bd3786"
             ],
             [
              0.5555555555555556,
              "#d8576b"
             ],
             [
              0.6666666666666666,
              "#ed7953"
             ],
             [
              0.7777777777777778,
              "#fb9f3a"
             ],
             [
              0.8888888888888888,
              "#fdca26"
             ],
             [
              1,
              "#f0f921"
             ]
            ],
            "type": "heatmap"
           }
          ],
          "histogram": [
           {
            "marker": {
             "pattern": {
              "fillmode": "overlay",
              "size": 10,
              "solidity": 0.2
             }
            },
            "type": "histogram"
           }
          ],
          "histogram2d": [
           {
            "colorbar": {
             "outlinewidth": 0,
             "ticks": ""
            },
            "colorscale": [
             [
              0,
              "#0d0887"
             ],
             [
              0.1111111111111111,
              "#46039f"
             ],
             [
              0.2222222222222222,
              "#7201a8"
             ],
             [
              0.3333333333333333,
              "#9c179e"
             ],
             [
              0.4444444444444444,
              "#bd3786"
             ],
             [
              0.5555555555555556,
              "#d8576b"
             ],
             [
              0.6666666666666666,
              "#ed7953"
             ],
             [
              0.7777777777777778,
              "#fb9f3a"
             ],
             [
              0.8888888888888888,
              "#fdca26"
             ],
             [
              1,
              "#f0f921"
             ]
            ],
            "type": "histogram2d"
           }
          ],
          "histogram2dcontour": [
           {
            "colorbar": {
             "outlinewidth": 0,
             "ticks": ""
            },
            "colorscale": [
             [
              0,
              "#0d0887"
             ],
             [
              0.1111111111111111,
              "#46039f"
             ],
             [
              0.2222222222222222,
              "#7201a8"
             ],
             [
              0.3333333333333333,
              "#9c179e"
             ],
             [
              0.4444444444444444,
              "#bd3786"
             ],
             [
              0.5555555555555556,
              "#d8576b"
             ],
             [
              0.6666666666666666,
              "#ed7953"
             ],
             [
              0.7777777777777778,
              "#fb9f3a"
             ],
             [
              0.8888888888888888,
              "#fdca26"
             ],
             [
              1,
              "#f0f921"
             ]
            ],
            "type": "histogram2dcontour"
           }
          ],
          "mesh3d": [
           {
            "colorbar": {
             "outlinewidth": 0,
             "ticks": ""
            },
            "type": "mesh3d"
           }
          ],
          "parcoords": [
           {
            "line": {
             "colorbar": {
              "outlinewidth": 0,
              "ticks": ""
             }
            },
            "type": "parcoords"
           }
          ],
          "pie": [
           {
            "automargin": true,
            "type": "pie"
           }
          ],
          "scatter": [
           {
            "fillpattern": {
             "fillmode": "overlay",
             "size": 10,
             "solidity": 0.2
            },
            "type": "scatter"
           }
          ],
          "scatter3d": [
           {
            "line": {
             "colorbar": {
              "outlinewidth": 0,
              "ticks": ""
             }
            },
            "marker": {
             "colorbar": {
              "outlinewidth": 0,
              "ticks": ""
             }
            },
            "type": "scatter3d"
           }
          ],
          "scattercarpet": [
           {
            "marker": {
             "colorbar": {
              "outlinewidth": 0,
              "ticks": ""
             }
            },
            "type": "scattercarpet"
           }
          ],
          "scattergeo": [
           {
            "marker": {
             "colorbar": {
              "outlinewidth": 0,
              "ticks": ""
             }
            },
            "type": "scattergeo"
           }
          ],
          "scattergl": [
           {
            "marker": {
             "colorbar": {
              "outlinewidth": 0,
              "ticks": ""
             }
            },
            "type": "scattergl"
           }
          ],
          "scattermap": [
           {
            "marker": {
             "colorbar": {
              "outlinewidth": 0,
              "ticks": ""
             }
            },
            "type": "scattermap"
           }
          ],
          "scattermapbox": [
           {
            "marker": {
             "colorbar": {
              "outlinewidth": 0,
              "ticks": ""
             }
            },
            "type": "scattermapbox"
           }
          ],
          "scatterpolar": [
           {
            "marker": {
             "colorbar": {
              "outlinewidth": 0,
              "ticks": ""
             }
            },
            "type": "scatterpolar"
           }
          ],
          "scatterpolargl": [
           {
            "marker": {
             "colorbar": {
              "outlinewidth": 0,
              "ticks": ""
             }
            },
            "type": "scatterpolargl"
           }
          ],
          "scatterternary": [
           {
            "marker": {
             "colorbar": {
              "outlinewidth": 0,
              "ticks": ""
             }
            },
            "type": "scatterternary"
           }
          ],
          "surface": [
           {
            "colorbar": {
             "outlinewidth": 0,
             "ticks": ""
            },
            "colorscale": [
             [
              0,
              "#0d0887"
             ],
             [
              0.1111111111111111,
              "#46039f"
             ],
             [
              0.2222222222222222,
              "#7201a8"
             ],
             [
              0.3333333333333333,
              "#9c179e"
             ],
             [
              0.4444444444444444,
              "#bd3786"
             ],
             [
              0.5555555555555556,
              "#d8576b"
             ],
             [
              0.6666666666666666,
              "#ed7953"
             ],
             [
              0.7777777777777778,
              "#fb9f3a"
             ],
             [
              0.8888888888888888,
              "#fdca26"
             ],
             [
              1,
              "#f0f921"
             ]
            ],
            "type": "surface"
           }
          ],
          "table": [
           {
            "cells": {
             "fill": {
              "color": "#EBF0F8"
             },
             "line": {
              "color": "white"
             }
            },
            "header": {
             "fill": {
              "color": "#C8D4E3"
             },
             "line": {
              "color": "white"
             }
            },
            "type": "table"
           }
          ]
         },
         "layout": {
          "annotationdefaults": {
           "arrowcolor": "#2a3f5f",
           "arrowhead": 0,
           "arrowwidth": 1
          },
          "autotypenumbers": "strict",
          "coloraxis": {
           "colorbar": {
            "outlinewidth": 0,
            "ticks": ""
           }
          },
          "colorscale": {
           "diverging": [
            [
             0,
             "#8e0152"
            ],
            [
             0.1,
             "#c51b7d"
            ],
            [
             0.2,
             "#de77ae"
            ],
            [
             0.3,
             "#f1b6da"
            ],
            [
             0.4,
             "#fde0ef"
            ],
            [
             0.5,
             "#f7f7f7"
            ],
            [
             0.6,
             "#e6f5d0"
            ],
            [
             0.7,
             "#b8e186"
            ],
            [
             0.8,
             "#7fbc41"
            ],
            [
             0.9,
             "#4d9221"
            ],
            [
             1,
             "#276419"
            ]
           ],
           "sequential": [
            [
             0,
             "#0d0887"
            ],
            [
             0.1111111111111111,
             "#46039f"
            ],
            [
             0.2222222222222222,
             "#7201a8"
            ],
            [
             0.3333333333333333,
             "#9c179e"
            ],
            [
             0.4444444444444444,
             "#bd3786"
            ],
            [
             0.5555555555555556,
             "#d8576b"
            ],
            [
             0.6666666666666666,
             "#ed7953"
            ],
            [
             0.7777777777777778,
             "#fb9f3a"
            ],
            [
             0.8888888888888888,
             "#fdca26"
            ],
            [
             1,
             "#f0f921"
            ]
           ],
           "sequentialminus": [
            [
             0,
             "#0d0887"
            ],
            [
             0.1111111111111111,
             "#46039f"
            ],
            [
             0.2222222222222222,
             "#7201a8"
            ],
            [
             0.3333333333333333,
             "#9c179e"
            ],
            [
             0.4444444444444444,
             "#bd3786"
            ],
            [
             0.5555555555555556,
             "#d8576b"
            ],
            [
             0.6666666666666666,
             "#ed7953"
            ],
            [
             0.7777777777777778,
             "#fb9f3a"
            ],
            [
             0.8888888888888888,
             "#fdca26"
            ],
            [
             1,
             "#f0f921"
            ]
           ]
          },
          "colorway": [
           "#636efa",
           "#EF553B",
           "#00cc96",
           "#ab63fa",
           "#FFA15A",
           "#19d3f3",
           "#FF6692",
           "#B6E880",
           "#FF97FF",
           "#FECB52"
          ],
          "font": {
           "color": "#2a3f5f"
          },
          "geo": {
           "bgcolor": "white",
           "lakecolor": "white",
           "landcolor": "white",
           "showlakes": true,
           "showland": true,
           "subunitcolor": "#C8D4E3"
          },
          "hoverlabel": {
           "align": "left"
          },
          "hovermode": "closest",
          "mapbox": {
           "style": "light"
          },
          "paper_bgcolor": "white",
          "plot_bgcolor": "white",
          "polar": {
           "angularaxis": {
            "gridcolor": "#EBF0F8",
            "linecolor": "#EBF0F8",
            "ticks": ""
           },
           "bgcolor": "white",
           "radialaxis": {
            "gridcolor": "#EBF0F8",
            "linecolor": "#EBF0F8",
            "ticks": ""
           }
          },
          "scene": {
           "xaxis": {
            "backgroundcolor": "white",
            "gridcolor": "#DFE8F3",
            "gridwidth": 2,
            "linecolor": "#EBF0F8",
            "showbackground": true,
            "ticks": "",
            "zerolinecolor": "#EBF0F8"
           },
           "yaxis": {
            "backgroundcolor": "white",
            "gridcolor": "#DFE8F3",
            "gridwidth": 2,
            "linecolor": "#EBF0F8",
            "showbackground": true,
            "ticks": "",
            "zerolinecolor": "#EBF0F8"
           },
           "zaxis": {
            "backgroundcolor": "white",
            "gridcolor": "#DFE8F3",
            "gridwidth": 2,
            "linecolor": "#EBF0F8",
            "showbackground": true,
            "ticks": "",
            "zerolinecolor": "#EBF0F8"
           }
          },
          "shapedefaults": {
           "line": {
            "color": "#2a3f5f"
           }
          },
          "ternary": {
           "aaxis": {
            "gridcolor": "#DFE8F3",
            "linecolor": "#A2B1C6",
            "ticks": ""
           },
           "baxis": {
            "gridcolor": "#DFE8F3",
            "linecolor": "#A2B1C6",
            "ticks": ""
           },
           "bgcolor": "white",
           "caxis": {
            "gridcolor": "#DFE8F3",
            "linecolor": "#A2B1C6",
            "ticks": ""
           }
          },
          "title": {
           "x": 0.05
          },
          "xaxis": {
           "automargin": true,
           "gridcolor": "#EBF0F8",
           "linecolor": "#EBF0F8",
           "ticks": "",
           "title": {
            "standoff": 15
           },
           "zerolinecolor": "#EBF0F8",
           "zerolinewidth": 2
          },
          "yaxis": {
           "automargin": true,
           "gridcolor": "#EBF0F8",
           "linecolor": "#EBF0F8",
           "ticks": "",
           "title": {
            "standoff": 15
           },
           "zerolinecolor": "#EBF0F8",
           "zerolinewidth": 2
          }
         }
        },
        "title": {
         "font": {
          "color": "#2E2E2E",
          "size": 16
         },
         "text": "Model Performance on Document: CAN v. TURKEY<br><span style='font-size:14px'>Best Model: gemma3:12b (F1: 0.626)</span>",
         "x": 0.5
        },
        "width": 800,
        "xaxis": {
         "range": [
          0,
          1
         ],
         "tickfont": {
          "size": 12
         },
         "title": {
          "text": "Score"
         }
        },
        "yaxis": {
         "tickfont": {
          "size": 12
         },
         "title": {
          "text": "Models"
         }
        }
       }
      }
     },
     "metadata": {},
     "output_type": "display_data"
    },
    {
     "data": {
      "application/vnd.plotly.v1+json": {
       "config": {
        "plotlyServerURL": "https://plot.ly"
       },
       "data": [
        {
         "marker": {
          "color": "#FF6B6B"
         },
         "name": "Precision",
         "offsetgroup": "0",
         "orientation": "h",
         "text": {
          "bdata": "AAAAAAAAAABOYhBYObTQP0SLbOf7qdE/5/up8dJN0j+wcmiR7XzXPz81XrpJDNo/YhBYObTI1j/b+X5qvHTbPw==",
          "dtype": "f8"
         },
         "textposition": "auto",
         "type": "bar",
         "width": 0.25,
         "x": {
          "bdata": "AAAAAAAAAAALWchCFrLQP5Z7GmG5p9E/kiRJkiRJ0j/h5RS8nILXPy+hvYT2Eto/F2zBFmzB1j/btm3btm3bPw==",
          "dtype": "f8"
         },
         "y": [
          "gemma3:4b",
          "gemma3:4b",
          "gemma3:1b",
          "mistral:latest",
          "gemma3:1b",
          "gemma3:12b",
          "mistral:latest",
          "gemma3:12b"
         ]
        },
        {
         "marker": {
          "color": "#4ECDC4"
         },
         "name": "Recall",
         "offsetgroup": "1",
         "orientation": "h",
         "text": {
          "bdata": "AAAAAAAAAADsUbgeheuxPwIrhxbZzrc/GQRWDi2yvT+Nl24Sg8DKP/yp8dJNYtA/AiuHFtnO1z/6fmq8dJPYPw==",
          "dtype": "f8"
         },
         "textposition": "auto",
         "type": "bar",
         "width": 0.25,
         "x": {
          "bdata": "AAAAAAAAAAB3xB1xR9yxP/QFfUFf0Lc/cUfcEXfEvT+zpqwpa8rKPxj0BX1BX9A/9AV9QV/Q1z8k7og74o7YPw==",
          "dtype": "f8"
         },
         "y": [
          "gemma3:4b",
          "gemma3:4b",
          "gemma3:1b",
          "mistral:latest",
          "gemma3:1b",
          "gemma3:12b",
          "mistral:latest",
          "gemma3:12b"
         ]
        },
        {
         "marker": {
          "color": "#45B7D1"
         },
         "name": "F1-Score",
         "offsetgroup": "2",
         "orientation": "h",
         "text": {
          "bdata": "AAAAAAAAAAApXI/C9Si8P5huEoPAysE/H4XrUbgexT9KDAIrhxbRP39qvHSTGNQ/sp3vp8ZL1z/sUbgehevZPw==",
          "dtype": "f8"
         },
         "textposition": "auto",
         "type": "bar",
         "width": 0.25,
         "x": {
          "bdata": "AAAAAAAAAADvwkH0+C68Px2Boq0Gz8E/tEPgxjIoxT8RERERERHRP9RBHdRBHdQ/RhdddNFF1z85aR8kA+rZPw==",
          "dtype": "f8"
         },
         "y": [
          "gemma3:4b",
          "gemma3:4b",
          "gemma3:1b",
          "mistral:latest",
          "gemma3:1b",
          "gemma3:12b",
          "mistral:latest",
          "gemma3:12b"
         ]
        }
       ],
       "layout": {
        "barmode": "group",
        "height": 320,
        "legend": {
         "orientation": "h",
         "x": 1,
         "xanchor": "right",
         "y": 1.02,
         "yanchor": "bottom"
        },
        "showlegend": true,
        "template": {
         "data": {
          "bar": [
           {
            "error_x": {
             "color": "#2a3f5f"
            },
            "error_y": {
             "color": "#2a3f5f"
            },
            "marker": {
             "line": {
              "color": "white",
              "width": 0.5
             },
             "pattern": {
              "fillmode": "overlay",
              "size": 10,
              "solidity": 0.2
             }
            },
            "type": "bar"
           }
          ],
          "barpolar": [
           {
            "marker": {
             "line": {
              "color": "white",
              "width": 0.5
             },
             "pattern": {
              "fillmode": "overlay",
              "size": 10,
              "solidity": 0.2
             }
            },
            "type": "barpolar"
           }
          ],
          "carpet": [
           {
            "aaxis": {
             "endlinecolor": "#2a3f5f",
             "gridcolor": "#C8D4E3",
             "linecolor": "#C8D4E3",
             "minorgridcolor": "#C8D4E3",
             "startlinecolor": "#2a3f5f"
            },
            "baxis": {
             "endlinecolor": "#2a3f5f",
             "gridcolor": "#C8D4E3",
             "linecolor": "#C8D4E3",
             "minorgridcolor": "#C8D4E3",
             "startlinecolor": "#2a3f5f"
            },
            "type": "carpet"
           }
          ],
          "choropleth": [
           {
            "colorbar": {
             "outlinewidth": 0,
             "ticks": ""
            },
            "type": "choropleth"
           }
          ],
          "contour": [
           {
            "colorbar": {
             "outlinewidth": 0,
             "ticks": ""
            },
            "colorscale": [
             [
              0,
              "#0d0887"
             ],
             [
              0.1111111111111111,
              "#46039f"
             ],
             [
              0.2222222222222222,
              "#7201a8"
             ],
             [
              0.3333333333333333,
              "#9c179e"
             ],
             [
              0.4444444444444444,
              "#bd3786"
             ],
             [
              0.5555555555555556,
              "#d8576b"
             ],
             [
              0.6666666666666666,
              "#ed7953"
             ],
             [
              0.7777777777777778,
              "#fb9f3a"
             ],
             [
              0.8888888888888888,
              "#fdca26"
             ],
             [
              1,
              "#f0f921"
             ]
            ],
            "type": "contour"
           }
          ],
          "contourcarpet": [
           {
            "colorbar": {
             "outlinewidth": 0,
             "ticks": ""
            },
            "type": "contourcarpet"
           }
          ],
          "heatmap": [
           {
            "colorbar": {
             "outlinewidth": 0,
             "ticks": ""
            },
            "colorscale": [
             [
              0,
              "#0d0887"
             ],
             [
              0.1111111111111111,
              "#46039f"
             ],
             [
              0.2222222222222222,
              "#7201a8"
             ],
             [
              0.3333333333333333,
              "#9c179e"
             ],
             [
              0.4444444444444444,
              "#bd3786"
             ],
             [
              0.5555555555555556,
              "#d8576b"
             ],
             [
              0.6666666666666666,
              "#ed7953"
             ],
             [
              0.7777777777777778,
              "#fb9f3a"
             ],
             [
              0.8888888888888888,
              "#fdca26"
             ],
             [
              1,
              "#f0f921"
             ]
            ],
            "type": "heatmap"
           }
          ],
          "histogram": [
           {
            "marker": {
             "pattern": {
              "fillmode": "overlay",
              "size": 10,
              "solidity": 0.2
             }
            },
            "type": "histogram"
           }
          ],
          "histogram2d": [
           {
            "colorbar": {
             "outlinewidth": 0,
             "ticks": ""
            },
            "colorscale": [
             [
              0,
              "#0d0887"
             ],
             [
              0.1111111111111111,
              "#46039f"
             ],
             [
              0.2222222222222222,
              "#7201a8"
             ],
             [
              0.3333333333333333,
              "#9c179e"
             ],
             [
              0.4444444444444444,
              "#bd3786"
             ],
             [
              0.5555555555555556,
              "#d8576b"
             ],
             [
              0.6666666666666666,
              "#ed7953"
             ],
             [
              0.7777777777777778,
              "#fb9f3a"
             ],
             [
              0.8888888888888888,
              "#fdca26"
             ],
             [
              1,
              "#f0f921"
             ]
            ],
            "type": "histogram2d"
           }
          ],
          "histogram2dcontour": [
           {
            "colorbar": {
             "outlinewidth": 0,
             "ticks": ""
            },
            "colorscale": [
             [
              0,
              "#0d0887"
             ],
             [
              0.1111111111111111,
              "#46039f"
             ],
             [
              0.2222222222222222,
              "#7201a8"
             ],
             [
              0.3333333333333333,
              "#9c179e"
             ],
             [
              0.4444444444444444,
              "#bd3786"
             ],
             [
              0.5555555555555556,
              "#d8576b"
             ],
             [
              0.6666666666666666,
              "#ed7953"
             ],
             [
              0.7777777777777778,
              "#fb9f3a"
             ],
             [
              0.8888888888888888,
              "#fdca26"
             ],
             [
              1,
              "#f0f921"
             ]
            ],
            "type": "histogram2dcontour"
           }
          ],
          "mesh3d": [
           {
            "colorbar": {
             "outlinewidth": 0,
             "ticks": ""
            },
            "type": "mesh3d"
           }
          ],
          "parcoords": [
           {
            "line": {
             "colorbar": {
              "outlinewidth": 0,
              "ticks": ""
             }
            },
            "type": "parcoords"
           }
          ],
          "pie": [
           {
            "automargin": true,
            "type": "pie"
           }
          ],
          "scatter": [
           {
            "fillpattern": {
             "fillmode": "overlay",
             "size": 10,
             "solidity": 0.2
            },
            "type": "scatter"
           }
          ],
          "scatter3d": [
           {
            "line": {
             "colorbar": {
              "outlinewidth": 0,
              "ticks": ""
             }
            },
            "marker": {
             "colorbar": {
              "outlinewidth": 0,
              "ticks": ""
             }
            },
            "type": "scatter3d"
           }
          ],
          "scattercarpet": [
           {
            "marker": {
             "colorbar": {
              "outlinewidth": 0,
              "ticks": ""
             }
            },
            "type": "scattercarpet"
           }
          ],
          "scattergeo": [
           {
            "marker": {
             "colorbar": {
              "outlinewidth": 0,
              "ticks": ""
             }
            },
            "type": "scattergeo"
           }
          ],
          "scattergl": [
           {
            "marker": {
             "colorbar": {
              "outlinewidth": 0,
              "ticks": ""
             }
            },
            "type": "scattergl"
           }
          ],
          "scattermap": [
           {
            "marker": {
             "colorbar": {
              "outlinewidth": 0,
              "ticks": ""
             }
            },
            "type": "scattermap"
           }
          ],
          "scattermapbox": [
           {
            "marker": {
             "colorbar": {
              "outlinewidth": 0,
              "ticks": ""
             }
            },
            "type": "scattermapbox"
           }
          ],
          "scatterpolar": [
           {
            "marker": {
             "colorbar": {
              "outlinewidth": 0,
              "ticks": ""
             }
            },
            "type": "scatterpolar"
           }
          ],
          "scatterpolargl": [
           {
            "marker": {
             "colorbar": {
              "outlinewidth": 0,
              "ticks": ""
             }
            },
            "type": "scatterpolargl"
           }
          ],
          "scatterternary": [
           {
            "marker": {
             "colorbar": {
              "outlinewidth": 0,
              "ticks": ""
             }
            },
            "type": "scatterternary"
           }
          ],
          "surface": [
           {
            "colorbar": {
             "outlinewidth": 0,
             "ticks": ""
            },
            "colorscale": [
             [
              0,
              "#0d0887"
             ],
             [
              0.1111111111111111,
              "#46039f"
             ],
             [
              0.2222222222222222,
              "#7201a8"
             ],
             [
              0.3333333333333333,
              "#9c179e"
             ],
             [
              0.4444444444444444,
              "#bd3786"
             ],
             [
              0.5555555555555556,
              "#d8576b"
             ],
             [
              0.6666666666666666,
              "#ed7953"
             ],
             [
              0.7777777777777778,
              "#fb9f3a"
             ],
             [
              0.8888888888888888,
              "#fdca26"
             ],
             [
              1,
              "#f0f921"
             ]
            ],
            "type": "surface"
           }
          ],
          "table": [
           {
            "cells": {
             "fill": {
              "color": "#EBF0F8"
             },
             "line": {
              "color": "white"
             }
            },
            "header": {
             "fill": {
              "color": "#C8D4E3"
             },
             "line": {
              "color": "white"
             }
            },
            "type": "table"
           }
          ]
         },
         "layout": {
          "annotationdefaults": {
           "arrowcolor": "#2a3f5f",
           "arrowhead": 0,
           "arrowwidth": 1
          },
          "autotypenumbers": "strict",
          "coloraxis": {
           "colorbar": {
            "outlinewidth": 0,
            "ticks": ""
           }
          },
          "colorscale": {
           "diverging": [
            [
             0,
             "#8e0152"
            ],
            [
             0.1,
             "#c51b7d"
            ],
            [
             0.2,
             "#de77ae"
            ],
            [
             0.3,
             "#f1b6da"
            ],
            [
             0.4,
             "#fde0ef"
            ],
            [
             0.5,
             "#f7f7f7"
            ],
            [
             0.6,
             "#e6f5d0"
            ],
            [
             0.7,
             "#b8e186"
            ],
            [
             0.8,
             "#7fbc41"
            ],
            [
             0.9,
             "#4d9221"
            ],
            [
             1,
             "#276419"
            ]
           ],
           "sequential": [
            [
             0,
             "#0d0887"
            ],
            [
             0.1111111111111111,
             "#46039f"
            ],
            [
             0.2222222222222222,
             "#7201a8"
            ],
            [
             0.3333333333333333,
             "#9c179e"
            ],
            [
             0.4444444444444444,
             "#bd3786"
            ],
            [
             0.5555555555555556,
             "#d8576b"
            ],
            [
             0.6666666666666666,
             "#ed7953"
            ],
            [
             0.7777777777777778,
             "#fb9f3a"
            ],
            [
             0.8888888888888888,
             "#fdca26"
            ],
            [
             1,
             "#f0f921"
            ]
           ],
           "sequentialminus": [
            [
             0,
             "#0d0887"
            ],
            [
             0.1111111111111111,
             "#46039f"
            ],
            [
             0.2222222222222222,
             "#7201a8"
            ],
            [
             0.3333333333333333,
             "#9c179e"
            ],
            [
             0.4444444444444444,
             "#bd3786"
            ],
            [
             0.5555555555555556,
             "#d8576b"
            ],
            [
             0.6666666666666666,
             "#ed7953"
            ],
            [
             0.7777777777777778,
             "#fb9f3a"
            ],
            [
             0.8888888888888888,
             "#fdca26"
            ],
            [
             1,
             "#f0f921"
            ]
           ]
          },
          "colorway": [
           "#636efa",
           "#EF553B",
           "#00cc96",
           "#ab63fa",
           "#FFA15A",
           "#19d3f3",
           "#FF6692",
           "#B6E880",
           "#FF97FF",
           "#FECB52"
          ],
          "font": {
           "color": "#2a3f5f"
          },
          "geo": {
           "bgcolor": "white",
           "lakecolor": "white",
           "landcolor": "white",
           "showlakes": true,
           "showland": true,
           "subunitcolor": "#C8D4E3"
          },
          "hoverlabel": {
           "align": "left"
          },
          "hovermode": "closest",
          "mapbox": {
           "style": "light"
          },
          "paper_bgcolor": "white",
          "plot_bgcolor": "white",
          "polar": {
           "angularaxis": {
            "gridcolor": "#EBF0F8",
            "linecolor": "#EBF0F8",
            "ticks": ""
           },
           "bgcolor": "white",
           "radialaxis": {
            "gridcolor": "#EBF0F8",
            "linecolor": "#EBF0F8",
            "ticks": ""
           }
          },
          "scene": {
           "xaxis": {
            "backgroundcolor": "white",
            "gridcolor": "#DFE8F3",
            "gridwidth": 2,
            "linecolor": "#EBF0F8",
            "showbackground": true,
            "ticks": "",
            "zerolinecolor": "#EBF0F8"
           },
           "yaxis": {
            "backgroundcolor": "white",
            "gridcolor": "#DFE8F3",
            "gridwidth": 2,
            "linecolor": "#EBF0F8",
            "showbackground": true,
            "ticks": "",
            "zerolinecolor": "#EBF0F8"
           },
           "zaxis": {
            "backgroundcolor": "white",
            "gridcolor": "#DFE8F3",
            "gridwidth": 2,
            "linecolor": "#EBF0F8",
            "showbackground": true,
            "ticks": "",
            "zerolinecolor": "#EBF0F8"
           }
          },
          "shapedefaults": {
           "line": {
            "color": "#2a3f5f"
           }
          },
          "ternary": {
           "aaxis": {
            "gridcolor": "#DFE8F3",
            "linecolor": "#A2B1C6",
            "ticks": ""
           },
           "baxis": {
            "gridcolor": "#DFE8F3",
            "linecolor": "#A2B1C6",
            "ticks": ""
           },
           "bgcolor": "white",
           "caxis": {
            "gridcolor": "#DFE8F3",
            "linecolor": "#A2B1C6",
            "ticks": ""
           }
          },
          "title": {
           "x": 0.05
          },
          "xaxis": {
           "automargin": true,
           "gridcolor": "#EBF0F8",
           "linecolor": "#EBF0F8",
           "ticks": "",
           "title": {
            "standoff": 15
           },
           "zerolinecolor": "#EBF0F8",
           "zerolinewidth": 2
          },
          "yaxis": {
           "automargin": true,
           "gridcolor": "#EBF0F8",
           "linecolor": "#EBF0F8",
           "ticks": "",
           "title": {
            "standoff": 15
           },
           "zerolinecolor": "#EBF0F8",
           "zerolinewidth": 2
          }
         }
        },
        "title": {
         "font": {
          "color": "#2E2E2E",
          "size": 16
         },
         "text": "Model Performance on Document: CRISTIAN CATALIN UNGUREANU v. ROMANIA<br><span style='font-size:14px'>Best Model: gemma3:12b (F1: 0.405)</span>",
         "x": 0.5
        },
        "width": 800,
        "xaxis": {
         "range": [
          0,
          1
         ],
         "tickfont": {
          "size": 12
         },
         "title": {
          "text": "Score"
         }
        },
        "yaxis": {
         "tickfont": {
          "size": 12
         },
         "title": {
          "text": "Models"
         }
        }
       }
      }
     },
     "metadata": {},
     "output_type": "display_data"
    },
    {
     "data": {
      "application/vnd.plotly.v1+json": {
       "config": {
        "plotlyServerURL": "https://plot.ly"
       },
       "data": [
        {
         "marker": {
          "color": "#FF6B6B"
         },
         "name": "Precision",
         "offsetgroup": "0",
         "orientation": "h",
         "text": {
          "bdata": "AAAAAAAAAAAAAAAAAAAAAAAAAAAAAPA/qvHSTWIQyD9MN4lBYOXYP5HtfD81XuI/RIts5/up5T9OYhBYObTgPw==",
          "dtype": "f8"
         },
         "textposition": "auto",
         "type": "bar",
         "width": 0.25,
         "x": {
          "bdata": "AAAAAAAAAAAAAAAAAAAAAAAAAAAAAPA/AAAAAAAAyD85juM4juPYP7CONu9TXOI/rbXWWmut5T/TUwsrPbXgPw==",
          "dtype": "f8"
         },
         "y": [
          "mistral:latest",
          "gemma3:1b",
          "gemma3:1b",
          "gemma3:4b",
          "gemma3:12b",
          "gemma3:4b",
          "gemma3:12b",
          "mistral:latest"
         ]
        },
        {
         "marker": {
          "color": "#4ECDC4"
         },
         "name": "Recall",
         "offsetgroup": "1",
         "orientation": "h",
         "text": {
          "bdata": "AAAAAAAAAAAAAAAAAAAAAPp+arx0k4g/O99PjZdukj/LoUW28/2kP5HtfD81Xso/BFYOLbKdzz9oke18PzXWPw==",
          "dtype": "f8"
         },
         "textposition": "auto",
         "type": "bar",
         "width": 0.25,
         "x": {
          "bdata": "AAAAAAAAAAAAAAAAAAAAABgYGBgYGIg/EhISEhISkj8VFRUVFRWlP1paWlpaWso/oJ+fn5+fzz82NjY2NjbWPw==",
          "dtype": "f8"
         },
         "y": [
          "mistral:latest",
          "gemma3:1b",
          "gemma3:1b",
          "gemma3:4b",
          "gemma3:12b",
          "gemma3:4b",
          "gemma3:12b",
          "mistral:latest"
         ]
        },
        {
         "marker": {
          "color": "#45B7D1"
         },
         "name": "F1-Score",
         "offsetgroup": "2",
         "orientation": "h",
         "text": {
          "bdata": "AAAAAAAAAAAAAAAAAAAAAFpkO99PjZc//Knx0k1ioD+LbOf7qfGyPzEIrBxaZNM/XrpJDAIr1z/jpZvEILDaPw==",
          "dtype": "f8"
         },
         "textposition": "auto",
         "type": "bar",
         "width": 0.25,
         "x": {
          "bdata": "AAAAAAAAAAAAAAAAAAAAAPQFfUFf0Jc/hBBCCCGEoD9LriAmVxCzP2WTTTbZZNM/NcJyTyMs1z/LYA+9fa/aPw==",
          "dtype": "f8"
         },
         "y": [
          "mistral:latest",
          "gemma3:1b",
          "gemma3:1b",
          "gemma3:4b",
          "gemma3:12b",
          "gemma3:4b",
          "gemma3:12b",
          "mistral:latest"
         ]
        }
       ],
       "layout": {
        "barmode": "group",
        "height": 320,
        "legend": {
         "orientation": "h",
         "x": 1,
         "xanchor": "right",
         "y": 1.02,
         "yanchor": "bottom"
        },
        "showlegend": true,
        "template": {
         "data": {
          "bar": [
           {
            "error_x": {
             "color": "#2a3f5f"
            },
            "error_y": {
             "color": "#2a3f5f"
            },
            "marker": {
             "line": {
              "color": "white",
              "width": 0.5
             },
             "pattern": {
              "fillmode": "overlay",
              "size": 10,
              "solidity": 0.2
             }
            },
            "type": "bar"
           }
          ],
          "barpolar": [
           {
            "marker": {
             "line": {
              "color": "white",
              "width": 0.5
             },
             "pattern": {
              "fillmode": "overlay",
              "size": 10,
              "solidity": 0.2
             }
            },
            "type": "barpolar"
           }
          ],
          "carpet": [
           {
            "aaxis": {
             "endlinecolor": "#2a3f5f",
             "gridcolor": "#C8D4E3",
             "linecolor": "#C8D4E3",
             "minorgridcolor": "#C8D4E3",
             "startlinecolor": "#2a3f5f"
            },
            "baxis": {
             "endlinecolor": "#2a3f5f",
             "gridcolor": "#C8D4E3",
             "linecolor": "#C8D4E3",
             "minorgridcolor": "#C8D4E3",
             "startlinecolor": "#2a3f5f"
            },
            "type": "carpet"
           }
          ],
          "choropleth": [
           {
            "colorbar": {
             "outlinewidth": 0,
             "ticks": ""
            },
            "type": "choropleth"
           }
          ],
          "contour": [
           {
            "colorbar": {
             "outlinewidth": 0,
             "ticks": ""
            },
            "colorscale": [
             [
              0,
              "#0d0887"
             ],
             [
              0.1111111111111111,
              "#46039f"
             ],
             [
              0.2222222222222222,
              "#7201a8"
             ],
             [
              0.3333333333333333,
              "#9c179e"
             ],
             [
              0.4444444444444444,
              "#bd3786"
             ],
             [
              0.5555555555555556,
              "#d8576b"
             ],
             [
              0.6666666666666666,
              "#ed7953"
             ],
             [
              0.7777777777777778,
              "#fb9f3a"
             ],
             [
              0.8888888888888888,
              "#fdca26"
             ],
             [
              1,
              "#f0f921"
             ]
            ],
            "type": "contour"
           }
          ],
          "contourcarpet": [
           {
            "colorbar": {
             "outlinewidth": 0,
             "ticks": ""
            },
            "type": "contourcarpet"
           }
          ],
          "heatmap": [
           {
            "colorbar": {
             "outlinewidth": 0,
             "ticks": ""
            },
            "colorscale": [
             [
              0,
              "#0d0887"
             ],
             [
              0.1111111111111111,
              "#46039f"
             ],
             [
              0.2222222222222222,
              "#7201a8"
             ],
             [
              0.3333333333333333,
              "#9c179e"
             ],
             [
              0.4444444444444444,
              "#bd3786"
             ],
             [
              0.5555555555555556,
              "#d8576b"
             ],
             [
              0.6666666666666666,
              "#ed7953"
             ],
             [
              0.7777777777777778,
              "#fb9f3a"
             ],
             [
              0.8888888888888888,
              "#fdca26"
             ],
             [
              1,
              "#f0f921"
             ]
            ],
            "type": "heatmap"
           }
          ],
          "histogram": [
           {
            "marker": {
             "pattern": {
              "fillmode": "overlay",
              "size": 10,
              "solidity": 0.2
             }
            },
            "type": "histogram"
           }
          ],
          "histogram2d": [
           {
            "colorbar": {
             "outlinewidth": 0,
             "ticks": ""
            },
            "colorscale": [
             [
              0,
              "#0d0887"
             ],
             [
              0.1111111111111111,
              "#46039f"
             ],
             [
              0.2222222222222222,
              "#7201a8"
             ],
             [
              0.3333333333333333,
              "#9c179e"
             ],
             [
              0.4444444444444444,
              "#bd3786"
             ],
             [
              0.5555555555555556,
              "#d8576b"
             ],
             [
              0.6666666666666666,
              "#ed7953"
             ],
             [
              0.7777777777777778,
              "#fb9f3a"
             ],
             [
              0.8888888888888888,
              "#fdca26"
             ],
             [
              1,
              "#f0f921"
             ]
            ],
            "type": "histogram2d"
           }
          ],
          "histogram2dcontour": [
           {
            "colorbar": {
             "outlinewidth": 0,
             "ticks": ""
            },
            "colorscale": [
             [
              0,
              "#0d0887"
             ],
             [
              0.1111111111111111,
              "#46039f"
             ],
             [
              0.2222222222222222,
              "#7201a8"
             ],
             [
              0.3333333333333333,
              "#9c179e"
             ],
             [
              0.4444444444444444,
              "#bd3786"
             ],
             [
              0.5555555555555556,
              "#d8576b"
             ],
             [
              0.6666666666666666,
              "#ed7953"
             ],
             [
              0.7777777777777778,
              "#fb9f3a"
             ],
             [
              0.8888888888888888,
              "#fdca26"
             ],
             [
              1,
              "#f0f921"
             ]
            ],
            "type": "histogram2dcontour"
           }
          ],
          "mesh3d": [
           {
            "colorbar": {
             "outlinewidth": 0,
             "ticks": ""
            },
            "type": "mesh3d"
           }
          ],
          "parcoords": [
           {
            "line": {
             "colorbar": {
              "outlinewidth": 0,
              "ticks": ""
             }
            },
            "type": "parcoords"
           }
          ],
          "pie": [
           {
            "automargin": true,
            "type": "pie"
           }
          ],
          "scatter": [
           {
            "fillpattern": {
             "fillmode": "overlay",
             "size": 10,
             "solidity": 0.2
            },
            "type": "scatter"
           }
          ],
          "scatter3d": [
           {
            "line": {
             "colorbar": {
              "outlinewidth": 0,
              "ticks": ""
             }
            },
            "marker": {
             "colorbar": {
              "outlinewidth": 0,
              "ticks": ""
             }
            },
            "type": "scatter3d"
           }
          ],
          "scattercarpet": [
           {
            "marker": {
             "colorbar": {
              "outlinewidth": 0,
              "ticks": ""
             }
            },
            "type": "scattercarpet"
           }
          ],
          "scattergeo": [
           {
            "marker": {
             "colorbar": {
              "outlinewidth": 0,
              "ticks": ""
             }
            },
            "type": "scattergeo"
           }
          ],
          "scattergl": [
           {
            "marker": {
             "colorbar": {
              "outlinewidth": 0,
              "ticks": ""
             }
            },
            "type": "scattergl"
           }
          ],
          "scattermap": [
           {
            "marker": {
             "colorbar": {
              "outlinewidth": 0,
              "ticks": ""
             }
            },
            "type": "scattermap"
           }
          ],
          "scattermapbox": [
           {
            "marker": {
             "colorbar": {
              "outlinewidth": 0,
              "ticks": ""
             }
            },
            "type": "scattermapbox"
           }
          ],
          "scatterpolar": [
           {
            "marker": {
             "colorbar": {
              "outlinewidth": 0,
              "ticks": ""
             }
            },
            "type": "scatterpolar"
           }
          ],
          "scatterpolargl": [
           {
            "marker": {
             "colorbar": {
              "outlinewidth": 0,
              "ticks": ""
             }
            },
            "type": "scatterpolargl"
           }
          ],
          "scatterternary": [
           {
            "marker": {
             "colorbar": {
              "outlinewidth": 0,
              "ticks": ""
             }
            },
            "type": "scatterternary"
           }
          ],
          "surface": [
           {
            "colorbar": {
             "outlinewidth": 0,
             "ticks": ""
            },
            "colorscale": [
             [
              0,
              "#0d0887"
             ],
             [
              0.1111111111111111,
              "#46039f"
             ],
             [
              0.2222222222222222,
              "#7201a8"
             ],
             [
              0.3333333333333333,
              "#9c179e"
             ],
             [
              0.4444444444444444,
              "#bd3786"
             ],
             [
              0.5555555555555556,
              "#d8576b"
             ],
             [
              0.6666666666666666,
              "#ed7953"
             ],
             [
              0.7777777777777778,
              "#fb9f3a"
             ],
             [
              0.8888888888888888,
              "#fdca26"
             ],
             [
              1,
              "#f0f921"
             ]
            ],
            "type": "surface"
           }
          ],
          "table": [
           {
            "cells": {
             "fill": {
              "color": "#EBF0F8"
             },
             "line": {
              "color": "white"
             }
            },
            "header": {
             "fill": {
              "color": "#C8D4E3"
             },
             "line": {
              "color": "white"
             }
            },
            "type": "table"
           }
          ]
         },
         "layout": {
          "annotationdefaults": {
           "arrowcolor": "#2a3f5f",
           "arrowhead": 0,
           "arrowwidth": 1
          },
          "autotypenumbers": "strict",
          "coloraxis": {
           "colorbar": {
            "outlinewidth": 0,
            "ticks": ""
           }
          },
          "colorscale": {
           "diverging": [
            [
             0,
             "#8e0152"
            ],
            [
             0.1,
             "#c51b7d"
            ],
            [
             0.2,
             "#de77ae"
            ],
            [
             0.3,
             "#f1b6da"
            ],
            [
             0.4,
             "#fde0ef"
            ],
            [
             0.5,
             "#f7f7f7"
            ],
            [
             0.6,
             "#e6f5d0"
            ],
            [
             0.7,
             "#b8e186"
            ],
            [
             0.8,
             "#7fbc41"
            ],
            [
             0.9,
             "#4d9221"
            ],
            [
             1,
             "#276419"
            ]
           ],
           "sequential": [
            [
             0,
             "#0d0887"
            ],
            [
             0.1111111111111111,
             "#46039f"
            ],
            [
             0.2222222222222222,
             "#7201a8"
            ],
            [
             0.3333333333333333,
             "#9c179e"
            ],
            [
             0.4444444444444444,
             "#bd3786"
            ],
            [
             0.5555555555555556,
             "#d8576b"
            ],
            [
             0.6666666666666666,
             "#ed7953"
            ],
            [
             0.7777777777777778,
             "#fb9f3a"
            ],
            [
             0.8888888888888888,
             "#fdca26"
            ],
            [
             1,
             "#f0f921"
            ]
           ],
           "sequentialminus": [
            [
             0,
             "#0d0887"
            ],
            [
             0.1111111111111111,
             "#46039f"
            ],
            [
             0.2222222222222222,
             "#7201a8"
            ],
            [
             0.3333333333333333,
             "#9c179e"
            ],
            [
             0.4444444444444444,
             "#bd3786"
            ],
            [
             0.5555555555555556,
             "#d8576b"
            ],
            [
             0.6666666666666666,
             "#ed7953"
            ],
            [
             0.7777777777777778,
             "#fb9f3a"
            ],
            [
             0.8888888888888888,
             "#fdca26"
            ],
            [
             1,
             "#f0f921"
            ]
           ]
          },
          "colorway": [
           "#636efa",
           "#EF553B",
           "#00cc96",
           "#ab63fa",
           "#FFA15A",
           "#19d3f3",
           "#FF6692",
           "#B6E880",
           "#FF97FF",
           "#FECB52"
          ],
          "font": {
           "color": "#2a3f5f"
          },
          "geo": {
           "bgcolor": "white",
           "lakecolor": "white",
           "landcolor": "white",
           "showlakes": true,
           "showland": true,
           "subunitcolor": "#C8D4E3"
          },
          "hoverlabel": {
           "align": "left"
          },
          "hovermode": "closest",
          "mapbox": {
           "style": "light"
          },
          "paper_bgcolor": "white",
          "plot_bgcolor": "white",
          "polar": {
           "angularaxis": {
            "gridcolor": "#EBF0F8",
            "linecolor": "#EBF0F8",
            "ticks": ""
           },
           "bgcolor": "white",
           "radialaxis": {
            "gridcolor": "#EBF0F8",
            "linecolor": "#EBF0F8",
            "ticks": ""
           }
          },
          "scene": {
           "xaxis": {
            "backgroundcolor": "white",
            "gridcolor": "#DFE8F3",
            "gridwidth": 2,
            "linecolor": "#EBF0F8",
            "showbackground": true,
            "ticks": "",
            "zerolinecolor": "#EBF0F8"
           },
           "yaxis": {
            "backgroundcolor": "white",
            "gridcolor": "#DFE8F3",
            "gridwidth": 2,
            "linecolor": "#EBF0F8",
            "showbackground": true,
            "ticks": "",
            "zerolinecolor": "#EBF0F8"
           },
           "zaxis": {
            "backgroundcolor": "white",
            "gridcolor": "#DFE8F3",
            "gridwidth": 2,
            "linecolor": "#EBF0F8",
            "showbackground": true,
            "ticks": "",
            "zerolinecolor": "#EBF0F8"
           }
          },
          "shapedefaults": {
           "line": {
            "color": "#2a3f5f"
           }
          },
          "ternary": {
           "aaxis": {
            "gridcolor": "#DFE8F3",
            "linecolor": "#A2B1C6",
            "ticks": ""
           },
           "baxis": {
            "gridcolor": "#DFE8F3",
            "linecolor": "#A2B1C6",
            "ticks": ""
           },
           "bgcolor": "white",
           "caxis": {
            "gridcolor": "#DFE8F3",
            "linecolor": "#A2B1C6",
            "ticks": ""
           }
          },
          "title": {
           "x": 0.05
          },
          "xaxis": {
           "automargin": true,
           "gridcolor": "#EBF0F8",
           "linecolor": "#EBF0F8",
           "ticks": "",
           "title": {
            "standoff": 15
           },
           "zerolinecolor": "#EBF0F8",
           "zerolinewidth": 2
          },
          "yaxis": {
           "automargin": true,
           "gridcolor": "#EBF0F8",
           "linecolor": "#EBF0F8",
           "ticks": "",
           "title": {
            "standoff": 15
           },
           "zerolinecolor": "#EBF0F8",
           "zerolinewidth": 2
          }
         }
        },
        "title": {
         "font": {
          "color": "#2E2E2E",
          "size": 16
         },
         "text": "Model Performance on Document: MURUZHEVA v. RUSSIA<br><span style='font-size:14px'>Best Model: mistral:latest (F1: 0.417)</span>",
         "x": 0.5
        },
        "width": 800,
        "xaxis": {
         "range": [
          0,
          1
         ],
         "tickfont": {
          "size": 12
         },
         "title": {
          "text": "Score"
         }
        },
        "yaxis": {
         "tickfont": {
          "size": 12
         },
         "title": {
          "text": "Models"
         }
        }
       }
      }
     },
     "metadata": {},
     "output_type": "display_data"
    },
    {
     "data": {
      "application/vnd.plotly.v1+json": {
       "config": {
        "plotlyServerURL": "https://plot.ly"
       },
       "data": [
        {
         "marker": {
          "color": "#FF6B6B"
         },
         "name": "Precision",
         "offsetgroup": "0",
         "orientation": "h",
         "text": {
          "bdata": "46WbxCCw0j/VeOkmMQjcP/p+arx0k8g/g8DKoUW2wz8v3SQGgZXTPw4tsp3vp+I/EFg5tMh24j9eukkMAivfPw==",
          "dtype": "f8"
         },
         "textposition": "auto",
         "type": "bar",
         "width": 0.25,
         "x": {
          "bdata": "q6qqqqqq0j8AAAAAAADcP9mJndiJncg/FDuxEzuxwz/mFLycgpfTP6uqqqqqquI/Yid2Yid24j/f8i3f8i3fPw==",
          "dtype": "f8"
         },
         "y": [
          "gemma3:1b",
          "mistral:latest",
          "gemma3:4b",
          "gemma3:12b",
          "gemma3:1b",
          "gemma3:12b",
          "gemma3:4b",
          "mistral:latest"
         ]
        },
        {
         "marker": {
          "color": "#4ECDC4"
         },
         "name": "Recall",
         "offsetgroup": "1",
         "orientation": "h",
         "text": {
          "bdata": "+n5qvHSTuD/6fmq8dJO4P/Cnxks3icE/+n5qvHSTyD89CtejcD3KP/p+arx0k9g/5/up8dJN2j956SYxCKzgPw==",
          "dtype": "f8"
         },
         "textposition": "auto",
         "type": "bar",
         "width": 0.25,
         "x": {
          "bdata": "xIgRI0aMuD/EiBEjRoy4P4wYMWLEiME/xIgRI0aMyD/SpEmTJk3KP8SIESNGjNg/0qRJkyZN2j+FChUqVKjgPw==",
          "dtype": "f8"
         },
         "y": [
          "gemma3:1b",
          "mistral:latest",
          "gemma3:4b",
          "gemma3:12b",
          "gemma3:1b",
          "gemma3:12b",
          "gemma3:4b",
          "mistral:latest"
         ]
        },
        {
         "marker": {
          "color": "#45B7D1"
         },
         "name": "F1-Score",
         "offsetgroup": "2",
         "orientation": "h",
         "text": {
          "bdata": "O99PjZduwj9/arx0kxjEP3sUrkfhesQ/F9nO91PjxT+wcmiR7XzPP28Sg8DKod0/uB6F61G43j9/arx0kxjgPw==",
          "dtype": "f8"
         },
         "textposition": "auto",
         "type": "bar",
         "width": 0.25,
         "x": {
          "bdata": "E5mG7WZ5wj9DEYpQhCLEP3wUrkfhesQ/25WoXYnaxT8uGYJ1tHnPP/yR03ytnt0/uB6F61G43j+AbEA2IBvgPw==",
          "dtype": "f8"
         },
         "y": [
          "gemma3:1b",
          "mistral:latest",
          "gemma3:4b",
          "gemma3:12b",
          "gemma3:1b",
          "gemma3:12b",
          "gemma3:4b",
          "mistral:latest"
         ]
        }
       ],
       "layout": {
        "barmode": "group",
        "height": 320,
        "legend": {
         "orientation": "h",
         "x": 1,
         "xanchor": "right",
         "y": 1.02,
         "yanchor": "bottom"
        },
        "showlegend": true,
        "template": {
         "data": {
          "bar": [
           {
            "error_x": {
             "color": "#2a3f5f"
            },
            "error_y": {
             "color": "#2a3f5f"
            },
            "marker": {
             "line": {
              "color": "white",
              "width": 0.5
             },
             "pattern": {
              "fillmode": "overlay",
              "size": 10,
              "solidity": 0.2
             }
            },
            "type": "bar"
           }
          ],
          "barpolar": [
           {
            "marker": {
             "line": {
              "color": "white",
              "width": 0.5
             },
             "pattern": {
              "fillmode": "overlay",
              "size": 10,
              "solidity": 0.2
             }
            },
            "type": "barpolar"
           }
          ],
          "carpet": [
           {
            "aaxis": {
             "endlinecolor": "#2a3f5f",
             "gridcolor": "#C8D4E3",
             "linecolor": "#C8D4E3",
             "minorgridcolor": "#C8D4E3",
             "startlinecolor": "#2a3f5f"
            },
            "baxis": {
             "endlinecolor": "#2a3f5f",
             "gridcolor": "#C8D4E3",
             "linecolor": "#C8D4E3",
             "minorgridcolor": "#C8D4E3",
             "startlinecolor": "#2a3f5f"
            },
            "type": "carpet"
           }
          ],
          "choropleth": [
           {
            "colorbar": {
             "outlinewidth": 0,
             "ticks": ""
            },
            "type": "choropleth"
           }
          ],
          "contour": [
           {
            "colorbar": {
             "outlinewidth": 0,
             "ticks": ""
            },
            "colorscale": [
             [
              0,
              "#0d0887"
             ],
             [
              0.1111111111111111,
              "#46039f"
             ],
             [
              0.2222222222222222,
              "#7201a8"
             ],
             [
              0.3333333333333333,
              "#9c179e"
             ],
             [
              0.4444444444444444,
              "#bd3786"
             ],
             [
              0.5555555555555556,
              "#d8576b"
             ],
             [
              0.6666666666666666,
              "#ed7953"
             ],
             [
              0.7777777777777778,
              "#fb9f3a"
             ],
             [
              0.8888888888888888,
              "#fdca26"
             ],
             [
              1,
              "#f0f921"
             ]
            ],
            "type": "contour"
           }
          ],
          "contourcarpet": [
           {
            "colorbar": {
             "outlinewidth": 0,
             "ticks": ""
            },
            "type": "contourcarpet"
           }
          ],
          "heatmap": [
           {
            "colorbar": {
             "outlinewidth": 0,
             "ticks": ""
            },
            "colorscale": [
             [
              0,
              "#0d0887"
             ],
             [
              0.1111111111111111,
              "#46039f"
             ],
             [
              0.2222222222222222,
              "#7201a8"
             ],
             [
              0.3333333333333333,
              "#9c179e"
             ],
             [
              0.4444444444444444,
              "#bd3786"
             ],
             [
              0.5555555555555556,
              "#d8576b"
             ],
             [
              0.6666666666666666,
              "#ed7953"
             ],
             [
              0.7777777777777778,
              "#fb9f3a"
             ],
             [
              0.8888888888888888,
              "#fdca26"
             ],
             [
              1,
              "#f0f921"
             ]
            ],
            "type": "heatmap"
           }
          ],
          "histogram": [
           {
            "marker": {
             "pattern": {
              "fillmode": "overlay",
              "size": 10,
              "solidity": 0.2
             }
            },
            "type": "histogram"
           }
          ],
          "histogram2d": [
           {
            "colorbar": {
             "outlinewidth": 0,
             "ticks": ""
            },
            "colorscale": [
             [
              0,
              "#0d0887"
             ],
             [
              0.1111111111111111,
              "#46039f"
             ],
             [
              0.2222222222222222,
              "#7201a8"
             ],
             [
              0.3333333333333333,
              "#9c179e"
             ],
             [
              0.4444444444444444,
              "#bd3786"
             ],
             [
              0.5555555555555556,
              "#d8576b"
             ],
             [
              0.6666666666666666,
              "#ed7953"
             ],
             [
              0.7777777777777778,
              "#fb9f3a"
             ],
             [
              0.8888888888888888,
              "#fdca26"
             ],
             [
              1,
              "#f0f921"
             ]
            ],
            "type": "histogram2d"
           }
          ],
          "histogram2dcontour": [
           {
            "colorbar": {
             "outlinewidth": 0,
             "ticks": ""
            },
            "colorscale": [
             [
              0,
              "#0d0887"
             ],
             [
              0.1111111111111111,
              "#46039f"
             ],
             [
              0.2222222222222222,
              "#7201a8"
             ],
             [
              0.3333333333333333,
              "#9c179e"
             ],
             [
              0.4444444444444444,
              "#bd3786"
             ],
             [
              0.5555555555555556,
              "#d8576b"
             ],
             [
              0.6666666666666666,
              "#ed7953"
             ],
             [
              0.7777777777777778,
              "#fb9f3a"
             ],
             [
              0.8888888888888888,
              "#fdca26"
             ],
             [
              1,
              "#f0f921"
             ]
            ],
            "type": "histogram2dcontour"
           }
          ],
          "mesh3d": [
           {
            "colorbar": {
             "outlinewidth": 0,
             "ticks": ""
            },
            "type": "mesh3d"
           }
          ],
          "parcoords": [
           {
            "line": {
             "colorbar": {
              "outlinewidth": 0,
              "ticks": ""
             }
            },
            "type": "parcoords"
           }
          ],
          "pie": [
           {
            "automargin": true,
            "type": "pie"
           }
          ],
          "scatter": [
           {
            "fillpattern": {
             "fillmode": "overlay",
             "size": 10,
             "solidity": 0.2
            },
            "type": "scatter"
           }
          ],
          "scatter3d": [
           {
            "line": {
             "colorbar": {
              "outlinewidth": 0,
              "ticks": ""
             }
            },
            "marker": {
             "colorbar": {
              "outlinewidth": 0,
              "ticks": ""
             }
            },
            "type": "scatter3d"
           }
          ],
          "scattercarpet": [
           {
            "marker": {
             "colorbar": {
              "outlinewidth": 0,
              "ticks": ""
             }
            },
            "type": "scattercarpet"
           }
          ],
          "scattergeo": [
           {
            "marker": {
             "colorbar": {
              "outlinewidth": 0,
              "ticks": ""
             }
            },
            "type": "scattergeo"
           }
          ],
          "scattergl": [
           {
            "marker": {
             "colorbar": {
              "outlinewidth": 0,
              "ticks": ""
             }
            },
            "type": "scattergl"
           }
          ],
          "scattermap": [
           {
            "marker": {
             "colorbar": {
              "outlinewidth": 0,
              "ticks": ""
             }
            },
            "type": "scattermap"
           }
          ],
          "scattermapbox": [
           {
            "marker": {
             "colorbar": {
              "outlinewidth": 0,
              "ticks": ""
             }
            },
            "type": "scattermapbox"
           }
          ],
          "scatterpolar": [
           {
            "marker": {
             "colorbar": {
              "outlinewidth": 0,
              "ticks": ""
             }
            },
            "type": "scatterpolar"
           }
          ],
          "scatterpolargl": [
           {
            "marker": {
             "colorbar": {
              "outlinewidth": 0,
              "ticks": ""
             }
            },
            "type": "scatterpolargl"
           }
          ],
          "scatterternary": [
           {
            "marker": {
             "colorbar": {
              "outlinewidth": 0,
              "ticks": ""
             }
            },
            "type": "scatterternary"
           }
          ],
          "surface": [
           {
            "colorbar": {
             "outlinewidth": 0,
             "ticks": ""
            },
            "colorscale": [
             [
              0,
              "#0d0887"
             ],
             [
              0.1111111111111111,
              "#46039f"
             ],
             [
              0.2222222222222222,
              "#7201a8"
             ],
             [
              0.3333333333333333,
              "#9c179e"
             ],
             [
              0.4444444444444444,
              "#bd3786"
             ],
             [
              0.5555555555555556,
              "#d8576b"
             ],
             [
              0.6666666666666666,
              "#ed7953"
             ],
             [
              0.7777777777777778,
              "#fb9f3a"
             ],
             [
              0.8888888888888888,
              "#fdca26"
             ],
             [
              1,
              "#f0f921"
             ]
            ],
            "type": "surface"
           }
          ],
          "table": [
           {
            "cells": {
             "fill": {
              "color": "#EBF0F8"
             },
             "line": {
              "color": "white"
             }
            },
            "header": {
             "fill": {
              "color": "#C8D4E3"
             },
             "line": {
              "color": "white"
             }
            },
            "type": "table"
           }
          ]
         },
         "layout": {
          "annotationdefaults": {
           "arrowcolor": "#2a3f5f",
           "arrowhead": 0,
           "arrowwidth": 1
          },
          "autotypenumbers": "strict",
          "coloraxis": {
           "colorbar": {
            "outlinewidth": 0,
            "ticks": ""
           }
          },
          "colorscale": {
           "diverging": [
            [
             0,
             "#8e0152"
            ],
            [
             0.1,
             "#c51b7d"
            ],
            [
             0.2,
             "#de77ae"
            ],
            [
             0.3,
             "#f1b6da"
            ],
            [
             0.4,
             "#fde0ef"
            ],
            [
             0.5,
             "#f7f7f7"
            ],
            [
             0.6,
             "#e6f5d0"
            ],
            [
             0.7,
             "#b8e186"
            ],
            [
             0.8,
             "#7fbc41"
            ],
            [
             0.9,
             "#4d9221"
            ],
            [
             1,
             "#276419"
            ]
           ],
           "sequential": [
            [
             0,
             "#0d0887"
            ],
            [
             0.1111111111111111,
             "#46039f"
            ],
            [
             0.2222222222222222,
             "#7201a8"
            ],
            [
             0.3333333333333333,
             "#9c179e"
            ],
            [
             0.4444444444444444,
             "#bd3786"
            ],
            [
             0.5555555555555556,
             "#d8576b"
            ],
            [
             0.6666666666666666,
             "#ed7953"
            ],
            [
             0.7777777777777778,
             "#fb9f3a"
            ],
            [
             0.8888888888888888,
             "#fdca26"
            ],
            [
             1,
             "#f0f921"
            ]
           ],
           "sequentialminus": [
            [
             0,
             "#0d0887"
            ],
            [
             0.1111111111111111,
             "#46039f"
            ],
            [
             0.2222222222222222,
             "#7201a8"
            ],
            [
             0.3333333333333333,
             "#9c179e"
            ],
            [
             0.4444444444444444,
             "#bd3786"
            ],
            [
             0.5555555555555556,
             "#d8576b"
            ],
            [
             0.6666666666666666,
             "#ed7953"
            ],
            [
             0.7777777777777778,
             "#fb9f3a"
            ],
            [
             0.8888888888888888,
             "#fdca26"
            ],
            [
             1,
             "#f0f921"
            ]
           ]
          },
          "colorway": [
           "#636efa",
           "#EF553B",
           "#00cc96",
           "#ab63fa",
           "#FFA15A",
           "#19d3f3",
           "#FF6692",
           "#B6E880",
           "#FF97FF",
           "#FECB52"
          ],
          "font": {
           "color": "#2a3f5f"
          },
          "geo": {
           "bgcolor": "white",
           "lakecolor": "white",
           "landcolor": "white",
           "showlakes": true,
           "showland": true,
           "subunitcolor": "#C8D4E3"
          },
          "hoverlabel": {
           "align": "left"
          },
          "hovermode": "closest",
          "mapbox": {
           "style": "light"
          },
          "paper_bgcolor": "white",
          "plot_bgcolor": "white",
          "polar": {
           "angularaxis": {
            "gridcolor": "#EBF0F8",
            "linecolor": "#EBF0F8",
            "ticks": ""
           },
           "bgcolor": "white",
           "radialaxis": {
            "gridcolor": "#EBF0F8",
            "linecolor": "#EBF0F8",
            "ticks": ""
           }
          },
          "scene": {
           "xaxis": {
            "backgroundcolor": "white",
            "gridcolor": "#DFE8F3",
            "gridwidth": 2,
            "linecolor": "#EBF0F8",
            "showbackground": true,
            "ticks": "",
            "zerolinecolor": "#EBF0F8"
           },
           "yaxis": {
            "backgroundcolor": "white",
            "gridcolor": "#DFE8F3",
            "gridwidth": 2,
            "linecolor": "#EBF0F8",
            "showbackground": true,
            "ticks": "",
            "zerolinecolor": "#EBF0F8"
           },
           "zaxis": {
            "backgroundcolor": "white",
            "gridcolor": "#DFE8F3",
            "gridwidth": 2,
            "linecolor": "#EBF0F8",
            "showbackground": true,
            "ticks": "",
            "zerolinecolor": "#EBF0F8"
           }
          },
          "shapedefaults": {
           "line": {
            "color": "#2a3f5f"
           }
          },
          "ternary": {
           "aaxis": {
            "gridcolor": "#DFE8F3",
            "linecolor": "#A2B1C6",
            "ticks": ""
           },
           "baxis": {
            "gridcolor": "#DFE8F3",
            "linecolor": "#A2B1C6",
            "ticks": ""
           },
           "bgcolor": "white",
           "caxis": {
            "gridcolor": "#DFE8F3",
            "linecolor": "#A2B1C6",
            "ticks": ""
           }
          },
          "title": {
           "x": 0.05
          },
          "xaxis": {
           "automargin": true,
           "gridcolor": "#EBF0F8",
           "linecolor": "#EBF0F8",
           "ticks": "",
           "title": {
            "standoff": 15
           },
           "zerolinecolor": "#EBF0F8",
           "zerolinewidth": 2
          },
          "yaxis": {
           "automargin": true,
           "gridcolor": "#EBF0F8",
           "linecolor": "#EBF0F8",
           "ticks": "",
           "title": {
            "standoff": 15
           },
           "zerolinecolor": "#EBF0F8",
           "zerolinewidth": 2
          }
         }
        },
        "title": {
         "font": {
          "color": "#2E2E2E",
          "size": 16
         },
         "text": "Model Performance on Document: LOZOVYYE v. RUSSIA<br><span style='font-size:14px'>Best Model: mistral:latest (F1: 0.503)</span>",
         "x": 0.5
        },
        "width": 800,
        "xaxis": {
         "range": [
          0,
          1
         ],
         "tickfont": {
          "size": 12
         },
         "title": {
          "text": "Score"
         }
        },
        "yaxis": {
         "tickfont": {
          "size": 12
         },
         "title": {
          "text": "Models"
         }
        }
       }
      }
     },
     "metadata": {},
     "output_type": "display_data"
    },
    {
     "data": {
      "application/vnd.plotly.v1+json": {
       "config": {
        "plotlyServerURL": "https://plot.ly"
       },
       "data": [
        {
         "marker": {
          "color": "#FF6B6B"
         },
         "name": "Precision",
         "offsetgroup": "0",
         "orientation": "h",
         "text": {
          "bdata": "AAAAAAAAAAAAAAAAAAAAAAAAAAAAAAAAdZMYBFYOzT8K16NwPQrfPzMzMzMzM9s/jZduEoPA5j+e76fGSzfpPw==",
          "dtype": "f8"
         },
         "textposition": "auto",
         "type": "bar",
         "width": 0.25,
         "x": {
          "bdata": "AAAAAAAAAAAAAAAAAAAAAAAAAAAAAAAAF1100UUXzT8IH3zwwQffPzMzMzMzM9s/ymsor6G85j822WSTTTbpPw==",
          "dtype": "f8"
         },
         "y": [
          "gemma3:1b",
          "mistral:latest",
          "mistral:latest",
          "gemma3:1b",
          "gemma3:4b",
          "gemma3:4b",
          "gemma3:12b",
          "gemma3:12b"
         ]
        },
        {
         "marker": {
          "color": "#4ECDC4"
         },
         "name": "Recall",
         "offsetgroup": "1",
         "orientation": "h",
         "text": {
          "bdata": "AAAAAAAAAAAAAAAAAAAAAAAAAAAAAAAAObTIdr6fqj8fhetRuB7FP2ZmZmZmZsY/mG4Sg8DK0T/0/dR46SbRPw==",
          "dtype": "f8"
         },
         "textposition": "auto",
         "type": "bar",
         "width": 0.25,
         "x": {
          "bdata": "AAAAAAAAAAAAAAAAAAAAAAAAAAAAAAAAGrab5Ulkqj8V+OLqBx3FP5YnkWnYbsY/UoEvrn7Q0T+RadhulifRPw==",
          "dtype": "f8"
         },
         "y": [
          "gemma3:1b",
          "mistral:latest",
          "mistral:latest",
          "gemma3:1b",
          "gemma3:4b",
          "gemma3:4b",
          "gemma3:12b",
          "gemma3:12b"
         ]
        },
        {
         "marker": {
          "color": "#45B7D1"
         },
         "name": "F1-Score",
         "offsetgroup": "2",
         "orientation": "h",
         "text": {
          "bdata": "AAAAAAAAAAAAAAAAAAAAAAAAAAAAAAAAGy/dJAaBtT+wcmiR7XzPP1g5tMh2vs8/mpmZmZmZ2T+amZmZmZnZPw==",
          "dtype": "f8"
         },
         "textposition": "auto",
         "type": "bar",
         "width": 0.25,
         "x": {
          "bdata": "AAAAAAAAAAAAAAAAAAAAAAAAAAAAAAAAFTqDFTqDtT8f+IEf+IHPP/MOOFI0xM8/mZmZmZmZ2T+amZmZmZnZPw==",
          "dtype": "f8"
         },
         "y": [
          "gemma3:1b",
          "mistral:latest",
          "mistral:latest",
          "gemma3:1b",
          "gemma3:4b",
          "gemma3:4b",
          "gemma3:12b",
          "gemma3:12b"
         ]
        }
       ],
       "layout": {
        "barmode": "group",
        "height": 320,
        "legend": {
         "orientation": "h",
         "x": 1,
         "xanchor": "right",
         "y": 1.02,
         "yanchor": "bottom"
        },
        "showlegend": true,
        "template": {
         "data": {
          "bar": [
           {
            "error_x": {
             "color": "#2a3f5f"
            },
            "error_y": {
             "color": "#2a3f5f"
            },
            "marker": {
             "line": {
              "color": "white",
              "width": 0.5
             },
             "pattern": {
              "fillmode": "overlay",
              "size": 10,
              "solidity": 0.2
             }
            },
            "type": "bar"
           }
          ],
          "barpolar": [
           {
            "marker": {
             "line": {
              "color": "white",
              "width": 0.5
             },
             "pattern": {
              "fillmode": "overlay",
              "size": 10,
              "solidity": 0.2
             }
            },
            "type": "barpolar"
           }
          ],
          "carpet": [
           {
            "aaxis": {
             "endlinecolor": "#2a3f5f",
             "gridcolor": "#C8D4E3",
             "linecolor": "#C8D4E3",
             "minorgridcolor": "#C8D4E3",
             "startlinecolor": "#2a3f5f"
            },
            "baxis": {
             "endlinecolor": "#2a3f5f",
             "gridcolor": "#C8D4E3",
             "linecolor": "#C8D4E3",
             "minorgridcolor": "#C8D4E3",
             "startlinecolor": "#2a3f5f"
            },
            "type": "carpet"
           }
          ],
          "choropleth": [
           {
            "colorbar": {
             "outlinewidth": 0,
             "ticks": ""
            },
            "type": "choropleth"
           }
          ],
          "contour": [
           {
            "colorbar": {
             "outlinewidth": 0,
             "ticks": ""
            },
            "colorscale": [
             [
              0,
              "#0d0887"
             ],
             [
              0.1111111111111111,
              "#46039f"
             ],
             [
              0.2222222222222222,
              "#7201a8"
             ],
             [
              0.3333333333333333,
              "#9c179e"
             ],
             [
              0.4444444444444444,
              "#bd3786"
             ],
             [
              0.5555555555555556,
              "#d8576b"
             ],
             [
              0.6666666666666666,
              "#ed7953"
             ],
             [
              0.7777777777777778,
              "#fb9f3a"
             ],
             [
              0.8888888888888888,
              "#fdca26"
             ],
             [
              1,
              "#f0f921"
             ]
            ],
            "type": "contour"
           }
          ],
          "contourcarpet": [
           {
            "colorbar": {
             "outlinewidth": 0,
             "ticks": ""
            },
            "type": "contourcarpet"
           }
          ],
          "heatmap": [
           {
            "colorbar": {
             "outlinewidth": 0,
             "ticks": ""
            },
            "colorscale": [
             [
              0,
              "#0d0887"
             ],
             [
              0.1111111111111111,
              "#46039f"
             ],
             [
              0.2222222222222222,
              "#7201a8"
             ],
             [
              0.3333333333333333,
              "#9c179e"
             ],
             [
              0.4444444444444444,
              "#bd3786"
             ],
             [
              0.5555555555555556,
              "#d8576b"
             ],
             [
              0.6666666666666666,
              "#ed7953"
             ],
             [
              0.7777777777777778,
              "#fb9f3a"
             ],
             [
              0.8888888888888888,
              "#fdca26"
             ],
             [
              1,
              "#f0f921"
             ]
            ],
            "type": "heatmap"
           }
          ],
          "histogram": [
           {
            "marker": {
             "pattern": {
              "fillmode": "overlay",
              "size": 10,
              "solidity": 0.2
             }
            },
            "type": "histogram"
           }
          ],
          "histogram2d": [
           {
            "colorbar": {
             "outlinewidth": 0,
             "ticks": ""
            },
            "colorscale": [
             [
              0,
              "#0d0887"
             ],
             [
              0.1111111111111111,
              "#46039f"
             ],
             [
              0.2222222222222222,
              "#7201a8"
             ],
             [
              0.3333333333333333,
              "#9c179e"
             ],
             [
              0.4444444444444444,
              "#bd3786"
             ],
             [
              0.5555555555555556,
              "#d8576b"
             ],
             [
              0.6666666666666666,
              "#ed7953"
             ],
             [
              0.7777777777777778,
              "#fb9f3a"
             ],
             [
              0.8888888888888888,
              "#fdca26"
             ],
             [
              1,
              "#f0f921"
             ]
            ],
            "type": "histogram2d"
           }
          ],
          "histogram2dcontour": [
           {
            "colorbar": {
             "outlinewidth": 0,
             "ticks": ""
            },
            "colorscale": [
             [
              0,
              "#0d0887"
             ],
             [
              0.1111111111111111,
              "#46039f"
             ],
             [
              0.2222222222222222,
              "#7201a8"
             ],
             [
              0.3333333333333333,
              "#9c179e"
             ],
             [
              0.4444444444444444,
              "#bd3786"
             ],
             [
              0.5555555555555556,
              "#d8576b"
             ],
             [
              0.6666666666666666,
              "#ed7953"
             ],
             [
              0.7777777777777778,
              "#fb9f3a"
             ],
             [
              0.8888888888888888,
              "#fdca26"
             ],
             [
              1,
              "#f0f921"
             ]
            ],
            "type": "histogram2dcontour"
           }
          ],
          "mesh3d": [
           {
            "colorbar": {
             "outlinewidth": 0,
             "ticks": ""
            },
            "type": "mesh3d"
           }
          ],
          "parcoords": [
           {
            "line": {
             "colorbar": {
              "outlinewidth": 0,
              "ticks": ""
             }
            },
            "type": "parcoords"
           }
          ],
          "pie": [
           {
            "automargin": true,
            "type": "pie"
           }
          ],
          "scatter": [
           {
            "fillpattern": {
             "fillmode": "overlay",
             "size": 10,
             "solidity": 0.2
            },
            "type": "scatter"
           }
          ],
          "scatter3d": [
           {
            "line": {
             "colorbar": {
              "outlinewidth": 0,
              "ticks": ""
             }
            },
            "marker": {
             "colorbar": {
              "outlinewidth": 0,
              "ticks": ""
             }
            },
            "type": "scatter3d"
           }
          ],
          "scattercarpet": [
           {
            "marker": {
             "colorbar": {
              "outlinewidth": 0,
              "ticks": ""
             }
            },
            "type": "scattercarpet"
           }
          ],
          "scattergeo": [
           {
            "marker": {
             "colorbar": {
              "outlinewidth": 0,
              "ticks": ""
             }
            },
            "type": "scattergeo"
           }
          ],
          "scattergl": [
           {
            "marker": {
             "colorbar": {
              "outlinewidth": 0,
              "ticks": ""
             }
            },
            "type": "scattergl"
           }
          ],
          "scattermap": [
           {
            "marker": {
             "colorbar": {
              "outlinewidth": 0,
              "ticks": ""
             }
            },
            "type": "scattermap"
           }
          ],
          "scattermapbox": [
           {
            "marker": {
             "colorbar": {
              "outlinewidth": 0,
              "ticks": ""
             }
            },
            "type": "scattermapbox"
           }
          ],
          "scatterpolar": [
           {
            "marker": {
             "colorbar": {
              "outlinewidth": 0,
              "ticks": ""
             }
            },
            "type": "scatterpolar"
           }
          ],
          "scatterpolargl": [
           {
            "marker": {
             "colorbar": {
              "outlinewidth": 0,
              "ticks": ""
             }
            },
            "type": "scatterpolargl"
           }
          ],
          "scatterternary": [
           {
            "marker": {
             "colorbar": {
              "outlinewidth": 0,
              "ticks": ""
             }
            },
            "type": "scatterternary"
           }
          ],
          "surface": [
           {
            "colorbar": {
             "outlinewidth": 0,
             "ticks": ""
            },
            "colorscale": [
             [
              0,
              "#0d0887"
             ],
             [
              0.1111111111111111,
              "#46039f"
             ],
             [
              0.2222222222222222,
              "#7201a8"
             ],
             [
              0.3333333333333333,
              "#9c179e"
             ],
             [
              0.4444444444444444,
              "#bd3786"
             ],
             [
              0.5555555555555556,
              "#d8576b"
             ],
             [
              0.6666666666666666,
              "#ed7953"
             ],
             [
              0.7777777777777778,
              "#fb9f3a"
             ],
             [
              0.8888888888888888,
              "#fdca26"
             ],
             [
              1,
              "#f0f921"
             ]
            ],
            "type": "surface"
           }
          ],
          "table": [
           {
            "cells": {
             "fill": {
              "color": "#EBF0F8"
             },
             "line": {
              "color": "white"
             }
            },
            "header": {
             "fill": {
              "color": "#C8D4E3"
             },
             "line": {
              "color": "white"
             }
            },
            "type": "table"
           }
          ]
         },
         "layout": {
          "annotationdefaults": {
           "arrowcolor": "#2a3f5f",
           "arrowhead": 0,
           "arrowwidth": 1
          },
          "autotypenumbers": "strict",
          "coloraxis": {
           "colorbar": {
            "outlinewidth": 0,
            "ticks": ""
           }
          },
          "colorscale": {
           "diverging": [
            [
             0,
             "#8e0152"
            ],
            [
             0.1,
             "#c51b7d"
            ],
            [
             0.2,
             "#de77ae"
            ],
            [
             0.3,
             "#f1b6da"
            ],
            [
             0.4,
             "#fde0ef"
            ],
            [
             0.5,
             "#f7f7f7"
            ],
            [
             0.6,
             "#e6f5d0"
            ],
            [
             0.7,
             "#b8e186"
            ],
            [
             0.8,
             "#7fbc41"
            ],
            [
             0.9,
             "#4d9221"
            ],
            [
             1,
             "#276419"
            ]
           ],
           "sequential": [
            [
             0,
             "#0d0887"
            ],
            [
             0.1111111111111111,
             "#46039f"
            ],
            [
             0.2222222222222222,
             "#7201a8"
            ],
            [
             0.3333333333333333,
             "#9c179e"
            ],
            [
             0.4444444444444444,
             "#bd3786"
            ],
            [
             0.5555555555555556,
             "#d8576b"
            ],
            [
             0.6666666666666666,
             "#ed7953"
            ],
            [
             0.7777777777777778,
             "#fb9f3a"
            ],
            [
             0.8888888888888888,
             "#fdca26"
            ],
            [
             1,
             "#f0f921"
            ]
           ],
           "sequentialminus": [
            [
             0,
             "#0d0887"
            ],
            [
             0.1111111111111111,
             "#46039f"
            ],
            [
             0.2222222222222222,
             "#7201a8"
            ],
            [
             0.3333333333333333,
             "#9c179e"
            ],
            [
             0.4444444444444444,
             "#bd3786"
            ],
            [
             0.5555555555555556,
             "#d8576b"
            ],
            [
             0.6666666666666666,
             "#ed7953"
            ],
            [
             0.7777777777777778,
             "#fb9f3a"
            ],
            [
             0.8888888888888888,
             "#fdca26"
            ],
            [
             1,
             "#f0f921"
            ]
           ]
          },
          "colorway": [
           "#636efa",
           "#EF553B",
           "#00cc96",
           "#ab63fa",
           "#FFA15A",
           "#19d3f3",
           "#FF6692",
           "#B6E880",
           "#FF97FF",
           "#FECB52"
          ],
          "font": {
           "color": "#2a3f5f"
          },
          "geo": {
           "bgcolor": "white",
           "lakecolor": "white",
           "landcolor": "white",
           "showlakes": true,
           "showland": true,
           "subunitcolor": "#C8D4E3"
          },
          "hoverlabel": {
           "align": "left"
          },
          "hovermode": "closest",
          "mapbox": {
           "style": "light"
          },
          "paper_bgcolor": "white",
          "plot_bgcolor": "white",
          "polar": {
           "angularaxis": {
            "gridcolor": "#EBF0F8",
            "linecolor": "#EBF0F8",
            "ticks": ""
           },
           "bgcolor": "white",
           "radialaxis": {
            "gridcolor": "#EBF0F8",
            "linecolor": "#EBF0F8",
            "ticks": ""
           }
          },
          "scene": {
           "xaxis": {
            "backgroundcolor": "white",
            "gridcolor": "#DFE8F3",
            "gridwidth": 2,
            "linecolor": "#EBF0F8",
            "showbackground": true,
            "ticks": "",
            "zerolinecolor": "#EBF0F8"
           },
           "yaxis": {
            "backgroundcolor": "white",
            "gridcolor": "#DFE8F3",
            "gridwidth": 2,
            "linecolor": "#EBF0F8",
            "showbackground": true,
            "ticks": "",
            "zerolinecolor": "#EBF0F8"
           },
           "zaxis": {
            "backgroundcolor": "white",
            "gridcolor": "#DFE8F3",
            "gridwidth": 2,
            "linecolor": "#EBF0F8",
            "showbackground": true,
            "ticks": "",
            "zerolinecolor": "#EBF0F8"
           }
          },
          "shapedefaults": {
           "line": {
            "color": "#2a3f5f"
           }
          },
          "ternary": {
           "aaxis": {
            "gridcolor": "#DFE8F3",
            "linecolor": "#A2B1C6",
            "ticks": ""
           },
           "baxis": {
            "gridcolor": "#DFE8F3",
            "linecolor": "#A2B1C6",
            "ticks": ""
           },
           "bgcolor": "white",
           "caxis": {
            "gridcolor": "#DFE8F3",
            "linecolor": "#A2B1C6",
            "ticks": ""
           }
          },
          "title": {
           "x": 0.05
          },
          "xaxis": {
           "automargin": true,
           "gridcolor": "#EBF0F8",
           "linecolor": "#EBF0F8",
           "ticks": "",
           "title": {
            "standoff": 15
           },
           "zerolinecolor": "#EBF0F8",
           "zerolinewidth": 2
          },
          "yaxis": {
           "automargin": true,
           "gridcolor": "#EBF0F8",
           "linecolor": "#EBF0F8",
           "ticks": "",
           "title": {
            "standoff": 15
           },
           "zerolinecolor": "#EBF0F8",
           "zerolinewidth": 2
          }
         }
        },
        "title": {
         "font": {
          "color": "#2E2E2E",
          "size": 16
         },
         "text": "Model Performance on Document: O.C.I. AND OTHERS v. ROMANIA<br><span style='font-size:14px'>Best Model: gemma3:12b (F1: 0.400)</span>",
         "x": 0.5
        },
        "width": 800,
        "xaxis": {
         "range": [
          0,
          1
         ],
         "tickfont": {
          "size": 12
         },
         "title": {
          "text": "Score"
         }
        },
        "yaxis": {
         "tickfont": {
          "size": 12
         },
         "title": {
          "text": "Models"
         }
        }
       }
      }
     },
     "metadata": {},
     "output_type": "display_data"
    },
    {
     "data": {
      "application/vnd.plotly.v1+json": {
       "config": {
        "plotlyServerURL": "https://plot.ly"
       },
       "data": [
        {
         "marker": {
          "color": "#FF6B6B"
         },
         "name": "Precision",
         "offsetgroup": "0",
         "orientation": "h",
         "text": {
          "bdata": "AAAAAAAAAAAAAAAAAAAAAAAAAAAAAAAA6SYxCKwcqj/y0k1iEFjlPyuHFtnO99M/okW28/3U0D9SuB6F61HkPw==",
          "dtype": "f8"
         },
         "textposition": "auto",
         "type": "bar",
         "width": 0.25,
         "x": {
          "bdata": "AAAAAAAAAAAAAAAAAAAAAAAAAAAAAAAAlLovj60Iqj9VVVVVVVXlPwAAAAAAANQ/eQ3lNZTX0D8wRT7rBlPkPw==",
          "dtype": "f8"
         },
         "y": [
          "gemma3:1b",
          "gemma3:4b",
          "mistral:latest",
          "gemma3:1b",
          "gemma3:12b",
          "gemma3:4b",
          "mistral:latest",
          "gemma3:12b"
         ]
        },
        {
         "marker": {
          "color": "#4ECDC4"
         },
         "name": "Recall",
         "offsetgroup": "1",
         "orientation": "h",
         "text": {
          "bdata": "AAAAAAAAAAAAAAAAAAAAAAAAAAAAAAAA2/l+arx0kz+amZmZmZmZP1g5tMh2vq8/mG4Sg8DK0T+PwvUoXI/SPw==",
          "dtype": "f8"
         },
         "textposition": "auto",
         "type": "bar",
         "width": 0.25,
         "x": {
          "bdata": "AAAAAAAAAAAAAAAAAAAAAAAAAAAAAAAAaC+hvYT2kj/g6db8sEiZP1ikDDzdmq8/chzHcRzH0T/B0635YZHSPw==",
          "dtype": "f8"
         },
         "y": [
          "gemma3:1b",
          "gemma3:4b",
          "mistral:latest",
          "gemma3:1b",
          "gemma3:12b",
          "gemma3:4b",
          "mistral:latest",
          "gemma3:12b"
         ]
        },
        {
         "marker": {
          "color": "#45B7D1"
         },
         "name": "F1-Score",
         "offsetgroup": "2",
         "orientation": "h",
         "text": {
          "bdata": "AAAAAAAAAAAAAAAAAAAAAAAAAAAAAAAA2c73U+Olmz/6fmq8dJOoP5HtfD81Xro/SOF6FK5H0T9GtvP91HjZPw==",
          "dtype": "f8"
         },
         "textposition": "auto",
         "type": "bar",
         "width": 0.25,
         "x": {
          "bdata": "AAAAAAAAAAAAAAAAAAAAAAAAAAAAAAAAGwjNGwjNmz8YhmEYhmGoPxq2m+VJZLo/wRT5rBtM0T9bETSc1H3ZPw==",
          "dtype": "f8"
         },
         "y": [
          "gemma3:1b",
          "gemma3:4b",
          "mistral:latest",
          "gemma3:1b",
          "gemma3:12b",
          "gemma3:4b",
          "mistral:latest",
          "gemma3:12b"
         ]
        }
       ],
       "layout": {
        "barmode": "group",
        "height": 320,
        "legend": {
         "orientation": "h",
         "x": 1,
         "xanchor": "right",
         "y": 1.02,
         "yanchor": "bottom"
        },
        "showlegend": true,
        "template": {
         "data": {
          "bar": [
           {
            "error_x": {
             "color": "#2a3f5f"
            },
            "error_y": {
             "color": "#2a3f5f"
            },
            "marker": {
             "line": {
              "color": "white",
              "width": 0.5
             },
             "pattern": {
              "fillmode": "overlay",
              "size": 10,
              "solidity": 0.2
             }
            },
            "type": "bar"
           }
          ],
          "barpolar": [
           {
            "marker": {
             "line": {
              "color": "white",
              "width": 0.5
             },
             "pattern": {
              "fillmode": "overlay",
              "size": 10,
              "solidity": 0.2
             }
            },
            "type": "barpolar"
           }
          ],
          "carpet": [
           {
            "aaxis": {
             "endlinecolor": "#2a3f5f",
             "gridcolor": "#C8D4E3",
             "linecolor": "#C8D4E3",
             "minorgridcolor": "#C8D4E3",
             "startlinecolor": "#2a3f5f"
            },
            "baxis": {
             "endlinecolor": "#2a3f5f",
             "gridcolor": "#C8D4E3",
             "linecolor": "#C8D4E3",
             "minorgridcolor": "#C8D4E3",
             "startlinecolor": "#2a3f5f"
            },
            "type": "carpet"
           }
          ],
          "choropleth": [
           {
            "colorbar": {
             "outlinewidth": 0,
             "ticks": ""
            },
            "type": "choropleth"
           }
          ],
          "contour": [
           {
            "colorbar": {
             "outlinewidth": 0,
             "ticks": ""
            },
            "colorscale": [
             [
              0,
              "#0d0887"
             ],
             [
              0.1111111111111111,
              "#46039f"
             ],
             [
              0.2222222222222222,
              "#7201a8"
             ],
             [
              0.3333333333333333,
              "#9c179e"
             ],
             [
              0.4444444444444444,
              "#bd3786"
             ],
             [
              0.5555555555555556,
              "#d8576b"
             ],
             [
              0.6666666666666666,
              "#ed7953"
             ],
             [
              0.7777777777777778,
              "#fb9f3a"
             ],
             [
              0.8888888888888888,
              "#fdca26"
             ],
             [
              1,
              "#f0f921"
             ]
            ],
            "type": "contour"
           }
          ],
          "contourcarpet": [
           {
            "colorbar": {
             "outlinewidth": 0,
             "ticks": ""
            },
            "type": "contourcarpet"
           }
          ],
          "heatmap": [
           {
            "colorbar": {
             "outlinewidth": 0,
             "ticks": ""
            },
            "colorscale": [
             [
              0,
              "#0d0887"
             ],
             [
              0.1111111111111111,
              "#46039f"
             ],
             [
              0.2222222222222222,
              "#7201a8"
             ],
             [
              0.3333333333333333,
              "#9c179e"
             ],
             [
              0.4444444444444444,
              "#bd3786"
             ],
             [
              0.5555555555555556,
              "#d8576b"
             ],
             [
              0.6666666666666666,
              "#ed7953"
             ],
             [
              0.7777777777777778,
              "#fb9f3a"
             ],
             [
              0.8888888888888888,
              "#fdca26"
             ],
             [
              1,
              "#f0f921"
             ]
            ],
            "type": "heatmap"
           }
          ],
          "histogram": [
           {
            "marker": {
             "pattern": {
              "fillmode": "overlay",
              "size": 10,
              "solidity": 0.2
             }
            },
            "type": "histogram"
           }
          ],
          "histogram2d": [
           {
            "colorbar": {
             "outlinewidth": 0,
             "ticks": ""
            },
            "colorscale": [
             [
              0,
              "#0d0887"
             ],
             [
              0.1111111111111111,
              "#46039f"
             ],
             [
              0.2222222222222222,
              "#7201a8"
             ],
             [
              0.3333333333333333,
              "#9c179e"
             ],
             [
              0.4444444444444444,
              "#bd3786"
             ],
             [
              0.5555555555555556,
              "#d8576b"
             ],
             [
              0.6666666666666666,
              "#ed7953"
             ],
             [
              0.7777777777777778,
              "#fb9f3a"
             ],
             [
              0.8888888888888888,
              "#fdca26"
             ],
             [
              1,
              "#f0f921"
             ]
            ],
            "type": "histogram2d"
           }
          ],
          "histogram2dcontour": [
           {
            "colorbar": {
             "outlinewidth": 0,
             "ticks": ""
            },
            "colorscale": [
             [
              0,
              "#0d0887"
             ],
             [
              0.1111111111111111,
              "#46039f"
             ],
             [
              0.2222222222222222,
              "#7201a8"
             ],
             [
              0.3333333333333333,
              "#9c179e"
             ],
             [
              0.4444444444444444,
              "#bd3786"
             ],
             [
              0.5555555555555556,
              "#d8576b"
             ],
             [
              0.6666666666666666,
              "#ed7953"
             ],
             [
              0.7777777777777778,
              "#fb9f3a"
             ],
             [
              0.8888888888888888,
              "#fdca26"
             ],
             [
              1,
              "#f0f921"
             ]
            ],
            "type": "histogram2dcontour"
           }
          ],
          "mesh3d": [
           {
            "colorbar": {
             "outlinewidth": 0,
             "ticks": ""
            },
            "type": "mesh3d"
           }
          ],
          "parcoords": [
           {
            "line": {
             "colorbar": {
              "outlinewidth": 0,
              "ticks": ""
             }
            },
            "type": "parcoords"
           }
          ],
          "pie": [
           {
            "automargin": true,
            "type": "pie"
           }
          ],
          "scatter": [
           {
            "fillpattern": {
             "fillmode": "overlay",
             "size": 10,
             "solidity": 0.2
            },
            "type": "scatter"
           }
          ],
          "scatter3d": [
           {
            "line": {
             "colorbar": {
              "outlinewidth": 0,
              "ticks": ""
             }
            },
            "marker": {
             "colorbar": {
              "outlinewidth": 0,
              "ticks": ""
             }
            },
            "type": "scatter3d"
           }
          ],
          "scattercarpet": [
           {
            "marker": {
             "colorbar": {
              "outlinewidth": 0,
              "ticks": ""
             }
            },
            "type": "scattercarpet"
           }
          ],
          "scattergeo": [
           {
            "marker": {
             "colorbar": {
              "outlinewidth": 0,
              "ticks": ""
             }
            },
            "type": "scattergeo"
           }
          ],
          "scattergl": [
           {
            "marker": {
             "colorbar": {
              "outlinewidth": 0,
              "ticks": ""
             }
            },
            "type": "scattergl"
           }
          ],
          "scattermap": [
           {
            "marker": {
             "colorbar": {
              "outlinewidth": 0,
              "ticks": ""
             }
            },
            "type": "scattermap"
           }
          ],
          "scattermapbox": [
           {
            "marker": {
             "colorbar": {
              "outlinewidth": 0,
              "ticks": ""
             }
            },
            "type": "scattermapbox"
           }
          ],
          "scatterpolar": [
           {
            "marker": {
             "colorbar": {
              "outlinewidth": 0,
              "ticks": ""
             }
            },
            "type": "scatterpolar"
           }
          ],
          "scatterpolargl": [
           {
            "marker": {
             "colorbar": {
              "outlinewidth": 0,
              "ticks": ""
             }
            },
            "type": "scatterpolargl"
           }
          ],
          "scatterternary": [
           {
            "marker": {
             "colorbar": {
              "outlinewidth": 0,
              "ticks": ""
             }
            },
            "type": "scatterternary"
           }
          ],
          "surface": [
           {
            "colorbar": {
             "outlinewidth": 0,
             "ticks": ""
            },
            "colorscale": [
             [
              0,
              "#0d0887"
             ],
             [
              0.1111111111111111,
              "#46039f"
             ],
             [
              0.2222222222222222,
              "#7201a8"
             ],
             [
              0.3333333333333333,
              "#9c179e"
             ],
             [
              0.4444444444444444,
              "#bd3786"
             ],
             [
              0.5555555555555556,
              "#d8576b"
             ],
             [
              0.6666666666666666,
              "#ed7953"
             ],
             [
              0.7777777777777778,
              "#fb9f3a"
             ],
             [
              0.8888888888888888,
              "#fdca26"
             ],
             [
              1,
              "#f0f921"
             ]
            ],
            "type": "surface"
           }
          ],
          "table": [
           {
            "cells": {
             "fill": {
              "color": "#EBF0F8"
             },
             "line": {
              "color": "white"
             }
            },
            "header": {
             "fill": {
              "color": "#C8D4E3"
             },
             "line": {
              "color": "white"
             }
            },
            "type": "table"
           }
          ]
         },
         "layout": {
          "annotationdefaults": {
           "arrowcolor": "#2a3f5f",
           "arrowhead": 0,
           "arrowwidth": 1
          },
          "autotypenumbers": "strict",
          "coloraxis": {
           "colorbar": {
            "outlinewidth": 0,
            "ticks": ""
           }
          },
          "colorscale": {
           "diverging": [
            [
             0,
             "#8e0152"
            ],
            [
             0.1,
             "#c51b7d"
            ],
            [
             0.2,
             "#de77ae"
            ],
            [
             0.3,
             "#f1b6da"
            ],
            [
             0.4,
             "#fde0ef"
            ],
            [
             0.5,
             "#f7f7f7"
            ],
            [
             0.6,
             "#e6f5d0"
            ],
            [
             0.7,
             "#b8e186"
            ],
            [
             0.8,
             "#7fbc41"
            ],
            [
             0.9,
             "#4d9221"
            ],
            [
             1,
             "#276419"
            ]
           ],
           "sequential": [
            [
             0,
             "#0d0887"
            ],
            [
             0.1111111111111111,
             "#46039f"
            ],
            [
             0.2222222222222222,
             "#7201a8"
            ],
            [
             0.3333333333333333,
             "#9c179e"
            ],
            [
             0.4444444444444444,
             "#bd3786"
            ],
            [
             0.5555555555555556,
             "#d8576b"
            ],
            [
             0.6666666666666666,
             "#ed7953"
            ],
            [
             0.7777777777777778,
             "#fb9f3a"
            ],
            [
             0.8888888888888888,
             "#fdca26"
            ],
            [
             1,
             "#f0f921"
            ]
           ],
           "sequentialminus": [
            [
             0,
             "#0d0887"
            ],
            [
             0.1111111111111111,
             "#46039f"
            ],
            [
             0.2222222222222222,
             "#7201a8"
            ],
            [
             0.3333333333333333,
             "#9c179e"
            ],
            [
             0.4444444444444444,
             "#bd3786"
            ],
            [
             0.5555555555555556,
             "#d8576b"
            ],
            [
             0.6666666666666666,
             "#ed7953"
            ],
            [
             0.7777777777777778,
             "#fb9f3a"
            ],
            [
             0.8888888888888888,
             "#fdca26"
            ],
            [
             1,
             "#f0f921"
            ]
           ]
          },
          "colorway": [
           "#636efa",
           "#EF553B",
           "#00cc96",
           "#ab63fa",
           "#FFA15A",
           "#19d3f3",
           "#FF6692",
           "#B6E880",
           "#FF97FF",
           "#FECB52"
          ],
          "font": {
           "color": "#2a3f5f"
          },
          "geo": {
           "bgcolor": "white",
           "lakecolor": "white",
           "landcolor": "white",
           "showlakes": true,
           "showland": true,
           "subunitcolor": "#C8D4E3"
          },
          "hoverlabel": {
           "align": "left"
          },
          "hovermode": "closest",
          "mapbox": {
           "style": "light"
          },
          "paper_bgcolor": "white",
          "plot_bgcolor": "white",
          "polar": {
           "angularaxis": {
            "gridcolor": "#EBF0F8",
            "linecolor": "#EBF0F8",
            "ticks": ""
           },
           "bgcolor": "white",
           "radialaxis": {
            "gridcolor": "#EBF0F8",
            "linecolor": "#EBF0F8",
            "ticks": ""
           }
          },
          "scene": {
           "xaxis": {
            "backgroundcolor": "white",
            "gridcolor": "#DFE8F3",
            "gridwidth": 2,
            "linecolor": "#EBF0F8",
            "showbackground": true,
            "ticks": "",
            "zerolinecolor": "#EBF0F8"
           },
           "yaxis": {
            "backgroundcolor": "white",
            "gridcolor": "#DFE8F3",
            "gridwidth": 2,
            "linecolor": "#EBF0F8",
            "showbackground": true,
            "ticks": "",
            "zerolinecolor": "#EBF0F8"
           },
           "zaxis": {
            "backgroundcolor": "white",
            "gridcolor": "#DFE8F3",
            "gridwidth": 2,
            "linecolor": "#EBF0F8",
            "showbackground": true,
            "ticks": "",
            "zerolinecolor": "#EBF0F8"
           }
          },
          "shapedefaults": {
           "line": {
            "color": "#2a3f5f"
           }
          },
          "ternary": {
           "aaxis": {
            "gridcolor": "#DFE8F3",
            "linecolor": "#A2B1C6",
            "ticks": ""
           },
           "baxis": {
            "gridcolor": "#DFE8F3",
            "linecolor": "#A2B1C6",
            "ticks": ""
           },
           "bgcolor": "white",
           "caxis": {
            "gridcolor": "#DFE8F3",
            "linecolor": "#A2B1C6",
            "ticks": ""
           }
          },
          "title": {
           "x": 0.05
          },
          "xaxis": {
           "automargin": true,
           "gridcolor": "#EBF0F8",
           "linecolor": "#EBF0F8",
           "ticks": "",
           "title": {
            "standoff": 15
           },
           "zerolinecolor": "#EBF0F8",
           "zerolinewidth": 2
          },
          "yaxis": {
           "automargin": true,
           "gridcolor": "#EBF0F8",
           "linecolor": "#EBF0F8",
           "ticks": "",
           "title": {
            "standoff": 15
           },
           "zerolinecolor": "#EBF0F8",
           "zerolinewidth": 2
          }
         }
        },
        "title": {
         "font": {
          "color": "#2E2E2E",
          "size": 16
         },
         "text": "Model Performance on Document: CABUCAK v. GERMANY<br><span style='font-size:14px'>Best Model: gemma3:12b (F1: 0.398)</span>",
         "x": 0.5
        },
        "width": 800,
        "xaxis": {
         "range": [
          0,
          1
         ],
         "tickfont": {
          "size": 12
         },
         "title": {
          "text": "Score"
         }
        },
        "yaxis": {
         "tickfont": {
          "size": 12
         },
         "title": {
          "text": "Models"
         }
        }
       }
      }
     },
     "metadata": {},
     "output_type": "display_data"
    }
   ],
   "source": [
    "def create_per_document_charts(df):\n",
    "    \"\"\"Create individual charts for each document showing all models with all metrics\"\"\"\n",
    "    \n",
    "    documents = df['document'].unique()\n",
    "    \n",
    "    for doc in documents:\n",
    "        doc_data = df[df['document'] == doc].copy()\n",
    "        \n",
    "        if doc_data.empty:\n",
    "            continue\n",
    "            \n",
    "        # Sort models by F1-score for better visualization\n",
    "        doc_data = doc_data.sort_values('f1_score', ascending=True)\n",
    "        \n",
    "        fig = go.Figure()\n",
    "        \n",
    "        # Add bars for each metric\n",
    "        metrics = ['precision', 'recall', 'f1_score']\n",
    "        metric_names = ['Precision', 'Recall', 'F1-Score']\n",
    "        colors = ['#FF6B6B', '#4ECDC4', '#45B7D1']\n",
    "        \n",
    "        for i, (metric, name, color) in enumerate(zip(metrics, metric_names, colors)):\n",
    "            fig.add_trace(go.Bar(\n",
    "                name=name,\n",
    "                x=doc_data[metric],\n",
    "                y=doc_data['model'],\n",
    "                orientation='h',\n",
    "                marker_color=color,\n",
    "                text=doc_data[metric].round(3),\n",
    "                textposition='auto',\n",
    "                offsetgroup=i,\n",
    "                width=0.25  # Make bars thinner so they don't overlap\n",
    "            ))\n",
    "        \n",
    "        # Find the best model for this document\n",
    "        best_model = doc_data.loc[doc_data['f1_score'].idxmax()]\n",
    "        \n",
    "        fig.update_layout(\n",
    "            title=dict(\n",
    "                text=f\"Model Performance on Document: {doc}<br><span style='font-size:14px'>Best Model: {best_model['model']} (F1: {best_model['f1_score']:.3f})</span>\",\n",
    "                font=dict(size=16, color='#2E2E2E'),\n",
    "                x=0.5\n",
    "            ),\n",
    "            xaxis=dict(\n",
    "                title=\"Score\",\n",
    "                range=[0, 1],\n",
    "                tickfont=dict(size=12)\n",
    "            ),\n",
    "            yaxis=dict(\n",
    "                title=\"Models\",\n",
    "                tickfont=dict(size=12)\n",
    "            ),\n",
    "            barmode='group',\n",
    "            template='plotly_white',\n",
    "            height=max(300, len(doc_data) * 40),\n",
    "            width=800,\n",
    "            showlegend=True,\n",
    "            legend=dict(\n",
    "                orientation=\"h\",\n",
    "                yanchor=\"bottom\",\n",
    "                y=1.02,\n",
    "                xanchor=\"right\",\n",
    "                x=1\n",
    "            )\n",
    "        )\n",
    "        \n",
    "        fig.show()\n",
    "\n",
    "if 'df' in globals() and not df.empty:\n",
    "    print(\"\\n\" + \"=\"*80)\n",
    "    print(\"📄 DETAILED PERFORMANCE BY DOCUMENT\")\n",
    "    print(\"=\"*80)\n",
    "    print(\"Individual charts for each document showing all models with precision, recall, and F1-score\")\n",
    "    print()\n",
    "    \n",
    "    create_per_document_charts(df)\n",
    "    \n",
    "else:\n",
    "    print(\"❌ Please load and process evaluation data first.\")"
   ]
  },
  {
   "cell_type": "code",
   "execution_count": 8,
   "id": "210cbf4b",
   "metadata": {},
   "outputs": [
    {
     "name": "stdout",
     "output_type": "stream",
     "text": [
      "\n",
      "================================================================================\n",
      "🎯 COMPREHENSIVE OVERVIEW\n",
      "================================================================================\n",
      "📊 Comparing 2 runs side by side:\n",
      "    1. pipeline_results_20250725_111753\n",
      "    2. pipeline_results_20250808_145025\n",
      "🔍 Each run shown separately - NO AVERAGING!\n",
      "📈 Perfect for seeing how performance evolves across different settings\n",
      "Complete view of all models across all documents for all metrics\n",
      "\n"
     ]
    },
    {
     "data": {
      "application/vnd.plotly.v1+json": {
       "config": {
        "plotlyServerURL": "https://plot.ly"
       },
       "data": [
        {
         "legendgroup": "gemma3:12b",
         "marker": {
          "color": "rgb(228,26,28)"
         },
         "name": "gemma3:12b",
         "offsetgroup": "0",
         "orientation": "h",
         "showlegend": true,
         "text": [
          "0.543",
          "0.273",
          "0.208",
          "0.667",
          "0.681",
          "0.407",
          "0.350",
          "0.577",
          "",
          "",
          "0.154",
          "",
          "0.472",
          "0.389",
          "0.788",
          "0.402",
          "0.515",
          "0.500",
          "0.432",
          "",
          "0.100",
          "0.600",
          "0.552",
          "0.256",
          "0.500",
          "0.375",
          "0.510",
          "0.200",
          "0.459",
          "0.326"
         ],
         "textfont": {
          "size": 6
         },
         "textposition": "auto",
         "type": "bar",
         "width": 0.2,
         "x": {
          "bdata": "8RVf8RVf4T900UUXXXTRP6uqqqqqqso/VVVVVVVV5T9XEJMriMnlPy+hvYT2Eto/ZmZmZmZm1j9iJ3ZiJ3biPwAAAAAAAAAAAAAAAAAAAAAUO7ETO7HDPwAAAAAAAAAAruxzSE0w3j85juM4juPYPzbZZJNNNuk/nN70pje92T988MEHH3zgPwAAAAAAAOA/o4suuuii2z8AAAAAAAAAAJqZmZmZmbk/MzMzMzMz4z+WexphuafhP5AGaZAGadA/AAAAAAAA4D8AAAAAAADYP1BQUFBQUOA/mpmZmZmZyT991g2myGfdPzZlTVlT1tQ/",
          "dtype": "f8"
         },
         "xaxis": "x",
         "y": [
          "ALTAY v. TURKEY (No. 2)",
          "BELYAYEV AND OTHERS v. UKRAINE",
          "BIGUN v. UKRAINE",
          "CABUCAK v. GERMANY",
          "CAN v. TURKEY",
          "CRISTIAN CATALIN UNGUREANU v. ROMANIA",
          "DOKTOROV v. BULGARIA",
          "EGILL EINARSSON v. ICELAND (No. 2)",
          "H_INESS v. NORWAY (1)",
          "KOSAITE - CYPIENE AND OTHERS v. LITHUANIA",
          "LOZOVYYE v. RUSSIA",
          "M.T. v. UKRAINE",
          "MOSKALEV v. RUSSIA",
          "MURUZHEVA v. RUSSIA",
          "O.C.I. AND OTHERS v. ROMANIA",
          "OTGON v. THE REPUBLIC OF MOLDOVA",
          "PAKHTUSOV v. RUSSIA",
          "PANYUSHKINY v. RUSSIA",
          "RESIN v. RUSSIA",
          "S.N. v. RUSSIA",
          "S.V. v. ITALY",
          "SHVIDKIYE v. RUSSIA",
          "SIDOROVA v. RUSSIA",
          "SOLCAN v. ROMANIA",
          "STANA v. ROMANIA",
          "VISY v. SLOVAKIA",
          "YAKUSHEV v. UKRAINE",
          "YERMAKOVICH v. RUSSIA",
          "YEVGENIY ZAKHAROV v. RUSSIA",
          "_NODI v. HUNGARY"
         ],
         "yaxis": "y"
        },
        {
         "legendgroup": "gemma3:1b",
         "marker": {
          "color": "rgb(55,126,184)"
         },
         "name": "gemma3:1b",
         "offsetgroup": "1",
         "orientation": "h",
         "showlegend": true,
         "text": [
          "0.217",
          "0.294",
          "0.115",
          "",
          "0.600",
          "0.276",
          "",
          "",
          "",
          "0.500",
          "0.292",
          "0.333",
          "0.094",
          "1.000",
          "",
          "",
          "1.000",
          "0.222",
          "0.238",
          "",
          "1.000",
          "0.222",
          "0.167",
          "0.444",
          "0.364",
          "0.054",
          "0.500",
          "0.500",
          "0.667",
          "0.132"
         ],
         "textfont": {
          "size": 6
         },
         "textposition": "auto",
         "type": "bar",
         "width": 0.2,
         "x": {
          "bdata": "velNb3rTyz/T0tLS0tLSP57YiZ3Yib0/AAAAAAAAAAAzMzMzMzPjP5Z7GmG5p9E/AAAAAAAAAAAAAAAAAAAAAAAAAAAAAAAAAAAAAAAA4D+rqqqqqqrSP1VVVVVVVdU/AAAAAAAAuD8AAAAAAADwPwAAAAAAAAAAAAAAAAAAAAAAAAAAAADwPxzHcRzHccw/nud5nud5zj8AAAAAAAAAAAAAAAAAAPA/HMdxHMdxzD9VVVVVVVXFPxzHcRzHcdw/RhdddNFF1z/QusEU+ayrPwAAAAAAAOA/AAAAAAAA4D9VVVVVVVXlP3kN5TWU18A/",
          "dtype": "f8"
         },
         "xaxis": "x",
         "y": [
          "ALTAY v. TURKEY (No. 2)",
          "BELYAYEV AND OTHERS v. UKRAINE",
          "BIGUN v. UKRAINE",
          "CABUCAK v. GERMANY",
          "CAN v. TURKEY",
          "CRISTIAN CATALIN UNGUREANU v. ROMANIA",
          "DOKTOROV v. BULGARIA",
          "EGILL EINARSSON v. ICELAND (No. 2)",
          "H_INESS v. NORWAY (1)",
          "KOSAITE - CYPIENE AND OTHERS v. LITHUANIA",
          "LOZOVYYE v. RUSSIA",
          "M.T. v. UKRAINE",
          "MOSKALEV v. RUSSIA",
          "MURUZHEVA v. RUSSIA",
          "O.C.I. AND OTHERS v. ROMANIA",
          "OTGON v. THE REPUBLIC OF MOLDOVA",
          "PAKHTUSOV v. RUSSIA",
          "PANYUSHKINY v. RUSSIA",
          "RESIN v. RUSSIA",
          "S.N. v. RUSSIA",
          "S.V. v. ITALY",
          "SHVIDKIYE v. RUSSIA",
          "SIDOROVA v. RUSSIA",
          "SOLCAN v. ROMANIA",
          "STANA v. ROMANIA",
          "VISY v. SLOVAKIA",
          "YAKUSHEV v. UKRAINE",
          "YERMAKOVICH v. RUSSIA",
          "YEVGENIY ZAKHAROV v. RUSSIA",
          "_NODI v. HUNGARY"
         ],
         "yaxis": "y"
        },
        {
         "legendgroup": "gemma3:4b",
         "marker": {
          "color": "rgb(77,175,74)"
         },
         "name": "gemma3:4b",
         "offsetgroup": "2",
         "orientation": "h",
         "showlegend": true,
         "text": [
          "0.364",
          "",
          "",
          "",
          "0.248",
          "",
          "0.349",
          "0.088",
          "",
          "",
          "0.192",
          "0.222",
          "0.400",
          "0.188",
          "0.425",
          "",
          "0.193",
          "0.463",
          "0.325",
          "",
          "0.045",
          "0.424",
          "0.182",
          "0.395",
          "0.125",
          "0.214",
          "0.559",
          "",
          "0.545",
          "0.308"
         ],
         "textfont": {
          "size": 6
         },
         "textposition": "auto",
         "type": "bar",
         "width": 0.2,
         "x": {
          "bdata": "RhdddNFF1z8AAAAAAAAAAAAAAAAAAAAAAAAAAAAAAADwB/wBf8DPPwAAAAAAAAAAlmVZlmVZ1j+XlpaWlpa2PwAAAAAAAAAAAAAAAAAAAADZiZ3YiZ3IPxzHcRzHccw/mpmZmZmZ2T8AAAAAAADIPzMzMzMzM9s/AAAAAAAAAACZT72YT73IP6ldidqVqN0/zczMzMzM1D8AAAAAAAAAAEYXXXTRRac/J5tssskm2z9GF1100UXHPzaU11BeQ9k/AAAAAAAAwD/btm3btm3LP+Lh4eHh4eE/AAAAAAAAAAB00UUXXXThPxQ7sRM7sdM/",
          "dtype": "f8"
         },
         "xaxis": "x",
         "y": [
          "ALTAY v. TURKEY (No. 2)",
          "BELYAYEV AND OTHERS v. UKRAINE",
          "BIGUN v. UKRAINE",
          "CABUCAK v. GERMANY",
          "CAN v. TURKEY",
          "CRISTIAN CATALIN UNGUREANU v. ROMANIA",
          "DOKTOROV v. BULGARIA",
          "EGILL EINARSSON v. ICELAND (No. 2)",
          "H_INESS v. NORWAY (1)",
          "KOSAITE - CYPIENE AND OTHERS v. LITHUANIA",
          "LOZOVYYE v. RUSSIA",
          "M.T. v. UKRAINE",
          "MOSKALEV v. RUSSIA",
          "MURUZHEVA v. RUSSIA",
          "O.C.I. AND OTHERS v. ROMANIA",
          "OTGON v. THE REPUBLIC OF MOLDOVA",
          "PAKHTUSOV v. RUSSIA",
          "PANYUSHKINY v. RUSSIA",
          "RESIN v. RUSSIA",
          "S.N. v. RUSSIA",
          "S.V. v. ITALY",
          "SHVIDKIYE v. RUSSIA",
          "SIDOROVA v. RUSSIA",
          "SOLCAN v. ROMANIA",
          "STANA v. ROMANIA",
          "VISY v. SLOVAKIA",
          "YAKUSHEV v. UKRAINE",
          "YERMAKOVICH v. RUSSIA",
          "YEVGENIY ZAKHAROV v. RUSSIA",
          "_NODI v. HUNGARY"
         ],
         "yaxis": "y"
        },
        {
         "legendgroup": "mistral:latest",
         "marker": {
          "color": "rgb(152,78,163)"
         },
         "name": "mistral:latest",
         "offsetgroup": "3",
         "orientation": "h",
         "showlegend": true,
         "text": [
          "0.158",
          "0.105",
          "",
          "",
          "0.640",
          "0.286",
          "0.440",
          "0.167",
          "",
          "",
          "0.438",
          "0.387",
          "0.393",
          "",
          "",
          "0.419",
          "0.375",
          "",
          "",
          "",
          "",
          "0.344",
          "0.077",
          "0.542",
          "0.375",
          "",
          "0.720",
          "0.400",
          "0.062",
          "0.214"
         ],
         "textfont": {
          "size": 6
         },
         "textposition": "auto",
         "type": "bar",
         "width": 0.2,
         "x": {
          "bdata": "XkN5DeU1xD8or6G8hvK6PwAAAAAAAAAAAAAAAAAAAAB7FK5H4XrkP5IkSZIkSdI/KVyPwvUo3D9VVVVVVVXFPwAAAAAAAAAAAAAAAAAAAAAAAAAAAADcP8YYY4wxxtg/SZIkSZIk2T8AAAAAAAAAAAAAAAAAAAAA11prrbXW2j8AAAAAAADYPwAAAAAAAAAAAAAAAAAAAAAAAAAAAAAAAAAAAAAAAAAAAAAAAAAA1j8UO7ETO7GzP1VVVVVVVeE/AAAAAAAA2D8AAAAAAAAAAArXo3A9Cuc/mpmZmZmZ2T8AAAAAAACwP9u2bdu2bcs/",
          "dtype": "f8"
         },
         "xaxis": "x",
         "y": [
          "ALTAY v. TURKEY (No. 2)",
          "BELYAYEV AND OTHERS v. UKRAINE",
          "BIGUN v. UKRAINE",
          "CABUCAK v. GERMANY",
          "CAN v. TURKEY",
          "CRISTIAN CATALIN UNGUREANU v. ROMANIA",
          "DOKTOROV v. BULGARIA",
          "EGILL EINARSSON v. ICELAND (No. 2)",
          "H_INESS v. NORWAY (1)",
          "KOSAITE - CYPIENE AND OTHERS v. LITHUANIA",
          "LOZOVYYE v. RUSSIA",
          "M.T. v. UKRAINE",
          "MOSKALEV v. RUSSIA",
          "MURUZHEVA v. RUSSIA",
          "O.C.I. AND OTHERS v. ROMANIA",
          "OTGON v. THE REPUBLIC OF MOLDOVA",
          "PAKHTUSOV v. RUSSIA",
          "PANYUSHKINY v. RUSSIA",
          "RESIN v. RUSSIA",
          "S.N. v. RUSSIA",
          "S.V. v. ITALY",
          "SHVIDKIYE v. RUSSIA",
          "SIDOROVA v. RUSSIA",
          "SOLCAN v. ROMANIA",
          "STANA v. ROMANIA",
          "VISY v. SLOVAKIA",
          "YAKUSHEV v. UKRAINE",
          "YERMAKOVICH v. RUSSIA",
          "YEVGENIY ZAKHAROV v. RUSSIA",
          "_NODI v. HUNGARY"
         ],
         "yaxis": "y"
        },
        {
         "legendgroup": "gemma3:12b",
         "marker": {
          "color": "rgb(228,26,28)"
         },
         "offsetgroup": "0",
         "orientation": "h",
         "showlegend": false,
         "text": [
          "0.209",
          "0.073",
          "0.088",
          "0.025",
          "0.500",
          "0.256",
          "0.304",
          "0.273",
          "",
          "",
          "0.192",
          "",
          "0.568",
          "0.041",
          "0.268",
          "0.740",
          "0.340",
          "0.116",
          "0.279",
          "",
          "0.014",
          "0.165",
          "0.593",
          "0.182",
          "0.593",
          "0.148",
          "0.531",
          "0.023",
          "0.266",
          "0.114"
         ],
         "textfont": {
          "size": 6
         },
         "textposition": "auto",
         "type": "bar",
         "width": 0.2,
         "x": {
          "bdata": "m6u5mqu5yj+7ErUrUbuyP0xnMZ3FdLY/4OnW/LBImT8AAAAAAADgPxj0BX1BX9A/OL3pTW960z900UUXXXTRPwAAAAAAAAAAAAAAAAAAAADEiBEjRozIPwAAAAAAAAAAL7rooosu4j8VFRUVFRWlP5Fp2G6WJ9E/rkfhehSu5z/D9Shcj8LVP3FH3BF3xL0/4uHh4eHh0T8AAAAAAAAAANC6wRT5rIs/lVEZlVEZxT9oL6G9hPbiP0YXXXTRRcc/aC+hvYT24j+CdbR5n+LCPz801ofG+uA/AAAAAAAAmD8AAAAAAADRPyMdNtJhI70/",
          "dtype": "f8"
         },
         "xaxis": "x2",
         "y": [
          "ALTAY v. TURKEY (No. 2)",
          "BELYAYEV AND OTHERS v. UKRAINE",
          "BIGUN v. UKRAINE",
          "CABUCAK v. GERMANY",
          "CAN v. TURKEY",
          "CRISTIAN CATALIN UNGUREANU v. ROMANIA",
          "DOKTOROV v. BULGARIA",
          "EGILL EINARSSON v. ICELAND (No. 2)",
          "H_INESS v. NORWAY (1)",
          "KOSAITE - CYPIENE AND OTHERS v. LITHUANIA",
          "LOZOVYYE v. RUSSIA",
          "M.T. v. UKRAINE",
          "MOSKALEV v. RUSSIA",
          "MURUZHEVA v. RUSSIA",
          "O.C.I. AND OTHERS v. ROMANIA",
          "OTGON v. THE REPUBLIC OF MOLDOVA",
          "PAKHTUSOV v. RUSSIA",
          "PANYUSHKINY v. RUSSIA",
          "RESIN v. RUSSIA",
          "S.N. v. RUSSIA",
          "S.V. v. ITALY",
          "SHVIDKIYE v. RUSSIA",
          "SIDOROVA v. RUSSIA",
          "SOLCAN v. ROMANIA",
          "STANA v. ROMANIA",
          "VISY v. SLOVAKIA",
          "YAKUSHEV v. UKRAINE",
          "YERMAKOVICH v. RUSSIA",
          "YEVGENIY ZAKHAROV v. RUSSIA",
          "_NODI v. HUNGARY"
         ],
         "yaxis": "y2"
        },
        {
         "legendgroup": "gemma3:1b",
         "marker": {
          "color": "rgb(55,126,184)"
         },
         "offsetgroup": "1",
         "orientation": "h",
         "showlegend": false,
         "text": [
          "0.055",
          "0.122",
          "0.053",
          "",
          "0.188",
          "0.093",
          "",
          "",
          "",
          "0.014",
          "0.096",
          "0.070",
          "0.136",
          "0.012",
          "",
          "",
          "0.040",
          "0.016",
          "0.074",
          "",
          "0.014",
          "0.088",
          "0.019",
          "0.218",
          "0.296",
          "0.033",
          "0.184",
          "0.016",
          "0.031",
          "0.041"
         ],
         "textfont": {
          "size": 6
         },
         "textposition": "auto",
         "type": "bar",
         "width": 0.2,
         "x": {
          "bdata": "HMIhHMIhrD84H4PzMTi/PyivobyG8qo/AAAAAAAAAAAAAAAAAADIP/QFfUFf0Lc/AAAAAAAAAAAAAAAAAAAAAAAAAAAAAAAA0LrBFPmsiz/EiBEjRoy4P3AfwX0E97E/dNFFF110wT8YGBgYGBiIPwAAAAAAAAAAAAAAAAAAAAB7FK5H4XqkP/AH/AF/wI8/09LS0tLSsj8AAAAAAAAAANC6wRT5rIs/F2iBFmiBtj9oL6G9hPaSP+0b1r5h7cs/aC+hvYT20j872rxPccmgP+HlFLycgsc/AAAAAAAAkD8AAAAAAACgP9AUAk0h0KQ/",
          "dtype": "f8"
         },
         "xaxis": "x2",
         "y": [
          "ALTAY v. TURKEY (No. 2)",
          "BELYAYEV AND OTHERS v. UKRAINE",
          "BIGUN v. UKRAINE",
          "CABUCAK v. GERMANY",
          "CAN v. TURKEY",
          "CRISTIAN CATALIN UNGUREANU v. ROMANIA",
          "DOKTOROV v. BULGARIA",
          "EGILL EINARSSON v. ICELAND (No. 2)",
          "H_INESS v. NORWAY (1)",
          "KOSAITE - CYPIENE AND OTHERS v. LITHUANIA",
          "LOZOVYYE v. RUSSIA",
          "M.T. v. UKRAINE",
          "MOSKALEV v. RUSSIA",
          "MURUZHEVA v. RUSSIA",
          "O.C.I. AND OTHERS v. ROMANIA",
          "OTGON v. THE REPUBLIC OF MOLDOVA",
          "PAKHTUSOV v. RUSSIA",
          "PANYUSHKINY v. RUSSIA",
          "RESIN v. RUSSIA",
          "S.N. v. RUSSIA",
          "S.V. v. ITALY",
          "SHVIDKIYE v. RUSSIA",
          "SIDOROVA v. RUSSIA",
          "SOLCAN v. ROMANIA",
          "STANA v. ROMANIA",
          "VISY v. SLOVAKIA",
          "YAKUSHEV v. UKRAINE",
          "YERMAKOVICH v. RUSSIA",
          "YEVGENIY ZAKHAROV v. RUSSIA",
          "_NODI v. HUNGARY"
         ],
         "yaxis": "y2"
        },
        {
         "legendgroup": "gemma3:4b",
         "marker": {
          "color": "rgb(77,175,74)"
         },
         "offsetgroup": "2",
         "orientation": "h",
         "showlegend": false,
         "text": [
          "0.176",
          "",
          "",
          "",
          "0.500",
          "",
          "0.478",
          "0.055",
          "",
          "",
          "0.137",
          "0.105",
          "0.227",
          "0.018",
          "0.175",
          "",
          "0.460",
          "0.147",
          "0.191",
          "",
          "0.014",
          "0.154",
          "0.037",
          "0.273",
          "0.222",
          "0.049",
          "0.388",
          "",
          "0.188",
          "0.098"
         ],
         "textfont": {
          "size": 6
         },
         "textposition": "auto",
         "type": "bar",
         "width": 0.2,
         "x": {
          "bdata": "F2iBFmiBxj8AAAAAAAAAAAAAAAAAAAAAAAAAAAAAAAAAAAAAAADgPwAAAAAAAAAA6k1vetOb3j/tG9a+Ye2rPwAAAAAAAAAAAAAAAAAAAACMGDFixIjBPyivobyG8ro/F1100UUXzT8SEhISEhKSP5YnkWnYbsY/AAAAAAAAAABxPQrXo3DdP7ekLWlL2sI/eHh4eHh4yD8AAAAAAAAAANC6wRT5rIs/FDuxEzuxwz9oL6G9hPaiP3TRRRdddNE/HMdxHMdxzD9YR5v3KS6pPzTWh8b60Ng/AAAAAAAAAAAAAAAAAADIP/oYnI/B+bg/",
          "dtype": "f8"
         },
         "xaxis": "x2",
         "y": [
          "ALTAY v. TURKEY (No. 2)",
          "BELYAYEV AND OTHERS v. UKRAINE",
          "BIGUN v. UKRAINE",
          "CABUCAK v. GERMANY",
          "CAN v. TURKEY",
          "CRISTIAN CATALIN UNGUREANU v. ROMANIA",
          "DOKTOROV v. BULGARIA",
          "EGILL EINARSSON v. ICELAND (No. 2)",
          "H_INESS v. NORWAY (1)",
          "KOSAITE - CYPIENE AND OTHERS v. LITHUANIA",
          "LOZOVYYE v. RUSSIA",
          "M.T. v. UKRAINE",
          "MOSKALEV v. RUSSIA",
          "MURUZHEVA v. RUSSIA",
          "O.C.I. AND OTHERS v. ROMANIA",
          "OTGON v. THE REPUBLIC OF MOLDOVA",
          "PAKHTUSOV v. RUSSIA",
          "PANYUSHKINY v. RUSSIA",
          "RESIN v. RUSSIA",
          "S.N. v. RUSSIA",
          "S.V. v. ITALY",
          "SHVIDKIYE v. RUSSIA",
          "SIDOROVA v. RUSSIA",
          "SOLCAN v. ROMANIA",
          "STANA v. ROMANIA",
          "VISY v. SLOVAKIA",
          "YAKUSHEV v. UKRAINE",
          "YERMAKOVICH v. RUSSIA",
          "YEVGENIY ZAKHAROV v. RUSSIA",
          "_NODI v. HUNGARY"
         ],
         "yaxis": "y2"
        },
        {
         "legendgroup": "mistral:latest",
         "marker": {
          "color": "rgb(152,78,163)"
         },
         "offsetgroup": "3",
         "orientation": "h",
         "showlegend": false,
         "text": [
          "0.033",
          "0.049",
          "",
          "",
          "0.250",
          "0.116",
          "0.239",
          "0.018",
          "",
          "",
          "0.096",
          "0.211",
          "0.250",
          "",
          "",
          "0.260",
          "0.180",
          "",
          "",
          "",
          "",
          "0.121",
          "0.019",
          "0.236",
          "0.444",
          "",
          "0.367",
          "0.016",
          "0.016",
          "0.024"
         ],
         "textfont": {
          "size": 6
         },
         "textposition": "auto",
         "type": "bar",
         "width": 0.2,
         "x": {
          "bdata": "EQ7hEA7hoD/6GJyPwfmoPwAAAAAAAAAAAAAAAAAAAAAAAAAAAADQP3FH3BF3xL0/6k1vetObzj+eEuQpQZ6SPwAAAAAAAAAAAAAAAAAAAADEiBEjRoy4PyivobyG8so/AAAAAAAA0D8AAAAAAAAAAAAAAAAAAAAApHA9Ctej0D8K16NwPQrHPwAAAAAAAAAAAAAAAAAAAAAAAAAAAAAAAAAAAAAAAAAAH+/xHu/xvj9oL6G9hPaSP0GeEuQpQc4/HMdxHMdx3D8AAAAAAAAAAOHlFLycgtc/AAAAAAAAkD8AAAAAAACQP/oYnI/B+Zg/",
          "dtype": "f8"
         },
         "xaxis": "x2",
         "y": [
          "ALTAY v. TURKEY (No. 2)",
          "BELYAYEV AND OTHERS v. UKRAINE",
          "BIGUN v. UKRAINE",
          "CABUCAK v. GERMANY",
          "CAN v. TURKEY",
          "CRISTIAN CATALIN UNGUREANU v. ROMANIA",
          "DOKTOROV v. BULGARIA",
          "EGILL EINARSSON v. ICELAND (No. 2)",
          "H_INESS v. NORWAY (1)",
          "KOSAITE - CYPIENE AND OTHERS v. LITHUANIA",
          "LOZOVYYE v. RUSSIA",
          "M.T. v. UKRAINE",
          "MOSKALEV v. RUSSIA",
          "MURUZHEVA v. RUSSIA",
          "O.C.I. AND OTHERS v. ROMANIA",
          "OTGON v. THE REPUBLIC OF MOLDOVA",
          "PAKHTUSOV v. RUSSIA",
          "PANYUSHKINY v. RUSSIA",
          "RESIN v. RUSSIA",
          "S.N. v. RUSSIA",
          "S.V. v. ITALY",
          "SHVIDKIYE v. RUSSIA",
          "SIDOROVA v. RUSSIA",
          "SOLCAN v. ROMANIA",
          "STANA v. ROMANIA",
          "VISY v. SLOVAKIA",
          "YAKUSHEV v. UKRAINE",
          "YERMAKOVICH v. RUSSIA",
          "YEVGENIY ZAKHAROV v. RUSSIA",
          "_NODI v. HUNGARY"
         ],
         "yaxis": "y2"
        },
        {
         "legendgroup": "gemma3:12b",
         "marker": {
          "color": "rgb(228,26,28)"
         },
         "offsetgroup": "0",
         "orientation": "h",
         "showlegend": false,
         "text": [
          "0.302",
          "0.115",
          "0.123",
          "0.048",
          "0.577",
          "0.314",
          "0.326",
          "0.370",
          "",
          "",
          "0.171",
          "",
          "0.515",
          "0.074",
          "0.400",
          "0.521",
          "0.410",
          "0.189",
          "0.339",
          "",
          "0.024",
          "0.259",
          "0.571",
          "0.213",
          "0.542",
          "0.212",
          "0.520",
          "0.042",
          "0.337",
          "0.169"
         ],
         "textfont": {
          "size": 6
         },
         "textposition": "auto",
         "type": "bar",
         "width": 0.2,
         "x": {
          "bdata": "0zRN0zRN0z+c2Imd2Im9P1mkDDzdmr8/GIZhGIZhqD81J4G4UHPiP9RBHdRBHdQ/NWVNWVPW1D9CewntJbTXPwAAAAAAAAAAAAAAAAAAAADblahdidrFPwAAAAAAAAAA0VGBL65+4D9LriAmVxCzP5qZmZmZmdk/ohU2BxKt4D/ksmKghDfaP/JW9jmkJsg/b9u2bdu21T8AAAAAAAAAABiGYRiGYZg/3dMIyz2N0D+SJEmSJEniP23UdzbqO8s/DSd1Xx5b4T8cGxsbGxvLP6NwPQrXo+A/LSkHRIZ7pT+bB7nrZ4vVPzR1fu0hl8U/",
          "dtype": "f8"
         },
         "xaxis": "x3",
         "y": [
          "ALTAY v. TURKEY (No. 2)",
          "BELYAYEV AND OTHERS v. UKRAINE",
          "BIGUN v. UKRAINE",
          "CABUCAK v. GERMANY",
          "CAN v. TURKEY",
          "CRISTIAN CATALIN UNGUREANU v. ROMANIA",
          "DOKTOROV v. BULGARIA",
          "EGILL EINARSSON v. ICELAND (No. 2)",
          "H_INESS v. NORWAY (1)",
          "KOSAITE - CYPIENE AND OTHERS v. LITHUANIA",
          "LOZOVYYE v. RUSSIA",
          "M.T. v. UKRAINE",
          "MOSKALEV v. RUSSIA",
          "MURUZHEVA v. RUSSIA",
          "O.C.I. AND OTHERS v. ROMANIA",
          "OTGON v. THE REPUBLIC OF MOLDOVA",
          "PAKHTUSOV v. RUSSIA",
          "PANYUSHKINY v. RUSSIA",
          "RESIN v. RUSSIA",
          "S.N. v. RUSSIA",
          "S.V. v. ITALY",
          "SHVIDKIYE v. RUSSIA",
          "SIDOROVA v. RUSSIA",
          "SOLCAN v. ROMANIA",
          "STANA v. ROMANIA",
          "VISY v. SLOVAKIA",
          "YAKUSHEV v. UKRAINE",
          "YERMAKOVICH v. RUSSIA",
          "YEVGENIY ZAKHAROV v. RUSSIA",
          "_NODI v. HUNGARY"
         ],
         "yaxis": "y3"
        },
        {
         "legendgroup": "gemma3:1b",
         "marker": {
          "color": "rgb(55,126,184)"
         },
         "offsetgroup": "1",
         "orientation": "h",
         "showlegend": false,
         "text": [
          "0.088",
          "0.172",
          "0.072",
          "",
          "0.286",
          "0.139",
          "",
          "",
          "",
          "0.026",
          "0.144",
          "0.116",
          "0.111",
          "0.023",
          "",
          "",
          "0.077",
          "0.029",
          "0.112",
          "",
          "0.027",
          "0.126",
          "0.033",
          "0.293",
          "0.327",
          "0.041",
          "0.269",
          "0.030",
          "0.060",
          "0.062"
         ],
         "textfont": {
          "size": 6
         },
         "textposition": "auto",
         "type": "bar",
         "width": 0.2,
         "x": {
          "bdata": "TGcxncV0tj97GmG5pxHGP7/2kMuKgbI/AAAAAAAAAACSJEmSJEnSPx2Boq0Gz8E/AAAAAAAAAAAAAAAAAAAAAAAAAAAAAAAAKa+hvIbymj8TmYbtZnnCP9uBuXZgrr0/HMdxHMdxvD/0BX1BX9CXPwAAAAAAAAAAAAAAAAAAAAAUO7ETO7GzP9qBuXZgrp0/zGEOc5jDvD8AAAAAAAAAAE4b6LSBTps/CAQCgUAgwD8RERERERGhP7sStStRu9I/OQUvp+Dl1D85BS+n4OWkPypnt/CrMdE/CB988MEHnz9nt/CrMZGuP4/mDzYeza8/",
          "dtype": "f8"
         },
         "xaxis": "x3",
         "y": [
          "ALTAY v. TURKEY (No. 2)",
          "BELYAYEV AND OTHERS v. UKRAINE",
          "BIGUN v. UKRAINE",
          "CABUCAK v. GERMANY",
          "CAN v. TURKEY",
          "CRISTIAN CATALIN UNGUREANU v. ROMANIA",
          "DOKTOROV v. BULGARIA",
          "EGILL EINARSSON v. ICELAND (No. 2)",
          "H_INESS v. NORWAY (1)",
          "KOSAITE - CYPIENE AND OTHERS v. LITHUANIA",
          "LOZOVYYE v. RUSSIA",
          "M.T. v. UKRAINE",
          "MOSKALEV v. RUSSIA",
          "MURUZHEVA v. RUSSIA",
          "O.C.I. AND OTHERS v. ROMANIA",
          "OTGON v. THE REPUBLIC OF MOLDOVA",
          "PAKHTUSOV v. RUSSIA",
          "PANYUSHKINY v. RUSSIA",
          "RESIN v. RUSSIA",
          "S.N. v. RUSSIA",
          "S.V. v. ITALY",
          "SHVIDKIYE v. RUSSIA",
          "SIDOROVA v. RUSSIA",
          "SOLCAN v. ROMANIA",
          "STANA v. ROMANIA",
          "VISY v. SLOVAKIA",
          "YAKUSHEV v. UKRAINE",
          "YERMAKOVICH v. RUSSIA",
          "YEVGENIY ZAKHAROV v. RUSSIA",
          "_NODI v. HUNGARY"
         ],
         "yaxis": "y3"
        },
        {
         "legendgroup": "gemma3:4b",
         "marker": {
          "color": "rgb(77,175,74)"
         },
         "offsetgroup": "2",
         "orientation": "h",
         "showlegend": false,
         "text": [
          "0.237",
          "",
          "",
          "",
          "0.332",
          "",
          "0.404",
          "0.067",
          "",
          "",
          "0.160",
          "0.143",
          "0.290",
          "0.032",
          "0.248",
          "",
          "0.272",
          "0.224",
          "0.241",
          "",
          "0.021",
          "0.226",
          "0.062",
          "0.323",
          "0.160",
          "0.080",
          "0.458",
          "",
          "0.279",
          "0.148"
         ],
         "textfont": {
          "size": 6
         },
         "textposition": "auto",
         "type": "bar",
         "width": 0.2,
         "x": {
          "bdata": "c+UByTpXzj8AAAAAAAAAAAAAAAAAAAAAAAAAAAAAAADrD/RICTnVPwAAAAAAAAAAW52RirnV2T8UoQhFKEKxPwAAAAAAAAAAAAAAAAAAAAB8FK5H4XrEP5IkSZIkScI/KfEzSvyM0j+EEEIIIYSgP/MOOFI0xM8/AAAAAAAAAAAveTDgjGvRP52cnJycnMw/C+0ltJfQzj8AAAAAAAAAAFZVVVVVVZU/6ZxzzjnnzD8f+IEf+IGvP6WUUkoppdQ/exSuR+F6xD98FK5H4Xq0P1kxUMIbTd0/AAAAAAAAAAB3xB1xR9zRP2kvob2E9sI/",
          "dtype": "f8"
         },
         "xaxis": "x3",
         "y": [
          "ALTAY v. TURKEY (No. 2)",
          "BELYAYEV AND OTHERS v. UKRAINE",
          "BIGUN v. UKRAINE",
          "CABUCAK v. GERMANY",
          "CAN v. TURKEY",
          "CRISTIAN CATALIN UNGUREANU v. ROMANIA",
          "DOKTOROV v. BULGARIA",
          "EGILL EINARSSON v. ICELAND (No. 2)",
          "H_INESS v. NORWAY (1)",
          "KOSAITE - CYPIENE AND OTHERS v. LITHUANIA",
          "LOZOVYYE v. RUSSIA",
          "M.T. v. UKRAINE",
          "MOSKALEV v. RUSSIA",
          "MURUZHEVA v. RUSSIA",
          "O.C.I. AND OTHERS v. ROMANIA",
          "OTGON v. THE REPUBLIC OF MOLDOVA",
          "PAKHTUSOV v. RUSSIA",
          "PANYUSHKINY v. RUSSIA",
          "RESIN v. RUSSIA",
          "S.N. v. RUSSIA",
          "S.V. v. ITALY",
          "SHVIDKIYE v. RUSSIA",
          "SIDOROVA v. RUSSIA",
          "SOLCAN v. ROMANIA",
          "STANA v. ROMANIA",
          "VISY v. SLOVAKIA",
          "YAKUSHEV v. UKRAINE",
          "YERMAKOVICH v. RUSSIA",
          "YEVGENIY ZAKHAROV v. RUSSIA",
          "_NODI v. HUNGARY"
         ],
         "yaxis": "y3"
        },
        {
         "legendgroup": "mistral:latest",
         "marker": {
          "color": "rgb(152,78,163)"
         },
         "offsetgroup": "3",
         "orientation": "h",
         "showlegend": false,
         "text": [
          "0.055",
          "0.067",
          "",
          "",
          "0.360",
          "0.165",
          "0.310",
          "0.033",
          "",
          "",
          "0.157",
          "0.273",
          "0.306",
          "",
          "",
          "0.321",
          "0.243",
          "",
          "",
          "",
          "",
          "0.179",
          "0.030",
          "0.329",
          "0.407",
          "",
          "0.486",
          "0.030",
          "0.025",
          "0.044"
         ],
         "textfont": {
          "size": 6
         },
         "textposition": "auto",
         "type": "bar",
         "width": 0.2,
         "x": {
          "bdata": "7hvWvmHtqz8RERERERGxPwAAAAAAAAAAAAAAAAAAAABwgQtc4ALXP7RD4MYyKMU/mHoyfrvU0z862rxPccmgPwAAAAAAAAAAAAAAAAAAAABDEYpQhCLEP3TRRRdddNE/5DiO4ziO0z8AAAAAAAAAAAAAAAAAAAAABp5uzQ+L1D8r8lk3mCLPPwAAAAAAAAAAAAAAAAAAAAAAAAAAAAAAAAAAAAAAAAAA5BZPbvHkxj9nt/CrMZGePyEqHdkzENU/k7ovj60I2j8AAAAAAAAAACryWTeYIt8/wOwBswfMnj+amZmZmZmZP+hk+iphbKY/",
          "dtype": "f8"
         },
         "xaxis": "x3",
         "y": [
          "ALTAY v. TURKEY (No. 2)",
          "BELYAYEV AND OTHERS v. UKRAINE",
          "BIGUN v. UKRAINE",
          "CABUCAK v. GERMANY",
          "CAN v. TURKEY",
          "CRISTIAN CATALIN UNGUREANU v. ROMANIA",
          "DOKTOROV v. BULGARIA",
          "EGILL EINARSSON v. ICELAND (No. 2)",
          "H_INESS v. NORWAY (1)",
          "KOSAITE - CYPIENE AND OTHERS v. LITHUANIA",
          "LOZOVYYE v. RUSSIA",
          "M.T. v. UKRAINE",
          "MOSKALEV v. RUSSIA",
          "MURUZHEVA v. RUSSIA",
          "O.C.I. AND OTHERS v. ROMANIA",
          "OTGON v. THE REPUBLIC OF MOLDOVA",
          "PAKHTUSOV v. RUSSIA",
          "PANYUSHKINY v. RUSSIA",
          "RESIN v. RUSSIA",
          "S.N. v. RUSSIA",
          "S.V. v. ITALY",
          "SHVIDKIYE v. RUSSIA",
          "SIDOROVA v. RUSSIA",
          "SOLCAN v. ROMANIA",
          "STANA v. ROMANIA",
          "VISY v. SLOVAKIA",
          "YAKUSHEV v. UKRAINE",
          "YERMAKOVICH v. RUSSIA",
          "YEVGENIY ZAKHAROV v. RUSSIA",
          "_NODI v. HUNGARY"
         ],
         "yaxis": "y3"
        },
        {
         "legendgroup": "gemma3:12b",
         "marker": {
          "color": "rgb(228,26,28)"
         },
         "offsetgroup": "0",
         "orientation": "h",
         "showlegend": false,
         "text": [
          "0.518",
          "0.235",
          "0.280",
          "0.635",
          "0.612",
          "0.429",
          "0.410",
          "0.559",
          "0.570",
          "0.750",
          "0.583",
          "0.548",
          "0.533",
          "0.677",
          "0.711",
          "0.405",
          "0.650",
          "0.703",
          "0.538",
          "0.143",
          "0.528",
          "0.595",
          "0.649",
          "0.686",
          "0.370",
          "0.417",
          "0.604",
          "0.348",
          "0.565",
          "0.471"
         ],
         "textfont": {
          "size": 6
         },
         "textposition": "auto",
         "type": "bar",
         "width": 0.2,
         "x": {
          "bdata": "JUmSJEmS4D8eHh4eHh7OP+xRuB6F69E/MEU+6wZT5D9+NSbSA5XjP9u2bdu2bds/GqRBGqRB2j/i4eHh4eHhP3Vkz0BUOuI/AAAAAAAA6D+rqqqqqqriP4wxxhhjjOE/ERERERER4T+ttdZaa63lP8prKK+hvOY/I591gyny2T/NzMzMzMzkPxdogRZogeY/sRM7sRM74T+SJEmSJEnCP6kJxlvZ5+A/bzBFPusG4z8cTJHPusHkPxZf8RVf8eU/QnsJ7SW01z+rqqqqqqraP1VVVVVVVeM/ZCELWchC1j8hC1nIQhbiPx4eHh4eHt4/",
          "dtype": "f8"
         },
         "xaxis": "x4",
         "y": [
          "ALTAY v. TURKEY (No. 2)",
          "BELYAYEV AND OTHERS v. UKRAINE",
          "BIGUN v. UKRAINE",
          "CABUCAK v. GERMANY",
          "CAN v. TURKEY",
          "CRISTIAN CATALIN UNGUREANU v. ROMANIA",
          "DOKTOROV v. BULGARIA",
          "EGILL EINARSSON v. ICELAND (No. 2)",
          "H_INESS v. NORWAY (1)",
          "KOSAITE - CYPIENE AND OTHERS v. LITHUANIA",
          "LOZOVYYE v. RUSSIA",
          "M.T. v. UKRAINE",
          "MOSKALEV v. RUSSIA",
          "MURUZHEVA v. RUSSIA",
          "O.C.I. AND OTHERS v. ROMANIA",
          "OTGON v. THE REPUBLIC OF MOLDOVA",
          "PAKHTUSOV v. RUSSIA",
          "PANYUSHKINY v. RUSSIA",
          "RESIN v. RUSSIA",
          "S.N. v. RUSSIA",
          "S.V. v. ITALY",
          "SHVIDKIYE v. RUSSIA",
          "SIDOROVA v. RUSSIA",
          "SOLCAN v. ROMANIA",
          "STANA v. ROMANIA",
          "VISY v. SLOVAKIA",
          "YAKUSHEV v. UKRAINE",
          "YERMAKOVICH v. RUSSIA",
          "YEVGENIY ZAKHAROV v. RUSSIA",
          "_NODI v. HUNGARY"
         ],
         "yaxis": "y4"
        },
        {
         "legendgroup": "gemma3:1b",
         "marker": {
          "color": "rgb(55,126,184)"
         },
         "offsetgroup": "1",
         "orientation": "h",
         "showlegend": false,
         "text": [
          "0.121",
          "0.222",
          "1.000",
          "0.051",
          "0.379",
          "0.367",
          "0.262",
          "",
          "",
          "0.750",
          "0.306",
          "0.279",
          "0.200",
          "",
          "0.227",
          "0.226",
          "0.341",
          "",
          "0.211",
          "0.150",
          "",
          "",
          "0.154",
          "0.364",
          "0.538",
          "0.043",
          "0.464",
          "0.250",
          "0.417",
          "0.463"
         ],
         "textfont": {
          "size": 6
         },
         "textposition": "auto",
         "type": "bar",
         "width": 0.2,
         "x": {
          "bdata": "CB988MEHvz8cx3Ecx3HMPwAAAAAAAPA/lLovj60Iqj/uaYTlnkbYP+HlFLycgtc/MQzDMAzD0D8AAAAAAAAAAAAAAAAAAAAAAAAAAAAA6D/mFLycgpfTP3fEHXFH3NE/mpmZmZmZyT8AAAAAAAAAABdddNFFF80/IjXBeCv7zD/blahdidrVPwAAAAAAAAAAKK+hvIbyyj8zMzMzMzPDPwAAAAAAAAAAAAAAAAAAAAAUO7ETO7HDP0YXXXTRRdc/sRM7sRM74T9kIQtZyEKmP27btm3btt0/AAAAAAAA0D+rqqqqqqraP6ldidqVqN0/",
          "dtype": "f8"
         },
         "xaxis": "x4",
         "y": [
          "ALTAY v. TURKEY (No. 2)",
          "BELYAYEV AND OTHERS v. UKRAINE",
          "BIGUN v. UKRAINE",
          "CABUCAK v. GERMANY",
          "CAN v. TURKEY",
          "CRISTIAN CATALIN UNGUREANU v. ROMANIA",
          "DOKTOROV v. BULGARIA",
          "EGILL EINARSSON v. ICELAND (No. 2)",
          "H_INESS v. NORWAY (1)",
          "KOSAITE - CYPIENE AND OTHERS v. LITHUANIA",
          "LOZOVYYE v. RUSSIA",
          "M.T. v. UKRAINE",
          "MOSKALEV v. RUSSIA",
          "MURUZHEVA v. RUSSIA",
          "O.C.I. AND OTHERS v. ROMANIA",
          "OTGON v. THE REPUBLIC OF MOLDOVA",
          "PAKHTUSOV v. RUSSIA",
          "PANYUSHKINY v. RUSSIA",
          "RESIN v. RUSSIA",
          "S.N. v. RUSSIA",
          "S.V. v. ITALY",
          "SHVIDKIYE v. RUSSIA",
          "SIDOROVA v. RUSSIA",
          "SOLCAN v. ROMANIA",
          "STANA v. ROMANIA",
          "VISY v. SLOVAKIA",
          "YAKUSHEV v. UKRAINE",
          "YERMAKOVICH v. RUSSIA",
          "YEVGENIY ZAKHAROV v. RUSSIA",
          "_NODI v. HUNGARY"
         ],
         "yaxis": "y4"
        },
        {
         "legendgroup": "gemma3:4b",
         "marker": {
          "color": "rgb(77,175,74)"
         },
         "offsetgroup": "2",
         "orientation": "h",
         "showlegend": false,
         "text": [
          "0.420",
          "0.125",
          "0.217",
          "0.312",
          "0.582",
          "0.261",
          "0.333",
          "0.500",
          "0.300",
          "0.625",
          "0.577",
          "0.365",
          "0.380",
          "0.574",
          "0.485",
          "",
          "0.259",
          "0.189",
          "0.524",
          "",
          "0.600",
          "0.710",
          "",
          "0.189",
          "0.440",
          "0.273",
          "0.429",
          "0.333",
          "0.556",
          "0.324"
         ],
         "textfont": {
          "size": 6
         },
         "textposition": "auto",
         "type": "bar",
         "width": 0.2,
         "x": {
          "bdata": "4XoUrkfh2j8AAAAAAADAP73pTW9608s/AAAAAAAA1D+eEuQpQZ7iPwtZyEIWstA/VVVVVVVV1T8AAAAAAADgPzMzMzMzM9M/AAAAAAAA5D9iJ3ZiJ3biPyd2Yid2Ytc/UrgehetR2D+wjjbvU1ziPwgffPDBB98/AAAAAAAAAACRkJCQkJDQP3aDKfJZN8g/MQzDMAzD4D8AAAAAAAAAADMzMzMzM+M/ttZaa6215j8AAAAAAAAAAPJW9jmkJsg/KVyPwvUo3D900UUXXXTRP9u2bdu2bds/VVVVVVVV1T9yHMdxHMfhP3CXejJ+u9Q/",
          "dtype": "f8"
         },
         "xaxis": "x4",
         "y": [
          "ALTAY v. TURKEY (No. 2)",
          "BELYAYEV AND OTHERS v. UKRAINE",
          "BIGUN v. UKRAINE",
          "CABUCAK v. GERMANY",
          "CAN v. TURKEY",
          "CRISTIAN CATALIN UNGUREANU v. ROMANIA",
          "DOKTOROV v. BULGARIA",
          "EGILL EINARSSON v. ICELAND (No. 2)",
          "H_INESS v. NORWAY (1)",
          "KOSAITE - CYPIENE AND OTHERS v. LITHUANIA",
          "LOZOVYYE v. RUSSIA",
          "M.T. v. UKRAINE",
          "MOSKALEV v. RUSSIA",
          "MURUZHEVA v. RUSSIA",
          "O.C.I. AND OTHERS v. ROMANIA",
          "OTGON v. THE REPUBLIC OF MOLDOVA",
          "PAKHTUSOV v. RUSSIA",
          "PANYUSHKINY v. RUSSIA",
          "RESIN v. RUSSIA",
          "S.N. v. RUSSIA",
          "S.V. v. ITALY",
          "SHVIDKIYE v. RUSSIA",
          "SIDOROVA v. RUSSIA",
          "SOLCAN v. ROMANIA",
          "STANA v. ROMANIA",
          "VISY v. SLOVAKIA",
          "YAKUSHEV v. UKRAINE",
          "YERMAKOVICH v. RUSSIA",
          "YEVGENIY ZAKHAROV v. RUSSIA",
          "_NODI v. HUNGARY"
         ],
         "yaxis": "y4"
        },
        {
         "legendgroup": "mistral:latest",
         "marker": {
          "color": "rgb(152,78,163)"
         },
         "offsetgroup": "3",
         "orientation": "h",
         "showlegend": false,
         "text": [
          "0.250",
          "0.136",
          "0.236",
          "0.263",
          "0.475",
          "0.356",
          "0.311",
          "0.315",
          "0.280",
          "0.275",
          "0.487",
          "0.364",
          "0.265",
          "0.522",
          "",
          "0.420",
          "0.305",
          "0.465",
          "0.450",
          "0.170",
          "0.484",
          "0.388",
          "0.184",
          "0.313",
          "0.281",
          "0.182",
          "0.413",
          "0.484",
          "0.195",
          "0.420"
         ],
         "textfont": {
          "size": 6
         },
         "textposition": "auto",
         "type": "bar",
         "width": 0.2,
         "x": {
          "bdata": "AAAAAAAA0D8NJ3VfHlvBP+MZz3jGM84/eQ3lNZTX0D9mZmZmZmbePxdswRZswdY/JkOwjjbv0z9CEYpQhCLUP+SRRx555NE/1hmpmFud0T/f8i3f8i3fP0YXXXTRRdc/hTeaOr/20D/TUwsrPbXgPwAAAAAAAAAA4XoUrkfh2j+D8zE4H4PTP3Icx3Ecx90/zczMzMzM3D9XEJMriMnFPwAAAAAAAN8/87V6dgjc2D/h5RS8nILHP/q1h1xWDNQ/AAAAAAAA0j9GF1100UXHP5qmaZqmado/+N5777333j/FuY5RnOvIP+F6FK5H4do/",
          "dtype": "f8"
         },
         "xaxis": "x4",
         "y": [
          "ALTAY v. TURKEY (No. 2)",
          "BELYAYEV AND OTHERS v. UKRAINE",
          "BIGUN v. UKRAINE",
          "CABUCAK v. GERMANY",
          "CAN v. TURKEY",
          "CRISTIAN CATALIN UNGUREANU v. ROMANIA",
          "DOKTOROV v. BULGARIA",
          "EGILL EINARSSON v. ICELAND (No. 2)",
          "H_INESS v. NORWAY (1)",
          "KOSAITE - CYPIENE AND OTHERS v. LITHUANIA",
          "LOZOVYYE v. RUSSIA",
          "M.T. v. UKRAINE",
          "MOSKALEV v. RUSSIA",
          "MURUZHEVA v. RUSSIA",
          "O.C.I. AND OTHERS v. ROMANIA",
          "OTGON v. THE REPUBLIC OF MOLDOVA",
          "PAKHTUSOV v. RUSSIA",
          "PANYUSHKINY v. RUSSIA",
          "RESIN v. RUSSIA",
          "S.N. v. RUSSIA",
          "S.V. v. ITALY",
          "SHVIDKIYE v. RUSSIA",
          "SIDOROVA v. RUSSIA",
          "SOLCAN v. ROMANIA",
          "STANA v. ROMANIA",
          "VISY v. SLOVAKIA",
          "YAKUSHEV v. UKRAINE",
          "YERMAKOVICH v. RUSSIA",
          "YEVGENIY ZAKHAROV v. RUSSIA",
          "_NODI v. HUNGARY"
         ],
         "yaxis": "y4"
        },
        {
         "legendgroup": "gemma3:12b",
         "marker": {
          "color": "rgb(228,26,28)"
         },
         "offsetgroup": "0",
         "orientation": "h",
         "showlegend": false,
         "text": [
          "0.319",
          "0.293",
          "0.246",
          "0.290",
          "0.641",
          "0.384",
          "0.348",
          "0.345",
          "0.354",
          "0.020",
          "0.384",
          "0.298",
          "0.364",
          "0.247",
          "0.278",
          "0.600",
          "0.520",
          "0.496",
          "0.309",
          "0.018",
          "0.378",
          "0.242",
          "0.444",
          "0.436",
          "0.370",
          "0.246",
          "0.592",
          "0.062",
          "0.203",
          "0.325"
         ],
         "textfont": {
          "size": 6
         },
         "textposition": "auto",
         "type": "bar",
         "width": 0.2,
         "x": {
          "bdata": "VEZlVEZl1D+7ErUrUbvSPwT3EdxHcM8/wdOt+WGR0j8AAAAAAIDkPyTuiDvijtg/ZCELWchC1j8c1r5h7RvWP6vVarVardY/HEyRz7rBlD/EiBEjRozYP2cxncV0FtM/RhdddNFF1z+gn5+fn5/PP1KBL65+0NE/MzMzMzMz4z+kcD0K16PgP/AH/AF/wN8/xMPDw8PD0z83xIB0LGWSP3aDKfJZN9g/H+/xHu/xzj8cx3Ecx3HcP+0b1r5h7ds/QnsJ7SW01z8uGYJ1tHnPP7ycgpdT8OI/AAAAAAAAsD8AAAAAAADKP9AUAk0h0NQ/",
          "dtype": "f8"
         },
         "xaxis": "x5",
         "y": [
          "ALTAY v. TURKEY (No. 2)",
          "BELYAYEV AND OTHERS v. UKRAINE",
          "BIGUN v. UKRAINE",
          "CABUCAK v. GERMANY",
          "CAN v. TURKEY",
          "CRISTIAN CATALIN UNGUREANU v. ROMANIA",
          "DOKTOROV v. BULGARIA",
          "EGILL EINARSSON v. ICELAND (No. 2)",
          "H_INESS v. NORWAY (1)",
          "KOSAITE - CYPIENE AND OTHERS v. LITHUANIA",
          "LOZOVYYE v. RUSSIA",
          "M.T. v. UKRAINE",
          "MOSKALEV v. RUSSIA",
          "MURUZHEVA v. RUSSIA",
          "O.C.I. AND OTHERS v. ROMANIA",
          "OTGON v. THE REPUBLIC OF MOLDOVA",
          "PAKHTUSOV v. RUSSIA",
          "PANYUSHKINY v. RUSSIA",
          "RESIN v. RUSSIA",
          "S.N. v. RUSSIA",
          "S.V. v. ITALY",
          "SHVIDKIYE v. RUSSIA",
          "SIDOROVA v. RUSSIA",
          "SOLCAN v. ROMANIA",
          "STANA v. ROMANIA",
          "VISY v. SLOVAKIA",
          "YAKUSHEV v. UKRAINE",
          "YERMAKOVICH v. RUSSIA",
          "YEVGENIY ZAKHAROV v. RUSSIA",
          "_NODI v. HUNGARY"
         ],
         "yaxis": "y5"
        },
        {
         "legendgroup": "gemma3:1b",
         "marker": {
          "color": "rgb(55,126,184)"
         },
         "offsetgroup": "1",
         "orientation": "h",
         "showlegend": false,
         "text": [
          "0.044",
          "0.146",
          "0.035",
          "0.019",
          "0.172",
          "0.209",
          "0.239",
          "",
          "",
          "0.020",
          "0.205",
          "0.211",
          "0.159",
          "",
          "0.052",
          "0.240",
          "0.280",
          "",
          "0.118",
          "0.018",
          "",
          "",
          "0.037",
          "0.145",
          "0.259",
          "0.016",
          "0.265",
          "0.016",
          "0.156",
          "0.154"
         ],
         "textfont": {
          "size": 6
         },
         "textposition": "auto",
         "type": "bar",
         "width": 0.2,
         "x": {
          "bdata": "F2iBFmiBpj+7ErUrUbvCP3AfwX0E96E/aC+hvYT2kj8AAAAAAADGP7OmrClryso/6k1vetObzj8AAAAAAAAAAAAAAAAAAAAAHEyRz7rBlD/SpEmTJk3KPyivobyG8so/XXTRRRddxD8AAAAAAAAAABq2m+VJZKo/uB6F61G4zj/sUbgehevRPwAAAAAAAAAAHh4eHh4evj83xIB0LGWSPwAAAAAAAAAAAAAAAAAAAABoL6G9hPaiP54S5ClBnsI/ewntJbSX0D872rxPccmQPz801ofG+tA/AAAAAAAAkD8AAAAAAADEP8aTWzy5xcM/",
          "dtype": "f8"
         },
         "xaxis": "x5",
         "y": [
          "ALTAY v. TURKEY (No. 2)",
          "BELYAYEV AND OTHERS v. UKRAINE",
          "BIGUN v. UKRAINE",
          "CABUCAK v. GERMANY",
          "CAN v. TURKEY",
          "CRISTIAN CATALIN UNGUREANU v. ROMANIA",
          "DOKTOROV v. BULGARIA",
          "EGILL EINARSSON v. ICELAND (No. 2)",
          "H_INESS v. NORWAY (1)",
          "KOSAITE - CYPIENE AND OTHERS v. LITHUANIA",
          "LOZOVYYE v. RUSSIA",
          "M.T. v. UKRAINE",
          "MOSKALEV v. RUSSIA",
          "MURUZHEVA v. RUSSIA",
          "O.C.I. AND OTHERS v. ROMANIA",
          "OTGON v. THE REPUBLIC OF MOLDOVA",
          "PAKHTUSOV v. RUSSIA",
          "PANYUSHKINY v. RUSSIA",
          "RESIN v. RUSSIA",
          "S.N. v. RUSSIA",
          "S.V. v. ITALY",
          "SHVIDKIYE v. RUSSIA",
          "SIDOROVA v. RUSSIA",
          "SOLCAN v. ROMANIA",
          "STANA v. ROMANIA",
          "VISY v. SLOVAKIA",
          "YAKUSHEV v. UKRAINE",
          "YERMAKOVICH v. RUSSIA",
          "YEVGENIY ZAKHAROV v. RUSSIA",
          "_NODI v. HUNGARY"
         ],
         "yaxis": "y5"
        },
        {
         "legendgroup": "gemma3:4b",
         "marker": {
          "color": "rgb(77,175,74)"
         },
         "offsetgroup": "2",
         "orientation": "h",
         "showlegend": false,
         "text": [
          "0.231",
          "0.049",
          "0.175",
          "0.062",
          "0.500",
          "0.070",
          "0.217",
          "0.127",
          "0.047",
          "0.034",
          "0.411",
          "0.333",
          "0.432",
          "0.206",
          "0.165",
          "",
          "0.440",
          "0.109",
          "0.162",
          "",
          "0.243",
          "0.242",
          "",
          "0.182",
          "0.407",
          "0.197",
          "0.367",
          "0.016",
          "0.312",
          "0.187"
         ],
         "textfont": {
          "size": 6
         },
         "textposition": "auto",
         "type": "bar",
         "width": 0.2,
         "x": {
          "bdata": "ntiJndiJzT/6GJyPwfmoP0xnMZ3FdMY/WKQMPN2arz8AAAAAAADgP3fEHXFH3LE/velNb3rTyz9KkKcEeUrAPwwGg8FgMKg/whT5rBtMoT/SpEmTJk3aP1VVVVVVVdU/o4suuuii2z9aWlpaWlrKPxX44uoHHcU/AAAAAAAAAAApXI/C9SjcP/KGvCFvyLs/tbS0tLS0xD8AAAAAAAAAACryWTeYIs8/H+/xHu/xzj8AAAAAAAAAAEYXXXTRRcc/L6G9hPYS2j9YR5v3KS7JP+HlFLycgtc/AAAAAAAAkD8AAAAAAADUP++X9X5Z78c/",
          "dtype": "f8"
         },
         "xaxis": "x5",
         "y": [
          "ALTAY v. TURKEY (No. 2)",
          "BELYAYEV AND OTHERS v. UKRAINE",
          "BIGUN v. UKRAINE",
          "CABUCAK v. GERMANY",
          "CAN v. TURKEY",
          "CRISTIAN CATALIN UNGUREANU v. ROMANIA",
          "DOKTOROV v. BULGARIA",
          "EGILL EINARSSON v. ICELAND (No. 2)",
          "H_INESS v. NORWAY (1)",
          "KOSAITE - CYPIENE AND OTHERS v. LITHUANIA",
          "LOZOVYYE v. RUSSIA",
          "M.T. v. UKRAINE",
          "MOSKALEV v. RUSSIA",
          "MURUZHEVA v. RUSSIA",
          "O.C.I. AND OTHERS v. ROMANIA",
          "OTGON v. THE REPUBLIC OF MOLDOVA",
          "PAKHTUSOV v. RUSSIA",
          "PANYUSHKINY v. RUSSIA",
          "RESIN v. RUSSIA",
          "S.N. v. RUSSIA",
          "S.V. v. ITALY",
          "SHVIDKIYE v. RUSSIA",
          "SIDOROVA v. RUSSIA",
          "SOLCAN v. ROMANIA",
          "STANA v. ROMANIA",
          "VISY v. SLOVAKIA",
          "YAKUSHEV v. UKRAINE",
          "YERMAKOVICH v. RUSSIA",
          "YEVGENIY ZAKHAROV v. RUSSIA",
          "_NODI v. HUNGARY"
         ],
         "yaxis": "y5"
        },
        {
         "legendgroup": "mistral:latest",
         "marker": {
          "color": "rgb(152,78,163)"
         },
         "offsetgroup": "3",
         "orientation": "h",
         "showlegend": false,
         "text": [
          "0.330",
          "0.195",
          "0.368",
          "0.278",
          "0.594",
          "0.372",
          "0.413",
          "0.509",
          "0.205",
          "0.203",
          "0.521",
          "0.421",
          "0.500",
          "0.347",
          "",
          "0.420",
          "0.500",
          "0.519",
          "0.265",
          "0.048",
          "0.419",
          "0.516",
          "0.167",
          "0.473",
          "0.333",
          "0.459",
          "0.531",
          "0.234",
          "0.344",
          "0.341"
         ],
         "textfont": {
          "size": 6
         },
         "textposition": "auto",
         "type": "bar",
         "width": 0.2,
         "x": {
          "bdata": "lVEZlVEZ1T/6GJyPwfnIP0N5DeU1lNc/chzHcRzH0T8AAAAAAADjP/QFfUFf0Nc/pze96U1v2j9KkKcEeUrgP41Go9FoNMo/I591gynyyT+FChUqVKjgPyivobyG8to/AAAAAAAA4D82NjY2NjbWPwAAAAAAAAAA4XoUrkfh2j8AAAAAAADgPyjsCXvCnuA/8fDw8PDw0D9KsKvw5YaoP/msG0yRz9o/cQiHcAiH4D9VVVVVVVXFP0GeEuQpQd4/VVVVVVVV1T/nfYpLhmDdPz801ofG+uA/AAAAAAAAzj8AAAAAAADWP9uVqF2J2tU/",
          "dtype": "f8"
         },
         "xaxis": "x5",
         "y": [
          "ALTAY v. TURKEY (No. 2)",
          "BELYAYEV AND OTHERS v. UKRAINE",
          "BIGUN v. UKRAINE",
          "CABUCAK v. GERMANY",
          "CAN v. TURKEY",
          "CRISTIAN CATALIN UNGUREANU v. ROMANIA",
          "DOKTOROV v. BULGARIA",
          "EGILL EINARSSON v. ICELAND (No. 2)",
          "H_INESS v. NORWAY (1)",
          "KOSAITE - CYPIENE AND OTHERS v. LITHUANIA",
          "LOZOVYYE v. RUSSIA",
          "M.T. v. UKRAINE",
          "MOSKALEV v. RUSSIA",
          "MURUZHEVA v. RUSSIA",
          "O.C.I. AND OTHERS v. ROMANIA",
          "OTGON v. THE REPUBLIC OF MOLDOVA",
          "PAKHTUSOV v. RUSSIA",
          "PANYUSHKINY v. RUSSIA",
          "RESIN v. RUSSIA",
          "S.N. v. RUSSIA",
          "S.V. v. ITALY",
          "SHVIDKIYE v. RUSSIA",
          "SIDOROVA v. RUSSIA",
          "SOLCAN v. ROMANIA",
          "STANA v. ROMANIA",
          "VISY v. SLOVAKIA",
          "YAKUSHEV v. UKRAINE",
          "YERMAKOVICH v. RUSSIA",
          "YEVGENIY ZAKHAROV v. RUSSIA",
          "_NODI v. HUNGARY"
         ],
         "yaxis": "y5"
        },
        {
         "legendgroup": "gemma3:12b",
         "marker": {
          "color": "rgb(228,26,28)"
         },
         "offsetgroup": "0",
         "orientation": "h",
         "showlegend": false,
         "text": [
          "0.395",
          "0.261",
          "0.262",
          "0.398",
          "0.626",
          "0.405",
          "0.376",
          "0.427",
          "0.437",
          "0.039",
          "0.463",
          "0.386",
          "0.432",
          "0.362",
          "0.400",
          "0.484",
          "0.578",
          "0.582",
          "0.393",
          "0.032",
          "0.441",
          "0.344",
          "0.527",
          "0.533",
          "0.370",
          "0.309",
          "0.598",
          "0.106",
          "0.299",
          "0.385"
         ],
         "textfont": {
          "size": 6
         },
         "textposition": "auto",
         "type": "bar",
         "width": 0.2,
         "x": {
          "bdata": "UCaudG9A2T8LWchCFrLQP6eu5eBmv9A/WxE0nNR92T+QkmcZ0QfkPzlpHyQD6tk/GBgYGBgY2D+1qU1talPbP6yNoekO9ts/X0N5DeU1pD/8kdN8rZ7dP7rooosuutg/0LrBFPms2z81wnJPIyzXP5mZmZmZmdk/+d5777333j/TJ33SJ33iP54S5ClBnuI/+4VYURof2T9BTK4gJlegPw6Hw+FwONw/AAAAAAAA1j8RDuEQDuHgPxEREREREeE/QnsJ7SW01z+UyDRsN8vTP9Ow3SxPIuM/2YBsQDYguz/jBTIpXiDTP9mJndiJndg/",
          "dtype": "f8"
         },
         "xaxis": "x6",
         "y": [
          "ALTAY v. TURKEY (No. 2)",
          "BELYAYEV AND OTHERS v. UKRAINE",
          "BIGUN v. UKRAINE",
          "CABUCAK v. GERMANY",
          "CAN v. TURKEY",
          "CRISTIAN CATALIN UNGUREANU v. ROMANIA",
          "DOKTOROV v. BULGARIA",
          "EGILL EINARSSON v. ICELAND (No. 2)",
          "H_INESS v. NORWAY (1)",
          "KOSAITE - CYPIENE AND OTHERS v. LITHUANIA",
          "LOZOVYYE v. RUSSIA",
          "M.T. v. UKRAINE",
          "MOSKALEV v. RUSSIA",
          "MURUZHEVA v. RUSSIA",
          "O.C.I. AND OTHERS v. ROMANIA",
          "OTGON v. THE REPUBLIC OF MOLDOVA",
          "PAKHTUSOV v. RUSSIA",
          "PANYUSHKINY v. RUSSIA",
          "RESIN v. RUSSIA",
          "S.N. v. RUSSIA",
          "S.V. v. ITALY",
          "SHVIDKIYE v. RUSSIA",
          "SIDOROVA v. RUSSIA",
          "SOLCAN v. ROMANIA",
          "STANA v. ROMANIA",
          "VISY v. SLOVAKIA",
          "YAKUSHEV v. UKRAINE",
          "YERMAKOVICH v. RUSSIA",
          "YEVGENIY ZAKHAROV v. RUSSIA",
          "_NODI v. HUNGARY"
         ],
         "yaxis": "y6"
        },
        {
         "legendgroup": "gemma3:1b",
         "marker": {
          "color": "rgb(55,126,184)"
         },
         "offsetgroup": "1",
         "orientation": "h",
         "showlegend": false,
         "text": [
          "0.065",
          "0.176",
          "0.068",
          "0.027",
          "0.237",
          "0.267",
          "0.250",
          "",
          "",
          "0.039",
          "0.246",
          "0.240",
          "0.177",
          "",
          "0.084",
          "0.233",
          "0.308",
          "",
          "0.151",
          "0.032",
          "",
          "",
          "0.060",
          "0.208",
          "0.350",
          "0.024",
          "0.338",
          "0.029",
          "0.227",
          "0.232"
         ],
         "textfont": {
          "size": 6
         },
         "textposition": "auto",
         "type": "bar",
         "width": 0.2,
         "x": {
          "bdata": "hBBCCCGEsD+WlpaWlpbGPwwndV8eW7E/GwjNGwjNmz9IHnnkkUfOPxEREREREdE/AAAAAAAA0D8AAAAAAAAAAAAAAAAAAAAAX0N5DeU1pD8uGYJ1tHnPP7gehetRuM4/Xi1uwvyuxj8AAAAAAAAAABU6gxU6g7U/hP1WG0PTzT8UO7ETO7HTPwAAAAAAAAAAwXgr+xxSwz9tEJzKhG2gPwAAAAAAAAAAAAAAAAAAAABnt/CrMZGuP75jamDvmMo/Z2ZmZmZm1j8YhmEYhmGYPwtxVn5CnNU/Hh4eHh4enj8XXXTRRRfNP6ldidqVqM0/",
          "dtype": "f8"
         },
         "xaxis": "x6",
         "y": [
          "ALTAY v. TURKEY (No. 2)",
          "BELYAYEV AND OTHERS v. UKRAINE",
          "BIGUN v. UKRAINE",
          "CABUCAK v. GERMANY",
          "CAN v. TURKEY",
          "CRISTIAN CATALIN UNGUREANU v. ROMANIA",
          "DOKTOROV v. BULGARIA",
          "EGILL EINARSSON v. ICELAND (No. 2)",
          "H_INESS v. NORWAY (1)",
          "KOSAITE - CYPIENE AND OTHERS v. LITHUANIA",
          "LOZOVYYE v. RUSSIA",
          "M.T. v. UKRAINE",
          "MOSKALEV v. RUSSIA",
          "MURUZHEVA v. RUSSIA",
          "O.C.I. AND OTHERS v. ROMANIA",
          "OTGON v. THE REPUBLIC OF MOLDOVA",
          "PAKHTUSOV v. RUSSIA",
          "PANYUSHKINY v. RUSSIA",
          "RESIN v. RUSSIA",
          "S.N. v. RUSSIA",
          "S.V. v. ITALY",
          "SHVIDKIYE v. RUSSIA",
          "SIDOROVA v. RUSSIA",
          "SOLCAN v. ROMANIA",
          "STANA v. ROMANIA",
          "VISY v. SLOVAKIA",
          "YAKUSHEV v. UKRAINE",
          "YERMAKOVICH v. RUSSIA",
          "YEVGENIY ZAKHAROV v. RUSSIA",
          "_NODI v. HUNGARY"
         ],
         "yaxis": "y6"
        },
        {
         "legendgroup": "gemma3:4b",
         "marker": {
          "color": "rgb(77,175,74)"
         },
         "offsetgroup": "2",
         "orientation": "h",
         "showlegend": false,
         "text": [
          "0.298",
          "0.070",
          "0.194",
          "0.103",
          "0.538",
          "0.110",
          "0.263",
          "0.203",
          "0.082",
          "0.064",
          "0.480",
          "0.349",
          "0.404",
          "0.303",
          "0.246",
          "",
          "0.326",
          "0.138",
          "0.247",
          "",
          "0.346",
          "0.361",
          "",
          "0.185",
          "0.423",
          "0.229",
          "0.396",
          "0.030",
          "0.400",
          "0.237"
         ],
         "textfont": {
          "size": 6
         },
         "textposition": "auto",
         "type": "bar",
         "width": 0.2,
         "x": {
          "bdata": "Ta4gJlcQ0z9xH8F9BPexP0PTHey32sg/Grab5Ulkuj8RyDURyDXhP+/CQfT4Lrw/eA3lNZTX0D+gUeJnlPjJPzoFL6fg5bQ/kAZpkAZpsD+4HoXrUbjeP/1kCWzaT9Y/aKO+s1Hf2T9lk0022WTTPx/4gR/4gc8/AAAAAAAAAADATTFq+NvUP5V7GmG5p8E/+9GPfvSjzz8AAAAAAAAAAHZiJ3ZiJ9Y/EayjzfsU1z8AAAAAAAAAAEJ7Ce0ltMc/O7ETO7ET2z8d1EEd1EHNPxqVURmVUdk/Z7fwqzGRnj+ZmZmZmZnZP55EpmG7Wc4/",
          "dtype": "f8"
         },
         "xaxis": "x6",
         "y": [
          "ALTAY v. TURKEY (No. 2)",
          "BELYAYEV AND OTHERS v. UKRAINE",
          "BIGUN v. UKRAINE",
          "CABUCAK v. GERMANY",
          "CAN v. TURKEY",
          "CRISTIAN CATALIN UNGUREANU v. ROMANIA",
          "DOKTOROV v. BULGARIA",
          "EGILL EINARSSON v. ICELAND (No. 2)",
          "H_INESS v. NORWAY (1)",
          "KOSAITE - CYPIENE AND OTHERS v. LITHUANIA",
          "LOZOVYYE v. RUSSIA",
          "M.T. v. UKRAINE",
          "MOSKALEV v. RUSSIA",
          "MURUZHEVA v. RUSSIA",
          "O.C.I. AND OTHERS v. ROMANIA",
          "OTGON v. THE REPUBLIC OF MOLDOVA",
          "PAKHTUSOV v. RUSSIA",
          "PANYUSHKINY v. RUSSIA",
          "RESIN v. RUSSIA",
          "S.N. v. RUSSIA",
          "S.V. v. ITALY",
          "SHVIDKIYE v. RUSSIA",
          "SIDOROVA v. RUSSIA",
          "SOLCAN v. ROMANIA",
          "STANA v. ROMANIA",
          "VISY v. SLOVAKIA",
          "YAKUSHEV v. UKRAINE",
          "YERMAKOVICH v. RUSSIA",
          "YEVGENIY ZAKHAROV v. RUSSIA",
          "_NODI v. HUNGARY"
         ],
         "yaxis": "y6"
        },
        {
         "legendgroup": "mistral:latest",
         "marker": {
          "color": "rgb(152,78,163)"
         },
         "offsetgroup": "3",
         "orientation": "h",
         "showlegend": false,
         "text": [
          "0.284",
          "0.160",
          "0.288",
          "0.270",
          "0.528",
          "0.364",
          "0.355",
          "0.389",
          "0.236",
          "0.233",
          "0.503",
          "0.390",
          "0.346",
          "0.417",
          "",
          "0.420",
          "0.379",
          "0.491",
          "0.333",
          "0.075",
          "0.449",
          "0.443",
          "0.175",
          "0.377",
          "0.305",
          "0.260",
          "0.464",
          "0.316",
          "0.249",
          "0.377"
         ],
         "textfont": {
          "size": 6
         },
         "textposition": "auto",
         "type": "bar",
         "width": 0.2,
         "x": {
          "bdata": "1CagFPUy0j97FK5H4XrEP5MmTZo0adI/wRT5rBtM0T85juM4juPgP0YXXXTRRdc/5CMT6J261j85juM4juPYP0KeEuQpQc4/HeId4h3izT+AbEA2IBvgP/oYnI/B+dg/jMVisVgs1j/LYA+9fa/aPwAAAAAAAAAA4HoUrkfh2j89+OCDDz7YP6D2aZ/2ad8/VlVVVVVV1T+/ECtK4yOzP8y1A3PtwNw/XdnnkJpg3D8jPoFUcl7GP4G5dmCuHdg/78tjK4KG0z9etwrhdavQP27btm3btt0/XkN5DeU11D9CcgGvt9HPP93AqDONG9g/",
          "dtype": "f8"
         },
         "xaxis": "x6",
         "y": [
          "ALTAY v. TURKEY (No. 2)",
          "BELYAYEV AND OTHERS v. UKRAINE",
          "BIGUN v. UKRAINE",
          "CABUCAK v. GERMANY",
          "CAN v. TURKEY",
          "CRISTIAN CATALIN UNGUREANU v. ROMANIA",
          "DOKTOROV v. BULGARIA",
          "EGILL EINARSSON v. ICELAND (No. 2)",
          "H_INESS v. NORWAY (1)",
          "KOSAITE - CYPIENE AND OTHERS v. LITHUANIA",
          "LOZOVYYE v. RUSSIA",
          "M.T. v. UKRAINE",
          "MOSKALEV v. RUSSIA",
          "MURUZHEVA v. RUSSIA",
          "O.C.I. AND OTHERS v. ROMANIA",
          "OTGON v. THE REPUBLIC OF MOLDOVA",
          "PAKHTUSOV v. RUSSIA",
          "PANYUSHKINY v. RUSSIA",
          "RESIN v. RUSSIA",
          "S.N. v. RUSSIA",
          "S.V. v. ITALY",
          "SHVIDKIYE v. RUSSIA",
          "SIDOROVA v. RUSSIA",
          "SOLCAN v. ROMANIA",
          "STANA v. ROMANIA",
          "VISY v. SLOVAKIA",
          "YAKUSHEV v. UKRAINE",
          "YERMAKOVICH v. RUSSIA",
          "YEVGENIY ZAKHAROV v. RUSSIA",
          "_NODI v. HUNGARY"
         ],
         "yaxis": "y6"
        }
       ],
       "layout": {
        "annotations": [
         {
          "font": {
           "size": 16
          },
          "showarrow": false,
          "text": "pipeline_results_20250725_111753 - Precision",
          "x": 0.13999999999999999,
          "xanchor": "center",
          "xref": "paper",
          "y": 1,
          "yanchor": "bottom",
          "yref": "paper"
         },
         {
          "font": {
           "size": 16
          },
          "showarrow": false,
          "text": "pipeline_results_20250725_111753 - Recall",
          "x": 0.49999999999999994,
          "xanchor": "center",
          "xref": "paper",
          "y": 1,
          "yanchor": "bottom",
          "yref": "paper"
         },
         {
          "font": {
           "size": 16
          },
          "showarrow": false,
          "text": "pipeline_results_20250725_111753 - F1-Score",
          "x": 0.86,
          "xanchor": "center",
          "xref": "paper",
          "y": 1,
          "yanchor": "bottom",
          "yref": "paper"
         },
         {
          "font": {
           "size": 16
          },
          "showarrow": false,
          "text": "pipeline_results_20250808_145025 - Precision",
          "x": 0.13999999999999999,
          "xanchor": "center",
          "xref": "paper",
          "y": 0.425,
          "yanchor": "bottom",
          "yref": "paper"
         },
         {
          "font": {
           "size": 16
          },
          "showarrow": false,
          "text": "pipeline_results_20250808_145025 - Recall",
          "x": 0.49999999999999994,
          "xanchor": "center",
          "xref": "paper",
          "y": 0.425,
          "yanchor": "bottom",
          "yref": "paper"
         },
         {
          "font": {
           "size": 16
          },
          "showarrow": false,
          "text": "pipeline_results_20250808_145025 - F1-Score",
          "x": 0.86,
          "xanchor": "center",
          "xref": "paper",
          "y": 0.425,
          "yanchor": "bottom",
          "yref": "paper"
         }
        ],
        "barmode": "group",
        "height": 800,
        "legend": {
         "font": {
          "size": 10
         },
         "orientation": "h",
         "x": 0.5,
         "xanchor": "center",
         "y": -0.15,
         "yanchor": "bottom"
        },
        "template": {
         "data": {
          "bar": [
           {
            "error_x": {
             "color": "#2a3f5f"
            },
            "error_y": {
             "color": "#2a3f5f"
            },
            "marker": {
             "line": {
              "color": "white",
              "width": 0.5
             },
             "pattern": {
              "fillmode": "overlay",
              "size": 10,
              "solidity": 0.2
             }
            },
            "type": "bar"
           }
          ],
          "barpolar": [
           {
            "marker": {
             "line": {
              "color": "white",
              "width": 0.5
             },
             "pattern": {
              "fillmode": "overlay",
              "size": 10,
              "solidity": 0.2
             }
            },
            "type": "barpolar"
           }
          ],
          "carpet": [
           {
            "aaxis": {
             "endlinecolor": "#2a3f5f",
             "gridcolor": "#C8D4E3",
             "linecolor": "#C8D4E3",
             "minorgridcolor": "#C8D4E3",
             "startlinecolor": "#2a3f5f"
            },
            "baxis": {
             "endlinecolor": "#2a3f5f",
             "gridcolor": "#C8D4E3",
             "linecolor": "#C8D4E3",
             "minorgridcolor": "#C8D4E3",
             "startlinecolor": "#2a3f5f"
            },
            "type": "carpet"
           }
          ],
          "choropleth": [
           {
            "colorbar": {
             "outlinewidth": 0,
             "ticks": ""
            },
            "type": "choropleth"
           }
          ],
          "contour": [
           {
            "colorbar": {
             "outlinewidth": 0,
             "ticks": ""
            },
            "colorscale": [
             [
              0,
              "#0d0887"
             ],
             [
              0.1111111111111111,
              "#46039f"
             ],
             [
              0.2222222222222222,
              "#7201a8"
             ],
             [
              0.3333333333333333,
              "#9c179e"
             ],
             [
              0.4444444444444444,
              "#bd3786"
             ],
             [
              0.5555555555555556,
              "#d8576b"
             ],
             [
              0.6666666666666666,
              "#ed7953"
             ],
             [
              0.7777777777777778,
              "#fb9f3a"
             ],
             [
              0.8888888888888888,
              "#fdca26"
             ],
             [
              1,
              "#f0f921"
             ]
            ],
            "type": "contour"
           }
          ],
          "contourcarpet": [
           {
            "colorbar": {
             "outlinewidth": 0,
             "ticks": ""
            },
            "type": "contourcarpet"
           }
          ],
          "heatmap": [
           {
            "colorbar": {
             "outlinewidth": 0,
             "ticks": ""
            },
            "colorscale": [
             [
              0,
              "#0d0887"
             ],
             [
              0.1111111111111111,
              "#46039f"
             ],
             [
              0.2222222222222222,
              "#7201a8"
             ],
             [
              0.3333333333333333,
              "#9c179e"
             ],
             [
              0.4444444444444444,
              "#bd3786"
             ],
             [
              0.5555555555555556,
              "#d8576b"
             ],
             [
              0.6666666666666666,
              "#ed7953"
             ],
             [
              0.7777777777777778,
              "#fb9f3a"
             ],
             [
              0.8888888888888888,
              "#fdca26"
             ],
             [
              1,
              "#f0f921"
             ]
            ],
            "type": "heatmap"
           }
          ],
          "histogram": [
           {
            "marker": {
             "pattern": {
              "fillmode": "overlay",
              "size": 10,
              "solidity": 0.2
             }
            },
            "type": "histogram"
           }
          ],
          "histogram2d": [
           {
            "colorbar": {
             "outlinewidth": 0,
             "ticks": ""
            },
            "colorscale": [
             [
              0,
              "#0d0887"
             ],
             [
              0.1111111111111111,
              "#46039f"
             ],
             [
              0.2222222222222222,
              "#7201a8"
             ],
             [
              0.3333333333333333,
              "#9c179e"
             ],
             [
              0.4444444444444444,
              "#bd3786"
             ],
             [
              0.5555555555555556,
              "#d8576b"
             ],
             [
              0.6666666666666666,
              "#ed7953"
             ],
             [
              0.7777777777777778,
              "#fb9f3a"
             ],
             [
              0.8888888888888888,
              "#fdca26"
             ],
             [
              1,
              "#f0f921"
             ]
            ],
            "type": "histogram2d"
           }
          ],
          "histogram2dcontour": [
           {
            "colorbar": {
             "outlinewidth": 0,
             "ticks": ""
            },
            "colorscale": [
             [
              0,
              "#0d0887"
             ],
             [
              0.1111111111111111,
              "#46039f"
             ],
             [
              0.2222222222222222,
              "#7201a8"
             ],
             [
              0.3333333333333333,
              "#9c179e"
             ],
             [
              0.4444444444444444,
              "#bd3786"
             ],
             [
              0.5555555555555556,
              "#d8576b"
             ],
             [
              0.6666666666666666,
              "#ed7953"
             ],
             [
              0.7777777777777778,
              "#fb9f3a"
             ],
             [
              0.8888888888888888,
              "#fdca26"
             ],
             [
              1,
              "#f0f921"
             ]
            ],
            "type": "histogram2dcontour"
           }
          ],
          "mesh3d": [
           {
            "colorbar": {
             "outlinewidth": 0,
             "ticks": ""
            },
            "type": "mesh3d"
           }
          ],
          "parcoords": [
           {
            "line": {
             "colorbar": {
              "outlinewidth": 0,
              "ticks": ""
             }
            },
            "type": "parcoords"
           }
          ],
          "pie": [
           {
            "automargin": true,
            "type": "pie"
           }
          ],
          "scatter": [
           {
            "fillpattern": {
             "fillmode": "overlay",
             "size": 10,
             "solidity": 0.2
            },
            "type": "scatter"
           }
          ],
          "scatter3d": [
           {
            "line": {
             "colorbar": {
              "outlinewidth": 0,
              "ticks": ""
             }
            },
            "marker": {
             "colorbar": {
              "outlinewidth": 0,
              "ticks": ""
             }
            },
            "type": "scatter3d"
           }
          ],
          "scattercarpet": [
           {
            "marker": {
             "colorbar": {
              "outlinewidth": 0,
              "ticks": ""
             }
            },
            "type": "scattercarpet"
           }
          ],
          "scattergeo": [
           {
            "marker": {
             "colorbar": {
              "outlinewidth": 0,
              "ticks": ""
             }
            },
            "type": "scattergeo"
           }
          ],
          "scattergl": [
           {
            "marker": {
             "colorbar": {
              "outlinewidth": 0,
              "ticks": ""
             }
            },
            "type": "scattergl"
           }
          ],
          "scattermap": [
           {
            "marker": {
             "colorbar": {
              "outlinewidth": 0,
              "ticks": ""
             }
            },
            "type": "scattermap"
           }
          ],
          "scattermapbox": [
           {
            "marker": {
             "colorbar": {
              "outlinewidth": 0,
              "ticks": ""
             }
            },
            "type": "scattermapbox"
           }
          ],
          "scatterpolar": [
           {
            "marker": {
             "colorbar": {
              "outlinewidth": 0,
              "ticks": ""
             }
            },
            "type": "scatterpolar"
           }
          ],
          "scatterpolargl": [
           {
            "marker": {
             "colorbar": {
              "outlinewidth": 0,
              "ticks": ""
             }
            },
            "type": "scatterpolargl"
           }
          ],
          "scatterternary": [
           {
            "marker": {
             "colorbar": {
              "outlinewidth": 0,
              "ticks": ""
             }
            },
            "type": "scatterternary"
           }
          ],
          "surface": [
           {
            "colorbar": {
             "outlinewidth": 0,
             "ticks": ""
            },
            "colorscale": [
             [
              0,
              "#0d0887"
             ],
             [
              0.1111111111111111,
              "#46039f"
             ],
             [
              0.2222222222222222,
              "#7201a8"
             ],
             [
              0.3333333333333333,
              "#9c179e"
             ],
             [
              0.4444444444444444,
              "#bd3786"
             ],
             [
              0.5555555555555556,
              "#d8576b"
             ],
             [
              0.6666666666666666,
              "#ed7953"
             ],
             [
              0.7777777777777778,
              "#fb9f3a"
             ],
             [
              0.8888888888888888,
              "#fdca26"
             ],
             [
              1,
              "#f0f921"
             ]
            ],
            "type": "surface"
           }
          ],
          "table": [
           {
            "cells": {
             "fill": {
              "color": "#EBF0F8"
             },
             "line": {
              "color": "white"
             }
            },
            "header": {
             "fill": {
              "color": "#C8D4E3"
             },
             "line": {
              "color": "white"
             }
            },
            "type": "table"
           }
          ]
         },
         "layout": {
          "annotationdefaults": {
           "arrowcolor": "#2a3f5f",
           "arrowhead": 0,
           "arrowwidth": 1
          },
          "autotypenumbers": "strict",
          "coloraxis": {
           "colorbar": {
            "outlinewidth": 0,
            "ticks": ""
           }
          },
          "colorscale": {
           "diverging": [
            [
             0,
             "#8e0152"
            ],
            [
             0.1,
             "#c51b7d"
            ],
            [
             0.2,
             "#de77ae"
            ],
            [
             0.3,
             "#f1b6da"
            ],
            [
             0.4,
             "#fde0ef"
            ],
            [
             0.5,
             "#f7f7f7"
            ],
            [
             0.6,
             "#e6f5d0"
            ],
            [
             0.7,
             "#b8e186"
            ],
            [
             0.8,
             "#7fbc41"
            ],
            [
             0.9,
             "#4d9221"
            ],
            [
             1,
             "#276419"
            ]
           ],
           "sequential": [
            [
             0,
             "#0d0887"
            ],
            [
             0.1111111111111111,
             "#46039f"
            ],
            [
             0.2222222222222222,
             "#7201a8"
            ],
            [
             0.3333333333333333,
             "#9c179e"
            ],
            [
             0.4444444444444444,
             "#bd3786"
            ],
            [
             0.5555555555555556,
             "#d8576b"
            ],
            [
             0.6666666666666666,
             "#ed7953"
            ],
            [
             0.7777777777777778,
             "#fb9f3a"
            ],
            [
             0.8888888888888888,
             "#fdca26"
            ],
            [
             1,
             "#f0f921"
            ]
           ],
           "sequentialminus": [
            [
             0,
             "#0d0887"
            ],
            [
             0.1111111111111111,
             "#46039f"
            ],
            [
             0.2222222222222222,
             "#7201a8"
            ],
            [
             0.3333333333333333,
             "#9c179e"
            ],
            [
             0.4444444444444444,
             "#bd3786"
            ],
            [
             0.5555555555555556,
             "#d8576b"
            ],
            [
             0.6666666666666666,
             "#ed7953"
            ],
            [
             0.7777777777777778,
             "#fb9f3a"
            ],
            [
             0.8888888888888888,
             "#fdca26"
            ],
            [
             1,
             "#f0f921"
            ]
           ]
          },
          "colorway": [
           "#636efa",
           "#EF553B",
           "#00cc96",
           "#ab63fa",
           "#FFA15A",
           "#19d3f3",
           "#FF6692",
           "#B6E880",
           "#FF97FF",
           "#FECB52"
          ],
          "font": {
           "color": "#2a3f5f"
          },
          "geo": {
           "bgcolor": "white",
           "lakecolor": "white",
           "landcolor": "white",
           "showlakes": true,
           "showland": true,
           "subunitcolor": "#C8D4E3"
          },
          "hoverlabel": {
           "align": "left"
          },
          "hovermode": "closest",
          "mapbox": {
           "style": "light"
          },
          "paper_bgcolor": "white",
          "plot_bgcolor": "white",
          "polar": {
           "angularaxis": {
            "gridcolor": "#EBF0F8",
            "linecolor": "#EBF0F8",
            "ticks": ""
           },
           "bgcolor": "white",
           "radialaxis": {
            "gridcolor": "#EBF0F8",
            "linecolor": "#EBF0F8",
            "ticks": ""
           }
          },
          "scene": {
           "xaxis": {
            "backgroundcolor": "white",
            "gridcolor": "#DFE8F3",
            "gridwidth": 2,
            "linecolor": "#EBF0F8",
            "showbackground": true,
            "ticks": "",
            "zerolinecolor": "#EBF0F8"
           },
           "yaxis": {
            "backgroundcolor": "white",
            "gridcolor": "#DFE8F3",
            "gridwidth": 2,
            "linecolor": "#EBF0F8",
            "showbackground": true,
            "ticks": "",
            "zerolinecolor": "#EBF0F8"
           },
           "zaxis": {
            "backgroundcolor": "white",
            "gridcolor": "#DFE8F3",
            "gridwidth": 2,
            "linecolor": "#EBF0F8",
            "showbackground": true,
            "ticks": "",
            "zerolinecolor": "#EBF0F8"
           }
          },
          "shapedefaults": {
           "line": {
            "color": "#2a3f5f"
           }
          },
          "ternary": {
           "aaxis": {
            "gridcolor": "#DFE8F3",
            "linecolor": "#A2B1C6",
            "ticks": ""
           },
           "baxis": {
            "gridcolor": "#DFE8F3",
            "linecolor": "#A2B1C6",
            "ticks": ""
           },
           "bgcolor": "white",
           "caxis": {
            "gridcolor": "#DFE8F3",
            "linecolor": "#A2B1C6",
            "ticks": ""
           }
          },
          "title": {
           "x": 0.05
          },
          "xaxis": {
           "automargin": true,
           "gridcolor": "#EBF0F8",
           "linecolor": "#EBF0F8",
           "ticks": "",
           "title": {
            "standoff": 15
           },
           "zerolinecolor": "#EBF0F8",
           "zerolinewidth": 2
          },
          "yaxis": {
           "automargin": true,
           "gridcolor": "#EBF0F8",
           "linecolor": "#EBF0F8",
           "ticks": "",
           "title": {
            "standoff": 15
           },
           "zerolinecolor": "#EBF0F8",
           "zerolinewidth": 2
          }
         }
        },
        "title": {
         "font": {
          "color": "#2E2E2E",
          "size": 20
         },
         "text": "📊 Performance Comparison Across 2 Runs",
         "x": 0.5
        },
        "width": 1400,
        "xaxis": {
         "anchor": "y",
         "domain": [
          0,
          0.27999999999999997
         ],
         "range": [
          0,
          1
         ],
         "tickfont": {
          "size": 10
         },
         "title": {
          "text": "Score"
         }
        },
        "xaxis2": {
         "anchor": "y2",
         "domain": [
          0.36,
          0.6399999999999999
         ],
         "range": [
          0,
          1
         ],
         "tickfont": {
          "size": 10
         },
         "title": {
          "text": "Score"
         }
        },
        "xaxis3": {
         "anchor": "y3",
         "domain": [
          0.72,
          1
         ],
         "range": [
          0,
          1
         ],
         "tickfont": {
          "size": 10
         },
         "title": {
          "text": "Score"
         }
        },
        "xaxis4": {
         "anchor": "y4",
         "domain": [
          0,
          0.27999999999999997
         ],
         "range": [
          0,
          1
         ],
         "tickfont": {
          "size": 10
         },
         "title": {
          "text": "Score"
         }
        },
        "xaxis5": {
         "anchor": "y5",
         "domain": [
          0.36,
          0.6399999999999999
         ],
         "range": [
          0,
          1
         ],
         "tickfont": {
          "size": 10
         },
         "title": {
          "text": "Score"
         }
        },
        "xaxis6": {
         "anchor": "y6",
         "domain": [
          0.72,
          1
         ],
         "range": [
          0,
          1
         ],
         "tickfont": {
          "size": 10
         },
         "title": {
          "text": "Score"
         }
        },
        "yaxis": {
         "anchor": "x",
         "domain": [
          0.575,
          1
         ],
         "tickfont": {
          "size": 10
         },
         "title": {
          "text": "Documents"
         }
        },
        "yaxis2": {
         "anchor": "x2",
         "domain": [
          0.575,
          1
         ],
         "matches": "y",
         "showticklabels": false
        },
        "yaxis3": {
         "anchor": "x3",
         "domain": [
          0.575,
          1
         ],
         "matches": "y",
         "showticklabels": false
        },
        "yaxis4": {
         "anchor": "x4",
         "domain": [
          0,
          0.425
         ],
         "tickfont": {
          "size": 10
         },
         "title": {
          "text": ""
         }
        },
        "yaxis5": {
         "anchor": "x5",
         "domain": [
          0,
          0.425
         ],
         "matches": "y4",
         "showticklabels": false
        },
        "yaxis6": {
         "anchor": "x6",
         "domain": [
          0,
          0.425
         ],
         "matches": "y4",
         "showticklabels": false
        }
       }
      }
     },
     "metadata": {},
     "output_type": "display_data"
    }
   ],
   "source": [
    "def create_comprehensive_overview(df):\n",
    "    \"\"\"Create a comprehensive overview chart with all models and documents for each run\"\"\"\n",
    "    \n",
    "    runs = sorted(df['run'].unique())\n",
    "    num_runs = len(runs)\n",
    "    \n",
    "    if num_runs == 1:\n",
    "        # Single run - create 3-panel view (Precision, Recall, F1-Score)\n",
    "        fig = make_subplots(\n",
    "            rows=1, cols=3,\n",
    "            subplot_titles=('Precision', 'Recall', 'F1-Score'),\n",
    "            shared_yaxes=True,\n",
    "            horizontal_spacing=0.08\n",
    "        )\n",
    "        \n",
    "        models = sorted(df['model'].unique())\n",
    "        documents = sorted(df['document'].unique())\n",
    "        colors = px.colors.qualitative.Set1[:len(models)]\n",
    "        if len(models) > len(colors):\n",
    "            colors = colors * (len(models) // len(colors) + 1)\n",
    "        \n",
    "        metrics = ['precision', 'recall', 'f1_score']\n",
    "        \n",
    "        for col_idx, metric in enumerate(metrics, 1):\n",
    "            pivot_data = df.pivot_table(\n",
    "                index='document', \n",
    "                columns='model', \n",
    "                values=metric, \n",
    "                aggfunc='first'\n",
    "            ).fillna(0)\n",
    "            \n",
    "            for model_idx, model in enumerate(models):\n",
    "                if model in pivot_data.columns:\n",
    "                    values = pivot_data[model].values\n",
    "                    fig.add_trace(\n",
    "                        go.Bar(\n",
    "                            name=model if col_idx == 1 else None,\n",
    "                            x=values,\n",
    "                            y=documents,\n",
    "                            orientation='h',\n",
    "                            marker_color=colors[model_idx],\n",
    "                            text=[f\"{val:.3f}\" if val > 0 else \"\" for val in values],\n",
    "                            textposition='auto',\n",
    "                            textfont=dict(size=8),\n",
    "                            showlegend=(col_idx == 1),\n",
    "                            offsetgroup=model_idx,\n",
    "                            width=0.8/len(models)\n",
    "                        ),\n",
    "                        row=1, col=col_idx\n",
    "                    )\n",
    "        \n",
    "        title_text = f\"📊 Complete Performance Overview - {runs[0]}\"\n",
    "        height = max(600, len(documents) * 25)\n",
    "        width = 1400\n",
    "        \n",
    "    else:\n",
    "        # Multiple runs - create grid with runs as rows and metrics as columns\n",
    "        fig = make_subplots(\n",
    "            rows=num_runs, cols=3,\n",
    "            subplot_titles=[f\"{run} - {metric}\" for run in runs for metric in ['Precision', 'Recall', 'F1-Score']],\n",
    "            shared_yaxes=True,\n",
    "            vertical_spacing=0.15,\n",
    "            horizontal_spacing=0.08\n",
    "        )\n",
    "        \n",
    "        models = sorted(df['model'].unique())\n",
    "        documents = sorted(df['document'].unique())\n",
    "        colors = px.colors.qualitative.Set1[:len(models)]\n",
    "        if len(models) > len(colors):\n",
    "            colors = colors * (len(models) // len(colors) + 1)\n",
    "        \n",
    "        metrics = ['precision', 'recall', 'f1_score']\n",
    "        \n",
    "        for run_idx, run in enumerate(runs, 1):\n",
    "            run_data = df[df['run'] == run]\n",
    "            \n",
    "            for col_idx, metric in enumerate(metrics, 1):\n",
    "                pivot_data = run_data.pivot_table(\n",
    "                    index='document', \n",
    "                    columns='model', \n",
    "                    values=metric, \n",
    "                    aggfunc='first'\n",
    "                ).fillna(0)\n",
    "                \n",
    "                for model_idx, model in enumerate(models):\n",
    "                    if model in pivot_data.columns:\n",
    "                        values = pivot_data[model].values\n",
    "                        show_legend = (run_idx == 1 and col_idx == 1)  # Only show legend on first subplot\n",
    "                        \n",
    "                        fig.add_trace(\n",
    "                            go.Bar(\n",
    "                                name=model if show_legend else None,\n",
    "                                x=values,\n",
    "                                y=documents,\n",
    "                                orientation='h',\n",
    "                                marker_color=colors[model_idx],\n",
    "                                text=[f\"{val:.3f}\" if val > 0 else \"\" for val in values],\n",
    "                                textposition='auto',\n",
    "                                textfont=dict(size=6),\n",
    "                                showlegend=show_legend,\n",
    "                                offsetgroup=model_idx,\n",
    "                                width=0.8/len(models),\n",
    "                                legendgroup=model  # Group legend items by model\n",
    "                            ),\n",
    "                            row=run_idx, col=col_idx\n",
    "                        )\n",
    "        \n",
    "        title_text = f\"📊 Performance Comparison Across {num_runs} Runs\"\n",
    "        height = max(800, num_runs * 300)\n",
    "        width = 1400\n",
    "    \n",
    "    # Update layout\n",
    "    fig.update_layout(\n",
    "        title=dict(\n",
    "            text=title_text,\n",
    "            font=dict(size=20, color='#2E2E2E'),\n",
    "            x=0.5\n",
    "        ),\n",
    "        height=height,\n",
    "        width=width,\n",
    "        template='plotly_white',\n",
    "        barmode='group',\n",
    "        legend=dict(\n",
    "            orientation=\"h\",\n",
    "            yanchor=\"bottom\",\n",
    "            y=-0.15,\n",
    "            xanchor=\"center\",\n",
    "            x=0.5,\n",
    "            font=dict(size=10)\n",
    "        )\n",
    "    )\n",
    "    \n",
    "    # Update x-axes for all subplots\n",
    "    for row in range(1, (num_runs if num_runs > 1 else 1) + 1):\n",
    "        for col in range(1, 4):\n",
    "            fig.update_xaxes(\n",
    "                title=\"Score\",\n",
    "                range=[0, 1],\n",
    "                tickfont=dict(size=10),\n",
    "                row=row, col=col\n",
    "            )\n",
    "    \n",
    "    # Update y-axis (only for first column since shared)\n",
    "    for row in range(1, (num_runs if num_runs > 1 else 1) + 1):\n",
    "        fig.update_yaxes(\n",
    "            title=\"Documents\" if row == 1 else \"\",\n",
    "            tickfont=dict(size=10),\n",
    "            row=row, col=1\n",
    "        )\n",
    "    \n",
    "    return fig\n",
    "\n",
    "if 'df' in globals() and not df.empty:\n",
    "    print(\"\\n\" + \"=\"*80)\n",
    "    print(\"🎯 COMPREHENSIVE OVERVIEW\")\n",
    "    print(\"=\"*80)\n",
    "    \n",
    "    # Show which runs are included\n",
    "    unique_runs = df['run'].unique()\n",
    "    if len(unique_runs) == 1:\n",
    "        print(f\"📊 Displaying results for run: {unique_runs[0]}\")\n",
    "        print(\"Single run analysis with detailed metrics breakdown\")\n",
    "    else:\n",
    "        print(f\"📊 Comparing {len(unique_runs)} runs side by side:\")\n",
    "        for i, run in enumerate(unique_runs, 1):\n",
    "            print(f\"    {i}. {run}\")\n",
    "        print(\"🔍 Each run shown separately - NO AVERAGING!\")\n",
    "        print(\"📈 Perfect for seeing how performance evolves across different settings\")\n",
    "    \n",
    "    print(\"Complete view of all models across all documents for all metrics\")\n",
    "    print()\n",
    "    \n",
    "    overview_fig = create_comprehensive_overview(df)\n",
    "    overview_fig.show()\n",
    "    \n",
    "else:\n",
    "    print(\"❌ Please load and process evaluation data first.\")"
   ]
  }
 ],
 "metadata": {
  "kernelspec": {
   "display_name": ".venv",
   "language": "python",
   "name": "python3"
  },
  "language_info": {
   "codemirror_mode": {
    "name": "ipython",
    "version": 3
   },
   "file_extension": ".py",
   "mimetype": "text/x-python",
   "name": "python",
   "nbconvert_exporter": "python",
   "pygments_lexer": "ipython3",
   "version": "3.12.3"
  }
 },
 "nbformat": 4,
 "nbformat_minor": 5
}
