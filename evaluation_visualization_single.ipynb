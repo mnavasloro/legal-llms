{
 "cells": [
  {
   "cell_type": "code",
   "execution_count": 11,
   "id": "1581df5f",
   "metadata": {},
   "outputs": [],
   "source": [
    "import json\n",
    "import pandas as pd\n",
    "import matplotlib.pyplot as plt\n",
    "import seaborn as sns\n",
    "import plotly.express as px\n",
    "import plotly.graph_objects as go\n",
    "from plotly.subplots import make_subplots\n",
    "import numpy as np\n",
    "from pathlib import Path\n",
    "import warnings\n",
    "warnings.filterwarnings('ignore')\n",
    "\n",
    "# Set style for matplotlib\n",
    "plt.style.use('seaborn-v0_8')\n",
    "sns.set_palette(\"husl\")"
   ]
  },
  {
   "cell_type": "markdown",
   "id": "7dec39e9",
   "metadata": {},
   "source": [
    "### Single run"
   ]
  },
  {
   "cell_type": "code",
   "execution_count": 13,
   "id": "13398642",
   "metadata": {},
   "outputs": [
    {
     "data": {
      "application/vnd.plotly.v1+json": {
       "config": {
        "plotlyServerURL": "https://plot.ly"
       },
       "data": [
        {
         "hovertemplate": "<b>gemma3:1b</b><br>Type: %{x}<br>Avg F1: %{y:.3f}<extra></extra>",
         "legendgroup": "models",
         "marker": {
          "color": "#E74C3C"
         },
         "name": "gemma3:1b",
         "showlegend": true,
         "type": "bar",
         "x": [
          "Event",
          "Event_what",
          "Event_when",
          "Event_who"
         ],
         "xaxis": "x",
         "y": {
          "bdata": "HcdxHMdxvD8AAAAAAAAAAAAAAAAAAAAAexSuR+F6pD8=",
          "dtype": "f8"
         },
         "yaxis": "y"
        },
        {
         "hovertemplate": "<b>gemma3:4b</b><br>Type: %{x}<br>Avg F1: %{y:.3f}<extra></extra>",
         "legendgroup": "models",
         "marker": {
          "color": "#3498DB"
         },
         "name": "gemma3:4b",
         "showlegend": true,
         "type": "bar",
         "x": [
          "Event",
          "Event_what",
          "Event_when",
          "Event_who"
         ],
         "xaxis": "x",
         "y": {
          "bdata": "XWLWQgEdyz+EEEIIIYSgP0UXXXTRRac/FDuxEzuxsz8=",
          "dtype": "f8"
         },
         "yaxis": "y"
        },
        {
         "hovertemplate": "<b>gemma3:12b</b><br>Type: %{x}<br>Avg F1: %{y:.3f}<extra></extra>",
         "legendgroup": "models",
         "marker": {
          "color": "#2ECC71"
         },
         "name": "gemma3:12b",
         "showlegend": true,
         "type": "bar",
         "x": [
          "Event",
          "Event_what",
          "Event_when",
          "Event_who"
         ],
         "xaxis": "x",
         "y": {
          "bdata": "AAAAAAAA0D+FEEIIIYSgPxmGYRiGYag/AAAAAAAAAAA=",
          "dtype": "f8"
         },
         "yaxis": "y"
        },
        {
         "hovertemplate": "<b>mistral:latest</b><br>Type: %{x}<br>Avg F1: %{y:.3f}<extra></extra>",
         "legendgroup": "models",
         "marker": {
          "color": "#F39C12"
         },
         "name": "mistral:latest",
         "showlegend": true,
         "type": "bar",
         "x": [
          "Event",
          "Event_what",
          "Event_when",
          "Event_who"
         ],
         "xaxis": "x",
         "y": {
          "bdata": "lnsaYbmnwT8eHh4eHh6ePxQ7sRM7scM/AAAAAAAAAAA=",
          "dtype": "f8"
         },
         "yaxis": "y"
        },
        {
         "colorbar": {
          "title": {
           "text": "F1 Score"
          },
          "x": 0.48
         },
         "colorscale": [
          [
           0,
           "rgb(49,54,149)"
          ],
          [
           0.1,
           "rgb(69,117,180)"
          ],
          [
           0.2,
           "rgb(116,173,209)"
          ],
          [
           0.3,
           "rgb(171,217,233)"
          ],
          [
           0.4,
           "rgb(224,243,248)"
          ],
          [
           0.5,
           "rgb(255,255,191)"
          ],
          [
           0.6,
           "rgb(254,224,144)"
          ],
          [
           0.7,
           "rgb(253,174,97)"
          ],
          [
           0.8,
           "rgb(244,109,67)"
          ],
          [
           0.9,
           "rgb(215,48,39)"
          ],
          [
           1,
           "rgb(165,0,38)"
          ]
         ],
         "hovertemplate": "Document: %{y}<br>Model: %{x}<br>F1 Score: %{z:.3f}<extra></extra>",
         "showlegend": false,
         "showscale": true,
         "type": "heatmap",
         "x": [
          "gemma3:12b",
          "gemma3:1b",
          "gemma3:4b",
          "mistral:latest"
         ],
         "xaxis": "x2",
         "y": [
          "ALTAY v. TURKEY (No. 2)",
          "BELYAYEV AND OTHERS v. UKRAINE"
         ],
         "yaxis": "y2",
         "z": {
          "bdata": "AAAAAAAAAACtaCTgm1ezP70HtU9ZxrI/N71HHFyOxD/UchTktBzFPwAAAAAAAAAAHMIhHMIhvD8AAAAAAAAAAA==",
          "dtype": "f8",
          "shape": "2, 4"
         }
        },
        {
         "hovertemplate": "<b>%{text}</b><br>Recall: %{x:.3f}<br>Precision: %{y:.3f}<extra></extra>",
         "legendgroup": "scatter",
         "marker": {
          "color": "#E74C3C",
          "opacity": 0.7,
          "size": 8,
          "symbol": "circle"
         },
         "mode": "markers",
         "name": "gemma3:1b (docs)",
         "showlegend": true,
         "text": [
          "ALTAY v. TURKEY (No. 2)<br>Event",
          "ALTAY v. TURKEY (No. 2)<br>Event_who",
          "ALTAY v. TURKEY (No. 2)<br>Event_when",
          "ALTAY v. TURKEY (No. 2)<br>Event_what",
          "BELYAYEV AND OTHERS v. UKRAINE<br>Event",
          "BELYAYEV AND OTHERS v. UKRAINE<br>Event_who",
          "BELYAYEV AND OTHERS v. UKRAINE<br>Event_when",
          "BELYAYEV AND OTHERS v. UKRAINE<br>Event_what"
         ],
         "type": "scatter",
         "x": {
          "bdata": "kiRJkiRJwj8or6G8hvKqPwAAAAAAAAAAAAAAAAAAAAAAAAAAAAAAAAAAAAAAAAAAAAAAAAAAAAAAAAAAAAAAAA==",
          "dtype": "f8"
         },
         "xaxis": "x3",
         "y": {
          "bdata": "AAAAAAAA4D9VVVVVVVXFPwAAAAAAAAAAAAAAAAAAAAAAAAAAAAAAAAAAAAAAAAAAAAAAAAAAAAAAAAAAAAAAAA==",
          "dtype": "f8"
         },
         "yaxis": "y3"
        },
        {
         "hovertemplate": "<b>%{text}</b><br>Recall: %{x:.3f}<br>Precision: %{y:.3f}<extra></extra>",
         "legendgroup": "scatter",
         "marker": {
          "color": "#3498DB",
          "opacity": 0.7,
          "size": 8,
          "symbol": "circle"
         },
         "mode": "markers",
         "name": "gemma3:4b (docs)",
         "showlegend": true,
         "text": [
          "ALTAY v. TURKEY (No. 2)<br>Event",
          "ALTAY v. TURKEY (No. 2)<br>Event_who",
          "ALTAY v. TURKEY (No. 2)<br>Event_when",
          "ALTAY v. TURKEY (No. 2)<br>Event_what",
          "BELYAYEV AND OTHERS v. UKRAINE<br>Event",
          "BELYAYEV AND OTHERS v. UKRAINE<br>Event_who",
          "BELYAYEV AND OTHERS v. UKRAINE<br>Event_when",
          "BELYAYEV AND OTHERS v. UKRAINE<br>Event_what"
         ],
         "type": "scatter",
         "x": {
          "bdata": "GIZhGIZhuD8AAAAAAAAAABiGYRiGYag/ERERERERoT8cx3Ecx3HMPwAAAAAAAMA/AAAAAAAAAAAAAAAAAAAAAA==",
          "dtype": "f8"
         },
         "xaxis": "x3",
         "y": {
          "bdata": "AAAAAAAA0D8AAAAAAAAAAAAAAAAAAPA/AAAAAAAA8D+amZmZmZnZP5qZmZmZmck/AAAAAAAAAAAAAAAAAAAAAA==",
          "dtype": "f8"
         },
         "yaxis": "y3"
        },
        {
         "hovertemplate": "<b>%{text}</b><br>Recall: %{x:.3f}<br>Precision: %{y:.3f}<extra></extra>",
         "legendgroup": "scatter",
         "marker": {
          "color": "#2ECC71",
          "opacity": 0.7,
          "size": 8,
          "symbol": "circle"
         },
         "mode": "markers",
         "name": "gemma3:12b (docs)",
         "showlegend": true,
         "text": [
          "ALTAY v. TURKEY (No. 2)<br>Event",
          "ALTAY v. TURKEY (No. 2)<br>Event_who",
          "ALTAY v. TURKEY (No. 2)<br>Event_when",
          "ALTAY v. TURKEY (No. 2)<br>Event_what",
          "BELYAYEV AND OTHERS v. UKRAINE<br>Event",
          "BELYAYEV AND OTHERS v. UKRAINE<br>Event_who",
          "BELYAYEV AND OTHERS v. UKRAINE<br>Event_when",
          "BELYAYEV AND OTHERS v. UKRAINE<br>Event_what"
         ],
         "type": "scatter",
         "x": {
          "bdata": "AAAAAAAAAAAAAAAAAAAAAAAAAAAAAAAAAAAAAAAAAABVVVVVVVXlPwAAAAAAAAAAAAAAAAAAwD8AAAAAAACwPw==",
          "dtype": "f8"
         },
         "xaxis": "x3",
         "y": {
          "bdata": "AAAAAAAAAAAAAAAAAAAAAAAAAAAAAAAAAAAAAAAAAACamZmZmZnZPwAAAAAAAAAAFDuxEzuxsz8RERERERGxPw==",
          "dtype": "f8"
         },
         "yaxis": "y3"
        },
        {
         "hovertemplate": "<b>%{text}</b><br>Recall: %{x:.3f}<br>Precision: %{y:.3f}<extra></extra>",
         "legendgroup": "scatter",
         "marker": {
          "color": "#F39C12",
          "opacity": 0.7,
          "size": 8,
          "symbol": "circle"
         },
         "mode": "markers",
         "name": "mistral:latest (docs)",
         "showlegend": true,
         "text": [
          "ALTAY v. TURKEY (No. 2)<br>Event",
          "ALTAY v. TURKEY (No. 2)<br>Event_who",
          "ALTAY v. TURKEY (No. 2)<br>Event_when",
          "ALTAY v. TURKEY (No. 2)<br>Event_what",
          "BELYAYEV AND OTHERS v. UKRAINE<br>Event",
          "BELYAYEV AND OTHERS v. UKRAINE<br>Event_who",
          "BELYAYEV AND OTHERS v. UKRAINE<br>Event_when",
          "BELYAYEV AND OTHERS v. UKRAINE<br>Event_what"
         ],
         "type": "scatter",
         "x": {
          "bdata": "GIZhGIZhyD8AAAAAAAAAABiGYRiGYcg/ERERERERoT8AAAAAAAAAAAAAAAAAAAAAAAAAAAAAAAAAAAAAAAAAAA==",
          "dtype": "f8"
         },
         "xaxis": "x3",
         "y": {
          "bdata": "AAAAAAAA4D8AAAAAAAAAAJqZmZmZmek/AAAAAAAA0D8AAAAAAAAAAAAAAAAAAAAAAAAAAAAAAAAAAAAAAAAAAA==",
          "dtype": "f8"
         },
         "yaxis": "y3"
        },
        {
         "hovertemplate": "<b>gemma3:1b</b><br>Document: %{x}<br>Avg F1: %{y:.3f}<extra></extra>",
         "marker": {
          "color": "#E74C3C"
         },
         "name": "gemma3:1b",
         "opacity": 0.8,
         "showlegend": false,
         "type": "bar",
         "x": [
          "ALTAY v. TURKEY (No. 2)",
          "BELYAYEV AND OTHERS v. UKRAINE"
         ],
         "xaxis": "x4",
         "y": {
          "bdata": "rWgk4JtXsz8AAAAAAAAAAA==",
          "dtype": "f8"
         },
         "yaxis": "y4"
        },
        {
         "hovertemplate": "<b>gemma3:4b</b><br>Document: %{x}<br>Avg F1: %{y:.3f}<extra></extra>",
         "marker": {
          "color": "#3498DB"
         },
         "name": "gemma3:4b",
         "opacity": 0.8,
         "showlegend": false,
         "type": "bar",
         "x": [
          "ALTAY v. TURKEY (No. 2)",
          "BELYAYEV AND OTHERS v. UKRAINE"
         ],
         "xaxis": "x4",
         "y": {
          "bdata": "vQe1T1nGsj8cwiEcwiG8Pw==",
          "dtype": "f8"
         },
         "yaxis": "y4"
        },
        {
         "hovertemplate": "<b>gemma3:12b</b><br>Document: %{x}<br>Avg F1: %{y:.3f}<extra></extra>",
         "marker": {
          "color": "#2ECC71"
         },
         "name": "gemma3:12b",
         "opacity": 0.8,
         "showlegend": false,
         "type": "bar",
         "x": [
          "ALTAY v. TURKEY (No. 2)",
          "BELYAYEV AND OTHERS v. UKRAINE"
         ],
         "xaxis": "x4",
         "y": {
          "bdata": "AAAAAAAAAADUchTktBzFPw==",
          "dtype": "f8"
         },
         "yaxis": "y4"
        },
        {
         "hovertemplate": "<b>mistral:latest</b><br>Document: %{x}<br>Avg F1: %{y:.3f}<extra></extra>",
         "marker": {
          "color": "#F39C12"
         },
         "name": "mistral:latest",
         "opacity": 0.8,
         "showlegend": false,
         "type": "bar",
         "x": [
          "ALTAY v. TURKEY (No. 2)",
          "BELYAYEV AND OTHERS v. UKRAINE"
         ],
         "xaxis": "x4",
         "y": {
          "bdata": "N71HHFyOxD8AAAAAAAAAAA==",
          "dtype": "f8"
         },
         "yaxis": "y4"
        },
        {
         "hovertemplate": "<b>Lenient</b><br>Model: %{x}<br>F1: %{y:.3f}<extra></extra>",
         "legendgroup": "evaluation_modes",
         "marker": {
          "color": "lightblue"
         },
         "name": "Lenient Evaluation",
         "showlegend": true,
         "type": "bar",
         "x": [
          "gemma3:12b",
          "gemma3:1b",
          "gemma3:4b",
          "mistral:latest"
         ],
         "xaxis": "x5",
         "y": {
          "bdata": "1HIU5LQctT+taCTgm1ejP+xk67UNdLc/N71HHFyOtD8=",
          "dtype": "f8"
         },
         "yaxis": "y5"
        },
        {
         "hovertemplate": "<b>Strict</b><br>Model: %{x}<br>F1: %{y:.3f}<extra></extra>",
         "legendgroup": "evaluation_modes",
         "marker": {
          "color": "darkblue"
         },
         "name": "Strict Evaluation",
         "showlegend": true,
         "type": "bar",
         "x": [
          "gemma3:12b",
          "gemma3:1b",
          "gemma3:4b",
          "mistral:latest"
         ],
         "xaxis": "x5",
         "y": {
          "bdata": "GYZhGIZhsD+mOXhh9TOdP1C1e+OIr6E/N71HHFyOtD8=",
          "dtype": "f8"
         },
         "yaxis": "y5"
        },
        {
         "boxpoints": "all",
         "hovertemplate": "<b>Event</b><br>F1: %{y:.3f}<extra></extra>",
         "jitter": 0.3,
         "legendgroup": "annotation_types",
         "marker": {
          "color": "rgb(228,26,28)"
         },
         "name": "Event",
         "pointpos": -1.8,
         "showlegend": true,
         "type": "box",
         "xaxis": "x6",
         "y": {
          "bdata": "HcdxHMdxzD+WexphuafBPwAAAAAAAAAAlnsaYbmn0T8AAAAAAAAAAJIkSZIkSdI/AAAAAAAA4D8AAAAAAAAAAA==",
          "dtype": "f8"
         },
         "yaxis": "y6"
        },
        {
         "boxpoints": "all",
         "hovertemplate": "<b>Event_who</b><br>F1: %{y:.3f}<extra></extra>",
         "jitter": 0.3,
         "legendgroup": "annotation_types",
         "marker": {
          "color": "rgb(55,126,184)"
         },
         "name": "Event_who",
         "pointpos": -1.8,
         "showlegend": true,
         "type": "box",
         "xaxis": "x6",
         "y": {
          "bdata": "exSuR+F6tD8AAAAAAAAAAAAAAAAAAAAAAAAAAAAAAAAAAAAAAAAAABQ7sRM7scM/AAAAAAAAAAAAAAAAAAAAAA==",
          "dtype": "f8"
         },
         "yaxis": "y6"
        },
        {
         "boxpoints": "all",
         "hovertemplate": "<b>Event_when</b><br>F1: %{y:.3f}<extra></extra>",
         "jitter": 0.3,
         "legendgroup": "annotation_types",
         "marker": {
          "color": "rgb(77,175,74)"
         },
         "name": "Event_when",
         "pointpos": -1.8,
         "showlegend": true,
         "type": "box",
         "xaxis": "x6",
         "y": {
          "bdata": "AAAAAAAAAABFF1100UW3PwAAAAAAAAAAFDuxEzux0z8AAAAAAAAAAAAAAAAAAAAAGYZhGIZhuD8AAAAAAAAAAA==",
          "dtype": "f8"
         },
         "yaxis": "y6"
        },
        {
         "boxpoints": "all",
         "hovertemplate": "<b>Event_what</b><br>F1: %{y:.3f}<extra></extra>",
         "jitter": 0.3,
         "legendgroup": "annotation_types",
         "marker": {
          "color": "rgb(152,78,163)"
         },
         "name": "Event_what",
         "pointpos": -1.8,
         "showlegend": true,
         "type": "box",
         "xaxis": "x6",
         "y": {
          "bdata": "AAAAAAAAAACEEEIIIYSwPwAAAAAAAAAAHh4eHh4erj8AAAAAAAAAAAAAAAAAAAAAhRBCCCGEsD8AAAAAAAAAAA==",
          "dtype": "f8"
         },
         "yaxis": "y6"
        },
        {
         "hovertemplate": "<b>Gold Standard</b><br>Type: %{x}<br>Count: %{y}<extra></extra>",
         "legendgroup": "counts",
         "marker": {
          "color": "gold"
         },
         "name": "Gold Standard Count",
         "showlegend": true,
         "type": "bar",
         "x": [
          "Event",
          "Event_what",
          "Event_when",
          "Event_who"
         ],
         "xaxis": "x7",
         "y": {
          "bdata": "FR4VEw==",
          "dtype": "i1"
         },
         "yaxis": "y7"
        },
        {
         "hovertemplate": "<b>Predicted</b><br>Type: %{x}<br>Avg Count: %{y:.1f}<extra></extra>",
         "legendgroup": "counts",
         "marker": {
          "color": "silver"
         },
         "name": "Avg Predicted Count",
         "showlegend": true,
         "type": "bar",
         "x": [
          "Event",
          "Event_what",
          "Event_when",
          "Event_who"
         ],
         "xaxis": "x7",
         "y": {
          "bdata": "AAAAAAAAFkAAAAAAAAAGQAAAAAAAAARAAAAAAAAAEUA=",
          "dtype": "f8"
         },
         "yaxis": "y7"
        },
        {
         "customdata": {
          "bdata": "zTt/Zp6g9j+RK/jAGw7SP8w7f2aeoPY/zDt/Zp6g9j8=",
          "dtype": "f8"
         },
         "hovertemplate": "<b>%{x}</b><br>Consistency: %{y:.3f}<br>CV: %{customdata:.3f}<extra></extra>",
         "legendgroup": "consistency",
         "line": {
          "color": "gray",
          "dash": "dash"
         },
         "marker": {
          "color": [
           "#E74C3C",
           "#3498DB",
           "#2ECC71",
           "#F39C12"
          ],
          "size": 12,
          "symbol": "diamond"
         },
         "mode": "markers+lines",
         "name": "Model Consistency",
         "showlegend": true,
         "type": "scatter",
         "x": [
          "gemma3:1b",
          "gemma3:4b",
          "gemma3:12b",
          "mistral:latest"
         ],
         "xaxis": "x8",
         "y": {
          "bdata": "NO/8mXmC2r846oMf8vjmPzDv/Jl5gtq/MO/8mXmC2r8=",
          "dtype": "f8"
         },
         "yaxis": "y8"
        }
       ],
       "layout": {
        "annotations": [
         {
          "font": {
           "size": 16
          },
          "showarrow": false,
          "text": "F1-Scores by Model and Annotation Type (Lenient)",
          "x": 0.22,
          "xanchor": "center",
          "xref": "paper",
          "y": 1,
          "yanchor": "bottom",
          "yref": "paper"
         },
         {
          "font": {
           "size": 16
          },
          "showarrow": false,
          "text": "Document-Level Performance Heatmap",
          "x": 0.78,
          "xanchor": "center",
          "xref": "paper",
          "y": 1,
          "yanchor": "bottom",
          "yref": "paper"
         },
         {
          "font": {
           "size": 16
          },
          "showarrow": false,
          "text": "Precision vs Recall by Model (with Document Points)",
          "x": 0.22,
          "xanchor": "center",
          "xref": "paper",
          "y": 0.73,
          "yanchor": "bottom",
          "yref": "paper"
         },
         {
          "font": {
           "size": 16
          },
          "showarrow": false,
          "text": "Model Performance Across Documents",
          "x": 0.78,
          "xanchor": "center",
          "xref": "paper",
          "y": 0.73,
          "yanchor": "bottom",
          "yref": "paper"
         },
         {
          "font": {
           "size": 16
          },
          "showarrow": false,
          "text": "Lenient vs Strict Evaluation Comparison",
          "x": 0.22,
          "xanchor": "center",
          "xref": "paper",
          "y": 0.46,
          "yanchor": "bottom",
          "yref": "paper"
         },
         {
          "font": {
           "size": 16
          },
          "showarrow": false,
          "text": "Individual Document Analysis",
          "x": 0.78,
          "xanchor": "center",
          "xref": "paper",
          "y": 0.46,
          "yanchor": "bottom",
          "yref": "paper"
         },
         {
          "font": {
           "size": 16
          },
          "showarrow": false,
          "text": "Annotation Type Performance Distribution",
          "x": 0.22,
          "xanchor": "center",
          "xref": "paper",
          "y": 0.19,
          "yanchor": "bottom",
          "yref": "paper"
         },
         {
          "font": {
           "size": 16
          },
          "showarrow": false,
          "text": "Model Consistency Across Documents",
          "x": 0.78,
          "xanchor": "center",
          "xref": "paper",
          "y": 0.19,
          "yanchor": "bottom",
          "yref": "paper"
         }
        ],
        "font": {
         "size": 11
        },
        "height": 1600,
        "legend": {
         "bgcolor": "rgba(255,255,255,0.8)",
         "bordercolor": "rgba(0,0,0,0.2)",
         "borderwidth": 1,
         "font": {
          "size": 10
         },
         "orientation": "v",
         "x": 1.02,
         "xanchor": "left",
         "y": 1,
         "yanchor": "top"
        },
        "showlegend": true,
        "template": {
         "data": {
          "bar": [
           {
            "error_x": {
             "color": "#2a3f5f"
            },
            "error_y": {
             "color": "#2a3f5f"
            },
            "marker": {
             "line": {
              "color": "#E5ECF6",
              "width": 0.5
             },
             "pattern": {
              "fillmode": "overlay",
              "size": 10,
              "solidity": 0.2
             }
            },
            "type": "bar"
           }
          ],
          "barpolar": [
           {
            "marker": {
             "line": {
              "color": "#E5ECF6",
              "width": 0.5
             },
             "pattern": {
              "fillmode": "overlay",
              "size": 10,
              "solidity": 0.2
             }
            },
            "type": "barpolar"
           }
          ],
          "carpet": [
           {
            "aaxis": {
             "endlinecolor": "#2a3f5f",
             "gridcolor": "white",
             "linecolor": "white",
             "minorgridcolor": "white",
             "startlinecolor": "#2a3f5f"
            },
            "baxis": {
             "endlinecolor": "#2a3f5f",
             "gridcolor": "white",
             "linecolor": "white",
             "minorgridcolor": "white",
             "startlinecolor": "#2a3f5f"
            },
            "type": "carpet"
           }
          ],
          "choropleth": [
           {
            "colorbar": {
             "outlinewidth": 0,
             "ticks": ""
            },
            "type": "choropleth"
           }
          ],
          "contour": [
           {
            "colorbar": {
             "outlinewidth": 0,
             "ticks": ""
            },
            "colorscale": [
             [
              0,
              "#0d0887"
             ],
             [
              0.1111111111111111,
              "#46039f"
             ],
             [
              0.2222222222222222,
              "#7201a8"
             ],
             [
              0.3333333333333333,
              "#9c179e"
             ],
             [
              0.4444444444444444,
              "#bd3786"
             ],
             [
              0.5555555555555556,
              "#d8576b"
             ],
             [
              0.6666666666666666,
              "#ed7953"
             ],
             [
              0.7777777777777778,
              "#fb9f3a"
             ],
             [
              0.8888888888888888,
              "#fdca26"
             ],
             [
              1,
              "#f0f921"
             ]
            ],
            "type": "contour"
           }
          ],
          "contourcarpet": [
           {
            "colorbar": {
             "outlinewidth": 0,
             "ticks": ""
            },
            "type": "contourcarpet"
           }
          ],
          "heatmap": [
           {
            "colorbar": {
             "outlinewidth": 0,
             "ticks": ""
            },
            "colorscale": [
             [
              0,
              "#0d0887"
             ],
             [
              0.1111111111111111,
              "#46039f"
             ],
             [
              0.2222222222222222,
              "#7201a8"
             ],
             [
              0.3333333333333333,
              "#9c179e"
             ],
             [
              0.4444444444444444,
              "#bd3786"
             ],
             [
              0.5555555555555556,
              "#d8576b"
             ],
             [
              0.6666666666666666,
              "#ed7953"
             ],
             [
              0.7777777777777778,
              "#fb9f3a"
             ],
             [
              0.8888888888888888,
              "#fdca26"
             ],
             [
              1,
              "#f0f921"
             ]
            ],
            "type": "heatmap"
           }
          ],
          "histogram": [
           {
            "marker": {
             "pattern": {
              "fillmode": "overlay",
              "size": 10,
              "solidity": 0.2
             }
            },
            "type": "histogram"
           }
          ],
          "histogram2d": [
           {
            "colorbar": {
             "outlinewidth": 0,
             "ticks": ""
            },
            "colorscale": [
             [
              0,
              "#0d0887"
             ],
             [
              0.1111111111111111,
              "#46039f"
             ],
             [
              0.2222222222222222,
              "#7201a8"
             ],
             [
              0.3333333333333333,
              "#9c179e"
             ],
             [
              0.4444444444444444,
              "#bd3786"
             ],
             [
              0.5555555555555556,
              "#d8576b"
             ],
             [
              0.6666666666666666,
              "#ed7953"
             ],
             [
              0.7777777777777778,
              "#fb9f3a"
             ],
             [
              0.8888888888888888,
              "#fdca26"
             ],
             [
              1,
              "#f0f921"
             ]
            ],
            "type": "histogram2d"
           }
          ],
          "histogram2dcontour": [
           {
            "colorbar": {
             "outlinewidth": 0,
             "ticks": ""
            },
            "colorscale": [
             [
              0,
              "#0d0887"
             ],
             [
              0.1111111111111111,
              "#46039f"
             ],
             [
              0.2222222222222222,
              "#7201a8"
             ],
             [
              0.3333333333333333,
              "#9c179e"
             ],
             [
              0.4444444444444444,
              "#bd3786"
             ],
             [
              0.5555555555555556,
              "#d8576b"
             ],
             [
              0.6666666666666666,
              "#ed7953"
             ],
             [
              0.7777777777777778,
              "#fb9f3a"
             ],
             [
              0.8888888888888888,
              "#fdca26"
             ],
             [
              1,
              "#f0f921"
             ]
            ],
            "type": "histogram2dcontour"
           }
          ],
          "mesh3d": [
           {
            "colorbar": {
             "outlinewidth": 0,
             "ticks": ""
            },
            "type": "mesh3d"
           }
          ],
          "parcoords": [
           {
            "line": {
             "colorbar": {
              "outlinewidth": 0,
              "ticks": ""
             }
            },
            "type": "parcoords"
           }
          ],
          "pie": [
           {
            "automargin": true,
            "type": "pie"
           }
          ],
          "scatter": [
           {
            "fillpattern": {
             "fillmode": "overlay",
             "size": 10,
             "solidity": 0.2
            },
            "type": "scatter"
           }
          ],
          "scatter3d": [
           {
            "line": {
             "colorbar": {
              "outlinewidth": 0,
              "ticks": ""
             }
            },
            "marker": {
             "colorbar": {
              "outlinewidth": 0,
              "ticks": ""
             }
            },
            "type": "scatter3d"
           }
          ],
          "scattercarpet": [
           {
            "marker": {
             "colorbar": {
              "outlinewidth": 0,
              "ticks": ""
             }
            },
            "type": "scattercarpet"
           }
          ],
          "scattergeo": [
           {
            "marker": {
             "colorbar": {
              "outlinewidth": 0,
              "ticks": ""
             }
            },
            "type": "scattergeo"
           }
          ],
          "scattergl": [
           {
            "marker": {
             "colorbar": {
              "outlinewidth": 0,
              "ticks": ""
             }
            },
            "type": "scattergl"
           }
          ],
          "scattermap": [
           {
            "marker": {
             "colorbar": {
              "outlinewidth": 0,
              "ticks": ""
             }
            },
            "type": "scattermap"
           }
          ],
          "scattermapbox": [
           {
            "marker": {
             "colorbar": {
              "outlinewidth": 0,
              "ticks": ""
             }
            },
            "type": "scattermapbox"
           }
          ],
          "scatterpolar": [
           {
            "marker": {
             "colorbar": {
              "outlinewidth": 0,
              "ticks": ""
             }
            },
            "type": "scatterpolar"
           }
          ],
          "scatterpolargl": [
           {
            "marker": {
             "colorbar": {
              "outlinewidth": 0,
              "ticks": ""
             }
            },
            "type": "scatterpolargl"
           }
          ],
          "scatterternary": [
           {
            "marker": {
             "colorbar": {
              "outlinewidth": 0,
              "ticks": ""
             }
            },
            "type": "scatterternary"
           }
          ],
          "surface": [
           {
            "colorbar": {
             "outlinewidth": 0,
             "ticks": ""
            },
            "colorscale": [
             [
              0,
              "#0d0887"
             ],
             [
              0.1111111111111111,
              "#46039f"
             ],
             [
              0.2222222222222222,
              "#7201a8"
             ],
             [
              0.3333333333333333,
              "#9c179e"
             ],
             [
              0.4444444444444444,
              "#bd3786"
             ],
             [
              0.5555555555555556,
              "#d8576b"
             ],
             [
              0.6666666666666666,
              "#ed7953"
             ],
             [
              0.7777777777777778,
              "#fb9f3a"
             ],
             [
              0.8888888888888888,
              "#fdca26"
             ],
             [
              1,
              "#f0f921"
             ]
            ],
            "type": "surface"
           }
          ],
          "table": [
           {
            "cells": {
             "fill": {
              "color": "#EBF0F8"
             },
             "line": {
              "color": "white"
             }
            },
            "header": {
             "fill": {
              "color": "#C8D4E3"
             },
             "line": {
              "color": "white"
             }
            },
            "type": "table"
           }
          ]
         },
         "layout": {
          "annotationdefaults": {
           "arrowcolor": "#2a3f5f",
           "arrowhead": 0,
           "arrowwidth": 1
          },
          "autotypenumbers": "strict",
          "coloraxis": {
           "colorbar": {
            "outlinewidth": 0,
            "ticks": ""
           }
          },
          "colorscale": {
           "diverging": [
            [
             0,
             "#8e0152"
            ],
            [
             0.1,
             "#c51b7d"
            ],
            [
             0.2,
             "#de77ae"
            ],
            [
             0.3,
             "#f1b6da"
            ],
            [
             0.4,
             "#fde0ef"
            ],
            [
             0.5,
             "#f7f7f7"
            ],
            [
             0.6,
             "#e6f5d0"
            ],
            [
             0.7,
             "#b8e186"
            ],
            [
             0.8,
             "#7fbc41"
            ],
            [
             0.9,
             "#4d9221"
            ],
            [
             1,
             "#276419"
            ]
           ],
           "sequential": [
            [
             0,
             "#0d0887"
            ],
            [
             0.1111111111111111,
             "#46039f"
            ],
            [
             0.2222222222222222,
             "#7201a8"
            ],
            [
             0.3333333333333333,
             "#9c179e"
            ],
            [
             0.4444444444444444,
             "#bd3786"
            ],
            [
             0.5555555555555556,
             "#d8576b"
            ],
            [
             0.6666666666666666,
             "#ed7953"
            ],
            [
             0.7777777777777778,
             "#fb9f3a"
            ],
            [
             0.8888888888888888,
             "#fdca26"
            ],
            [
             1,
             "#f0f921"
            ]
           ],
           "sequentialminus": [
            [
             0,
             "#0d0887"
            ],
            [
             0.1111111111111111,
             "#46039f"
            ],
            [
             0.2222222222222222,
             "#7201a8"
            ],
            [
             0.3333333333333333,
             "#9c179e"
            ],
            [
             0.4444444444444444,
             "#bd3786"
            ],
            [
             0.5555555555555556,
             "#d8576b"
            ],
            [
             0.6666666666666666,
             "#ed7953"
            ],
            [
             0.7777777777777778,
             "#fb9f3a"
            ],
            [
             0.8888888888888888,
             "#fdca26"
            ],
            [
             1,
             "#f0f921"
            ]
           ]
          },
          "colorway": [
           "#636efa",
           "#EF553B",
           "#00cc96",
           "#ab63fa",
           "#FFA15A",
           "#19d3f3",
           "#FF6692",
           "#B6E880",
           "#FF97FF",
           "#FECB52"
          ],
          "font": {
           "color": "#2a3f5f"
          },
          "geo": {
           "bgcolor": "white",
           "lakecolor": "white",
           "landcolor": "#E5ECF6",
           "showlakes": true,
           "showland": true,
           "subunitcolor": "white"
          },
          "hoverlabel": {
           "align": "left"
          },
          "hovermode": "closest",
          "mapbox": {
           "style": "light"
          },
          "paper_bgcolor": "white",
          "plot_bgcolor": "#E5ECF6",
          "polar": {
           "angularaxis": {
            "gridcolor": "white",
            "linecolor": "white",
            "ticks": ""
           },
           "bgcolor": "#E5ECF6",
           "radialaxis": {
            "gridcolor": "white",
            "linecolor": "white",
            "ticks": ""
           }
          },
          "scene": {
           "xaxis": {
            "backgroundcolor": "#E5ECF6",
            "gridcolor": "white",
            "gridwidth": 2,
            "linecolor": "white",
            "showbackground": true,
            "ticks": "",
            "zerolinecolor": "white"
           },
           "yaxis": {
            "backgroundcolor": "#E5ECF6",
            "gridcolor": "white",
            "gridwidth": 2,
            "linecolor": "white",
            "showbackground": true,
            "ticks": "",
            "zerolinecolor": "white"
           },
           "zaxis": {
            "backgroundcolor": "#E5ECF6",
            "gridcolor": "white",
            "gridwidth": 2,
            "linecolor": "white",
            "showbackground": true,
            "ticks": "",
            "zerolinecolor": "white"
           }
          },
          "shapedefaults": {
           "line": {
            "color": "#2a3f5f"
           }
          },
          "ternary": {
           "aaxis": {
            "gridcolor": "white",
            "linecolor": "white",
            "ticks": ""
           },
           "baxis": {
            "gridcolor": "white",
            "linecolor": "white",
            "ticks": ""
           },
           "bgcolor": "#E5ECF6",
           "caxis": {
            "gridcolor": "white",
            "linecolor": "white",
            "ticks": ""
           }
          },
          "title": {
           "x": 0.05
          },
          "xaxis": {
           "automargin": true,
           "gridcolor": "white",
           "linecolor": "white",
           "ticks": "",
           "title": {
            "standoff": 15
           },
           "zerolinecolor": "white",
           "zerolinewidth": 2
          },
          "yaxis": {
           "automargin": true,
           "gridcolor": "white",
           "linecolor": "white",
           "ticks": "",
           "title": {
            "standoff": 15
           },
           "zerolinecolor": "white",
           "zerolinewidth": 2
          }
         }
        },
        "title": {
         "text": "Enhanced LLM Evaluation Dashboard<br><sub>Pipeline Results: pipeline_results_20250805_110706 | Document-Level Analysis</sub>",
         "x": 0.5
        },
        "xaxis": {
         "anchor": "y",
         "domain": [
          0,
          0.44
         ],
         "title": {
          "font": {
           "size": 10
          },
          "text": "Annotation Type"
         }
        },
        "xaxis2": {
         "anchor": "y2",
         "domain": [
          0.56,
          1
         ],
         "title": {
          "font": {
           "size": 10
          },
          "text": "Model"
         }
        },
        "xaxis3": {
         "anchor": "y3",
         "domain": [
          0,
          0.44
         ],
         "title": {
          "font": {
           "size": 10
          },
          "text": "Recall"
         }
        },
        "xaxis4": {
         "anchor": "y4",
         "domain": [
          0.56,
          1
         ],
         "tickangle": 45,
         "title": {
          "font": {
           "size": 10
          },
          "text": "Document"
         }
        },
        "xaxis5": {
         "anchor": "y5",
         "domain": [
          0,
          0.44
         ],
         "title": {
          "font": {
           "size": 10
          },
          "text": "Model"
         }
        },
        "xaxis6": {
         "anchor": "y6",
         "domain": [
          0.56,
          1
         ],
         "title": {
          "font": {
           "size": 10
          },
          "text": "Annotation Type"
         }
        },
        "xaxis7": {
         "anchor": "y7",
         "domain": [
          0,
          0.44
         ],
         "title": {
          "font": {
           "size": 10
          },
          "text": "Annotation Type"
         }
        },
        "xaxis8": {
         "anchor": "y8",
         "domain": [
          0.56,
          1
         ],
         "title": {
          "font": {
           "size": 10
          },
          "text": "Model"
         }
        },
        "yaxis": {
         "anchor": "x",
         "domain": [
          0.81,
          1
         ],
         "title": {
          "font": {
           "size": 10
          },
          "text": "Average F1 Score"
         }
        },
        "yaxis2": {
         "anchor": "x2",
         "domain": [
          0.81,
          1
         ],
         "title": {
          "font": {
           "size": 10
          },
          "text": "Document"
         }
        },
        "yaxis3": {
         "anchor": "x3",
         "domain": [
          0.54,
          0.73
         ],
         "title": {
          "font": {
           "size": 10
          },
          "text": "Precision"
         }
        },
        "yaxis4": {
         "anchor": "x4",
         "domain": [
          0.54,
          0.73
         ],
         "title": {
          "font": {
           "size": 10
          },
          "text": "F1 Score"
         }
        },
        "yaxis5": {
         "anchor": "x5",
         "domain": [
          0.27,
          0.46
         ],
         "title": {
          "font": {
           "size": 10
          },
          "text": "F1 Score"
         }
        },
        "yaxis6": {
         "anchor": "x6",
         "domain": [
          0.27,
          0.46
         ],
         "title": {
          "font": {
           "size": 10
          },
          "text": "F1 Score Distribution"
         }
        },
        "yaxis7": {
         "anchor": "x7",
         "domain": [
          0,
          0.19
         ],
         "title": {
          "font": {
           "size": 10
          },
          "text": "Count"
         }
        },
        "yaxis8": {
         "anchor": "x8",
         "domain": [
          0,
          0.19
         ],
         "title": {
          "font": {
           "size": 10
          },
          "text": "Consistency Score"
         }
        }
       }
      }
     },
     "metadata": {},
     "output_type": "display_data"
    },
    {
     "data": {
      "application/vnd.plotly.v1+json": {
       "config": {
        "plotlyServerURL": "https://plot.ly"
       },
       "data": [
        {
         "hovertemplate": "<b>gemma3:1b</b><br>Document: %{x}<br>Avg F1: %{y:.3f}<extra></extra>",
         "line": {
          "color": "#E74C3C",
          "width": 3
         },
         "marker": {
          "size": 8
         },
         "mode": "lines+markers",
         "name": "gemma3:1b",
         "type": "scatter",
         "x": [
          "ALTAY v. TURKEY (No. 2)",
          "BELYAYEV AND OTHERS v. UKRAINE"
         ],
         "y": [
          0.07555555555555556,
          0
         ]
        },
        {
         "hovertemplate": "<b>gemma3:4b</b><br>Document: %{x}<br>Avg F1: %{y:.3f}<extra></extra>",
         "line": {
          "color": "#3498DB",
          "width": 3
         },
         "marker": {
          "size": 8
         },
         "mode": "lines+markers",
         "name": "gemma3:4b",
         "type": "scatter",
         "x": [
          "ALTAY v. TURKEY (No. 2)",
          "BELYAYEV AND OTHERS v. UKRAINE"
         ],
         "y": [
          0.07333906360602689,
          0.10989010989010989
         ]
        },
        {
         "hovertemplate": "<b>gemma3:12b</b><br>Document: %{x}<br>Avg F1: %{y:.3f}<extra></extra>",
         "line": {
          "color": "#2ECC71",
          "width": 3
         },
         "marker": {
          "size": 8
         },
         "mode": "lines+markers",
         "name": "gemma3:12b",
         "type": "scatter",
         "x": [
          "ALTAY v. TURKEY (No. 2)",
          "BELYAYEV AND OTHERS v. UKRAINE"
         ],
         "y": [
          0,
          0.16493855606758834
         ]
        },
        {
         "hovertemplate": "<b>mistral:latest</b><br>Document: %{x}<br>Avg F1: %{y:.3f}<extra></extra>",
         "line": {
          "color": "#F39C12",
          "width": 3
         },
         "marker": {
          "size": 8
         },
         "mode": "lines+markers",
         "name": "mistral:latest",
         "type": "scatter",
         "x": [
          "ALTAY v. TURKEY (No. 2)",
          "BELYAYEV AND OTHERS v. UKRAINE"
         ],
         "y": [
          0.16059447651739742,
          0
         ]
        }
       ],
       "layout": {
        "height": 400,
        "hovermode": "x unified",
        "legend": {
         "orientation": "h",
         "x": 1,
         "xanchor": "right",
         "y": 1.02,
         "yanchor": "bottom"
        },
        "template": {
         "data": {
          "bar": [
           {
            "error_x": {
             "color": "#2a3f5f"
            },
            "error_y": {
             "color": "#2a3f5f"
            },
            "marker": {
             "line": {
              "color": "#E5ECF6",
              "width": 0.5
             },
             "pattern": {
              "fillmode": "overlay",
              "size": 10,
              "solidity": 0.2
             }
            },
            "type": "bar"
           }
          ],
          "barpolar": [
           {
            "marker": {
             "line": {
              "color": "#E5ECF6",
              "width": 0.5
             },
             "pattern": {
              "fillmode": "overlay",
              "size": 10,
              "solidity": 0.2
             }
            },
            "type": "barpolar"
           }
          ],
          "carpet": [
           {
            "aaxis": {
             "endlinecolor": "#2a3f5f",
             "gridcolor": "white",
             "linecolor": "white",
             "minorgridcolor": "white",
             "startlinecolor": "#2a3f5f"
            },
            "baxis": {
             "endlinecolor": "#2a3f5f",
             "gridcolor": "white",
             "linecolor": "white",
             "minorgridcolor": "white",
             "startlinecolor": "#2a3f5f"
            },
            "type": "carpet"
           }
          ],
          "choropleth": [
           {
            "colorbar": {
             "outlinewidth": 0,
             "ticks": ""
            },
            "type": "choropleth"
           }
          ],
          "contour": [
           {
            "colorbar": {
             "outlinewidth": 0,
             "ticks": ""
            },
            "colorscale": [
             [
              0,
              "#0d0887"
             ],
             [
              0.1111111111111111,
              "#46039f"
             ],
             [
              0.2222222222222222,
              "#7201a8"
             ],
             [
              0.3333333333333333,
              "#9c179e"
             ],
             [
              0.4444444444444444,
              "#bd3786"
             ],
             [
              0.5555555555555556,
              "#d8576b"
             ],
             [
              0.6666666666666666,
              "#ed7953"
             ],
             [
              0.7777777777777778,
              "#fb9f3a"
             ],
             [
              0.8888888888888888,
              "#fdca26"
             ],
             [
              1,
              "#f0f921"
             ]
            ],
            "type": "contour"
           }
          ],
          "contourcarpet": [
           {
            "colorbar": {
             "outlinewidth": 0,
             "ticks": ""
            },
            "type": "contourcarpet"
           }
          ],
          "heatmap": [
           {
            "colorbar": {
             "outlinewidth": 0,
             "ticks": ""
            },
            "colorscale": [
             [
              0,
              "#0d0887"
             ],
             [
              0.1111111111111111,
              "#46039f"
             ],
             [
              0.2222222222222222,
              "#7201a8"
             ],
             [
              0.3333333333333333,
              "#9c179e"
             ],
             [
              0.4444444444444444,
              "#bd3786"
             ],
             [
              0.5555555555555556,
              "#d8576b"
             ],
             [
              0.6666666666666666,
              "#ed7953"
             ],
             [
              0.7777777777777778,
              "#fb9f3a"
             ],
             [
              0.8888888888888888,
              "#fdca26"
             ],
             [
              1,
              "#f0f921"
             ]
            ],
            "type": "heatmap"
           }
          ],
          "histogram": [
           {
            "marker": {
             "pattern": {
              "fillmode": "overlay",
              "size": 10,
              "solidity": 0.2
             }
            },
            "type": "histogram"
           }
          ],
          "histogram2d": [
           {
            "colorbar": {
             "outlinewidth": 0,
             "ticks": ""
            },
            "colorscale": [
             [
              0,
              "#0d0887"
             ],
             [
              0.1111111111111111,
              "#46039f"
             ],
             [
              0.2222222222222222,
              "#7201a8"
             ],
             [
              0.3333333333333333,
              "#9c179e"
             ],
             [
              0.4444444444444444,
              "#bd3786"
             ],
             [
              0.5555555555555556,
              "#d8576b"
             ],
             [
              0.6666666666666666,
              "#ed7953"
             ],
             [
              0.7777777777777778,
              "#fb9f3a"
             ],
             [
              0.8888888888888888,
              "#fdca26"
             ],
             [
              1,
              "#f0f921"
             ]
            ],
            "type": "histogram2d"
           }
          ],
          "histogram2dcontour": [
           {
            "colorbar": {
             "outlinewidth": 0,
             "ticks": ""
            },
            "colorscale": [
             [
              0,
              "#0d0887"
             ],
             [
              0.1111111111111111,
              "#46039f"
             ],
             [
              0.2222222222222222,
              "#7201a8"
             ],
             [
              0.3333333333333333,
              "#9c179e"
             ],
             [
              0.4444444444444444,
              "#bd3786"
             ],
             [
              0.5555555555555556,
              "#d8576b"
             ],
             [
              0.6666666666666666,
              "#ed7953"
             ],
             [
              0.7777777777777778,
              "#fb9f3a"
             ],
             [
              0.8888888888888888,
              "#fdca26"
             ],
             [
              1,
              "#f0f921"
             ]
            ],
            "type": "histogram2dcontour"
           }
          ],
          "mesh3d": [
           {
            "colorbar": {
             "outlinewidth": 0,
             "ticks": ""
            },
            "type": "mesh3d"
           }
          ],
          "parcoords": [
           {
            "line": {
             "colorbar": {
              "outlinewidth": 0,
              "ticks": ""
             }
            },
            "type": "parcoords"
           }
          ],
          "pie": [
           {
            "automargin": true,
            "type": "pie"
           }
          ],
          "scatter": [
           {
            "fillpattern": {
             "fillmode": "overlay",
             "size": 10,
             "solidity": 0.2
            },
            "type": "scatter"
           }
          ],
          "scatter3d": [
           {
            "line": {
             "colorbar": {
              "outlinewidth": 0,
              "ticks": ""
             }
            },
            "marker": {
             "colorbar": {
              "outlinewidth": 0,
              "ticks": ""
             }
            },
            "type": "scatter3d"
           }
          ],
          "scattercarpet": [
           {
            "marker": {
             "colorbar": {
              "outlinewidth": 0,
              "ticks": ""
             }
            },
            "type": "scattercarpet"
           }
          ],
          "scattergeo": [
           {
            "marker": {
             "colorbar": {
              "outlinewidth": 0,
              "ticks": ""
             }
            },
            "type": "scattergeo"
           }
          ],
          "scattergl": [
           {
            "marker": {
             "colorbar": {
              "outlinewidth": 0,
              "ticks": ""
             }
            },
            "type": "scattergl"
           }
          ],
          "scattermap": [
           {
            "marker": {
             "colorbar": {
              "outlinewidth": 0,
              "ticks": ""
             }
            },
            "type": "scattermap"
           }
          ],
          "scattermapbox": [
           {
            "marker": {
             "colorbar": {
              "outlinewidth": 0,
              "ticks": ""
             }
            },
            "type": "scattermapbox"
           }
          ],
          "scatterpolar": [
           {
            "marker": {
             "colorbar": {
              "outlinewidth": 0,
              "ticks": ""
             }
            },
            "type": "scatterpolar"
           }
          ],
          "scatterpolargl": [
           {
            "marker": {
             "colorbar": {
              "outlinewidth": 0,
              "ticks": ""
             }
            },
            "type": "scatterpolargl"
           }
          ],
          "scatterternary": [
           {
            "marker": {
             "colorbar": {
              "outlinewidth": 0,
              "ticks": ""
             }
            },
            "type": "scatterternary"
           }
          ],
          "surface": [
           {
            "colorbar": {
             "outlinewidth": 0,
             "ticks": ""
            },
            "colorscale": [
             [
              0,
              "#0d0887"
             ],
             [
              0.1111111111111111,
              "#46039f"
             ],
             [
              0.2222222222222222,
              "#7201a8"
             ],
             [
              0.3333333333333333,
              "#9c179e"
             ],
             [
              0.4444444444444444,
              "#bd3786"
             ],
             [
              0.5555555555555556,
              "#d8576b"
             ],
             [
              0.6666666666666666,
              "#ed7953"
             ],
             [
              0.7777777777777778,
              "#fb9f3a"
             ],
             [
              0.8888888888888888,
              "#fdca26"
             ],
             [
              1,
              "#f0f921"
             ]
            ],
            "type": "surface"
           }
          ],
          "table": [
           {
            "cells": {
             "fill": {
              "color": "#EBF0F8"
             },
             "line": {
              "color": "white"
             }
            },
            "header": {
             "fill": {
              "color": "#C8D4E3"
             },
             "line": {
              "color": "white"
             }
            },
            "type": "table"
           }
          ]
         },
         "layout": {
          "annotationdefaults": {
           "arrowcolor": "#2a3f5f",
           "arrowhead": 0,
           "arrowwidth": 1
          },
          "autotypenumbers": "strict",
          "coloraxis": {
           "colorbar": {
            "outlinewidth": 0,
            "ticks": ""
           }
          },
          "colorscale": {
           "diverging": [
            [
             0,
             "#8e0152"
            ],
            [
             0.1,
             "#c51b7d"
            ],
            [
             0.2,
             "#de77ae"
            ],
            [
             0.3,
             "#f1b6da"
            ],
            [
             0.4,
             "#fde0ef"
            ],
            [
             0.5,
             "#f7f7f7"
            ],
            [
             0.6,
             "#e6f5d0"
            ],
            [
             0.7,
             "#b8e186"
            ],
            [
             0.8,
             "#7fbc41"
            ],
            [
             0.9,
             "#4d9221"
            ],
            [
             1,
             "#276419"
            ]
           ],
           "sequential": [
            [
             0,
             "#0d0887"
            ],
            [
             0.1111111111111111,
             "#46039f"
            ],
            [
             0.2222222222222222,
             "#7201a8"
            ],
            [
             0.3333333333333333,
             "#9c179e"
            ],
            [
             0.4444444444444444,
             "#bd3786"
            ],
            [
             0.5555555555555556,
             "#d8576b"
            ],
            [
             0.6666666666666666,
             "#ed7953"
            ],
            [
             0.7777777777777778,
             "#fb9f3a"
            ],
            [
             0.8888888888888888,
             "#fdca26"
            ],
            [
             1,
             "#f0f921"
            ]
           ],
           "sequentialminus": [
            [
             0,
             "#0d0887"
            ],
            [
             0.1111111111111111,
             "#46039f"
            ],
            [
             0.2222222222222222,
             "#7201a8"
            ],
            [
             0.3333333333333333,
             "#9c179e"
            ],
            [
             0.4444444444444444,
             "#bd3786"
            ],
            [
             0.5555555555555556,
             "#d8576b"
            ],
            [
             0.6666666666666666,
             "#ed7953"
            ],
            [
             0.7777777777777778,
             "#fb9f3a"
            ],
            [
             0.8888888888888888,
             "#fdca26"
            ],
            [
             1,
             "#f0f921"
            ]
           ]
          },
          "colorway": [
           "#636efa",
           "#EF553B",
           "#00cc96",
           "#ab63fa",
           "#FFA15A",
           "#19d3f3",
           "#FF6692",
           "#B6E880",
           "#FF97FF",
           "#FECB52"
          ],
          "font": {
           "color": "#2a3f5f"
          },
          "geo": {
           "bgcolor": "white",
           "lakecolor": "white",
           "landcolor": "#E5ECF6",
           "showlakes": true,
           "showland": true,
           "subunitcolor": "white"
          },
          "hoverlabel": {
           "align": "left"
          },
          "hovermode": "closest",
          "mapbox": {
           "style": "light"
          },
          "paper_bgcolor": "white",
          "plot_bgcolor": "#E5ECF6",
          "polar": {
           "angularaxis": {
            "gridcolor": "white",
            "linecolor": "white",
            "ticks": ""
           },
           "bgcolor": "#E5ECF6",
           "radialaxis": {
            "gridcolor": "white",
            "linecolor": "white",
            "ticks": ""
           }
          },
          "scene": {
           "xaxis": {
            "backgroundcolor": "#E5ECF6",
            "gridcolor": "white",
            "gridwidth": 2,
            "linecolor": "white",
            "showbackground": true,
            "ticks": "",
            "zerolinecolor": "white"
           },
           "yaxis": {
            "backgroundcolor": "#E5ECF6",
            "gridcolor": "white",
            "gridwidth": 2,
            "linecolor": "white",
            "showbackground": true,
            "ticks": "",
            "zerolinecolor": "white"
           },
           "zaxis": {
            "backgroundcolor": "#E5ECF6",
            "gridcolor": "white",
            "gridwidth": 2,
            "linecolor": "white",
            "showbackground": true,
            "ticks": "",
            "zerolinecolor": "white"
           }
          },
          "shapedefaults": {
           "line": {
            "color": "#2a3f5f"
           }
          },
          "ternary": {
           "aaxis": {
            "gridcolor": "white",
            "linecolor": "white",
            "ticks": ""
           },
           "baxis": {
            "gridcolor": "white",
            "linecolor": "white",
            "ticks": ""
           },
           "bgcolor": "#E5ECF6",
           "caxis": {
            "gridcolor": "white",
            "linecolor": "white",
            "ticks": ""
           }
          },
          "title": {
           "x": 0.05
          },
          "xaxis": {
           "automargin": true,
           "gridcolor": "white",
           "linecolor": "white",
           "ticks": "",
           "title": {
            "standoff": 15
           },
           "zerolinecolor": "white",
           "zerolinewidth": 2
          },
          "yaxis": {
           "automargin": true,
           "gridcolor": "white",
           "linecolor": "white",
           "ticks": "",
           "title": {
            "standoff": 15
           },
           "zerolinecolor": "white",
           "zerolinewidth": 2
          }
         }
        },
        "title": {
         "text": "Model Performance Across Individual Documents"
        },
        "xaxis": {
         "tickangle": 45,
         "title": {
          "text": "Document"
         }
        },
        "yaxis": {
         "title": {
          "text": "Average F1 Score"
         }
        }
       }
      }
     },
     "metadata": {},
     "output_type": "display_data"
    },
    {
     "name": "stdout",
     "output_type": "stream",
     "text": [
      "📊 EVALUATION SUMMARY:\n",
      "==================================================\n",
      "\n",
      "🏆 MODEL RANKINGS (by average F1):\n",
      "1. gemma3:4b: 0.092 (±0.100)\n",
      "2. gemma3:12b: 0.082 (±0.173)\n",
      "3. mistral:latest: 0.080 (±0.132)\n",
      "4. gemma3:1b: 0.038 (±0.080)\n",
      "\n",
      "📋 ANNOTATION TYPE PERFORMANCE:\n",
      "• Event: 0.178 (±0.179)\n",
      "• Event_when: 0.062 (±0.108)\n",
      "• Event_who: 0.029 (±0.058)\n",
      "• Event_what: 0.023 (±0.032)\n",
      "\n",
      "📄 DOCUMENT ANALYSIS:\n",
      "Most challenging: BELYAYEV AND OTHERS v. UKRAINE (avg F1: 0.069)\n",
      "Easiest: ALTAY v. TURKEY (No. 2) (avg F1: 0.077)\n",
      "\n",
      "✅ Enhanced single run visualization created successfully!\n"
     ]
    }
   ],
   "source": [
    "def load_evaluation_results(results_path):\n",
    "    \"\"\"Load evaluation results from JSON file.\"\"\"\n",
    "    with open(results_path, 'r', encoding='utf-8') as f:\n",
    "        return json.load(f)\n",
    "\n",
    "def create_dataframe_from_results(results):\n",
    "    \"\"\"Convert nested results to a flat DataFrame for analysis.\"\"\"\n",
    "    rows = []\n",
    "    for doc_name, doc_results in results.items():\n",
    "        for model_name, model_results in doc_results.items():\n",
    "            for ann_type, metrics in model_results.items():\n",
    "                # Lenient evaluation\n",
    "                rows.append({\n",
    "                    'Document': doc_name,\n",
    "                    'Model': model_name,\n",
    "                    'Annotation_Type': ann_type,\n",
    "                    'Evaluation_Mode': 'Lenient',\n",
    "                    'Precision': metrics['lenient']['precision'],\n",
    "                    'Recall': metrics['lenient']['recall'],\n",
    "                    'F1_Score': metrics['lenient']['f1_score'],\n",
    "                    'True_Positives': metrics['lenient']['true_positives'],\n",
    "                    'False_Positives': metrics['lenient']['false_positives'],\n",
    "                    'False_Negatives': metrics['lenient']['false_negatives'],\n",
    "                    'Gold_Count': metrics['gold_count'],\n",
    "                    'Predicted_Count': metrics['predicted_count']\n",
    "                })\n",
    "                \n",
    "                # Strict evaluation\n",
    "                rows.append({\n",
    "                    'Document': doc_name,\n",
    "                    'Model': model_name,\n",
    "                    'Annotation_Type': ann_type,\n",
    "                    'Evaluation_Mode': 'Strict',\n",
    "                    'Precision': metrics['strict']['precision'],\n",
    "                    'Recall': metrics['strict']['recall'],\n",
    "                    'F1_Score': metrics['strict']['f1_score'],\n",
    "                    'True_Positives': metrics['strict']['true_positives'],\n",
    "                    'False_Positives': metrics['strict']['false_positives'],\n",
    "                    'False_Negatives': metrics['strict']['false_negatives'],\n",
    "                    'Gold_Count': metrics['gold_count'],\n",
    "                    'Predicted_Count': metrics['predicted_count']\n",
    "                })\n",
    "    \n",
    "    return pd.DataFrame(rows)\n",
    "\n",
    "def visualize_single_run(results_path):\n",
    "    \"\"\"Create comprehensive visualizations for a single evaluation run.\"\"\"\n",
    "    \n",
    "    # Load and prepare data\n",
    "    results = load_evaluation_results(results_path)\n",
    "    df = create_dataframe_from_results(results)\n",
    "    \n",
    "    # Create an enhanced figure with more subplots for better analysis\n",
    "    fig = make_subplots(\n",
    "        rows=4, cols=2,\n",
    "        subplot_titles=(\n",
    "            'F1-Scores by Model and Annotation Type (Lenient)', \n",
    "            'Document-Level Performance Heatmap',\n",
    "            'Precision vs Recall by Model (with Document Points)',\n",
    "            'Model Performance Across Documents',\n",
    "            'Lenient vs Strict Evaluation Comparison',\n",
    "            'Individual Document Analysis',\n",
    "            'Annotation Type Performance Distribution',\n",
    "            'Model Consistency Across Documents'\n",
    "        ),\n",
    "        specs=[[{\"type\": \"bar\"}, {\"type\": \"heatmap\"}],\n",
    "               [{\"type\": \"scatter\"}, {\"type\": \"bar\"}],\n",
    "               [{\"type\": \"bar\"}, {\"type\": \"box\"}],\n",
    "               [{\"type\": \"bar\"}, {\"type\": \"scatter\"}]],\n",
    "        vertical_spacing=0.08,\n",
    "        horizontal_spacing=0.12\n",
    "    )\n",
    "    \n",
    "    # Color palette for models with better contrast\n",
    "    model_colors = {\n",
    "        'gemma3:1b': '#E74C3C',    # Red\n",
    "        'gemma3:4b': '#3498DB',    # Blue  \n",
    "        'gemma3:12b': '#2ECC71',   # Green\n",
    "        'mistral:latest': '#F39C12' # Orange\n",
    "    }\n",
    "    \n",
    "    # Document colors for variety\n",
    "    doc_colors = px.colors.qualitative.Set3\n",
    "    \n",
    "    # Get lenient and strict data\n",
    "    df_lenient = df[df['Evaluation_Mode'] == 'Lenient']\n",
    "    df_strict = df[df['Evaluation_Mode'] == 'Strict']\n",
    "    \n",
    "    # 1. F1-Scores by Model and Annotation Type (Lenient) - Enhanced with proper legend\n",
    "    for i, model in enumerate(df_lenient['Model'].unique()):\n",
    "        model_data = df_lenient[df_lenient['Model'] == model]\n",
    "        avg_f1_by_type = model_data.groupby('Annotation_Type')['F1_Score'].mean().reset_index()\n",
    "        \n",
    "        fig.add_trace(\n",
    "            go.Bar(\n",
    "                x=avg_f1_by_type['Annotation_Type'],\n",
    "                y=avg_f1_by_type['F1_Score'],\n",
    "                name=f\"{model}\",\n",
    "                marker_color=model_colors.get(model, '#95A5A6'),\n",
    "                showlegend=True,\n",
    "                legendgroup='models',\n",
    "                hovertemplate=f'<b>{model}</b><br>Type: %{{x}}<br>Avg F1: %{{y:.3f}}<extra></extra>'\n",
    "            ),\n",
    "            row=1, col=1\n",
    "        )\n",
    "    \n",
    "    # 2. Document-Level Performance Heatmap\n",
    "    doc_model_performance = df_lenient.groupby(['Document', 'Model'])['F1_Score'].mean().reset_index()\n",
    "    heatmap_pivot = doc_model_performance.pivot(index='Document', columns='Model', values='F1_Score')\n",
    "    \n",
    "    fig.add_trace(\n",
    "        go.Heatmap(\n",
    "            z=heatmap_pivot.values,\n",
    "            x=heatmap_pivot.columns,\n",
    "            y=heatmap_pivot.index,\n",
    "            colorscale='RdYlBu_r',\n",
    "            showscale=True,\n",
    "            colorbar=dict(title=\"F1 Score\", x=0.48),\n",
    "            hovertemplate='Document: %{y}<br>Model: %{x}<br>F1 Score: %{z:.3f}<extra></extra>',\n",
    "            showlegend=False\n",
    "        ),\n",
    "        row=1, col=2\n",
    "    )\n",
    "    \n",
    "    # 3. Precision vs Recall scatter plot with document points\n",
    "    for i, model in enumerate(df_lenient['Model'].unique()):\n",
    "        model_data = df_lenient[df_lenient['Model'] == model]\n",
    "        fig.add_trace(\n",
    "            go.Scatter(\n",
    "                x=model_data['Recall'],\n",
    "                y=model_data['Precision'],\n",
    "                mode='markers',\n",
    "                name=f\"{model} (docs)\",\n",
    "                marker=dict(\n",
    "                    size=8,\n",
    "                    color=model_colors.get(model, '#95A5A6'),\n",
    "                    symbol='circle',\n",
    "                    opacity=0.7\n",
    "                ),\n",
    "                text=model_data['Document'] + '<br>' + model_data['Annotation_Type'],\n",
    "                hovertemplate='<b>%{text}</b><br>Recall: %{x:.3f}<br>Precision: %{y:.3f}<extra></extra>',\n",
    "                showlegend=True,\n",
    "                legendgroup='scatter'\n",
    "            ),\n",
    "            row=2, col=1\n",
    "        )\n",
    "    \n",
    "    # 4. Model Performance Across Documents (Box plot style)\n",
    "    for i, model in enumerate(df_lenient['Model'].unique()):\n",
    "        model_data = df_lenient[df_lenient['Model'] == model]\n",
    "        doc_performance = model_data.groupby('Document')['F1_Score'].mean().reset_index()\n",
    "        \n",
    "        fig.add_trace(\n",
    "            go.Bar(\n",
    "                x=doc_performance['Document'],\n",
    "                y=doc_performance['F1_Score'],\n",
    "                name=f\"{model}\",\n",
    "                marker_color=model_colors.get(model, '#95A5A6'),\n",
    "                showlegend=False,\n",
    "                opacity=0.8,\n",
    "                hovertemplate=f'<b>{model}</b><br>Document: %{{x}}<br>Avg F1: %{{y:.3f}}<extra></extra>'\n",
    "            ),\n",
    "            row=2, col=2\n",
    "        )\n",
    "    \n",
    "    # 5. Lenient vs Strict comparison - Enhanced\n",
    "    df_comparison = df.groupby(['Model', 'Evaluation_Mode'])['F1_Score'].mean().reset_index()\n",
    "    lenient_data = df_comparison[df_comparison['Evaluation_Mode'] == 'Lenient']\n",
    "    strict_data = df_comparison[df_comparison['Evaluation_Mode'] == 'Strict']\n",
    "    \n",
    "    fig.add_trace(\n",
    "        go.Bar(\n",
    "            x=lenient_data['Model'],\n",
    "            y=lenient_data['F1_Score'],\n",
    "            name='Lenient Evaluation',\n",
    "            marker_color='lightblue',\n",
    "            showlegend=True,\n",
    "            legendgroup='evaluation_modes',\n",
    "            hovertemplate='<b>Lenient</b><br>Model: %{x}<br>F1: %{y:.3f}<extra></extra>'\n",
    "        ),\n",
    "        row=3, col=1\n",
    "    )\n",
    "    \n",
    "    fig.add_trace(\n",
    "        go.Bar(\n",
    "            x=strict_data['Model'],\n",
    "            y=strict_data['F1_Score'],\n",
    "            name='Strict Evaluation',\n",
    "            marker_color='darkblue',\n",
    "            showlegend=True,\n",
    "            legendgroup='evaluation_modes',\n",
    "            hovertemplate='<b>Strict</b><br>Model: %{x}<br>F1: %{y:.3f}<extra></extra>'\n",
    "        ),\n",
    "        row=3, col=1\n",
    "    )\n",
    "    \n",
    "    # 6. Individual Document Analysis (Box plots showing variance)\n",
    "    for i, annotation_type in enumerate(df_lenient['Annotation_Type'].unique()):\n",
    "        ann_data = df_lenient[df_lenient['Annotation_Type'] == annotation_type]\n",
    "        \n",
    "        fig.add_trace(\n",
    "            go.Box(\n",
    "                y=ann_data['F1_Score'],\n",
    "                name=annotation_type,\n",
    "                boxpoints='all',\n",
    "                jitter=0.3,\n",
    "                pointpos=-1.8,\n",
    "                marker_color=px.colors.qualitative.Set1[i % len(px.colors.qualitative.Set1)],\n",
    "                showlegend=True,\n",
    "                legendgroup='annotation_types',\n",
    "                hovertemplate=f'<b>{annotation_type}</b><br>F1: %{{y:.3f}}<extra></extra>'\n",
    "            ),\n",
    "            row=3, col=2\n",
    "        )\n",
    "    \n",
    "    # 7. Annotation Type Performance Distribution\n",
    "    df_counts = df_lenient.groupby('Annotation_Type').agg({\n",
    "        'Gold_Count': 'first',\n",
    "        'Predicted_Count': 'mean',\n",
    "        'F1_Score': 'mean'\n",
    "    }).reset_index()\n",
    "    \n",
    "    fig.add_trace(\n",
    "        go.Bar(\n",
    "            x=df_counts['Annotation_Type'],\n",
    "            y=df_counts['Gold_Count'],\n",
    "            name='Gold Standard Count',\n",
    "            marker_color='gold',\n",
    "            showlegend=True,\n",
    "            legendgroup='counts',\n",
    "            hovertemplate='<b>Gold Standard</b><br>Type: %{x}<br>Count: %{y}<extra></extra>'\n",
    "        ),\n",
    "        row=4, col=1\n",
    "    )\n",
    "    \n",
    "    fig.add_trace(\n",
    "        go.Bar(\n",
    "            x=df_counts['Annotation_Type'],\n",
    "            y=df_counts['Predicted_Count'],\n",
    "            name='Avg Predicted Count',\n",
    "            marker_color='silver',\n",
    "            showlegend=True,\n",
    "            legendgroup='counts',\n",
    "            yaxis='y2',\n",
    "            hovertemplate='<b>Predicted</b><br>Type: %{x}<br>Avg Count: %{y:.1f}<extra></extra>'\n",
    "        ),\n",
    "        row=4, col=1\n",
    "    )\n",
    "    \n",
    "    # 8. Model Consistency Across Documents (Coefficient of Variation)\n",
    "    model_consistency = []\n",
    "    for model in df_lenient['Model'].unique():\n",
    "        model_data = df_lenient[df_lenient['Model'] == model]\n",
    "        doc_scores = model_data.groupby('Document')['F1_Score'].mean()\n",
    "        cv = doc_scores.std() / doc_scores.mean() if doc_scores.mean() > 0 else 0\n",
    "        model_consistency.append({'Model': model, 'Consistency': 1 - cv, 'CV': cv})\n",
    "    \n",
    "    consistency_df = pd.DataFrame(model_consistency)\n",
    "    \n",
    "    fig.add_trace(\n",
    "        go.Scatter(\n",
    "            x=consistency_df['Model'],\n",
    "            y=consistency_df['Consistency'],\n",
    "            mode='markers+lines',\n",
    "            name='Model Consistency',\n",
    "            marker=dict(\n",
    "                size=12,\n",
    "                color=[model_colors.get(model, '#95A5A6') for model in consistency_df['Model']],\n",
    "                symbol='diamond'\n",
    "            ),\n",
    "            line=dict(color='gray', dash='dash'),\n",
    "            showlegend=True,\n",
    "            legendgroup='consistency',\n",
    "            hovertemplate='<b>%{x}</b><br>Consistency: %{y:.3f}<br>CV: %{customdata:.3f}<extra></extra>',\n",
    "            customdata=consistency_df['CV']\n",
    "        ),\n",
    "        row=4, col=2\n",
    "    )\n",
    "    \n",
    "    # Update layout with improved legend and styling\n",
    "    fig.update_layout(\n",
    "        height=1600,  # Increased height for 4 rows\n",
    "        title=f'Enhanced LLM Evaluation Dashboard<br><sub>Pipeline Results: {Path(results_path).parent.name} | Document-Level Analysis</sub>',\n",
    "        title_x=0.5,\n",
    "        showlegend=True,\n",
    "        legend=dict(\n",
    "            orientation=\"v\",\n",
    "            yanchor=\"top\", \n",
    "            y=1,\n",
    "            xanchor=\"left\",\n",
    "            x=1.02,\n",
    "            bgcolor=\"rgba(255,255,255,0.8)\",\n",
    "            bordercolor=\"rgba(0,0,0,0.2)\",\n",
    "            borderwidth=1,\n",
    "            font=dict(size=10)\n",
    "        ),\n",
    "        font=dict(size=11)\n",
    "    )\n",
    "    \n",
    "    # Update subplot titles and axes with better formatting\n",
    "    fig.update_xaxes(title_text=\"Annotation Type\", row=1, col=1, title_font_size=10)\n",
    "    fig.update_yaxes(title_text=\"Average F1 Score\", row=1, col=1, title_font_size=10)\n",
    "    \n",
    "    fig.update_xaxes(title_text=\"Model\", row=1, col=2, title_font_size=10)\n",
    "    fig.update_yaxes(title_text=\"Document\", row=1, col=2, title_font_size=10)\n",
    "    \n",
    "    fig.update_xaxes(title_text=\"Recall\", row=2, col=1, title_font_size=10)\n",
    "    fig.update_yaxes(title_text=\"Precision\", row=2, col=1, title_font_size=10)\n",
    "    \n",
    "    fig.update_xaxes(title_text=\"Document\", row=2, col=2, title_font_size=10, tickangle=45)\n",
    "    fig.update_yaxes(title_text=\"F1 Score\", row=2, col=2, title_font_size=10)\n",
    "    \n",
    "    fig.update_xaxes(title_text=\"Model\", row=3, col=1, title_font_size=10)\n",
    "    fig.update_yaxes(title_text=\"F1 Score\", row=3, col=1, title_font_size=10)\n",
    "    \n",
    "    fig.update_xaxes(title_text=\"Annotation Type\", row=3, col=2, title_font_size=10)\n",
    "    fig.update_yaxes(title_text=\"F1 Score Distribution\", row=3, col=2, title_font_size=10)\n",
    "    \n",
    "    fig.update_xaxes(title_text=\"Annotation Type\", row=4, col=1, title_font_size=10)\n",
    "    fig.update_yaxes(title_text=\"Count\", row=4, col=1, title_font_size=10)\n",
    "    \n",
    "    fig.update_xaxes(title_text=\"Model\", row=4, col=2, title_font_size=10)\n",
    "    fig.update_yaxes(title_text=\"Consistency Score\", row=4, col=2, title_font_size=10)\n",
    "    \n",
    "    return fig\n",
    "\n",
    "def create_document_comparison_plot(df_lenient):\n",
    "    \"\"\"Create a detailed document comparison visualization.\"\"\"\n",
    "    # Document performance comparison\n",
    "    doc_fig = go.Figure()\n",
    "    \n",
    "    documents = df_lenient['Document'].unique()\n",
    "    models = df_lenient['Model'].unique()\n",
    "    \n",
    "    model_colors = {\n",
    "        'gemma3:1b': '#E74C3C',\n",
    "        'gemma3:4b': '#3498DB', \n",
    "        'gemma3:12b': '#2ECC71',\n",
    "        'mistral:latest': '#F39C12'\n",
    "    }\n",
    "    \n",
    "    for model in models:\n",
    "        model_data = df_lenient[df_lenient['Model'] == model]\n",
    "        doc_scores = model_data.groupby('Document')['F1_Score'].mean()\n",
    "        \n",
    "        doc_fig.add_trace(\n",
    "            go.Scatter(\n",
    "                x=documents,\n",
    "                y=[doc_scores.get(doc, 0) for doc in documents],\n",
    "                mode='lines+markers',\n",
    "                name=model,\n",
    "                line=dict(color=model_colors.get(model, '#95A5A6'), width=3),\n",
    "                marker=dict(size=8),\n",
    "                hovertemplate=f'<b>{model}</b><br>Document: %{{x}}<br>Avg F1: %{{y:.3f}}<extra></extra>'\n",
    "            )\n",
    "        )\n",
    "    \n",
    "    doc_fig.update_layout(\n",
    "        title='Model Performance Across Individual Documents',\n",
    "        xaxis_title='Document',\n",
    "        yaxis_title='Average F1 Score',\n",
    "        height=400,\n",
    "        hovermode='x unified',\n",
    "        legend=dict(\n",
    "            orientation=\"h\",\n",
    "            yanchor=\"bottom\",\n",
    "            y=1.02,\n",
    "            xanchor=\"right\", \n",
    "            x=1\n",
    "        )\n",
    "    )\n",
    "    \n",
    "    doc_fig.update_xaxes(tickangle=45)\n",
    "    return doc_fig\n",
    "\n",
    "# Enhanced example usage with document-level analysis\n",
    "results_path = \"output/pipeline_results_20250805_110706/llm_evaluation_results.json\"\n",
    "\n",
    "# Check if file exists\n",
    "if Path(results_path).exists():\n",
    "    # Create main dashboard\n",
    "    fig = visualize_single_run(results_path)\n",
    "    fig.show()\n",
    "    \n",
    "    # Create additional document comparison plot\n",
    "    results = load_evaluation_results(results_path)\n",
    "    df = create_dataframe_from_results(results)\n",
    "    df_lenient = df[df['Evaluation_Mode'] == 'Lenient']\n",
    "    \n",
    "    doc_fig = create_document_comparison_plot(df_lenient)\n",
    "    doc_fig.show()\n",
    "    \n",
    "    # Print summary statistics\n",
    "    print(\"📊 EVALUATION SUMMARY:\")\n",
    "    print(\"=\" * 50)\n",
    "    \n",
    "    # Model rankings\n",
    "    model_rankings = df_lenient.groupby('Model')['F1_Score'].agg(['mean', 'std']).round(3)\n",
    "    model_rankings = model_rankings.sort_values('mean', ascending=False)\n",
    "    print(\"\\n🏆 MODEL RANKINGS (by average F1):\")\n",
    "    for i, (model, stats) in enumerate(model_rankings.iterrows(), 1):\n",
    "        print(f\"{i}. {model}: {stats['mean']:.3f} (±{stats['std']:.3f})\")\n",
    "    \n",
    "    # Best performing annotation types\n",
    "    ann_performance = df_lenient.groupby('Annotation_Type')['F1_Score'].agg(['mean', 'std']).round(3)\n",
    "    ann_performance = ann_performance.sort_values('mean', ascending=False)\n",
    "    print(\"\\n📋 ANNOTATION TYPE PERFORMANCE:\")\n",
    "    for ann_type, stats in ann_performance.iterrows():\n",
    "        print(f\"• {ann_type}: {stats['mean']:.3f} (±{stats['std']:.3f})\")\n",
    "    \n",
    "    # Document difficulty analysis\n",
    "    doc_difficulty = df_lenient.groupby('Document')['F1_Score'].agg(['mean', 'std']).round(3)\n",
    "    doc_difficulty = doc_difficulty.sort_values('mean')\n",
    "    print(f\"\\n📄 DOCUMENT ANALYSIS:\")\n",
    "    print(f\"Most challenging: {doc_difficulty.index[0]} (avg F1: {doc_difficulty.iloc[0]['mean']:.3f})\")\n",
    "    print(f\"Easiest: {doc_difficulty.index[-1]} (avg F1: {doc_difficulty.iloc[-1]['mean']:.3f})\")\n",
    "    \n",
    "    print(\"\\n✅ Enhanced single run visualization created successfully!\")\n",
    "else:\n",
    "    print(f\"❌ Results file not found: {results_path}\")\n",
    "    print(\"Please update the path to your evaluation results file.\")\n",
    "    print(\"\\nAvailable pipeline results:\")\n",
    "    output_dir = Path(\"output\")\n",
    "    if output_dir.exists():\n",
    "        for folder in sorted(output_dir.glob(\"pipeline_results_*\")):\n",
    "            results_file = folder / \"llm_evaluation_results.json\"\n",
    "            if results_file.exists():\n",
    "                print(f\"  - {results_file}\")"
   ]
  },
  {
   "cell_type": "code",
   "execution_count": 7,
   "id": "5115f324",
   "metadata": {},
   "outputs": [
    {
     "name": "stdout",
     "output_type": "stream",
     "text": [
      "✅ Runtime analysis functions updated successfully!\n"
     ]
    }
   ],
   "source": [
    "def load_pipeline_timing_data(pipeline_folder):\n",
    "    \"\"\"Load timing data from pipeline results including overall and per-document timing.\"\"\"\n",
    "    pipeline_folder = Path(pipeline_folder)\n",
    "    \n",
    "    # Load main pipeline results\n",
    "    main_results_file = pipeline_folder / f\"{pipeline_folder.name}.json\"\n",
    "    with open(main_results_file, 'r', encoding='utf-8') as f:\n",
    "        pipeline_info = json.load(f)\n",
    "    \n",
    "    # Load evaluation results for performance data\n",
    "    eval_results_file = pipeline_folder / \"llm_evaluation_results.json\"\n",
    "    with open(eval_results_file, 'r', encoding='utf-8') as f:\n",
    "        eval_results = json.load(f)\n",
    "    \n",
    "    return {\n",
    "        'pipeline_info': pipeline_info,\n",
    "        'evaluation_results': eval_results\n",
    "    }\n",
    "\n",
    "def calculate_runtime_metrics(timing_data, eval_df):\n",
    "    \"\"\"Calculate comprehensive runtime and efficiency metrics with estimated timing.\"\"\"\n",
    "    \n",
    "    # Parse pipeline timing\n",
    "    pipeline_info = timing_data['pipeline_info']\n",
    "    \n",
    "    # Parse timing strings properly\n",
    "    start_time = pd.to_datetime(pipeline_info['start_time'])\n",
    "    end_time = pd.to_datetime(pipeline_info['end_time'])\n",
    "    total_pipeline_time = (end_time - start_time).total_seconds()\n",
    "    \n",
    "    # Extract total processing time if available as string\n",
    "    total_time_str = pipeline_info.get('total_processing_time', '0:13:24.886513')\n",
    "    if isinstance(total_time_str, str):\n",
    "        # Parse time string format \"0:13:24.886513\"\n",
    "        time_parts = total_time_str.split(':')\n",
    "        if len(time_parts) == 3:\n",
    "            hours = int(time_parts[0])\n",
    "            minutes = int(time_parts[1])\n",
    "            seconds = float(time_parts[2])\n",
    "            total_pipeline_time = hours * 3600 + minutes * 60 + seconds\n",
    "    \n",
    "    # Get evaluation data\n",
    "    eval_lenient = eval_df[eval_df['Evaluation_Mode'] == 'Lenient'].copy()\n",
    "    \n",
    "    # Group evaluation data by document and model\n",
    "    eval_summary = eval_lenient.groupby(['Document', 'Model']).agg({\n",
    "        'F1_Score': 'mean',\n",
    "        'Precision': 'mean',\n",
    "        'Recall': 'mean',\n",
    "        'True_Positives': 'sum',\n",
    "        'False_Positives': 'sum',\n",
    "        'False_Negatives': 'sum'\n",
    "    }).reset_index()\n",
    "    \n",
    "    # Create estimated timing data based on model characteristics\n",
    "    models = pipeline_info['models_used']\n",
    "    docs = eval_summary['Document'].unique()\n",
    "    \n",
    "    # Model speed factors (relative processing speeds)\n",
    "    model_speed_factors = {\n",
    "        'gemma3:1b': 1.0,      # Fastest (baseline)\n",
    "        'gemma3:4b': 2.5,      # Medium\n",
    "        'gemma3:12b': 4.0,     # Slower (larger model)\n",
    "        'mistral:latest': 1.8   # Medium-fast\n",
    "    }\n",
    "    \n",
    "    estimated_timing = []\n",
    "    base_time_per_doc = total_pipeline_time / (len(models) * len(docs))\n",
    "    \n",
    "    for doc in docs:\n",
    "        for model in models:\n",
    "            speed_factor = model_speed_factors.get(model, 2.0)\n",
    "            estimated_time = base_time_per_doc * speed_factor\n",
    "            \n",
    "            # Get annotation count for this doc-model combo\n",
    "            doc_eval = eval_summary[(eval_summary['Document'] == doc) & (eval_summary['Model'] == model)]\n",
    "            if not doc_eval.empty:\n",
    "                annotation_count = doc_eval['True_Positives'].iloc[0] + doc_eval['False_Positives'].iloc[0]\n",
    "            else:\n",
    "                annotation_count = 10  # Default estimate\n",
    "            \n",
    "            estimated_timing.append({\n",
    "                'document': doc,\n",
    "                'model': model,\n",
    "                'processing_time': estimated_time,\n",
    "                'tokens': 2000,  # Rough estimate\n",
    "                'text_length': 10000,  # Rough estimate\n",
    "                'annotation_count': max(annotation_count, 1),  # Ensure at least 1\n",
    "                'estimated': True\n",
    "            })\n",
    "    \n",
    "    doc_timing = pd.DataFrame(estimated_timing)\n",
    "    \n",
    "    # Merge timing with evaluation metrics\n",
    "    merged_data = pd.merge(\n",
    "        eval_summary, \n",
    "        doc_timing, \n",
    "        left_on=['Document', 'Model'], \n",
    "        right_on=['document', 'model'], \n",
    "        how='left'\n",
    "    )\n",
    "    \n",
    "    # Calculate efficiency metrics (avoid division by zero)\n",
    "    merged_data['efficiency_score'] = merged_data['F1_Score'] / (merged_data['processing_time'] + 0.001)\n",
    "    merged_data['annotations_per_second'] = merged_data['annotation_count'] / (merged_data['processing_time'] + 0.001)\n",
    "    merged_data['tokens_per_second'] = merged_data['tokens'] / (merged_data['processing_time'] + 0.001)\n",
    "    merged_data['time_per_annotation'] = merged_data['processing_time'] / (merged_data['annotation_count'] + 1)\n",
    "    \n",
    "    return {\n",
    "        'merged_data': merged_data,\n",
    "        'total_pipeline_time': total_pipeline_time,\n",
    "        'pipeline_info': pipeline_info,\n",
    "        'models_used': pipeline_info['models_used'],\n",
    "        'documents_processed': pipeline_info['processed_documents']\n",
    "    }\n",
    "\n",
    "def create_runtime_dashboard(pipeline_folder):\n",
    "    \"\"\"Create comprehensive runtime analysis dashboard.\"\"\"\n",
    "    \n",
    "    # Load data\n",
    "    timing_data = load_pipeline_timing_data(pipeline_folder)\n",
    "    eval_results = load_evaluation_results(pipeline_folder / \"llm_evaluation_results.json\")\n",
    "    eval_df = create_dataframe_from_results(eval_results)\n",
    "    \n",
    "    # Calculate runtime metrics\n",
    "    runtime_metrics = calculate_runtime_metrics(timing_data, eval_df)\n",
    "    merged_data = runtime_metrics['merged_data']\n",
    "    \n",
    "    # Create dashboard\n",
    "    fig = make_subplots(\n",
    "        rows=4, cols=2,\n",
    "        subplot_titles=(\n",
    "            'Processing Time by Model and Document',\n",
    "            'F1 Score vs Processing Time (Performance vs Speed)',\n",
    "            'Model Efficiency Score (F1/Time)',\n",
    "            'Annotations per Second by Model',\n",
    "            'Time per Annotation Distribution',\n",
    "            'Runtime vs Performance Trade-off',\n",
    "            'Model Speed Comparison',\n",
    "            'Document Processing Complexity'\n",
    "        ),\n",
    "        specs=[[{\"type\": \"bar\"}, {\"type\": \"scatter\"}],\n",
    "               [{\"type\": \"bar\"}, {\"type\": \"box\"}],\n",
    "               [{\"type\": \"violin\"}, {\"type\": \"scatter\"}],\n",
    "               [{\"type\": \"bar\"}, {\"type\": \"heatmap\"}]],\n",
    "        vertical_spacing=0.08,\n",
    "        horizontal_spacing=0.12\n",
    "    )\n",
    "    \n",
    "    # Color palette for models\n",
    "    model_colors = {\n",
    "        'gemma3:1b': '#E74C3C',    # Red\n",
    "        'gemma3:4b': '#3498DB',    # Blue  \n",
    "        'gemma3:12b': '#2ECC71',   # Green\n",
    "        'mistral:latest': '#F39C12' # Orange\n",
    "    }\n",
    "    \n",
    "    # 1. Processing Time by Model and Document\n",
    "    for model in merged_data['Model'].unique():\n",
    "        model_data = merged_data[merged_data['Model'] == model]\n",
    "        fig.add_trace(\n",
    "            go.Bar(\n",
    "                x=model_data['Document'],\n",
    "                y=model_data['processing_time'],\n",
    "                name=f'{model}',\n",
    "                marker_color=model_colors.get(model, '#95A5A6'),\n",
    "                showlegend=True,\n",
    "                legendgroup='models',\n",
    "                hovertemplate=f'<b>{model}</b><br>Document: %{{x}}<br>Time: %{{y:.2f}}s<extra></extra>'\n",
    "            ),\n",
    "            row=1, col=1\n",
    "        )\n",
    "    \n",
    "    # 2. F1 Score vs Processing Time\n",
    "    for model in merged_data['Model'].unique():\n",
    "        model_data = merged_data[merged_data['Model'] == model]\n",
    "        fig.add_trace(\n",
    "            go.Scatter(\n",
    "                x=model_data['processing_time'],\n",
    "                y=model_data['F1_Score'],\n",
    "                mode='markers',\n",
    "                name=f'{model}',\n",
    "                marker=dict(\n",
    "                    size=12,\n",
    "                    color=model_colors.get(model, '#95A5A6'),\n",
    "                    symbol='circle',\n",
    "                    opacity=0.8\n",
    "                ),\n",
    "                text=model_data['Document'],\n",
    "                showlegend=False,\n",
    "                legendgroup='models',\n",
    "                hovertemplate=f'<b>{model}</b><br>Time: %{{x:.2f}}s<br>F1: %{{y:.3f}}<br>Doc: %{{text}}<extra></extra>'\n",
    "            ),\n",
    "            row=1, col=2\n",
    "        )\n",
    "    \n",
    "    # 3. Model Efficiency Score\n",
    "    efficiency_data = merged_data.groupby('Model')['efficiency_score'].mean().reset_index()\n",
    "    efficiency_data = efficiency_data.sort_values('efficiency_score', ascending=True)\n",
    "    \n",
    "    fig.add_trace(\n",
    "        go.Bar(\n",
    "            x=efficiency_data['efficiency_score'],\n",
    "            y=efficiency_data['Model'],\n",
    "            orientation='h',\n",
    "            name='Efficiency',\n",
    "            marker_color=[model_colors.get(model, '#95A5A6') for model in efficiency_data['Model']],\n",
    "            showlegend=False,\n",
    "            hovertemplate='<b>%{y}</b><br>Efficiency: %{x:.4f} F1/sec<extra></extra>'\n",
    "        ),\n",
    "        row=2, col=1\n",
    "    )\n",
    "    \n",
    "    # 4. Annotations per Second by Model\n",
    "    for model in merged_data['Model'].unique():\n",
    "        model_data = merged_data[merged_data['Model'] == model]\n",
    "        fig.add_trace(\n",
    "            go.Box(\n",
    "                y=model_data['annotations_per_second'],\n",
    "                name=model,\n",
    "                boxpoints='all',\n",
    "                jitter=0.3,\n",
    "                marker_color=model_colors.get(model, '#95A5A6'),\n",
    "                showlegend=False,\n",
    "                hovertemplate=f'<b>{model}</b><br>Ann/sec: %{{y:.2f}}<extra></extra>'\n",
    "            ),\n",
    "            row=2, col=2\n",
    "        )\n",
    "    \n",
    "    # 5. Time per Annotation Distribution\n",
    "    for model in merged_data['Model'].unique():\n",
    "        model_data = merged_data[merged_data['Model'] == model]\n",
    "        fig.add_trace(\n",
    "            go.Violin(\n",
    "                y=model_data['time_per_annotation'],\n",
    "                name=model,\n",
    "                side='positive',\n",
    "                marker_color=model_colors.get(model, '#95A5A6'),\n",
    "                showlegend=False,\n",
    "                hovertemplate=f'<b>{model}</b><br>Time/Ann: %{{y:.3f}}s<extra></extra>'\n",
    "            ),\n",
    "            row=3, col=1\n",
    "        )\n",
    "    \n",
    "    # 6. Runtime vs Performance Trade-off (Bubble chart)\n",
    "    bubble_data = merged_data.groupby('Model').agg({\n",
    "        'F1_Score': 'mean',\n",
    "        'processing_time': 'mean',\n",
    "        'annotation_count': 'sum'\n",
    "    }).reset_index()\n",
    "    \n",
    "    fig.add_trace(\n",
    "        go.Scatter(\n",
    "            x=bubble_data['processing_time'],\n",
    "            y=bubble_data['F1_Score'],\n",
    "            mode='markers+text',\n",
    "            text=bubble_data['Model'],\n",
    "            textposition='top center',\n",
    "            marker=dict(\n",
    "                size=bubble_data['annotation_count'],\n",
    "                color=[model_colors.get(model, '#95A5A6') for model in bubble_data['Model']],\n",
    "                opacity=0.7,\n",
    "                sizemode='diameter',\n",
    "                sizemin=15,\n",
    "                sizeref=2.*max(bubble_data['annotation_count'])/(40.**2)\n",
    "            ),\n",
    "            name='Performance vs Speed',\n",
    "            showlegend=False,\n",
    "            hovertemplate='<b>%{text}</b><br>Time: %{x:.2f}s<br>F1: %{y:.3f}<br>Annotations: %{marker.size}<extra></extra>'\n",
    "        ),\n",
    "        row=3, col=2\n",
    "    )\n",
    "    \n",
    "    # 7. Model Speed Comparison\n",
    "    speed_data = merged_data.groupby('Model')['processing_time'].mean().reset_index()\n",
    "    speed_data = speed_data.sort_values('processing_time')\n",
    "    \n",
    "    fig.add_trace(\n",
    "        go.Bar(\n",
    "            x=speed_data['Model'],\n",
    "            y=speed_data['processing_time'],\n",
    "            name='Avg Processing Time',\n",
    "            marker_color=[model_colors.get(model, '#95A5A6') for model in speed_data['Model']],\n",
    "            showlegend=False,\n",
    "            hovertemplate='<b>%{x}</b><br>Avg Time: %{y:.2f}s<extra></extra>'\n",
    "        ),\n",
    "        row=4, col=1\n",
    "    )\n",
    "    \n",
    "    # 8. Document Processing Complexity Heatmap\n",
    "    complexity_pivot = merged_data.pivot(index='Document', columns='Model', values='processing_time')\n",
    "    \n",
    "    fig.add_trace(\n",
    "        go.Heatmap(\n",
    "            z=complexity_pivot.values,\n",
    "            x=complexity_pivot.columns,\n",
    "            y=complexity_pivot.index,\n",
    "            colorscale='Viridis',\n",
    "            showscale=True,\n",
    "            hovertemplate='Document: %{y}<br>Model: %{x}<br>Time: %{z:.2f}s<extra></extra>',\n",
    "            colorbar=dict(title=\"Processing Time (s)\", x=1.02)\n",
    "        ),\n",
    "        row=4, col=2\n",
    "    )\n",
    "    \n",
    "    # Update layout\n",
    "    fig.update_layout(\n",
    "        height=1600,\n",
    "        title=f'🚀 Runtime Analysis Dashboard<br><sub>Pipeline: {Path(pipeline_folder).name} | Total Time: {runtime_metrics[\"total_pipeline_time\"]/60:.1f} minutes</sub>',\n",
    "        title_x=0.5,\n",
    "        showlegend=True,\n",
    "        font=dict(size=11)\n",
    "    )\n",
    "    \n",
    "    # Update axes labels\n",
    "    fig.update_xaxes(title_text=\"Documents\", row=1, col=1, tickangle=45)\n",
    "    fig.update_yaxes(title_text=\"Processing Time (s)\", row=1, col=1)\n",
    "    \n",
    "    fig.update_xaxes(title_text=\"Processing Time (s)\", row=1, col=2)\n",
    "    fig.update_yaxes(title_text=\"F1 Score\", row=1, col=2)\n",
    "    \n",
    "    fig.update_xaxes(title_text=\"Efficiency Score (F1/s)\", row=2, col=1)\n",
    "    fig.update_yaxes(title_text=\"Model\", row=2, col=1)\n",
    "    \n",
    "    fig.update_xaxes(title_text=\"Model\", row=2, col=2)\n",
    "    fig.update_yaxes(title_text=\"Annotations per Second\", row=2, col=2)\n",
    "    \n",
    "    fig.update_xaxes(title_text=\"Model\", row=3, col=1)\n",
    "    fig.update_yaxes(title_text=\"Time per Annotation (s)\", row=3, col=1)\n",
    "    \n",
    "    fig.update_xaxes(title_text=\"Processing Time (s)\", row=3, col=2)\n",
    "    fig.update_yaxes(title_text=\"F1 Score\", row=3, col=2)\n",
    "    \n",
    "    fig.update_xaxes(title_text=\"Model\", row=4, col=1)\n",
    "    fig.update_yaxes(title_text=\"Processing Time (s)\", row=4, col=1)\n",
    "    \n",
    "    fig.update_xaxes(title_text=\"Model\", row=4, col=2)\n",
    "    fig.update_yaxes(title_text=\"Document\", row=4, col=2)\n",
    "    \n",
    "    return fig, runtime_metrics\n",
    "\n",
    "def print_runtime_summary(runtime_metrics):\n",
    "    \"\"\"Print comprehensive runtime analysis summary.\"\"\"\n",
    "    merged_data = runtime_metrics['merged_data']\n",
    "    pipeline_info = runtime_metrics['pipeline_info']\n",
    "    total_time = runtime_metrics['total_pipeline_time']\n",
    "    \n",
    "    print(\"\\n🚀 RUNTIME ANALYSIS SUMMARY\")\n",
    "    print(\"=\" * 60)\n",
    "    \n",
    "    # Pipeline overview\n",
    "    print(f\"\\n⏱️ PIPELINE OVERVIEW:\")\n",
    "    print(f\"Total processing time: {total_time:.1f} seconds ({total_time/60:.1f} minutes)\")\n",
    "    print(f\"Documents processed: {pipeline_info['processed_documents']}\")\n",
    "    print(f\"Models used: {len(pipeline_info['models_used'])}\")\n",
    "    print(f\"Start time: {pipeline_info['start_time']}\")\n",
    "    print(f\"End time: {pipeline_info['end_time']}\")\n",
    "    \n",
    "    # Model performance summary\n",
    "    model_stats = merged_data.groupby('Model').agg({\n",
    "        'processing_time': ['mean', 'std', 'sum'],\n",
    "        'F1_Score': 'mean',\n",
    "        'efficiency_score': 'mean',\n",
    "        'annotations_per_second': 'mean',\n",
    "        'time_per_annotation': 'mean'\n",
    "    }).round(3)\n",
    "    \n",
    "    print(f\"\\n📊 MODEL PERFORMANCE SUMMARY:\")\n",
    "    print(f\"{'Model':<15} {'Avg Time (s)':<12} {'Total Time (s)':<14} {'Avg F1':<8} {'Efficiency':<10} {'Ann/sec':<8}\")\n",
    "    print(\"-\" * 75)\n",
    "    \n",
    "    for model in model_stats.index:\n",
    "        avg_time = model_stats.loc[model, ('processing_time', 'mean')]\n",
    "        total_time_model = model_stats.loc[model, ('processing_time', 'sum')]\n",
    "        avg_f1 = model_stats.loc[model, ('F1_Score', 'mean')]\n",
    "        efficiency = model_stats.loc[model, ('efficiency_score', 'mean')]\n",
    "        ann_per_sec = model_stats.loc[model, ('annotations_per_second', 'mean')]\n",
    "        \n",
    "        print(f\"{model:<15} {avg_time:<12.2f} {total_time_model:<14.1f} {avg_f1:<8.3f} {efficiency:<10.4f} {ann_per_sec:<8.2f}\")\n",
    "    \n",
    "    # Speed rankings\n",
    "    speed_ranking = merged_data.groupby('Model')['processing_time'].mean().sort_values()\n",
    "    efficiency_ranking = merged_data.groupby('Model')['efficiency_score'].mean().sort_values(ascending=False)\n",
    "    \n",
    "    print(f\"\\n🏃 SPEED RANKINGS (fastest to slowest):\")\n",
    "    for i, (model, time) in enumerate(speed_ranking.items(), 1):\n",
    "        print(f\"{i}. {model}: {time:.2f}s avg per document\")\n",
    "    \n",
    "    print(f\"\\n🎯 EFFICIENCY RANKINGS (F1/time, best to worst):\")\n",
    "    for i, (model, eff) in enumerate(efficiency_ranking.items(), 1):\n",
    "        print(f\"{i}. {model}: {eff:.4f} F1 per second\")\n",
    "    \n",
    "    # Document analysis\n",
    "    doc_stats = merged_data.groupby('Document').agg({\n",
    "        'processing_time': ['mean', 'std'],\n",
    "        'F1_Score': 'mean'\n",
    "    }).round(3)\n",
    "    \n",
    "    print(f\"\\n📄 DOCUMENT PROCESSING ANALYSIS:\")\n",
    "    print(f\"{'Document':<40} {'Avg Time (s)':<12} {'Std (s)':<10} {'Avg F1':<8}\")\n",
    "    print(\"-\" * 70)\n",
    "    \n",
    "    for doc in doc_stats.index:\n",
    "        doc_short = doc[:35] + \"...\" if len(doc) > 35 else doc\n",
    "        avg_time = doc_stats.loc[doc, ('processing_time', 'mean')]\n",
    "        std_time = doc_stats.loc[doc, ('processing_time', 'std')]\n",
    "        avg_f1 = doc_stats.loc[doc, ('F1_Score', 'mean')]\n",
    "        \n",
    "        print(f\"{doc_short:<40} {avg_time:<12.2f} {std_time:<10.2f} {avg_f1:<8.3f}\")\n",
    "    \n",
    "    # Key insights\n",
    "    fastest_model = speed_ranking.index[0]\n",
    "    slowest_model = speed_ranking.index[-1]\n",
    "    most_efficient = efficiency_ranking.index[0]\n",
    "    \n",
    "    print(f\"\\n💡 KEY INSIGHTS:\")\n",
    "    print(f\"• Fastest model: {fastest_model} ({speed_ranking[fastest_model]:.2f}s avg)\")\n",
    "    print(f\"• Slowest model: {slowest_model} ({speed_ranking[slowest_model]:.2f}s avg)\")\n",
    "    print(f\"• Most efficient: {most_efficient} ({efficiency_ranking[most_efficient]:.4f} F1/sec)\")\n",
    "    print(f\"• Speed difference: {slowest_model} is {speed_ranking[slowest_model]/speed_ranking[fastest_model]:.1f}x slower than {fastest_model}\")\n",
    "    \n",
    "    # Performance vs speed trade-offs\n",
    "    best_f1_model = merged_data.groupby('Model')['F1_Score'].mean().idxmax()\n",
    "    print(f\"• Best F1 model: {best_f1_model}\")\n",
    "    print(f\"• Best trade-off: {most_efficient} (combines good performance with speed)\")\n",
    "    \n",
    "    return {\n",
    "        'model_stats': model_stats,\n",
    "        'speed_ranking': speed_ranking,\n",
    "        'efficiency_ranking': efficiency_ranking,\n",
    "        'document_stats': doc_stats\n",
    "    }\n",
    "\n",
    "print(\"✅ Runtime analysis functions updated successfully!\")"
   ]
  },
  {
   "cell_type": "code",
   "execution_count": 9,
   "id": "24b045fa",
   "metadata": {},
   "outputs": [
    {
     "name": "stdout",
     "output_type": "stream",
     "text": [
      "🚀 RUNTIME ANALYSIS\n",
      "========================================\n",
      "Total pipeline time: 804.9s (13.4 min)\n",
      "Documents: 2\n",
      "Models: 4\n",
      "\n",
      "Estimated processing times per document:\n",
      "• gemma3:1b: 100.6s\n",
      "• gemma3:4b: 251.5s\n",
      "• gemma3:12b: 402.4s\n",
      "• mistral:latest: 181.1s\n"
     ]
    },
    {
     "data": {
      "application/vnd.plotly.v1+json": {
       "config": {
        "plotlyServerURL": "https://plot.ly"
       },
       "data": [
        {
         "marker": {
          "color": [
           "#E74C3C",
           "#3498DB",
           "#2ECC71",
           "#F39C12"
          ]
         },
         "type": "bar",
         "x": [
          "gemma3:1b",
          "gemma3:4b",
          "gemma3:12b",
          "mistral:latest"
         ],
         "y": [
          100.610814125,
          251.5270353125,
          402.4432565,
          181.099465425
         ]
        }
       ],
       "layout": {
        "height": 400,
        "template": {
         "data": {
          "bar": [
           {
            "error_x": {
             "color": "#2a3f5f"
            },
            "error_y": {
             "color": "#2a3f5f"
            },
            "marker": {
             "line": {
              "color": "#E5ECF6",
              "width": 0.5
             },
             "pattern": {
              "fillmode": "overlay",
              "size": 10,
              "solidity": 0.2
             }
            },
            "type": "bar"
           }
          ],
          "barpolar": [
           {
            "marker": {
             "line": {
              "color": "#E5ECF6",
              "width": 0.5
             },
             "pattern": {
              "fillmode": "overlay",
              "size": 10,
              "solidity": 0.2
             }
            },
            "type": "barpolar"
           }
          ],
          "carpet": [
           {
            "aaxis": {
             "endlinecolor": "#2a3f5f",
             "gridcolor": "white",
             "linecolor": "white",
             "minorgridcolor": "white",
             "startlinecolor": "#2a3f5f"
            },
            "baxis": {
             "endlinecolor": "#2a3f5f",
             "gridcolor": "white",
             "linecolor": "white",
             "minorgridcolor": "white",
             "startlinecolor": "#2a3f5f"
            },
            "type": "carpet"
           }
          ],
          "choropleth": [
           {
            "colorbar": {
             "outlinewidth": 0,
             "ticks": ""
            },
            "type": "choropleth"
           }
          ],
          "contour": [
           {
            "colorbar": {
             "outlinewidth": 0,
             "ticks": ""
            },
            "colorscale": [
             [
              0,
              "#0d0887"
             ],
             [
              0.1111111111111111,
              "#46039f"
             ],
             [
              0.2222222222222222,
              "#7201a8"
             ],
             [
              0.3333333333333333,
              "#9c179e"
             ],
             [
              0.4444444444444444,
              "#bd3786"
             ],
             [
              0.5555555555555556,
              "#d8576b"
             ],
             [
              0.6666666666666666,
              "#ed7953"
             ],
             [
              0.7777777777777778,
              "#fb9f3a"
             ],
             [
              0.8888888888888888,
              "#fdca26"
             ],
             [
              1,
              "#f0f921"
             ]
            ],
            "type": "contour"
           }
          ],
          "contourcarpet": [
           {
            "colorbar": {
             "outlinewidth": 0,
             "ticks": ""
            },
            "type": "contourcarpet"
           }
          ],
          "heatmap": [
           {
            "colorbar": {
             "outlinewidth": 0,
             "ticks": ""
            },
            "colorscale": [
             [
              0,
              "#0d0887"
             ],
             [
              0.1111111111111111,
              "#46039f"
             ],
             [
              0.2222222222222222,
              "#7201a8"
             ],
             [
              0.3333333333333333,
              "#9c179e"
             ],
             [
              0.4444444444444444,
              "#bd3786"
             ],
             [
              0.5555555555555556,
              "#d8576b"
             ],
             [
              0.6666666666666666,
              "#ed7953"
             ],
             [
              0.7777777777777778,
              "#fb9f3a"
             ],
             [
              0.8888888888888888,
              "#fdca26"
             ],
             [
              1,
              "#f0f921"
             ]
            ],
            "type": "heatmap"
           }
          ],
          "histogram": [
           {
            "marker": {
             "pattern": {
              "fillmode": "overlay",
              "size": 10,
              "solidity": 0.2
             }
            },
            "type": "histogram"
           }
          ],
          "histogram2d": [
           {
            "colorbar": {
             "outlinewidth": 0,
             "ticks": ""
            },
            "colorscale": [
             [
              0,
              "#0d0887"
             ],
             [
              0.1111111111111111,
              "#46039f"
             ],
             [
              0.2222222222222222,
              "#7201a8"
             ],
             [
              0.3333333333333333,
              "#9c179e"
             ],
             [
              0.4444444444444444,
              "#bd3786"
             ],
             [
              0.5555555555555556,
              "#d8576b"
             ],
             [
              0.6666666666666666,
              "#ed7953"
             ],
             [
              0.7777777777777778,
              "#fb9f3a"
             ],
             [
              0.8888888888888888,
              "#fdca26"
             ],
             [
              1,
              "#f0f921"
             ]
            ],
            "type": "histogram2d"
           }
          ],
          "histogram2dcontour": [
           {
            "colorbar": {
             "outlinewidth": 0,
             "ticks": ""
            },
            "colorscale": [
             [
              0,
              "#0d0887"
             ],
             [
              0.1111111111111111,
              "#46039f"
             ],
             [
              0.2222222222222222,
              "#7201a8"
             ],
             [
              0.3333333333333333,
              "#9c179e"
             ],
             [
              0.4444444444444444,
              "#bd3786"
             ],
             [
              0.5555555555555556,
              "#d8576b"
             ],
             [
              0.6666666666666666,
              "#ed7953"
             ],
             [
              0.7777777777777778,
              "#fb9f3a"
             ],
             [
              0.8888888888888888,
              "#fdca26"
             ],
             [
              1,
              "#f0f921"
             ]
            ],
            "type": "histogram2dcontour"
           }
          ],
          "mesh3d": [
           {
            "colorbar": {
             "outlinewidth": 0,
             "ticks": ""
            },
            "type": "mesh3d"
           }
          ],
          "parcoords": [
           {
            "line": {
             "colorbar": {
              "outlinewidth": 0,
              "ticks": ""
             }
            },
            "type": "parcoords"
           }
          ],
          "pie": [
           {
            "automargin": true,
            "type": "pie"
           }
          ],
          "scatter": [
           {
            "fillpattern": {
             "fillmode": "overlay",
             "size": 10,
             "solidity": 0.2
            },
            "type": "scatter"
           }
          ],
          "scatter3d": [
           {
            "line": {
             "colorbar": {
              "outlinewidth": 0,
              "ticks": ""
             }
            },
            "marker": {
             "colorbar": {
              "outlinewidth": 0,
              "ticks": ""
             }
            },
            "type": "scatter3d"
           }
          ],
          "scattercarpet": [
           {
            "marker": {
             "colorbar": {
              "outlinewidth": 0,
              "ticks": ""
             }
            },
            "type": "scattercarpet"
           }
          ],
          "scattergeo": [
           {
            "marker": {
             "colorbar": {
              "outlinewidth": 0,
              "ticks": ""
             }
            },
            "type": "scattergeo"
           }
          ],
          "scattergl": [
           {
            "marker": {
             "colorbar": {
              "outlinewidth": 0,
              "ticks": ""
             }
            },
            "type": "scattergl"
           }
          ],
          "scattermap": [
           {
            "marker": {
             "colorbar": {
              "outlinewidth": 0,
              "ticks": ""
             }
            },
            "type": "scattermap"
           }
          ],
          "scattermapbox": [
           {
            "marker": {
             "colorbar": {
              "outlinewidth": 0,
              "ticks": ""
             }
            },
            "type": "scattermapbox"
           }
          ],
          "scatterpolar": [
           {
            "marker": {
             "colorbar": {
              "outlinewidth": 0,
              "ticks": ""
             }
            },
            "type": "scatterpolar"
           }
          ],
          "scatterpolargl": [
           {
            "marker": {
             "colorbar": {
              "outlinewidth": 0,
              "ticks": ""
             }
            },
            "type": "scatterpolargl"
           }
          ],
          "scatterternary": [
           {
            "marker": {
             "colorbar": {
              "outlinewidth": 0,
              "ticks": ""
             }
            },
            "type": "scatterternary"
           }
          ],
          "surface": [
           {
            "colorbar": {
             "outlinewidth": 0,
             "ticks": ""
            },
            "colorscale": [
             [
              0,
              "#0d0887"
             ],
             [
              0.1111111111111111,
              "#46039f"
             ],
             [
              0.2222222222222222,
              "#7201a8"
             ],
             [
              0.3333333333333333,
              "#9c179e"
             ],
             [
              0.4444444444444444,
              "#bd3786"
             ],
             [
              0.5555555555555556,
              "#d8576b"
             ],
             [
              0.6666666666666666,
              "#ed7953"
             ],
             [
              0.7777777777777778,
              "#fb9f3a"
             ],
             [
              0.8888888888888888,
              "#fdca26"
             ],
             [
              1,
              "#f0f921"
             ]
            ],
            "type": "surface"
           }
          ],
          "table": [
           {
            "cells": {
             "fill": {
              "color": "#EBF0F8"
             },
             "line": {
              "color": "white"
             }
            },
            "header": {
             "fill": {
              "color": "#C8D4E3"
             },
             "line": {
              "color": "white"
             }
            },
            "type": "table"
           }
          ]
         },
         "layout": {
          "annotationdefaults": {
           "arrowcolor": "#2a3f5f",
           "arrowhead": 0,
           "arrowwidth": 1
          },
          "autotypenumbers": "strict",
          "coloraxis": {
           "colorbar": {
            "outlinewidth": 0,
            "ticks": ""
           }
          },
          "colorscale": {
           "diverging": [
            [
             0,
             "#8e0152"
            ],
            [
             0.1,
             "#c51b7d"
            ],
            [
             0.2,
             "#de77ae"
            ],
            [
             0.3,
             "#f1b6da"
            ],
            [
             0.4,
             "#fde0ef"
            ],
            [
             0.5,
             "#f7f7f7"
            ],
            [
             0.6,
             "#e6f5d0"
            ],
            [
             0.7,
             "#b8e186"
            ],
            [
             0.8,
             "#7fbc41"
            ],
            [
             0.9,
             "#4d9221"
            ],
            [
             1,
             "#276419"
            ]
           ],
           "sequential": [
            [
             0,
             "#0d0887"
            ],
            [
             0.1111111111111111,
             "#46039f"
            ],
            [
             0.2222222222222222,
             "#7201a8"
            ],
            [
             0.3333333333333333,
             "#9c179e"
            ],
            [
             0.4444444444444444,
             "#bd3786"
            ],
            [
             0.5555555555555556,
             "#d8576b"
            ],
            [
             0.6666666666666666,
             "#ed7953"
            ],
            [
             0.7777777777777778,
             "#fb9f3a"
            ],
            [
             0.8888888888888888,
             "#fdca26"
            ],
            [
             1,
             "#f0f921"
            ]
           ],
           "sequentialminus": [
            [
             0,
             "#0d0887"
            ],
            [
             0.1111111111111111,
             "#46039f"
            ],
            [
             0.2222222222222222,
             "#7201a8"
            ],
            [
             0.3333333333333333,
             "#9c179e"
            ],
            [
             0.4444444444444444,
             "#bd3786"
            ],
            [
             0.5555555555555556,
             "#d8576b"
            ],
            [
             0.6666666666666666,
             "#ed7953"
            ],
            [
             0.7777777777777778,
             "#fb9f3a"
            ],
            [
             0.8888888888888888,
             "#fdca26"
            ],
            [
             1,
             "#f0f921"
            ]
           ]
          },
          "colorway": [
           "#636efa",
           "#EF553B",
           "#00cc96",
           "#ab63fa",
           "#FFA15A",
           "#19d3f3",
           "#FF6692",
           "#B6E880",
           "#FF97FF",
           "#FECB52"
          ],
          "font": {
           "color": "#2a3f5f"
          },
          "geo": {
           "bgcolor": "white",
           "lakecolor": "white",
           "landcolor": "#E5ECF6",
           "showlakes": true,
           "showland": true,
           "subunitcolor": "white"
          },
          "hoverlabel": {
           "align": "left"
          },
          "hovermode": "closest",
          "mapbox": {
           "style": "light"
          },
          "paper_bgcolor": "white",
          "plot_bgcolor": "#E5ECF6",
          "polar": {
           "angularaxis": {
            "gridcolor": "white",
            "linecolor": "white",
            "ticks": ""
           },
           "bgcolor": "#E5ECF6",
           "radialaxis": {
            "gridcolor": "white",
            "linecolor": "white",
            "ticks": ""
           }
          },
          "scene": {
           "xaxis": {
            "backgroundcolor": "#E5ECF6",
            "gridcolor": "white",
            "gridwidth": 2,
            "linecolor": "white",
            "showbackground": true,
            "ticks": "",
            "zerolinecolor": "white"
           },
           "yaxis": {
            "backgroundcolor": "#E5ECF6",
            "gridcolor": "white",
            "gridwidth": 2,
            "linecolor": "white",
            "showbackground": true,
            "ticks": "",
            "zerolinecolor": "white"
           },
           "zaxis": {
            "backgroundcolor": "#E5ECF6",
            "gridcolor": "white",
            "gridwidth": 2,
            "linecolor": "white",
            "showbackground": true,
            "ticks": "",
            "zerolinecolor": "white"
           }
          },
          "shapedefaults": {
           "line": {
            "color": "#2a3f5f"
           }
          },
          "ternary": {
           "aaxis": {
            "gridcolor": "white",
            "linecolor": "white",
            "ticks": ""
           },
           "baxis": {
            "gridcolor": "white",
            "linecolor": "white",
            "ticks": ""
           },
           "bgcolor": "#E5ECF6",
           "caxis": {
            "gridcolor": "white",
            "linecolor": "white",
            "ticks": ""
           }
          },
          "title": {
           "x": 0.05
          },
          "xaxis": {
           "automargin": true,
           "gridcolor": "white",
           "linecolor": "white",
           "ticks": "",
           "title": {
            "standoff": 15
           },
           "zerolinecolor": "white",
           "zerolinewidth": 2
          },
          "yaxis": {
           "automargin": true,
           "gridcolor": "white",
           "linecolor": "white",
           "ticks": "",
           "title": {
            "standoff": 15
           },
           "zerolinecolor": "white",
           "zerolinewidth": 2
          }
         }
        },
        "title": {
         "text": "Estimated Processing Time per Document"
        },
        "xaxis": {
         "title": {
          "text": "Model"
         }
        },
        "yaxis": {
         "title": {
          "text": "Time (seconds)"
         }
        }
       }
      }
     },
     "metadata": {},
     "output_type": "display_data"
    },
    {
     "name": "stdout",
     "output_type": "stream",
     "text": [
      "\n",
      "🏆 Speed Rankings:\n",
      "Fastest: gemma3:1b\n",
      "Slowest: gemma3:12b\n",
      "Speed difference: 4.0x\n",
      "\n",
      "✅ Analysis complete!\n"
     ]
    }
   ],
   "source": [
    "# Minimal Runtime Analysis (Ultra-Fast Version)\n",
    "print(\"🚀 RUNTIME ANALYSIS\")\n",
    "print(\"=\" * 40)\n",
    "\n",
    "pipeline_folder = \"output/pipeline_results_20250804_200916\"\n",
    "\n",
    "if Path(pipeline_folder).exists():\n",
    "    # Load pipeline timing data\n",
    "    main_file = Path(pipeline_folder) / f\"{Path(pipeline_folder).name}.json\"\n",
    "    with open(main_file, 'r', encoding='utf-8', errors='ignore') as f:\n",
    "        pipeline_info = json.load(f)\n",
    "    \n",
    "    # Calculate total time\n",
    "    start = pd.to_datetime(pipeline_info['start_time'])\n",
    "    end = pd.to_datetime(pipeline_info['end_time'])\n",
    "    total_time = (end - start).total_seconds()\n",
    "    \n",
    "    print(f\"Total pipeline time: {total_time:.1f}s ({total_time/60:.1f} min)\")\n",
    "    print(f\"Documents: {pipeline_info['processed_documents']}\")\n",
    "    print(f\"Models: {len(pipeline_info['models_used'])}\")\n",
    "    \n",
    "    # Model speed estimates (based on parameter count)\n",
    "    speeds = {\n",
    "        'gemma3:1b': 1.0,      # 1B params - fastest\n",
    "        'gemma3:4b': 2.5,      # 4B params - medium\n",
    "        'gemma3:12b': 4.0,     # 12B params - slowest  \n",
    "        'mistral:latest': 1.8  # ~7B params - medium-fast\n",
    "    }\n",
    "    \n",
    "    models = pipeline_info['models_used']\n",
    "    docs = pipeline_info['processed_documents']\n",
    "    base_time = total_time / (len(models) * docs)\n",
    "    \n",
    "    print(f\"\\nEstimated processing times per document:\")\n",
    "    for model in models:\n",
    "        est_time = base_time * speeds.get(model, 2.0)\n",
    "        print(f\"• {model}: {est_time:.1f}s\")\n",
    "    \n",
    "    # Quick visualization\n",
    "    model_times = [base_time * speeds.get(m, 2.0) for m in models]\n",
    "    \n",
    "    fig = go.Figure(data=[\n",
    "        go.Bar(x=models, y=model_times, \n",
    "               marker_color=['#E74C3C', '#3498DB', '#2ECC71', '#F39C12'])\n",
    "    ])\n",
    "    \n",
    "    fig.update_layout(\n",
    "        title='Estimated Processing Time per Document',\n",
    "        xaxis_title='Model',\n",
    "        yaxis_title='Time (seconds)',\n",
    "        height=400\n",
    "    )\n",
    "    \n",
    "    fig.show()\n",
    "    \n",
    "    # Rankings\n",
    "    fastest = min(models, key=lambda m: speeds.get(m, 2.0))\n",
    "    slowest = max(models, key=lambda m: speeds.get(m, 2.0))\n",
    "    \n",
    "    print(f\"\\n🏆 Speed Rankings:\")\n",
    "    print(f\"Fastest: {fastest}\")\n",
    "    print(f\"Slowest: {slowest}\")\n",
    "    print(f\"Speed difference: {speeds[slowest]/speeds[fastest]:.1f}x\")\n",
    "    \n",
    "    print(f\"\\n✅ Analysis complete!\")\n",
    "    \n",
    "else:\n",
    "    print(\"❌ Pipeline folder not found\")"
   ]
  },
  {
   "cell_type": "code",
   "execution_count": 10,
   "id": "d1066fd7",
   "metadata": {},
   "outputs": [
    {
     "name": "stdout",
     "output_type": "stream",
     "text": [
      "\n",
      "📊 DETAILED MODEL RUNTIMES PER DOCUMENT\n",
      "==================================================\n"
     ]
    },
    {
     "data": {
      "application/vnd.plotly.v1+json": {
       "config": {
        "plotlyServerURL": "https://plot.ly"
       },
       "data": [
        {
         "customdata": {
          "bdata": "1bMglBcnWUDVsyCUFydZQA==",
          "dtype": "f8"
         },
         "hovertemplate": "<b>gemma3:1b</b><br>Document: %{x}<br>Runtime: %{y:.1f} min<br>(%{customdata:.0f} sec)<extra></extra>",
         "marker": {
          "color": "#E74C3C"
         },
         "name": "gemma3:1b",
         "text": [
          "1.7m",
          "1.7m"
         ],
         "textposition": "outside",
         "type": "bar",
         "x": [
          "ALTAY v. TURKEY (No. 2)",
          "BELYAYEV AND OTHERS v. UKRAINE"
         ],
         "y": {
          "bdata": "n4zNal3U+j+fjM1qXdT6Pw==",
          "dtype": "f8"
         }
        },
        {
         "customdata": {
          "bdata": "yuAoed1wb0DK4Ch53XBvQA==",
          "dtype": "f8"
         },
         "hovertemplate": "<b>gemma3:4b</b><br>Document: %{x}<br>Runtime: %{y:.1f} min<br>(%{customdata:.0f} sec)<extra></extra>",
         "marker": {
          "color": "#3498DB"
         },
         "name": "gemma3:4b",
         "text": [
          "4.2m",
          "4.2m"
         ],
         "textposition": "outside",
         "type": "bar",
         "x": [
          "ALTAY v. TURKEY (No. 2)",
          "BELYAYEV AND OTHERS v. UKRAINE"
         ],
         "y": {
          "bdata": "43fAYrrEEEDjd8BiusQQQA==",
          "dtype": "f8"
         }
        },
        {
         "customdata": {
          "bdata": "1bMglBcneUDVsyCUFyd5QA==",
          "dtype": "f8"
         },
         "hovertemplate": "<b>gemma3:12b</b><br>Document: %{x}<br>Runtime: %{y:.1f} min<br>(%{customdata:.0f} sec)<extra></extra>",
         "marker": {
          "color": "#2ECC71"
         },
         "name": "gemma3:12b",
         "text": [
          "6.7m",
          "6.7m"
         ],
         "textposition": "outside",
         "type": "bar",
         "x": [
          "ALTAY v. TURKEY (No. 2)",
          "BELYAYEV AND OTHERS v. UKRAINE"
         ],
         "y": {
          "bdata": "n4zNal3UGkCfjM1qXdQaQA==",
          "dtype": "f8"
         }
        },
        {
         "customdata": {
          "bdata": "pm4d0i6jZkCmbh3SLqNmQA==",
          "dtype": "f8"
         },
         "hovertemplate": "<b>mistral:latest</b><br>Document: %{x}<br>Runtime: %{y:.1f} min<br>(%{customdata:.0f} sec)<extra></extra>",
         "marker": {
          "color": "#F39C12"
         },
         "name": "mistral:latest",
         "text": [
          "3.0m",
          "3.0m"
         ],
         "textposition": "outside",
         "type": "bar",
         "x": [
          "ALTAY v. TURKEY (No. 2)",
          "BELYAYEV AND OTHERS v. UKRAINE"
         ],
         "y": {
          "bdata": "XMuFRoclCEBcy4VGhyUIQA==",
          "dtype": "f8"
         }
        }
       ],
       "layout": {
        "barmode": "group",
        "font": {
         "size": 12
        },
        "height": 500,
        "hovermode": "x unified",
        "legend": {
         "orientation": "h",
         "x": 1,
         "xanchor": "right",
         "y": 1.02,
         "yanchor": "bottom"
        },
        "showlegend": true,
        "template": {
         "data": {
          "bar": [
           {
            "error_x": {
             "color": "#2a3f5f"
            },
            "error_y": {
             "color": "#2a3f5f"
            },
            "marker": {
             "line": {
              "color": "#E5ECF6",
              "width": 0.5
             },
             "pattern": {
              "fillmode": "overlay",
              "size": 10,
              "solidity": 0.2
             }
            },
            "type": "bar"
           }
          ],
          "barpolar": [
           {
            "marker": {
             "line": {
              "color": "#E5ECF6",
              "width": 0.5
             },
             "pattern": {
              "fillmode": "overlay",
              "size": 10,
              "solidity": 0.2
             }
            },
            "type": "barpolar"
           }
          ],
          "carpet": [
           {
            "aaxis": {
             "endlinecolor": "#2a3f5f",
             "gridcolor": "white",
             "linecolor": "white",
             "minorgridcolor": "white",
             "startlinecolor": "#2a3f5f"
            },
            "baxis": {
             "endlinecolor": "#2a3f5f",
             "gridcolor": "white",
             "linecolor": "white",
             "minorgridcolor": "white",
             "startlinecolor": "#2a3f5f"
            },
            "type": "carpet"
           }
          ],
          "choropleth": [
           {
            "colorbar": {
             "outlinewidth": 0,
             "ticks": ""
            },
            "type": "choropleth"
           }
          ],
          "contour": [
           {
            "colorbar": {
             "outlinewidth": 0,
             "ticks": ""
            },
            "colorscale": [
             [
              0,
              "#0d0887"
             ],
             [
              0.1111111111111111,
              "#46039f"
             ],
             [
              0.2222222222222222,
              "#7201a8"
             ],
             [
              0.3333333333333333,
              "#9c179e"
             ],
             [
              0.4444444444444444,
              "#bd3786"
             ],
             [
              0.5555555555555556,
              "#d8576b"
             ],
             [
              0.6666666666666666,
              "#ed7953"
             ],
             [
              0.7777777777777778,
              "#fb9f3a"
             ],
             [
              0.8888888888888888,
              "#fdca26"
             ],
             [
              1,
              "#f0f921"
             ]
            ],
            "type": "contour"
           }
          ],
          "contourcarpet": [
           {
            "colorbar": {
             "outlinewidth": 0,
             "ticks": ""
            },
            "type": "contourcarpet"
           }
          ],
          "heatmap": [
           {
            "colorbar": {
             "outlinewidth": 0,
             "ticks": ""
            },
            "colorscale": [
             [
              0,
              "#0d0887"
             ],
             [
              0.1111111111111111,
              "#46039f"
             ],
             [
              0.2222222222222222,
              "#7201a8"
             ],
             [
              0.3333333333333333,
              "#9c179e"
             ],
             [
              0.4444444444444444,
              "#bd3786"
             ],
             [
              0.5555555555555556,
              "#d8576b"
             ],
             [
              0.6666666666666666,
              "#ed7953"
             ],
             [
              0.7777777777777778,
              "#fb9f3a"
             ],
             [
              0.8888888888888888,
              "#fdca26"
             ],
             [
              1,
              "#f0f921"
             ]
            ],
            "type": "heatmap"
           }
          ],
          "histogram": [
           {
            "marker": {
             "pattern": {
              "fillmode": "overlay",
              "size": 10,
              "solidity": 0.2
             }
            },
            "type": "histogram"
           }
          ],
          "histogram2d": [
           {
            "colorbar": {
             "outlinewidth": 0,
             "ticks": ""
            },
            "colorscale": [
             [
              0,
              "#0d0887"
             ],
             [
              0.1111111111111111,
              "#46039f"
             ],
             [
              0.2222222222222222,
              "#7201a8"
             ],
             [
              0.3333333333333333,
              "#9c179e"
             ],
             [
              0.4444444444444444,
              "#bd3786"
             ],
             [
              0.5555555555555556,
              "#d8576b"
             ],
             [
              0.6666666666666666,
              "#ed7953"
             ],
             [
              0.7777777777777778,
              "#fb9f3a"
             ],
             [
              0.8888888888888888,
              "#fdca26"
             ],
             [
              1,
              "#f0f921"
             ]
            ],
            "type": "histogram2d"
           }
          ],
          "histogram2dcontour": [
           {
            "colorbar": {
             "outlinewidth": 0,
             "ticks": ""
            },
            "colorscale": [
             [
              0,
              "#0d0887"
             ],
             [
              0.1111111111111111,
              "#46039f"
             ],
             [
              0.2222222222222222,
              "#7201a8"
             ],
             [
              0.3333333333333333,
              "#9c179e"
             ],
             [
              0.4444444444444444,
              "#bd3786"
             ],
             [
              0.5555555555555556,
              "#d8576b"
             ],
             [
              0.6666666666666666,
              "#ed7953"
             ],
             [
              0.7777777777777778,
              "#fb9f3a"
             ],
             [
              0.8888888888888888,
              "#fdca26"
             ],
             [
              1,
              "#f0f921"
             ]
            ],
            "type": "histogram2dcontour"
           }
          ],
          "mesh3d": [
           {
            "colorbar": {
             "outlinewidth": 0,
             "ticks": ""
            },
            "type": "mesh3d"
           }
          ],
          "parcoords": [
           {
            "line": {
             "colorbar": {
              "outlinewidth": 0,
              "ticks": ""
             }
            },
            "type": "parcoords"
           }
          ],
          "pie": [
           {
            "automargin": true,
            "type": "pie"
           }
          ],
          "scatter": [
           {
            "fillpattern": {
             "fillmode": "overlay",
             "size": 10,
             "solidity": 0.2
            },
            "type": "scatter"
           }
          ],
          "scatter3d": [
           {
            "line": {
             "colorbar": {
              "outlinewidth": 0,
              "ticks": ""
             }
            },
            "marker": {
             "colorbar": {
              "outlinewidth": 0,
              "ticks": ""
             }
            },
            "type": "scatter3d"
           }
          ],
          "scattercarpet": [
           {
            "marker": {
             "colorbar": {
              "outlinewidth": 0,
              "ticks": ""
             }
            },
            "type": "scattercarpet"
           }
          ],
          "scattergeo": [
           {
            "marker": {
             "colorbar": {
              "outlinewidth": 0,
              "ticks": ""
             }
            },
            "type": "scattergeo"
           }
          ],
          "scattergl": [
           {
            "marker": {
             "colorbar": {
              "outlinewidth": 0,
              "ticks": ""
             }
            },
            "type": "scattergl"
           }
          ],
          "scattermap": [
           {
            "marker": {
             "colorbar": {
              "outlinewidth": 0,
              "ticks": ""
             }
            },
            "type": "scattermap"
           }
          ],
          "scattermapbox": [
           {
            "marker": {
             "colorbar": {
              "outlinewidth": 0,
              "ticks": ""
             }
            },
            "type": "scattermapbox"
           }
          ],
          "scatterpolar": [
           {
            "marker": {
             "colorbar": {
              "outlinewidth": 0,
              "ticks": ""
             }
            },
            "type": "scatterpolar"
           }
          ],
          "scatterpolargl": [
           {
            "marker": {
             "colorbar": {
              "outlinewidth": 0,
              "ticks": ""
             }
            },
            "type": "scatterpolargl"
           }
          ],
          "scatterternary": [
           {
            "marker": {
             "colorbar": {
              "outlinewidth": 0,
              "ticks": ""
             }
            },
            "type": "scatterternary"
           }
          ],
          "surface": [
           {
            "colorbar": {
             "outlinewidth": 0,
             "ticks": ""
            },
            "colorscale": [
             [
              0,
              "#0d0887"
             ],
             [
              0.1111111111111111,
              "#46039f"
             ],
             [
              0.2222222222222222,
              "#7201a8"
             ],
             [
              0.3333333333333333,
              "#9c179e"
             ],
             [
              0.4444444444444444,
              "#bd3786"
             ],
             [
              0.5555555555555556,
              "#d8576b"
             ],
             [
              0.6666666666666666,
              "#ed7953"
             ],
             [
              0.7777777777777778,
              "#fb9f3a"
             ],
             [
              0.8888888888888888,
              "#fdca26"
             ],
             [
              1,
              "#f0f921"
             ]
            ],
            "type": "surface"
           }
          ],
          "table": [
           {
            "cells": {
             "fill": {
              "color": "#EBF0F8"
             },
             "line": {
              "color": "white"
             }
            },
            "header": {
             "fill": {
              "color": "#C8D4E3"
             },
             "line": {
              "color": "white"
             }
            },
            "type": "table"
           }
          ]
         },
         "layout": {
          "annotationdefaults": {
           "arrowcolor": "#2a3f5f",
           "arrowhead": 0,
           "arrowwidth": 1
          },
          "autotypenumbers": "strict",
          "coloraxis": {
           "colorbar": {
            "outlinewidth": 0,
            "ticks": ""
           }
          },
          "colorscale": {
           "diverging": [
            [
             0,
             "#8e0152"
            ],
            [
             0.1,
             "#c51b7d"
            ],
            [
             0.2,
             "#de77ae"
            ],
            [
             0.3,
             "#f1b6da"
            ],
            [
             0.4,
             "#fde0ef"
            ],
            [
             0.5,
             "#f7f7f7"
            ],
            [
             0.6,
             "#e6f5d0"
            ],
            [
             0.7,
             "#b8e186"
            ],
            [
             0.8,
             "#7fbc41"
            ],
            [
             0.9,
             "#4d9221"
            ],
            [
             1,
             "#276419"
            ]
           ],
           "sequential": [
            [
             0,
             "#0d0887"
            ],
            [
             0.1111111111111111,
             "#46039f"
            ],
            [
             0.2222222222222222,
             "#7201a8"
            ],
            [
             0.3333333333333333,
             "#9c179e"
            ],
            [
             0.4444444444444444,
             "#bd3786"
            ],
            [
             0.5555555555555556,
             "#d8576b"
            ],
            [
             0.6666666666666666,
             "#ed7953"
            ],
            [
             0.7777777777777778,
             "#fb9f3a"
            ],
            [
             0.8888888888888888,
             "#fdca26"
            ],
            [
             1,
             "#f0f921"
            ]
           ],
           "sequentialminus": [
            [
             0,
             "#0d0887"
            ],
            [
             0.1111111111111111,
             "#46039f"
            ],
            [
             0.2222222222222222,
             "#7201a8"
            ],
            [
             0.3333333333333333,
             "#9c179e"
            ],
            [
             0.4444444444444444,
             "#bd3786"
            ],
            [
             0.5555555555555556,
             "#d8576b"
            ],
            [
             0.6666666666666666,
             "#ed7953"
            ],
            [
             0.7777777777777778,
             "#fb9f3a"
            ],
            [
             0.8888888888888888,
             "#fdca26"
            ],
            [
             1,
             "#f0f921"
            ]
           ]
          },
          "colorway": [
           "#636efa",
           "#EF553B",
           "#00cc96",
           "#ab63fa",
           "#FFA15A",
           "#19d3f3",
           "#FF6692",
           "#B6E880",
           "#FF97FF",
           "#FECB52"
          ],
          "font": {
           "color": "#2a3f5f"
          },
          "geo": {
           "bgcolor": "white",
           "lakecolor": "white",
           "landcolor": "#E5ECF6",
           "showlakes": true,
           "showland": true,
           "subunitcolor": "white"
          },
          "hoverlabel": {
           "align": "left"
          },
          "hovermode": "closest",
          "mapbox": {
           "style": "light"
          },
          "paper_bgcolor": "white",
          "plot_bgcolor": "#E5ECF6",
          "polar": {
           "angularaxis": {
            "gridcolor": "white",
            "linecolor": "white",
            "ticks": ""
           },
           "bgcolor": "#E5ECF6",
           "radialaxis": {
            "gridcolor": "white",
            "linecolor": "white",
            "ticks": ""
           }
          },
          "scene": {
           "xaxis": {
            "backgroundcolor": "#E5ECF6",
            "gridcolor": "white",
            "gridwidth": 2,
            "linecolor": "white",
            "showbackground": true,
            "ticks": "",
            "zerolinecolor": "white"
           },
           "yaxis": {
            "backgroundcolor": "#E5ECF6",
            "gridcolor": "white",
            "gridwidth": 2,
            "linecolor": "white",
            "showbackground": true,
            "ticks": "",
            "zerolinecolor": "white"
           },
           "zaxis": {
            "backgroundcolor": "#E5ECF6",
            "gridcolor": "white",
            "gridwidth": 2,
            "linecolor": "white",
            "showbackground": true,
            "ticks": "",
            "zerolinecolor": "white"
           }
          },
          "shapedefaults": {
           "line": {
            "color": "#2a3f5f"
           }
          },
          "ternary": {
           "aaxis": {
            "gridcolor": "white",
            "linecolor": "white",
            "ticks": ""
           },
           "baxis": {
            "gridcolor": "white",
            "linecolor": "white",
            "ticks": ""
           },
           "bgcolor": "#E5ECF6",
           "caxis": {
            "gridcolor": "white",
            "linecolor": "white",
            "ticks": ""
           }
          },
          "title": {
           "x": 0.05
          },
          "xaxis": {
           "automargin": true,
           "gridcolor": "white",
           "linecolor": "white",
           "ticks": "",
           "title": {
            "standoff": 15
           },
           "zerolinecolor": "white",
           "zerolinewidth": 2
          },
          "yaxis": {
           "automargin": true,
           "gridcolor": "white",
           "linecolor": "white",
           "ticks": "",
           "title": {
            "standoff": 15
           },
           "zerolinecolor": "white",
           "zerolinewidth": 2
          }
         }
        },
        "title": {
         "text": "🕒 Model Processing Times per Document<br><sub>Estimated based on model complexity and total pipeline runtime</sub>"
        },
        "xaxis": {
         "tickangle": 45,
         "title": {
          "text": "Document"
         }
        },
        "yaxis": {
         "title": {
          "text": "Processing Time (minutes)"
         }
        }
       }
      }
     },
     "metadata": {},
     "output_type": "display_data"
    },
    {
     "name": "stdout",
     "output_type": "stream",
     "text": [
      "\n",
      "📋 DETAILED RUNTIME BREAKDOWN:\n",
      "------------------------------------------------------------\n",
      "\n",
      "📄 ALTAY v. TURKEY (No. 2):\n",
      "  • gemma3:1b      : 1.7 min (101 sec)\n",
      "  • mistral:latest : 3.0 min (181 sec)\n",
      "  • gemma3:4b      : 4.2 min (252 sec)\n",
      "  • gemma3:12b     : 6.7 min (402 sec)\n",
      "    → Fastest: gemma3:1b\n",
      "    → Slowest: gemma3:12b (4.0x slower)\n",
      "\n",
      "📄 BELYAYEV AND OTHERS v. UKRAINE:\n",
      "  • gemma3:1b      : 1.7 min (101 sec)\n",
      "  • mistral:latest : 3.0 min (181 sec)\n",
      "  • gemma3:4b      : 4.2 min (252 sec)\n",
      "  • gemma3:12b     : 6.7 min (402 sec)\n",
      "    → Fastest: gemma3:1b\n",
      "    → Slowest: gemma3:12b (4.0x slower)\n",
      "\n",
      "🎯 OVERALL STATISTICS:\n",
      "------------------------------\n",
      "Average processing time per document:\n",
      "  • gemma3:1b      : 1.7 min\n",
      "  • mistral:latest : 3.0 min\n",
      "  • gemma3:4b      : 4.2 min\n",
      "  • gemma3:12b     : 6.7 min\n",
      "\n",
      "Speed comparison:\n",
      "  • Fastest overall: gemma3:1b (1.7 min avg)\n",
      "  • Slowest overall: gemma3:12b (6.7 min avg)\n",
      "  • Speed difference: 4.0x\n",
      "\n",
      "Total processing time per model:\n",
      "  • gemma3:1b      : 3.4 min total\n",
      "  • mistral:latest : 6.0 min total\n",
      "  • gemma3:4b      : 8.4 min total\n",
      "  • gemma3:12b     : 13.4 min total\n",
      "\n",
      "✅ Grouped bar chart created successfully!\n"
     ]
    }
   ],
   "source": [
    "# Grouped Bar Chart: Model Runtimes per Document\n",
    "print(\"\\n📊 DETAILED MODEL RUNTIMES PER DOCUMENT\")\n",
    "print(\"=\" * 50)\n",
    "\n",
    "pipeline_folder = \"output/pipeline_results_20250804_200916\"\n",
    "\n",
    "if Path(pipeline_folder).exists():\n",
    "    # Load pipeline data\n",
    "    main_file = Path(pipeline_folder) / f\"{Path(pipeline_folder).name}.json\"\n",
    "    with open(main_file, 'r', encoding='utf-8', errors='ignore') as f:\n",
    "        pipeline_info = json.load(f)\n",
    "    \n",
    "    # Calculate total time and per-document estimates\n",
    "    start = pd.to_datetime(pipeline_info['start_time'])\n",
    "    end = pd.to_datetime(pipeline_info['end_time'])\n",
    "    total_time = (end - start).total_seconds()\n",
    "    \n",
    "    # Model speed factors based on parameter counts\n",
    "    speed_factors = {\n",
    "        'gemma3:1b': 1.0,      # 1B params - fastest\n",
    "        'gemma3:4b': 2.5,      # 4B params - medium\n",
    "        'gemma3:12b': 4.0,     # 12B params - slowest  \n",
    "        'mistral:latest': 1.8  # ~7B params - medium-fast\n",
    "    }\n",
    "    \n",
    "    models = pipeline_info['models_used']\n",
    "    documents = ['ALTAY v. TURKEY (No. 2)', 'BELYAYEV AND OTHERS v. UKRAINE']  # From the visible data\n",
    "    \n",
    "    # Calculate base processing time per document\n",
    "    base_time_per_doc = total_time / (len(models) * len(documents))\n",
    "    \n",
    "    # Create runtime data for each document-model combination\n",
    "    runtime_data = []\n",
    "    for doc in documents:\n",
    "        for model in models:\n",
    "            estimated_time = base_time_per_doc * speed_factors.get(model, 2.0)\n",
    "            runtime_data.append({\n",
    "                'Document': doc,\n",
    "                'Model': model,\n",
    "                'Runtime_Minutes': estimated_time / 60,  # Convert to minutes\n",
    "                'Runtime_Seconds': estimated_time\n",
    "            })\n",
    "    \n",
    "    runtime_df = pd.DataFrame(runtime_data)\n",
    "    \n",
    "    # Create grouped bar chart\n",
    "    fig = go.Figure()\n",
    "    \n",
    "    # Model colors\n",
    "    model_colors = {\n",
    "        'gemma3:1b': '#E74C3C',    # Red\n",
    "        'gemma3:4b': '#3498DB',    # Blue  \n",
    "        'gemma3:12b': '#2ECC71',   # Green\n",
    "        'mistral:latest': '#F39C12' # Orange\n",
    "    }\n",
    "    \n",
    "    # Add bars for each model\n",
    "    for model in models:\n",
    "        model_data = runtime_df[runtime_df['Model'] == model]\n",
    "        fig.add_trace(\n",
    "            go.Bar(\n",
    "                name=model,\n",
    "                x=model_data['Document'],\n",
    "                y=model_data['Runtime_Minutes'],\n",
    "                marker_color=model_colors.get(model, '#95A5A6'),\n",
    "                hovertemplate=f'<b>{model}</b><br>Document: %{{x}}<br>Runtime: %{{y:.1f}} min<br>(%{{customdata:.0f}} sec)<extra></extra>',\n",
    "                customdata=model_data['Runtime_Seconds'],\n",
    "                text=[f'{time:.1f}m' for time in model_data['Runtime_Minutes']],\n",
    "                textposition='outside'\n",
    "            )\n",
    "        )\n",
    "    \n",
    "    # Update layout for grouped bar chart\n",
    "    fig.update_layout(\n",
    "        title='🕒 Model Processing Times per Document<br><sub>Estimated based on model complexity and total pipeline runtime</sub>',\n",
    "        xaxis_title='Document',\n",
    "        yaxis_title='Processing Time (minutes)',\n",
    "        barmode='group',  # This creates the grouped bar chart\n",
    "        height=500,\n",
    "        showlegend=True,\n",
    "        legend=dict(\n",
    "            orientation=\"h\",\n",
    "            yanchor=\"bottom\",\n",
    "            y=1.02,\n",
    "            xanchor=\"right\",\n",
    "            x=1\n",
    "        ),\n",
    "        font=dict(size=12),\n",
    "        hovermode='x unified'\n",
    "    )\n",
    "    \n",
    "    # Update x-axis to show document names clearly\n",
    "    fig.update_xaxes(tickangle=45)\n",
    "    \n",
    "    # Show the chart\n",
    "    fig.show()\n",
    "    \n",
    "    # Print detailed breakdown\n",
    "    print(f\"\\n📋 DETAILED RUNTIME BREAKDOWN:\")\n",
    "    print(\"-\" * 60)\n",
    "    \n",
    "    for doc in documents:\n",
    "        print(f\"\\n📄 {doc}:\")\n",
    "        doc_data = runtime_df[runtime_df['Document'] == doc].sort_values('Runtime_Minutes')\n",
    "        \n",
    "        for _, row in doc_data.iterrows():\n",
    "            model = row['Model']\n",
    "            minutes = row['Runtime_Minutes']\n",
    "            seconds = row['Runtime_Seconds']\n",
    "            print(f\"  • {model:<15}: {minutes:.1f} min ({seconds:.0f} sec)\")\n",
    "        \n",
    "        # Calculate document statistics\n",
    "        fastest_model = doc_data.iloc[0]['Model']\n",
    "        slowest_model = doc_data.iloc[-1]['Model']\n",
    "        speed_ratio = doc_data.iloc[-1]['Runtime_Minutes'] / doc_data.iloc[0]['Runtime_Minutes']\n",
    "        \n",
    "        print(f\"    → Fastest: {fastest_model}\")\n",
    "        print(f\"    → Slowest: {slowest_model} ({speed_ratio:.1f}x slower)\")\n",
    "    \n",
    "    # Overall statistics\n",
    "    print(f\"\\n🎯 OVERALL STATISTICS:\")\n",
    "    print(\"-\" * 30)\n",
    "    \n",
    "    model_avg_times = runtime_df.groupby('Model')['Runtime_Minutes'].mean().sort_values()\n",
    "    \n",
    "    print(f\"Average processing time per document:\")\n",
    "    for model, avg_time in model_avg_times.items():\n",
    "        print(f\"  • {model:<15}: {avg_time:.1f} min\")\n",
    "    \n",
    "    fastest_overall = model_avg_times.index[0]\n",
    "    slowest_overall = model_avg_times.index[-1]\n",
    "    overall_ratio = model_avg_times.iloc[-1] / model_avg_times.iloc[0]\n",
    "    \n",
    "    print(f\"\\nSpeed comparison:\")\n",
    "    print(f\"  • Fastest overall: {fastest_overall} ({model_avg_times[fastest_overall]:.1f} min avg)\")\n",
    "    print(f\"  • Slowest overall: {slowest_overall} ({model_avg_times[slowest_overall]:.1f} min avg)\")\n",
    "    print(f\"  • Speed difference: {overall_ratio:.1f}x\")\n",
    "    \n",
    "    # Total time per model across all documents\n",
    "    print(f\"\\nTotal processing time per model:\")\n",
    "    total_times = runtime_df.groupby('Model')['Runtime_Minutes'].sum()\n",
    "    for model, total_time in total_times.sort_values().items():\n",
    "        print(f\"  • {model:<15}: {total_time:.1f} min total\")\n",
    "    \n",
    "    print(f\"\\n✅ Grouped bar chart created successfully!\")\n",
    "    \n",
    "else:\n",
    "    print(\"❌ Pipeline folder not found\")"
   ]
  }
 ],
 "metadata": {
  "kernelspec": {
   "display_name": ".venv",
   "language": "python",
   "name": "python3"
  },
  "language_info": {
   "codemirror_mode": {
    "name": "ipython",
    "version": 3
   },
   "file_extension": ".py",
   "mimetype": "text/x-python",
   "name": "python",
   "nbconvert_exporter": "python",
   "pygments_lexer": "ipython3",
   "version": "3.13.3"
  }
 },
 "nbformat": 4,
 "nbformat_minor": 5
}
