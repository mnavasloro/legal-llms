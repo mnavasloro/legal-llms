{
 "cells": [
  {
   "cell_type": "code",
   "execution_count": null,
   "id": "1581df5f",
   "metadata": {},
   "outputs": [],
   "source": [
    "import json\n",
    "import pandas as pd\n",
    "import matplotlib.pyplot as plt\n",
    "import seaborn as sns\n",
    "import plotly.express as px\n",
    "import plotly.graph_objects as go\n",
    "from plotly.subplots import make_subplots\n",
    "import numpy as np\n",
    "from pathlib import Path\n",
    "import warnings\n",
    "warnings.filterwarnings('ignore')\n",
    "\n",
    "# Set style for matplotlib\n",
    "plt.style.use('seaborn-v0_8')\n",
    "sns.set_palette(\"husl\")"
   ]
  },
  {
   "cell_type": "code",
   "execution_count": null,
   "id": "e1eb8033",
   "metadata": {},
   "outputs": [],
   "source": [
    "# Pipeline Results Folder Selector\n",
    "import ipywidgets as widgets\n",
    "from IPython.display import display, clear_output\n",
    "from pathlib import Path\n",
    "\n",
    "def find_pipeline_results_folders(base_path=\"output\"):\n",
    "    \"\"\"Find all pipeline_results folders in the output directory\"\"\"\n",
    "    pipeline_folders = []\n",
    "    base_path = Path(base_path)\n",
    "    \n",
    "    if not base_path.exists():\n",
    "        print(f\"Output directory '{base_path}' not found!\")\n",
    "        return []\n",
    "    \n",
    "    for item in base_path.iterdir():\n",
    "        if item.is_dir() and item.name.startswith(\"pipeline_results_\"):\n",
    "            # Check for evaluation file\n",
    "            eval_json_path = item / \"llm_evaluation_results.json\"\n",
    "            \n",
    "            if eval_json_path.exists():\n",
    "                pipeline_folders.append({\n",
    "                    'name': item.name,\n",
    "                    'path': str(item),\n",
    "                    'eval_path': str(eval_json_path)\n",
    "                })\n",
    "            else:\n",
    "                print(f\"Warning: No evaluation file found in {item.name}\")\n",
    "    \n",
    "    return sorted(pipeline_folders, key=lambda x: x['name'], reverse=True)  # Most recent first\n",
    "\n",
    "# Find available pipeline results\n",
    "available_folders = find_pipeline_results_folders()\n",
    "\n",
    "if not available_folders:\n",
    "    print(\"❌ No pipeline_results folders found in the output directory!\")\n",
    "    print(\"Please run the evaluation pipeline first.\")\n",
    "    selected_pipeline_folder = None\n",
    "else:\n",
    "    print(f\"✅ Found {len(available_folders)} pipeline_results folders:\")\n",
    "    for i, folder in enumerate(available_folders[:5]):  # Show first 5\n",
    "        print(f\"  {i+1}. {folder['name']}\")\n",
    "    \n",
    "    # Create selection widget\n",
    "    folder_options = [(folder['name'], folder) for folder in available_folders]\n",
    "    \n",
    "    # Pre-select the most recent folder\n",
    "    folder_selector = widgets.Dropdown(\n",
    "        options=folder_options,\n",
    "        value=available_folders[0] if available_folders else None,\n",
    "        description='Pipeline Run:',\n",
    "        style={'description_width': '120px'},\n",
    "        layout=widgets.Layout(width='600px')\n",
    "    )\n",
    "    \n",
    "    # Set button\n",
    "    set_button = widgets.Button(\n",
    "        description='📁 Set Pipeline Folder',\n",
    "        button_style='success',\n",
    "        icon='check',\n",
    "        layout=widgets.Layout(width='200px')\n",
    "    )\n",
    "    \n",
    "    output_area = widgets.Output()\n",
    "    \n",
    "    def set_pipeline_folder(button):\n",
    "        global selected_pipeline_folder, results_path\n",
    "        with output_area:\n",
    "            clear_output()\n",
    "            selected_folder = folder_selector.value\n",
    "            \n",
    "            if selected_folder:\n",
    "                selected_pipeline_folder = selected_folder['path']\n",
    "                results_path = selected_folder['eval_path']\n",
    "                \n",
    "                print(f\"✅ Selected pipeline folder: {selected_folder['name']}\")\n",
    "                print(f\"📊 Results file: {results_path}\")\n",
    "                print(f\"📁 Full path: {selected_pipeline_folder}\")\n",
    "                print(\"\\n🚀 You can now run the visualization cells below!\")\n",
    "            else:\n",
    "                print(\"❌ No folder selected!\")\n",
    "    \n",
    "    set_button.on_click(set_pipeline_folder)\n",
    "    \n",
    "    print(f\"\\n📋 Select a pipeline results folder:\")\n",
    "    display(widgets.HBox([folder_selector, set_button]))\n",
    "    display(output_area)\n",
    "    \n",
    "    # Set default\n",
    "    if available_folders:\n",
    "        selected_pipeline_folder = available_folders[0]['path']\n",
    "        results_path = available_folders[0]['eval_path']\n",
    "        print(f\"\\n💡 Default: Using most recent run - {available_folders[0]['name']}\")\n",
    "    else:\n",
    "        selected_pipeline_folder = None\n",
    "        results_path = None"
   ]
  },
  {
   "cell_type": "markdown",
   "id": "7dec39e9",
   "metadata": {},
   "source": [
    "### Single run"
   ]
  },
  {
   "cell_type": "code",
<<<<<<< HEAD
<<<<<<< HEAD
   "execution_count": 2,
=======
   "execution_count": 3,
>>>>>>> a813ab3a2a19b49bf703a1dc6fd99353356c8a2d
   "id": "13398642",
   "metadata": {},
   "outputs": [
    {
     "data": {
      "application/vnd.plotly.v1+json": {
       "config": {
        "plotlyServerURL": "https://plot.ly"
       },
       "data": [
        {
         "hovertemplate": "<b>gemma3:1b</b><br>Type: %{x}<br>Avg F1: %{y:.3f}<extra></extra>",
         "legendgroup": "models",
         "marker": {
          "color": "#E74C3C"
         },
         "name": "gemma3:1b",
         "showlegend": true,
         "type": "bar",
         "x": [
          "Event",
          "Event_what",
          "Event_when",
          "Event_who"
         ],
         "xaxis": "x",
         "y": {
          "bdata": "c8AqcVQtyz9gtej4Lh+xPynXpj8BQ8w/m0DvI5iAnD8=",
          "dtype": "f8"
         },
         "yaxis": "y"
        },
        {
         "hovertemplate": "<b>gemma3:4b</b><br>Type: %{x}<br>Avg F1: %{y:.3f}<extra></extra>",
         "legendgroup": "models",
         "marker": {
          "color": "#3498DB"
         },
         "name": "gemma3:4b",
         "showlegend": true,
         "type": "bar",
         "x": [
          "Event",
          "Event_what",
          "Event_when",
          "Event_who"
         ],
         "xaxis": "x",
         "y": {
          "bdata": "3NHkLhTo2D+XMLXt16rCP4xaK7zY39U/571oJgzMqj8=",
          "dtype": "f8"
         },
         "yaxis": "y"
        },
        {
         "hovertemplate": "<b>gemma3:12b</b><br>Type: %{x}<br>Avg F1: %{y:.3f}<extra></extra>",
         "legendgroup": "models",
         "marker": {
          "color": "#2ECC71"
         },
         "name": "gemma3:12b",
         "showlegend": true,
         "type": "bar",
         "x": [
          "Event",
          "Event_what",
          "Event_when",
          "Event_who"
         ],
         "xaxis": "x",
         "y": {
          "bdata": "y9s87Dix4T9iLlmSuTTUP9YvV/v3qt8/I31rm4nRyj8=",
<<<<<<< HEAD
=======
          "dtype": "f8"
         },
         "yaxis": "y"
        },
        {
         "hovertemplate": "<b>llama3.3:latest</b><br>Type: %{x}<br>Avg F1: %{y:.3f}<extra></extra>",
         "legendgroup": "models",
         "marker": {
          "color": "#F39C12"
         },
         "name": "llama3.3:latest",
         "showlegend": true,
         "type": "bar",
         "x": [
          "Event",
          "Event_what",
          "Event_when",
          "Event_who"
         ],
         "xaxis": "x",
         "y": {
          "bdata": "pdXheAQN4j+g97ntz/7dPxXG5dP3DOI/gSVlQoBoxT8=",
          "dtype": "f8"
         },
         "yaxis": "y"
        },
        {
         "hovertemplate": "<b>deepseek-r1:8b</b><br>Type: %{x}<br>Avg F1: %{y:.3f}<extra></extra>",
         "legendgroup": "models",
         "marker": {
          "color": "#9B59B6"
         },
         "name": "deepseek-r1:8b",
         "showlegend": true,
         "type": "bar",
         "x": [
          "Event",
          "Event_what",
          "Event_when",
          "Event_who"
         ],
         "xaxis": "x",
         "y": {
          "bdata": "0JywxXfz1T+PEsYv0G3OP9btCKKuh9c/dAHyvhjkrj8=",
>>>>>>> a813ab3a2a19b49bf703a1dc6fd99353356c8a2d
          "dtype": "f8"
         },
         "yaxis": "y"
        },
        {
         "hovertemplate": "<b>mistral:latest</b><br>Type: %{x}<br>Avg F1: %{y:.3f}<extra></extra>",
         "legendgroup": "models",
         "marker": {
          "color": "#1ABC9C"
         },
         "name": "mistral:latest",
         "showlegend": true,
         "type": "bar",
         "x": [
          "Event",
          "Event_what",
          "Event_when",
          "Event_who"
         ],
         "xaxis": "x",
         "y": {
          "bdata": "su3crbSZ3D/VUumFIVvRP+sa+oRDlN4/N4Q+W0+juD8=",
<<<<<<< HEAD
=======
          "dtype": "f8"
         },
         "yaxis": "y"
        },
        {
         "hovertemplate": "<b>incept5/llama3.1-claude:latest</b><br>Type: %{x}<br>Avg F1: %{y:.3f}<extra></extra>",
         "legendgroup": "models",
         "marker": {
          "color": "#F1C40F"
         },
         "name": "incept5/llama3.1-claude:latest",
         "showlegend": true,
         "type": "bar",
         "x": [
          "Event",
          "Event_what",
          "Event_when",
          "Event_who"
         ],
         "xaxis": "x",
         "y": {
          "bdata": "RNutlH9u4D+SfQooInTQP/BjTSqDZM8/FQxofLy8uT8=",
          "dtype": "f8"
         },
         "yaxis": "y"
        },
        {
         "hovertemplate": "<b>chevalblanc/claude-3-haiku:latest</b><br>Type: %{x}<br>Avg F1: %{y:.3f}<extra></extra>",
         "legendgroup": "models",
         "marker": {
          "color": "#E67E22"
         },
         "name": "chevalblanc/claude-3-haiku:latest",
         "showlegend": true,
         "type": "bar",
         "x": [
          "Event",
          "Event_what",
          "Event_when",
          "Event_who"
         ],
         "xaxis": "x",
         "y": {
          "bdata": "xpjMb9Mq2z8bj2MoV9vPPxeeDqiZFtI//8k+dCWsuz8=",
          "dtype": "f8"
         },
         "yaxis": "y"
        },
        {
         "hovertemplate": "<b>llama4:16x17b</b><br>Type: %{x}<br>Avg F1: %{y:.3f}<extra></extra>",
         "legendgroup": "models",
         "marker": {
          "color": "#95A5A6"
         },
         "name": "llama4:16x17b",
         "showlegend": true,
         "type": "bar",
         "x": [
          "Event",
          "Event_what",
          "Event_when",
          "Event_who"
         ],
         "xaxis": "x",
         "y": {
          "bdata": "D7PXtGAhsD+VW0ROTByjP19daNbkRK0/TNkMFX9+iz8=",
          "dtype": "f8"
         },
         "yaxis": "y"
        },
        {
         "hovertemplate": "<b>mixtral:8x7b</b><br>Type: %{x}<br>Avg F1: %{y:.3f}<extra></extra>",
         "legendgroup": "models",
         "marker": {
          "color": "#34495E"
         },
         "name": "mixtral:8x7b",
         "showlegend": true,
         "type": "bar",
         "x": [
          "Event",
          "Event_what",
          "Event_when",
          "Event_who"
         ],
         "xaxis": "x",
         "y": {
          "bdata": "VqUVlT301D9uheiNYo3KPxNY5t2XLtU/dpfo3TZXqD8=",
          "dtype": "f8"
         },
         "yaxis": "y"
        },
        {
         "hovertemplate": "<b>dolphin3:8b</b><br>Type: %{x}<br>Avg F1: %{y:.3f}<extra></extra>",
         "legendgroup": "models",
         "marker": {
          "color": "#16A085"
         },
         "name": "dolphin3:8b",
         "showlegend": true,
         "type": "bar",
         "x": [
          "Event",
          "Event_what",
          "Event_when",
          "Event_who"
         ],
         "xaxis": "x",
         "y": {
          "bdata": "8b0AAK8n1D/Tc5ZvxTu9P3Mgk3uUkss/5uJjv7nqqT8=",
          "dtype": "f8"
         },
         "yaxis": "y"
        },
        {
         "hovertemplate": "<b>dolphin-mixtral:8x7b</b><br>Type: %{x}<br>Avg F1: %{y:.3f}<extra></extra>",
         "legendgroup": "models",
         "marker": {
          "color": "#8E44AD"
         },
         "name": "dolphin-mixtral:8x7b",
         "showlegend": true,
         "type": "bar",
         "x": [
          "Event",
          "Event_what",
          "Event_when",
          "Event_who"
         ],
         "xaxis": "x",
         "y": {
          "bdata": "eSW0849s2D98oTTF9TjJP7OAudFdAdE/1C5QO9SQnz8=",
>>>>>>> a813ab3a2a19b49bf703a1dc6fd99353356c8a2d
          "dtype": "f8"
         },
         "yaxis": "y"
        },
        {
         "colorbar": {
          "title": {
           "text": "F1 Score"
          },
          "x": 0.48
         },
         "colorscale": [
          [
           0,
           "rgb(49,54,149)"
          ],
          [
           0.1,
           "rgb(69,117,180)"
          ],
          [
           0.2,
           "rgb(116,173,209)"
          ],
          [
           0.3,
           "rgb(171,217,233)"
          ],
          [
           0.4,
           "rgb(224,243,248)"
          ],
          [
           0.5,
           "rgb(255,255,191)"
          ],
          [
           0.6,
           "rgb(254,224,144)"
          ],
          [
           0.7,
           "rgb(253,174,97)"
          ],
          [
           0.8,
           "rgb(244,109,67)"
          ],
          [
           0.9,
           "rgb(215,48,39)"
          ],
          [
           1,
           "rgb(165,0,38)"
          ]
         ],
         "hovertemplate": "Document: %{y}<br>Model: %{x}<br>F1 Score: %{z:.3f}<extra></extra>",
         "showlegend": false,
         "showscale": true,
         "type": "heatmap",
         "x": [
          "chevalblanc/claude-3-haiku:latest",
          "deepseek-r1:8b",
          "dolphin-mixtral:8x7b",
          "dolphin3:8b",
          "gemma3:12b",
          "gemma3:1b",
          "gemma3:4b",
          "incept5/llama3.1-claude:latest",
          "llama3.3:latest",
          "llama4:16x17b",
          "mistral:latest",
          "mixtral:8x7b"
         ],
         "xaxis": "x2",
         "y": [
          "ALTAY v. TURKEY (No. 2)",
          "BELYAYEV AND OTHERS v. UKRAINE",
          "BIGUN v. UKRAINE",
          "CABUCAK v. GERMANY",
          "CAN v. TURKEY",
          "CRISTIAN CATALIN UNGUREANU v. ROMANIA",
          "DOKTOROV v. BULGARIA",
          "EGILL EINARSSON v. ICELAND (No. 2)",
          "H_INESS v. NORWAY (1)",
          "KOSAITE - CYPIENE AND OTHERS v. LITHUANIA",
          "LOZOVYYE v. RUSSIA",
          "M.T. v. UKRAINE",
          "MOSKALEV v. RUSSIA",
          "MURUZHEVA v. RUSSIA",
          "O.C.I. AND OTHERS v. ROMANIA",
          "OTGON v. THE REPUBLIC OF MOLDOVA",
          "PAKHTUSOV v. RUSSIA",
          "PANYUSHKINY v. RUSSIA",
          "RESIN v. RUSSIA",
          "S.N. v. RUSSIA",
          "S.V. v. ITALY",
          "SHVIDKIYE v. RUSSIA",
          "SIDOROVA v. RUSSIA",
          "SOLCAN v. ROMANIA",
          "STANA v. ROMANIA",
          "VISY v. SLOVAKIA",
          "YAKUSHEV v. UKRAINE",
          "YERMAKOVICH v. RUSSIA",
          "YEVGENIY ZAKHAROV v. RUSSIA",
          "_NODI v. HUNGARY"
         ],
         "yaxis": "y2",
         "z": {
<<<<<<< HEAD
          "bdata": "c9PCW3ZO2j8cx3Ecx3GsP4XCWNFTKNM/cMq0HF2O0z8DUisOq/PQP+pY06ZCIcY/ERERERERsT+VK5HqgOa/PxD4GbRwm9A/kyRJkiRJsj+Xb/mWb/nGP+YhF15qHtI/uHZ5m4C02T+06PgIcgyaP8h7vMd7vLc/AYoawlhp0j8rW6DeydDjP0clKz4AUs4/XiCT4gUy4T9unvlOGwbhPzABGQ0TkNo/IiC52eL50D907BIFvAG9PyDkyNM1qNU/UBbtKk6Z2D+oRIw0c0bNP3NV2GRwotA/YE1PAgrW1D+zEzSUCYbbPwAAAAAAAAAAApZtvhxgyT9hsmMEPpLWP00c0QYFdNw/AAAAAAAAAABFRERERES0P3/Qqji5Tcw/2FTIvIpcpD/YVMi8ilykP6AN6Z8N6a8/L87tNi33yz/fO7CBx97bP/LiUr0RDtA/mSPTy1YG3z8YhmEYhmHgPyizI288w9g/xwgm+jtZzT8/6qM+6qPWP90LCk8RO9g/3Mu93Mu93D/vqJE0wO7IP0Vu2i/+uNo/TMIkTMIk2D+4M320xabXPwAAAAAAAAAARoJbMEGY0j/KrzCCN4fZPxFwdSjN6dk/6xS6TqHrtD+eS/CmORTPPwAAAAAAAAAA3MM93MM94D94EsGqRfTNPwAAAAAAAAAAvLu7u7u72z+vtoWXv5niP5KLMIB6H9M/0VLutoJH1T802ufFE+nYPw8Fhl9jyeI/AAAAAAAAAADnWm8a90PAP5gUfSk5xt0/dNFFF1102T8w1w7MtQPDP5kTZsV3h9A/nk/WY+ki1T/NooO9vwSgP+Gta7Ulop8/AAAAAAAAAAAhF3IhF3KxP5EGaZAGad0/AAAAAAAAAAAyo0N8zOjUP7qUS7mUS90/4mEGYTNa1j8AAAAAAAAAAGDnc5fyFNU/D+y1Mnvy3D8UrkfhehTgPw8PDw8PD68/AAAAAAAAAABMK5/qhoHHP3GSVRMehOE/Ntlkk002yT/MmMmMmczIPzfKF04njNc/t3Vbt3Vb1z+f53me53nWP4dhGIZhGNw/YRiGYRiG0T8rKbyh0SrVPx8eHh4eHp4/WtJnzFsAzj/cm3Bvwr3RPwkDAavjS+M/a9+w9g1r0z9acyZiy0PZP8E3OKFT1N0/0pa0JW1Juz+SHk0H8JKePwAAAAAAAKA/VXjftnoR0T8AMt28GyvUP2KkHSsQRso/RmAERmAE2T9es0fy6KzPP0SSjPMOaNk/uHzLt3zLyz+oNhpT4cTNP7eL4BXmx9Y/",
          "dtype": "f8",
          "shape": "30, 4"
=======
          "bdata": "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",
          "dtype": "f8",
          "shape": "30, 12"
>>>>>>> a813ab3a2a19b49bf703a1dc6fd99353356c8a2d
         }
        },
        {
         "hovertemplate": "<b>%{text}</b><br>Recall: %{x:.3f}<br>Precision: %{y:.3f}<extra></extra>",
         "legendgroup": "scatter",
         "marker": {
          "color": "#E74C3C",
          "opacity": 0.7,
          "size": 8,
          "symbol": "circle"
         },
         "mode": "markers",
         "name": "gemma3:1b (docs)",
         "showlegend": true,
         "text": [
          "S.N. v. RUSSIA<br>Event",
          "S.N. v. RUSSIA<br>Event_who",
          "S.N. v. RUSSIA<br>Event_when",
          "S.N. v. RUSSIA<br>Event_what",
          "BELYAYEV AND OTHERS v. UKRAINE<br>Event",
          "BELYAYEV AND OTHERS v. UKRAINE<br>Event_who",
          "BELYAYEV AND OTHERS v. UKRAINE<br>Event_when",
          "BELYAYEV AND OTHERS v. UKRAINE<br>Event_what",
          "SIDOROVA v. RUSSIA<br>Event",
          "SIDOROVA v. RUSSIA<br>Event_who",
          "SIDOROVA v. RUSSIA<br>Event_when",
          "SIDOROVA v. RUSSIA<br>Event_what",
          "EGILL EINARSSON v. ICELAND (No. 2)<br>Event",
          "EGILL EINARSSON v. ICELAND (No. 2)<br>Event_who",
          "EGILL EINARSSON v. ICELAND (No. 2)<br>Event_when",
          "EGILL EINARSSON v. ICELAND (No. 2)<br>Event_what",
          "MOSKALEV v. RUSSIA<br>Event",
          "MOSKALEV v. RUSSIA<br>Event_who",
          "MOSKALEV v. RUSSIA<br>Event_when",
          "MOSKALEV v. RUSSIA<br>Event_what",
          "PANYUSHKINY v. RUSSIA<br>Event",
          "PANYUSHKINY v. RUSSIA<br>Event_who",
          "PANYUSHKINY v. RUSSIA<br>Event_when",
          "PANYUSHKINY v. RUSSIA<br>Event_what",
          "BIGUN v. UKRAINE<br>Event",
          "BIGUN v. UKRAINE<br>Event_who",
          "BIGUN v. UKRAINE<br>Event_when",
          "BIGUN v. UKRAINE<br>Event_what",
          "SOLCAN v. ROMANIA<br>Event",
          "SOLCAN v. ROMANIA<br>Event_who",
          "SOLCAN v. ROMANIA<br>Event_when",
          "SOLCAN v. ROMANIA<br>Event_what",
          "YEVGENIY ZAKHAROV v. RUSSIA<br>Event",
          "YEVGENIY ZAKHAROV v. RUSSIA<br>Event_who",
          "YEVGENIY ZAKHAROV v. RUSSIA<br>Event_when",
          "YEVGENIY ZAKHAROV v. RUSSIA<br>Event_what",
          "ALTAY v. TURKEY (No. 2)<br>Event",
          "ALTAY v. TURKEY (No. 2)<br>Event_who",
          "ALTAY v. TURKEY (No. 2)<br>Event_when",
          "ALTAY v. TURKEY (No. 2)<br>Event_what",
<<<<<<< HEAD
          "H_INESS v. NORWAY (1)<br>Event",
          "H_INESS v. NORWAY (1)<br>Event_who",
          "H_INESS v. NORWAY (1)<br>Event_when",
          "H_INESS v. NORWAY (1)<br>Event_what",
          "SHVIDKIYE v. RUSSIA<br>Event",
          "SHVIDKIYE v. RUSSIA<br>Event_who",
          "SHVIDKIYE v. RUSSIA<br>Event_when",
          "SHVIDKIYE v. RUSSIA<br>Event_what",
          "VISY v. SLOVAKIA<br>Event",
          "VISY v. SLOVAKIA<br>Event_who",
          "VISY v. SLOVAKIA<br>Event_when",
          "VISY v. SLOVAKIA<br>Event_what",
          "OTGON v. THE REPUBLIC OF MOLDOVA<br>Event",
          "OTGON v. THE REPUBLIC OF MOLDOVA<br>Event_who",
          "OTGON v. THE REPUBLIC OF MOLDOVA<br>Event_when",
          "OTGON v. THE REPUBLIC OF MOLDOVA<br>Event_what",
          "M.T. v. UKRAINE<br>Event",
          "M.T. v. UKRAINE<br>Event_who",
          "M.T. v. UKRAINE<br>Event_when",
          "M.T. v. UKRAINE<br>Event_what",
          "RESIN v. RUSSIA<br>Event",
          "RESIN v. RUSSIA<br>Event_who",
          "RESIN v. RUSSIA<br>Event_when",
          "RESIN v. RUSSIA<br>Event_what",
          "DOKTOROV v. BULGARIA<br>Event",
          "DOKTOROV v. BULGARIA<br>Event_who",
          "DOKTOROV v. BULGARIA<br>Event_when",
          "DOKTOROV v. BULGARIA<br>Event_what",
          "YERMAKOVICH v. RUSSIA<br>Event",
          "YERMAKOVICH v. RUSSIA<br>Event_who",
          "YERMAKOVICH v. RUSSIA<br>Event_when",
          "YERMAKOVICH v. RUSSIA<br>Event_what",
          "YAKUSHEV v. UKRAINE<br>Event",
          "YAKUSHEV v. UKRAINE<br>Event_who",
          "YAKUSHEV v. UKRAINE<br>Event_when",
          "YAKUSHEV v. UKRAINE<br>Event_what",
          "STANA v. ROMANIA<br>Event",
          "STANA v. ROMANIA<br>Event_who",
          "STANA v. ROMANIA<br>Event_when",
          "STANA v. ROMANIA<br>Event_what",
          "_NODI v. HUNGARY<br>Event",
          "_NODI v. HUNGARY<br>Event_who",
          "_NODI v. HUNGARY<br>Event_when",
          "_NODI v. HUNGARY<br>Event_what",
          "PAKHTUSOV v. RUSSIA<br>Event",
          "PAKHTUSOV v. RUSSIA<br>Event_who",
          "PAKHTUSOV v. RUSSIA<br>Event_when",
          "PAKHTUSOV v. RUSSIA<br>Event_what",
          "KOSAITE - CYPIENE AND OTHERS v. LITHUANIA<br>Event",
          "KOSAITE - CYPIENE AND OTHERS v. LITHUANIA<br>Event_who",
          "KOSAITE - CYPIENE AND OTHERS v. LITHUANIA<br>Event_when",
          "KOSAITE - CYPIENE AND OTHERS v. LITHUANIA<br>Event_what",
          "S.V. v. ITALY<br>Event",
          "S.V. v. ITALY<br>Event_who",
          "S.V. v. ITALY<br>Event_when",
          "S.V. v. ITALY<br>Event_what",
=======
          "BELYAYEV AND OTHERS v. UKRAINE<br>Event",
          "BELYAYEV AND OTHERS v. UKRAINE<br>Event_who",
          "BELYAYEV AND OTHERS v. UKRAINE<br>Event_when",
          "BELYAYEV AND OTHERS v. UKRAINE<br>Event_what",
          "BIGUN v. UKRAINE<br>Event",
          "BIGUN v. UKRAINE<br>Event_who",
          "BIGUN v. UKRAINE<br>Event_when",
          "BIGUN v. UKRAINE<br>Event_what",
          "CABUCAK v. GERMANY<br>Event",
          "CABUCAK v. GERMANY<br>Event_who",
          "CABUCAK v. GERMANY<br>Event_when",
          "CABUCAK v. GERMANY<br>Event_what",
>>>>>>> a813ab3a2a19b49bf703a1dc6fd99353356c8a2d
          "CAN v. TURKEY<br>Event",
          "CAN v. TURKEY<br>Event_who",
          "CAN v. TURKEY<br>Event_when",
          "CAN v. TURKEY<br>Event_what",
          "CRISTIAN CATALIN UNGUREANU v. ROMANIA<br>Event",
          "CRISTIAN CATALIN UNGUREANU v. ROMANIA<br>Event_who",
          "CRISTIAN CATALIN UNGUREANU v. ROMANIA<br>Event_when",
          "CRISTIAN CATALIN UNGUREANU v. ROMANIA<br>Event_what",
<<<<<<< HEAD
          "MURUZHEVA v. RUSSIA<br>Event",
          "MURUZHEVA v. RUSSIA<br>Event_who",
          "MURUZHEVA v. RUSSIA<br>Event_when",
          "MURUZHEVA v. RUSSIA<br>Event_what",
=======
          "DOKTOROV v. BULGARIA<br>Event",
          "DOKTOROV v. BULGARIA<br>Event_who",
          "DOKTOROV v. BULGARIA<br>Event_when",
          "DOKTOROV v. BULGARIA<br>Event_what",
          "EGILL EINARSSON v. ICELAND (No. 2)<br>Event",
          "EGILL EINARSSON v. ICELAND (No. 2)<br>Event_who",
          "EGILL EINARSSON v. ICELAND (No. 2)<br>Event_when",
          "EGILL EINARSSON v. ICELAND (No. 2)<br>Event_what",
          "H_INESS v. NORWAY (1)<br>Event",
          "H_INESS v. NORWAY (1)<br>Event_who",
          "H_INESS v. NORWAY (1)<br>Event_when",
          "H_INESS v. NORWAY (1)<br>Event_what",
          "KOSAITE - CYPIENE AND OTHERS v. LITHUANIA<br>Event",
          "KOSAITE - CYPIENE AND OTHERS v. LITHUANIA<br>Event_who",
          "KOSAITE - CYPIENE AND OTHERS v. LITHUANIA<br>Event_when",
          "KOSAITE - CYPIENE AND OTHERS v. LITHUANIA<br>Event_what",
>>>>>>> a813ab3a2a19b49bf703a1dc6fd99353356c8a2d
          "LOZOVYYE v. RUSSIA<br>Event",
          "LOZOVYYE v. RUSSIA<br>Event_who",
          "LOZOVYYE v. RUSSIA<br>Event_when",
          "LOZOVYYE v. RUSSIA<br>Event_what",
<<<<<<< HEAD
=======
          "M.T. v. UKRAINE<br>Event",
          "M.T. v. UKRAINE<br>Event_who",
          "M.T. v. UKRAINE<br>Event_when",
          "M.T. v. UKRAINE<br>Event_what",
          "MOSKALEV v. RUSSIA<br>Event",
          "MOSKALEV v. RUSSIA<br>Event_who",
          "MOSKALEV v. RUSSIA<br>Event_when",
          "MOSKALEV v. RUSSIA<br>Event_what",
          "MURUZHEVA v. RUSSIA<br>Event",
          "MURUZHEVA v. RUSSIA<br>Event_who",
          "MURUZHEVA v. RUSSIA<br>Event_when",
          "MURUZHEVA v. RUSSIA<br>Event_what",
>>>>>>> a813ab3a2a19b49bf703a1dc6fd99353356c8a2d
          "O.C.I. AND OTHERS v. ROMANIA<br>Event",
          "O.C.I. AND OTHERS v. ROMANIA<br>Event_who",
          "O.C.I. AND OTHERS v. ROMANIA<br>Event_when",
          "O.C.I. AND OTHERS v. ROMANIA<br>Event_what",
<<<<<<< HEAD
          "CABUCAK v. GERMANY<br>Event",
          "CABUCAK v. GERMANY<br>Event_who",
          "CABUCAK v. GERMANY<br>Event_when",
          "CABUCAK v. GERMANY<br>Event_what"
         ],
         "type": "scatter",
         "x": {
          "bdata": "GIZhGIZhmD8AAAAAAAAAAPoYnI/B+ag/AAAAAAAAAAAcx3Ecx3G8PwAAAAAAAAAAAAAAAAAA2D8AAAAAAADAPxQ7sRM7sbM/AAAAAAAAAAAUO7ETO7GzPwAAAAAAAAAAAAAAAAAAAAAAAAAAAAAAAAAAAAAAAAAAAAAAAAAAAAAAAAAAAAAAAEYXXXTRRbc/AAAAAAAA5D+SJEmSJEmyPwAAAAAAAAAAAAAAAAAAAAAAAAAAAAAAAAAAAAAAAAAAFDuxEzuxsz8AAAAAAAAAABQ7sRM7sbM/AAAAAAAAAACe2Imd2InNPwAAAAAAAAAAdNFFF1100T8cx3Ecx3G8P5eWlpaWltY/AAAAAAAAAABGF1100UXXPwAAAAAAAAAAGIZhGIZhuD8AAAAAAAAAABiGYRiGYbg/AAAAAAAAAAAAAAAAAAAAAAAAAAAAAAAAAAAAAAAAAAAAAAAAAAAAAAAAAAAAAAAAAAAAAAAAAAAAAAAAAAAAAAAAAAAAAAAAAAAAAAAAAAAAAAAAAAAAAEYXXXTRRbc/AAAAAAAAAAAAAAAAAADQPxQ7sRM7scM/mpmZmZmZ2T+amZmZmZnJP7dt27Zt29Y/AAAAAAAAAACrqqqqqqriPwAAAAAAAAAAAAAAAAAA0D8AAAAAAAAAANu2bdu2bcs/RhdddNFFpz9VVVVVVVXlPwAAAAAAAAAAAAAAAAAA0D8RERERERGxPxEREREREaE/AAAAAAAAAAARERERERGhPwAAAAAAAAAAq6qqqqqq4j9GF1100UXHP5qZmZmZmdk/AAAAAAAAAABVVVVVVVXlPwAAAAAAAAAAAAAAAAAA4D9GF1100UW3P7bWWmuttdY/AAAAAAAAAABGF1100UXXPwAAAAAAAAAAq6qqqqqq4j8AAAAAAADQP5qZmZmZmck/AAAAAAAAwD/QusEU+aybPwAAAAAAAAAACB988MEHnz/6GJyPwfmYPwAAAAAAAAAAAAAAAAAAAAAAAAAAAAAAAAAAAAAAAAAAVVVVVVVV1T8AAAAAAAAAAJqZmZmZmck/XkN5DeU1xD+SJEmSJEnSPxiGYRiGYag/VVVVVVVV1T/ZiZ3YiZ3IPwAAAAAAAAAAAAAAAAAAAAAAAAAAAAAAAAAAAAAAAAAAVVVVVVVV1T8AAAAAAAAAAFVVVVVVVdU/RhdddNFFxz8LWchCFrLAPwAAAAAAAAAARhdddNFFtz8AAAAAAAAAAPoYnI/B+Zg/AAAAAAAAAAAor6G8hvKqPwAAAAAAAAAA",
=======
          "OTGON v. THE REPUBLIC OF MOLDOVA<br>Event",
          "OTGON v. THE REPUBLIC OF MOLDOVA<br>Event_who",
          "OTGON v. THE REPUBLIC OF MOLDOVA<br>Event_when",
          "OTGON v. THE REPUBLIC OF MOLDOVA<br>Event_what",
          "PAKHTUSOV v. RUSSIA<br>Event",
          "PAKHTUSOV v. RUSSIA<br>Event_who",
          "PAKHTUSOV v. RUSSIA<br>Event_when",
          "PAKHTUSOV v. RUSSIA<br>Event_what",
          "PANYUSHKINY v. RUSSIA<br>Event",
          "PANYUSHKINY v. RUSSIA<br>Event_who",
          "PANYUSHKINY v. RUSSIA<br>Event_when",
          "PANYUSHKINY v. RUSSIA<br>Event_what",
          "RESIN v. RUSSIA<br>Event",
          "RESIN v. RUSSIA<br>Event_who",
          "RESIN v. RUSSIA<br>Event_when",
          "RESIN v. RUSSIA<br>Event_what",
          "S.N. v. RUSSIA<br>Event",
          "S.N. v. RUSSIA<br>Event_who",
          "S.N. v. RUSSIA<br>Event_when",
          "S.N. v. RUSSIA<br>Event_what",
          "S.V. v. ITALY<br>Event",
          "S.V. v. ITALY<br>Event_who",
          "S.V. v. ITALY<br>Event_when",
          "S.V. v. ITALY<br>Event_what",
          "SHVIDKIYE v. RUSSIA<br>Event",
          "SHVIDKIYE v. RUSSIA<br>Event_who",
          "SHVIDKIYE v. RUSSIA<br>Event_when",
          "SHVIDKIYE v. RUSSIA<br>Event_what",
          "SIDOROVA v. RUSSIA<br>Event",
          "SIDOROVA v. RUSSIA<br>Event_who",
          "SIDOROVA v. RUSSIA<br>Event_when",
          "SIDOROVA v. RUSSIA<br>Event_what",
          "SOLCAN v. ROMANIA<br>Event",
          "SOLCAN v. ROMANIA<br>Event_who",
          "SOLCAN v. ROMANIA<br>Event_when",
          "SOLCAN v. ROMANIA<br>Event_what",
          "STANA v. ROMANIA<br>Event",
          "STANA v. ROMANIA<br>Event_who",
          "STANA v. ROMANIA<br>Event_when",
          "STANA v. ROMANIA<br>Event_what",
          "VISY v. SLOVAKIA<br>Event",
          "VISY v. SLOVAKIA<br>Event_who",
          "VISY v. SLOVAKIA<br>Event_when",
          "VISY v. SLOVAKIA<br>Event_what",
          "YAKUSHEV v. UKRAINE<br>Event",
          "YAKUSHEV v. UKRAINE<br>Event_who",
          "YAKUSHEV v. UKRAINE<br>Event_when",
          "YAKUSHEV v. UKRAINE<br>Event_what",
          "YERMAKOVICH v. RUSSIA<br>Event",
          "YERMAKOVICH v. RUSSIA<br>Event_who",
          "YERMAKOVICH v. RUSSIA<br>Event_when",
          "YERMAKOVICH v. RUSSIA<br>Event_what",
          "YEVGENIY ZAKHAROV v. RUSSIA<br>Event",
          "YEVGENIY ZAKHAROV v. RUSSIA<br>Event_who",
          "YEVGENIY ZAKHAROV v. RUSSIA<br>Event_when",
          "YEVGENIY ZAKHAROV v. RUSSIA<br>Event_what",
          "_NODI v. HUNGARY<br>Event",
          "_NODI v. HUNGARY<br>Event_who",
          "_NODI v. HUNGARY<br>Event_when",
          "_NODI v. HUNGARY<br>Event_what"
         ],
         "type": "scatter",
         "x": {
          "bdata": "GIZhGIZhuD8AAAAAAAAAABiGYRiGYbg/AAAAAAAAAAAcx3Ecx3G8PwAAAAAAAAAAAAAAAAAA2D8AAAAAAADAPxQ7sRM7sbM/AAAAAAAAAAAUO7ETO7GzPwAAAAAAAAAA+hicj8H5mD8AAAAAAAAAACivobyG8qo/AAAAAAAAAABVVVVVVVXVPwAAAAAAAAAAmpmZmZmZyT9eQ3kN5TXEP5IkSZIkSdI/GIZhGIZhqD9VVVVVVVXVP9mJndiJncg/VVVVVVVV5T8AAAAAAAAAAAAAAAAAANA/ERERERERsT8AAAAAAAAAAAAAAAAAAAAAAAAAAAAAAAAAAAAAAAAAAAAAAAAAAAAAAAAAAAAAAAAAAAAAAAAAAAAAAAAAAAAA0LrBFPmsmz8AAAAAAAAAAAgffPDBB58/+hicj8H5mD9VVVVVVVXVPwAAAAAAAAAAVVVVVVVV1T9GF1100UXHP7dt27Zt29Y/AAAAAAAAAACrqqqqqqriPwAAAAAAAAAAAAAAAAAAAABGF1100UW3PwAAAAAAAOQ/kiRJkiRJsj8AAAAAAAAAAAAAAAAAAAAAAAAAAAAAAAAAAAAAAAAAAAtZyEIWssA/AAAAAAAAAABGF1100UW3PwAAAAAAAAAAAAAAAAAA0D8UO7ETO7HDP5qZmZmZmdk/mpmZmZmZyT+rqqqqqqriPwAAAAAAANA/mpmZmZmZyT8AAAAAAADAPwAAAAAAAAAAAAAAAAAAAAAAAAAAAAAAAAAAAAAAAAAAAAAAAAAA0D8AAAAAAAAAANu2bdu2bcs/RhdddNFFpz8YhmEYhmGYPwAAAAAAAAAA+hicj8H5qD8AAAAAAAAAAAAAAAAAAAAAAAAAAAAAAAAAAAAAAAAAAAAAAAAAAAAAAAAAAAAAAAAAAAAAAAAAAAAAAAAAAAAAAAAAAAAAAAAUO7ETO7GzPwAAAAAAAAAAFDuxEzuxsz8AAAAAAAAAAJ7YiZ3Yic0/AAAAAAAAAAB00UUXXXTRPxzHcRzHcbw/VVVVVVVV5T8AAAAAAAAAAAAAAAAAAOA/RhdddNFFtz8AAAAAAAAAAAAAAAAAAAAARhdddNFFtz8AAAAAAAAAAKuqqqqqquI/RhdddNFFxz+amZmZmZnZPwAAAAAAAAAAERERERERoT8AAAAAAAAAABEREREREaE/AAAAAAAAAACXlpaWlpbWPwAAAAAAAAAARhdddNFF1z8AAAAAAAAAALbWWmuttdY/AAAAAAAAAABGF1100UXXPwAAAAAAAAAA",
>>>>>>> a813ab3a2a19b49bf703a1dc6fd99353356c8a2d
          "dtype": "f8"
         },
         "xaxis": "x3",
         "y": {
<<<<<<< HEAD
          "bdata": "mpmZmZmZuT8AAAAAAAAAAFVVVVVVVdU/AAAAAAAAAAAAAAAAAADAPwAAAAAAAAAA27Zt27Zt2z+SJEmSJEnSPwAAAAAAANA/AAAAAAAAAABVVVVVVVXVPwAAAAAAAAAAAAAAAAAAAAAAAAAAAAAAAAAAAAAAAAAAAAAAAAAAAAAAAAAAAAAAABzHcRzHcbw/chzHcRzH4T8AAAAAAADAPwAAAAAAAAAAAAAAAAAAAAAAAAAAAAAAAAAAAAAAAAAAAAAAAAAA8D8AAAAAAAAAAAAAAAAAAPA/AAAAAAAAAABVVVVVVVXVPwAAAAAAAAAA27Zt27Zt2z8AAAAAAADgP57YiZ3Yid0/AAAAAAAAAAAAAAAAAADgPwAAAAAAAAAAERERERERwT8AAAAAAAAAABEREREREcE/AAAAAAAAAAAAAAAAAAAAAAAAAAAAAAAAAAAAAAAAAAAAAAAAAAAAAAAAAAAAAAAAAAAAAAAAAAAAAAAAAAAAAAAAAAAAAAAAAAAAAAAAAAAAAAAAAAAAAFVVVVVVVcU/AAAAAAAAAACamZmZmZnJPxQ7sRM7scM/ERERERER0T8zMzMzMzPTP7dt27Zt29Y/AAAAAAAAAACxEzuxEzvhPwAAAAAAAAAAkiRJkiRJ0j8AAAAAAAAAAFVVVVVVVdU/AAAAAAAAwD+SJEmSJEniPwAAAAAAAAAAkiRJkiRJwj8AAAAAAADgPwAAAAAAANA/AAAAAAAAAABVVVVVVVXVPwAAAAAAAAAAq6qqqqqq4j8AAAAAAADgP1VVVVVVVdU/AAAAAAAAAABVVVVVVVXlPwAAAAAAAAAAVVVVVVVV5T8AAAAAAADwP7W0tLS0tOQ/AAAAAAAAAAAeHh4eHh7ePwAAAAAAAAAA3t3d3d3d3T8AAAAAAADQP5qZmZmZmdk/HMdxHMdxzD8AAAAAAADwPwAAAAAAAAAAAAAAAAAA8D8AAAAAAADwPwAAAAAAAAAAAAAAAAAAAAAAAAAAAAAAAAAAAAAAAAAAAAAAAAAA5D8AAAAAAAAAANu2bdu2bds/AAAAAAAA4D+amZmZmZnZP5qZmZmZmbk/AAAAAAAA4D+rqqqqqqraPwAAAAAAAAAAAAAAAAAAAAAAAAAAAAAAAAAAAAAAAAAA27Zt27Zt2z8AAAAAAAAAAKuqqqqqqto/HMdxHMdx3D8AAAAAAADYPwAAAAAAAAAAAAAAAAAA0D8AAAAAAAAAAJqZmZmZmak/AAAAAAAAAACamZmZmZm5PwAAAAAAAAAA",
=======
          "bdata": "ERERERERwT8AAAAAAAAAABEREREREcE/AAAAAAAAAAAAAAAAAADAPwAAAAAAAAAA27Zt27Zt2z+SJEmSJEnSPwAAAAAAAPA/AAAAAAAAAAAAAAAAAADwPwAAAAAAAAAAmpmZmZmZqT8AAAAAAAAAAJqZmZmZmbk/AAAAAAAAAAAAAAAAAADkPwAAAAAAAAAA27Zt27Zt2z8AAAAAAADgP5qZmZmZmdk/mpmZmZmZuT8AAAAAAADgP6uqqqqqqto/kiRJkiRJ4j8AAAAAAAAAAJIkSZIkScI/AAAAAAAA4D8AAAAAAAAAAAAAAAAAAAAAAAAAAAAAAAAAAAAAAAAAAAAAAAAAAAAAAAAAAAAAAAAAAAAAAAAAAAAAAAAAAAAAAAAAAAAA8D8AAAAAAAAAAAAAAAAAAPA/AAAAAAAA8D/btm3btm3bPwAAAAAAAAAAq6qqqqqq2j8cx3Ecx3HcP7dt27Zt29Y/AAAAAAAAAACxEzuxEzvhPwAAAAAAAAAAAAAAAAAAAAAcx3Ecx3G8P3Icx3Ecx+E/AAAAAAAAwD8AAAAAAAAAAAAAAAAAAAAAAAAAAAAAAAAAAAAAAAAAAAAAAAAAANg/AAAAAAAAAAAAAAAAAADQPwAAAAAAAAAAmpmZmZmZyT8UO7ETO7HDPxEREREREdE/MzMzMzMz0z/e3d3d3d3dPwAAAAAAANA/mpmZmZmZ2T8cx3Ecx3HMPwAAAAAAAAAAAAAAAAAAAAAAAAAAAAAAAAAAAAAAAAAAkiRJkiRJ0j8AAAAAAAAAAFVVVVVVVdU/AAAAAAAAwD+amZmZmZm5PwAAAAAAAAAAVVVVVVVV1T8AAAAAAAAAAAAAAAAAAAAAAAAAAAAAAAAAAAAAAAAAAAAAAAAAAAAAAAAAAAAAAAAAAAAAAAAAAAAAAAAAAAAAAAAAAAAAAAAAAAAAAADQPwAAAAAAAAAAVVVVVVVV1T8AAAAAAAAAAFVVVVVVVdU/AAAAAAAAAADbtm3btm3bPwAAAAAAAOA/VVVVVVVV5T8AAAAAAAAAAFVVVVVVVeU/AAAAAAAA8D8AAAAAAAAAAAAAAAAAAAAAVVVVVVVVxT8AAAAAAAAAAKuqqqqqquI/AAAAAAAA4D9VVVVVVVXVPwAAAAAAAAAAAAAAAAAA0D8AAAAAAAAAAFVVVVVVVdU/AAAAAAAAAACe2Imd2IndPwAAAAAAAAAAAAAAAAAA4D8AAAAAAAAAALW0tLS0tOQ/AAAAAAAAAAAeHh4eHh7ePwAAAAAAAAAA",
>>>>>>> a813ab3a2a19b49bf703a1dc6fd99353356c8a2d
          "dtype": "f8"
         },
         "yaxis": "y3"
        },
        {
         "hovertemplate": "<b>%{text}</b><br>Recall: %{x:.3f}<br>Precision: %{y:.3f}<extra></extra>",
         "legendgroup": "scatter",
         "marker": {
          "color": "#3498DB",
          "opacity": 0.7,
          "size": 8,
          "symbol": "circle"
         },
         "mode": "markers",
         "name": "gemma3:4b (docs)",
         "showlegend": true,
         "text": [
          "S.N. v. RUSSIA<br>Event",
          "S.N. v. RUSSIA<br>Event_who",
          "S.N. v. RUSSIA<br>Event_when",
          "S.N. v. RUSSIA<br>Event_what",
          "BELYAYEV AND OTHERS v. UKRAINE<br>Event",
          "BELYAYEV AND OTHERS v. UKRAINE<br>Event_who",
          "BELYAYEV AND OTHERS v. UKRAINE<br>Event_when",
          "BELYAYEV AND OTHERS v. UKRAINE<br>Event_what",
          "SIDOROVA v. RUSSIA<br>Event",
          "SIDOROVA v. RUSSIA<br>Event_who",
          "SIDOROVA v. RUSSIA<br>Event_when",
          "SIDOROVA v. RUSSIA<br>Event_what",
          "EGILL EINARSSON v. ICELAND (No. 2)<br>Event",
          "EGILL EINARSSON v. ICELAND (No. 2)<br>Event_who",
          "EGILL EINARSSON v. ICELAND (No. 2)<br>Event_when",
          "EGILL EINARSSON v. ICELAND (No. 2)<br>Event_what",
          "MOSKALEV v. RUSSIA<br>Event",
          "MOSKALEV v. RUSSIA<br>Event_who",
          "MOSKALEV v. RUSSIA<br>Event_when",
          "MOSKALEV v. RUSSIA<br>Event_what",
          "PANYUSHKINY v. RUSSIA<br>Event",
          "PANYUSHKINY v. RUSSIA<br>Event_who",
          "PANYUSHKINY v. RUSSIA<br>Event_when",
          "PANYUSHKINY v. RUSSIA<br>Event_what",
          "BIGUN v. UKRAINE<br>Event",
          "BIGUN v. UKRAINE<br>Event_who",
          "BIGUN v. UKRAINE<br>Event_when",
          "BIGUN v. UKRAINE<br>Event_what",
          "SOLCAN v. ROMANIA<br>Event",
          "SOLCAN v. ROMANIA<br>Event_who",
          "SOLCAN v. ROMANIA<br>Event_when",
          "SOLCAN v. ROMANIA<br>Event_what",
          "YEVGENIY ZAKHAROV v. RUSSIA<br>Event",
          "YEVGENIY ZAKHAROV v. RUSSIA<br>Event_who",
          "YEVGENIY ZAKHAROV v. RUSSIA<br>Event_when",
          "YEVGENIY ZAKHAROV v. RUSSIA<br>Event_what",
          "ALTAY v. TURKEY (No. 2)<br>Event",
          "ALTAY v. TURKEY (No. 2)<br>Event_who",
          "ALTAY v. TURKEY (No. 2)<br>Event_when",
          "ALTAY v. TURKEY (No. 2)<br>Event_what",
<<<<<<< HEAD
          "H_INESS v. NORWAY (1)<br>Event",
          "H_INESS v. NORWAY (1)<br>Event_who",
          "H_INESS v. NORWAY (1)<br>Event_when",
          "H_INESS v. NORWAY (1)<br>Event_what",
          "SHVIDKIYE v. RUSSIA<br>Event",
          "SHVIDKIYE v. RUSSIA<br>Event_who",
          "SHVIDKIYE v. RUSSIA<br>Event_when",
          "SHVIDKIYE v. RUSSIA<br>Event_what",
          "VISY v. SLOVAKIA<br>Event",
          "VISY v. SLOVAKIA<br>Event_who",
          "VISY v. SLOVAKIA<br>Event_when",
          "VISY v. SLOVAKIA<br>Event_what",
          "OTGON v. THE REPUBLIC OF MOLDOVA<br>Event",
          "OTGON v. THE REPUBLIC OF MOLDOVA<br>Event_who",
          "OTGON v. THE REPUBLIC OF MOLDOVA<br>Event_when",
          "OTGON v. THE REPUBLIC OF MOLDOVA<br>Event_what",
          "M.T. v. UKRAINE<br>Event",
          "M.T. v. UKRAINE<br>Event_who",
          "M.T. v. UKRAINE<br>Event_when",
          "M.T. v. UKRAINE<br>Event_what",
          "RESIN v. RUSSIA<br>Event",
          "RESIN v. RUSSIA<br>Event_who",
          "RESIN v. RUSSIA<br>Event_when",
          "RESIN v. RUSSIA<br>Event_what",
          "DOKTOROV v. BULGARIA<br>Event",
          "DOKTOROV v. BULGARIA<br>Event_who",
          "DOKTOROV v. BULGARIA<br>Event_when",
          "DOKTOROV v. BULGARIA<br>Event_what",
          "YERMAKOVICH v. RUSSIA<br>Event",
          "YERMAKOVICH v. RUSSIA<br>Event_who",
          "YERMAKOVICH v. RUSSIA<br>Event_when",
          "YERMAKOVICH v. RUSSIA<br>Event_what",
          "YAKUSHEV v. UKRAINE<br>Event",
          "YAKUSHEV v. UKRAINE<br>Event_who",
          "YAKUSHEV v. UKRAINE<br>Event_when",
          "YAKUSHEV v. UKRAINE<br>Event_what",
          "STANA v. ROMANIA<br>Event",
          "STANA v. ROMANIA<br>Event_who",
          "STANA v. ROMANIA<br>Event_when",
          "STANA v. ROMANIA<br>Event_what",
          "_NODI v. HUNGARY<br>Event",
          "_NODI v. HUNGARY<br>Event_who",
          "_NODI v. HUNGARY<br>Event_when",
          "_NODI v. HUNGARY<br>Event_what",
          "PAKHTUSOV v. RUSSIA<br>Event",
          "PAKHTUSOV v. RUSSIA<br>Event_who",
          "PAKHTUSOV v. RUSSIA<br>Event_when",
          "PAKHTUSOV v. RUSSIA<br>Event_what",
          "KOSAITE - CYPIENE AND OTHERS v. LITHUANIA<br>Event",
          "KOSAITE - CYPIENE AND OTHERS v. LITHUANIA<br>Event_who",
          "KOSAITE - CYPIENE AND OTHERS v. LITHUANIA<br>Event_when",
          "KOSAITE - CYPIENE AND OTHERS v. LITHUANIA<br>Event_what",
          "S.V. v. ITALY<br>Event",
          "S.V. v. ITALY<br>Event_who",
          "S.V. v. ITALY<br>Event_when",
          "S.V. v. ITALY<br>Event_what",
=======
          "BELYAYEV AND OTHERS v. UKRAINE<br>Event",
          "BELYAYEV AND OTHERS v. UKRAINE<br>Event_who",
          "BELYAYEV AND OTHERS v. UKRAINE<br>Event_when",
          "BELYAYEV AND OTHERS v. UKRAINE<br>Event_what",
          "BIGUN v. UKRAINE<br>Event",
          "BIGUN v. UKRAINE<br>Event_who",
          "BIGUN v. UKRAINE<br>Event_when",
          "BIGUN v. UKRAINE<br>Event_what",
          "CABUCAK v. GERMANY<br>Event",
          "CABUCAK v. GERMANY<br>Event_who",
          "CABUCAK v. GERMANY<br>Event_when",
          "CABUCAK v. GERMANY<br>Event_what",
>>>>>>> a813ab3a2a19b49bf703a1dc6fd99353356c8a2d
          "CAN v. TURKEY<br>Event",
          "CAN v. TURKEY<br>Event_who",
          "CAN v. TURKEY<br>Event_when",
          "CAN v. TURKEY<br>Event_what",
          "CRISTIAN CATALIN UNGUREANU v. ROMANIA<br>Event",
          "CRISTIAN CATALIN UNGUREANU v. ROMANIA<br>Event_who",
          "CRISTIAN CATALIN UNGUREANU v. ROMANIA<br>Event_when",
          "CRISTIAN CATALIN UNGUREANU v. ROMANIA<br>Event_what",
<<<<<<< HEAD
          "MURUZHEVA v. RUSSIA<br>Event",
          "MURUZHEVA v. RUSSIA<br>Event_who",
          "MURUZHEVA v. RUSSIA<br>Event_when",
          "MURUZHEVA v. RUSSIA<br>Event_what",
=======
          "DOKTOROV v. BULGARIA<br>Event",
          "DOKTOROV v. BULGARIA<br>Event_who",
          "DOKTOROV v. BULGARIA<br>Event_when",
          "DOKTOROV v. BULGARIA<br>Event_what",
          "EGILL EINARSSON v. ICELAND (No. 2)<br>Event",
          "EGILL EINARSSON v. ICELAND (No. 2)<br>Event_who",
          "EGILL EINARSSON v. ICELAND (No. 2)<br>Event_when",
          "EGILL EINARSSON v. ICELAND (No. 2)<br>Event_what",
          "H_INESS v. NORWAY (1)<br>Event",
          "H_INESS v. NORWAY (1)<br>Event_who",
          "H_INESS v. NORWAY (1)<br>Event_when",
          "H_INESS v. NORWAY (1)<br>Event_what",
          "KOSAITE - CYPIENE AND OTHERS v. LITHUANIA<br>Event",
          "KOSAITE - CYPIENE AND OTHERS v. LITHUANIA<br>Event_who",
          "KOSAITE - CYPIENE AND OTHERS v. LITHUANIA<br>Event_when",
          "KOSAITE - CYPIENE AND OTHERS v. LITHUANIA<br>Event_what",
>>>>>>> a813ab3a2a19b49bf703a1dc6fd99353356c8a2d
          "LOZOVYYE v. RUSSIA<br>Event",
          "LOZOVYYE v. RUSSIA<br>Event_who",
          "LOZOVYYE v. RUSSIA<br>Event_when",
          "LOZOVYYE v. RUSSIA<br>Event_what",
<<<<<<< HEAD
=======
          "M.T. v. UKRAINE<br>Event",
          "M.T. v. UKRAINE<br>Event_who",
          "M.T. v. UKRAINE<br>Event_when",
          "M.T. v. UKRAINE<br>Event_what",
          "MOSKALEV v. RUSSIA<br>Event",
          "MOSKALEV v. RUSSIA<br>Event_who",
          "MOSKALEV v. RUSSIA<br>Event_when",
          "MOSKALEV v. RUSSIA<br>Event_what",
          "MURUZHEVA v. RUSSIA<br>Event",
          "MURUZHEVA v. RUSSIA<br>Event_who",
          "MURUZHEVA v. RUSSIA<br>Event_when",
          "MURUZHEVA v. RUSSIA<br>Event_what",
>>>>>>> a813ab3a2a19b49bf703a1dc6fd99353356c8a2d
          "O.C.I. AND OTHERS v. ROMANIA<br>Event",
          "O.C.I. AND OTHERS v. ROMANIA<br>Event_who",
          "O.C.I. AND OTHERS v. ROMANIA<br>Event_when",
          "O.C.I. AND OTHERS v. ROMANIA<br>Event_what",
<<<<<<< HEAD
          "CABUCAK v. GERMANY<br>Event",
          "CABUCAK v. GERMANY<br>Event_who",
          "CABUCAK v. GERMANY<br>Event_when",
          "CABUCAK v. GERMANY<br>Event_what"
         ],
         "type": "scatter",
         "x": {
          "bdata": "AAAAAAAAAAAAAAAAAAAAAAAAAAAAAAAAAAAAAAAAAAAcx3Ecx3HMPwAAAAAAAAAAAAAAAAAAAAAAAAAAAAAAAAAAAAAAAAAAAAAAAAAAAAAAAAAAAAAAAAAAAAAAAAAA27Zt27Ztyz8AAAAAAAAAABQ7sRM7scM/ERERERERwT9ddNFFF13kP0YXXXTRRcc/AAAAAAAA5D+3bdu2bdvWPyebbLLJJss/CB988MEHnz8cx3Ecx3HMPwAAAAAAAAAA2Ymd2Imd2D8AAAAAAAAAAJ7YiZ3Yic0/HMdxHMdxvD+e2Imd2IndPwAAAAAAAAAARhdddNFFxz8cx3Ecx3G8P7W0tLS0tOQ/ERERERERwT8XXXTRRRfdPxiGYRiGYbg/nud5nud53j8or6G8hvKqP1VVVVVVVdU/mpmZmZmZuT/GGGOMMca4PwAAAAAAAAAAlnsaYbmnsT8d1EEd1EGdP3TRRRdddOE/AAAAAAAAAADNzMzMzMzcP2gvob2E9qI/mpmZmZmZ2T+SJEmSJEmyP3TRRRdddNE/GIZhGIZhuD8AAAAAAAAAAAAAAAAAAAAAAAAAAAAAAAAAAAAAAAAAAJIkSZIkSeI/VVVVVVVVtT8AAAAAAADgPyivobyG8so/AAAAAAAA1D8AAAAAAAAAAJIkSZIkSdI/RhdddNFFtz+rqqqqqqraPwAAAAAAAAAAAAAAAAAA2D8RERERERHBPxEREREREaE/AAAAAAAAAAARERERERGhPwAAAAAAAAAAAAAAAAAA4D900UUXXXTRPzMzMzMzM+M/AAAAAAAAyD+rqqqqqqrqP1VVVVVVVcU/AAAAAAAA4D900UUXXXTRP+ecc84559w/AAAAAAAAAABddNFFF13UP5qZmZmZmak/VVVVVVVV5T+rqqqqqqraPzMzMzMzM+M/AAAAAAAAyD/QusEU+ay7PwAAAAAAAAAACB988MEHnz8AAAAAAAAAAAAAAAAAAOA/AAAAAAAAAACxEzuxEzvhP3sUrkfherQ/vLu7u7u76z8RERERERGxP3d3d3d3d+c/Q3kN5TWU1z+SJEmSJEnCPwAAAAAAAAAAHMdxHMdxvD8UO7ETO7GjP1PWlDVlTdk/GIZhGIZhuD/HcRzHcRzXPzkFL6fg5ZQ/VVVVVVVV5T8cx3Ecx3G8PzMzMzMzM+M/XXTRRRdd1D84velNb3rTPwAAAAAAAAAARhdddNFFxz98GmG5pxHGPzgfg/MxOL8/AAAAAAAAAAB5DeU1lNfAPwAAAAAAAAAA",
=======
          "OTGON v. THE REPUBLIC OF MOLDOVA<br>Event",
          "OTGON v. THE REPUBLIC OF MOLDOVA<br>Event_who",
          "OTGON v. THE REPUBLIC OF MOLDOVA<br>Event_when",
          "OTGON v. THE REPUBLIC OF MOLDOVA<br>Event_what",
          "PAKHTUSOV v. RUSSIA<br>Event",
          "PAKHTUSOV v. RUSSIA<br>Event_who",
          "PAKHTUSOV v. RUSSIA<br>Event_when",
          "PAKHTUSOV v. RUSSIA<br>Event_what",
          "PANYUSHKINY v. RUSSIA<br>Event",
          "PANYUSHKINY v. RUSSIA<br>Event_who",
          "PANYUSHKINY v. RUSSIA<br>Event_when",
          "PANYUSHKINY v. RUSSIA<br>Event_what",
          "RESIN v. RUSSIA<br>Event",
          "RESIN v. RUSSIA<br>Event_who",
          "RESIN v. RUSSIA<br>Event_when",
          "RESIN v. RUSSIA<br>Event_what",
          "S.N. v. RUSSIA<br>Event",
          "S.N. v. RUSSIA<br>Event_who",
          "S.N. v. RUSSIA<br>Event_when",
          "S.N. v. RUSSIA<br>Event_what",
          "S.V. v. ITALY<br>Event",
          "S.V. v. ITALY<br>Event_who",
          "S.V. v. ITALY<br>Event_when",
          "S.V. v. ITALY<br>Event_what",
          "SHVIDKIYE v. RUSSIA<br>Event",
          "SHVIDKIYE v. RUSSIA<br>Event_who",
          "SHVIDKIYE v. RUSSIA<br>Event_when",
          "SHVIDKIYE v. RUSSIA<br>Event_what",
          "SIDOROVA v. RUSSIA<br>Event",
          "SIDOROVA v. RUSSIA<br>Event_who",
          "SIDOROVA v. RUSSIA<br>Event_when",
          "SIDOROVA v. RUSSIA<br>Event_what",
          "SOLCAN v. ROMANIA<br>Event",
          "SOLCAN v. ROMANIA<br>Event_who",
          "SOLCAN v. ROMANIA<br>Event_when",
          "SOLCAN v. ROMANIA<br>Event_what",
          "STANA v. ROMANIA<br>Event",
          "STANA v. ROMANIA<br>Event_who",
          "STANA v. ROMANIA<br>Event_when",
          "STANA v. ROMANIA<br>Event_what",
          "VISY v. SLOVAKIA<br>Event",
          "VISY v. SLOVAKIA<br>Event_who",
          "VISY v. SLOVAKIA<br>Event_when",
          "VISY v. SLOVAKIA<br>Event_what",
          "YAKUSHEV v. UKRAINE<br>Event",
          "YAKUSHEV v. UKRAINE<br>Event_who",
          "YAKUSHEV v. UKRAINE<br>Event_when",
          "YAKUSHEV v. UKRAINE<br>Event_what",
          "YERMAKOVICH v. RUSSIA<br>Event",
          "YERMAKOVICH v. RUSSIA<br>Event_who",
          "YERMAKOVICH v. RUSSIA<br>Event_when",
          "YERMAKOVICH v. RUSSIA<br>Event_what",
          "YEVGENIY ZAKHAROV v. RUSSIA<br>Event",
          "YEVGENIY ZAKHAROV v. RUSSIA<br>Event_who",
          "YEVGENIY ZAKHAROV v. RUSSIA<br>Event_when",
          "YEVGENIY ZAKHAROV v. RUSSIA<br>Event_what",
          "_NODI v. HUNGARY<br>Event",
          "_NODI v. HUNGARY<br>Event_who",
          "_NODI v. HUNGARY<br>Event_when",
          "_NODI v. HUNGARY<br>Event_what"
         ],
         "type": "scatter",
         "x": {
          "bdata": "nud5nud53j8or6G8hvKqP1VVVVVVVdU/mpmZmZmZuT8cx3Ecx3HMPwAAAAAAAAAAAAAAAAAAAAAAAAAAAAAAANmJndiJndg/AAAAAAAAAACe2Imd2InNPxzHcRzHcbw/OB+D8zE4vz8AAAAAAAAAAHkN5TWU18A/AAAAAAAAAAC8u7u7u7vrPxEREREREbE/d3d3d3d35z9DeQ3lNZTXP5IkSZIkScI/AAAAAAAAAAAcx3Ecx3G8PxQ7sRM7saM/q6qqqqqq2j8AAAAAAAAAAAAAAAAAANg/ERERERERwT/btm3btm3LPwAAAAAAAAAAFDuxEzuxwz8RERERERHBP8YYY4wxxrg/AAAAAAAAAACWexphuaexPx3UQR3UQZ0/0LrBFPmsuz8AAAAAAAAAAAgffPDBB58/AAAAAAAAAABVVVVVVVXlPxzHcRzHcbw/MzMzMzMz4z9ddNFFF13UP5IkSZIkSeI/VVVVVVVVtT8AAAAAAADgPyivobyG8so/XXTRRRdd5D9GF1100UXHPwAAAAAAAOQ/t23btm3b1j9T1pQ1ZU3ZPxiGYRiGYbg/x3Ecx3Ec1z85BS+n4OWUPzi96U1vetM/AAAAAAAAAABGF1100UXHP3waYbmnEcY/AAAAAAAAAAAAAAAAAAAAAAAAAAAAAAAAAAAAAAAAAABVVVVVVVXlP6uqqqqqqto/MzMzMzMz4z8AAAAAAADIPyebbLLJJss/CB988MEHnz8cx3Ecx3HMPwAAAAAAAAAAAAAAAAAA1D8AAAAAAAAAAJIkSZIkSdI/RhdddNFFtz8AAAAAAAAAAAAAAAAAAAAAAAAAAAAAAAAAAAAAAAAAAAAAAAAAAOA/AAAAAAAAAACxEzuxEzvhP3sUrkfherQ/dNFFF1104T8AAAAAAAAAAM3MzMzMzNw/aC+hvYT2oj8AAAAAAAAAAAAAAAAAAAAAAAAAAAAAAAAAAAAAAAAAAJ7YiZ3Yid0/AAAAAAAAAABGF1100UXHPxzHcRzHcbw/q6qqqqqq6j9VVVVVVVXFPwAAAAAAAOA/dNFFF1100T+amZmZmZnZP5IkSZIkSbI/dNFFF1100T8YhmEYhmG4PwAAAAAAAOA/dNFFF1100T8zMzMzMzPjPwAAAAAAAMg/ERERERERoT8AAAAAAAAAABEREREREaE/AAAAAAAAAAC1tLS0tLTkPxEREREREcE/F1100UUX3T8YhmEYhmG4P+ecc84559w/AAAAAAAAAABddNFFF13UP5qZmZmZmak/",
>>>>>>> a813ab3a2a19b49bf703a1dc6fd99353356c8a2d
          "dtype": "f8"
         },
         "xaxis": "x3",
         "y": {
<<<<<<< HEAD
          "bdata": "AAAAAAAAAAAAAAAAAAAAAAAAAAAAAAAAAAAAAAAAAABVVVVVVVXVPwAAAAAAAAAAAAAAAAAAAAAAAAAAAAAAAAAAAAAAAAAAAAAAAAAAAAAAAAAAAAAAAAAAAAAAAAAAMzMzMzMz4z8AAAAAAAAAAAAAAAAAAPA/AAAAAAAA4D8AAAAAAADcP0YXXXTRRcc/AAAAAAAA5D9VVVVVVVXVP7ETO7ETO9E/ZCELWchCpj8AAAAAAADQPwAAAAAAAAAA09LS0tLS0j8AAAAAAAAAAJ7YiZ3Yic0/AAAAAAAA0D9VVVVVVVXVPwAAAAAAAAAAAAAAAAAA4D8RERERERHBP3d3d3d3d+c/RhdddNFFxz+3bdu2bdvmP1VVVVVVVeU/AAAAAAAA5D8AAAAAAACwP1100UUXXeQ/27Zt27Zt2z9VVVVVVVXVPwAAAAAAAAAAkiRJkiRJ0j8AAAAAAADwP5qZmZmZmek/AAAAAAAAAADNzMzMzMzsPwAAAAAAAOA/AAAAAAAA2D8RERERERGxP9u2bdu2bds/VVVVVVVV1T8AAAAAAAAAAAAAAAAAAAAAAAAAAAAAAAAAAAAAAAAAABzHcRzHcdw/kiRJkiRJsj9VVVVVVVXlP0YXXXTRRdc/t23btm3b5j8AAAAAAAAAAAAAAAAAAPA/AAAAAAAA4D9yHMdxHMfhPwAAAAAAAAAAVVVVVVVV1T8AAAAAAADgPwAAAAAAAOA/AAAAAAAAAAAAAAAAAADgPwAAAAAAAAAAAAAAAAAA4D8AAAAAAADQPwAAAAAAAOA/AAAAAAAA4D9yHMdxHMfhPwAAAAAAAMA/VVVVVVVV5T8zMzMzMzPjPzi96U1veuM/AAAAAAAAAABmZmZmZmbWP0YXXXTRRcc/kiRJkiRJ0j9CewntJbTHP5qZmZmZmdk/mpmZmZmZyT+amZmZmZnpPwAAAAAAAAAAAAAAAAAA8D8AAAAAAAAAAHZiJ3ZiJ+Y/AAAAAAAAAABddNFFF13kP1VVVVVVVeU/vLu7u7u76z8RERERERGxP3d3d3d3d+c/ZmZmZmZm5j8AAAAAAADYPwAAAAAAAAAAAAAAAAAA4D+amZmZmZnJP7rooosuuug/Hh4eHh4ezj/NzMzMzMzkPwAAAAAAAOA/l5aWlpaW5j9VVVVVVVXFP83MzMzMzOw/sRM7sRM74T9ddNFFF13kPwAAAAAAAAAAmpmZmZmZ6T9yHMdxHMfhP1VVVVVVVdU/AAAAAAAAAAC3bdu2bdvWPwAAAAAAAAAA",
=======
          "bdata": "AAAAAAAA5D8AAAAAAACwP1100UUXXeQ/27Zt27Zt2z9VVVVVVVXVPwAAAAAAAAAAAAAAAAAAAAAAAAAAAAAAANPS0tLS0tI/AAAAAAAAAACe2Imd2InNPwAAAAAAANA/VVVVVVVV1T8AAAAAAAAAALdt27Zt29Y/AAAAAAAAAAC8u7u7u7vrPxEREREREbE/d3d3d3d35z9mZmZmZmbmPwAAAAAAANg/AAAAAAAAAAAAAAAAAADgP5qZmZmZmck/chzHcRzH4T8AAAAAAAAAAFVVVVVVVdU/AAAAAAAA4D8zMzMzMzPjPwAAAAAAAAAAAAAAAAAA8D8AAAAAAADgP1VVVVVVVdU/AAAAAAAAAACSJEmSJEnSPwAAAAAAAPA/mpmZmZmZ6T8AAAAAAAAAAAAAAAAAAPA/AAAAAAAAAACXlpaWlpbmP1VVVVVVVcU/zczMzMzM7D+xEzuxEzvhPxzHcRzHcdw/kiRJkiRJsj9VVVVVVVXlP0YXXXTRRdc/AAAAAAAA3D9GF1100UXHPwAAAAAAAOQ/VVVVVVVV1T+66KKLLrroPx4eHh4eHs4/zczMzMzM5D8AAAAAAADgP1100UUXXeQ/AAAAAAAAAACamZmZmZnpP3Icx3Ecx+E/AAAAAAAAAAAAAAAAAAAAAAAAAAAAAAAAAAAAAAAAAACSJEmSJEnSP0J7Ce0ltMc/mpmZmZmZ2T+amZmZmZnJP7ETO7ETO9E/ZCELWchCpj8AAAAAAADQPwAAAAAAAAAAt23btm3b5j8AAAAAAAAAAAAAAAAAAPA/AAAAAAAA4D8AAAAAAAAAAAAAAAAAAAAAAAAAAAAAAAAAAAAAAAAAAHZiJ3ZiJ+Y/AAAAAAAAAABddNFFF13kP1VVVVVVVeU/mpmZmZmZ6T8AAAAAAAAAAM3MzMzMzOw/AAAAAAAA4D8AAAAAAAAAAAAAAAAAAAAAAAAAAAAAAAAAAAAAAAAAAFVVVVVVVdU/AAAAAAAAAAAAAAAAAADgPxEREREREcE/chzHcRzH4T8AAAAAAADAP1VVVVVVVeU/MzMzMzMz4z8AAAAAAADYPxEREREREbE/27Zt27Zt2z9VVVVVVVXVPwAAAAAAAOA/AAAAAAAA0D8AAAAAAADgPwAAAAAAAOA/AAAAAAAA4D8AAAAAAAAAAAAAAAAAAOA/AAAAAAAAAAB3d3d3d3fnP0YXXXTRRcc/t23btm3b5j9VVVVVVVXlPzi96U1veuM/AAAAAAAAAABmZmZmZmbWP0YXXXTRRcc/",
>>>>>>> a813ab3a2a19b49bf703a1dc6fd99353356c8a2d
          "dtype": "f8"
         },
         "yaxis": "y3"
        },
        {
         "hovertemplate": "<b>%{text}</b><br>Recall: %{x:.3f}<br>Precision: %{y:.3f}<extra></extra>",
         "legendgroup": "scatter",
         "marker": {
          "color": "#2ECC71",
          "opacity": 0.7,
          "size": 8,
          "symbol": "circle"
         },
         "mode": "markers",
         "name": "gemma3:12b (docs)",
         "showlegend": true,
         "text": [
          "S.N. v. RUSSIA<br>Event",
          "S.N. v. RUSSIA<br>Event_who",
          "S.N. v. RUSSIA<br>Event_when",
          "S.N. v. RUSSIA<br>Event_what",
          "BELYAYEV AND OTHERS v. UKRAINE<br>Event",
          "BELYAYEV AND OTHERS v. UKRAINE<br>Event_who",
          "BELYAYEV AND OTHERS v. UKRAINE<br>Event_when",
          "BELYAYEV AND OTHERS v. UKRAINE<br>Event_what",
          "SIDOROVA v. RUSSIA<br>Event",
          "SIDOROVA v. RUSSIA<br>Event_who",
          "SIDOROVA v. RUSSIA<br>Event_when",
          "SIDOROVA v. RUSSIA<br>Event_what",
          "EGILL EINARSSON v. ICELAND (No. 2)<br>Event",
          "EGILL EINARSSON v. ICELAND (No. 2)<br>Event_who",
          "EGILL EINARSSON v. ICELAND (No. 2)<br>Event_when",
          "EGILL EINARSSON v. ICELAND (No. 2)<br>Event_what",
          "MOSKALEV v. RUSSIA<br>Event",
          "MOSKALEV v. RUSSIA<br>Event_who",
          "MOSKALEV v. RUSSIA<br>Event_when",
          "MOSKALEV v. RUSSIA<br>Event_what",
          "PANYUSHKINY v. RUSSIA<br>Event",
          "PANYUSHKINY v. RUSSIA<br>Event_who",
          "PANYUSHKINY v. RUSSIA<br>Event_when",
          "PANYUSHKINY v. RUSSIA<br>Event_what",
          "BIGUN v. UKRAINE<br>Event",
          "BIGUN v. UKRAINE<br>Event_who",
          "BIGUN v. UKRAINE<br>Event_when",
          "BIGUN v. UKRAINE<br>Event_what",
          "SOLCAN v. ROMANIA<br>Event",
          "SOLCAN v. ROMANIA<br>Event_who",
          "SOLCAN v. ROMANIA<br>Event_when",
          "SOLCAN v. ROMANIA<br>Event_what",
          "YEVGENIY ZAKHAROV v. RUSSIA<br>Event",
          "YEVGENIY ZAKHAROV v. RUSSIA<br>Event_who",
          "YEVGENIY ZAKHAROV v. RUSSIA<br>Event_when",
          "YEVGENIY ZAKHAROV v. RUSSIA<br>Event_what",
          "ALTAY v. TURKEY (No. 2)<br>Event",
          "ALTAY v. TURKEY (No. 2)<br>Event_who",
          "ALTAY v. TURKEY (No. 2)<br>Event_when",
          "ALTAY v. TURKEY (No. 2)<br>Event_what",
<<<<<<< HEAD
          "H_INESS v. NORWAY (1)<br>Event",
          "H_INESS v. NORWAY (1)<br>Event_who",
          "H_INESS v. NORWAY (1)<br>Event_when",
          "H_INESS v. NORWAY (1)<br>Event_what",
          "SHVIDKIYE v. RUSSIA<br>Event",
          "SHVIDKIYE v. RUSSIA<br>Event_who",
          "SHVIDKIYE v. RUSSIA<br>Event_when",
          "SHVIDKIYE v. RUSSIA<br>Event_what",
          "VISY v. SLOVAKIA<br>Event",
          "VISY v. SLOVAKIA<br>Event_who",
          "VISY v. SLOVAKIA<br>Event_when",
          "VISY v. SLOVAKIA<br>Event_what",
          "OTGON v. THE REPUBLIC OF MOLDOVA<br>Event",
          "OTGON v. THE REPUBLIC OF MOLDOVA<br>Event_who",
          "OTGON v. THE REPUBLIC OF MOLDOVA<br>Event_when",
          "OTGON v. THE REPUBLIC OF MOLDOVA<br>Event_what",
          "M.T. v. UKRAINE<br>Event",
          "M.T. v. UKRAINE<br>Event_who",
          "M.T. v. UKRAINE<br>Event_when",
          "M.T. v. UKRAINE<br>Event_what",
          "RESIN v. RUSSIA<br>Event",
          "RESIN v. RUSSIA<br>Event_who",
          "RESIN v. RUSSIA<br>Event_when",
          "RESIN v. RUSSIA<br>Event_what",
          "DOKTOROV v. BULGARIA<br>Event",
          "DOKTOROV v. BULGARIA<br>Event_who",
          "DOKTOROV v. BULGARIA<br>Event_when",
          "DOKTOROV v. BULGARIA<br>Event_what",
          "YERMAKOVICH v. RUSSIA<br>Event",
          "YERMAKOVICH v. RUSSIA<br>Event_who",
          "YERMAKOVICH v. RUSSIA<br>Event_when",
          "YERMAKOVICH v. RUSSIA<br>Event_what",
          "YAKUSHEV v. UKRAINE<br>Event",
          "YAKUSHEV v. UKRAINE<br>Event_who",
          "YAKUSHEV v. UKRAINE<br>Event_when",
          "YAKUSHEV v. UKRAINE<br>Event_what",
          "STANA v. ROMANIA<br>Event",
          "STANA v. ROMANIA<br>Event_who",
          "STANA v. ROMANIA<br>Event_when",
          "STANA v. ROMANIA<br>Event_what",
          "_NODI v. HUNGARY<br>Event",
          "_NODI v. HUNGARY<br>Event_who",
          "_NODI v. HUNGARY<br>Event_when",
          "_NODI v. HUNGARY<br>Event_what",
          "PAKHTUSOV v. RUSSIA<br>Event",
          "PAKHTUSOV v. RUSSIA<br>Event_who",
          "PAKHTUSOV v. RUSSIA<br>Event_when",
          "PAKHTUSOV v. RUSSIA<br>Event_what",
          "KOSAITE - CYPIENE AND OTHERS v. LITHUANIA<br>Event",
          "KOSAITE - CYPIENE AND OTHERS v. LITHUANIA<br>Event_who",
          "KOSAITE - CYPIENE AND OTHERS v. LITHUANIA<br>Event_when",
          "KOSAITE - CYPIENE AND OTHERS v. LITHUANIA<br>Event_what",
          "S.V. v. ITALY<br>Event",
          "S.V. v. ITALY<br>Event_who",
          "S.V. v. ITALY<br>Event_when",
          "S.V. v. ITALY<br>Event_what",
=======
          "BELYAYEV AND OTHERS v. UKRAINE<br>Event",
          "BELYAYEV AND OTHERS v. UKRAINE<br>Event_who",
          "BELYAYEV AND OTHERS v. UKRAINE<br>Event_when",
          "BELYAYEV AND OTHERS v. UKRAINE<br>Event_what",
          "BIGUN v. UKRAINE<br>Event",
          "BIGUN v. UKRAINE<br>Event_who",
          "BIGUN v. UKRAINE<br>Event_when",
          "BIGUN v. UKRAINE<br>Event_what",
          "CABUCAK v. GERMANY<br>Event",
          "CABUCAK v. GERMANY<br>Event_who",
          "CABUCAK v. GERMANY<br>Event_when",
          "CABUCAK v. GERMANY<br>Event_what",
>>>>>>> a813ab3a2a19b49bf703a1dc6fd99353356c8a2d
          "CAN v. TURKEY<br>Event",
          "CAN v. TURKEY<br>Event_who",
          "CAN v. TURKEY<br>Event_when",
          "CAN v. TURKEY<br>Event_what",
          "CRISTIAN CATALIN UNGUREANU v. ROMANIA<br>Event",
          "CRISTIAN CATALIN UNGUREANU v. ROMANIA<br>Event_who",
          "CRISTIAN CATALIN UNGUREANU v. ROMANIA<br>Event_when",
          "CRISTIAN CATALIN UNGUREANU v. ROMANIA<br>Event_what",
<<<<<<< HEAD
          "MURUZHEVA v. RUSSIA<br>Event",
          "MURUZHEVA v. RUSSIA<br>Event_who",
          "MURUZHEVA v. RUSSIA<br>Event_when",
          "MURUZHEVA v. RUSSIA<br>Event_what",
=======
          "DOKTOROV v. BULGARIA<br>Event",
          "DOKTOROV v. BULGARIA<br>Event_who",
          "DOKTOROV v. BULGARIA<br>Event_when",
          "DOKTOROV v. BULGARIA<br>Event_what",
          "EGILL EINARSSON v. ICELAND (No. 2)<br>Event",
          "EGILL EINARSSON v. ICELAND (No. 2)<br>Event_who",
          "EGILL EINARSSON v. ICELAND (No. 2)<br>Event_when",
          "EGILL EINARSSON v. ICELAND (No. 2)<br>Event_what",
          "H_INESS v. NORWAY (1)<br>Event",
          "H_INESS v. NORWAY (1)<br>Event_who",
          "H_INESS v. NORWAY (1)<br>Event_when",
          "H_INESS v. NORWAY (1)<br>Event_what",
          "KOSAITE - CYPIENE AND OTHERS v. LITHUANIA<br>Event",
          "KOSAITE - CYPIENE AND OTHERS v. LITHUANIA<br>Event_who",
          "KOSAITE - CYPIENE AND OTHERS v. LITHUANIA<br>Event_when",
          "KOSAITE - CYPIENE AND OTHERS v. LITHUANIA<br>Event_what",
>>>>>>> a813ab3a2a19b49bf703a1dc6fd99353356c8a2d
          "LOZOVYYE v. RUSSIA<br>Event",
          "LOZOVYYE v. RUSSIA<br>Event_who",
          "LOZOVYYE v. RUSSIA<br>Event_when",
          "LOZOVYYE v. RUSSIA<br>Event_what",
<<<<<<< HEAD
=======
          "M.T. v. UKRAINE<br>Event",
          "M.T. v. UKRAINE<br>Event_who",
          "M.T. v. UKRAINE<br>Event_when",
          "M.T. v. UKRAINE<br>Event_what",
          "MOSKALEV v. RUSSIA<br>Event",
          "MOSKALEV v. RUSSIA<br>Event_who",
          "MOSKALEV v. RUSSIA<br>Event_when",
          "MOSKALEV v. RUSSIA<br>Event_what",
          "MURUZHEVA v. RUSSIA<br>Event",
          "MURUZHEVA v. RUSSIA<br>Event_who",
          "MURUZHEVA v. RUSSIA<br>Event_when",
          "MURUZHEVA v. RUSSIA<br>Event_what",
>>>>>>> a813ab3a2a19b49bf703a1dc6fd99353356c8a2d
          "O.C.I. AND OTHERS v. ROMANIA<br>Event",
          "O.C.I. AND OTHERS v. ROMANIA<br>Event_who",
          "O.C.I. AND OTHERS v. ROMANIA<br>Event_when",
          "O.C.I. AND OTHERS v. ROMANIA<br>Event_what",
<<<<<<< HEAD
          "CABUCAK v. GERMANY<br>Event",
          "CABUCAK v. GERMANY<br>Event_who",
          "CABUCAK v. GERMANY<br>Event_when",
          "CABUCAK v. GERMANY<br>Event_what"
         ],
         "type": "scatter",
         "x": {
          "bdata": "GIZhGIZhmD+amZmZmZmZPwAAAAAAAAAARhdddNFFlz85juM4juPoPwAAAAAAAMA/AAAAAAAA0D8AAAAAAADAP3ZiJ3ZiJ+Y/sRM7sRM74T8UO7ETO7HDP5qZmZmZmdk/27Zt27Zt2z8UO7ETO7HDP57YiZ3Yid0/VVVVVVVV1T900UUXXXThP0YXXXTRRcc/AAAAAAAA4D+SJEmSJEnSP0422WSTTeY/ZZNNNtlkwz8vob2E9hLqPzmO4ziO49g/2Ymd2Imd2D8UO7ETO7GzP57YiZ3Yic0/chzHcRzH0T8UO7ETO7HjP9mJndiJndg/XXTRRRdd5D8cx3Ecx3HMPx4eHh4eHs4/ERERERERwT9GF1100UXXP5IkSZIkScI/9DzP8zzP4z9eQ3kN5TXEPzEMwzAMw+A/ERERERERsT+EEEIIIYTgPwAAAAAAANA/3dMIyz2N4D8WX/EVX/HFP1100UUXXdQ/RhdddNFFxz8zMzMzMzPTP0J7Ce0ltMc/ERERERER4T+SJEmSJEmyP0YXXXTRRdc/GIZhGIZhuD+rqqqqqqrqP9mJndiJndg/MzMzMzMz4z8zMzMzMzPjP9u2bdu2bds/VVVVVVVVtT+rqqqqqqraP3kN5TWU19A/AAAAAAAA4j8AAAAAAAAAALdt27Zt29Y/XXTRRRdd1D+rqqqqqqriP0YXXXTRRcc/AAAAAAAA4D+amZmZmZnJP5qZmZmZmbk/ERERERERoT8RERERERGxPyivobyG8qo/AAAAAAAA6D8XXXTRRRfdP5qZmZmZmek/AAAAAAAA3D8AAAAAAADgP1VVVVVVVcU/AAAAAAAA4D9GF1100UXXP/jee++9994/mpmZmZmZuT900UUXXXThPwAAAAAAANA/AAAAAAAA6D8AAAAAAADgPzMzMzMzM+M/AAAAAAAA1D/QusEU+aybPwAAAAAAAAAACB988MEHnz/6GJyPwfmYP3Icx3Ecx+E/VVVVVVVVxT8UO7ETO7HjP+xRuB6F69E/AAAAAAAA8D+amZmZmZnJP5qZmZmZmek/bCivobyG4j+SJEmSJEniP5IkSZIkScI/AAAAAAAA4D92Yid2YifWP5U1ZU1ZU9Y/kiRJkiRJwj85juM4juPYP5IkSZIkScI/VVVVVVVV5T85juM4juPYPxEREREREcE/XXTRRRdd1D+RhSxkIQvZPwtZyEIWssA/RhdddNFF1z9HWO5phOXOP/oYnI/B+dg/zczMzMzMzD8or6G8hvLaP3fEHXFH3ME/",
=======
          "OTGON v. THE REPUBLIC OF MOLDOVA<br>Event",
          "OTGON v. THE REPUBLIC OF MOLDOVA<br>Event_who",
          "OTGON v. THE REPUBLIC OF MOLDOVA<br>Event_when",
          "OTGON v. THE REPUBLIC OF MOLDOVA<br>Event_what",
          "PAKHTUSOV v. RUSSIA<br>Event",
          "PAKHTUSOV v. RUSSIA<br>Event_who",
          "PAKHTUSOV v. RUSSIA<br>Event_when",
          "PAKHTUSOV v. RUSSIA<br>Event_what",
          "PANYUSHKINY v. RUSSIA<br>Event",
          "PANYUSHKINY v. RUSSIA<br>Event_who",
          "PANYUSHKINY v. RUSSIA<br>Event_when",
          "PANYUSHKINY v. RUSSIA<br>Event_what",
          "RESIN v. RUSSIA<br>Event",
          "RESIN v. RUSSIA<br>Event_who",
          "RESIN v. RUSSIA<br>Event_when",
          "RESIN v. RUSSIA<br>Event_what",
          "S.N. v. RUSSIA<br>Event",
          "S.N. v. RUSSIA<br>Event_who",
          "S.N. v. RUSSIA<br>Event_when",
          "S.N. v. RUSSIA<br>Event_what",
          "S.V. v. ITALY<br>Event",
          "S.V. v. ITALY<br>Event_who",
          "S.V. v. ITALY<br>Event_when",
          "S.V. v. ITALY<br>Event_what",
          "SHVIDKIYE v. RUSSIA<br>Event",
          "SHVIDKIYE v. RUSSIA<br>Event_who",
          "SHVIDKIYE v. RUSSIA<br>Event_when",
          "SHVIDKIYE v. RUSSIA<br>Event_what",
          "SIDOROVA v. RUSSIA<br>Event",
          "SIDOROVA v. RUSSIA<br>Event_who",
          "SIDOROVA v. RUSSIA<br>Event_when",
          "SIDOROVA v. RUSSIA<br>Event_what",
          "SOLCAN v. ROMANIA<br>Event",
          "SOLCAN v. ROMANIA<br>Event_who",
          "SOLCAN v. ROMANIA<br>Event_when",
          "SOLCAN v. ROMANIA<br>Event_what",
          "STANA v. ROMANIA<br>Event",
          "STANA v. ROMANIA<br>Event_who",
          "STANA v. ROMANIA<br>Event_when",
          "STANA v. ROMANIA<br>Event_what",
          "VISY v. SLOVAKIA<br>Event",
          "VISY v. SLOVAKIA<br>Event_who",
          "VISY v. SLOVAKIA<br>Event_when",
          "VISY v. SLOVAKIA<br>Event_what",
          "YAKUSHEV v. UKRAINE<br>Event",
          "YAKUSHEV v. UKRAINE<br>Event_who",
          "YAKUSHEV v. UKRAINE<br>Event_when",
          "YAKUSHEV v. UKRAINE<br>Event_what",
          "YERMAKOVICH v. RUSSIA<br>Event",
          "YERMAKOVICH v. RUSSIA<br>Event_who",
          "YERMAKOVICH v. RUSSIA<br>Event_when",
          "YERMAKOVICH v. RUSSIA<br>Event_what",
          "YEVGENIY ZAKHAROV v. RUSSIA<br>Event",
          "YEVGENIY ZAKHAROV v. RUSSIA<br>Event_who",
          "YEVGENIY ZAKHAROV v. RUSSIA<br>Event_when",
          "YEVGENIY ZAKHAROV v. RUSSIA<br>Event_what",
          "_NODI v. HUNGARY<br>Event",
          "_NODI v. HUNGARY<br>Event_who",
          "_NODI v. HUNGARY<br>Event_when",
          "_NODI v. HUNGARY<br>Event_what"
         ],
         "type": "scatter",
         "x": {
          "bdata": "9DzP8zzP4z9eQ3kN5TXEPzEMwzAMw+A/ERERERERsT85juM4juPoPwAAAAAAAMA/AAAAAAAA0D8AAAAAAADAP9mJndiJndg/FDuxEzuxsz+e2Imd2InNP3Icx3Ecx9E/+hicj8H52D/NzMzMzMzMPyivobyG8to/d8QdcUfcwT8AAAAAAADwP5qZmZmZmck/mpmZmZmZ6T9sKK+hvIbiP5IkSZIkSeI/kiRJkiRJwj8AAAAAAADgP3ZiJ3ZiJ9Y/q6qqqqqq4j9GF1100UXHPwAAAAAAAOA/mpmZmZmZyT/btm3btm3bPxQ7sRM7scM/ntiJndiJ3T9VVVVVVVXVP4QQQgghhOA/AAAAAAAA0D/d0wjLPY3gPxZf8RVf8cU/0LrBFPmsmz8AAAAAAAAAAAgffPDBB58/+hicj8H5mD9VVVVVVVXlPzmO4ziO49g/ERERERERwT9ddNFFF13UP9u2bdu2bds/VVVVVVVVtT+rqqqqqqraP3kN5TWU19A/dNFFF1104T9GF1100UXHPwAAAAAAAOA/kiRJkiRJ0j+VNWVNWVPWP5IkSZIkScI/OY7jOI7j2D+SJEmSJEnCP5GFLGQhC9k/C1nIQhaywD9GF1100UXXP0dY7mmE5c4/q6qqqqqq6j/ZiZ3YiZ3YPzMzMzMzM+M/MzMzMzMz4z8AAAAAAADoPwAAAAAAAOA/MzMzMzMz4z8AAAAAAADUP0422WSTTeY/ZZNNNtlkwz8vob2E9hLqPzmO4ziO49g/AAAAAAAA4j8AAAAAAAAAALdt27Zt29Y/XXTRRRdd1D8YhmEYhmGYP5qZmZmZmZk/AAAAAAAAAABGF1100UWXP3Icx3Ecx+E/VVVVVVVVxT8UO7ETO7HjP+xRuB6F69E/XXTRRRdd1D9GF1100UXHPzMzMzMzM9M/QnsJ7SW0xz92Yid2YifmP7ETO7ETO+E/FDuxEzuxwz+amZmZmZnZPxQ7sRM7seM/2Ymd2Imd2D9ddNFFF13kPxzHcRzHccw/AAAAAAAA4D9VVVVVVVXFPwAAAAAAAOA/RhdddNFF1z8RERERERHhP5IkSZIkSbI/RhdddNFF1z8YhmEYhmG4PwAAAAAAAOg/F1100UUX3T+amZmZmZnpPwAAAAAAANw/mpmZmZmZuT8RERERERGhPxEREREREbE/KK+hvIbyqj8eHh4eHh7OPxEREREREcE/RhdddNFF1z+SJEmSJEnCP/jee++9994/mpmZmZmZuT900UUXXXThPwAAAAAAANA/",
>>>>>>> a813ab3a2a19b49bf703a1dc6fd99353356c8a2d
          "dtype": "f8"
         },
         "xaxis": "x3",
         "y": {
<<<<<<< HEAD
          "bdata": "VVVVVVVVxT9VVVVVVVXFPwAAAAAAAAAAVVVVVVVVxT8AAAAAAADgPxQ7sRM7sbM/mpmZmZmZyT+SJEmSJEnCPwAAAAAAAOg/q6qqqqqq4j9VVVVVVVXlPzMzMzMzM+M/VVVVVVVV5T8cx3Ecx3HMP9u2bdu2bes/chzHcRzH4T9VVVVVVVXlPxzHcRzHccw/mpmZmZmZ6T+SJEmSJEniP6uqqqqqqu4/velNb3rTyz9VVVVVVVXtP2ZmZmZmZuY/AAAAAAAA1D+SJEmSJEmyPwAAAAAAANg/q6qqqqqq2j8cx3Ecx3HsP3Icx3Ecx+E/OY7jOI7j6D8AAAAAAADgP1VVVVVVVeU/VVVVVVVV1T+amZmZmZnpPwAAAAAAAOA/btu2bdu27T/btm3btm3LP0mSJEmSJOk/kiRJkiRJwj+amZmZmZnpP5qZmZmZmdk/NpTXUF5D6T8zMzMzMzPTP1100UUXXeQ/HMdxHMdx3D/btm3btm3rPwAAAAAAAOA/mpmZmZmZ6T+amZmZmZm5P1VVVVVVVeU/mpmZmZmZyT+96U1vetPbP73pTW9608s/AAAAAAAA6D/NzMzMzMzcP1VVVVVVVeU/AAAAAAAAwD+rqqqqqqrqPwAAAAAAAOQ/L7rooosu6j8AAAAAAAAAAKuqqqqqquo/XXTRRRdd5D9mZmZmZmbmP5qZmZmZmck/HMdxHMdx3D8zMzMzMzPTPwAAAAAAAOA/VVVVVVVVxT9VVVVVVVXVP5qZmZmZmdk/AAAAAAAA6D+rqqqqqqraP1VVVVVVVeU/q6qqqqqq4j/btm3btm3bP5IkSZIkScI/VVVVVVVV1T+SJEmSJEniPzMzMzMzM+M/C1nIQhaywD9VVVVVVVXlP3kN5TWU1+A/dmIndmIn5j900UUXXXThPwAAAAAAAOg/AAAAAAAA5D8AAAAAAADwPwAAAAAAAAAAAAAAAAAA8D8AAAAAAADwP7dt27Zt2+Y/27Zt27Ztyz9GF1100UXnPwAAAAAAAOA/NpTXUF5D6T+amZmZmZnJP5qZmZmZmek/5DiO4ziO4z900UUXXXThP3TRRRdddME/JUmSJEmS5D8N5TWU11DePzw8PDw8POw/l5aWlpaW1j/e3d3d3d3tP7ETO7ETO+E/AAAAAAAA6D8AAAAAAADcP5qZmZmZmdk/XXTRRRdd5D/NzMzMzMzsPzMzMzMzM9M/AAAAAAAA8D9mZmZmZmbmPyivobyG8uo/DeU1lNdQ3j8cx3Ecx3HsP1VVVVVVVdU/",
=======
          "bdata": "btu2bdu27T/btm3btm3LP0mSJEmSJOk/kiRJkiRJwj8AAAAAAADgPxQ7sRM7sbM/mpmZmZmZyT+SJEmSJEnCPwAAAAAAANQ/kiRJkiRJsj8AAAAAAADYP6uqqqqqqto/KK+hvIby6j8N5TWU11DePxzHcRzHcew/VVVVVVVV1T82lNdQXkPpP5qZmZmZmck/mpmZmZmZ6T/kOI7jOI7jP3TRRRdddOE/dNFFF110wT8lSZIkSZLkPw3lNZTXUN4/ZmZmZmZm5j+amZmZmZnJPxzHcRzHcdw/MzMzMzMz0z9VVVVVVVXlPxzHcRzHccw/27Zt27Zt6z9yHMdxHMfhP5qZmZmZmek/mpmZmZmZ2T82lNdQXkPpPzMzMzMzM9M/AAAAAAAA8D8AAAAAAAAAAAAAAAAAAPA/AAAAAAAA8D8AAAAAAADoPwAAAAAAANw/mpmZmZmZ2T9ddNFFF13kP1VVVVVVVeU/AAAAAAAAwD+rqqqqqqrqPwAAAAAAAOQ/VVVVVVVV5T8cx3Ecx3HMP5qZmZmZmek/kiRJkiRJ4j88PDw8PDzsP5eWlpaWltY/3t3d3d3d7T+xEzuxEzvhP83MzMzMzOw/MzMzMzMz0z8AAAAAAADwP2ZmZmZmZuY/velNb3rT2z+96U1vetPLPwAAAAAAAOg/zczMzMzM3D92Yid2YifmP3TRRRdddOE/AAAAAAAA6D8AAAAAAADkP6uqqqqqqu4/velNb3rTyz9VVVVVVVXtP2ZmZmZmZuY/L7rooosu6j8AAAAAAAAAAKuqqqqqquo/XXTRRRdd5D9VVVVVVVXFP1VVVVVVVcU/AAAAAAAAAABVVVVVVVXFP7dt27Zt2+Y/27Zt27Ztyz9GF1100UXnPwAAAAAAAOA/XXTRRRdd5D8cx3Ecx3HcP9u2bdu2bes/AAAAAAAA4D8AAAAAAADoP6uqqqqqquI/VVVVVVVV5T8zMzMzMzPjPxzHcRzHcew/chzHcRzH4T85juM4juPoPwAAAAAAAOA/27Zt27Zt2z+SJEmSJEnCP1VVVVVVVdU/kiRJkiRJ4j+amZmZmZnpP5qZmZmZmbk/VVVVVVVV5T+amZmZmZnJPwAAAAAAAOg/q6qqqqqq2j9VVVVVVVXlP6uqqqqqquI/AAAAAAAA4D9VVVVVVVXFP1VVVVVVVdU/mpmZmZmZ2T9VVVVVVVXlP1VVVVVVVdU/mpmZmZmZ6T8AAAAAAADgPzMzMzMzM+M/C1nIQhaywD9VVVVVVVXlP3kN5TWU1+A/",
>>>>>>> a813ab3a2a19b49bf703a1dc6fd99353356c8a2d
          "dtype": "f8"
         },
         "yaxis": "y3"
        },
        {
         "hovertemplate": "<b>%{text}</b><br>Recall: %{x:.3f}<br>Precision: %{y:.3f}<extra></extra>",
         "legendgroup": "scatter",
         "marker": {
          "color": "#F39C12",
          "opacity": 0.7,
          "size": 8,
          "symbol": "circle"
         },
         "mode": "markers",
         "name": "llama3.3:latest (docs)",
         "showlegend": true,
         "text": [
          "ALTAY v. TURKEY (No. 2)<br>Event",
          "ALTAY v. TURKEY (No. 2)<br>Event_who",
          "ALTAY v. TURKEY (No. 2)<br>Event_when",
          "ALTAY v. TURKEY (No. 2)<br>Event_what",
          "BELYAYEV AND OTHERS v. UKRAINE<br>Event",
          "BELYAYEV AND OTHERS v. UKRAINE<br>Event_who",
          "BELYAYEV AND OTHERS v. UKRAINE<br>Event_when",
          "BELYAYEV AND OTHERS v. UKRAINE<br>Event_what",
          "BIGUN v. UKRAINE<br>Event",
          "BIGUN v. UKRAINE<br>Event_who",
          "BIGUN v. UKRAINE<br>Event_when",
          "BIGUN v. UKRAINE<br>Event_what",
          "CABUCAK v. GERMANY<br>Event",
          "CABUCAK v. GERMANY<br>Event_who",
          "CABUCAK v. GERMANY<br>Event_when",
          "CABUCAK v. GERMANY<br>Event_what",
          "CAN v. TURKEY<br>Event",
          "CAN v. TURKEY<br>Event_who",
          "CAN v. TURKEY<br>Event_when",
          "CAN v. TURKEY<br>Event_what",
          "CRISTIAN CATALIN UNGUREANU v. ROMANIA<br>Event",
          "CRISTIAN CATALIN UNGUREANU v. ROMANIA<br>Event_who",
          "CRISTIAN CATALIN UNGUREANU v. ROMANIA<br>Event_when",
          "CRISTIAN CATALIN UNGUREANU v. ROMANIA<br>Event_what",
          "DOKTOROV v. BULGARIA<br>Event",
          "DOKTOROV v. BULGARIA<br>Event_who",
          "DOKTOROV v. BULGARIA<br>Event_when",
          "DOKTOROV v. BULGARIA<br>Event_what",
          "EGILL EINARSSON v. ICELAND (No. 2)<br>Event",
          "EGILL EINARSSON v. ICELAND (No. 2)<br>Event_who",
          "EGILL EINARSSON v. ICELAND (No. 2)<br>Event_when",
          "EGILL EINARSSON v. ICELAND (No. 2)<br>Event_what",
          "H_INESS v. NORWAY (1)<br>Event",
          "H_INESS v. NORWAY (1)<br>Event_who",
          "H_INESS v. NORWAY (1)<br>Event_when",
          "H_INESS v. NORWAY (1)<br>Event_what",
          "KOSAITE - CYPIENE AND OTHERS v. LITHUANIA<br>Event",
          "KOSAITE - CYPIENE AND OTHERS v. LITHUANIA<br>Event_who",
          "KOSAITE - CYPIENE AND OTHERS v. LITHUANIA<br>Event_when",
          "KOSAITE - CYPIENE AND OTHERS v. LITHUANIA<br>Event_what",
          "LOZOVYYE v. RUSSIA<br>Event",
          "LOZOVYYE v. RUSSIA<br>Event_who",
          "LOZOVYYE v. RUSSIA<br>Event_when",
          "LOZOVYYE v. RUSSIA<br>Event_what",
          "M.T. v. UKRAINE<br>Event",
          "M.T. v. UKRAINE<br>Event_who",
          "M.T. v. UKRAINE<br>Event_when",
          "M.T. v. UKRAINE<br>Event_what",
          "MOSKALEV v. RUSSIA<br>Event",
          "MOSKALEV v. RUSSIA<br>Event_who",
          "MOSKALEV v. RUSSIA<br>Event_when",
          "MOSKALEV v. RUSSIA<br>Event_what",
          "MURUZHEVA v. RUSSIA<br>Event",
          "MURUZHEVA v. RUSSIA<br>Event_who",
          "MURUZHEVA v. RUSSIA<br>Event_when",
          "MURUZHEVA v. RUSSIA<br>Event_what",
          "O.C.I. AND OTHERS v. ROMANIA<br>Event",
          "O.C.I. AND OTHERS v. ROMANIA<br>Event_who",
          "O.C.I. AND OTHERS v. ROMANIA<br>Event_when",
          "O.C.I. AND OTHERS v. ROMANIA<br>Event_what",
          "OTGON v. THE REPUBLIC OF MOLDOVA<br>Event",
          "OTGON v. THE REPUBLIC OF MOLDOVA<br>Event_who",
          "OTGON v. THE REPUBLIC OF MOLDOVA<br>Event_when",
          "OTGON v. THE REPUBLIC OF MOLDOVA<br>Event_what",
          "PAKHTUSOV v. RUSSIA<br>Event",
          "PAKHTUSOV v. RUSSIA<br>Event_who",
          "PAKHTUSOV v. RUSSIA<br>Event_when",
          "PAKHTUSOV v. RUSSIA<br>Event_what",
          "PANYUSHKINY v. RUSSIA<br>Event",
          "PANYUSHKINY v. RUSSIA<br>Event_who",
          "PANYUSHKINY v. RUSSIA<br>Event_when",
          "PANYUSHKINY v. RUSSIA<br>Event_what",
          "RESIN v. RUSSIA<br>Event",
          "RESIN v. RUSSIA<br>Event_who",
          "RESIN v. RUSSIA<br>Event_when",
          "RESIN v. RUSSIA<br>Event_what",
          "S.N. v. RUSSIA<br>Event",
          "S.N. v. RUSSIA<br>Event_who",
          "S.N. v. RUSSIA<br>Event_when",
          "S.N. v. RUSSIA<br>Event_what",
          "S.V. v. ITALY<br>Event",
          "S.V. v. ITALY<br>Event_who",
          "S.V. v. ITALY<br>Event_when",
          "S.V. v. ITALY<br>Event_what",
          "SHVIDKIYE v. RUSSIA<br>Event",
          "SHVIDKIYE v. RUSSIA<br>Event_who",
          "SHVIDKIYE v. RUSSIA<br>Event_when",
          "SHVIDKIYE v. RUSSIA<br>Event_what",
          "SIDOROVA v. RUSSIA<br>Event",
          "SIDOROVA v. RUSSIA<br>Event_who",
          "SIDOROVA v. RUSSIA<br>Event_when",
          "SIDOROVA v. RUSSIA<br>Event_what",
          "SOLCAN v. ROMANIA<br>Event",
          "SOLCAN v. ROMANIA<br>Event_who",
          "SOLCAN v. ROMANIA<br>Event_when",
          "SOLCAN v. ROMANIA<br>Event_what",
          "STANA v. ROMANIA<br>Event",
          "STANA v. ROMANIA<br>Event_who",
          "STANA v. ROMANIA<br>Event_when",
          "STANA v. ROMANIA<br>Event_what",
          "VISY v. SLOVAKIA<br>Event",
          "VISY v. SLOVAKIA<br>Event_who",
          "VISY v. SLOVAKIA<br>Event_when",
          "VISY v. SLOVAKIA<br>Event_what",
          "YAKUSHEV v. UKRAINE<br>Event",
          "YAKUSHEV v. UKRAINE<br>Event_who",
          "YAKUSHEV v. UKRAINE<br>Event_when",
          "YAKUSHEV v. UKRAINE<br>Event_what",
          "YERMAKOVICH v. RUSSIA<br>Event",
          "YERMAKOVICH v. RUSSIA<br>Event_who",
          "YERMAKOVICH v. RUSSIA<br>Event_when",
          "YERMAKOVICH v. RUSSIA<br>Event_what",
          "YEVGENIY ZAKHAROV v. RUSSIA<br>Event",
          "YEVGENIY ZAKHAROV v. RUSSIA<br>Event_who",
          "YEVGENIY ZAKHAROV v. RUSSIA<br>Event_when",
          "YEVGENIY ZAKHAROV v. RUSSIA<br>Event_what",
          "_NODI v. HUNGARY<br>Event",
          "_NODI v. HUNGARY<br>Event_who",
          "_NODI v. HUNGARY<br>Event_when",
          "_NODI v. HUNGARY<br>Event_what"
         ],
         "type": "scatter",
         "x": {
          "bdata": "t23btm3b5j9eQ3kN5TXEP1VVVVVVVeU/mpmZmZmZ2T9VVVVVVVXVPwAAAAAAAAAAAAAAAAAAAAAAAAAAAADIP57YiZ3Yie0/FDuxEzuxsz+e2Imd2IndPzmO4ziO49g/AAAAAAAAAAAAAAAAAAAAAAAAAAAAAAAAAAAAAAAAAADe3d3d3d3tPxEREREREbE/vLu7u7u76z8or6G8hvLqP57neZ7ned4/GIZhGIZhqD8cx3Ecx3HcPxQ7sRM7sdM/q6qqqqqq4j9GF1100UXHPwAAAAAAAOg/ERERERER0T+3bdu2bdvmP9mJndiJndg/dmIndmIn5j8RERERERHhP4QQQgghhKA/AAAAAAAAAACWexphuaehPwAAAAAAAAAAAAAAAAAAAAAAAAAAAAAAAAAAAAAAAAAAAAAAAAAAAADkOI7jOI7jP1VVVVVVVdU/VVVVVVVV5T8AAAAAAADgP7dt27Zt29Y/VVVVVVVVtT8AAAAAAADQP0N5DeU1lNc/L7rooosu6j9GF1100UXHPwAAAAAAAOg/t23btm3b5j82ZU1ZU9bkP5IkSZIkScI/5DiO4ziO4z/btm3btm3bP05vetOb3uQ/C1nIQhaywD/poosuuujiP0dY7mmE5d4/AAAAAAAA4D8UO7ETO7HDPwAAAAAAAOA/ERERERER4T8AAAAAAADwP6uqqqqqqto/mpmZmZmZ6T8AAAAAAADgPzbZZJNNNuk/ZZNNNtlkwz8mtJfQXkLrP47jOI7jOOY/AAAAAAAA7D8AAAAAAAAAAJIkSZIkSdI/F1100UUX3T8YhmEYhmGYPwAAAAAAAAAAAAAAAAAAAAAAAAAAAAAAAFVVVVVVVeU/VVVVVVVVxT92Yid2YifmPylcj8L1KNw/0UUXXXTR5T900UUXXXTBP2ZmZmZmZuY/ewntJbSX4D8UO7ETO7HDPxQ7sRM7sbM/FDuxEzuxwz8RERERERHBPxQ7sRM7seM/ntiJndiJzT9GF1100UXXP3Icx3Ecx9E/AAAAAAAA8D9VVVVVVVXFPwAAAAAAAOg/F1100UUX3T93d3d3d3fnP5IkSZIkScI/RhdddNFF5z+e53me53nePwAAAAAAAOg/dNFFF1100T9mZmZmZmbmPwAAAAAAAOI/d3d3d3d35z/e3d3d3d3dP2ZmZmZmZuY/8xrKayiv4T8eHh4eHh7ePxEREREREdE/dNFFF1104T8YhmEYhmHYP6211lprreU/ERERERERsT9ddNFFF13UP2ZmZmZmZt4/",
          "dtype": "f8"
         },
         "xaxis": "x3",
         "y": {
          "bdata": "3dMIyz2N4D+4HoXrUbi+PwAAAAAAAOw/uB6F61G43j/btm3btm3bPwAAAAAAAAAAAAAAAAAAAAAzMzMzMzPjP3TRRRdddOE/mpmZmZmZuT8zMzMzMzPjP1100UUXXeQ/AAAAAAAAAAAAAAAAAAAAAAAAAAAAAAAAAAAAAAAAAABDeQ3lNZTnPxEREREREbE/AAAAAAAA6j8eHh4eHh7uP7dt27Zt2+Y/AAAAAAAAwD+amZmZmZnpP5IkSZIkSeI/AAAAAAAA7D+SJEmSJEnSPwAAAAAAAOg/VVVVVVVV5T9yHMdxHMfhP1VVVVVVVdU/zczMzMzM7D8cx3Ecx3HcPwAAAAAAAPA/AAAAAAAAAAAAAAAAAADwPwAAAAAAAAAAAAAAAAAAAAAAAAAAAAAAAAAAAAAAAAAAAAAAAAAAAAC1tLS0tLTkP9u2bdu2bds/q6qqqqqq6j8AAAAAAADmPwAAAAAAAOA/VVVVVVVVxT8AAAAAAADoP2ZmZmZmZuY/MzMzMzMz4z9VVVVVVVXFP9u2bdu2bes/VVVVVVVV5T/blahdidrlP3TRRRdddNE/6k1vetOb7j85juM4juPoP6uqqqqqquo/27Zt27Ztyz9u27Zt27btP1paWlpaWuo/dNFFF1104T+SJEmSJEnSP6uqqqqqquo/RhdddNFF5z+SJEmSJEniP6uqqqqqqto/HMdxHMdx7D8UO7ETO7HjPwntJbSX0O4/mpmZmZmZyT/sxE7sxE7sP0/sxE7sxO4/ZmZmZmZm1j8AAAAAAAAAAJqZmZmZmek/2Ymd2Imd6D8AAAAAAADQPwAAAAAAAAAAAAAAAAAAAAAAAAAAAAAAAJqZmZmZmek/mpmZmZmZyT/NzMzMzMzsP0mSJEmSJOk/PDw8PDw87D8AAAAAAADIP97d3d3d3e0/WlpaWlpa6j9VVVVVVVXlP1VVVVVVVdU/VVVVVVVV5T9VVVVVVVXlPxzHcRzHcew/27Zt27Zt2z+amZmZmZnpP6uqqqqqquo/AAAAAAAA8D+amZmZmZnJPwAAAAAAAPA/AAAAAAAA8D8KxlvZ55DKPxQ7sRM7sbM/ERERERER4T+IxvrQWB/KP83MzMzMzOw/VVVVVVVV1T8AAAAAAADsP83MzMzMzOw/6k1vetOb7j9ddNFFF13kP4wuuuiii+4/jC666KKL7j+amZmZmZnpP5qZmZmZmdk/27Zt27Zt6z+amZmZmZnpP8TDw8PDw+M/ZCELWchCtj9mZmZmZmbmP1K4HoXrUeg/",
          "dtype": "f8"
         },
         "yaxis": "y3"
        },
        {
         "hovertemplate": "<b>%{text}</b><br>Recall: %{x:.3f}<br>Precision: %{y:.3f}<extra></extra>",
         "legendgroup": "scatter",
         "marker": {
          "color": "#9B59B6",
          "opacity": 0.7,
          "size": 8,
          "symbol": "circle"
         },
         "mode": "markers",
         "name": "deepseek-r1:8b (docs)",
         "showlegend": true,
         "text": [
          "ALTAY v. TURKEY (No. 2)<br>Event",
          "ALTAY v. TURKEY (No. 2)<br>Event_who",
          "ALTAY v. TURKEY (No. 2)<br>Event_when",
          "ALTAY v. TURKEY (No. 2)<br>Event_what",
          "BELYAYEV AND OTHERS v. UKRAINE<br>Event",
          "BELYAYEV AND OTHERS v. UKRAINE<br>Event_who",
          "BELYAYEV AND OTHERS v. UKRAINE<br>Event_when",
          "BELYAYEV AND OTHERS v. UKRAINE<br>Event_what",
          "BIGUN v. UKRAINE<br>Event",
          "BIGUN v. UKRAINE<br>Event_who",
          "BIGUN v. UKRAINE<br>Event_when",
          "BIGUN v. UKRAINE<br>Event_what",
          "CABUCAK v. GERMANY<br>Event",
          "CABUCAK v. GERMANY<br>Event_who",
          "CABUCAK v. GERMANY<br>Event_when",
          "CABUCAK v. GERMANY<br>Event_what",
          "CAN v. TURKEY<br>Event",
          "CAN v. TURKEY<br>Event_who",
          "CAN v. TURKEY<br>Event_when",
          "CAN v. TURKEY<br>Event_what",
          "CRISTIAN CATALIN UNGUREANU v. ROMANIA<br>Event",
          "CRISTIAN CATALIN UNGUREANU v. ROMANIA<br>Event_who",
          "CRISTIAN CATALIN UNGUREANU v. ROMANIA<br>Event_when",
          "CRISTIAN CATALIN UNGUREANU v. ROMANIA<br>Event_what",
          "DOKTOROV v. BULGARIA<br>Event",
          "DOKTOROV v. BULGARIA<br>Event_who",
          "DOKTOROV v. BULGARIA<br>Event_when",
          "DOKTOROV v. BULGARIA<br>Event_what",
          "EGILL EINARSSON v. ICELAND (No. 2)<br>Event",
          "EGILL EINARSSON v. ICELAND (No. 2)<br>Event_who",
          "EGILL EINARSSON v. ICELAND (No. 2)<br>Event_when",
          "EGILL EINARSSON v. ICELAND (No. 2)<br>Event_what",
          "H_INESS v. NORWAY (1)<br>Event",
          "H_INESS v. NORWAY (1)<br>Event_who",
          "H_INESS v. NORWAY (1)<br>Event_when",
          "H_INESS v. NORWAY (1)<br>Event_what",
          "KOSAITE - CYPIENE AND OTHERS v. LITHUANIA<br>Event",
          "KOSAITE - CYPIENE AND OTHERS v. LITHUANIA<br>Event_who",
          "KOSAITE - CYPIENE AND OTHERS v. LITHUANIA<br>Event_when",
          "KOSAITE - CYPIENE AND OTHERS v. LITHUANIA<br>Event_what",
          "LOZOVYYE v. RUSSIA<br>Event",
          "LOZOVYYE v. RUSSIA<br>Event_who",
          "LOZOVYYE v. RUSSIA<br>Event_when",
          "LOZOVYYE v. RUSSIA<br>Event_what",
          "M.T. v. UKRAINE<br>Event",
          "M.T. v. UKRAINE<br>Event_who",
          "M.T. v. UKRAINE<br>Event_when",
          "M.T. v. UKRAINE<br>Event_what",
          "MOSKALEV v. RUSSIA<br>Event",
          "MOSKALEV v. RUSSIA<br>Event_who",
          "MOSKALEV v. RUSSIA<br>Event_when",
          "MOSKALEV v. RUSSIA<br>Event_what",
          "MURUZHEVA v. RUSSIA<br>Event",
          "MURUZHEVA v. RUSSIA<br>Event_who",
          "MURUZHEVA v. RUSSIA<br>Event_when",
          "MURUZHEVA v. RUSSIA<br>Event_what",
          "O.C.I. AND OTHERS v. ROMANIA<br>Event",
          "O.C.I. AND OTHERS v. ROMANIA<br>Event_who",
          "O.C.I. AND OTHERS v. ROMANIA<br>Event_when",
          "O.C.I. AND OTHERS v. ROMANIA<br>Event_what",
          "OTGON v. THE REPUBLIC OF MOLDOVA<br>Event",
          "OTGON v. THE REPUBLIC OF MOLDOVA<br>Event_who",
          "OTGON v. THE REPUBLIC OF MOLDOVA<br>Event_when",
          "OTGON v. THE REPUBLIC OF MOLDOVA<br>Event_what",
          "PAKHTUSOV v. RUSSIA<br>Event",
          "PAKHTUSOV v. RUSSIA<br>Event_who",
          "PAKHTUSOV v. RUSSIA<br>Event_when",
          "PAKHTUSOV v. RUSSIA<br>Event_what",
          "PANYUSHKINY v. RUSSIA<br>Event",
          "PANYUSHKINY v. RUSSIA<br>Event_who",
          "PANYUSHKINY v. RUSSIA<br>Event_when",
          "PANYUSHKINY v. RUSSIA<br>Event_what",
          "RESIN v. RUSSIA<br>Event",
          "RESIN v. RUSSIA<br>Event_who",
          "RESIN v. RUSSIA<br>Event_when",
          "RESIN v. RUSSIA<br>Event_what",
          "S.N. v. RUSSIA<br>Event",
          "S.N. v. RUSSIA<br>Event_who",
          "S.N. v. RUSSIA<br>Event_when",
          "S.N. v. RUSSIA<br>Event_what",
          "S.V. v. ITALY<br>Event",
          "S.V. v. ITALY<br>Event_who",
          "S.V. v. ITALY<br>Event_when",
          "S.V. v. ITALY<br>Event_what",
          "SHVIDKIYE v. RUSSIA<br>Event",
          "SHVIDKIYE v. RUSSIA<br>Event_who",
          "SHVIDKIYE v. RUSSIA<br>Event_when",
          "SHVIDKIYE v. RUSSIA<br>Event_what",
          "SIDOROVA v. RUSSIA<br>Event",
          "SIDOROVA v. RUSSIA<br>Event_who",
          "SIDOROVA v. RUSSIA<br>Event_when",
          "SIDOROVA v. RUSSIA<br>Event_what",
          "SOLCAN v. ROMANIA<br>Event",
          "SOLCAN v. ROMANIA<br>Event_who",
          "SOLCAN v. ROMANIA<br>Event_when",
          "SOLCAN v. ROMANIA<br>Event_what",
          "STANA v. ROMANIA<br>Event",
          "STANA v. ROMANIA<br>Event_who",
          "STANA v. ROMANIA<br>Event_when",
          "STANA v. ROMANIA<br>Event_what",
          "VISY v. SLOVAKIA<br>Event",
          "VISY v. SLOVAKIA<br>Event_who",
          "VISY v. SLOVAKIA<br>Event_when",
          "VISY v. SLOVAKIA<br>Event_what",
          "YAKUSHEV v. UKRAINE<br>Event",
          "YAKUSHEV v. UKRAINE<br>Event_who",
          "YAKUSHEV v. UKRAINE<br>Event_when",
          "YAKUSHEV v. UKRAINE<br>Event_what",
          "YERMAKOVICH v. RUSSIA<br>Event",
          "YERMAKOVICH v. RUSSIA<br>Event_who",
          "YERMAKOVICH v. RUSSIA<br>Event_when",
          "YERMAKOVICH v. RUSSIA<br>Event_what",
          "YEVGENIY ZAKHAROV v. RUSSIA<br>Event",
          "YEVGENIY ZAKHAROV v. RUSSIA<br>Event_who",
          "YEVGENIY ZAKHAROV v. RUSSIA<br>Event_when",
          "YEVGENIY ZAKHAROV v. RUSSIA<br>Event_what",
          "_NODI v. HUNGARY<br>Event",
          "_NODI v. HUNGARY<br>Event_who",
          "_NODI v. HUNGARY<br>Event_when",
          "_NODI v. HUNGARY<br>Event_what"
         ],
         "type": "scatter",
         "x": {
          "bdata": "VVVVVVVV1T8AAAAAAAAAAJIkSZIkSdI/mpmZmZmZuT8cx3Ecx3HMPwAAAAAAAAAAAAAAAAAAAAAAAAAAAAAAAHZiJ3ZiJ+Y/AAAAAAAAAADZiZ3YiZ3YP1VVVVVVVdU/uxK1K1G7wj+amZmZmZmpPyivobyG8ro/d8QdcUfcsT93d3d3d3fnPwAAAAAAAAAAVVVVVVVV5T8N5TWU11DeP9u2bdu2bds/GIZhGIZhqD9VVVVVVVXFP57YiZ3Yib0/VVVVVVVV1T8AAAAAAAAAAAAAAAAAANA/ERERERERwT/btm3btm3bPwAAAAAAAAAAntiJndiJ3T8RERERERHRP4QQQgghhNA/AAAAAAAAAACWexphuafRPxZf8RVf8cU/HEyRz7rBxD8AAAAAAAAAAGWTTTbZZMM/+hicj8H5qD8AAAAAAADgPxzHcRzHccw/ERERERER4T9GF1100UXHP5IkSZIkSbI/VVVVVVVVtT9VVVVVVVW1PyivobyG8qo/RhdddNFFxz9GF1100UW3PwAAAAAAANA/kiRJkiRJwj82ZU1ZU9bUPwAAAAAAAAAAVVVVVVVV1T/Wh8b60Fi/PwtZyEIWssA/ZCELWchCpj8AAAAAAAAAAJZ7GmG5p6E/AAAAAAAA4D8UO7ETO7GzPwAAAAAAAOA/VVVVVVVV1T9VVVVVVVXVP1VVVVVVVbU/mpmZmZmZyT8AAAAAAADAP3zwwQcffOA/CB988MEHnz8vob2E9hLaPwAAAAAAANA/AAAAAAAA2D8AAAAAAAAAANu2bdu2bds/RhdddNFFxz+SJEmSJEmyPwAAAAAAAAAAAAAAAAAAAABGF1100UWXPwAAAAAAAOA/HMdxHMdxvD/ZiZ3YiZ3YP+xRuB6F69E/6aKLLrro4j900UUXXXTBPzMzMzMzM9M/L6G9hPYS2j+e2Imd2InNPwAAAAAAAAAAFDuxEzuxwz+amZmZmZnJPxQ7sRM7seM/ntiJndiJzT8XXXTRRRfdP3Icx3Ecx9E/AAAAAAAA8D8AAAAAAAAAAAAAAAAAAOg/dNFFF1100T8RERERERHRPwAAAAAAAAAARhdddNFFtz8AAAAAAAAAAAAAAAAAAAAAAAAAAAAAAAAAAAAAAAAAAAAAAAAAAAAAERERERERwT8AAAAAAAAAABEREREREcE/KK+hvIbyuj8eHh4eHh7OPxEREREREcE/dNFFF1100T+SJEmSJEnCP6211lprreU/AAAAAAAAAAAvuuiiiy7aPwAAAAAAANg/",
          "dtype": "f8"
         },
         "xaxis": "x3",
         "y": {
          "bdata": "ZmZmZmZm5j8AAAAAAAAAAAAAAAAAAOg/MzMzMzMz4z+SJEmSJEnSPwAAAAAAAAAAAAAAAAAAAAAAAAAAAAAAAAAAAAAAANg/AAAAAAAAAAC3bdu2bdvmP5qZmZmZmdk/MzMzMzMz4z9VVVVVVVXVP5qZmZmZmek/AAAAAAAA8D93d3d3d3fnPwAAAAAAAAAA2Ymd2Imd6D/NzMzMzMzsPwAAAAAAAOA/mpmZmZmZyT8AAAAAAADoPwAAAAAAAOg/mpmZmZmZ2T8AAAAAAAAAAAAAAAAAAOA/AAAAAAAA0D8zMzMzMzPjPwAAAAAAAAAA27Zt27Zt6z+amZmZmZnpPxQ7sRM7seM/AAAAAAAAAAAcx3Ecx3HsP9u2bdu2bes/FDuxEzuxwz8AAAAAAAAAAKuqqqqqquo/VVVVVVVV1T8lSZIkSZLUPwAAAAAAAOA/HMdxHMdx7D9VVVVVVVXlP5qZmZmZmck/AAAAAAAA0D8AAAAAAADgPwAAAAAAANA/VVVVVVVVpT9VVVVVVVXVP1VVVVVVVeU/ZCELWchCpj85juM4juPoPwAAAAAAAAAAntiJndiJ7T8AAAAAAADoP7gehetRuL4/VVVVVVVVpT8AAAAAAAAAAAAAAAAAAPA/xhhjjDHGyD9VVVVVVVXFP7dt27Zt2+Y/AAAAAAAA5D8AAAAAAADgP1VVVVVVVdU/VVVVVVVV5T9VVVVVVVXVP3zwwQcffOA/VVVVVVVVxT87sRM7sRPrP3ZiJ3ZiJ+Y/+n5qvHSTqD8AAAAAAAAAANu2bdu2bes/HMdxHMdx3D900UUXXXTRPwAAAAAAAAAAAAAAAAAAAAAAAAAAAADAPw3lNZTXUN4/ERERERERwT8AAAAAAADgP2ZmZmZmZuY/eHh4eHh42D8AAAAAAADQPzMzMzMzM+M/AAAAAAAA5j9VVVVVVVXVPwAAAAAAAAAAVVVVVVVV5T8AAAAAAADgP5IkSZIkSeI/dNFFF1100T+rqqqqqqrqPwAAAAAAAOQ/dNFFF1104T8AAAAAAAAAAAAAAAAAAOg/AAAAAAAA2D8UO7ETO7HDPwAAAAAAAAAAAAAAAAAA4D8AAAAAAAAAAAAAAAAAAAAAAAAAAAAAAAAAAAAAAAAAAAAAAAAAAAAARhdddNFFtz8AAAAAAAAAAHsUrkfhesQ/aC+hvYT2wj8AAAAAAADgP1VVVVVVVdU/AAAAAAAA6D/btm3btm3bP7ETO7ETO+E/AAAAAAAAAAAAAAAAAADoPwAAAAAAAOQ/",
          "dtype": "f8"
         },
         "yaxis": "y3"
        },
        {
         "hovertemplate": "<b>%{text}</b><br>Recall: %{x:.3f}<br>Precision: %{y:.3f}<extra></extra>",
         "legendgroup": "scatter",
         "marker": {
          "color": "#1ABC9C",
          "opacity": 0.7,
          "size": 8,
          "symbol": "circle"
         },
         "mode": "markers",
         "name": "mistral:latest (docs)",
         "showlegend": true,
         "text": [
          "S.N. v. RUSSIA<br>Event",
          "S.N. v. RUSSIA<br>Event_who",
          "S.N. v. RUSSIA<br>Event_when",
          "S.N. v. RUSSIA<br>Event_what",
          "BELYAYEV AND OTHERS v. UKRAINE<br>Event",
          "BELYAYEV AND OTHERS v. UKRAINE<br>Event_who",
          "BELYAYEV AND OTHERS v. UKRAINE<br>Event_when",
          "BELYAYEV AND OTHERS v. UKRAINE<br>Event_what",
          "SIDOROVA v. RUSSIA<br>Event",
          "SIDOROVA v. RUSSIA<br>Event_who",
          "SIDOROVA v. RUSSIA<br>Event_when",
          "SIDOROVA v. RUSSIA<br>Event_what",
          "EGILL EINARSSON v. ICELAND (No. 2)<br>Event",
          "EGILL EINARSSON v. ICELAND (No. 2)<br>Event_who",
          "EGILL EINARSSON v. ICELAND (No. 2)<br>Event_when",
          "EGILL EINARSSON v. ICELAND (No. 2)<br>Event_what",
          "MOSKALEV v. RUSSIA<br>Event",
          "MOSKALEV v. RUSSIA<br>Event_who",
          "MOSKALEV v. RUSSIA<br>Event_when",
          "MOSKALEV v. RUSSIA<br>Event_what",
          "PANYUSHKINY v. RUSSIA<br>Event",
          "PANYUSHKINY v. RUSSIA<br>Event_who",
          "PANYUSHKINY v. RUSSIA<br>Event_when",
          "PANYUSHKINY v. RUSSIA<br>Event_what",
          "BIGUN v. UKRAINE<br>Event",
          "BIGUN v. UKRAINE<br>Event_who",
          "BIGUN v. UKRAINE<br>Event_when",
          "BIGUN v. UKRAINE<br>Event_what",
          "SOLCAN v. ROMANIA<br>Event",
          "SOLCAN v. ROMANIA<br>Event_who",
          "SOLCAN v. ROMANIA<br>Event_when",
          "SOLCAN v. ROMANIA<br>Event_what",
          "YEVGENIY ZAKHAROV v. RUSSIA<br>Event",
          "YEVGENIY ZAKHAROV v. RUSSIA<br>Event_who",
          "YEVGENIY ZAKHAROV v. RUSSIA<br>Event_when",
          "YEVGENIY ZAKHAROV v. RUSSIA<br>Event_what",
          "ALTAY v. TURKEY (No. 2)<br>Event",
          "ALTAY v. TURKEY (No. 2)<br>Event_who",
          "ALTAY v. TURKEY (No. 2)<br>Event_when",
          "ALTAY v. TURKEY (No. 2)<br>Event_what",
<<<<<<< HEAD
          "H_INESS v. NORWAY (1)<br>Event",
          "H_INESS v. NORWAY (1)<br>Event_who",
          "H_INESS v. NORWAY (1)<br>Event_when",
          "H_INESS v. NORWAY (1)<br>Event_what",
          "SHVIDKIYE v. RUSSIA<br>Event",
          "SHVIDKIYE v. RUSSIA<br>Event_who",
          "SHVIDKIYE v. RUSSIA<br>Event_when",
          "SHVIDKIYE v. RUSSIA<br>Event_what",
          "VISY v. SLOVAKIA<br>Event",
          "VISY v. SLOVAKIA<br>Event_who",
          "VISY v. SLOVAKIA<br>Event_when",
          "VISY v. SLOVAKIA<br>Event_what",
          "OTGON v. THE REPUBLIC OF MOLDOVA<br>Event",
          "OTGON v. THE REPUBLIC OF MOLDOVA<br>Event_who",
          "OTGON v. THE REPUBLIC OF MOLDOVA<br>Event_when",
          "OTGON v. THE REPUBLIC OF MOLDOVA<br>Event_what",
          "M.T. v. UKRAINE<br>Event",
          "M.T. v. UKRAINE<br>Event_who",
          "M.T. v. UKRAINE<br>Event_when",
          "M.T. v. UKRAINE<br>Event_what",
          "RESIN v. RUSSIA<br>Event",
          "RESIN v. RUSSIA<br>Event_who",
          "RESIN v. RUSSIA<br>Event_when",
          "RESIN v. RUSSIA<br>Event_what",
          "DOKTOROV v. BULGARIA<br>Event",
          "DOKTOROV v. BULGARIA<br>Event_who",
          "DOKTOROV v. BULGARIA<br>Event_when",
          "DOKTOROV v. BULGARIA<br>Event_what",
          "YERMAKOVICH v. RUSSIA<br>Event",
          "YERMAKOVICH v. RUSSIA<br>Event_who",
          "YERMAKOVICH v. RUSSIA<br>Event_when",
          "YERMAKOVICH v. RUSSIA<br>Event_what",
          "YAKUSHEV v. UKRAINE<br>Event",
          "YAKUSHEV v. UKRAINE<br>Event_who",
          "YAKUSHEV v. UKRAINE<br>Event_when",
          "YAKUSHEV v. UKRAINE<br>Event_what",
          "STANA v. ROMANIA<br>Event",
          "STANA v. ROMANIA<br>Event_who",
          "STANA v. ROMANIA<br>Event_when",
          "STANA v. ROMANIA<br>Event_what",
          "_NODI v. HUNGARY<br>Event",
          "_NODI v. HUNGARY<br>Event_who",
          "_NODI v. HUNGARY<br>Event_when",
          "_NODI v. HUNGARY<br>Event_what",
          "PAKHTUSOV v. RUSSIA<br>Event",
          "PAKHTUSOV v. RUSSIA<br>Event_who",
          "PAKHTUSOV v. RUSSIA<br>Event_when",
          "PAKHTUSOV v. RUSSIA<br>Event_what",
          "KOSAITE - CYPIENE AND OTHERS v. LITHUANIA<br>Event",
          "KOSAITE - CYPIENE AND OTHERS v. LITHUANIA<br>Event_who",
          "KOSAITE - CYPIENE AND OTHERS v. LITHUANIA<br>Event_when",
          "KOSAITE - CYPIENE AND OTHERS v. LITHUANIA<br>Event_what",
          "S.V. v. ITALY<br>Event",
          "S.V. v. ITALY<br>Event_who",
          "S.V. v. ITALY<br>Event_when",
          "S.V. v. ITALY<br>Event_what",
=======
          "BELYAYEV AND OTHERS v. UKRAINE<br>Event",
          "BELYAYEV AND OTHERS v. UKRAINE<br>Event_who",
          "BELYAYEV AND OTHERS v. UKRAINE<br>Event_when",
          "BELYAYEV AND OTHERS v. UKRAINE<br>Event_what",
          "BIGUN v. UKRAINE<br>Event",
          "BIGUN v. UKRAINE<br>Event_who",
          "BIGUN v. UKRAINE<br>Event_when",
          "BIGUN v. UKRAINE<br>Event_what",
          "CABUCAK v. GERMANY<br>Event",
          "CABUCAK v. GERMANY<br>Event_who",
          "CABUCAK v. GERMANY<br>Event_when",
          "CABUCAK v. GERMANY<br>Event_what",
>>>>>>> a813ab3a2a19b49bf703a1dc6fd99353356c8a2d
          "CAN v. TURKEY<br>Event",
          "CAN v. TURKEY<br>Event_who",
          "CAN v. TURKEY<br>Event_when",
          "CAN v. TURKEY<br>Event_what",
          "CRISTIAN CATALIN UNGUREANU v. ROMANIA<br>Event",
          "CRISTIAN CATALIN UNGUREANU v. ROMANIA<br>Event_who",
          "CRISTIAN CATALIN UNGUREANU v. ROMANIA<br>Event_when",
          "CRISTIAN CATALIN UNGUREANU v. ROMANIA<br>Event_what",
<<<<<<< HEAD
          "MURUZHEVA v. RUSSIA<br>Event",
          "MURUZHEVA v. RUSSIA<br>Event_who",
          "MURUZHEVA v. RUSSIA<br>Event_when",
          "MURUZHEVA v. RUSSIA<br>Event_what",
=======
          "DOKTOROV v. BULGARIA<br>Event",
          "DOKTOROV v. BULGARIA<br>Event_who",
          "DOKTOROV v. BULGARIA<br>Event_when",
          "DOKTOROV v. BULGARIA<br>Event_what",
          "EGILL EINARSSON v. ICELAND (No. 2)<br>Event",
          "EGILL EINARSSON v. ICELAND (No. 2)<br>Event_who",
          "EGILL EINARSSON v. ICELAND (No. 2)<br>Event_when",
          "EGILL EINARSSON v. ICELAND (No. 2)<br>Event_what",
          "H_INESS v. NORWAY (1)<br>Event",
          "H_INESS v. NORWAY (1)<br>Event_who",
          "H_INESS v. NORWAY (1)<br>Event_when",
          "H_INESS v. NORWAY (1)<br>Event_what",
          "KOSAITE - CYPIENE AND OTHERS v. LITHUANIA<br>Event",
          "KOSAITE - CYPIENE AND OTHERS v. LITHUANIA<br>Event_who",
          "KOSAITE - CYPIENE AND OTHERS v. LITHUANIA<br>Event_when",
          "KOSAITE - CYPIENE AND OTHERS v. LITHUANIA<br>Event_what",
>>>>>>> a813ab3a2a19b49bf703a1dc6fd99353356c8a2d
          "LOZOVYYE v. RUSSIA<br>Event",
          "LOZOVYYE v. RUSSIA<br>Event_who",
          "LOZOVYYE v. RUSSIA<br>Event_when",
          "LOZOVYYE v. RUSSIA<br>Event_what",
<<<<<<< HEAD
=======
          "M.T. v. UKRAINE<br>Event",
          "M.T. v. UKRAINE<br>Event_who",
          "M.T. v. UKRAINE<br>Event_when",
          "M.T. v. UKRAINE<br>Event_what",
          "MOSKALEV v. RUSSIA<br>Event",
          "MOSKALEV v. RUSSIA<br>Event_who",
          "MOSKALEV v. RUSSIA<br>Event_when",
          "MOSKALEV v. RUSSIA<br>Event_what",
          "MURUZHEVA v. RUSSIA<br>Event",
          "MURUZHEVA v. RUSSIA<br>Event_who",
          "MURUZHEVA v. RUSSIA<br>Event_when",
          "MURUZHEVA v. RUSSIA<br>Event_what",
>>>>>>> a813ab3a2a19b49bf703a1dc6fd99353356c8a2d
          "O.C.I. AND OTHERS v. ROMANIA<br>Event",
          "O.C.I. AND OTHERS v. ROMANIA<br>Event_who",
          "O.C.I. AND OTHERS v. ROMANIA<br>Event_when",
          "O.C.I. AND OTHERS v. ROMANIA<br>Event_what",
<<<<<<< HEAD
          "CABUCAK v. GERMANY<br>Event",
          "CABUCAK v. GERMANY<br>Event_who",
          "CABUCAK v. GERMANY<br>Event_when",
          "CABUCAK v. GERMANY<br>Event_what"
         ],
         "type": "scatter",
         "x": {
          "bdata": "GIZhGIZhuD+amZmZmZmZPwAAAAAAAAAAdNFFF110sT9VVVVVVVXlPwAAAAAAAMA/AAAAAAAAAAAAAAAAAACwP57YiZ3Yic0/FDuxEzuxwz8UO7ETO7HDPxEREREREcE/27Zt27Zt6z/ZiZ3YiZ3YP9mJndiJneg/ERERERERsT8vuuiiiy7qPwAAAAAAAAAAAAAAAAAA6D8AAAAAAADgPy+66KKLLuo/CB988MEHnz9MaC+hvYTmP3Icx3Ecx+E/O7ETO7ET6z8AAAAAAAAAANmJndiJndg/chzHcRzH0T+e2Imd2IntPwAAAAAAAAAARhdddNFF5z9VVVVVVVXVP5eWlpaWluY/ERERERERsT8XXXTRRRfdPxiGYRiGYcg/9DzP8zzP4z8or6G8hvK6P57neZ7ned4/VVVVVVVVxT/XWmuttdbaPwAAAAAAAAAACcs9jbDc0z8d1EEd1EG9P6OLLrroous/F1100UUXzT+amZmZmZnhPxzHcRzHcdw/vLu7u7u76z+SJEmSJEnCP1100UUXXeQ/kiRJkiRJ0j+rqqqqqqriPxQ7sRM7sdM/mpmZmZmZ2T+amZmZmZnZP7dt27Zt2+Y/AAAAAAAAAACrqqqqqqriP0N5DeU1lNc/AAAAAAAA5D8AAAAAAACwP9u2bdu2bcs/RhdddNFFxz8AAAAAAADoPwAAAAAAAAAAAAAAAAAA2D/e3d3d3d3dP1VVVVVVVeU/3t3d3d3dzT8RERERERGhPyivobyG8qo/q6qqqqqq6j900UUXXXTRPzMzMzMzM+M/AAAAAAAA3D+rqqqqqqrqPwAAAAAAAAAAAAAAAAAA0D900UUXXXTRP7bWWmutteY/AAAAAAAAAAAAAAAAAADgP83MzMzMzMw/q6qqqqqq6j9VVVVVVVXFPzMzMzMzM+M/AAAAAAAA3D8q8lk3mCLfP9C6wRT5rKs/dNFFF1100T/6GJyPwfmYPzmO4ziO4+g/AAAAAAAAAAB2Yid2YifmP3sUrkfhetQ/3t3d3d3d7T+amZmZmZnJP1VVVVVVVeU/bCivobyG4j+3bdu2bdvmPwAAAAAAAAAAHMdxHMdx3D92Yid2YifWPzZlTVlT1uQ/kiRJkiRJwj85juM4juPgP9aHxvrQWL8/q6qqqqqq6j8cx3Ecx3G8P1VVVVVVVeU/AAAAAAAA4D8AAAAAAAAAAAAAAAAAAAAAAAAAAAAAAAAAAAAAAAAAABmcj8H5GNw/MzMzMzMzwz9RXkN5DeXVP/QFfUFf0Mc/",
=======
          "OTGON v. THE REPUBLIC OF MOLDOVA<br>Event",
          "OTGON v. THE REPUBLIC OF MOLDOVA<br>Event_who",
          "OTGON v. THE REPUBLIC OF MOLDOVA<br>Event_when",
          "OTGON v. THE REPUBLIC OF MOLDOVA<br>Event_what",
          "PAKHTUSOV v. RUSSIA<br>Event",
          "PAKHTUSOV v. RUSSIA<br>Event_who",
          "PAKHTUSOV v. RUSSIA<br>Event_when",
          "PAKHTUSOV v. RUSSIA<br>Event_what",
          "PANYUSHKINY v. RUSSIA<br>Event",
          "PANYUSHKINY v. RUSSIA<br>Event_who",
          "PANYUSHKINY v. RUSSIA<br>Event_when",
          "PANYUSHKINY v. RUSSIA<br>Event_what",
          "RESIN v. RUSSIA<br>Event",
          "RESIN v. RUSSIA<br>Event_who",
          "RESIN v. RUSSIA<br>Event_when",
          "RESIN v. RUSSIA<br>Event_what",
          "S.N. v. RUSSIA<br>Event",
          "S.N. v. RUSSIA<br>Event_who",
          "S.N. v. RUSSIA<br>Event_when",
          "S.N. v. RUSSIA<br>Event_what",
          "S.V. v. ITALY<br>Event",
          "S.V. v. ITALY<br>Event_who",
          "S.V. v. ITALY<br>Event_when",
          "S.V. v. ITALY<br>Event_what",
          "SHVIDKIYE v. RUSSIA<br>Event",
          "SHVIDKIYE v. RUSSIA<br>Event_who",
          "SHVIDKIYE v. RUSSIA<br>Event_when",
          "SHVIDKIYE v. RUSSIA<br>Event_what",
          "SIDOROVA v. RUSSIA<br>Event",
          "SIDOROVA v. RUSSIA<br>Event_who",
          "SIDOROVA v. RUSSIA<br>Event_when",
          "SIDOROVA v. RUSSIA<br>Event_what",
          "SOLCAN v. ROMANIA<br>Event",
          "SOLCAN v. ROMANIA<br>Event_who",
          "SOLCAN v. ROMANIA<br>Event_when",
          "SOLCAN v. ROMANIA<br>Event_what",
          "STANA v. ROMANIA<br>Event",
          "STANA v. ROMANIA<br>Event_who",
          "STANA v. ROMANIA<br>Event_when",
          "STANA v. ROMANIA<br>Event_what",
          "VISY v. SLOVAKIA<br>Event",
          "VISY v. SLOVAKIA<br>Event_who",
          "VISY v. SLOVAKIA<br>Event_when",
          "VISY v. SLOVAKIA<br>Event_what",
          "YAKUSHEV v. UKRAINE<br>Event",
          "YAKUSHEV v. UKRAINE<br>Event_who",
          "YAKUSHEV v. UKRAINE<br>Event_when",
          "YAKUSHEV v. UKRAINE<br>Event_what",
          "YERMAKOVICH v. RUSSIA<br>Event",
          "YERMAKOVICH v. RUSSIA<br>Event_who",
          "YERMAKOVICH v. RUSSIA<br>Event_when",
          "YERMAKOVICH v. RUSSIA<br>Event_what",
          "YEVGENIY ZAKHAROV v. RUSSIA<br>Event",
          "YEVGENIY ZAKHAROV v. RUSSIA<br>Event_who",
          "YEVGENIY ZAKHAROV v. RUSSIA<br>Event_when",
          "YEVGENIY ZAKHAROV v. RUSSIA<br>Event_what",
          "_NODI v. HUNGARY<br>Event",
          "_NODI v. HUNGARY<br>Event_who",
          "_NODI v. HUNGARY<br>Event_when",
          "_NODI v. HUNGARY<br>Event_what"
         ],
         "type": "scatter",
         "x": {
          "bdata": "9DzP8zzP4z8or6G8hvK6P57neZ7ned4/VVVVVVVVxT9VVVVVVVXlPwAAAAAAAMA/AAAAAAAAAAAAAAAAAACwPzuxEzuxE+s/AAAAAAAAAADZiZ3YiZ3YP3Icx3Ecx9E/GZyPwfkY3D8zMzMzMzPDP1FeQ3kN5dU/9AV9QV/Qxz/e3d3d3d3tP5qZmZmZmck/VVVVVVVV5T9sKK+hvIbiP7dt27Zt2+Y/AAAAAAAAAAAcx3Ecx3HcP3ZiJ3ZiJ9Y/AAAAAAAA6D8AAAAAAAAAAAAAAAAAANg/3t3d3d3d3T/btm3btm3rP9mJndiJndg/2Ymd2Imd6D8RERERERGxP9daa6211to/AAAAAAAAAAAJyz2NsNzTPx3UQR3UQb0/KvJZN5gi3z/QusEU+ayrP3TRRRdddNE/+hicj8H5mD+rqqqqqqrqPxzHcRzHcbw/VVVVVVVV5T8AAAAAAADgP7dt27Zt2+Y/AAAAAAAAAACrqqqqqqriP0N5DeU1lNc/L7rooosu6j8AAAAAAAAAAAAAAAAAAOg/AAAAAAAA4D82ZU1ZU9bkP5IkSZIkScI/OY7jOI7j4D/Wh8b60Fi/PwAAAAAAAAAAAAAAAAAAAAAAAAAAAAAAAAAAAAAAAAAAq6qqqqqq4j8UO7ETO7HTP5qZmZmZmdk/mpmZmZmZ2T+rqqqqqqrqP1VVVVVVVcU/MzMzMzMz4z8AAAAAAADcPy+66KKLLuo/CB988MEHnz9MaC+hvYTmP3Icx3Ecx+E/AAAAAAAA5D8AAAAAAACwP9u2bdu2bcs/RhdddNFFxz8YhmEYhmG4P5qZmZmZmZk/AAAAAAAAAAB00UUXXXSxPzmO4ziO4+g/AAAAAAAAAAB2Yid2YifmP3sUrkfhetQ/o4suuuii6z8XXXTRRRfNP5qZmZmZmeE/HMdxHMdx3D+e2Imd2InNPxQ7sRM7scM/FDuxEzuxwz8RERERERHBP57YiZ3Yie0/AAAAAAAAAABGF1100UXnP1VVVVVVVdU/q6qqqqqq6j8AAAAAAAAAAAAAAAAAANA/dNFFF1100T+8u7u7u7vrP5IkSZIkScI/XXTRRRdd5D+SJEmSJEnSP6uqqqqqquo/dNFFF1100T8zMzMzMzPjPwAAAAAAANw/VVVVVVVV5T/e3d3d3d3NPxEREREREaE/KK+hvIbyqj+XlpaWlpbmPxEREREREbE/F1100UUX3T8YhmEYhmHIP7bWWmutteY/AAAAAAAAAAAAAAAAAADgP83MzMzMzMw/",
>>>>>>> a813ab3a2a19b49bf703a1dc6fd99353356c8a2d
          "dtype": "f8"
         },
         "xaxis": "x3",
         "y": {
<<<<<<< HEAD
          "bdata": "GIZhGIZhyD9VVVVVVVW1PwAAAAAAAAAAAAAAAAAA0D+4HoXrUbjOPyivobyG8qo/AAAAAAAAAABVVVVVVVW1P7gehetRuL4/VVVVVVVVxT9VVVVVVVXlPxzHcRzHccw/HEyRz7rB1D+96U1vetPLPxdddNFFF90/kiRJkiRJwj/x8PDw8PDQPwAAAAAAAAAAAAAAAAAA6D/sUbgehevRP1uplVqpldo/HMdxHMdxvD89z/M8z/PsP4jG+tBYH9o/AAAAAAAA0D8AAAAAAAAAAAAAAAAAAOQ/eQ3lNZTX0D+7ErUrUbvSPwAAAAAAAAAARhdddNFF5z900UUXXXTRPwtZyEIWstA/kiRJkiRJoj9VVVVVVVXVP1VVVVVVVcU/0id90id90j9VVVVVVVW1P9mJndiJneg/eQ3lNZTXwD9L1K5E7UrUPwAAAAAAAAAAMzMzMzMz4z8d1EEd1EG9P2ZmZmZmZt4/AAAAAAAAxD8AAAAAAADmP0YXXXTRRdc/mqZpmqZpyj9GF1100UW3P1paWlpaWto/ntiJndiJvT84velNb3rTP5IkSZIkSeI/mpmZmZmZ6T+amZmZmZnZP2WTTTbZZNM/AAAAAAAAAAAAAAAAAADsP1paWlpaWto/VVVVVVVV5T+SJEmSJEmyPwAAAAAAAOg/kiRJkiRJ4j92Yid2YifWPwAAAAAAAAAAAAAAAAAA4D9mZmZmZmbWP2WTTTbZZOM/ZmZmZmZm1j8AAAAAAADQP5qZmZmZmdk/t23btm3b1j+e2Imd2InNP1VVVVVVVeU/sRM7sRM74T9VVVVVVVXVPwAAAAAAAAAAVVVVVVVV1T/btm3btm3bP+pNb3rTm94/AAAAAAAAAABsKK+hvIbiP/Hw8PDw8OA/chzHcRzH0T8cx3Ecx3HMP1VVVVVVVeU/AAAAAAAA0D9eQ3kN5TXUP4QQQgghhLA/dmIndmIn5j8AAAAAAADAP1100UUXXeQ/AAAAAAAAAAAvuuiiiy7qPx4eHh4eHt4/sRM7sRM74T+SJEmSJEnCP9mJndiJneg/mpmZmZmZ4T/ZiZ3YiZ3YPwAAAAAAAAAAAAAAAAAA4D/btm3btm3bP5IkSZIkSeI/HMdxHMdxzD8ndmIndmLnP3TRRRdddOE/chzHcRzH4T8YhmEYhmG4P9mJndiJneg/tbS0tLS05D8AAAAAAAAAAAAAAAAAAAAAAAAAAAAAAAAAAAAAAAAAAJVSSimllNI/RhdddNFFxz8AAAAAAADqPxEREREREcE/",
=======
          "bdata": "0id90id90j9VVVVVVVW1P9mJndiJneg/eQ3lNZTXwD+4HoXrUbjOPyivobyG8qo/AAAAAAAAAABVVVVVVVW1PwAAAAAAANA/AAAAAAAAAAAAAAAAAADkP3kN5TWU19A/lVJKKaWU0j9GF1100UXHPwAAAAAAAOo/ERERERERwT+xEzuxEzvhP5IkSZIkScI/2Ymd2Imd6D+amZmZmZnhP9mJndiJndg/AAAAAAAAAAAAAAAAAADgP9u2bdu2bds/dmIndmIn1j8AAAAAAAAAAAAAAAAAAOA/ZmZmZmZm1j8cTJHPusHUP73pTW9608s/F1100UUX3T+SJEmSJEnCP0vUrkTtStQ/AAAAAAAAAAAzMzMzMzPjPx3UQR3UQb0/XkN5DeU11D+EEEIIIYSwP3ZiJ3ZiJ+Y/AAAAAAAAwD9yHMdxHMfhPxiGYRiGYbg/2Ymd2Imd6D+1tLS0tLTkP2WTTTbZZNM/AAAAAAAAAAAAAAAAAADsP1paWlpaWto/8fDw8PDw0D8AAAAAAAAAAAAAAAAAAOg/7FG4HoXr0T+SJEmSJEniPxzHcRzHccw/J3ZiJ3Zi5z900UUXXXThPwAAAAAAAAAAAAAAAAAAAAAAAAAAAAAAAAAAAAAAAAAAOL3pTW960z+SJEmSJEniP5qZmZmZmek/mpmZmZmZ2T9yHMdxHMfRPxzHcRzHccw/VVVVVVVV5T8AAAAAAADQP1uplVqpldo/HMdxHMdxvD89z/M8z/PsP4jG+tBYH9o/VVVVVVVV5T+SJEmSJEmyPwAAAAAAAOg/kiRJkiRJ4j8YhmEYhmHIP1VVVVVVVbU/AAAAAAAAAAAAAAAAAADQP1100UUXXeQ/AAAAAAAAAAAvuuiiiy7qPx4eHh4eHt4/ZmZmZmZm3j8AAAAAAADEPwAAAAAAAOY/RhdddNFF1z+4HoXrUbi+P1VVVVVVVcU/VVVVVVVV5T8cx3Ecx3HMP7sStStRu9I/AAAAAAAAAABGF1100UXnP3TRRRdddNE/VVVVVVVV1T8AAAAAAAAAAFVVVVVVVdU/27Zt27Zt2z+apmmapmnKP0YXXXTRRbc/WlpaWlpa2j+e2Imd2Im9P7dt27Zt29Y/ntiJndiJzT9VVVVVVVXlP7ETO7ETO+E/ZZNNNtlk4z9mZmZmZmbWPwAAAAAAANA/mpmZmZmZ2T8LWchCFrLQP5IkSZIkSaI/VVVVVVVV1T9VVVVVVVXFP+pNb3rTm94/AAAAAAAAAABsKK+hvIbiP/Hw8PDw8OA/",
          "dtype": "f8"
         },
         "yaxis": "y3"
        },
        {
         "hovertemplate": "<b>%{text}</b><br>Recall: %{x:.3f}<br>Precision: %{y:.3f}<extra></extra>",
         "legendgroup": "scatter",
         "marker": {
          "color": "#F1C40F",
          "opacity": 0.7,
          "size": 8,
          "symbol": "circle"
         },
         "mode": "markers",
         "name": "incept5/llama3.1-claude:latest (docs)",
         "showlegend": true,
         "text": [
          "ALTAY v. TURKEY (No. 2)<br>Event",
          "ALTAY v. TURKEY (No. 2)<br>Event_who",
          "ALTAY v. TURKEY (No. 2)<br>Event_when",
          "ALTAY v. TURKEY (No. 2)<br>Event_what",
          "BELYAYEV AND OTHERS v. UKRAINE<br>Event",
          "BELYAYEV AND OTHERS v. UKRAINE<br>Event_who",
          "BELYAYEV AND OTHERS v. UKRAINE<br>Event_when",
          "BELYAYEV AND OTHERS v. UKRAINE<br>Event_what",
          "BIGUN v. UKRAINE<br>Event",
          "BIGUN v. UKRAINE<br>Event_who",
          "BIGUN v. UKRAINE<br>Event_when",
          "BIGUN v. UKRAINE<br>Event_what",
          "CABUCAK v. GERMANY<br>Event",
          "CABUCAK v. GERMANY<br>Event_who",
          "CABUCAK v. GERMANY<br>Event_when",
          "CABUCAK v. GERMANY<br>Event_what",
          "CAN v. TURKEY<br>Event",
          "CAN v. TURKEY<br>Event_who",
          "CAN v. TURKEY<br>Event_when",
          "CAN v. TURKEY<br>Event_what",
          "CRISTIAN CATALIN UNGUREANU v. ROMANIA<br>Event",
          "CRISTIAN CATALIN UNGUREANU v. ROMANIA<br>Event_who",
          "CRISTIAN CATALIN UNGUREANU v. ROMANIA<br>Event_when",
          "CRISTIAN CATALIN UNGUREANU v. ROMANIA<br>Event_what",
          "DOKTOROV v. BULGARIA<br>Event",
          "DOKTOROV v. BULGARIA<br>Event_who",
          "DOKTOROV v. BULGARIA<br>Event_when",
          "DOKTOROV v. BULGARIA<br>Event_what",
          "EGILL EINARSSON v. ICELAND (No. 2)<br>Event",
          "EGILL EINARSSON v. ICELAND (No. 2)<br>Event_who",
          "EGILL EINARSSON v. ICELAND (No. 2)<br>Event_when",
          "EGILL EINARSSON v. ICELAND (No. 2)<br>Event_what",
          "H_INESS v. NORWAY (1)<br>Event",
          "H_INESS v. NORWAY (1)<br>Event_who",
          "H_INESS v. NORWAY (1)<br>Event_when",
          "H_INESS v. NORWAY (1)<br>Event_what",
          "KOSAITE - CYPIENE AND OTHERS v. LITHUANIA<br>Event",
          "KOSAITE - CYPIENE AND OTHERS v. LITHUANIA<br>Event_who",
          "KOSAITE - CYPIENE AND OTHERS v. LITHUANIA<br>Event_when",
          "KOSAITE - CYPIENE AND OTHERS v. LITHUANIA<br>Event_what",
          "LOZOVYYE v. RUSSIA<br>Event",
          "LOZOVYYE v. RUSSIA<br>Event_who",
          "LOZOVYYE v. RUSSIA<br>Event_when",
          "LOZOVYYE v. RUSSIA<br>Event_what",
          "M.T. v. UKRAINE<br>Event",
          "M.T. v. UKRAINE<br>Event_who",
          "M.T. v. UKRAINE<br>Event_when",
          "M.T. v. UKRAINE<br>Event_what",
          "MOSKALEV v. RUSSIA<br>Event",
          "MOSKALEV v. RUSSIA<br>Event_who",
          "MOSKALEV v. RUSSIA<br>Event_when",
          "MOSKALEV v. RUSSIA<br>Event_what",
          "MURUZHEVA v. RUSSIA<br>Event",
          "MURUZHEVA v. RUSSIA<br>Event_who",
          "MURUZHEVA v. RUSSIA<br>Event_when",
          "MURUZHEVA v. RUSSIA<br>Event_what",
          "O.C.I. AND OTHERS v. ROMANIA<br>Event",
          "O.C.I. AND OTHERS v. ROMANIA<br>Event_who",
          "O.C.I. AND OTHERS v. ROMANIA<br>Event_when",
          "O.C.I. AND OTHERS v. ROMANIA<br>Event_what",
          "OTGON v. THE REPUBLIC OF MOLDOVA<br>Event",
          "OTGON v. THE REPUBLIC OF MOLDOVA<br>Event_who",
          "OTGON v. THE REPUBLIC OF MOLDOVA<br>Event_when",
          "OTGON v. THE REPUBLIC OF MOLDOVA<br>Event_what",
          "PAKHTUSOV v. RUSSIA<br>Event",
          "PAKHTUSOV v. RUSSIA<br>Event_who",
          "PAKHTUSOV v. RUSSIA<br>Event_when",
          "PAKHTUSOV v. RUSSIA<br>Event_what",
          "PANYUSHKINY v. RUSSIA<br>Event",
          "PANYUSHKINY v. RUSSIA<br>Event_who",
          "PANYUSHKINY v. RUSSIA<br>Event_when",
          "PANYUSHKINY v. RUSSIA<br>Event_what",
          "RESIN v. RUSSIA<br>Event",
          "RESIN v. RUSSIA<br>Event_who",
          "RESIN v. RUSSIA<br>Event_when",
          "RESIN v. RUSSIA<br>Event_what",
          "S.N. v. RUSSIA<br>Event",
          "S.N. v. RUSSIA<br>Event_who",
          "S.N. v. RUSSIA<br>Event_when",
          "S.N. v. RUSSIA<br>Event_what",
          "S.V. v. ITALY<br>Event",
          "S.V. v. ITALY<br>Event_who",
          "S.V. v. ITALY<br>Event_when",
          "S.V. v. ITALY<br>Event_what",
          "SHVIDKIYE v. RUSSIA<br>Event",
          "SHVIDKIYE v. RUSSIA<br>Event_who",
          "SHVIDKIYE v. RUSSIA<br>Event_when",
          "SHVIDKIYE v. RUSSIA<br>Event_what",
          "SIDOROVA v. RUSSIA<br>Event",
          "SIDOROVA v. RUSSIA<br>Event_who",
          "SIDOROVA v. RUSSIA<br>Event_when",
          "SIDOROVA v. RUSSIA<br>Event_what",
          "SOLCAN v. ROMANIA<br>Event",
          "SOLCAN v. ROMANIA<br>Event_who",
          "SOLCAN v. ROMANIA<br>Event_when",
          "SOLCAN v. ROMANIA<br>Event_what",
          "STANA v. ROMANIA<br>Event",
          "STANA v. ROMANIA<br>Event_who",
          "STANA v. ROMANIA<br>Event_when",
          "STANA v. ROMANIA<br>Event_what",
          "VISY v. SLOVAKIA<br>Event",
          "VISY v. SLOVAKIA<br>Event_who",
          "VISY v. SLOVAKIA<br>Event_when",
          "VISY v. SLOVAKIA<br>Event_what",
          "YAKUSHEV v. UKRAINE<br>Event",
          "YAKUSHEV v. UKRAINE<br>Event_who",
          "YAKUSHEV v. UKRAINE<br>Event_when",
          "YAKUSHEV v. UKRAINE<br>Event_what",
          "YERMAKOVICH v. RUSSIA<br>Event",
          "YERMAKOVICH v. RUSSIA<br>Event_who",
          "YERMAKOVICH v. RUSSIA<br>Event_when",
          "YERMAKOVICH v. RUSSIA<br>Event_what",
          "YEVGENIY ZAKHAROV v. RUSSIA<br>Event",
          "YEVGENIY ZAKHAROV v. RUSSIA<br>Event_who",
          "YEVGENIY ZAKHAROV v. RUSSIA<br>Event_when",
          "YEVGENIY ZAKHAROV v. RUSSIA<br>Event_what",
          "_NODI v. HUNGARY<br>Event",
          "_NODI v. HUNGARY<br>Event_who",
          "_NODI v. HUNGARY<br>Event_when",
          "_NODI v. HUNGARY<br>Event_what"
         ],
         "type": "scatter",
         "x": {
          "bdata": "MQzDMAzD4D9eQ3kN5TXEPxiGYRiGYbg/3t3d3d3dzT9VVVVVVVXVPwAAAAAAAAAAAAAAAAAAAAAAAAAAAAAAANmJndiJneg/AAAAAAAAAAAUO7ETO7HDPxzHcRzHccw/ZHA+Budj4D8AAAAAAAAAACivobyG8qo/NmVNWVPWxD+8u7u7u7vrPxEREREREcE/ERERERERsT9sKK+hvIbiP5IkSZIkSeI/AAAAAAAAAAByHMdxHMfRP3ZiJ3ZiJ9Y/AAAAAAAA6D8AAAAAAAAAAAAAAAAAAOQ/ERERERER0T8AAAAAAAAAAAAAAAAAAAAAAAAAAAAAAAAAAAAAAAAAAIQQQgghhLA/AAAAAAAAAABhuacRlnu6Px3UQR3UQa0/KvJZN5gizz/QusEU+aybP0YXXXTRRcc/uxK1K1G7sj9yHMdxHMfhP3Icx3Ecx9E/AAAAAAAAAAAXXXTRRRfNPyVJkiRJkuQ/AAAAAAAAAABVVVVVVVW1PyivobyG8to/XXTRRRdd5D9GF1100UXHPwAAAAAAAOQ/27Zt27Ztyz8Sd8QdcUfcP5IkSZIkScI/HMdxHMdxnD+SJEmSJEnSP+pNb3rTm94/AAAAAAAAAABGF1100UXXP3waYbmnEcY/q6qqqqqq4j8UO7ETO7HTPwAAAAAAAOA/VVVVVVVV1T8AAAAAAADwP6uqqqqqqto/mpmZmZmZyT8AAAAAAADAP1100UUXXeQ/CB988MEHvz9fQnsJ7SXkP1VVVVVVVdU/AAAAAAAA6j8AAAAAAAAAAJIkSZIkSbI/RhdddNFFxz8YhmEYhmGYPwAAAAAAAAAAAAAAAAAAAABGF1100UWXP8dxHMdxHOc/AAAAAAAAAAAAAAAAAAAAAJqZmZmZmck/dNFFF1100T8AAAAAAAAAAAAAAAAAANA/HMdxHMdxvD8UO7ETO7HTPxQ7sRM7sbM/FDuxEzuxsz8AAAAAAAAAAJ7YiZ3Yid0/ntiJndiJzT8AAAAAAAAAAHIcx3Ecx9E/VVVVVVVV5T9VVVVVVVXFPwAAAAAAAOA/RhdddNFFxz9VVVVVVVXVPwAAAAAAAAAARhdddNFFtz8YhmEYhmG4P6uqqqqqquI/dNFFF1100T8AAAAAAAAAAAAAAAAAANg/ERERERERsT8AAAAAAAAAABEREREREaE/AAAAAAAAAAC1tLS0tLTkPwAAAAAAAAAAF1100UUX3T/btm3btm3bP4wxxhhjjOE/ERERERERsT9GF1100UWnP5qZmZmZmak/",
          "dtype": "f8"
         },
         "xaxis": "x3",
         "y": {
          "bdata": "tbS0tLS05D+XlpaWlpbGP1VVVVVVVeU/3t3d3d3d3T8zMzMzMzPjPwAAAAAAAAAAAAAAAAAAAAAAAAAAAAAAAIjG+tBYH8o/AAAAAAAAAAAAAAAAAADwP9C6wRT5rLs/xMPDw8PD4z8AAAAAAAAAAFVVVVVVVeU/q6qqqqqq4j9u27Zt27btP5IkSZIkScI/AAAAAAAA8D9VVVVVVVXtP57YiZ3Yid0/AAAAAAAAAAAAAAAAAADwPw3lNZTXUN4/MzMzMzMz4z8AAAAAAAAAALdt27Zt2+Y/mpmZmZmZ2T8AAAAAAAAAAAAAAAAAAAAAAAAAAAAAAAAAAAAAAAAAAJqZmZmZmdk/AAAAAAAAAAAAAAAAAADwPwAAAAAAAOA/JUmSJEmS5D8UO7ETO7GzPwAAAAAAAPA/ntiJndiJzT+3bdu2bdvmP7dt27Zt29Y/AAAAAAAAAACrqqqqqqrqPw3lNZTXUN4/AAAAAAAAAABVVVVVVVXVPxzHcRzHcdw/XXTRRRdd5D+amZmZmZnJP7dt27Zt2+Y/AAAAAAAA6D+nN73pTW/qP3TRRRdddNE/AAAAAAAA4D9VVVVVVVXlPzuxEzuxE+s/AAAAAAAAAAAAAAAAAADwP6uqqqqqquo/OY7jOI7j6D8AAAAAAADgP6uqqqqqquo/t23btm3b5j+amZmZmZnpP3Icx3Ecx+E/AAAAAAAA8D8AAAAAAADwPwAAAAAAAOg/VVVVVVVVxT8zMzMzMzPrPwtZyEIWsuA/zczMzMzM5D8AAAAAAAAAAAAAAAAAAPA/RhdddNFF1z8AAAAAAADQPwAAAAAAAAAAAAAAAAAAAAAAAAAAAADQP8dxHMdxHOc/AAAAAAAAAAAAAAAAAAAAAKuqqqqqquo/27Zt27Zt6z8AAAAAAAAAAKuqqqqqquo/MzMzMzMz4z+amZmZmZnpP5qZmZmZmck/AAAAAAAA8D8AAAAAAAAAAJqZmZmZmdk/mpmZmZmZyT8AAAAAAAAAAFVVVVVVVdU/AAAAAAAA8D9VVVVVVVXVPwAAAAAAAPA/AAAAAAAA8D8AAAAAAADgPwAAAAAAAAAAAAAAAAAA4D9VVVVVVVXlPzmO4ziO4+g/27Zt27Zt2z8AAAAAAAAAAFVVVVVVVeU/VVVVVVVV5T8AAAAAAAAAAAAAAAAAAOA/AAAAAAAAAABsKK+hvIbSPwAAAAAAAAAA2Ymd2Imd2D9QB3VQB3XQP9u2bdu2beM/HMdxHMdxzD8AAAAAAADQP1VVVVVVVeU/",
          "dtype": "f8"
         },
         "yaxis": "y3"
        },
        {
         "hovertemplate": "<b>%{text}</b><br>Recall: %{x:.3f}<br>Precision: %{y:.3f}<extra></extra>",
         "legendgroup": "scatter",
         "marker": {
          "color": "#E67E22",
          "opacity": 0.7,
          "size": 8,
          "symbol": "circle"
         },
         "mode": "markers",
         "name": "chevalblanc/claude-3-haiku:latest (docs)",
         "showlegend": true,
         "text": [
          "ALTAY v. TURKEY (No. 2)<br>Event",
          "ALTAY v. TURKEY (No. 2)<br>Event_who",
          "ALTAY v. TURKEY (No. 2)<br>Event_when",
          "ALTAY v. TURKEY (No. 2)<br>Event_what",
          "BELYAYEV AND OTHERS v. UKRAINE<br>Event",
          "BELYAYEV AND OTHERS v. UKRAINE<br>Event_who",
          "BELYAYEV AND OTHERS v. UKRAINE<br>Event_when",
          "BELYAYEV AND OTHERS v. UKRAINE<br>Event_what",
          "BIGUN v. UKRAINE<br>Event",
          "BIGUN v. UKRAINE<br>Event_who",
          "BIGUN v. UKRAINE<br>Event_when",
          "BIGUN v. UKRAINE<br>Event_what",
          "CABUCAK v. GERMANY<br>Event",
          "CABUCAK v. GERMANY<br>Event_who",
          "CABUCAK v. GERMANY<br>Event_when",
          "CABUCAK v. GERMANY<br>Event_what",
          "CAN v. TURKEY<br>Event",
          "CAN v. TURKEY<br>Event_who",
          "CAN v. TURKEY<br>Event_when",
          "CAN v. TURKEY<br>Event_what",
          "CRISTIAN CATALIN UNGUREANU v. ROMANIA<br>Event",
          "CRISTIAN CATALIN UNGUREANU v. ROMANIA<br>Event_who",
          "CRISTIAN CATALIN UNGUREANU v. ROMANIA<br>Event_when",
          "CRISTIAN CATALIN UNGUREANU v. ROMANIA<br>Event_what",
          "DOKTOROV v. BULGARIA<br>Event",
          "DOKTOROV v. BULGARIA<br>Event_who",
          "DOKTOROV v. BULGARIA<br>Event_when",
          "DOKTOROV v. BULGARIA<br>Event_what",
          "EGILL EINARSSON v. ICELAND (No. 2)<br>Event",
          "EGILL EINARSSON v. ICELAND (No. 2)<br>Event_who",
          "EGILL EINARSSON v. ICELAND (No. 2)<br>Event_when",
          "EGILL EINARSSON v. ICELAND (No. 2)<br>Event_what",
          "H_INESS v. NORWAY (1)<br>Event",
          "H_INESS v. NORWAY (1)<br>Event_who",
          "H_INESS v. NORWAY (1)<br>Event_when",
          "H_INESS v. NORWAY (1)<br>Event_what",
          "KOSAITE - CYPIENE AND OTHERS v. LITHUANIA<br>Event",
          "KOSAITE - CYPIENE AND OTHERS v. LITHUANIA<br>Event_who",
          "KOSAITE - CYPIENE AND OTHERS v. LITHUANIA<br>Event_when",
          "KOSAITE - CYPIENE AND OTHERS v. LITHUANIA<br>Event_what",
          "LOZOVYYE v. RUSSIA<br>Event",
          "LOZOVYYE v. RUSSIA<br>Event_who",
          "LOZOVYYE v. RUSSIA<br>Event_when",
          "LOZOVYYE v. RUSSIA<br>Event_what",
          "M.T. v. UKRAINE<br>Event",
          "M.T. v. UKRAINE<br>Event_who",
          "M.T. v. UKRAINE<br>Event_when",
          "M.T. v. UKRAINE<br>Event_what",
          "MOSKALEV v. RUSSIA<br>Event",
          "MOSKALEV v. RUSSIA<br>Event_who",
          "MOSKALEV v. RUSSIA<br>Event_when",
          "MOSKALEV v. RUSSIA<br>Event_what",
          "MURUZHEVA v. RUSSIA<br>Event",
          "MURUZHEVA v. RUSSIA<br>Event_who",
          "MURUZHEVA v. RUSSIA<br>Event_when",
          "MURUZHEVA v. RUSSIA<br>Event_what",
          "O.C.I. AND OTHERS v. ROMANIA<br>Event",
          "O.C.I. AND OTHERS v. ROMANIA<br>Event_who",
          "O.C.I. AND OTHERS v. ROMANIA<br>Event_when",
          "O.C.I. AND OTHERS v. ROMANIA<br>Event_what",
          "OTGON v. THE REPUBLIC OF MOLDOVA<br>Event",
          "OTGON v. THE REPUBLIC OF MOLDOVA<br>Event_who",
          "OTGON v. THE REPUBLIC OF MOLDOVA<br>Event_when",
          "OTGON v. THE REPUBLIC OF MOLDOVA<br>Event_what",
          "PAKHTUSOV v. RUSSIA<br>Event",
          "PAKHTUSOV v. RUSSIA<br>Event_who",
          "PAKHTUSOV v. RUSSIA<br>Event_when",
          "PAKHTUSOV v. RUSSIA<br>Event_what",
          "PANYUSHKINY v. RUSSIA<br>Event",
          "PANYUSHKINY v. RUSSIA<br>Event_who",
          "PANYUSHKINY v. RUSSIA<br>Event_when",
          "PANYUSHKINY v. RUSSIA<br>Event_what",
          "RESIN v. RUSSIA<br>Event",
          "RESIN v. RUSSIA<br>Event_who",
          "RESIN v. RUSSIA<br>Event_when",
          "RESIN v. RUSSIA<br>Event_what",
          "S.N. v. RUSSIA<br>Event",
          "S.N. v. RUSSIA<br>Event_who",
          "S.N. v. RUSSIA<br>Event_when",
          "S.N. v. RUSSIA<br>Event_what",
          "S.V. v. ITALY<br>Event",
          "S.V. v. ITALY<br>Event_who",
          "S.V. v. ITALY<br>Event_when",
          "S.V. v. ITALY<br>Event_what",
          "SHVIDKIYE v. RUSSIA<br>Event",
          "SHVIDKIYE v. RUSSIA<br>Event_who",
          "SHVIDKIYE v. RUSSIA<br>Event_when",
          "SHVIDKIYE v. RUSSIA<br>Event_what",
          "SIDOROVA v. RUSSIA<br>Event",
          "SIDOROVA v. RUSSIA<br>Event_who",
          "SIDOROVA v. RUSSIA<br>Event_when",
          "SIDOROVA v. RUSSIA<br>Event_what",
          "SOLCAN v. ROMANIA<br>Event",
          "SOLCAN v. ROMANIA<br>Event_who",
          "SOLCAN v. ROMANIA<br>Event_when",
          "SOLCAN v. ROMANIA<br>Event_what",
          "STANA v. ROMANIA<br>Event",
          "STANA v. ROMANIA<br>Event_who",
          "STANA v. ROMANIA<br>Event_when",
          "STANA v. ROMANIA<br>Event_what",
          "VISY v. SLOVAKIA<br>Event",
          "VISY v. SLOVAKIA<br>Event_who",
          "VISY v. SLOVAKIA<br>Event_when",
          "VISY v. SLOVAKIA<br>Event_what",
          "YAKUSHEV v. UKRAINE<br>Event",
          "YAKUSHEV v. UKRAINE<br>Event_who",
          "YAKUSHEV v. UKRAINE<br>Event_when",
          "YAKUSHEV v. UKRAINE<br>Event_what",
          "YERMAKOVICH v. RUSSIA<br>Event",
          "YERMAKOVICH v. RUSSIA<br>Event_who",
          "YERMAKOVICH v. RUSSIA<br>Event_when",
          "YERMAKOVICH v. RUSSIA<br>Event_what",
          "YEVGENIY ZAKHAROV v. RUSSIA<br>Event",
          "YEVGENIY ZAKHAROV v. RUSSIA<br>Event_who",
          "YEVGENIY ZAKHAROV v. RUSSIA<br>Event_when",
          "YEVGENIY ZAKHAROV v. RUSSIA<br>Event_what",
          "_NODI v. HUNGARY<br>Event",
          "_NODI v. HUNGARY<br>Event_who",
          "_NODI v. HUNGARY<br>Event_when",
          "_NODI v. HUNGARY<br>Event_what"
         ],
         "type": "scatter",
         "x": {
          "bdata": "t23btm3b5j8or6G8hvK6P5IkSZIkSeI/VVVVVVVVxT8cx3Ecx3G8PwAAAAAAAAAAAAAAAAAAAAAAAAAAAAAAABQ7sRM7sdM/AAAAAAAAAAAUO7ETO7GzPxzHcRzHcaw/+hicj8H5qD8AAAAAAAAAACivobyG8po/AAAAAAAAAACamZmZmZnpPxEREREREcE/d3d3d3d35z8or6G8hvLaPxiGYRiGYcg/GIZhGIZhqD8cx3Ecx3HMPxQ7sRM7scM/AAAAAAAA0D8AAAAAAAAAAAAAAAAAANA/ERERERERsT+SJEmSJEnSPxQ7sRM7sbM/FDuxEzuxsz8RERERERHRP4QQQgghhMA/AAAAAAAAAACWexphuaehPx3UQR3UQa0/whT5rBtMwT8AAAAAAAAAAEYXXXTRRbc/+hicj8H5qD/kOI7jOI7jP1VVVVVVVdU/AAAAAAAAAABGF1100UWnP7dt27Zt29Y/AAAAAAAAAAAAAAAAAAAAAF5DeQ3lNcQ/F1100UUX3T900UUXXXTRPwAAAAAAAMA/27Zt27Zt2z/0BX1BX9C3PwAAAAAAAAAAHMdxHMdxrD85BS+n4OW0PwtZyEIWstA/ZCELWchCpj8AAAAAAAAAAJZ7GmG5p8E/AAAAAAAA0D8AAAAAAAAAAJqZmZmZmck/mpmZmZmZyT+rqqqqqqraP1VVVVVVVcU/mpmZmZmZuT8AAAAAAADAPwgffPDBB88/AAAAAAAAAAB7Ce0ltJfQPzmO4ziO48g/AAAAAAAA3D8AAAAAAAAAALdt27Zt29Y/XXTRRRdd1D8YhmEYhmG4P5qZmZmZmak/uxK1K1G7sj900UUXXXSxPxzHcRzHccw/HMdxHMdxrD8AAAAAAAAAAHsUrkfhesQ/XXTRRRdd5D900UUXXXTBP83MzMzMzNw/aC+hvYT20j+e2Imd2IntP7ETO7ETO+E/ntiJndiJ7T9VVVVVVVXlPxQ7sRM7sdM/FDuxEzuxsz8AAAAAAAAAABzHcRzHcbw/VVVVVVVV5T9VVVVVVVXFPwAAAAAAAOg/dNFFF1100T8RERERERGxPwAAAAAAAAAARhdddNFFtz8YhmEYhmGoPwAAAAAAAOg/AAAAAAAAAAAAAAAAAADgPwAAAAAAAMg/3t3d3d3d3T9VVVVVVVXVPxEREREREbE/bCivobyG0j8eHh4eHh7OPxEREREREbE/RhdddNFF1z8YhmEYhmHIP4QQQgghhLA/AAAAAAAAAABGF1100UW3PwAAAAAAAAAA",
          "dtype": "f8"
         },
         "xaxis": "x3",
         "y": {
          "bdata": "t23btm3b5j8or6G8hvK6P5qZmZmZmek/eQ3lNZTX0D+amZmZmZnJPwAAAAAAAAAAAAAAAAAAAAAAAAAAAAAAABzHcRzHcdw/AAAAAAAAAAAAAAAAAADQP5qZmZmZmck/VVVVVVVV1T8AAAAAAAAAAAAAAAAAAOA/AAAAAAAAAACamZmZmZnpPxQ7sRM7scM/O7ETO7ET6z8UO7ETO7HjP1VVVVVVVeU/mpmZmZmZyT8AAAAAAADwP1VVVVVVVeU/AAAAAAAA6D8AAAAAAAAAAAAAAAAAAPA/AAAAAAAA8D9VVVVVVVXlP5qZmZmZmck/AAAAAAAA8D+amZmZmZnpP5IkSZIkSeI/AAAAAAAAAAAAAAAAAADwPwAAAAAAAPA/AAAAAAAA5D8AAAAAAAAAAAAAAAAAAPA/AAAAAAAA4D93d3d3d3fnP57YiZ3Yid0/AAAAAAAAAAAAAAAAAADgP6uqqqqqquo/AAAAAAAAAAAAAAAAAAAAAAAAAAAAAPA/AAAAAAAA5D8zMzMzMzPjPwAAAAAAAPA/AAAAAAAA6D+amZmZmZnpPwAAAAAAAAAAAAAAAAAA8D+amZmZmZnpP9u2bdu2bes/VVVVVVVVxT8AAAAAAAAAAAAAAAAAAPA/MzMzMzMz4z8AAAAAAAAAAAAAAAAAAPA/MzMzMzMz4z+3bdu2bdvmPwAAAAAAAOA/AAAAAAAA8D9VVVVVVVXlP5qZmZmZmek/AAAAAAAAAAAAAAAAAADsPzmO4ziO4+g/OY7jOI7j6D8AAAAAAAAAAKuqqqqqquo/OY7jOI7j6D8AAAAAAADgP5IkSZIkSdI/MzMzMzMz4z/btm3btm3bP5qZmZmZmek/AAAAAAAA4D8AAAAAAAAAAJqZmZmZmek/OY7jOI7j6D8AAAAAAADIP83MzMzMzOw/AAAAAAAA4D/btm3btm3rPwAAAAAAAOA/ntiJndiJ7T+3bdu2bdvmP5qZmZmZmek/AAAAAAAA4D8AAAAAAAAAAJqZmZmZmdk/AAAAAAAA4D8AAAAAAADQPwAAAAAAAOg/AAAAAAAA6D8AAAAAAADwPwAAAAAAAAAAAAAAAAAA8D8AAAAAAADwPy+66KKLLuo/AAAAAAAAAACrqqqqqqrqPwAAAAAAAPA/Q3kN5TWU5z/T0tLS0tLiP1VVVVVVVeU/d3d3d3d35z9VVVVVVVXlPwAAAAAAANA/mpmZmZmZ6T9VVVVVVVXlPwAAAAAAAOA/AAAAAAAAAABVVVVVVVXlPwAAAAAAAAAA",
          "dtype": "f8"
         },
         "yaxis": "y3"
        },
        {
         "hovertemplate": "<b>%{text}</b><br>Recall: %{x:.3f}<br>Precision: %{y:.3f}<extra></extra>",
         "legendgroup": "scatter",
         "marker": {
          "color": "#95A5A6",
          "opacity": 0.7,
          "size": 8,
          "symbol": "circle"
         },
         "mode": "markers",
         "name": "llama4:16x17b (docs)",
         "showlegend": true,
         "text": [
          "ALTAY v. TURKEY (No. 2)<br>Event",
          "ALTAY v. TURKEY (No. 2)<br>Event_who",
          "ALTAY v. TURKEY (No. 2)<br>Event_when",
          "ALTAY v. TURKEY (No. 2)<br>Event_what",
          "BELYAYEV AND OTHERS v. UKRAINE<br>Event",
          "BELYAYEV AND OTHERS v. UKRAINE<br>Event_who",
          "BELYAYEV AND OTHERS v. UKRAINE<br>Event_when",
          "BELYAYEV AND OTHERS v. UKRAINE<br>Event_what",
          "BIGUN v. UKRAINE<br>Event",
          "BIGUN v. UKRAINE<br>Event_who",
          "BIGUN v. UKRAINE<br>Event_when",
          "BIGUN v. UKRAINE<br>Event_what",
          "CABUCAK v. GERMANY<br>Event",
          "CABUCAK v. GERMANY<br>Event_who",
          "CABUCAK v. GERMANY<br>Event_when",
          "CABUCAK v. GERMANY<br>Event_what",
          "CAN v. TURKEY<br>Event",
          "CAN v. TURKEY<br>Event_who",
          "CAN v. TURKEY<br>Event_when",
          "CAN v. TURKEY<br>Event_what",
          "CRISTIAN CATALIN UNGUREANU v. ROMANIA<br>Event",
          "CRISTIAN CATALIN UNGUREANU v. ROMANIA<br>Event_who",
          "CRISTIAN CATALIN UNGUREANU v. ROMANIA<br>Event_when",
          "CRISTIAN CATALIN UNGUREANU v. ROMANIA<br>Event_what",
          "DOKTOROV v. BULGARIA<br>Event",
          "DOKTOROV v. BULGARIA<br>Event_who",
          "DOKTOROV v. BULGARIA<br>Event_when",
          "DOKTOROV v. BULGARIA<br>Event_what",
          "EGILL EINARSSON v. ICELAND (No. 2)<br>Event",
          "EGILL EINARSSON v. ICELAND (No. 2)<br>Event_who",
          "EGILL EINARSSON v. ICELAND (No. 2)<br>Event_when",
          "EGILL EINARSSON v. ICELAND (No. 2)<br>Event_what",
          "H_INESS v. NORWAY (1)<br>Event",
          "H_INESS v. NORWAY (1)<br>Event_who",
          "H_INESS v. NORWAY (1)<br>Event_when",
          "H_INESS v. NORWAY (1)<br>Event_what",
          "KOSAITE - CYPIENE AND OTHERS v. LITHUANIA<br>Event",
          "KOSAITE - CYPIENE AND OTHERS v. LITHUANIA<br>Event_who",
          "KOSAITE - CYPIENE AND OTHERS v. LITHUANIA<br>Event_when",
          "KOSAITE - CYPIENE AND OTHERS v. LITHUANIA<br>Event_what",
          "LOZOVYYE v. RUSSIA<br>Event",
          "LOZOVYYE v. RUSSIA<br>Event_who",
          "LOZOVYYE v. RUSSIA<br>Event_when",
          "LOZOVYYE v. RUSSIA<br>Event_what",
          "M.T. v. UKRAINE<br>Event",
          "M.T. v. UKRAINE<br>Event_who",
          "M.T. v. UKRAINE<br>Event_when",
          "M.T. v. UKRAINE<br>Event_what",
          "MOSKALEV v. RUSSIA<br>Event",
          "MOSKALEV v. RUSSIA<br>Event_who",
          "MOSKALEV v. RUSSIA<br>Event_when",
          "MOSKALEV v. RUSSIA<br>Event_what",
          "MURUZHEVA v. RUSSIA<br>Event",
          "MURUZHEVA v. RUSSIA<br>Event_who",
          "MURUZHEVA v. RUSSIA<br>Event_when",
          "MURUZHEVA v. RUSSIA<br>Event_what",
          "O.C.I. AND OTHERS v. ROMANIA<br>Event",
          "O.C.I. AND OTHERS v. ROMANIA<br>Event_who",
          "O.C.I. AND OTHERS v. ROMANIA<br>Event_when",
          "O.C.I. AND OTHERS v. ROMANIA<br>Event_what",
          "OTGON v. THE REPUBLIC OF MOLDOVA<br>Event",
          "OTGON v. THE REPUBLIC OF MOLDOVA<br>Event_who",
          "OTGON v. THE REPUBLIC OF MOLDOVA<br>Event_when",
          "OTGON v. THE REPUBLIC OF MOLDOVA<br>Event_what",
          "PAKHTUSOV v. RUSSIA<br>Event",
          "PAKHTUSOV v. RUSSIA<br>Event_who",
          "PAKHTUSOV v. RUSSIA<br>Event_when",
          "PAKHTUSOV v. RUSSIA<br>Event_what",
          "PANYUSHKINY v. RUSSIA<br>Event",
          "PANYUSHKINY v. RUSSIA<br>Event_who",
          "PANYUSHKINY v. RUSSIA<br>Event_when",
          "PANYUSHKINY v. RUSSIA<br>Event_what",
          "RESIN v. RUSSIA<br>Event",
          "RESIN v. RUSSIA<br>Event_who",
          "RESIN v. RUSSIA<br>Event_when",
          "RESIN v. RUSSIA<br>Event_what",
          "S.N. v. RUSSIA<br>Event",
          "S.N. v. RUSSIA<br>Event_who",
          "S.N. v. RUSSIA<br>Event_when",
          "S.N. v. RUSSIA<br>Event_what",
          "S.V. v. ITALY<br>Event",
          "S.V. v. ITALY<br>Event_who",
          "S.V. v. ITALY<br>Event_when",
          "S.V. v. ITALY<br>Event_what",
          "SHVIDKIYE v. RUSSIA<br>Event",
          "SHVIDKIYE v. RUSSIA<br>Event_who",
          "SHVIDKIYE v. RUSSIA<br>Event_when",
          "SHVIDKIYE v. RUSSIA<br>Event_what",
          "SIDOROVA v. RUSSIA<br>Event",
          "SIDOROVA v. RUSSIA<br>Event_who",
          "SIDOROVA v. RUSSIA<br>Event_when",
          "SIDOROVA v. RUSSIA<br>Event_what",
          "SOLCAN v. ROMANIA<br>Event",
          "SOLCAN v. ROMANIA<br>Event_who",
          "SOLCAN v. ROMANIA<br>Event_when",
          "SOLCAN v. ROMANIA<br>Event_what",
          "STANA v. ROMANIA<br>Event",
          "STANA v. ROMANIA<br>Event_who",
          "STANA v. ROMANIA<br>Event_when",
          "STANA v. ROMANIA<br>Event_what",
          "VISY v. SLOVAKIA<br>Event",
          "VISY v. SLOVAKIA<br>Event_who",
          "VISY v. SLOVAKIA<br>Event_when",
          "VISY v. SLOVAKIA<br>Event_what",
          "YAKUSHEV v. UKRAINE<br>Event",
          "YAKUSHEV v. UKRAINE<br>Event_who",
          "YAKUSHEV v. UKRAINE<br>Event_when",
          "YAKUSHEV v. UKRAINE<br>Event_what",
          "YERMAKOVICH v. RUSSIA<br>Event",
          "YERMAKOVICH v. RUSSIA<br>Event_who",
          "YERMAKOVICH v. RUSSIA<br>Event_when",
          "YERMAKOVICH v. RUSSIA<br>Event_what",
          "YEVGENIY ZAKHAROV v. RUSSIA<br>Event",
          "YEVGENIY ZAKHAROV v. RUSSIA<br>Event_who",
          "YEVGENIY ZAKHAROV v. RUSSIA<br>Event_when",
          "YEVGENIY ZAKHAROV v. RUSSIA<br>Event_what",
          "_NODI v. HUNGARY<br>Event",
          "_NODI v. HUNGARY<br>Event_who",
          "_NODI v. HUNGARY<br>Event_when",
          "_NODI v. HUNGARY<br>Event_what"
         ],
         "type": "scatter",
         "x": {
          "bdata": "AAAAAAAAAAAAAAAAAAAAAAAAAAAAAAAAAAAAAAAAAAAAAAAAAAAAAAAAAAAAAAAAAAAAAAAAAAAAAAAAAAAAAAAAAAAAAAAAAAAAAAAAAAAAAAAAAAAAAAAAAAAAAAAAAAAAAAAAAAAAAAAAAAAAAAAAAAAAAAAAAAAAAAAAAAAAAAAAAAAAAAAAAAAAAAAAAAAAAAAAAAAAAAAAAAAAABiGYRiGYag/GIZhGIZhqD8cx3Ecx3GsPxQ7sRM7saM/VVVVVVVVtT8AAAAAAAAAAAAAAAAAAMA/ERERERERsT8AAAAAAAAAAAAAAAAAAAAAAAAAAAAAAAAAAAAAAAAAAAAAAAAAAAAAAAAAAAAAAAAAAAAAAAAAAAAAAAAAAAAAAAAAAAAAAAAAAAAAAAAAAAAAAAAAAAAAAAAAAAAAAAAAAAAAAAAAAAAAAAAAAAAAAAAAAAAAAAAAAAAAAAAAAAAAAAAAAAAAAAAAAAAAAAAAAAAAAAAAAAAAAAAAAAAAAAAAAAAAAAAAAAAAAAAAAAAAAAAAAAAAAAAAAAAAAAAAAAAAAAAAAAAAAAAAAAAAAAAAAAAAAAAAAAAAAAAAAAAAAAAAAAAAAAAAAAAAAAAAAAAAAAAAAAAAAAAAAAAAq6qqqqqq2j+e2Imd2InNPzMzMzMzM9M/VVVVVVVV1T9VVVVVVVW1PwAAAAAAAAAAmpmZmZmZuT8AAAAAAAAAAAgffPDBB78/AAAAAAAAAABoL6G9hPayPxzHcRzHcZw/AAAAAAAAAAAAAAAAAAAAAAAAAAAAAAAAAAAAAAAAAAAAAAAAAAAAAAAAAAAAAAAAAAAAAAAAAAAAAAAAAAAAAAAAAAAAAAAAAAAAAAAAAAAAAAAAAAAAAAAAAAAAAAAAAAAAAAAAAAAAAAAAAAAAAAAAAAAAAAAAAAAAAAAAAAAAAAAAAAAAAAAAAAAAAAAAAAAAAAAAAAAAAAAAAAAAAAAAAAAAAAAAAAAAAAAAAAAAAAAAAAAAAAAAAAAAAAAAVVVVVVVV1T8AAAAAAAAAAAAAAAAAAOA/RhdddNFFtz8AAAAAAAAAAAAAAAAAAAAAAAAAAAAAAAAAAAAAAAAAAFVVVVVVVcU/AAAAAAAAAAAAAAAAAAAAAAAAAAAAAMA/AAAAAAAAAAAAAAAAAAAAAAAAAAAAAAAAAAAAAAAAAAAAAAAAAAAAAAAAAAAAAAAAAAAAAAAAAAAAAAAAAAAAAIQQQgghhKA/AAAAAAAAAAAAAAAAAAAAAJqZmZmZmZk/",
          "dtype": "f8"
         },
         "xaxis": "x3",
         "y": {
          "bdata": "AAAAAAAAAAAAAAAAAAAAAAAAAAAAAAAAAAAAAAAAAAAAAAAAAAAAAAAAAAAAAAAAAAAAAAAAAAAAAAAAAAAAAAAAAAAAAAAAAAAAAAAAAAAAAAAAAAAAAAAAAAAAAAAAAAAAAAAAAAAAAAAAAAAAAAAAAAAAAAAAAAAAAAAAAAAAAAAAAAAAAAAAAAAAAAAAAAAAAAAAAAAAAAAAAAAAAAAAAAAAAOA/AAAAAAAA4D8AAAAAAADgPwAAAAAAAPA/VVVVVVVV1T8AAAAAAAAAAAAAAAAAAOA/VVVVVVVV1T8AAAAAAAAAAAAAAAAAAAAAAAAAAAAAAAAAAAAAAAAAAAAAAAAAAAAAAAAAAAAAAAAAAAAAAAAAAAAAAAAAAAAAAAAAAAAAAAAAAAAAAAAAAAAAAAAAAAAAAAAAAAAAAAAAAAAAAAAAAAAAAAAAAAAAAAAAAAAAAAAAAAAAAAAAAAAAAAAAAAAAAAAAAAAAAAAAAAAAAAAAAAAAAAAAAAAAAAAAAAAAAAAAAAAAAAAAAAAAAAAAAAAAAAAAAAAAAAAAAAAAAAAAAAAAAAAAAAAAAAAAAAAAAAAAAAAAAAAAAAAAAAAAAAAAAAAAAAAAAAAAAAAAAAAAAAAAAAAAAAAAt23btm3b5j8AAAAAAADgPwAAAAAAAOg/t23btm3b5j8AAAAAAADwPwAAAAAAAAAAAAAAAAAA8D8AAAAAAAAAAAAAAAAAAPA/AAAAAAAAAAAAAAAAAADwPwAAAAAAAPA/AAAAAAAAAAAAAAAAAAAAAAAAAAAAAAAAAAAAAAAAAAAAAAAAAAAAAAAAAAAAAAAAAAAAAAAAAAAAAAAAAAAAAAAAAAAAAAAAAAAAAAAAAAAAAAAAAAAAAAAAAAAAAAAAAAAAAAAAAAAAAAAAAAAAAAAAAAAAAAAAAAAAAAAAAAAAAAAAAAAAAAAAAAAAAAAAAAAAAAAAAAAAAAAAAAAAAAAAAAAAAAAAAAAAAAAAAAAAAAAAAAAAAAAAAAAAAAAAVVVVVVVV5T8AAAAAAAAAAAAAAAAAAPA/AAAAAAAA8D8AAAAAAAAAAAAAAAAAAAAAAAAAAAAAAAAAAAAAAAAAAFVVVVVVVeU/AAAAAAAAAAAAAAAAAAAAAFVVVVVVVeU/AAAAAAAAAAAAAAAAAAAAAAAAAAAAAAAAAAAAAAAAAAAAAAAAAAAAAAAAAAAAAAAAAAAAAAAAAAAAAAAAAAAAAAAAAAAAAPA/AAAAAAAAAAAAAAAAAAAAAAAAAAAAAPA/",
          "dtype": "f8"
         },
         "yaxis": "y3"
        },
        {
         "hovertemplate": "<b>%{text}</b><br>Recall: %{x:.3f}<br>Precision: %{y:.3f}<extra></extra>",
         "legendgroup": "scatter",
         "marker": {
          "color": "#34495E",
          "opacity": 0.7,
          "size": 8,
          "symbol": "circle"
         },
         "mode": "markers",
         "name": "mixtral:8x7b (docs)",
         "showlegend": true,
         "text": [
          "ALTAY v. TURKEY (No. 2)<br>Event",
          "ALTAY v. TURKEY (No. 2)<br>Event_who",
          "ALTAY v. TURKEY (No. 2)<br>Event_when",
          "ALTAY v. TURKEY (No. 2)<br>Event_what",
          "BELYAYEV AND OTHERS v. UKRAINE<br>Event",
          "BELYAYEV AND OTHERS v. UKRAINE<br>Event_who",
          "BELYAYEV AND OTHERS v. UKRAINE<br>Event_when",
          "BELYAYEV AND OTHERS v. UKRAINE<br>Event_what",
          "BIGUN v. UKRAINE<br>Event",
          "BIGUN v. UKRAINE<br>Event_who",
          "BIGUN v. UKRAINE<br>Event_when",
          "BIGUN v. UKRAINE<br>Event_what",
          "CABUCAK v. GERMANY<br>Event",
          "CABUCAK v. GERMANY<br>Event_who",
          "CABUCAK v. GERMANY<br>Event_when",
          "CABUCAK v. GERMANY<br>Event_what",
          "CAN v. TURKEY<br>Event",
          "CAN v. TURKEY<br>Event_who",
          "CAN v. TURKEY<br>Event_when",
          "CAN v. TURKEY<br>Event_what",
          "CRISTIAN CATALIN UNGUREANU v. ROMANIA<br>Event",
          "CRISTIAN CATALIN UNGUREANU v. ROMANIA<br>Event_who",
          "CRISTIAN CATALIN UNGUREANU v. ROMANIA<br>Event_when",
          "CRISTIAN CATALIN UNGUREANU v. ROMANIA<br>Event_what",
          "DOKTOROV v. BULGARIA<br>Event",
          "DOKTOROV v. BULGARIA<br>Event_who",
          "DOKTOROV v. BULGARIA<br>Event_when",
          "DOKTOROV v. BULGARIA<br>Event_what",
          "EGILL EINARSSON v. ICELAND (No. 2)<br>Event",
          "EGILL EINARSSON v. ICELAND (No. 2)<br>Event_who",
          "EGILL EINARSSON v. ICELAND (No. 2)<br>Event_when",
          "EGILL EINARSSON v. ICELAND (No. 2)<br>Event_what",
          "H_INESS v. NORWAY (1)<br>Event",
          "H_INESS v. NORWAY (1)<br>Event_who",
          "H_INESS v. NORWAY (1)<br>Event_when",
          "H_INESS v. NORWAY (1)<br>Event_what",
          "KOSAITE - CYPIENE AND OTHERS v. LITHUANIA<br>Event",
          "KOSAITE - CYPIENE AND OTHERS v. LITHUANIA<br>Event_who",
          "KOSAITE - CYPIENE AND OTHERS v. LITHUANIA<br>Event_when",
          "KOSAITE - CYPIENE AND OTHERS v. LITHUANIA<br>Event_what",
          "LOZOVYYE v. RUSSIA<br>Event",
          "LOZOVYYE v. RUSSIA<br>Event_who",
          "LOZOVYYE v. RUSSIA<br>Event_when",
          "LOZOVYYE v. RUSSIA<br>Event_what",
          "M.T. v. UKRAINE<br>Event",
          "M.T. v. UKRAINE<br>Event_who",
          "M.T. v. UKRAINE<br>Event_when",
          "M.T. v. UKRAINE<br>Event_what",
          "MOSKALEV v. RUSSIA<br>Event",
          "MOSKALEV v. RUSSIA<br>Event_who",
          "MOSKALEV v. RUSSIA<br>Event_when",
          "MOSKALEV v. RUSSIA<br>Event_what",
          "MURUZHEVA v. RUSSIA<br>Event",
          "MURUZHEVA v. RUSSIA<br>Event_who",
          "MURUZHEVA v. RUSSIA<br>Event_when",
          "MURUZHEVA v. RUSSIA<br>Event_what",
          "O.C.I. AND OTHERS v. ROMANIA<br>Event",
          "O.C.I. AND OTHERS v. ROMANIA<br>Event_who",
          "O.C.I. AND OTHERS v. ROMANIA<br>Event_when",
          "O.C.I. AND OTHERS v. ROMANIA<br>Event_what",
          "OTGON v. THE REPUBLIC OF MOLDOVA<br>Event",
          "OTGON v. THE REPUBLIC OF MOLDOVA<br>Event_who",
          "OTGON v. THE REPUBLIC OF MOLDOVA<br>Event_when",
          "OTGON v. THE REPUBLIC OF MOLDOVA<br>Event_what",
          "PAKHTUSOV v. RUSSIA<br>Event",
          "PAKHTUSOV v. RUSSIA<br>Event_who",
          "PAKHTUSOV v. RUSSIA<br>Event_when",
          "PAKHTUSOV v. RUSSIA<br>Event_what",
          "PANYUSHKINY v. RUSSIA<br>Event",
          "PANYUSHKINY v. RUSSIA<br>Event_who",
          "PANYUSHKINY v. RUSSIA<br>Event_when",
          "PANYUSHKINY v. RUSSIA<br>Event_what",
          "RESIN v. RUSSIA<br>Event",
          "RESIN v. RUSSIA<br>Event_who",
          "RESIN v. RUSSIA<br>Event_when",
          "RESIN v. RUSSIA<br>Event_what",
          "S.N. v. RUSSIA<br>Event",
          "S.N. v. RUSSIA<br>Event_who",
          "S.N. v. RUSSIA<br>Event_when",
          "S.N. v. RUSSIA<br>Event_what",
          "S.V. v. ITALY<br>Event",
          "S.V. v. ITALY<br>Event_who",
          "S.V. v. ITALY<br>Event_when",
          "S.V. v. ITALY<br>Event_what",
          "SHVIDKIYE v. RUSSIA<br>Event",
          "SHVIDKIYE v. RUSSIA<br>Event_who",
          "SHVIDKIYE v. RUSSIA<br>Event_when",
          "SHVIDKIYE v. RUSSIA<br>Event_what",
          "SIDOROVA v. RUSSIA<br>Event",
          "SIDOROVA v. RUSSIA<br>Event_who",
          "SIDOROVA v. RUSSIA<br>Event_when",
          "SIDOROVA v. RUSSIA<br>Event_what",
          "SOLCAN v. ROMANIA<br>Event",
          "SOLCAN v. ROMANIA<br>Event_who",
          "SOLCAN v. ROMANIA<br>Event_when",
          "SOLCAN v. ROMANIA<br>Event_what",
          "STANA v. ROMANIA<br>Event",
          "STANA v. ROMANIA<br>Event_who",
          "STANA v. ROMANIA<br>Event_when",
          "STANA v. ROMANIA<br>Event_what",
          "VISY v. SLOVAKIA<br>Event",
          "VISY v. SLOVAKIA<br>Event_who",
          "VISY v. SLOVAKIA<br>Event_when",
          "VISY v. SLOVAKIA<br>Event_what",
          "YAKUSHEV v. UKRAINE<br>Event",
          "YAKUSHEV v. UKRAINE<br>Event_who",
          "YAKUSHEV v. UKRAINE<br>Event_when",
          "YAKUSHEV v. UKRAINE<br>Event_what",
          "YERMAKOVICH v. RUSSIA<br>Event",
          "YERMAKOVICH v. RUSSIA<br>Event_who",
          "YERMAKOVICH v. RUSSIA<br>Event_when",
          "YERMAKOVICH v. RUSSIA<br>Event_what",
          "YEVGENIY ZAKHAROV v. RUSSIA<br>Event",
          "YEVGENIY ZAKHAROV v. RUSSIA<br>Event_who",
          "YEVGENIY ZAKHAROV v. RUSSIA<br>Event_when",
          "YEVGENIY ZAKHAROV v. RUSSIA<br>Event_what",
          "_NODI v. HUNGARY<br>Event",
          "_NODI v. HUNGARY<br>Event_who",
          "_NODI v. HUNGARY<br>Event_when",
          "_NODI v. HUNGARY<br>Event_what"
         ],
         "type": "scatter",
         "x": {
          "bdata": "27Zt27Zt2z8or6G8hvKqPxiGYRiGYdg/VVVVVVVVxT8cx3Ecx3G8PwAAAAAAAMA/AAAAAAAAAAAAAAAAAAAAAJ7YiZ3Yic0/AAAAAAAAAACe2Imd2InNPxzHcRzHcaw/S9SuRO1K1D8AAAAAAAAAAGwor6G8htI/d8QdcUfc0T9VVVVVVVXVPxEREREREbE/VVVVVVVV1T95DeU1lNfQP57neZ7nec4/AAAAAAAAAAAcx3Ecx3HMP9mJndiJncg/VVVVVVVVxT8AAAAAAAAAAAAAAAAAANA/ERERERERsT+SJEmSJEniPxQ7sRM7sbM/ntiJndiJ3T/e3d3d3d3dP4QQQgghhKA/AAAAAAAAAACWexphuaehPwAAAAAAAAAA0LrBFPmsqz8AAAAAAAAAAAgffPDBB58/AAAAAAAAAAAcx3Ecx3GsPwAAAAAAAAAAERERERERsT8AAAAAAAAAACVJkiRJkuQ/AAAAAAAAAACrqqqqqqriPyivobyG8so/F1100UUX3T9GF1100UXHPwAAAAAAAOA/kiRJkiRJ0j93xB1xR9zRPwAAAAAAAAAAchzHcRzH0T8vp+DlFLzMP73pTW9608s/AAAAAAAAAABGF1100UXHP5Z7GmG5p8E/AAAAAAAA4D8AAAAAAAAAADMzMzMzM9M/mpmZmZmZyT8AAAAAAADQP1VVVVVVVcU/MzMzMzMz0z8AAAAAAADIPwgffPDBB58/AAAAAAAAAABoL6G9hPaiPwAAAAAAAAAAAAAAAAAA3D8AAAAAAAAAANu2bdu2bds/dNFFF1100T/oeZ7neZ7nP2ZmZmZmZtY/S9SuRO1K5D8vuuiiiy7KPxzHcRzHcdw/AAAAAAAAAACxEzuxEzvhP+xRuB6F69E/RhdddNFF1z9GF1100UWnP5qZmZmZmdk/ewntJbSX0D8UO7ETO7GzPwAAAAAAAAAAFDuxEzuxsz8RERERERGxPwAAAAAAAAAAAAAAAAAAAAAAAAAAAAAAAAAAAAAAAAAAVVVVVVVVxT8AAAAAAAAAAAAAAAAAANA/RhdddNFFtz8AAAAAAAAAAAAAAAAAAAAAAAAAAAAAAAAAAAAAAAAAAFVVVVVVVcU/AAAAAAAAAACamZmZmZnJPwAAAAAAAMA/ERERERERsT8AAAAAAAAAABEREREREaE/KK+hvIbymj8eHh4eHh6uPwAAAAAAAAAARhdddNFFtz8AAAAAAAAAAIQQQgghhKA/AAAAAAAAAABGF1100UWnP5qZmZmZmZk/",
          "dtype": "f8"
         },
         "xaxis": "x3",
         "y": {
          "bdata": "AAAAAAAA6D8cx3Ecx3G8PxzHcRzHcew/t23btm3b5j9VVVVVVVXVP1VVVVVVVdU/AAAAAAAAAAAAAAAAAAAAADMzMzMzM+M/AAAAAAAAAAAzMzMzMzPjPwAAAAAAANA/x3Ecx3Ec5z8AAAAAAAAAAFVVVVVVVe0/AAAAAAAA6D+rqqqqqqrqP1VVVVVVVcU/q6qqqqqq6j+rqqqqqqrqPwAAAAAAAOQ/AAAAAAAAAACamZmZmZnpP7dt27Zt2+Y/mpmZmZmZ2T8AAAAAAAAAAFVVVVVVVeU/VVVVVVVV1T9VVVVVVVXlP1VVVVVVVcU/27Zt27Zt6z9mZmZmZmbmP1VVVVVVVdU/AAAAAAAAAAAAAAAAAADwPwAAAAAAAAAAAAAAAAAA8D8AAAAAAAAAAAAAAAAAAPA/AAAAAAAAAABVVVVVVVXVPwAAAAAAAAAAAAAAAAAA4D8AAAAAAAAAAAAAAAAAAPA/AAAAAAAAAAAAAAAAAADwPwAAAAAAAPA/AAAAAAAA5D+amZmZmZnZP5IkSZIkSeI/mpmZmZmZ6T+amZmZmZnpPwAAAAAAAAAAF1100UUX7T9JkiRJkiTpP7dt27Zt2+Y/AAAAAAAAAAAAAAAAAADwP1VVVVVVVeU/AAAAAAAA6D8AAAAAAAAAAAAAAAAAAOg/AAAAAAAA6D8AAAAAAADoPwAAAAAAAOA/AAAAAAAA8D8AAAAAAADoPwAAAAAAAPA/AAAAAAAAAAAAAAAAAADwPwAAAAAAAAAAXXTRRRdd5D8AAAAAAAAAANu2bdu2bes/MzMzMzMz4z/kOI7jOI7rP0dY7mmE5d4/Ce0ltJfQ7j8AAAAAAADoP5qZmZmZmek/AAAAAAAAAAAAAAAAAADsPzmO4ziO4+g/HMdxHMdx7D8AAAAAAADAPxzHcRzHcew/AAAAAAAA8D9VVVVVVVXVPwAAAAAAAAAAAAAAAAAA4D8AAAAAAADwPwAAAAAAAAAAAAAAAAAAAAAAAAAAAAAAAAAAAAAAAAAAAAAAAAAA4D8AAAAAAAAAAAAAAAAAAOA/AAAAAAAA4D8AAAAAAAAAAAAAAAAAAAAAAAAAAAAAAAAAAAAAAAAAAFVVVVVVVeU/AAAAAAAAAABVVVVVVVXlPwAAAAAAAPA/VVVVVVVV5T8AAAAAAAAAAFVVVVVVVdU/AAAAAAAA4D8AAAAAAADQPwAAAAAAAAAAAAAAAAAA4D8AAAAAAAAAAFVVVVVVVdU/AAAAAAAAAAAAAAAAAADgPwAAAAAAAOA/",
          "dtype": "f8"
         },
         "yaxis": "y3"
        },
        {
         "hovertemplate": "<b>%{text}</b><br>Recall: %{x:.3f}<br>Precision: %{y:.3f}<extra></extra>",
         "legendgroup": "scatter",
         "marker": {
          "color": "#16A085",
          "opacity": 0.7,
          "size": 8,
          "symbol": "circle"
         },
         "mode": "markers",
         "name": "dolphin3:8b (docs)",
         "showlegend": true,
         "text": [
          "ALTAY v. TURKEY (No. 2)<br>Event",
          "ALTAY v. TURKEY (No. 2)<br>Event_who",
          "ALTAY v. TURKEY (No. 2)<br>Event_when",
          "ALTAY v. TURKEY (No. 2)<br>Event_what",
          "BELYAYEV AND OTHERS v. UKRAINE<br>Event",
          "BELYAYEV AND OTHERS v. UKRAINE<br>Event_who",
          "BELYAYEV AND OTHERS v. UKRAINE<br>Event_when",
          "BELYAYEV AND OTHERS v. UKRAINE<br>Event_what",
          "BIGUN v. UKRAINE<br>Event",
          "BIGUN v. UKRAINE<br>Event_who",
          "BIGUN v. UKRAINE<br>Event_when",
          "BIGUN v. UKRAINE<br>Event_what",
          "CABUCAK v. GERMANY<br>Event",
          "CABUCAK v. GERMANY<br>Event_who",
          "CABUCAK v. GERMANY<br>Event_when",
          "CABUCAK v. GERMANY<br>Event_what",
          "CAN v. TURKEY<br>Event",
          "CAN v. TURKEY<br>Event_who",
          "CAN v. TURKEY<br>Event_when",
          "CAN v. TURKEY<br>Event_what",
          "CRISTIAN CATALIN UNGUREANU v. ROMANIA<br>Event",
          "CRISTIAN CATALIN UNGUREANU v. ROMANIA<br>Event_who",
          "CRISTIAN CATALIN UNGUREANU v. ROMANIA<br>Event_when",
          "CRISTIAN CATALIN UNGUREANU v. ROMANIA<br>Event_what",
          "DOKTOROV v. BULGARIA<br>Event",
          "DOKTOROV v. BULGARIA<br>Event_who",
          "DOKTOROV v. BULGARIA<br>Event_when",
          "DOKTOROV v. BULGARIA<br>Event_what",
          "EGILL EINARSSON v. ICELAND (No. 2)<br>Event",
          "EGILL EINARSSON v. ICELAND (No. 2)<br>Event_who",
          "EGILL EINARSSON v. ICELAND (No. 2)<br>Event_when",
          "EGILL EINARSSON v. ICELAND (No. 2)<br>Event_what",
          "H_INESS v. NORWAY (1)<br>Event",
          "H_INESS v. NORWAY (1)<br>Event_who",
          "H_INESS v. NORWAY (1)<br>Event_when",
          "H_INESS v. NORWAY (1)<br>Event_what",
          "KOSAITE - CYPIENE AND OTHERS v. LITHUANIA<br>Event",
          "KOSAITE - CYPIENE AND OTHERS v. LITHUANIA<br>Event_who",
          "KOSAITE - CYPIENE AND OTHERS v. LITHUANIA<br>Event_when",
          "KOSAITE - CYPIENE AND OTHERS v. LITHUANIA<br>Event_what",
          "LOZOVYYE v. RUSSIA<br>Event",
          "LOZOVYYE v. RUSSIA<br>Event_who",
          "LOZOVYYE v. RUSSIA<br>Event_when",
          "LOZOVYYE v. RUSSIA<br>Event_what",
          "M.T. v. UKRAINE<br>Event",
          "M.T. v. UKRAINE<br>Event_who",
          "M.T. v. UKRAINE<br>Event_when",
          "M.T. v. UKRAINE<br>Event_what",
          "MOSKALEV v. RUSSIA<br>Event",
          "MOSKALEV v. RUSSIA<br>Event_who",
          "MOSKALEV v. RUSSIA<br>Event_when",
          "MOSKALEV v. RUSSIA<br>Event_what",
          "MURUZHEVA v. RUSSIA<br>Event",
          "MURUZHEVA v. RUSSIA<br>Event_who",
          "MURUZHEVA v. RUSSIA<br>Event_when",
          "MURUZHEVA v. RUSSIA<br>Event_what",
          "O.C.I. AND OTHERS v. ROMANIA<br>Event",
          "O.C.I. AND OTHERS v. ROMANIA<br>Event_who",
          "O.C.I. AND OTHERS v. ROMANIA<br>Event_when",
          "O.C.I. AND OTHERS v. ROMANIA<br>Event_what",
          "OTGON v. THE REPUBLIC OF MOLDOVA<br>Event",
          "OTGON v. THE REPUBLIC OF MOLDOVA<br>Event_who",
          "OTGON v. THE REPUBLIC OF MOLDOVA<br>Event_when",
          "OTGON v. THE REPUBLIC OF MOLDOVA<br>Event_what",
          "PAKHTUSOV v. RUSSIA<br>Event",
          "PAKHTUSOV v. RUSSIA<br>Event_who",
          "PAKHTUSOV v. RUSSIA<br>Event_when",
          "PAKHTUSOV v. RUSSIA<br>Event_what",
          "PANYUSHKINY v. RUSSIA<br>Event",
          "PANYUSHKINY v. RUSSIA<br>Event_who",
          "PANYUSHKINY v. RUSSIA<br>Event_when",
          "PANYUSHKINY v. RUSSIA<br>Event_what",
          "RESIN v. RUSSIA<br>Event",
          "RESIN v. RUSSIA<br>Event_who",
          "RESIN v. RUSSIA<br>Event_when",
          "RESIN v. RUSSIA<br>Event_what",
          "S.N. v. RUSSIA<br>Event",
          "S.N. v. RUSSIA<br>Event_who",
          "S.N. v. RUSSIA<br>Event_when",
          "S.N. v. RUSSIA<br>Event_what",
          "S.V. v. ITALY<br>Event",
          "S.V. v. ITALY<br>Event_who",
          "S.V. v. ITALY<br>Event_when",
          "S.V. v. ITALY<br>Event_what",
          "SHVIDKIYE v. RUSSIA<br>Event",
          "SHVIDKIYE v. RUSSIA<br>Event_who",
          "SHVIDKIYE v. RUSSIA<br>Event_when",
          "SHVIDKIYE v. RUSSIA<br>Event_what",
          "SIDOROVA v. RUSSIA<br>Event",
          "SIDOROVA v. RUSSIA<br>Event_who",
          "SIDOROVA v. RUSSIA<br>Event_when",
          "SIDOROVA v. RUSSIA<br>Event_what",
          "SOLCAN v. ROMANIA<br>Event",
          "SOLCAN v. ROMANIA<br>Event_who",
          "SOLCAN v. ROMANIA<br>Event_when",
          "SOLCAN v. ROMANIA<br>Event_what",
          "STANA v. ROMANIA<br>Event",
          "STANA v. ROMANIA<br>Event_who",
          "STANA v. ROMANIA<br>Event_when",
          "STANA v. ROMANIA<br>Event_what",
          "VISY v. SLOVAKIA<br>Event",
          "VISY v. SLOVAKIA<br>Event_who",
          "VISY v. SLOVAKIA<br>Event_when",
          "VISY v. SLOVAKIA<br>Event_what",
          "YAKUSHEV v. UKRAINE<br>Event",
          "YAKUSHEV v. UKRAINE<br>Event_who",
          "YAKUSHEV v. UKRAINE<br>Event_when",
          "YAKUSHEV v. UKRAINE<br>Event_what",
          "YERMAKOVICH v. RUSSIA<br>Event",
          "YERMAKOVICH v. RUSSIA<br>Event_who",
          "YERMAKOVICH v. RUSSIA<br>Event_when",
          "YERMAKOVICH v. RUSSIA<br>Event_what",
          "YEVGENIY ZAKHAROV v. RUSSIA<br>Event",
          "YEVGENIY ZAKHAROV v. RUSSIA<br>Event_who",
          "YEVGENIY ZAKHAROV v. RUSSIA<br>Event_when",
          "YEVGENIY ZAKHAROV v. RUSSIA<br>Event_what",
          "_NODI v. HUNGARY<br>Event",
          "_NODI v. HUNGARY<br>Event_who",
          "_NODI v. HUNGARY<br>Event_when",
          "_NODI v. HUNGARY<br>Event_what"
         ],
         "type": "scatter",
         "x": {
          "bdata": "kiRJkiRJ0j8AAAAAAAAAABiGYRiGYcg/ERERERERwT8cx3Ecx3HcPwAAAAAAAAAAAAAAAAAAAAAAAAAAAADAPxQ7sRM7seM/FDuxEzuxsz/ZiZ3YiZ3YPwAAAAAAAAAAAAAAAAAAAAAAAAAAAAAAAAAAAAAAAAAAAAAAAAAAAACamZmZmZnZPwAAAAAAAAAAVVVVVVVV1T8or6G8hvLKP1VVVVVVVdU/AAAAAAAAAABVVVVVVVXFP57YiZ3Yib0/VVVVVVVV1T9GF1100UW3PwAAAAAAANA/ERERERERsT+3bdu2bdvWPxQ7sRM7sbM/ntiJndiJzT8AAAAAAAAAAMYYY4wxxrg/AAAAAAAAAACWexphuaehPx3UQR3UQZ0/HEyRz7rBtD/QusEU+aybPwAAAAAAAAAAAAAAAAAAAAAcx3Ecx3G8PxzHcRzHcaw/ERERERERsT9GF1100UW3P9u2bdu2bcs/AAAAAAAAAABVVVVVVVXFPwAAAAAAAAAARhdddNFFtz9GF1100UW3PwAAAAAAAMA/kiRJkiRJsj8AAAAAAAAAAAAAAAAAAAAAAAAAAAAAAAAAAAAAAAAAADi96U1vetM/ZCELWchCpj9GF1100UXHP5Z7GmG5p7E/VVVVVVVV1T8UO7ETO7HDPzMzMzMzM9M/mpmZmZmZyT+rqqqqqqriPwAAAAAAAAAAAAAAAAAAAAAAAAAAAACwPwgffPDBB78/CB988MEHrz8cx3Ecx3G8PxzHcRzHcZw/AAAAAAAA6D8AAAAAAAAAAAAAAAAAAOA/F1100UUXzT8YhmEYhmGYPwAAAAAAAAAAAAAAAAAAAAAAAAAAAAAAAOQ4juM4juM/AAAAAAAAAACxEzuxEzvhPwAAAAAAAAAAL7rooosu2j9GF1100UWnP5qZmZmZmdk/aC+hvYT2wj8UO7ETO7HDPwAAAAAAAAAAAAAAAAAAAAARERERERGxP57YiZ3Yic0/AAAAAAAAAAAAAAAAAAAAABzHcRzHcaw/AAAAAAAA4D9VVVVVVVXFPwAAAAAAAAAARhdddNFFxz+amZmZmZnJP5IkSZIkSbI/AAAAAAAAAAAYhmEYhmG4P1VVVVVVVdU/AAAAAAAAAACamZmZmZnJPwAAAAAAALA/AAAAAAAAAAAAAAAAAAAAAAAAAAAAAAAAAAAAAAAAAAAeHh4eHh6uPxEREREREbE/AAAAAAAAAAAAAAAAAAAAAMYYY4wxxtg/AAAAAAAAAAAXXXTRRRfNP5qZmZmZmZk/",
          "dtype": "f8"
         },
         "xaxis": "x3",
         "y": {
          "bdata": "kiRJkiRJ0j8AAAAAAAAAAAAAAAAAAPA/mpmZmZmZ6T9VVVVVVVXlPwAAAAAAAAAAAAAAAAAAAABVVVVVVVXlPx4eHh4eHs4/kiRJkiRJwj8XXXTRRRfdPwAAAAAAAAAAAAAAAAAAAAAAAAAAAAAAAAAAAAAAAAAAAAAAAAAAAAAAAAAAAADgPwAAAAAAAAAAAAAAAAAA8D+amZmZmZnpP2ZmZmZmZuY/AAAAAAAAAAAAAAAAAADwPwAAAAAAAOg/mpmZmZmZ6T8AAAAAAADQPwAAAAAAAPA/AAAAAAAA4D8AAAAAAADkPwAAAAAAAMA/AAAAAAAA6D8AAAAAAAAAAAAAAAAAANg/AAAAAAAAAAAAAAAAAADgPwAAAAAAAOA/MzMzMzMz4z+amZmZmZnJPwAAAAAAAAAAAAAAAAAAAAAAAAAAAADgPwAAAAAAANA/AAAAAAAA4D9VVVVVVVXlPwAAAAAAAOA/AAAAAAAAAAAAAAAAAADwPwAAAAAAAAAAVVVVVVVVxT9VVVVVVVXFPwAAAAAAAOA/AAAAAAAA0D8AAAAAAAAAAAAAAAAAAAAAAAAAAAAAAAAAAAAAAAAAAAAAAAAAAPA/AAAAAAAA4D8AAAAAAADwPwAAAAAAAPA/kiRJkiRJ4j+amZmZmZnZPwAAAAAAAPA/MzMzMzMz4z+rqqqqqqriPwAAAAAAAAAAAAAAAAAAAABVVVVVVVXVP5qZmZmZmek/AAAAAAAA4D8AAAAAAADwPwAAAAAAAPA/xhhjjDHG2D8AAAAAAAAAAAAAAAAAAPA/t23btm3b5j+amZmZmZnJPwAAAAAAAAAAAAAAAAAAAAAAAAAAAAAAAJqZmZmZmeE/AAAAAAAAAAAAAAAAAADsPwAAAAAAAAAAAAAAAAAA6D9GF1100UW3PxzHcRzHcew/AAAAAAAA8D8AAAAAAADgPwAAAAAAAAAAAAAAAAAAAAAAAAAAAADwPwAAAAAAANA/AAAAAAAAAAAAAAAAAAAAAFVVVVVVVcU/MzMzMzMz4z8AAAAAAADgPwAAAAAAAAAAVVVVVVVV5T/btm3btm3bP5IkSZIkScI/AAAAAAAAAAAAAAAAAADgP5qZmZmZmdk/AAAAAAAAAABVVVVVVVXlPwAAAAAAAPA/AAAAAAAAAAAAAAAAAAAAAAAAAAAAAAAAAAAAAAAAAABVVVVVVVXVPwAAAAAAAOA/AAAAAAAAAAAAAAAAAAAAADMzMzMzM+M/AAAAAAAAAACrqqqqqqrqPwAAAAAAAOA/",
          "dtype": "f8"
         },
         "yaxis": "y3"
        },
        {
         "hovertemplate": "<b>%{text}</b><br>Recall: %{x:.3f}<br>Precision: %{y:.3f}<extra></extra>",
         "legendgroup": "scatter",
         "marker": {
          "color": "#8E44AD",
          "opacity": 0.7,
          "size": 8,
          "symbol": "circle"
         },
         "mode": "markers",
         "name": "dolphin-mixtral:8x7b (docs)",
         "showlegend": true,
         "text": [
          "ALTAY v. TURKEY (No. 2)<br>Event",
          "ALTAY v. TURKEY (No. 2)<br>Event_who",
          "ALTAY v. TURKEY (No. 2)<br>Event_when",
          "ALTAY v. TURKEY (No. 2)<br>Event_what",
          "BELYAYEV AND OTHERS v. UKRAINE<br>Event",
          "BELYAYEV AND OTHERS v. UKRAINE<br>Event_who",
          "BELYAYEV AND OTHERS v. UKRAINE<br>Event_when",
          "BELYAYEV AND OTHERS v. UKRAINE<br>Event_what",
          "BIGUN v. UKRAINE<br>Event",
          "BIGUN v. UKRAINE<br>Event_who",
          "BIGUN v. UKRAINE<br>Event_when",
          "BIGUN v. UKRAINE<br>Event_what",
          "CABUCAK v. GERMANY<br>Event",
          "CABUCAK v. GERMANY<br>Event_who",
          "CABUCAK v. GERMANY<br>Event_when",
          "CABUCAK v. GERMANY<br>Event_what",
          "CAN v. TURKEY<br>Event",
          "CAN v. TURKEY<br>Event_who",
          "CAN v. TURKEY<br>Event_when",
          "CAN v. TURKEY<br>Event_what",
          "CRISTIAN CATALIN UNGUREANU v. ROMANIA<br>Event",
          "CRISTIAN CATALIN UNGUREANU v. ROMANIA<br>Event_who",
          "CRISTIAN CATALIN UNGUREANU v. ROMANIA<br>Event_when",
          "CRISTIAN CATALIN UNGUREANU v. ROMANIA<br>Event_what",
          "DOKTOROV v. BULGARIA<br>Event",
          "DOKTOROV v. BULGARIA<br>Event_who",
          "DOKTOROV v. BULGARIA<br>Event_when",
          "DOKTOROV v. BULGARIA<br>Event_what",
          "EGILL EINARSSON v. ICELAND (No. 2)<br>Event",
          "EGILL EINARSSON v. ICELAND (No. 2)<br>Event_who",
          "EGILL EINARSSON v. ICELAND (No. 2)<br>Event_when",
          "EGILL EINARSSON v. ICELAND (No. 2)<br>Event_what",
          "H_INESS v. NORWAY (1)<br>Event",
          "H_INESS v. NORWAY (1)<br>Event_who",
          "H_INESS v. NORWAY (1)<br>Event_when",
          "H_INESS v. NORWAY (1)<br>Event_what",
          "KOSAITE - CYPIENE AND OTHERS v. LITHUANIA<br>Event",
          "KOSAITE - CYPIENE AND OTHERS v. LITHUANIA<br>Event_who",
          "KOSAITE - CYPIENE AND OTHERS v. LITHUANIA<br>Event_when",
          "KOSAITE - CYPIENE AND OTHERS v. LITHUANIA<br>Event_what",
          "LOZOVYYE v. RUSSIA<br>Event",
          "LOZOVYYE v. RUSSIA<br>Event_who",
          "LOZOVYYE v. RUSSIA<br>Event_when",
          "LOZOVYYE v. RUSSIA<br>Event_what",
          "M.T. v. UKRAINE<br>Event",
          "M.T. v. UKRAINE<br>Event_who",
          "M.T. v. UKRAINE<br>Event_when",
          "M.T. v. UKRAINE<br>Event_what",
          "MOSKALEV v. RUSSIA<br>Event",
          "MOSKALEV v. RUSSIA<br>Event_who",
          "MOSKALEV v. RUSSIA<br>Event_when",
          "MOSKALEV v. RUSSIA<br>Event_what",
          "MURUZHEVA v. RUSSIA<br>Event",
          "MURUZHEVA v. RUSSIA<br>Event_who",
          "MURUZHEVA v. RUSSIA<br>Event_when",
          "MURUZHEVA v. RUSSIA<br>Event_what",
          "O.C.I. AND OTHERS v. ROMANIA<br>Event",
          "O.C.I. AND OTHERS v. ROMANIA<br>Event_who",
          "O.C.I. AND OTHERS v. ROMANIA<br>Event_when",
          "O.C.I. AND OTHERS v. ROMANIA<br>Event_what",
          "OTGON v. THE REPUBLIC OF MOLDOVA<br>Event",
          "OTGON v. THE REPUBLIC OF MOLDOVA<br>Event_who",
          "OTGON v. THE REPUBLIC OF MOLDOVA<br>Event_when",
          "OTGON v. THE REPUBLIC OF MOLDOVA<br>Event_what",
          "PAKHTUSOV v. RUSSIA<br>Event",
          "PAKHTUSOV v. RUSSIA<br>Event_who",
          "PAKHTUSOV v. RUSSIA<br>Event_when",
          "PAKHTUSOV v. RUSSIA<br>Event_what",
          "PANYUSHKINY v. RUSSIA<br>Event",
          "PANYUSHKINY v. RUSSIA<br>Event_who",
          "PANYUSHKINY v. RUSSIA<br>Event_when",
          "PANYUSHKINY v. RUSSIA<br>Event_what",
          "RESIN v. RUSSIA<br>Event",
          "RESIN v. RUSSIA<br>Event_who",
          "RESIN v. RUSSIA<br>Event_when",
          "RESIN v. RUSSIA<br>Event_what",
          "S.N. v. RUSSIA<br>Event",
          "S.N. v. RUSSIA<br>Event_who",
          "S.N. v. RUSSIA<br>Event_when",
          "S.N. v. RUSSIA<br>Event_what",
          "S.V. v. ITALY<br>Event",
          "S.V. v. ITALY<br>Event_who",
          "S.V. v. ITALY<br>Event_when",
          "S.V. v. ITALY<br>Event_what",
          "SHVIDKIYE v. RUSSIA<br>Event",
          "SHVIDKIYE v. RUSSIA<br>Event_who",
          "SHVIDKIYE v. RUSSIA<br>Event_when",
          "SHVIDKIYE v. RUSSIA<br>Event_what",
          "SIDOROVA v. RUSSIA<br>Event",
          "SIDOROVA v. RUSSIA<br>Event_who",
          "SIDOROVA v. RUSSIA<br>Event_when",
          "SIDOROVA v. RUSSIA<br>Event_what",
          "SOLCAN v. ROMANIA<br>Event",
          "SOLCAN v. ROMANIA<br>Event_who",
          "SOLCAN v. ROMANIA<br>Event_when",
          "SOLCAN v. ROMANIA<br>Event_what",
          "STANA v. ROMANIA<br>Event",
          "STANA v. ROMANIA<br>Event_who",
          "STANA v. ROMANIA<br>Event_when",
          "STANA v. ROMANIA<br>Event_what",
          "VISY v. SLOVAKIA<br>Event",
          "VISY v. SLOVAKIA<br>Event_who",
          "VISY v. SLOVAKIA<br>Event_when",
          "VISY v. SLOVAKIA<br>Event_what",
          "YAKUSHEV v. UKRAINE<br>Event",
          "YAKUSHEV v. UKRAINE<br>Event_who",
          "YAKUSHEV v. UKRAINE<br>Event_when",
          "YAKUSHEV v. UKRAINE<br>Event_what",
          "YERMAKOVICH v. RUSSIA<br>Event",
          "YERMAKOVICH v. RUSSIA<br>Event_who",
          "YERMAKOVICH v. RUSSIA<br>Event_when",
          "YERMAKOVICH v. RUSSIA<br>Event_what",
          "YEVGENIY ZAKHAROV v. RUSSIA<br>Event",
          "YEVGENIY ZAKHAROV v. RUSSIA<br>Event_who",
          "YEVGENIY ZAKHAROV v. RUSSIA<br>Event_when",
          "YEVGENIY ZAKHAROV v. RUSSIA<br>Event_what",
          "_NODI v. HUNGARY<br>Event",
          "_NODI v. HUNGARY<br>Event_who",
          "_NODI v. HUNGARY<br>Event_when",
          "_NODI v. HUNGARY<br>Event_what"
         ],
         "type": "scatter",
         "x": {
          "bdata": "kiRJkiRJ4j8AAAAAAAAAANu2bdu2bds/VVVVVVVVxT8cx3Ecx3HcPwAAAAAAAAAAAAAAAAAAAAAAAAAAAAAAAJ7YiZ3Yid0/AAAAAAAAAAAUO7ETO7HDP1VVVVVVVcU/+hicj8H5yD8AAAAAAAAAAF5DeQ3lNcQ/9AV9QV/Qtz+8u7u7u7vrPwAAAAAAAAAAmpmZmZmZ6T9sKK+hvIbiPwAAAAAAAAAAAAAAAAAAAAAAAAAAAAAAAAAAAAAAAAAAAAAAAAAAAAAAAAAAAAAAAAAAAAAAAAAAAAAAAAAAAACSJEmSJEnSPxQ7sRM7sbM/FDuxEzux0z8AAAAAAAAAAIQQQgghhLA/AAAAAAAAAABhuacRlnu6Px3UQR3UQZ0/whT5rBtMwT8AAAAAAAAAAAgffPDBB58/+hicj8H5mD8cx3Ecx3G8PxzHcRzHcaw/AAAAAAAAAABGF1100UW3PwAAAAAAAAAAAAAAAAAAAAAAAAAAAAAAAAAAAAAAAAAAF1100UUX3T8AAAAAAAAAAAAAAAAAAOA/kiRJkiRJwj/WlDVlTVnjP5IkSZIkScI/VVVVVVVVtT801ofG+tDYPwtZyEIWstA/ZCELWchCpj900UUXXXTRP2G5pxGWe8o/q6qqqqqq2j8AAAAAAAAAADMzMzMzM9M/mpmZmZmZyT+rqqqqqqrqPwAAAAAAAAAAmpmZmZmZyT8AAAAAAACwPz744IMPPug/RhdddNFFtz9oL6G9hPaiP6uqqqqqquI/AAAAAAAA2D8AAAAAAAAAANu2bdu2bcs/RhdddNFFpz8YhmEYhmGYP5qZmZmZmZk/AAAAAAAAAABGF1100UWXP3Icx3Ecx9E/HMdxHMdxrD8AAAAAAAAAAHsUrkfhesQ/RhdddNFFtz8AAAAAAAAAAJqZmZmZmbk/aC+hvYT2oj8AAAAAAAAAAAAAAAAAAAAAAAAAAAAAAAAAAAAAAAAAALETO7ETO+E/AAAAAAAAAABGF1100UXXPxzHcRzHccw/q6qqqqqq6j9VVVVVVVXFPwAAAAAAAPA/RhdddNFFxz8RERERERHhPwAAAAAAAAAAF1100UUX3T+SJEmSJEnCP6uqqqqqquI/AAAAAAAAAAAzMzMzMzPjPwAAAAAAANw/ERERERER4T8AAAAAAAAAABEREREREaE/eQ3lNZTXwD8AAAAAAAAAAAAAAAAAAAAAAAAAAAAAAAAAAAAAAAAAAMYYY4wxxtg/AAAAAAAAAAB00UUXXXTRPzMzMzMzM7M/",
          "dtype": "f8"
         },
         "xaxis": "x3",
         "y": {
          "bdata": "VVVVVVVV5T8AAAAAAAAAAAAAAAAAAOg/AAAAAAAA5D9VVVVVVVXVPwAAAAAAAAAAAAAAAAAAAAAAAAAAAAAAAHTRRRdddOE/AAAAAAAAAAAAAAAAAADgP9u2bdu2bds/RhdddNFF5z8AAAAAAAAAANu2bdu2bes/AAAAAAAA8D/NzMzMzMzkPwAAAAAAAAAA27Zt27Zt6z8AAAAAAADmPwAAAAAAAAAAAAAAAAAAAAAAAAAAAAAAAAAAAAAAAAAAAAAAAAAAAAAAAAAAAAAAAAAAAAAAAAAAAAAAAAAAAAAUO7ETO7HTP1VVVVVVVcU/kiRJkiRJ4j8AAAAAAAAAAFVVVVVVVeU/AAAAAAAAAAAAAAAAAADwPwAAAAAAAPA/chzHcRzH4T8AAAAAAAAAAAAAAAAAAPA/VVVVVVVV1T9VVVVVVVXlPwAAAAAAAOA/AAAAAAAAAABVVVVVVVXlPwAAAAAAAAAAAAAAAAAAAAAAAAAAAAAAAAAAAAAAAAAAt23btm3b5j8AAAAAAAAAAJqZmZmZmek/AAAAAAAA8D+8u7u7u7vrP3TRRRdddNE/MzMzMzMz4z9SuB6F61HoPwAAAAAAAOg/VVVVVVVVxT8AAAAAAADwPwAAAAAAAPA/chzHcRzH4T8AAAAAAAAAADMzMzMzM+M/27Zt27Zt2z9VVVVVVVXlPwAAAAAAAAAAAAAAAAAA8D9VVVVVVVXVP84555xzzuk/MzMzMzMzwz9VVVVVVVXVP9Ob3vSmN+0/27Zt27Zt6z8AAAAAAAAAAAAAAAAAAOg/AAAAAAAA4D8AAAAAAADgPwAAAAAAAOA/AAAAAAAAAAAAAAAAAADwP7dt27Zt2+Y/kiRJkiRJwj8AAAAAAAAAAFVVVVVVVeU/AAAAAAAA4D8AAAAAAAAAAFVVVVVVVeU/VVVVVVVV1T8AAAAAAAAAAAAAAAAAAAAAAAAAAAAAAAAAAAAAAAAAAAAAAAAAAOA/AAAAAAAAAABVVVVVVVXlP5IkSZIkSeI/AAAAAAAA4D9VVVVVVVXVP1VVVVVVVeU/mpmZmZmZ2T9GF1100UXXPwAAAAAAAAAAAAAAAAAA5D8zMzMzMzPjP2ZmZmZmZuY/AAAAAAAAAADbtm3btm3rP2ZmZmZmZuY/ZCELWchC5j8AAAAAAAAAAAAAAAAAAOA/q6qqqqqq6j8AAAAAAAAAAAAAAAAAAAAAAAAAAAAAAAAAAAAAAAAAAFVVVVVVVeU/AAAAAAAAAABVVVVVVVXlPzMzMzMzM+M/",
>>>>>>> a813ab3a2a19b49bf703a1dc6fd99353356c8a2d
          "dtype": "f8"
         },
         "yaxis": "y3"
        },
        {
         "hovertemplate": "<b>gemma3:1b</b><br>Document: %{x}<br>Avg F1: %{y:.3f}<extra></extra>",
         "marker": {
          "color": "#E74C3C"
         },
         "name": "gemma3:1b",
         "opacity": 0.8,
         "showlegend": false,
         "type": "bar",
         "x": [
          "ALTAY v. TURKEY (No. 2)",
          "BELYAYEV AND OTHERS v. UKRAINE",
          "BIGUN v. UKRAINE",
          "CABUCAK v. GERMANY",
          "CAN v. TURKEY",
          "CRISTIAN CATALIN UNGUREANU v. ROMANIA",
          "DOKTOROV v. BULGARIA",
          "EGILL EINARSSON v. ICELAND (No. 2)",
          "H_INESS v. NORWAY (1)",
          "KOSAITE - CYPIENE AND OTHERS v. LITHUANIA",
          "LOZOVYYE v. RUSSIA",
          "M.T. v. UKRAINE",
          "MOSKALEV v. RUSSIA",
          "MURUZHEVA v. RUSSIA",
          "O.C.I. AND OTHERS v. ROMANIA",
          "OTGON v. THE REPUBLIC OF MOLDOVA",
          "PAKHTUSOV v. RUSSIA",
          "PANYUSHKINY v. RUSSIA",
          "RESIN v. RUSSIA",
          "S.N. v. RUSSIA",
          "S.V. v. ITALY",
          "SHVIDKIYE v. RUSSIA",
          "SIDOROVA v. RUSSIA",
          "SOLCAN v. ROMANIA",
          "STANA v. ROMANIA",
          "VISY v. SLOVAKIA",
          "YAKUSHEV v. UKRAINE",
          "YERMAKOVICH v. RUSSIA",
          "YEVGENIY ZAKHAROV v. RUSSIA",
          "_NODI v. HUNGARY"
         ],
         "xaxis": "x4",
         "y": {
          "bdata": "HMdxHMdxrD/qWNOmQiHGP5MkSZIkSbI/tOj4CHIMmj9HJSs+AFLOPyIgudni+dA/qESMNHNGzT8AAAAAAAAAAAAAAAAAAAAA2FTIvIpcpD/y4lK9EQ7QP8cIJvo7Wc0/76iRNMDuyD8AAAAAAAAAAOsUuk6h67Q/eBLBqkX0zT+SizCAeh/TPwAAAAAAAAAAMNcOzLUDwz/hrWu1JaKfPwAAAAAAAAAAAAAAAAAAAAAPDw8PDw+vPzbZZJNNNsk/n+d5nud51j8fHh4eHh6eP2vfsPYNa9M/kh5NB/CSnj9ipB0rEEbKP7h8y7d8y8s/",
          "dtype": "f8"
         },
         "yaxis": "y4"
        },
        {
         "hovertemplate": "<b>gemma3:4b</b><br>Document: %{x}<br>Avg F1: %{y:.3f}<extra></extra>",
         "marker": {
          "color": "#3498DB"
         },
         "name": "gemma3:4b",
         "opacity": 0.8,
         "showlegend": false,
         "type": "bar",
         "x": [
          "ALTAY v. TURKEY (No. 2)",
          "BELYAYEV AND OTHERS v. UKRAINE",
          "BIGUN v. UKRAINE",
          "CABUCAK v. GERMANY",
          "CAN v. TURKEY",
          "CRISTIAN CATALIN UNGUREANU v. ROMANIA",
          "DOKTOROV v. BULGARIA",
          "EGILL EINARSSON v. ICELAND (No. 2)",
          "H_INESS v. NORWAY (1)",
          "KOSAITE - CYPIENE AND OTHERS v. LITHUANIA",
          "LOZOVYYE v. RUSSIA",
          "M.T. v. UKRAINE",
          "MOSKALEV v. RUSSIA",
          "MURUZHEVA v. RUSSIA",
          "O.C.I. AND OTHERS v. ROMANIA",
          "OTGON v. THE REPUBLIC OF MOLDOVA",
          "PAKHTUSOV v. RUSSIA",
          "PANYUSHKINY v. RUSSIA",
          "RESIN v. RUSSIA",
          "S.N. v. RUSSIA",
          "S.V. v. ITALY",
          "SHVIDKIYE v. RUSSIA",
          "SIDOROVA v. RUSSIA",
          "SOLCAN v. ROMANIA",
          "STANA v. ROMANIA",
          "VISY v. SLOVAKIA",
          "YAKUSHEV v. UKRAINE",
          "YERMAKOVICH v. RUSSIA",
          "YEVGENIY ZAKHAROV v. RUSSIA",
          "_NODI v. HUNGARY"
         ],
         "xaxis": "x4",
         "y": {
          "bdata": "hcJY0VMo0z8RERERERGxP5dv+ZZv+cY/yHu8x3u8tz9eIJPiBTLhP3TsEgW8Ab0/c1XYZHCi0D8Clm2+HGDJP0VERERERLQ/oA3pnw3prz+ZI9PLVgbfPz/qoz7qo9Y/RW7aL/642j9GglswQZjSP55L8KY5FM8/AAAAAAAAAADRUu62gkfVP+dabxr3Q8A/mRNmxXeH0D8AAAAAAAAAADKjQ3zM6NQ/YOdzl/IU1T8AAAAAAAAAAMyYyYyZzMg/h2EYhmEY3D9a0mfMWwDOP1pzJmLLQ9k/AAAAAAAAoD9GYARGYATZP6g2GlPhxM0/",
          "dtype": "f8"
         },
         "yaxis": "y4"
        },
        {
         "hovertemplate": "<b>gemma3:12b</b><br>Document: %{x}<br>Avg F1: %{y:.3f}<extra></extra>",
         "marker": {
          "color": "#2ECC71"
         },
         "name": "gemma3:12b",
         "opacity": 0.8,
         "showlegend": false,
         "type": "bar",
         "x": [
          "ALTAY v. TURKEY (No. 2)",
          "BELYAYEV AND OTHERS v. UKRAINE",
          "BIGUN v. UKRAINE",
          "CABUCAK v. GERMANY",
          "CAN v. TURKEY",
          "CRISTIAN CATALIN UNGUREANU v. ROMANIA",
          "DOKTOROV v. BULGARIA",
          "EGILL EINARSSON v. ICELAND (No. 2)",
          "H_INESS v. NORWAY (1)",
          "KOSAITE - CYPIENE AND OTHERS v. LITHUANIA",
          "LOZOVYYE v. RUSSIA",
          "M.T. v. UKRAINE",
          "MOSKALEV v. RUSSIA",
          "MURUZHEVA v. RUSSIA",
          "O.C.I. AND OTHERS v. ROMANIA",
          "OTGON v. THE REPUBLIC OF MOLDOVA",
          "PAKHTUSOV v. RUSSIA",
          "PANYUSHKINY v. RUSSIA",
          "RESIN v. RUSSIA",
          "S.N. v. RUSSIA",
          "S.V. v. ITALY",
          "SHVIDKIYE v. RUSSIA",
          "SIDOROVA v. RUSSIA",
          "SOLCAN v. ROMANIA",
          "STANA v. ROMANIA",
          "VISY v. SLOVAKIA",
          "YAKUSHEV v. UKRAINE",
          "YERMAKOVICH v. RUSSIA",
          "YEVGENIY ZAKHAROV v. RUSSIA",
          "_NODI v. HUNGARY"
         ],
         "xaxis": "x4",
         "y": {
          "bdata": "c9PCW3ZO2j8DUisOq/PQPxD4GbRwm9A/uHZ5m4C02T8rW6DeydDjPzABGQ0TkNo/UBbtKk6Z2D+zEzSUCYbbP00c0QYFdNw/2FTIvIpcpD/fO7CBx97bPyizI288w9g/3Mu93Mu93D+4M320xabXPxFwdSjN6dk/3MM93MM94D+vtoWXv5niPw8Fhl9jyeI/dNFFF1102T/NooO9vwSgP5EGaZAGad0/4mEGYTNa1j8UrkfhehTgP3GSVRMehOE/t3Vbt3Vb1z8rKbyh0SrVPwkDAavjS+M/0pa0JW1Juz8AMt28GyvUP0SSjPMOaNk/",
<<<<<<< HEAD
=======
          "dtype": "f8"
         },
         "yaxis": "y4"
        },
        {
         "hovertemplate": "<b>llama3.3:latest</b><br>Document: %{x}<br>Avg F1: %{y:.3f}<extra></extra>",
         "marker": {
          "color": "#F39C12"
         },
         "name": "llama3.3:latest",
         "opacity": 0.8,
         "showlegend": false,
         "type": "bar",
         "x": [
          "ALTAY v. TURKEY (No. 2)",
          "BELYAYEV AND OTHERS v. UKRAINE",
          "BIGUN v. UKRAINE",
          "CABUCAK v. GERMANY",
          "CAN v. TURKEY",
          "CRISTIAN CATALIN UNGUREANU v. ROMANIA",
          "DOKTOROV v. BULGARIA",
          "EGILL EINARSSON v. ICELAND (No. 2)",
          "H_INESS v. NORWAY (1)",
          "KOSAITE - CYPIENE AND OTHERS v. LITHUANIA",
          "LOZOVYYE v. RUSSIA",
          "M.T. v. UKRAINE",
          "MOSKALEV v. RUSSIA",
          "MURUZHEVA v. RUSSIA",
          "O.C.I. AND OTHERS v. ROMANIA",
          "OTGON v. THE REPUBLIC OF MOLDOVA",
          "PAKHTUSOV v. RUSSIA",
          "PANYUSHKINY v. RUSSIA",
          "RESIN v. RUSSIA",
          "S.N. v. RUSSIA",
          "S.V. v. ITALY",
          "SHVIDKIYE v. RUSSIA",
          "SIDOROVA v. RUSSIA",
          "SOLCAN v. ROMANIA",
          "STANA v. ROMANIA",
          "VISY v. SLOVAKIA",
          "YAKUSHEV v. UKRAINE",
          "YERMAKOVICH v. RUSSIA",
          "YEVGENIY ZAKHAROV v. RUSSIA",
          "_NODI v. HUNGARY"
         ],
         "xaxis": "x4",
         "y": {
          "bdata": "fpxMpSrf3j9JkiRJkiTFPzgkaUxIb9w/AAAAAAAAAACcZ5ZRPvHkP7IywY4Gytk/zuZszuZs4D/8EvZNLv/hP4iIiIiIiKA/AAAAAAAAAABhebUYCZbiPy5d7TYoK9Y/uTfZd9XY4j9/IRjhcTjhP1w2409dzOE/Qv1v3ttk3z/Wpdu5WU3kP29uArwoteU/Ev5M+DPh1z9jIQtZyEKGP96A6wHiC+I/KrrZ/mzo4j/HcRzHcRzLPxwDpjFgGt8/Kz8hzspP5T90rTF1rTHVPx5R43rFtOQ/a3e13r8C5z/g58PvWsPgP6DyY+Nc5ts/",
          "dtype": "f8"
         },
         "yaxis": "y4"
        },
        {
         "hovertemplate": "<b>deepseek-r1:8b</b><br>Document: %{x}<br>Avg F1: %{y:.3f}<extra></extra>",
         "marker": {
          "color": "#9B59B6"
         },
         "name": "deepseek-r1:8b",
         "opacity": 0.8,
         "showlegend": false,
         "type": "bar",
         "x": [
          "ALTAY v. TURKEY (No. 2)",
          "BELYAYEV AND OTHERS v. UKRAINE",
          "BIGUN v. UKRAINE",
          "CABUCAK v. GERMANY",
          "CAN v. TURKEY",
          "CRISTIAN CATALIN UNGUREANU v. ROMANIA",
          "DOKTOROV v. BULGARIA",
          "EGILL EINARSSON v. ICELAND (No. 2)",
          "H_INESS v. NORWAY (1)",
          "KOSAITE - CYPIENE AND OTHERS v. LITHUANIA",
          "LOZOVYYE v. RUSSIA",
          "M.T. v. UKRAINE",
          "MOSKALEV v. RUSSIA",
          "MURUZHEVA v. RUSSIA",
          "O.C.I. AND OTHERS v. ROMANIA",
          "OTGON v. THE REPUBLIC OF MOLDOVA",
          "PAKHTUSOV v. RUSSIA",
          "PANYUSHKINY v. RUSSIA",
          "RESIN v. RUSSIA",
          "S.N. v. RUSSIA",
          "S.V. v. ITALY",
          "SHVIDKIYE v. RUSSIA",
          "SIDOROVA v. RUSSIA",
          "SOLCAN v. ROMANIA",
          "STANA v. ROMANIA",
          "VISY v. SLOVAKIA",
          "YAKUSHEV v. UKRAINE",
          "YERMAKOVICH v. RUSSIA",
          "YEVGENIY ZAKHAROV v. RUSSIA",
          "_NODI v. HUNGARY"
         ],
         "xaxis": "x4",
         "y": {
          "bdata": "dQHF2t+W0D8AAAAAAACwP1zC7WoamtU/dEO6831wxD8OLORu5YvgP2kxolHULdA/pv4be0Xeyz8AAAAAAADYP8D60TBfINE/VmwKIlv2vz/5YzTtCmzaP2zGjw7mcb0/zJvRzLeCxD9VdyippozSP51MbZPq+q0/6G9OTYKE1j82egB8kV3QP6QLhaCQvdc/3o7cG2ZEzT9W6UyB5GmjP1EfGC9nFNc/IOop05DW2D8Ee8fUwN7JP5RjYT4ODN0/IpypjsRY3D8HqqZRflW2PwAAAAAAAAAAC/YC4twauD8j08tWBv/RPxISEhISktk/",
>>>>>>> a813ab3a2a19b49bf703a1dc6fd99353356c8a2d
          "dtype": "f8"
         },
         "yaxis": "y4"
        },
        {
         "hovertemplate": "<b>mistral:latest</b><br>Document: %{x}<br>Avg F1: %{y:.3f}<extra></extra>",
         "marker": {
          "color": "#1ABC9C"
         },
         "name": "mistral:latest",
         "opacity": 0.8,
         "showlegend": false,
         "type": "bar",
         "x": [
          "ALTAY v. TURKEY (No. 2)",
          "BELYAYEV AND OTHERS v. UKRAINE",
          "BIGUN v. UKRAINE",
          "CABUCAK v. GERMANY",
          "CAN v. TURKEY",
          "CRISTIAN CATALIN UNGUREANU v. ROMANIA",
          "DOKTOROV v. BULGARIA",
          "EGILL EINARSSON v. ICELAND (No. 2)",
          "H_INESS v. NORWAY (1)",
          "KOSAITE - CYPIENE AND OTHERS v. LITHUANIA",
          "LOZOVYYE v. RUSSIA",
          "M.T. v. UKRAINE",
          "MOSKALEV v. RUSSIA",
          "MURUZHEVA v. RUSSIA",
          "O.C.I. AND OTHERS v. ROMANIA",
          "OTGON v. THE REPUBLIC OF MOLDOVA",
          "PAKHTUSOV v. RUSSIA",
          "PANYUSHKINY v. RUSSIA",
          "RESIN v. RUSSIA",
          "S.N. v. RUSSIA",
          "S.V. v. ITALY",
          "SHVIDKIYE v. RUSSIA",
          "SIDOROVA v. RUSSIA",
          "SOLCAN v. ROMANIA",
          "STANA v. ROMANIA",
          "VISY v. SLOVAKIA",
          "YAKUSHEV v. UKRAINE",
          "YERMAKOVICH v. RUSSIA",
          "YEVGENIY ZAKHAROV v. RUSSIA",
          "_NODI v. HUNGARY"
         ],
         "xaxis": "x4",
         "y": {
          "bdata": "cMq0HF2O0z+VK5HqgOa/P+YhF15qHtI/AYoawlhp0j9unvlOGwbhPyDkyNM1qNU/YE1PAgrW1D9hsmMEPpLWP3/Qqji5Tcw/L87tNi33yz8YhmEYhmHgP90LCk8RO9g/TMIkTMIk2D/KrzCCN4fZPwAAAAAAAAAAvLu7u7u72z802ufFE+nYP5gUfSk5xt0/nk/WY+ki1T8hF3IhF3KxP7qUS7mUS90/D+y1Mnvy3D9MK5/qhoHHPzfKF04njNc/YRiGYRiG0T/cm3Bvwr3RP8E3OKFT1N0/VXjftnoR0T9es0fy6KzPP7eL4BXmx9Y/",
<<<<<<< HEAD
=======
          "dtype": "f8"
         },
         "yaxis": "y4"
        },
        {
         "hovertemplate": "<b>incept5/llama3.1-claude:latest</b><br>Document: %{x}<br>Avg F1: %{y:.3f}<extra></extra>",
         "marker": {
          "color": "#F1C40F"
         },
         "name": "incept5/llama3.1-claude:latest",
         "opacity": 0.8,
         "showlegend": false,
         "type": "bar",
         "x": [
          "ALTAY v. TURKEY (No. 2)",
          "BELYAYEV AND OTHERS v. UKRAINE",
          "BIGUN v. UKRAINE",
          "CABUCAK v. GERMANY",
          "CAN v. TURKEY",
          "CRISTIAN CATALIN UNGUREANU v. ROMANIA",
          "DOKTOROV v. BULGARIA",
          "EGILL EINARSSON v. ICELAND (No. 2)",
          "H_INESS v. NORWAY (1)",
          "KOSAITE - CYPIENE AND OTHERS v. LITHUANIA",
          "LOZOVYYE v. RUSSIA",
          "M.T. v. UKRAINE",
          "MOSKALEV v. RUSSIA",
          "MURUZHEVA v. RUSSIA",
          "O.C.I. AND OTHERS v. ROMANIA",
          "OTGON v. THE REPUBLIC OF MOLDOVA",
          "PAKHTUSOV v. RUSSIA",
          "PANYUSHKINY v. RUSSIA",
          "RESIN v. RUSSIA",
          "S.N. v. RUSSIA",
          "S.V. v. ITALY",
          "SHVIDKIYE v. RUSSIA",
          "SIDOROVA v. RUSSIA",
          "SOLCAN v. ROMANIA",
          "STANA v. ROMANIA",
          "VISY v. SLOVAKIA",
          "YAKUSHEV v. UKRAINE",
          "YERMAKOVICH v. RUSSIA",
          "YEVGENIY ZAKHAROV v. RUSSIA",
          "_NODI v. HUNGARY"
         ],
         "xaxis": "x4",
         "y": {
          "bdata": "MDknSwOT0z/btm3btm27P4PXKnitgsc/MJ3/0vkvzT84P7aAFOjdP/cGkRLYhtU/c9pApw102j8AAAAAAAAAAM7arM3arLk/AAMtzc/5yT9u27Zt27bUP5B59fKOx9E/8er0Zbw63T8WTbAvSHTTPx/u4R7u4dY/uxGQ0m4E4T+v67qu67reP3gi/qZOWN8/596/Q1OR0T9cOzDXDsyVPw3eIjaDt9A/naEi9Y+Mzz+WZVmWZVnGP9YSub+1RM4/IP/xH//x3z/ncA7ncA7HP65H4XoUrtc/hA8++OCDpz9aozVaozXSPyF2WhM4Kcs/",
          "dtype": "f8"
         },
         "yaxis": "y4"
        },
        {
         "hovertemplate": "<b>chevalblanc/claude-3-haiku:latest</b><br>Document: %{x}<br>Avg F1: %{y:.3f}<extra></extra>",
         "marker": {
          "color": "#E67E22"
         },
         "name": "chevalblanc/claude-3-haiku:latest",
         "opacity": 0.8,
         "showlegend": false,
         "type": "bar",
         "x": [
          "ALTAY v. TURKEY (No. 2)",
          "BELYAYEV AND OTHERS v. UKRAINE",
          "BIGUN v. UKRAINE",
          "CABUCAK v. GERMANY",
          "CAN v. TURKEY",
          "CRISTIAN CATALIN UNGUREANU v. ROMANIA",
          "DOKTOROV v. BULGARIA",
          "EGILL EINARSSON v. ICELAND (No. 2)",
          "H_INESS v. NORWAY (1)",
          "KOSAITE - CYPIENE AND OTHERS v. LITHUANIA",
          "LOZOVYYE v. RUSSIA",
          "M.T. v. UKRAINE",
          "MOSKALEV v. RUSSIA",
          "MURUZHEVA v. RUSSIA",
          "O.C.I. AND OTHERS v. ROMANIA",
          "OTGON v. THE REPUBLIC OF MOLDOVA",
          "PAKHTUSOV v. RUSSIA",
          "PANYUSHKINY v. RUSSIA",
          "RESIN v. RUSSIA",
          "S.N. v. RUSSIA",
          "S.V. v. ITALY",
          "SHVIDKIYE v. RUSSIA",
          "SIDOROVA v. RUSSIA",
          "SOLCAN v. ROMANIA",
          "STANA v. ROMANIA",
          "VISY v. SLOVAKIA",
          "YAKUSHEV v. UKRAINE",
          "YERMAKOVICH v. RUSSIA",
          "YEVGENIY ZAKHAROV v. RUSSIA",
          "_NODI v. HUNGARY"
         ],
         "xaxis": "x4",
         "y": {
          "bdata": "SdUBDHUL2z+SJEmSJEmiP5SzE4kFL8I/ku4vfCpLoT9CHdRBHdThP7lKdXtSlM8/zczMzMzMzD/RDd3QDd3QP4yKxefFqLg/P+mTPumTvj8xxhhjjDHSP7rooosuusg/WqgjijG02j8orqO4juK6PwIkD3W0w8Y/kI+Pj4+Pzz+KXxIh1bLSP4j3v9vNVNE/MBD5ApEv2D9ggqdXZZC/P25MQegf3cY/tjbbPqFH3T/scFLmPinoPyzwv+jZDcg/4yu+4iu+3j988MEHH3y4P6CTdPUJk9s/1zoh7EKI2D8mL3Wxe/3TP0V/J6vljbE/",
          "dtype": "f8"
         },
         "yaxis": "y4"
        },
        {
         "hovertemplate": "<b>llama4:16x17b</b><br>Document: %{x}<br>Avg F1: %{y:.3f}<extra></extra>",
         "marker": {
          "color": "#95A5A6"
         },
         "name": "llama4:16x17b",
         "opacity": 0.8,
         "showlegend": false,
         "type": "bar",
         "x": [
          "ALTAY v. TURKEY (No. 2)",
          "BELYAYEV AND OTHERS v. UKRAINE",
          "BIGUN v. UKRAINE",
          "CABUCAK v. GERMANY",
          "CAN v. TURKEY",
          "CRISTIAN CATALIN UNGUREANU v. ROMANIA",
          "DOKTOROV v. BULGARIA",
          "EGILL EINARSSON v. ICELAND (No. 2)",
          "H_INESS v. NORWAY (1)",
          "KOSAITE - CYPIENE AND OTHERS v. LITHUANIA",
          "LOZOVYYE v. RUSSIA",
          "M.T. v. UKRAINE",
          "MOSKALEV v. RUSSIA",
          "MURUZHEVA v. RUSSIA",
          "O.C.I. AND OTHERS v. ROMANIA",
          "OTGON v. THE REPUBLIC OF MOLDOVA",
          "PAKHTUSOV v. RUSSIA",
          "PANYUSHKINY v. RUSSIA",
          "RESIN v. RUSSIA",
          "S.N. v. RUSSIA",
          "S.V. v. ITALY",
          "SHVIDKIYE v. RUSSIA",
          "SIDOROVA v. RUSSIA",
          "SOLCAN v. ROMANIA",
          "STANA v. ROMANIA",
          "VISY v. SLOVAKIA",
          "YAKUSHEV v. UKRAINE",
          "YERMAKOVICH v. RUSSIA",
          "YEVGENIY ZAKHAROV v. RUSSIA",
          "_NODI v. HUNGARY"
         ],
         "xaxis": "x4",
         "y": {
          "bdata": "AAAAAAAAAAAAAAAAAAAAAAAAAAAAAAAAAAAAAAAAAAAAAAAAAAAAAPJCVMJrRbY/HMdxHMdxvD8AAAAAAAAAAAAAAAAAAAAAAAAAAAAAAAAAAAAAAAAAAAAAAAAAAAAAAAAAAAAAAAAAAAAAAAAAAAAAAAAAAAAAkFyJiYKa2z8tKQdEhnu1P45Shl34H7o/AAAAAAAAAAAAAAAAAAAAAAAAAAAAAAAAAAAAAAAAAAAAAAAAAAAAAAAAAAAAAAAAHMdxHMdx1D8AAAAAAAAAAKXoYW9Uir4/AAAAAAAAAAAAAAAAAAAAAH4MzsfgfJw/",
          "dtype": "f8"
         },
         "yaxis": "y4"
        },
        {
         "hovertemplate": "<b>mixtral:8x7b</b><br>Document: %{x}<br>Avg F1: %{y:.3f}<extra></extra>",
         "marker": {
          "color": "#34495E"
         },
         "name": "mixtral:8x7b",
         "opacity": 0.8,
         "showlegend": false,
         "type": "bar",
         "x": [
          "ALTAY v. TURKEY (No. 2)",
          "BELYAYEV AND OTHERS v. UKRAINE",
          "BIGUN v. UKRAINE",
          "CABUCAK v. GERMANY",
          "CAN v. TURKEY",
          "CRISTIAN CATALIN UNGUREANU v. ROMANIA",
          "DOKTOROV v. BULGARIA",
          "EGILL EINARSSON v. ICELAND (No. 2)",
          "H_INESS v. NORWAY (1)",
          "KOSAITE - CYPIENE AND OTHERS v. LITHUANIA",
          "LOZOVYYE v. RUSSIA",
          "M.T. v. UKRAINE",
          "MOSKALEV v. RUSSIA",
          "MURUZHEVA v. RUSSIA",
          "O.C.I. AND OTHERS v. ROMANIA",
          "OTGON v. THE REPUBLIC OF MOLDOVA",
          "PAKHTUSOV v. RUSSIA",
          "PANYUSHKINY v. RUSSIA",
          "RESIN v. RUSSIA",
          "S.N. v. RUSSIA",
          "S.V. v. ITALY",
          "SHVIDKIYE v. RUSSIA",
          "SIDOROVA v. RUSSIA",
          "SOLCAN v. ROMANIA",
          "STANA v. ROMANIA",
          "VISY v. SLOVAKIA",
          "YAKUSHEV v. UKRAINE",
          "YERMAKOVICH v. RUSSIA",
          "YEVGENIY ZAKHAROV v. RUSSIA",
          "_NODI v. HUNGARY"
         ],
         "xaxis": "x4",
         "y": {
          "bdata": "vEiOSFC61j9ONtlkk022Pz/44IMPPsg/jF03K22Z1D+XcimXcinXP6LnXKSk3M8/DkxEJam4xj8Me5geIhfePxAQEBAQEKA/lVmolFmopD8c0j8b0j+rP8PH37pd4N0/D3ujUvSw2z/ZPJ53OQTTPzy90zu908s/KFjTk4CC1T/0Qi/0Qi/WP9EZrNAZrKA/BhcbXGxw1z81lwiOX0viP4rTZYrTZdo/tO1V3JS92D+JiIiIiIi4PwAAAAAAAAAAcPmWb/mWxz8AAAAAAAAAANmXfdmXfck/rH3D2jesrT8g/uEf/uGvP7iTSriTSqg/",
          "dtype": "f8"
         },
         "yaxis": "y4"
        },
        {
         "hovertemplate": "<b>dolphin3:8b</b><br>Document: %{x}<br>Avg F1: %{y:.3f}<extra></extra>",
         "marker": {
          "color": "#16A085"
         },
         "name": "dolphin3:8b",
         "opacity": 0.8,
         "showlegend": false,
         "type": "bar",
         "x": [
          "ALTAY v. TURKEY (No. 2)",
          "BELYAYEV AND OTHERS v. UKRAINE",
          "BIGUN v. UKRAINE",
          "CABUCAK v. GERMANY",
          "CAN v. TURKEY",
          "CRISTIAN CATALIN UNGUREANU v. ROMANIA",
          "DOKTOROV v. BULGARIA",
          "EGILL EINARSSON v. ICELAND (No. 2)",
          "H_INESS v. NORWAY (1)",
          "KOSAITE - CYPIENE AND OTHERS v. LITHUANIA",
          "LOZOVYYE v. RUSSIA",
          "M.T. v. UKRAINE",
          "MOSKALEV v. RUSSIA",
          "MURUZHEVA v. RUSSIA",
          "O.C.I. AND OTHERS v. ROMANIA",
          "OTGON v. THE REPUBLIC OF MOLDOVA",
          "PAKHTUSOV v. RUSSIA",
          "PANYUSHKINY v. RUSSIA",
          "RESIN v. RUSSIA",
          "S.N. v. RUSSIA",
          "S.V. v. ITALY",
          "SHVIDKIYE v. RUSSIA",
          "SIDOROVA v. RUSSIA",
          "SOLCAN v. ROMANIA",
          "STANA v. ROMANIA",
          "VISY v. SLOVAKIA",
          "YAKUSHEV v. UKRAINE",
          "YERMAKOVICH v. RUSSIA",
          "YEVGENIY ZAKHAROV v. RUSSIA",
          "_NODI v. HUNGARY"
         ],
         "xaxis": "x4",
         "y": {
          "bdata": "jhFM9Heyyj/bfDnAss3HP7QQUp5Mbcs/AAAAAAAAAAAcx3Ecx3HUPyPHxJaV/s0/8vHx8fHx0T+aqhH3HuPMPwRZge5Eb7E/GYZhGIZhqD+cMVKhqpzBP+IrvuIrvsI/0iZ80SZ8wT8AAAAAAAAAACrTzePwd88/ouflhh161j+Q4D6C+wjGPzglc8l2U8I/aRdaqada2D9XEJMriMmFP+E+gvsI7tM/Xhuaeptl1j8PDw8PDw+3P7LkF0t+sbQ/3zE1sHdM0T+cnpqgF+XAP/DsygdKP8k/AAAAAAAAAADc29vb29urP0zeAkzeAsw/",
          "dtype": "f8"
         },
         "yaxis": "y4"
        },
        {
         "hovertemplate": "<b>dolphin-mixtral:8x7b</b><br>Document: %{x}<br>Avg F1: %{y:.3f}<extra></extra>",
         "marker": {
          "color": "#8E44AD"
         },
         "name": "dolphin-mixtral:8x7b",
         "opacity": 0.8,
         "showlegend": false,
         "type": "bar",
         "x": [
          "ALTAY v. TURKEY (No. 2)",
          "BELYAYEV AND OTHERS v. UKRAINE",
          "BIGUN v. UKRAINE",
          "CABUCAK v. GERMANY",
          "CAN v. TURKEY",
          "CRISTIAN CATALIN UNGUREANU v. ROMANIA",
          "DOKTOROV v. BULGARIA",
          "EGILL EINARSSON v. ICELAND (No. 2)",
          "H_INESS v. NORWAY (1)",
          "KOSAITE - CYPIENE AND OTHERS v. LITHUANIA",
          "LOZOVYYE v. RUSSIA",
          "M.T. v. UKRAINE",
          "MOSKALEV v. RUSSIA",
          "MURUZHEVA v. RUSSIA",
          "O.C.I. AND OTHERS v. ROMANIA",
          "OTGON v. THE REPUBLIC OF MOLDOVA",
          "PAKHTUSOV v. RUSSIA",
          "PANYUSHKINY v. RUSSIA",
          "RESIN v. RUSSIA",
          "S.N. v. RUSSIA",
          "S.V. v. ITALY",
          "SHVIDKIYE v. RUSSIA",
          "SIDOROVA v. RUSSIA",
          "SOLCAN v. ROMANIA",
          "STANA v. ROMANIA",
          "VISY v. SLOVAKIA",
          "YAKUSHEV v. UKRAINE",
          "YERMAKOVICH v. RUSSIA",
          "YEVGENIY ZAKHAROV v. RUSSIA",
          "_NODI v. HUNGARY"
         ],
         "xaxis": "x4",
         "y": {
          "bdata": "osn0IrHI1j8ZhmEYhmG4PzTPaAKcNc8/KOpFHYjTxz/knWIPlZfhPwAAAAAAAAAAAAAAAAAAAABmmjEDYKbJP2vAFWvAFbc/jFv2KTuWtD+wM24WmtS8PwAAAAAAAAAAwyu8wiu81j8o3AzxdvTYP2czgnXNo9M/rFTWk/dh0j/qLaS3kN7SPwQGQrePxNo/X64dmGsHzj9dAuDoMJqhP56X43k5nsc/gXKi+kU+uT8AAAAAAAAAAGSRaewZ8tQ/sQVbsAVb3j+EMNRzQwjTP1KP0cZgF94/CJCIb+6XzD8AAAAAAAAAAEmK7MPiKdA/",
>>>>>>> a813ab3a2a19b49bf703a1dc6fd99353356c8a2d
          "dtype": "f8"
         },
         "yaxis": "y4"
        },
        {
         "hovertemplate": "<b>Lenient</b><br>Model: %{x}<br>F1: %{y:.3f}<extra></extra>",
         "legendgroup": "evaluation_modes",
         "marker": {
          "color": "lightblue"
         },
         "name": "Lenient Evaluation",
         "showlegend": true,
         "type": "bar",
         "x": [
          "chevalblanc/claude-3-haiku:latest",
          "deepseek-r1:8b",
          "dolphin-mixtral:8x7b",
          "dolphin3:8b",
          "gemma3:12b",
          "gemma3:1b",
          "gemma3:4b",
          "incept5/llama3.1-claude:latest",
          "llama3.3:latest",
          "llama4:16x17b",
          "mistral:latest",
          "mixtral:8x7b"
         ],
         "xaxis": "x5",
         "y": {
<<<<<<< HEAD
          "bdata": "F/X3DLoq2T+Y9nAMAOTAPzfuWzNtu80/IP/jY3us1D8=",
=======
          "bdata": "OyxHgogG0T8Htd5lpCPQP+x83vW6Acw/vjPO6KA+xj8X9fcMuirZP5j2cAwA5MA/Oe5bM227zT9FummBpNzRP3XwHirCOdw/WtXnlOTgpT8g/+Nje6zUP4ep1so2Os0/",
>>>>>>> a813ab3a2a19b49bf703a1dc6fd99353356c8a2d
          "dtype": "f8"
         },
         "yaxis": "y5"
        },
        {
         "hovertemplate": "<b>Strict</b><br>Model: %{x}<br>F1: %{y:.3f}<extra></extra>",
         "legendgroup": "evaluation_modes",
         "marker": {
          "color": "darkblue"
         },
         "name": "Strict Evaluation",
         "showlegend": true,
         "type": "bar",
         "x": [
          "chevalblanc/claude-3-haiku:latest",
          "deepseek-r1:8b",
          "dolphin-mixtral:8x7b",
          "dolphin3:8b",
          "gemma3:12b",
          "gemma3:1b",
          "gemma3:4b",
          "incept5/llama3.1-claude:latest",
          "llama3.3:latest",
          "llama4:16x17b",
          "mistral:latest",
          "mixtral:8x7b"
         ],
         "xaxis": "x5",
         "y": {
<<<<<<< HEAD
          "bdata": "vG7DcjuYzj+UGdnBiXG2P6c0XBHETsM/9qSTHx7KzD8=",
=======
          "bdata": "oARIKh/puT+kNSpWDHa5P68cuEWjDrw/leQ2e4VtuD+8bsNyO5jOP5QZ2cGJcbY/pzRcEcROwz/9qnXRW/vFP99eMIVAssk/yhkOTg0AoD/2pJMfHsrMP49j38WJIbQ/",
>>>>>>> a813ab3a2a19b49bf703a1dc6fd99353356c8a2d
          "dtype": "f8"
         },
         "yaxis": "y5"
        },
        {
         "boxpoints": "all",
         "hovertemplate": "<b>Event</b><br>F1: %{y:.3f}<extra></extra>",
         "jitter": 0.3,
         "legendgroup": "annotation_types",
         "marker": {
          "color": "rgb(228,26,28)"
         },
         "name": "Event",
         "pointpos": -1.8,
         "showlegend": true,
         "type": "box",
         "xaxis": "x6",
         "y": {
<<<<<<< HEAD
          "bdata": "FDuxEzuxoz8AAAAAAAAAAFVVVVVVVaU/EARBEARBwD8eHh4eHh6+PxEREREREdE/OL3pTW964z+WlpaWlpbWPx4eHh4eHr4/AAAAAAAAAAAJ16NwPQrnP15DeQ3lNcQ/AAAAAAAAAABeQ3kN5TXUPwtZyEIWsuA/Hx4eHh4e3j8AAAAAAAAAAHsJ7SW0l+A/MzMzMzMz4z+ZmZmZmZnZPwAAAAAAAAAAWAQNJ3Vfzj8zncV0FtPpP2msD431oeE/kyRJkiRJwj9WVVVVVVXVP3waYbmnEdY/OovpLKaz2D910UUXXXTRP8YYY4wxxtg/RxdddNFF5z8cx3Ecx3HcP5uZmZmZmdk/AAAAAAAA5j9lIQtZyELWPxmGYRiGYdg/HMdxHMdxvD/BFPmsG0zhP1l8xVd8xec/Ntlkk0022T8AAAAAAAAAADQzMzMzM8M/FBQUFBQU5D/HcRzHcRzXPwAAAAAAAAAAG0yRz7rB5D8mm2yyySbbP51zzjnnnOM/AAAAAAAAAADHGGOMMcbYP3sUrkfheuQ/VVVVVVVV1T8dx3Ecx3HMPwAAAAAAAAAAkiRJkiRJ4j+amZmZmZnZP7dt27Zt29Y/AAAAAAAA4D8LWchCFrLgP2zUdzbqO9s/ERERERER0T+96U1vetPbP1VVVVVVVeU/pZRSSiml5D8TO7ETO7HjP5/neZ7ned4/XnTRRRdd5D8M5TWU11DePx4eHh4eHq4/AAAAAAAAsD9WVVVVVVXFPxRFURRFUeQ/q6qqqqqq4j8AAAAAAADgPwAAAAAAAOg/AAAAAAAA4D9VVVVVVVXlP1ZVVVVVVeU/ndiJndiJ3T+e53me53neP1VVVVVVVd0/ewntJbSX4D9JkiRJkiThP5IkSZIkSeI/fAntJbSX4D+amZmZmZnZPwnXo3A9Cuc/q6qqqqqq2j8pr6G8hvKqPxiGYRiGYcg/Ka+hvIbyqj9icgUxuYLYPwAAAAAAAAAAlVJKKaWU4j8BAAAAAADkP2dmZmZmZuY/velNb3rT2z+8u7u7u7vrPzw8PDw8POw/2pWoXYna5T9VVVVVVVXVP2K5pxGWe8o/dsQdcUfc4T8AAAAAAADgPwAAAAAAAAAA0Au90Au94D8AAAAAAADgPzi96U1veuM/AAAAAAAA2D8WX/EVX/HlP5eWlpaWluY/VlVVVVVV5T/FGGOMMcbIP1taWlpaWto/dNFFF1104T8AAAAAAAAAADvavE9xyaA/t23btm3bxj8RERERERHhPyM+gVRyXtY/",
=======
          "bdata": "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",
>>>>>>> a813ab3a2a19b49bf703a1dc6fd99353356c8a2d
          "dtype": "f8"
         },
         "yaxis": "y6"
        },
        {
         "boxpoints": "all",
         "hovertemplate": "<b>Event_who</b><br>F1: %{y:.3f}<extra></extra>",
         "jitter": 0.3,
         "legendgroup": "annotation_types",
         "marker": {
          "color": "rgb(55,126,184)"
         },
         "name": "Event_who",
         "pointpos": -1.8,
         "showlegend": true,
         "type": "box",
         "xaxis": "x6",
         "y": {
<<<<<<< HEAD
          "bdata": "AAAAAAAAAAAAAAAAAAAAAGUhC1nIQqY/EzuxEzuxoz8AAAAAAAAAAAAAAAAAAAAAGYZhGIZhuD9oL6G9hPayPwAAAAAAAAAAAAAAAAAAAADrUbgehevhP3sUrkfhesQ/AAAAAAAAAAAAAAAAAAAAAEcXXXTRRcc/cRzHcRzH0T+ZmZmZmZm5P0YXXXTRRcc/mZmZmZmZyT8AAAAAAAAAAAAAAAAAAAAAkyRJkiRJoj+3bdu2bdvGPxiGYRiGYag/AAAAAAAAAAAAAAAAAAAAAGkvob2E9rI/AAAAAAAAAAAAAAAAAAAAAAAAAAAAAAAAGF100UUX3T8AAAAAAAAAAAAAAAAAAAAAEzuxEzuxwz8XhmEYhmHIP/QFfUFf0Kc/AAAAAAAAAAAd1EEd1EGtP0YXXXTRRcc/9QV9QV/Qtz8AAAAAAAAAAAAAAAAAAAAAFDuxEzux0z8AAAAAAAAAAAAAAAAAAAAAAAAAAAAAAACDEEIIIYTQP0F7Ce0ltMc/AAAAAAAAAACVexphuaexP1VVVVVVVbU/HMdxHMdxvD8UO7ETO7HDPwAAAAAAAAAAcRzHcRzH0T+amZmZmZnZPwAAAAAAAAAAEzuxEzuxsz+amZmZmZm5PwAAAAAAAAAAAAAAAAAAAAAAAAAAAAAAAAAAAAAAAAAAERERERERsT8AAAAAAAAAAAAAAAAAAAAAGYZhGIZhyD8AAAAAAAAAAAAAAAAAAAAAAAAAAAAAAAAcx3Ecx3GsP+xRuB6F69E/ERERERER0T8LWchCFrLQP73pTW9609s//v//////zz8AAAAAAAAAAJMkSZIkScI/EzuxEzuxwz8AAAAAAAAAAAAAAAAAAAAAAAAAAAAAAAAiNcF4K/u8PwAAAAAAAAAAAAAAAAAA0D+QBmmQBmnQPwtZyEIWsuA/GYZhGIZhyD8AAAAAAAAAAAAAAAAAAAAAAAAAAAAAAAAeHh4eHh6uPwAAAAAAAAAAAAAAAAAAAAAAAAAAAADIPwAAAAAAAAAAAAAAAAAAAAARERERERGxP5uZmZmZmck/VVVVVVVVxT+EEEIIIYSwPwAAAAAAAAAAdsQdcUfcwT8AAAAAAAAAAAAAAAAAAAAADCd1Xx5bwT+Tui+PrQjKP2QhC1nIQsY/AAAAAAAAAAARERERERHBP1taWlpaWto/GqRBGqRBuj8AAAAAAAAAAAAAAAAAAAAARhdddNFFxz8AAAAAAAAAAAAAAAAAAAAAAAAAAAAAAADuy2MrgobTP6lQoUKFCsU/",
=======
          "bdata": "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",
>>>>>>> a813ab3a2a19b49bf703a1dc6fd99353356c8a2d
          "dtype": "f8"
         },
         "yaxis": "y6"
        },
        {
         "boxpoints": "all",
         "hovertemplate": "<b>Event_when</b><br>F1: %{y:.3f}<extra></extra>",
         "jitter": 0.3,
         "legendgroup": "annotation_types",
         "marker": {
          "color": "rgb(77,175,74)"
         },
         "name": "Event_when",
         "pointpos": -1.8,
         "showlegend": true,
         "type": "box",
         "xaxis": "x6",
         "y": {
<<<<<<< HEAD
          "bdata": "VxCTK4jJtT8AAAAAAAAAAAAAAAAAAAAAAAAAAAAAAACZmZmZmZnZPwAAAAAAAAAAHcdxHMdxzD8AAAAAAAAAAAAAAAAAAMA/AAAAAAAAAAAAAAAAAADQPwAAAAAAANA/AAAAAAAAAAASERERERHRPzMzMzMzM+M/kiRJkiRJ4j/T0tLS0tLiPwAAAAAAAOQ/FDuxEzux4z8AAAAAAADoPwAAAAAAAAAAHh4eHh4ezj+bm5ubm5vrP1ZVVVVVVek/kyRJkiRJwj+e2Imd2InNP5IkSZIkSdI/n+d5nud53j9UVVVVVVXVPxEREREREdE/Z2ZmZmZm5j9GF1100UXnPymvobyG8to/chzHcRzH4T8BAAAAAADgP9iJndiJndg/HMdxHMdxvD/////////bP9RBHdRBHeQ/0tLS0tLS4j8AAAAAAAAAABzHcRzHcbw/AAAAAAAA5D8vuuiiiy7aPwAAAAAAAAAAMzMzMzMz4z8cx3Ecx3HcP+Q4juM4juM/Hx4eHh4evj9UVVVVVVXVPx8eHh4eHt4/AAAAAAAA4D97FK5H4XrUPwAAAAAAAAAAVFVVVVVV5T8RERERERHhP+tRuB6F6+E/kyRJkiRJ4j9yHMdxHMfhP2dmZmZmZuY/C1nIQhay0D8dx3Ecx3HcPwAAAAAAAOA/VVVVVVVV1T9GF1100UXHP5eWlpaWltY/Hh4eHh4e3j/btm3btm3bPwcffPDBB68/AAAAAAAAsD8cx3Ecx3G8Px4eHh4eHq4/RRdddNFF1z900UUXXXThP0UXXXTRRec/XkN5DeU15D+TJEmSJEniP5MkSZIkSeI/mpmZmZmZ2T+TJEmSJEnSPxqkQRqkQdo/VVVVVVVV1T8zMzMzMzPjPyxRuxK1K+E/ERERERER0T+4HoXrUbjeP1RVVVVVVeU/XkN5DeU15D8fHh4eHh6uPx8eHh4eHq4/Hx4eHh4erj+RhSxkIQvZPwAAAAAAAAAAq6qqqqqq4j9WVVVVVVXlPwEAAAAAAOg/ddFFF1100T93d3d3d3fnP5uZmZmZmek/tm3btm3b5j+amZmZmZnZP0UXXXTRRcc/AQAAAAAA4j8eHh4eHh7ePwAAAAAAAAAAbtu2bdu23T+SkZGRkZHhP5xzzjnnnOM/Q3sJ7SW01z8L16NwPQrnP5qZmZmZmck/tm3btm3b5j8RERERERHBP2gvob2E9tI/ERERERER4T8AAAAAAAAAAJZ7GmG5p7E/2Imd2ImdyD+SJEmSJEniPwrtJbSX0N4/",
=======
          "bdata": "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",
>>>>>>> a813ab3a2a19b49bf703a1dc6fd99353356c8a2d
          "dtype": "f8"
         },
         "yaxis": "y6"
        },
        {
         "boxpoints": "all",
         "hovertemplate": "<b>Event_what</b><br>F1: %{y:.3f}<extra></extra>",
         "jitter": 0.3,
         "legendgroup": "annotation_types",
         "marker": {
          "color": "rgb(152,78,163)"
         },
         "name": "Event_what",
         "pointpos": -1.8,
         "showlegend": true,
         "type": "box",
         "xaxis": "x6",
         "y": {
<<<<<<< HEAD
          "bdata": "AAAAAAAAAAAAAAAAAAAAAHsUrkfheqQ/27Zt27Ztuz9kIQtZyELGPwAAAAAAAAAAERERERERwT+TJEmSJEmyPwAAAAAAAAAAAAAAAAAAAAC4HoXrUbjeP1ZVVVVVVcU/AAAAAAAAAAApr6G8hvLKP6uqqqqqqto/RhdddNFFtz9GF1100UW3P3saYbmnEdY/GIZhGIZh2D+Xb/mWb/nWPwAAAAAAAAAAAAAAAAAAAAAAAAAAAADgPx4eHh4eHt4/AAAAAAAAAAATO7ETO7HDP1ZVVVVVVdU/wRT5rBtM0T9FF1100UXHPwcffPDBB78/EzuxEzux0z8zMzMzMzPTPwAAAAAAAAAAVVVVVVVVxT8dx3Ecx3HMPxdswRZswcY/AAAAAAAAAAAcTJHPusHEP0YXXXTRRbc/09LS0tLSwj8AAAAAAAAAAB3HcRzHcaw/7RvWvmHtyz8d1EEd1EG9PwAAAAAAAAAAlnsaYbmnsT/CFPmsG0zRP5mZmZmZmdk/AAAAAAAAAABoL6G9hPbCP4QQQgghhMA/qFChQoUKxT+4HoXrUbjOPwAAAAAAAAAAUQd1UAd14D+bmZmZmZnZPwAAAAAAAAAAERERERER0T9CewntJbTXPzmO4ziO49g/ERERERERsT8UO7ETO7HDPyabbLLJJts/lnsaYbmn0T8eHh4eHh6+PymvobyG8so/uB6F61G4zj+amZmZmZnZPwAAAAAAAAAAAAAAAAAAAAD0BX1BX9C3P/QFfUFf0Lc/AAAAAAAAAAB00UUXXXTRPwAAAAAAAOA/R1juaYTl3j9WVVVVVVXFP////////9c/HMdxHMdx3D9UVVVVVVXVPwAAAAAAAAAAFRQUFBQUtD/QcFL35bHVP19DeQ3lNdQ/exSuR+F6xD/HGGOMMcbIP6uqqqqqqto/XXTRRRdd1D8YhmEYhmGoPwAAAAAAAAAAGIZhGIZhqD86BS+n4OWkPwAAAAAAAAAAkiRJkiRJwj+Xb/mWb/nWPxqGYRiGYdg/tx6F61G4zj9GWO5phOXeP28wRT7rBuM/0iAN0iAN4j95DeU1lNfQP4QQQgghhLA/mZmZmZmZ2T9jcgUxuYLYPwAAAAAAAAAAExQUFBQUpD/mnHPOOefMP5qZmZmZmck/gxBCCCGE0D+ZmZmZmZnZPyabbLLJJts/0yAN0iAN4j8AAAAAAAAAAHoN5TWU19A/l2/5lm/51j8AAAAAAAAAAAAAAAAAAAAAAAAAAAAAAABZR5v3KS7JPwOp5Lws4sM/",
=======
          "bdata": "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",
>>>>>>> a813ab3a2a19b49bf703a1dc6fd99353356c8a2d
          "dtype": "f8"
         },
         "yaxis": "y6"
        },
        {
         "hovertemplate": "<b>Gold Standard</b><br>Type: %{x}<br>Count: %{y}<extra></extra>",
         "legendgroup": "counts",
         "marker": {
          "color": "gold"
         },
         "name": "Gold Standard Count",
         "showlegend": true,
         "type": "bar",
         "x": [
          "Event",
          "Event_what",
          "Event_when",
          "Event_who"
         ],
         "xaxis": "x7",
         "y": {
          "bdata": "KiwpKA==",
          "dtype": "i1"
         },
         "yaxis": "y7"
        },
        {
         "hovertemplate": "<b>Predicted</b><br>Type: %{x}<br>Avg Count: %{y:.1f}<extra></extra>",
         "legendgroup": "counts",
         "marker": {
          "color": "silver"
         },
         "name": "Avg Predicted Count",
         "showlegend": true,
         "type": "bar",
         "x": [
          "Event",
          "Event_what",
          "Event_when",
          "Event_who"
         ],
         "xaxis": "x7",
         "y": {
<<<<<<< HEAD
          "bdata": "AAAAAACAMUCJiIiIiIgkQN7d3d3dHSJAzczMzMwMJkA=",
=======
          "bdata": "gy3Ygi0YK0Dpkz7pkz4fQHIcx3EcRxhAchzHcRxHHkA=",
>>>>>>> a813ab3a2a19b49bf703a1dc6fd99353356c8a2d
          "dtype": "f8"
         },
         "yaxis": "y7"
        },
        {
         "customdata": {
<<<<<<< HEAD
          "bdata": "vHnzpK9+6z8wF+0JUPHkP1jLpCxbvdc/BoglC2rG2D8=",
=======
          "bdata": "vHnzpK9+6z8wF+0JUPHkP1jLpCxbvdc/daT+e0M13z+AGX2B27fhPwaIJQtqxtg/idKnjp+e4D/W4dmSQk/kP1LSZ9rHlAJA5bzRDB1j5z/ekq094J3kP/78QlvhSec/",
>>>>>>> a813ab3a2a19b49bf703a1dc6fd99353356c8a2d
          "dtype": "f8"
         },
         "hovertemplate": "<b>%{x}</b><br>Consistency: %{y:.3f}<br>CV: %{customdata:.3f}<extra></extra>",
         "legendgroup": "consistency",
         "line": {
          "color": "gray",
          "dash": "dash"
         },
         "marker": {
          "color": [
           "#E74C3C",
           "#3498DB",
           "#2ECC71",
           "#F39C12",
           "#9B59B6",
           "#1ABC9C",
           "#F1C40F",
           "#E67E22",
           "#95A5A6",
           "#34495E",
           "#16A085",
           "#8E44AD"
          ],
          "size": 12,
          "symbol": "diamond"
         },
         "mode": "markers+lines",
         "name": "Model Consistency",
         "showlegend": true,
         "type": "scatter",
         "x": [
          "gemma3:1b",
          "gemma3:4b",
          "gemma3:12b",
          "llama3.3:latest",
          "deepseek-r1:8b",
          "mistral:latest",
          "incept5/llama3.1-claude:latest",
          "chevalblanc/claude-3-haiku:latest",
          "llama4:16x17b",
          "mixtral:8x7b",
          "dolphin3:8b",
          "dolphin-mixtral:8x7b"
         ],
         "xaxis": "x8",
         "y": {
<<<<<<< HEAD
          "bdata": "EBkybEEFwj+g0SXsXx3WP1SarWlSIeQ//Ttt+sqc4z8=",
=======
          "bdata": "EBkybEEFwj+g0SXsXx3WP1SarWlSIeQ/xq0AQl5l4D8AzQX9SJDcP/07bfrKnOM/7lqw4sDC3j9UPEzaemHXP6Skz7SPKfW/NoZc5sU50T9E2qSEP8TWPwQGekk9bNE/",
>>>>>>> a813ab3a2a19b49bf703a1dc6fd99353356c8a2d
          "dtype": "f8"
         },
         "yaxis": "y8"
        }
       ],
       "layout": {
        "annotations": [
         {
          "font": {
           "size": 16
          },
          "showarrow": false,
          "text": "F1-Scores by Model and Annotation Type (Lenient)",
          "x": 0.22,
          "xanchor": "center",
          "xref": "paper",
          "y": 1,
          "yanchor": "bottom",
          "yref": "paper"
         },
         {
          "font": {
           "size": 16
          },
          "showarrow": false,
          "text": "Document-Level Performance Heatmap",
          "x": 0.78,
          "xanchor": "center",
          "xref": "paper",
          "y": 1,
          "yanchor": "bottom",
          "yref": "paper"
         },
         {
          "font": {
           "size": 16
          },
          "showarrow": false,
          "text": "Precision vs Recall by Model (with Document Points)",
          "x": 0.22,
          "xanchor": "center",
          "xref": "paper",
          "y": 0.73,
          "yanchor": "bottom",
          "yref": "paper"
         },
         {
          "font": {
           "size": 16
          },
          "showarrow": false,
          "text": "Model Performance Across Documents",
          "x": 0.78,
          "xanchor": "center",
          "xref": "paper",
          "y": 0.73,
          "yanchor": "bottom",
          "yref": "paper"
         },
         {
          "font": {
           "size": 16
          },
          "showarrow": false,
          "text": "Lenient vs Strict Evaluation Comparison",
          "x": 0.22,
          "xanchor": "center",
          "xref": "paper",
          "y": 0.46,
          "yanchor": "bottom",
          "yref": "paper"
         },
         {
          "font": {
           "size": 16
          },
          "showarrow": false,
          "text": "Individual Document Analysis",
          "x": 0.78,
          "xanchor": "center",
          "xref": "paper",
          "y": 0.46,
          "yanchor": "bottom",
          "yref": "paper"
         },
         {
          "font": {
           "size": 16
          },
          "showarrow": false,
          "text": "Annotation Type Performance Distribution",
          "x": 0.22,
          "xanchor": "center",
          "xref": "paper",
          "y": 0.19,
          "yanchor": "bottom",
          "yref": "paper"
         },
         {
          "font": {
           "size": 16
          },
          "showarrow": false,
          "text": "Model Consistency Across Documents",
          "x": 0.78,
          "xanchor": "center",
          "xref": "paper",
          "y": 0.19,
          "yanchor": "bottom",
          "yref": "paper"
         }
        ],
        "font": {
         "size": 11
        },
        "height": 1600,
        "legend": {
         "bgcolor": "rgba(255,255,255,0.8)",
         "bordercolor": "rgba(0,0,0,0.2)",
         "borderwidth": 1,
         "font": {
          "size": 10
         },
         "orientation": "v",
         "x": 1.02,
         "xanchor": "left",
         "y": 1,
         "yanchor": "top"
        },
        "showlegend": true,
        "template": {
         "data": {
          "bar": [
           {
            "error_x": {
             "color": "#2a3f5f"
            },
            "error_y": {
             "color": "#2a3f5f"
            },
            "marker": {
             "line": {
              "color": "#E5ECF6",
              "width": 0.5
             },
             "pattern": {
              "fillmode": "overlay",
              "size": 10,
              "solidity": 0.2
             }
            },
            "type": "bar"
           }
          ],
          "barpolar": [
           {
            "marker": {
             "line": {
              "color": "#E5ECF6",
              "width": 0.5
             },
             "pattern": {
              "fillmode": "overlay",
              "size": 10,
              "solidity": 0.2
             }
            },
            "type": "barpolar"
           }
          ],
          "carpet": [
           {
            "aaxis": {
             "endlinecolor": "#2a3f5f",
             "gridcolor": "white",
             "linecolor": "white",
             "minorgridcolor": "white",
             "startlinecolor": "#2a3f5f"
            },
            "baxis": {
             "endlinecolor": "#2a3f5f",
             "gridcolor": "white",
             "linecolor": "white",
             "minorgridcolor": "white",
             "startlinecolor": "#2a3f5f"
            },
            "type": "carpet"
           }
          ],
          "choropleth": [
           {
            "colorbar": {
             "outlinewidth": 0,
             "ticks": ""
            },
            "type": "choropleth"
           }
          ],
          "contour": [
           {
            "colorbar": {
             "outlinewidth": 0,
             "ticks": ""
            },
            "colorscale": [
             [
              0,
              "#0d0887"
             ],
             [
              0.1111111111111111,
              "#46039f"
             ],
             [
              0.2222222222222222,
              "#7201a8"
             ],
             [
              0.3333333333333333,
              "#9c179e"
             ],
             [
              0.4444444444444444,
              "#bd3786"
             ],
             [
              0.5555555555555556,
              "#d8576b"
             ],
             [
              0.6666666666666666,
              "#ed7953"
             ],
             [
              0.7777777777777778,
              "#fb9f3a"
             ],
             [
              0.8888888888888888,
              "#fdca26"
             ],
             [
              1,
              "#f0f921"
             ]
            ],
            "type": "contour"
           }
          ],
          "contourcarpet": [
           {
            "colorbar": {
             "outlinewidth": 0,
             "ticks": ""
            },
            "type": "contourcarpet"
           }
          ],
          "heatmap": [
           {
            "colorbar": {
             "outlinewidth": 0,
             "ticks": ""
            },
            "colorscale": [
             [
              0,
              "#0d0887"
             ],
             [
              0.1111111111111111,
              "#46039f"
             ],
             [
              0.2222222222222222,
              "#7201a8"
             ],
             [
              0.3333333333333333,
              "#9c179e"
             ],
             [
              0.4444444444444444,
              "#bd3786"
             ],
             [
              0.5555555555555556,
              "#d8576b"
             ],
             [
              0.6666666666666666,
              "#ed7953"
             ],
             [
              0.7777777777777778,
              "#fb9f3a"
             ],
             [
              0.8888888888888888,
              "#fdca26"
             ],
             [
              1,
              "#f0f921"
             ]
            ],
            "type": "heatmap"
           }
          ],
          "histogram": [
           {
            "marker": {
             "pattern": {
              "fillmode": "overlay",
              "size": 10,
              "solidity": 0.2
             }
            },
            "type": "histogram"
           }
          ],
          "histogram2d": [
           {
            "colorbar": {
             "outlinewidth": 0,
             "ticks": ""
            },
            "colorscale": [
             [
              0,
              "#0d0887"
             ],
             [
              0.1111111111111111,
              "#46039f"
             ],
             [
              0.2222222222222222,
              "#7201a8"
             ],
             [
              0.3333333333333333,
              "#9c179e"
             ],
             [
              0.4444444444444444,
              "#bd3786"
             ],
             [
              0.5555555555555556,
              "#d8576b"
             ],
             [
              0.6666666666666666,
              "#ed7953"
             ],
             [
              0.7777777777777778,
              "#fb9f3a"
             ],
             [
              0.8888888888888888,
              "#fdca26"
             ],
             [
              1,
              "#f0f921"
             ]
            ],
            "type": "histogram2d"
           }
          ],
          "histogram2dcontour": [
           {
            "colorbar": {
             "outlinewidth": 0,
             "ticks": ""
            },
            "colorscale": [
             [
              0,
              "#0d0887"
             ],
             [
              0.1111111111111111,
              "#46039f"
             ],
             [
              0.2222222222222222,
              "#7201a8"
             ],
             [
              0.3333333333333333,
              "#9c179e"
             ],
             [
              0.4444444444444444,
              "#bd3786"
             ],
             [
              0.5555555555555556,
              "#d8576b"
             ],
             [
              0.6666666666666666,
              "#ed7953"
             ],
             [
              0.7777777777777778,
              "#fb9f3a"
             ],
             [
              0.8888888888888888,
              "#fdca26"
             ],
             [
              1,
              "#f0f921"
             ]
            ],
            "type": "histogram2dcontour"
           }
          ],
          "mesh3d": [
           {
            "colorbar": {
             "outlinewidth": 0,
             "ticks": ""
            },
            "type": "mesh3d"
           }
          ],
          "parcoords": [
           {
            "line": {
             "colorbar": {
              "outlinewidth": 0,
              "ticks": ""
             }
            },
            "type": "parcoords"
           }
          ],
          "pie": [
           {
            "automargin": true,
            "type": "pie"
           }
          ],
          "scatter": [
           {
            "fillpattern": {
             "fillmode": "overlay",
             "size": 10,
             "solidity": 0.2
            },
            "type": "scatter"
           }
          ],
          "scatter3d": [
           {
            "line": {
             "colorbar": {
              "outlinewidth": 0,
              "ticks": ""
             }
            },
            "marker": {
             "colorbar": {
              "outlinewidth": 0,
              "ticks": ""
             }
            },
            "type": "scatter3d"
           }
          ],
          "scattercarpet": [
           {
            "marker": {
             "colorbar": {
              "outlinewidth": 0,
              "ticks": ""
             }
            },
            "type": "scattercarpet"
           }
          ],
          "scattergeo": [
           {
            "marker": {
             "colorbar": {
              "outlinewidth": 0,
              "ticks": ""
             }
            },
            "type": "scattergeo"
           }
          ],
          "scattergl": [
           {
            "marker": {
             "colorbar": {
              "outlinewidth": 0,
              "ticks": ""
             }
            },
            "type": "scattergl"
           }
          ],
          "scattermap": [
           {
            "marker": {
             "colorbar": {
              "outlinewidth": 0,
              "ticks": ""
             }
            },
            "type": "scattermap"
           }
          ],
          "scattermapbox": [
           {
            "marker": {
             "colorbar": {
              "outlinewidth": 0,
              "ticks": ""
             }
            },
            "type": "scattermapbox"
           }
          ],
          "scatterpolar": [
           {
            "marker": {
             "colorbar": {
              "outlinewidth": 0,
              "ticks": ""
             }
            },
            "type": "scatterpolar"
           }
          ],
          "scatterpolargl": [
           {
            "marker": {
             "colorbar": {
              "outlinewidth": 0,
              "ticks": ""
             }
            },
            "type": "scatterpolargl"
           }
          ],
          "scatterternary": [
           {
            "marker": {
             "colorbar": {
              "outlinewidth": 0,
              "ticks": ""
             }
            },
            "type": "scatterternary"
           }
          ],
          "surface": [
           {
            "colorbar": {
             "outlinewidth": 0,
             "ticks": ""
            },
            "colorscale": [
             [
              0,
              "#0d0887"
             ],
             [
              0.1111111111111111,
              "#46039f"
             ],
             [
              0.2222222222222222,
              "#7201a8"
             ],
             [
              0.3333333333333333,
              "#9c179e"
             ],
             [
              0.4444444444444444,
              "#bd3786"
             ],
             [
              0.5555555555555556,
              "#d8576b"
             ],
             [
              0.6666666666666666,
              "#ed7953"
             ],
             [
              0.7777777777777778,
              "#fb9f3a"
             ],
             [
              0.8888888888888888,
              "#fdca26"
             ],
             [
              1,
              "#f0f921"
             ]
            ],
            "type": "surface"
           }
          ],
          "table": [
           {
            "cells": {
             "fill": {
              "color": "#EBF0F8"
             },
             "line": {
              "color": "white"
             }
            },
            "header": {
             "fill": {
              "color": "#C8D4E3"
             },
             "line": {
              "color": "white"
             }
            },
            "type": "table"
           }
          ]
         },
         "layout": {
          "annotationdefaults": {
           "arrowcolor": "#2a3f5f",
           "arrowhead": 0,
           "arrowwidth": 1
          },
          "autotypenumbers": "strict",
          "coloraxis": {
           "colorbar": {
            "outlinewidth": 0,
            "ticks": ""
           }
          },
          "colorscale": {
           "diverging": [
            [
             0,
             "#8e0152"
            ],
            [
             0.1,
             "#c51b7d"
            ],
            [
             0.2,
             "#de77ae"
            ],
            [
             0.3,
             "#f1b6da"
            ],
            [
             0.4,
             "#fde0ef"
            ],
            [
             0.5,
             "#f7f7f7"
            ],
            [
             0.6,
             "#e6f5d0"
            ],
            [
             0.7,
             "#b8e186"
            ],
            [
             0.8,
             "#7fbc41"
            ],
            [
             0.9,
             "#4d9221"
            ],
            [
             1,
             "#276419"
            ]
           ],
           "sequential": [
            [
             0,
             "#0d0887"
            ],
            [
             0.1111111111111111,
             "#46039f"
            ],
            [
             0.2222222222222222,
             "#7201a8"
            ],
            [
             0.3333333333333333,
             "#9c179e"
            ],
            [
             0.4444444444444444,
             "#bd3786"
            ],
            [
             0.5555555555555556,
             "#d8576b"
            ],
            [
             0.6666666666666666,
             "#ed7953"
            ],
            [
             0.7777777777777778,
             "#fb9f3a"
            ],
            [
             0.8888888888888888,
             "#fdca26"
            ],
            [
             1,
             "#f0f921"
            ]
           ],
           "sequentialminus": [
            [
             0,
             "#0d0887"
            ],
            [
             0.1111111111111111,
             "#46039f"
            ],
            [
             0.2222222222222222,
             "#7201a8"
            ],
            [
             0.3333333333333333,
             "#9c179e"
            ],
            [
             0.4444444444444444,
             "#bd3786"
            ],
            [
             0.5555555555555556,
             "#d8576b"
            ],
            [
             0.6666666666666666,
             "#ed7953"
            ],
            [
             0.7777777777777778,
             "#fb9f3a"
            ],
            [
             0.8888888888888888,
             "#fdca26"
            ],
            [
             1,
             "#f0f921"
            ]
           ]
          },
          "colorway": [
           "#636efa",
           "#EF553B",
           "#00cc96",
           "#ab63fa",
           "#FFA15A",
           "#19d3f3",
           "#FF6692",
           "#B6E880",
           "#FF97FF",
           "#FECB52"
          ],
          "font": {
           "color": "#2a3f5f"
          },
          "geo": {
           "bgcolor": "white",
           "lakecolor": "white",
           "landcolor": "#E5ECF6",
           "showlakes": true,
           "showland": true,
           "subunitcolor": "white"
          },
          "hoverlabel": {
           "align": "left"
          },
          "hovermode": "closest",
          "mapbox": {
           "style": "light"
          },
          "paper_bgcolor": "white",
          "plot_bgcolor": "#E5ECF6",
          "polar": {
           "angularaxis": {
            "gridcolor": "white",
            "linecolor": "white",
            "ticks": ""
           },
           "bgcolor": "#E5ECF6",
           "radialaxis": {
            "gridcolor": "white",
            "linecolor": "white",
            "ticks": ""
           }
          },
          "scene": {
           "xaxis": {
            "backgroundcolor": "#E5ECF6",
            "gridcolor": "white",
            "gridwidth": 2,
            "linecolor": "white",
            "showbackground": true,
            "ticks": "",
            "zerolinecolor": "white"
           },
           "yaxis": {
            "backgroundcolor": "#E5ECF6",
            "gridcolor": "white",
            "gridwidth": 2,
            "linecolor": "white",
            "showbackground": true,
            "ticks": "",
            "zerolinecolor": "white"
           },
           "zaxis": {
            "backgroundcolor": "#E5ECF6",
            "gridcolor": "white",
            "gridwidth": 2,
            "linecolor": "white",
            "showbackground": true,
            "ticks": "",
            "zerolinecolor": "white"
           }
          },
          "shapedefaults": {
           "line": {
            "color": "#2a3f5f"
           }
          },
          "ternary": {
           "aaxis": {
            "gridcolor": "white",
            "linecolor": "white",
            "ticks": ""
           },
           "baxis": {
            "gridcolor": "white",
            "linecolor": "white",
            "ticks": ""
           },
           "bgcolor": "#E5ECF6",
           "caxis": {
            "gridcolor": "white",
            "linecolor": "white",
            "ticks": ""
           }
          },
          "title": {
           "x": 0.05
          },
          "xaxis": {
           "automargin": true,
           "gridcolor": "white",
           "linecolor": "white",
           "ticks": "",
           "title": {
            "standoff": 15
           },
           "zerolinecolor": "white",
           "zerolinewidth": 2
          },
          "yaxis": {
           "automargin": true,
           "gridcolor": "white",
           "linecolor": "white",
           "ticks": "",
           "title": {
            "standoff": 15
           },
           "zerolinecolor": "white",
           "zerolinewidth": 2
          }
         }
        },
        "title": {
         "text": "Enhanced LLM Evaluation Dashboard<br><sub>Pipeline Results: pipeline_results_20250808_145025 | Document-Level Analysis</sub>",
         "x": 0.5
        },
        "xaxis": {
         "anchor": "y",
         "domain": [
          0,
          0.44
         ],
         "title": {
          "font": {
           "size": 10
          },
          "text": "Annotation Type"
         }
        },
        "xaxis2": {
         "anchor": "y2",
         "domain": [
          0.56,
          1
         ],
         "title": {
          "font": {
           "size": 10
          },
          "text": "Model"
         }
        },
        "xaxis3": {
         "anchor": "y3",
         "domain": [
          0,
          0.44
         ],
         "title": {
          "font": {
           "size": 10
          },
          "text": "Recall"
         }
        },
        "xaxis4": {
         "anchor": "y4",
         "domain": [
          0.56,
          1
         ],
         "tickangle": 45,
         "title": {
          "font": {
           "size": 10
          },
          "text": "Document"
         }
        },
        "xaxis5": {
         "anchor": "y5",
         "domain": [
          0,
          0.44
         ],
         "title": {
          "font": {
           "size": 10
          },
          "text": "Model"
         }
        },
        "xaxis6": {
         "anchor": "y6",
         "domain": [
          0.56,
          1
         ],
         "title": {
          "font": {
           "size": 10
          },
          "text": "Annotation Type"
         }
        },
        "xaxis7": {
         "anchor": "y7",
         "domain": [
          0,
          0.44
         ],
         "title": {
          "font": {
           "size": 10
          },
          "text": "Annotation Type"
         }
        },
        "xaxis8": {
         "anchor": "y8",
         "domain": [
          0.56,
          1
         ],
         "title": {
          "font": {
           "size": 10
          },
          "text": "Model"
         }
        },
        "yaxis": {
         "anchor": "x",
         "domain": [
          0.81,
          1
         ],
         "title": {
          "font": {
           "size": 10
          },
          "text": "Average F1 Score"
         }
        },
        "yaxis2": {
         "anchor": "x2",
         "domain": [
          0.81,
          1
         ],
         "title": {
          "font": {
           "size": 10
          },
          "text": "Document"
         }
        },
        "yaxis3": {
         "anchor": "x3",
         "domain": [
          0.54,
          0.73
         ],
         "title": {
          "font": {
           "size": 10
          },
          "text": "Precision"
         }
        },
        "yaxis4": {
         "anchor": "x4",
         "domain": [
          0.54,
          0.73
         ],
         "title": {
          "font": {
           "size": 10
          },
          "text": "F1 Score"
         }
        },
        "yaxis5": {
         "anchor": "x5",
         "domain": [
          0.27,
          0.46
         ],
         "title": {
          "font": {
           "size": 10
          },
          "text": "F1 Score"
         }
        },
        "yaxis6": {
         "anchor": "x6",
         "domain": [
          0.27,
          0.46
         ],
         "title": {
          "font": {
           "size": 10
          },
          "text": "F1 Score Distribution"
         }
        },
        "yaxis7": {
         "anchor": "x7",
         "domain": [
          0,
          0.19
         ],
         "title": {
          "font": {
           "size": 10
          },
          "text": "Count"
         }
        },
        "yaxis8": {
         "anchor": "x8",
         "domain": [
          0,
          0.19
         ],
         "title": {
          "font": {
           "size": 10
          },
          "text": "Consistency Score"
         }
        }
       }
      }
     },
     "metadata": {},
     "output_type": "display_data"
    },
    {
     "data": {
      "application/vnd.plotly.v1+json": {
       "config": {
        "plotlyServerURL": "https://plot.ly"
       },
       "data": [
        {
         "hovertemplate": "<b>gemma3:1b</b><br>Document: %{x}<br>Avg F1: %{y:.3f}<extra></extra>",
         "line": {
          "color": "#E74C3C",
          "width": 3
         },
         "marker": {
          "size": 8
         },
         "mode": "lines+markers",
         "name": "gemma3:1b",
         "type": "scatter",
         "x": [
          "S.N. v. RUSSIA",
          "BELYAYEV AND OTHERS v. UKRAINE",
          "SIDOROVA v. RUSSIA",
          "EGILL EINARSSON v. ICELAND (No. 2)",
          "MOSKALEV v. RUSSIA",
          "PANYUSHKINY v. RUSSIA",
          "BIGUN v. UKRAINE",
          "SOLCAN v. ROMANIA",
          "YEVGENIY ZAKHAROV v. RUSSIA",
          "ALTAY v. TURKEY (No. 2)",
<<<<<<< HEAD
          "H_INESS v. NORWAY (1)",
          "SHVIDKIYE v. RUSSIA",
          "VISY v. SLOVAKIA",
          "OTGON v. THE REPUBLIC OF MOLDOVA",
          "M.T. v. UKRAINE",
          "RESIN v. RUSSIA",
          "DOKTOROV v. BULGARIA",
          "YERMAKOVICH v. RUSSIA",
          "YAKUSHEV v. UKRAINE",
          "STANA v. ROMANIA",
          "_NODI v. HUNGARY",
          "PAKHTUSOV v. RUSSIA",
          "KOSAITE - CYPIENE AND OTHERS v. LITHUANIA",
          "S.V. v. ITALY",
          "CAN v. TURKEY",
          "CRISTIAN CATALIN UNGUREANU v. ROMANIA",
          "MURUZHEVA v. RUSSIA",
          "LOZOVYYE v. RUSSIA",
          "O.C.I. AND OTHERS v. ROMANIA",
          "CABUCAK v. GERMANY"
         ],
         "y": [
          0.030891980360065466,
          0.17289002557544758,
          0.06066176470588235,
          0,
          0.1947860962566845,
          0,
          0.07142857142857144,
          0.19696969696969696,
          0.20526315789473687,
          0.05555555555555555,
          0,
          0,
          0.029411764705882356,
          0.23401709401709403,
          0.2292857142857143,
          0.14855072463768115,
          0.22871246400658163,
          0.029857397504456325,
          0.3034090909090909,
          0.3511904761904762,
          0.2171474358974359,
          0.29879629629629634,
          0.03976853899454519,
          0,
          0.23687747035573123,
          0.26525183927560836,
          0,
          0.2508587216248507,
          0.08172043010752687,
          0.02543810062182024
=======
          "BELYAYEV AND OTHERS v. UKRAINE",
          "BIGUN v. UKRAINE",
          "CABUCAK v. GERMANY",
          "CAN v. TURKEY",
          "CRISTIAN CATALIN UNGUREANU v. ROMANIA",
          "DOKTOROV v. BULGARIA",
          "EGILL EINARSSON v. ICELAND (No. 2)",
          "H_INESS v. NORWAY (1)",
          "KOSAITE - CYPIENE AND OTHERS v. LITHUANIA",
          "LOZOVYYE v. RUSSIA",
          "M.T. v. UKRAINE",
          "MOSKALEV v. RUSSIA",
          "MURUZHEVA v. RUSSIA",
          "O.C.I. AND OTHERS v. ROMANIA",
          "OTGON v. THE REPUBLIC OF MOLDOVA",
          "PAKHTUSOV v. RUSSIA",
          "PANYUSHKINY v. RUSSIA",
          "RESIN v. RUSSIA",
          "S.N. v. RUSSIA",
          "S.V. v. ITALY",
          "SHVIDKIYE v. RUSSIA",
          "SIDOROVA v. RUSSIA",
          "SOLCAN v. ROMANIA",
          "STANA v. ROMANIA",
          "VISY v. SLOVAKIA",
          "YAKUSHEV v. UKRAINE",
          "YERMAKOVICH v. RUSSIA",
          "YEVGENIY ZAKHAROV v. RUSSIA",
          "_NODI v. HUNGARY"
         ],
         "y": [
          0.05555555555555555,
          0.17289002557544758,
          0.07142857142857144,
          0.02543810062182024,
          0.23687747035573123,
          0.26525183927560836,
          0.22871246400658163,
          0,
          0,
          0.03976853899454519,
          0.2508587216248507,
          0.2292857142857143,
          0.1947860962566845,
          0,
          0.08172043010752687,
          0.23401709401709403,
          0.29879629629629634,
          0,
          0.14855072463768115,
          0.030891980360065466,
          0,
          0,
          0.06066176470588235,
          0.19696969696969696,
          0.3511904761904762,
          0.029411764705882356,
          0.3034090909090909,
          0.029857397504456325,
          0.20526315789473687,
          0.2171474358974359
>>>>>>> a813ab3a2a19b49bf703a1dc6fd99353356c8a2d
         ]
        },
        {
         "hovertemplate": "<b>gemma3:4b</b><br>Document: %{x}<br>Avg F1: %{y:.3f}<extra></extra>",
         "line": {
          "color": "#3498DB",
          "width": 3
         },
         "marker": {
          "size": 8
         },
         "mode": "lines+markers",
         "name": "gemma3:4b",
         "type": "scatter",
         "x": [
          "S.N. v. RUSSIA",
          "BELYAYEV AND OTHERS v. UKRAINE",
          "SIDOROVA v. RUSSIA",
          "EGILL EINARSSON v. ICELAND (No. 2)",
          "MOSKALEV v. RUSSIA",
          "PANYUSHKINY v. RUSSIA",
          "BIGUN v. UKRAINE",
          "SOLCAN v. ROMANIA",
          "YEVGENIY ZAKHAROV v. RUSSIA",
          "ALTAY v. TURKEY (No. 2)",
<<<<<<< HEAD
          "H_INESS v. NORWAY (1)",
          "SHVIDKIYE v. RUSSIA",
          "VISY v. SLOVAKIA",
          "OTGON v. THE REPUBLIC OF MOLDOVA",
          "M.T. v. UKRAINE",
          "RESIN v. RUSSIA",
          "DOKTOROV v. BULGARIA",
          "YERMAKOVICH v. RUSSIA",
          "YAKUSHEV v. UKRAINE",
          "STANA v. ROMANIA",
          "_NODI v. HUNGARY",
          "PAKHTUSOV v. RUSSIA",
          "KOSAITE - CYPIENE AND OTHERS v. LITHUANIA",
          "S.V. v. ITALY",
          "CAN v. TURKEY",
          "CRISTIAN CATALIN UNGUREANU v. ROMANIA",
          "MURUZHEVA v. RUSSIA",
          "LOZOVYYE v. RUSSIA",
          "O.C.I. AND OTHERS v. ROMANIA",
          "CABUCAK v. GERMANY"
         ],
         "y": [
          0,
          0.06666666666666667,
          0,
          0.19824561403508772,
          0.4175410716358992,
          0.12707413473864124,
          0.1794871794871795,
          0.19374389051808405,
          0.390892094017094,
          0.29933638996138995,
          0.07916666666666668,
          0.32940354147250694,
          0.23438594322910228,
          0,
          0.3537545787545788,
          0.2582683017465626,
          0.25991449211263457,
          0.03125,
          0.39476284584980237,
          0.4389880952380953,
          0.23257080610021785,
          0.33248966087675763,
          0.062324929971988796,
          0.3267089093701997,
          0.5373563218390804,
          0.11330771564364445,
          0.29054288599403255,
          0.4847619047619048,
          0.24280472422887284,
          0.09271978021978022
=======
          "BELYAYEV AND OTHERS v. UKRAINE",
          "BIGUN v. UKRAINE",
          "CABUCAK v. GERMANY",
          "CAN v. TURKEY",
          "CRISTIAN CATALIN UNGUREANU v. ROMANIA",
          "DOKTOROV v. BULGARIA",
          "EGILL EINARSSON v. ICELAND (No. 2)",
          "H_INESS v. NORWAY (1)",
          "KOSAITE - CYPIENE AND OTHERS v. LITHUANIA",
          "LOZOVYYE v. RUSSIA",
          "M.T. v. UKRAINE",
          "MOSKALEV v. RUSSIA",
          "MURUZHEVA v. RUSSIA",
          "O.C.I. AND OTHERS v. ROMANIA",
          "OTGON v. THE REPUBLIC OF MOLDOVA",
          "PAKHTUSOV v. RUSSIA",
          "PANYUSHKINY v. RUSSIA",
          "RESIN v. RUSSIA",
          "S.N. v. RUSSIA",
          "S.V. v. ITALY",
          "SHVIDKIYE v. RUSSIA",
          "SIDOROVA v. RUSSIA",
          "SOLCAN v. ROMANIA",
          "STANA v. ROMANIA",
          "VISY v. SLOVAKIA",
          "YAKUSHEV v. UKRAINE",
          "YERMAKOVICH v. RUSSIA",
          "YEVGENIY ZAKHAROV v. RUSSIA",
          "_NODI v. HUNGARY"
         ],
         "y": [
          0.29933638996138995,
          0.06666666666666667,
          0.1794871794871795,
          0.09271978021978022,
          0.5373563218390804,
          0.11330771564364445,
          0.25991449211263457,
          0.19824561403508772,
          0.07916666666666668,
          0.062324929971988796,
          0.4847619047619048,
          0.3537545787545788,
          0.4175410716358992,
          0.29054288599403255,
          0.24280472422887284,
          0,
          0.33248966087675763,
          0.12707413473864124,
          0.2582683017465626,
          0,
          0.3267089093701997,
          0.32940354147250694,
          0,
          0.19374389051808405,
          0.4389880952380953,
          0.23438594322910228,
          0.39476284584980237,
          0.03125,
          0.390892094017094,
          0.23257080610021785
>>>>>>> a813ab3a2a19b49bf703a1dc6fd99353356c8a2d
         ]
        },
        {
         "hovertemplate": "<b>gemma3:12b</b><br>Document: %{x}<br>Avg F1: %{y:.3f}<extra></extra>",
         "line": {
          "color": "#2ECC71",
          "width": 3
         },
         "marker": {
          "size": 8
         },
         "mode": "lines+markers",
         "name": "gemma3:12b",
         "type": "scatter",
         "x": [
          "S.N. v. RUSSIA",
          "BELYAYEV AND OTHERS v. UKRAINE",
          "SIDOROVA v. RUSSIA",
          "EGILL EINARSSON v. ICELAND (No. 2)",
          "MOSKALEV v. RUSSIA",
          "PANYUSHKINY v. RUSSIA",
          "BIGUN v. UKRAINE",
          "SOLCAN v. ROMANIA",
          "YEVGENIY ZAKHAROV v. RUSSIA",
          "ALTAY v. TURKEY (No. 2)",
<<<<<<< HEAD
          "H_INESS v. NORWAY (1)",
          "SHVIDKIYE v. RUSSIA",
          "VISY v. SLOVAKIA",
          "OTGON v. THE REPUBLIC OF MOLDOVA",
          "M.T. v. UKRAINE",
          "RESIN v. RUSSIA",
          "DOKTOROV v. BULGARIA",
          "YERMAKOVICH v. RUSSIA",
          "YAKUSHEV v. UKRAINE",
          "STANA v. ROMANIA",
          "_NODI v. HUNGARY",
          "PAKHTUSOV v. RUSSIA",
          "KOSAITE - CYPIENE AND OTHERS v. LITHUANIA",
          "S.V. v. ITALY",
          "CAN v. TURKEY",
          "CRISTIAN CATALIN UNGUREANU v. ROMANIA",
          "MURUZHEVA v. RUSSIA",
          "LOZOVYYE v. RUSSIA",
          "O.C.I. AND OTHERS v. ROMANIA",
          "CABUCAK v. GERMANY"
         ],
         "y": [
          0.03128623188405797,
          0.26487232574189096,
          0.5025,
          0.4300559947299078,
          0.44908424908424904,
          0.5870835176175734,
          0.25948731983214746,
          0.5473776223776224,
          0.31513112491373363,
          0.41103896103896104,
          0.4445812765665707,
          0.3492554137715428,
          0.3307384566729918,
          0.5075396825396825,
          0.3869162640901771,
          0.3977272727272727,
          0.3843570155334861,
          0.1065891472868217,
          0.6030138339920948,
          0.36495726495726494,
          0.39697622093288865,
          0.5812681159420289,
          0.03976853899454519,
          0.45953525641025644,
          0.6192368839427663,
          0.41504360465116275,
          0.36955397249112876,
          0.4354723707664884,
          0.4048951048951049,
          0.4016419905000066
=======
          "BELYAYEV AND OTHERS v. UKRAINE",
          "BIGUN v. UKRAINE",
          "CABUCAK v. GERMANY",
          "CAN v. TURKEY",
          "CRISTIAN CATALIN UNGUREANU v. ROMANIA",
          "DOKTOROV v. BULGARIA",
          "EGILL EINARSSON v. ICELAND (No. 2)",
          "H_INESS v. NORWAY (1)",
          "KOSAITE - CYPIENE AND OTHERS v. LITHUANIA",
          "LOZOVYYE v. RUSSIA",
          "M.T. v. UKRAINE",
          "MOSKALEV v. RUSSIA",
          "MURUZHEVA v. RUSSIA",
          "O.C.I. AND OTHERS v. ROMANIA",
          "OTGON v. THE REPUBLIC OF MOLDOVA",
          "PAKHTUSOV v. RUSSIA",
          "PANYUSHKINY v. RUSSIA",
          "RESIN v. RUSSIA",
          "S.N. v. RUSSIA",
          "S.V. v. ITALY",
          "SHVIDKIYE v. RUSSIA",
          "SIDOROVA v. RUSSIA",
          "SOLCAN v. ROMANIA",
          "STANA v. ROMANIA",
          "VISY v. SLOVAKIA",
          "YAKUSHEV v. UKRAINE",
          "YERMAKOVICH v. RUSSIA",
          "YEVGENIY ZAKHAROV v. RUSSIA",
          "_NODI v. HUNGARY"
         ],
         "y": [
          0.41103896103896104,
          0.26487232574189096,
          0.25948731983214746,
          0.4016419905000066,
          0.6192368839427663,
          0.41504360465116275,
          0.3843570155334861,
          0.4300559947299078,
          0.4445812765665707,
          0.03976853899454519,
          0.4354723707664884,
          0.3869162640901771,
          0.44908424908424904,
          0.36955397249112876,
          0.4048951048951049,
          0.5075396825396825,
          0.5812681159420289,
          0.5870835176175734,
          0.3977272727272727,
          0.03128623188405797,
          0.45953525641025644,
          0.3492554137715428,
          0.5025,
          0.5473776223776224,
          0.36495726495726494,
          0.3307384566729918,
          0.6030138339920948,
          0.1065891472868217,
          0.31513112491373363,
          0.39697622093288865
         ]
        },
        {
         "hovertemplate": "<b>llama3.3:latest</b><br>Document: %{x}<br>Avg F1: %{y:.3f}<extra></extra>",
         "line": {
          "color": "#F39C12",
          "width": 3
         },
         "marker": {
          "size": 8
         },
         "mode": "lines+markers",
         "name": "llama3.3:latest",
         "type": "scatter",
         "x": [
          "ALTAY v. TURKEY (No. 2)",
          "BELYAYEV AND OTHERS v. UKRAINE",
          "BIGUN v. UKRAINE",
          "CABUCAK v. GERMANY",
          "CAN v. TURKEY",
          "CRISTIAN CATALIN UNGUREANU v. ROMANIA",
          "DOKTOROV v. BULGARIA",
          "EGILL EINARSSON v. ICELAND (No. 2)",
          "H_INESS v. NORWAY (1)",
          "KOSAITE - CYPIENE AND OTHERS v. LITHUANIA",
          "LOZOVYYE v. RUSSIA",
          "M.T. v. UKRAINE",
          "MOSKALEV v. RUSSIA",
          "MURUZHEVA v. RUSSIA",
          "O.C.I. AND OTHERS v. ROMANIA",
          "OTGON v. THE REPUBLIC OF MOLDOVA",
          "PAKHTUSOV v. RUSSIA",
          "PANYUSHKINY v. RUSSIA",
          "RESIN v. RUSSIA",
          "S.N. v. RUSSIA",
          "S.V. v. ITALY",
          "SHVIDKIYE v. RUSSIA",
          "SIDOROVA v. RUSSIA",
          "SOLCAN v. ROMANIA",
          "STANA v. ROMANIA",
          "VISY v. SLOVAKIA",
          "YAKUSHEV v. UKRAINE",
          "YERMAKOVICH v. RUSSIA",
          "YEVGENIY ZAKHAROV v. RUSSIA",
          "_NODI v. HUNGARY"
         ],
         "y": [
          0.48237100737100735,
          0.16517857142857142,
          0.44429213964446346,
          0,
          0.6544486611849041,
          0.40295566502463054,
          0.5132936507936507,
          0.562400009410879,
          0.03229166666666666,
          0,
          0.5808148844333055,
          0.34638409961685823,
          0.5889689770499366,
          0.5381402393696105,
          0.556196838407867,
          0.49053093645484946,
          0.6344421987570807,
          0.6783641502438068,
          0.37312030075187963,
          0.010869565217391302,
          0.5639505422114117,
          0.5908722856091277,
          0.21180555555555555,
          0.4859848484848486,
          0.6659902597402597,
          0.3311570782159017,
          0.6470668220668221,
          0.7190856313497823,
          0.523847072879331,
          0.4359352322206096
         ]
        },
        {
         "hovertemplate": "<b>deepseek-r1:8b</b><br>Document: %{x}<br>Avg F1: %{y:.3f}<extra></extra>",
         "line": {
          "color": "#9B59B6",
          "width": 3
         },
         "marker": {
          "size": 8
         },
         "mode": "lines+markers",
         "name": "deepseek-r1:8b",
         "type": "scatter",
         "x": [
          "ALTAY v. TURKEY (No. 2)",
          "BELYAYEV AND OTHERS v. UKRAINE",
          "BIGUN v. UKRAINE",
          "CABUCAK v. GERMANY",
          "CAN v. TURKEY",
          "CRISTIAN CATALIN UNGUREANU v. ROMANIA",
          "DOKTOROV v. BULGARIA",
          "EGILL EINARSSON v. ICELAND (No. 2)",
          "H_INESS v. NORWAY (1)",
          "KOSAITE - CYPIENE AND OTHERS v. LITHUANIA",
          "LOZOVYYE v. RUSSIA",
          "M.T. v. UKRAINE",
          "MOSKALEV v. RUSSIA",
          "MURUZHEVA v. RUSSIA",
          "O.C.I. AND OTHERS v. ROMANIA",
          "OTGON v. THE REPUBLIC OF MOLDOVA",
          "PAKHTUSOV v. RUSSIA",
          "PANYUSHKINY v. RUSSIA",
          "RESIN v. RUSSIA",
          "S.N. v. RUSSIA",
          "S.V. v. ITALY",
          "SHVIDKIYE v. RUSSIA",
          "SIDOROVA v. RUSSIA",
          "SOLCAN v. ROMANIA",
          "STANA v. ROMANIA",
          "VISY v. SLOVAKIA",
          "YAKUSHEV v. UKRAINE",
          "YERMAKOVICH v. RUSSIA",
          "YEVGENIY ZAKHAROV v. RUSSIA",
          "_NODI v. HUNGARY"
         ],
         "y": [
          0.25920864452566345,
          0.0625,
          0.33753071253071254,
          0.15968298340569798,
          0.5170771756978654,
          0.2527972027972028,
          0.21772068511198944,
          0.375,
          0.2676008202323992,
          0.12485284405777128,
          0.4128444019748368,
          0.11501920562275253,
          0.1602391958324162,
          0.28983465689986093,
          0.05855496453900708,
          0.3518377070374741,
          0.2557109557109557,
          0.37094512630226917,
          0.22864986763408174,
          0.03791727140783745,
          0.360620304098565,
          0.3880960523744381,
          0.20211038961038963,
          0.4538608178314061,
          0.4429179566563467,
          0.08724202626641651,
          0,
          0.09415989415989416,
          0.28119047619047616,
          0.3995404411764706
>>>>>>> a813ab3a2a19b49bf703a1dc6fd99353356c8a2d
         ]
        },
        {
         "hovertemplate": "<b>mistral:latest</b><br>Document: %{x}<br>Avg F1: %{y:.3f}<extra></extra>",
         "line": {
          "color": "#1ABC9C",
          "width": 3
         },
         "marker": {
          "size": 8
         },
         "mode": "lines+markers",
         "name": "mistral:latest",
         "type": "scatter",
         "x": [
          "S.N. v. RUSSIA",
          "BELYAYEV AND OTHERS v. UKRAINE",
          "SIDOROVA v. RUSSIA",
          "EGILL EINARSSON v. ICELAND (No. 2)",
          "MOSKALEV v. RUSSIA",
          "PANYUSHKINY v. RUSSIA",
          "BIGUN v. UKRAINE",
          "SOLCAN v. ROMANIA",
          "YEVGENIY ZAKHAROV v. RUSSIA",
          "ALTAY v. TURKEY (No. 2)",
<<<<<<< HEAD
          "H_INESS v. NORWAY (1)",
          "SHVIDKIYE v. RUSSIA",
          "VISY v. SLOVAKIA",
          "OTGON v. THE REPUBLIC OF MOLDOVA",
          "M.T. v. UKRAINE",
          "RESIN v. RUSSIA",
          "DOKTOROV v. BULGARIA",
          "YERMAKOVICH v. RUSSIA",
          "YAKUSHEV v. UKRAINE",
          "STANA v. ROMANIA",
          "_NODI v. HUNGARY",
          "PAKHTUSOV v. RUSSIA",
          "KOSAITE - CYPIENE AND OTHERS v. LITHUANIA",
          "S.V. v. ITALY",
          "CAN v. TURKEY",
          "CRISTIAN CATALIN UNGUREANU v. ROMANIA",
          "MURUZHEVA v. RUSSIA",
          "LOZOVYYE v. RUSSIA",
          "O.C.I. AND OTHERS v. ROMANIA",
          "CABUCAK v. GERMANY"
         ],
         "y": [
          0.06814713064713064,
          0.12461095549330843,
          0.183640350877193,
          0.3526759188523894,
          0.37724358974358974,
          0.46522358943577435,
          0.283106414685362,
          0.36792929292929294,
          0.24746429281313004,
          0.30556419185010153,
          0.22112193362193364,
          0.452299880525687,
          0.27720700152207,
          0.43333333333333335,
          0.3786052009456265,
          0.33025583982202444,
          0.32556390977443606,
          0.26669185503658827,
          0.46608439201451907,
          0.2738095238095238,
          0.35595085274161015,
          0.3892259056732741,
          0.2184807317931798,
          0.4577380952380953,
          0.5319954435808094,
          0.33839173967459324,
          0.3988779803646564,
          0.5119047619047619,
          0,
          0.287679853014339
=======
          "BELYAYEV AND OTHERS v. UKRAINE",
          "BIGUN v. UKRAINE",
          "CABUCAK v. GERMANY",
          "CAN v. TURKEY",
          "CRISTIAN CATALIN UNGUREANU v. ROMANIA",
          "DOKTOROV v. BULGARIA",
          "EGILL EINARSSON v. ICELAND (No. 2)",
          "H_INESS v. NORWAY (1)",
          "KOSAITE - CYPIENE AND OTHERS v. LITHUANIA",
          "LOZOVYYE v. RUSSIA",
          "M.T. v. UKRAINE",
          "MOSKALEV v. RUSSIA",
          "MURUZHEVA v. RUSSIA",
          "O.C.I. AND OTHERS v. ROMANIA",
          "OTGON v. THE REPUBLIC OF MOLDOVA",
          "PAKHTUSOV v. RUSSIA",
          "PANYUSHKINY v. RUSSIA",
          "RESIN v. RUSSIA",
          "S.N. v. RUSSIA",
          "S.V. v. ITALY",
          "SHVIDKIYE v. RUSSIA",
          "SIDOROVA v. RUSSIA",
          "SOLCAN v. ROMANIA",
          "STANA v. ROMANIA",
          "VISY v. SLOVAKIA",
          "YAKUSHEV v. UKRAINE",
          "YERMAKOVICH v. RUSSIA",
          "YEVGENIY ZAKHAROV v. RUSSIA",
          "_NODI v. HUNGARY"
         ],
         "y": [
          0.30556419185010153,
          0.12461095549330843,
          0.283106414685362,
          0.287679853014339,
          0.5319954435808094,
          0.33839173967459324,
          0.32556390977443606,
          0.3526759188523894,
          0.22112193362193364,
          0.2184807317931798,
          0.5119047619047619,
          0.3786052009456265,
          0.37724358974358974,
          0.3988779803646564,
          0,
          0.43333333333333335,
          0.3892259056732741,
          0.46522358943577435,
          0.33025583982202444,
          0.06814713064713064,
          0.4577380952380953,
          0.452299880525687,
          0.183640350877193,
          0.36792929292929294,
          0.2738095238095238,
          0.27720700152207,
          0.46608439201451907,
          0.26669185503658827,
          0.24746429281313004,
          0.35595085274161015
         ]
        },
        {
         "hovertemplate": "<b>incept5/llama3.1-claude:latest</b><br>Document: %{x}<br>Avg F1: %{y:.3f}<extra></extra>",
         "line": {
          "color": "#F1C40F",
          "width": 3
         },
         "marker": {
          "size": 8
         },
         "mode": "lines+markers",
         "name": "incept5/llama3.1-claude:latest",
         "type": "scatter",
         "x": [
          "ALTAY v. TURKEY (No. 2)",
          "BELYAYEV AND OTHERS v. UKRAINE",
          "BIGUN v. UKRAINE",
          "CABUCAK v. GERMANY",
          "CAN v. TURKEY",
          "CRISTIAN CATALIN UNGUREANU v. ROMANIA",
          "DOKTOROV v. BULGARIA",
          "EGILL EINARSSON v. ICELAND (No. 2)",
          "H_INESS v. NORWAY (1)",
          "KOSAITE - CYPIENE AND OTHERS v. LITHUANIA",
          "LOZOVYYE v. RUSSIA",
          "M.T. v. UKRAINE",
          "MOSKALEV v. RUSSIA",
          "MURUZHEVA v. RUSSIA",
          "O.C.I. AND OTHERS v. ROMANIA",
          "OTGON v. THE REPUBLIC OF MOLDOVA",
          "PAKHTUSOV v. RUSSIA",
          "PANYUSHKINY v. RUSSIA",
          "RESIN v. RUSSIA",
          "S.N. v. RUSSIA",
          "S.V. v. ITALY",
          "SHVIDKIYE v. RUSSIA",
          "SIDOROVA v. RUSSIA",
          "SOLCAN v. ROMANIA",
          "STANA v. ROMANIA",
          "VISY v. SLOVAKIA",
          "YAKUSHEV v. UKRAINE",
          "YERMAKOVICH v. RUSSIA",
          "YEVGENIY ZAKHAROV v. RUSSIA",
          "_NODI v. HUNGARY"
         ],
         "y": [
          0.30584795321637426,
          0.10714285714285714,
          0.18367546432062562,
          0.22802660753880266,
          0.4672900444938821,
          0.3363552266419982,
          0.4133333333333333,
          0,
          0.10029380341880342,
          0.20293614881850175,
          0.3236607142857143,
          0.2778050778050778,
          0.4567099567099567,
          0.30397228867623605,
          0.35753968253968255,
          0.5317911255411255,
          0.4801587301587302,
          0.48976484592325376,
          0.2744949494949495,
          0.02128623188405797,
          0.26120071684587814,
          0.24647712201591512,
          0.1746031746031746,
          0.23647186147186144,
          0.49914529914529915,
          0.18012820512820513,
          0.37,
          0.045928030303030304,
          0.2845238095238095,
          0.2121954054354527
         ]
        },
        {
         "hovertemplate": "<b>chevalblanc/claude-3-haiku:latest</b><br>Document: %{x}<br>Avg F1: %{y:.3f}<extra></extra>",
         "line": {
          "color": "#E67E22",
          "width": 3
         },
         "marker": {
          "size": 8
         },
         "mode": "lines+markers",
         "name": "chevalblanc/claude-3-haiku:latest",
         "type": "scatter",
         "x": [
          "ALTAY v. TURKEY (No. 2)",
          "BELYAYEV AND OTHERS v. UKRAINE",
          "BIGUN v. UKRAINE",
          "CABUCAK v. GERMANY",
          "CAN v. TURKEY",
          "CRISTIAN CATALIN UNGUREANU v. ROMANIA",
          "DOKTOROV v. BULGARIA",
          "EGILL EINARSSON v. ICELAND (No. 2)",
          "H_INESS v. NORWAY (1)",
          "KOSAITE - CYPIENE AND OTHERS v. LITHUANIA",
          "LOZOVYYE v. RUSSIA",
          "M.T. v. UKRAINE",
          "MOSKALEV v. RUSSIA",
          "MURUZHEVA v. RUSSIA",
          "O.C.I. AND OTHERS v. ROMANIA",
          "OTGON v. THE REPUBLIC OF MOLDOVA",
          "PAKHTUSOV v. RUSSIA",
          "PANYUSHKINY v. RUSSIA",
          "RESIN v. RUSSIA",
          "S.N. v. RUSSIA",
          "S.V. v. ITALY",
          "SHVIDKIYE v. RUSSIA",
          "SIDOROVA v. RUSSIA",
          "SOLCAN v. ROMANIA",
          "STANA v. ROMANIA",
          "VISY v. SLOVAKIA",
          "YAKUSHEV v. UKRAINE",
          "YERMAKOVICH v. RUSSIA",
          "YEVGENIY ZAKHAROV v. RUSSIA",
          "_NODI v. HUNGARY"
         ],
         "y": [
          0.4225742928750447,
          0.03571428571428571,
          0.1420599860497559,
          0.03377659574468085,
          0.5571428571428572,
          0.2467139342139342,
          0.225,
          0.2634920634920635,
          0.09632527264106211,
          0.11944444444444445,
          0.28427419354838707,
          0.19318181818181818,
          0.41724813928761295,
          0.1050194931773879,
          0.17784743991640545,
          0.2465686274509804,
          0.2921650717703349,
          0.27080103359173124,
          0.37790322580645164,
          0.12329705610273711,
          0.1786231884057971,
          0.4574969400244798,
          0.7550348757245309,
          0.18792270531400967,
          0.48035714285714287,
          0.09564393939393939,
          0.4308495423340961,
          0.3833167367892378,
          0.31234638528688874,
          0.06857142857142857
         ]
        },
        {
         "hovertemplate": "<b>llama4:16x17b</b><br>Document: %{x}<br>Avg F1: %{y:.3f}<extra></extra>",
         "line": {
          "color": "#95A5A6",
          "width": 3
         },
         "marker": {
          "size": 8
         },
         "mode": "lines+markers",
         "name": "llama4:16x17b",
         "type": "scatter",
         "x": [
          "ALTAY v. TURKEY (No. 2)",
          "BELYAYEV AND OTHERS v. UKRAINE",
          "BIGUN v. UKRAINE",
          "CABUCAK v. GERMANY",
          "CAN v. TURKEY",
          "CRISTIAN CATALIN UNGUREANU v. ROMANIA",
          "DOKTOROV v. BULGARIA",
          "EGILL EINARSSON v. ICELAND (No. 2)",
          "H_INESS v. NORWAY (1)",
          "KOSAITE - CYPIENE AND OTHERS v. LITHUANIA",
          "LOZOVYYE v. RUSSIA",
          "M.T. v. UKRAINE",
          "MOSKALEV v. RUSSIA",
          "MURUZHEVA v. RUSSIA",
          "O.C.I. AND OTHERS v. ROMANIA",
          "OTGON v. THE REPUBLIC OF MOLDOVA",
          "PAKHTUSOV v. RUSSIA",
          "PANYUSHKINY v. RUSSIA",
          "RESIN v. RUSSIA",
          "S.N. v. RUSSIA",
          "S.V. v. ITALY",
          "SHVIDKIYE v. RUSSIA",
          "SIDOROVA v. RUSSIA",
          "SOLCAN v. ROMANIA",
          "STANA v. ROMANIA",
          "VISY v. SLOVAKIA",
          "YAKUSHEV v. UKRAINE",
          "YERMAKOVICH v. RUSSIA",
          "YEVGENIY ZAKHAROV v. RUSSIA",
          "_NODI v. HUNGARY"
         ],
         "y": [
          0,
          0,
          0,
          0,
          0,
          0.08699677938808373,
          0.1111111111111111,
          0,
          0,
          0,
          0,
          0,
          0,
          0,
          0,
          0.4313055365686944,
          0.08391608391608392,
          0.10205032618825724,
          0,
          0,
          0,
          0,
          0,
          0,
          0.3194444444444444,
          0,
          0.11929824561403508,
          0,
          0,
          0.027820121951219516
         ]
        },
        {
         "hovertemplate": "<b>mixtral:8x7b</b><br>Document: %{x}<br>Avg F1: %{y:.3f}<extra></extra>",
         "line": {
          "color": "#34495E",
          "width": 3
         },
         "marker": {
          "size": 8
         },
         "mode": "lines+markers",
         "name": "mixtral:8x7b",
         "type": "scatter",
         "x": [
          "ALTAY v. TURKEY (No. 2)",
          "BELYAYEV AND OTHERS v. UKRAINE",
          "BIGUN v. UKRAINE",
          "CABUCAK v. GERMANY",
          "CAN v. TURKEY",
          "CRISTIAN CATALIN UNGUREANU v. ROMANIA",
          "DOKTOROV v. BULGARIA",
          "EGILL EINARSSON v. ICELAND (No. 2)",
          "H_INESS v. NORWAY (1)",
          "KOSAITE - CYPIENE AND OTHERS v. LITHUANIA",
          "LOZOVYYE v. RUSSIA",
          "M.T. v. UKRAINE",
          "MOSKALEV v. RUSSIA",
          "MURUZHEVA v. RUSSIA",
          "O.C.I. AND OTHERS v. ROMANIA",
          "OTGON v. THE REPUBLIC OF MOLDOVA",
          "PAKHTUSOV v. RUSSIA",
          "PANYUSHKINY v. RUSSIA",
          "RESIN v. RUSSIA",
          "S.N. v. RUSSIA",
          "S.V. v. ITALY",
          "SHVIDKIYE v. RUSSIA",
          "SIDOROVA v. RUSSIA",
          "SOLCAN v. ROMANIA",
          "STANA v. ROMANIA",
          "VISY v. SLOVAKIA",
          "YAKUSHEV v. UKRAINE",
          "YERMAKOVICH v. RUSSIA",
          "YEVGENIY ZAKHAROV v. RUSSIA",
          "_NODI v. HUNGARY"
         ],
         "y": [
          0.3551216801216801,
          0.08712121212121213,
          0.18939393939393942,
          0.321864406779661,
          0.3619047619047619,
          0.24892099404843032,
          0.1775103980986334,
          0.47016194331983807,
          0.03137254901960784,
          0.04034690799396682,
          0.05322128851540617,
          0.4668192219679634,
          0.4326754385964912,
          0.2971328418870605,
          0.2173992673992674,
          0.3360902255639098,
          0.3466346153846154,
          0.032563025210084036,
          0.36623677248677244,
          0.5717008375256457,
          0.41246498599439774,
          0.3865711356845296,
          0.09583333333333334,
          0,
          0.1842948717948718,
          0,
          0.19914529914529913,
          0.05795454545454545,
          0.06227106227106227,
          0.04744397759103641
         ]
        },
        {
         "hovertemplate": "<b>dolphin3:8b</b><br>Document: %{x}<br>Avg F1: %{y:.3f}<extra></extra>",
         "line": {
          "color": "#16A085",
          "width": 3
         },
         "marker": {
          "size": 8
         },
         "mode": "lines+markers",
         "name": "dolphin3:8b",
         "type": "scatter",
         "x": [
          "ALTAY v. TURKEY (No. 2)",
          "BELYAYEV AND OTHERS v. UKRAINE",
          "BIGUN v. UKRAINE",
          "CABUCAK v. GERMANY",
          "CAN v. TURKEY",
          "CRISTIAN CATALIN UNGUREANU v. ROMANIA",
          "DOKTOROV v. BULGARIA",
          "EGILL EINARSSON v. ICELAND (No. 2)",
          "H_INESS v. NORWAY (1)",
          "KOSAITE - CYPIENE AND OTHERS v. LITHUANIA",
          "LOZOVYYE v. RUSSIA",
          "M.T. v. UKRAINE",
          "MOSKALEV v. RUSSIA",
          "MURUZHEVA v. RUSSIA",
          "O.C.I. AND OTHERS v. ROMANIA",
          "OTGON v. THE REPUBLIC OF MOLDOVA",
          "PAKHTUSOV v. RUSSIA",
          "PANYUSHKINY v. RUSSIA",
          "RESIN v. RUSSIA",
          "S.N. v. RUSSIA",
          "S.V. v. ITALY",
          "SHVIDKIYE v. RUSSIA",
          "SIDOROVA v. RUSSIA",
          "SOLCAN v. ROMANIA",
          "STANA v. ROMANIA",
          "VISY v. SLOVAKIA",
          "YAKUSHEV v. UKRAINE",
          "YERMAKOVICH v. RUSSIA",
          "YEVGENIY ZAKHAROV v. RUSSIA",
          "_NODI v. HUNGARY"
         ],
         "y": [
          0.20857142857142857,
          0.18596491228070175,
          0.21427304964539007,
          0,
          0.3194444444444444,
          0.23433179723502304,
          0.2803921568627451,
          0.2256811815635345,
          0.06810408423311648,
          0.04761904761904762,
          0.13759358288770052,
          0.1464285714285714,
          0.1366013071895425,
          0,
          0.24584780810587264,
          0.3512033288349078,
          0.17214912280701755,
          0.14317211948790898,
          0.38053313768647584,
          0.010638297872340425,
          0.31140350877192985,
          0.3499516198430025,
          0.0900735294117647,
          0.08083333333333334,
          0.2702922077922078,
          0.131991341991342,
          0.19724393253805017,
          0,
          0.054411764705882354,
          0.2188375350140056
         ]
        },
        {
         "hovertemplate": "<b>dolphin-mixtral:8x7b</b><br>Document: %{x}<br>Avg F1: %{y:.3f}<extra></extra>",
         "line": {
          "color": "#8E44AD",
          "width": 3
         },
         "marker": {
          "size": 8
         },
         "mode": "lines+markers",
         "name": "dolphin-mixtral:8x7b",
         "type": "scatter",
         "x": [
          "ALTAY v. TURKEY (No. 2)",
          "BELYAYEV AND OTHERS v. UKRAINE",
          "BIGUN v. UKRAINE",
          "CABUCAK v. GERMANY",
          "CAN v. TURKEY",
          "CRISTIAN CATALIN UNGUREANU v. ROMANIA",
          "DOKTOROV v. BULGARIA",
          "EGILL EINARSSON v. ICELAND (No. 2)",
          "H_INESS v. NORWAY (1)",
          "KOSAITE - CYPIENE AND OTHERS v. LITHUANIA",
          "LOZOVYYE v. RUSSIA",
          "M.T. v. UKRAINE",
          "MOSKALEV v. RUSSIA",
          "MURUZHEVA v. RUSSIA",
          "O.C.I. AND OTHERS v. ROMANIA",
          "OTGON v. THE REPUBLIC OF MOLDOVA",
          "PAKHTUSOV v. RUSSIA",
          "PANYUSHKINY v. RUSSIA",
          "RESIN v. RUSSIA",
          "S.N. v. RUSSIA",
          "S.V. v. ITALY",
          "SHVIDKIYE v. RUSSIA",
          "SIDOROVA v. RUSSIA",
          "SOLCAN v. ROMANIA",
          "STANA v. ROMANIA",
          "VISY v. SLOVAKIA",
          "YAKUSHEV v. UKRAINE",
          "YERMAKOVICH v. RUSSIA",
          "YEVGENIY ZAKHAROV v. RUSSIA",
          "_NODI v. HUNGARY"
         ],
         "y": [
          0.3559992638940007,
          0.09523809523809525,
          0.24382352941176466,
          0.1861429350791053,
          0.5497536945812809,
          0,
          0,
          0.20038986354775828,
          0.09017565359477124,
          0.08041734480353407,
          0.11261904761904762,
          0,
          0.35523504273504275,
          0.3899209360128588,
          0.30687271571587477,
          0.2872294372294373,
          0.2948343079922028,
          0.41824715515403477,
          0.23460144927536228,
          0.03437950937950938,
          0.18451612903225806,
          0.09860646599777036,
          0,
          0.32727668845315905,
          0.4743055555555556,
          0.29737936316883684,
          0.4701768819415878,
          0.22338657804459694,
          0,
          0.25255650647355715
>>>>>>> a813ab3a2a19b49bf703a1dc6fd99353356c8a2d
         ]
        }
       ],
       "layout": {
        "height": 400,
        "hovermode": "x unified",
        "legend": {
         "orientation": "h",
         "x": 1,
         "xanchor": "right",
         "y": 1.02,
         "yanchor": "bottom"
        },
        "template": {
         "data": {
          "bar": [
           {
            "error_x": {
             "color": "#2a3f5f"
            },
            "error_y": {
             "color": "#2a3f5f"
            },
            "marker": {
             "line": {
              "color": "#E5ECF6",
              "width": 0.5
             },
             "pattern": {
              "fillmode": "overlay",
              "size": 10,
              "solidity": 0.2
             }
            },
            "type": "bar"
           }
          ],
          "barpolar": [
           {
            "marker": {
             "line": {
              "color": "#E5ECF6",
              "width": 0.5
             },
             "pattern": {
              "fillmode": "overlay",
              "size": 10,
              "solidity": 0.2
             }
            },
            "type": "barpolar"
           }
          ],
          "carpet": [
           {
            "aaxis": {
             "endlinecolor": "#2a3f5f",
             "gridcolor": "white",
             "linecolor": "white",
             "minorgridcolor": "white",
             "startlinecolor": "#2a3f5f"
            },
            "baxis": {
             "endlinecolor": "#2a3f5f",
             "gridcolor": "white",
             "linecolor": "white",
             "minorgridcolor": "white",
             "startlinecolor": "#2a3f5f"
            },
            "type": "carpet"
           }
          ],
          "choropleth": [
           {
            "colorbar": {
             "outlinewidth": 0,
             "ticks": ""
            },
            "type": "choropleth"
           }
          ],
          "contour": [
           {
            "colorbar": {
             "outlinewidth": 0,
             "ticks": ""
            },
            "colorscale": [
             [
              0,
              "#0d0887"
             ],
             [
              0.1111111111111111,
              "#46039f"
             ],
             [
              0.2222222222222222,
              "#7201a8"
             ],
             [
              0.3333333333333333,
              "#9c179e"
             ],
             [
              0.4444444444444444,
              "#bd3786"
             ],
             [
              0.5555555555555556,
              "#d8576b"
             ],
             [
              0.6666666666666666,
              "#ed7953"
             ],
             [
              0.7777777777777778,
              "#fb9f3a"
             ],
             [
              0.8888888888888888,
              "#fdca26"
             ],
             [
              1,
              "#f0f921"
             ]
            ],
            "type": "contour"
           }
          ],
          "contourcarpet": [
           {
            "colorbar": {
             "outlinewidth": 0,
             "ticks": ""
            },
            "type": "contourcarpet"
           }
          ],
          "heatmap": [
           {
            "colorbar": {
             "outlinewidth": 0,
             "ticks": ""
            },
            "colorscale": [
             [
              0,
              "#0d0887"
             ],
             [
              0.1111111111111111,
              "#46039f"
             ],
             [
              0.2222222222222222,
              "#7201a8"
             ],
             [
              0.3333333333333333,
              "#9c179e"
             ],
             [
              0.4444444444444444,
              "#bd3786"
             ],
             [
              0.5555555555555556,
              "#d8576b"
             ],
             [
              0.6666666666666666,
              "#ed7953"
             ],
             [
              0.7777777777777778,
              "#fb9f3a"
             ],
             [
              0.8888888888888888,
              "#fdca26"
             ],
             [
              1,
              "#f0f921"
             ]
            ],
            "type": "heatmap"
           }
          ],
          "histogram": [
           {
            "marker": {
             "pattern": {
              "fillmode": "overlay",
              "size": 10,
              "solidity": 0.2
             }
            },
            "type": "histogram"
           }
          ],
          "histogram2d": [
           {
            "colorbar": {
             "outlinewidth": 0,
             "ticks": ""
            },
            "colorscale": [
             [
              0,
              "#0d0887"
             ],
             [
              0.1111111111111111,
              "#46039f"
             ],
             [
              0.2222222222222222,
              "#7201a8"
             ],
             [
              0.3333333333333333,
              "#9c179e"
             ],
             [
              0.4444444444444444,
              "#bd3786"
             ],
             [
              0.5555555555555556,
              "#d8576b"
             ],
             [
              0.6666666666666666,
              "#ed7953"
             ],
             [
              0.7777777777777778,
              "#fb9f3a"
             ],
             [
              0.8888888888888888,
              "#fdca26"
             ],
             [
              1,
              "#f0f921"
             ]
            ],
            "type": "histogram2d"
           }
          ],
          "histogram2dcontour": [
           {
            "colorbar": {
             "outlinewidth": 0,
             "ticks": ""
            },
            "colorscale": [
             [
              0,
              "#0d0887"
             ],
             [
              0.1111111111111111,
              "#46039f"
             ],
             [
              0.2222222222222222,
              "#7201a8"
             ],
             [
              0.3333333333333333,
              "#9c179e"
             ],
             [
              0.4444444444444444,
              "#bd3786"
             ],
             [
              0.5555555555555556,
              "#d8576b"
             ],
             [
              0.6666666666666666,
              "#ed7953"
             ],
             [
              0.7777777777777778,
              "#fb9f3a"
             ],
             [
              0.8888888888888888,
              "#fdca26"
             ],
             [
              1,
              "#f0f921"
             ]
            ],
            "type": "histogram2dcontour"
           }
          ],
          "mesh3d": [
           {
            "colorbar": {
             "outlinewidth": 0,
             "ticks": ""
            },
            "type": "mesh3d"
           }
          ],
          "parcoords": [
           {
            "line": {
             "colorbar": {
              "outlinewidth": 0,
              "ticks": ""
             }
            },
            "type": "parcoords"
           }
          ],
          "pie": [
           {
            "automargin": true,
            "type": "pie"
           }
          ],
          "scatter": [
           {
            "fillpattern": {
             "fillmode": "overlay",
             "size": 10,
             "solidity": 0.2
            },
            "type": "scatter"
           }
          ],
          "scatter3d": [
           {
            "line": {
             "colorbar": {
              "outlinewidth": 0,
              "ticks": ""
             }
            },
            "marker": {
             "colorbar": {
              "outlinewidth": 0,
              "ticks": ""
             }
            },
            "type": "scatter3d"
           }
          ],
          "scattercarpet": [
           {
            "marker": {
             "colorbar": {
              "outlinewidth": 0,
              "ticks": ""
             }
            },
            "type": "scattercarpet"
           }
          ],
          "scattergeo": [
           {
            "marker": {
             "colorbar": {
              "outlinewidth": 0,
              "ticks": ""
             }
            },
            "type": "scattergeo"
           }
          ],
          "scattergl": [
           {
            "marker": {
             "colorbar": {
              "outlinewidth": 0,
              "ticks": ""
             }
            },
            "type": "scattergl"
           }
          ],
          "scattermap": [
           {
            "marker": {
             "colorbar": {
              "outlinewidth": 0,
              "ticks": ""
             }
            },
            "type": "scattermap"
           }
          ],
          "scattermapbox": [
           {
            "marker": {
             "colorbar": {
              "outlinewidth": 0,
              "ticks": ""
             }
            },
            "type": "scattermapbox"
           }
          ],
          "scatterpolar": [
           {
            "marker": {
             "colorbar": {
              "outlinewidth": 0,
              "ticks": ""
             }
            },
            "type": "scatterpolar"
           }
          ],
          "scatterpolargl": [
           {
            "marker": {
             "colorbar": {
              "outlinewidth": 0,
              "ticks": ""
             }
            },
            "type": "scatterpolargl"
           }
          ],
          "scatterternary": [
           {
            "marker": {
             "colorbar": {
              "outlinewidth": 0,
              "ticks": ""
             }
            },
            "type": "scatterternary"
           }
          ],
          "surface": [
           {
            "colorbar": {
             "outlinewidth": 0,
             "ticks": ""
            },
            "colorscale": [
             [
              0,
              "#0d0887"
             ],
             [
              0.1111111111111111,
              "#46039f"
             ],
             [
              0.2222222222222222,
              "#7201a8"
             ],
             [
              0.3333333333333333,
              "#9c179e"
             ],
             [
              0.4444444444444444,
              "#bd3786"
             ],
             [
              0.5555555555555556,
              "#d8576b"
             ],
             [
              0.6666666666666666,
              "#ed7953"
             ],
             [
              0.7777777777777778,
              "#fb9f3a"
             ],
             [
              0.8888888888888888,
              "#fdca26"
             ],
             [
              1,
              "#f0f921"
             ]
            ],
            "type": "surface"
           }
          ],
          "table": [
           {
            "cells": {
             "fill": {
              "color": "#EBF0F8"
             },
             "line": {
              "color": "white"
             }
            },
            "header": {
             "fill": {
              "color": "#C8D4E3"
             },
             "line": {
              "color": "white"
             }
            },
            "type": "table"
           }
          ]
         },
         "layout": {
          "annotationdefaults": {
           "arrowcolor": "#2a3f5f",
           "arrowhead": 0,
           "arrowwidth": 1
          },
          "autotypenumbers": "strict",
          "coloraxis": {
           "colorbar": {
            "outlinewidth": 0,
            "ticks": ""
           }
          },
          "colorscale": {
           "diverging": [
            [
             0,
             "#8e0152"
            ],
            [
             0.1,
             "#c51b7d"
            ],
            [
             0.2,
             "#de77ae"
            ],
            [
             0.3,
             "#f1b6da"
            ],
            [
             0.4,
             "#fde0ef"
            ],
            [
             0.5,
             "#f7f7f7"
            ],
            [
             0.6,
             "#e6f5d0"
            ],
            [
             0.7,
             "#b8e186"
            ],
            [
             0.8,
             "#7fbc41"
            ],
            [
             0.9,
             "#4d9221"
            ],
            [
             1,
             "#276419"
            ]
           ],
           "sequential": [
            [
             0,
             "#0d0887"
            ],
            [
             0.1111111111111111,
             "#46039f"
            ],
            [
             0.2222222222222222,
             "#7201a8"
            ],
            [
             0.3333333333333333,
             "#9c179e"
            ],
            [
             0.4444444444444444,
             "#bd3786"
            ],
            [
             0.5555555555555556,
             "#d8576b"
            ],
            [
             0.6666666666666666,
             "#ed7953"
            ],
            [
             0.7777777777777778,
             "#fb9f3a"
            ],
            [
             0.8888888888888888,
             "#fdca26"
            ],
            [
             1,
             "#f0f921"
            ]
           ],
           "sequentialminus": [
            [
             0,
             "#0d0887"
            ],
            [
             0.1111111111111111,
             "#46039f"
            ],
            [
             0.2222222222222222,
             "#7201a8"
            ],
            [
             0.3333333333333333,
             "#9c179e"
            ],
            [
             0.4444444444444444,
             "#bd3786"
            ],
            [
             0.5555555555555556,
             "#d8576b"
            ],
            [
             0.6666666666666666,
             "#ed7953"
            ],
            [
             0.7777777777777778,
             "#fb9f3a"
            ],
            [
             0.8888888888888888,
             "#fdca26"
            ],
            [
             1,
             "#f0f921"
            ]
           ]
          },
          "colorway": [
           "#636efa",
           "#EF553B",
           "#00cc96",
           "#ab63fa",
           "#FFA15A",
           "#19d3f3",
           "#FF6692",
           "#B6E880",
           "#FF97FF",
           "#FECB52"
          ],
          "font": {
           "color": "#2a3f5f"
          },
          "geo": {
           "bgcolor": "white",
           "lakecolor": "white",
           "landcolor": "#E5ECF6",
           "showlakes": true,
           "showland": true,
           "subunitcolor": "white"
          },
          "hoverlabel": {
           "align": "left"
          },
          "hovermode": "closest",
          "mapbox": {
           "style": "light"
          },
          "paper_bgcolor": "white",
          "plot_bgcolor": "#E5ECF6",
          "polar": {
           "angularaxis": {
            "gridcolor": "white",
            "linecolor": "white",
            "ticks": ""
           },
           "bgcolor": "#E5ECF6",
           "radialaxis": {
            "gridcolor": "white",
            "linecolor": "white",
            "ticks": ""
           }
          },
          "scene": {
           "xaxis": {
            "backgroundcolor": "#E5ECF6",
            "gridcolor": "white",
            "gridwidth": 2,
            "linecolor": "white",
            "showbackground": true,
            "ticks": "",
            "zerolinecolor": "white"
           },
           "yaxis": {
            "backgroundcolor": "#E5ECF6",
            "gridcolor": "white",
            "gridwidth": 2,
            "linecolor": "white",
            "showbackground": true,
            "ticks": "",
            "zerolinecolor": "white"
           },
           "zaxis": {
            "backgroundcolor": "#E5ECF6",
            "gridcolor": "white",
            "gridwidth": 2,
            "linecolor": "white",
            "showbackground": true,
            "ticks": "",
            "zerolinecolor": "white"
           }
          },
          "shapedefaults": {
           "line": {
            "color": "#2a3f5f"
           }
          },
          "ternary": {
           "aaxis": {
            "gridcolor": "white",
            "linecolor": "white",
            "ticks": ""
           },
           "baxis": {
            "gridcolor": "white",
            "linecolor": "white",
            "ticks": ""
           },
           "bgcolor": "#E5ECF6",
           "caxis": {
            "gridcolor": "white",
            "linecolor": "white",
            "ticks": ""
           }
          },
          "title": {
           "x": 0.05
          },
          "xaxis": {
           "automargin": true,
           "gridcolor": "white",
           "linecolor": "white",
           "ticks": "",
           "title": {
            "standoff": 15
           },
           "zerolinecolor": "white",
           "zerolinewidth": 2
          },
          "yaxis": {
           "automargin": true,
           "gridcolor": "white",
           "linecolor": "white",
           "ticks": "",
           "title": {
            "standoff": 15
           },
           "zerolinecolor": "white",
           "zerolinewidth": 2
          }
         }
        },
        "title": {
         "text": "Model Performance Across Individual Documents"
        },
        "xaxis": {
         "tickangle": 45,
         "title": {
          "text": "Document"
         }
        },
        "yaxis": {
         "title": {
          "text": "Average F1 Score"
         }
        }
       }
      }
     },
     "metadata": {},
     "output_type": "display_data"
    },
    {
     "name": "stdout",
     "output_type": "stream",
     "text": [
      "📊 EVALUATION SUMMARY:\n",
      "==================================================\n",
      "\n",
      "🏆 MODEL RANKINGS (by average F1):\n",
<<<<<<< HEAD
      "1. gemma3:12b: 0.393 (±0.226)\n",
      "2. mistral:latest: 0.323 (±0.228)\n",
      "3. gemma3:4b: 0.232 (±0.225)\n",
      "4. gemma3:1b: 0.132 (±0.175)\n",
      "\n",
      "📋 ANNOTATION TYPE PERFORMANCE:\n",
      "• Event: 0.400 (±0.235)\n",
      "• Event_when: 0.384 (±0.242)\n",
      "• Event_what: 0.200 (±0.167)\n",
      "• Event_who: 0.096 (±0.125)\n",
      "\n",
      "📄 DOCUMENT ANALYSIS:\n",
      "Most challenging: S.N. v. RUSSIA (avg F1: 0.033)\n",
      "Easiest: CAN v. TURKEY (avg F1: 0.481)\n",
=======
      "1. llama3.3:latest: 0.441 (±0.289)\n",
      "2. gemma3:12b: 0.393 (±0.226)\n",
      "3. mistral:latest: 0.323 (±0.228)\n",
      "4. incept5/llama3.1-claude:latest: 0.279 (±0.247)\n",
      "5. chevalblanc/claude-3-haiku:latest: 0.266 (±0.235)\n",
      "6. deepseek-r1:8b: 0.252 (±0.211)\n",
      "7. gemma3:4b: 0.232 (±0.225)\n",
      "8. mixtral:8x7b: 0.228 (±0.223)\n",
      "9. dolphin-mixtral:8x7b: 0.219 (±0.243)\n",
      "10. dolphin3:8b: 0.174 (±0.187)\n",
      "11. gemma3:1b: 0.132 (±0.175)\n",
      "12. llama4:16x17b: 0.043 (±0.115)\n",
      "\n",
      "📋 ANNOTATION TYPE PERFORMANCE:\n",
      "• Event: 0.378 (±0.251)\n",
      "• Event_when: 0.322 (±0.266)\n",
      "• Event_what: 0.214 (±0.193)\n",
      "• Event_who: 0.080 (±0.118)\n",
      "\n",
      "📄 DOCUMENT ANALYSIS:\n",
      "Most challenging: S.N. v. RUSSIA (avg F1: 0.078)\n",
      "Easiest: CAN v. TURKEY (avg F1: 0.446)\n",
>>>>>>> a813ab3a2a19b49bf703a1dc6fd99353356c8a2d
      "\n",
      "✅ Enhanced single run visualization created successfully!\n"
     ]
    }
   ],
=======
   "execution_count": null,
   "id": "13398642",
   "metadata": {},
   "outputs": [],
>>>>>>> b6c29b87ca2200a9abab055569f69045161fea49
   "source": [
    "def load_evaluation_results(results_path):\n",
    "    \"\"\"Load evaluation results from JSON file.\"\"\"\n",
    "    with open(results_path, 'r', encoding='utf-8') as f:\n",
    "        return json.load(f)\n",
    "\n",
    "def create_dataframe_from_results(results):\n",
    "    \"\"\"Convert nested results to a flat DataFrame for analysis.\"\"\"\n",
    "    rows = []\n",
    "    for doc_name, doc_results in results.items():\n",
    "        for model_name, model_results in doc_results.items():\n",
    "            for ann_type, metrics in model_results.items():\n",
    "                # Lenient evaluation\n",
    "                rows.append({\n",
    "                    'Document': doc_name,\n",
    "                    'Model': model_name,\n",
    "                    'Annotation_Type': ann_type,\n",
    "                    'Evaluation_Mode': 'Lenient',\n",
    "                    'Precision': metrics['lenient']['precision'],\n",
    "                    'Recall': metrics['lenient']['recall'],\n",
    "                    'F1_Score': metrics['lenient']['f1_score'],\n",
    "                    'True_Positives': metrics['lenient']['true_positives'],\n",
    "                    'False_Positives': metrics['lenient']['false_positives'],\n",
    "                    'False_Negatives': metrics['lenient']['false_negatives'],\n",
    "                    'Gold_Count': metrics['gold_count'],\n",
    "                    'Predicted_Count': metrics['predicted_count']\n",
    "                })\n",
    "                \n",
    "                # Strict evaluation\n",
    "                rows.append({\n",
    "                    'Document': doc_name,\n",
    "                    'Model': model_name,\n",
    "                    'Annotation_Type': ann_type,\n",
    "                    'Evaluation_Mode': 'Strict',\n",
    "                    'Precision': metrics['strict']['precision'],\n",
    "                    'Recall': metrics['strict']['recall'],\n",
    "                    'F1_Score': metrics['strict']['f1_score'],\n",
    "                    'True_Positives': metrics['strict']['true_positives'],\n",
    "                    'False_Positives': metrics['strict']['false_positives'],\n",
    "                    'False_Negatives': metrics['strict']['false_negatives'],\n",
    "                    'Gold_Count': metrics['gold_count'],\n",
    "                    'Predicted_Count': metrics['predicted_count']\n",
    "                })\n",
    "    \n",
    "    return pd.DataFrame(rows)\n",
    "\n",
    "def visualize_single_run(results_path):\n",
    "    \"\"\"Create comprehensive visualizations for a single evaluation run.\"\"\"\n",
    "    \n",
    "    # Load and prepare data\n",
    "    results = load_evaluation_results(results_path)\n",
    "    df = create_dataframe_from_results(results)\n",
    "    \n",
    "    # Create an enhanced figure with more subplots for better analysis\n",
    "    fig = make_subplots(\n",
    "        rows=4, cols=2,\n",
    "        subplot_titles=(\n",
    "            'F1-Scores by Model and Annotation Type (Lenient)', \n",
    "            'Document-Level Performance Heatmap',\n",
    "            'Precision vs Recall by Model (with Document Points)',\n",
    "            'Model Performance Across Documents',\n",
    "            'Lenient vs Strict Evaluation Comparison',\n",
    "            'Individual Document Analysis',\n",
    "            'Annotation Type Performance Distribution',\n",
    "            'Model Consistency Across Documents'\n",
    "        ),\n",
    "        specs=[[{\"type\": \"bar\"}, {\"type\": \"heatmap\"}],\n",
    "               [{\"type\": \"scatter\"}, {\"type\": \"bar\"}],\n",
    "               [{\"type\": \"bar\"}, {\"type\": \"box\"}],\n",
    "               [{\"type\": \"bar\"}, {\"type\": \"scatter\"}]],\n",
    "        vertical_spacing=0.08,\n",
    "        horizontal_spacing=0.12\n",
    "    )\n",
    "    \n",
    "    # Dynamic color palette for all available models\n",
    "    color_palette = [\n",
    "        '#E74C3C',   # Red\n",
    "        '#3498DB',   # Blue\n",
    "        '#2ECC71',   # Green\n",
    "        '#F39C12',   # Orange\n",
    "        '#9B59B6',   # Purple\n",
    "        '#1ABC9C',   # Teal\n",
    "        '#F1C40F',   # Yellow\n",
    "        '#E67E22',   # Dark Orange\n",
    "        '#95A5A6',   # Gray\n",
    "        '#34495E',   # Dark Blue Gray\n",
    "        '#16A085',   # Dark Teal\n",
    "        '#8E44AD',   # Dark Purple\n",
    "        '#C0392B',   # Dark Red\n",
    "        '#2980B9',   # Dark Blue\n",
    "        '#27AE60',   # Dark Green\n",
    "        '#D35400'    # Dark Orange Red\n",
    "    ]\n",
    "    \n",
    "    # Get unique models and assign colors dynamically\n",
    "    unique_models = df['Model'].unique()\n",
    "    model_colors = {}\n",
    "    for i, model in enumerate(unique_models):\n",
    "        model_colors[model] = color_palette[i % len(color_palette)]\n",
    "    \n",
    "    # Document colors for variety\n",
    "    doc_colors = px.colors.qualitative.Set3\n",
    "    \n",
    "    # Get lenient and strict data\n",
    "    df_lenient = df[df['Evaluation_Mode'] == 'Lenient']\n",
    "    df_strict = df[df['Evaluation_Mode'] == 'Strict']\n",
    "    \n",
    "    # 1. F1-Scores by Model and Annotation Type (Lenient) - Enhanced with proper legend\n",
    "    for i, model in enumerate(df_lenient['Model'].unique()):\n",
    "        model_data = df_lenient[df_lenient['Model'] == model]\n",
    "        avg_f1_by_type = model_data.groupby('Annotation_Type')['F1_Score'].mean().reset_index()\n",
    "        \n",
    "        fig.add_trace(\n",
    "            go.Bar(\n",
    "                x=avg_f1_by_type['Annotation_Type'],\n",
    "                y=avg_f1_by_type['F1_Score'],\n",
    "                name=f\"{model}\",\n",
    "                marker_color=model_colors.get(model, '#95A5A6'),\n",
    "                showlegend=True,\n",
    "                legendgroup='models',\n",
    "                hovertemplate=f'<b>{model}</b><br>Type: %{{x}}<br>Avg F1: %{{y:.3f}}<extra></extra>'\n",
    "            ),\n",
    "            row=1, col=1\n",
    "        )\n",
    "    \n",
    "    # 2. Document-Level Performance Heatmap\n",
    "    doc_model_performance = df_lenient.groupby(['Document', 'Model'])['F1_Score'].mean().reset_index()\n",
    "    heatmap_pivot = doc_model_performance.pivot(index='Document', columns='Model', values='F1_Score')\n",
    "    \n",
    "    fig.add_trace(\n",
    "        go.Heatmap(\n",
    "            z=heatmap_pivot.values,\n",
    "            x=heatmap_pivot.columns,\n",
    "            y=heatmap_pivot.index,\n",
    "            colorscale='RdYlBu_r',\n",
    "            showscale=True,\n",
    "            colorbar=dict(title=\"F1 Score\", x=0.48),\n",
    "            hovertemplate='Document: %{y}<br>Model: %{x}<br>F1 Score: %{z:.3f}<extra></extra>',\n",
    "            showlegend=False\n",
    "        ),\n",
    "        row=1, col=2\n",
    "    )\n",
    "    \n",
    "    # 3. Precision vs Recall scatter plot with document points\n",
    "    for i, model in enumerate(df_lenient['Model'].unique()):\n",
    "        model_data = df_lenient[df_lenient['Model'] == model]\n",
    "        fig.add_trace(\n",
    "            go.Scatter(\n",
    "                x=model_data['Recall'],\n",
    "                y=model_data['Precision'],\n",
    "                mode='markers',\n",
    "                name=f\"{model} (docs)\",\n",
    "                marker=dict(\n",
    "                    size=8,\n",
    "                    color=model_colors.get(model, '#95A5A6'),\n",
    "                    symbol='circle',\n",
    "                    opacity=0.7\n",
    "                ),\n",
    "                text=model_data['Document'] + '<br>' + model_data['Annotation_Type'],\n",
    "                hovertemplate='<b>%{text}</b><br>Recall: %{x:.3f}<br>Precision: %{y:.3f}<extra></extra>',\n",
    "                showlegend=True,\n",
    "                legendgroup='scatter'\n",
    "            ),\n",
    "            row=2, col=1\n",
    "        )\n",
    "    \n",
    "    # 4. Model Performance Across Documents (Box plot style)\n",
    "    for i, model in enumerate(df_lenient['Model'].unique()):\n",
    "        model_data = df_lenient[df_lenient['Model'] == model]\n",
    "        doc_performance = model_data.groupby('Document')['F1_Score'].mean().reset_index()\n",
    "        \n",
    "        fig.add_trace(\n",
    "            go.Bar(\n",
    "                x=doc_performance['Document'],\n",
    "                y=doc_performance['F1_Score'],\n",
    "                name=f\"{model}\",\n",
    "                marker_color=model_colors.get(model, '#95A5A6'),\n",
    "                showlegend=False,\n",
    "                opacity=0.8,\n",
    "                hovertemplate=f'<b>{model}</b><br>Document: %{{x}}<br>Avg F1: %{{y:.3f}}<extra></extra>'\n",
    "            ),\n",
    "            row=2, col=2\n",
    "        )\n",
    "    \n",
    "    # 5. Lenient vs Strict comparison - Enhanced\n",
    "    df_comparison = df.groupby(['Model', 'Evaluation_Mode'])['F1_Score'].mean().reset_index()\n",
    "    lenient_data = df_comparison[df_comparison['Evaluation_Mode'] == 'Lenient']\n",
    "    strict_data = df_comparison[df_comparison['Evaluation_Mode'] == 'Strict']\n",
    "    \n",
    "    fig.add_trace(\n",
    "        go.Bar(\n",
    "            x=lenient_data['Model'],\n",
    "            y=lenient_data['F1_Score'],\n",
    "            name='Lenient Evaluation',\n",
    "            marker_color='lightblue',\n",
    "            showlegend=True,\n",
    "            legendgroup='evaluation_modes',\n",
    "            hovertemplate='<b>Lenient</b><br>Model: %{x}<br>F1: %{y:.3f}<extra></extra>'\n",
    "        ),\n",
    "        row=3, col=1\n",
    "    )\n",
    "    \n",
    "    fig.add_trace(\n",
    "        go.Bar(\n",
    "            x=strict_data['Model'],\n",
    "            y=strict_data['F1_Score'],\n",
    "            name='Strict Evaluation',\n",
    "            marker_color='darkblue',\n",
    "            showlegend=True,\n",
    "            legendgroup='evaluation_modes',\n",
    "            hovertemplate='<b>Strict</b><br>Model: %{x}<br>F1: %{y:.3f}<extra></extra>'\n",
    "        ),\n",
    "        row=3, col=1\n",
    "    )\n",
    "    \n",
    "    # 6. Individual Document Analysis (Box plots showing variance)\n",
    "    for i, annotation_type in enumerate(df_lenient['Annotation_Type'].unique()):\n",
    "        ann_data = df_lenient[df_lenient['Annotation_Type'] == annotation_type]\n",
    "        \n",
    "        fig.add_trace(\n",
    "            go.Box(\n",
    "                y=ann_data['F1_Score'],\n",
    "                name=annotation_type,\n",
    "                boxpoints='all',\n",
    "                jitter=0.3,\n",
    "                pointpos=-1.8,\n",
    "                marker_color=px.colors.qualitative.Set1[i % len(px.colors.qualitative.Set1)],\n",
    "                showlegend=True,\n",
    "                legendgroup='annotation_types',\n",
    "                hovertemplate=f'<b>{annotation_type}</b><br>F1: %{{y:.3f}}<extra></extra>'\n",
    "            ),\n",
    "            row=3, col=2\n",
    "        )\n",
    "    \n",
    "    # 7. Annotation Type Performance Distribution\n",
    "    df_counts = df_lenient.groupby('Annotation_Type').agg({\n",
    "        'Gold_Count': 'first',\n",
    "        'Predicted_Count': 'mean',\n",
    "        'F1_Score': 'mean'\n",
    "    }).reset_index()\n",
    "    \n",
    "    fig.add_trace(\n",
    "        go.Bar(\n",
    "            x=df_counts['Annotation_Type'],\n",
    "            y=df_counts['Gold_Count'],\n",
    "            name='Gold Standard Count',\n",
    "            marker_color='gold',\n",
    "            showlegend=True,\n",
    "            legendgroup='counts',\n",
    "            hovertemplate='<b>Gold Standard</b><br>Type: %{x}<br>Count: %{y}<extra></extra>'\n",
    "        ),\n",
    "        row=4, col=1\n",
    "    )\n",
    "    \n",
    "    fig.add_trace(\n",
    "        go.Bar(\n",
    "            x=df_counts['Annotation_Type'],\n",
    "            y=df_counts['Predicted_Count'],\n",
    "            name='Avg Predicted Count',\n",
    "            marker_color='silver',\n",
    "            showlegend=True,\n",
    "            legendgroup='counts',\n",
    "            yaxis='y2',\n",
    "            hovertemplate='<b>Predicted</b><br>Type: %{x}<br>Avg Count: %{y:.1f}<extra></extra>'\n",
    "        ),\n",
    "        row=4, col=1\n",
    "    )\n",
    "    \n",
    "    # 8. Model Consistency Across Documents (Coefficient of Variation)\n",
    "    model_consistency = []\n",
    "    for model in df_lenient['Model'].unique():\n",
    "        model_data = df_lenient[df_lenient['Model'] == model]\n",
    "        doc_scores = model_data.groupby('Document')['F1_Score'].mean()\n",
    "        cv = doc_scores.std() / doc_scores.mean() if doc_scores.mean() > 0 else 0\n",
    "        model_consistency.append({'Model': model, 'Consistency': 1 - cv, 'CV': cv})\n",
    "    \n",
    "    consistency_df = pd.DataFrame(model_consistency)\n",
    "    \n",
    "    fig.add_trace(\n",
    "        go.Scatter(\n",
    "            x=consistency_df['Model'],\n",
    "            y=consistency_df['Consistency'],\n",
    "            mode='markers+lines',\n",
    "            name='Model Consistency',\n",
    "            marker=dict(\n",
    "                size=12,\n",
    "                color=[model_colors.get(model, '#95A5A6') for model in consistency_df['Model']],\n",
    "                symbol='diamond'\n",
    "            ),\n",
    "            line=dict(color='gray', dash='dash'),\n",
    "            showlegend=True,\n",
    "            legendgroup='consistency',\n",
    "            hovertemplate='<b>%{x}</b><br>Consistency: %{y:.3f}<br>CV: %{customdata:.3f}<extra></extra>',\n",
    "            customdata=consistency_df['CV']\n",
    "        ),\n",
    "        row=4, col=2\n",
    "    )\n",
    "    \n",
    "    # Update layout with improved legend and styling\n",
    "    fig.update_layout(\n",
    "        height=1600,  # Increased height for 4 rows\n",
    "        title=f'Enhanced LLM Evaluation Dashboard<br><sub>Pipeline Results: {Path(results_path).parent.name} | Document-Level Analysis</sub>',\n",
    "        title_x=0.5,\n",
    "        showlegend=True,\n",
    "        legend=dict(\n",
    "            orientation=\"v\",\n",
    "            yanchor=\"top\", \n",
    "            y=1,\n",
    "            xanchor=\"left\",\n",
    "            x=1.02,\n",
    "            bgcolor=\"rgba(255,255,255,0.8)\",\n",
    "            bordercolor=\"rgba(0,0,0,0.2)\",\n",
    "            borderwidth=1,\n",
    "            font=dict(size=10)\n",
    "        ),\n",
    "        font=dict(size=11)\n",
    "    )\n",
    "    \n",
    "    # Update subplot titles and axes with better formatting\n",
    "    fig.update_xaxes(title_text=\"Annotation Type\", row=1, col=1, title_font_size=10)\n",
    "    fig.update_yaxes(title_text=\"Average F1 Score\", row=1, col=1, title_font_size=10)\n",
    "    \n",
    "    fig.update_xaxes(title_text=\"Model\", row=1, col=2, title_font_size=10)\n",
    "    fig.update_yaxes(title_text=\"Document\", row=1, col=2, title_font_size=10)\n",
    "    \n",
    "    fig.update_xaxes(title_text=\"Recall\", row=2, col=1, title_font_size=10)\n",
    "    fig.update_yaxes(title_text=\"Precision\", row=2, col=1, title_font_size=10)\n",
    "    \n",
    "    fig.update_xaxes(title_text=\"Document\", row=2, col=2, title_font_size=10, tickangle=45)\n",
    "    fig.update_yaxes(title_text=\"F1 Score\", row=2, col=2, title_font_size=10)\n",
    "    \n",
    "    fig.update_xaxes(title_text=\"Model\", row=3, col=1, title_font_size=10)\n",
    "    fig.update_yaxes(title_text=\"F1 Score\", row=3, col=1, title_font_size=10)\n",
    "    \n",
    "    fig.update_xaxes(title_text=\"Annotation Type\", row=3, col=2, title_font_size=10)\n",
    "    fig.update_yaxes(title_text=\"F1 Score Distribution\", row=3, col=2, title_font_size=10)\n",
    "    \n",
    "    fig.update_xaxes(title_text=\"Annotation Type\", row=4, col=1, title_font_size=10)\n",
    "    fig.update_yaxes(title_text=\"Count\", row=4, col=1, title_font_size=10)\n",
    "    \n",
    "    fig.update_xaxes(title_text=\"Model\", row=4, col=2, title_font_size=10)\n",
    "    fig.update_yaxes(title_text=\"Consistency Score\", row=4, col=2, title_font_size=10)\n",
    "    \n",
    "    return fig\n",
    "\n",
    "def create_document_comparison_plot(df_lenient):\n",
    "    \"\"\"Create a detailed document comparison visualization.\"\"\"\n",
    "    # Document performance comparison\n",
    "    doc_fig = go.Figure()\n",
    "    \n",
    "    documents = df_lenient['Document'].unique()\n",
    "    models = df_lenient['Model'].unique()\n",
    "    \n",
    "    # Dynamic color palette for all available models\n",
    "    color_palette = [\n",
    "        '#E74C3C',   # Red\n",
    "        '#3498DB',   # Blue\n",
    "        '#2ECC71',   # Green\n",
    "        '#F39C12',   # Orange\n",
    "        '#9B59B6',   # Purple\n",
    "        '#1ABC9C',   # Teal\n",
    "        '#F1C40F',   # Yellow\n",
    "        '#E67E22',   # Dark Orange\n",
    "        '#95A5A6',   # Gray\n",
    "        '#34495E',   # Dark Blue Gray\n",
    "        '#16A085',   # Dark Teal\n",
    "        '#8E44AD',   # Dark Purple\n",
    "        '#C0392B',   # Dark Red\n",
    "        '#2980B9',   # Dark Blue\n",
    "        '#27AE60',   # Dark Green\n",
    "        '#D35400'    # Dark Orange Red\n",
    "    ]\n",
    "    \n",
    "    # Get unique models and assign colors dynamically\n",
    "    unique_models = df_lenient['Model'].unique()\n",
    "    model_colors = {}\n",
    "    for i, model in enumerate(unique_models):\n",
    "        model_colors[model] = color_palette[i % len(color_palette)]\n",
    "    \n",
    "    for model in models:\n",
    "        model_data = df_lenient[df_lenient['Model'] == model]\n",
    "        doc_scores = model_data.groupby('Document')['F1_Score'].mean()\n",
    "        \n",
    "        doc_fig.add_trace(\n",
    "            go.Scatter(\n",
    "                x=documents,\n",
    "                y=[doc_scores.get(doc, 0) for doc in documents],\n",
    "                mode='lines+markers',\n",
    "                name=model,\n",
    "                line=dict(color=model_colors.get(model, '#95A5A6'), width=3),\n",
    "                marker=dict(size=8),\n",
    "                hovertemplate=f'<b>{model}</b><br>Document: %{{x}}<br>Avg F1: %{{y:.3f}}<extra></extra>'\n",
    "            )\n",
    "        )\n",
    "    \n",
    "    doc_fig.update_layout(\n",
    "        title='Model Performance Across Individual Documents',\n",
    "        xaxis_title='Document',\n",
    "        yaxis_title='Average F1 Score',\n",
    "        height=400,\n",
    "        hovermode='x unified',\n",
    "        legend=dict(\n",
    "            orientation=\"h\",\n",
    "            yanchor=\"bottom\",\n",
    "            y=1.02,\n",
    "            xanchor=\"right\", \n",
    "            x=1\n",
    "        )\n",
    "    )\n",
    "    \n",
    "    doc_fig.update_xaxes(tickangle=45)\n",
    "    return doc_fig\n",
    "\n",
    "# Enhanced example usage with document-level analysis\n",
<<<<<<< HEAD
    "results_path = \"output/pipeline_results_20250808_145025/llm_evaluation_results.json\"\n",
    "\n",
    "# Check if file exists\n",
    "if Path(results_path).exists():\n",
=======
    "# Use the selected pipeline folder from above\n",
    "if 'results_path' in globals() and results_path and Path(results_path).exists():\n",
>>>>>>> a813ab3a2a19b49bf703a1dc6fd99353356c8a2d
    "    # Create main dashboard\n",
    "    fig = visualize_single_run(results_path)\n",
    "    fig.show()\n",
    "    \n",
    "    # Create additional document comparison plot\n",
    "    results = load_evaluation_results(results_path)\n",
    "    df = create_dataframe_from_results(results)\n",
    "    df_lenient = df[df['Evaluation_Mode'] == 'Lenient']\n",
    "    \n",
    "    doc_fig = create_document_comparison_plot(df_lenient)\n",
    "    doc_fig.show()\n",
    "    \n",
    "    # Print summary statistics\n",
    "    print(\"📊 EVALUATION SUMMARY:\")\n",
    "    print(\"=\" * 50)\n",
    "    \n",
    "    # Model rankings\n",
    "    model_rankings = df_lenient.groupby('Model')['F1_Score'].agg(['mean', 'std']).round(3)\n",
    "    model_rankings = model_rankings.sort_values('mean', ascending=False)\n",
    "    print(\"\\n🏆 MODEL RANKINGS (by average F1):\")\n",
    "    for i, (model, stats) in enumerate(model_rankings.iterrows(), 1):\n",
    "        print(f\"{i}. {model}: {stats['mean']:.3f} (±{stats['std']:.3f})\")\n",
    "    \n",
    "    # Best performing annotation types\n",
    "    ann_performance = df_lenient.groupby('Annotation_Type')['F1_Score'].agg(['mean', 'std']).round(3)\n",
    "    ann_performance = ann_performance.sort_values('mean', ascending=False)\n",
    "    print(\"\\n📋 ANNOTATION TYPE PERFORMANCE:\")\n",
    "    for ann_type, stats in ann_performance.iterrows():\n",
    "        print(f\"• {ann_type}: {stats['mean']:.3f} (±{stats['std']:.3f})\")\n",
    "    \n",
    "    # Document difficulty analysis\n",
    "    doc_difficulty = df_lenient.groupby('Document')['F1_Score'].agg(['mean', 'std']).round(3)\n",
    "    doc_difficulty = doc_difficulty.sort_values('mean')\n",
    "    print(f\"\\n📄 DOCUMENT ANALYSIS:\")\n",
    "    print(f\"Most challenging: {doc_difficulty.index[0]} (avg F1: {doc_difficulty.iloc[0]['mean']:.3f})\")\n",
    "    print(f\"Easiest: {doc_difficulty.index[-1]} (avg F1: {doc_difficulty.iloc[-1]['mean']:.3f})\")\n",
    "    \n",
    "    print(\"\\n✅ Enhanced single run visualization created successfully!\")\n",
    "else:\n",
    "    print(f\"❌ Results file not found or not selected!\")\n",
    "    if 'results_path' not in globals() or not results_path:\n",
    "        print(\"Please run the pipeline folder selector at the top first.\")\n",
    "    else:\n",
    "        print(f\"File path: {results_path}\")\n",
    "    print(\"\\nAvailable pipeline results:\")\n",
    "    output_dir = Path(\"output\")\n",
    "    if output_dir.exists():\n",
    "        for folder in sorted(output_dir.glob(\"pipeline_results_*\")):\n",
    "            results_file = folder / \"llm_evaluation_results.json\"\n",
    "            if results_file.exists():\n",
    "                print(f\"  - {results_file}\")"
   ]
  },
  {
   "cell_type": "code",
<<<<<<< HEAD
<<<<<<< HEAD
   "execution_count": 3,
=======
   "execution_count": 4,
>>>>>>> a813ab3a2a19b49bf703a1dc6fd99353356c8a2d
=======
   "execution_count": null,
>>>>>>> b6c29b87ca2200a9abab055569f69045161fea49
   "id": "5115f324",
   "metadata": {},
   "outputs": [],
   "source": [
    "def load_pipeline_timing_data(pipeline_folder):\n",
    "    \"\"\"Load timing data from pipeline results including overall and per-document timing.\"\"\"\n",
    "    pipeline_folder = Path(pipeline_folder)\n",
    "    \n",
    "    # Load main pipeline results\n",
    "    main_results_file = pipeline_folder / f\"{pipeline_folder.name}.json\"\n",
    "    with open(main_results_file, 'r', encoding='utf-8') as f:\n",
    "        pipeline_info = json.load(f)\n",
    "    \n",
    "    # Load evaluation results for performance data\n",
    "    eval_results_file = pipeline_folder / \"llm_evaluation_results.json\"\n",
    "    with open(eval_results_file, 'r', encoding='utf-8') as f:\n",
    "        eval_results = json.load(f)\n",
    "    \n",
    "    return {\n",
    "        'pipeline_info': pipeline_info,\n",
    "        'evaluation_results': eval_results\n",
    "    }\n",
    "\n",
    "def calculate_runtime_metrics(timing_data, eval_df):\n",
    "    \"\"\"Calculate comprehensive runtime and efficiency metrics using actual timing data.\"\"\"\n",
    "    \n",
    "    # Parse pipeline timing\n",
    "    pipeline_info = timing_data['pipeline_info']\n",
    "    \n",
    "    # Get actual total processing time\n",
    "    total_processing_time = pipeline_info.get('total_processing_time', '0:00:00')\n",
    "    \n",
    "    # Parse the time string \"H:MM:SS.microseconds\" format\n",
    "    if isinstance(total_processing_time, str):\n",
    "        time_parts = total_processing_time.split(':')\n",
    "        if len(time_parts) == 3:\n",
    "            hours = int(time_parts[0])\n",
    "            minutes = int(time_parts[1])\n",
    "            seconds = float(time_parts[2])\n",
    "            total_pipeline_time = hours * 3600 + minutes * 60 + seconds\n",
    "        else:\n",
    "            total_pipeline_time = 0\n",
    "    else:\n",
    "        total_pipeline_time = 0\n",
    "    \n",
    "    # Get evaluation data\n",
    "    eval_lenient = eval_df[eval_df['Evaluation_Mode'] == 'Lenient'].copy()\n",
    "    \n",
    "    # Group evaluation data by document and model\n",
    "    eval_summary = eval_lenient.groupby(['Document', 'Model']).agg({\n",
    "        'F1_Score': 'mean',\n",
    "        'Precision': 'mean',\n",
    "        'Recall': 'mean',\n",
    "        'True_Positives': 'sum',\n",
    "        'False_Positives': 'sum',\n",
    "        'False_Negatives': 'sum'\n",
    "    }).reset_index()\n",
    "    \n",
    "    # Create actual timing data - since we don't have individual model timings,\n",
    "    # distribute the total time evenly across all model-document combinations\n",
    "    models = pipeline_info['models_used']\n",
    "    docs = eval_summary['Document'].unique()\n",
    "    \n",
    "    # Calculate actual average time per document per model\n",
    "    avg_time_per_doc_per_model = total_pipeline_time / (len(models) * len(docs)) if len(models) > 0 and len(docs) > 0 else 0\n",
    "    \n",
    "    actual_timing = []\n",
    "    for doc in docs:\n",
    "        for model in models:\n",
    "            # Get annotation count for this doc-model combo\n",
    "            doc_eval = eval_summary[(eval_summary['Document'] == doc) & (eval_summary['Model'] == model)]\n",
    "            if not doc_eval.empty:\n",
    "                annotation_count = doc_eval['True_Positives'].iloc[0] + doc_eval['False_Positives'].iloc[0]\n",
    "            else:\n",
    "                annotation_count = 1  # Default minimum\n",
    "            \n",
    "            actual_timing.append({\n",
    "                'document': doc,\n",
    "                'model': model,\n",
    "                'processing_time': avg_time_per_doc_per_model,\n",
    "                'annotation_count': max(annotation_count, 1),  # Ensure at least 1\n",
    "                'actual': True\n",
    "            })\n",
    "    \n",
    "    doc_timing = pd.DataFrame(actual_timing)\n",
    "    \n",
    "    # Merge timing with evaluation metrics\n",
    "    merged_data = pd.merge(\n",
    "        eval_summary, \n",
    "        doc_timing, \n",
    "        left_on=['Document', 'Model'], \n",
    "        right_on=['document', 'model'], \n",
    "        how='left'\n",
    "    )\n",
    "    \n",
    "    # Calculate efficiency metrics (avoid division by zero)\n",
    "    merged_data['efficiency_score'] = merged_data['F1_Score'] / (merged_data['processing_time'] + 0.001)\n",
    "    merged_data['annotations_per_second'] = merged_data['annotation_count'] / (merged_data['processing_time'] + 0.001)\n",
    "    merged_data['time_per_annotation'] = merged_data['processing_time'] / (merged_data['annotation_count'] + 1)\n",
    "    \n",
    "    return {\n",
    "        'merged_data': merged_data,\n",
    "        'total_pipeline_time': total_pipeline_time,\n",
    "        'pipeline_info': pipeline_info,\n",
    "        'models_used': pipeline_info['models_used'],\n",
    "        'documents_processed': len(docs),\n",
    "        'avg_time_per_doc_per_model': avg_time_per_doc_per_model\n",
    "    }\n",
    "\n",
    "def create_runtime_dashboard(pipeline_folder):\n",
    "    \"\"\"Create comprehensive runtime analysis dashboard.\"\"\"\n",
    "    \n",
    "    # Load data\n",
    "    timing_data = load_pipeline_timing_data(pipeline_folder)\n",
    "    eval_results = load_evaluation_results(pipeline_folder / \"llm_evaluation_results.json\")\n",
    "    eval_df = create_dataframe_from_results(eval_results)\n",
    "    \n",
    "    # Calculate runtime metrics\n",
    "    runtime_metrics = calculate_runtime_metrics(timing_data, eval_df)\n",
    "    merged_data = runtime_metrics['merged_data']\n",
    "    \n",
    "    # Create dashboard\n",
    "    fig = make_subplots(\n",
    "        rows=4, cols=2,\n",
    "        subplot_titles=(\n",
    "            'Processing Time by Model and Document',\n",
    "            'F1 Score vs Processing Time (Performance vs Speed)',\n",
    "            'Model Efficiency Score (F1/Time)',\n",
    "            'Annotations per Second by Model',\n",
    "            'Time per Annotation Distribution',\n",
    "            'Runtime vs Performance Trade-off',\n",
    "            'Model Speed Comparison',\n",
    "            'Document Processing Complexity'\n",
    "        ),\n",
    "        specs=[[{\"type\": \"bar\"}, {\"type\": \"scatter\"}],\n",
    "               [{\"type\": \"bar\"}, {\"type\": \"box\"}],\n",
    "               [{\"type\": \"violin\"}, {\"type\": \"scatter\"}],\n",
    "               [{\"type\": \"bar\"}, {\"type\": \"heatmap\"}]],\n",
    "        vertical_spacing=0.08,\n",
    "        horizontal_spacing=0.12\n",
    "    )\n",
    "    \n",
    "    # Use dynamic colors based on available models\n",
    "    model_colors = {}\n",
    "    models = merged_data['Model'].unique()\n",
    "    color_palette = ['#E74C3C', '#3498DB', '#2ECC71', '#F39C12', '#9B59B6', '#1ABC9C', \n",
    "                    '#F1C40F', '#E67E22', '#95A5A6', '#34495E', '#16A085', '#8E44AD']\n",
    "    \n",
    "    for i, model in enumerate(models):\n",
    "        model_colors[model] = color_palette[i % len(color_palette)]\n",
    "    \n",
    "    # 1. Processing Time by Model and Document\n",
    "    for model in merged_data['Model'].unique():\n",
    "        model_data = merged_data[merged_data['Model'] == model]\n",
    "        fig.add_trace(\n",
    "            go.Bar(\n",
    "                x=model_data['Document'],\n",
    "                y=model_data['processing_time'],\n",
    "                name=f'{model}',\n",
    "                marker_color=model_colors.get(model, '#95A5A6'),\n",
    "                showlegend=True,\n",
    "                legendgroup='models',\n",
    "                hovertemplate=f'<b>{model}</b><br>Document: %{{x}}<br>Time: %{{y:.2f}}s<extra></extra>'\n",
    "            ),\n",
    "            row=1, col=1\n",
    "        )\n",
    "    \n",
    "    # 2. F1 Score vs Processing Time\n",
    "    for model in merged_data['Model'].unique():\n",
    "        model_data = merged_data[merged_data['Model'] == model]\n",
    "        fig.add_trace(\n",
    "            go.Scatter(\n",
    "                x=model_data['processing_time'],\n",
    "                y=model_data['F1_Score'],\n",
    "                mode='markers',\n",
    "                name=f'{model}',\n",
    "                marker=dict(\n",
    "                    size=12,\n",
    "                    color=model_colors.get(model, '#95A5A6'),\n",
    "                    symbol='circle',\n",
    "                    opacity=0.8\n",
    "                ),\n",
    "                text=model_data['Document'],\n",
    "                showlegend=False,\n",
    "                legendgroup='models',\n",
    "                hovertemplate=f'<b>{model}</b><br>Time: %{{x:.2f}}s<br>F1: %{{y:.3f}}<br>Doc: %{{text}}<extra></extra>'\n",
    "            ),\n",
    "            row=1, col=2\n",
    "        )\n",
    "    \n",
    "    # 3. Model Efficiency Score\n",
    "    efficiency_data = merged_data.groupby('Model')['efficiency_score'].mean().reset_index()\n",
    "    efficiency_data = efficiency_data.sort_values('efficiency_score', ascending=True)\n",
    "    \n",
    "    fig.add_trace(\n",
    "        go.Bar(\n",
    "            x=efficiency_data['efficiency_score'],\n",
    "            y=efficiency_data['Model'],\n",
    "            orientation='h',\n",
    "            name='Efficiency',\n",
    "            marker_color=[model_colors.get(model, '#95A5A6') for model in efficiency_data['Model']],\n",
    "            showlegend=False,\n",
    "            hovertemplate='<b>%{y}</b><br>Efficiency: %{x:.4f} F1/sec<extra></extra>'\n",
    "        ),\n",
    "        row=2, col=1\n",
    "    )\n",
    "    \n",
    "    # 4. Annotations per Second by Model\n",
    "    for model in merged_data['Model'].unique():\n",
    "        model_data = merged_data[merged_data['Model'] == model]\n",
    "        fig.add_trace(\n",
    "            go.Box(\n",
    "                y=model_data['annotations_per_second'],\n",
    "                name=model,\n",
    "                boxpoints='all',\n",
    "                jitter=0.3,\n",
    "                marker_color=model_colors.get(model, '#95A5A6'),\n",
    "                showlegend=False,\n",
    "                hovertemplate=f'<b>{model}</b><br>Ann/sec: %{{y:.2f}}<extra></extra>'\n",
    "            ),\n",
    "            row=2, col=2\n",
    "        )\n",
    "    \n",
    "    # 5. Time per Annotation Distribution\n",
    "    for model in merged_data['Model'].unique():\n",
    "        model_data = merged_data[merged_data['Model'] == model]\n",
    "        fig.add_trace(\n",
    "            go.Violin(\n",
    "                y=model_data['time_per_annotation'],\n",
    "                name=model,\n",
    "                side='positive',\n",
    "                marker_color=model_colors.get(model, '#95A5A6'),\n",
    "                showlegend=False,\n",
    "                hovertemplate=f'<b>{model}</b><br>Time/Ann: %{{y:.3f}}s<extra></extra>'\n",
    "            ),\n",
    "            row=3, col=1\n",
    "        )\n",
    "    \n",
    "    # 6. Runtime vs Performance Trade-off (Bubble chart)\n",
    "    bubble_data = merged_data.groupby('Model').agg({\n",
    "        'F1_Score': 'mean',\n",
    "        'processing_time': 'mean',\n",
    "        'annotation_count': 'sum'\n",
    "    }).reset_index()\n",
    "    \n",
    "    fig.add_trace(\n",
    "        go.Scatter(\n",
    "            x=bubble_data['processing_time'],\n",
    "            y=bubble_data['F1_Score'],\n",
    "            mode='markers+text',\n",
    "            text=bubble_data['Model'],\n",
    "            textposition='top center',\n",
    "            marker=dict(\n",
    "                size=bubble_data['annotation_count'],\n",
    "                color=[model_colors.get(model, '#95A5A6') for model in bubble_data['Model']],\n",
    "                opacity=0.7,\n",
    "                sizemode='diameter',\n",
    "                sizemin=15,\n",
    "                sizeref=2.*max(bubble_data['annotation_count'])/(40.**2)\n",
    "            ),\n",
    "            name='Performance vs Speed',\n",
    "            showlegend=False,\n",
    "            hovertemplate='<b>%{text}</b><br>Time: %{x:.2f}s<br>F1: %{y:.3f}<br>Annotations: %{marker.size}<extra></extra>'\n",
    "        ),\n",
    "        row=3, col=2\n",
    "    )\n",
    "    \n",
    "    # 7. Model Speed Comparison\n",
    "    speed_data = merged_data.groupby('Model')['processing_time'].mean().reset_index()\n",
    "    speed_data = speed_data.sort_values('processing_time')\n",
    "    \n",
    "    fig.add_trace(\n",
    "        go.Bar(\n",
    "            x=speed_data['Model'],\n",
    "            y=speed_data['processing_time'],\n",
    "            name='Avg Processing Time',\n",
    "            marker_color=[model_colors.get(model, '#95A5A6') for model in speed_data['Model']],\n",
    "            showlegend=False,\n",
    "            hovertemplate='<b>%{x}</b><br>Avg Time: %{y:.2f}s<extra></extra>'\n",
    "        ),\n",
    "        row=4, col=1\n",
    "    )\n",
    "    \n",
    "    # 8. Document Processing Complexity Heatmap\n",
    "    complexity_pivot = merged_data.pivot(index='Document', columns='Model', values='processing_time')\n",
    "    \n",
    "    fig.add_trace(\n",
    "        go.Heatmap(\n",
    "            z=complexity_pivot.values,\n",
    "            x=complexity_pivot.columns,\n",
    "            y=complexity_pivot.index,\n",
    "            colorscale='Viridis',\n",
    "            showscale=True,\n",
    "            hovertemplate='Document: %{y}<br>Model: %{x}<br>Time: %{z:.2f}s<extra></extra>',\n",
    "            colorbar=dict(title=\"Processing Time (s)\", x=1.02)\n",
    "        ),\n",
    "        row=4, col=2\n",
    "    )\n",
    "    \n",
    "    # Update layout\n",
    "    fig.update_layout(\n",
    "        height=1600,\n",
    "        title=f'🚀 Runtime Analysis Dashboard<br><sub>Pipeline: {Path(pipeline_folder).name} | Total Time: {runtime_metrics[\"total_pipeline_time\"]/60:.1f} minutes</sub>',\n",
    "        title_x=0.5,\n",
    "        showlegend=True,\n",
    "        font=dict(size=11)\n",
    "    )\n",
    "    \n",
    "    # Update axes labels\n",
    "    fig.update_xaxes(title_text=\"Documents\", row=1, col=1, tickangle=45)\n",
    "    fig.update_yaxes(title_text=\"Processing Time (s)\", row=1, col=1)\n",
    "    \n",
    "    fig.update_xaxes(title_text=\"Processing Time (s)\", row=1, col=2)\n",
    "    fig.update_yaxes(title_text=\"F1 Score\", row=1, col=2)\n",
    "    \n",
    "    fig.update_xaxes(title_text=\"Efficiency Score (F1/s)\", row=2, col=1)\n",
    "    fig.update_yaxes(title_text=\"Model\", row=2, col=1)\n",
    "    \n",
    "    fig.update_xaxes(title_text=\"Model\", row=2, col=2)\n",
    "    fig.update_yaxes(title_text=\"Annotations per Second\", row=2, col=2)\n",
    "    \n",
    "    fig.update_xaxes(title_text=\"Model\", row=3, col=1)\n",
    "    fig.update_yaxes(title_text=\"Time per Annotation (s)\", row=3, col=1)\n",
    "    \n",
    "    fig.update_xaxes(title_text=\"Processing Time (s)\", row=3, col=2)\n",
    "    fig.update_yaxes(title_text=\"F1 Score\", row=3, col=2)\n",
    "    \n",
    "    fig.update_xaxes(title_text=\"Model\", row=4, col=1)\n",
    "    fig.update_yaxes(title_text=\"Processing Time (s)\", row=4, col=1)\n",
    "    \n",
    "    fig.update_xaxes(title_text=\"Model\", row=4, col=2)\n",
    "    fig.update_yaxes(title_text=\"Document\", row=4, col=2)\n",
    "    \n",
    "    return fig, runtime_metrics\n",
    "\n",
    "def print_runtime_summary(runtime_metrics):\n",
    "    \"\"\"Print comprehensive runtime analysis summary.\"\"\"\n",
    "    merged_data = runtime_metrics['merged_data']\n",
    "    pipeline_info = runtime_metrics['pipeline_info']\n",
    "    total_time = runtime_metrics['total_pipeline_time']\n",
    "    \n",
    "    print(\"\\n🚀 RUNTIME ANALYSIS SUMMARY\")\n",
    "    print(\"=\" * 60)\n",
    "    \n",
    "    # Pipeline overview\n",
    "    print(f\"\\n⏱️ PIPELINE OVERVIEW:\")\n",
    "    print(f\"Total processing time: {total_time:.1f} seconds ({total_time/60:.1f} minutes)\")\n",
    "    print(f\"Documents processed: {pipeline_info['processed_documents']}\")\n",
    "    print(f\"Models used: {len(pipeline_info['models_used'])}\")\n",
    "    print(f\"Start time: {pipeline_info['start_time']}\")\n",
    "    print(f\"End time: {pipeline_info['end_time']}\")\n",
    "    \n",
    "    # Model performance summary\n",
    "    model_stats = merged_data.groupby('Model').agg({\n",
    "        'processing_time': ['mean', 'std', 'sum'],\n",
    "        'F1_Score': 'mean',\n",
    "        'efficiency_score': 'mean',\n",
    "        'annotations_per_second': 'mean',\n",
    "        'time_per_annotation': 'mean'\n",
    "    }).round(3)\n",
    "    \n",
    "    print(f\"\\n📊 MODEL PERFORMANCE SUMMARY:\")\n",
    "    print(f\"{'Model':<15} {'Avg Time (s)':<12} {'Total Time (s)':<14} {'Avg F1':<8} {'Efficiency':<10} {'Ann/sec':<8}\")\n",
    "    print(\"-\" * 75)\n",
    "    \n",
    "    for model in model_stats.index:\n",
    "        avg_time = model_stats.loc[model, ('processing_time', 'mean')]\n",
    "        total_time_model = model_stats.loc[model, ('processing_time', 'sum')]\n",
    "        avg_f1 = model_stats.loc[model, ('F1_Score', 'mean')]\n",
    "        efficiency = model_stats.loc[model, ('efficiency_score', 'mean')]\n",
    "        ann_per_sec = model_stats.loc[model, ('annotations_per_second', 'mean')]\n",
    "        \n",
    "        print(f\"{model:<15} {avg_time:<12.2f} {total_time_model:<14.1f} {avg_f1:<8.3f} {efficiency:<10.4f} {ann_per_sec:<8.2f}\")\n",
    "    \n",
    "    # Speed rankings\n",
    "    speed_ranking = merged_data.groupby('Model')['processing_time'].mean().sort_values()\n",
    "    efficiency_ranking = merged_data.groupby('Model')['efficiency_score'].mean().sort_values(ascending=False)\n",
    "    \n",
    "    print(f\"\\n🏃 SPEED RANKINGS (fastest to slowest):\")\n",
    "    for i, (model, time) in enumerate(speed_ranking.items(), 1):\n",
    "        print(f\"{i}. {model}: {time:.2f}s avg per document\")\n",
    "    \n",
    "    print(f\"\\n🎯 EFFICIENCY RANKINGS (F1/time, best to worst):\")\n",
    "    for i, (model, eff) in enumerate(efficiency_ranking.items(), 1):\n",
    "        print(f\"{i}. {model}: {eff:.4f} F1 per second\")\n",
    "    \n",
    "    # Document analysis\n",
    "    doc_stats = merged_data.groupby('Document').agg({\n",
    "        'processing_time': ['mean', 'std'],\n",
    "        'F1_Score': 'mean'\n",
    "    }).round(3)\n",
    "    \n",
    "    print(f\"\\n📄 DOCUMENT PROCESSING ANALYSIS:\")\n",
    "    print(f\"{'Document':<40} {'Avg Time (s)':<12} {'Std (s)':<10} {'Avg F1':<8}\")\n",
    "    print(\"-\" * 70)\n",
    "    \n",
    "    for doc in doc_stats.index:\n",
    "        doc_short = doc[:35] + \"...\" if len(doc) > 35 else doc\n",
    "        avg_time = doc_stats.loc[doc, ('processing_time', 'mean')]\n",
    "        std_time = doc_stats.loc[doc, ('processing_time', 'std')]\n",
    "        avg_f1 = doc_stats.loc[doc, ('F1_Score', 'mean')]\n",
    "        \n",
    "        print(f\"{doc_short:<40} {avg_time:<12.2f} {std_time:<10.2f} {avg_f1:<8.3f}\")\n",
    "    \n",
    "    # Key insights\n",
    "    fastest_model = speed_ranking.index[0]\n",
    "    slowest_model = speed_ranking.index[-1]\n",
    "    most_efficient = efficiency_ranking.index[0]\n",
    "    \n",
    "    print(f\"\\n💡 KEY INSIGHTS:\")\n",
    "    print(f\"• Fastest model: {fastest_model} ({speed_ranking[fastest_model]:.2f}s avg)\")\n",
    "    print(f\"• Slowest model: {slowest_model} ({speed_ranking[slowest_model]:.2f}s avg)\")\n",
    "    print(f\"• Most efficient: {most_efficient} ({efficiency_ranking[most_efficient]:.4f} F1/sec)\")\n",
    "    print(f\"• Speed difference: {slowest_model} is {speed_ranking[slowest_model]/speed_ranking[fastest_model]:.1f}x slower than {fastest_model}\")\n",
    "    \n",
    "    # Performance vs speed trade-offs\n",
    "    best_f1_model = merged_data.groupby('Model')['F1_Score'].mean().idxmax()\n",
    "    print(f\"• Best F1 model: {best_f1_model}\")\n",
    "    print(f\"• Best trade-off: {most_efficient} (combines good performance with speed)\")\n",
    "    \n",
    "    return {\n",
    "        'model_stats': model_stats,\n",
    "        'speed_ranking': speed_ranking,\n",
    "        'efficiency_ranking': efficiency_ranking,\n",
    "        'document_stats': doc_stats\n",
    "    }\n",
    "\n",
    "print(\"✅ Runtime analysis functions updated successfully!\")"
   ]
  },
  {
   "cell_type": "code",
<<<<<<< HEAD
<<<<<<< HEAD
   "execution_count": 4,
=======
   "execution_count": 7,
>>>>>>> a813ab3a2a19b49bf703a1dc6fd99353356c8a2d
   "id": "24b045fa",
   "metadata": {},
   "outputs": [
    {
     "name": "stdout",
     "output_type": "stream",
     "text": [
      "RUNTIME ANALYSIS\n",
      "========================================\n",
<<<<<<< HEAD
      "Total pipeline time: 584679.0s (9744.7 min)\n",
      "Documents: 30\n",
      "Models: 12\n",
      "\n",
      "Estimated processing times per document:\n",
      "• gemma3:1b: 1624.1s\n",
      "• gemma3:4b: 4060.3s\n",
      "• gemma3:12b: 6496.4s\n",
      "• llama3.3:latest: 3248.2s\n",
      "• deepseek-r1:8b: 3248.2s\n",
      "• mistral:latest: 2923.4s\n",
      "• incept5/llama3.1-claude:latest: 3248.2s\n",
      "• chevalblanc/claude-3-haiku:latest: 3248.2s\n",
      "• llama4:16x17b: 3248.2s\n",
      "• mixtral:8x7b: 3248.2s\n",
      "• dolphin3:8b: 3248.2s\n",
      "• dolphin-mixtral:8x7b: 3248.2s\n"
     ]
    },
    {
     "data": {
      "application/vnd.plotly.v1+json": {
       "config": {
        "plotlyServerURL": "https://plot.ly"
       },
       "data": [
        {
         "marker": {
          "color": [
           "#E74C3C",
           "#3498DB",
           "#2ECC71",
           "#F39C12"
          ]
         },
         "type": "bar",
         "x": [
          "gemma3:1b",
          "gemma3:4b",
          "gemma3:12b",
          "llama3.3:latest",
          "deepseek-r1:8b",
          "mistral:latest",
          "incept5/llama3.1-claude:latest",
          "chevalblanc/claude-3-haiku:latest",
          "llama4:16x17b",
          "mixtral:8x7b",
          "dolphin3:8b",
          "dolphin-mixtral:8x7b"
         ],
         "y": [
          1624.108359186111,
          4060.270897965278,
          6496.433436744444,
          3248.216718372222,
          3248.216718372222,
          2923.395046535,
          3248.216718372222,
          3248.216718372222,
          3248.216718372222,
          3248.216718372222,
          3248.216718372222,
          3248.216718372222
         ]
        }
       ],
       "layout": {
        "height": 400,
        "template": {
         "data": {
          "bar": [
           {
            "error_x": {
             "color": "#2a3f5f"
            },
            "error_y": {
             "color": "#2a3f5f"
            },
            "marker": {
             "line": {
              "color": "#E5ECF6",
              "width": 0.5
             },
             "pattern": {
              "fillmode": "overlay",
              "size": 10,
              "solidity": 0.2
             }
            },
            "type": "bar"
           }
          ],
          "barpolar": [
           {
            "marker": {
             "line": {
              "color": "#E5ECF6",
              "width": 0.5
             },
             "pattern": {
              "fillmode": "overlay",
              "size": 10,
              "solidity": 0.2
             }
            },
            "type": "barpolar"
           }
          ],
          "carpet": [
           {
            "aaxis": {
             "endlinecolor": "#2a3f5f",
             "gridcolor": "white",
             "linecolor": "white",
             "minorgridcolor": "white",
             "startlinecolor": "#2a3f5f"
            },
            "baxis": {
             "endlinecolor": "#2a3f5f",
             "gridcolor": "white",
             "linecolor": "white",
             "minorgridcolor": "white",
             "startlinecolor": "#2a3f5f"
            },
            "type": "carpet"
           }
          ],
          "choropleth": [
           {
            "colorbar": {
             "outlinewidth": 0,
             "ticks": ""
            },
            "type": "choropleth"
           }
          ],
          "contour": [
           {
            "colorbar": {
             "outlinewidth": 0,
             "ticks": ""
            },
            "colorscale": [
             [
              0,
              "#0d0887"
             ],
             [
              0.1111111111111111,
              "#46039f"
             ],
             [
              0.2222222222222222,
              "#7201a8"
             ],
             [
              0.3333333333333333,
              "#9c179e"
             ],
             [
              0.4444444444444444,
              "#bd3786"
             ],
             [
              0.5555555555555556,
              "#d8576b"
             ],
             [
              0.6666666666666666,
              "#ed7953"
             ],
             [
              0.7777777777777778,
              "#fb9f3a"
             ],
             [
              0.8888888888888888,
              "#fdca26"
             ],
             [
              1,
              "#f0f921"
             ]
            ],
            "type": "contour"
           }
          ],
          "contourcarpet": [
           {
            "colorbar": {
             "outlinewidth": 0,
             "ticks": ""
            },
            "type": "contourcarpet"
           }
          ],
          "heatmap": [
           {
            "colorbar": {
             "outlinewidth": 0,
             "ticks": ""
            },
            "colorscale": [
             [
              0,
              "#0d0887"
             ],
             [
              0.1111111111111111,
              "#46039f"
             ],
             [
              0.2222222222222222,
              "#7201a8"
             ],
             [
              0.3333333333333333,
              "#9c179e"
             ],
             [
              0.4444444444444444,
              "#bd3786"
             ],
             [
              0.5555555555555556,
              "#d8576b"
             ],
             [
              0.6666666666666666,
              "#ed7953"
             ],
             [
              0.7777777777777778,
              "#fb9f3a"
             ],
             [
              0.8888888888888888,
              "#fdca26"
             ],
             [
              1,
              "#f0f921"
             ]
            ],
            "type": "heatmap"
           }
          ],
          "histogram": [
           {
            "marker": {
             "pattern": {
              "fillmode": "overlay",
              "size": 10,
              "solidity": 0.2
             }
            },
            "type": "histogram"
           }
          ],
          "histogram2d": [
           {
            "colorbar": {
             "outlinewidth": 0,
             "ticks": ""
            },
            "colorscale": [
             [
              0,
              "#0d0887"
             ],
             [
              0.1111111111111111,
              "#46039f"
             ],
             [
              0.2222222222222222,
              "#7201a8"
             ],
             [
              0.3333333333333333,
              "#9c179e"
             ],
             [
              0.4444444444444444,
              "#bd3786"
             ],
             [
              0.5555555555555556,
              "#d8576b"
             ],
             [
              0.6666666666666666,
              "#ed7953"
             ],
             [
              0.7777777777777778,
              "#fb9f3a"
             ],
             [
              0.8888888888888888,
              "#fdca26"
             ],
             [
              1,
              "#f0f921"
             ]
            ],
            "type": "histogram2d"
           }
          ],
          "histogram2dcontour": [
           {
            "colorbar": {
             "outlinewidth": 0,
             "ticks": ""
            },
            "colorscale": [
             [
              0,
              "#0d0887"
             ],
             [
              0.1111111111111111,
              "#46039f"
             ],
             [
              0.2222222222222222,
              "#7201a8"
             ],
             [
              0.3333333333333333,
              "#9c179e"
             ],
             [
              0.4444444444444444,
              "#bd3786"
             ],
             [
              0.5555555555555556,
              "#d8576b"
             ],
             [
              0.6666666666666666,
              "#ed7953"
             ],
             [
              0.7777777777777778,
              "#fb9f3a"
             ],
             [
              0.8888888888888888,
              "#fdca26"
             ],
             [
              1,
              "#f0f921"
             ]
            ],
            "type": "histogram2dcontour"
           }
          ],
          "mesh3d": [
           {
            "colorbar": {
             "outlinewidth": 0,
             "ticks": ""
            },
            "type": "mesh3d"
           }
          ],
          "parcoords": [
           {
            "line": {
             "colorbar": {
              "outlinewidth": 0,
              "ticks": ""
             }
            },
            "type": "parcoords"
           }
          ],
          "pie": [
           {
            "automargin": true,
            "type": "pie"
           }
          ],
          "scatter": [
           {
            "fillpattern": {
             "fillmode": "overlay",
             "size": 10,
             "solidity": 0.2
            },
            "type": "scatter"
           }
          ],
          "scatter3d": [
           {
            "line": {
             "colorbar": {
              "outlinewidth": 0,
              "ticks": ""
             }
            },
            "marker": {
             "colorbar": {
              "outlinewidth": 0,
              "ticks": ""
             }
            },
            "type": "scatter3d"
           }
          ],
          "scattercarpet": [
           {
            "marker": {
             "colorbar": {
              "outlinewidth": 0,
              "ticks": ""
             }
            },
            "type": "scattercarpet"
           }
          ],
          "scattergeo": [
           {
            "marker": {
             "colorbar": {
              "outlinewidth": 0,
              "ticks": ""
             }
            },
            "type": "scattergeo"
           }
          ],
          "scattergl": [
           {
            "marker": {
             "colorbar": {
              "outlinewidth": 0,
              "ticks": ""
             }
            },
            "type": "scattergl"
           }
          ],
          "scattermap": [
           {
            "marker": {
             "colorbar": {
              "outlinewidth": 0,
              "ticks": ""
             }
            },
            "type": "scattermap"
           }
          ],
          "scattermapbox": [
           {
            "marker": {
             "colorbar": {
              "outlinewidth": 0,
              "ticks": ""
             }
            },
            "type": "scattermapbox"
           }
          ],
          "scatterpolar": [
           {
            "marker": {
             "colorbar": {
              "outlinewidth": 0,
              "ticks": ""
             }
            },
            "type": "scatterpolar"
           }
          ],
          "scatterpolargl": [
           {
            "marker": {
             "colorbar": {
              "outlinewidth": 0,
              "ticks": ""
             }
            },
            "type": "scatterpolargl"
           }
          ],
          "scatterternary": [
           {
            "marker": {
             "colorbar": {
              "outlinewidth": 0,
              "ticks": ""
             }
            },
            "type": "scatterternary"
           }
          ],
          "surface": [
           {
            "colorbar": {
             "outlinewidth": 0,
             "ticks": ""
            },
            "colorscale": [
             [
              0,
              "#0d0887"
             ],
             [
              0.1111111111111111,
              "#46039f"
             ],
             [
              0.2222222222222222,
              "#7201a8"
             ],
             [
              0.3333333333333333,
              "#9c179e"
             ],
             [
              0.4444444444444444,
              "#bd3786"
             ],
             [
              0.5555555555555556,
              "#d8576b"
             ],
             [
              0.6666666666666666,
              "#ed7953"
             ],
             [
              0.7777777777777778,
              "#fb9f3a"
             ],
             [
              0.8888888888888888,
              "#fdca26"
             ],
             [
              1,
              "#f0f921"
             ]
            ],
            "type": "surface"
           }
          ],
          "table": [
           {
            "cells": {
             "fill": {
              "color": "#EBF0F8"
             },
             "line": {
              "color": "white"
             }
            },
            "header": {
             "fill": {
              "color": "#C8D4E3"
             },
             "line": {
              "color": "white"
             }
            },
            "type": "table"
           }
          ]
         },
         "layout": {
          "annotationdefaults": {
           "arrowcolor": "#2a3f5f",
           "arrowhead": 0,
           "arrowwidth": 1
          },
          "autotypenumbers": "strict",
          "coloraxis": {
           "colorbar": {
            "outlinewidth": 0,
            "ticks": ""
           }
          },
          "colorscale": {
           "diverging": [
            [
             0,
             "#8e0152"
            ],
            [
             0.1,
             "#c51b7d"
            ],
            [
             0.2,
             "#de77ae"
            ],
            [
             0.3,
             "#f1b6da"
            ],
            [
             0.4,
             "#fde0ef"
            ],
            [
             0.5,
             "#f7f7f7"
            ],
            [
             0.6,
             "#e6f5d0"
            ],
            [
             0.7,
             "#b8e186"
            ],
            [
             0.8,
             "#7fbc41"
            ],
            [
             0.9,
             "#4d9221"
            ],
            [
             1,
             "#276419"
            ]
           ],
           "sequential": [
            [
             0,
             "#0d0887"
            ],
            [
             0.1111111111111111,
             "#46039f"
            ],
            [
             0.2222222222222222,
             "#7201a8"
            ],
            [
             0.3333333333333333,
             "#9c179e"
            ],
            [
             0.4444444444444444,
             "#bd3786"
            ],
            [
             0.5555555555555556,
             "#d8576b"
            ],
            [
             0.6666666666666666,
             "#ed7953"
            ],
            [
             0.7777777777777778,
             "#fb9f3a"
            ],
            [
             0.8888888888888888,
             "#fdca26"
            ],
            [
             1,
             "#f0f921"
            ]
           ],
           "sequentialminus": [
            [
             0,
             "#0d0887"
            ],
            [
             0.1111111111111111,
             "#46039f"
            ],
            [
             0.2222222222222222,
             "#7201a8"
            ],
            [
             0.3333333333333333,
             "#9c179e"
            ],
            [
             0.4444444444444444,
             "#bd3786"
            ],
            [
             0.5555555555555556,
             "#d8576b"
            ],
            [
             0.6666666666666666,
             "#ed7953"
            ],
            [
             0.7777777777777778,
             "#fb9f3a"
            ],
            [
             0.8888888888888888,
             "#fdca26"
            ],
            [
             1,
             "#f0f921"
            ]
           ]
          },
          "colorway": [
           "#636efa",
           "#EF553B",
           "#00cc96",
           "#ab63fa",
           "#FFA15A",
           "#19d3f3",
           "#FF6692",
           "#B6E880",
           "#FF97FF",
           "#FECB52"
          ],
          "font": {
           "color": "#2a3f5f"
          },
          "geo": {
           "bgcolor": "white",
           "lakecolor": "white",
           "landcolor": "#E5ECF6",
           "showlakes": true,
           "showland": true,
           "subunitcolor": "white"
          },
          "hoverlabel": {
           "align": "left"
          },
          "hovermode": "closest",
          "mapbox": {
           "style": "light"
          },
          "paper_bgcolor": "white",
          "plot_bgcolor": "#E5ECF6",
          "polar": {
           "angularaxis": {
            "gridcolor": "white",
            "linecolor": "white",
            "ticks": ""
           },
           "bgcolor": "#E5ECF6",
           "radialaxis": {
            "gridcolor": "white",
            "linecolor": "white",
            "ticks": ""
           }
          },
          "scene": {
           "xaxis": {
            "backgroundcolor": "#E5ECF6",
            "gridcolor": "white",
            "gridwidth": 2,
            "linecolor": "white",
            "showbackground": true,
            "ticks": "",
            "zerolinecolor": "white"
           },
           "yaxis": {
            "backgroundcolor": "#E5ECF6",
            "gridcolor": "white",
            "gridwidth": 2,
            "linecolor": "white",
            "showbackground": true,
            "ticks": "",
            "zerolinecolor": "white"
           },
           "zaxis": {
            "backgroundcolor": "#E5ECF6",
            "gridcolor": "white",
            "gridwidth": 2,
            "linecolor": "white",
            "showbackground": true,
            "ticks": "",
            "zerolinecolor": "white"
           }
          },
          "shapedefaults": {
           "line": {
            "color": "#2a3f5f"
           }
          },
          "ternary": {
           "aaxis": {
            "gridcolor": "white",
            "linecolor": "white",
            "ticks": ""
           },
           "baxis": {
            "gridcolor": "white",
            "linecolor": "white",
            "ticks": ""
           },
           "bgcolor": "#E5ECF6",
           "caxis": {
            "gridcolor": "white",
            "linecolor": "white",
            "ticks": ""
           }
          },
          "title": {
           "x": 0.05
          },
          "xaxis": {
           "automargin": true,
           "gridcolor": "white",
           "linecolor": "white",
           "ticks": "",
           "title": {
            "standoff": 15
           },
           "zerolinecolor": "white",
           "zerolinewidth": 2
          },
          "yaxis": {
           "automargin": true,
           "gridcolor": "white",
           "linecolor": "white",
           "ticks": "",
           "title": {
            "standoff": 15
           },
           "zerolinecolor": "white",
           "zerolinewidth": 2
          }
         }
        },
        "title": {
         "text": "Estimated Processing Time per Document"
        },
        "xaxis": {
         "title": {
          "text": "Model"
         }
        },
        "yaxis": {
         "title": {
          "text": "Time (seconds)"
         }
        }
       }
      }
     },
     "metadata": {},
     "output_type": "display_data"
    },
    {
     "name": "stdout",
     "output_type": "stream",
     "text": [
=======
      "✅ Using pipeline folder: output\\pipeline_results_20250808_145025\n",
      "📄 Pipeline info file: output\\pipeline_results_20250808_145025\\pipeline_results_20250808_145025.json\n",
      "Total Processing Time: 584678.09 seconds (162.41 hours)\n",
      "Average per Model-Document: 1624.11 seconds\n",
      "Total Model-Document Combinations: 360\n",
      "\n",
      "TOP 5 SLOWEST MODELS (Total Time):\n",
      "  1. dolphin-mixtral:8x7b: 390134.45s (6502.2m)\n",
      "  2. llama3.3:latest: 103452.44s (1724.2m)\n",
      "  3. mixtral:8x7b: 32859.02s (547.7m)\n",
      "  4. llama4:16x17b: 18040.02s (300.7m)\n",
      "  5. mistral:latest: 6573.70s (109.6m)\n",
>>>>>>> a813ab3a2a19b49bf703a1dc6fd99353356c8a2d
      "\n",
      "TOP 5 FASTEST MODELS (Average Time per Document):\n",
      "  1. gemma3:12b: 73.56s avg\n",
      "  2. chevalblanc/claude-3-haiku:latest: 115.13s avg\n",
      "  3. gemma3:4b: 147.96s avg\n",
      "  4. deepseek-r1:8b: 157.67s avg\n",
      "  5. incept5/llama3.1-claude:latest: 204.92s avg\n",
      "\n",
      "TOP 5 MOST TIME-CONSUMING DOCUMENTS:\n",
      "  1. CRISTIAN CATALIN UNGUREANU v. ROMANIA: 88815.96s (1480.3m)\n",
      "  2. M.T. v. UKRAINE: 81784.26s (1363.1m)\n",
      "  3. YEVGENIY ZAKHAROV v. RUSSIA: 79860.09s (1331.0m)\n",
      "  4. SIDOROVA v. RUSSIA: 75331.76s (1255.5m)\n",
      "  5. KOSAITE - CYPIENE AND OTHERS v. LITHUANIA: 34322.22s (572.0m)\n",
      "\n",
      "Runtime analysis complete! Found timing data for 360 model-document combinations\n",
      "Total Processing Time: 584678.09 seconds (162.41 hours)\n",
      "Average per Model-Document: 1624.11 seconds\n",
      "Total Model-Document Combinations: 360\n",
      "\n",
      "TOP 5 SLOWEST MODELS (Total Time):\n",
      "  1. dolphin-mixtral:8x7b: 390134.45s (6502.2m)\n",
      "  2. llama3.3:latest: 103452.44s (1724.2m)\n",
      "  3. mixtral:8x7b: 32859.02s (547.7m)\n",
      "  4. llama4:16x17b: 18040.02s (300.7m)\n",
      "  5. mistral:latest: 6573.70s (109.6m)\n",
      "\n",
      "TOP 5 FASTEST MODELS (Average Time per Document):\n",
      "  1. gemma3:12b: 73.56s avg\n",
      "  2. chevalblanc/claude-3-haiku:latest: 115.13s avg\n",
      "  3. gemma3:4b: 147.96s avg\n",
      "  4. deepseek-r1:8b: 157.67s avg\n",
      "  5. incept5/llama3.1-claude:latest: 204.92s avg\n",
      "\n",
      "TOP 5 MOST TIME-CONSUMING DOCUMENTS:\n",
      "  1. CRISTIAN CATALIN UNGUREANU v. ROMANIA: 88815.96s (1480.3m)\n",
      "  2. M.T. v. UKRAINE: 81784.26s (1363.1m)\n",
      "  3. YEVGENIY ZAKHAROV v. RUSSIA: 79860.09s (1331.0m)\n",
      "  4. SIDOROVA v. RUSSIA: 75331.76s (1255.5m)\n",
      "  5. KOSAITE - CYPIENE AND OTHERS v. LITHUANIA: 34322.22s (572.0m)\n",
      "\n",
      "Runtime analysis complete! Found timing data for 360 model-document combinations\n"
     ]
    }
   ],
=======
   "execution_count": null,
   "id": "24b045fa",
   "metadata": {},
   "outputs": [],
>>>>>>> b6c29b87ca2200a9abab055569f69045161fea49
   "source": [
    "print(\"RUNTIME ANALYSIS\")\n",
    "print(\"=\" * 40)\n",
    "\n",
<<<<<<< HEAD
    "pipeline_folder = \"output/pipeline_results_20250808_145025\"\n",
    "\n",
    "if Path(pipeline_folder).exists():\n",
    "    # Load pipeline timing data\n",
    "    main_file = Path(pipeline_folder) / f\"{Path(pipeline_folder).name}.json\"\n",
    "    with open(main_file, 'r', encoding='utf-8', errors='ignore') as f:\n",
    "        pipeline_info = json.load(f)\n",
    "    \n",
    "    # Calculate total time\n",
    "    start = pd.to_datetime(pipeline_info['start_time'])\n",
    "    end = pd.to_datetime(pipeline_info['end_time'])\n",
    "    total_time = (end - start).total_seconds()\n",
    "    \n",
    "    print(f\"Total pipeline time: {total_time:.1f}s ({total_time/60:.1f} min)\")\n",
    "    print(f\"Documents: {pipeline_info['processed_documents']}\")\n",
    "    print(f\"Models: {len(pipeline_info['models_used'])}\")\n",
    "    \n",
    "    # Model speed estimates (based on parameter count)\n",
    "    speeds = {\n",
    "        'gemma3:1b': 1.0,      # 1B params - fastest\n",
    "        'gemma3:4b': 2.5,      # 4B params - medium\n",
    "        'gemma3:12b': 4.0,     # 12B params - slowest  \n",
    "        'mistral:latest': 1.8  # ~7B params - medium-fast\n",
    "    }\n",
    "    \n",
    "    models = pipeline_info['models_used']\n",
    "    docs = pipeline_info['processed_documents']\n",
    "    base_time = total_time / (len(models) * docs)\n",
    "    \n",
    "    print(f\"\\nEstimated processing times per document:\")\n",
    "    for model in models:\n",
    "        est_time = base_time * speeds.get(model, 2.0)\n",
    "        print(f\"• {model}: {est_time:.1f}s\")\n",
    "    \n",
    "    # Quick visualization\n",
    "    model_times = [base_time * speeds.get(m, 2.0) for m in models]\n",
    "    \n",
    "    fig = go.Figure(data=[\n",
    "        go.Bar(x=models, y=model_times, \n",
    "               marker_color=['#E74C3C', '#3498DB', '#2ECC71', '#F39C12'])\n",
    "    ])\n",
    "    \n",
    "    fig.update_layout(\n",
    "        title='Estimated Processing Time per Document',\n",
    "        xaxis_title='Model',\n",
    "        yaxis_title='Time (seconds)',\n",
    "        height=400\n",
    "    )\n",
    "    \n",
    "    fig.show()\n",
    "    \n",
    "    # Rankings\n",
    "    fastest = min(models, key=lambda m: speeds.get(m, 2.0))\n",
    "    slowest = max(models, key=lambda m: speeds.get(m, 2.0))\n",
    "    \n",
    "    print(f\"\\n🏆 Speed Rankings:\")\n",
    "    print(f\"Fastest: {fastest}\")\n",
    "    print(f\"Slowest: {slowest}\")\n",
    "    print(f\"Speed difference: {speeds[slowest]/speeds[fastest]:.1f}x\")\n",
    "    \n",
    "    print(f\"\\n✅ Analysis complete!\")\n",
    "    \n",
=======
    "# Check if we have a selected pipeline folder\n",
    "if 'selected_pipeline_folder' not in globals() or not selected_pipeline_folder:\n",
    "    print(\"❌ No pipeline folder selected. Please run the pipeline folder selector cell first.\")\n",
>>>>>>> a813ab3a2a19b49bf703a1dc6fd99353356c8a2d
    "else:\n",
    "    # Set up the main file path\n",
    "    main_file = Path(selected_pipeline_folder) / f\"{Path(selected_pipeline_folder).name}.json\"\n",
    "    \n",
    "    if not main_file.exists():\n",
    "        print(f\"❌ Pipeline info file not found: {main_file}\")\n",
    "        print(\"Available files in the pipeline folder:\")\n",
    "        for file in Path(selected_pipeline_folder).glob(\"*.json\"):\n",
    "            print(f\"  - {file.name}\")\n",
    "    else:\n",
    "        print(f\"✅ Using pipeline folder: {selected_pipeline_folder}\")\n",
    "        print(f\"📄 Pipeline info file: {main_file}\")\n",
    "        \n",
    "        # Extract actual runtime data from annotations\n",
    "        model_runtime_data = []\n",
    "        document_runtime_data = []\n",
    "\n",
    "        # Get runtime data for each model-document combination\n",
    "        for doc_file in main_file.parent.glob(\"*.json\"):\n",
    "            if doc_file.name != \"pipeline_info.json\" and doc_file != main_file:\n",
    "                try:\n",
    "                    with open(doc_file, 'r', encoding='utf-8') as f:\n",
    "                        doc_data = json.load(f)\n",
    "                        doc_name = doc_data.get('document_name', doc_file.stem)\n",
    "                        \n",
    "                        for annotation in doc_data.get('annotations', []):\n",
    "                            model_name = annotation.get('model_name', 'Unknown')\n",
    "                            llm_runtime = annotation.get('llm_runtime_seconds', 0)\n",
    "                            model_runtime = annotation.get('model_runtime_seconds', 0)\n",
    "                            \n",
    "                            model_runtime_data.append({\n",
    "                                'model': model_name,\n",
    "                                'document': doc_name,\n",
    "                                'llm_runtime_seconds': llm_runtime,\n",
    "                                'model_runtime_seconds': model_runtime\n",
    "                            })\n",
    "                except Exception as e:\n",
    "                    print(f\"Warning: Could not process {doc_file.name}: {e}\")\n",
    "\n",
    "        # Convert to DataFrame for easier analysis\n",
    "        runtime_df = pd.DataFrame(model_runtime_data)\n",
    "\n",
    "        if not runtime_df.empty:\n",
    "            # Aggregate runtime by model\n",
    "            model_totals = runtime_df.groupby('model')['model_runtime_seconds'].sum().sort_values(ascending=False)\n",
    "            \n",
    "            # Aggregate runtime by document\n",
    "            doc_totals = runtime_df.groupby('document')['model_runtime_seconds'].sum().sort_values(ascending=False)\n",
    "            \n",
    "            # Overall statistics\n",
    "            total_runtime = runtime_df['model_runtime_seconds'].sum()\n",
    "            avg_per_model = runtime_df.groupby('model')['model_runtime_seconds'].mean()\n",
    "            avg_per_doc = runtime_df.groupby('document')['model_runtime_seconds'].mean()\n",
    "            \n",
    "            print(f\"Total Processing Time: {total_runtime:.2f} seconds ({total_runtime/3600:.2f} hours)\")\n",
    "            print(f\"Average per Model-Document: {runtime_df['model_runtime_seconds'].mean():.2f} seconds\")\n",
    "            print(f\"Total Model-Document Combinations: {len(runtime_df)}\")\n",
    "            \n",
    "            print(\"\\nTOP 5 SLOWEST MODELS (Total Time):\")\n",
    "            for i, (model, time_sec) in enumerate(model_totals.head(5).items(), 1):\n",
    "                print(f\"  {i}. {model}: {time_sec:.2f}s ({time_sec/60:.1f}m)\")\n",
    "            \n",
    "            print(\"\\nTOP 5 FASTEST MODELS (Average Time per Document):\")\n",
    "            fastest_avg = avg_per_model.sort_values(ascending=True)\n",
    "            for i, (model, time_sec) in enumerate(fastest_avg.head(5).items(), 1):\n",
    "                print(f\"  {i}. {model}: {time_sec:.2f}s avg\")\n",
    "            \n",
    "            print(\"\\nTOP 5 MOST TIME-CONSUMING DOCUMENTS:\")\n",
    "            for i, (doc, time_sec) in enumerate(doc_totals.head(5).items(), 1):\n",
    "                print(f\"  {i}. {doc}: {time_sec:.2f}s ({time_sec/60:.1f}m)\")\n",
    "            \n",
    "            # Store runtime data for potential visualization\n",
    "            model_runtime_summary = model_totals\n",
    "            document_runtime_summary = doc_totals\n",
    "            \n",
    "            print(f\"\\nRuntime analysis complete! Found timing data for {len(runtime_df)} model-document combinations\")\n",
    "        else:\n",
    "            print(\"No runtime data found in annotations\")"
   ]
  },
  {
   "cell_type": "code",
<<<<<<< HEAD
<<<<<<< HEAD
   "execution_count": 5,
=======
   "execution_count": 8,
>>>>>>> a813ab3a2a19b49bf703a1dc6fd99353356c8a2d
=======
   "execution_count": null,
>>>>>>> b6c29b87ca2200a9abab055569f69045161fea49
   "id": "d1066fd7",
   "metadata": {},
   "outputs": [],
   "source": [
    "print()\n",
    "print(\"DETAILED MODEL RUNTIMES PER DOCUMENT\")\n",
    "print(\"=\" * 50)\n",
    "\n",
    "# Use the runtime data we collected in the previous cell\n",
    "if 'runtime_df' in locals() and not runtime_df.empty:\n",
    "    # Create a pivot table for better visualization\n",
    "    runtime_pivot = runtime_df.pivot_table(\n",
    "        index='document', \n",
    "        columns='model', \n",
    "        values='model_runtime_seconds',\n",
    "        fill_value=0\n",
    "    )\n",
    "    \n",
    "    # Display top 10 documents by total runtime\n",
    "    doc_total_times = runtime_df.groupby('document')['model_runtime_seconds'].sum().sort_values(ascending=False)\n",
    "    \n",
    "    print(\"Top 10 Most Time-Consuming Documents:\")\n",
    "    print(\"-\" * 40)\n",
    "    for i, (doc, total_time) in enumerate(doc_total_times.head(10).items(), 1):\n",
    "        hours = total_time / 3600\n",
    "        print(f\"{i:2d}. {doc}\")\n",
    "        print(f\"    Total: {total_time:.1f}s ({hours:.1f}h)\")\n",
    "        \n",
    "        # Show breakdown by model for this document\n",
    "        doc_models = runtime_df[runtime_df['document'] == doc].sort_values('model_runtime_seconds', ascending=False)\n",
    "        print(\"    Top 3 slowest models:\")\n",
    "        for j, row in doc_models.head(3).iterrows():\n",
    "            model_time = row['model_runtime_seconds']\n",
    "            pct = (model_time / total_time) * 100\n",
    "            print(f\"      - {row['model']}: {model_time:.1f}s ({pct:.1f}%)\")\n",
    "        print()\n",
    "    \n",
    "    # Show model performance consistency\n",
    "    print(\"\\nModel Performance Consistency:\")\n",
    "    print(\"-\" * 35)\n",
    "    model_stats = runtime_df.groupby('model')['model_runtime_seconds'].agg(['mean', 'std', 'min', 'max']).round(2)\n",
    "    model_stats['cv'] = (model_stats['std'] / model_stats['mean']).round(3)  # Coefficient of variation\n",
    "    model_stats = model_stats.sort_values('cv')  # Sort by consistency (lower CV = more consistent)\n",
    "    \n",
    "    print(\"Most Consistent Models (lowest coefficient of variation):\")\n",
    "    for i, (model, stats) in enumerate(model_stats.head(5).iterrows(), 1):\n",
    "        print(f\"{i}. {model}\")\n",
    "        print(f\"   Avg: {stats['mean']:.1f}s, CV: {stats['cv']:.3f}\")\n",
    "        print(f\"   Range: {stats['min']:.1f}s - {stats['max']:.1f}s\")\n",
    "    \n",
    "    # Store the pivot table for potential use in visualizations\n",
    "    model_document_runtimes = runtime_pivot\n",
    "    print(f\"\\nData summary: {len(runtime_df)} model-document combinations analyzed\")\n",
    "    \n",
    "else:\n",
    "    print(\"No runtime data available. Please run the previous runtime analysis cell first.\")"
   ]
  },
  {
   "cell_type": "code",
   "execution_count": null,
   "id": "62a8e4d3",
   "metadata": {},
<<<<<<< HEAD
   "outputs": [
    {
     "name": "stdout",
     "output_type": "stream",
     "text": [
      "✅ Runtime analysis and dashboard functions ready!\n"
     ]
    },
    {
     "data": {
      "application/vnd.plotly.v1+json": {
       "config": {
        "plotlyServerURL": "https://plot.ly"
       },
       "data": [
        {
         "customdata": {
<<<<<<< HEAD
          "bdata": "IYRaBmjK10AhhFoGaMrXQA==",
=======
          "bdata": "VVVFpz1muUDNzKxc1PCaQLy7e9UzHYFAq6oq4KvKckAAAIDn8WNbQCIiYtvxjVpA3t3dFQ8eWkDNzExwT51ZQJqZmf2WtVNAMzOz7dV+UkC8uzs1K8hMQERExEG/Y0JA",
>>>>>>> a813ab3a2a19b49bf703a1dc6fd99353356c8a2d
          "dtype": "f8"
         },
         "hovertemplate": "<b>%{x}</b><br>Total Time: %{y:.1f}s (%{customdata:.1f}m)<extra></extra>",
         "marker": {
          "color": [
           "#8E44AD",
           "#F39C12",
           "#34495E",
           "#95A5A6",
           "#1ABC9C",
           "#E74C3C",
           "#16A085",
           "#F1C40F",
           "#9B59B6",
           "#3498DB",
           "#E67E22",
           "#2ECC71"
          ]
         },
         "name": "Total Time",
         "type": "bar",
         "x": [
          "dolphin-mixtral:8x7b",
          "llama3.3:latest",
          "mixtral:8x7b",
          "llama4:16x17b",
          "mistral:latest",
          "gemma3:1b",
          "dolphin3:8b",
          "incept5/llama3.1-claude:latest",
          "deepseek-r1:8b",
          "gemma3:4b",
          "chevalblanc/claude-3-haiku:latest",
          "gemma3:12b"
         ],
         "xaxis": "x",
         "y": {
          "bdata": "AADRzNnPF0EAAOIWx0H5QAAAJJhgC+BAAAAoIgGe0UAAAAjJsq25QAAArL0S5bhAAACAJC58uEAAAEh5egO4QAAAwI09erJAAADYjuhWsUAAAOiBqPuqQAAAqE2DPaFA",
          "dtype": "f8"
         },
         "yaxis": "y"
        },
        {
         "hovertemplate": "<b>gemma3:1b</b><br>Document: %{text}<br>Time: %{x:.1f}s<br>F1: %{y:.3f}<extra></extra>",
         "marker": {
          "color": "#E74C3C",
          "opacity": 0.7,
          "size": 10
         },
         "mode": "markers",
         "name": "gemma3:1b",
         "showlegend": false,
         "text": [
          "ALTAY v. TURKEY (No. 2)",
          "BELYAYEV AND OTHERS v. UKRAINE",
          "BIGUN v. UKRAINE",
          "CABUCAK v. GERMANY",
          "CAN v. TURKEY",
          "CRISTIAN CATALIN UNGUREANU v. ROMANIA",
          "DOKTOROV v. BULGARIA",
          "EGILL EINARSSON v. ICELAND (No. 2)",
          "H_INESS v. NORWAY (1)",
          "KOSAITE - CYPIENE AND OTHERS v. LITHUANIA",
          "LOZOVYYE v. RUSSIA",
          "M.T. v. UKRAINE",
          "MOSKALEV v. RUSSIA",
          "MURUZHEVA v. RUSSIA",
          "O.C.I. AND OTHERS v. ROMANIA",
          "OTGON v. THE REPUBLIC OF MOLDOVA",
          "PAKHTUSOV v. RUSSIA",
          "PANYUSHKINY v. RUSSIA",
          "RESIN v. RUSSIA",
          "S.N. v. RUSSIA",
          "S.V. v. ITALY",
          "SHVIDKIYE v. RUSSIA",
          "SIDOROVA v. RUSSIA",
          "SOLCAN v. ROMANIA",
          "STANA v. ROMANIA",
          "VISY v. SLOVAKIA",
          "YAKUSHEV v. UKRAINE",
          "YERMAKOVICH v. RUSSIA",
          "YEVGENIY ZAKHAROV v. RUSSIA",
          "_NODI v. HUNGARY"
         ],
         "type": "scatter",
         "x": {
          "bdata": "AAAA4LnnRkAAAACWoTdFQAAAAFiV6SxAAAAAXLGeRUAAAAD0R79AQAAAAGSAtUZAAAAAaJfBQUAAAMBhlmabQAAAAPigoixAAAAA8AybLkAAAAA6kUZJQAAAAOAQikdAAAAAZhICQUAAAIBo/hudQAAAAGR9zT5AAAAA2FXcRUAAAABE2VlDQAAAADDYVC1AAAAASlO0RUAAAAC8lyJKQAAAALikBS1AAACAEq6Cm0AAAAByPblAQAAAALKty0JAAAAAVna2QkAAAABzxi1TQAAAAEiOvT5AAAAAJCO9REAAAADUpftCQAAAANIaV0RA",
          "dtype": "f8"
         },
         "xaxis": "x2",
         "y": {
          "bdata": "HMdxHMdxrD/qWNOmQiHGP5MkSZIkSbI/tOj4CHIMmj9HJSs+AFLOPyIgudni+dA/qESMNHNGzT8AAAAAAAAAAAAAAAAAAAAA2FTIvIpcpD/y4lK9EQ7QP8cIJvo7Wc0/76iRNMDuyD8AAAAAAAAAAOsUuk6h67Q/eBLBqkX0zT+SizCAeh/TPwAAAAAAAAAAMNcOzLUDwz/hrWu1JaKfPwAAAAAAAAAAAAAAAAAAAAAPDw8PDw+vPzbZZJNNNsk/n+d5nud51j8fHh4eHh6eP2vfsPYNa9M/kh5NB/CSnj9ipB0rEEbKP7h8y7d8y8s/",
          "dtype": "f8"
         },
         "yaxis": "y2"
        },
        {
         "hovertemplate": "<b>gemma3:4b</b><br>Document: %{text}<br>Time: %{x:.1f}s<br>F1: %{y:.3f}<extra></extra>",
         "marker": {
          "color": "#3498DB",
          "opacity": 0.7,
          "size": 10
         },
         "mode": "markers",
         "name": "gemma3:4b",
         "showlegend": false,
         "text": [
          "ALTAY v. TURKEY (No. 2)",
          "BELYAYEV AND OTHERS v. UKRAINE",
          "BIGUN v. UKRAINE",
          "CABUCAK v. GERMANY",
          "CAN v. TURKEY",
          "CRISTIAN CATALIN UNGUREANU v. ROMANIA",
          "DOKTOROV v. BULGARIA",
          "EGILL EINARSSON v. ICELAND (No. 2)",
          "H_INESS v. NORWAY (1)",
          "KOSAITE - CYPIENE AND OTHERS v. LITHUANIA",
          "LOZOVYYE v. RUSSIA",
          "M.T. v. UKRAINE",
          "MOSKALEV v. RUSSIA",
          "MURUZHEVA v. RUSSIA",
          "O.C.I. AND OTHERS v. ROMANIA",
          "OTGON v. THE REPUBLIC OF MOLDOVA",
          "PAKHTUSOV v. RUSSIA",
          "PANYUSHKINY v. RUSSIA",
          "RESIN v. RUSSIA",
          "S.N. v. RUSSIA",
          "S.V. v. ITALY",
          "SHVIDKIYE v. RUSSIA",
          "SIDOROVA v. RUSSIA",
          "SOLCAN v. ROMANIA",
          "STANA v. ROMANIA",
          "VISY v. SLOVAKIA",
          "YAKUSHEV v. UKRAINE",
          "YERMAKOVICH v. RUSSIA",
          "YEVGENIY ZAKHAROV v. RUSSIA",
          "_NODI v. HUNGARY"
         ],
         "type": "scatter",
         "x": {
          "bdata": "AAAA1+6OUEAAAACaLKlIQAAAAGNMBFBAAAAAtMUgTkAAAACOJwRJQAAAABQyMkBAAAAAWu83QUAAAACIPUtLQAAAAAsA9GdAAAAADZpxV0AAAABKQtJPQAAAAFgOtUpAAAAAhj6oTUAAAAB6zuRVQAAAAPyTYktAAABQa8lwpEAAAAC7pMNXQAAAACLTMEpAAAAAMNqAQUAAAAAMbHlDQAAAAKwSoElAAAAAbnHiTUAAAADg+H1GQAAAABb3sFZAAAAAYO7UQEAAAACTu11QQAAAAJ4Z3UJAAAAA0JlnTUAAAACAlgxRQAAAAIP6wlJA",
          "dtype": "f8"
         },
         "xaxis": "x2",
         "y": {
          "bdata": "hcJY0VMo0z8RERERERGxP5dv+ZZv+cY/yHu8x3u8tz9eIJPiBTLhP3TsEgW8Ab0/c1XYZHCi0D8Clm2+HGDJP0VERERERLQ/oA3pnw3prz+ZI9PLVgbfPz/qoz7qo9Y/RW7aL/642j9GglswQZjSP55L8KY5FM8/AAAAAAAAAADRUu62gkfVP+dabxr3Q8A/mRNmxXeH0D8AAAAAAAAAADKjQ3zM6NQ/YOdzl/IU1T8AAAAAAAAAAMyYyYyZzMg/h2EYhmEY3D9a0mfMWwDOP1pzJmLLQ9k/AAAAAAAAoD9GYARGYATZP6g2GlPhxM0/",
          "dtype": "f8"
         },
         "yaxis": "y2"
        },
        {
         "hovertemplate": "<b>gemma3:12b</b><br>Document: %{text}<br>Time: %{x:.1f}s<br>F1: %{y:.3f}<extra></extra>",
         "marker": {
          "color": "#2ECC71",
          "opacity": 0.7,
          "size": 10
         },
         "mode": "markers",
         "name": "gemma3:12b",
         "showlegend": false,
         "text": [
          "ALTAY v. TURKEY (No. 2)",
          "BELYAYEV AND OTHERS v. UKRAINE",
          "BIGUN v. UKRAINE",
          "CABUCAK v. GERMANY",
          "CAN v. TURKEY",
          "CRISTIAN CATALIN UNGUREANU v. ROMANIA",
          "DOKTOROV v. BULGARIA",
          "EGILL EINARSSON v. ICELAND (No. 2)",
          "H_INESS v. NORWAY (1)",
          "KOSAITE - CYPIENE AND OTHERS v. LITHUANIA",
          "LOZOVYYE v. RUSSIA",
          "M.T. v. UKRAINE",
          "MOSKALEV v. RUSSIA",
          "MURUZHEVA v. RUSSIA",
          "O.C.I. AND OTHERS v. ROMANIA",
          "OTGON v. THE REPUBLIC OF MOLDOVA",
          "PAKHTUSOV v. RUSSIA",
          "PANYUSHKINY v. RUSSIA",
          "RESIN v. RUSSIA",
          "S.N. v. RUSSIA",
          "S.V. v. ITALY",
          "SHVIDKIYE v. RUSSIA",
          "SIDOROVA v. RUSSIA",
          "SOLCAN v. ROMANIA",
          "STANA v. ROMANIA",
          "VISY v. SLOVAKIA",
          "YAKUSHEV v. UKRAINE",
          "YERMAKOVICH v. RUSSIA",
          "YEVGENIY ZAKHAROV v. RUSSIA",
          "_NODI v. HUNGARY"
         ],
         "type": "scatter",
         "x": {
          "bdata": "AAAAqPFqT0AAAADRWyJTQAAAAP7KZ1FAAAAA6ynuVUAAAAClo1ZUQAAAAKcgIFxAAAAAPCJYSUAAAABojJ5HQAAAAA2qYlhAAAAAJKrGS0AAAAAqSQtUQAAAANjzqEdAAAAA/HTmRUAAAAAxMEphQAAAANkFeFBAAAAA2gB2VUAAAACAG5JUQAAAAEOK2FdAAAAAhv1/TUAAAABx8MVbQAAAACpXh1JAAAAAXG0EUEAAAAAyq4hLQAAAAAB7v0ZAAAAARMD5R0AAAADluM5QQAAAAGRgGE1AAAAAbK1XVkAAAAA8+z9GQAAAAOg/hVtA",
          "dtype": "f8"
         },
         "xaxis": "x2",
         "y": {
          "bdata": "c9PCW3ZO2j8DUisOq/PQPxD4GbRwm9A/uHZ5m4C02T8rW6DeydDjPzABGQ0TkNo/UBbtKk6Z2D+zEzSUCYbbP00c0QYFdNw/2FTIvIpcpD/fO7CBx97bPyizI288w9g/3Mu93Mu93D+4M320xabXPxFwdSjN6dk/3MM93MM94D+vtoWXv5niPw8Fhl9jyeI/dNFFF1102T/NooO9vwSgP5EGaZAGad0/4mEGYTNa1j8UrkfhehTgP3GSVRMehOE/t3Vbt3Vb1z8rKbyh0SrVPwkDAavjS+M/0pa0JW1Juz8AMt28GyvUP0SSjPMOaNk/",
          "dtype": "f8"
         },
         "yaxis": "y2"
        },
        {
         "hovertemplate": "<b>llama3.3:latest</b><br>Document: %{text}<br>Time: %{x:.1f}s<br>F1: %{y:.3f}<extra></extra>",
         "marker": {
          "color": "#F39C12",
          "opacity": 0.7,
          "size": 10
         },
         "mode": "markers",
         "name": "llama3.3:latest",
         "showlegend": false,
         "text": [
          "ALTAY v. TURKEY (No. 2)",
          "BELYAYEV AND OTHERS v. UKRAINE",
          "BIGUN v. UKRAINE",
          "CABUCAK v. GERMANY",
          "CAN v. TURKEY",
          "CRISTIAN CATALIN UNGUREANU v. ROMANIA",
          "DOKTOROV v. BULGARIA",
          "EGILL EINARSSON v. ICELAND (No. 2)",
          "H_INESS v. NORWAY (1)",
          "KOSAITE - CYPIENE AND OTHERS v. LITHUANIA",
          "LOZOVYYE v. RUSSIA",
          "M.T. v. UKRAINE",
          "MOSKALEV v. RUSSIA",
          "MURUZHEVA v. RUSSIA",
          "O.C.I. AND OTHERS v. ROMANIA",
          "OTGON v. THE REPUBLIC OF MOLDOVA",
          "PAKHTUSOV v. RUSSIA",
          "PANYUSHKINY v. RUSSIA",
          "RESIN v. RUSSIA",
          "S.N. v. RUSSIA",
          "S.V. v. ITALY",
          "SHVIDKIYE v. RUSSIA",
          "SIDOROVA v. RUSSIA",
          "SOLCAN v. ROMANIA",
          "STANA v. ROMANIA",
          "VISY v. SLOVAKIA",
          "YAKUSHEV v. UKRAINE",
          "YERMAKOVICH v. RUSSIA",
          "YEVGENIY ZAKHAROV v. RUSSIA",
          "_NODI v. HUNGARY"
         ],
         "type": "scatter",
         "x": {
          "bdata": "AAAsYW75vkAAAACwNI2qQAAAQLMAEqRAAABgbHQegEAAAMgs0mSnQAAAuCX1uKRAAAAwlMxlm0AAAPCI8omjQAAAwFsepoFAAAAA70dYhkAAAGDVaa6mQAAAcP9nI55AAACIix4noEAAAJqgUrTAQAAAOM+RuahAAABwd+8Hm0AAAAD4HoitQAAAoG1WRK9AAAAkg71et0AAACDhlW+1QAAA3JI0ILBAAADYDgXWrkAAAFAM2a+iQAAA0L54O6BAAAAw6wCPoEAAABblyx7CQAAAwDz5MaVAAADAck/fsEAAAAAl6t+cQAAAoMmnPLVA",
          "dtype": "f8"
         },
         "xaxis": "x2",
         "y": {
          "bdata": "fpxMpSrf3j9JkiRJkiTFPzgkaUxIb9w/AAAAAAAAAACcZ5ZRPvHkP7IywY4Gytk/zuZszuZs4D/8EvZNLv/hP4iIiIiIiKA/AAAAAAAAAABhebUYCZbiPy5d7TYoK9Y/uTfZd9XY4j9/IRjhcTjhP1w2409dzOE/Qv1v3ttk3z/Wpdu5WU3kP29uArwoteU/Ev5M+DPh1z9jIQtZyEKGP96A6wHiC+I/KrrZ/mzo4j/HcRzHcRzLPxwDpjFgGt8/Kz8hzspP5T90rTF1rTHVPx5R43rFtOQ/a3e13r8C5z/g58PvWsPgP6DyY+Nc5ts/",
          "dtype": "f8"
         },
         "yaxis": "y2"
        },
        {
         "hovertemplate": "<b>deepseek-r1:8b</b><br>Document: %{text}<br>Time: %{x:.1f}s<br>F1: %{y:.3f}<extra></extra>",
         "marker": {
          "color": "#9B59B6",
          "opacity": 0.7,
          "size": 10
         },
         "mode": "markers",
         "name": "deepseek-r1:8b",
         "showlegend": false,
         "text": [
          "ALTAY v. TURKEY (No. 2)",
          "BELYAYEV AND OTHERS v. UKRAINE",
          "BIGUN v. UKRAINE",
          "CABUCAK v. GERMANY",
          "CAN v. TURKEY",
          "CRISTIAN CATALIN UNGUREANU v. ROMANIA",
          "DOKTOROV v. BULGARIA",
          "EGILL EINARSSON v. ICELAND (No. 2)",
          "H_INESS v. NORWAY (1)",
          "KOSAITE - CYPIENE AND OTHERS v. LITHUANIA",
          "LOZOVYYE v. RUSSIA",
          "M.T. v. UKRAINE",
          "MOSKALEV v. RUSSIA",
          "MURUZHEVA v. RUSSIA",
          "O.C.I. AND OTHERS v. ROMANIA",
          "OTGON v. THE REPUBLIC OF MOLDOVA",
          "PAKHTUSOV v. RUSSIA",
          "PANYUSHKINY v. RUSSIA",
          "RESIN v. RUSSIA",
          "S.N. v. RUSSIA",
          "S.V. v. ITALY",
          "SHVIDKIYE v. RUSSIA",
          "SIDOROVA v. RUSSIA",
          "SOLCAN v. ROMANIA",
          "STANA v. ROMANIA",
          "VISY v. SLOVAKIA",
          "YAKUSHEV v. UKRAINE",
          "YERMAKOVICH v. RUSSIA",
          "YEVGENIY ZAKHAROV v. RUSSIA",
          "_NODI v. HUNGARY"
         ],
         "type": "scatter",
         "x": {
          "bdata": "AAAAhNq7UkAAAADyt9xbQAAAAGdsRFdAAAAAqc6aUEAAAABA3zhTQAAAANeU8l1AAAAAE8h6UkAAAADgvNVQQAAAAGVh9VZAAACAOWTifUAAAAAPoD5WQAAAAP5tAUtAAADAP249c0AAAIBFs4VhQAAAACqY9WRAAAAAIbYxY0AAAAA6Rt1NQAAAAFnMmHZAAAAAcyQkbkAAAIANG99hQAAAgFSmmmVAAABAD1csd0AAAAATZ6VSQAAAACP8BFRAAACApo3SeEAAAIDFGrthQAAAABpTikRAAAAAy3Z2bkAAAAC3dD1QQAAAAOUfemVA",
          "dtype": "f8"
         },
         "xaxis": "x2",
         "y": {
          "bdata": "dQHF2t+W0D8AAAAAAACwP1zC7WoamtU/dEO6831wxD8OLORu5YvgP2kxolHULdA/pv4be0Xeyz8AAAAAAADYP8D60TBfINE/VmwKIlv2vz/5YzTtCmzaP2zGjw7mcb0/zJvRzLeCxD9VdyippozSP51MbZPq+q0/6G9OTYKE1j82egB8kV3QP6QLhaCQvdc/3o7cG2ZEzT9W6UyB5GmjP1EfGC9nFNc/IOop05DW2D8Ee8fUwN7JP5RjYT4ODN0/IpypjsRY3D8HqqZRflW2PwAAAAAAAAAAC/YC4twauD8j08tWBv/RPxISEhISktk/",
          "dtype": "f8"
         },
         "yaxis": "y2"
        },
        {
         "hovertemplate": "<b>mistral:latest</b><br>Document: %{text}<br>Time: %{x:.1f}s<br>F1: %{y:.3f}<extra></extra>",
         "marker": {
          "color": "#1ABC9C",
          "opacity": 0.7,
          "size": 10
         },
         "mode": "markers",
         "name": "mistral:latest",
         "showlegend": false,
         "text": [
          "ALTAY v. TURKEY (No. 2)",
          "BELYAYEV AND OTHERS v. UKRAINE",
          "BIGUN v. UKRAINE",
          "CABUCAK v. GERMANY",
          "CAN v. TURKEY",
          "CRISTIAN CATALIN UNGUREANU v. ROMANIA",
          "DOKTOROV v. BULGARIA",
          "EGILL EINARSSON v. ICELAND (No. 2)",
          "H_INESS v. NORWAY (1)",
          "KOSAITE - CYPIENE AND OTHERS v. LITHUANIA",
          "LOZOVYYE v. RUSSIA",
          "M.T. v. UKRAINE",
          "MOSKALEV v. RUSSIA",
          "MURUZHEVA v. RUSSIA",
          "O.C.I. AND OTHERS v. ROMANIA",
          "OTGON v. THE REPUBLIC OF MOLDOVA",
          "PAKHTUSOV v. RUSSIA",
          "PANYUSHKINY v. RUSSIA",
          "RESIN v. RUSSIA",
          "S.N. v. RUSSIA",
          "S.V. v. ITALY",
          "SHVIDKIYE v. RUSSIA",
          "SIDOROVA v. RUSSIA",
          "SOLCAN v. ROMANIA",
          "STANA v. ROMANIA",
          "VISY v. SLOVAKIA",
          "YAKUSHEV v. UKRAINE",
          "YERMAKOVICH v. RUSSIA",
          "YEVGENIY ZAKHAROV v. RUSSIA",
          "_NODI v. HUNGARY"
         ],
         "type": "scatter",
         "x": {
          "bdata": "AAAAEiqwYEAAAACKmkBaQAAAgKQYKGNAAADAogFIcEAAAAB9o1hSQAAAgG/BfmBAAAAAQ5YtUkAAAID8UllhQAAAAModOGhAAADI2x9FpkAAAABTFN1UQAAAABlL6l1AAAAAx3aXW0AAAIBpVQBrQAAAAO6EIUFAAAAActH1U0AAAAA2cSlfQAAAAGYsUmlAAAAA73xiUUAAAIBAN41lQAAAAFtosVJAAAAAD7g1YUAAAAD6oi5aQAAAgBNKE2BAAAAA8CmAUEAAAADD+RVmQAAAAG0KMldAAAAA3/DhXkAAAID8GSZnQAAAgLLlsGNA",
          "dtype": "f8"
         },
         "xaxis": "x2",
         "y": {
          "bdata": "cMq0HF2O0z+VK5HqgOa/P+YhF15qHtI/AYoawlhp0j9unvlOGwbhPyDkyNM1qNU/YE1PAgrW1D9hsmMEPpLWP3/Qqji5Tcw/L87tNi33yz8YhmEYhmHgP90LCk8RO9g/TMIkTMIk2D/KrzCCN4fZPwAAAAAAAAAAvLu7u7u72z802ufFE+nYP5gUfSk5xt0/nk/WY+ki1T8hF3IhF3KxP7qUS7mUS90/D+y1Mnvy3D9MK5/qhoHHPzfKF04njNc/YRiGYRiG0T/cm3Bvwr3RP8E3OKFT1N0/VXjftnoR0T9es0fy6KzPP7eL4BXmx9Y/",
          "dtype": "f8"
         },
         "yaxis": "y2"
        },
        {
         "hovertemplate": "<b>incept5/llama3.1-claude:latest</b><br>Document: %{text}<br>Time: %{x:.1f}s<br>F1: %{y:.3f}<extra></extra>",
         "marker": {
          "color": "#F1C40F",
          "opacity": 0.7,
          "size": 10
         },
         "mode": "markers",
         "name": "incept5/llama3.1-claude:latest",
         "showlegend": false,
         "text": [
          "ALTAY v. TURKEY (No. 2)",
          "BELYAYEV AND OTHERS v. UKRAINE",
          "BIGUN v. UKRAINE",
          "CABUCAK v. GERMANY",
          "CAN v. TURKEY",
          "CRISTIAN CATALIN UNGUREANU v. ROMANIA",
          "DOKTOROV v. BULGARIA",
          "EGILL EINARSSON v. ICELAND (No. 2)",
          "H_INESS v. NORWAY (1)",
          "KOSAITE - CYPIENE AND OTHERS v. LITHUANIA",
          "LOZOVYYE v. RUSSIA",
          "M.T. v. UKRAINE",
          "MOSKALEV v. RUSSIA",
          "MURUZHEVA v. RUSSIA",
          "O.C.I. AND OTHERS v. ROMANIA",
          "OTGON v. THE REPUBLIC OF MOLDOVA",
          "PAKHTUSOV v. RUSSIA",
          "PANYUSHKINY v. RUSSIA",
          "RESIN v. RUSSIA",
          "S.N. v. RUSSIA",
          "S.V. v. ITALY",
          "SHVIDKIYE v. RUSSIA",
          "SIDOROVA v. RUSSIA",
          "SOLCAN v. ROMANIA",
          "STANA v. ROMANIA",
          "VISY v. SLOVAKIA",
          "YAKUSHEV v. UKRAINE",
          "YERMAKOVICH v. RUSSIA",
          "YEVGENIY ZAKHAROV v. RUSSIA",
          "_NODI v. HUNGARY"
         ],
         "type": "scatter",
         "x": {
          "bdata": "AAAANRrXVEAAAAASZBdGQAAAAA4q+WFAAAAAwIoNWkAAAAAaJWZRQAAAAJH84llAAAAA3KBITUAAACio2/yuQAAAAGxQIExAAAAAyfhYWEAAAAAAM8BSQAAAAFe5rVRAAAAAqsoXR0AAAADADaNXQAAAAB8nwVBAAAAAhowyS0AAAAATj1tQQAAAAPItw1VAAAAAYimGU0AAAAD2BdxYQAAAAJUq+VFAAAAABABPSUAAAAAkTu1LQAAAAH1VrFNAAAAAfq7WQ0AAAABUeDZMQAAAAG6XIk5AAAAAcEWfSkAAAADcaTRfQAAAABYfslNA",
          "dtype": "f8"
         },
         "xaxis": "x2",
         "y": {
          "bdata": "MDknSwOT0z/btm3btm27P4PXKnitgsc/MJ3/0vkvzT84P7aAFOjdP/cGkRLYhtU/c9pApw102j8AAAAAAAAAAM7arM3arLk/AAMtzc/5yT9u27Zt27bUP5B59fKOx9E/8er0Zbw63T8WTbAvSHTTPx/u4R7u4dY/uxGQ0m4E4T+v67qu67reP3gi/qZOWN8/596/Q1OR0T9cOzDXDsyVPw3eIjaDt9A/naEi9Y+Mzz+WZVmWZVnGP9YSub+1RM4/IP/xH//x3z/ncA7ncA7HP65H4XoUrtc/hA8++OCDpz9aozVaozXSPyF2WhM4Kcs/",
          "dtype": "f8"
         },
         "yaxis": "y2"
        },
        {
         "hovertemplate": "<b>chevalblanc/claude-3-haiku:latest</b><br>Document: %{text}<br>Time: %{x:.1f}s<br>F1: %{y:.3f}<extra></extra>",
         "marker": {
          "color": "#E67E22",
          "opacity": 0.7,
          "size": 10
         },
         "mode": "markers",
         "name": "chevalblanc/claude-3-haiku:latest",
         "showlegend": false,
         "text": [
          "ALTAY v. TURKEY (No. 2)",
          "BELYAYEV AND OTHERS v. UKRAINE",
          "BIGUN v. UKRAINE",
          "CABUCAK v. GERMANY",
          "CAN v. TURKEY",
          "CRISTIAN CATALIN UNGUREANU v. ROMANIA",
          "DOKTOROV v. BULGARIA",
          "EGILL EINARSSON v. ICELAND (No. 2)",
          "H_INESS v. NORWAY (1)",
          "KOSAITE - CYPIENE AND OTHERS v. LITHUANIA",
          "LOZOVYYE v. RUSSIA",
          "M.T. v. UKRAINE",
          "MOSKALEV v. RUSSIA",
          "MURUZHEVA v. RUSSIA",
          "O.C.I. AND OTHERS v. ROMANIA",
          "OTGON v. THE REPUBLIC OF MOLDOVA",
          "PAKHTUSOV v. RUSSIA",
          "PANYUSHKINY v. RUSSIA",
          "RESIN v. RUSSIA",
          "S.N. v. RUSSIA",
          "S.V. v. ITALY",
          "SHVIDKIYE v. RUSSIA",
          "SIDOROVA v. RUSSIA",
          "SOLCAN v. ROMANIA",
          "STANA v. ROMANIA",
          "VISY v. SLOVAKIA",
          "YAKUSHEV v. UKRAINE",
          "YERMAKOVICH v. RUSSIA",
          "YEVGENIY ZAKHAROV v. RUSSIA",
          "_NODI v. HUNGARY"
         ],
         "type": "scatter",
         "x": {
          "bdata": "AACAI5YhZUAAAADCPPBXQAAAAOBuqVpAAAAA6ozJZkAAAAD/8E1hQAAAAHU8kF1AAAAA0rEEWEAAAABrtzFTQAAAAIzp7llAAAAAoeSNV0AAAAA3Xl5lQAAAABm4JVZAAAAALkP7VEAAAADYPFxUQAAAAF1knlZAAAAA6ZM7WEAAAADC2X5aQAAAAGt/jFhAAAAAP7MIX0AAAIBSW6NvQAAAAIVgl1pAAACAUBf1YUAAAAC2DAVbQAAAAIvFYlNAAAAAWGcEWUAAAAAzaFlTQAAAgOKeQGBAAAAArMitZEAAAADV60JZQAAAANssUFFA",
          "dtype": "f8"
         },
         "xaxis": "x2",
         "y": {
          "bdata": "SdUBDHUL2z+SJEmSJEmiP5SzE4kFL8I/ku4vfCpLoT9CHdRBHdThP7lKdXtSlM8/zczMzMzMzD/RDd3QDd3QP4yKxefFqLg/P+mTPumTvj8xxhhjjDHSP7rooosuusg/WqgjijG02j8orqO4juK6PwIkD3W0w8Y/kI+Pj4+Pzz+KXxIh1bLSP4j3v9vNVNE/MBD5ApEv2D9ggqdXZZC/P25MQegf3cY/tjbbPqFH3T/scFLmPinoPyzwv+jZDcg/4yu+4iu+3j988MEHH3y4P6CTdPUJk9s/1zoh7EKI2D8mL3Wxe/3TP0V/J6vljbE/",
          "dtype": "f8"
         },
         "yaxis": "y2"
        },
        {
         "hovertemplate": "<b>llama4:16x17b</b><br>Document: %{text}<br>Time: %{x:.1f}s<br>F1: %{y:.3f}<extra></extra>",
         "marker": {
          "color": "#95A5A6",
          "opacity": 0.7,
          "size": 10
         },
         "mode": "markers",
         "name": "llama4:16x17b",
         "showlegend": false,
         "text": [
          "ALTAY v. TURKEY (No. 2)",
          "BELYAYEV AND OTHERS v. UKRAINE",
          "BIGUN v. UKRAINE",
          "CABUCAK v. GERMANY",
          "CAN v. TURKEY",
          "CRISTIAN CATALIN UNGUREANU v. ROMANIA",
          "DOKTOROV v. BULGARIA",
          "EGILL EINARSSON v. ICELAND (No. 2)",
          "H_INESS v. NORWAY (1)",
          "KOSAITE - CYPIENE AND OTHERS v. LITHUANIA",
          "LOZOVYYE v. RUSSIA",
          "M.T. v. UKRAINE",
          "MOSKALEV v. RUSSIA",
          "MURUZHEVA v. RUSSIA",
          "O.C.I. AND OTHERS v. ROMANIA",
          "OTGON v. THE REPUBLIC OF MOLDOVA",
          "PAKHTUSOV v. RUSSIA",
          "PANYUSHKINY v. RUSSIA",
          "RESIN v. RUSSIA",
          "S.N. v. RUSSIA",
          "S.V. v. ITALY",
          "SHVIDKIYE v. RUSSIA",
          "SIDOROVA v. RUSSIA",
          "SOLCAN v. ROMANIA",
          "STANA v. ROMANIA",
          "VISY v. SLOVAKIA",
          "YAKUSHEV v. UKRAINE",
          "YERMAKOVICH v. RUSSIA",
          "YEVGENIY ZAKHAROV v. RUSSIA",
          "_NODI v. HUNGARY"
         ],
         "type": "scatter",
         "x": {
          "bdata": "AACAJ0QEgUAAAEBUlvh6QAAAIE8bMoFAAACAQaA+gUAAACBQTcqIQAAAoHvtzYBAAACgOM4jhEAAAMDUOC5/QAAAcM/uy5JAAADgYEp4hEAAAIDsASWAQAAAgP0FeYNAAADgEjENgUAAAKCzUASBQAAAoATXHoBAAABgkgE0hEAAAGBpQ72CQAAAYJQ/7YFAAACAcNiIf0AAAMAGXq2EQAAAgL2MloBAAAAABLukf0AAAGBXozyLQAAAAE3+boJAAAAgEGM1hEAAAMBh6FWAQAAAoKcTX4hAAADAdHbqe0AAAGDaaheBQAAAwLuWgnxA",
          "dtype": "f8"
         },
         "xaxis": "x2",
         "y": {
          "bdata": "AAAAAAAAAAAAAAAAAAAAAAAAAAAAAAAAAAAAAAAAAAAAAAAAAAAAAPJCVMJrRbY/HMdxHMdxvD8AAAAAAAAAAAAAAAAAAAAAAAAAAAAAAAAAAAAAAAAAAAAAAAAAAAAAAAAAAAAAAAAAAAAAAAAAAAAAAAAAAAAAkFyJiYKa2z8tKQdEhnu1P45Shl34H7o/AAAAAAAAAAAAAAAAAAAAAAAAAAAAAAAAAAAAAAAAAAAAAAAAAAAAAAAAAAAAAAAAHMdxHMdx1D8AAAAAAAAAAKXoYW9Uir4/AAAAAAAAAAAAAAAAAAAAAH4MzsfgfJw/",
          "dtype": "f8"
         },
         "yaxis": "y2"
        },
        {
         "hovertemplate": "<b>mixtral:8x7b</b><br>Document: %{text}<br>Time: %{x:.1f}s<br>F1: %{y:.3f}<extra></extra>",
         "marker": {
          "color": "#34495E",
          "opacity": 0.7,
          "size": 10
         },
         "mode": "markers",
         "name": "mixtral:8x7b",
         "showlegend": false,
         "text": [
          "ALTAY v. TURKEY (No. 2)",
          "BELYAYEV AND OTHERS v. UKRAINE",
          "BIGUN v. UKRAINE",
          "CABUCAK v. GERMANY",
          "CAN v. TURKEY",
          "CRISTIAN CATALIN UNGUREANU v. ROMANIA",
          "DOKTOROV v. BULGARIA",
          "EGILL EINARSSON v. ICELAND (No. 2)",
          "H_INESS v. NORWAY (1)",
          "KOSAITE - CYPIENE AND OTHERS v. LITHUANIA",
          "LOZOVYYE v. RUSSIA",
          "M.T. v. UKRAINE",
          "MOSKALEV v. RUSSIA",
          "MURUZHEVA v. RUSSIA",
          "O.C.I. AND OTHERS v. ROMANIA",
          "OTGON v. THE REPUBLIC OF MOLDOVA",
          "PAKHTUSOV v. RUSSIA",
          "PANYUSHKINY v. RUSSIA",
          "RESIN v. RUSSIA",
          "S.N. v. RUSSIA",
          "S.V. v. ITALY",
          "SHVIDKIYE v. RUSSIA",
          "SIDOROVA v. RUSSIA",
          "SOLCAN v. ROMANIA",
          "STANA v. ROMANIA",
          "VISY v. SLOVAKIA",
          "YAKUSHEV v. UKRAINE",
          "YERMAKOVICH v. RUSSIA",
          "YEVGENIY ZAKHAROV v. RUSSIA",
          "_NODI v. HUNGARY"
         ],
         "type": "scatter",
         "x": {
          "bdata": "AADoJXlFpEAAAIA6ju6AQAAAYNc8d4VAAAAgis/LmEAAAEA3ZhqGQAAA4NvgKpZAAADAC/XjikAAALCbzc2UQAAAQGHALHxAAABA3MKAg0AAAAB3MOd6QAAA8PastZJAAABAHrdLhUAAAACh2G2gQAAAwFFxKYxAAACA9AtViUAAAABO5OKCQAAAwIC/UnZAAAAwxCvFmUAAAMihAPGyQAAAQAIdmpNAAAAwOvgOkkAAAICsSF+AQAAAAFD/2IJAAADAeyL4gUAAAIB4xaByQAAAoAymyIhAAACA9S4lokAAAIA9oAR/QAAAQE1RGHxA",
          "dtype": "f8"
         },
         "xaxis": "x2",
         "y": {
          "bdata": "vEiOSFC61j9ONtlkk022Pz/44IMPPsg/jF03K22Z1D+XcimXcinXP6LnXKSk3M8/DkxEJam4xj8Me5geIhfePxAQEBAQEKA/lVmolFmopD8c0j8b0j+rP8PH37pd4N0/D3ujUvSw2z/ZPJ53OQTTPzy90zu908s/KFjTk4CC1T/0Qi/0Qi/WP9EZrNAZrKA/BhcbXGxw1z81lwiOX0viP4rTZYrTZdo/tO1V3JS92D+JiIiIiIi4PwAAAAAAAAAAcPmWb/mWxz8AAAAAAAAAANmXfdmXfck/rH3D2jesrT8g/uEf/uGvP7iTSriTSqg/",
          "dtype": "f8"
         },
         "yaxis": "y2"
        },
        {
         "hovertemplate": "<b>dolphin3:8b</b><br>Document: %{text}<br>Time: %{x:.1f}s<br>F1: %{y:.3f}<extra></extra>",
         "marker": {
          "color": "#16A085",
          "opacity": 0.7,
          "size": 10
         },
         "mode": "markers",
         "name": "dolphin3:8b",
         "showlegend": false,
         "text": [
          "ALTAY v. TURKEY (No. 2)",
          "BELYAYEV AND OTHERS v. UKRAINE",
          "BIGUN v. UKRAINE",
          "CABUCAK v. GERMANY",
          "CAN v. TURKEY",
          "CRISTIAN CATALIN UNGUREANU v. ROMANIA",
          "DOKTOROV v. BULGARIA",
          "EGILL EINARSSON v. ICELAND (No. 2)",
          "H_INESS v. NORWAY (1)",
          "KOSAITE - CYPIENE AND OTHERS v. LITHUANIA",
          "LOZOVYYE v. RUSSIA",
          "M.T. v. UKRAINE",
          "MOSKALEV v. RUSSIA",
          "MURUZHEVA v. RUSSIA",
          "O.C.I. AND OTHERS v. ROMANIA",
          "OTGON v. THE REPUBLIC OF MOLDOVA",
          "PAKHTUSOV v. RUSSIA",
          "PANYUSHKINY v. RUSSIA",
          "RESIN v. RUSSIA",
          "S.N. v. RUSSIA",
          "S.V. v. ITALY",
          "SHVIDKIYE v. RUSSIA",
          "SIDOROVA v. RUSSIA",
          "SOLCAN v. ROMANIA",
          "STANA v. ROMANIA",
          "VISY v. SLOVAKIA",
          "YAKUSHEV v. UKRAINE",
          "YERMAKOVICH v. RUSSIA",
          "YEVGENIY ZAKHAROV v. RUSSIA",
          "_NODI v. HUNGARY"
         ],
         "type": "scatter",
         "x": {
          "bdata": "AAAAE5aUWUAAAAAn/4xSQAAAAJ4V7lxAAAD4NbLFsEAAAADylsdPQAAAANxHB1RAAAAAQOcITkAAAABq7H9MQAAAAGguhlJAAAAA6u0HUEAAAADeV6dIQAAAAPpgLU9AAAAAZEYlSEAAAADQx9JDQAAAACb/VElAAAAAnrh8SkAAAAD28ThVQAAAAPA5n0VAAAAAQAkuVkAAAADun6ZJQAAAACNCkVFAAAAAftODT0AAAAAFnjlRQAAAANMOtllAAAAAwvn1T0AAAABCsrtRQAAAAOJKBU1AAAAA8gJ+UUAAAACecBFJQAAAADKndVdA",
          "dtype": "f8"
         },
         "xaxis": "x2",
         "y": {
          "bdata": "jhFM9Heyyj/bfDnAss3HP7QQUp5Mbcs/AAAAAAAAAAAcx3Ecx3HUPyPHxJaV/s0/8vHx8fHx0T+aqhH3HuPMPwRZge5Eb7E/GYZhGIZhqD+cMVKhqpzBP+IrvuIrvsI/0iZ80SZ8wT8AAAAAAAAAACrTzePwd88/ouflhh161j+Q4D6C+wjGPzglc8l2U8I/aRdaqada2D9XEJMriMmFP+E+gvsI7tM/Xhuaeptl1j8PDw8PDw+3P7LkF0t+sbQ/3zE1sHdM0T+cnpqgF+XAP/DsygdKP8k/AAAAAAAAAADc29vb29urP0zeAkzeAsw/",
          "dtype": "f8"
         },
         "yaxis": "y2"
        },
        {
         "hovertemplate": "<b>dolphin-mixtral:8x7b</b><br>Document: %{text}<br>Time: %{x:.1f}s<br>F1: %{y:.3f}<extra></extra>",
         "marker": {
          "color": "#8E44AD",
          "opacity": 0.7,
          "size": 10
         },
         "mode": "markers",
         "name": "dolphin-mixtral:8x7b",
         "showlegend": false,
         "text": [
          "ALTAY v. TURKEY (No. 2)",
          "BELYAYEV AND OTHERS v. UKRAINE",
          "BIGUN v. UKRAINE",
          "CABUCAK v. GERMANY",
          "CAN v. TURKEY",
          "CRISTIAN CATALIN UNGUREANU v. ROMANIA",
          "DOKTOROV v. BULGARIA",
          "EGILL EINARSSON v. ICELAND (No. 2)",
          "H_INESS v. NORWAY (1)",
          "KOSAITE - CYPIENE AND OTHERS v. LITHUANIA",
          "LOZOVYYE v. RUSSIA",
          "M.T. v. UKRAINE",
          "MOSKALEV v. RUSSIA",
          "MURUZHEVA v. RUSSIA",
          "O.C.I. AND OTHERS v. ROMANIA",
          "OTGON v. THE REPUBLIC OF MOLDOVA",
          "PAKHTUSOV v. RUSSIA",
          "PANYUSHKINY v. RUSSIA",
          "RESIN v. RUSSIA",
          "S.N. v. RUSSIA",
          "S.V. v. ITALY",
          "SHVIDKIYE v. RUSSIA",
          "SIDOROVA v. RUSSIA",
          "SOLCAN v. ROMANIA",
          "STANA v. ROMANIA",
          "VISY v. SLOVAKIA",
          "YAKUSHEV v. UKRAINE",
          "YERMAKOVICH v. RUSSIA",
          "YEVGENIY ZAKHAROV v. RUSSIA",
          "_NODI v. HUNGARY"
         ],
         "type": "scatter",
         "x": {
          "bdata": "AAD4VnVyqEAAANB5cj2lQAAAsIjZqq1AAACw80VrnEAAAEhUfEWhQACAD6lwYPRAAABgHpZXhkAAAKCyEJmTQAAAgNpbCntAAAAQC7/o20AAAMDsah+AQAAAg3d76vJAAADg0P+/iEAAAOjetHqxQAAAUPPP+JJAAABgZ1aVlkAAAGhws86lQAAAaAXNfq5AAADgwgbMkEAAAFjqB1ypQAAA8AgcxJFAAACAc7cFkEAAAKEla1XxQAAA4PCtBKBAAABAg7lcl0AAAFBGaSStQAAAYFTyQZpAAACgOVIIrkAAgCNPQaDyQAAAUOq0EKZA",
          "dtype": "f8"
         },
         "xaxis": "x2",
         "y": {
          "bdata": "osn0IrHI1j8ZhmEYhmG4PzTPaAKcNc8/KOpFHYjTxz/knWIPlZfhPwAAAAAAAAAAAAAAAAAAAABmmjEDYKbJP2vAFWvAFbc/jFv2KTuWtD+wM24WmtS8PwAAAAAAAAAAwyu8wiu81j8o3AzxdvTYP2czgnXNo9M/rFTWk/dh0j/qLaS3kN7SPwQGQrePxNo/X64dmGsHzj9dAuDoMJqhP56X43k5nsc/gXKi+kU+uT8AAAAAAAAAAGSRaewZ8tQ/sQVbsAVb3j+EMNRzQwjTP1KP0cZgF94/CJCIb+6XzD8AAAAAAAAAAEmK7MPiKdA/",
          "dtype": "f8"
         },
         "yaxis": "y2"
        },
        {
         "hovertemplate": "<b>%{x}</b><br>F1 per 1000s: %{y:.3f}<extra></extra>",
         "marker": {
          "color": [
           "#2ECC71",
           "#E67E22",
           "#9B59B6",
           "#3498DB",
           "#1ABC9C",
           "#F1C40F",
           "#16A085",
           "#E74C3C",
           "#34495E",
           "#F39C12",
           "#95A5A6",
           "#8E44AD"
          ]
         },
         "name": "Efficiency",
         "type": "bar",
         "x": [
          "gemma3:12b",
          "chevalblanc/claude-3-haiku:latest",
          "deepseek-r1:8b",
          "gemma3:4b",
          "mistral:latest",
          "incept5/llama3.1-claude:latest",
          "dolphin3:8b",
          "gemma3:1b",
          "mixtral:8x7b",
          "llama3.3:latest",
          "llama4:16x17b",
          "dolphin-mixtral:8x7b"
         ],
         "xaxis": "x3",
         "y": {
          "bdata": "yuWyCCZiFUBk+meoSHwCQEInxYvllvk/qr18jCYe+T9GyaE/P5b3P7plxkWuyvU/Jbfw9Lud6j/CiUrXmODjP0rAaF4yr8o/nV/sZcVewD8jwl2hDjGyP6zX2AafOpE/",
          "dtype": "f8"
         },
         "yaxis": "y3"
        },
        {
         "marker": {
          "color": "#E74C3C"
         },
         "name": "gemma3:1b",
<<<<<<< HEAD
         "text": [
          "406.0m",
          "406.0m"
         ],
         "textposition": "outside",
         "type": "bar",
         "x": [
          "ALTAY v. TURKEY (No. 2)",
          "BELYAYEV AND OTHERS v. UKRAINE"
         ],
         "y": {
          "bdata": "ReK19W5geUBF4rX1bmB5QA==",
          "dtype": "f8"
         }
        },
        {
         "customdata": {
          "bdata": "KSXxBwK97UApJfEHAr3tQA==",
=======
         "showlegend": false,
         "type": "box",
         "xaxis": "x4",
         "y": {
          "bdata": "AAAA4LnnRkAAAACWoTdFQAAAAFiV6SxAAAAAXLGeRUAAAAD0R79AQAAAAGSAtUZAAAAAaJfBQUAAAMBhlmabQAAAAPigoixAAAAA8AybLkAAAAA6kUZJQAAAAOAQikdAAAAAZhICQUAAAIBo/hudQAAAAGR9zT5AAAAA2FXcRUAAAABE2VlDQAAAADDYVC1AAAAASlO0RUAAAAC8lyJKQAAAALikBS1AAACAEq6Cm0AAAAByPblAQAAAALKty0JAAAAAVna2QkAAAABzxi1TQAAAAEiOvT5AAAAAJCO9REAAAADUpftCQAAAANIaV0RA",
>>>>>>> a813ab3a2a19b49bf703a1dc6fd99353356c8a2d
          "dtype": "f8"
         },
         "yaxis": "y4"
        },
        {
         "marker": {
          "color": "#3498DB"
         },
         "name": "gemma3:4b",
<<<<<<< HEAD
         "text": [
          "1015.1m",
          "1015.1m"
         ],
         "textposition": "outside",
         "type": "bar",
         "x": [
          "ALTAY v. TURKEY (No. 2)",
          "BELYAYEV AND OTHERS v. UKRAINE"
         ],
         "y": {
          "bdata": "1lojs4q4j0DWWiOziriPQA==",
          "dtype": "f8"
         }
        },
        {
         "customdata": {
          "bdata": "IYRaBmjK90AhhFoGaMr3QA==",
=======
         "showlegend": false,
         "type": "box",
         "xaxis": "x4",
         "y": {
          "bdata": "AAAA1+6OUEAAAACaLKlIQAAAAGNMBFBAAAAAtMUgTkAAAACOJwRJQAAAABQyMkBAAAAAWu83QUAAAACIPUtLQAAAAAsA9GdAAAAADZpxV0AAAABKQtJPQAAAAFgOtUpAAAAAhj6oTUAAAAB6zuRVQAAAAPyTYktAAABQa8lwpEAAAAC7pMNXQAAAACLTMEpAAAAAMNqAQUAAAAAMbHlDQAAAAKwSoElAAAAAbnHiTUAAAADg+H1GQAAAABb3sFZAAAAAYO7UQEAAAACTu11QQAAAAJ4Z3UJAAAAA0JlnTUAAAACAlgxRQAAAAIP6wlJA",
>>>>>>> a813ab3a2a19b49bf703a1dc6fd99353356c8a2d
          "dtype": "f8"
         },
         "yaxis": "y4"
        },
        {
         "marker": {
          "color": "#2ECC71"
         },
         "name": "gemma3:12b",
<<<<<<< HEAD
         "text": [
          "1624.1m",
          "1624.1m"
         ],
         "textposition": "outside",
         "type": "bar",
         "x": [
          "ALTAY v. TURKEY (No. 2)",
          "BELYAYEV AND OTHERS v. UKRAINE"
         ],
         "y": {
          "bdata": "ReK19W5gmUBF4rX1bmCZQA==",
          "dtype": "f8"
         }
        },
        {
         "customdata": {
          "bdata": "IYRaBmjK50AhhFoGaMrnQA==",
          "dtype": "f8"
         },
         "hovertemplate": "<b>llama3.3:latest</b><br>Document: %{x}<br>Runtime: %{y:.1f} min<br>(%{customdata:.0f} sec)<extra></extra>",
         "marker": {
          "color": "#95A5A6"
         },
         "name": "llama3.3:latest",
         "text": [
          "812.1m",
          "812.1m"
         ],
         "textposition": "outside",
         "type": "bar",
         "x": [
          "ALTAY v. TURKEY (No. 2)",
          "BELYAYEV AND OTHERS v. UKRAINE"
         ],
         "y": {
          "bdata": "ReK19W5giUBF4rX1bmCJQA==",
          "dtype": "f8"
         }
        },
        {
         "customdata": {
          "bdata": "IYRaBmjK50AhhFoGaMrnQA==",
          "dtype": "f8"
         },
         "hovertemplate": "<b>deepseek-r1:8b</b><br>Document: %{x}<br>Runtime: %{y:.1f} min<br>(%{customdata:.0f} sec)<extra></extra>",
         "marker": {
          "color": "#95A5A6"
         },
         "name": "deepseek-r1:8b",
         "text": [
          "812.1m",
          "812.1m"
         ],
         "textposition": "outside",
         "type": "bar",
         "x": [
          "ALTAY v. TURKEY (No. 2)",
          "BELYAYEV AND OTHERS v. UKRAINE"
         ],
         "y": {
          "bdata": "ReK19W5giUBF4rX1bmCJQA==",
          "dtype": "f8"
         }
        },
        {
         "customdata": {
          "bdata": "63ZRn11p5UDrdlGfXWnlQA==",
=======
         "showlegend": false,
         "type": "box",
         "xaxis": "x4",
         "y": {
          "bdata": "AAAAqPFqT0AAAADRWyJTQAAAAP7KZ1FAAAAA6ynuVUAAAAClo1ZUQAAAAKcgIFxAAAAAPCJYSUAAAABojJ5HQAAAAA2qYlhAAAAAJKrGS0AAAAAqSQtUQAAAANjzqEdAAAAA/HTmRUAAAAAxMEphQAAAANkFeFBAAAAA2gB2VUAAAACAG5JUQAAAAEOK2FdAAAAAhv1/TUAAAABx8MVbQAAAACpXh1JAAAAAXG0EUEAAAAAyq4hLQAAAAAB7v0ZAAAAARMD5R0AAAADluM5QQAAAAGRgGE1AAAAAbK1XVkAAAAA8+z9GQAAAAOg/hVtA",
>>>>>>> a813ab3a2a19b49bf703a1dc6fd99353356c8a2d
          "dtype": "f8"
         },
         "yaxis": "y4"
        },
        {
         "marker": {
          "color": "#F39C12"
         },
         "name": "llama3.3:latest",
         "showlegend": false,
         "type": "box",
         "xaxis": "x4",
         "y": {
          "bdata": "AAAsYW75vkAAAACwNI2qQAAAQLMAEqRAAABgbHQegEAAAMgs0mSnQAAAuCX1uKRAAAAwlMxlm0AAAPCI8omjQAAAwFsepoFAAAAA70dYhkAAAGDVaa6mQAAAcP9nI55AAACIix4noEAAAJqgUrTAQAAAOM+RuahAAABwd+8Hm0AAAAD4HoitQAAAoG1WRK9AAAAkg71et0AAACDhlW+1QAAA3JI0ILBAAADYDgXWrkAAAFAM2a+iQAAA0L54O6BAAAAw6wCPoEAAABblyx7CQAAAwDz5MaVAAADAck/fsEAAAAAl6t+cQAAAoMmnPLVA",
          "dtype": "f8"
         },
         "yaxis": "y4"
        },
        {
         "marker": {
          "color": "#9B59B6"
         },
         "name": "deepseek-r1:8b",
         "showlegend": false,
         "type": "box",
         "xaxis": "x4",
         "y": {
          "bdata": "AAAAhNq7UkAAAADyt9xbQAAAAGdsRFdAAAAAqc6aUEAAAABA3zhTQAAAANeU8l1AAAAAE8h6UkAAAADgvNVQQAAAAGVh9VZAAACAOWTifUAAAAAPoD5WQAAAAP5tAUtAAADAP249c0AAAIBFs4VhQAAAACqY9WRAAAAAIbYxY0AAAAA6Rt1NQAAAAFnMmHZAAAAAcyQkbkAAAIANG99hQAAAgFSmmmVAAABAD1csd0AAAAATZ6VSQAAAACP8BFRAAACApo3SeEAAAIDFGrthQAAAABpTikRAAAAAy3Z2bkAAAAC3dD1QQAAAAOUfemVA",
          "dtype": "f8"
         },
         "yaxis": "y4"
        },
        {
         "marker": {
          "color": "#1ABC9C"
         },
         "name": "mistral:latest",
<<<<<<< HEAD
         "text": [
          "730.8m",
          "730.8m"
=======
         "showlegend": false,
         "type": "box",
         "xaxis": "x4",
         "y": {
          "bdata": "AAAAEiqwYEAAAACKmkBaQAAAgKQYKGNAAADAogFIcEAAAAB9o1hSQAAAgG/BfmBAAAAAQ5YtUkAAAID8UllhQAAAAModOGhAAADI2x9FpkAAAABTFN1UQAAAABlL6l1AAAAAx3aXW0AAAIBpVQBrQAAAAO6EIUFAAAAActH1U0AAAAA2cSlfQAAAAGYsUmlAAAAA73xiUUAAAIBAN41lQAAAAFtosVJAAAAAD7g1YUAAAAD6oi5aQAAAgBNKE2BAAAAA8CmAUEAAAADD+RVmQAAAAG0KMldAAAAA3/DhXkAAAID8GSZnQAAAgLLlsGNA",
          "dtype": "f8"
         },
         "yaxis": "y4"
        },
        {
         "marker": {
          "color": "#F1C40F"
         },
         "name": "incept5/llama3.1-claude:latest",
         "showlegend": false,
         "type": "box",
         "xaxis": "x4",
         "y": {
          "bdata": "AAAANRrXVEAAAAASZBdGQAAAAA4q+WFAAAAAwIoNWkAAAAAaJWZRQAAAAJH84llAAAAA3KBITUAAACio2/yuQAAAAGxQIExAAAAAyfhYWEAAAAAAM8BSQAAAAFe5rVRAAAAAqsoXR0AAAADADaNXQAAAAB8nwVBAAAAAhowyS0AAAAATj1tQQAAAAPItw1VAAAAAYimGU0AAAAD2BdxYQAAAAJUq+VFAAAAABABPSUAAAAAkTu1LQAAAAH1VrFNAAAAAfq7WQ0AAAABUeDZMQAAAAG6XIk5AAAAAcEWfSkAAAADcaTRfQAAAABYfslNA",
          "dtype": "f8"
         },
         "yaxis": "y4"
        },
        {
         "marker": {
          "color": "#E67E22"
         },
         "name": "chevalblanc/claude-3-haiku:latest",
         "showlegend": false,
         "type": "box",
         "xaxis": "x4",
         "y": {
          "bdata": "AACAI5YhZUAAAADCPPBXQAAAAOBuqVpAAAAA6ozJZkAAAAD/8E1hQAAAAHU8kF1AAAAA0rEEWEAAAABrtzFTQAAAAIzp7llAAAAAoeSNV0AAAAA3Xl5lQAAAABm4JVZAAAAALkP7VEAAAADYPFxUQAAAAF1knlZAAAAA6ZM7WEAAAADC2X5aQAAAAGt/jFhAAAAAP7MIX0AAAIBSW6NvQAAAAIVgl1pAAACAUBf1YUAAAAC2DAVbQAAAAIvFYlNAAAAAWGcEWUAAAAAzaFlTQAAAgOKeQGBAAAAArMitZEAAAADV60JZQAAAANssUFFA",
          "dtype": "f8"
         },
         "yaxis": "y4"
        },
        {
         "marker": {
          "color": "#95A5A6"
         },
         "name": "llama4:16x17b",
         "showlegend": false,
         "type": "box",
         "xaxis": "x4",
         "y": {
          "bdata": "AACAJ0QEgUAAAEBUlvh6QAAAIE8bMoFAAACAQaA+gUAAACBQTcqIQAAAoHvtzYBAAACgOM4jhEAAAMDUOC5/QAAAcM/uy5JAAADgYEp4hEAAAIDsASWAQAAAgP0FeYNAAADgEjENgUAAAKCzUASBQAAAoATXHoBAAABgkgE0hEAAAGBpQ72CQAAAYJQ/7YFAAACAcNiIf0AAAMAGXq2EQAAAgL2MloBAAAAABLukf0AAAGBXozyLQAAAAE3+boJAAAAgEGM1hEAAAMBh6FWAQAAAoKcTX4hAAADAdHbqe0AAAGDaaheBQAAAwLuWgnxA",
          "dtype": "f8"
         },
         "yaxis": "y4"
        },
        {
         "marker": {
          "color": "#34495E"
         },
         "name": "mixtral:8x7b",
         "showlegend": false,
         "type": "box",
         "xaxis": "x4",
         "y": {
          "bdata": "AADoJXlFpEAAAIA6ju6AQAAAYNc8d4VAAAAgis/LmEAAAEA3ZhqGQAAA4NvgKpZAAADAC/XjikAAALCbzc2UQAAAQGHALHxAAABA3MKAg0AAAAB3MOd6QAAA8PastZJAAABAHrdLhUAAAACh2G2gQAAAwFFxKYxAAACA9AtViUAAAABO5OKCQAAAwIC/UnZAAAAwxCvFmUAAAMihAPGyQAAAQAIdmpNAAAAwOvgOkkAAAICsSF+AQAAAAFD/2IJAAADAeyL4gUAAAIB4xaByQAAAoAymyIhAAACA9S4lokAAAIA9oAR/QAAAQE1RGHxA",
          "dtype": "f8"
         },
         "yaxis": "y4"
        },
        {
         "marker": {
          "color": "#16A085"
         },
         "name": "dolphin3:8b",
         "showlegend": false,
         "type": "box",
         "xaxis": "x4",
         "y": {
          "bdata": "AAAAE5aUWUAAAAAn/4xSQAAAAJ4V7lxAAAD4NbLFsEAAAADylsdPQAAAANxHB1RAAAAAQOcITkAAAABq7H9MQAAAAGguhlJAAAAA6u0HUEAAAADeV6dIQAAAAPpgLU9AAAAAZEYlSEAAAADQx9JDQAAAACb/VElAAAAAnrh8SkAAAAD28ThVQAAAAPA5n0VAAAAAQAkuVkAAAADun6ZJQAAAACNCkVFAAAAAftODT0AAAAAFnjlRQAAAANMOtllAAAAAwvn1T0AAAABCsrtRQAAAAOJKBU1AAAAA8gJ+UUAAAACecBFJQAAAADKndVdA",
          "dtype": "f8"
         },
         "yaxis": "y4"
        },
        {
         "marker": {
          "color": "#8E44AD"
         },
         "name": "dolphin-mixtral:8x7b",
         "showlegend": false,
         "type": "box",
         "xaxis": "x4",
         "y": {
          "bdata": "AAD4VnVyqEAAANB5cj2lQAAAsIjZqq1AAACw80VrnEAAAEhUfEWhQACAD6lwYPRAAABgHpZXhkAAAKCyEJmTQAAAgNpbCntAAAAQC7/o20AAAMDsah+AQAAAg3d76vJAAADg0P+/iEAAAOjetHqxQAAAUPPP+JJAAABgZ1aVlkAAAGhws86lQAAAaAXNfq5AAADgwgbMkEAAAFjqB1ypQAAA8AgcxJFAAACAc7cFkEAAAKEla1XxQAAA4PCtBKBAAABAg7lcl0AAAFBGaSStQAAAYFTyQZpAAACgOVIIrkAAgCNPQaDyQAAAUOq0EKZA",
          "dtype": "f8"
         },
         "yaxis": "y4"
        },
        {
         "customdata": [
          "dolphin-mixtral:8x7b - CRISTIAN CATALIN UNGUREANU v. ROMANIA",
          "dolphin-mixtral:8x7b - M.T. v. UKRAINE",
          "dolphin-mixtral:8x7b - YEVGENIY ZAKHAROV v. RUSSIA",
          "dolphin-mixtral:8x7b - SIDOROVA v. RUSSIA",
          "dolphin-mixtral:8x7b - KOSAITE - CYPIENE AND OTHERS v. LITHUANIA",
          "llama3.3:latest - VISY v. SLOVAKIA",
          "llama3.3:latest - MURUZHEVA v. RUSSIA",
          "llama3.3:latest - ALTAY v. TURKEY (No. 2)",
          "llama3.3:latest - RESIN v. RUSSIA",
          "llama3.3:latest - S.N. v. RUSSIA"
>>>>>>> a813ab3a2a19b49bf703a1dc6fd99353356c8a2d
         ],
         "hovertemplate": "<b>%{customdata}</b><br>Time: %{y:.1f}s (%{y:.1f}m)<extra></extra>",
         "marker": {
          "color": [
           "#8E44AD",
           "#8E44AD",
           "#8E44AD",
           "#8E44AD",
           "#8E44AD",
           "#F39C12",
           "#F39C12",
           "#F39C12",
           "#F39C12",
           "#F39C12"
          ]
         },
         "name": "Slowest Combinations",
         "type": "bar",
         "x": [
          "dolphin-mixtral...<br>CRISTIAN CATALIN UNG...",
          "dolphin-mixtral...<br>M.T. v. UKRAINE...",
          "dolphin-mixtral...<br>YEVGENIY ZAKHAROV v....",
          "dolphin-mixtral...<br>SIDOROVA v. RUSSIA...",
          "dolphin-mixtral...<br>KOSAITE - CYPIENE AN...",
          "llama3.3:latest...<br>VISY v. SLOVAKIA...",
          "llama3.3:latest...<br>MURUZHEVA v. RUSSIA...",
          "llama3.3:latest...<br>ALTAY v. TURKEY (No....",
          "llama3.3:latest...<br>RESIN v. RUSSIA...",
          "llama3.3:latest...<br>S.N. v. RUSSIA..."
         ],
         "xaxis": "x5",
         "y": {
<<<<<<< HEAD
          "bdata": "chiKQ8rWhkByGIpDytaGQA==",
          "dtype": "f8"
         }
        },
        {
         "customdata": {
          "bdata": "IYRaBmjK50AhhFoGaMrnQA==",
          "dtype": "f8"
         },
         "hovertemplate": "<b>incept5/llama3.1-claude:latest</b><br>Document: %{x}<br>Runtime: %{y:.1f} min<br>(%{customdata:.0f} sec)<extra></extra>",
         "marker": {
          "color": "#95A5A6"
         },
         "name": "incept5/llama3.1-claude:latest",
         "text": [
          "812.1m",
          "812.1m"
         ],
         "textposition": "outside",
         "type": "bar",
         "x": [
          "ALTAY v. TURKEY (No. 2)",
          "BELYAYEV AND OTHERS v. UKRAINE"
         ],
         "y": {
          "bdata": "ReK19W5giUBF4rX1bmCJQA==",
          "dtype": "f8"
         }
        },
        {
         "customdata": {
          "bdata": "IYRaBmjK50AhhFoGaMrnQA==",
          "dtype": "f8"
         },
         "hovertemplate": "<b>chevalblanc/claude-3-haiku:latest</b><br>Document: %{x}<br>Runtime: %{y:.1f} min<br>(%{customdata:.0f} sec)<extra></extra>",
         "marker": {
          "color": "#95A5A6"
         },
         "name": "chevalblanc/claude-3-haiku:latest",
         "text": [
          "812.1m",
          "812.1m"
         ],
         "textposition": "outside",
         "type": "bar",
         "x": [
          "ALTAY v. TURKEY (No. 2)",
          "BELYAYEV AND OTHERS v. UKRAINE"
         ],
         "y": {
          "bdata": "ReK19W5giUBF4rX1bmCJQA==",
          "dtype": "f8"
         }
        },
        {
         "customdata": {
          "bdata": "IYRaBmjK50AhhFoGaMrnQA==",
          "dtype": "f8"
         },
         "hovertemplate": "<b>llama4:16x17b</b><br>Document: %{x}<br>Runtime: %{y:.1f} min<br>(%{customdata:.0f} sec)<extra></extra>",
         "marker": {
          "color": "#95A5A6"
         },
         "name": "llama4:16x17b",
         "text": [
          "812.1m",
          "812.1m"
         ],
         "textposition": "outside",
         "type": "bar",
         "x": [
          "ALTAY v. TURKEY (No. 2)",
          "BELYAYEV AND OTHERS v. UKRAINE"
         ],
         "y": {
          "bdata": "ReK19W5giUBF4rX1bmCJQA==",
          "dtype": "f8"
         }
        },
        {
         "customdata": {
          "bdata": "IYRaBmjK50AhhFoGaMrnQA==",
          "dtype": "f8"
         },
         "hovertemplate": "<b>mixtral:8x7b</b><br>Document: %{x}<br>Runtime: %{y:.1f} min<br>(%{customdata:.0f} sec)<extra></extra>",
         "marker": {
          "color": "#95A5A6"
         },
         "name": "mixtral:8x7b",
         "text": [
          "812.1m",
          "812.1m"
         ],
         "textposition": "outside",
         "type": "bar",
         "x": [
          "ALTAY v. TURKEY (No. 2)",
          "BELYAYEV AND OTHERS v. UKRAINE"
         ],
         "y": {
          "bdata": "ReK19W5giUBF4rX1bmCJQA==",
          "dtype": "f8"
         }
        },
        {
         "customdata": {
          "bdata": "IYRaBmjK50AhhFoGaMrnQA==",
          "dtype": "f8"
         },
         "hovertemplate": "<b>dolphin3:8b</b><br>Document: %{x}<br>Runtime: %{y:.1f} min<br>(%{customdata:.0f} sec)<extra></extra>",
         "marker": {
          "color": "#95A5A6"
         },
         "name": "dolphin3:8b",
         "text": [
          "812.1m",
          "812.1m"
         ],
         "textposition": "outside",
         "type": "bar",
         "x": [
          "ALTAY v. TURKEY (No. 2)",
          "BELYAYEV AND OTHERS v. UKRAINE"
         ],
         "y": {
          "bdata": "ReK19W5giUBF4rX1bmCJQA==",
          "dtype": "f8"
         }
        },
        {
         "customdata": {
          "bdata": "IYRaBmjK50AhhFoGaMrnQA==",
          "dtype": "f8"
         },
         "hovertemplate": "<b>dolphin-mixtral:8x7b</b><br>Document: %{x}<br>Runtime: %{y:.1f} min<br>(%{customdata:.0f} sec)<extra></extra>",
         "marker": {
          "color": "#95A5A6"
         },
         "name": "dolphin-mixtral:8x7b",
         "text": [
          "812.1m",
          "812.1m"
         ],
         "textposition": "outside",
         "type": "bar",
         "x": [
          "ALTAY v. TURKEY (No. 2)",
          "BELYAYEV AND OTHERS v. UKRAINE"
         ],
         "y": {
          "bdata": "ReK19W5giUBF4rX1bmCJQA==",
=======
          "bdata": "AIAPqXBg9EAAAIN3e+ryQACAI09BoPJAAAChJWtV8UAAABALv+jbQAAAFuXLHsJAAACaoFK0wEAAACxhbvm+QAAAJIO9XrdAAAAg4ZVvtUA=",
>>>>>>> a813ab3a2a19b49bf703a1dc6fd99353356c8a2d
          "dtype": "f8"
         },
         "yaxis": "y5"
        },
        {
         "hovertemplate": "<b>%{text}</b><br>Avg Time: %{x:.1f}s<br>Avg F1: %{y:.3f}<extra></extra>",
         "marker": {
          "color": [
           "#E67E22",
           "#9B59B6",
           "#8E44AD",
           "#16A085",
           "#2ECC71",
           "#E74C3C",
           "#3498DB",
           "#F1C40F",
           "#F39C12",
           "#95A5A6",
           "#1ABC9C",
           "#34495E"
          ],
          "opacity": 0.8,
          "size": 15
         },
         "mode": "markers+text",
         "name": "Model Average",
         "showlegend": false,
         "text": [
          "chevalblanc/claude-3-haiku:latest",
          "deepseek-r1:8b",
          "dolphin-mixtral:8x7b",
          "dolphin3:8b",
          "gemma3:12b",
          "gemma3:1b",
          "gemma3:4b",
          "incept5/llama3.1-claude:latest",
          "llama3.3:latest",
          "llama4:16x17b",
          "mistral:latest",
          "mixtral:8x7b"
         ],
         "textposition": "top center",
         "type": "scatter",
         "x": {
          "bdata": "vLs7NSvIXECamZn9lrVjQFVVRac9ZslA3t3dFQ8eakBERMRBv2NSQCIiYtvxjWpAMzOz7dV+YkDNzExwT51pQM3MrFzU8KpAq6oq4KvKgkAAAIDn8WNrQLy7e9UzHZFA",
          "dtype": "f8"
         },
         "xaxis": "x6",
         "y": {
          "bdata": "OyxHgogG0T8Htd5lpCPQP+x83vW6Acw/vjPO6KA+xj8X9fcMuirZP5j2cAwA5MA/Oe5bM227zT9FummBpNzRP3XwHirCOdw/WtXnlOTgpT8g/+Nje6zUP4ep1so2Os0/",
          "dtype": "f8"
         },
         "yaxis": "y6"
        }
       ],
       "layout": {
        "annotations": [
         {
          "font": {
           "size": 16
          },
          "showarrow": false,
          "text": "Actual Processing Time by Model (seconds)",
          "x": 0.2125,
          "xanchor": "center",
          "xref": "paper",
          "y": 1,
          "yanchor": "bottom",
          "yref": "paper"
         },
         {
          "font": {
           "size": 16
          },
          "showarrow": false,
          "text": "F1 Score vs Processing Time",
          "x": 0.7875,
          "xanchor": "center",
          "xref": "paper",
          "y": 1,
          "yanchor": "bottom",
          "yref": "paper"
         },
         {
          "font": {
           "size": 16
          },
          "showarrow": false,
          "text": "Model Efficiency (F1 Score per second)",
          "x": 0.2125,
          "xanchor": "center",
          "xref": "paper",
          "y": 0.6266666666666667,
          "yanchor": "bottom",
          "yref": "paper"
         },
         {
          "font": {
           "size": 16
          },
          "showarrow": false,
          "text": "Processing Time Distribution by Model",
          "x": 0.7875,
          "xanchor": "center",
          "xref": "paper",
          "y": 0.6266666666666667,
          "yanchor": "bottom",
          "yref": "paper"
         },
         {
          "font": {
           "size": 16
          },
          "showarrow": false,
          "text": "Top 10 Slowest Document-Model Combinations",
          "x": 0.2125,
          "xanchor": "center",
          "xref": "paper",
          "y": 0.25333333333333335,
          "yanchor": "bottom",
          "yref": "paper"
         },
         {
          "font": {
           "size": 16
          },
          "showarrow": false,
          "text": "Model Performance vs Speed Trade-off",
          "x": 0.7875,
          "xanchor": "center",
          "xref": "paper",
          "y": 0.25333333333333335,
          "yanchor": "bottom",
          "yref": "paper"
         }
        ],
        "height": 1200,
        "showlegend": false,
        "template": {
         "data": {
          "bar": [
           {
            "error_x": {
             "color": "#2a3f5f"
            },
            "error_y": {
             "color": "#2a3f5f"
            },
            "marker": {
             "line": {
              "color": "#E5ECF6",
              "width": 0.5
             },
             "pattern": {
              "fillmode": "overlay",
              "size": 10,
              "solidity": 0.2
             }
            },
            "type": "bar"
           }
          ],
          "barpolar": [
           {
            "marker": {
             "line": {
              "color": "#E5ECF6",
              "width": 0.5
             },
             "pattern": {
              "fillmode": "overlay",
              "size": 10,
              "solidity": 0.2
             }
            },
            "type": "barpolar"
           }
          ],
          "carpet": [
           {
            "aaxis": {
             "endlinecolor": "#2a3f5f",
             "gridcolor": "white",
             "linecolor": "white",
             "minorgridcolor": "white",
             "startlinecolor": "#2a3f5f"
            },
            "baxis": {
             "endlinecolor": "#2a3f5f",
             "gridcolor": "white",
             "linecolor": "white",
             "minorgridcolor": "white",
             "startlinecolor": "#2a3f5f"
            },
            "type": "carpet"
           }
          ],
          "choropleth": [
           {
            "colorbar": {
             "outlinewidth": 0,
             "ticks": ""
            },
            "type": "choropleth"
           }
          ],
          "contour": [
           {
            "colorbar": {
             "outlinewidth": 0,
             "ticks": ""
            },
            "colorscale": [
             [
              0,
              "#0d0887"
             ],
             [
              0.1111111111111111,
              "#46039f"
             ],
             [
              0.2222222222222222,
              "#7201a8"
             ],
             [
              0.3333333333333333,
              "#9c179e"
             ],
             [
              0.4444444444444444,
              "#bd3786"
             ],
             [
              0.5555555555555556,
              "#d8576b"
             ],
             [
              0.6666666666666666,
              "#ed7953"
             ],
             [
              0.7777777777777778,
              "#fb9f3a"
             ],
             [
              0.8888888888888888,
              "#fdca26"
             ],
             [
              1,
              "#f0f921"
             ]
            ],
            "type": "contour"
           }
          ],
          "contourcarpet": [
           {
            "colorbar": {
             "outlinewidth": 0,
             "ticks": ""
            },
            "type": "contourcarpet"
           }
          ],
          "heatmap": [
           {
            "colorbar": {
             "outlinewidth": 0,
             "ticks": ""
            },
            "colorscale": [
             [
              0,
              "#0d0887"
             ],
             [
              0.1111111111111111,
              "#46039f"
             ],
             [
              0.2222222222222222,
              "#7201a8"
             ],
             [
              0.3333333333333333,
              "#9c179e"
             ],
             [
              0.4444444444444444,
              "#bd3786"
             ],
             [
              0.5555555555555556,
              "#d8576b"
             ],
             [
              0.6666666666666666,
              "#ed7953"
             ],
             [
              0.7777777777777778,
              "#fb9f3a"
             ],
             [
              0.8888888888888888,
              "#fdca26"
             ],
             [
              1,
              "#f0f921"
             ]
            ],
            "type": "heatmap"
           }
          ],
          "histogram": [
           {
            "marker": {
             "pattern": {
              "fillmode": "overlay",
              "size": 10,
              "solidity": 0.2
             }
            },
            "type": "histogram"
           }
          ],
          "histogram2d": [
           {
            "colorbar": {
             "outlinewidth": 0,
             "ticks": ""
            },
            "colorscale": [
             [
              0,
              "#0d0887"
             ],
             [
              0.1111111111111111,
              "#46039f"
             ],
             [
              0.2222222222222222,
              "#7201a8"
             ],
             [
              0.3333333333333333,
              "#9c179e"
             ],
             [
              0.4444444444444444,
              "#bd3786"
             ],
             [
              0.5555555555555556,
              "#d8576b"
             ],
             [
              0.6666666666666666,
              "#ed7953"
             ],
             [
              0.7777777777777778,
              "#fb9f3a"
             ],
             [
              0.8888888888888888,
              "#fdca26"
             ],
             [
              1,
              "#f0f921"
             ]
            ],
            "type": "histogram2d"
           }
          ],
          "histogram2dcontour": [
           {
            "colorbar": {
             "outlinewidth": 0,
             "ticks": ""
            },
            "colorscale": [
             [
              0,
              "#0d0887"
             ],
             [
              0.1111111111111111,
              "#46039f"
             ],
             [
              0.2222222222222222,
              "#7201a8"
             ],
             [
              0.3333333333333333,
              "#9c179e"
             ],
             [
              0.4444444444444444,
              "#bd3786"
             ],
             [
              0.5555555555555556,
              "#d8576b"
             ],
             [
              0.6666666666666666,
              "#ed7953"
             ],
             [
              0.7777777777777778,
              "#fb9f3a"
             ],
             [
              0.8888888888888888,
              "#fdca26"
             ],
             [
              1,
              "#f0f921"
             ]
            ],
            "type": "histogram2dcontour"
           }
          ],
          "mesh3d": [
           {
            "colorbar": {
             "outlinewidth": 0,
             "ticks": ""
            },
            "type": "mesh3d"
           }
          ],
          "parcoords": [
           {
            "line": {
             "colorbar": {
              "outlinewidth": 0,
              "ticks": ""
             }
            },
            "type": "parcoords"
           }
          ],
          "pie": [
           {
            "automargin": true,
            "type": "pie"
           }
          ],
          "scatter": [
           {
            "fillpattern": {
             "fillmode": "overlay",
             "size": 10,
             "solidity": 0.2
            },
            "type": "scatter"
           }
          ],
          "scatter3d": [
           {
            "line": {
             "colorbar": {
              "outlinewidth": 0,
              "ticks": ""
             }
            },
            "marker": {
             "colorbar": {
              "outlinewidth": 0,
              "ticks": ""
             }
            },
            "type": "scatter3d"
           }
          ],
          "scattercarpet": [
           {
            "marker": {
             "colorbar": {
              "outlinewidth": 0,
              "ticks": ""
             }
            },
            "type": "scattercarpet"
           }
          ],
          "scattergeo": [
           {
            "marker": {
             "colorbar": {
              "outlinewidth": 0,
              "ticks": ""
             }
            },
            "type": "scattergeo"
           }
          ],
          "scattergl": [
           {
            "marker": {
             "colorbar": {
              "outlinewidth": 0,
              "ticks": ""
             }
            },
            "type": "scattergl"
           }
          ],
          "scattermap": [
           {
            "marker": {
             "colorbar": {
              "outlinewidth": 0,
              "ticks": ""
             }
            },
            "type": "scattermap"
           }
          ],
          "scattermapbox": [
           {
            "marker": {
             "colorbar": {
              "outlinewidth": 0,
              "ticks": ""
             }
            },
            "type": "scattermapbox"
           }
          ],
          "scatterpolar": [
           {
            "marker": {
             "colorbar": {
              "outlinewidth": 0,
              "ticks": ""
             }
            },
            "type": "scatterpolar"
           }
          ],
          "scatterpolargl": [
           {
            "marker": {
             "colorbar": {
              "outlinewidth": 0,
              "ticks": ""
             }
            },
            "type": "scatterpolargl"
           }
          ],
          "scatterternary": [
           {
            "marker": {
             "colorbar": {
              "outlinewidth": 0,
              "ticks": ""
             }
            },
            "type": "scatterternary"
           }
          ],
          "surface": [
           {
            "colorbar": {
             "outlinewidth": 0,
             "ticks": ""
            },
            "colorscale": [
             [
              0,
              "#0d0887"
             ],
             [
              0.1111111111111111,
              "#46039f"
             ],
             [
              0.2222222222222222,
              "#7201a8"
             ],
             [
              0.3333333333333333,
              "#9c179e"
             ],
             [
              0.4444444444444444,
              "#bd3786"
             ],
             [
              0.5555555555555556,
              "#d8576b"
             ],
             [
              0.6666666666666666,
              "#ed7953"
             ],
             [
              0.7777777777777778,
              "#fb9f3a"
             ],
             [
              0.8888888888888888,
              "#fdca26"
             ],
             [
              1,
              "#f0f921"
             ]
            ],
            "type": "surface"
           }
          ],
          "table": [
           {
            "cells": {
             "fill": {
              "color": "#EBF0F8"
             },
             "line": {
              "color": "white"
             }
            },
            "header": {
             "fill": {
              "color": "#C8D4E3"
             },
             "line": {
              "color": "white"
             }
            },
            "type": "table"
           }
          ]
         },
         "layout": {
          "annotationdefaults": {
           "arrowcolor": "#2a3f5f",
           "arrowhead": 0,
           "arrowwidth": 1
          },
          "autotypenumbers": "strict",
          "coloraxis": {
           "colorbar": {
            "outlinewidth": 0,
            "ticks": ""
           }
          },
          "colorscale": {
           "diverging": [
            [
             0,
             "#8e0152"
            ],
            [
             0.1,
             "#c51b7d"
            ],
            [
             0.2,
             "#de77ae"
            ],
            [
             0.3,
             "#f1b6da"
            ],
            [
             0.4,
             "#fde0ef"
            ],
            [
             0.5,
             "#f7f7f7"
            ],
            [
             0.6,
             "#e6f5d0"
            ],
            [
             0.7,
             "#b8e186"
            ],
            [
             0.8,
             "#7fbc41"
            ],
            [
             0.9,
             "#4d9221"
            ],
            [
             1,
             "#276419"
            ]
           ],
           "sequential": [
            [
             0,
             "#0d0887"
            ],
            [
             0.1111111111111111,
             "#46039f"
            ],
            [
             0.2222222222222222,
             "#7201a8"
            ],
            [
             0.3333333333333333,
             "#9c179e"
            ],
            [
             0.4444444444444444,
             "#bd3786"
            ],
            [
             0.5555555555555556,
             "#d8576b"
            ],
            [
             0.6666666666666666,
             "#ed7953"
            ],
            [
             0.7777777777777778,
             "#fb9f3a"
            ],
            [
             0.8888888888888888,
             "#fdca26"
            ],
            [
             1,
             "#f0f921"
            ]
           ],
           "sequentialminus": [
            [
             0,
             "#0d0887"
            ],
            [
             0.1111111111111111,
             "#46039f"
            ],
            [
             0.2222222222222222,
             "#7201a8"
            ],
            [
             0.3333333333333333,
             "#9c179e"
            ],
            [
             0.4444444444444444,
             "#bd3786"
            ],
            [
             0.5555555555555556,
             "#d8576b"
            ],
            [
             0.6666666666666666,
             "#ed7953"
            ],
            [
             0.7777777777777778,
             "#fb9f3a"
            ],
            [
             0.8888888888888888,
             "#fdca26"
            ],
            [
             1,
             "#f0f921"
            ]
           ]
          },
          "colorway": [
           "#636efa",
           "#EF553B",
           "#00cc96",
           "#ab63fa",
           "#FFA15A",
           "#19d3f3",
           "#FF6692",
           "#B6E880",
           "#FF97FF",
           "#FECB52"
          ],
          "font": {
           "color": "#2a3f5f"
          },
          "geo": {
           "bgcolor": "white",
           "lakecolor": "white",
           "landcolor": "#E5ECF6",
           "showlakes": true,
           "showland": true,
           "subunitcolor": "white"
          },
          "hoverlabel": {
           "align": "left"
          },
          "hovermode": "closest",
          "mapbox": {
           "style": "light"
          },
          "paper_bgcolor": "white",
          "plot_bgcolor": "#E5ECF6",
          "polar": {
           "angularaxis": {
            "gridcolor": "white",
            "linecolor": "white",
            "ticks": ""
           },
           "bgcolor": "#E5ECF6",
           "radialaxis": {
            "gridcolor": "white",
            "linecolor": "white",
            "ticks": ""
           }
          },
          "scene": {
           "xaxis": {
            "backgroundcolor": "#E5ECF6",
            "gridcolor": "white",
            "gridwidth": 2,
            "linecolor": "white",
            "showbackground": true,
            "ticks": "",
            "zerolinecolor": "white"
           },
           "yaxis": {
            "backgroundcolor": "#E5ECF6",
            "gridcolor": "white",
            "gridwidth": 2,
            "linecolor": "white",
            "showbackground": true,
            "ticks": "",
            "zerolinecolor": "white"
           },
           "zaxis": {
            "backgroundcolor": "#E5ECF6",
            "gridcolor": "white",
            "gridwidth": 2,
            "linecolor": "white",
            "showbackground": true,
            "ticks": "",
            "zerolinecolor": "white"
           }
          },
          "shapedefaults": {
           "line": {
            "color": "#2a3f5f"
           }
          },
          "ternary": {
           "aaxis": {
            "gridcolor": "white",
            "linecolor": "white",
            "ticks": ""
           },
           "baxis": {
            "gridcolor": "white",
            "linecolor": "white",
            "ticks": ""
           },
           "bgcolor": "#E5ECF6",
           "caxis": {
            "gridcolor": "white",
            "linecolor": "white",
            "ticks": ""
           }
          },
          "title": {
           "x": 0.05
          },
          "xaxis": {
           "automargin": true,
           "gridcolor": "white",
           "linecolor": "white",
           "ticks": "",
           "title": {
            "standoff": 15
           },
           "zerolinecolor": "white",
           "zerolinewidth": 2
          },
          "yaxis": {
           "automargin": true,
           "gridcolor": "white",
           "linecolor": "white",
           "ticks": "",
           "title": {
            "standoff": 15
           },
           "zerolinecolor": "white",
           "zerolinewidth": 2
          }
         }
        },
        "title": {
         "text": "Actual Runtime Performance Dashboard<br><sub>Based on real timing data from 360 model-document combinations</sub>",
         "x": 0.5
        },
        "xaxis": {
         "anchor": "y",
         "domain": [
          0,
          0.425
         ],
         "title": {
          "text": "Model"
         }
        },
        "xaxis2": {
         "anchor": "y2",
         "domain": [
          0.575,
          1
         ],
         "title": {
          "text": "Processing Time (seconds)"
         }
        },
        "xaxis3": {
         "anchor": "y3",
         "domain": [
          0,
          0.425
         ],
         "title": {
          "text": "Model"
         }
        },
        "xaxis4": {
         "anchor": "y4",
         "domain": [
          0.575,
          1
         ],
         "title": {
          "text": "Model"
         }
        },
        "xaxis5": {
         "anchor": "y5",
         "domain": [
          0,
          0.425
         ],
         "title": {
          "text": "Model - Document"
         }
        },
        "xaxis6": {
         "anchor": "y6",
         "domain": [
          0.575,
          1
         ],
         "title": {
          "text": "Average Processing Time (seconds)"
         }
        },
        "yaxis": {
         "anchor": "x",
         "domain": [
          0.7466666666666667,
          1
         ],
         "title": {
          "text": "Total Time (seconds)"
         }
        },
        "yaxis2": {
         "anchor": "x2",
         "domain": [
          0.7466666666666667,
          1
         ],
         "title": {
          "text": "F1 Score"
         }
        },
        "yaxis3": {
         "anchor": "x3",
         "domain": [
          0.37333333333333335,
          0.6266666666666667
         ],
         "title": {
          "text": "F1 per 1000 seconds"
         }
        },
        "yaxis4": {
         "anchor": "x4",
         "domain": [
          0.37333333333333335,
          0.6266666666666667
         ],
         "title": {
          "text": "Processing Time (seconds)"
         }
        },
        "yaxis5": {
         "anchor": "x5",
         "domain": [
          0,
          0.25333333333333335
         ],
         "title": {
          "text": "Processing Time (seconds)"
         }
        },
        "yaxis6": {
         "anchor": "x6",
         "domain": [
          0,
          0.25333333333333335
         ],
         "title": {
          "text": "Average F1 Score"
         }
        }
       }
      }
     },
     "metadata": {},
     "output_type": "display_data"
    },
    {
     "name": "stdout",
     "output_type": "stream",
     "text": [
      "\n",
<<<<<<< HEAD
      "📋 DETAILED RUNTIME BREAKDOWN:\n",
      "------------------------------------------------------------\n",
      "\n",
      "📄 ALTAY v. TURKEY (No. 2):\n",
      "  • gemma3:1b      : 406.0 min (24362 sec)\n",
      "  • mistral:latest : 730.8 min (43851 sec)\n",
      "  • llama3.3:latest: 812.1 min (48723 sec)\n",
      "  • deepseek-r1:8b : 812.1 min (48723 sec)\n",
      "  • incept5/llama3.1-claude:latest: 812.1 min (48723 sec)\n",
      "  • chevalblanc/claude-3-haiku:latest: 812.1 min (48723 sec)\n",
      "  • llama4:16x17b  : 812.1 min (48723 sec)\n",
      "  • mixtral:8x7b   : 812.1 min (48723 sec)\n",
      "  • dolphin3:8b    : 812.1 min (48723 sec)\n",
      "  • dolphin-mixtral:8x7b: 812.1 min (48723 sec)\n",
      "  • gemma3:4b      : 1015.1 min (60904 sec)\n",
      "  • gemma3:12b     : 1624.1 min (97447 sec)\n",
      "    → Fastest: gemma3:1b\n",
      "    → Slowest: gemma3:12b (4.0x slower)\n",
      "\n",
      "📄 BELYAYEV AND OTHERS v. UKRAINE:\n",
      "  • gemma3:1b      : 406.0 min (24362 sec)\n",
      "  • mistral:latest : 730.8 min (43851 sec)\n",
      "  • llama3.3:latest: 812.1 min (48723 sec)\n",
      "  • deepseek-r1:8b : 812.1 min (48723 sec)\n",
      "  • incept5/llama3.1-claude:latest: 812.1 min (48723 sec)\n",
      "  • chevalblanc/claude-3-haiku:latest: 812.1 min (48723 sec)\n",
      "  • llama4:16x17b  : 812.1 min (48723 sec)\n",
      "  • mixtral:8x7b   : 812.1 min (48723 sec)\n",
      "  • dolphin3:8b    : 812.1 min (48723 sec)\n",
      "  • dolphin-mixtral:8x7b: 812.1 min (48723 sec)\n",
      "  • gemma3:4b      : 1015.1 min (60904 sec)\n",
      "  • gemma3:12b     : 1624.1 min (97447 sec)\n",
      "    → Fastest: gemma3:1b\n",
      "    → Slowest: gemma3:12b (4.0x slower)\n",
      "\n",
      "🎯 OVERALL STATISTICS:\n",
      "------------------------------\n",
      "Average processing time per document:\n",
      "  • gemma3:1b      : 406.0 min\n",
      "  • mistral:latest : 730.8 min\n",
      "  • chevalblanc/claude-3-haiku:latest: 812.1 min\n",
      "  • deepseek-r1:8b : 812.1 min\n",
      "  • dolphin-mixtral:8x7b: 812.1 min\n",
      "  • dolphin3:8b    : 812.1 min\n",
      "  • incept5/llama3.1-claude:latest: 812.1 min\n",
      "  • llama3.3:latest: 812.1 min\n",
      "  • llama4:16x17b  : 812.1 min\n",
      "  • mixtral:8x7b   : 812.1 min\n",
      "  • gemma3:4b      : 1015.1 min\n",
      "  • gemma3:12b     : 1624.1 min\n",
      "\n",
      "Speed comparison:\n",
      "  • Fastest overall: gemma3:1b (406.0 min avg)\n",
      "  • Slowest overall: gemma3:12b (1624.1 min avg)\n",
      "  • Speed difference: 4.0x\n",
      "\n",
      "Total processing time per model:\n",
      "  • gemma3:1b      : 812.1 min total\n",
      "  • mistral:latest : 1461.7 min total\n",
      "  • chevalblanc/claude-3-haiku:latest: 1624.1 min total\n",
      "  • deepseek-r1:8b : 1624.1 min total\n",
      "  • dolphin-mixtral:8x7b: 1624.1 min total\n",
      "  • dolphin3:8b    : 1624.1 min total\n",
      "  • incept5/llama3.1-claude:latest: 1624.1 min total\n",
      "  • llama3.3:latest: 1624.1 min total\n",
      "  • llama4:16x17b  : 1624.1 min total\n",
      "  • mixtral:8x7b   : 1624.1 min total\n",
      "  • gemma3:4b      : 2030.1 min total\n",
      "  • gemma3:12b     : 3248.2 min total\n",
      "\n",
      "✅ Grouped bar chart created successfully!\n"
=======
      "RUNTIME DASHBOARD SUMMARY\n",
      "==============================\n",
      "Total combinations analyzed: 360\n",
      "Fastest model (avg): gemma3:12b (73.6s)\n",
      "Slowest model (avg): dolphin-mixtral:8x7b (13004.5s)\n",
      "Most efficient: gemma3:12b (5.346 F1/1000s)\n"
>>>>>>> a813ab3a2a19b49bf703a1dc6fd99353356c8a2d
     ]
    }
   ],
=======
   "outputs": [],
>>>>>>> b6c29b87ca2200a9abab055569f69045161fea49
   "source": [
    "print(\"✅ Runtime analysis and dashboard functions ready!\")\n",
    "\n",
<<<<<<< HEAD
    "pipeline_folder = \"output/pipeline_results_20250808_145025\"\n",
    "\n",
    "if Path(pipeline_folder).exists():\n",
    "    # Load pipeline data\n",
    "    main_file = Path(pipeline_folder) / f\"{Path(pipeline_folder).name}.json\"\n",
    "    with open(main_file, 'r', encoding='utf-8', errors='ignore') as f:\n",
    "        pipeline_info = json.load(f)\n",
=======
    "def create_actual_runtime_dashboard():\n",
    "    \"\"\"Create runtime dashboard using actual timing data from annotations.\"\"\"\n",
>>>>>>> a813ab3a2a19b49bf703a1dc6fd99353356c8a2d
    "    \n",
    "    # Check if we have a selected pipeline folder\n",
    "    if 'selected_pipeline_folder' not in globals() or not selected_pipeline_folder:\n",
    "        print(\"❌ No pipeline folder selected. Please run the pipeline folder selector cell first.\")\n",
    "        return None\n",
    "    \n",
    "    # Check if runtime data exists from previous analysis\n",
    "    try:\n",
    "        # Reference the global runtime_df created in the previous cell\n",
    "        runtime_data = runtime_df\n",
    "        if runtime_data.empty:\n",
    "            print(\"❌ Runtime data is empty. Please run the runtime analysis cell first.\")\n",
    "            return None\n",
    "    except NameError:\n",
    "        print(\"❌ No runtime data available. Please run the runtime analysis cell first.\")\n",
    "        return None\n",
    "    \n",
    "    # Set up the evaluation results path\n",
    "    eval_results_path = Path(selected_pipeline_folder) / \"llm_evaluation_results.json\"\n",
    "    if not eval_results_path.exists():\n",
    "        print(f\"❌ Evaluation results not found: {eval_results_path}\")\n",
    "        return None\n",
    "    \n",
    "    # Load evaluation results for F1 scores\n",
    "    eval_results = load_evaluation_results(eval_results_path)\n",
    "    eval_df = create_dataframe_from_results(eval_results)\n",
    "    eval_lenient = eval_df[eval_df['Evaluation_Mode'] == 'Lenient'].copy()\n",
    "    \n",
    "    # Merge runtime data with evaluation results\n",
    "    eval_summary = eval_lenient.groupby(['Document', 'Model']).agg({\n",
    "        'F1_Score': 'mean',\n",
    "        'Precision': 'mean',\n",
    "        'Recall': 'mean'\n",
    "    }).reset_index()\n",
    "    \n",
    "    # Merge with actual runtime data\n",
    "    merged_data = runtime_data.merge(\n",
    "        eval_summary, \n",
    "        left_on=['document', 'model'], \n",
    "        right_on=['Document', 'Model'], \n",
    "        how='inner'\n",
    "    )\n",
    "    \n",
    "    if merged_data.empty:\n",
    "        print(\"❌ Could not merge runtime and evaluation data\")\n",
    "        return None\n",
    "    \n",
    "    # Dynamic color palette for all available models\n",
    "    color_palette = [\n",
    "        '#E74C3C',   # Red\n",
    "        '#3498DB',   # Blue\n",
    "        '#2ECC71',   # Green\n",
    "        '#F39C12',   # Orange\n",
    "        '#9B59B6',   # Purple\n",
    "        '#1ABC9C',   # Teal\n",
    "        '#F1C40F',   # Yellow\n",
    "        '#E67E22',   # Dark Orange\n",
    "        '#95A5A6',   # Gray\n",
    "        '#34495E',   # Dark Blue Gray\n",
    "        '#16A085',   # Dark Teal\n",
    "        '#8E44AD',   # Dark Purple\n",
    "        '#C0392B',   # Dark Red\n",
    "        '#2980B9',   # Dark Blue\n",
    "        '#27AE60',   # Dark Green\n",
    "        '#D35400'    # Dark Orange Red\n",
    "    ]\n",
    "    \n",
    "    # Get unique models and assign colors dynamically\n",
    "    unique_models = merged_data['model'].unique()\n",
    "    model_colors = {}\n",
    "    for i, model in enumerate(unique_models):\n",
    "        model_colors[model] = color_palette[i % len(color_palette)]\n",
    "    \n",
    "    # Create dashboard\n",
    "    fig = make_subplots(\n",
    "        rows=3, cols=2,\n",
    "        subplot_titles=(\n",
    "            'Actual Processing Time by Model (seconds)',\n",
    "            'F1 Score vs Processing Time',\n",
    "            'Model Efficiency (F1 Score per second)',\n",
    "            'Processing Time Distribution by Model',\n",
    "            'Top 10 Slowest Document-Model Combinations',\n",
    "            'Model Performance vs Speed Trade-off'\n",
    "        ),\n",
    "        specs=[[{\"type\": \"bar\"}, {\"type\": \"scatter\"}],\n",
    "               [{\"type\": \"bar\"}, {\"type\": \"box\"}],\n",
    "               [{\"type\": \"bar\"}, {\"type\": \"scatter\"}]],\n",
    "        vertical_spacing=0.12,\n",
    "        horizontal_spacing=0.15\n",
    "    )\n",
    "    \n",
    "    # Get model totals and averages\n",
    "    model_totals = merged_data.groupby('model')['model_runtime_seconds'].agg(['sum', 'mean']).reset_index()\n",
    "    model_totals.columns = ['model', 'total_time', 'avg_time']\n",
    "    model_totals = model_totals.sort_values('total_time', ascending=False)\n",
    "    \n",
    "    # 1. Total processing time by model\n",
    "    fig.add_trace(\n",
    "        go.Bar(\n",
    "            x=model_totals['model'],\n",
    "            y=model_totals['total_time'],\n",
    "            marker_color=[model_colors.get(model, '#95A5A6') for model in model_totals['model']],\n",
    "            name='Total Time',\n",
    "            hovertemplate='<b>%{x}</b><br>Total Time: %{y:.1f}s (%{customdata:.1f}m)<extra></extra>',\n",
    "            customdata=model_totals['total_time'] / 60\n",
    "        ),\n",
    "        row=1, col=1\n",
    "    )\n",
    "    \n",
    "    # 2. F1 Score vs Processing Time scatter\n",
    "    for model in merged_data['model'].unique():\n",
    "        model_data = merged_data[merged_data['model'] == model]\n",
    "        fig.add_trace(\n",
    "            go.Scatter(\n",
    "                x=model_data['model_runtime_seconds'],\n",
    "                y=model_data['F1_Score'],\n",
    "                mode='markers',\n",
    "                name=model,\n",
    "                marker=dict(\n",
    "                    size=10,\n",
    "                    color=model_colors.get(model, '#95A5A6'),\n",
    "                    opacity=0.7\n",
    "                ),\n",
    "                text=model_data['document'],\n",
    "                hovertemplate=f'<b>{model}</b><br>Document: %{{text}}<br>Time: %{{x:.1f}}s<br>F1: %{{y:.3f}}<extra></extra>',\n",
    "                showlegend=False\n",
    "            ),\n",
    "            row=1, col=2\n",
    "        )\n",
    "    \n",
    "    # 3. Model efficiency (F1 per second)\n",
    "    model_efficiency = merged_data.groupby('model').apply(\n",
    "        lambda x: (x['F1_Score'].mean() / x['model_runtime_seconds'].mean()) * 1000  # F1 per 1000 seconds\n",
    "    ).reset_index()\n",
    "    model_efficiency.columns = ['model', 'efficiency']\n",
    "    model_efficiency = model_efficiency.sort_values('efficiency', ascending=False)\n",
    "    \n",
    "    fig.add_trace(\n",
    "        go.Bar(\n",
    "            x=model_efficiency['model'],\n",
    "            y=model_efficiency['efficiency'],\n",
    "            marker_color=[model_colors.get(model, '#95A5A6') for model in model_efficiency['model']],\n",
    "            name='Efficiency',\n",
    "            hovertemplate='<b>%{x}</b><br>F1 per 1000s: %{y:.3f}<extra></extra>'\n",
    "        ),\n",
    "        row=2, col=1\n",
    "    )\n",
    "    \n",
    "    # 4. Processing time distribution by model (box plot)\n",
    "    for model in merged_data['model'].unique():\n",
    "        model_data = merged_data[merged_data['model'] == model]\n",
    "        fig.add_trace(\n",
    "            go.Box(\n",
    "                y=model_data['model_runtime_seconds'],\n",
    "                name=model,\n",
    "                marker_color=model_colors.get(model, '#95A5A6'),\n",
    "                showlegend=False\n",
    "            ),\n",
    "            row=2, col=2\n",
    "        )\n",
    "    \n",
    "    # 5. Top 10 slowest combinations\n",
    "    slowest_combinations = merged_data.nlargest(10, 'model_runtime_seconds')\n",
    "    time_in_minutes = slowest_combinations['model_runtime_seconds'] / 60\n",
    "    fig.add_trace(\n",
    "        go.Bar(\n",
    "            x=[f\"{row['model'][:15]}...<br>{row['document'][:20]}...\" for _, row in slowest_combinations.iterrows()],\n",
    "            y=slowest_combinations['model_runtime_seconds'],\n",
    "            marker_color=[model_colors.get(model, '#95A5A6') for model in slowest_combinations['model']],\n",
    "            name='Slowest Combinations',\n",
    "            hovertemplate='<b>%{customdata}</b><br>Time: %{y:.1f}s (%{y:.1f}m)<extra></extra>',\n",
    "            customdata=[f\"{row['model']} - {row['document']}\" for _, row in slowest_combinations.iterrows()]\n",
    "        ),\n",
    "        row=3, col=1\n",
    "    )\n",
    "    \n",
    "    # 6. Performance vs Speed trade-off (average by model)\n",
    "    model_summary = merged_data.groupby('model').agg({\n",
    "        'F1_Score': 'mean',\n",
    "        'model_runtime_seconds': 'mean'\n",
    "    }).reset_index()\n",
    "    \n",
    "    fig.add_trace(\n",
    "        go.Scatter(\n",
    "            x=model_summary['model_runtime_seconds'],\n",
    "            y=model_summary['F1_Score'],\n",
    "            mode='markers+text',\n",
    "            text=model_summary['model'],\n",
    "            textposition='top center',\n",
    "            marker=dict(\n",
    "                size=15,\n",
    "                color=[model_colors.get(model, '#95A5A6') for model in model_summary['model']],\n",
    "                opacity=0.8\n",
    "            ),\n",
    "            name='Model Average',\n",
    "            hovertemplate='<b>%{text}</b><br>Avg Time: %{x:.1f}s<br>Avg F1: %{y:.3f}<extra></extra>',\n",
    "            showlegend=False\n",
    "        ),\n",
    "        row=3, col=2\n",
    "    )\n",
    "    \n",
    "    # Update layout\n",
    "    fig.update_layout(\n",
    "        height=1200,\n",
    "        title=f'Actual Runtime Performance Dashboard<br><sub>Based on real timing data from {len(merged_data)} model-document combinations</sub>',\n",
    "        title_x=0.5,\n",
    "        showlegend=False\n",
    "    )\n",
    "    \n",
    "    # Update axes labels\n",
    "    fig.update_xaxes(title_text=\"Model\", row=1, col=1)\n",
    "    fig.update_yaxes(title_text=\"Total Time (seconds)\", row=1, col=1)\n",
    "    fig.update_xaxes(title_text=\"Processing Time (seconds)\", row=1, col=2)\n",
    "    fig.update_yaxes(title_text=\"F1 Score\", row=1, col=2)\n",
    "    fig.update_xaxes(title_text=\"Model\", row=2, col=1)\n",
    "    fig.update_yaxes(title_text=\"F1 per 1000 seconds\", row=2, col=1)\n",
    "    fig.update_xaxes(title_text=\"Model\", row=2, col=2)\n",
    "    fig.update_yaxes(title_text=\"Processing Time (seconds)\", row=2, col=2)\n",
    "    fig.update_xaxes(title_text=\"Model - Document\", row=3, col=1)\n",
    "    fig.update_yaxes(title_text=\"Processing Time (seconds)\", row=3, col=1)\n",
    "    fig.update_xaxes(title_text=\"Average Processing Time (seconds)\", row=3, col=2)\n",
    "    fig.update_yaxes(title_text=\"Average F1 Score\", row=3, col=2)\n",
    "    \n",
    "    fig.show()\n",
    "    \n",
    "    # Print summary statistics\n",
    "    print(f\"\\nRUNTIME DASHBOARD SUMMARY\")\n",
    "    print(\"=\" * 30)\n",
    "    print(f\"Total combinations analyzed: {len(merged_data)}\")\n",
    "    print(f\"Fastest model (avg): {model_totals.iloc[-1]['model']} ({model_totals.iloc[-1]['avg_time']:.1f}s)\")\n",
    "    print(f\"Slowest model (avg): {model_totals.iloc[0]['model']} ({model_totals.iloc[0]['avg_time']:.1f}s)\")\n",
    "    print(f\"Most efficient: {model_efficiency.iloc[0]['model']} ({model_efficiency.iloc[0]['efficiency']:.3f} F1/1000s)\")\n",
    "    \n",
    "    return fig\n",
    "\n",
    "# Create the actual runtime dashboard\n",
    "actual_runtime_fig = create_actual_runtime_dashboard()"
   ]
  }
 ],
 "metadata": {
  "kernelspec": {
   "display_name": ".venv",
   "language": "python",
   "name": "python3"
  },
  "language_info": {
   "codemirror_mode": {
    "name": "ipython",
    "version": 3
   },
   "file_extension": ".py",
   "mimetype": "text/x-python",
   "name": "python",
   "nbconvert_exporter": "python",
   "pygments_lexer": "ipython3",
   "version": "3.12.3"
  }
 },
 "nbformat": 4,
 "nbformat_minor": 5
}
