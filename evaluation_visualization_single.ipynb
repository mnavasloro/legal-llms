{
 "cells": [
  {
   "cell_type": "code",
   "execution_count": 1,
   "id": "1581df5f",
   "metadata": {},
   "outputs": [],
   "source": [
    "import json\n",
    "import pandas as pd\n",
    "import matplotlib.pyplot as plt\n",
    "import seaborn as sns\n",
    "import plotly.express as px\n",
    "import plotly.graph_objects as go\n",
    "from plotly.subplots import make_subplots\n",
    "import numpy as np\n",
    "from pathlib import Path\n",
    "import warnings\n",
    "warnings.filterwarnings('ignore')\n",
    "\n",
    "# Set style for matplotlib\n",
    "plt.style.use('seaborn-v0_8')\n",
    "sns.set_palette(\"husl\")"
   ]
  },
  {
   "cell_type": "markdown",
   "id": "7dec39e9",
   "metadata": {},
   "source": [
    "### Single run"
   ]
  },
  {
   "cell_type": "code",
   "execution_count": 2,
   "id": "13398642",
   "metadata": {},
   "outputs": [
    {
     "data": {
      "application/vnd.plotly.v1+json": {
       "config": {
        "plotlyServerURL": "https://plot.ly"
       },
       "data": [
        {
         "hovertemplate": "<b>gemma3:1b</b><br>Type: %{x}<br>Avg F1: %{y:.3f}<extra></extra>",
         "legendgroup": "models",
         "marker": {
          "color": "#E74C3C"
         },
         "name": "gemma3:1b",
         "showlegend": true,
         "type": "bar",
         "x": [
          "Event",
          "Event_what",
          "Event_when",
          "Event_who"
         ],
         "xaxis": "x",
         "y": {
          "bdata": "c8AqcVQtyz9gtej4Lh+xPynXpj8BQ8w/m0DvI5iAnD8=",
          "dtype": "f8"
         },
         "yaxis": "y"
        },
        {
         "hovertemplate": "<b>gemma3:4b</b><br>Type: %{x}<br>Avg F1: %{y:.3f}<extra></extra>",
         "legendgroup": "models",
         "marker": {
          "color": "#3498DB"
         },
         "name": "gemma3:4b",
         "showlegend": true,
         "type": "bar",
         "x": [
          "Event",
          "Event_what",
          "Event_when",
          "Event_who"
         ],
         "xaxis": "x",
         "y": {
          "bdata": "3NHkLhTo2D+XMLXt16rCP4xaK7zY39U/571oJgzMqj8=",
          "dtype": "f8"
         },
         "yaxis": "y"
        },
        {
         "hovertemplate": "<b>gemma3:12b</b><br>Type: %{x}<br>Avg F1: %{y:.3f}<extra></extra>",
         "legendgroup": "models",
         "marker": {
          "color": "#2ECC71"
         },
         "name": "gemma3:12b",
         "showlegend": true,
         "type": "bar",
         "x": [
          "Event",
          "Event_what",
          "Event_when",
          "Event_who"
         ],
         "xaxis": "x",
         "y": {
          "bdata": "y9s87Dix4T9iLlmSuTTUP9YvV/v3qt8/I31rm4nRyj8=",
          "dtype": "f8"
         },
         "yaxis": "y"
        },
        {
         "hovertemplate": "<b>mistral:latest</b><br>Type: %{x}<br>Avg F1: %{y:.3f}<extra></extra>",
         "legendgroup": "models",
         "marker": {
          "color": "#F39C12"
         },
         "name": "mistral:latest",
         "showlegend": true,
         "type": "bar",
         "x": [
          "Event",
          "Event_what",
          "Event_when",
          "Event_who"
         ],
         "xaxis": "x",
         "y": {
          "bdata": "su3crbSZ3D/VUumFIVvRP+sa+oRDlN4/N4Q+W0+juD8=",
          "dtype": "f8"
         },
         "yaxis": "y"
        },
        {
         "colorbar": {
          "title": {
           "text": "F1 Score"
          },
          "x": 0.48
         },
         "colorscale": [
          [
           0,
           "rgb(49,54,149)"
          ],
          [
           0.1,
           "rgb(69,117,180)"
          ],
          [
           0.2,
           "rgb(116,173,209)"
          ],
          [
           0.3,
           "rgb(171,217,233)"
          ],
          [
           0.4,
           "rgb(224,243,248)"
          ],
          [
           0.5,
           "rgb(255,255,191)"
          ],
          [
           0.6,
           "rgb(254,224,144)"
          ],
          [
           0.7,
           "rgb(253,174,97)"
          ],
          [
           0.8,
           "rgb(244,109,67)"
          ],
          [
           0.9,
           "rgb(215,48,39)"
          ],
          [
           1,
           "rgb(165,0,38)"
          ]
         ],
         "hovertemplate": "Document: %{y}<br>Model: %{x}<br>F1 Score: %{z:.3f}<extra></extra>",
         "showlegend": false,
         "showscale": true,
         "type": "heatmap",
         "x": [
          "gemma3:12b",
          "gemma3:1b",
          "gemma3:4b",
          "mistral:latest"
         ],
         "xaxis": "x2",
         "y": [
          "ALTAY v. TURKEY (No. 2)",
          "BELYAYEV AND OTHERS v. UKRAINE",
          "BIGUN v. UKRAINE",
          "CABUCAK v. GERMANY",
          "CAN v. TURKEY",
          "CRISTIAN CATALIN UNGUREANU v. ROMANIA",
          "DOKTOROV v. BULGARIA",
          "EGILL EINARSSON v. ICELAND (No. 2)",
          "H_INESS v. NORWAY (1)",
          "KOSAITE - CYPIENE AND OTHERS v. LITHUANIA",
          "LOZOVYYE v. RUSSIA",
          "M.T. v. UKRAINE",
          "MOSKALEV v. RUSSIA",
          "MURUZHEVA v. RUSSIA",
          "O.C.I. AND OTHERS v. ROMANIA",
          "OTGON v. THE REPUBLIC OF MOLDOVA",
          "PAKHTUSOV v. RUSSIA",
          "PANYUSHKINY v. RUSSIA",
          "RESIN v. RUSSIA",
          "S.N. v. RUSSIA",
          "S.V. v. ITALY",
          "SHVIDKIYE v. RUSSIA",
          "SIDOROVA v. RUSSIA",
          "SOLCAN v. ROMANIA",
          "STANA v. ROMANIA",
          "VISY v. SLOVAKIA",
          "YAKUSHEV v. UKRAINE",
          "YERMAKOVICH v. RUSSIA",
          "YEVGENIY ZAKHAROV v. RUSSIA",
          "_NODI v. HUNGARY"
         ],
         "yaxis": "y2",
         "z": {
          "bdata": "c9PCW3ZO2j8cx3Ecx3GsP4XCWNFTKNM/cMq0HF2O0z8DUisOq/PQP+pY06ZCIcY/ERERERERsT+VK5HqgOa/PxD4GbRwm9A/kyRJkiRJsj+Xb/mWb/nGP+YhF15qHtI/uHZ5m4C02T+06PgIcgyaP8h7vMd7vLc/AYoawlhp0j8rW6DeydDjP0clKz4AUs4/XiCT4gUy4T9unvlOGwbhPzABGQ0TkNo/IiC52eL50D907BIFvAG9PyDkyNM1qNU/UBbtKk6Z2D+oRIw0c0bNP3NV2GRwotA/YE1PAgrW1D+zEzSUCYbbPwAAAAAAAAAAApZtvhxgyT9hsmMEPpLWP00c0QYFdNw/AAAAAAAAAABFRERERES0P3/Qqji5Tcw/2FTIvIpcpD/YVMi8ilykP6AN6Z8N6a8/L87tNi33yz/fO7CBx97bP/LiUr0RDtA/mSPTy1YG3z8YhmEYhmHgPyizI288w9g/xwgm+jtZzT8/6qM+6qPWP90LCk8RO9g/3Mu93Mu93D/vqJE0wO7IP0Vu2i/+uNo/TMIkTMIk2D+4M320xabXPwAAAAAAAAAARoJbMEGY0j/KrzCCN4fZPxFwdSjN6dk/6xS6TqHrtD+eS/CmORTPPwAAAAAAAAAA3MM93MM94D94EsGqRfTNPwAAAAAAAAAAvLu7u7u72z+vtoWXv5niP5KLMIB6H9M/0VLutoJH1T802ufFE+nYPw8Fhl9jyeI/AAAAAAAAAADnWm8a90PAP5gUfSk5xt0/dNFFF1102T8w1w7MtQPDP5kTZsV3h9A/nk/WY+ki1T/NooO9vwSgP+Gta7Ulop8/AAAAAAAAAAAhF3IhF3KxP5EGaZAGad0/AAAAAAAAAAAyo0N8zOjUP7qUS7mUS90/4mEGYTNa1j8AAAAAAAAAAGDnc5fyFNU/D+y1Mnvy3D8UrkfhehTgPw8PDw8PD68/AAAAAAAAAABMK5/qhoHHP3GSVRMehOE/Ntlkk002yT/MmMmMmczIPzfKF04njNc/t3Vbt3Vb1z+f53me53nWP4dhGIZhGNw/YRiGYRiG0T8rKbyh0SrVPx8eHh4eHp4/WtJnzFsAzj/cm3Bvwr3RPwkDAavjS+M/a9+w9g1r0z9acyZiy0PZP8E3OKFT1N0/0pa0JW1Juz+SHk0H8JKePwAAAAAAAKA/VXjftnoR0T8AMt28GyvUP2KkHSsQRso/RmAERmAE2T9es0fy6KzPP0SSjPMOaNk/uHzLt3zLyz+oNhpT4cTNP7eL4BXmx9Y/",
          "dtype": "f8",
          "shape": "30, 4"
         }
        },
        {
         "hovertemplate": "<b>%{text}</b><br>Recall: %{x:.3f}<br>Precision: %{y:.3f}<extra></extra>",
         "legendgroup": "scatter",
         "marker": {
          "color": "#E74C3C",
          "opacity": 0.7,
          "size": 8,
          "symbol": "circle"
         },
         "mode": "markers",
         "name": "gemma3:1b (docs)",
         "showlegend": true,
         "text": [
          "S.N. v. RUSSIA<br>Event",
          "S.N. v. RUSSIA<br>Event_who",
          "S.N. v. RUSSIA<br>Event_when",
          "S.N. v. RUSSIA<br>Event_what",
          "BELYAYEV AND OTHERS v. UKRAINE<br>Event",
          "BELYAYEV AND OTHERS v. UKRAINE<br>Event_who",
          "BELYAYEV AND OTHERS v. UKRAINE<br>Event_when",
          "BELYAYEV AND OTHERS v. UKRAINE<br>Event_what",
          "SIDOROVA v. RUSSIA<br>Event",
          "SIDOROVA v. RUSSIA<br>Event_who",
          "SIDOROVA v. RUSSIA<br>Event_when",
          "SIDOROVA v. RUSSIA<br>Event_what",
          "EGILL EINARSSON v. ICELAND (No. 2)<br>Event",
          "EGILL EINARSSON v. ICELAND (No. 2)<br>Event_who",
          "EGILL EINARSSON v. ICELAND (No. 2)<br>Event_when",
          "EGILL EINARSSON v. ICELAND (No. 2)<br>Event_what",
          "MOSKALEV v. RUSSIA<br>Event",
          "MOSKALEV v. RUSSIA<br>Event_who",
          "MOSKALEV v. RUSSIA<br>Event_when",
          "MOSKALEV v. RUSSIA<br>Event_what",
          "PANYUSHKINY v. RUSSIA<br>Event",
          "PANYUSHKINY v. RUSSIA<br>Event_who",
          "PANYUSHKINY v. RUSSIA<br>Event_when",
          "PANYUSHKINY v. RUSSIA<br>Event_what",
          "BIGUN v. UKRAINE<br>Event",
          "BIGUN v. UKRAINE<br>Event_who",
          "BIGUN v. UKRAINE<br>Event_when",
          "BIGUN v. UKRAINE<br>Event_what",
          "SOLCAN v. ROMANIA<br>Event",
          "SOLCAN v. ROMANIA<br>Event_who",
          "SOLCAN v. ROMANIA<br>Event_when",
          "SOLCAN v. ROMANIA<br>Event_what",
          "YEVGENIY ZAKHAROV v. RUSSIA<br>Event",
          "YEVGENIY ZAKHAROV v. RUSSIA<br>Event_who",
          "YEVGENIY ZAKHAROV v. RUSSIA<br>Event_when",
          "YEVGENIY ZAKHAROV v. RUSSIA<br>Event_what",
          "ALTAY v. TURKEY (No. 2)<br>Event",
          "ALTAY v. TURKEY (No. 2)<br>Event_who",
          "ALTAY v. TURKEY (No. 2)<br>Event_when",
          "ALTAY v. TURKEY (No. 2)<br>Event_what",
          "H_INESS v. NORWAY (1)<br>Event",
          "H_INESS v. NORWAY (1)<br>Event_who",
          "H_INESS v. NORWAY (1)<br>Event_when",
          "H_INESS v. NORWAY (1)<br>Event_what",
          "SHVIDKIYE v. RUSSIA<br>Event",
          "SHVIDKIYE v. RUSSIA<br>Event_who",
          "SHVIDKIYE v. RUSSIA<br>Event_when",
          "SHVIDKIYE v. RUSSIA<br>Event_what",
          "VISY v. SLOVAKIA<br>Event",
          "VISY v. SLOVAKIA<br>Event_who",
          "VISY v. SLOVAKIA<br>Event_when",
          "VISY v. SLOVAKIA<br>Event_what",
          "OTGON v. THE REPUBLIC OF MOLDOVA<br>Event",
          "OTGON v. THE REPUBLIC OF MOLDOVA<br>Event_who",
          "OTGON v. THE REPUBLIC OF MOLDOVA<br>Event_when",
          "OTGON v. THE REPUBLIC OF MOLDOVA<br>Event_what",
          "M.T. v. UKRAINE<br>Event",
          "M.T. v. UKRAINE<br>Event_who",
          "M.T. v. UKRAINE<br>Event_when",
          "M.T. v. UKRAINE<br>Event_what",
          "RESIN v. RUSSIA<br>Event",
          "RESIN v. RUSSIA<br>Event_who",
          "RESIN v. RUSSIA<br>Event_when",
          "RESIN v. RUSSIA<br>Event_what",
          "DOKTOROV v. BULGARIA<br>Event",
          "DOKTOROV v. BULGARIA<br>Event_who",
          "DOKTOROV v. BULGARIA<br>Event_when",
          "DOKTOROV v. BULGARIA<br>Event_what",
          "YERMAKOVICH v. RUSSIA<br>Event",
          "YERMAKOVICH v. RUSSIA<br>Event_who",
          "YERMAKOVICH v. RUSSIA<br>Event_when",
          "YERMAKOVICH v. RUSSIA<br>Event_what",
          "YAKUSHEV v. UKRAINE<br>Event",
          "YAKUSHEV v. UKRAINE<br>Event_who",
          "YAKUSHEV v. UKRAINE<br>Event_when",
          "YAKUSHEV v. UKRAINE<br>Event_what",
          "STANA v. ROMANIA<br>Event",
          "STANA v. ROMANIA<br>Event_who",
          "STANA v. ROMANIA<br>Event_when",
          "STANA v. ROMANIA<br>Event_what",
          "_NODI v. HUNGARY<br>Event",
          "_NODI v. HUNGARY<br>Event_who",
          "_NODI v. HUNGARY<br>Event_when",
          "_NODI v. HUNGARY<br>Event_what",
          "PAKHTUSOV v. RUSSIA<br>Event",
          "PAKHTUSOV v. RUSSIA<br>Event_who",
          "PAKHTUSOV v. RUSSIA<br>Event_when",
          "PAKHTUSOV v. RUSSIA<br>Event_what",
          "KOSAITE - CYPIENE AND OTHERS v. LITHUANIA<br>Event",
          "KOSAITE - CYPIENE AND OTHERS v. LITHUANIA<br>Event_who",
          "KOSAITE - CYPIENE AND OTHERS v. LITHUANIA<br>Event_when",
          "KOSAITE - CYPIENE AND OTHERS v. LITHUANIA<br>Event_what",
          "S.V. v. ITALY<br>Event",
          "S.V. v. ITALY<br>Event_who",
          "S.V. v. ITALY<br>Event_when",
          "S.V. v. ITALY<br>Event_what",
          "CAN v. TURKEY<br>Event",
          "CAN v. TURKEY<br>Event_who",
          "CAN v. TURKEY<br>Event_when",
          "CAN v. TURKEY<br>Event_what",
          "CRISTIAN CATALIN UNGUREANU v. ROMANIA<br>Event",
          "CRISTIAN CATALIN UNGUREANU v. ROMANIA<br>Event_who",
          "CRISTIAN CATALIN UNGUREANU v. ROMANIA<br>Event_when",
          "CRISTIAN CATALIN UNGUREANU v. ROMANIA<br>Event_what",
          "MURUZHEVA v. RUSSIA<br>Event",
          "MURUZHEVA v. RUSSIA<br>Event_who",
          "MURUZHEVA v. RUSSIA<br>Event_when",
          "MURUZHEVA v. RUSSIA<br>Event_what",
          "LOZOVYYE v. RUSSIA<br>Event",
          "LOZOVYYE v. RUSSIA<br>Event_who",
          "LOZOVYYE v. RUSSIA<br>Event_when",
          "LOZOVYYE v. RUSSIA<br>Event_what",
          "O.C.I. AND OTHERS v. ROMANIA<br>Event",
          "O.C.I. AND OTHERS v. ROMANIA<br>Event_who",
          "O.C.I. AND OTHERS v. ROMANIA<br>Event_when",
          "O.C.I. AND OTHERS v. ROMANIA<br>Event_what",
          "CABUCAK v. GERMANY<br>Event",
          "CABUCAK v. GERMANY<br>Event_who",
          "CABUCAK v. GERMANY<br>Event_when",
          "CABUCAK v. GERMANY<br>Event_what"
         ],
         "type": "scatter",
         "x": {
          "bdata": "GIZhGIZhmD8AAAAAAAAAAPoYnI/B+ag/AAAAAAAAAAAcx3Ecx3G8PwAAAAAAAAAAAAAAAAAA2D8AAAAAAADAPxQ7sRM7sbM/AAAAAAAAAAAUO7ETO7GzPwAAAAAAAAAAAAAAAAAAAAAAAAAAAAAAAAAAAAAAAAAAAAAAAAAAAAAAAAAAAAAAAEYXXXTRRbc/AAAAAAAA5D+SJEmSJEmyPwAAAAAAAAAAAAAAAAAAAAAAAAAAAAAAAAAAAAAAAAAAFDuxEzuxsz8AAAAAAAAAABQ7sRM7sbM/AAAAAAAAAACe2Imd2InNPwAAAAAAAAAAdNFFF1100T8cx3Ecx3G8P5eWlpaWltY/AAAAAAAAAABGF1100UXXPwAAAAAAAAAAGIZhGIZhuD8AAAAAAAAAABiGYRiGYbg/AAAAAAAAAAAAAAAAAAAAAAAAAAAAAAAAAAAAAAAAAAAAAAAAAAAAAAAAAAAAAAAAAAAAAAAAAAAAAAAAAAAAAAAAAAAAAAAAAAAAAAAAAAAAAAAAAAAAAEYXXXTRRbc/AAAAAAAAAAAAAAAAAADQPxQ7sRM7scM/mpmZmZmZ2T+amZmZmZnJP7dt27Zt29Y/AAAAAAAAAACrqqqqqqriPwAAAAAAAAAAAAAAAAAA0D8AAAAAAAAAANu2bdu2bcs/RhdddNFFpz9VVVVVVVXlPwAAAAAAAAAAAAAAAAAA0D8RERERERGxPxEREREREaE/AAAAAAAAAAARERERERGhPwAAAAAAAAAAq6qqqqqq4j9GF1100UXHP5qZmZmZmdk/AAAAAAAAAABVVVVVVVXlPwAAAAAAAAAAAAAAAAAA4D9GF1100UW3P7bWWmuttdY/AAAAAAAAAABGF1100UXXPwAAAAAAAAAAq6qqqqqq4j8AAAAAAADQP5qZmZmZmck/AAAAAAAAwD/QusEU+aybPwAAAAAAAAAACB988MEHnz/6GJyPwfmYPwAAAAAAAAAAAAAAAAAAAAAAAAAAAAAAAAAAAAAAAAAAVVVVVVVV1T8AAAAAAAAAAJqZmZmZmck/XkN5DeU1xD+SJEmSJEnSPxiGYRiGYag/VVVVVVVV1T/ZiZ3YiZ3IPwAAAAAAAAAAAAAAAAAAAAAAAAAAAAAAAAAAAAAAAAAAVVVVVVVV1T8AAAAAAAAAAFVVVVVVVdU/RhdddNFFxz8LWchCFrLAPwAAAAAAAAAARhdddNFFtz8AAAAAAAAAAPoYnI/B+Zg/AAAAAAAAAAAor6G8hvKqPwAAAAAAAAAA",
          "dtype": "f8"
         },
         "xaxis": "x3",
         "y": {
          "bdata": "mpmZmZmZuT8AAAAAAAAAAFVVVVVVVdU/AAAAAAAAAAAAAAAAAADAPwAAAAAAAAAA27Zt27Zt2z+SJEmSJEnSPwAAAAAAANA/AAAAAAAAAABVVVVVVVXVPwAAAAAAAAAAAAAAAAAAAAAAAAAAAAAAAAAAAAAAAAAAAAAAAAAAAAAAAAAAAAAAABzHcRzHcbw/chzHcRzH4T8AAAAAAADAPwAAAAAAAAAAAAAAAAAAAAAAAAAAAAAAAAAAAAAAAAAAAAAAAAAA8D8AAAAAAAAAAAAAAAAAAPA/AAAAAAAAAABVVVVVVVXVPwAAAAAAAAAA27Zt27Zt2z8AAAAAAADgP57YiZ3Yid0/AAAAAAAAAAAAAAAAAADgPwAAAAAAAAAAERERERERwT8AAAAAAAAAABEREREREcE/AAAAAAAAAAAAAAAAAAAAAAAAAAAAAAAAAAAAAAAAAAAAAAAAAAAAAAAAAAAAAAAAAAAAAAAAAAAAAAAAAAAAAAAAAAAAAAAAAAAAAAAAAAAAAAAAAAAAAFVVVVVVVcU/AAAAAAAAAACamZmZmZnJPxQ7sRM7scM/ERERERER0T8zMzMzMzPTP7dt27Zt29Y/AAAAAAAAAACxEzuxEzvhPwAAAAAAAAAAkiRJkiRJ0j8AAAAAAAAAAFVVVVVVVdU/AAAAAAAAwD+SJEmSJEniPwAAAAAAAAAAkiRJkiRJwj8AAAAAAADgPwAAAAAAANA/AAAAAAAAAABVVVVVVVXVPwAAAAAAAAAAq6qqqqqq4j8AAAAAAADgP1VVVVVVVdU/AAAAAAAAAABVVVVVVVXlPwAAAAAAAAAAVVVVVVVV5T8AAAAAAADwP7W0tLS0tOQ/AAAAAAAAAAAeHh4eHh7ePwAAAAAAAAAA3t3d3d3d3T8AAAAAAADQP5qZmZmZmdk/HMdxHMdxzD8AAAAAAADwPwAAAAAAAAAAAAAAAAAA8D8AAAAAAADwPwAAAAAAAAAAAAAAAAAAAAAAAAAAAAAAAAAAAAAAAAAAAAAAAAAA5D8AAAAAAAAAANu2bdu2bds/AAAAAAAA4D+amZmZmZnZP5qZmZmZmbk/AAAAAAAA4D+rqqqqqqraPwAAAAAAAAAAAAAAAAAAAAAAAAAAAAAAAAAAAAAAAAAA27Zt27Zt2z8AAAAAAAAAAKuqqqqqqto/HMdxHMdx3D8AAAAAAADYPwAAAAAAAAAAAAAAAAAA0D8AAAAAAAAAAJqZmZmZmak/AAAAAAAAAACamZmZmZm5PwAAAAAAAAAA",
          "dtype": "f8"
         },
         "yaxis": "y3"
        },
        {
         "hovertemplate": "<b>%{text}</b><br>Recall: %{x:.3f}<br>Precision: %{y:.3f}<extra></extra>",
         "legendgroup": "scatter",
         "marker": {
          "color": "#3498DB",
          "opacity": 0.7,
          "size": 8,
          "symbol": "circle"
         },
         "mode": "markers",
         "name": "gemma3:4b (docs)",
         "showlegend": true,
         "text": [
          "S.N. v. RUSSIA<br>Event",
          "S.N. v. RUSSIA<br>Event_who",
          "S.N. v. RUSSIA<br>Event_when",
          "S.N. v. RUSSIA<br>Event_what",
          "BELYAYEV AND OTHERS v. UKRAINE<br>Event",
          "BELYAYEV AND OTHERS v. UKRAINE<br>Event_who",
          "BELYAYEV AND OTHERS v. UKRAINE<br>Event_when",
          "BELYAYEV AND OTHERS v. UKRAINE<br>Event_what",
          "SIDOROVA v. RUSSIA<br>Event",
          "SIDOROVA v. RUSSIA<br>Event_who",
          "SIDOROVA v. RUSSIA<br>Event_when",
          "SIDOROVA v. RUSSIA<br>Event_what",
          "EGILL EINARSSON v. ICELAND (No. 2)<br>Event",
          "EGILL EINARSSON v. ICELAND (No. 2)<br>Event_who",
          "EGILL EINARSSON v. ICELAND (No. 2)<br>Event_when",
          "EGILL EINARSSON v. ICELAND (No. 2)<br>Event_what",
          "MOSKALEV v. RUSSIA<br>Event",
          "MOSKALEV v. RUSSIA<br>Event_who",
          "MOSKALEV v. RUSSIA<br>Event_when",
          "MOSKALEV v. RUSSIA<br>Event_what",
          "PANYUSHKINY v. RUSSIA<br>Event",
          "PANYUSHKINY v. RUSSIA<br>Event_who",
          "PANYUSHKINY v. RUSSIA<br>Event_when",
          "PANYUSHKINY v. RUSSIA<br>Event_what",
          "BIGUN v. UKRAINE<br>Event",
          "BIGUN v. UKRAINE<br>Event_who",
          "BIGUN v. UKRAINE<br>Event_when",
          "BIGUN v. UKRAINE<br>Event_what",
          "SOLCAN v. ROMANIA<br>Event",
          "SOLCAN v. ROMANIA<br>Event_who",
          "SOLCAN v. ROMANIA<br>Event_when",
          "SOLCAN v. ROMANIA<br>Event_what",
          "YEVGENIY ZAKHAROV v. RUSSIA<br>Event",
          "YEVGENIY ZAKHAROV v. RUSSIA<br>Event_who",
          "YEVGENIY ZAKHAROV v. RUSSIA<br>Event_when",
          "YEVGENIY ZAKHAROV v. RUSSIA<br>Event_what",
          "ALTAY v. TURKEY (No. 2)<br>Event",
          "ALTAY v. TURKEY (No. 2)<br>Event_who",
          "ALTAY v. TURKEY (No. 2)<br>Event_when",
          "ALTAY v. TURKEY (No. 2)<br>Event_what",
          "H_INESS v. NORWAY (1)<br>Event",
          "H_INESS v. NORWAY (1)<br>Event_who",
          "H_INESS v. NORWAY (1)<br>Event_when",
          "H_INESS v. NORWAY (1)<br>Event_what",
          "SHVIDKIYE v. RUSSIA<br>Event",
          "SHVIDKIYE v. RUSSIA<br>Event_who",
          "SHVIDKIYE v. RUSSIA<br>Event_when",
          "SHVIDKIYE v. RUSSIA<br>Event_what",
          "VISY v. SLOVAKIA<br>Event",
          "VISY v. SLOVAKIA<br>Event_who",
          "VISY v. SLOVAKIA<br>Event_when",
          "VISY v. SLOVAKIA<br>Event_what",
          "OTGON v. THE REPUBLIC OF MOLDOVA<br>Event",
          "OTGON v. THE REPUBLIC OF MOLDOVA<br>Event_who",
          "OTGON v. THE REPUBLIC OF MOLDOVA<br>Event_when",
          "OTGON v. THE REPUBLIC OF MOLDOVA<br>Event_what",
          "M.T. v. UKRAINE<br>Event",
          "M.T. v. UKRAINE<br>Event_who",
          "M.T. v. UKRAINE<br>Event_when",
          "M.T. v. UKRAINE<br>Event_what",
          "RESIN v. RUSSIA<br>Event",
          "RESIN v. RUSSIA<br>Event_who",
          "RESIN v. RUSSIA<br>Event_when",
          "RESIN v. RUSSIA<br>Event_what",
          "DOKTOROV v. BULGARIA<br>Event",
          "DOKTOROV v. BULGARIA<br>Event_who",
          "DOKTOROV v. BULGARIA<br>Event_when",
          "DOKTOROV v. BULGARIA<br>Event_what",
          "YERMAKOVICH v. RUSSIA<br>Event",
          "YERMAKOVICH v. RUSSIA<br>Event_who",
          "YERMAKOVICH v. RUSSIA<br>Event_when",
          "YERMAKOVICH v. RUSSIA<br>Event_what",
          "YAKUSHEV v. UKRAINE<br>Event",
          "YAKUSHEV v. UKRAINE<br>Event_who",
          "YAKUSHEV v. UKRAINE<br>Event_when",
          "YAKUSHEV v. UKRAINE<br>Event_what",
          "STANA v. ROMANIA<br>Event",
          "STANA v. ROMANIA<br>Event_who",
          "STANA v. ROMANIA<br>Event_when",
          "STANA v. ROMANIA<br>Event_what",
          "_NODI v. HUNGARY<br>Event",
          "_NODI v. HUNGARY<br>Event_who",
          "_NODI v. HUNGARY<br>Event_when",
          "_NODI v. HUNGARY<br>Event_what",
          "PAKHTUSOV v. RUSSIA<br>Event",
          "PAKHTUSOV v. RUSSIA<br>Event_who",
          "PAKHTUSOV v. RUSSIA<br>Event_when",
          "PAKHTUSOV v. RUSSIA<br>Event_what",
          "KOSAITE - CYPIENE AND OTHERS v. LITHUANIA<br>Event",
          "KOSAITE - CYPIENE AND OTHERS v. LITHUANIA<br>Event_who",
          "KOSAITE - CYPIENE AND OTHERS v. LITHUANIA<br>Event_when",
          "KOSAITE - CYPIENE AND OTHERS v. LITHUANIA<br>Event_what",
          "S.V. v. ITALY<br>Event",
          "S.V. v. ITALY<br>Event_who",
          "S.V. v. ITALY<br>Event_when",
          "S.V. v. ITALY<br>Event_what",
          "CAN v. TURKEY<br>Event",
          "CAN v. TURKEY<br>Event_who",
          "CAN v. TURKEY<br>Event_when",
          "CAN v. TURKEY<br>Event_what",
          "CRISTIAN CATALIN UNGUREANU v. ROMANIA<br>Event",
          "CRISTIAN CATALIN UNGUREANU v. ROMANIA<br>Event_who",
          "CRISTIAN CATALIN UNGUREANU v. ROMANIA<br>Event_when",
          "CRISTIAN CATALIN UNGUREANU v. ROMANIA<br>Event_what",
          "MURUZHEVA v. RUSSIA<br>Event",
          "MURUZHEVA v. RUSSIA<br>Event_who",
          "MURUZHEVA v. RUSSIA<br>Event_when",
          "MURUZHEVA v. RUSSIA<br>Event_what",
          "LOZOVYYE v. RUSSIA<br>Event",
          "LOZOVYYE v. RUSSIA<br>Event_who",
          "LOZOVYYE v. RUSSIA<br>Event_when",
          "LOZOVYYE v. RUSSIA<br>Event_what",
          "O.C.I. AND OTHERS v. ROMANIA<br>Event",
          "O.C.I. AND OTHERS v. ROMANIA<br>Event_who",
          "O.C.I. AND OTHERS v. ROMANIA<br>Event_when",
          "O.C.I. AND OTHERS v. ROMANIA<br>Event_what",
          "CABUCAK v. GERMANY<br>Event",
          "CABUCAK v. GERMANY<br>Event_who",
          "CABUCAK v. GERMANY<br>Event_when",
          "CABUCAK v. GERMANY<br>Event_what"
         ],
         "type": "scatter",
         "x": {
          "bdata": "AAAAAAAAAAAAAAAAAAAAAAAAAAAAAAAAAAAAAAAAAAAcx3Ecx3HMPwAAAAAAAAAAAAAAAAAAAAAAAAAAAAAAAAAAAAAAAAAAAAAAAAAAAAAAAAAAAAAAAAAAAAAAAAAA27Zt27Ztyz8AAAAAAAAAABQ7sRM7scM/ERERERERwT9ddNFFF13kP0YXXXTRRcc/AAAAAAAA5D+3bdu2bdvWPyebbLLJJss/CB988MEHnz8cx3Ecx3HMPwAAAAAAAAAA2Ymd2Imd2D8AAAAAAAAAAJ7YiZ3Yic0/HMdxHMdxvD+e2Imd2IndPwAAAAAAAAAARhdddNFFxz8cx3Ecx3G8P7W0tLS0tOQ/ERERERERwT8XXXTRRRfdPxiGYRiGYbg/nud5nud53j8or6G8hvKqP1VVVVVVVdU/mpmZmZmZuT/GGGOMMca4PwAAAAAAAAAAlnsaYbmnsT8d1EEd1EGdP3TRRRdddOE/AAAAAAAAAADNzMzMzMzcP2gvob2E9qI/mpmZmZmZ2T+SJEmSJEmyP3TRRRdddNE/GIZhGIZhuD8AAAAAAAAAAAAAAAAAAAAAAAAAAAAAAAAAAAAAAAAAAJIkSZIkSeI/VVVVVVVVtT8AAAAAAADgPyivobyG8so/AAAAAAAA1D8AAAAAAAAAAJIkSZIkSdI/RhdddNFFtz+rqqqqqqraPwAAAAAAAAAAAAAAAAAA2D8RERERERHBPxEREREREaE/AAAAAAAAAAARERERERGhPwAAAAAAAAAAAAAAAAAA4D900UUXXXTRPzMzMzMzM+M/AAAAAAAAyD+rqqqqqqrqP1VVVVVVVcU/AAAAAAAA4D900UUXXXTRP+ecc84559w/AAAAAAAAAABddNFFF13UP5qZmZmZmak/VVVVVVVV5T+rqqqqqqraPzMzMzMzM+M/AAAAAAAAyD/QusEU+ay7PwAAAAAAAAAACB988MEHnz8AAAAAAAAAAAAAAAAAAOA/AAAAAAAAAACxEzuxEzvhP3sUrkfherQ/vLu7u7u76z8RERERERGxP3d3d3d3d+c/Q3kN5TWU1z+SJEmSJEnCPwAAAAAAAAAAHMdxHMdxvD8UO7ETO7GjP1PWlDVlTdk/GIZhGIZhuD/HcRzHcRzXPzkFL6fg5ZQ/VVVVVVVV5T8cx3Ecx3G8PzMzMzMzM+M/XXTRRRdd1D84velNb3rTPwAAAAAAAAAARhdddNFFxz98GmG5pxHGPzgfg/MxOL8/AAAAAAAAAAB5DeU1lNfAPwAAAAAAAAAA",
          "dtype": "f8"
         },
         "xaxis": "x3",
         "y": {
          "bdata": "AAAAAAAAAAAAAAAAAAAAAAAAAAAAAAAAAAAAAAAAAABVVVVVVVXVPwAAAAAAAAAAAAAAAAAAAAAAAAAAAAAAAAAAAAAAAAAAAAAAAAAAAAAAAAAAAAAAAAAAAAAAAAAAMzMzMzMz4z8AAAAAAAAAAAAAAAAAAPA/AAAAAAAA4D8AAAAAAADcP0YXXXTRRcc/AAAAAAAA5D9VVVVVVVXVP7ETO7ETO9E/ZCELWchCpj8AAAAAAADQPwAAAAAAAAAA09LS0tLS0j8AAAAAAAAAAJ7YiZ3Yic0/AAAAAAAA0D9VVVVVVVXVPwAAAAAAAAAAAAAAAAAA4D8RERERERHBP3d3d3d3d+c/RhdddNFFxz+3bdu2bdvmP1VVVVVVVeU/AAAAAAAA5D8AAAAAAACwP1100UUXXeQ/27Zt27Zt2z9VVVVVVVXVPwAAAAAAAAAAkiRJkiRJ0j8AAAAAAADwP5qZmZmZmek/AAAAAAAAAADNzMzMzMzsPwAAAAAAAOA/AAAAAAAA2D8RERERERGxP9u2bdu2bds/VVVVVVVV1T8AAAAAAAAAAAAAAAAAAAAAAAAAAAAAAAAAAAAAAAAAABzHcRzHcdw/kiRJkiRJsj9VVVVVVVXlP0YXXXTRRdc/t23btm3b5j8AAAAAAAAAAAAAAAAAAPA/AAAAAAAA4D9yHMdxHMfhPwAAAAAAAAAAVVVVVVVV1T8AAAAAAADgPwAAAAAAAOA/AAAAAAAAAAAAAAAAAADgPwAAAAAAAAAAAAAAAAAA4D8AAAAAAADQPwAAAAAAAOA/AAAAAAAA4D9yHMdxHMfhPwAAAAAAAMA/VVVVVVVV5T8zMzMzMzPjPzi96U1veuM/AAAAAAAAAABmZmZmZmbWP0YXXXTRRcc/kiRJkiRJ0j9CewntJbTHP5qZmZmZmdk/mpmZmZmZyT+amZmZmZnpPwAAAAAAAAAAAAAAAAAA8D8AAAAAAAAAAHZiJ3ZiJ+Y/AAAAAAAAAABddNFFF13kP1VVVVVVVeU/vLu7u7u76z8RERERERGxP3d3d3d3d+c/ZmZmZmZm5j8AAAAAAADYPwAAAAAAAAAAAAAAAAAA4D+amZmZmZnJP7rooosuuug/Hh4eHh4ezj/NzMzMzMzkPwAAAAAAAOA/l5aWlpaW5j9VVVVVVVXFP83MzMzMzOw/sRM7sRM74T9ddNFFF13kPwAAAAAAAAAAmpmZmZmZ6T9yHMdxHMfhP1VVVVVVVdU/AAAAAAAAAAC3bdu2bdvWPwAAAAAAAAAA",
          "dtype": "f8"
         },
         "yaxis": "y3"
        },
        {
         "hovertemplate": "<b>%{text}</b><br>Recall: %{x:.3f}<br>Precision: %{y:.3f}<extra></extra>",
         "legendgroup": "scatter",
         "marker": {
          "color": "#2ECC71",
          "opacity": 0.7,
          "size": 8,
          "symbol": "circle"
         },
         "mode": "markers",
         "name": "gemma3:12b (docs)",
         "showlegend": true,
         "text": [
          "S.N. v. RUSSIA<br>Event",
          "S.N. v. RUSSIA<br>Event_who",
          "S.N. v. RUSSIA<br>Event_when",
          "S.N. v. RUSSIA<br>Event_what",
          "BELYAYEV AND OTHERS v. UKRAINE<br>Event",
          "BELYAYEV AND OTHERS v. UKRAINE<br>Event_who",
          "BELYAYEV AND OTHERS v. UKRAINE<br>Event_when",
          "BELYAYEV AND OTHERS v. UKRAINE<br>Event_what",
          "SIDOROVA v. RUSSIA<br>Event",
          "SIDOROVA v. RUSSIA<br>Event_who",
          "SIDOROVA v. RUSSIA<br>Event_when",
          "SIDOROVA v. RUSSIA<br>Event_what",
          "EGILL EINARSSON v. ICELAND (No. 2)<br>Event",
          "EGILL EINARSSON v. ICELAND (No. 2)<br>Event_who",
          "EGILL EINARSSON v. ICELAND (No. 2)<br>Event_when",
          "EGILL EINARSSON v. ICELAND (No. 2)<br>Event_what",
          "MOSKALEV v. RUSSIA<br>Event",
          "MOSKALEV v. RUSSIA<br>Event_who",
          "MOSKALEV v. RUSSIA<br>Event_when",
          "MOSKALEV v. RUSSIA<br>Event_what",
          "PANYUSHKINY v. RUSSIA<br>Event",
          "PANYUSHKINY v. RUSSIA<br>Event_who",
          "PANYUSHKINY v. RUSSIA<br>Event_when",
          "PANYUSHKINY v. RUSSIA<br>Event_what",
          "BIGUN v. UKRAINE<br>Event",
          "BIGUN v. UKRAINE<br>Event_who",
          "BIGUN v. UKRAINE<br>Event_when",
          "BIGUN v. UKRAINE<br>Event_what",
          "SOLCAN v. ROMANIA<br>Event",
          "SOLCAN v. ROMANIA<br>Event_who",
          "SOLCAN v. ROMANIA<br>Event_when",
          "SOLCAN v. ROMANIA<br>Event_what",
          "YEVGENIY ZAKHAROV v. RUSSIA<br>Event",
          "YEVGENIY ZAKHAROV v. RUSSIA<br>Event_who",
          "YEVGENIY ZAKHAROV v. RUSSIA<br>Event_when",
          "YEVGENIY ZAKHAROV v. RUSSIA<br>Event_what",
          "ALTAY v. TURKEY (No. 2)<br>Event",
          "ALTAY v. TURKEY (No. 2)<br>Event_who",
          "ALTAY v. TURKEY (No. 2)<br>Event_when",
          "ALTAY v. TURKEY (No. 2)<br>Event_what",
          "H_INESS v. NORWAY (1)<br>Event",
          "H_INESS v. NORWAY (1)<br>Event_who",
          "H_INESS v. NORWAY (1)<br>Event_when",
          "H_INESS v. NORWAY (1)<br>Event_what",
          "SHVIDKIYE v. RUSSIA<br>Event",
          "SHVIDKIYE v. RUSSIA<br>Event_who",
          "SHVIDKIYE v. RUSSIA<br>Event_when",
          "SHVIDKIYE v. RUSSIA<br>Event_what",
          "VISY v. SLOVAKIA<br>Event",
          "VISY v. SLOVAKIA<br>Event_who",
          "VISY v. SLOVAKIA<br>Event_when",
          "VISY v. SLOVAKIA<br>Event_what",
          "OTGON v. THE REPUBLIC OF MOLDOVA<br>Event",
          "OTGON v. THE REPUBLIC OF MOLDOVA<br>Event_who",
          "OTGON v. THE REPUBLIC OF MOLDOVA<br>Event_when",
          "OTGON v. THE REPUBLIC OF MOLDOVA<br>Event_what",
          "M.T. v. UKRAINE<br>Event",
          "M.T. v. UKRAINE<br>Event_who",
          "M.T. v. UKRAINE<br>Event_when",
          "M.T. v. UKRAINE<br>Event_what",
          "RESIN v. RUSSIA<br>Event",
          "RESIN v. RUSSIA<br>Event_who",
          "RESIN v. RUSSIA<br>Event_when",
          "RESIN v. RUSSIA<br>Event_what",
          "DOKTOROV v. BULGARIA<br>Event",
          "DOKTOROV v. BULGARIA<br>Event_who",
          "DOKTOROV v. BULGARIA<br>Event_when",
          "DOKTOROV v. BULGARIA<br>Event_what",
          "YERMAKOVICH v. RUSSIA<br>Event",
          "YERMAKOVICH v. RUSSIA<br>Event_who",
          "YERMAKOVICH v. RUSSIA<br>Event_when",
          "YERMAKOVICH v. RUSSIA<br>Event_what",
          "YAKUSHEV v. UKRAINE<br>Event",
          "YAKUSHEV v. UKRAINE<br>Event_who",
          "YAKUSHEV v. UKRAINE<br>Event_when",
          "YAKUSHEV v. UKRAINE<br>Event_what",
          "STANA v. ROMANIA<br>Event",
          "STANA v. ROMANIA<br>Event_who",
          "STANA v. ROMANIA<br>Event_when",
          "STANA v. ROMANIA<br>Event_what",
          "_NODI v. HUNGARY<br>Event",
          "_NODI v. HUNGARY<br>Event_who",
          "_NODI v. HUNGARY<br>Event_when",
          "_NODI v. HUNGARY<br>Event_what",
          "PAKHTUSOV v. RUSSIA<br>Event",
          "PAKHTUSOV v. RUSSIA<br>Event_who",
          "PAKHTUSOV v. RUSSIA<br>Event_when",
          "PAKHTUSOV v. RUSSIA<br>Event_what",
          "KOSAITE - CYPIENE AND OTHERS v. LITHUANIA<br>Event",
          "KOSAITE - CYPIENE AND OTHERS v. LITHUANIA<br>Event_who",
          "KOSAITE - CYPIENE AND OTHERS v. LITHUANIA<br>Event_when",
          "KOSAITE - CYPIENE AND OTHERS v. LITHUANIA<br>Event_what",
          "S.V. v. ITALY<br>Event",
          "S.V. v. ITALY<br>Event_who",
          "S.V. v. ITALY<br>Event_when",
          "S.V. v. ITALY<br>Event_what",
          "CAN v. TURKEY<br>Event",
          "CAN v. TURKEY<br>Event_who",
          "CAN v. TURKEY<br>Event_when",
          "CAN v. TURKEY<br>Event_what",
          "CRISTIAN CATALIN UNGUREANU v. ROMANIA<br>Event",
          "CRISTIAN CATALIN UNGUREANU v. ROMANIA<br>Event_who",
          "CRISTIAN CATALIN UNGUREANU v. ROMANIA<br>Event_when",
          "CRISTIAN CATALIN UNGUREANU v. ROMANIA<br>Event_what",
          "MURUZHEVA v. RUSSIA<br>Event",
          "MURUZHEVA v. RUSSIA<br>Event_who",
          "MURUZHEVA v. RUSSIA<br>Event_when",
          "MURUZHEVA v. RUSSIA<br>Event_what",
          "LOZOVYYE v. RUSSIA<br>Event",
          "LOZOVYYE v. RUSSIA<br>Event_who",
          "LOZOVYYE v. RUSSIA<br>Event_when",
          "LOZOVYYE v. RUSSIA<br>Event_what",
          "O.C.I. AND OTHERS v. ROMANIA<br>Event",
          "O.C.I. AND OTHERS v. ROMANIA<br>Event_who",
          "O.C.I. AND OTHERS v. ROMANIA<br>Event_when",
          "O.C.I. AND OTHERS v. ROMANIA<br>Event_what",
          "CABUCAK v. GERMANY<br>Event",
          "CABUCAK v. GERMANY<br>Event_who",
          "CABUCAK v. GERMANY<br>Event_when",
          "CABUCAK v. GERMANY<br>Event_what"
         ],
         "type": "scatter",
         "x": {
          "bdata": "GIZhGIZhmD+amZmZmZmZPwAAAAAAAAAARhdddNFFlz85juM4juPoPwAAAAAAAMA/AAAAAAAA0D8AAAAAAADAP3ZiJ3ZiJ+Y/sRM7sRM74T8UO7ETO7HDP5qZmZmZmdk/27Zt27Zt2z8UO7ETO7HDP57YiZ3Yid0/VVVVVVVV1T900UUXXXThP0YXXXTRRcc/AAAAAAAA4D+SJEmSJEnSP0422WSTTeY/ZZNNNtlkwz8vob2E9hLqPzmO4ziO49g/2Ymd2Imd2D8UO7ETO7GzP57YiZ3Yic0/chzHcRzH0T8UO7ETO7HjP9mJndiJndg/XXTRRRdd5D8cx3Ecx3HMPx4eHh4eHs4/ERERERERwT9GF1100UXXP5IkSZIkScI/9DzP8zzP4z9eQ3kN5TXEPzEMwzAMw+A/ERERERERsT+EEEIIIYTgPwAAAAAAANA/3dMIyz2N4D8WX/EVX/HFP1100UUXXdQ/RhdddNFFxz8zMzMzMzPTP0J7Ce0ltMc/ERERERER4T+SJEmSJEmyP0YXXXTRRdc/GIZhGIZhuD+rqqqqqqrqP9mJndiJndg/MzMzMzMz4z8zMzMzMzPjP9u2bdu2bds/VVVVVVVVtT+rqqqqqqraP3kN5TWU19A/AAAAAAAA4j8AAAAAAAAAALdt27Zt29Y/XXTRRRdd1D+rqqqqqqriP0YXXXTRRcc/AAAAAAAA4D+amZmZmZnJP5qZmZmZmbk/ERERERERoT8RERERERGxPyivobyG8qo/AAAAAAAA6D8XXXTRRRfdP5qZmZmZmek/AAAAAAAA3D8AAAAAAADgP1VVVVVVVcU/AAAAAAAA4D9GF1100UXXP/jee++9994/mpmZmZmZuT900UUXXXThPwAAAAAAANA/AAAAAAAA6D8AAAAAAADgPzMzMzMzM+M/AAAAAAAA1D/QusEU+aybPwAAAAAAAAAACB988MEHnz/6GJyPwfmYP3Icx3Ecx+E/VVVVVVVVxT8UO7ETO7HjP+xRuB6F69E/AAAAAAAA8D+amZmZmZnJP5qZmZmZmek/bCivobyG4j+SJEmSJEniP5IkSZIkScI/AAAAAAAA4D92Yid2YifWP5U1ZU1ZU9Y/kiRJkiRJwj85juM4juPYP5IkSZIkScI/VVVVVVVV5T85juM4juPYPxEREREREcE/XXTRRRdd1D+RhSxkIQvZPwtZyEIWssA/RhdddNFF1z9HWO5phOXOP/oYnI/B+dg/zczMzMzMzD8or6G8hvLaP3fEHXFH3ME/",
          "dtype": "f8"
         },
         "xaxis": "x3",
         "y": {
          "bdata": "VVVVVVVVxT9VVVVVVVXFPwAAAAAAAAAAVVVVVVVVxT8AAAAAAADgPxQ7sRM7sbM/mpmZmZmZyT+SJEmSJEnCPwAAAAAAAOg/q6qqqqqq4j9VVVVVVVXlPzMzMzMzM+M/VVVVVVVV5T8cx3Ecx3HMP9u2bdu2bes/chzHcRzH4T9VVVVVVVXlPxzHcRzHccw/mpmZmZmZ6T+SJEmSJEniP6uqqqqqqu4/velNb3rTyz9VVVVVVVXtP2ZmZmZmZuY/AAAAAAAA1D+SJEmSJEmyPwAAAAAAANg/q6qqqqqq2j8cx3Ecx3HsP3Icx3Ecx+E/OY7jOI7j6D8AAAAAAADgP1VVVVVVVeU/VVVVVVVV1T+amZmZmZnpPwAAAAAAAOA/btu2bdu27T/btm3btm3LP0mSJEmSJOk/kiRJkiRJwj+amZmZmZnpP5qZmZmZmdk/NpTXUF5D6T8zMzMzMzPTP1100UUXXeQ/HMdxHMdx3D/btm3btm3rPwAAAAAAAOA/mpmZmZmZ6T+amZmZmZm5P1VVVVVVVeU/mpmZmZmZyT+96U1vetPbP73pTW9608s/AAAAAAAA6D/NzMzMzMzcP1VVVVVVVeU/AAAAAAAAwD+rqqqqqqrqPwAAAAAAAOQ/L7rooosu6j8AAAAAAAAAAKuqqqqqquo/XXTRRRdd5D9mZmZmZmbmP5qZmZmZmck/HMdxHMdx3D8zMzMzMzPTPwAAAAAAAOA/VVVVVVVVxT9VVVVVVVXVP5qZmZmZmdk/AAAAAAAA6D+rqqqqqqraP1VVVVVVVeU/q6qqqqqq4j/btm3btm3bP5IkSZIkScI/VVVVVVVV1T+SJEmSJEniPzMzMzMzM+M/C1nIQhaywD9VVVVVVVXlP3kN5TWU1+A/dmIndmIn5j900UUXXXThPwAAAAAAAOg/AAAAAAAA5D8AAAAAAADwPwAAAAAAAAAAAAAAAAAA8D8AAAAAAADwP7dt27Zt2+Y/27Zt27Ztyz9GF1100UXnPwAAAAAAAOA/NpTXUF5D6T+amZmZmZnJP5qZmZmZmek/5DiO4ziO4z900UUXXXThP3TRRRdddME/JUmSJEmS5D8N5TWU11DePzw8PDw8POw/l5aWlpaW1j/e3d3d3d3tP7ETO7ETO+E/AAAAAAAA6D8AAAAAAADcP5qZmZmZmdk/XXTRRRdd5D/NzMzMzMzsPzMzMzMzM9M/AAAAAAAA8D9mZmZmZmbmPyivobyG8uo/DeU1lNdQ3j8cx3Ecx3HsP1VVVVVVVdU/",
          "dtype": "f8"
         },
         "yaxis": "y3"
        },
        {
         "hovertemplate": "<b>%{text}</b><br>Recall: %{x:.3f}<br>Precision: %{y:.3f}<extra></extra>",
         "legendgroup": "scatter",
         "marker": {
          "color": "#F39C12",
          "opacity": 0.7,
          "size": 8,
          "symbol": "circle"
         },
         "mode": "markers",
         "name": "mistral:latest (docs)",
         "showlegend": true,
         "text": [
          "S.N. v. RUSSIA<br>Event",
          "S.N. v. RUSSIA<br>Event_who",
          "S.N. v. RUSSIA<br>Event_when",
          "S.N. v. RUSSIA<br>Event_what",
          "BELYAYEV AND OTHERS v. UKRAINE<br>Event",
          "BELYAYEV AND OTHERS v. UKRAINE<br>Event_who",
          "BELYAYEV AND OTHERS v. UKRAINE<br>Event_when",
          "BELYAYEV AND OTHERS v. UKRAINE<br>Event_what",
          "SIDOROVA v. RUSSIA<br>Event",
          "SIDOROVA v. RUSSIA<br>Event_who",
          "SIDOROVA v. RUSSIA<br>Event_when",
          "SIDOROVA v. RUSSIA<br>Event_what",
          "EGILL EINARSSON v. ICELAND (No. 2)<br>Event",
          "EGILL EINARSSON v. ICELAND (No. 2)<br>Event_who",
          "EGILL EINARSSON v. ICELAND (No. 2)<br>Event_when",
          "EGILL EINARSSON v. ICELAND (No. 2)<br>Event_what",
          "MOSKALEV v. RUSSIA<br>Event",
          "MOSKALEV v. RUSSIA<br>Event_who",
          "MOSKALEV v. RUSSIA<br>Event_when",
          "MOSKALEV v. RUSSIA<br>Event_what",
          "PANYUSHKINY v. RUSSIA<br>Event",
          "PANYUSHKINY v. RUSSIA<br>Event_who",
          "PANYUSHKINY v. RUSSIA<br>Event_when",
          "PANYUSHKINY v. RUSSIA<br>Event_what",
          "BIGUN v. UKRAINE<br>Event",
          "BIGUN v. UKRAINE<br>Event_who",
          "BIGUN v. UKRAINE<br>Event_when",
          "BIGUN v. UKRAINE<br>Event_what",
          "SOLCAN v. ROMANIA<br>Event",
          "SOLCAN v. ROMANIA<br>Event_who",
          "SOLCAN v. ROMANIA<br>Event_when",
          "SOLCAN v. ROMANIA<br>Event_what",
          "YEVGENIY ZAKHAROV v. RUSSIA<br>Event",
          "YEVGENIY ZAKHAROV v. RUSSIA<br>Event_who",
          "YEVGENIY ZAKHAROV v. RUSSIA<br>Event_when",
          "YEVGENIY ZAKHAROV v. RUSSIA<br>Event_what",
          "ALTAY v. TURKEY (No. 2)<br>Event",
          "ALTAY v. TURKEY (No. 2)<br>Event_who",
          "ALTAY v. TURKEY (No. 2)<br>Event_when",
          "ALTAY v. TURKEY (No. 2)<br>Event_what",
          "H_INESS v. NORWAY (1)<br>Event",
          "H_INESS v. NORWAY (1)<br>Event_who",
          "H_INESS v. NORWAY (1)<br>Event_when",
          "H_INESS v. NORWAY (1)<br>Event_what",
          "SHVIDKIYE v. RUSSIA<br>Event",
          "SHVIDKIYE v. RUSSIA<br>Event_who",
          "SHVIDKIYE v. RUSSIA<br>Event_when",
          "SHVIDKIYE v. RUSSIA<br>Event_what",
          "VISY v. SLOVAKIA<br>Event",
          "VISY v. SLOVAKIA<br>Event_who",
          "VISY v. SLOVAKIA<br>Event_when",
          "VISY v. SLOVAKIA<br>Event_what",
          "OTGON v. THE REPUBLIC OF MOLDOVA<br>Event",
          "OTGON v. THE REPUBLIC OF MOLDOVA<br>Event_who",
          "OTGON v. THE REPUBLIC OF MOLDOVA<br>Event_when",
          "OTGON v. THE REPUBLIC OF MOLDOVA<br>Event_what",
          "M.T. v. UKRAINE<br>Event",
          "M.T. v. UKRAINE<br>Event_who",
          "M.T. v. UKRAINE<br>Event_when",
          "M.T. v. UKRAINE<br>Event_what",
          "RESIN v. RUSSIA<br>Event",
          "RESIN v. RUSSIA<br>Event_who",
          "RESIN v. RUSSIA<br>Event_when",
          "RESIN v. RUSSIA<br>Event_what",
          "DOKTOROV v. BULGARIA<br>Event",
          "DOKTOROV v. BULGARIA<br>Event_who",
          "DOKTOROV v. BULGARIA<br>Event_when",
          "DOKTOROV v. BULGARIA<br>Event_what",
          "YERMAKOVICH v. RUSSIA<br>Event",
          "YERMAKOVICH v. RUSSIA<br>Event_who",
          "YERMAKOVICH v. RUSSIA<br>Event_when",
          "YERMAKOVICH v. RUSSIA<br>Event_what",
          "YAKUSHEV v. UKRAINE<br>Event",
          "YAKUSHEV v. UKRAINE<br>Event_who",
          "YAKUSHEV v. UKRAINE<br>Event_when",
          "YAKUSHEV v. UKRAINE<br>Event_what",
          "STANA v. ROMANIA<br>Event",
          "STANA v. ROMANIA<br>Event_who",
          "STANA v. ROMANIA<br>Event_when",
          "STANA v. ROMANIA<br>Event_what",
          "_NODI v. HUNGARY<br>Event",
          "_NODI v. HUNGARY<br>Event_who",
          "_NODI v. HUNGARY<br>Event_when",
          "_NODI v. HUNGARY<br>Event_what",
          "PAKHTUSOV v. RUSSIA<br>Event",
          "PAKHTUSOV v. RUSSIA<br>Event_who",
          "PAKHTUSOV v. RUSSIA<br>Event_when",
          "PAKHTUSOV v. RUSSIA<br>Event_what",
          "KOSAITE - CYPIENE AND OTHERS v. LITHUANIA<br>Event",
          "KOSAITE - CYPIENE AND OTHERS v. LITHUANIA<br>Event_who",
          "KOSAITE - CYPIENE AND OTHERS v. LITHUANIA<br>Event_when",
          "KOSAITE - CYPIENE AND OTHERS v. LITHUANIA<br>Event_what",
          "S.V. v. ITALY<br>Event",
          "S.V. v. ITALY<br>Event_who",
          "S.V. v. ITALY<br>Event_when",
          "S.V. v. ITALY<br>Event_what",
          "CAN v. TURKEY<br>Event",
          "CAN v. TURKEY<br>Event_who",
          "CAN v. TURKEY<br>Event_when",
          "CAN v. TURKEY<br>Event_what",
          "CRISTIAN CATALIN UNGUREANU v. ROMANIA<br>Event",
          "CRISTIAN CATALIN UNGUREANU v. ROMANIA<br>Event_who",
          "CRISTIAN CATALIN UNGUREANU v. ROMANIA<br>Event_when",
          "CRISTIAN CATALIN UNGUREANU v. ROMANIA<br>Event_what",
          "MURUZHEVA v. RUSSIA<br>Event",
          "MURUZHEVA v. RUSSIA<br>Event_who",
          "MURUZHEVA v. RUSSIA<br>Event_when",
          "MURUZHEVA v. RUSSIA<br>Event_what",
          "LOZOVYYE v. RUSSIA<br>Event",
          "LOZOVYYE v. RUSSIA<br>Event_who",
          "LOZOVYYE v. RUSSIA<br>Event_when",
          "LOZOVYYE v. RUSSIA<br>Event_what",
          "O.C.I. AND OTHERS v. ROMANIA<br>Event",
          "O.C.I. AND OTHERS v. ROMANIA<br>Event_who",
          "O.C.I. AND OTHERS v. ROMANIA<br>Event_when",
          "O.C.I. AND OTHERS v. ROMANIA<br>Event_what",
          "CABUCAK v. GERMANY<br>Event",
          "CABUCAK v. GERMANY<br>Event_who",
          "CABUCAK v. GERMANY<br>Event_when",
          "CABUCAK v. GERMANY<br>Event_what"
         ],
         "type": "scatter",
         "x": {
          "bdata": "GIZhGIZhuD+amZmZmZmZPwAAAAAAAAAAdNFFF110sT9VVVVVVVXlPwAAAAAAAMA/AAAAAAAAAAAAAAAAAACwP57YiZ3Yic0/FDuxEzuxwz8UO7ETO7HDPxEREREREcE/27Zt27Zt6z/ZiZ3YiZ3YP9mJndiJneg/ERERERERsT8vuuiiiy7qPwAAAAAAAAAAAAAAAAAA6D8AAAAAAADgPy+66KKLLuo/CB988MEHnz9MaC+hvYTmP3Icx3Ecx+E/O7ETO7ET6z8AAAAAAAAAANmJndiJndg/chzHcRzH0T+e2Imd2IntPwAAAAAAAAAARhdddNFF5z9VVVVVVVXVP5eWlpaWluY/ERERERERsT8XXXTRRRfdPxiGYRiGYcg/9DzP8zzP4z8or6G8hvK6P57neZ7ned4/VVVVVVVVxT/XWmuttdbaPwAAAAAAAAAACcs9jbDc0z8d1EEd1EG9P6OLLrroous/F1100UUXzT+amZmZmZnhPxzHcRzHcdw/vLu7u7u76z+SJEmSJEnCP1100UUXXeQ/kiRJkiRJ0j+rqqqqqqriPxQ7sRM7sdM/mpmZmZmZ2T+amZmZmZnZP7dt27Zt2+Y/AAAAAAAAAACrqqqqqqriP0N5DeU1lNc/AAAAAAAA5D8AAAAAAACwP9u2bdu2bcs/RhdddNFFxz8AAAAAAADoPwAAAAAAAAAAAAAAAAAA2D/e3d3d3d3dP1VVVVVVVeU/3t3d3d3dzT8RERERERGhPyivobyG8qo/q6qqqqqq6j900UUXXXTRPzMzMzMzM+M/AAAAAAAA3D+rqqqqqqrqPwAAAAAAAAAAAAAAAAAA0D900UUXXXTRP7bWWmutteY/AAAAAAAAAAAAAAAAAADgP83MzMzMzMw/q6qqqqqq6j9VVVVVVVXFPzMzMzMzM+M/AAAAAAAA3D8q8lk3mCLfP9C6wRT5rKs/dNFFF1100T/6GJyPwfmYPzmO4ziO4+g/AAAAAAAAAAB2Yid2YifmP3sUrkfhetQ/3t3d3d3d7T+amZmZmZnJP1VVVVVVVeU/bCivobyG4j+3bdu2bdvmPwAAAAAAAAAAHMdxHMdx3D92Yid2YifWPzZlTVlT1uQ/kiRJkiRJwj85juM4juPgP9aHxvrQWL8/q6qqqqqq6j8cx3Ecx3G8P1VVVVVVVeU/AAAAAAAA4D8AAAAAAAAAAAAAAAAAAAAAAAAAAAAAAAAAAAAAAAAAABmcj8H5GNw/MzMzMzMzwz9RXkN5DeXVP/QFfUFf0Mc/",
          "dtype": "f8"
         },
         "xaxis": "x3",
         "y": {
          "bdata": "GIZhGIZhyD9VVVVVVVW1PwAAAAAAAAAAAAAAAAAA0D+4HoXrUbjOPyivobyG8qo/AAAAAAAAAABVVVVVVVW1P7gehetRuL4/VVVVVVVVxT9VVVVVVVXlPxzHcRzHccw/HEyRz7rB1D+96U1vetPLPxdddNFFF90/kiRJkiRJwj/x8PDw8PDQPwAAAAAAAAAAAAAAAAAA6D/sUbgehevRP1uplVqpldo/HMdxHMdxvD89z/M8z/PsP4jG+tBYH9o/AAAAAAAA0D8AAAAAAAAAAAAAAAAAAOQ/eQ3lNZTX0D+7ErUrUbvSPwAAAAAAAAAARhdddNFF5z900UUXXXTRPwtZyEIWstA/kiRJkiRJoj9VVVVVVVXVP1VVVVVVVcU/0id90id90j9VVVVVVVW1P9mJndiJneg/eQ3lNZTXwD9L1K5E7UrUPwAAAAAAAAAAMzMzMzMz4z8d1EEd1EG9P2ZmZmZmZt4/AAAAAAAAxD8AAAAAAADmP0YXXXTRRdc/mqZpmqZpyj9GF1100UW3P1paWlpaWto/ntiJndiJvT84velNb3rTP5IkSZIkSeI/mpmZmZmZ6T+amZmZmZnZP2WTTTbZZNM/AAAAAAAAAAAAAAAAAADsP1paWlpaWto/VVVVVVVV5T+SJEmSJEmyPwAAAAAAAOg/kiRJkiRJ4j92Yid2YifWPwAAAAAAAAAAAAAAAAAA4D9mZmZmZmbWP2WTTTbZZOM/ZmZmZmZm1j8AAAAAAADQP5qZmZmZmdk/t23btm3b1j+e2Imd2InNP1VVVVVVVeU/sRM7sRM74T9VVVVVVVXVPwAAAAAAAAAAVVVVVVVV1T/btm3btm3bP+pNb3rTm94/AAAAAAAAAABsKK+hvIbiP/Hw8PDw8OA/chzHcRzH0T8cx3Ecx3HMP1VVVVVVVeU/AAAAAAAA0D9eQ3kN5TXUP4QQQgghhLA/dmIndmIn5j8AAAAAAADAP1100UUXXeQ/AAAAAAAAAAAvuuiiiy7qPx4eHh4eHt4/sRM7sRM74T+SJEmSJEnCP9mJndiJneg/mpmZmZmZ4T/ZiZ3YiZ3YPwAAAAAAAAAAAAAAAAAA4D/btm3btm3bP5IkSZIkSeI/HMdxHMdxzD8ndmIndmLnP3TRRRdddOE/chzHcRzH4T8YhmEYhmG4P9mJndiJneg/tbS0tLS05D8AAAAAAAAAAAAAAAAAAAAAAAAAAAAAAAAAAAAAAAAAAJVSSimllNI/RhdddNFFxz8AAAAAAADqPxEREREREcE/",
          "dtype": "f8"
         },
         "yaxis": "y3"
        },
        {
         "hovertemplate": "<b>gemma3:1b</b><br>Document: %{x}<br>Avg F1: %{y:.3f}<extra></extra>",
         "marker": {
          "color": "#E74C3C"
         },
         "name": "gemma3:1b",
         "opacity": 0.8,
         "showlegend": false,
         "type": "bar",
         "x": [
          "ALTAY v. TURKEY (No. 2)",
          "BELYAYEV AND OTHERS v. UKRAINE",
          "BIGUN v. UKRAINE",
          "CABUCAK v. GERMANY",
          "CAN v. TURKEY",
          "CRISTIAN CATALIN UNGUREANU v. ROMANIA",
          "DOKTOROV v. BULGARIA",
          "EGILL EINARSSON v. ICELAND (No. 2)",
          "H_INESS v. NORWAY (1)",
          "KOSAITE - CYPIENE AND OTHERS v. LITHUANIA",
          "LOZOVYYE v. RUSSIA",
          "M.T. v. UKRAINE",
          "MOSKALEV v. RUSSIA",
          "MURUZHEVA v. RUSSIA",
          "O.C.I. AND OTHERS v. ROMANIA",
          "OTGON v. THE REPUBLIC OF MOLDOVA",
          "PAKHTUSOV v. RUSSIA",
          "PANYUSHKINY v. RUSSIA",
          "RESIN v. RUSSIA",
          "S.N. v. RUSSIA",
          "S.V. v. ITALY",
          "SHVIDKIYE v. RUSSIA",
          "SIDOROVA v. RUSSIA",
          "SOLCAN v. ROMANIA",
          "STANA v. ROMANIA",
          "VISY v. SLOVAKIA",
          "YAKUSHEV v. UKRAINE",
          "YERMAKOVICH v. RUSSIA",
          "YEVGENIY ZAKHAROV v. RUSSIA",
          "_NODI v. HUNGARY"
         ],
         "xaxis": "x4",
         "y": {
          "bdata": "HMdxHMdxrD/qWNOmQiHGP5MkSZIkSbI/tOj4CHIMmj9HJSs+AFLOPyIgudni+dA/qESMNHNGzT8AAAAAAAAAAAAAAAAAAAAA2FTIvIpcpD/y4lK9EQ7QP8cIJvo7Wc0/76iRNMDuyD8AAAAAAAAAAOsUuk6h67Q/eBLBqkX0zT+SizCAeh/TPwAAAAAAAAAAMNcOzLUDwz/hrWu1JaKfPwAAAAAAAAAAAAAAAAAAAAAPDw8PDw+vPzbZZJNNNsk/n+d5nud51j8fHh4eHh6eP2vfsPYNa9M/kh5NB/CSnj9ipB0rEEbKP7h8y7d8y8s/",
          "dtype": "f8"
         },
         "yaxis": "y4"
        },
        {
         "hovertemplate": "<b>gemma3:4b</b><br>Document: %{x}<br>Avg F1: %{y:.3f}<extra></extra>",
         "marker": {
          "color": "#3498DB"
         },
         "name": "gemma3:4b",
         "opacity": 0.8,
         "showlegend": false,
         "type": "bar",
         "x": [
          "ALTAY v. TURKEY (No. 2)",
          "BELYAYEV AND OTHERS v. UKRAINE",
          "BIGUN v. UKRAINE",
          "CABUCAK v. GERMANY",
          "CAN v. TURKEY",
          "CRISTIAN CATALIN UNGUREANU v. ROMANIA",
          "DOKTOROV v. BULGARIA",
          "EGILL EINARSSON v. ICELAND (No. 2)",
          "H_INESS v. NORWAY (1)",
          "KOSAITE - CYPIENE AND OTHERS v. LITHUANIA",
          "LOZOVYYE v. RUSSIA",
          "M.T. v. UKRAINE",
          "MOSKALEV v. RUSSIA",
          "MURUZHEVA v. RUSSIA",
          "O.C.I. AND OTHERS v. ROMANIA",
          "OTGON v. THE REPUBLIC OF MOLDOVA",
          "PAKHTUSOV v. RUSSIA",
          "PANYUSHKINY v. RUSSIA",
          "RESIN v. RUSSIA",
          "S.N. v. RUSSIA",
          "S.V. v. ITALY",
          "SHVIDKIYE v. RUSSIA",
          "SIDOROVA v. RUSSIA",
          "SOLCAN v. ROMANIA",
          "STANA v. ROMANIA",
          "VISY v. SLOVAKIA",
          "YAKUSHEV v. UKRAINE",
          "YERMAKOVICH v. RUSSIA",
          "YEVGENIY ZAKHAROV v. RUSSIA",
          "_NODI v. HUNGARY"
         ],
         "xaxis": "x4",
         "y": {
          "bdata": "hcJY0VMo0z8RERERERGxP5dv+ZZv+cY/yHu8x3u8tz9eIJPiBTLhP3TsEgW8Ab0/c1XYZHCi0D8Clm2+HGDJP0VERERERLQ/oA3pnw3prz+ZI9PLVgbfPz/qoz7qo9Y/RW7aL/642j9GglswQZjSP55L8KY5FM8/AAAAAAAAAADRUu62gkfVP+dabxr3Q8A/mRNmxXeH0D8AAAAAAAAAADKjQ3zM6NQ/YOdzl/IU1T8AAAAAAAAAAMyYyYyZzMg/h2EYhmEY3D9a0mfMWwDOP1pzJmLLQ9k/AAAAAAAAoD9GYARGYATZP6g2GlPhxM0/",
          "dtype": "f8"
         },
         "yaxis": "y4"
        },
        {
         "hovertemplate": "<b>gemma3:12b</b><br>Document: %{x}<br>Avg F1: %{y:.3f}<extra></extra>",
         "marker": {
          "color": "#2ECC71"
         },
         "name": "gemma3:12b",
         "opacity": 0.8,
         "showlegend": false,
         "type": "bar",
         "x": [
          "ALTAY v. TURKEY (No. 2)",
          "BELYAYEV AND OTHERS v. UKRAINE",
          "BIGUN v. UKRAINE",
          "CABUCAK v. GERMANY",
          "CAN v. TURKEY",
          "CRISTIAN CATALIN UNGUREANU v. ROMANIA",
          "DOKTOROV v. BULGARIA",
          "EGILL EINARSSON v. ICELAND (No. 2)",
          "H_INESS v. NORWAY (1)",
          "KOSAITE - CYPIENE AND OTHERS v. LITHUANIA",
          "LOZOVYYE v. RUSSIA",
          "M.T. v. UKRAINE",
          "MOSKALEV v. RUSSIA",
          "MURUZHEVA v. RUSSIA",
          "O.C.I. AND OTHERS v. ROMANIA",
          "OTGON v. THE REPUBLIC OF MOLDOVA",
          "PAKHTUSOV v. RUSSIA",
          "PANYUSHKINY v. RUSSIA",
          "RESIN v. RUSSIA",
          "S.N. v. RUSSIA",
          "S.V. v. ITALY",
          "SHVIDKIYE v. RUSSIA",
          "SIDOROVA v. RUSSIA",
          "SOLCAN v. ROMANIA",
          "STANA v. ROMANIA",
          "VISY v. SLOVAKIA",
          "YAKUSHEV v. UKRAINE",
          "YERMAKOVICH v. RUSSIA",
          "YEVGENIY ZAKHAROV v. RUSSIA",
          "_NODI v. HUNGARY"
         ],
         "xaxis": "x4",
         "y": {
          "bdata": "c9PCW3ZO2j8DUisOq/PQPxD4GbRwm9A/uHZ5m4C02T8rW6DeydDjPzABGQ0TkNo/UBbtKk6Z2D+zEzSUCYbbP00c0QYFdNw/2FTIvIpcpD/fO7CBx97bPyizI288w9g/3Mu93Mu93D+4M320xabXPxFwdSjN6dk/3MM93MM94D+vtoWXv5niPw8Fhl9jyeI/dNFFF1102T/NooO9vwSgP5EGaZAGad0/4mEGYTNa1j8UrkfhehTgP3GSVRMehOE/t3Vbt3Vb1z8rKbyh0SrVPwkDAavjS+M/0pa0JW1Juz8AMt28GyvUP0SSjPMOaNk/",
          "dtype": "f8"
         },
         "yaxis": "y4"
        },
        {
         "hovertemplate": "<b>mistral:latest</b><br>Document: %{x}<br>Avg F1: %{y:.3f}<extra></extra>",
         "marker": {
          "color": "#F39C12"
         },
         "name": "mistral:latest",
         "opacity": 0.8,
         "showlegend": false,
         "type": "bar",
         "x": [
          "ALTAY v. TURKEY (No. 2)",
          "BELYAYEV AND OTHERS v. UKRAINE",
          "BIGUN v. UKRAINE",
          "CABUCAK v. GERMANY",
          "CAN v. TURKEY",
          "CRISTIAN CATALIN UNGUREANU v. ROMANIA",
          "DOKTOROV v. BULGARIA",
          "EGILL EINARSSON v. ICELAND (No. 2)",
          "H_INESS v. NORWAY (1)",
          "KOSAITE - CYPIENE AND OTHERS v. LITHUANIA",
          "LOZOVYYE v. RUSSIA",
          "M.T. v. UKRAINE",
          "MOSKALEV v. RUSSIA",
          "MURUZHEVA v. RUSSIA",
          "O.C.I. AND OTHERS v. ROMANIA",
          "OTGON v. THE REPUBLIC OF MOLDOVA",
          "PAKHTUSOV v. RUSSIA",
          "PANYUSHKINY v. RUSSIA",
          "RESIN v. RUSSIA",
          "S.N. v. RUSSIA",
          "S.V. v. ITALY",
          "SHVIDKIYE v. RUSSIA",
          "SIDOROVA v. RUSSIA",
          "SOLCAN v. ROMANIA",
          "STANA v. ROMANIA",
          "VISY v. SLOVAKIA",
          "YAKUSHEV v. UKRAINE",
          "YERMAKOVICH v. RUSSIA",
          "YEVGENIY ZAKHAROV v. RUSSIA",
          "_NODI v. HUNGARY"
         ],
         "xaxis": "x4",
         "y": {
          "bdata": "cMq0HF2O0z+VK5HqgOa/P+YhF15qHtI/AYoawlhp0j9unvlOGwbhPyDkyNM1qNU/YE1PAgrW1D9hsmMEPpLWP3/Qqji5Tcw/L87tNi33yz8YhmEYhmHgP90LCk8RO9g/TMIkTMIk2D/KrzCCN4fZPwAAAAAAAAAAvLu7u7u72z802ufFE+nYP5gUfSk5xt0/nk/WY+ki1T8hF3IhF3KxP7qUS7mUS90/D+y1Mnvy3D9MK5/qhoHHPzfKF04njNc/YRiGYRiG0T/cm3Bvwr3RP8E3OKFT1N0/VXjftnoR0T9es0fy6KzPP7eL4BXmx9Y/",
          "dtype": "f8"
         },
         "yaxis": "y4"
        },
        {
         "hovertemplate": "<b>Lenient</b><br>Model: %{x}<br>F1: %{y:.3f}<extra></extra>",
         "legendgroup": "evaluation_modes",
         "marker": {
          "color": "lightblue"
         },
         "name": "Lenient Evaluation",
         "showlegend": true,
         "type": "bar",
         "x": [
          "gemma3:12b",
          "gemma3:1b",
          "gemma3:4b",
          "mistral:latest"
         ],
         "xaxis": "x5",
         "y": {
          "bdata": "F/X3DLoq2T+Y9nAMAOTAPzfuWzNtu80/IP/jY3us1D8=",
          "dtype": "f8"
         },
         "yaxis": "y5"
        },
        {
         "hovertemplate": "<b>Strict</b><br>Model: %{x}<br>F1: %{y:.3f}<extra></extra>",
         "legendgroup": "evaluation_modes",
         "marker": {
          "color": "darkblue"
         },
         "name": "Strict Evaluation",
         "showlegend": true,
         "type": "bar",
         "x": [
          "gemma3:12b",
          "gemma3:1b",
          "gemma3:4b",
          "mistral:latest"
         ],
         "xaxis": "x5",
         "y": {
          "bdata": "vG7DcjuYzj+UGdnBiXG2P6c0XBHETsM/9qSTHx7KzD8=",
          "dtype": "f8"
         },
         "yaxis": "y5"
        },
        {
         "boxpoints": "all",
         "hovertemplate": "<b>Event</b><br>F1: %{y:.3f}<extra></extra>",
         "jitter": 0.3,
         "legendgroup": "annotation_types",
         "marker": {
          "color": "rgb(228,26,28)"
         },
         "name": "Event",
         "pointpos": -1.8,
         "showlegend": true,
         "type": "box",
         "xaxis": "x6",
         "y": {
          "bdata": "FDuxEzuxoz8AAAAAAAAAAFVVVVVVVaU/EARBEARBwD8eHh4eHh6+PxEREREREdE/OL3pTW964z+WlpaWlpbWPx4eHh4eHr4/AAAAAAAAAAAJ16NwPQrnP15DeQ3lNcQ/AAAAAAAAAABeQ3kN5TXUPwtZyEIWsuA/Hx4eHh4e3j8AAAAAAAAAAHsJ7SW0l+A/MzMzMzMz4z+ZmZmZmZnZPwAAAAAAAAAAWAQNJ3Vfzj8zncV0FtPpP2msD431oeE/kyRJkiRJwj9WVVVVVVXVP3waYbmnEdY/OovpLKaz2D910UUXXXTRP8YYY4wxxtg/RxdddNFF5z8cx3Ecx3HcP5uZmZmZmdk/AAAAAAAA5j9lIQtZyELWPxmGYRiGYdg/HMdxHMdxvD/BFPmsG0zhP1l8xVd8xec/Ntlkk0022T8AAAAAAAAAADQzMzMzM8M/FBQUFBQU5D/HcRzHcRzXPwAAAAAAAAAAG0yRz7rB5D8mm2yyySbbP51zzjnnnOM/AAAAAAAAAADHGGOMMcbYP3sUrkfheuQ/VVVVVVVV1T8dx3Ecx3HMPwAAAAAAAAAAkiRJkiRJ4j+amZmZmZnZP7dt27Zt29Y/AAAAAAAA4D8LWchCFrLgP2zUdzbqO9s/ERERERER0T+96U1vetPbP1VVVVVVVeU/pZRSSiml5D8TO7ETO7HjP5/neZ7ned4/XnTRRRdd5D8M5TWU11DePx4eHh4eHq4/AAAAAAAAsD9WVVVVVVXFPxRFURRFUeQ/q6qqqqqq4j8AAAAAAADgPwAAAAAAAOg/AAAAAAAA4D9VVVVVVVXlP1ZVVVVVVeU/ndiJndiJ3T+e53me53neP1VVVVVVVd0/ewntJbSX4D9JkiRJkiThP5IkSZIkSeI/fAntJbSX4D+amZmZmZnZPwnXo3A9Cuc/q6qqqqqq2j8pr6G8hvKqPxiGYRiGYcg/Ka+hvIbyqj9icgUxuYLYPwAAAAAAAAAAlVJKKaWU4j8BAAAAAADkP2dmZmZmZuY/velNb3rT2z+8u7u7u7vrPzw8PDw8POw/2pWoXYna5T9VVVVVVVXVP2K5pxGWe8o/dsQdcUfc4T8AAAAAAADgPwAAAAAAAAAA0Au90Au94D8AAAAAAADgPzi96U1veuM/AAAAAAAA2D8WX/EVX/HlP5eWlpaWluY/VlVVVVVV5T/FGGOMMcbIP1taWlpaWto/dNFFF1104T8AAAAAAAAAADvavE9xyaA/t23btm3bxj8RERERERHhPyM+gVRyXtY/",
          "dtype": "f8"
         },
         "yaxis": "y6"
        },
        {
         "boxpoints": "all",
         "hovertemplate": "<b>Event_who</b><br>F1: %{y:.3f}<extra></extra>",
         "jitter": 0.3,
         "legendgroup": "annotation_types",
         "marker": {
          "color": "rgb(55,126,184)"
         },
         "name": "Event_who",
         "pointpos": -1.8,
         "showlegend": true,
         "type": "box",
         "xaxis": "x6",
         "y": {
          "bdata": "AAAAAAAAAAAAAAAAAAAAAGUhC1nIQqY/EzuxEzuxoz8AAAAAAAAAAAAAAAAAAAAAGYZhGIZhuD9oL6G9hPayPwAAAAAAAAAAAAAAAAAAAADrUbgehevhP3sUrkfhesQ/AAAAAAAAAAAAAAAAAAAAAEcXXXTRRcc/cRzHcRzH0T+ZmZmZmZm5P0YXXXTRRcc/mZmZmZmZyT8AAAAAAAAAAAAAAAAAAAAAkyRJkiRJoj+3bdu2bdvGPxiGYRiGYag/AAAAAAAAAAAAAAAAAAAAAGkvob2E9rI/AAAAAAAAAAAAAAAAAAAAAAAAAAAAAAAAGF100UUX3T8AAAAAAAAAAAAAAAAAAAAAEzuxEzuxwz8XhmEYhmHIP/QFfUFf0Kc/AAAAAAAAAAAd1EEd1EGtP0YXXXTRRcc/9QV9QV/Qtz8AAAAAAAAAAAAAAAAAAAAAFDuxEzux0z8AAAAAAAAAAAAAAAAAAAAAAAAAAAAAAACDEEIIIYTQP0F7Ce0ltMc/AAAAAAAAAACVexphuaexP1VVVVVVVbU/HMdxHMdxvD8UO7ETO7HDPwAAAAAAAAAAcRzHcRzH0T+amZmZmZnZPwAAAAAAAAAAEzuxEzuxsz+amZmZmZm5PwAAAAAAAAAAAAAAAAAAAAAAAAAAAAAAAAAAAAAAAAAAERERERERsT8AAAAAAAAAAAAAAAAAAAAAGYZhGIZhyD8AAAAAAAAAAAAAAAAAAAAAAAAAAAAAAAAcx3Ecx3GsP+xRuB6F69E/ERERERER0T8LWchCFrLQP73pTW9609s//v//////zz8AAAAAAAAAAJMkSZIkScI/EzuxEzuxwz8AAAAAAAAAAAAAAAAAAAAAAAAAAAAAAAAiNcF4K/u8PwAAAAAAAAAAAAAAAAAA0D+QBmmQBmnQPwtZyEIWsuA/GYZhGIZhyD8AAAAAAAAAAAAAAAAAAAAAAAAAAAAAAAAeHh4eHh6uPwAAAAAAAAAAAAAAAAAAAAAAAAAAAADIPwAAAAAAAAAAAAAAAAAAAAARERERERGxP5uZmZmZmck/VVVVVVVVxT+EEEIIIYSwPwAAAAAAAAAAdsQdcUfcwT8AAAAAAAAAAAAAAAAAAAAADCd1Xx5bwT+Tui+PrQjKP2QhC1nIQsY/AAAAAAAAAAARERERERHBP1taWlpaWto/GqRBGqRBuj8AAAAAAAAAAAAAAAAAAAAARhdddNFFxz8AAAAAAAAAAAAAAAAAAAAAAAAAAAAAAADuy2MrgobTP6lQoUKFCsU/",
          "dtype": "f8"
         },
         "yaxis": "y6"
        },
        {
         "boxpoints": "all",
         "hovertemplate": "<b>Event_when</b><br>F1: %{y:.3f}<extra></extra>",
         "jitter": 0.3,
         "legendgroup": "annotation_types",
         "marker": {
          "color": "rgb(77,175,74)"
         },
         "name": "Event_when",
         "pointpos": -1.8,
         "showlegend": true,
         "type": "box",
         "xaxis": "x6",
         "y": {
          "bdata": "VxCTK4jJtT8AAAAAAAAAAAAAAAAAAAAAAAAAAAAAAACZmZmZmZnZPwAAAAAAAAAAHcdxHMdxzD8AAAAAAAAAAAAAAAAAAMA/AAAAAAAAAAAAAAAAAADQPwAAAAAAANA/AAAAAAAAAAASERERERHRPzMzMzMzM+M/kiRJkiRJ4j/T0tLS0tLiPwAAAAAAAOQ/FDuxEzux4z8AAAAAAADoPwAAAAAAAAAAHh4eHh4ezj+bm5ubm5vrP1ZVVVVVVek/kyRJkiRJwj+e2Imd2InNP5IkSZIkSdI/n+d5nud53j9UVVVVVVXVPxEREREREdE/Z2ZmZmZm5j9GF1100UXnPymvobyG8to/chzHcRzH4T8BAAAAAADgP9iJndiJndg/HMdxHMdxvD/////////bP9RBHdRBHeQ/0tLS0tLS4j8AAAAAAAAAABzHcRzHcbw/AAAAAAAA5D8vuuiiiy7aPwAAAAAAAAAAMzMzMzMz4z8cx3Ecx3HcP+Q4juM4juM/Hx4eHh4evj9UVVVVVVXVPx8eHh4eHt4/AAAAAAAA4D97FK5H4XrUPwAAAAAAAAAAVFVVVVVV5T8RERERERHhP+tRuB6F6+E/kyRJkiRJ4j9yHMdxHMfhP2dmZmZmZuY/C1nIQhay0D8dx3Ecx3HcPwAAAAAAAOA/VVVVVVVV1T9GF1100UXHP5eWlpaWltY/Hh4eHh4e3j/btm3btm3bPwcffPDBB68/AAAAAAAAsD8cx3Ecx3G8Px4eHh4eHq4/RRdddNFF1z900UUXXXThP0UXXXTRRec/XkN5DeU15D+TJEmSJEniP5MkSZIkSeI/mpmZmZmZ2T+TJEmSJEnSPxqkQRqkQdo/VVVVVVVV1T8zMzMzMzPjPyxRuxK1K+E/ERERERER0T+4HoXrUbjeP1RVVVVVVeU/XkN5DeU15D8fHh4eHh6uPx8eHh4eHq4/Hx4eHh4erj+RhSxkIQvZPwAAAAAAAAAAq6qqqqqq4j9WVVVVVVXlPwEAAAAAAOg/ddFFF1100T93d3d3d3fnP5uZmZmZmek/tm3btm3b5j+amZmZmZnZP0UXXXTRRcc/AQAAAAAA4j8eHh4eHh7ePwAAAAAAAAAAbtu2bdu23T+SkZGRkZHhP5xzzjnnnOM/Q3sJ7SW01z8L16NwPQrnP5qZmZmZmck/tm3btm3b5j8RERERERHBP2gvob2E9tI/ERERERER4T8AAAAAAAAAAJZ7GmG5p7E/2Imd2ImdyD+SJEmSJEniPwrtJbSX0N4/",
          "dtype": "f8"
         },
         "yaxis": "y6"
        },
        {
         "boxpoints": "all",
         "hovertemplate": "<b>Event_what</b><br>F1: %{y:.3f}<extra></extra>",
         "jitter": 0.3,
         "legendgroup": "annotation_types",
         "marker": {
          "color": "rgb(152,78,163)"
         },
         "name": "Event_what",
         "pointpos": -1.8,
         "showlegend": true,
         "type": "box",
         "xaxis": "x6",
         "y": {
          "bdata": "AAAAAAAAAAAAAAAAAAAAAHsUrkfheqQ/27Zt27Ztuz9kIQtZyELGPwAAAAAAAAAAERERERERwT+TJEmSJEmyPwAAAAAAAAAAAAAAAAAAAAC4HoXrUbjeP1ZVVVVVVcU/AAAAAAAAAAApr6G8hvLKP6uqqqqqqto/RhdddNFFtz9GF1100UW3P3saYbmnEdY/GIZhGIZh2D+Xb/mWb/nWPwAAAAAAAAAAAAAAAAAAAAAAAAAAAADgPx4eHh4eHt4/AAAAAAAAAAATO7ETO7HDP1ZVVVVVVdU/wRT5rBtM0T9FF1100UXHPwcffPDBB78/EzuxEzux0z8zMzMzMzPTPwAAAAAAAAAAVVVVVVVVxT8dx3Ecx3HMPxdswRZswcY/AAAAAAAAAAAcTJHPusHEP0YXXXTRRbc/09LS0tLSwj8AAAAAAAAAAB3HcRzHcaw/7RvWvmHtyz8d1EEd1EG9PwAAAAAAAAAAlnsaYbmnsT/CFPmsG0zRP5mZmZmZmdk/AAAAAAAAAABoL6G9hPbCP4QQQgghhMA/qFChQoUKxT+4HoXrUbjOPwAAAAAAAAAAUQd1UAd14D+bmZmZmZnZPwAAAAAAAAAAERERERER0T9CewntJbTXPzmO4ziO49g/ERERERERsT8UO7ETO7HDPyabbLLJJts/lnsaYbmn0T8eHh4eHh6+PymvobyG8so/uB6F61G4zj+amZmZmZnZPwAAAAAAAAAAAAAAAAAAAAD0BX1BX9C3P/QFfUFf0Lc/AAAAAAAAAAB00UUXXXTRPwAAAAAAAOA/R1juaYTl3j9WVVVVVVXFP////////9c/HMdxHMdx3D9UVVVVVVXVPwAAAAAAAAAAFRQUFBQUtD/QcFL35bHVP19DeQ3lNdQ/exSuR+F6xD/HGGOMMcbIP6uqqqqqqto/XXTRRRdd1D8YhmEYhmGoPwAAAAAAAAAAGIZhGIZhqD86BS+n4OWkPwAAAAAAAAAAkiRJkiRJwj+Xb/mWb/nWPxqGYRiGYdg/tx6F61G4zj9GWO5phOXeP28wRT7rBuM/0iAN0iAN4j95DeU1lNfQP4QQQgghhLA/mZmZmZmZ2T9jcgUxuYLYPwAAAAAAAAAAExQUFBQUpD/mnHPOOefMP5qZmZmZmck/gxBCCCGE0D+ZmZmZmZnZPyabbLLJJts/0yAN0iAN4j8AAAAAAAAAAHoN5TWU19A/l2/5lm/51j8AAAAAAAAAAAAAAAAAAAAAAAAAAAAAAABZR5v3KS7JPwOp5Lws4sM/",
          "dtype": "f8"
         },
         "yaxis": "y6"
        },
        {
         "hovertemplate": "<b>Gold Standard</b><br>Type: %{x}<br>Count: %{y}<extra></extra>",
         "legendgroup": "counts",
         "marker": {
          "color": "gold"
         },
         "name": "Gold Standard Count",
         "showlegend": true,
         "type": "bar",
         "x": [
          "Event",
          "Event_what",
          "Event_when",
          "Event_who"
         ],
         "xaxis": "x7",
         "y": {
          "bdata": "KiwpKA==",
          "dtype": "i1"
         },
         "yaxis": "y7"
        },
        {
         "hovertemplate": "<b>Predicted</b><br>Type: %{x}<br>Avg Count: %{y:.1f}<extra></extra>",
         "legendgroup": "counts",
         "marker": {
          "color": "silver"
         },
         "name": "Avg Predicted Count",
         "showlegend": true,
         "type": "bar",
         "x": [
          "Event",
          "Event_what",
          "Event_when",
          "Event_who"
         ],
         "xaxis": "x7",
         "y": {
          "bdata": "AAAAAACAMUCJiIiIiIgkQN7d3d3dHSJAzczMzMwMJkA=",
          "dtype": "f8"
         },
         "yaxis": "y7"
        },
        {
         "customdata": {
          "bdata": "vHnzpK9+6z8wF+0JUPHkP1jLpCxbvdc/BoglC2rG2D8=",
          "dtype": "f8"
         },
         "hovertemplate": "<b>%{x}</b><br>Consistency: %{y:.3f}<br>CV: %{customdata:.3f}<extra></extra>",
         "legendgroup": "consistency",
         "line": {
          "color": "gray",
          "dash": "dash"
         },
         "marker": {
          "color": [
           "#E74C3C",
           "#3498DB",
           "#2ECC71",
           "#F39C12"
          ],
          "size": 12,
          "symbol": "diamond"
         },
         "mode": "markers+lines",
         "name": "Model Consistency",
         "showlegend": true,
         "type": "scatter",
         "x": [
          "gemma3:1b",
          "gemma3:4b",
          "gemma3:12b",
          "mistral:latest"
         ],
         "xaxis": "x8",
         "y": {
          "bdata": "EBkybEEFwj+g0SXsXx3WP1SarWlSIeQ//Ttt+sqc4z8=",
          "dtype": "f8"
         },
         "yaxis": "y8"
        }
       ],
       "layout": {
        "annotations": [
         {
          "font": {
           "size": 16
          },
          "showarrow": false,
          "text": "F1-Scores by Model and Annotation Type (Lenient)",
          "x": 0.22,
          "xanchor": "center",
          "xref": "paper",
          "y": 1,
          "yanchor": "bottom",
          "yref": "paper"
         },
         {
          "font": {
           "size": 16
          },
          "showarrow": false,
          "text": "Document-Level Performance Heatmap",
          "x": 0.78,
          "xanchor": "center",
          "xref": "paper",
          "y": 1,
          "yanchor": "bottom",
          "yref": "paper"
         },
         {
          "font": {
           "size": 16
          },
          "showarrow": false,
          "text": "Precision vs Recall by Model (with Document Points)",
          "x": 0.22,
          "xanchor": "center",
          "xref": "paper",
          "y": 0.73,
          "yanchor": "bottom",
          "yref": "paper"
         },
         {
          "font": {
           "size": 16
          },
          "showarrow": false,
          "text": "Model Performance Across Documents",
          "x": 0.78,
          "xanchor": "center",
          "xref": "paper",
          "y": 0.73,
          "yanchor": "bottom",
          "yref": "paper"
         },
         {
          "font": {
           "size": 16
          },
          "showarrow": false,
          "text": "Lenient vs Strict Evaluation Comparison",
          "x": 0.22,
          "xanchor": "center",
          "xref": "paper",
          "y": 0.46,
          "yanchor": "bottom",
          "yref": "paper"
         },
         {
          "font": {
           "size": 16
          },
          "showarrow": false,
          "text": "Individual Document Analysis",
          "x": 0.78,
          "xanchor": "center",
          "xref": "paper",
          "y": 0.46,
          "yanchor": "bottom",
          "yref": "paper"
         },
         {
          "font": {
           "size": 16
          },
          "showarrow": false,
          "text": "Annotation Type Performance Distribution",
          "x": 0.22,
          "xanchor": "center",
          "xref": "paper",
          "y": 0.19,
          "yanchor": "bottom",
          "yref": "paper"
         },
         {
          "font": {
           "size": 16
          },
          "showarrow": false,
          "text": "Model Consistency Across Documents",
          "x": 0.78,
          "xanchor": "center",
          "xref": "paper",
          "y": 0.19,
          "yanchor": "bottom",
          "yref": "paper"
         }
        ],
        "font": {
         "size": 11
        },
        "height": 1600,
        "legend": {
         "bgcolor": "rgba(255,255,255,0.8)",
         "bordercolor": "rgba(0,0,0,0.2)",
         "borderwidth": 1,
         "font": {
          "size": 10
         },
         "orientation": "v",
         "x": 1.02,
         "xanchor": "left",
         "y": 1,
         "yanchor": "top"
        },
        "showlegend": true,
        "template": {
         "data": {
          "bar": [
           {
            "error_x": {
             "color": "#2a3f5f"
            },
            "error_y": {
             "color": "#2a3f5f"
            },
            "marker": {
             "line": {
              "color": "#E5ECF6",
              "width": 0.5
             },
             "pattern": {
              "fillmode": "overlay",
              "size": 10,
              "solidity": 0.2
             }
            },
            "type": "bar"
           }
          ],
          "barpolar": [
           {
            "marker": {
             "line": {
              "color": "#E5ECF6",
              "width": 0.5
             },
             "pattern": {
              "fillmode": "overlay",
              "size": 10,
              "solidity": 0.2
             }
            },
            "type": "barpolar"
           }
          ],
          "carpet": [
           {
            "aaxis": {
             "endlinecolor": "#2a3f5f",
             "gridcolor": "white",
             "linecolor": "white",
             "minorgridcolor": "white",
             "startlinecolor": "#2a3f5f"
            },
            "baxis": {
             "endlinecolor": "#2a3f5f",
             "gridcolor": "white",
             "linecolor": "white",
             "minorgridcolor": "white",
             "startlinecolor": "#2a3f5f"
            },
            "type": "carpet"
           }
          ],
          "choropleth": [
           {
            "colorbar": {
             "outlinewidth": 0,
             "ticks": ""
            },
            "type": "choropleth"
           }
          ],
          "contour": [
           {
            "colorbar": {
             "outlinewidth": 0,
             "ticks": ""
            },
            "colorscale": [
             [
              0,
              "#0d0887"
             ],
             [
              0.1111111111111111,
              "#46039f"
             ],
             [
              0.2222222222222222,
              "#7201a8"
             ],
             [
              0.3333333333333333,
              "#9c179e"
             ],
             [
              0.4444444444444444,
              "#bd3786"
             ],
             [
              0.5555555555555556,
              "#d8576b"
             ],
             [
              0.6666666666666666,
              "#ed7953"
             ],
             [
              0.7777777777777778,
              "#fb9f3a"
             ],
             [
              0.8888888888888888,
              "#fdca26"
             ],
             [
              1,
              "#f0f921"
             ]
            ],
            "type": "contour"
           }
          ],
          "contourcarpet": [
           {
            "colorbar": {
             "outlinewidth": 0,
             "ticks": ""
            },
            "type": "contourcarpet"
           }
          ],
          "heatmap": [
           {
            "colorbar": {
             "outlinewidth": 0,
             "ticks": ""
            },
            "colorscale": [
             [
              0,
              "#0d0887"
             ],
             [
              0.1111111111111111,
              "#46039f"
             ],
             [
              0.2222222222222222,
              "#7201a8"
             ],
             [
              0.3333333333333333,
              "#9c179e"
             ],
             [
              0.4444444444444444,
              "#bd3786"
             ],
             [
              0.5555555555555556,
              "#d8576b"
             ],
             [
              0.6666666666666666,
              "#ed7953"
             ],
             [
              0.7777777777777778,
              "#fb9f3a"
             ],
             [
              0.8888888888888888,
              "#fdca26"
             ],
             [
              1,
              "#f0f921"
             ]
            ],
            "type": "heatmap"
           }
          ],
          "histogram": [
           {
            "marker": {
             "pattern": {
              "fillmode": "overlay",
              "size": 10,
              "solidity": 0.2
             }
            },
            "type": "histogram"
           }
          ],
          "histogram2d": [
           {
            "colorbar": {
             "outlinewidth": 0,
             "ticks": ""
            },
            "colorscale": [
             [
              0,
              "#0d0887"
             ],
             [
              0.1111111111111111,
              "#46039f"
             ],
             [
              0.2222222222222222,
              "#7201a8"
             ],
             [
              0.3333333333333333,
              "#9c179e"
             ],
             [
              0.4444444444444444,
              "#bd3786"
             ],
             [
              0.5555555555555556,
              "#d8576b"
             ],
             [
              0.6666666666666666,
              "#ed7953"
             ],
             [
              0.7777777777777778,
              "#fb9f3a"
             ],
             [
              0.8888888888888888,
              "#fdca26"
             ],
             [
              1,
              "#f0f921"
             ]
            ],
            "type": "histogram2d"
           }
          ],
          "histogram2dcontour": [
           {
            "colorbar": {
             "outlinewidth": 0,
             "ticks": ""
            },
            "colorscale": [
             [
              0,
              "#0d0887"
             ],
             [
              0.1111111111111111,
              "#46039f"
             ],
             [
              0.2222222222222222,
              "#7201a8"
             ],
             [
              0.3333333333333333,
              "#9c179e"
             ],
             [
              0.4444444444444444,
              "#bd3786"
             ],
             [
              0.5555555555555556,
              "#d8576b"
             ],
             [
              0.6666666666666666,
              "#ed7953"
             ],
             [
              0.7777777777777778,
              "#fb9f3a"
             ],
             [
              0.8888888888888888,
              "#fdca26"
             ],
             [
              1,
              "#f0f921"
             ]
            ],
            "type": "histogram2dcontour"
           }
          ],
          "mesh3d": [
           {
            "colorbar": {
             "outlinewidth": 0,
             "ticks": ""
            },
            "type": "mesh3d"
           }
          ],
          "parcoords": [
           {
            "line": {
             "colorbar": {
              "outlinewidth": 0,
              "ticks": ""
             }
            },
            "type": "parcoords"
           }
          ],
          "pie": [
           {
            "automargin": true,
            "type": "pie"
           }
          ],
          "scatter": [
           {
            "fillpattern": {
             "fillmode": "overlay",
             "size": 10,
             "solidity": 0.2
            },
            "type": "scatter"
           }
          ],
          "scatter3d": [
           {
            "line": {
             "colorbar": {
              "outlinewidth": 0,
              "ticks": ""
             }
            },
            "marker": {
             "colorbar": {
              "outlinewidth": 0,
              "ticks": ""
             }
            },
            "type": "scatter3d"
           }
          ],
          "scattercarpet": [
           {
            "marker": {
             "colorbar": {
              "outlinewidth": 0,
              "ticks": ""
             }
            },
            "type": "scattercarpet"
           }
          ],
          "scattergeo": [
           {
            "marker": {
             "colorbar": {
              "outlinewidth": 0,
              "ticks": ""
             }
            },
            "type": "scattergeo"
           }
          ],
          "scattergl": [
           {
            "marker": {
             "colorbar": {
              "outlinewidth": 0,
              "ticks": ""
             }
            },
            "type": "scattergl"
           }
          ],
          "scattermap": [
           {
            "marker": {
             "colorbar": {
              "outlinewidth": 0,
              "ticks": ""
             }
            },
            "type": "scattermap"
           }
          ],
          "scattermapbox": [
           {
            "marker": {
             "colorbar": {
              "outlinewidth": 0,
              "ticks": ""
             }
            },
            "type": "scattermapbox"
           }
          ],
          "scatterpolar": [
           {
            "marker": {
             "colorbar": {
              "outlinewidth": 0,
              "ticks": ""
             }
            },
            "type": "scatterpolar"
           }
          ],
          "scatterpolargl": [
           {
            "marker": {
             "colorbar": {
              "outlinewidth": 0,
              "ticks": ""
             }
            },
            "type": "scatterpolargl"
           }
          ],
          "scatterternary": [
           {
            "marker": {
             "colorbar": {
              "outlinewidth": 0,
              "ticks": ""
             }
            },
            "type": "scatterternary"
           }
          ],
          "surface": [
           {
            "colorbar": {
             "outlinewidth": 0,
             "ticks": ""
            },
            "colorscale": [
             [
              0,
              "#0d0887"
             ],
             [
              0.1111111111111111,
              "#46039f"
             ],
             [
              0.2222222222222222,
              "#7201a8"
             ],
             [
              0.3333333333333333,
              "#9c179e"
             ],
             [
              0.4444444444444444,
              "#bd3786"
             ],
             [
              0.5555555555555556,
              "#d8576b"
             ],
             [
              0.6666666666666666,
              "#ed7953"
             ],
             [
              0.7777777777777778,
              "#fb9f3a"
             ],
             [
              0.8888888888888888,
              "#fdca26"
             ],
             [
              1,
              "#f0f921"
             ]
            ],
            "type": "surface"
           }
          ],
          "table": [
           {
            "cells": {
             "fill": {
              "color": "#EBF0F8"
             },
             "line": {
              "color": "white"
             }
            },
            "header": {
             "fill": {
              "color": "#C8D4E3"
             },
             "line": {
              "color": "white"
             }
            },
            "type": "table"
           }
          ]
         },
         "layout": {
          "annotationdefaults": {
           "arrowcolor": "#2a3f5f",
           "arrowhead": 0,
           "arrowwidth": 1
          },
          "autotypenumbers": "strict",
          "coloraxis": {
           "colorbar": {
            "outlinewidth": 0,
            "ticks": ""
           }
          },
          "colorscale": {
           "diverging": [
            [
             0,
             "#8e0152"
            ],
            [
             0.1,
             "#c51b7d"
            ],
            [
             0.2,
             "#de77ae"
            ],
            [
             0.3,
             "#f1b6da"
            ],
            [
             0.4,
             "#fde0ef"
            ],
            [
             0.5,
             "#f7f7f7"
            ],
            [
             0.6,
             "#e6f5d0"
            ],
            [
             0.7,
             "#b8e186"
            ],
            [
             0.8,
             "#7fbc41"
            ],
            [
             0.9,
             "#4d9221"
            ],
            [
             1,
             "#276419"
            ]
           ],
           "sequential": [
            [
             0,
             "#0d0887"
            ],
            [
             0.1111111111111111,
             "#46039f"
            ],
            [
             0.2222222222222222,
             "#7201a8"
            ],
            [
             0.3333333333333333,
             "#9c179e"
            ],
            [
             0.4444444444444444,
             "#bd3786"
            ],
            [
             0.5555555555555556,
             "#d8576b"
            ],
            [
             0.6666666666666666,
             "#ed7953"
            ],
            [
             0.7777777777777778,
             "#fb9f3a"
            ],
            [
             0.8888888888888888,
             "#fdca26"
            ],
            [
             1,
             "#f0f921"
            ]
           ],
           "sequentialminus": [
            [
             0,
             "#0d0887"
            ],
            [
             0.1111111111111111,
             "#46039f"
            ],
            [
             0.2222222222222222,
             "#7201a8"
            ],
            [
             0.3333333333333333,
             "#9c179e"
            ],
            [
             0.4444444444444444,
             "#bd3786"
            ],
            [
             0.5555555555555556,
             "#d8576b"
            ],
            [
             0.6666666666666666,
             "#ed7953"
            ],
            [
             0.7777777777777778,
             "#fb9f3a"
            ],
            [
             0.8888888888888888,
             "#fdca26"
            ],
            [
             1,
             "#f0f921"
            ]
           ]
          },
          "colorway": [
           "#636efa",
           "#EF553B",
           "#00cc96",
           "#ab63fa",
           "#FFA15A",
           "#19d3f3",
           "#FF6692",
           "#B6E880",
           "#FF97FF",
           "#FECB52"
          ],
          "font": {
           "color": "#2a3f5f"
          },
          "geo": {
           "bgcolor": "white",
           "lakecolor": "white",
           "landcolor": "#E5ECF6",
           "showlakes": true,
           "showland": true,
           "subunitcolor": "white"
          },
          "hoverlabel": {
           "align": "left"
          },
          "hovermode": "closest",
          "mapbox": {
           "style": "light"
          },
          "paper_bgcolor": "white",
          "plot_bgcolor": "#E5ECF6",
          "polar": {
           "angularaxis": {
            "gridcolor": "white",
            "linecolor": "white",
            "ticks": ""
           },
           "bgcolor": "#E5ECF6",
           "radialaxis": {
            "gridcolor": "white",
            "linecolor": "white",
            "ticks": ""
           }
          },
          "scene": {
           "xaxis": {
            "backgroundcolor": "#E5ECF6",
            "gridcolor": "white",
            "gridwidth": 2,
            "linecolor": "white",
            "showbackground": true,
            "ticks": "",
            "zerolinecolor": "white"
           },
           "yaxis": {
            "backgroundcolor": "#E5ECF6",
            "gridcolor": "white",
            "gridwidth": 2,
            "linecolor": "white",
            "showbackground": true,
            "ticks": "",
            "zerolinecolor": "white"
           },
           "zaxis": {
            "backgroundcolor": "#E5ECF6",
            "gridcolor": "white",
            "gridwidth": 2,
            "linecolor": "white",
            "showbackground": true,
            "ticks": "",
            "zerolinecolor": "white"
           }
          },
          "shapedefaults": {
           "line": {
            "color": "#2a3f5f"
           }
          },
          "ternary": {
           "aaxis": {
            "gridcolor": "white",
            "linecolor": "white",
            "ticks": ""
           },
           "baxis": {
            "gridcolor": "white",
            "linecolor": "white",
            "ticks": ""
           },
           "bgcolor": "#E5ECF6",
           "caxis": {
            "gridcolor": "white",
            "linecolor": "white",
            "ticks": ""
           }
          },
          "title": {
           "x": 0.05
          },
          "xaxis": {
           "automargin": true,
           "gridcolor": "white",
           "linecolor": "white",
           "ticks": "",
           "title": {
            "standoff": 15
           },
           "zerolinecolor": "white",
           "zerolinewidth": 2
          },
          "yaxis": {
           "automargin": true,
           "gridcolor": "white",
           "linecolor": "white",
           "ticks": "",
           "title": {
            "standoff": 15
           },
           "zerolinecolor": "white",
           "zerolinewidth": 2
          }
         }
        },
        "title": {
         "text": "Enhanced LLM Evaluation Dashboard<br><sub>Pipeline Results: pipeline_results_20250808_145025 | Document-Level Analysis</sub>",
         "x": 0.5
        },
        "xaxis": {
         "anchor": "y",
         "domain": [
          0,
          0.44
         ],
         "title": {
          "font": {
           "size": 10
          },
          "text": "Annotation Type"
         }
        },
        "xaxis2": {
         "anchor": "y2",
         "domain": [
          0.56,
          1
         ],
         "title": {
          "font": {
           "size": 10
          },
          "text": "Model"
         }
        },
        "xaxis3": {
         "anchor": "y3",
         "domain": [
          0,
          0.44
         ],
         "title": {
          "font": {
           "size": 10
          },
          "text": "Recall"
         }
        },
        "xaxis4": {
         "anchor": "y4",
         "domain": [
          0.56,
          1
         ],
         "tickangle": 45,
         "title": {
          "font": {
           "size": 10
          },
          "text": "Document"
         }
        },
        "xaxis5": {
         "anchor": "y5",
         "domain": [
          0,
          0.44
         ],
         "title": {
          "font": {
           "size": 10
          },
          "text": "Model"
         }
        },
        "xaxis6": {
         "anchor": "y6",
         "domain": [
          0.56,
          1
         ],
         "title": {
          "font": {
           "size": 10
          },
          "text": "Annotation Type"
         }
        },
        "xaxis7": {
         "anchor": "y7",
         "domain": [
          0,
          0.44
         ],
         "title": {
          "font": {
           "size": 10
          },
          "text": "Annotation Type"
         }
        },
        "xaxis8": {
         "anchor": "y8",
         "domain": [
          0.56,
          1
         ],
         "title": {
          "font": {
           "size": 10
          },
          "text": "Model"
         }
        },
        "yaxis": {
         "anchor": "x",
         "domain": [
          0.81,
          1
         ],
         "title": {
          "font": {
           "size": 10
          },
          "text": "Average F1 Score"
         }
        },
        "yaxis2": {
         "anchor": "x2",
         "domain": [
          0.81,
          1
         ],
         "title": {
          "font": {
           "size": 10
          },
          "text": "Document"
         }
        },
        "yaxis3": {
         "anchor": "x3",
         "domain": [
          0.54,
          0.73
         ],
         "title": {
          "font": {
           "size": 10
          },
          "text": "Precision"
         }
        },
        "yaxis4": {
         "anchor": "x4",
         "domain": [
          0.54,
          0.73
         ],
         "title": {
          "font": {
           "size": 10
          },
          "text": "F1 Score"
         }
        },
        "yaxis5": {
         "anchor": "x5",
         "domain": [
          0.27,
          0.46
         ],
         "title": {
          "font": {
           "size": 10
          },
          "text": "F1 Score"
         }
        },
        "yaxis6": {
         "anchor": "x6",
         "domain": [
          0.27,
          0.46
         ],
         "title": {
          "font": {
           "size": 10
          },
          "text": "F1 Score Distribution"
         }
        },
        "yaxis7": {
         "anchor": "x7",
         "domain": [
          0,
          0.19
         ],
         "title": {
          "font": {
           "size": 10
          },
          "text": "Count"
         }
        },
        "yaxis8": {
         "anchor": "x8",
         "domain": [
          0,
          0.19
         ],
         "title": {
          "font": {
           "size": 10
          },
          "text": "Consistency Score"
         }
        }
       }
      }
     },
     "metadata": {},
     "output_type": "display_data"
    },
    {
     "data": {
      "application/vnd.plotly.v1+json": {
       "config": {
        "plotlyServerURL": "https://plot.ly"
       },
       "data": [
        {
         "hovertemplate": "<b>gemma3:1b</b><br>Document: %{x}<br>Avg F1: %{y:.3f}<extra></extra>",
         "line": {
          "color": "#E74C3C",
          "width": 3
         },
         "marker": {
          "size": 8
         },
         "mode": "lines+markers",
         "name": "gemma3:1b",
         "type": "scatter",
         "x": [
          "S.N. v. RUSSIA",
          "BELYAYEV AND OTHERS v. UKRAINE",
          "SIDOROVA v. RUSSIA",
          "EGILL EINARSSON v. ICELAND (No. 2)",
          "MOSKALEV v. RUSSIA",
          "PANYUSHKINY v. RUSSIA",
          "BIGUN v. UKRAINE",
          "SOLCAN v. ROMANIA",
          "YEVGENIY ZAKHAROV v. RUSSIA",
          "ALTAY v. TURKEY (No. 2)",
          "H_INESS v. NORWAY (1)",
          "SHVIDKIYE v. RUSSIA",
          "VISY v. SLOVAKIA",
          "OTGON v. THE REPUBLIC OF MOLDOVA",
          "M.T. v. UKRAINE",
          "RESIN v. RUSSIA",
          "DOKTOROV v. BULGARIA",
          "YERMAKOVICH v. RUSSIA",
          "YAKUSHEV v. UKRAINE",
          "STANA v. ROMANIA",
          "_NODI v. HUNGARY",
          "PAKHTUSOV v. RUSSIA",
          "KOSAITE - CYPIENE AND OTHERS v. LITHUANIA",
          "S.V. v. ITALY",
          "CAN v. TURKEY",
          "CRISTIAN CATALIN UNGUREANU v. ROMANIA",
          "MURUZHEVA v. RUSSIA",
          "LOZOVYYE v. RUSSIA",
          "O.C.I. AND OTHERS v. ROMANIA",
          "CABUCAK v. GERMANY"
         ],
         "y": [
          0.030891980360065466,
          0.17289002557544758,
          0.06066176470588235,
          0,
          0.1947860962566845,
          0,
          0.07142857142857144,
          0.19696969696969696,
          0.20526315789473687,
          0.05555555555555555,
          0,
          0,
          0.029411764705882356,
          0.23401709401709403,
          0.2292857142857143,
          0.14855072463768115,
          0.22871246400658163,
          0.029857397504456325,
          0.3034090909090909,
          0.3511904761904762,
          0.2171474358974359,
          0.29879629629629634,
          0.03976853899454519,
          0,
          0.23687747035573123,
          0.26525183927560836,
          0,
          0.2508587216248507,
          0.08172043010752687,
          0.02543810062182024
         ]
        },
        {
         "hovertemplate": "<b>gemma3:4b</b><br>Document: %{x}<br>Avg F1: %{y:.3f}<extra></extra>",
         "line": {
          "color": "#3498DB",
          "width": 3
         },
         "marker": {
          "size": 8
         },
         "mode": "lines+markers",
         "name": "gemma3:4b",
         "type": "scatter",
         "x": [
          "S.N. v. RUSSIA",
          "BELYAYEV AND OTHERS v. UKRAINE",
          "SIDOROVA v. RUSSIA",
          "EGILL EINARSSON v. ICELAND (No. 2)",
          "MOSKALEV v. RUSSIA",
          "PANYUSHKINY v. RUSSIA",
          "BIGUN v. UKRAINE",
          "SOLCAN v. ROMANIA",
          "YEVGENIY ZAKHAROV v. RUSSIA",
          "ALTAY v. TURKEY (No. 2)",
          "H_INESS v. NORWAY (1)",
          "SHVIDKIYE v. RUSSIA",
          "VISY v. SLOVAKIA",
          "OTGON v. THE REPUBLIC OF MOLDOVA",
          "M.T. v. UKRAINE",
          "RESIN v. RUSSIA",
          "DOKTOROV v. BULGARIA",
          "YERMAKOVICH v. RUSSIA",
          "YAKUSHEV v. UKRAINE",
          "STANA v. ROMANIA",
          "_NODI v. HUNGARY",
          "PAKHTUSOV v. RUSSIA",
          "KOSAITE - CYPIENE AND OTHERS v. LITHUANIA",
          "S.V. v. ITALY",
          "CAN v. TURKEY",
          "CRISTIAN CATALIN UNGUREANU v. ROMANIA",
          "MURUZHEVA v. RUSSIA",
          "LOZOVYYE v. RUSSIA",
          "O.C.I. AND OTHERS v. ROMANIA",
          "CABUCAK v. GERMANY"
         ],
         "y": [
          0,
          0.06666666666666667,
          0,
          0.19824561403508772,
          0.4175410716358992,
          0.12707413473864124,
          0.1794871794871795,
          0.19374389051808405,
          0.390892094017094,
          0.29933638996138995,
          0.07916666666666668,
          0.32940354147250694,
          0.23438594322910228,
          0,
          0.3537545787545788,
          0.2582683017465626,
          0.25991449211263457,
          0.03125,
          0.39476284584980237,
          0.4389880952380953,
          0.23257080610021785,
          0.33248966087675763,
          0.062324929971988796,
          0.3267089093701997,
          0.5373563218390804,
          0.11330771564364445,
          0.29054288599403255,
          0.4847619047619048,
          0.24280472422887284,
          0.09271978021978022
         ]
        },
        {
         "hovertemplate": "<b>gemma3:12b</b><br>Document: %{x}<br>Avg F1: %{y:.3f}<extra></extra>",
         "line": {
          "color": "#2ECC71",
          "width": 3
         },
         "marker": {
          "size": 8
         },
         "mode": "lines+markers",
         "name": "gemma3:12b",
         "type": "scatter",
         "x": [
          "S.N. v. RUSSIA",
          "BELYAYEV AND OTHERS v. UKRAINE",
          "SIDOROVA v. RUSSIA",
          "EGILL EINARSSON v. ICELAND (No. 2)",
          "MOSKALEV v. RUSSIA",
          "PANYUSHKINY v. RUSSIA",
          "BIGUN v. UKRAINE",
          "SOLCAN v. ROMANIA",
          "YEVGENIY ZAKHAROV v. RUSSIA",
          "ALTAY v. TURKEY (No. 2)",
          "H_INESS v. NORWAY (1)",
          "SHVIDKIYE v. RUSSIA",
          "VISY v. SLOVAKIA",
          "OTGON v. THE REPUBLIC OF MOLDOVA",
          "M.T. v. UKRAINE",
          "RESIN v. RUSSIA",
          "DOKTOROV v. BULGARIA",
          "YERMAKOVICH v. RUSSIA",
          "YAKUSHEV v. UKRAINE",
          "STANA v. ROMANIA",
          "_NODI v. HUNGARY",
          "PAKHTUSOV v. RUSSIA",
          "KOSAITE - CYPIENE AND OTHERS v. LITHUANIA",
          "S.V. v. ITALY",
          "CAN v. TURKEY",
          "CRISTIAN CATALIN UNGUREANU v. ROMANIA",
          "MURUZHEVA v. RUSSIA",
          "LOZOVYYE v. RUSSIA",
          "O.C.I. AND OTHERS v. ROMANIA",
          "CABUCAK v. GERMANY"
         ],
         "y": [
          0.03128623188405797,
          0.26487232574189096,
          0.5025,
          0.4300559947299078,
          0.44908424908424904,
          0.5870835176175734,
          0.25948731983214746,
          0.5473776223776224,
          0.31513112491373363,
          0.41103896103896104,
          0.4445812765665707,
          0.3492554137715428,
          0.3307384566729918,
          0.5075396825396825,
          0.3869162640901771,
          0.3977272727272727,
          0.3843570155334861,
          0.1065891472868217,
          0.6030138339920948,
          0.36495726495726494,
          0.39697622093288865,
          0.5812681159420289,
          0.03976853899454519,
          0.45953525641025644,
          0.6192368839427663,
          0.41504360465116275,
          0.36955397249112876,
          0.4354723707664884,
          0.4048951048951049,
          0.4016419905000066
         ]
        },
        {
         "hovertemplate": "<b>mistral:latest</b><br>Document: %{x}<br>Avg F1: %{y:.3f}<extra></extra>",
         "line": {
          "color": "#F39C12",
          "width": 3
         },
         "marker": {
          "size": 8
         },
         "mode": "lines+markers",
         "name": "mistral:latest",
         "type": "scatter",
         "x": [
          "S.N. v. RUSSIA",
          "BELYAYEV AND OTHERS v. UKRAINE",
          "SIDOROVA v. RUSSIA",
          "EGILL EINARSSON v. ICELAND (No. 2)",
          "MOSKALEV v. RUSSIA",
          "PANYUSHKINY v. RUSSIA",
          "BIGUN v. UKRAINE",
          "SOLCAN v. ROMANIA",
          "YEVGENIY ZAKHAROV v. RUSSIA",
          "ALTAY v. TURKEY (No. 2)",
          "H_INESS v. NORWAY (1)",
          "SHVIDKIYE v. RUSSIA",
          "VISY v. SLOVAKIA",
          "OTGON v. THE REPUBLIC OF MOLDOVA",
          "M.T. v. UKRAINE",
          "RESIN v. RUSSIA",
          "DOKTOROV v. BULGARIA",
          "YERMAKOVICH v. RUSSIA",
          "YAKUSHEV v. UKRAINE",
          "STANA v. ROMANIA",
          "_NODI v. HUNGARY",
          "PAKHTUSOV v. RUSSIA",
          "KOSAITE - CYPIENE AND OTHERS v. LITHUANIA",
          "S.V. v. ITALY",
          "CAN v. TURKEY",
          "CRISTIAN CATALIN UNGUREANU v. ROMANIA",
          "MURUZHEVA v. RUSSIA",
          "LOZOVYYE v. RUSSIA",
          "O.C.I. AND OTHERS v. ROMANIA",
          "CABUCAK v. GERMANY"
         ],
         "y": [
          0.06814713064713064,
          0.12461095549330843,
          0.183640350877193,
          0.3526759188523894,
          0.37724358974358974,
          0.46522358943577435,
          0.283106414685362,
          0.36792929292929294,
          0.24746429281313004,
          0.30556419185010153,
          0.22112193362193364,
          0.452299880525687,
          0.27720700152207,
          0.43333333333333335,
          0.3786052009456265,
          0.33025583982202444,
          0.32556390977443606,
          0.26669185503658827,
          0.46608439201451907,
          0.2738095238095238,
          0.35595085274161015,
          0.3892259056732741,
          0.2184807317931798,
          0.4577380952380953,
          0.5319954435808094,
          0.33839173967459324,
          0.3988779803646564,
          0.5119047619047619,
          0,
          0.287679853014339
         ]
        }
       ],
       "layout": {
        "height": 400,
        "hovermode": "x unified",
        "legend": {
         "orientation": "h",
         "x": 1,
         "xanchor": "right",
         "y": 1.02,
         "yanchor": "bottom"
        },
        "template": {
         "data": {
          "bar": [
           {
            "error_x": {
             "color": "#2a3f5f"
            },
            "error_y": {
             "color": "#2a3f5f"
            },
            "marker": {
             "line": {
              "color": "#E5ECF6",
              "width": 0.5
             },
             "pattern": {
              "fillmode": "overlay",
              "size": 10,
              "solidity": 0.2
             }
            },
            "type": "bar"
           }
          ],
          "barpolar": [
           {
            "marker": {
             "line": {
              "color": "#E5ECF6",
              "width": 0.5
             },
             "pattern": {
              "fillmode": "overlay",
              "size": 10,
              "solidity": 0.2
             }
            },
            "type": "barpolar"
           }
          ],
          "carpet": [
           {
            "aaxis": {
             "endlinecolor": "#2a3f5f",
             "gridcolor": "white",
             "linecolor": "white",
             "minorgridcolor": "white",
             "startlinecolor": "#2a3f5f"
            },
            "baxis": {
             "endlinecolor": "#2a3f5f",
             "gridcolor": "white",
             "linecolor": "white",
             "minorgridcolor": "white",
             "startlinecolor": "#2a3f5f"
            },
            "type": "carpet"
           }
          ],
          "choropleth": [
           {
            "colorbar": {
             "outlinewidth": 0,
             "ticks": ""
            },
            "type": "choropleth"
           }
          ],
          "contour": [
           {
            "colorbar": {
             "outlinewidth": 0,
             "ticks": ""
            },
            "colorscale": [
             [
              0,
              "#0d0887"
             ],
             [
              0.1111111111111111,
              "#46039f"
             ],
             [
              0.2222222222222222,
              "#7201a8"
             ],
             [
              0.3333333333333333,
              "#9c179e"
             ],
             [
              0.4444444444444444,
              "#bd3786"
             ],
             [
              0.5555555555555556,
              "#d8576b"
             ],
             [
              0.6666666666666666,
              "#ed7953"
             ],
             [
              0.7777777777777778,
              "#fb9f3a"
             ],
             [
              0.8888888888888888,
              "#fdca26"
             ],
             [
              1,
              "#f0f921"
             ]
            ],
            "type": "contour"
           }
          ],
          "contourcarpet": [
           {
            "colorbar": {
             "outlinewidth": 0,
             "ticks": ""
            },
            "type": "contourcarpet"
           }
          ],
          "heatmap": [
           {
            "colorbar": {
             "outlinewidth": 0,
             "ticks": ""
            },
            "colorscale": [
             [
              0,
              "#0d0887"
             ],
             [
              0.1111111111111111,
              "#46039f"
             ],
             [
              0.2222222222222222,
              "#7201a8"
             ],
             [
              0.3333333333333333,
              "#9c179e"
             ],
             [
              0.4444444444444444,
              "#bd3786"
             ],
             [
              0.5555555555555556,
              "#d8576b"
             ],
             [
              0.6666666666666666,
              "#ed7953"
             ],
             [
              0.7777777777777778,
              "#fb9f3a"
             ],
             [
              0.8888888888888888,
              "#fdca26"
             ],
             [
              1,
              "#f0f921"
             ]
            ],
            "type": "heatmap"
           }
          ],
          "histogram": [
           {
            "marker": {
             "pattern": {
              "fillmode": "overlay",
              "size": 10,
              "solidity": 0.2
             }
            },
            "type": "histogram"
           }
          ],
          "histogram2d": [
           {
            "colorbar": {
             "outlinewidth": 0,
             "ticks": ""
            },
            "colorscale": [
             [
              0,
              "#0d0887"
             ],
             [
              0.1111111111111111,
              "#46039f"
             ],
             [
              0.2222222222222222,
              "#7201a8"
             ],
             [
              0.3333333333333333,
              "#9c179e"
             ],
             [
              0.4444444444444444,
              "#bd3786"
             ],
             [
              0.5555555555555556,
              "#d8576b"
             ],
             [
              0.6666666666666666,
              "#ed7953"
             ],
             [
              0.7777777777777778,
              "#fb9f3a"
             ],
             [
              0.8888888888888888,
              "#fdca26"
             ],
             [
              1,
              "#f0f921"
             ]
            ],
            "type": "histogram2d"
           }
          ],
          "histogram2dcontour": [
           {
            "colorbar": {
             "outlinewidth": 0,
             "ticks": ""
            },
            "colorscale": [
             [
              0,
              "#0d0887"
             ],
             [
              0.1111111111111111,
              "#46039f"
             ],
             [
              0.2222222222222222,
              "#7201a8"
             ],
             [
              0.3333333333333333,
              "#9c179e"
             ],
             [
              0.4444444444444444,
              "#bd3786"
             ],
             [
              0.5555555555555556,
              "#d8576b"
             ],
             [
              0.6666666666666666,
              "#ed7953"
             ],
             [
              0.7777777777777778,
              "#fb9f3a"
             ],
             [
              0.8888888888888888,
              "#fdca26"
             ],
             [
              1,
              "#f0f921"
             ]
            ],
            "type": "histogram2dcontour"
           }
          ],
          "mesh3d": [
           {
            "colorbar": {
             "outlinewidth": 0,
             "ticks": ""
            },
            "type": "mesh3d"
           }
          ],
          "parcoords": [
           {
            "line": {
             "colorbar": {
              "outlinewidth": 0,
              "ticks": ""
             }
            },
            "type": "parcoords"
           }
          ],
          "pie": [
           {
            "automargin": true,
            "type": "pie"
           }
          ],
          "scatter": [
           {
            "fillpattern": {
             "fillmode": "overlay",
             "size": 10,
             "solidity": 0.2
            },
            "type": "scatter"
           }
          ],
          "scatter3d": [
           {
            "line": {
             "colorbar": {
              "outlinewidth": 0,
              "ticks": ""
             }
            },
            "marker": {
             "colorbar": {
              "outlinewidth": 0,
              "ticks": ""
             }
            },
            "type": "scatter3d"
           }
          ],
          "scattercarpet": [
           {
            "marker": {
             "colorbar": {
              "outlinewidth": 0,
              "ticks": ""
             }
            },
            "type": "scattercarpet"
           }
          ],
          "scattergeo": [
           {
            "marker": {
             "colorbar": {
              "outlinewidth": 0,
              "ticks": ""
             }
            },
            "type": "scattergeo"
           }
          ],
          "scattergl": [
           {
            "marker": {
             "colorbar": {
              "outlinewidth": 0,
              "ticks": ""
             }
            },
            "type": "scattergl"
           }
          ],
          "scattermap": [
           {
            "marker": {
             "colorbar": {
              "outlinewidth": 0,
              "ticks": ""
             }
            },
            "type": "scattermap"
           }
          ],
          "scattermapbox": [
           {
            "marker": {
             "colorbar": {
              "outlinewidth": 0,
              "ticks": ""
             }
            },
            "type": "scattermapbox"
           }
          ],
          "scatterpolar": [
           {
            "marker": {
             "colorbar": {
              "outlinewidth": 0,
              "ticks": ""
             }
            },
            "type": "scatterpolar"
           }
          ],
          "scatterpolargl": [
           {
            "marker": {
             "colorbar": {
              "outlinewidth": 0,
              "ticks": ""
             }
            },
            "type": "scatterpolargl"
           }
          ],
          "scatterternary": [
           {
            "marker": {
             "colorbar": {
              "outlinewidth": 0,
              "ticks": ""
             }
            },
            "type": "scatterternary"
           }
          ],
          "surface": [
           {
            "colorbar": {
             "outlinewidth": 0,
             "ticks": ""
            },
            "colorscale": [
             [
              0,
              "#0d0887"
             ],
             [
              0.1111111111111111,
              "#46039f"
             ],
             [
              0.2222222222222222,
              "#7201a8"
             ],
             [
              0.3333333333333333,
              "#9c179e"
             ],
             [
              0.4444444444444444,
              "#bd3786"
             ],
             [
              0.5555555555555556,
              "#d8576b"
             ],
             [
              0.6666666666666666,
              "#ed7953"
             ],
             [
              0.7777777777777778,
              "#fb9f3a"
             ],
             [
              0.8888888888888888,
              "#fdca26"
             ],
             [
              1,
              "#f0f921"
             ]
            ],
            "type": "surface"
           }
          ],
          "table": [
           {
            "cells": {
             "fill": {
              "color": "#EBF0F8"
             },
             "line": {
              "color": "white"
             }
            },
            "header": {
             "fill": {
              "color": "#C8D4E3"
             },
             "line": {
              "color": "white"
             }
            },
            "type": "table"
           }
          ]
         },
         "layout": {
          "annotationdefaults": {
           "arrowcolor": "#2a3f5f",
           "arrowhead": 0,
           "arrowwidth": 1
          },
          "autotypenumbers": "strict",
          "coloraxis": {
           "colorbar": {
            "outlinewidth": 0,
            "ticks": ""
           }
          },
          "colorscale": {
           "diverging": [
            [
             0,
             "#8e0152"
            ],
            [
             0.1,
             "#c51b7d"
            ],
            [
             0.2,
             "#de77ae"
            ],
            [
             0.3,
             "#f1b6da"
            ],
            [
             0.4,
             "#fde0ef"
            ],
            [
             0.5,
             "#f7f7f7"
            ],
            [
             0.6,
             "#e6f5d0"
            ],
            [
             0.7,
             "#b8e186"
            ],
            [
             0.8,
             "#7fbc41"
            ],
            [
             0.9,
             "#4d9221"
            ],
            [
             1,
             "#276419"
            ]
           ],
           "sequential": [
            [
             0,
             "#0d0887"
            ],
            [
             0.1111111111111111,
             "#46039f"
            ],
            [
             0.2222222222222222,
             "#7201a8"
            ],
            [
             0.3333333333333333,
             "#9c179e"
            ],
            [
             0.4444444444444444,
             "#bd3786"
            ],
            [
             0.5555555555555556,
             "#d8576b"
            ],
            [
             0.6666666666666666,
             "#ed7953"
            ],
            [
             0.7777777777777778,
             "#fb9f3a"
            ],
            [
             0.8888888888888888,
             "#fdca26"
            ],
            [
             1,
             "#f0f921"
            ]
           ],
           "sequentialminus": [
            [
             0,
             "#0d0887"
            ],
            [
             0.1111111111111111,
             "#46039f"
            ],
            [
             0.2222222222222222,
             "#7201a8"
            ],
            [
             0.3333333333333333,
             "#9c179e"
            ],
            [
             0.4444444444444444,
             "#bd3786"
            ],
            [
             0.5555555555555556,
             "#d8576b"
            ],
            [
             0.6666666666666666,
             "#ed7953"
            ],
            [
             0.7777777777777778,
             "#fb9f3a"
            ],
            [
             0.8888888888888888,
             "#fdca26"
            ],
            [
             1,
             "#f0f921"
            ]
           ]
          },
          "colorway": [
           "#636efa",
           "#EF553B",
           "#00cc96",
           "#ab63fa",
           "#FFA15A",
           "#19d3f3",
           "#FF6692",
           "#B6E880",
           "#FF97FF",
           "#FECB52"
          ],
          "font": {
           "color": "#2a3f5f"
          },
          "geo": {
           "bgcolor": "white",
           "lakecolor": "white",
           "landcolor": "#E5ECF6",
           "showlakes": true,
           "showland": true,
           "subunitcolor": "white"
          },
          "hoverlabel": {
           "align": "left"
          },
          "hovermode": "closest",
          "mapbox": {
           "style": "light"
          },
          "paper_bgcolor": "white",
          "plot_bgcolor": "#E5ECF6",
          "polar": {
           "angularaxis": {
            "gridcolor": "white",
            "linecolor": "white",
            "ticks": ""
           },
           "bgcolor": "#E5ECF6",
           "radialaxis": {
            "gridcolor": "white",
            "linecolor": "white",
            "ticks": ""
           }
          },
          "scene": {
           "xaxis": {
            "backgroundcolor": "#E5ECF6",
            "gridcolor": "white",
            "gridwidth": 2,
            "linecolor": "white",
            "showbackground": true,
            "ticks": "",
            "zerolinecolor": "white"
           },
           "yaxis": {
            "backgroundcolor": "#E5ECF6",
            "gridcolor": "white",
            "gridwidth": 2,
            "linecolor": "white",
            "showbackground": true,
            "ticks": "",
            "zerolinecolor": "white"
           },
           "zaxis": {
            "backgroundcolor": "#E5ECF6",
            "gridcolor": "white",
            "gridwidth": 2,
            "linecolor": "white",
            "showbackground": true,
            "ticks": "",
            "zerolinecolor": "white"
           }
          },
          "shapedefaults": {
           "line": {
            "color": "#2a3f5f"
           }
          },
          "ternary": {
           "aaxis": {
            "gridcolor": "white",
            "linecolor": "white",
            "ticks": ""
           },
           "baxis": {
            "gridcolor": "white",
            "linecolor": "white",
            "ticks": ""
           },
           "bgcolor": "#E5ECF6",
           "caxis": {
            "gridcolor": "white",
            "linecolor": "white",
            "ticks": ""
           }
          },
          "title": {
           "x": 0.05
          },
          "xaxis": {
           "automargin": true,
           "gridcolor": "white",
           "linecolor": "white",
           "ticks": "",
           "title": {
            "standoff": 15
           },
           "zerolinecolor": "white",
           "zerolinewidth": 2
          },
          "yaxis": {
           "automargin": true,
           "gridcolor": "white",
           "linecolor": "white",
           "ticks": "",
           "title": {
            "standoff": 15
           },
           "zerolinecolor": "white",
           "zerolinewidth": 2
          }
         }
        },
        "title": {
         "text": "Model Performance Across Individual Documents"
        },
        "xaxis": {
         "tickangle": 45,
         "title": {
          "text": "Document"
         }
        },
        "yaxis": {
         "title": {
          "text": "Average F1 Score"
         }
        }
       }
      }
     },
     "metadata": {},
     "output_type": "display_data"
    },
    {
     "name": "stdout",
     "output_type": "stream",
     "text": [
      "📊 EVALUATION SUMMARY:\n",
      "==================================================\n",
      "\n",
      "🏆 MODEL RANKINGS (by average F1):\n",
      "1. gemma3:12b: 0.393 (±0.226)\n",
      "2. mistral:latest: 0.323 (±0.228)\n",
      "3. gemma3:4b: 0.232 (±0.225)\n",
      "4. gemma3:1b: 0.132 (±0.175)\n",
      "\n",
      "📋 ANNOTATION TYPE PERFORMANCE:\n",
      "• Event: 0.400 (±0.235)\n",
      "• Event_when: 0.384 (±0.242)\n",
      "• Event_what: 0.200 (±0.167)\n",
      "• Event_who: 0.096 (±0.125)\n",
      "\n",
      "📄 DOCUMENT ANALYSIS:\n",
      "Most challenging: S.N. v. RUSSIA (avg F1: 0.033)\n",
      "Easiest: CAN v. TURKEY (avg F1: 0.481)\n",
      "\n",
      "✅ Enhanced single run visualization created successfully!\n"
     ]
    }
   ],
   "source": [
    "def load_evaluation_results(results_path):\n",
    "    \"\"\"Load evaluation results from JSON file.\"\"\"\n",
    "    with open(results_path, 'r', encoding='utf-8') as f:\n",
    "        return json.load(f)\n",
    "\n",
    "def create_dataframe_from_results(results):\n",
    "    \"\"\"Convert nested results to a flat DataFrame for analysis.\"\"\"\n",
    "    rows = []\n",
    "    for doc_name, doc_results in results.items():\n",
    "        for model_name, model_results in doc_results.items():\n",
    "            for ann_type, metrics in model_results.items():\n",
    "                # Lenient evaluation\n",
    "                rows.append({\n",
    "                    'Document': doc_name,\n",
    "                    'Model': model_name,\n",
    "                    'Annotation_Type': ann_type,\n",
    "                    'Evaluation_Mode': 'Lenient',\n",
    "                    'Precision': metrics['lenient']['precision'],\n",
    "                    'Recall': metrics['lenient']['recall'],\n",
    "                    'F1_Score': metrics['lenient']['f1_score'],\n",
    "                    'True_Positives': metrics['lenient']['true_positives'],\n",
    "                    'False_Positives': metrics['lenient']['false_positives'],\n",
    "                    'False_Negatives': metrics['lenient']['false_negatives'],\n",
    "                    'Gold_Count': metrics['gold_count'],\n",
    "                    'Predicted_Count': metrics['predicted_count']\n",
    "                })\n",
    "                \n",
    "                # Strict evaluation\n",
    "                rows.append({\n",
    "                    'Document': doc_name,\n",
    "                    'Model': model_name,\n",
    "                    'Annotation_Type': ann_type,\n",
    "                    'Evaluation_Mode': 'Strict',\n",
    "                    'Precision': metrics['strict']['precision'],\n",
    "                    'Recall': metrics['strict']['recall'],\n",
    "                    'F1_Score': metrics['strict']['f1_score'],\n",
    "                    'True_Positives': metrics['strict']['true_positives'],\n",
    "                    'False_Positives': metrics['strict']['false_positives'],\n",
    "                    'False_Negatives': metrics['strict']['false_negatives'],\n",
    "                    'Gold_Count': metrics['gold_count'],\n",
    "                    'Predicted_Count': metrics['predicted_count']\n",
    "                })\n",
    "    \n",
    "    return pd.DataFrame(rows)\n",
    "\n",
    "def visualize_single_run(results_path):\n",
    "    \"\"\"Create comprehensive visualizations for a single evaluation run.\"\"\"\n",
    "    \n",
    "    # Load and prepare data\n",
    "    results = load_evaluation_results(results_path)\n",
    "    df = create_dataframe_from_results(results)\n",
    "    \n",
    "    # Create an enhanced figure with more subplots for better analysis\n",
    "    fig = make_subplots(\n",
    "        rows=4, cols=2,\n",
    "        subplot_titles=(\n",
    "            'F1-Scores by Model and Annotation Type (Lenient)', \n",
    "            'Document-Level Performance Heatmap',\n",
    "            'Precision vs Recall by Model (with Document Points)',\n",
    "            'Model Performance Across Documents',\n",
    "            'Lenient vs Strict Evaluation Comparison',\n",
    "            'Individual Document Analysis',\n",
    "            'Annotation Type Performance Distribution',\n",
    "            'Model Consistency Across Documents'\n",
    "        ),\n",
    "        specs=[[{\"type\": \"bar\"}, {\"type\": \"heatmap\"}],\n",
    "               [{\"type\": \"scatter\"}, {\"type\": \"bar\"}],\n",
    "               [{\"type\": \"bar\"}, {\"type\": \"box\"}],\n",
    "               [{\"type\": \"bar\"}, {\"type\": \"scatter\"}]],\n",
    "        vertical_spacing=0.08,\n",
    "        horizontal_spacing=0.12\n",
    "    )\n",
    "    \n",
    "    # Color palette for models with better contrast\n",
    "    model_colors = {\n",
    "        'gemma3:1b': '#E74C3C',    # Red\n",
    "        'gemma3:4b': '#3498DB',    # Blue  \n",
    "        'gemma3:12b': '#2ECC71',   # Green\n",
    "        'mistral:latest': '#F39C12' # Orange\n",
    "    }\n",
    "    \n",
    "    # Document colors for variety\n",
    "    doc_colors = px.colors.qualitative.Set3\n",
    "    \n",
    "    # Get lenient and strict data\n",
    "    df_lenient = df[df['Evaluation_Mode'] == 'Lenient']\n",
    "    df_strict = df[df['Evaluation_Mode'] == 'Strict']\n",
    "    \n",
    "    # 1. F1-Scores by Model and Annotation Type (Lenient) - Enhanced with proper legend\n",
    "    for i, model in enumerate(df_lenient['Model'].unique()):\n",
    "        model_data = df_lenient[df_lenient['Model'] == model]\n",
    "        avg_f1_by_type = model_data.groupby('Annotation_Type')['F1_Score'].mean().reset_index()\n",
    "        \n",
    "        fig.add_trace(\n",
    "            go.Bar(\n",
    "                x=avg_f1_by_type['Annotation_Type'],\n",
    "                y=avg_f1_by_type['F1_Score'],\n",
    "                name=f\"{model}\",\n",
    "                marker_color=model_colors.get(model, '#95A5A6'),\n",
    "                showlegend=True,\n",
    "                legendgroup='models',\n",
    "                hovertemplate=f'<b>{model}</b><br>Type: %{{x}}<br>Avg F1: %{{y:.3f}}<extra></extra>'\n",
    "            ),\n",
    "            row=1, col=1\n",
    "        )\n",
    "    \n",
    "    # 2. Document-Level Performance Heatmap\n",
    "    doc_model_performance = df_lenient.groupby(['Document', 'Model'])['F1_Score'].mean().reset_index()\n",
    "    heatmap_pivot = doc_model_performance.pivot(index='Document', columns='Model', values='F1_Score')\n",
    "    \n",
    "    fig.add_trace(\n",
    "        go.Heatmap(\n",
    "            z=heatmap_pivot.values,\n",
    "            x=heatmap_pivot.columns,\n",
    "            y=heatmap_pivot.index,\n",
    "            colorscale='RdYlBu_r',\n",
    "            showscale=True,\n",
    "            colorbar=dict(title=\"F1 Score\", x=0.48),\n",
    "            hovertemplate='Document: %{y}<br>Model: %{x}<br>F1 Score: %{z:.3f}<extra></extra>',\n",
    "            showlegend=False\n",
    "        ),\n",
    "        row=1, col=2\n",
    "    )\n",
    "    \n",
    "    # 3. Precision vs Recall scatter plot with document points\n",
    "    for i, model in enumerate(df_lenient['Model'].unique()):\n",
    "        model_data = df_lenient[df_lenient['Model'] == model]\n",
    "        fig.add_trace(\n",
    "            go.Scatter(\n",
    "                x=model_data['Recall'],\n",
    "                y=model_data['Precision'],\n",
    "                mode='markers',\n",
    "                name=f\"{model} (docs)\",\n",
    "                marker=dict(\n",
    "                    size=8,\n",
    "                    color=model_colors.get(model, '#95A5A6'),\n",
    "                    symbol='circle',\n",
    "                    opacity=0.7\n",
    "                ),\n",
    "                text=model_data['Document'] + '<br>' + model_data['Annotation_Type'],\n",
    "                hovertemplate='<b>%{text}</b><br>Recall: %{x:.3f}<br>Precision: %{y:.3f}<extra></extra>',\n",
    "                showlegend=True,\n",
    "                legendgroup='scatter'\n",
    "            ),\n",
    "            row=2, col=1\n",
    "        )\n",
    "    \n",
    "    # 4. Model Performance Across Documents (Box plot style)\n",
    "    for i, model in enumerate(df_lenient['Model'].unique()):\n",
    "        model_data = df_lenient[df_lenient['Model'] == model]\n",
    "        doc_performance = model_data.groupby('Document')['F1_Score'].mean().reset_index()\n",
    "        \n",
    "        fig.add_trace(\n",
    "            go.Bar(\n",
    "                x=doc_performance['Document'],\n",
    "                y=doc_performance['F1_Score'],\n",
    "                name=f\"{model}\",\n",
    "                marker_color=model_colors.get(model, '#95A5A6'),\n",
    "                showlegend=False,\n",
    "                opacity=0.8,\n",
    "                hovertemplate=f'<b>{model}</b><br>Document: %{{x}}<br>Avg F1: %{{y:.3f}}<extra></extra>'\n",
    "            ),\n",
    "            row=2, col=2\n",
    "        )\n",
    "    \n",
    "    # 5. Lenient vs Strict comparison - Enhanced\n",
    "    df_comparison = df.groupby(['Model', 'Evaluation_Mode'])['F1_Score'].mean().reset_index()\n",
    "    lenient_data = df_comparison[df_comparison['Evaluation_Mode'] == 'Lenient']\n",
    "    strict_data = df_comparison[df_comparison['Evaluation_Mode'] == 'Strict']\n",
    "    \n",
    "    fig.add_trace(\n",
    "        go.Bar(\n",
    "            x=lenient_data['Model'],\n",
    "            y=lenient_data['F1_Score'],\n",
    "            name='Lenient Evaluation',\n",
    "            marker_color='lightblue',\n",
    "            showlegend=True,\n",
    "            legendgroup='evaluation_modes',\n",
    "            hovertemplate='<b>Lenient</b><br>Model: %{x}<br>F1: %{y:.3f}<extra></extra>'\n",
    "        ),\n",
    "        row=3, col=1\n",
    "    )\n",
    "    \n",
    "    fig.add_trace(\n",
    "        go.Bar(\n",
    "            x=strict_data['Model'],\n",
    "            y=strict_data['F1_Score'],\n",
    "            name='Strict Evaluation',\n",
    "            marker_color='darkblue',\n",
    "            showlegend=True,\n",
    "            legendgroup='evaluation_modes',\n",
    "            hovertemplate='<b>Strict</b><br>Model: %{x}<br>F1: %{y:.3f}<extra></extra>'\n",
    "        ),\n",
    "        row=3, col=1\n",
    "    )\n",
    "    \n",
    "    # 6. Individual Document Analysis (Box plots showing variance)\n",
    "    for i, annotation_type in enumerate(df_lenient['Annotation_Type'].unique()):\n",
    "        ann_data = df_lenient[df_lenient['Annotation_Type'] == annotation_type]\n",
    "        \n",
    "        fig.add_trace(\n",
    "            go.Box(\n",
    "                y=ann_data['F1_Score'],\n",
    "                name=annotation_type,\n",
    "                boxpoints='all',\n",
    "                jitter=0.3,\n",
    "                pointpos=-1.8,\n",
    "                marker_color=px.colors.qualitative.Set1[i % len(px.colors.qualitative.Set1)],\n",
    "                showlegend=True,\n",
    "                legendgroup='annotation_types',\n",
    "                hovertemplate=f'<b>{annotation_type}</b><br>F1: %{{y:.3f}}<extra></extra>'\n",
    "            ),\n",
    "            row=3, col=2\n",
    "        )\n",
    "    \n",
    "    # 7. Annotation Type Performance Distribution\n",
    "    df_counts = df_lenient.groupby('Annotation_Type').agg({\n",
    "        'Gold_Count': 'first',\n",
    "        'Predicted_Count': 'mean',\n",
    "        'F1_Score': 'mean'\n",
    "    }).reset_index()\n",
    "    \n",
    "    fig.add_trace(\n",
    "        go.Bar(\n",
    "            x=df_counts['Annotation_Type'],\n",
    "            y=df_counts['Gold_Count'],\n",
    "            name='Gold Standard Count',\n",
    "            marker_color='gold',\n",
    "            showlegend=True,\n",
    "            legendgroup='counts',\n",
    "            hovertemplate='<b>Gold Standard</b><br>Type: %{x}<br>Count: %{y}<extra></extra>'\n",
    "        ),\n",
    "        row=4, col=1\n",
    "    )\n",
    "    \n",
    "    fig.add_trace(\n",
    "        go.Bar(\n",
    "            x=df_counts['Annotation_Type'],\n",
    "            y=df_counts['Predicted_Count'],\n",
    "            name='Avg Predicted Count',\n",
    "            marker_color='silver',\n",
    "            showlegend=True,\n",
    "            legendgroup='counts',\n",
    "            yaxis='y2',\n",
    "            hovertemplate='<b>Predicted</b><br>Type: %{x}<br>Avg Count: %{y:.1f}<extra></extra>'\n",
    "        ),\n",
    "        row=4, col=1\n",
    "    )\n",
    "    \n",
    "    # 8. Model Consistency Across Documents (Coefficient of Variation)\n",
    "    model_consistency = []\n",
    "    for model in df_lenient['Model'].unique():\n",
    "        model_data = df_lenient[df_lenient['Model'] == model]\n",
    "        doc_scores = model_data.groupby('Document')['F1_Score'].mean()\n",
    "        cv = doc_scores.std() / doc_scores.mean() if doc_scores.mean() > 0 else 0\n",
    "        model_consistency.append({'Model': model, 'Consistency': 1 - cv, 'CV': cv})\n",
    "    \n",
    "    consistency_df = pd.DataFrame(model_consistency)\n",
    "    \n",
    "    fig.add_trace(\n",
    "        go.Scatter(\n",
    "            x=consistency_df['Model'],\n",
    "            y=consistency_df['Consistency'],\n",
    "            mode='markers+lines',\n",
    "            name='Model Consistency',\n",
    "            marker=dict(\n",
    "                size=12,\n",
    "                color=[model_colors.get(model, '#95A5A6') for model in consistency_df['Model']],\n",
    "                symbol='diamond'\n",
    "            ),\n",
    "            line=dict(color='gray', dash='dash'),\n",
    "            showlegend=True,\n",
    "            legendgroup='consistency',\n",
    "            hovertemplate='<b>%{x}</b><br>Consistency: %{y:.3f}<br>CV: %{customdata:.3f}<extra></extra>',\n",
    "            customdata=consistency_df['CV']\n",
    "        ),\n",
    "        row=4, col=2\n",
    "    )\n",
    "    \n",
    "    # Update layout with improved legend and styling\n",
    "    fig.update_layout(\n",
    "        height=1600,  # Increased height for 4 rows\n",
    "        title=f'Enhanced LLM Evaluation Dashboard<br><sub>Pipeline Results: {Path(results_path).parent.name} | Document-Level Analysis</sub>',\n",
    "        title_x=0.5,\n",
    "        showlegend=True,\n",
    "        legend=dict(\n",
    "            orientation=\"v\",\n",
    "            yanchor=\"top\", \n",
    "            y=1,\n",
    "            xanchor=\"left\",\n",
    "            x=1.02,\n",
    "            bgcolor=\"rgba(255,255,255,0.8)\",\n",
    "            bordercolor=\"rgba(0,0,0,0.2)\",\n",
    "            borderwidth=1,\n",
    "            font=dict(size=10)\n",
    "        ),\n",
    "        font=dict(size=11)\n",
    "    )\n",
    "    \n",
    "    # Update subplot titles and axes with better formatting\n",
    "    fig.update_xaxes(title_text=\"Annotation Type\", row=1, col=1, title_font_size=10)\n",
    "    fig.update_yaxes(title_text=\"Average F1 Score\", row=1, col=1, title_font_size=10)\n",
    "    \n",
    "    fig.update_xaxes(title_text=\"Model\", row=1, col=2, title_font_size=10)\n",
    "    fig.update_yaxes(title_text=\"Document\", row=1, col=2, title_font_size=10)\n",
    "    \n",
    "    fig.update_xaxes(title_text=\"Recall\", row=2, col=1, title_font_size=10)\n",
    "    fig.update_yaxes(title_text=\"Precision\", row=2, col=1, title_font_size=10)\n",
    "    \n",
    "    fig.update_xaxes(title_text=\"Document\", row=2, col=2, title_font_size=10, tickangle=45)\n",
    "    fig.update_yaxes(title_text=\"F1 Score\", row=2, col=2, title_font_size=10)\n",
    "    \n",
    "    fig.update_xaxes(title_text=\"Model\", row=3, col=1, title_font_size=10)\n",
    "    fig.update_yaxes(title_text=\"F1 Score\", row=3, col=1, title_font_size=10)\n",
    "    \n",
    "    fig.update_xaxes(title_text=\"Annotation Type\", row=3, col=2, title_font_size=10)\n",
    "    fig.update_yaxes(title_text=\"F1 Score Distribution\", row=3, col=2, title_font_size=10)\n",
    "    \n",
    "    fig.update_xaxes(title_text=\"Annotation Type\", row=4, col=1, title_font_size=10)\n",
    "    fig.update_yaxes(title_text=\"Count\", row=4, col=1, title_font_size=10)\n",
    "    \n",
    "    fig.update_xaxes(title_text=\"Model\", row=4, col=2, title_font_size=10)\n",
    "    fig.update_yaxes(title_text=\"Consistency Score\", row=4, col=2, title_font_size=10)\n",
    "    \n",
    "    return fig\n",
    "\n",
    "def create_document_comparison_plot(df_lenient):\n",
    "    \"\"\"Create a detailed document comparison visualization.\"\"\"\n",
    "    # Document performance comparison\n",
    "    doc_fig = go.Figure()\n",
    "    \n",
    "    documents = df_lenient['Document'].unique()\n",
    "    models = df_lenient['Model'].unique()\n",
    "    \n",
    "    model_colors = {\n",
    "        'gemma3:1b': '#E74C3C',\n",
    "        'gemma3:4b': '#3498DB', \n",
    "        'gemma3:12b': '#2ECC71',\n",
    "        'mistral:latest': '#F39C12'\n",
    "    }\n",
    "    \n",
    "    for model in models:\n",
    "        model_data = df_lenient[df_lenient['Model'] == model]\n",
    "        doc_scores = model_data.groupby('Document')['F1_Score'].mean()\n",
    "        \n",
    "        doc_fig.add_trace(\n",
    "            go.Scatter(\n",
    "                x=documents,\n",
    "                y=[doc_scores.get(doc, 0) for doc in documents],\n",
    "                mode='lines+markers',\n",
    "                name=model,\n",
    "                line=dict(color=model_colors.get(model, '#95A5A6'), width=3),\n",
    "                marker=dict(size=8),\n",
    "                hovertemplate=f'<b>{model}</b><br>Document: %{{x}}<br>Avg F1: %{{y:.3f}}<extra></extra>'\n",
    "            )\n",
    "        )\n",
    "    \n",
    "    doc_fig.update_layout(\n",
    "        title='Model Performance Across Individual Documents',\n",
    "        xaxis_title='Document',\n",
    "        yaxis_title='Average F1 Score',\n",
    "        height=400,\n",
    "        hovermode='x unified',\n",
    "        legend=dict(\n",
    "            orientation=\"h\",\n",
    "            yanchor=\"bottom\",\n",
    "            y=1.02,\n",
    "            xanchor=\"right\", \n",
    "            x=1\n",
    "        )\n",
    "    )\n",
    "    \n",
    "    doc_fig.update_xaxes(tickangle=45)\n",
    "    return doc_fig\n",
    "\n",
    "# Enhanced example usage with document-level analysis\n",
    "results_path = \"output/pipeline_results_20250808_145025/llm_evaluation_results.json\"\n",
    "\n",
    "# Check if file exists\n",
    "if Path(results_path).exists():\n",
    "    # Create main dashboard\n",
    "    fig = visualize_single_run(results_path)\n",
    "    fig.show()\n",
    "    \n",
    "    # Create additional document comparison plot\n",
    "    results = load_evaluation_results(results_path)\n",
    "    df = create_dataframe_from_results(results)\n",
    "    df_lenient = df[df['Evaluation_Mode'] == 'Lenient']\n",
    "    \n",
    "    doc_fig = create_document_comparison_plot(df_lenient)\n",
    "    doc_fig.show()\n",
    "    \n",
    "    # Print summary statistics\n",
    "    print(\"📊 EVALUATION SUMMARY:\")\n",
    "    print(\"=\" * 50)\n",
    "    \n",
    "    # Model rankings\n",
    "    model_rankings = df_lenient.groupby('Model')['F1_Score'].agg(['mean', 'std']).round(3)\n",
    "    model_rankings = model_rankings.sort_values('mean', ascending=False)\n",
    "    print(\"\\n🏆 MODEL RANKINGS (by average F1):\")\n",
    "    for i, (model, stats) in enumerate(model_rankings.iterrows(), 1):\n",
    "        print(f\"{i}. {model}: {stats['mean']:.3f} (±{stats['std']:.3f})\")\n",
    "    \n",
    "    # Best performing annotation types\n",
    "    ann_performance = df_lenient.groupby('Annotation_Type')['F1_Score'].agg(['mean', 'std']).round(3)\n",
    "    ann_performance = ann_performance.sort_values('mean', ascending=False)\n",
    "    print(\"\\n📋 ANNOTATION TYPE PERFORMANCE:\")\n",
    "    for ann_type, stats in ann_performance.iterrows():\n",
    "        print(f\"• {ann_type}: {stats['mean']:.3f} (±{stats['std']:.3f})\")\n",
    "    \n",
    "    # Document difficulty analysis\n",
    "    doc_difficulty = df_lenient.groupby('Document')['F1_Score'].agg(['mean', 'std']).round(3)\n",
    "    doc_difficulty = doc_difficulty.sort_values('mean')\n",
    "    print(f\"\\n📄 DOCUMENT ANALYSIS:\")\n",
    "    print(f\"Most challenging: {doc_difficulty.index[0]} (avg F1: {doc_difficulty.iloc[0]['mean']:.3f})\")\n",
    "    print(f\"Easiest: {doc_difficulty.index[-1]} (avg F1: {doc_difficulty.iloc[-1]['mean']:.3f})\")\n",
    "    \n",
    "    print(\"\\n✅ Enhanced single run visualization created successfully!\")\n",
    "else:\n",
    "    print(f\"❌ Results file not found: {results_path}\")\n",
    "    print(\"Please update the path to your evaluation results file.\")\n",
    "    print(\"\\nAvailable pipeline results:\")\n",
    "    output_dir = Path(\"output\")\n",
    "    if output_dir.exists():\n",
    "        for folder in sorted(output_dir.glob(\"pipeline_results_*\")):\n",
    "            results_file = folder / \"llm_evaluation_results.json\"\n",
    "            if results_file.exists():\n",
    "                print(f\"  - {results_file}\")"
   ]
  },
  {
   "cell_type": "code",
   "execution_count": 3,
   "id": "5115f324",
   "metadata": {},
   "outputs": [
    {
     "name": "stdout",
     "output_type": "stream",
     "text": [
      "✅ Runtime analysis functions updated successfully!\n"
     ]
    }
   ],
   "source": [
    "def load_pipeline_timing_data(pipeline_folder):\n",
    "    \"\"\"Load timing data from pipeline results including overall and per-document timing.\"\"\"\n",
    "    pipeline_folder = Path(pipeline_folder)\n",
    "    \n",
    "    # Load main pipeline results\n",
    "    main_results_file = pipeline_folder / f\"{pipeline_folder.name}.json\"\n",
    "    with open(main_results_file, 'r', encoding='utf-8') as f:\n",
    "        pipeline_info = json.load(f)\n",
    "    \n",
    "    # Load evaluation results for performance data\n",
    "    eval_results_file = pipeline_folder / \"llm_evaluation_results.json\"\n",
    "    with open(eval_results_file, 'r', encoding='utf-8') as f:\n",
    "        eval_results = json.load(f)\n",
    "    \n",
    "    return {\n",
    "        'pipeline_info': pipeline_info,\n",
    "        'evaluation_results': eval_results\n",
    "    }\n",
    "\n",
    "def calculate_runtime_metrics(timing_data, eval_df):\n",
    "    \"\"\"Calculate comprehensive runtime and efficiency metrics with estimated timing.\"\"\"\n",
    "    \n",
    "    # Parse pipeline timing\n",
    "    pipeline_info = timing_data['pipeline_info']\n",
    "    \n",
    "    # Parse timing strings properly\n",
    "    start_time = pd.to_datetime(pipeline_info['start_time'])\n",
    "    end_time = pd.to_datetime(pipeline_info['end_time'])\n",
    "    total_pipeline_time = (end_time - start_time).total_seconds()\n",
    "    \n",
    "    # Extract total processing time if available as string\n",
    "    total_time_str = pipeline_info.get('total_processing_time', '0:13:24.886513')\n",
    "    if isinstance(total_time_str, str):\n",
    "        # Parse time string format \"0:13:24.886513\"\n",
    "        time_parts = total_time_str.split(':')\n",
    "        if len(time_parts) == 3:\n",
    "            hours = int(time_parts[0])\n",
    "            minutes = int(time_parts[1])\n",
    "            seconds = float(time_parts[2])\n",
    "            total_pipeline_time = hours * 3600 + minutes * 60 + seconds\n",
    "    \n",
    "    # Get evaluation data\n",
    "    eval_lenient = eval_df[eval_df['Evaluation_Mode'] == 'Lenient'].copy()\n",
    "    \n",
    "    # Group evaluation data by document and model\n",
    "    eval_summary = eval_lenient.groupby(['Document', 'Model']).agg({\n",
    "        'F1_Score': 'mean',\n",
    "        'Precision': 'mean',\n",
    "        'Recall': 'mean',\n",
    "        'True_Positives': 'sum',\n",
    "        'False_Positives': 'sum',\n",
    "        'False_Negatives': 'sum'\n",
    "    }).reset_index()\n",
    "    \n",
    "    # Create estimated timing data based on model characteristics\n",
    "    models = pipeline_info['models_used']\n",
    "    docs = eval_summary['Document'].unique()\n",
    "    \n",
    "    # Model speed factors (relative processing speeds)\n",
    "    model_speed_factors = {\n",
    "        'gemma3:1b': 1.0,      # Fastest (baseline)\n",
    "        'gemma3:4b': 2.5,      # Medium\n",
    "        'gemma3:12b': 4.0,     # Slower (larger model)\n",
    "        'mistral:latest': 1.8   # Medium-fast\n",
    "    }\n",
    "    \n",
    "    estimated_timing = []\n",
    "    base_time_per_doc = total_pipeline_time / (len(models) * len(docs))\n",
    "    \n",
    "    for doc in docs:\n",
    "        for model in models:\n",
    "            speed_factor = model_speed_factors.get(model, 2.0)\n",
    "            estimated_time = base_time_per_doc * speed_factor\n",
    "            \n",
    "            # Get annotation count for this doc-model combo\n",
    "            doc_eval = eval_summary[(eval_summary['Document'] == doc) & (eval_summary['Model'] == model)]\n",
    "            if not doc_eval.empty:\n",
    "                annotation_count = doc_eval['True_Positives'].iloc[0] + doc_eval['False_Positives'].iloc[0]\n",
    "            else:\n",
    "                annotation_count = 10  # Default estimate\n",
    "            \n",
    "            estimated_timing.append({\n",
    "                'document': doc,\n",
    "                'model': model,\n",
    "                'processing_time': estimated_time,\n",
    "                'tokens': 2000,  # Rough estimate\n",
    "                'text_length': 10000,  # Rough estimate\n",
    "                'annotation_count': max(annotation_count, 1),  # Ensure at least 1\n",
    "                'estimated': True\n",
    "            })\n",
    "    \n",
    "    doc_timing = pd.DataFrame(estimated_timing)\n",
    "    \n",
    "    # Merge timing with evaluation metrics\n",
    "    merged_data = pd.merge(\n",
    "        eval_summary, \n",
    "        doc_timing, \n",
    "        left_on=['Document', 'Model'], \n",
    "        right_on=['document', 'model'], \n",
    "        how='left'\n",
    "    )\n",
    "    \n",
    "    # Calculate efficiency metrics (avoid division by zero)\n",
    "    merged_data['efficiency_score'] = merged_data['F1_Score'] / (merged_data['processing_time'] + 0.001)\n",
    "    merged_data['annotations_per_second'] = merged_data['annotation_count'] / (merged_data['processing_time'] + 0.001)\n",
    "    merged_data['tokens_per_second'] = merged_data['tokens'] / (merged_data['processing_time'] + 0.001)\n",
    "    merged_data['time_per_annotation'] = merged_data['processing_time'] / (merged_data['annotation_count'] + 1)\n",
    "    \n",
    "    return {\n",
    "        'merged_data': merged_data,\n",
    "        'total_pipeline_time': total_pipeline_time,\n",
    "        'pipeline_info': pipeline_info,\n",
    "        'models_used': pipeline_info['models_used'],\n",
    "        'documents_processed': pipeline_info['processed_documents']\n",
    "    }\n",
    "\n",
    "def create_runtime_dashboard(pipeline_folder):\n",
    "    \"\"\"Create comprehensive runtime analysis dashboard.\"\"\"\n",
    "    \n",
    "    # Load data\n",
    "    timing_data = load_pipeline_timing_data(pipeline_folder)\n",
    "    eval_results = load_evaluation_results(pipeline_folder / \"llm_evaluation_results.json\")\n",
    "    eval_df = create_dataframe_from_results(eval_results)\n",
    "    \n",
    "    # Calculate runtime metrics\n",
    "    runtime_metrics = calculate_runtime_metrics(timing_data, eval_df)\n",
    "    merged_data = runtime_metrics['merged_data']\n",
    "    \n",
    "    # Create dashboard\n",
    "    fig = make_subplots(\n",
    "        rows=4, cols=2,\n",
    "        subplot_titles=(\n",
    "            'Processing Time by Model and Document',\n",
    "            'F1 Score vs Processing Time (Performance vs Speed)',\n",
    "            'Model Efficiency Score (F1/Time)',\n",
    "            'Annotations per Second by Model',\n",
    "            'Time per Annotation Distribution',\n",
    "            'Runtime vs Performance Trade-off',\n",
    "            'Model Speed Comparison',\n",
    "            'Document Processing Complexity'\n",
    "        ),\n",
    "        specs=[[{\"type\": \"bar\"}, {\"type\": \"scatter\"}],\n",
    "               [{\"type\": \"bar\"}, {\"type\": \"box\"}],\n",
    "               [{\"type\": \"violin\"}, {\"type\": \"scatter\"}],\n",
    "               [{\"type\": \"bar\"}, {\"type\": \"heatmap\"}]],\n",
    "        vertical_spacing=0.08,\n",
    "        horizontal_spacing=0.12\n",
    "    )\n",
    "    \n",
    "    # Color palette for models\n",
    "    model_colors = {\n",
    "        'gemma3:1b': '#E74C3C',    # Red\n",
    "        'gemma3:4b': '#3498DB',    # Blue  \n",
    "        'gemma3:12b': '#2ECC71',   # Green\n",
    "        'mistral:latest': '#F39C12' # Orange\n",
    "    }\n",
    "    \n",
    "    # 1. Processing Time by Model and Document\n",
    "    for model in merged_data['Model'].unique():\n",
    "        model_data = merged_data[merged_data['Model'] == model]\n",
    "        fig.add_trace(\n",
    "            go.Bar(\n",
    "                x=model_data['Document'],\n",
    "                y=model_data['processing_time'],\n",
    "                name=f'{model}',\n",
    "                marker_color=model_colors.get(model, '#95A5A6'),\n",
    "                showlegend=True,\n",
    "                legendgroup='models',\n",
    "                hovertemplate=f'<b>{model}</b><br>Document: %{{x}}<br>Time: %{{y:.2f}}s<extra></extra>'\n",
    "            ),\n",
    "            row=1, col=1\n",
    "        )\n",
    "    \n",
    "    # 2. F1 Score vs Processing Time\n",
    "    for model in merged_data['Model'].unique():\n",
    "        model_data = merged_data[merged_data['Model'] == model]\n",
    "        fig.add_trace(\n",
    "            go.Scatter(\n",
    "                x=model_data['processing_time'],\n",
    "                y=model_data['F1_Score'],\n",
    "                mode='markers',\n",
    "                name=f'{model}',\n",
    "                marker=dict(\n",
    "                    size=12,\n",
    "                    color=model_colors.get(model, '#95A5A6'),\n",
    "                    symbol='circle',\n",
    "                    opacity=0.8\n",
    "                ),\n",
    "                text=model_data['Document'],\n",
    "                showlegend=False,\n",
    "                legendgroup='models',\n",
    "                hovertemplate=f'<b>{model}</b><br>Time: %{{x:.2f}}s<br>F1: %{{y:.3f}}<br>Doc: %{{text}}<extra></extra>'\n",
    "            ),\n",
    "            row=1, col=2\n",
    "        )\n",
    "    \n",
    "    # 3. Model Efficiency Score\n",
    "    efficiency_data = merged_data.groupby('Model')['efficiency_score'].mean().reset_index()\n",
    "    efficiency_data = efficiency_data.sort_values('efficiency_score', ascending=True)\n",
    "    \n",
    "    fig.add_trace(\n",
    "        go.Bar(\n",
    "            x=efficiency_data['efficiency_score'],\n",
    "            y=efficiency_data['Model'],\n",
    "            orientation='h',\n",
    "            name='Efficiency',\n",
    "            marker_color=[model_colors.get(model, '#95A5A6') for model in efficiency_data['Model']],\n",
    "            showlegend=False,\n",
    "            hovertemplate='<b>%{y}</b><br>Efficiency: %{x:.4f} F1/sec<extra></extra>'\n",
    "        ),\n",
    "        row=2, col=1\n",
    "    )\n",
    "    \n",
    "    # 4. Annotations per Second by Model\n",
    "    for model in merged_data['Model'].unique():\n",
    "        model_data = merged_data[merged_data['Model'] == model]\n",
    "        fig.add_trace(\n",
    "            go.Box(\n",
    "                y=model_data['annotations_per_second'],\n",
    "                name=model,\n",
    "                boxpoints='all',\n",
    "                jitter=0.3,\n",
    "                marker_color=model_colors.get(model, '#95A5A6'),\n",
    "                showlegend=False,\n",
    "                hovertemplate=f'<b>{model}</b><br>Ann/sec: %{{y:.2f}}<extra></extra>'\n",
    "            ),\n",
    "            row=2, col=2\n",
    "        )\n",
    "    \n",
    "    # 5. Time per Annotation Distribution\n",
    "    for model in merged_data['Model'].unique():\n",
    "        model_data = merged_data[merged_data['Model'] == model]\n",
    "        fig.add_trace(\n",
    "            go.Violin(\n",
    "                y=model_data['time_per_annotation'],\n",
    "                name=model,\n",
    "                side='positive',\n",
    "                marker_color=model_colors.get(model, '#95A5A6'),\n",
    "                showlegend=False,\n",
    "                hovertemplate=f'<b>{model}</b><br>Time/Ann: %{{y:.3f}}s<extra></extra>'\n",
    "            ),\n",
    "            row=3, col=1\n",
    "        )\n",
    "    \n",
    "    # 6. Runtime vs Performance Trade-off (Bubble chart)\n",
    "    bubble_data = merged_data.groupby('Model').agg({\n",
    "        'F1_Score': 'mean',\n",
    "        'processing_time': 'mean',\n",
    "        'annotation_count': 'sum'\n",
    "    }).reset_index()\n",
    "    \n",
    "    fig.add_trace(\n",
    "        go.Scatter(\n",
    "            x=bubble_data['processing_time'],\n",
    "            y=bubble_data['F1_Score'],\n",
    "            mode='markers+text',\n",
    "            text=bubble_data['Model'],\n",
    "            textposition='top center',\n",
    "            marker=dict(\n",
    "                size=bubble_data['annotation_count'],\n",
    "                color=[model_colors.get(model, '#95A5A6') for model in bubble_data['Model']],\n",
    "                opacity=0.7,\n",
    "                sizemode='diameter',\n",
    "                sizemin=15,\n",
    "                sizeref=2.*max(bubble_data['annotation_count'])/(40.**2)\n",
    "            ),\n",
    "            name='Performance vs Speed',\n",
    "            showlegend=False,\n",
    "            hovertemplate='<b>%{text}</b><br>Time: %{x:.2f}s<br>F1: %{y:.3f}<br>Annotations: %{marker.size}<extra></extra>'\n",
    "        ),\n",
    "        row=3, col=2\n",
    "    )\n",
    "    \n",
    "    # 7. Model Speed Comparison\n",
    "    speed_data = merged_data.groupby('Model')['processing_time'].mean().reset_index()\n",
    "    speed_data = speed_data.sort_values('processing_time')\n",
    "    \n",
    "    fig.add_trace(\n",
    "        go.Bar(\n",
    "            x=speed_data['Model'],\n",
    "            y=speed_data['processing_time'],\n",
    "            name='Avg Processing Time',\n",
    "            marker_color=[model_colors.get(model, '#95A5A6') for model in speed_data['Model']],\n",
    "            showlegend=False,\n",
    "            hovertemplate='<b>%{x}</b><br>Avg Time: %{y:.2f}s<extra></extra>'\n",
    "        ),\n",
    "        row=4, col=1\n",
    "    )\n",
    "    \n",
    "    # 8. Document Processing Complexity Heatmap\n",
    "    complexity_pivot = merged_data.pivot(index='Document', columns='Model', values='processing_time')\n",
    "    \n",
    "    fig.add_trace(\n",
    "        go.Heatmap(\n",
    "            z=complexity_pivot.values,\n",
    "            x=complexity_pivot.columns,\n",
    "            y=complexity_pivot.index,\n",
    "            colorscale='Viridis',\n",
    "            showscale=True,\n",
    "            hovertemplate='Document: %{y}<br>Model: %{x}<br>Time: %{z:.2f}s<extra></extra>',\n",
    "            colorbar=dict(title=\"Processing Time (s)\", x=1.02)\n",
    "        ),\n",
    "        row=4, col=2\n",
    "    )\n",
    "    \n",
    "    # Update layout\n",
    "    fig.update_layout(\n",
    "        height=1600,\n",
    "        title=f'🚀 Runtime Analysis Dashboard<br><sub>Pipeline: {Path(pipeline_folder).name} | Total Time: {runtime_metrics[\"total_pipeline_time\"]/60:.1f} minutes</sub>',\n",
    "        title_x=0.5,\n",
    "        showlegend=True,\n",
    "        font=dict(size=11)\n",
    "    )\n",
    "    \n",
    "    # Update axes labels\n",
    "    fig.update_xaxes(title_text=\"Documents\", row=1, col=1, tickangle=45)\n",
    "    fig.update_yaxes(title_text=\"Processing Time (s)\", row=1, col=1)\n",
    "    \n",
    "    fig.update_xaxes(title_text=\"Processing Time (s)\", row=1, col=2)\n",
    "    fig.update_yaxes(title_text=\"F1 Score\", row=1, col=2)\n",
    "    \n",
    "    fig.update_xaxes(title_text=\"Efficiency Score (F1/s)\", row=2, col=1)\n",
    "    fig.update_yaxes(title_text=\"Model\", row=2, col=1)\n",
    "    \n",
    "    fig.update_xaxes(title_text=\"Model\", row=2, col=2)\n",
    "    fig.update_yaxes(title_text=\"Annotations per Second\", row=2, col=2)\n",
    "    \n",
    "    fig.update_xaxes(title_text=\"Model\", row=3, col=1)\n",
    "    fig.update_yaxes(title_text=\"Time per Annotation (s)\", row=3, col=1)\n",
    "    \n",
    "    fig.update_xaxes(title_text=\"Processing Time (s)\", row=3, col=2)\n",
    "    fig.update_yaxes(title_text=\"F1 Score\", row=3, col=2)\n",
    "    \n",
    "    fig.update_xaxes(title_text=\"Model\", row=4, col=1)\n",
    "    fig.update_yaxes(title_text=\"Processing Time (s)\", row=4, col=1)\n",
    "    \n",
    "    fig.update_xaxes(title_text=\"Model\", row=4, col=2)\n",
    "    fig.update_yaxes(title_text=\"Document\", row=4, col=2)\n",
    "    \n",
    "    return fig, runtime_metrics\n",
    "\n",
    "def print_runtime_summary(runtime_metrics):\n",
    "    \"\"\"Print comprehensive runtime analysis summary.\"\"\"\n",
    "    merged_data = runtime_metrics['merged_data']\n",
    "    pipeline_info = runtime_metrics['pipeline_info']\n",
    "    total_time = runtime_metrics['total_pipeline_time']\n",
    "    \n",
    "    print(\"\\n🚀 RUNTIME ANALYSIS SUMMARY\")\n",
    "    print(\"=\" * 60)\n",
    "    \n",
    "    # Pipeline overview\n",
    "    print(f\"\\n⏱️ PIPELINE OVERVIEW:\")\n",
    "    print(f\"Total processing time: {total_time:.1f} seconds ({total_time/60:.1f} minutes)\")\n",
    "    print(f\"Documents processed: {pipeline_info['processed_documents']}\")\n",
    "    print(f\"Models used: {len(pipeline_info['models_used'])}\")\n",
    "    print(f\"Start time: {pipeline_info['start_time']}\")\n",
    "    print(f\"End time: {pipeline_info['end_time']}\")\n",
    "    \n",
    "    # Model performance summary\n",
    "    model_stats = merged_data.groupby('Model').agg({\n",
    "        'processing_time': ['mean', 'std', 'sum'],\n",
    "        'F1_Score': 'mean',\n",
    "        'efficiency_score': 'mean',\n",
    "        'annotations_per_second': 'mean',\n",
    "        'time_per_annotation': 'mean'\n",
    "    }).round(3)\n",
    "    \n",
    "    print(f\"\\n📊 MODEL PERFORMANCE SUMMARY:\")\n",
    "    print(f\"{'Model':<15} {'Avg Time (s)':<12} {'Total Time (s)':<14} {'Avg F1':<8} {'Efficiency':<10} {'Ann/sec':<8}\")\n",
    "    print(\"-\" * 75)\n",
    "    \n",
    "    for model in model_stats.index:\n",
    "        avg_time = model_stats.loc[model, ('processing_time', 'mean')]\n",
    "        total_time_model = model_stats.loc[model, ('processing_time', 'sum')]\n",
    "        avg_f1 = model_stats.loc[model, ('F1_Score', 'mean')]\n",
    "        efficiency = model_stats.loc[model, ('efficiency_score', 'mean')]\n",
    "        ann_per_sec = model_stats.loc[model, ('annotations_per_second', 'mean')]\n",
    "        \n",
    "        print(f\"{model:<15} {avg_time:<12.2f} {total_time_model:<14.1f} {avg_f1:<8.3f} {efficiency:<10.4f} {ann_per_sec:<8.2f}\")\n",
    "    \n",
    "    # Speed rankings\n",
    "    speed_ranking = merged_data.groupby('Model')['processing_time'].mean().sort_values()\n",
    "    efficiency_ranking = merged_data.groupby('Model')['efficiency_score'].mean().sort_values(ascending=False)\n",
    "    \n",
    "    print(f\"\\n🏃 SPEED RANKINGS (fastest to slowest):\")\n",
    "    for i, (model, time) in enumerate(speed_ranking.items(), 1):\n",
    "        print(f\"{i}. {model}: {time:.2f}s avg per document\")\n",
    "    \n",
    "    print(f\"\\n🎯 EFFICIENCY RANKINGS (F1/time, best to worst):\")\n",
    "    for i, (model, eff) in enumerate(efficiency_ranking.items(), 1):\n",
    "        print(f\"{i}. {model}: {eff:.4f} F1 per second\")\n",
    "    \n",
    "    # Document analysis\n",
    "    doc_stats = merged_data.groupby('Document').agg({\n",
    "        'processing_time': ['mean', 'std'],\n",
    "        'F1_Score': 'mean'\n",
    "    }).round(3)\n",
    "    \n",
    "    print(f\"\\n📄 DOCUMENT PROCESSING ANALYSIS:\")\n",
    "    print(f\"{'Document':<40} {'Avg Time (s)':<12} {'Std (s)':<10} {'Avg F1':<8}\")\n",
    "    print(\"-\" * 70)\n",
    "    \n",
    "    for doc in doc_stats.index:\n",
    "        doc_short = doc[:35] + \"...\" if len(doc) > 35 else doc\n",
    "        avg_time = doc_stats.loc[doc, ('processing_time', 'mean')]\n",
    "        std_time = doc_stats.loc[doc, ('processing_time', 'std')]\n",
    "        avg_f1 = doc_stats.loc[doc, ('F1_Score', 'mean')]\n",
    "        \n",
    "        print(f\"{doc_short:<40} {avg_time:<12.2f} {std_time:<10.2f} {avg_f1:<8.3f}\")\n",
    "    \n",
    "    # Key insights\n",
    "    fastest_model = speed_ranking.index[0]\n",
    "    slowest_model = speed_ranking.index[-1]\n",
    "    most_efficient = efficiency_ranking.index[0]\n",
    "    \n",
    "    print(f\"\\n💡 KEY INSIGHTS:\")\n",
    "    print(f\"• Fastest model: {fastest_model} ({speed_ranking[fastest_model]:.2f}s avg)\")\n",
    "    print(f\"• Slowest model: {slowest_model} ({speed_ranking[slowest_model]:.2f}s avg)\")\n",
    "    print(f\"• Most efficient: {most_efficient} ({efficiency_ranking[most_efficient]:.4f} F1/sec)\")\n",
    "    print(f\"• Speed difference: {slowest_model} is {speed_ranking[slowest_model]/speed_ranking[fastest_model]:.1f}x slower than {fastest_model}\")\n",
    "    \n",
    "    # Performance vs speed trade-offs\n",
    "    best_f1_model = merged_data.groupby('Model')['F1_Score'].mean().idxmax()\n",
    "    print(f\"• Best F1 model: {best_f1_model}\")\n",
    "    print(f\"• Best trade-off: {most_efficient} (combines good performance with speed)\")\n",
    "    \n",
    "    return {\n",
    "        'model_stats': model_stats,\n",
    "        'speed_ranking': speed_ranking,\n",
    "        'efficiency_ranking': efficiency_ranking,\n",
    "        'document_stats': doc_stats\n",
    "    }\n",
    "\n",
    "print(\"✅ Runtime analysis functions updated successfully!\")"
   ]
  },
  {
   "cell_type": "code",
   "execution_count": 4,
   "id": "24b045fa",
   "metadata": {},
   "outputs": [
    {
     "name": "stdout",
     "output_type": "stream",
     "text": [
      "🚀 RUNTIME ANALYSIS\n",
      "========================================\n",
      "Total pipeline time: 584679.0s (9744.7 min)\n",
      "Documents: 30\n",
      "Models: 12\n",
      "\n",
      "Estimated processing times per document:\n",
      "• gemma3:1b: 1624.1s\n",
      "• gemma3:4b: 4060.3s\n",
      "• gemma3:12b: 6496.4s\n",
      "• llama3.3:latest: 3248.2s\n",
      "• deepseek-r1:8b: 3248.2s\n",
      "• mistral:latest: 2923.4s\n",
      "• incept5/llama3.1-claude:latest: 3248.2s\n",
      "• chevalblanc/claude-3-haiku:latest: 3248.2s\n",
      "• llama4:16x17b: 3248.2s\n",
      "• mixtral:8x7b: 3248.2s\n",
      "• dolphin3:8b: 3248.2s\n",
      "• dolphin-mixtral:8x7b: 3248.2s\n"
     ]
    },
    {
     "data": {
      "application/vnd.plotly.v1+json": {
       "config": {
        "plotlyServerURL": "https://plot.ly"
       },
       "data": [
        {
         "marker": {
          "color": [
           "#E74C3C",
           "#3498DB",
           "#2ECC71",
           "#F39C12"
          ]
         },
         "type": "bar",
         "x": [
          "gemma3:1b",
          "gemma3:4b",
          "gemma3:12b",
          "llama3.3:latest",
          "deepseek-r1:8b",
          "mistral:latest",
          "incept5/llama3.1-claude:latest",
          "chevalblanc/claude-3-haiku:latest",
          "llama4:16x17b",
          "mixtral:8x7b",
          "dolphin3:8b",
          "dolphin-mixtral:8x7b"
         ],
         "y": [
          1624.108359186111,
          4060.270897965278,
          6496.433436744444,
          3248.216718372222,
          3248.216718372222,
          2923.395046535,
          3248.216718372222,
          3248.216718372222,
          3248.216718372222,
          3248.216718372222,
          3248.216718372222,
          3248.216718372222
         ]
        }
       ],
       "layout": {
        "height": 400,
        "template": {
         "data": {
          "bar": [
           {
            "error_x": {
             "color": "#2a3f5f"
            },
            "error_y": {
             "color": "#2a3f5f"
            },
            "marker": {
             "line": {
              "color": "#E5ECF6",
              "width": 0.5
             },
             "pattern": {
              "fillmode": "overlay",
              "size": 10,
              "solidity": 0.2
             }
            },
            "type": "bar"
           }
          ],
          "barpolar": [
           {
            "marker": {
             "line": {
              "color": "#E5ECF6",
              "width": 0.5
             },
             "pattern": {
              "fillmode": "overlay",
              "size": 10,
              "solidity": 0.2
             }
            },
            "type": "barpolar"
           }
          ],
          "carpet": [
           {
            "aaxis": {
             "endlinecolor": "#2a3f5f",
             "gridcolor": "white",
             "linecolor": "white",
             "minorgridcolor": "white",
             "startlinecolor": "#2a3f5f"
            },
            "baxis": {
             "endlinecolor": "#2a3f5f",
             "gridcolor": "white",
             "linecolor": "white",
             "minorgridcolor": "white",
             "startlinecolor": "#2a3f5f"
            },
            "type": "carpet"
           }
          ],
          "choropleth": [
           {
            "colorbar": {
             "outlinewidth": 0,
             "ticks": ""
            },
            "type": "choropleth"
           }
          ],
          "contour": [
           {
            "colorbar": {
             "outlinewidth": 0,
             "ticks": ""
            },
            "colorscale": [
             [
              0,
              "#0d0887"
             ],
             [
              0.1111111111111111,
              "#46039f"
             ],
             [
              0.2222222222222222,
              "#7201a8"
             ],
             [
              0.3333333333333333,
              "#9c179e"
             ],
             [
              0.4444444444444444,
              "#bd3786"
             ],
             [
              0.5555555555555556,
              "#d8576b"
             ],
             [
              0.6666666666666666,
              "#ed7953"
             ],
             [
              0.7777777777777778,
              "#fb9f3a"
             ],
             [
              0.8888888888888888,
              "#fdca26"
             ],
             [
              1,
              "#f0f921"
             ]
            ],
            "type": "contour"
           }
          ],
          "contourcarpet": [
           {
            "colorbar": {
             "outlinewidth": 0,
             "ticks": ""
            },
            "type": "contourcarpet"
           }
          ],
          "heatmap": [
           {
            "colorbar": {
             "outlinewidth": 0,
             "ticks": ""
            },
            "colorscale": [
             [
              0,
              "#0d0887"
             ],
             [
              0.1111111111111111,
              "#46039f"
             ],
             [
              0.2222222222222222,
              "#7201a8"
             ],
             [
              0.3333333333333333,
              "#9c179e"
             ],
             [
              0.4444444444444444,
              "#bd3786"
             ],
             [
              0.5555555555555556,
              "#d8576b"
             ],
             [
              0.6666666666666666,
              "#ed7953"
             ],
             [
              0.7777777777777778,
              "#fb9f3a"
             ],
             [
              0.8888888888888888,
              "#fdca26"
             ],
             [
              1,
              "#f0f921"
             ]
            ],
            "type": "heatmap"
           }
          ],
          "histogram": [
           {
            "marker": {
             "pattern": {
              "fillmode": "overlay",
              "size": 10,
              "solidity": 0.2
             }
            },
            "type": "histogram"
           }
          ],
          "histogram2d": [
           {
            "colorbar": {
             "outlinewidth": 0,
             "ticks": ""
            },
            "colorscale": [
             [
              0,
              "#0d0887"
             ],
             [
              0.1111111111111111,
              "#46039f"
             ],
             [
              0.2222222222222222,
              "#7201a8"
             ],
             [
              0.3333333333333333,
              "#9c179e"
             ],
             [
              0.4444444444444444,
              "#bd3786"
             ],
             [
              0.5555555555555556,
              "#d8576b"
             ],
             [
              0.6666666666666666,
              "#ed7953"
             ],
             [
              0.7777777777777778,
              "#fb9f3a"
             ],
             [
              0.8888888888888888,
              "#fdca26"
             ],
             [
              1,
              "#f0f921"
             ]
            ],
            "type": "histogram2d"
           }
          ],
          "histogram2dcontour": [
           {
            "colorbar": {
             "outlinewidth": 0,
             "ticks": ""
            },
            "colorscale": [
             [
              0,
              "#0d0887"
             ],
             [
              0.1111111111111111,
              "#46039f"
             ],
             [
              0.2222222222222222,
              "#7201a8"
             ],
             [
              0.3333333333333333,
              "#9c179e"
             ],
             [
              0.4444444444444444,
              "#bd3786"
             ],
             [
              0.5555555555555556,
              "#d8576b"
             ],
             [
              0.6666666666666666,
              "#ed7953"
             ],
             [
              0.7777777777777778,
              "#fb9f3a"
             ],
             [
              0.8888888888888888,
              "#fdca26"
             ],
             [
              1,
              "#f0f921"
             ]
            ],
            "type": "histogram2dcontour"
           }
          ],
          "mesh3d": [
           {
            "colorbar": {
             "outlinewidth": 0,
             "ticks": ""
            },
            "type": "mesh3d"
           }
          ],
          "parcoords": [
           {
            "line": {
             "colorbar": {
              "outlinewidth": 0,
              "ticks": ""
             }
            },
            "type": "parcoords"
           }
          ],
          "pie": [
           {
            "automargin": true,
            "type": "pie"
           }
          ],
          "scatter": [
           {
            "fillpattern": {
             "fillmode": "overlay",
             "size": 10,
             "solidity": 0.2
            },
            "type": "scatter"
           }
          ],
          "scatter3d": [
           {
            "line": {
             "colorbar": {
              "outlinewidth": 0,
              "ticks": ""
             }
            },
            "marker": {
             "colorbar": {
              "outlinewidth": 0,
              "ticks": ""
             }
            },
            "type": "scatter3d"
           }
          ],
          "scattercarpet": [
           {
            "marker": {
             "colorbar": {
              "outlinewidth": 0,
              "ticks": ""
             }
            },
            "type": "scattercarpet"
           }
          ],
          "scattergeo": [
           {
            "marker": {
             "colorbar": {
              "outlinewidth": 0,
              "ticks": ""
             }
            },
            "type": "scattergeo"
           }
          ],
          "scattergl": [
           {
            "marker": {
             "colorbar": {
              "outlinewidth": 0,
              "ticks": ""
             }
            },
            "type": "scattergl"
           }
          ],
          "scattermap": [
           {
            "marker": {
             "colorbar": {
              "outlinewidth": 0,
              "ticks": ""
             }
            },
            "type": "scattermap"
           }
          ],
          "scattermapbox": [
           {
            "marker": {
             "colorbar": {
              "outlinewidth": 0,
              "ticks": ""
             }
            },
            "type": "scattermapbox"
           }
          ],
          "scatterpolar": [
           {
            "marker": {
             "colorbar": {
              "outlinewidth": 0,
              "ticks": ""
             }
            },
            "type": "scatterpolar"
           }
          ],
          "scatterpolargl": [
           {
            "marker": {
             "colorbar": {
              "outlinewidth": 0,
              "ticks": ""
             }
            },
            "type": "scatterpolargl"
           }
          ],
          "scatterternary": [
           {
            "marker": {
             "colorbar": {
              "outlinewidth": 0,
              "ticks": ""
             }
            },
            "type": "scatterternary"
           }
          ],
          "surface": [
           {
            "colorbar": {
             "outlinewidth": 0,
             "ticks": ""
            },
            "colorscale": [
             [
              0,
              "#0d0887"
             ],
             [
              0.1111111111111111,
              "#46039f"
             ],
             [
              0.2222222222222222,
              "#7201a8"
             ],
             [
              0.3333333333333333,
              "#9c179e"
             ],
             [
              0.4444444444444444,
              "#bd3786"
             ],
             [
              0.5555555555555556,
              "#d8576b"
             ],
             [
              0.6666666666666666,
              "#ed7953"
             ],
             [
              0.7777777777777778,
              "#fb9f3a"
             ],
             [
              0.8888888888888888,
              "#fdca26"
             ],
             [
              1,
              "#f0f921"
             ]
            ],
            "type": "surface"
           }
          ],
          "table": [
           {
            "cells": {
             "fill": {
              "color": "#EBF0F8"
             },
             "line": {
              "color": "white"
             }
            },
            "header": {
             "fill": {
              "color": "#C8D4E3"
             },
             "line": {
              "color": "white"
             }
            },
            "type": "table"
           }
          ]
         },
         "layout": {
          "annotationdefaults": {
           "arrowcolor": "#2a3f5f",
           "arrowhead": 0,
           "arrowwidth": 1
          },
          "autotypenumbers": "strict",
          "coloraxis": {
           "colorbar": {
            "outlinewidth": 0,
            "ticks": ""
           }
          },
          "colorscale": {
           "diverging": [
            [
             0,
             "#8e0152"
            ],
            [
             0.1,
             "#c51b7d"
            ],
            [
             0.2,
             "#de77ae"
            ],
            [
             0.3,
             "#f1b6da"
            ],
            [
             0.4,
             "#fde0ef"
            ],
            [
             0.5,
             "#f7f7f7"
            ],
            [
             0.6,
             "#e6f5d0"
            ],
            [
             0.7,
             "#b8e186"
            ],
            [
             0.8,
             "#7fbc41"
            ],
            [
             0.9,
             "#4d9221"
            ],
            [
             1,
             "#276419"
            ]
           ],
           "sequential": [
            [
             0,
             "#0d0887"
            ],
            [
             0.1111111111111111,
             "#46039f"
            ],
            [
             0.2222222222222222,
             "#7201a8"
            ],
            [
             0.3333333333333333,
             "#9c179e"
            ],
            [
             0.4444444444444444,
             "#bd3786"
            ],
            [
             0.5555555555555556,
             "#d8576b"
            ],
            [
             0.6666666666666666,
             "#ed7953"
            ],
            [
             0.7777777777777778,
             "#fb9f3a"
            ],
            [
             0.8888888888888888,
             "#fdca26"
            ],
            [
             1,
             "#f0f921"
            ]
           ],
           "sequentialminus": [
            [
             0,
             "#0d0887"
            ],
            [
             0.1111111111111111,
             "#46039f"
            ],
            [
             0.2222222222222222,
             "#7201a8"
            ],
            [
             0.3333333333333333,
             "#9c179e"
            ],
            [
             0.4444444444444444,
             "#bd3786"
            ],
            [
             0.5555555555555556,
             "#d8576b"
            ],
            [
             0.6666666666666666,
             "#ed7953"
            ],
            [
             0.7777777777777778,
             "#fb9f3a"
            ],
            [
             0.8888888888888888,
             "#fdca26"
            ],
            [
             1,
             "#f0f921"
            ]
           ]
          },
          "colorway": [
           "#636efa",
           "#EF553B",
           "#00cc96",
           "#ab63fa",
           "#FFA15A",
           "#19d3f3",
           "#FF6692",
           "#B6E880",
           "#FF97FF",
           "#FECB52"
          ],
          "font": {
           "color": "#2a3f5f"
          },
          "geo": {
           "bgcolor": "white",
           "lakecolor": "white",
           "landcolor": "#E5ECF6",
           "showlakes": true,
           "showland": true,
           "subunitcolor": "white"
          },
          "hoverlabel": {
           "align": "left"
          },
          "hovermode": "closest",
          "mapbox": {
           "style": "light"
          },
          "paper_bgcolor": "white",
          "plot_bgcolor": "#E5ECF6",
          "polar": {
           "angularaxis": {
            "gridcolor": "white",
            "linecolor": "white",
            "ticks": ""
           },
           "bgcolor": "#E5ECF6",
           "radialaxis": {
            "gridcolor": "white",
            "linecolor": "white",
            "ticks": ""
           }
          },
          "scene": {
           "xaxis": {
            "backgroundcolor": "#E5ECF6",
            "gridcolor": "white",
            "gridwidth": 2,
            "linecolor": "white",
            "showbackground": true,
            "ticks": "",
            "zerolinecolor": "white"
           },
           "yaxis": {
            "backgroundcolor": "#E5ECF6",
            "gridcolor": "white",
            "gridwidth": 2,
            "linecolor": "white",
            "showbackground": true,
            "ticks": "",
            "zerolinecolor": "white"
           },
           "zaxis": {
            "backgroundcolor": "#E5ECF6",
            "gridcolor": "white",
            "gridwidth": 2,
            "linecolor": "white",
            "showbackground": true,
            "ticks": "",
            "zerolinecolor": "white"
           }
          },
          "shapedefaults": {
           "line": {
            "color": "#2a3f5f"
           }
          },
          "ternary": {
           "aaxis": {
            "gridcolor": "white",
            "linecolor": "white",
            "ticks": ""
           },
           "baxis": {
            "gridcolor": "white",
            "linecolor": "white",
            "ticks": ""
           },
           "bgcolor": "#E5ECF6",
           "caxis": {
            "gridcolor": "white",
            "linecolor": "white",
            "ticks": ""
           }
          },
          "title": {
           "x": 0.05
          },
          "xaxis": {
           "automargin": true,
           "gridcolor": "white",
           "linecolor": "white",
           "ticks": "",
           "title": {
            "standoff": 15
           },
           "zerolinecolor": "white",
           "zerolinewidth": 2
          },
          "yaxis": {
           "automargin": true,
           "gridcolor": "white",
           "linecolor": "white",
           "ticks": "",
           "title": {
            "standoff": 15
           },
           "zerolinecolor": "white",
           "zerolinewidth": 2
          }
         }
        },
        "title": {
         "text": "Estimated Processing Time per Document"
        },
        "xaxis": {
         "title": {
          "text": "Model"
         }
        },
        "yaxis": {
         "title": {
          "text": "Time (seconds)"
         }
        }
       }
      }
     },
     "metadata": {},
     "output_type": "display_data"
    },
    {
     "name": "stdout",
     "output_type": "stream",
     "text": [
      "\n",
      "🏆 Speed Rankings:\n",
      "Fastest: gemma3:1b\n",
      "Slowest: gemma3:12b\n",
      "Speed difference: 4.0x\n",
      "\n",
      "✅ Analysis complete!\n"
     ]
    }
   ],
   "source": [
    "# Minimal Runtime Analysis (Ultra-Fast Version)\n",
    "print(\"🚀 RUNTIME ANALYSIS\")\n",
    "print(\"=\" * 40)\n",
    "\n",
    "pipeline_folder = \"output/pipeline_results_20250808_145025\"\n",
    "\n",
    "if Path(pipeline_folder).exists():\n",
    "    # Load pipeline timing data\n",
    "    main_file = Path(pipeline_folder) / f\"{Path(pipeline_folder).name}.json\"\n",
    "    with open(main_file, 'r', encoding='utf-8', errors='ignore') as f:\n",
    "        pipeline_info = json.load(f)\n",
    "    \n",
    "    # Calculate total time\n",
    "    start = pd.to_datetime(pipeline_info['start_time'])\n",
    "    end = pd.to_datetime(pipeline_info['end_time'])\n",
    "    total_time = (end - start).total_seconds()\n",
    "    \n",
    "    print(f\"Total pipeline time: {total_time:.1f}s ({total_time/60:.1f} min)\")\n",
    "    print(f\"Documents: {pipeline_info['processed_documents']}\")\n",
    "    print(f\"Models: {len(pipeline_info['models_used'])}\")\n",
    "    \n",
    "    # Model speed estimates (based on parameter count)\n",
    "    speeds = {\n",
    "        'gemma3:1b': 1.0,      # 1B params - fastest\n",
    "        'gemma3:4b': 2.5,      # 4B params - medium\n",
    "        'gemma3:12b': 4.0,     # 12B params - slowest  \n",
    "        'mistral:latest': 1.8  # ~7B params - medium-fast\n",
    "    }\n",
    "    \n",
    "    models = pipeline_info['models_used']\n",
    "    docs = pipeline_info['processed_documents']\n",
    "    base_time = total_time / (len(models) * docs)\n",
    "    \n",
    "    print(f\"\\nEstimated processing times per document:\")\n",
    "    for model in models:\n",
    "        est_time = base_time * speeds.get(model, 2.0)\n",
    "        print(f\"• {model}: {est_time:.1f}s\")\n",
    "    \n",
    "    # Quick visualization\n",
    "    model_times = [base_time * speeds.get(m, 2.0) for m in models]\n",
    "    \n",
    "    fig = go.Figure(data=[\n",
    "        go.Bar(x=models, y=model_times, \n",
    "               marker_color=['#E74C3C', '#3498DB', '#2ECC71', '#F39C12'])\n",
    "    ])\n",
    "    \n",
    "    fig.update_layout(\n",
    "        title='Estimated Processing Time per Document',\n",
    "        xaxis_title='Model',\n",
    "        yaxis_title='Time (seconds)',\n",
    "        height=400\n",
    "    )\n",
    "    \n",
    "    fig.show()\n",
    "    \n",
    "    # Rankings\n",
    "    fastest = min(models, key=lambda m: speeds.get(m, 2.0))\n",
    "    slowest = max(models, key=lambda m: speeds.get(m, 2.0))\n",
    "    \n",
    "    print(f\"\\n🏆 Speed Rankings:\")\n",
    "    print(f\"Fastest: {fastest}\")\n",
    "    print(f\"Slowest: {slowest}\")\n",
    "    print(f\"Speed difference: {speeds[slowest]/speeds[fastest]:.1f}x\")\n",
    "    \n",
    "    print(f\"\\n✅ Analysis complete!\")\n",
    "    \n",
    "else:\n",
    "    print(\"❌ Pipeline folder not found\")"
   ]
  },
  {
   "cell_type": "code",
   "execution_count": 5,
   "id": "d1066fd7",
   "metadata": {},
   "outputs": [
    {
     "name": "stdout",
     "output_type": "stream",
     "text": [
      "\n",
      "📊 DETAILED MODEL RUNTIMES PER DOCUMENT\n",
      "==================================================\n"
     ]
    },
    {
     "data": {
      "application/vnd.plotly.v1+json": {
       "config": {
        "plotlyServerURL": "https://plot.ly"
       },
       "data": [
        {
         "customdata": {
          "bdata": "IYRaBmjK10AhhFoGaMrXQA==",
          "dtype": "f8"
         },
         "hovertemplate": "<b>gemma3:1b</b><br>Document: %{x}<br>Runtime: %{y:.1f} min<br>(%{customdata:.0f} sec)<extra></extra>",
         "marker": {
          "color": "#E74C3C"
         },
         "name": "gemma3:1b",
         "text": [
          "406.0m",
          "406.0m"
         ],
         "textposition": "outside",
         "type": "bar",
         "x": [
          "ALTAY v. TURKEY (No. 2)",
          "BELYAYEV AND OTHERS v. UKRAINE"
         ],
         "y": {
          "bdata": "ReK19W5geUBF4rX1bmB5QA==",
          "dtype": "f8"
         }
        },
        {
         "customdata": {
          "bdata": "KSXxBwK97UApJfEHAr3tQA==",
          "dtype": "f8"
         },
         "hovertemplate": "<b>gemma3:4b</b><br>Document: %{x}<br>Runtime: %{y:.1f} min<br>(%{customdata:.0f} sec)<extra></extra>",
         "marker": {
          "color": "#3498DB"
         },
         "name": "gemma3:4b",
         "text": [
          "1015.1m",
          "1015.1m"
         ],
         "textposition": "outside",
         "type": "bar",
         "x": [
          "ALTAY v. TURKEY (No. 2)",
          "BELYAYEV AND OTHERS v. UKRAINE"
         ],
         "y": {
          "bdata": "1lojs4q4j0DWWiOziriPQA==",
          "dtype": "f8"
         }
        },
        {
         "customdata": {
          "bdata": "IYRaBmjK90AhhFoGaMr3QA==",
          "dtype": "f8"
         },
         "hovertemplate": "<b>gemma3:12b</b><br>Document: %{x}<br>Runtime: %{y:.1f} min<br>(%{customdata:.0f} sec)<extra></extra>",
         "marker": {
          "color": "#2ECC71"
         },
         "name": "gemma3:12b",
         "text": [
          "1624.1m",
          "1624.1m"
         ],
         "textposition": "outside",
         "type": "bar",
         "x": [
          "ALTAY v. TURKEY (No. 2)",
          "BELYAYEV AND OTHERS v. UKRAINE"
         ],
         "y": {
          "bdata": "ReK19W5gmUBF4rX1bmCZQA==",
          "dtype": "f8"
         }
        },
        {
         "customdata": {
          "bdata": "IYRaBmjK50AhhFoGaMrnQA==",
          "dtype": "f8"
         },
         "hovertemplate": "<b>llama3.3:latest</b><br>Document: %{x}<br>Runtime: %{y:.1f} min<br>(%{customdata:.0f} sec)<extra></extra>",
         "marker": {
          "color": "#95A5A6"
         },
         "name": "llama3.3:latest",
         "text": [
          "812.1m",
          "812.1m"
         ],
         "textposition": "outside",
         "type": "bar",
         "x": [
          "ALTAY v. TURKEY (No. 2)",
          "BELYAYEV AND OTHERS v. UKRAINE"
         ],
         "y": {
          "bdata": "ReK19W5giUBF4rX1bmCJQA==",
          "dtype": "f8"
         }
        },
        {
         "customdata": {
          "bdata": "IYRaBmjK50AhhFoGaMrnQA==",
          "dtype": "f8"
         },
         "hovertemplate": "<b>deepseek-r1:8b</b><br>Document: %{x}<br>Runtime: %{y:.1f} min<br>(%{customdata:.0f} sec)<extra></extra>",
         "marker": {
          "color": "#95A5A6"
         },
         "name": "deepseek-r1:8b",
         "text": [
          "812.1m",
          "812.1m"
         ],
         "textposition": "outside",
         "type": "bar",
         "x": [
          "ALTAY v. TURKEY (No. 2)",
          "BELYAYEV AND OTHERS v. UKRAINE"
         ],
         "y": {
          "bdata": "ReK19W5giUBF4rX1bmCJQA==",
          "dtype": "f8"
         }
        },
        {
         "customdata": {
          "bdata": "63ZRn11p5UDrdlGfXWnlQA==",
          "dtype": "f8"
         },
         "hovertemplate": "<b>mistral:latest</b><br>Document: %{x}<br>Runtime: %{y:.1f} min<br>(%{customdata:.0f} sec)<extra></extra>",
         "marker": {
          "color": "#F39C12"
         },
         "name": "mistral:latest",
         "text": [
          "730.8m",
          "730.8m"
         ],
         "textposition": "outside",
         "type": "bar",
         "x": [
          "ALTAY v. TURKEY (No. 2)",
          "BELYAYEV AND OTHERS v. UKRAINE"
         ],
         "y": {
          "bdata": "chiKQ8rWhkByGIpDytaGQA==",
          "dtype": "f8"
         }
        },
        {
         "customdata": {
          "bdata": "IYRaBmjK50AhhFoGaMrnQA==",
          "dtype": "f8"
         },
         "hovertemplate": "<b>incept5/llama3.1-claude:latest</b><br>Document: %{x}<br>Runtime: %{y:.1f} min<br>(%{customdata:.0f} sec)<extra></extra>",
         "marker": {
          "color": "#95A5A6"
         },
         "name": "incept5/llama3.1-claude:latest",
         "text": [
          "812.1m",
          "812.1m"
         ],
         "textposition": "outside",
         "type": "bar",
         "x": [
          "ALTAY v. TURKEY (No. 2)",
          "BELYAYEV AND OTHERS v. UKRAINE"
         ],
         "y": {
          "bdata": "ReK19W5giUBF4rX1bmCJQA==",
          "dtype": "f8"
         }
        },
        {
         "customdata": {
          "bdata": "IYRaBmjK50AhhFoGaMrnQA==",
          "dtype": "f8"
         },
         "hovertemplate": "<b>chevalblanc/claude-3-haiku:latest</b><br>Document: %{x}<br>Runtime: %{y:.1f} min<br>(%{customdata:.0f} sec)<extra></extra>",
         "marker": {
          "color": "#95A5A6"
         },
         "name": "chevalblanc/claude-3-haiku:latest",
         "text": [
          "812.1m",
          "812.1m"
         ],
         "textposition": "outside",
         "type": "bar",
         "x": [
          "ALTAY v. TURKEY (No. 2)",
          "BELYAYEV AND OTHERS v. UKRAINE"
         ],
         "y": {
          "bdata": "ReK19W5giUBF4rX1bmCJQA==",
          "dtype": "f8"
         }
        },
        {
         "customdata": {
          "bdata": "IYRaBmjK50AhhFoGaMrnQA==",
          "dtype": "f8"
         },
         "hovertemplate": "<b>llama4:16x17b</b><br>Document: %{x}<br>Runtime: %{y:.1f} min<br>(%{customdata:.0f} sec)<extra></extra>",
         "marker": {
          "color": "#95A5A6"
         },
         "name": "llama4:16x17b",
         "text": [
          "812.1m",
          "812.1m"
         ],
         "textposition": "outside",
         "type": "bar",
         "x": [
          "ALTAY v. TURKEY (No. 2)",
          "BELYAYEV AND OTHERS v. UKRAINE"
         ],
         "y": {
          "bdata": "ReK19W5giUBF4rX1bmCJQA==",
          "dtype": "f8"
         }
        },
        {
         "customdata": {
          "bdata": "IYRaBmjK50AhhFoGaMrnQA==",
          "dtype": "f8"
         },
         "hovertemplate": "<b>mixtral:8x7b</b><br>Document: %{x}<br>Runtime: %{y:.1f} min<br>(%{customdata:.0f} sec)<extra></extra>",
         "marker": {
          "color": "#95A5A6"
         },
         "name": "mixtral:8x7b",
         "text": [
          "812.1m",
          "812.1m"
         ],
         "textposition": "outside",
         "type": "bar",
         "x": [
          "ALTAY v. TURKEY (No. 2)",
          "BELYAYEV AND OTHERS v. UKRAINE"
         ],
         "y": {
          "bdata": "ReK19W5giUBF4rX1bmCJQA==",
          "dtype": "f8"
         }
        },
        {
         "customdata": {
          "bdata": "IYRaBmjK50AhhFoGaMrnQA==",
          "dtype": "f8"
         },
         "hovertemplate": "<b>dolphin3:8b</b><br>Document: %{x}<br>Runtime: %{y:.1f} min<br>(%{customdata:.0f} sec)<extra></extra>",
         "marker": {
          "color": "#95A5A6"
         },
         "name": "dolphin3:8b",
         "text": [
          "812.1m",
          "812.1m"
         ],
         "textposition": "outside",
         "type": "bar",
         "x": [
          "ALTAY v. TURKEY (No. 2)",
          "BELYAYEV AND OTHERS v. UKRAINE"
         ],
         "y": {
          "bdata": "ReK19W5giUBF4rX1bmCJQA==",
          "dtype": "f8"
         }
        },
        {
         "customdata": {
          "bdata": "IYRaBmjK50AhhFoGaMrnQA==",
          "dtype": "f8"
         },
         "hovertemplate": "<b>dolphin-mixtral:8x7b</b><br>Document: %{x}<br>Runtime: %{y:.1f} min<br>(%{customdata:.0f} sec)<extra></extra>",
         "marker": {
          "color": "#95A5A6"
         },
         "name": "dolphin-mixtral:8x7b",
         "text": [
          "812.1m",
          "812.1m"
         ],
         "textposition": "outside",
         "type": "bar",
         "x": [
          "ALTAY v. TURKEY (No. 2)",
          "BELYAYEV AND OTHERS v. UKRAINE"
         ],
         "y": {
          "bdata": "ReK19W5giUBF4rX1bmCJQA==",
          "dtype": "f8"
         }
        }
       ],
       "layout": {
        "barmode": "group",
        "font": {
         "size": 12
        },
        "height": 500,
        "hovermode": "x unified",
        "legend": {
         "orientation": "h",
         "x": 1,
         "xanchor": "right",
         "y": 1.02,
         "yanchor": "bottom"
        },
        "showlegend": true,
        "template": {
         "data": {
          "bar": [
           {
            "error_x": {
             "color": "#2a3f5f"
            },
            "error_y": {
             "color": "#2a3f5f"
            },
            "marker": {
             "line": {
              "color": "#E5ECF6",
              "width": 0.5
             },
             "pattern": {
              "fillmode": "overlay",
              "size": 10,
              "solidity": 0.2
             }
            },
            "type": "bar"
           }
          ],
          "barpolar": [
           {
            "marker": {
             "line": {
              "color": "#E5ECF6",
              "width": 0.5
             },
             "pattern": {
              "fillmode": "overlay",
              "size": 10,
              "solidity": 0.2
             }
            },
            "type": "barpolar"
           }
          ],
          "carpet": [
           {
            "aaxis": {
             "endlinecolor": "#2a3f5f",
             "gridcolor": "white",
             "linecolor": "white",
             "minorgridcolor": "white",
             "startlinecolor": "#2a3f5f"
            },
            "baxis": {
             "endlinecolor": "#2a3f5f",
             "gridcolor": "white",
             "linecolor": "white",
             "minorgridcolor": "white",
             "startlinecolor": "#2a3f5f"
            },
            "type": "carpet"
           }
          ],
          "choropleth": [
           {
            "colorbar": {
             "outlinewidth": 0,
             "ticks": ""
            },
            "type": "choropleth"
           }
          ],
          "contour": [
           {
            "colorbar": {
             "outlinewidth": 0,
             "ticks": ""
            },
            "colorscale": [
             [
              0,
              "#0d0887"
             ],
             [
              0.1111111111111111,
              "#46039f"
             ],
             [
              0.2222222222222222,
              "#7201a8"
             ],
             [
              0.3333333333333333,
              "#9c179e"
             ],
             [
              0.4444444444444444,
              "#bd3786"
             ],
             [
              0.5555555555555556,
              "#d8576b"
             ],
             [
              0.6666666666666666,
              "#ed7953"
             ],
             [
              0.7777777777777778,
              "#fb9f3a"
             ],
             [
              0.8888888888888888,
              "#fdca26"
             ],
             [
              1,
              "#f0f921"
             ]
            ],
            "type": "contour"
           }
          ],
          "contourcarpet": [
           {
            "colorbar": {
             "outlinewidth": 0,
             "ticks": ""
            },
            "type": "contourcarpet"
           }
          ],
          "heatmap": [
           {
            "colorbar": {
             "outlinewidth": 0,
             "ticks": ""
            },
            "colorscale": [
             [
              0,
              "#0d0887"
             ],
             [
              0.1111111111111111,
              "#46039f"
             ],
             [
              0.2222222222222222,
              "#7201a8"
             ],
             [
              0.3333333333333333,
              "#9c179e"
             ],
             [
              0.4444444444444444,
              "#bd3786"
             ],
             [
              0.5555555555555556,
              "#d8576b"
             ],
             [
              0.6666666666666666,
              "#ed7953"
             ],
             [
              0.7777777777777778,
              "#fb9f3a"
             ],
             [
              0.8888888888888888,
              "#fdca26"
             ],
             [
              1,
              "#f0f921"
             ]
            ],
            "type": "heatmap"
           }
          ],
          "histogram": [
           {
            "marker": {
             "pattern": {
              "fillmode": "overlay",
              "size": 10,
              "solidity": 0.2
             }
            },
            "type": "histogram"
           }
          ],
          "histogram2d": [
           {
            "colorbar": {
             "outlinewidth": 0,
             "ticks": ""
            },
            "colorscale": [
             [
              0,
              "#0d0887"
             ],
             [
              0.1111111111111111,
              "#46039f"
             ],
             [
              0.2222222222222222,
              "#7201a8"
             ],
             [
              0.3333333333333333,
              "#9c179e"
             ],
             [
              0.4444444444444444,
              "#bd3786"
             ],
             [
              0.5555555555555556,
              "#d8576b"
             ],
             [
              0.6666666666666666,
              "#ed7953"
             ],
             [
              0.7777777777777778,
              "#fb9f3a"
             ],
             [
              0.8888888888888888,
              "#fdca26"
             ],
             [
              1,
              "#f0f921"
             ]
            ],
            "type": "histogram2d"
           }
          ],
          "histogram2dcontour": [
           {
            "colorbar": {
             "outlinewidth": 0,
             "ticks": ""
            },
            "colorscale": [
             [
              0,
              "#0d0887"
             ],
             [
              0.1111111111111111,
              "#46039f"
             ],
             [
              0.2222222222222222,
              "#7201a8"
             ],
             [
              0.3333333333333333,
              "#9c179e"
             ],
             [
              0.4444444444444444,
              "#bd3786"
             ],
             [
              0.5555555555555556,
              "#d8576b"
             ],
             [
              0.6666666666666666,
              "#ed7953"
             ],
             [
              0.7777777777777778,
              "#fb9f3a"
             ],
             [
              0.8888888888888888,
              "#fdca26"
             ],
             [
              1,
              "#f0f921"
             ]
            ],
            "type": "histogram2dcontour"
           }
          ],
          "mesh3d": [
           {
            "colorbar": {
             "outlinewidth": 0,
             "ticks": ""
            },
            "type": "mesh3d"
           }
          ],
          "parcoords": [
           {
            "line": {
             "colorbar": {
              "outlinewidth": 0,
              "ticks": ""
             }
            },
            "type": "parcoords"
           }
          ],
          "pie": [
           {
            "automargin": true,
            "type": "pie"
           }
          ],
          "scatter": [
           {
            "fillpattern": {
             "fillmode": "overlay",
             "size": 10,
             "solidity": 0.2
            },
            "type": "scatter"
           }
          ],
          "scatter3d": [
           {
            "line": {
             "colorbar": {
              "outlinewidth": 0,
              "ticks": ""
             }
            },
            "marker": {
             "colorbar": {
              "outlinewidth": 0,
              "ticks": ""
             }
            },
            "type": "scatter3d"
           }
          ],
          "scattercarpet": [
           {
            "marker": {
             "colorbar": {
              "outlinewidth": 0,
              "ticks": ""
             }
            },
            "type": "scattercarpet"
           }
          ],
          "scattergeo": [
           {
            "marker": {
             "colorbar": {
              "outlinewidth": 0,
              "ticks": ""
             }
            },
            "type": "scattergeo"
           }
          ],
          "scattergl": [
           {
            "marker": {
             "colorbar": {
              "outlinewidth": 0,
              "ticks": ""
             }
            },
            "type": "scattergl"
           }
          ],
          "scattermap": [
           {
            "marker": {
             "colorbar": {
              "outlinewidth": 0,
              "ticks": ""
             }
            },
            "type": "scattermap"
           }
          ],
          "scattermapbox": [
           {
            "marker": {
             "colorbar": {
              "outlinewidth": 0,
              "ticks": ""
             }
            },
            "type": "scattermapbox"
           }
          ],
          "scatterpolar": [
           {
            "marker": {
             "colorbar": {
              "outlinewidth": 0,
              "ticks": ""
             }
            },
            "type": "scatterpolar"
           }
          ],
          "scatterpolargl": [
           {
            "marker": {
             "colorbar": {
              "outlinewidth": 0,
              "ticks": ""
             }
            },
            "type": "scatterpolargl"
           }
          ],
          "scatterternary": [
           {
            "marker": {
             "colorbar": {
              "outlinewidth": 0,
              "ticks": ""
             }
            },
            "type": "scatterternary"
           }
          ],
          "surface": [
           {
            "colorbar": {
             "outlinewidth": 0,
             "ticks": ""
            },
            "colorscale": [
             [
              0,
              "#0d0887"
             ],
             [
              0.1111111111111111,
              "#46039f"
             ],
             [
              0.2222222222222222,
              "#7201a8"
             ],
             [
              0.3333333333333333,
              "#9c179e"
             ],
             [
              0.4444444444444444,
              "#bd3786"
             ],
             [
              0.5555555555555556,
              "#d8576b"
             ],
             [
              0.6666666666666666,
              "#ed7953"
             ],
             [
              0.7777777777777778,
              "#fb9f3a"
             ],
             [
              0.8888888888888888,
              "#fdca26"
             ],
             [
              1,
              "#f0f921"
             ]
            ],
            "type": "surface"
           }
          ],
          "table": [
           {
            "cells": {
             "fill": {
              "color": "#EBF0F8"
             },
             "line": {
              "color": "white"
             }
            },
            "header": {
             "fill": {
              "color": "#C8D4E3"
             },
             "line": {
              "color": "white"
             }
            },
            "type": "table"
           }
          ]
         },
         "layout": {
          "annotationdefaults": {
           "arrowcolor": "#2a3f5f",
           "arrowhead": 0,
           "arrowwidth": 1
          },
          "autotypenumbers": "strict",
          "coloraxis": {
           "colorbar": {
            "outlinewidth": 0,
            "ticks": ""
           }
          },
          "colorscale": {
           "diverging": [
            [
             0,
             "#8e0152"
            ],
            [
             0.1,
             "#c51b7d"
            ],
            [
             0.2,
             "#de77ae"
            ],
            [
             0.3,
             "#f1b6da"
            ],
            [
             0.4,
             "#fde0ef"
            ],
            [
             0.5,
             "#f7f7f7"
            ],
            [
             0.6,
             "#e6f5d0"
            ],
            [
             0.7,
             "#b8e186"
            ],
            [
             0.8,
             "#7fbc41"
            ],
            [
             0.9,
             "#4d9221"
            ],
            [
             1,
             "#276419"
            ]
           ],
           "sequential": [
            [
             0,
             "#0d0887"
            ],
            [
             0.1111111111111111,
             "#46039f"
            ],
            [
             0.2222222222222222,
             "#7201a8"
            ],
            [
             0.3333333333333333,
             "#9c179e"
            ],
            [
             0.4444444444444444,
             "#bd3786"
            ],
            [
             0.5555555555555556,
             "#d8576b"
            ],
            [
             0.6666666666666666,
             "#ed7953"
            ],
            [
             0.7777777777777778,
             "#fb9f3a"
            ],
            [
             0.8888888888888888,
             "#fdca26"
            ],
            [
             1,
             "#f0f921"
            ]
           ],
           "sequentialminus": [
            [
             0,
             "#0d0887"
            ],
            [
             0.1111111111111111,
             "#46039f"
            ],
            [
             0.2222222222222222,
             "#7201a8"
            ],
            [
             0.3333333333333333,
             "#9c179e"
            ],
            [
             0.4444444444444444,
             "#bd3786"
            ],
            [
             0.5555555555555556,
             "#d8576b"
            ],
            [
             0.6666666666666666,
             "#ed7953"
            ],
            [
             0.7777777777777778,
             "#fb9f3a"
            ],
            [
             0.8888888888888888,
             "#fdca26"
            ],
            [
             1,
             "#f0f921"
            ]
           ]
          },
          "colorway": [
           "#636efa",
           "#EF553B",
           "#00cc96",
           "#ab63fa",
           "#FFA15A",
           "#19d3f3",
           "#FF6692",
           "#B6E880",
           "#FF97FF",
           "#FECB52"
          ],
          "font": {
           "color": "#2a3f5f"
          },
          "geo": {
           "bgcolor": "white",
           "lakecolor": "white",
           "landcolor": "#E5ECF6",
           "showlakes": true,
           "showland": true,
           "subunitcolor": "white"
          },
          "hoverlabel": {
           "align": "left"
          },
          "hovermode": "closest",
          "mapbox": {
           "style": "light"
          },
          "paper_bgcolor": "white",
          "plot_bgcolor": "#E5ECF6",
          "polar": {
           "angularaxis": {
            "gridcolor": "white",
            "linecolor": "white",
            "ticks": ""
           },
           "bgcolor": "#E5ECF6",
           "radialaxis": {
            "gridcolor": "white",
            "linecolor": "white",
            "ticks": ""
           }
          },
          "scene": {
           "xaxis": {
            "backgroundcolor": "#E5ECF6",
            "gridcolor": "white",
            "gridwidth": 2,
            "linecolor": "white",
            "showbackground": true,
            "ticks": "",
            "zerolinecolor": "white"
           },
           "yaxis": {
            "backgroundcolor": "#E5ECF6",
            "gridcolor": "white",
            "gridwidth": 2,
            "linecolor": "white",
            "showbackground": true,
            "ticks": "",
            "zerolinecolor": "white"
           },
           "zaxis": {
            "backgroundcolor": "#E5ECF6",
            "gridcolor": "white",
            "gridwidth": 2,
            "linecolor": "white",
            "showbackground": true,
            "ticks": "",
            "zerolinecolor": "white"
           }
          },
          "shapedefaults": {
           "line": {
            "color": "#2a3f5f"
           }
          },
          "ternary": {
           "aaxis": {
            "gridcolor": "white",
            "linecolor": "white",
            "ticks": ""
           },
           "baxis": {
            "gridcolor": "white",
            "linecolor": "white",
            "ticks": ""
           },
           "bgcolor": "#E5ECF6",
           "caxis": {
            "gridcolor": "white",
            "linecolor": "white",
            "ticks": ""
           }
          },
          "title": {
           "x": 0.05
          },
          "xaxis": {
           "automargin": true,
           "gridcolor": "white",
           "linecolor": "white",
           "ticks": "",
           "title": {
            "standoff": 15
           },
           "zerolinecolor": "white",
           "zerolinewidth": 2
          },
          "yaxis": {
           "automargin": true,
           "gridcolor": "white",
           "linecolor": "white",
           "ticks": "",
           "title": {
            "standoff": 15
           },
           "zerolinecolor": "white",
           "zerolinewidth": 2
          }
         }
        },
        "title": {
         "text": "🕒 Model Processing Times per Document<br><sub>Estimated based on model complexity and total pipeline runtime</sub>"
        },
        "xaxis": {
         "tickangle": 45,
         "title": {
          "text": "Document"
         }
        },
        "yaxis": {
         "title": {
          "text": "Processing Time (minutes)"
         }
        }
       }
      }
     },
     "metadata": {},
     "output_type": "display_data"
    },
    {
     "name": "stdout",
     "output_type": "stream",
     "text": [
      "\n",
      "📋 DETAILED RUNTIME BREAKDOWN:\n",
      "------------------------------------------------------------\n",
      "\n",
      "📄 ALTAY v. TURKEY (No. 2):\n",
      "  • gemma3:1b      : 406.0 min (24362 sec)\n",
      "  • mistral:latest : 730.8 min (43851 sec)\n",
      "  • llama3.3:latest: 812.1 min (48723 sec)\n",
      "  • deepseek-r1:8b : 812.1 min (48723 sec)\n",
      "  • incept5/llama3.1-claude:latest: 812.1 min (48723 sec)\n",
      "  • chevalblanc/claude-3-haiku:latest: 812.1 min (48723 sec)\n",
      "  • llama4:16x17b  : 812.1 min (48723 sec)\n",
      "  • mixtral:8x7b   : 812.1 min (48723 sec)\n",
      "  • dolphin3:8b    : 812.1 min (48723 sec)\n",
      "  • dolphin-mixtral:8x7b: 812.1 min (48723 sec)\n",
      "  • gemma3:4b      : 1015.1 min (60904 sec)\n",
      "  • gemma3:12b     : 1624.1 min (97447 sec)\n",
      "    → Fastest: gemma3:1b\n",
      "    → Slowest: gemma3:12b (4.0x slower)\n",
      "\n",
      "📄 BELYAYEV AND OTHERS v. UKRAINE:\n",
      "  • gemma3:1b      : 406.0 min (24362 sec)\n",
      "  • mistral:latest : 730.8 min (43851 sec)\n",
      "  • llama3.3:latest: 812.1 min (48723 sec)\n",
      "  • deepseek-r1:8b : 812.1 min (48723 sec)\n",
      "  • incept5/llama3.1-claude:latest: 812.1 min (48723 sec)\n",
      "  • chevalblanc/claude-3-haiku:latest: 812.1 min (48723 sec)\n",
      "  • llama4:16x17b  : 812.1 min (48723 sec)\n",
      "  • mixtral:8x7b   : 812.1 min (48723 sec)\n",
      "  • dolphin3:8b    : 812.1 min (48723 sec)\n",
      "  • dolphin-mixtral:8x7b: 812.1 min (48723 sec)\n",
      "  • gemma3:4b      : 1015.1 min (60904 sec)\n",
      "  • gemma3:12b     : 1624.1 min (97447 sec)\n",
      "    → Fastest: gemma3:1b\n",
      "    → Slowest: gemma3:12b (4.0x slower)\n",
      "\n",
      "🎯 OVERALL STATISTICS:\n",
      "------------------------------\n",
      "Average processing time per document:\n",
      "  • gemma3:1b      : 406.0 min\n",
      "  • mistral:latest : 730.8 min\n",
      "  • chevalblanc/claude-3-haiku:latest: 812.1 min\n",
      "  • deepseek-r1:8b : 812.1 min\n",
      "  • dolphin-mixtral:8x7b: 812.1 min\n",
      "  • dolphin3:8b    : 812.1 min\n",
      "  • incept5/llama3.1-claude:latest: 812.1 min\n",
      "  • llama3.3:latest: 812.1 min\n",
      "  • llama4:16x17b  : 812.1 min\n",
      "  • mixtral:8x7b   : 812.1 min\n",
      "  • gemma3:4b      : 1015.1 min\n",
      "  • gemma3:12b     : 1624.1 min\n",
      "\n",
      "Speed comparison:\n",
      "  • Fastest overall: gemma3:1b (406.0 min avg)\n",
      "  • Slowest overall: gemma3:12b (1624.1 min avg)\n",
      "  • Speed difference: 4.0x\n",
      "\n",
      "Total processing time per model:\n",
      "  • gemma3:1b      : 812.1 min total\n",
      "  • mistral:latest : 1461.7 min total\n",
      "  • chevalblanc/claude-3-haiku:latest: 1624.1 min total\n",
      "  • deepseek-r1:8b : 1624.1 min total\n",
      "  • dolphin-mixtral:8x7b: 1624.1 min total\n",
      "  • dolphin3:8b    : 1624.1 min total\n",
      "  • incept5/llama3.1-claude:latest: 1624.1 min total\n",
      "  • llama3.3:latest: 1624.1 min total\n",
      "  • llama4:16x17b  : 1624.1 min total\n",
      "  • mixtral:8x7b   : 1624.1 min total\n",
      "  • gemma3:4b      : 2030.1 min total\n",
      "  • gemma3:12b     : 3248.2 min total\n",
      "\n",
      "✅ Grouped bar chart created successfully!\n"
     ]
    }
   ],
   "source": [
    "# Grouped Bar Chart: Model Runtimes per Document\n",
    "print(\"\\n📊 DETAILED MODEL RUNTIMES PER DOCUMENT\")\n",
    "print(\"=\" * 50)\n",
    "\n",
    "pipeline_folder = \"output/pipeline_results_20250808_145025\"\n",
    "\n",
    "if Path(pipeline_folder).exists():\n",
    "    # Load pipeline data\n",
    "    main_file = Path(pipeline_folder) / f\"{Path(pipeline_folder).name}.json\"\n",
    "    with open(main_file, 'r', encoding='utf-8', errors='ignore') as f:\n",
    "        pipeline_info = json.load(f)\n",
    "    \n",
    "    # Calculate total time and per-document estimates\n",
    "    start = pd.to_datetime(pipeline_info['start_time'])\n",
    "    end = pd.to_datetime(pipeline_info['end_time'])\n",
    "    total_time = (end - start).total_seconds()\n",
    "    \n",
    "    # Model speed factors based on parameter counts\n",
    "    speed_factors = {\n",
    "        'gemma3:1b': 1.0,      # 1B params - fastest\n",
    "        'gemma3:4b': 2.5,      # 4B params - medium\n",
    "        'gemma3:12b': 4.0,     # 12B params - slowest  \n",
    "        'mistral:latest': 1.8  # ~7B params - medium-fast\n",
    "    }\n",
    "    \n",
    "    models = pipeline_info['models_used']\n",
    "    documents = ['ALTAY v. TURKEY (No. 2)', 'BELYAYEV AND OTHERS v. UKRAINE']  # From the visible data\n",
    "    \n",
    "    # Calculate base processing time per document\n",
    "    base_time_per_doc = total_time / (len(models) * len(documents))\n",
    "    \n",
    "    # Create runtime data for each document-model combination\n",
    "    runtime_data = []\n",
    "    for doc in documents:\n",
    "        for model in models:\n",
    "            estimated_time = base_time_per_doc * speed_factors.get(model, 2.0)\n",
    "            runtime_data.append({\n",
    "                'Document': doc,\n",
    "                'Model': model,\n",
    "                'Runtime_Minutes': estimated_time / 60,  # Convert to minutes\n",
    "                'Runtime_Seconds': estimated_time\n",
    "            })\n",
    "    \n",
    "    runtime_df = pd.DataFrame(runtime_data)\n",
    "    \n",
    "    # Create grouped bar chart\n",
    "    fig = go.Figure()\n",
    "    \n",
    "    # Model colors\n",
    "    model_colors = {\n",
    "        'gemma3:1b': '#E74C3C',    # Red\n",
    "        'gemma3:4b': '#3498DB',    # Blue  \n",
    "        'gemma3:12b': '#2ECC71',   # Green\n",
    "        'mistral:latest': '#F39C12' # Orange\n",
    "    }\n",
    "    \n",
    "    # Add bars for each model\n",
    "    for model in models:\n",
    "        model_data = runtime_df[runtime_df['Model'] == model]\n",
    "        fig.add_trace(\n",
    "            go.Bar(\n",
    "                name=model,\n",
    "                x=model_data['Document'],\n",
    "                y=model_data['Runtime_Minutes'],\n",
    "                marker_color=model_colors.get(model, '#95A5A6'),\n",
    "                hovertemplate=f'<b>{model}</b><br>Document: %{{x}}<br>Runtime: %{{y:.1f}} min<br>(%{{customdata:.0f}} sec)<extra></extra>',\n",
    "                customdata=model_data['Runtime_Seconds'],\n",
    "                text=[f'{time:.1f}m' for time in model_data['Runtime_Minutes']],\n",
    "                textposition='outside'\n",
    "            )\n",
    "        )\n",
    "    \n",
    "    # Update layout for grouped bar chart\n",
    "    fig.update_layout(\n",
    "        title='🕒 Model Processing Times per Document<br><sub>Estimated based on model complexity and total pipeline runtime</sub>',\n",
    "        xaxis_title='Document',\n",
    "        yaxis_title='Processing Time (minutes)',\n",
    "        barmode='group',  # This creates the grouped bar chart\n",
    "        height=500,\n",
    "        showlegend=True,\n",
    "        legend=dict(\n",
    "            orientation=\"h\",\n",
    "            yanchor=\"bottom\",\n",
    "            y=1.02,\n",
    "            xanchor=\"right\",\n",
    "            x=1\n",
    "        ),\n",
    "        font=dict(size=12),\n",
    "        hovermode='x unified'\n",
    "    )\n",
    "    \n",
    "    # Update x-axis to show document names clearly\n",
    "    fig.update_xaxes(tickangle=45)\n",
    "    \n",
    "    # Show the chart\n",
    "    fig.show()\n",
    "    \n",
    "    # Print detailed breakdown\n",
    "    print(f\"\\n📋 DETAILED RUNTIME BREAKDOWN:\")\n",
    "    print(\"-\" * 60)\n",
    "    \n",
    "    for doc in documents:\n",
    "        print(f\"\\n📄 {doc}:\")\n",
    "        doc_data = runtime_df[runtime_df['Document'] == doc].sort_values('Runtime_Minutes')\n",
    "        \n",
    "        for _, row in doc_data.iterrows():\n",
    "            model = row['Model']\n",
    "            minutes = row['Runtime_Minutes']\n",
    "            seconds = row['Runtime_Seconds']\n",
    "            print(f\"  • {model:<15}: {minutes:.1f} min ({seconds:.0f} sec)\")\n",
    "        \n",
    "        # Calculate document statistics\n",
    "        fastest_model = doc_data.iloc[0]['Model']\n",
    "        slowest_model = doc_data.iloc[-1]['Model']\n",
    "        speed_ratio = doc_data.iloc[-1]['Runtime_Minutes'] / doc_data.iloc[0]['Runtime_Minutes']\n",
    "        \n",
    "        print(f\"    → Fastest: {fastest_model}\")\n",
    "        print(f\"    → Slowest: {slowest_model} ({speed_ratio:.1f}x slower)\")\n",
    "    \n",
    "    # Overall statistics\n",
    "    print(f\"\\n🎯 OVERALL STATISTICS:\")\n",
    "    print(\"-\" * 30)\n",
    "    \n",
    "    model_avg_times = runtime_df.groupby('Model')['Runtime_Minutes'].mean().sort_values()\n",
    "    \n",
    "    print(f\"Average processing time per document:\")\n",
    "    for model, avg_time in model_avg_times.items():\n",
    "        print(f\"  • {model:<15}: {avg_time:.1f} min\")\n",
    "    \n",
    "    fastest_overall = model_avg_times.index[0]\n",
    "    slowest_overall = model_avg_times.index[-1]\n",
    "    overall_ratio = model_avg_times.iloc[-1] / model_avg_times.iloc[0]\n",
    "    \n",
    "    print(f\"\\nSpeed comparison:\")\n",
    "    print(f\"  • Fastest overall: {fastest_overall} ({model_avg_times[fastest_overall]:.1f} min avg)\")\n",
    "    print(f\"  • Slowest overall: {slowest_overall} ({model_avg_times[slowest_overall]:.1f} min avg)\")\n",
    "    print(f\"  • Speed difference: {overall_ratio:.1f}x\")\n",
    "    \n",
    "    # Total time per model across all documents\n",
    "    print(f\"\\nTotal processing time per model:\")\n",
    "    total_times = runtime_df.groupby('Model')['Runtime_Minutes'].sum()\n",
    "    for model, total_time in total_times.sort_values().items():\n",
    "        print(f\"  • {model:<15}: {total_time:.1f} min total\")\n",
    "    \n",
    "    print(f\"\\n✅ Grouped bar chart created successfully!\")\n",
    "    \n",
    "else:\n",
    "    print(\"❌ Pipeline folder not found\")"
   ]
  }
 ],
 "metadata": {
  "kernelspec": {
   "display_name": ".venv",
   "language": "python",
   "name": "python3"
  },
  "language_info": {
   "codemirror_mode": {
    "name": "ipython",
    "version": 3
   },
   "file_extension": ".py",
   "mimetype": "text/x-python",
   "name": "python",
   "nbconvert_exporter": "python",
   "pygments_lexer": "ipython3",
   "version": "3.12.3"
  }
 },
 "nbformat": 4,
 "nbformat_minor": 5
}
